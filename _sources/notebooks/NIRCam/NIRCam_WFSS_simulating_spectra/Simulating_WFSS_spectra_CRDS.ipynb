{
 "cells": [
  {
   "cell_type": "markdown",
   "id": "01fe963e-c1b9-460a-9f34-eee3724f909e",
   "metadata": {},
   "source": [
    "# WFSS Spectra Simulation for Contamination Correction"
   ]
  },
  {
   "cell_type": "markdown",
   "id": "4e68aca2-165e-4d67-9b7c-ce06ec9f0f69",
   "metadata": {},
   "source": [
    "This notebook demonstrates basic techniques to simulate WFSS dispersed spectra, given source locations from an imaging mode exposure and a generalized World Coordinate System (gWCS) from an accompanying WFSS exposure.\n",
    "\n",
    "Such simulations, when applied to all sources in the field, are crucial to estimate the contamination of overlapping spectra, as well as to mask dispersed spectral traces when trying to estimate the background.\n",
    "\n",
    "This notebook builds on the simpler <a href=\"https://github.com/spacetelescope/jdat_notebooks/blob/main/notebooks/NIRCam/NIRCam_WFSS_Box_extraction/BoxExtraction_using_Grismconf_CRDS.ipynb\">Box Extraction notebook</a> where we introduced the general concepts of spectral extraction as well as the <A HREF=\"https://github.com/npirzkal/GRISMCONF\">GRISMCONF</A> module, which provides us with a low level interface to the gWCS model for WFSS modes."
   ]
  },
  {
   "cell_type": "markdown",
   "id": "a646f783-b72b-427c-95fa-df38ae1f41ad",
   "metadata": {},
   "source": [
    "The simulation method is relatively straight-foward and begins with an imaging mode exposure. \n",
    "\n",
    "* We first determine which pixels contain the source and the signal levels in those pixels.\n",
    "\n",
    "* We then use the gWCS from the imaging mode file and also the WFSS observation to compute the corresponding location of each pixel in the frame of the WFSS observation. \n",
    "\n",
    "* Using the GRISMCONF functions and a wavelength vector, we next simulate the dispersion of the source. For each of the source pixels, we move through the wavelength vector and calculate the location where each wavelength value is dispersed to. We calculate the signal level associated with each wavelength position based on the flux of each input pixel in $F_{\\lambda}$ units ($erg/s/cm^2/A$). \n",
    "\n",
    "* Since the calculated coordinates of the wavelength values will not, in general, align with the detector pixel grid, we use the <a href=\"https://github.com/spacetelescope/pypolyclip\">Sutherland-Hodgman algorithm</A> to compute the fraction of each projected dispersed pixel that overlaps onto each detector pixel. Summing the signals from each "
   ]
  },
  {
   "cell_type": "markdown",
   "id": "1bf8bfdc-197b-4b13-8ac2-3ca575fccaad",
   "metadata": {},
   "source": [
    "Author: N. Pirzkal <br>\n",
    "Date created: 12 December 2024"
   ]
  },
  {
   "cell_type": "markdown",
   "id": "256467d4-7d69-4223-b7c4-ab2489bf7a29",
   "metadata": {},
   "source": [
    "## Table of Contents\n",
    "1. [Set CRDS Path and Server](#Set-CRDS-Path-and-Server)\n",
    "2. [Package Imports](#Package-Imports)\n",
    "3. [Define Functions and Parameters](#Define-Functions-and-Parameters)\n",
    "4. [Download Data](#Download-Data)\n",
    "5. [Run Pipeline Steps](#Run-Pipeline-Steps)\n",
    "6. [Detect Sources](#Detect-Sources)\n",
    "7. [Simulate spectrum of one source](#Simulate-spectrum-of-one-source)\n",
    "      * [Locate source in imaging and WFSS data](#Locate-source-in-imaging-and-WFSS-data)\n",
    "      * [Get wavelength information](#Get-wavelength-information)\n",
    "      * [Simulate the dispersion of a single pixel](#Simulate-the-dispersion-of-a-single-pixel)\n",
    "      * [Disperse all the pixels for our source](#Disperse-all-the-pixels-for-our-source)"
   ]
  },
  {
   "cell_type": "markdown",
   "id": "fe743322-ce2d-4525-9fc4-d0361f8ab089",
   "metadata": {},
   "source": [
    "## Set CRDS Path and Server"
   ]
  },
  {
   "cell_type": "markdown",
   "id": "927b85b2-3d8b-43bf-8597-f1a59a55412b",
   "metadata": {},
   "source": [
    "Before running the pipeline steps, we need to ensure our our CRDS environment is configured. This includes defining a CRDS cache directory in which to keep the reference files that will be used by the calibration pipeline.\n",
    "\n",
    "If the root directory for the local CRDS cache has not already been set, it will be created in the home directory. This needs to be done before importing the crds package or any package that has crds as a dependency."
   ]
  },
  {
   "cell_type": "code",
   "execution_count": 1,
   "id": "ae2c8be0-65cd-438b-afad-f8c0b4f55ac0",
   "metadata": {
    "execution": {
     "iopub.execute_input": "2025-02-07T15:00:56.373925Z",
     "iopub.status.busy": "2025-02-07T15:00:56.373753Z",
     "iopub.status.idle": "2025-02-07T15:00:56.379022Z",
     "shell.execute_reply": "2025-02-07T15:00:56.378580Z"
    }
   },
   "outputs": [],
   "source": [
    "import os"
   ]
  },
  {
   "cell_type": "code",
   "execution_count": 2,
   "id": "6a68f79c-6e9e-4200-a7a9-638a9f5d1f86",
   "metadata": {
    "execution": {
     "iopub.execute_input": "2025-02-07T15:00:56.380828Z",
     "iopub.status.busy": "2025-02-07T15:00:56.380523Z",
     "iopub.status.idle": "2025-02-07T15:00:56.954069Z",
     "shell.execute_reply": "2025-02-07T15:00:56.953413Z"
    }
   },
   "outputs": [
    {
     "name": "stdout",
     "output_type": "stream",
     "text": [
      "CRDS local filepath: /home/runner/crds\n",
      "CRDS file server: https://jwst-crds.stsci.edu\n"
     ]
    }
   ],
   "source": [
    "# Check whether the local CRDS cache directory has been set.\n",
    "# If not, set it to the user home directory\n",
    "if (os.getenv('CRDS_PATH') is None):\n",
    "    os.environ['CRDS_PATH'] = os.path.join(os.path.expanduser('~'), 'crds')\n",
    "    \n",
    "# Check whether the CRDS server URL has been set.  If not, set it.\n",
    "if (os.getenv('CRDS_SERVER_URL') is None):\n",
    "    os.environ['CRDS_SERVER_URL'] = 'https://jwst-crds.stsci.edu'\n",
    "\n",
    "# Echo CRDS path and context in use\n",
    "print('CRDS local filepath:', os.environ['CRDS_PATH'])\n",
    "print('CRDS file server:', os.environ['CRDS_SERVER_URL'])\n",
    "\n",
    "# Import crds after setting up the required environment variables\n",
    "from crds import client\n",
    "if client.get_crds_server() != os.environ['CRDS_SERVER_URL']:\n",
    "    client.set_crds_server('https://jwst-crds.stsci.edu')"
   ]
  },
  {
   "cell_type": "markdown",
   "id": "760baeb3-e191-4e6c-a426-dc927c07edda",
   "metadata": {},
   "source": [
    "## Package Imports"
   ]
  },
  {
   "cell_type": "code",
   "execution_count": 3,
   "id": "e35257cb-61d9-40d0-a883-a59563649ec3",
   "metadata": {
    "execution": {
     "iopub.execute_input": "2025-02-07T15:00:56.956336Z",
     "iopub.status.busy": "2025-02-07T15:00:56.956146Z",
     "iopub.status.idle": "2025-02-07T15:00:58.167291Z",
     "shell.execute_reply": "2025-02-07T15:00:58.166733Z"
    }
   },
   "outputs": [],
   "source": [
    "from astropy.convolution import convolve\n",
    "from astropy.io import fits\n",
    "from copy import deepcopy\n",
    "import matplotlib.pyplot as plt\n",
    "import numpy as np\n",
    "import requests\n",
    "from scipy.sparse import coo_matrix\n",
    "import tqdm\n",
    "\n",
    "import grismconf\n",
    "from jwst import datamodels\n",
    "from jwst.assign_wcs import AssignWcsStep\n",
    "from jwst.flatfield import FlatFieldStep\n",
    "from jwst.photom import PhotomStep\n",
    "from photutils.background import Background2D, MedianBackground\n",
    "from photutils.segmentation import make_2dgaussian_kernel\n",
    "from photutils.segmentation import detect_sources\n",
    "from pypolyclip import clip_multi"
   ]
  },
  {
   "cell_type": "markdown",
   "id": "9687f0cc-e588-4cd2-a521-7975a5955cd5",
   "metadata": {},
   "source": [
    "## Define Functions and Parameters"
   ]
  },
  {
   "cell_type": "markdown",
   "id": "7b97b500-97c6-4624-9d1c-81d5757b6a21",
   "metadata": {},
   "source": [
    "Define a function to download a named file via the MAST API to the current directory. The function includes authentication logic, but this example uses public data, so no MAST API token is required."
   ]
  },
  {
   "cell_type": "code",
   "execution_count": 4,
   "id": "a23eaad8-17ea-4a7f-8b66-51394bc82e49",
   "metadata": {
    "execution": {
     "iopub.execute_input": "2025-02-07T15:00:58.169885Z",
     "iopub.status.busy": "2025-02-07T15:00:58.169176Z",
     "iopub.status.idle": "2025-02-07T15:00:58.174314Z",
     "shell.execute_reply": "2025-02-07T15:00:58.173864Z"
    }
   },
   "outputs": [],
   "source": [
    "def get_jwst_file(name, mast_api_token=None, overwrite=False):\n",
    "    \"\"\"Retrieve a JWST data file from MAST archive.\n",
    "\n",
    "    Parameters\n",
    "    ----------\n",
    "    name : str\n",
    "        Name of the file to download from MAST\n",
    "        \n",
    "    mast_api_token : str\n",
    "        MAST API token. Required only for proprietary data\n",
    "        \n",
    "    overwrite : bool\n",
    "        If True and the requested file already exists locally, the file will not be downloaded. IF False,\n",
    "        the file will be downloaded\n",
    "\"\"\"\n",
    "    # If the file already exists locally, don't redownload it, unless the\n",
    "    # user has set the overwrite keyword\n",
    "    if os.path.isfile(name):\n",
    "        if not overwrite:\n",
    "            print(f'{name} already exists locally. Skipping download.')\n",
    "            return\n",
    "        else:\n",
    "            print(f'{name} exists locally. Re-downloading.')\n",
    "\n",
    "    mast_url = \"https://mast.stsci.edu/api/v0.1/Download/file\"\n",
    "    params = dict(uri=f\"mast:JWST/product/{name}\")\n",
    "    if mast_api_token:\n",
    "        headers = dict(Authorization=f\"token {mast_api_token}\")\n",
    "    else:\n",
    "        headers = {}\n",
    "    r = requests.get(mast_url, params=params, headers=headers, stream=True)\n",
    "    r.raise_for_status()\n",
    "    with open(name, \"wb\") as fobj:\n",
    "        for chunk in r.iter_content(chunk_size=1024000):\n",
    "            fobj.write(chunk)\n",
    "    if os.path.isfile(name):\n",
    "        print(f\"{name} successfully downloaded\")"
   ]
  },
  {
   "cell_type": "markdown",
   "id": "1712c691-d2ea-42ef-a11f-eea80c7055f8",
   "metadata": {},
   "source": [
    "Define a function that will run assign_wcs and flat fielding on an input rate file"
   ]
  },
  {
   "cell_type": "code",
   "execution_count": 5,
   "id": "d3f15eeb-e5c3-4c90-a9e6-6bdbe006a9ec",
   "metadata": {
    "execution": {
     "iopub.execute_input": "2025-02-07T15:00:58.176192Z",
     "iopub.status.busy": "2025-02-07T15:00:58.175865Z",
     "iopub.status.idle": "2025-02-07T15:00:58.180047Z",
     "shell.execute_reply": "2025-02-07T15:00:58.179495Z"
    }
   },
   "outputs": [],
   "source": [
    "def run_pipeline_steps(filename):\n",
    "    \"\"\"Run the assign_wcs, flat field, and photom calibration steps on the given file.\n",
    "    If the file contains WFSS data, trick the pipeline to use the imaging mode flat\n",
    "    field reference file.\n",
    "    \n",
    "    Parameters\n",
    "    ----------\n",
    "    filename : str\n",
    "        Name of the input file upon which the steps will be run\n",
    "        \n",
    "    Returns\n",
    "    -------\n",
    "    filename : str\n",
    "        Name of the output file saved by the pipeline steps\n",
    "        \n",
    "    photom : jwst.datamodels.ImageModel\n",
    "        Datamodel instance containing the calibrated data\n",
    "    \"\"\"\n",
    "    assign_wcs = AssignWcsStep.call(filename)\n",
    "\n",
    "    # In order to apply the imaging mode flat field reference file to the data,\n",
    "    # we need to trick CRDS by temporarily changing the pupil value to be CLEAR\n",
    "    reset_pupil = False\n",
    "    if 'GRISM' in assign_wcs.meta.instrument.pupil:\n",
    "        true_pupil = deepcopy(assign_wcs.meta.instrument.pupil)\n",
    "        assign_wcs.meta.instrument.pupil = 'CLEAR'\n",
    "        reset_pupil = True\n",
    "\n",
    "    # Run the flat field step\n",
    "    flat = FlatFieldStep.call(assign_wcs, save_results=True)\n",
    "\n",
    "    # Run the photom step to populate the name of the WFSS sensitivity \n",
    "    photom = PhotomStep.call(flat, save_results=True)\n",
    "\n",
    "    # Set the pupil back to the original value now that flat fielding is complete\n",
    "    if reset_pupil:\n",
    "        photom.meta.instrument.pupil = true_pupil\n",
    "        photom.save(photom.meta.filename)\n",
    "    \n",
    "    # Return the name of the output file, as well as the datamodel\n",
    "    return photom.meta.filename, photom"
   ]
  },
  {
   "cell_type": "code",
   "execution_count": 6,
   "id": "462b1d4e-cb98-4493-b236-b9f4a2429850",
   "metadata": {
    "execution": {
     "iopub.execute_input": "2025-02-07T15:00:58.181862Z",
     "iopub.status.busy": "2025-02-07T15:00:58.181451Z",
     "iopub.status.idle": "2025-02-07T15:00:58.185689Z",
     "shell.execute_reply": "2025-02-07T15:00:58.185210Z"
    }
   },
   "outputs": [],
   "source": [
    "def show_2d_spec(data, xlim=(200, 240), ylim=(1705, 1730), vmin=0, vmax=3):\n",
    "    \"\"\"Show a 2D image with colorbar. Designed to display the 2D real and\n",
    "    simulated spectra\n",
    "\n",
    "    Parameters\n",
    "    ----------\n",
    "    data : numpy.ndimage\n",
    "        2D image\n",
    "    xlim : tup\n",
    "        2-tuple of beginning and ending x-coordinates for the display\n",
    "    ylim : tup\n",
    "        2-tuple of beginning and ending y-coordinates for the display\n",
    "    vmin : float\n",
    "        Signal corresponding to minimum display scale\n",
    "    vmax : float\n",
    "        Signal corresponding to maximum display scale\n",
    "    \"\"\"\n",
    "    fig, ax = plt.subplots(1, 1, figsize=(15, 3))\n",
    "    cax = ax.imshow(data, origin=\"lower\", aspect='auto', cmap='viridis', vmin=vmin, vmax=vmax)\n",
    "    ax.set_xlim(xlim[0], xlim[1])  # change to (0, 700) to see the entire spectrum)\n",
    "    ax.set_ylim(ylim[0], ylim[1])\n",
    "    plt.xticks(range(xlim[0], xlim[1], 5))\n",
    "    plt.xlabel(\"Dispersion coordinate (pixel)\")\n",
    "    plt.ylabel(\"Cross dispersion coordinate (pixel)\")\n",
    "    colorbar = fig.colorbar(cax, orientation='vertical', pad=0.01)\n",
    "    colorbar.ax.set_ylabel('Signal', labelpad=10, rotation=270)"
   ]
  },
  {
   "cell_type": "markdown",
   "id": "f3501dc2-fd64-4383-a8c3-55ed4292b348",
   "metadata": {},
   "source": [
    "## Download Data"
   ]
  },
  {
   "cell_type": "markdown",
   "id": "1d29305f-719a-4fed-bce2-032da1c9d66f",
   "metadata": {},
   "source": [
    "We start with a simple pair of imaging and wfss files. These were manually selected and point at the same field on the sky, and use the same NIRCam module, channel, and cross filter."
   ]
  },
  {
   "cell_type": "code",
   "execution_count": 7,
   "id": "df6e71c6-4ccf-4e46-baf8-6da51585c70a",
   "metadata": {
    "execution": {
     "iopub.execute_input": "2025-02-07T15:00:58.187548Z",
     "iopub.status.busy": "2025-02-07T15:00:58.187209Z",
     "iopub.status.idle": "2025-02-07T15:00:59.521918Z",
     "shell.execute_reply": "2025-02-07T15:00:59.521413Z"
    }
   },
   "outputs": [
    {
     "name": "stdout",
     "output_type": "stream",
     "text": [
      "jw01076109001_02102_00001_nrcalong_cal.fits successfully downloaded\n"
     ]
    },
    {
     "name": "stdout",
     "output_type": "stream",
     "text": [
      "jw01076109001_02101_00001_nrcalong_rate.fits successfully downloaded\n"
     ]
    }
   ],
   "source": [
    "# First, download the imaging and WFSS files from MAST\n",
    "imaging_file = \"jw01076109001_02102_00001_nrcalong_cal.fits\"\n",
    "wfss_file = \"jw01076109001_02101_00001_nrcalong_rate.fits\"\n",
    "get_jwst_file(imaging_file)\n",
    "get_jwst_file(wfss_file)"
   ]
  },
  {
   "cell_type": "markdown",
   "id": "4e09f3f1-1ba9-4c0b-994c-b21a44b5ecd4",
   "metadata": {},
   "source": [
    "## Run Pipeline Steps"
   ]
  },
  {
   "cell_type": "markdown",
   "id": "e6e32b22-40e2-4158-aea0-4d1126e470e4",
   "metadata": {},
   "source": [
    "We want to assign a WCS, apply a flat-field, and flux calibrate the WFSS data. For this, we use the run_pipeline_steps() function defined above. This will call the appropriate pipeline steps. We apply the imaging mode flat field to the WFSS file since the flat fields are not wavelength dependent."
   ]
  },
  {
   "cell_type": "code",
   "execution_count": 8,
   "id": "03c23902-0d4f-439f-8bff-4f9ade6864df",
   "metadata": {
    "execution": {
     "iopub.execute_input": "2025-02-07T15:00:59.523956Z",
     "iopub.status.busy": "2025-02-07T15:00:59.523590Z",
     "iopub.status.idle": "2025-02-07T15:01:21.699417Z",
     "shell.execute_reply": "2025-02-07T15:01:21.698755Z"
    },
    "scrolled": true
   },
   "outputs": [
    {
     "name": "stderr",
     "output_type": "stream",
     "text": [
      "2025-02-07 15:01:00,401 - CRDS - INFO -  Calibration SW Found: jwst 1.17.1 (/opt/hostedtoolcache/Python/3.11.11/x64/lib/python3.11/site-packages/jwst-1.17.1.dist-info)\n"
     ]
    },
    {
     "name": "stderr",
     "output_type": "stream",
     "text": [
      "2025-02-07 15:01:01,304 - CRDS - INFO -  Fetching  /home/runner/crds/mappings/jwst/jwst_system_datalvl_0002.rmap      694 bytes  (1 / 202 files) (0 / 722.8 K bytes)\n"
     ]
    },
    {
     "name": "stderr",
     "output_type": "stream",
     "text": [
      "2025-02-07 15:01:01,379 - CRDS - INFO -  Fetching  /home/runner/crds/mappings/jwst/jwst_system_calver_0046.rmap    5.2 K bytes  (2 / 202 files) (694 / 722.8 K bytes)\n"
     ]
    },
    {
     "name": "stderr",
     "output_type": "stream",
     "text": [
      "2025-02-07 15:01:01,488 - CRDS - INFO -  Fetching  /home/runner/crds/mappings/jwst/jwst_system_0045.imap        385 bytes  (3 / 202 files) (5.9 K / 722.8 K bytes)\n"
     ]
    },
    {
     "name": "stderr",
     "output_type": "stream",
     "text": [
      "2025-02-07 15:01:01,567 - CRDS - INFO -  Fetching  /home/runner/crds/mappings/jwst/jwst_nirspec_wavelengthrange_0024.rmap    1.4 K bytes  (4 / 202 files) (6.3 K / 722.8 K bytes)\n"
     ]
    },
    {
     "name": "stderr",
     "output_type": "stream",
     "text": [
      "2025-02-07 15:01:01,652 - CRDS - INFO -  Fetching  /home/runner/crds/mappings/jwst/jwst_nirspec_wavecorr_0005.rmap      884 bytes  (5 / 202 files) (7.7 K / 722.8 K bytes)\n"
     ]
    },
    {
     "name": "stderr",
     "output_type": "stream",
     "text": [
      "2025-02-07 15:01:01,725 - CRDS - INFO -  Fetching  /home/runner/crds/mappings/jwst/jwst_nirspec_superbias_0074.rmap   33.8 K bytes  (6 / 202 files) (8.5 K / 722.8 K bytes)\n"
     ]
    },
    {
     "name": "stderr",
     "output_type": "stream",
     "text": [
      "2025-02-07 15:01:01,858 - CRDS - INFO -  Fetching  /home/runner/crds/mappings/jwst/jwst_nirspec_sflat_0026.rmap   20.6 K bytes  (7 / 202 files) (42.3 K / 722.8 K bytes)\n"
     ]
    },
    {
     "name": "stderr",
     "output_type": "stream",
     "text": [
      "2025-02-07 15:01:01,969 - CRDS - INFO -  Fetching  /home/runner/crds/mappings/jwst/jwst_nirspec_saturation_0018.rmap    2.0 K bytes  (8 / 202 files) (62.9 K / 722.8 K bytes)\n"
     ]
    },
    {
     "name": "stderr",
     "output_type": "stream",
     "text": [
      "2025-02-07 15:01:02,056 - CRDS - INFO -  Fetching  /home/runner/crds/mappings/jwst/jwst_nirspec_refpix_0015.rmap    1.6 K bytes  (9 / 202 files) (64.9 K / 722.8 K bytes)\n"
     ]
    },
    {
     "name": "stderr",
     "output_type": "stream",
     "text": [
      "2025-02-07 15:01:02,131 - CRDS - INFO -  Fetching  /home/runner/crds/mappings/jwst/jwst_nirspec_readnoise_0025.rmap    2.6 K bytes  (10 / 202 files) (66.5 K / 722.8 K bytes)\n"
     ]
    },
    {
     "name": "stderr",
     "output_type": "stream",
     "text": [
      "2025-02-07 15:01:02,214 - CRDS - INFO -  Fetching  /home/runner/crds/mappings/jwst/jwst_nirspec_photom_0013.rmap      958 bytes  (11 / 202 files) (69.1 K / 722.8 K bytes)\n"
     ]
    },
    {
     "name": "stderr",
     "output_type": "stream",
     "text": [
      "2025-02-07 15:01:02,323 - CRDS - INFO -  Fetching  /home/runner/crds/mappings/jwst/jwst_nirspec_pathloss_0008.rmap    1.2 K bytes  (12 / 202 files) (70.0 K / 722.8 K bytes)\n"
     ]
    },
    {
     "name": "stderr",
     "output_type": "stream",
     "text": [
      "2025-02-07 15:01:02,422 - CRDS - INFO -  Fetching  /home/runner/crds/mappings/jwst/jwst_nirspec_pars-whitelightstep_0001.rmap      777 bytes  (13 / 202 files) (71.2 K / 722.8 K bytes)\n"
     ]
    },
    {
     "name": "stderr",
     "output_type": "stream",
     "text": [
      "2025-02-07 15:01:02,493 - CRDS - INFO -  Fetching  /home/runner/crds/mappings/jwst/jwst_nirspec_pars-spec2pipeline_0013.rmap    2.1 K bytes  (14 / 202 files) (72.0 K / 722.8 K bytes)\n"
     ]
    },
    {
     "name": "stderr",
     "output_type": "stream",
     "text": [
      "2025-02-07 15:01:02,598 - CRDS - INFO -  Fetching  /home/runner/crds/mappings/jwst/jwst_nirspec_pars-resamplespecstep_0002.rmap      709 bytes  (15 / 202 files) (74.1 K / 722.8 K bytes)\n"
     ]
    },
    {
     "name": "stderr",
     "output_type": "stream",
     "text": [
      "2025-02-07 15:01:02,686 - CRDS - INFO -  Fetching  /home/runner/crds/mappings/jwst/jwst_nirspec_pars-outlierdetectionstep_0005.rmap    1.1 K bytes  (16 / 202 files) (74.8 K / 722.8 K bytes)\n"
     ]
    },
    {
     "name": "stderr",
     "output_type": "stream",
     "text": [
      "2025-02-07 15:01:02,758 - CRDS - INFO -  Fetching  /home/runner/crds/mappings/jwst/jwst_nirspec_pars-jumpstep_0005.rmap      810 bytes  (17 / 202 files) (76.0 K / 722.8 K bytes)\n"
     ]
    },
    {
     "name": "stderr",
     "output_type": "stream",
     "text": [
      "2025-02-07 15:01:02,860 - CRDS - INFO -  Fetching  /home/runner/crds/mappings/jwst/jwst_nirspec_pars-image2pipeline_0008.rmap    1.0 K bytes  (18 / 202 files) (76.8 K / 722.8 K bytes)\n"
     ]
    },
    {
     "name": "stderr",
     "output_type": "stream",
     "text": [
      "2025-02-07 15:01:02,932 - CRDS - INFO -  Fetching  /home/runner/crds/mappings/jwst/jwst_nirspec_pars-detector1pipeline_0003.rmap    1.1 K bytes  (19 / 202 files) (77.8 K / 722.8 K bytes)\n"
     ]
    },
    {
     "name": "stderr",
     "output_type": "stream",
     "text": [
      "2025-02-07 15:01:03,003 - CRDS - INFO -  Fetching  /home/runner/crds/mappings/jwst/jwst_nirspec_pars-darkpipeline_0003.rmap      872 bytes  (20 / 202 files) (78.8 K / 722.8 K bytes)\n"
     ]
    },
    {
     "name": "stderr",
     "output_type": "stream",
     "text": [
      "2025-02-07 15:01:03,093 - CRDS - INFO -  Fetching  /home/runner/crds/mappings/jwst/jwst_nirspec_pars-darkcurrentstep_0001.rmap      622 bytes  (21 / 202 files) (79.7 K / 722.8 K bytes)\n"
     ]
    },
    {
     "name": "stderr",
     "output_type": "stream",
     "text": [
      "2025-02-07 15:01:03,166 - CRDS - INFO -  Fetching  /home/runner/crds/mappings/jwst/jwst_nirspec_ote_0030.rmap    1.3 K bytes  (22 / 202 files) (80.3 K / 722.8 K bytes)\n"
     ]
    },
    {
     "name": "stderr",
     "output_type": "stream",
     "text": [
      "2025-02-07 15:01:03,253 - CRDS - INFO -  Fetching  /home/runner/crds/mappings/jwst/jwst_nirspec_msaoper_0016.rmap    1.5 K bytes  (23 / 202 files) (81.6 K / 722.8 K bytes)\n"
     ]
    },
    {
     "name": "stderr",
     "output_type": "stream",
     "text": [
      "2025-02-07 15:01:03,337 - CRDS - INFO -  Fetching  /home/runner/crds/mappings/jwst/jwst_nirspec_msa_0027.rmap    1.3 K bytes  (24 / 202 files) (83.1 K / 722.8 K bytes)\n"
     ]
    },
    {
     "name": "stderr",
     "output_type": "stream",
     "text": [
      "2025-02-07 15:01:03,440 - CRDS - INFO -  Fetching  /home/runner/crds/mappings/jwst/jwst_nirspec_mask_0039.rmap    2.7 K bytes  (25 / 202 files) (84.3 K / 722.8 K bytes)\n"
     ]
    },
    {
     "name": "stderr",
     "output_type": "stream",
     "text": [
      "2025-02-07 15:01:03,510 - CRDS - INFO -  Fetching  /home/runner/crds/mappings/jwst/jwst_nirspec_linearity_0017.rmap    1.6 K bytes  (26 / 202 files) (87.0 K / 722.8 K bytes)\n"
     ]
    },
    {
     "name": "stderr",
     "output_type": "stream",
     "text": [
      "2025-02-07 15:01:03,604 - CRDS - INFO -  Fetching  /home/runner/crds/mappings/jwst/jwst_nirspec_ipc_0006.rmap      876 bytes  (27 / 202 files) (88.6 K / 722.8 K bytes)\n"
     ]
    },
    {
     "name": "stderr",
     "output_type": "stream",
     "text": [
      "2025-02-07 15:01:03,674 - CRDS - INFO -  Fetching  /home/runner/crds/mappings/jwst/jwst_nirspec_ifuslicer_0017.rmap    1.5 K bytes  (28 / 202 files) (89.5 K / 722.8 K bytes)\n"
     ]
    },
    {
     "name": "stderr",
     "output_type": "stream",
     "text": [
      "2025-02-07 15:01:03,746 - CRDS - INFO -  Fetching  /home/runner/crds/mappings/jwst/jwst_nirspec_ifupost_0019.rmap    1.5 K bytes  (29 / 202 files) (91.0 K / 722.8 K bytes)\n"
     ]
    },
    {
     "name": "stderr",
     "output_type": "stream",
     "text": [
      "2025-02-07 15:01:03,818 - CRDS - INFO -  Fetching  /home/runner/crds/mappings/jwst/jwst_nirspec_ifufore_0017.rmap    1.5 K bytes  (30 / 202 files) (92.5 K / 722.8 K bytes)\n"
     ]
    },
    {
     "name": "stderr",
     "output_type": "stream",
     "text": [
      "2025-02-07 15:01:03,940 - CRDS - INFO -  Fetching  /home/runner/crds/mappings/jwst/jwst_nirspec_gain_0023.rmap    1.8 K bytes  (31 / 202 files) (94.0 K / 722.8 K bytes)\n"
     ]
    },
    {
     "name": "stderr",
     "output_type": "stream",
     "text": [
      "2025-02-07 15:01:04,025 - CRDS - INFO -  Fetching  /home/runner/crds/mappings/jwst/jwst_nirspec_fpa_0028.rmap    1.3 K bytes  (32 / 202 files) (95.7 K / 722.8 K bytes)\n"
     ]
    },
    {
     "name": "stderr",
     "output_type": "stream",
     "text": [
      "2025-02-07 15:01:04,098 - CRDS - INFO -  Fetching  /home/runner/crds/mappings/jwst/jwst_nirspec_fore_0026.rmap    5.0 K bytes  (33 / 202 files) (97.0 K / 722.8 K bytes)\n"
     ]
    },
    {
     "name": "stderr",
     "output_type": "stream",
     "text": [
      "2025-02-07 15:01:04,172 - CRDS - INFO -  Fetching  /home/runner/crds/mappings/jwst/jwst_nirspec_flat_0015.rmap    3.8 K bytes  (34 / 202 files) (102.0 K / 722.8 K bytes)\n"
     ]
    },
    {
     "name": "stderr",
     "output_type": "stream",
     "text": [
      "2025-02-07 15:01:04,244 - CRDS - INFO -  Fetching  /home/runner/crds/mappings/jwst/jwst_nirspec_fflat_0026.rmap    7.2 K bytes  (35 / 202 files) (105.8 K / 722.8 K bytes)\n"
     ]
    },
    {
     "name": "stderr",
     "output_type": "stream",
     "text": [
      "2025-02-07 15:01:04,327 - CRDS - INFO -  Fetching  /home/runner/crds/mappings/jwst/jwst_nirspec_extract1d_0018.rmap    2.3 K bytes  (36 / 202 files) (113.0 K / 722.8 K bytes)\n"
     ]
    },
    {
     "name": "stderr",
     "output_type": "stream",
     "text": [
      "2025-02-07 15:01:04,397 - CRDS - INFO -  Fetching  /home/runner/crds/mappings/jwst/jwst_nirspec_disperser_0028.rmap    5.7 K bytes  (37 / 202 files) (115.3 K / 722.8 K bytes)\n"
     ]
    },
    {
     "name": "stderr",
     "output_type": "stream",
     "text": [
      "2025-02-07 15:01:04,474 - CRDS - INFO -  Fetching  /home/runner/crds/mappings/jwst/jwst_nirspec_dflat_0007.rmap    1.1 K bytes  (38 / 202 files) (121.0 K / 722.8 K bytes)\n"
     ]
    },
    {
     "name": "stderr",
     "output_type": "stream",
     "text": [
      "2025-02-07 15:01:04,546 - CRDS - INFO -  Fetching  /home/runner/crds/mappings/jwst/jwst_nirspec_dark_0069.rmap   32.6 K bytes  (39 / 202 files) (122.1 K / 722.8 K bytes)\n"
     ]
    },
    {
     "name": "stderr",
     "output_type": "stream",
     "text": [
      "2025-02-07 15:01:04,627 - CRDS - INFO -  Fetching  /home/runner/crds/mappings/jwst/jwst_nirspec_cubepar_0015.rmap      966 bytes  (40 / 202 files) (154.7 K / 722.8 K bytes)\n"
     ]
    },
    {
     "name": "stderr",
     "output_type": "stream",
     "text": [
      "2025-02-07 15:01:04,698 - CRDS - INFO -  Fetching  /home/runner/crds/mappings/jwst/jwst_nirspec_collimator_0026.rmap    1.3 K bytes  (41 / 202 files) (155.7 K / 722.8 K bytes)\n"
     ]
    },
    {
     "name": "stderr",
     "output_type": "stream",
     "text": [
      "2025-02-07 15:01:04,780 - CRDS - INFO -  Fetching  /home/runner/crds/mappings/jwst/jwst_nirspec_camera_0026.rmap    1.3 K bytes  (42 / 202 files) (157.0 K / 722.8 K bytes)\n"
     ]
    },
    {
     "name": "stderr",
     "output_type": "stream",
     "text": [
      "2025-02-07 15:01:04,854 - CRDS - INFO -  Fetching  /home/runner/crds/mappings/jwst/jwst_nirspec_barshadow_0007.rmap    1.8 K bytes  (43 / 202 files) (158.3 K / 722.8 K bytes)\n"
     ]
    },
    {
     "name": "stderr",
     "output_type": "stream",
     "text": [
      "2025-02-07 15:01:04,929 - CRDS - INFO -  Fetching  /home/runner/crds/mappings/jwst/jwst_nirspec_area_0018.rmap    6.3 K bytes  (44 / 202 files) (160.1 K / 722.8 K bytes)\n"
     ]
    },
    {
     "name": "stderr",
     "output_type": "stream",
     "text": [
      "2025-02-07 15:01:05,003 - CRDS - INFO -  Fetching  /home/runner/crds/mappings/jwst/jwst_nirspec_apcorr_0009.rmap    5.6 K bytes  (45 / 202 files) (166.4 K / 722.8 K bytes)\n"
     ]
    },
    {
     "name": "stderr",
     "output_type": "stream",
     "text": [
      "2025-02-07 15:01:05,074 - CRDS - INFO -  Fetching  /home/runner/crds/mappings/jwst/jwst_nirspec_0387.imap     5.7 K bytes  (46 / 202 files) (171.9 K / 722.8 K bytes)\n"
     ]
    },
    {
     "name": "stderr",
     "output_type": "stream",
     "text": [
      "2025-02-07 15:01:05,146 - CRDS - INFO -  Fetching  /home/runner/crds/mappings/jwst/jwst_niriss_wfssbkg_0008.rmap    3.1 K bytes  (47 / 202 files) (177.7 K / 722.8 K bytes)\n"
     ]
    },
    {
     "name": "stderr",
     "output_type": "stream",
     "text": [
      "2025-02-07 15:01:05,224 - CRDS - INFO -  Fetching  /home/runner/crds/mappings/jwst/jwst_niriss_wavemap_0008.rmap    2.2 K bytes  (48 / 202 files) (180.8 K / 722.8 K bytes)\n"
     ]
    },
    {
     "name": "stderr",
     "output_type": "stream",
     "text": [
      "2025-02-07 15:01:05,349 - CRDS - INFO -  Fetching  /home/runner/crds/mappings/jwst/jwst_niriss_wavelengthrange_0006.rmap      862 bytes  (49 / 202 files) (183.0 K / 722.8 K bytes)\n"
     ]
    },
    {
     "name": "stderr",
     "output_type": "stream",
     "text": [
      "2025-02-07 15:01:05,466 - CRDS - INFO -  Fetching  /home/runner/crds/mappings/jwst/jwst_niriss_trappars_0004.rmap      753 bytes  (50 / 202 files) (183.9 K / 722.8 K bytes)\n"
     ]
    },
    {
     "name": "stderr",
     "output_type": "stream",
     "text": [
      "2025-02-07 15:01:05,567 - CRDS - INFO -  Fetching  /home/runner/crds/mappings/jwst/jwst_niriss_trapdensity_0005.rmap      705 bytes  (51 / 202 files) (184.6 K / 722.8 K bytes)\n"
     ]
    },
    {
     "name": "stderr",
     "output_type": "stream",
     "text": [
      "2025-02-07 15:01:05,639 - CRDS - INFO -  Fetching  /home/runner/crds/mappings/jwst/jwst_niriss_throughput_0005.rmap    1.3 K bytes  (52 / 202 files) (185.3 K / 722.8 K bytes)\n"
     ]
    },
    {
     "name": "stderr",
     "output_type": "stream",
     "text": [
      "2025-02-07 15:01:05,725 - CRDS - INFO -  Fetching  /home/runner/crds/mappings/jwst/jwst_niriss_superbias_0030.rmap    7.4 K bytes  (53 / 202 files) (186.6 K / 722.8 K bytes)\n"
     ]
    },
    {
     "name": "stderr",
     "output_type": "stream",
     "text": [
      "2025-02-07 15:01:05,795 - CRDS - INFO -  Fetching  /home/runner/crds/mappings/jwst/jwst_niriss_specwcs_0014.rmap    3.1 K bytes  (54 / 202 files) (194.0 K / 722.8 K bytes)\n"
     ]
    },
    {
     "name": "stderr",
     "output_type": "stream",
     "text": [
      "2025-02-07 15:01:05,867 - CRDS - INFO -  Fetching  /home/runner/crds/mappings/jwst/jwst_niriss_spectrace_0008.rmap    2.3 K bytes  (55 / 202 files) (197.1 K / 722.8 K bytes)\n"
     ]
    },
    {
     "name": "stderr",
     "output_type": "stream",
     "text": [
      "2025-02-07 15:01:05,939 - CRDS - INFO -  Fetching  /home/runner/crds/mappings/jwst/jwst_niriss_specprofile_0008.rmap    2.4 K bytes  (56 / 202 files) (199.5 K / 722.8 K bytes)\n"
     ]
    },
    {
     "name": "stderr",
     "output_type": "stream",
     "text": [
      "2025-02-07 15:01:06,020 - CRDS - INFO -  Fetching  /home/runner/crds/mappings/jwst/jwst_niriss_speckernel_0006.rmap    1.0 K bytes  (57 / 202 files) (201.8 K / 722.8 K bytes)\n"
     ]
    },
    {
     "name": "stderr",
     "output_type": "stream",
     "text": [
      "2025-02-07 15:01:06,103 - CRDS - INFO -  Fetching  /home/runner/crds/mappings/jwst/jwst_niriss_saturation_0015.rmap      829 bytes  (58 / 202 files) (202.9 K / 722.8 K bytes)\n"
     ]
    },
    {
     "name": "stderr",
     "output_type": "stream",
     "text": [
      "2025-02-07 15:01:06,178 - CRDS - INFO -  Fetching  /home/runner/crds/mappings/jwst/jwst_niriss_readnoise_0011.rmap      987 bytes  (59 / 202 files) (203.7 K / 722.8 K bytes)\n"
     ]
    },
    {
     "name": "stderr",
     "output_type": "stream",
     "text": [
      "2025-02-07 15:01:06,249 - CRDS - INFO -  Fetching  /home/runner/crds/mappings/jwst/jwst_niriss_photom_0036.rmap    1.3 K bytes  (60 / 202 files) (204.7 K / 722.8 K bytes)\n"
     ]
    },
    {
     "name": "stderr",
     "output_type": "stream",
     "text": [
      "2025-02-07 15:01:06,322 - CRDS - INFO -  Fetching  /home/runner/crds/mappings/jwst/jwst_niriss_persat_0007.rmap      674 bytes  (61 / 202 files) (205.9 K / 722.8 K bytes)\n"
     ]
    },
    {
     "name": "stderr",
     "output_type": "stream",
     "text": [
      "2025-02-07 15:01:06,395 - CRDS - INFO -  Fetching  /home/runner/crds/mappings/jwst/jwst_niriss_pathloss_0003.rmap      758 bytes  (62 / 202 files) (206.6 K / 722.8 K bytes)\n"
     ]
    },
    {
     "name": "stderr",
     "output_type": "stream",
     "text": [
      "2025-02-07 15:01:06,471 - CRDS - INFO -  Fetching  /home/runner/crds/mappings/jwst/jwst_niriss_pastasoss_0004.rmap      818 bytes  (63 / 202 files) (207.4 K / 722.8 K bytes)\n"
     ]
    },
    {
     "name": "stderr",
     "output_type": "stream",
     "text": [
      "2025-02-07 15:01:06,545 - CRDS - INFO -  Fetching  /home/runner/crds/mappings/jwst/jwst_niriss_pars-undersamplecorrectionstep_0001.rmap      904 bytes  (64 / 202 files) (208.2 K / 722.8 K bytes)\n"
     ]
    },
    {
     "name": "stderr",
     "output_type": "stream",
     "text": [
      "2025-02-07 15:01:06,616 - CRDS - INFO -  Fetching  /home/runner/crds/mappings/jwst/jwst_niriss_pars-tweakregstep_0012.rmap    3.1 K bytes  (65 / 202 files) (209.1 K / 722.8 K bytes)\n"
     ]
    },
    {
     "name": "stderr",
     "output_type": "stream",
     "text": [
      "2025-02-07 15:01:06,687 - CRDS - INFO -  Fetching  /home/runner/crds/mappings/jwst/jwst_niriss_pars-spec2pipeline_0008.rmap      984 bytes  (66 / 202 files) (212.2 K / 722.8 K bytes)\n"
     ]
    },
    {
     "name": "stderr",
     "output_type": "stream",
     "text": [
      "2025-02-07 15:01:06,761 - CRDS - INFO -  Fetching  /home/runner/crds/mappings/jwst/jwst_niriss_pars-sourcecatalogstep_0002.rmap    2.3 K bytes  (67 / 202 files) (213.2 K / 722.8 K bytes)\n"
     ]
    },
    {
     "name": "stderr",
     "output_type": "stream",
     "text": [
      "2025-02-07 15:01:06,833 - CRDS - INFO -  Fetching  /home/runner/crds/mappings/jwst/jwst_niriss_pars-resamplestep_0002.rmap      687 bytes  (68 / 202 files) (215.5 K / 722.8 K bytes)\n"
     ]
    },
    {
     "name": "stderr",
     "output_type": "stream",
     "text": [
      "2025-02-07 15:01:06,906 - CRDS - INFO -  Fetching  /home/runner/crds/mappings/jwst/jwst_niriss_pars-outlierdetectionstep_0004.rmap    2.7 K bytes  (69 / 202 files) (216.2 K / 722.8 K bytes)\n"
     ]
    },
    {
     "name": "stderr",
     "output_type": "stream",
     "text": [
      "2025-02-07 15:01:06,977 - CRDS - INFO -  Fetching  /home/runner/crds/mappings/jwst/jwst_niriss_pars-jumpstep_0007.rmap    6.4 K bytes  (70 / 202 files) (218.9 K / 722.8 K bytes)\n"
     ]
    },
    {
     "name": "stderr",
     "output_type": "stream",
     "text": [
      "2025-02-07 15:01:07,052 - CRDS - INFO -  Fetching  /home/runner/crds/mappings/jwst/jwst_niriss_pars-image2pipeline_0005.rmap    1.0 K bytes  (71 / 202 files) (225.2 K / 722.8 K bytes)\n"
     ]
    },
    {
     "name": "stderr",
     "output_type": "stream",
     "text": [
      "2025-02-07 15:01:07,124 - CRDS - INFO -  Fetching  /home/runner/crds/mappings/jwst/jwst_niriss_pars-detector1pipeline_0002.rmap    1.0 K bytes  (72 / 202 files) (226.3 K / 722.8 K bytes)\n"
     ]
    },
    {
     "name": "stderr",
     "output_type": "stream",
     "text": [
      "2025-02-07 15:01:07,198 - CRDS - INFO -  Fetching  /home/runner/crds/mappings/jwst/jwst_niriss_pars-darkpipeline_0002.rmap      868 bytes  (73 / 202 files) (227.3 K / 722.8 K bytes)\n"
     ]
    },
    {
     "name": "stderr",
     "output_type": "stream",
     "text": [
      "2025-02-07 15:01:07,269 - CRDS - INFO -  Fetching  /home/runner/crds/mappings/jwst/jwst_niriss_pars-darkcurrentstep_0001.rmap      591 bytes  (74 / 202 files) (228.2 K / 722.8 K bytes)\n"
     ]
    },
    {
     "name": "stderr",
     "output_type": "stream",
     "text": [
      "2025-02-07 15:01:07,341 - CRDS - INFO -  Fetching  /home/runner/crds/mappings/jwst/jwst_niriss_pars-chargemigrationstep_0004.rmap    5.7 K bytes  (75 / 202 files) (228.8 K / 722.8 K bytes)\n"
     ]
    },
    {
     "name": "stderr",
     "output_type": "stream",
     "text": [
      "2025-02-07 15:01:07,422 - CRDS - INFO -  Fetching  /home/runner/crds/mappings/jwst/jwst_niriss_nrm_0005.rmap      663 bytes  (76 / 202 files) (234.4 K / 722.8 K bytes)\n"
     ]
    },
    {
     "name": "stderr",
     "output_type": "stream",
     "text": [
      "2025-02-07 15:01:07,494 - CRDS - INFO -  Fetching  /home/runner/crds/mappings/jwst/jwst_niriss_mask_0022.rmap    1.3 K bytes  (77 / 202 files) (235.1 K / 722.8 K bytes)\n"
     ]
    },
    {
     "name": "stderr",
     "output_type": "stream",
     "text": [
      "2025-02-07 15:01:07,567 - CRDS - INFO -  Fetching  /home/runner/crds/mappings/jwst/jwst_niriss_linearity_0022.rmap      961 bytes  (78 / 202 files) (236.4 K / 722.8 K bytes)\n"
     ]
    },
    {
     "name": "stderr",
     "output_type": "stream",
     "text": [
      "2025-02-07 15:01:07,640 - CRDS - INFO -  Fetching  /home/runner/crds/mappings/jwst/jwst_niriss_ipc_0007.rmap      651 bytes  (79 / 202 files) (237.3 K / 722.8 K bytes)\n"
     ]
    },
    {
     "name": "stderr",
     "output_type": "stream",
     "text": [
      "2025-02-07 15:01:07,715 - CRDS - INFO -  Fetching  /home/runner/crds/mappings/jwst/jwst_niriss_gain_0011.rmap      797 bytes  (80 / 202 files) (238.0 K / 722.8 K bytes)\n"
     ]
    },
    {
     "name": "stderr",
     "output_type": "stream",
     "text": [
      "2025-02-07 15:01:07,786 - CRDS - INFO -  Fetching  /home/runner/crds/mappings/jwst/jwst_niriss_flat_0023.rmap    5.9 K bytes  (81 / 202 files) (238.8 K / 722.8 K bytes)\n"
     ]
    },
    {
     "name": "stderr",
     "output_type": "stream",
     "text": [
      "2025-02-07 15:01:07,857 - CRDS - INFO -  Fetching  /home/runner/crds/mappings/jwst/jwst_niriss_filteroffset_0010.rmap      853 bytes  (82 / 202 files) (244.6 K / 722.8 K bytes)\n"
     ]
    },
    {
     "name": "stderr",
     "output_type": "stream",
     "text": [
      "2025-02-07 15:01:07,943 - CRDS - INFO -  Fetching  /home/runner/crds/mappings/jwst/jwst_niriss_extract1d_0007.rmap      905 bytes  (83 / 202 files) (245.5 K / 722.8 K bytes)\n"
     ]
    },
    {
     "name": "stderr",
     "output_type": "stream",
     "text": [
      "2025-02-07 15:01:08,015 - CRDS - INFO -  Fetching  /home/runner/crds/mappings/jwst/jwst_niriss_drizpars_0004.rmap      519 bytes  (84 / 202 files) (246.4 K / 722.8 K bytes)\n"
     ]
    },
    {
     "name": "stderr",
     "output_type": "stream",
     "text": [
      "2025-02-07 15:01:08,091 - CRDS - INFO -  Fetching  /home/runner/crds/mappings/jwst/jwst_niriss_distortion_0025.rmap    3.4 K bytes  (85 / 202 files) (246.9 K / 722.8 K bytes)\n"
     ]
    },
    {
     "name": "stderr",
     "output_type": "stream",
     "text": [
      "2025-02-07 15:01:08,163 - CRDS - INFO -  Fetching  /home/runner/crds/mappings/jwst/jwst_niriss_dark_0034.rmap    7.5 K bytes  (86 / 202 files) (250.4 K / 722.8 K bytes)\n"
     ]
    },
    {
     "name": "stderr",
     "output_type": "stream",
     "text": [
      "2025-02-07 15:01:08,233 - CRDS - INFO -  Fetching  /home/runner/crds/mappings/jwst/jwst_niriss_area_0014.rmap    2.7 K bytes  (87 / 202 files) (257.9 K / 722.8 K bytes)\n"
     ]
    },
    {
     "name": "stderr",
     "output_type": "stream",
     "text": [
      "2025-02-07 15:01:08,310 - CRDS - INFO -  Fetching  /home/runner/crds/mappings/jwst/jwst_niriss_apcorr_0010.rmap    4.3 K bytes  (88 / 202 files) (260.6 K / 722.8 K bytes)\n"
     ]
    },
    {
     "name": "stderr",
     "output_type": "stream",
     "text": [
      "2025-02-07 15:01:08,387 - CRDS - INFO -  Fetching  /home/runner/crds/mappings/jwst/jwst_niriss_abvegaoffset_0004.rmap    1.4 K bytes  (89 / 202 files) (264.9 K / 722.8 K bytes)\n"
     ]
    },
    {
     "name": "stderr",
     "output_type": "stream",
     "text": [
      "2025-02-07 15:01:08,460 - CRDS - INFO -  Fetching  /home/runner/crds/mappings/jwst/jwst_niriss_0267.imap      5.8 K bytes  (90 / 202 files) (266.2 K / 722.8 K bytes)\n"
     ]
    },
    {
     "name": "stderr",
     "output_type": "stream",
     "text": [
      "2025-02-07 15:01:08,545 - CRDS - INFO -  Fetching  /home/runner/crds/mappings/jwst/jwst_nircam_wfssbkg_0004.rmap    7.2 K bytes  (91 / 202 files) (272.0 K / 722.8 K bytes)\n"
     ]
    },
    {
     "name": "stderr",
     "output_type": "stream",
     "text": [
      "2025-02-07 15:01:08,616 - CRDS - INFO -  Fetching  /home/runner/crds/mappings/jwst/jwst_nircam_wavelengthrange_0010.rmap      996 bytes  (92 / 202 files) (279.2 K / 722.8 K bytes)\n"
     ]
    },
    {
     "name": "stderr",
     "output_type": "stream",
     "text": [
      "2025-02-07 15:01:08,701 - CRDS - INFO -  Fetching  /home/runner/crds/mappings/jwst/jwst_nircam_tsophot_0003.rmap      896 bytes  (93 / 202 files) (280.2 K / 722.8 K bytes)\n"
     ]
    },
    {
     "name": "stderr",
     "output_type": "stream",
     "text": [
      "2025-02-07 15:01:08,772 - CRDS - INFO -  Fetching  /home/runner/crds/mappings/jwst/jwst_nircam_trappars_0003.rmap    1.6 K bytes  (94 / 202 files) (281.1 K / 722.8 K bytes)\n"
     ]
    },
    {
     "name": "stderr",
     "output_type": "stream",
     "text": [
      "2025-02-07 15:01:08,840 - CRDS - INFO -  Fetching  /home/runner/crds/mappings/jwst/jwst_nircam_trapdensity_0003.rmap    1.6 K bytes  (95 / 202 files) (282.7 K / 722.8 K bytes)\n"
     ]
    },
    {
     "name": "stderr",
     "output_type": "stream",
     "text": [
      "2025-02-07 15:01:08,924 - CRDS - INFO -  Fetching  /home/runner/crds/mappings/jwst/jwst_nircam_superbias_0018.rmap   16.2 K bytes  (96 / 202 files) (284.4 K / 722.8 K bytes)\n"
     ]
    },
    {
     "name": "stderr",
     "output_type": "stream",
     "text": [
      "2025-02-07 15:01:09,001 - CRDS - INFO -  Fetching  /home/runner/crds/mappings/jwst/jwst_nircam_specwcs_0022.rmap    7.1 K bytes  (97 / 202 files) (300.5 K / 722.8 K bytes)\n"
     ]
    },
    {
     "name": "stderr",
     "output_type": "stream",
     "text": [
      "2025-02-07 15:01:09,072 - CRDS - INFO -  Fetching  /home/runner/crds/mappings/jwst/jwst_nircam_sirskernel_0002.rmap      671 bytes  (98 / 202 files) (307.7 K / 722.8 K bytes)\n"
     ]
    },
    {
     "name": "stderr",
     "output_type": "stream",
     "text": [
      "2025-02-07 15:01:09,146 - CRDS - INFO -  Fetching  /home/runner/crds/mappings/jwst/jwst_nircam_saturation_0010.rmap    2.2 K bytes  (99 / 202 files) (308.3 K / 722.8 K bytes)\n"
     ]
    },
    {
     "name": "stderr",
     "output_type": "stream",
     "text": [
      "2025-02-07 15:01:09,216 - CRDS - INFO -  Fetching  /home/runner/crds/mappings/jwst/jwst_nircam_readnoise_0025.rmap   23.2 K bytes  (100 / 202 files) (310.5 K / 722.8 K bytes)\n"
     ]
    },
    {
     "name": "stderr",
     "output_type": "stream",
     "text": [
      "2025-02-07 15:01:09,298 - CRDS - INFO -  Fetching  /home/runner/crds/mappings/jwst/jwst_nircam_psfmask_0008.rmap   28.4 K bytes  (101 / 202 files) (333.7 K / 722.8 K bytes)\n"
     ]
    },
    {
     "name": "stderr",
     "output_type": "stream",
     "text": [
      "2025-02-07 15:01:09,380 - CRDS - INFO -  Fetching  /home/runner/crds/mappings/jwst/jwst_nircam_photom_0028.rmap    3.4 K bytes  (102 / 202 files) (362.0 K / 722.8 K bytes)\n"
     ]
    },
    {
     "name": "stderr",
     "output_type": "stream",
     "text": [
      "2025-02-07 15:01:09,453 - CRDS - INFO -  Fetching  /home/runner/crds/mappings/jwst/jwst_nircam_persat_0005.rmap    1.6 K bytes  (103 / 202 files) (365.4 K / 722.8 K bytes)\n"
     ]
    },
    {
     "name": "stderr",
     "output_type": "stream",
     "text": [
      "2025-02-07 15:01:09,525 - CRDS - INFO -  Fetching  /home/runner/crds/mappings/jwst/jwst_nircam_pars-whitelightstep_0003.rmap    1.5 K bytes  (104 / 202 files) (367.0 K / 722.8 K bytes)\n"
     ]
    },
    {
     "name": "stderr",
     "output_type": "stream",
     "text": [
      "2025-02-07 15:01:09,608 - CRDS - INFO -  Fetching  /home/runner/crds/mappings/jwst/jwst_nircam_pars-tweakregstep_0003.rmap    4.5 K bytes  (105 / 202 files) (368.4 K / 722.8 K bytes)\n"
     ]
    },
    {
     "name": "stderr",
     "output_type": "stream",
     "text": [
      "2025-02-07 15:01:09,698 - CRDS - INFO -  Fetching  /home/runner/crds/mappings/jwst/jwst_nircam_pars-spec2pipeline_0008.rmap      984 bytes  (106 / 202 files) (372.9 K / 722.8 K bytes)\n"
     ]
    },
    {
     "name": "stderr",
     "output_type": "stream",
     "text": [
      "2025-02-07 15:01:09,779 - CRDS - INFO -  Fetching  /home/runner/crds/mappings/jwst/jwst_nircam_pars-sourcecatalogstep_0002.rmap    4.6 K bytes  (107 / 202 files) (373.9 K / 722.8 K bytes)\n"
     ]
    },
    {
     "name": "stderr",
     "output_type": "stream",
     "text": [
      "2025-02-07 15:01:09,863 - CRDS - INFO -  Fetching  /home/runner/crds/mappings/jwst/jwst_nircam_pars-resamplestep_0002.rmap      687 bytes  (108 / 202 files) (378.5 K / 722.8 K bytes)\n"
     ]
    },
    {
     "name": "stderr",
     "output_type": "stream",
     "text": [
      "2025-02-07 15:01:09,936 - CRDS - INFO -  Fetching  /home/runner/crds/mappings/jwst/jwst_nircam_pars-outlierdetectionstep_0003.rmap      940 bytes  (109 / 202 files) (379.2 K / 722.8 K bytes)\n"
     ]
    },
    {
     "name": "stderr",
     "output_type": "stream",
     "text": [
      "2025-02-07 15:01:10,019 - CRDS - INFO -  Fetching  /home/runner/crds/mappings/jwst/jwst_nircam_pars-jumpstep_0005.rmap      806 bytes  (110 / 202 files) (380.2 K / 722.8 K bytes)\n"
     ]
    },
    {
     "name": "stderr",
     "output_type": "stream",
     "text": [
      "2025-02-07 15:01:10,100 - CRDS - INFO -  Fetching  /home/runner/crds/mappings/jwst/jwst_nircam_pars-image2pipeline_0003.rmap    1.0 K bytes  (111 / 202 files) (381.0 K / 722.8 K bytes)\n"
     ]
    },
    {
     "name": "stderr",
     "output_type": "stream",
     "text": [
      "2025-02-07 15:01:10,183 - CRDS - INFO -  Fetching  /home/runner/crds/mappings/jwst/jwst_nircam_pars-detector1pipeline_0003.rmap    1.0 K bytes  (112 / 202 files) (382.0 K / 722.8 K bytes)\n"
     ]
    },
    {
     "name": "stderr",
     "output_type": "stream",
     "text": [
      "2025-02-07 15:01:10,258 - CRDS - INFO -  Fetching  /home/runner/crds/mappings/jwst/jwst_nircam_pars-darkpipeline_0002.rmap      868 bytes  (113 / 202 files) (383.0 K / 722.8 K bytes)\n"
     ]
    },
    {
     "name": "stderr",
     "output_type": "stream",
     "text": [
      "2025-02-07 15:01:10,332 - CRDS - INFO -  Fetching  /home/runner/crds/mappings/jwst/jwst_nircam_pars-darkcurrentstep_0001.rmap      618 bytes  (114 / 202 files) (383.9 K / 722.8 K bytes)\n"
     ]
    },
    {
     "name": "stderr",
     "output_type": "stream",
     "text": [
      "2025-02-07 15:01:10,405 - CRDS - INFO -  Fetching  /home/runner/crds/mappings/jwst/jwst_nircam_mask_0011.rmap    3.5 K bytes  (115 / 202 files) (384.5 K / 722.8 K bytes)\n"
     ]
    },
    {
     "name": "stderr",
     "output_type": "stream",
     "text": [
      "2025-02-07 15:01:10,475 - CRDS - INFO -  Fetching  /home/runner/crds/mappings/jwst/jwst_nircam_linearity_0011.rmap    2.4 K bytes  (116 / 202 files) (388.0 K / 722.8 K bytes)\n"
     ]
    },
    {
     "name": "stderr",
     "output_type": "stream",
     "text": [
      "2025-02-07 15:01:10,545 - CRDS - INFO -  Fetching  /home/runner/crds/mappings/jwst/jwst_nircam_ipc_0003.rmap    2.0 K bytes  (117 / 202 files) (390.4 K / 722.8 K bytes)\n"
     ]
    },
    {
     "name": "stderr",
     "output_type": "stream",
     "text": [
      "2025-02-07 15:01:10,625 - CRDS - INFO -  Fetching  /home/runner/crds/mappings/jwst/jwst_nircam_gain_0016.rmap    2.1 K bytes  (118 / 202 files) (392.4 K / 722.8 K bytes)\n"
     ]
    },
    {
     "name": "stderr",
     "output_type": "stream",
     "text": [
      "2025-02-07 15:01:10,698 - CRDS - INFO -  Fetching  /home/runner/crds/mappings/jwst/jwst_nircam_flat_0027.rmap   51.7 K bytes  (119 / 202 files) (394.5 K / 722.8 K bytes)\n"
     ]
    },
    {
     "name": "stderr",
     "output_type": "stream",
     "text": [
      "2025-02-07 15:01:10,787 - CRDS - INFO -  Fetching  /home/runner/crds/mappings/jwst/jwst_nircam_filteroffset_0004.rmap    1.4 K bytes  (120 / 202 files) (446.2 K / 722.8 K bytes)\n"
     ]
    },
    {
     "name": "stderr",
     "output_type": "stream",
     "text": [
      "2025-02-07 15:01:10,858 - CRDS - INFO -  Fetching  /home/runner/crds/mappings/jwst/jwst_nircam_extract1d_0004.rmap      842 bytes  (121 / 202 files) (447.6 K / 722.8 K bytes)\n"
     ]
    },
    {
     "name": "stderr",
     "output_type": "stream",
     "text": [
      "2025-02-07 15:01:10,940 - CRDS - INFO -  Fetching  /home/runner/crds/mappings/jwst/jwst_nircam_drizpars_0001.rmap      519 bytes  (122 / 202 files) (448.5 K / 722.8 K bytes)\n"
     ]
    },
    {
     "name": "stderr",
     "output_type": "stream",
     "text": [
      "2025-02-07 15:01:11,021 - CRDS - INFO -  Fetching  /home/runner/crds/mappings/jwst/jwst_nircam_distortion_0033.rmap   53.4 K bytes  (123 / 202 files) (449.0 K / 722.8 K bytes)\n"
     ]
    },
    {
     "name": "stderr",
     "output_type": "stream",
     "text": [
      "2025-02-07 15:01:11,114 - CRDS - INFO -  Fetching  /home/runner/crds/mappings/jwst/jwst_nircam_dark_0046.rmap   26.4 K bytes  (124 / 202 files) (502.3 K / 722.8 K bytes)\n"
     ]
    },
    {
     "name": "stderr",
     "output_type": "stream",
     "text": [
      "2025-02-07 15:01:11,197 - CRDS - INFO -  Fetching  /home/runner/crds/mappings/jwst/jwst_nircam_area_0012.rmap   33.5 K bytes  (125 / 202 files) (528.7 K / 722.8 K bytes)\n"
     ]
    },
    {
     "name": "stderr",
     "output_type": "stream",
     "text": [
      "2025-02-07 15:01:11,279 - CRDS - INFO -  Fetching  /home/runner/crds/mappings/jwst/jwst_nircam_apcorr_0008.rmap    4.3 K bytes  (126 / 202 files) (562.2 K / 722.8 K bytes)\n"
     ]
    },
    {
     "name": "stderr",
     "output_type": "stream",
     "text": [
      "2025-02-07 15:01:11,349 - CRDS - INFO -  Fetching  /home/runner/crds/mappings/jwst/jwst_nircam_abvegaoffset_0003.rmap    1.3 K bytes  (127 / 202 files) (566.5 K / 722.8 K bytes)\n"
     ]
    },
    {
     "name": "stderr",
     "output_type": "stream",
     "text": [
      "2025-02-07 15:01:11,421 - CRDS - INFO -  Fetching  /home/runner/crds/mappings/jwst/jwst_nircam_0301.imap      5.6 K bytes  (128 / 202 files) (567.8 K / 722.8 K bytes)\n"
     ]
    },
    {
     "name": "stderr",
     "output_type": "stream",
     "text": [
      "2025-02-07 15:01:11,491 - CRDS - INFO -  Fetching  /home/runner/crds/mappings/jwst/jwst_miri_wavelengthrange_0027.rmap      929 bytes  (129 / 202 files) (573.4 K / 722.8 K bytes)\n"
     ]
    },
    {
     "name": "stderr",
     "output_type": "stream",
     "text": [
      "2025-02-07 15:01:11,564 - CRDS - INFO -  Fetching  /home/runner/crds/mappings/jwst/jwst_miri_tsophot_0004.rmap      882 bytes  (130 / 202 files) (574.3 K / 722.8 K bytes)\n"
     ]
    },
    {
     "name": "stderr",
     "output_type": "stream",
     "text": [
      "2025-02-07 15:01:11,633 - CRDS - INFO -  Fetching  /home/runner/crds/mappings/jwst/jwst_miri_straymask_0009.rmap      987 bytes  (131 / 202 files) (575.2 K / 722.8 K bytes)\n"
     ]
    },
    {
     "name": "stderr",
     "output_type": "stream",
     "text": [
      "2025-02-07 15:01:11,714 - CRDS - INFO -  Fetching  /home/runner/crds/mappings/jwst/jwst_miri_specwcs_0042.rmap    5.8 K bytes  (132 / 202 files) (576.2 K / 722.8 K bytes)\n"
     ]
    },
    {
     "name": "stderr",
     "output_type": "stream",
     "text": [
      "2025-02-07 15:01:11,785 - CRDS - INFO -  Fetching  /home/runner/crds/mappings/jwst/jwst_miri_saturation_0015.rmap    1.2 K bytes  (133 / 202 files) (582.0 K / 722.8 K bytes)\n"
     ]
    },
    {
     "name": "stderr",
     "output_type": "stream",
     "text": [
      "2025-02-07 15:01:11,854 - CRDS - INFO -  Fetching  /home/runner/crds/mappings/jwst/jwst_miri_rscd_0008.rmap    1.0 K bytes  (134 / 202 files) (583.1 K / 722.8 K bytes)\n"
     ]
    },
    {
     "name": "stderr",
     "output_type": "stream",
     "text": [
      "2025-02-07 15:01:11,936 - CRDS - INFO -  Fetching  /home/runner/crds/mappings/jwst/jwst_miri_resol_0006.rmap      790 bytes  (135 / 202 files) (584.2 K / 722.8 K bytes)\n"
     ]
    },
    {
     "name": "stderr",
     "output_type": "stream",
     "text": [
      "2025-02-07 15:01:12,014 - CRDS - INFO -  Fetching  /home/runner/crds/mappings/jwst/jwst_miri_reset_0026.rmap    3.9 K bytes  (136 / 202 files) (585.0 K / 722.8 K bytes)\n"
     ]
    },
    {
     "name": "stderr",
     "output_type": "stream",
     "text": [
      "2025-02-07 15:01:12,096 - CRDS - INFO -  Fetching  /home/runner/crds/mappings/jwst/jwst_miri_regions_0033.rmap    5.2 K bytes  (137 / 202 files) (588.8 K / 722.8 K bytes)\n"
     ]
    },
    {
     "name": "stderr",
     "output_type": "stream",
     "text": [
      "2025-02-07 15:01:12,166 - CRDS - INFO -  Fetching  /home/runner/crds/mappings/jwst/jwst_miri_readnoise_0023.rmap    1.6 K bytes  (138 / 202 files) (594.0 K / 722.8 K bytes)\n"
     ]
    },
    {
     "name": "stderr",
     "output_type": "stream",
     "text": [
      "2025-02-07 15:01:12,238 - CRDS - INFO -  Fetching  /home/runner/crds/mappings/jwst/jwst_miri_psfmask_0009.rmap    2.1 K bytes  (139 / 202 files) (595.7 K / 722.8 K bytes)\n"
     ]
    },
    {
     "name": "stderr",
     "output_type": "stream",
     "text": [
      "2025-02-07 15:01:12,320 - CRDS - INFO -  Fetching  /home/runner/crds/mappings/jwst/jwst_miri_psf_0002.rmap      753 bytes  (140 / 202 files) (597.8 K / 722.8 K bytes)\n"
     ]
    },
    {
     "name": "stderr",
     "output_type": "stream",
     "text": [
      "2025-02-07 15:01:12,392 - CRDS - INFO -  Fetching  /home/runner/crds/mappings/jwst/jwst_miri_photom_0056.rmap    3.7 K bytes  (141 / 202 files) (598.5 K / 722.8 K bytes)\n"
     ]
    },
    {
     "name": "stderr",
     "output_type": "stream",
     "text": [
      "2025-02-07 15:01:12,477 - CRDS - INFO -  Fetching  /home/runner/crds/mappings/jwst/jwst_miri_pathloss_0005.rmap      866 bytes  (142 / 202 files) (602.3 K / 722.8 K bytes)\n"
     ]
    },
    {
     "name": "stderr",
     "output_type": "stream",
     "text": [
      "2025-02-07 15:01:12,549 - CRDS - INFO -  Fetching  /home/runner/crds/mappings/jwst/jwst_miri_pars-whitelightstep_0003.rmap      912 bytes  (143 / 202 files) (603.2 K / 722.8 K bytes)\n"
     ]
    },
    {
     "name": "stderr",
     "output_type": "stream",
     "text": [
      "2025-02-07 15:01:12,619 - CRDS - INFO -  Fetching  /home/runner/crds/mappings/jwst/jwst_miri_pars-tweakregstep_0003.rmap    1.8 K bytes  (144 / 202 files) (604.1 K / 722.8 K bytes)\n"
     ]
    },
    {
     "name": "stderr",
     "output_type": "stream",
     "text": [
      "2025-02-07 15:01:12,701 - CRDS - INFO -  Fetching  /home/runner/crds/mappings/jwst/jwst_miri_pars-spec3pipeline_0009.rmap      816 bytes  (145 / 202 files) (605.9 K / 722.8 K bytes)\n"
     ]
    },
    {
     "name": "stderr",
     "output_type": "stream",
     "text": [
      "2025-02-07 15:01:12,772 - CRDS - INFO -  Fetching  /home/runner/crds/mappings/jwst/jwst_miri_pars-spec2pipeline_0012.rmap    1.3 K bytes  (146 / 202 files) (606.7 K / 722.8 K bytes)\n"
     ]
    },
    {
     "name": "stderr",
     "output_type": "stream",
     "text": [
      "2025-02-07 15:01:12,841 - CRDS - INFO -  Fetching  /home/runner/crds/mappings/jwst/jwst_miri_pars-sourcecatalogstep_0003.rmap    1.9 K bytes  (147 / 202 files) (608.0 K / 722.8 K bytes)\n"
     ]
    },
    {
     "name": "stderr",
     "output_type": "stream",
     "text": [
      "2025-02-07 15:01:12,911 - CRDS - INFO -  Fetching  /home/runner/crds/mappings/jwst/jwst_miri_pars-resamplestep_0002.rmap      677 bytes  (148 / 202 files) (610.0 K / 722.8 K bytes)\n"
     ]
    },
    {
     "name": "stderr",
     "output_type": "stream",
     "text": [
      "2025-02-07 15:01:12,984 - CRDS - INFO -  Fetching  /home/runner/crds/mappings/jwst/jwst_miri_pars-resamplespecstep_0002.rmap      706 bytes  (149 / 202 files) (610.6 K / 722.8 K bytes)\n"
     ]
    },
    {
     "name": "stderr",
     "output_type": "stream",
     "text": [
      "2025-02-07 15:01:13,053 - CRDS - INFO -  Fetching  /home/runner/crds/mappings/jwst/jwst_miri_pars-outlierdetectionstep_0017.rmap    3.4 K bytes  (150 / 202 files) (611.3 K / 722.8 K bytes)\n"
     ]
    },
    {
     "name": "stderr",
     "output_type": "stream",
     "text": [
      "2025-02-07 15:01:13,122 - CRDS - INFO -  Fetching  /home/runner/crds/mappings/jwst/jwst_miri_pars-jumpstep_0011.rmap    1.6 K bytes  (151 / 202 files) (614.7 K / 722.8 K bytes)\n"
     ]
    },
    {
     "name": "stderr",
     "output_type": "stream",
     "text": [
      "2025-02-07 15:01:13,190 - CRDS - INFO -  Fetching  /home/runner/crds/mappings/jwst/jwst_miri_pars-image2pipeline_0007.rmap      983 bytes  (152 / 202 files) (616.3 K / 722.8 K bytes)\n"
     ]
    },
    {
     "name": "stderr",
     "output_type": "stream",
     "text": [
      "2025-02-07 15:01:13,258 - CRDS - INFO -  Fetching  /home/runner/crds/mappings/jwst/jwst_miri_pars-extract1dstep_0003.rmap      807 bytes  (153 / 202 files) (617.3 K / 722.8 K bytes)\n"
     ]
    },
    {
     "name": "stderr",
     "output_type": "stream",
     "text": [
      "2025-02-07 15:01:13,332 - CRDS - INFO -  Fetching  /home/runner/crds/mappings/jwst/jwst_miri_pars-emicorrstep_0003.rmap      796 bytes  (154 / 202 files) (618.1 K / 722.8 K bytes)\n"
     ]
    },
    {
     "name": "stderr",
     "output_type": "stream",
     "text": [
      "2025-02-07 15:01:13,403 - CRDS - INFO -  Fetching  /home/runner/crds/mappings/jwst/jwst_miri_pars-detector1pipeline_0010.rmap    1.6 K bytes  (155 / 202 files) (618.9 K / 722.8 K bytes)\n"
     ]
    },
    {
     "name": "stderr",
     "output_type": "stream",
     "text": [
      "2025-02-07 15:01:13,486 - CRDS - INFO -  Fetching  /home/runner/crds/mappings/jwst/jwst_miri_pars-darkpipeline_0002.rmap      860 bytes  (156 / 202 files) (620.5 K / 722.8 K bytes)\n"
     ]
    },
    {
     "name": "stderr",
     "output_type": "stream",
     "text": [
      "2025-02-07 15:01:13,568 - CRDS - INFO -  Fetching  /home/runner/crds/mappings/jwst/jwst_miri_pars-darkcurrentstep_0002.rmap      683 bytes  (157 / 202 files) (621.3 K / 722.8 K bytes)\n"
     ]
    },
    {
     "name": "stderr",
     "output_type": "stream",
     "text": [
      "2025-02-07 15:01:13,641 - CRDS - INFO -  Fetching  /home/runner/crds/mappings/jwst/jwst_miri_mrsxartcorr_0002.rmap    2.2 K bytes  (158 / 202 files) (622.0 K / 722.8 K bytes)\n"
     ]
    },
    {
     "name": "stderr",
     "output_type": "stream",
     "text": [
      "2025-02-07 15:01:13,713 - CRDS - INFO -  Fetching  /home/runner/crds/mappings/jwst/jwst_miri_mrsptcorr_0005.rmap    2.0 K bytes  (159 / 202 files) (624.1 K / 722.8 K bytes)\n"
     ]
    },
    {
     "name": "stderr",
     "output_type": "stream",
     "text": [
      "2025-02-07 15:01:13,786 - CRDS - INFO -  Fetching  /home/runner/crds/mappings/jwst/jwst_miri_mask_0023.rmap    3.5 K bytes  (160 / 202 files) (626.1 K / 722.8 K bytes)\n"
     ]
    },
    {
     "name": "stderr",
     "output_type": "stream",
     "text": [
      "2025-02-07 15:01:13,879 - CRDS - INFO -  Fetching  /home/runner/crds/mappings/jwst/jwst_miri_linearity_0018.rmap    2.8 K bytes  (161 / 202 files) (629.6 K / 722.8 K bytes)\n"
     ]
    },
    {
     "name": "stderr",
     "output_type": "stream",
     "text": [
      "2025-02-07 15:01:13,952 - CRDS - INFO -  Fetching  /home/runner/crds/mappings/jwst/jwst_miri_ipc_0008.rmap      700 bytes  (162 / 202 files) (632.4 K / 722.8 K bytes)\n"
     ]
    },
    {
     "name": "stderr",
     "output_type": "stream",
     "text": [
      "2025-02-07 15:01:14,022 - CRDS - INFO -  Fetching  /home/runner/crds/mappings/jwst/jwst_miri_gain_0013.rmap    3.9 K bytes  (163 / 202 files) (633.1 K / 722.8 K bytes)\n"
     ]
    },
    {
     "name": "stderr",
     "output_type": "stream",
     "text": [
      "2025-02-07 15:01:14,094 - CRDS - INFO -  Fetching  /home/runner/crds/mappings/jwst/jwst_miri_fringefreq_0003.rmap    1.4 K bytes  (164 / 202 files) (637.0 K / 722.8 K bytes)\n"
     ]
    },
    {
     "name": "stderr",
     "output_type": "stream",
     "text": [
      "2025-02-07 15:01:14,175 - CRDS - INFO -  Fetching  /home/runner/crds/mappings/jwst/jwst_miri_fringe_0019.rmap    3.9 K bytes  (165 / 202 files) (638.5 K / 722.8 K bytes)\n"
     ]
    },
    {
     "name": "stderr",
     "output_type": "stream",
     "text": [
      "2025-02-07 15:01:14,247 - CRDS - INFO -  Fetching  /home/runner/crds/mappings/jwst/jwst_miri_flat_0065.rmap   15.5 K bytes  (166 / 202 files) (642.4 K / 722.8 K bytes)\n"
     ]
    },
    {
     "name": "stderr",
     "output_type": "stream",
     "text": [
      "2025-02-07 15:01:14,330 - CRDS - INFO -  Fetching  /home/runner/crds/mappings/jwst/jwst_miri_filteroffset_0025.rmap    2.5 K bytes  (167 / 202 files) (657.9 K / 722.8 K bytes)\n"
     ]
    },
    {
     "name": "stderr",
     "output_type": "stream",
     "text": [
      "2025-02-07 15:01:14,411 - CRDS - INFO -  Fetching  /home/runner/crds/mappings/jwst/jwst_miri_extract1d_0020.rmap    1.4 K bytes  (168 / 202 files) (660.4 K / 722.8 K bytes)\n"
     ]
    },
    {
     "name": "stderr",
     "output_type": "stream",
     "text": [
      "2025-02-07 15:01:14,482 - CRDS - INFO -  Fetching  /home/runner/crds/mappings/jwst/jwst_miri_emicorr_0003.rmap      663 bytes  (169 / 202 files) (661.7 K / 722.8 K bytes)\n"
     ]
    },
    {
     "name": "stderr",
     "output_type": "stream",
     "text": [
      "2025-02-07 15:01:14,563 - CRDS - INFO -  Fetching  /home/runner/crds/mappings/jwst/jwst_miri_drizpars_0002.rmap      511 bytes  (170 / 202 files) (662.4 K / 722.8 K bytes)\n"
     ]
    },
    {
     "name": "stderr",
     "output_type": "stream",
     "text": [
      "2025-02-07 15:01:14,634 - CRDS - INFO -  Fetching  /home/runner/crds/mappings/jwst/jwst_miri_distortion_0040.rmap    4.9 K bytes  (171 / 202 files) (662.9 K / 722.8 K bytes)\n"
     ]
    },
    {
     "name": "stderr",
     "output_type": "stream",
     "text": [
      "2025-02-07 15:01:14,705 - CRDS - INFO -  Fetching  /home/runner/crds/mappings/jwst/jwst_miri_dark_0036.rmap    4.4 K bytes  (172 / 202 files) (667.8 K / 722.8 K bytes)\n"
     ]
    },
    {
     "name": "stderr",
     "output_type": "stream",
     "text": [
      "2025-02-07 15:01:14,778 - CRDS - INFO -  Fetching  /home/runner/crds/mappings/jwst/jwst_miri_cubepar_0017.rmap      800 bytes  (173 / 202 files) (672.2 K / 722.8 K bytes)\n"
     ]
    },
    {
     "name": "stderr",
     "output_type": "stream",
     "text": [
      "2025-02-07 15:01:14,848 - CRDS - INFO -  Fetching  /home/runner/crds/mappings/jwst/jwst_miri_area_0015.rmap      866 bytes  (174 / 202 files) (673.0 K / 722.8 K bytes)\n"
     ]
    },
    {
     "name": "stderr",
     "output_type": "stream",
     "text": [
      "2025-02-07 15:01:14,929 - CRDS - INFO -  Fetching  /home/runner/crds/mappings/jwst/jwst_miri_apcorr_0019.rmap    5.0 K bytes  (175 / 202 files) (673.8 K / 722.8 K bytes)\n"
     ]
    },
    {
     "name": "stderr",
     "output_type": "stream",
     "text": [
      "2025-02-07 15:01:15,001 - CRDS - INFO -  Fetching  /home/runner/crds/mappings/jwst/jwst_miri_abvegaoffset_0003.rmap    1.3 K bytes  (176 / 202 files) (678.8 K / 722.8 K bytes)\n"
     ]
    },
    {
     "name": "stderr",
     "output_type": "stream",
     "text": [
      "2025-02-07 15:01:15,075 - CRDS - INFO -  Fetching  /home/runner/crds/mappings/jwst/jwst_miri_0423.imap        5.8 K bytes  (177 / 202 files) (680.1 K / 722.8 K bytes)\n"
     ]
    },
    {
     "name": "stderr",
     "output_type": "stream",
     "text": [
      "2025-02-07 15:01:15,146 - CRDS - INFO -  Fetching  /home/runner/crds/mappings/jwst/jwst_fgs_trappars_0004.rmap      903 bytes  (178 / 202 files) (685.9 K / 722.8 K bytes)\n"
     ]
    },
    {
     "name": "stderr",
     "output_type": "stream",
     "text": [
      "2025-02-07 15:01:15,217 - CRDS - INFO -  Fetching  /home/runner/crds/mappings/jwst/jwst_fgs_trapdensity_0006.rmap      930 bytes  (179 / 202 files) (686.8 K / 722.8 K bytes)\n"
     ]
    },
    {
     "name": "stderr",
     "output_type": "stream",
     "text": [
      "2025-02-07 15:01:15,302 - CRDS - INFO -  Fetching  /home/runner/crds/mappings/jwst/jwst_fgs_superbias_0017.rmap    3.8 K bytes  (180 / 202 files) (687.8 K / 722.8 K bytes)\n"
     ]
    },
    {
     "name": "stderr",
     "output_type": "stream",
     "text": [
      "2025-02-07 15:01:15,386 - CRDS - INFO -  Fetching  /home/runner/crds/mappings/jwst/jwst_fgs_saturation_0009.rmap      779 bytes  (181 / 202 files) (691.5 K / 722.8 K bytes)\n"
     ]
    },
    {
     "name": "stderr",
     "output_type": "stream",
     "text": [
      "2025-02-07 15:01:15,461 - CRDS - INFO -  Fetching  /home/runner/crds/mappings/jwst/jwst_fgs_readnoise_0011.rmap    1.3 K bytes  (182 / 202 files) (692.3 K / 722.8 K bytes)\n"
     ]
    },
    {
     "name": "stderr",
     "output_type": "stream",
     "text": [
      "2025-02-07 15:01:15,535 - CRDS - INFO -  Fetching  /home/runner/crds/mappings/jwst/jwst_fgs_photom_0014.rmap    1.1 K bytes  (183 / 202 files) (693.6 K / 722.8 K bytes)\n"
     ]
    },
    {
     "name": "stderr",
     "output_type": "stream",
     "text": [
      "2025-02-07 15:01:15,610 - CRDS - INFO -  Fetching  /home/runner/crds/mappings/jwst/jwst_fgs_persat_0006.rmap      884 bytes  (184 / 202 files) (694.7 K / 722.8 K bytes)\n"
     ]
    },
    {
     "name": "stderr",
     "output_type": "stream",
     "text": [
      "2025-02-07 15:01:15,686 - CRDS - INFO -  Fetching  /home/runner/crds/mappings/jwst/jwst_fgs_pars-tweakregstep_0002.rmap      850 bytes  (185 / 202 files) (695.6 K / 722.8 K bytes)\n"
     ]
    },
    {
     "name": "stderr",
     "output_type": "stream",
     "text": [
      "2025-02-07 15:01:15,759 - CRDS - INFO -  Fetching  /home/runner/crds/mappings/jwst/jwst_fgs_pars-sourcecatalogstep_0001.rmap      636 bytes  (186 / 202 files) (696.4 K / 722.8 K bytes)\n"
     ]
    },
    {
     "name": "stderr",
     "output_type": "stream",
     "text": [
      "2025-02-07 15:01:15,829 - CRDS - INFO -  Fetching  /home/runner/crds/mappings/jwst/jwst_fgs_pars-outlierdetectionstep_0001.rmap      654 bytes  (187 / 202 files) (697.1 K / 722.8 K bytes)\n"
     ]
    },
    {
     "name": "stderr",
     "output_type": "stream",
     "text": [
      "2025-02-07 15:01:15,899 - CRDS - INFO -  Fetching  /home/runner/crds/mappings/jwst/jwst_fgs_pars-image2pipeline_0005.rmap      974 bytes  (188 / 202 files) (697.7 K / 722.8 K bytes)\n"
     ]
    },
    {
     "name": "stderr",
     "output_type": "stream",
     "text": [
      "2025-02-07 15:01:15,971 - CRDS - INFO -  Fetching  /home/runner/crds/mappings/jwst/jwst_fgs_pars-detector1pipeline_0002.rmap    1.0 K bytes  (189 / 202 files) (698.7 K / 722.8 K bytes)\n"
     ]
    },
    {
     "name": "stderr",
     "output_type": "stream",
     "text": [
      "2025-02-07 15:01:16,053 - CRDS - INFO -  Fetching  /home/runner/crds/mappings/jwst/jwst_fgs_pars-darkpipeline_0002.rmap      856 bytes  (190 / 202 files) (699.7 K / 722.8 K bytes)\n"
     ]
    },
    {
     "name": "stderr",
     "output_type": "stream",
     "text": [
      "2025-02-07 15:01:16,122 - CRDS - INFO -  Fetching  /home/runner/crds/mappings/jwst/jwst_fgs_mask_0023.rmap    1.1 K bytes  (191 / 202 files) (700.6 K / 722.8 K bytes)\n"
     ]
    },
    {
     "name": "stderr",
     "output_type": "stream",
     "text": [
      "2025-02-07 15:01:16,192 - CRDS - INFO -  Fetching  /home/runner/crds/mappings/jwst/jwst_fgs_linearity_0015.rmap      925 bytes  (192 / 202 files) (701.6 K / 722.8 K bytes)\n"
     ]
    },
    {
     "name": "stderr",
     "output_type": "stream",
     "text": [
      "2025-02-07 15:01:16,268 - CRDS - INFO -  Fetching  /home/runner/crds/mappings/jwst/jwst_fgs_ipc_0003.rmap       614 bytes  (193 / 202 files) (702.6 K / 722.8 K bytes)\n"
     ]
    },
    {
     "name": "stderr",
     "output_type": "stream",
     "text": [
      "2025-02-07 15:01:16,340 - CRDS - INFO -  Fetching  /home/runner/crds/mappings/jwst/jwst_fgs_gain_0010.rmap      890 bytes  (194 / 202 files) (703.2 K / 722.8 K bytes)\n"
     ]
    },
    {
     "name": "stderr",
     "output_type": "stream",
     "text": [
      "2025-02-07 15:01:16,419 - CRDS - INFO -  Fetching  /home/runner/crds/mappings/jwst/jwst_fgs_flat_0009.rmap    1.1 K bytes  (195 / 202 files) (704.1 K / 722.8 K bytes)\n"
     ]
    },
    {
     "name": "stderr",
     "output_type": "stream",
     "text": [
      "2025-02-07 15:01:16,491 - CRDS - INFO -  Fetching  /home/runner/crds/mappings/jwst/jwst_fgs_distortion_0011.rmap    1.2 K bytes  (196 / 202 files) (705.2 K / 722.8 K bytes)\n"
     ]
    },
    {
     "name": "stderr",
     "output_type": "stream",
     "text": [
      "2025-02-07 15:01:16,563 - CRDS - INFO -  Fetching  /home/runner/crds/mappings/jwst/jwst_fgs_dark_0017.rmap    4.3 K bytes  (197 / 202 files) (706.4 K / 722.8 K bytes)\n"
     ]
    },
    {
     "name": "stderr",
     "output_type": "stream",
     "text": [
      "2025-02-07 15:01:16,633 - CRDS - INFO -  Fetching  /home/runner/crds/mappings/jwst/jwst_fgs_area_0010.rmap    1.2 K bytes  (198 / 202 files) (710.7 K / 722.8 K bytes)\n"
     ]
    },
    {
     "name": "stderr",
     "output_type": "stream",
     "text": [
      "2025-02-07 15:01:16,704 - CRDS - INFO -  Fetching  /home/runner/crds/mappings/jwst/jwst_fgs_apcorr_0004.rmap    4.0 K bytes  (199 / 202 files) (711.9 K / 722.8 K bytes)\n"
     ]
    },
    {
     "name": "stderr",
     "output_type": "stream",
     "text": [
      "2025-02-07 15:01:16,773 - CRDS - INFO -  Fetching  /home/runner/crds/mappings/jwst/jwst_fgs_abvegaoffset_0002.rmap    1.3 K bytes  (200 / 202 files) (715.8 K / 722.8 K bytes)\n"
     ]
    },
    {
     "name": "stderr",
     "output_type": "stream",
     "text": [
      "2025-02-07 15:01:16,853 - CRDS - INFO -  Fetching  /home/runner/crds/mappings/jwst/jwst_fgs_0118.imap         5.1 K bytes  (201 / 202 files) (717.1 K / 722.8 K bytes)\n"
     ]
    },
    {
     "name": "stderr",
     "output_type": "stream",
     "text": [
      "2025-02-07 15:01:16,928 - CRDS - INFO -  Fetching  /home/runner/crds/mappings/jwst/jwst_1322.pmap               580 bytes  (202 / 202 files) (722.2 K / 722.8 K bytes)\n"
     ]
    },
    {
     "name": "stderr",
     "output_type": "stream",
     "text": [
      "2025-02-07 15:01:17,387 - stpipe.AssignWcsStep - INFO - AssignWcsStep instance created.\n"
     ]
    },
    {
     "name": "stderr",
     "output_type": "stream",
     "text": [
      "2025-02-07 15:01:17,477 - stpipe.AssignWcsStep - INFO - Step AssignWcsStep running with args ('jw01076109001_02101_00001_nrcalong_rate.fits',).\n"
     ]
    },
    {
     "name": "stderr",
     "output_type": "stream",
     "text": [
      "2025-02-07 15:01:17,480 - stpipe.AssignWcsStep - INFO - Step AssignWcsStep parameters are:\n",
      "  pre_hooks: []\n",
      "  post_hooks: []\n",
      "  output_file: None\n",
      "  output_dir: None\n",
      "  output_ext: .fits\n",
      "  output_use_model: False\n",
      "  output_use_index: True\n",
      "  save_results: False\n",
      "  skip: False\n",
      "  suffix: None\n",
      "  search_output_file: True\n",
      "  input_dir: ''\n",
      "  sip_approx: True\n",
      "  sip_max_pix_error: 0.01\n",
      "  sip_degree: None\n",
      "  sip_max_inv_pix_error: 0.01\n",
      "  sip_inv_degree: None\n",
      "  sip_npoints: 12\n",
      "  slit_y_low: -0.55\n",
      "  slit_y_high: 0.55\n"
     ]
    },
    {
     "name": "stderr",
     "output_type": "stream",
     "text": [
      "2025-02-07 15:01:17,541 - CRDS - INFO -  Fetching  /home/runner/crds/references/jwst/nircam/jwst_nircam_distortion_0277.asdf   12.7 K bytes  (1 / 1 files) (0 / 12.7 K bytes)\n"
     ]
    },
    {
     "name": "stderr",
     "output_type": "stream",
     "text": [
      "2025-02-07 15:01:17,626 - CRDS - INFO -  Fetching  /home/runner/crds/references/jwst/nircam/jwst_nircam_filteroffset_0007.asdf   11.4 K bytes  (1 / 1 files) (0 / 11.4 K bytes)\n"
     ]
    },
    {
     "name": "stderr",
     "output_type": "stream",
     "text": [
      "2025-02-07 15:01:17,708 - CRDS - INFO -  Fetching  /home/runner/crds/references/jwst/nircam/jwst_nircam_specwcs_0190.asdf    9.3 K bytes  (1 / 1 files) (0 / 9.3 K bytes)\n"
     ]
    },
    {
     "name": "stderr",
     "output_type": "stream",
     "text": [
      "2025-02-07 15:01:17,795 - CRDS - INFO -  Fetching  /home/runner/crds/references/jwst/nircam/jwst_nircam_wavelengthrange_0003.asdf    2.8 K bytes  (1 / 1 files) (0 / 2.8 K bytes)\n"
     ]
    },
    {
     "name": "stderr",
     "output_type": "stream",
     "text": [
      "2025-02-07 15:01:17,994 - stpipe.AssignWcsStep - INFO - Added Barycentric velocity correction: 1.0000221368707927\n"
     ]
    },
    {
     "name": "stderr",
     "output_type": "stream",
     "text": [
      "2025-02-07 15:01:18,146 - stpipe.AssignWcsStep - INFO - COMPLETED assign_wcs\n"
     ]
    },
    {
     "name": "stderr",
     "output_type": "stream",
     "text": [
      "2025-02-07 15:01:18,148 - stpipe.AssignWcsStep - INFO - AssignWcsStep instance created.\n"
     ]
    },
    {
     "name": "stderr",
     "output_type": "stream",
     "text": [
      "2025-02-07 15:01:18,368 - CRDS - INFO -  Calibration SW Found: jwst 1.17.1 (/opt/hostedtoolcache/Python/3.11.11/x64/lib/python3.11/site-packages/jwst-1.17.1.dist-info)\n"
     ]
    },
    {
     "name": "stderr",
     "output_type": "stream",
     "text": [
      "2025-02-07 15:01:18,449 - stpipe.AssignWcsStep - INFO - Results used CRDS context: jwst_1322.pmap\n"
     ]
    },
    {
     "name": "stderr",
     "output_type": "stream",
     "text": [
      "2025-02-07 15:01:18,449 - stpipe.AssignWcsStep - INFO - Step AssignWcsStep done\n"
     ]
    },
    {
     "name": "stderr",
     "output_type": "stream",
     "text": [
      "2025-02-07 15:01:18,450 - stpipe - INFO - Results used jwst version: 1.17.1\n"
     ]
    },
    {
     "name": "stderr",
     "output_type": "stream",
     "text": [
      "2025-02-07 15:01:18,459 - stpipe.FlatFieldStep - INFO - FlatFieldStep instance created.\n"
     ]
    },
    {
     "name": "stderr",
     "output_type": "stream",
     "text": [
      "2025-02-07 15:01:18,560 - stpipe.FlatFieldStep - INFO - Step FlatFieldStep running with args (<ImageModel(2048, 2048) from jw01076109001_02101_00001_nrcalong_rate.fits>,).\n"
     ]
    },
    {
     "name": "stderr",
     "output_type": "stream",
     "text": [
      "2025-02-07 15:01:18,562 - stpipe.FlatFieldStep - INFO - Step FlatFieldStep parameters are:\n",
      "  pre_hooks: []\n",
      "  post_hooks: []\n",
      "  output_file: None\n",
      "  output_dir: None\n",
      "  output_ext: .fits\n",
      "  output_use_model: False\n",
      "  output_use_index: True\n",
      "  save_results: True\n",
      "  skip: False\n",
      "  suffix: None\n",
      "  search_output_file: True\n",
      "  input_dir: ''\n",
      "  save_interpolated_flat: False\n",
      "  user_supplied_flat: None\n",
      "  inverse: False\n"
     ]
    },
    {
     "name": "stderr",
     "output_type": "stream",
     "text": [
      "2025-02-07 15:01:18,576 - CRDS - INFO -  Fetching  /home/runner/crds/references/jwst/nircam/jwst_nircam_flat_0634.fits   50.4 M bytes  (1 / 1 files) (0 / 50.4 M bytes)\n"
     ]
    },
    {
     "name": "stderr",
     "output_type": "stream",
     "text": [
      "2025-02-07 15:01:20,521 - stpipe.FlatFieldStep - INFO - Using FLAT reference file: /home/runner/crds/references/jwst/nircam/jwst_nircam_flat_0634.fits\n"
     ]
    },
    {
     "name": "stderr",
     "output_type": "stream",
     "text": [
      "2025-02-07 15:01:20,521 - stpipe.FlatFieldStep - INFO - No reference found for type FFLAT\n"
     ]
    },
    {
     "name": "stderr",
     "output_type": "stream",
     "text": [
      "2025-02-07 15:01:20,522 - stpipe.FlatFieldStep - INFO - No reference found for type SFLAT\n"
     ]
    },
    {
     "name": "stderr",
     "output_type": "stream",
     "text": [
      "2025-02-07 15:01:20,522 - stpipe.FlatFieldStep - INFO - No reference found for type DFLAT\n"
     ]
    },
    {
     "name": "stderr",
     "output_type": "stream",
     "text": [
      "2025-02-07 15:01:20,701 - stpipe.FlatFieldStep - INFO - Results used CRDS context: jwst_1322.pmap\n"
     ]
    },
    {
     "name": "stderr",
     "output_type": "stream",
     "text": [
      "2025-02-07 15:01:20,902 - stpipe.FlatFieldStep - INFO - Saved model in jw01076109001_02101_00001_nrcalong_flatfieldstep.fits\n"
     ]
    },
    {
     "name": "stderr",
     "output_type": "stream",
     "text": [
      "2025-02-07 15:01:20,903 - stpipe.FlatFieldStep - INFO - Step FlatFieldStep done\n"
     ]
    },
    {
     "name": "stderr",
     "output_type": "stream",
     "text": [
      "2025-02-07 15:01:20,903 - stpipe - INFO - Results used jwst version: 1.17.1\n"
     ]
    },
    {
     "name": "stderr",
     "output_type": "stream",
     "text": [
      "2025-02-07 15:01:20,912 - stpipe.PhotomStep - INFO - PhotomStep instance created.\n"
     ]
    },
    {
     "name": "stderr",
     "output_type": "stream",
     "text": [
      "2025-02-07 15:01:21,016 - stpipe.PhotomStep - INFO - Step PhotomStep running with args (<ImageModel(2048, 2048) from jw01076109001_02101_00001_nrcalong_flatfieldstep.fits>,).\n"
     ]
    },
    {
     "name": "stderr",
     "output_type": "stream",
     "text": [
      "2025-02-07 15:01:21,019 - stpipe.PhotomStep - INFO - Step PhotomStep parameters are:\n",
      "  pre_hooks: []\n",
      "  post_hooks: []\n",
      "  output_file: None\n",
      "  output_dir: None\n",
      "  output_ext: .fits\n",
      "  output_use_model: False\n",
      "  output_use_index: True\n",
      "  save_results: True\n",
      "  skip: False\n",
      "  suffix: None\n",
      "  search_output_file: True\n",
      "  input_dir: ''\n",
      "  inverse: False\n",
      "  source_type: None\n",
      "  mrs_time_correction: True\n"
     ]
    },
    {
     "name": "stderr",
     "output_type": "stream",
     "text": [
      "2025-02-07 15:01:21,033 - CRDS - INFO -  Fetching  /home/runner/crds/references/jwst/nircam/jwst_nircam_photom_0162.fits    1.7 M bytes  (1 / 1 files) (0 / 1.7 M bytes)\n"
     ]
    },
    {
     "name": "stderr",
     "output_type": "stream",
     "text": [
      "2025-02-07 15:01:21,196 - stpipe.PhotomStep - INFO - Using photom reference file: /home/runner/crds/references/jwst/nircam/jwst_nircam_photom_0162.fits\n"
     ]
    },
    {
     "name": "stderr",
     "output_type": "stream",
     "text": [
      "2025-02-07 15:01:21,196 - stpipe.PhotomStep - INFO - Using area reference file: N/A\n"
     ]
    },
    {
     "name": "stderr",
     "output_type": "stream",
     "text": [
      "2025-02-07 15:01:21,250 - stpipe.PhotomStep - INFO - Using instrument: NIRCAM\n"
     ]
    },
    {
     "name": "stderr",
     "output_type": "stream",
     "text": [
      "2025-02-07 15:01:21,251 - stpipe.PhotomStep - INFO -  detector: NRCALONG\n"
     ]
    },
    {
     "name": "stderr",
     "output_type": "stream",
     "text": [
      "2025-02-07 15:01:21,251 - stpipe.PhotomStep - INFO -  exp_type: NRC_WFSS\n"
     ]
    },
    {
     "name": "stderr",
     "output_type": "stream",
     "text": [
      "2025-02-07 15:01:21,252 - stpipe.PhotomStep - INFO -  filter: F444W\n"
     ]
    },
    {
     "name": "stderr",
     "output_type": "stream",
     "text": [
      "2025-02-07 15:01:21,252 - stpipe.PhotomStep - INFO -  pupil: CLEAR\n"
     ]
    },
    {
     "name": "stderr",
     "output_type": "stream",
     "text": [
      "2025-02-07 15:01:21,274 - stpipe.PhotomStep - INFO - Attempting to obtain PIXAR_SR and PIXAR_A2 values from PHOTOM reference file.\n"
     ]
    },
    {
     "name": "stderr",
     "output_type": "stream",
     "text": [
      "2025-02-07 15:01:21,274 - stpipe.PhotomStep - INFO - Values for PIXAR_SR and PIXAR_A2 obtained from PHOTOM reference file.\n"
     ]
    },
    {
     "name": "stderr",
     "output_type": "stream",
     "text": [
      "2025-02-07 15:01:21,276 - stpipe.PhotomStep - WARNING - Expected to find one matching row in table, found 0.\n"
     ]
    },
    {
     "name": "stderr",
     "output_type": "stream",
     "text": [
      "2025-02-07 15:01:21,278 - stpipe.PhotomStep - INFO - Results used CRDS context: jwst_1322.pmap\n"
     ]
    },
    {
     "name": "stderr",
     "output_type": "stream",
     "text": [
      "2025-02-07 15:01:21,470 - stpipe.PhotomStep - INFO - Saved model in jw01076109001_02101_00001_nrcalong_photomstep.fits\n"
     ]
    },
    {
     "name": "stderr",
     "output_type": "stream",
     "text": [
      "2025-02-07 15:01:21,471 - stpipe.PhotomStep - INFO - Step PhotomStep done\n"
     ]
    },
    {
     "name": "stderr",
     "output_type": "stream",
     "text": [
      "2025-02-07 15:01:21,472 - stpipe - INFO - Results used jwst version: 1.17.1\n"
     ]
    }
   ],
   "source": [
    "# Run AssignWcsStep, FlatFieldStep, and PhotomStep on the WFSS rate file\n",
    "wfss_file, wfss_data = run_pipeline_steps(wfss_file)\n",
    "\n",
    "# Extract the WFSS pixel data from the datamodel instance\n",
    "wfss_data = wfss_data.data"
   ]
  },
  {
   "cell_type": "code",
   "execution_count": 9,
   "id": "fb9917aa-cd94-478e-b630-038f8222eff1",
   "metadata": {
    "execution": {
     "iopub.execute_input": "2025-02-07T15:01:21.701875Z",
     "iopub.status.busy": "2025-02-07T15:01:21.701519Z",
     "iopub.status.idle": "2025-02-07T15:01:21.704769Z",
     "shell.execute_reply": "2025-02-07T15:01:21.704204Z"
    }
   },
   "outputs": [
    {
     "name": "stdout",
     "output_type": "stream",
     "text": [
      "Pipeline-processed WFSS file is jw01076109001_02101_00001_nrcalong_photomstep.fits\n"
     ]
    }
   ],
   "source": [
    "print(f\"Pipeline-processed WFSS file is {wfss_file}\")"
   ]
  },
  {
   "cell_type": "markdown",
   "id": "cb9657fa-5887-4b02-8d03-a812c1c7c4bb",
   "metadata": {},
   "source": [
    "Read some information from the imaging data and WFSS data. We need to know which module, channel, cross filter, and grism we are looking at. We also need to find the values needed to convert the surface brightness units of the imaging cal files into units of $erg/s/cm^2/A$"
   ]
  },
  {
   "cell_type": "code",
   "execution_count": 10,
   "id": "e77d61b5-6f43-42ec-b8d4-d53de60bc6b5",
   "metadata": {
    "execution": {
     "iopub.execute_input": "2025-02-07T15:01:21.706621Z",
     "iopub.status.busy": "2025-02-07T15:01:21.706209Z",
     "iopub.status.idle": "2025-02-07T15:01:21.714664Z",
     "shell.execute_reply": "2025-02-07T15:01:21.714102Z"
    }
   },
   "outputs": [],
   "source": [
    "img_hdr0 = fits.getheader(imaging_file, 0)\n",
    "img_hdr1 = fits.getheader(imaging_file, 1)\n",
    "wfss_hdr = fits.getheader(wfss_file)"
   ]
  },
  {
   "cell_type": "code",
   "execution_count": 11,
   "id": "3ee73119-514e-448c-9d4d-014cc0352ec5",
   "metadata": {
    "execution": {
     "iopub.execute_input": "2025-02-07T15:01:21.716559Z",
     "iopub.status.busy": "2025-02-07T15:01:21.716148Z",
     "iopub.status.idle": "2025-02-07T15:01:21.719790Z",
     "shell.execute_reply": "2025-02-07T15:01:21.719224Z"
    }
   },
   "outputs": [
    {
     "name": "stdout",
     "output_type": "stream",
     "text": [
      "IMAGING FILTER: F444W, MODULE: A, PUPIL: CLEAR, Sise of pixel: 9.30255546804624e-14 steradians\n"
     ]
    }
   ],
   "source": [
    "FILTER = img_hdr0[\"FILTER\"]\n",
    "MODULE = img_hdr0[\"MODULE\"]\n",
    "PUPIL = img_hdr0[\"PUPIL\"]\n",
    "PIXAR_SR = img_hdr1[\"PIXAR_SR\"]\n",
    "print(f\"IMAGING FILTER: {FILTER}, MODULE: {MODULE}, PUPIL: {PUPIL}, Sise of pixel: {PIXAR_SR} steradians\")"
   ]
  },
  {
   "cell_type": "code",
   "execution_count": 12,
   "id": "e8ac7611-7d83-4a65-a1d2-3ed5dabc52b3",
   "metadata": {
    "execution": {
     "iopub.execute_input": "2025-02-07T15:01:21.721417Z",
     "iopub.status.busy": "2025-02-07T15:01:21.721133Z",
     "iopub.status.idle": "2025-02-07T15:01:21.724502Z",
     "shell.execute_reply": "2025-02-07T15:01:21.723948Z"
    }
   },
   "outputs": [
    {
     "name": "stdout",
     "output_type": "stream",
     "text": [
      "WFSS FILTER: F444W, MODULE: A, PUPIL: GRISMR\n"
     ]
    }
   ],
   "source": [
    "FILTER = wfss_hdr[\"FILTER\"]\n",
    "MODULE = wfss_hdr[\"MODULE\"]\n",
    "PUPIL = wfss_hdr[\"PUPIL\"]\n",
    "print(f\"WFSS FILTER: {FILTER}, MODULE: {MODULE}, PUPIL: {PUPIL}\")"
   ]
  },
  {
   "cell_type": "markdown",
   "id": "130b67f2-8b90-4ce6-848e-cd3b80e1b4ae",
   "metadata": {},
   "source": [
    "Note that in this simple example, the imaging and WFSS data use the same cross filter and are of course using the same NIRCam module"
   ]
  },
  {
   "cell_type": "markdown",
   "id": "6ecf1fea-da1c-40df-958a-ca5a7fbe3516",
   "metadata": {},
   "source": [
    "Compute the conversion between pixel values in the imaging data, which are in MJy/sr, and $F_{\\lambda}$ units of $erg/s/cm^2/A$ (per pixel). Multiplying the values in our cal imaging file by this value (called PHOTFLAM) is all we will need to determine the $F_{\\lambda}$ values of each of the pixels in an object detected in our imaging data"
   ]
  },
  {
   "cell_type": "markdown",
   "id": "e72beddf-3b68-4553-aa0c-119b72d23ed5",
   "metadata": {},
   "source": [
    "NIRCam filter pivot wavelengths are listd in Tables 2 and 3 on the <a href=\"https://jwst-docs.stsci.edu/jwst-near-infrared-camera/nircam-instrumentation/nircam-filters#gsc.tab=0\">NIRCam Filters</a> J"
   ]
  },
  {
   "cell_type": "code",
   "execution_count": 13,
   "id": "0b813f77-6b2a-4d02-be05-9ba1126db450",
   "metadata": {
    "execution": {
     "iopub.execute_input": "2025-02-07T15:01:21.726632Z",
     "iopub.status.busy": "2025-02-07T15:01:21.726276Z",
     "iopub.status.idle": "2025-02-07T15:01:21.729159Z",
     "shell.execute_reply": "2025-02-07T15:01:21.728718Z"
    }
   },
   "outputs": [
    {
     "name": "stdout",
     "output_type": "stream",
     "text": [
      "PHOTFLAM is 1.4398775684008399e-21\n"
     ]
    }
   ],
   "source": [
    "Pivot_wavelength = 44010  # Angstroms\n",
    "PHOTFLAM = 1e6 * PIXAR_SR / 3.3356e4 / Pivot_wavelength**2\n",
    "print(f'PHOTFLAM is {PHOTFLAM}')"
   ]
  },
  {
   "cell_type": "markdown",
   "id": "b8ca3871-5725-45d1-882e-3b9729eb231d",
   "metadata": {},
   "source": [
    "## Detect Sources"
   ]
  },
  {
   "cell_type": "markdown",
   "id": "6fe48690-846d-4dab-891e-66b57a9ce55f",
   "metadata": {},
   "source": [
    "Since we want to disperse each pixel comprising a given source, we first need to get a segmentation map of all the objects in the image. We follow the general method presented in photutils' <a href=\"https://photutils.readthedocs.io/en/stable/api/photutils.segmentation.detect_sources.html\">detect_sources() function documentation</a> to create the segmentation map. "
   ]
  },
  {
   "cell_type": "code",
   "execution_count": 14,
   "id": "b7108ee3",
   "metadata": {
    "execution": {
     "iopub.execute_input": "2025-02-07T15:01:21.730990Z",
     "iopub.status.busy": "2025-02-07T15:01:21.730667Z",
     "iopub.status.idle": "2025-02-07T15:01:21.738682Z",
     "shell.execute_reply": "2025-02-07T15:01:21.738141Z"
    }
   },
   "outputs": [],
   "source": [
    "imaging_data = fits.getdata(imaging_file)"
   ]
  },
  {
   "cell_type": "code",
   "execution_count": 15,
   "id": "19ef7f11",
   "metadata": {
    "execution": {
     "iopub.execute_input": "2025-02-07T15:01:21.740663Z",
     "iopub.status.busy": "2025-02-07T15:01:21.740196Z",
     "iopub.status.idle": "2025-02-07T15:01:22.368705Z",
     "shell.execute_reply": "2025-02-07T15:01:22.368144Z"
    }
   },
   "outputs": [
    {
     "name": "stderr",
     "output_type": "stream",
     "text": [
      "2025-02-07 15:01:21,745 - stpipe - WARNING - /opt/hostedtoolcache/Python/3.11.11/x64/lib/python3.11/site-packages/photutils/background/background_2d.py:365: AstropyUserWarning: Input data contains invalid values (NaNs or infs), which were automatically masked.\n",
      "  warnings.warn(msg, AstropyUserWarning)\n",
      "\n"
     ]
    }
   ],
   "source": [
    "# Create a 2D background model of the scene, and subtract\n",
    "bkg_estimator = MedianBackground()\n",
    "bkg = Background2D(imaging_data, (50, 50), filter_size=(21, 31), bkg_estimator=bkg_estimator)\n",
    "imaging_data -= bkg.background "
   ]
  },
  {
   "cell_type": "code",
   "execution_count": 16,
   "id": "6f74bb26",
   "metadata": {
    "execution": {
     "iopub.execute_input": "2025-02-07T15:01:22.370680Z",
     "iopub.status.busy": "2025-02-07T15:01:22.370498Z",
     "iopub.status.idle": "2025-02-07T15:01:22.700973Z",
     "shell.execute_reply": "2025-02-07T15:01:22.700401Z"
    }
   },
   "outputs": [],
   "source": [
    "# Use the RMS of the background to set the threshold value for source detection\n",
    "threshold = 50 * bkg.background_rms"
   ]
  },
  {
   "cell_type": "code",
   "execution_count": 17,
   "id": "c76bf196",
   "metadata": {
    "execution": {
     "iopub.execute_input": "2025-02-07T15:01:22.703127Z",
     "iopub.status.busy": "2025-02-07T15:01:22.702737Z",
     "iopub.status.idle": "2025-02-07T15:01:23.094451Z",
     "shell.execute_reply": "2025-02-07T15:01:23.093890Z"
    }
   },
   "outputs": [
    {
     "name": "stderr",
     "output_type": "stream",
     "text": [
      "2025-02-07 15:01:23,089 - stpipe - WARNING - /opt/hostedtoolcache/Python/3.11.11/x64/lib/python3.11/site-packages/astropy/convolution/convolve.py:426: AstropyUserWarning: nan_treatment='interpolate', however, NaN values detected post convolution. A contiguous region of NaN values, larger than the kernel size, are present in the input array. Increase the kernel size to avoid this.\n",
      "  warnings.warn(\n",
      "\n"
     ]
    }
   ],
   "source": [
    "# Convolve the image with a 2D Gaussian kernel\n",
    "kernel = make_2dgaussian_kernel(3.0, size=5)\n",
    "convolved_data = convolve(imaging_data, kernel)"
   ]
  },
  {
   "cell_type": "code",
   "execution_count": 18,
   "id": "1f1d9dfd",
   "metadata": {
    "execution": {
     "iopub.execute_input": "2025-02-07T15:01:23.096483Z",
     "iopub.status.busy": "2025-02-07T15:01:23.096106Z",
     "iopub.status.idle": "2025-02-07T15:01:23.134967Z",
     "shell.execute_reply": "2025-02-07T15:01:23.134416Z"
    }
   },
   "outputs": [],
   "source": [
    "# Detect the sources in the imaging data\n",
    "segment_map = detect_sources(convolved_data, threshold, npixels=10)"
   ]
  },
  {
   "cell_type": "markdown",
   "id": "f853775b-a005-4eac-8152-c40efe4a57ef",
   "metadata": {},
   "source": [
    "Below we see that the segmentation map shows a large number of sources spread across the detector."
   ]
  },
  {
   "cell_type": "code",
   "execution_count": 19,
   "id": "337cecc5",
   "metadata": {
    "execution": {
     "iopub.execute_input": "2025-02-07T15:01:23.136953Z",
     "iopub.status.busy": "2025-02-07T15:01:23.136776Z",
     "iopub.status.idle": "2025-02-07T15:01:23.835754Z",
     "shell.execute_reply": "2025-02-07T15:01:23.835161Z"
    }
   },
   "outputs": [
    {
     "data": {
      "text/plain": [
       "<matplotlib.image.AxesImage at 0x7f4f60956a10>"
      ]
     },
     "execution_count": 19,
     "metadata": {},
     "output_type": "execute_result"
    },
    {
     "data": {
      "image/png": "[encoded data removed]",
      "text/plain": [
       "<Figure size 640x480 with 1 Axes>"
      ]
     },
     "metadata": {},
     "output_type": "display_data"
    }
   ],
   "source": [
    "# Show the segmentation map\n",
    "plt.imshow(segment_map, origin=\"lower\", vmin=1, vmax=2)"
   ]
  },
  {
   "cell_type": "markdown",
   "id": "61bda00d-ac3e-4f04-bbdf-e2897b0a34ae",
   "metadata": {},
   "source": [
    "## Simulate spectrum of one source"
   ]
  },
  {
   "cell_type": "markdown",
   "id": "8a09951e-1dde-4eca-b4bf-c3f8e513f603",
   "metadata": {},
   "source": [
    "Here, we show how to simulate the dispersion of only one source. In order to simulate a full WFSS observation, what we show here needs to be done for every sourece in the field. Simulating all the dispersed spectra is also a way to mask out spectra when estimating the dispersed background level during subsequent extraction and it also allows for an estimate of the amount of spectral contamination by overlapping spectra."
   ]
  },
  {
   "cell_type": "markdown",
   "id": "8058f79b-886c-4049-8be8-53e460cd7365",
   "metadata": {},
   "source": [
    "For this example, we choose the source at coordinates (x,y) = (405,1465) and show how to simulate its spectrum.\n",
    "\n",
    "We first get its segmentation map ID and create a list of all pixels associated with the source in the imaging data."
   ]
  },
  {
   "cell_type": "code",
   "execution_count": 20,
   "id": "4b3bc709",
   "metadata": {
    "execution": {
     "iopub.execute_input": "2025-02-07T15:01:23.837812Z",
     "iopub.status.busy": "2025-02-07T15:01:23.837461Z",
     "iopub.status.idle": "2025-02-07T15:01:23.840908Z",
     "shell.execute_reply": "2025-02-07T15:01:23.840454Z"
    }
   },
   "outputs": [
    {
     "name": "stdout",
     "output_type": "stream",
     "text": [
      "Object ID is: 118\n"
     ]
    }
   ],
   "source": [
    "xd, yd = 405, 1465\n",
    "ID = segment_map.data[yd, xd]\n",
    "print(f\"Object ID is: {ID}\")"
   ]
  },
  {
   "cell_type": "markdown",
   "id": "b121eb67-d9d5-4a90-ba68-9c38a0ee0115",
   "metadata": {},
   "source": [
    "### Locate source in imaging and WFSS data"
   ]
  },
  {
   "cell_type": "markdown",
   "id": "8d711fdd-6e86-4b96-adfd-92334a535c16",
   "metadata": {},
   "source": [
    "Working with the imaging mode file, create a list of coordinates for all of the source's pixels, along with their flux values (in MJy/SR)."
   ]
  },
  {
   "cell_type": "code",
   "execution_count": 21,
   "id": "8b87237f",
   "metadata": {
    "execution": {
     "iopub.execute_input": "2025-02-07T15:01:23.842791Z",
     "iopub.status.busy": "2025-02-07T15:01:23.842464Z",
     "iopub.status.idle": "2025-02-07T15:01:23.856033Z",
     "shell.execute_reply": "2025-02-07T15:01:23.855549Z"
    }
   },
   "outputs": [],
   "source": [
    "ok = segment_map.data == ID\n",
    "yds, xds = np.nonzero(ok)\n",
    "cds = imaging_data[ok]"
   ]
  },
  {
   "cell_type": "markdown",
   "id": "f338ef1d-2602-4f26-aa07-a156372c4506",
   "metadata": {},
   "source": [
    "Show the source, as well as its segmentation map, from the imaging data. On the left we see that the source appears to be a point source. The segmentation map shows a collection of roughly 6x6 pixels that have been identified as part of this source."
   ]
  },
  {
   "cell_type": "code",
   "execution_count": 22,
   "id": "f249aad6",
   "metadata": {
    "execution": {
     "iopub.execute_input": "2025-02-07T15:01:23.858056Z",
     "iopub.status.busy": "2025-02-07T15:01:23.857698Z",
     "iopub.status.idle": "2025-02-07T15:01:24.104169Z",
     "shell.execute_reply": "2025-02-07T15:01:24.103651Z"
    }
   },
   "outputs": [
    {
     "data": {
      "text/plain": [
       "Text(0.5, 1.0, 'Segmentation map')"
      ]
     },
     "execution_count": 22,
     "metadata": {},
     "output_type": "execute_result"
    },
    {
     "data": {
      "image/png": "[encoded data removed]",
      "text/plain": [
       "<Figure size 1500x500 with 2 Axes>"
      ]
     },
     "metadata": {},
     "output_type": "display_data"
    }
   ],
   "source": [
    "min_x = np.min(xds)\n",
    "max_x = np.max(xds)\n",
    "min_y = np.min(yds)\n",
    "max_y = np.max(yds)\n",
    "\n",
    "fig, axs = plt.subplots(1, 2, figsize=(15, 5))\n",
    "axs[0].imshow(imaging_data[min_y:max_y + 1, min_x:max_x + 1], origin=\"lower\")\n",
    "axs[1].imshow(segment_map.data[min_y:max_y + 1, min_x:max_x + 1], origin=\"lower\")\n",
    "axs[0].set_title(\"Source\")\n",
    "axs[1].set_title(\"Segmentation map\")"
   ]
  },
  {
   "cell_type": "markdown",
   "id": "aa4510e5-fc21-4d35-ae74-13e2a7e09ebf",
   "metadata": {},
   "source": [
    "All the information we have for this source is within the reference frame of the imaging data. But we need to know where the flux for this source is in the WFSS observation. This is handled using the gWCS of both imaging and WFSS observations. With these, we translate the location of each source pixel in the imaging data into the corresponding pixel location in the WFSS data."
   ]
  },
  {
   "cell_type": "code",
   "execution_count": 23,
   "id": "88469751-28c4-4532-8822-5bdaff3f0817",
   "metadata": {
    "execution": {
     "iopub.execute_input": "2025-02-07T15:01:24.106023Z",
     "iopub.status.busy": "2025-02-07T15:01:24.105700Z",
     "iopub.status.idle": "2025-02-07T15:01:24.229286Z",
     "shell.execute_reply": "2025-02-07T15:01:24.228789Z"
    }
   },
   "outputs": [],
   "source": [
    "# Open the imaging file using the JWST datamodels, and retrieve the WCS information\n",
    "imaging_wcs = datamodels.open(imaging_file)\n",
    "imaging_to_world = imaging_wcs.meta.wcs.get_transform('detector', 'world')"
   ]
  },
  {
   "cell_type": "code",
   "execution_count": 24,
   "id": "febd5bcb-f7f4-4fb0-b5d4-0a468d1ba403",
   "metadata": {
    "execution": {
     "iopub.execute_input": "2025-02-07T15:01:24.231120Z",
     "iopub.status.busy": "2025-02-07T15:01:24.230949Z",
     "iopub.status.idle": "2025-02-07T15:01:24.375850Z",
     "shell.execute_reply": "2025-02-07T15:01:24.375355Z"
    }
   },
   "outputs": [],
   "source": [
    "# Get the WCS information associated with the WFSS file\n",
    "wfss_wcs = datamodels.open(wfss_file)\n",
    "wfss_to_pix = wfss_wcs.meta.wcs.get_transform('world', 'detector')"
   ]
  },
  {
   "cell_type": "markdown",
   "id": "e5a6fd6e-d7ca-4c44-ac3a-86c76652759b",
   "metadata": {},
   "source": [
    "For reference, below we see the pixel coordinates in the imaging data. The pixels corresponding to the source range between x values of 402 and 408, and y values of 1461 and 1468."
   ]
  },
  {
   "cell_type": "code",
   "execution_count": 25,
   "id": "781ed43e-5aa5-4e68-a3f4-2e9b424b5d54",
   "metadata": {
    "execution": {
     "iopub.execute_input": "2025-02-07T15:01:24.378046Z",
     "iopub.status.busy": "2025-02-07T15:01:24.377619Z",
     "iopub.status.idle": "2025-02-07T15:01:24.511246Z",
     "shell.execute_reply": "2025-02-07T15:01:24.510662Z"
    }
   },
   "outputs": [
    {
     "data": {
      "text/plain": [
       "Text(0, 0.5, 'Imaging rows')"
      ]
     },
     "execution_count": 25,
     "metadata": {},
     "output_type": "execute_result"
    },
    {
     "data": {
      "image/png": "[encoded data removed]",
      "text/plain": [
       "<Figure size 640x480 with 1 Axes>"
      ]
     },
     "metadata": {},
     "output_type": "display_data"
    }
   ],
   "source": [
    "plt.scatter(xds, yds)\n",
    "plt.xlabel(\"Imaging columns\")\n",
    "plt.ylabel(\"Imaging rows\")"
   ]
  },
  {
   "cell_type": "markdown",
   "id": "ca5e3d4f-476e-4dfb-83ed-6602552af95e",
   "metadata": {},
   "source": [
    "Compute the R.A. and Dec of each of the source's imaging mode input pixels"
   ]
  },
  {
   "cell_type": "code",
   "execution_count": 26,
   "id": "b2bc8e3d-ea0e-45df-9f0f-8816688d7ef7",
   "metadata": {
    "execution": {
     "iopub.execute_input": "2025-02-07T15:01:24.513298Z",
     "iopub.status.busy": "2025-02-07T15:01:24.512971Z",
     "iopub.status.idle": "2025-02-07T15:01:24.518661Z",
     "shell.execute_reply": "2025-02-07T15:01:24.518086Z"
    }
   },
   "outputs": [],
   "source": [
    "ras, decs = imaging_to_world(xds, yds)"
   ]
  },
  {
   "cell_type": "markdown",
   "id": "91cb852a-b3e7-44f0-9079-3452abe9cb0e",
   "metadata": {},
   "source": [
    "Now compute the pixel coordinates of where the **undispersed** source would be in the WFSS data. In this case the gWCS requires an input wavelength and spectral order. These same values are returned by the translation function. In this case we choose a wavelength of 3.56 microns and a spectral order of 1. The pixel coordinates returned in this case are not dependent upon wavelength or spectral order, so any values can be used."
   ]
  },
  {
   "cell_type": "code",
   "execution_count": 27,
   "id": "6ca0aec5-0927-4a08-bba2-25a1311e9eb7",
   "metadata": {
    "execution": {
     "iopub.execute_input": "2025-02-07T15:01:24.520568Z",
     "iopub.status.busy": "2025-02-07T15:01:24.520040Z",
     "iopub.status.idle": "2025-02-07T15:01:24.525551Z",
     "shell.execute_reply": "2025-02-07T15:01:24.525063Z"
    }
   },
   "outputs": [],
   "source": [
    "xs, ys, xxx, yyy = wfss_to_pix(ras, decs, 3.56, 1)"
   ]
  },
  {
   "cell_type": "markdown",
   "id": "9f489e69-237c-4aab-9d50-d817619918b7",
   "metadata": {},
   "source": [
    "Show the pixel location of the **undispersed** source in the WFSS data. Note that the location is significantly different than that in the imaging data. In this case, the source is located between x values of 117 to 123, and y values of 1740 and 1746."
   ]
  },
  {
   "cell_type": "code",
   "execution_count": 28,
   "id": "b012a3be-bfae-4b72-a253-5c1177baba47",
   "metadata": {
    "execution": {
     "iopub.execute_input": "2025-02-07T15:01:24.527279Z",
     "iopub.status.busy": "2025-02-07T15:01:24.526965Z",
     "iopub.status.idle": "2025-02-07T15:01:24.655902Z",
     "shell.execute_reply": "2025-02-07T15:01:24.655421Z"
    }
   },
   "outputs": [
    {
     "data": {
      "text/plain": [
       "Text(0, 0.5, 'WFSS rows')"
      ]
     },
     "execution_count": 28,
     "metadata": {},
     "output_type": "execute_result"
    },
    {
     "data": {
      "image/png": "[encoded data removed]",
      "text/plain": [
       "<Figure size 640x480 with 1 Axes>"
      ]
     },
     "metadata": {},
     "output_type": "display_data"
    }
   ],
   "source": [
    "plt.scatter(xs, ys)\n",
    "plt.xlabel(\"WFSS columns\")\n",
    "plt.ylabel(\"WFSS rows\")"
   ]
  },
  {
   "cell_type": "markdown",
   "id": "79ebb828-c5a7-4b5c-a540-8ac4fdaf9bd1",
   "metadata": {},
   "source": [
    "### Get wavelength information"
   ]
  },
  {
   "cell_type": "markdown",
   "id": "df18225c-a3ab-42b6-bcf4-0573cbb48147",
   "metadata": {},
   "source": [
    "When simulating this dispersed spectrum, we need to consider the wavelength of the light that is being dispersed. So each of the pixels above will be numericaly dispersed across a range of discrete wavelengths. \n",
    "\n",
    "To get the needed wavelength information, we initialize a grismconf Config object. This contains the information and polynomials describing the dispersion of the disperser as well as the corresponding inverse sensitivity curve."
   ]
  },
  {
   "cell_type": "code",
   "execution_count": 29,
   "id": "1ddfcad5-eb41-4692-acfc-b12916083b8e",
   "metadata": {
    "execution": {
     "iopub.execute_input": "2025-02-07T15:01:24.657907Z",
     "iopub.status.busy": "2025-02-07T15:01:24.657551Z",
     "iopub.status.idle": "2025-02-07T15:01:25.537371Z",
     "shell.execute_reply": "2025-02-07T15:01:25.536831Z"
    }
   },
   "outputs": [
    {
     "name": "stdout",
     "output_type": "stream",
     "text": [
      "Loading from datamodel of jw01076109001_02101_00001_nrcalong_photomstep.fits\n"
     ]
    }
   ],
   "source": [
    "C = grismconf.Config(wfss_file)"
   ]
  },
  {
   "cell_type": "markdown",
   "id": "26dc8950-cc75-45c1-8427-9c2e5b40c3d9",
   "metadata": {},
   "source": [
    "Show the inverse sentivity, which includes the wavelength range and shape of the sensitivity. This is defined in units of DN/s per $F_{\\lambda}$ ($erg/s/cm^2/A$). The curve shows significant sensitivity between about 3.85 microns, and 5.05 microns."
   ]
  },
  {
   "cell_type": "code",
   "execution_count": 30,
   "id": "10891802-5e3c-46be-9d0e-b347503fbbd4",
   "metadata": {
    "execution": {
     "iopub.execute_input": "2025-02-07T15:01:25.539330Z",
     "iopub.status.busy": "2025-02-07T15:01:25.539173Z",
     "iopub.status.idle": "2025-02-07T15:01:25.731646Z",
     "shell.execute_reply": "2025-02-07T15:01:25.731139Z"
    }
   },
   "outputs": [
    {
     "data": {
      "text/plain": [
       "Text(0, 0.5, 'DN/s per $erg/s/cm^2/A$')"
      ]
     },
     "execution_count": 30,
     "metadata": {},
     "output_type": "execute_result"
    },
    {
     "data": {
      "image/png": "[encoded data removed]",
      "text/plain": [
       "<Figure size 640x480 with 1 Axes>"
      ]
     },
     "metadata": {},
     "output_type": "display_data"
    }
   ],
   "source": [
    "plt.plot(C.SENS_data[\"+1\"][0], C.SENS_data[\"+1\"][1])\n",
    "plt.grid()\n",
    "plt.xlabel(\"Wavelength (micron)\")\n",
    "plt.ylabel(r\"DN/s per $erg/s/cm^2/A$\")"
   ]
  },
  {
   "cell_type": "markdown",
   "id": "7e95f63d-5a27-46f6-ba16-2319f9a57c13",
   "metadata": {},
   "source": [
    "We use the grimconf configuration object to quickly get the wavelength range that corresponds to the disperser. This is present in the WRANGE attribute."
   ]
  },
  {
   "cell_type": "code",
   "execution_count": 31,
   "id": "9b4bf6bd-300a-4ab7-92cc-0a636b479e92",
   "metadata": {
    "execution": {
     "iopub.execute_input": "2025-02-07T15:01:25.733435Z",
     "iopub.status.busy": "2025-02-07T15:01:25.733246Z",
     "iopub.status.idle": "2025-02-07T15:01:25.736806Z",
     "shell.execute_reply": "2025-02-07T15:01:25.736347Z"
    }
   },
   "outputs": [
    {
     "name": "stdout",
     "output_type": "stream",
     "text": [
      "The wavelength range to consider is 3.7449567317962646 to 5.147075176239014 microns\n"
     ]
    }
   ],
   "source": [
    "wmin = C.WRANGE[\"+1\"][0]\n",
    "wmax = C.WRANGE[\"+1\"][1]\n",
    "\n",
    "print(f\"The wavelength range to consider is {wmin} to {wmax} microns\")"
   ]
  },
  {
   "cell_type": "markdown",
   "id": "aa61092f-28c5-4a9a-93a5-5e90652cf346",
   "metadata": {},
   "source": [
    "Compute the dispersion in units of wavelength per pixel. Grismconf can give us the derivative of the dispersion in units of wavelength as well as in units of pixels with respect to the t parameter. Details of the $t$ parameter are given in the <a href=\"https://github.com/spacetelescope/jdat_notebooks/blob/main/notebooks/NIRCam/NIRCam_WFSS_Box_extraction/BoxExtraction_using_Grismconf_CRDS.ipynb\">Box Extraction Notebook</a>. As noted there, $t$ is a normalized parameter, whre values of $t = 0$ and $t = 1$ correspond to the blue and red edges of a dispersed spectrum.\n",
    "\n",
    "While the dispersion varies slightly across the area of the detector covered by a spectrum, we use the dispersion at a $t$ value of 0.5, which corresponds to the middle of the spectral range."
   ]
  },
  {
   "cell_type": "code",
   "execution_count": 32,
   "id": "b7da4676-c269-41d8-ab4e-ed3db2754a8d",
   "metadata": {
    "execution": {
     "iopub.execute_input": "2025-02-07T15:01:25.738485Z",
     "iopub.status.busy": "2025-02-07T15:01:25.738275Z",
     "iopub.status.idle": "2025-02-07T15:01:25.741157Z",
     "shell.execute_reply": "2025-02-07T15:01:25.740729Z"
    }
   },
   "outputs": [
    {
     "name": "stdout",
     "output_type": "stream",
     "text": [
      "Dispersion is 9.842324883324414 Angstroms per pixel\n"
     ]
    }
   ],
   "source": [
    "dlam = C.DDISPL(\"+1\", 1000, 1000, 0.5) / C.DDISPX(\"+1\", 1000, 1000, 0.5)\n",
    "print(f\"Dispersion is {dlam * 10000} Angstroms per pixel\")"
   ]
  },
  {
   "cell_type": "markdown",
   "id": "1f2a7e3f-e9a0-4abf-af05-1c5e8b2b4dc7",
   "metadata": {},
   "source": [
    "Next, create an array of wavelength values at which the simulated spectrum will be calculated. For this, we must pick a wavelength step. Ideally this step should be smaller than the native dispersion of the grism. We therefore pick half of the dispersion value calculated above."
   ]
  },
  {
   "cell_type": "code",
   "execution_count": 33,
   "id": "16875987",
   "metadata": {
    "execution": {
     "iopub.execute_input": "2025-02-07T15:01:25.742924Z",
     "iopub.status.busy": "2025-02-07T15:01:25.742607Z",
     "iopub.status.idle": "2025-02-07T15:01:25.745613Z",
     "shell.execute_reply": "2025-02-07T15:01:25.745152Z"
    }
   },
   "outputs": [
    {
     "name": "stdout",
     "output_type": "stream",
     "text": [
      "We are using 2850 values of wavelength\n"
     ]
    }
   ],
   "source": [
    "dlam = dlam / 2\n",
    "lams = np.arange(wmin, wmax, dlam)\n",
    "\n",
    "print(f\"We are using {len(lams)} values of wavelength\")"
   ]
  },
  {
   "cell_type": "code",
   "execution_count": 34,
   "id": "78719155-0e60-4d11-a1c6-10274e51969e",
   "metadata": {
    "execution": {
     "iopub.execute_input": "2025-02-07T15:01:25.747396Z",
     "iopub.status.busy": "2025-02-07T15:01:25.746952Z",
     "iopub.status.idle": "2025-02-07T15:01:25.749844Z",
     "shell.execute_reply": "2025-02-07T15:01:25.749406Z"
    }
   },
   "outputs": [
    {
     "name": "stdout",
     "output_type": "stream",
     "text": [
      "First and last elements of the wavelength array: 3.74496 microns, 5.14700 microns\n"
     ]
    }
   ],
   "source": [
    "print(f'First and last elements of the wavelength array: {\"%.5f\" % lams[0]} microns, {\"%.5f\" % lams[-1]} microns')"
   ]
  },
  {
   "cell_type": "markdown",
   "id": "e7aa62c1-758e-45eb-aee8-b89b3ffd0f16",
   "metadata": {},
   "source": [
    "### Simulate the dispersion of a single pixel"
   ]
  },
  {
   "cell_type": "markdown",
   "id": "b1b5c887-8adb-4a12-8b47-7099f71cd2b5",
   "metadata": {},
   "source": [
    "With the wavelength information in hand, we can create a simulated dispersion of each object pixel.\n",
    "\n",
    "Below, we show the process for a single pixel. We choose a pixel relatively close to the center of the source."
   ]
  },
  {
   "cell_type": "code",
   "execution_count": 35,
   "id": "d64845db-f4ee-41c0-a9d9-35d26f3b4fa9",
   "metadata": {
    "execution": {
     "iopub.execute_input": "2025-02-07T15:01:25.751603Z",
     "iopub.status.busy": "2025-02-07T15:01:25.751209Z",
     "iopub.status.idle": "2025-02-07T15:01:25.754016Z",
     "shell.execute_reply": "2025-02-07T15:01:25.753586Z"
    }
   },
   "outputs": [
    {
     "name": "stdout",
     "output_type": "stream",
     "text": [
      "Use pixel (x, y) = (119.70338396470152, 1742.4872669791241) for single pixel dispersion\n"
     ]
    }
   ],
   "source": [
    "i = 22\n",
    "print(f\"Use pixel (x, y) = ({xs[i]}, {ys[i]}) for single pixel dispersion\")"
   ]
  },
  {
   "cell_type": "markdown",
   "id": "bc70a326-c437-4ca2-954d-406b890d1c6e",
   "metadata": {},
   "source": [
    "We start by computing the $t$ values corresponding to the wavelengths (lams) we are considering. Refer to the Box Extraction notenook for additional background details on the $t$ value."
   ]
  },
  {
   "cell_type": "code",
   "execution_count": 36,
   "id": "02ea112e",
   "metadata": {
    "execution": {
     "iopub.execute_input": "2025-02-07T15:01:25.755836Z",
     "iopub.status.busy": "2025-02-07T15:01:25.755436Z",
     "iopub.status.idle": "2025-02-07T15:01:25.758512Z",
     "shell.execute_reply": "2025-02-07T15:01:25.758062Z"
    }
   },
   "outputs": [],
   "source": [
    "ts = C.INVDISPL(\"+1\", xs[i], ys[i], lams)"
   ]
  },
  {
   "cell_type": "markdown",
   "id": "ada59693-4d4e-4bd9-975e-7c3956e927ea",
   "metadata": {},
   "source": [
    "Next, we create an array of polygons representing the locations of the dispersed signal coming from our selected input pixel.\n",
    "\n",
    "The cell below computes the array of coordinates, in the WFSS observation, of the bottom left corner of our pixel."
   ]
  },
  {
   "cell_type": "code",
   "execution_count": 37,
   "id": "d6ef5fa4",
   "metadata": {
    "execution": {
     "iopub.execute_input": "2025-02-07T15:01:25.760173Z",
     "iopub.status.busy": "2025-02-07T15:01:25.759909Z",
     "iopub.status.idle": "2025-02-07T15:01:25.762899Z",
     "shell.execute_reply": "2025-02-07T15:01:25.762468Z"
    }
   },
   "outputs": [],
   "source": [
    "xgsA = C.DISPX(\"+1\", xs[i], ys[i], ts) + xs[i]\n",
    "ygsA = C.DISPY(\"+1\", xs[i], ys[i], ts) + ys[i]"
   ]
  },
  {
   "cell_type": "markdown",
   "id": "2f729847-2f83-411b-8afb-1bdebb9db2d2",
   "metadata": {},
   "source": [
    "The following three cells compute the locations of the other three corners:"
   ]
  },
  {
   "cell_type": "code",
   "execution_count": 38,
   "id": "e4740945",
   "metadata": {
    "execution": {
     "iopub.execute_input": "2025-02-07T15:01:25.764683Z",
     "iopub.status.busy": "2025-02-07T15:01:25.764293Z",
     "iopub.status.idle": "2025-02-07T15:01:25.767302Z",
     "shell.execute_reply": "2025-02-07T15:01:25.766880Z"
    }
   },
   "outputs": [],
   "source": [
    "xgsB = C.DISPX(\"+1\", xs[i] + 1, ys[i], ts) + xs[i] + 1\n",
    "ygsB = C.DISPY(\"+1\", xs[i] + 1, ys[i], ts) + ys[i]"
   ]
  },
  {
   "cell_type": "code",
   "execution_count": 39,
   "id": "b59e1d1c",
   "metadata": {
    "execution": {
     "iopub.execute_input": "2025-02-07T15:01:25.769113Z",
     "iopub.status.busy": "2025-02-07T15:01:25.768649Z",
     "iopub.status.idle": "2025-02-07T15:01:25.771932Z",
     "shell.execute_reply": "2025-02-07T15:01:25.771519Z"
    }
   },
   "outputs": [],
   "source": [
    "xgsC = C.DISPX(\"+1\", xs[i] + 1, ys[i] + 1, ts) + xs[i] + 1\n",
    "ygsC = C.DISPY(\"+1\", xs[i] + 1, ys[i] + 1, ts) + ys[i] + 1"
   ]
  },
  {
   "cell_type": "code",
   "execution_count": 40,
   "id": "0b0ab3d3",
   "metadata": {
    "execution": {
     "iopub.execute_input": "2025-02-07T15:01:25.773435Z",
     "iopub.status.busy": "2025-02-07T15:01:25.773255Z",
     "iopub.status.idle": "2025-02-07T15:01:25.776295Z",
     "shell.execute_reply": "2025-02-07T15:01:25.775866Z"
    }
   },
   "outputs": [],
   "source": [
    "xgsD = C.DISPX(\"+1\", xs[i], ys[i] + 1, ts) + xs[i]\n",
    "ygsD = C.DISPY(\"+1\", xs[i], ys[i] + 1, ts) + ys[i] + 1"
   ]
  },
  {
   "cell_type": "markdown",
   "id": "46c060d3-ab2a-4c8c-abd1-995be9910fed",
   "metadata": {},
   "source": [
    "Re-organize things a little to contain a list of polygon corners, which are used by the pypolyclip module to compute their overlap with the pixel coordinates of the WFSS observation. While were are looking at a single input source pixel, we are computing this at many different wavelength values so the resultant is a list of many pixels/polygons to project onto our WFSS rectilinear pixel grid."
   ]
  },
  {
   "cell_type": "code",
   "execution_count": 41,
   "id": "79d009b7",
   "metadata": {
    "execution": {
     "iopub.execute_input": "2025-02-07T15:01:25.777841Z",
     "iopub.status.busy": "2025-02-07T15:01:25.777679Z",
     "iopub.status.idle": "2025-02-07T15:01:25.781909Z",
     "shell.execute_reply": "2025-02-07T15:01:25.781472Z"
    }
   },
   "outputs": [],
   "source": [
    "pxs = [[xgsA[ii], xgsB[ii], xgsC[ii], xgsD[ii]] for ii in range(len(xgsA))]"
   ]
  },
  {
   "cell_type": "code",
   "execution_count": 42,
   "id": "7d3a1dd5",
   "metadata": {
    "execution": {
     "iopub.execute_input": "2025-02-07T15:01:25.783466Z",
     "iopub.status.busy": "2025-02-07T15:01:25.783283Z",
     "iopub.status.idle": "2025-02-07T15:01:25.787476Z",
     "shell.execute_reply": "2025-02-07T15:01:25.787009Z"
    }
   },
   "outputs": [],
   "source": [
    "pys = [[ygsA[ii], ygsB[ii], ygsC[ii], ygsD[ii]] for ii in range(len(ygsA))]"
   ]
  },
  {
   "cell_type": "markdown",
   "id": "5690d67f-1715-44ba-8b30-9a3f3641ff1c",
   "metadata": {},
   "source": [
    "Below we create a figure showing the resulting locations of dispersed pixels. We dispersed the single input pixel using an array of wavelengths that is oversampled by a factor of 2 relative to the native dispersion of the grism. That wavelength array is translated into an array of pixel positions which overlay the WFSS detector grid. \n",
    "\n",
    "For clarity, we zoom in on a 40 pixel wide area in the dispersion direction. This shows that our single imaging mode pixel will be dispersed along a nearly horizontal line (seen as the rainbow colored boxes) in this area. Zooming out on this plot, by changing the xlim values in the cell below, will show the entire set of pixels corresponding to the dispersed input pixel. For consistency, we show similar 40 pixel wide plots for the other figures in the next two sections."
   ]
  },
  {
   "cell_type": "code",
   "execution_count": 43,
   "id": "94e5dc02-7d55-42f7-90bc-f9f40fd9750a",
   "metadata": {
    "execution": {
     "iopub.execute_input": "2025-02-07T15:01:25.789102Z",
     "iopub.status.busy": "2025-02-07T15:01:25.788930Z",
     "iopub.status.idle": "2025-02-07T15:01:30.637532Z",
     "shell.execute_reply": "2025-02-07T15:01:30.636947Z"
    }
   },
   "outputs": [
    {
     "name": "stderr",
     "output_type": "stream",
     "text": [
      "\r",
      "  0%|          | 0/2850 [00:00<?, ?it/s]"
     ]
    },
    {
     "name": "stderr",
     "output_type": "stream",
     "text": [
      "\r",
      " 14%|█▎        | 390/2850 [00:00<00:00, 3893.75it/s]"
     ]
    },
    {
     "name": "stderr",
     "output_type": "stream",
     "text": [
      "\r",
      " 27%|██▋       | 780/2850 [00:00<00:01, 2032.64it/s]"
     ]
    },
    {
     "name": "stderr",
     "output_type": "stream",
     "text": [
      "\r",
      " 41%|████      | 1161/2850 [00:00<00:00, 2573.83it/s]"
     ]
    },
    {
     "name": "stderr",
     "output_type": "stream",
     "text": [
      "\r",
      " 55%|█████▍    | 1559/2850 [00:00<00:00, 2998.52it/s]"
     ]
    },
    {
     "name": "stderr",
     "output_type": "stream",
     "text": [
      "\r",
      " 68%|██████▊   | 1949/2850 [00:00<00:00, 3269.94it/s]"
     ]
    },
    {
     "name": "stderr",
     "output_type": "stream",
     "text": [
      "\r",
      " 82%|████████▏ | 2343/2850 [00:00<00:00, 3471.11it/s]"
     ]
    },
    {
     "name": "stderr",
     "output_type": "stream",
     "text": [
      "\r",
      " 95%|█████████▌| 2715/2850 [00:01<00:00, 2288.08it/s]"
     ]
    },
    {
     "name": "stderr",
     "output_type": "stream",
     "text": [
      "\r",
      "100%|██████████| 2850/2850 [00:01<00:00, 2651.28it/s]"
     ]
    },
    {
     "name": "stderr",
     "output_type": "stream",
     "text": [
      "\n"
     ]
    },
    {
     "data": {
      "text/plain": [
       "Text(0, 0.5, 'Cross ispersion coordinate (pixel)')"
      ]
     },
     "execution_count": 43,
     "metadata": {},
     "output_type": "execute_result"
    },
    {
     "data": {
      "image/png": "[encoded data removed]",
      "text/plain": [
       "<Figure size 1500x300 with 1 Axes>"
      ]
     },
     "metadata": {},
     "output_type": "display_data"
    }
   ],
   "source": [
    "fig, ax = plt.subplots(1, 1, figsize=(15, 3))\n",
    "for i in tqdm.tqdm(range(len(pxs))):\n",
    "    tx = pxs[i]\n",
    "    tx.append(pxs[i][0])\n",
    "    ty = pys[i]\n",
    "    ty.append(pys[i][0])\n",
    "    plt.plot(tx, ty)\n",
    "\n",
    "plt.xticks(range(0, len(pxs)))\n",
    "\n",
    "plt.xlim(200, 240)  # change to (0, 700) to see the entire spectrum)\n",
    "plt.xlabel(\"WFSS columns\")\n",
    "plt.ylabel(\"WFSS Rows\")\n",
    "plt.grid()\n",
    "plt.xlabel(\"Dispersion coordinate (pixel)\")\n",
    "plt.ylabel(\"Cross ispersion coordinate (pixel)\")"
   ]
  },
  {
   "cell_type": "markdown",
   "id": "fb5bce23-369d-4fb5-98a9-228723c4017c",
   "metadata": {},
   "source": [
    "We can now use the pypolyclip.clip_multi to compute how much of each dispersed pixel (colored boxes above) falls onto each pixel in the WFSS image pixel grid (shown as the gray grid above). Details about this is available on the <A HREF=\"https://github.com/spacetelescope/pypolyclip\">pypolyclip page</A>."
   ]
  },
  {
   "cell_type": "code",
   "execution_count": 44,
   "id": "f5793e51",
   "metadata": {
    "execution": {
     "iopub.execute_input": "2025-02-07T15:01:30.639547Z",
     "iopub.status.busy": "2025-02-07T15:01:30.639204Z",
     "iopub.status.idle": "2025-02-07T15:01:30.769687Z",
     "shell.execute_reply": "2025-02-07T15:01:30.769044Z"
    }
   },
   "outputs": [],
   "source": [
    "xc, yc, area, slices = clip_multi(pxs, pys, [2048, 2048])"
   ]
  },
  {
   "cell_type": "markdown",
   "id": "cd9659b1-be21-4e66-9e00-69bcd61267a3",
   "metadata": {},
   "source": [
    "In the following section, we will repeat this workflow on all pixels, and use the area information to scale the flux values for all output pixels."
   ]
  },
  {
   "cell_type": "markdown",
   "id": "f1d4297c-9f94-4a96-a314-d22fb39b41a5",
   "metadata": {},
   "source": [
    "### Disperse all the pixels for our source"
   ]
  },
  {
   "cell_type": "markdown",
   "id": "1eaff90b-c69a-41d8-8740-e3b28da8939e",
   "metadata": {},
   "source": [
    "Note that the figure above shows a single source pixel being dispersed. For a full source, each of the input source pixels should be similarly dispersed, resulting in multiple dispersed pixels contributing to the final counts in each of the detector pixels in the WFSS image. We will also need to compute and attribute the proper flux, in DN/s, to each of the WFSS detector pixels from each input pixel. This is done below for our selected object.\n",
    "\n",
    "We must keep track of all the information such as the wavelength and fraction of the original imaging pixel flux that falls onto the WFSS simulated pixel array for each imaging pixel."
   ]
  },
  {
   "cell_type": "code",
   "execution_count": 45,
   "id": "800f8c58",
   "metadata": {
    "execution": {
     "iopub.execute_input": "2025-02-07T15:01:30.771904Z",
     "iopub.status.busy": "2025-02-07T15:01:30.771721Z",
     "iopub.status.idle": "2025-02-07T15:01:37.293262Z",
     "shell.execute_reply": "2025-02-07T15:01:37.292768Z"
    }
   },
   "outputs": [
    {
     "name": "stderr",
     "output_type": "stream",
     "text": [
      "\r",
      "  0%|          | 0/47 [00:00<?, ?it/s]"
     ]
    },
    {
     "name": "stderr",
     "output_type": "stream",
     "text": [
      "\r",
      "  2%|▏         | 1/47 [00:00<00:05,  8.02it/s]"
     ]
    },
    {
     "name": "stderr",
     "output_type": "stream",
     "text": [
      "\r",
      "  4%|▍         | 2/47 [00:00<00:05,  8.01it/s]"
     ]
    },
    {
     "name": "stderr",
     "output_type": "stream",
     "text": [
      "\r",
      "  6%|▋         | 3/47 [00:00<00:05,  8.00it/s]"
     ]
    },
    {
     "name": "stderr",
     "output_type": "stream",
     "text": [
      "\r",
      "  9%|▊         | 4/47 [00:00<00:05,  8.02it/s]"
     ]
    },
    {
     "name": "stderr",
     "output_type": "stream",
     "text": [
      "\r",
      " 11%|█         | 5/47 [00:00<00:05,  7.94it/s]"
     ]
    },
    {
     "name": "stderr",
     "output_type": "stream",
     "text": [
      "\r",
      " 13%|█▎        | 6/47 [00:00<00:05,  7.98it/s]"
     ]
    },
    {
     "name": "stderr",
     "output_type": "stream",
     "text": [
      "\r",
      " 15%|█▍        | 7/47 [00:00<00:05,  8.00it/s]"
     ]
    },
    {
     "name": "stderr",
     "output_type": "stream",
     "text": [
      "\r",
      " 17%|█▋        | 8/47 [00:00<00:04,  8.03it/s]"
     ]
    },
    {
     "name": "stderr",
     "output_type": "stream",
     "text": [
      "\r",
      " 19%|█▉        | 9/47 [00:01<00:04,  8.04it/s]"
     ]
    },
    {
     "name": "stderr",
     "output_type": "stream",
     "text": [
      "\r",
      " 21%|██▏       | 10/47 [00:01<00:04,  8.04it/s]"
     ]
    },
    {
     "name": "stderr",
     "output_type": "stream",
     "text": [
      "\r",
      " 23%|██▎       | 11/47 [00:01<00:04,  8.04it/s]"
     ]
    },
    {
     "name": "stderr",
     "output_type": "stream",
     "text": [
      "\r",
      " 26%|██▌       | 12/47 [00:01<00:04,  8.03it/s]"
     ]
    },
    {
     "name": "stderr",
     "output_type": "stream",
     "text": [
      "\r",
      " 28%|██▊       | 13/47 [00:01<00:04,  7.74it/s]"
     ]
    },
    {
     "name": "stderr",
     "output_type": "stream",
     "text": [
      "\r",
      " 30%|██▉       | 14/47 [00:01<00:04,  7.82it/s]"
     ]
    },
    {
     "name": "stderr",
     "output_type": "stream",
     "text": [
      "\r",
      " 32%|███▏      | 15/47 [00:02<00:07,  4.52it/s]"
     ]
    },
    {
     "name": "stderr",
     "output_type": "stream",
     "text": [
      "\r",
      " 34%|███▍      | 16/47 [00:02<00:05,  5.20it/s]"
     ]
    },
    {
     "name": "stderr",
     "output_type": "stream",
     "text": [
      "\r",
      " 36%|███▌      | 17/47 [00:02<00:05,  5.79it/s]"
     ]
    },
    {
     "name": "stderr",
     "output_type": "stream",
     "text": [
      "\r",
      " 38%|███▊      | 18/47 [00:02<00:04,  6.33it/s]"
     ]
    },
    {
     "name": "stderr",
     "output_type": "stream",
     "text": [
      "\r",
      " 40%|████      | 19/47 [00:02<00:04,  6.74it/s]"
     ]
    },
    {
     "name": "stderr",
     "output_type": "stream",
     "text": [
      "\r",
      " 43%|████▎     | 20/47 [00:02<00:03,  7.09it/s]"
     ]
    },
    {
     "name": "stderr",
     "output_type": "stream",
     "text": [
      "\r",
      " 45%|████▍     | 21/47 [00:02<00:03,  7.34it/s]"
     ]
    },
    {
     "name": "stderr",
     "output_type": "stream",
     "text": [
      "\r",
      " 47%|████▋     | 22/47 [00:03<00:03,  7.54it/s]"
     ]
    },
    {
     "name": "stderr",
     "output_type": "stream",
     "text": [
      "\r",
      " 49%|████▉     | 23/47 [00:03<00:03,  7.69it/s]"
     ]
    },
    {
     "name": "stderr",
     "output_type": "stream",
     "text": [
      "\r",
      " 51%|█████     | 24/47 [00:03<00:02,  7.80it/s]"
     ]
    },
    {
     "name": "stderr",
     "output_type": "stream",
     "text": [
      "\r",
      " 53%|█████▎    | 25/47 [00:03<00:02,  7.86it/s]"
     ]
    },
    {
     "name": "stderr",
     "output_type": "stream",
     "text": [
      "\r",
      " 55%|█████▌    | 26/47 [00:03<00:02,  7.92it/s]"
     ]
    },
    {
     "name": "stderr",
     "output_type": "stream",
     "text": [
      "\r",
      " 57%|█████▋    | 27/47 [00:03<00:02,  7.96it/s]"
     ]
    },
    {
     "name": "stderr",
     "output_type": "stream",
     "text": [
      "\r",
      " 60%|█████▉    | 28/47 [00:03<00:02,  7.98it/s]"
     ]
    },
    {
     "name": "stderr",
     "output_type": "stream",
     "text": [
      "\r",
      " 62%|██████▏   | 29/47 [00:03<00:02,  7.99it/s]"
     ]
    },
    {
     "name": "stderr",
     "output_type": "stream",
     "text": [
      "\r",
      " 64%|██████▍   | 30/47 [00:04<00:02,  8.00it/s]"
     ]
    },
    {
     "name": "stderr",
     "output_type": "stream",
     "text": [
      "\r",
      " 66%|██████▌   | 31/47 [00:04<00:01,  8.01it/s]"
     ]
    },
    {
     "name": "stderr",
     "output_type": "stream",
     "text": [
      "\r",
      " 68%|██████▊   | 32/47 [00:04<00:01,  8.03it/s]"
     ]
    },
    {
     "name": "stderr",
     "output_type": "stream",
     "text": [
      "\r",
      " 70%|███████   | 33/47 [00:04<00:01,  8.04it/s]"
     ]
    },
    {
     "name": "stderr",
     "output_type": "stream",
     "text": [
      "\r",
      " 72%|███████▏  | 34/47 [00:04<00:01,  8.04it/s]"
     ]
    },
    {
     "name": "stderr",
     "output_type": "stream",
     "text": [
      "\r",
      " 74%|███████▍  | 35/47 [00:04<00:01,  7.95it/s]"
     ]
    },
    {
     "name": "stderr",
     "output_type": "stream",
     "text": [
      "\r",
      " 77%|███████▋  | 36/47 [00:04<00:01,  7.99it/s]"
     ]
    },
    {
     "name": "stderr",
     "output_type": "stream",
     "text": [
      "\r",
      " 79%|███████▊  | 37/47 [00:04<00:01,  8.01it/s]"
     ]
    },
    {
     "name": "stderr",
     "output_type": "stream",
     "text": [
      "\r",
      " 81%|████████  | 38/47 [00:05<00:01,  8.01it/s]"
     ]
    },
    {
     "name": "stderr",
     "output_type": "stream",
     "text": [
      "\r",
      " 83%|████████▎ | 39/47 [00:05<00:00,  8.02it/s]"
     ]
    },
    {
     "name": "stderr",
     "output_type": "stream",
     "text": [
      "\r",
      " 85%|████████▌ | 40/47 [00:05<00:00,  8.04it/s]"
     ]
    },
    {
     "name": "stderr",
     "output_type": "stream",
     "text": [
      "\r",
      " 87%|████████▋ | 41/47 [00:05<00:01,  4.51it/s]"
     ]
    },
    {
     "name": "stderr",
     "output_type": "stream",
     "text": [
      "\r",
      " 89%|████████▉ | 42/47 [00:05<00:00,  5.19it/s]"
     ]
    },
    {
     "name": "stderr",
     "output_type": "stream",
     "text": [
      "\r",
      " 91%|█████████▏| 43/47 [00:06<00:00,  5.80it/s]"
     ]
    },
    {
     "name": "stderr",
     "output_type": "stream",
     "text": [
      "\r",
      " 94%|█████████▎| 44/47 [00:06<00:00,  6.32it/s]"
     ]
    },
    {
     "name": "stderr",
     "output_type": "stream",
     "text": [
      "\r",
      " 96%|█████████▌| 45/47 [00:06<00:00,  6.77it/s]"
     ]
    },
    {
     "name": "stderr",
     "output_type": "stream",
     "text": [
      "\r",
      " 98%|█████████▊| 46/47 [00:06<00:00,  7.12it/s]"
     ]
    },
    {
     "name": "stderr",
     "output_type": "stream",
     "text": [
      "\r",
      "100%|██████████| 47/47 [00:06<00:00,  7.37it/s]"
     ]
    },
    {
     "name": "stderr",
     "output_type": "stream",
     "text": [
      "\r",
      "100%|██████████| 47/47 [00:06<00:00,  7.22it/s]"
     ]
    },
    {
     "name": "stderr",
     "output_type": "stream",
     "text": [
      "\n"
     ]
    }
   ],
   "source": [
    "xcs = []\n",
    "ycs = []\n",
    "alams = []\n",
    "flams = []\n",
    "\n",
    "all_pxs = []\n",
    "all_pys = []\n",
    "all_flams = []\n",
    "all_counts = []\n",
    "\n",
    "# Loop over the input source pixels in the WFSS reference frame.\n",
    "for i in tqdm.tqdm(range(len(xs))):\n",
    "    # Use the imaging flux in each of these pixels to compute the input DN/s and flam units\n",
    "    counts = cds[i]\n",
    "    flam = counts * PHOTFLAM\n",
    "\n",
    "    # Disperse this pixel using len(lams) wavelength. This results in len(lams) projected\n",
    "    # pixels contributing to the final WFSS data\n",
    "    ts = C.INVDISPL(\"+1\", xs[i], ys[i], lams)\n",
    "    xgsA = C.DISPX(\"+1\", xs[i], ys[i], ts) + xs[i]\n",
    "    ygsA = C.DISPY(\"+1\", xs[i], ys[i], ts) + ys[i]\n",
    "    xgsB = C.DISPX(\"+1\", xs[i] + 1, ys[i], ts) + xs[i] + 1\n",
    "    ygsB = C.DISPY(\"+1\", xs[i] + 1, ys[i], ts) + ys[i]\n",
    "    xgsC = C.DISPX(\"+1\", xs[i] + 1, ys[i] + 1, ts) + xs[i] + 1\n",
    "    ygsC = C.DISPY(\"+1\", xs[i] + 1, ys[i] + 1, ts) + ys[i] + 1\n",
    "    xgsD = C.DISPX(\"+1\", xs[i], ys[i]+1, ts) + xs[i]\n",
    "    ygsD = C.DISPY(\"+1\", xs[i], ys[i]+1, ts) + ys[i] + 1\n",
    "\n",
    "    # Use the corners of the dispersed pixels, and compute the WFSS pixels which they\n",
    "    # overlap, and by how much\n",
    "    pxs = [[xgsA[ii], xgsB[ii], xgsC[ii], xgsD[ii]] for ii in range(len(xgsA))]\n",
    "    pys = [[ygsA[ii], ygsB[ii], ygsC[ii], ygsD[ii]] for ii in range(len(ygsA))]\n",
    "    xc, yc, area, slices = clip_multi(pxs, pys, [2048, 2048])\n",
    "\n",
    "    # Book keeping to track the wavelength of each of the areas being projected into\n",
    "    # the WFSS pixel grid\n",
    "    tlams = np.zeros(len(xc))\n",
    "    for i in range(len(slices)):\n",
    "        tlams[slices[i]] = lams[i]\n",
    "\n",
    "    # Store the flux, wavelength, and where they should end up on the WFSS pixel grid.\n",
    "    # Note the values in xcs and ycs are not unique\n",
    "    xcs.extend(xc.tolist())\n",
    "    ycs.extend(yc.tolist())\n",
    "    flams.extend((flam * area).tolist())\n",
    "    alams.extend(tlams.tolist())\n",
    "\n",
    "    # Save for plotting later. Only used for plot below.\n",
    "    all_pxs.append(pxs)\n",
    "    all_pys.append(pys)\n",
    "    all_flams.append(flam)\n",
    "    all_counts.append(flam * C.SENS[\"+1\"](tlams) * dlam * 10000)"
   ]
  },
  {
   "cell_type": "markdown",
   "id": "249a3c5d-c7f1-4aa7-b5cb-e7426eae762b",
   "metadata": {},
   "source": [
    "At this point, we have a list of WFSS pixels (xcs, ycs), the flux falling on these pixels (flams, in $F_{\\lambda}$ units), and the wavelength of the light contained in them (alams).\n",
    "In our simulation, we do not want to project flux units but rather DN/s, so we convert the input flams values into DN/s (using the reverse relation we used in the Box Extraction notebook when we performed the inverse operation to convert extracted DN/s into $F_{\\lambda}$ flux units)"
   ]
  },
  {
   "cell_type": "code",
   "execution_count": 46,
   "id": "3edd128c-3fda-44bb-9c48-2fa414bac8e2",
   "metadata": {
    "execution": {
     "iopub.execute_input": "2025-02-07T15:01:37.294951Z",
     "iopub.status.busy": "2025-02-07T15:01:37.294775Z",
     "iopub.status.idle": "2025-02-07T15:01:37.343177Z",
     "shell.execute_reply": "2025-02-07T15:01:37.342607Z"
    }
   },
   "outputs": [],
   "source": [
    "# Note: the factor of 10000 below accounts for dlam being in microns, while we\n",
    "# want Angstroms since the inverse sensitivity is defined per Angstrom.\n",
    "s = C.SENS[\"+1\"](alams)\n",
    "counts = flams * s * dlam * 10000"
   ]
  },
  {
   "cell_type": "code",
   "execution_count": 47,
   "id": "67b1241c-4c84-4608-9b5c-9868693f3a90",
   "metadata": {
    "execution": {
     "iopub.execute_input": "2025-02-07T15:01:37.345244Z",
     "iopub.status.busy": "2025-02-07T15:01:37.344871Z",
     "iopub.status.idle": "2025-02-07T15:01:37.348221Z",
     "shell.execute_reply": "2025-02-07T15:01:37.347776Z"
    }
   },
   "outputs": [
    {
     "name": "stdout",
     "output_type": "stream",
     "text": [
      "There are 507649 dispersed bits of pixels to combine into a final WFSS pixel grid\n"
     ]
    }
   ],
   "source": [
    "print(f\"There are {len(counts)} dispersed bits of pixels to combine into a final WFSS pixel grid\")"
   ]
  },
  {
   "cell_type": "markdown",
   "id": "76d9941e-e949-4af3-8f0a-6066dea3f7ff",
   "metadata": {},
   "source": [
    "We now have a large list of DN/s values and where they should be added onto our simulated WFSS observationn in order to simulate the full dispersed spectrum of our source.\n",
    "There are duplicate entries in the (xcs,ycs) coordinate list as different wavelengths get mixed by the object's \"self-contamination\"."
   ]
  },
  {
   "cell_type": "markdown",
   "id": "8c99799e-2afe-4fff-9d0f-86ff7d0f9e7d",
   "metadata": {},
   "source": [
    "The following plot shows the dispersed input pixels, using blue outlines, projected onto the final WFSS pixels, which are shown as the gray grid. The dispersed pixels are shaded in black proportionally to their flux (in DN/s)."
   ]
  },
  {
   "cell_type": "code",
   "execution_count": 48,
   "id": "34c89144-6321-4b99-b59f-295b3819173b",
   "metadata": {
    "execution": {
     "iopub.execute_input": "2025-02-07T15:01:37.349965Z",
     "iopub.status.busy": "2025-02-07T15:01:37.349639Z",
     "iopub.status.idle": "2025-02-07T15:04:33.003330Z",
     "shell.execute_reply": "2025-02-07T15:04:33.002813Z"
    }
   },
   "outputs": [
    {
     "name": "stderr",
     "output_type": "stream",
     "text": [
      "\r",
      "  0%|          | 0/47 [00:00<?, ?it/s]"
     ]
    },
    {
     "name": "stderr",
     "output_type": "stream",
     "text": [
      "\r",
      "  2%|▏         | 1/47 [00:02<02:00,  2.62s/it]"
     ]
    },
    {
     "name": "stderr",
     "output_type": "stream",
     "text": [
      "\r",
      "  4%|▍         | 2/47 [00:05<02:01,  2.70s/it]"
     ]
    },
    {
     "name": "stderr",
     "output_type": "stream",
     "text": [
      "\r",
      "  6%|▋         | 3/47 [00:08<02:03,  2.80s/it]"
     ]
    },
    {
     "name": "stderr",
     "output_type": "stream",
     "text": [
      "\r",
      "  9%|▊         | 4/47 [00:10<01:49,  2.54s/it]"
     ]
    },
    {
     "name": "stderr",
     "output_type": "stream",
     "text": [
      "\r",
      " 11%|█         | 5/47 [00:13<01:55,  2.76s/it]"
     ]
    },
    {
     "name": "stderr",
     "output_type": "stream",
     "text": [
      "\r",
      " 13%|█▎        | 6/47 [00:15<01:44,  2.54s/it]"
     ]
    },
    {
     "name": "stderr",
     "output_type": "stream",
     "text": [
      "\r",
      " 15%|█▍        | 7/47 [00:19<01:52,  2.82s/it]"
     ]
    },
    {
     "name": "stderr",
     "output_type": "stream",
     "text": [
      "\r",
      " 17%|█▋        | 8/47 [00:21<01:41,  2.59s/it]"
     ]
    },
    {
     "name": "stderr",
     "output_type": "stream",
     "text": [
      "\r",
      " 19%|█▉        | 9/47 [00:24<01:52,  2.95s/it]"
     ]
    },
    {
     "name": "stderr",
     "output_type": "stream",
     "text": [
      "\r",
      " 21%|██▏       | 10/47 [00:27<01:39,  2.69s/it]"
     ]
    },
    {
     "name": "stderr",
     "output_type": "stream",
     "text": [
      "\r",
      " 23%|██▎       | 11/47 [00:29<01:30,  2.52s/it]"
     ]
    },
    {
     "name": "stderr",
     "output_type": "stream",
     "text": [
      "\r",
      " 26%|██▌       | 12/47 [00:33<01:45,  3.01s/it]"
     ]
    },
    {
     "name": "stderr",
     "output_type": "stream",
     "text": [
      "\r",
      " 28%|██▊       | 13/47 [00:35<01:33,  2.74s/it]"
     ]
    },
    {
     "name": "stderr",
     "output_type": "stream",
     "text": [
      "\r",
      " 30%|██▉       | 14/47 [00:37<01:24,  2.55s/it]"
     ]
    },
    {
     "name": "stderr",
     "output_type": "stream",
     "text": [
      "\r",
      " 32%|███▏      | 15/47 [00:39<01:17,  2.42s/it]"
     ]
    },
    {
     "name": "stderr",
     "output_type": "stream",
     "text": [
      "\r",
      " 34%|███▍      | 16/47 [00:44<01:35,  3.08s/it]"
     ]
    },
    {
     "name": "stderr",
     "output_type": "stream",
     "text": [
      "\r",
      " 36%|███▌      | 17/47 [00:46<01:23,  2.80s/it]"
     ]
    },
    {
     "name": "stderr",
     "output_type": "stream",
     "text": [
      "\r",
      " 38%|███▊      | 18/47 [00:48<01:15,  2.60s/it]"
     ]
    },
    {
     "name": "stderr",
     "output_type": "stream",
     "text": [
      "\r",
      " 40%|████      | 19/47 [00:50<01:08,  2.46s/it]"
     ]
    },
    {
     "name": "stderr",
     "output_type": "stream",
     "text": [
      "\r",
      " 43%|████▎     | 20/47 [00:52<01:03,  2.36s/it]"
     ]
    },
    {
     "name": "stderr",
     "output_type": "stream",
     "text": [
      "\r",
      " 45%|████▍     | 21/47 [00:58<01:23,  3.22s/it]"
     ]
    },
    {
     "name": "stderr",
     "output_type": "stream",
     "text": [
      "\r",
      " 47%|████▋     | 22/47 [01:00<01:12,  2.90s/it]"
     ]
    },
    {
     "name": "stderr",
     "output_type": "stream",
     "text": [
      "\r",
      " 49%|████▉     | 23/47 [01:02<01:04,  2.67s/it]"
     ]
    },
    {
     "name": "stderr",
     "output_type": "stream",
     "text": [
      "\r",
      " 51%|█████     | 24/47 [01:04<00:57,  2.51s/it]"
     ]
    },
    {
     "name": "stderr",
     "output_type": "stream",
     "text": [
      "\r",
      " 53%|█████▎    | 25/47 [01:06<00:52,  2.40s/it]"
     ]
    },
    {
     "name": "stderr",
     "output_type": "stream",
     "text": [
      "\r",
      " 55%|█████▌    | 26/47 [01:08<00:48,  2.33s/it]"
     ]
    },
    {
     "name": "stderr",
     "output_type": "stream",
     "text": [
      "\r",
      " 57%|█████▋    | 27/47 [01:14<01:08,  3.43s/it]"
     ]
    },
    {
     "name": "stderr",
     "output_type": "stream",
     "text": [
      "\r",
      " 60%|█████▉    | 28/47 [01:16<00:57,  3.04s/it]"
     ]
    },
    {
     "name": "stderr",
     "output_type": "stream",
     "text": [
      "\r",
      " 62%|██████▏   | 29/47 [01:19<00:49,  2.78s/it]"
     ]
    },
    {
     "name": "stderr",
     "output_type": "stream",
     "text": [
      "\r",
      " 64%|██████▍   | 30/47 [01:21<00:43,  2.59s/it]"
     ]
    },
    {
     "name": "stderr",
     "output_type": "stream",
     "text": [
      "\r",
      " 66%|██████▌   | 31/47 [01:23<00:39,  2.45s/it]"
     ]
    },
    {
     "name": "stderr",
     "output_type": "stream",
     "text": [
      "\r",
      " 68%|██████▊   | 32/47 [01:25<00:35,  2.37s/it]"
     ]
    },
    {
     "name": "stderr",
     "output_type": "stream",
     "text": [
      "\r",
      " 70%|███████   | 33/47 [01:27<00:32,  2.31s/it]"
     ]
    },
    {
     "name": "stderr",
     "output_type": "stream",
     "text": [
      "\r",
      " 72%|███████▏  | 34/47 [01:34<00:48,  3.71s/it]"
     ]
    },
    {
     "name": "stderr",
     "output_type": "stream",
     "text": [
      "\r",
      " 74%|███████▍  | 35/47 [01:36<00:38,  3.24s/it]"
     ]
    },
    {
     "name": "stderr",
     "output_type": "stream",
     "text": [
      "\r",
      " 77%|███████▋  | 36/47 [01:38<00:31,  2.90s/it]"
     ]
    },
    {
     "name": "stderr",
     "output_type": "stream",
     "text": [
      "\r",
      " 79%|███████▊  | 37/47 [01:41<00:26,  2.68s/it]"
     ]
    },
    {
     "name": "stderr",
     "output_type": "stream",
     "text": [
      "\r",
      " 81%|████████  | 38/47 [01:43<00:22,  2.52s/it]"
     ]
    },
    {
     "name": "stderr",
     "output_type": "stream",
     "text": [
      "\r",
      " 83%|████████▎ | 39/47 [01:45<00:19,  2.41s/it]"
     ]
    },
    {
     "name": "stderr",
     "output_type": "stream",
     "text": [
      "\r",
      " 85%|████████▌ | 40/47 [01:47<00:16,  2.34s/it]"
     ]
    },
    {
     "name": "stderr",
     "output_type": "stream",
     "text": [
      "\r",
      " 87%|████████▋ | 41/47 [01:49<00:13,  2.28s/it]"
     ]
    },
    {
     "name": "stderr",
     "output_type": "stream",
     "text": [
      "\r",
      " 89%|████████▉ | 42/47 [01:51<00:11,  2.25s/it]"
     ]
    },
    {
     "name": "stderr",
     "output_type": "stream",
     "text": [
      "\r",
      " 91%|█████████▏| 43/47 [01:54<00:08,  2.23s/it]"
     ]
    },
    {
     "name": "stderr",
     "output_type": "stream",
     "text": [
      "\r",
      " 94%|█████████▎| 44/47 [02:02<00:12,  4.02s/it]"
     ]
    },
    {
     "name": "stderr",
     "output_type": "stream",
     "text": [
      "\r",
      " 96%|█████████▌| 45/47 [02:04<00:06,  3.46s/it]"
     ]
    },
    {
     "name": "stderr",
     "output_type": "stream",
     "text": [
      "\r",
      " 98%|█████████▊| 46/47 [02:06<00:03,  3.07s/it]"
     ]
    },
    {
     "name": "stderr",
     "output_type": "stream",
     "text": [
      "\r",
      "100%|██████████| 47/47 [02:08<00:00,  2.80s/it]"
     ]
    },
    {
     "name": "stderr",
     "output_type": "stream",
     "text": [
      "\r",
      "100%|██████████| 47/47 [02:08<00:00,  2.74s/it]"
     ]
    },
    {
     "name": "stderr",
     "output_type": "stream",
     "text": [
      "\n"
     ]
    },
    {
     "data": {
      "text/plain": [
       "Text(0, 0.5, 'Cross dispersion coordinate (pixel)')"
      ]
     },
     "execution_count": 48,
     "metadata": {},
     "output_type": "execute_result"
    },
    {
     "data": {
      "image/png": "[encoded data removed]",
      "text/plain": [
       "<Figure size 1500x300 with 1 Axes>"
      ]
     },
     "metadata": {},
     "output_type": "display_data"
    }
   ],
   "source": [
    "fig, ax = plt.subplots(1, 1, figsize=(15, 3))\n",
    "for i in tqdm.tqdm(range(len(all_pxs))):\n",
    "    for j in range(len(all_pxs[i])):\n",
    "        \n",
    "        tx = all_pxs[i][j][:]\n",
    "        tx.append(tx[0])\n",
    "        ty = all_pys[i][j][:]\n",
    "        ty.append(ty[0])\n",
    "        plt.plot(tx, ty, color='b', alpha=0.02)\n",
    "        c = all_counts[i]\n",
    "        c[c < 0] = 0\n",
    "        plt.fill(tx, ty, color='k', alpha=c[j])\n",
    "plt.grid()\n",
    "plt.xlim(200, 240)  # change to (0, 700) to see the entire spectrum)\n",
    "plt.xticks(range(200, 240))\n",
    "plt.xlabel(\"Dispersion coordinate (pixel)\")\n",
    "plt.ylabel(\"Cross dispersion coordinate (pixel)\")"
   ]
  },
  {
   "cell_type": "markdown",
   "id": "cf6eb1dc-49e6-4d24-8d6b-745772f5a0aa",
   "metadata": {},
   "source": [
    "To quickly combine all of these counts at each of their WFSS pixel location, we can use scipy.coo_matrix which is fast and efficient:"
   ]
  },
  {
   "cell_type": "code",
   "execution_count": 49,
   "id": "5a67abeb-e623-4509-9eb3-a0c1c5db954a",
   "metadata": {
    "execution": {
     "iopub.execute_input": "2025-02-07T15:04:33.005266Z",
     "iopub.status.busy": "2025-02-07T15:04:33.004916Z",
     "iopub.status.idle": "2025-02-07T15:04:33.052980Z",
     "shell.execute_reply": "2025-02-07T15:04:33.052504Z"
    }
   },
   "outputs": [],
   "source": [
    "xcs = np.array(xcs)\n",
    "ycs = np.array(ycs)\n",
    "\n",
    "# Ignore counts and coordinates that are outside of the detector\n",
    "ok = (xcs >= 0) & (xcs < 2048) & (ycs >= 0) & (ycs < 2048) \n",
    "simulated = coo_matrix((counts[ok], (ycs[ok], xcs[ok])), shape=(2048, 2048)).toarray()"
   ]
  },
  {
   "cell_type": "markdown",
   "id": "ed4dd1c1-4416-459b-86c2-1bca5cb45d15",
   "metadata": {},
   "source": [
    "Show the resulting 2D simulated spectrum for this source. We see a nearly horizontal trace across the field of view. Increasing the x range of the plot to (0, 700) will reveal the full trace."
   ]
  },
  {
   "cell_type": "code",
   "execution_count": 50,
   "id": "8393033d-f186-4c46-a825-5f873cfc17c9",
   "metadata": {
    "execution": {
     "iopub.execute_input": "2025-02-07T15:04:33.055262Z",
     "iopub.status.busy": "2025-02-07T15:04:33.054844Z",
     "iopub.status.idle": "2025-02-07T15:04:33.237506Z",
     "shell.execute_reply": "2025-02-07T15:04:33.237005Z"
    }
   },
   "outputs": [
    {
     "data": {
      "image/png": "[encoded data removed]",
      "text/plain": [
       "<Figure size 1500x300 with 2 Axes>"
      ]
     },
     "metadata": {},
     "output_type": "display_data"
    }
   ],
   "source": [
    "# Change xlim to (0, 700) to see the entire spectrum)\n",
    "show_2d_spec(simulated, xlim=(200, 241), ylim=(1705, 1730), vmin=0, vmax=4)"
   ]
  },
  {
   "cell_type": "markdown",
   "id": "3600044a-778a-459d-b748-ff93f269723c",
   "metadata": {},
   "source": [
    "Show the real data at the same scale. This trace also appears as a nearly horizontal line. The signal level in the real data is slightly higher than that of the simulated data."
   ]
  },
  {
   "cell_type": "code",
   "execution_count": 51,
   "id": "c5aa8e40-ecae-4fee-801e-a79ceba0ac3c",
   "metadata": {
    "execution": {
     "iopub.execute_input": "2025-02-07T15:04:33.239303Z",
     "iopub.status.busy": "2025-02-07T15:04:33.239129Z",
     "iopub.status.idle": "2025-02-07T15:04:33.439018Z",
     "shell.execute_reply": "2025-02-07T15:04:33.438541Z"
    }
   },
   "outputs": [
    {
     "data": {
      "image/png": "[encoded data removed]",
      "text/plain": [
       "<Figure size 1500x300 with 2 Axes>"
      ]
     },
     "metadata": {},
     "output_type": "display_data"
    }
   ],
   "source": [
    "# Change xlim to (0, 700) to see the entire spectrum)\n",
    "show_2d_spec(wfss_data, xlim=(200, 241), ylim=(1705, 1730), vmin=0, vmax=4)"
   ]
  },
  {
   "cell_type": "markdown",
   "id": "cd7d09ae-a8de-41e5-beab-f625eba05343",
   "metadata": {},
   "source": [
    "A good way to check our simulated image is to subtract the simulation from our data. The figure below shows the simulated minus real difference image. The difference in peak level of the trace is visible. The alignment of the simulated and real traces is also apparent as the width of the difference is constant from left to right."
   ]
  },
  {
   "cell_type": "code",
   "execution_count": 52,
   "id": "72a711b7-22ab-4419-bc40-733c2ad88a50",
   "metadata": {
    "execution": {
     "iopub.execute_input": "2025-02-07T15:04:33.440973Z",
     "iopub.status.busy": "2025-02-07T15:04:33.440563Z",
     "iopub.status.idle": "2025-02-07T15:04:33.656143Z",
     "shell.execute_reply": "2025-02-07T15:04:33.655570Z"
    }
   },
   "outputs": [
    {
     "data": {
      "image/png": "[encoded data removed]",
      "text/plain": [
       "<Figure size 1500x300 with 2 Axes>"
      ]
     },
     "metadata": {},
     "output_type": "display_data"
    }
   ],
   "source": [
    "# Change xlim to (0, 700) to see the entire spectrum)\n",
    "show_2d_spec(wfss_data - simulated, xlim=(200, 241), ylim=(1705, 1730), vmin=0, vmax=4)"
   ]
  },
  {
   "cell_type": "markdown",
   "id": "790e3fc8-db68-487a-a87c-26ed7cd65d5c",
   "metadata": {},
   "source": [
    "Sum the simulated spectrum and also the real data in the dispersion direction to check if the trace profiles are well aligned. The figure below shows the summed real data (orange) and simulation (blue line). The left/right alignment of the two peaks shows that the location of the simulated trace is very close to that of the real trace."
   ]
  },
  {
   "cell_type": "code",
   "execution_count": 53,
   "id": "53cbe509",
   "metadata": {
    "execution": {
     "iopub.execute_input": "2025-02-07T15:04:33.657996Z",
     "iopub.status.busy": "2025-02-07T15:04:33.657717Z",
     "iopub.status.idle": "2025-02-07T15:04:33.769730Z",
     "shell.execute_reply": "2025-02-07T15:04:33.769073Z"
    }
   },
   "outputs": [
    {
     "data": {
      "text/plain": [
       "Text(0.5, 0, 'Cross dispersion coordinate (pixel)')"
      ]
     },
     "execution_count": 53,
     "metadata": {},
     "output_type": "execute_result"
    },
    {
     "data": {
      "image/png": "[encoded data removed]",
      "text/plain": [
       "<Figure size 640x480 with 1 Axes>"
      ]
     },
     "metadata": {},
     "output_type": "display_data"
    }
   ],
   "source": [
    "plt.plot(np.nansum(simulated, axis=-1), color='blue')\n",
    "plt.plot(np.nansum(wfss_data, axis=-1), color='orange')\n",
    "plt.xlim(1705, 1730)\n",
    "plt.ylim(0, 3000)\n",
    "plt.grid()\n",
    "plt.ylabel(\"Summed Counts (DN/s\")\n",
    "plt.xlabel(\"Cross dispersion coordinate (pixel)\")"
   ]
  },
  {
   "cell_type": "markdown",
   "id": "2f0f47dd-e5c9-430b-b72b-46b285b1315e",
   "metadata": {},
   "source": [
    "While the simulation appears to be astrometrically correct, we have not accounted for the dispersed background, causing the signal in the simulation to be too low.\n",
    "This should be done using a model of the dispersed background but here, for simplicity and because we are looking at a region where we know the dispersed background is relatively featureless and flat, we can just use the simulation to create  a mask and then compute the background level per pixel.\n",
    "Below we mask pixels in the simulated image above a signal level of 0.001 DN/s. This masks the trace. The remaining pixels, visible below in black, will be used to calculate the background level."
   ]
  },
  {
   "cell_type": "code",
   "execution_count": 54,
   "id": "e826f429-d74f-4d10-bcf2-64cc56ea0c32",
   "metadata": {
    "execution": {
     "iopub.execute_input": "2025-02-07T15:04:33.771806Z",
     "iopub.status.busy": "2025-02-07T15:04:33.771471Z",
     "iopub.status.idle": "2025-02-07T15:04:34.013629Z",
     "shell.execute_reply": "2025-02-07T15:04:34.013132Z"
    }
   },
   "outputs": [
    {
     "data": {
      "image/png": "[encoded data removed]",
      "text/plain": [
       "<Figure size 1500x300 with 2 Axes>"
      ]
     },
     "metadata": {},
     "output_type": "display_data"
    }
   ],
   "source": [
    "# Masked pixels, set to NaN, appear white in the display\n",
    "mask = simulated > 0.0001\n",
    "tmp = simulated * 1.\n",
    "tmp[mask] = np.nan\n",
    "# Change xlim to (0, 700) to see the entire spectrum)\n",
    "show_2d_spec(tmp, xlim=(200, 241), ylim=(1705, 1730), vmin=0, vmax=1)"
   ]
  },
  {
   "cell_type": "markdown",
   "id": "8c109bc6-11cc-481f-9c42-311662f4115f",
   "metadata": {},
   "source": [
    "Compute the median dispersed background level."
   ]
  },
  {
   "cell_type": "code",
   "execution_count": 55,
   "id": "d53aeb0c-7e12-4762-8bd2-a6db7085894c",
   "metadata": {
    "execution": {
     "iopub.execute_input": "2025-02-07T15:04:34.015500Z",
     "iopub.status.busy": "2025-02-07T15:04:34.015133Z",
     "iopub.status.idle": "2025-02-07T15:04:34.073278Z",
     "shell.execute_reply": "2025-02-07T15:04:34.072802Z"
    }
   },
   "outputs": [
    {
     "name": "stdout",
     "output_type": "stream",
     "text": [
      "Background extimated to be 0.4018878638744354 DN/s per pixel\n"
     ]
    }
   ],
   "source": [
    "bck_level = np.nanmedian(wfss_data[~mask])\n",
    "print(f\"Background extimated to be {bck_level} DN/s per pixel\")"
   ]
  },
  {
   "cell_type": "markdown",
   "id": "2a930c02-dff4-46ee-9f8b-be3d10e4336a",
   "metadata": {},
   "source": [
    "Now plot the collapsed simulated data (blue) and background-subtracted real data (orange). The well-aligned peaks show more clearly that the simulated and real traces are well-aligned. The peak of the simulated data is lower than that of the real data, showing that the simulation slightly under-estimates the signal in the real trace."
   ]
  },
  {
   "cell_type": "code",
   "execution_count": 56,
   "id": "d9347308-734f-4873-85cf-bf2dc8a7db94",
   "metadata": {
    "execution": {
     "iopub.execute_input": "2025-02-07T15:04:34.075076Z",
     "iopub.status.busy": "2025-02-07T15:04:34.074904Z",
     "iopub.status.idle": "2025-02-07T15:04:34.186043Z",
     "shell.execute_reply": "2025-02-07T15:04:34.185374Z"
    }
   },
   "outputs": [
    {
     "data": {
      "text/plain": [
       "Text(0.5, 0, 'Cross dispersion coordinate (pixel)')"
      ]
     },
     "execution_count": 56,
     "metadata": {},
     "output_type": "execute_result"
    },
    {
     "data": {
      "image/png": "[encoded data removed]",
      "text/plain": [
       "<Figure size 640x480 with 1 Axes>"
      ]
     },
     "metadata": {},
     "output_type": "display_data"
    }
   ],
   "source": [
    "plt.plot(np.nansum(wfss_data - bck_level, axis=-1), color='orange')\n",
    "plt.xlim(1705, 1730)\n",
    "plt.ylim(-100, 2500)\n",
    "plt.plot(np.nansum(simulated, axis=-1), color='blue')\n",
    "plt.grid()\n",
    "plt.ylabel(\"Summed Counts (DN/s\")\n",
    "plt.xlabel(\"Cross dispersion coordinate (pixel)\")"
   ]
  },
  {
   "cell_type": "markdown",
   "id": "7cc1c7c2-9494-41b5-89b3-9bbf62a75a71",
   "metadata": {},
   "source": [
    "After subtracting the background, the simulated spectrum is a good match to the real data. The 2D simulated spectrum can now be used to subtract contamination of overlapping spectra, as well as to mask dispersed spectral traces when trying to estimate the background."
   ]
  },
  {
   "cell_type": "markdown",
   "id": "d5425e23-86f2-40ac-ad17-4a89c699b53a",
   "metadata": {},
   "source": [
    "<img style=\"float: right;\" src=\"https://raw.githubusercontent.com/spacetelescope/notebooks/master/assets/stsci_pri_combo_mark_horizonal_white_bkgd.png\" alt=\"Space Telescope Logo\" width=\"200px\"/>"
   ]
  }
 ],
 "metadata": {
  "kernelspec": {
   "display_name": "Python 3 (ipykernel)",
   "language": "python",
   "name": "python3"
  },
  "language_info": {
   "codemirror_mode": {
    "name": "ipython",
    "version": 3
   },
   "file_extension": ".py",
   "mimetype": "text/x-python",
   "name": "python",
   "nbconvert_exporter": "python",
   "pygments_lexer": "ipython3",
   "version": "3.11.11"
  }
 },
 "nbformat": 4,
 "nbformat_minor": 5
}
