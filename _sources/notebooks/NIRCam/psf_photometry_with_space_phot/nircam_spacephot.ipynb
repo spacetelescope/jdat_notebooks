{
 "cells": [
  {
   "cell_type": "markdown",
   "id": "b58d6954",
   "metadata": {},
   "source": [
    "# NIRCam PSF Photometry With Space_Phot\n",
    "\n",
    "**Author**: Ori Fox\n",
    "<br>\n",
    "**Last Updated**: January, 2025"
   ]
  },
  {
   "cell_type": "markdown",
   "id": "88c61bcf-1c4d-407a-b80c-aa13a01fd746",
   "metadata": {
    "tags": []
   },
   "source": [
    "## Table of contents\n",
    "1. [Introduction](#intro)<br>\n",
    "2. [Setup](#setup)<br>\n",
    "    2.1 [Python imports](#py_imports)<br>\n",
    "    2.2 [Download data](#bso4)<br>\n",
    "3. [Bright, Single Object](#bso)<br>\n",
    "    3.1 [Multiple, Level2 Files](#bso2)<br>\n",
    "4. [Faint/Upper Limit, Single Object](#fso)<br>\n",
    "    4.1 [Multiple, Level2 Files](#fso2)<br>\n",
    "5. [Stellar Field (LMC)](#lmv)<br>\n",
    "    5.1 [Multiple, Level2 Files](#lmc2)<br>\n",
    "    5.2 [Single, Level3 Mosaicked File](#lmc3)<br>"
   ]
  },
  {
   "cell_type": "markdown",
   "id": "4f572688",
   "metadata": {},
   "source": [
    "1.<font color='white'>-</font>Introduction <a class=\"anchor\" id=\"intro\"></a>\n",
    "------------------"
   ]
  },
  {
   "cell_type": "markdown",
   "id": "95891849",
   "metadata": {},
   "source": [
    "**Packages to Install**:\n",
    "drizzlepac\\\\\n",
    "space_phot https://github.com/jpierel14/space_phot\\\\\n",
    "photutils (on main git+https://github.com/astropy/photutils)\\\\\n",
    "jupyter\\\\\n",
    "\n",
    "**Goals**: \n",
    "\n",
    "PSF Photometry can be obtained using:\n",
    "\n",
    "* grid of PSF models from WebbPSF\n",
    "* single effective PSF (ePSF) NOT YET AVAILABLE\n",
    "* grid of effective PSF NOT YET AVAILABLE\n",
    "\n",
    "The notebook shows:\n",
    "\n",
    "* how to obtain the PSF model from WebbPSF (or build an ePSF)\n",
    "* how to perform PS\n",
    "* photometry on the image"
   ]
  },
  {
   "cell_type": "markdown",
   "id": "1cf3d18f",
   "metadata": {},
   "source": [
    "2.<font color='white'>-</font>Setup <a class=\"anchor\" id=\"setup\"></a>\n",
    "------------------"
   ]
  },
  {
   "cell_type": "markdown",
   "id": "5b762602",
   "metadata": {},
   "source": [
    "### 2.1<font color='white'>-</font>Python imports<a class=\"anchor\" id=\"py_imports\"></a> ###"
   ]
  },
  {
   "cell_type": "code",
   "execution_count": null,
   "id": "8c50eace",
   "metadata": {
    "tags": []
   },
   "outputs": [],
   "source": [
    "from astropy.io import fits\n",
    "from astropy.nddata import extract_array\n",
    "from astropy.coordinates import SkyCoord\n",
    "from astropy import wcs\n",
    "from astropy.wcs.utils import skycoord_to_pixel\n",
    "from astropy import units as u\n",
    "import numpy as np\n",
    "import pandas as pd\n",
    "from astropy.visualization import simple_norm\n",
    "from urllib.parse import urlparse\n",
    "import requests\n",
    "import time\n",
    "import math\n",
    "import logging\n",
    "from jwst.associations import load_asn\n",
    "import matplotlib.pyplot as plt\n",
    "%matplotlib inline\n",
    "\n",
    "from astroquery.mast import Observations\n",
    "import os\n",
    "import tarfile\n",
    "\n",
    "# Background and PSF Functions\n",
    "from photutils.background import MMMBackground, MADStdBackgroundRMS\n",
    "from photutils.detection import DAOStarFinder\n",
    "\n",
    "import space_phot\n",
    "from importlib.metadata import version\n",
    "version('space_phot')"
   ]
  },
  {
   "cell_type": "markdown",
   "id": "5a9b5cbd-5999-43be-9e48-e0abcf726a01",
   "metadata": {},
   "source": [
    "### 2.2<font color='white'>-</font>Download data<a class=\"anchor\" id=\"bso4\"></a> ###"
   ]
  },
  {
   "cell_type": "code",
   "execution_count": null,
   "id": "2fdd7e2a-a1ac-4abc-b40d-6d209642cb75",
   "metadata": {},
   "outputs": [],
   "source": [
    "def get_asn_filenames(program, observation, objnum, filtername):\n",
    "    \"\"\"Query MAST to determine the name of the association file for the given\n",
    "    program, observation, and object number. This function is more convenient\n",
    "    than hardcoding a filename because the filenames include datestamps of when\n",
    "    they were produced. So each time the files are reprocessed in MAST, the\n",
    "    filenames change.\n",
    "\n",
    "    Parameters\n",
    "    ----------\n",
    "    program : int\n",
    "        Program ID number. e.g. 1067\n",
    "\n",
    "    observation : int\n",
    "        Observation number. e.g. 24\n",
    "\n",
    "    objnum : int\n",
    "        Object number. \n",
    "\n",
    "    filtername : str\n",
    "        Name of the filter used in the observation. e.g. \"F444W\"\n",
    "\n",
    "    Returns\n",
    "    -------\n",
    "    files_to_download : list\n",
    "        List of filenames matching the input parameters\n",
    "    \"\"\"\n",
    "    prog_str = str(program).zfill(5)\n",
    "    obs_str = str(observation).zfill(3)\n",
    "    obj_str = str(objnum).zfill(5)\n",
    "    \n",
    "    obs_id_table = Observations.query_criteria(instrument_name=[\"NIRCAM/IMAGE\"],\n",
    "                                               provenance_name=[\"CALJWST\"],  # Executed observations\n",
    "                                               obs_id=['jw' + prog_str + '-o' + obs_str + '*'],\n",
    "                                               filters=[filtername.upper()]\n",
    "                                               )\n",
    "    matching_files = []\n",
    "    for exposure in (obs_id_table):\n",
    "        products = Observations.get_product_list(exposure)\n",
    "        filtered_products = Observations.filter_products(products, productSubGroupDescription='ASN')\n",
    "        matching_files.extend(filtered_products['dataURI'])\n",
    "\n",
    "    matching_files = [os.path.basename(e) for e in matching_files if f'_image3_{obj_str}_asn' in e]\n",
    "    return matching_files"
   ]
  },
  {
   "cell_type": "code",
   "execution_count": null,
   "id": "5f01a02b-aca9-4642-a378-91d4296f4bd8",
   "metadata": {},
   "outputs": [],
   "source": [
    "def download_files(files_to_download):\n",
    "    \"\"\"Download a list of files from MAST.\n",
    "\n",
    "    Parameters\n",
    "    ----------\n",
    "    files_to_download : list\n",
    "        List of filenames\n",
    "    \"\"\"\n",
    "    for file in files_to_download:\n",
    "        # Check if the file already exists in the current working directory\n",
    "        if os.path.exists(file):\n",
    "            print(f\"File {file} already exists. Skipping download.\")\n",
    "            continue\n",
    "        cal_uri = f'mast:JWST/product/{file}'\n",
    "        Observations.download_file(cal_uri)"
   ]
  },
  {
   "cell_type": "code",
   "execution_count": null,
   "id": "545860a5-cca4-4185-82fb-e4d962690be8",
   "metadata": {},
   "outputs": [],
   "source": [
    "# Download NIRCam Data PID 1537 (Calibration Program) and NIRCam Data PID 1476 (LMC)\n",
    "files_to_download = ['jw01537-o024_t001_nircam_clear-f444w-sub160_i2d.fits',\n",
    "                     'jw01537024001_0310a_00001_nrcblong_cal.fits',\n",
    "                     'jw01537024001_0310a_00002_nrcblong_cal.fits',\n",
    "                     'jw01537024001_0310a_00003_nrcblong_cal.fits',\n",
    "                     'jw01537024001_0310a_00004_nrcblong_cal.fits',\n",
    "                     'jw01537024001_0310k_00001_nrcblong_cal.fits',\n",
    "                     'jw01537024001_0310k_00002_nrcblong_cal.fits',\n",
    "                     'jw01537024001_0310k_00003_nrcblong_cal.fits',\n",
    "                     'jw01537024001_0310k_00004_nrcblong_cal.fits',\n",
    "                     'jw01476-o001_t001_nircam_clear-f150w_i2d.fits',\n",
    "                     'jw01476001007_02101_00001_nrca1_cal.fits',\n",
    "                     'jw01476001007_02101_00002_nrca1_cal.fits',\n",
    "                     'jw01476001007_02101_00003_nrca1_cal.fits',\n",
    "                     'jw01476001008_02101_00001_nrca1_cal.fits',\n",
    "                     'jw01476001008_02101_00002_nrca1_cal.fits',\n",
    "                     'jw01476001008_02101_00003_nrca1_cal.fits',\n",
    "                     'jw01476001008_02101_00004_nrca1_cal.fits',\n",
    "                     'jw01476001008_02101_00005_nrca1_cal.fits',\n",
    "                     'jw01476001008_02101_00006_nrca1_cal.fits'\n",
    "                     ]\n",
    "\n",
    "# Get the names of the related association files and add those\n",
    "# to the list of files to download\n",
    "asn_files_to_download = [get_asn_filenames(1537, 24, 1, 'F444W')[0],\n",
    "                         get_asn_filenames(1476, 1, 23, 'F150W')[0]\n",
    "                         ]\n",
    "files_to_download += asn_files_to_download\n",
    "\n",
    "# Call the function to download files\n",
    "download_files(files_to_download)"
   ]
  },
  {
   "cell_type": "markdown",
   "id": "5611799d",
   "metadata": {},
   "source": [
    "3.<font color='white'>-</font>Bright, Single Object<a class=\"anchor\" id=\"bso\"></a>\n",
    "------------------"
   ]
  },
  {
   "cell_type": "markdown",
   "id": "55c52f95",
   "metadata": {},
   "source": [
    "### 3.1<font color='white'>-</font>Multiple, Level2 Files<a class=\"anchor\" id=\"bso2\"></a> ###"
   ]
  },
  {
   "cell_type": "code",
   "execution_count": null,
   "id": "8f44a6cf",
   "metadata": {
    "tags": []
   },
   "outputs": [],
   "source": [
    "# Level 3 Files: NIRCam Data PID 1537 (Calibration Program):\n",
    "lvl3 = 'jw01537-o024_t001_nircam_clear-f444w-sub160_i2d.fits'\n",
    "lvl3"
   ]
  },
  {
   "cell_type": "code",
   "execution_count": null,
   "id": "e7a50b5b",
   "metadata": {},
   "outputs": [],
   "source": [
    "hdl = fits.open(lvl3)\n",
    "hdr = hdl[0].header\n",
    "asnfile = hdr['ASNTABLE']\n",
    "lvl2_prelim = []\n",
    "asn_data = load_asn(open(asnfile))\n",
    "for member in asn_data['products'][0]['members']:\n",
    "    #print(member['expname'])\n",
    "    lvl2_prelim.append(member['expname'])\n",
    "    \n",
    "lvl2_prelim"
   ]
  },
  {
   "cell_type": "code",
   "execution_count": null,
   "id": "68a7181e",
   "metadata": {},
   "outputs": [],
   "source": [
    "# Sort out LVL2 Data That Includes The Actual Source (there are 4 detectors)\n",
    "source_location = SkyCoord('5:05:30.6593', '+52:49:49.862', unit=(u.hourangle, u.deg))\n",
    "lvl2 = []\n",
    "for ref_image in lvl2_prelim:\n",
    "    print(ref_image)\n",
    "    ref_fits = fits.open(ref_image)\n",
    "    ref_data = fits.open(ref_image)['SCI', 1].data\n",
    "    ref_y, ref_x = skycoord_to_pixel(source_location, wcs.WCS(ref_fits['SCI', 1], ref_fits))\n",
    "    print(ref_y, ref_x)\n",
    "    try:\n",
    "        extract_array(ref_data, (11, 11), (ref_x, ref_y)) # block raising an exception\n",
    "    except Exception as e:\n",
    "        logging.error(f\"An error occurred: {e}\")\n",
    "        pass  # Doing nothing on exception, but logging it\n",
    "    else:\n",
    "        lvl2.append(ref_image)\n",
    "        print(ref_image + ' added to final list')\n",
    "        \n",
    "lvl2"
   ]
  },
  {
   "cell_type": "code",
   "execution_count": null,
   "id": "cc2ae63a",
   "metadata": {},
   "outputs": [],
   "source": [
    "# Change all DQ flagged pixels to NANs\n",
    "for file in lvl2:\n",
    "    hdul = fits.open(file, mode='update')\n",
    "    data = fits.open(file)['SCI', 1].data\n",
    "    dq = fits.open(file)['DQ', 1].data\n",
    "    data[dq == 1] = np.nan\n",
    "    hdul['SCI', 1].data = data\n",
    "    hdul.flush()"
   ]
  },
  {
   "cell_type": "code",
   "execution_count": null,
   "id": "37bb2026",
   "metadata": {
    "tags": []
   },
   "outputs": [],
   "source": [
    "# Examine the First Image\n",
    "ref_image = lvl2[0]\n",
    "print(ref_image)\n",
    "ref_fits = fits.open(ref_image)\n",
    "ref_data = fits.open(ref_image)['SCI', 1].data\n",
    "norm1 = simple_norm(ref_data, stretch='linear', min_cut=-1, max_cut=10)\n",
    "\n",
    "plt.imshow(ref_data, origin='lower', norm=norm1, cmap='gray')\n",
    "plt.gca().tick_params(labelcolor='none', axis='both', color='none')\n",
    "plt.show()\n",
    "lvl2[0]"
   ]
  },
  {
   "cell_type": "code",
   "execution_count": null,
   "id": "f647dfde",
   "metadata": {
    "tags": []
   },
   "outputs": [],
   "source": [
    "# Zoom in to see the source\n",
    "ref_y, ref_x = skycoord_to_pixel(source_location, wcs.WCS(ref_fits['SCI', 1], ref_fits))\n",
    "ref_cutout = extract_array(ref_data, (11, 11), (ref_x, ref_y))\n",
    "norm1 = simple_norm(ref_cutout, stretch='linear', min_cut=-10, max_cut=1000)\n",
    "plt.imshow(ref_cutout, origin='lower',\n",
    "           norm=norm1, cmap='gray')\n",
    "plt.title('PID1537,Obs024')\n",
    "plt.gca().tick_params(labelcolor='none', axis='both', color='none')\n",
    "plt.show()\n",
    "\n",
    "ref_cutout"
   ]
  },
  {
   "cell_type": "code",
   "execution_count": null,
   "id": "d67d57b9",
   "metadata": {
    "tags": []
   },
   "outputs": [],
   "source": [
    "# Set environmental variables\n",
    "os.environ[\"WEBBPSF_PATH\"] = \"./webbpsf-data/webbpsf-data\"\n",
    "os.environ[\"PYSYN_CDBS\"] = \"./grp/redcat/trds/\"\n",
    "\n",
    "# required webbpsf data\n",
    "boxlink = 'https://stsci.box.com/shared/static/qxpiaxsjwo15ml6m4pkhtk36c9jgj70k.gz'                                                          \n",
    "boxfile = './webbpsf-data/webbpsf-data-LATEST.tar.gz'\n",
    "synphot_url = 'http://ssb.stsci.edu/trds/tarfiles/synphot5.tar.gz'\n",
    "synphot_file = './synphot5.tar.gz'\n",
    "\n",
    "webbpsf_folder = './webbpsf-data'\n",
    "synphot_folder = './grp'\n",
    "\n",
    "\n",
    "def download_file(url, dest_path, timeout=60):\n",
    "    parsed_url = urlparse(url)\n",
    "    if parsed_url.scheme not in [\"http\", \"https\"]:\n",
    "        raise ValueError(f\"Unsupported URL scheme: {parsed_url.scheme}\")\n",
    "\n",
    "    response = requests.get(url, stream=True, timeout=timeout)\n",
    "    response.raise_for_status()\n",
    "    with open(dest_path, \"wb\") as f:\n",
    "        for chunk in response.iter_content(chunk_size=8192):\n",
    "            f.write(chunk)\n",
    "\n",
    "\n",
    "# Gather webbpsf files\n",
    "psfExist = os.path.exists(webbpsf_folder)\n",
    "if not psfExist:\n",
    "    os.makedirs(webbpsf_folder)\n",
    "    download_file(boxlink, boxfile)\n",
    "    gzf = tarfile.open(boxfile)\n",
    "    gzf.extractall(webbpsf_folder, filter='data')\n",
    "\n",
    "# Gather synphot files\n",
    "synExist = os.path.exists(synphot_folder)\n",
    "if not synExist:\n",
    "    os.makedirs(synphot_folder)\n",
    "    download_file(synphot_url, synphot_file)\n",
    "    gzf = tarfile.open(synphot_file)\n",
    "    gzf.extractall('./', filter='data')\n",
    "\n",
    "# Get PSF from WebbPSF\n",
    "jwst_obs = space_phot.observation2(lvl2)\n",
    "psfs = space_phot.get_jwst_psf(jwst_obs, source_location)\n",
    "plt.imshow(psfs[0].data)\n",
    "plt.show()"
   ]
  },
  {
   "cell_type": "code",
   "execution_count": null,
   "id": "c9a1b447",
   "metadata": {
    "tags": []
   },
   "outputs": [],
   "source": [
    "# Do PSF Photometry using space_phot (details of fitting are in documentation)\n",
    "# https://st-phot.readthedocs.io/en/latest/examples/plot_a_psf.html#jwst-images\n",
    "jwst_obs.psf_photometry(psfs, source_location, bounds={'flux': [-10, 10000],\n",
    "                        'centroid': [-2, 2],\n",
    "                        'bkg': [0, 50]},\n",
    "                        fit_width=5,\n",
    "                        fit_bkg=True,\n",
    "                        fit_flux='single')\n",
    "jwst_obs.plot_psf_fit()\n",
    "plt.show()\n",
    "\n",
    "jwst_obs.plot_psf_posterior(minweight=.0005)\n",
    "plt.show()\n",
    "\n",
    "print(jwst_obs.psf_result.phot_cal_table)"
   ]
  },
  {
   "cell_type": "code",
   "execution_count": null,
   "id": "31bd70f0",
   "metadata": {
    "tags": []
   },
   "outputs": [],
   "source": [
    "# Calculate Average Magnitude from Table\n",
    "mag_arr = jwst_obs.psf_result.phot_cal_table['mag']\n",
    "magerr_arr = jwst_obs.psf_result.phot_cal_table['magerr']\n",
    "\n",
    "mag_lvl2psf = np.mean(mag_arr)\n",
    "magerr_lvl2psf = math.sqrt(sum(p**2 for p in magerr_arr))\n",
    "print(round(mag_lvl2psf, 4), round(magerr_lvl2psf, 4))"
   ]
  },
  {
   "cell_type": "markdown",
   "id": "5b5f0ad5-b59e-4eff-8687-f6a2199d8bd9",
   "metadata": {},
   "source": [
    "4.<font color='white'>-</font>Faint/Upper Limit, Single Object<a class=\"anchor\" id=\"fso\"></a>\n",
    "------------------"
   ]
  },
  {
   "cell_type": "markdown",
   "id": "8af6f83a-5925-44d5-be0f-facd2316d1ca",
   "metadata": {},
   "source": [
    "### 4.1<font color='white'>-</font>Multiple, Level2 Files<a class=\"anchor\" id=\"fso2\"></a> ###"
   ]
  },
  {
   "cell_type": "code",
   "execution_count": null,
   "id": "ba101fd1",
   "metadata": {
    "tags": []
   },
   "outputs": [],
   "source": [
    "# Level 3 Files\n",
    "lvl3 = 'jw01537-o024_t001_nircam_clear-f444w-sub160_i2d.fits'\n",
    "lvl3"
   ]
  },
  {
   "cell_type": "code",
   "execution_count": null,
   "id": "7725111b",
   "metadata": {},
   "outputs": [],
   "source": [
    "from jwst.associations import load_asn\n",
    "hdl = fits.open(lvl3)\n",
    "hdr = hdl[0].header\n",
    "asnfile = hdr['ASNTABLE']\n",
    "lvl2_prelim = []\n",
    "asn_data = load_asn(open(asnfile))\n",
    "for member in asn_data['products'][0]['members']:\n",
    "    lvl2_prelim.append(member['expname'])\n",
    "    \n",
    "lvl2_prelim"
   ]
  },
  {
   "cell_type": "code",
   "execution_count": null,
   "id": "a3536472",
   "metadata": {},
   "outputs": [],
   "source": [
    "# Sort out LVL2 Data That Includes The Actual Source (there are 4 detectors)\n",
    "source_location = SkyCoord('5:05:30.6186', '+52:49:49.130', unit=(u.hourangle, u.deg))\n",
    "lvl2 = []\n",
    "for ref_image in lvl2_prelim:\n",
    "    print(ref_image)\n",
    "    ref_fits = fits.open(ref_image)\n",
    "    ref_data = fits.open(ref_image)['SCI', 1].data\n",
    "    ref_y, ref_x = skycoord_to_pixel(source_location, wcs.WCS(ref_fits['SCI', 1], ref_fits))\n",
    "    print(ref_y, ref_x)\n",
    "    try:\n",
    "        extract_array(ref_data, (11, 11), (ref_x, ref_y)) # block raising an exception\n",
    "    except Exception as e:\n",
    "        logging.error(f\"An error occurred: {e}\")\n",
    "        pass  # Doing nothing on exception, but logging it\n",
    "    else:\n",
    "        lvl2.append(ref_image)\n",
    "        print(ref_image + ' added to final list')\n",
    "        \n",
    "lvl2"
   ]
  },
  {
   "cell_type": "code",
   "execution_count": null,
   "id": "322b5a27",
   "metadata": {},
   "outputs": [],
   "source": [
    "# Change all DQ flagged pixels to NANs\n",
    "for file in lvl2:\n",
    "    hdul = fits.open(file, mode='update')\n",
    "    data = fits.open(file)['SCI', 1].data\n",
    "    dq = fits.open(file)['DQ', 1].data\n",
    "    data[dq == 1] = np.nan\n",
    "    hdul['SCI', 1].data = data\n",
    "    hdul.flush()"
   ]
  },
  {
   "cell_type": "code",
   "execution_count": null,
   "id": "273fcf6c",
   "metadata": {
    "tags": []
   },
   "outputs": [],
   "source": [
    "# Examine the First Image\n",
    "ref_image = lvl2[0]\n",
    "print(ref_image)\n",
    "ref_fits = fits.open(ref_image)\n",
    "ref_data = fits.open(ref_image)['SCI', 1].data\n",
    "norm1 = simple_norm(ref_data, stretch='linear', min_cut=-1, max_cut=25)\n",
    "\n",
    "plt.imshow(ref_data, origin='lower', norm=norm1, cmap='gray')\n",
    "plt.gca().tick_params(labelcolor='none', axis='both', color='none')\n",
    "plt.show()"
   ]
  },
  {
   "cell_type": "code",
   "execution_count": null,
   "id": "6ceb5541",
   "metadata": {
    "tags": []
   },
   "outputs": [],
   "source": [
    "# Pick a blank part of the sky to calculate the upper limit\n",
    "ref_y, ref_x = skycoord_to_pixel(source_location, wcs.WCS(ref_fits['SCI', 1], ref_fits))\n",
    "ref_cutout = extract_array(ref_data, (11, 11), (ref_x, ref_y))\n",
    "norm1 = simple_norm(ref_cutout, stretch='linear', min_cut=-1, max_cut=25)\n",
    "plt.imshow(ref_cutout, origin='lower',\n",
    "           norm=norm1, cmap='gray')\n",
    "plt.title('PID1028,Obs006')\n",
    "plt.gca().tick_params(labelcolor='none', axis='both', color='none')\n",
    "plt.show()"
   ]
  },
  {
   "cell_type": "code",
   "execution_count": null,
   "id": "72b8c907",
   "metadata": {
    "tags": []
   },
   "outputs": [],
   "source": [
    "# Get PSF from WebbPSF\n",
    "jwst_obs = space_phot.observation2(lvl2)\n",
    "psfs = space_phot.get_jwst_psf(jwst_obs, source_location)\n",
    "plt.imshow(psfs[0].data)\n",
    "plt.show()"
   ]
  },
  {
   "cell_type": "code",
   "execution_count": null,
   "id": "a2615569",
   "metadata": {
    "tags": []
   },
   "outputs": [],
   "source": [
    "# Do PSF Photometry using space_phot (details of fitting are in documentation)\n",
    "# https://st-phot.readthedocs.io/en/latest/examples/plot_a_psf.html#jwst-images\n",
    "jwst_obs.psf_photometry(\n",
    "    psfs,\n",
    "    source_location,\n",
    "    bounds={\n",
    "        'flux': [-10, 1000],\n",
    "        'bkg': [0, 50]\n",
    "    },\n",
    "    fit_width=5,\n",
    "    fit_bkg=True,\n",
    "    fit_centroid='fixed',\n",
    "    fit_flux='single'\n",
    ")\n",
    "\n",
    "jwst_obs.plot_psf_fit()\n",
    "plt.show()\n",
    "\n",
    "jwst_obs.plot_psf_posterior(minweight=.0005)\n",
    "plt.show()\n",
    "\n",
    "print(jwst_obs.psf_result.phot_cal_table)"
   ]
  },
  {
   "cell_type": "code",
   "execution_count": null,
   "id": "234c8a45",
   "metadata": {},
   "outputs": [],
   "source": [
    "# Print Upper Limits\n",
    "magupper_lvl2psf = jwst_obs.upper_limit(nsigma=5)\n",
    "magupper_lvl2psf"
   ]
  },
  {
   "cell_type": "markdown",
   "id": "9a969717-bbef-40b9-ac9b-f83dec99dc09",
   "metadata": {},
   "source": [
    "5.<font color='white'>-</font>Stellar Field (LMC)<a class=\"anchor\" id=\"lmc\"></a>\n",
    "------------------"
   ]
  },
  {
   "cell_type": "markdown",
   "id": "32bdafe6-db19-4080-9587-b9785c2f7fa7",
   "metadata": {},
   "source": [
    "### 5.1<font color='white'>-</font>Multiple, Level2 Files<a class=\"anchor\" id=\"lmc2\"></a> ###"
   ]
  },
  {
   "cell_type": "markdown",
   "id": "b618756f",
   "metadata": {},
   "source": [
    "##### Now do the same thing for a larger group of stars and test for speed"
   ]
  },
  {
   "cell_type": "code",
   "execution_count": null,
   "id": "838bd76d",
   "metadata": {
    "tags": []
   },
   "outputs": [],
   "source": [
    "# Level 3 Files: NIRCam Data PID 1476 (LMC)\n",
    "lvl3 = 'jw01476-o001_t001_nircam_clear-f150w_i2d.fits'\n",
    "lvl3"
   ]
  },
  {
   "cell_type": "code",
   "execution_count": null,
   "id": "ee3c3389",
   "metadata": {},
   "outputs": [],
   "source": [
    "hdl = fits.open(lvl3)\n",
    "hdr = hdl[0].header\n",
    "asnfile = hdr['ASNTABLE']\n",
    "lvl2 = []\n",
    "asn_data = load_asn(open(asnfile))\n",
    "for member in asn_data['products'][0]['members']:\n",
    "    lvl2.append(member['expname'])\n",
    "    \n",
    "lvl2 = [s for s in lvl2 if \"nrca1\" in s]\n",
    "lvl2"
   ]
  },
  {
   "cell_type": "code",
   "execution_count": null,
   "id": "57f9d790",
   "metadata": {
    "tags": []
   },
   "outputs": [],
   "source": [
    "# Find Stars in Level 3 File\n",
    "# Get rough estimate of background (There are Better Ways to Do Background Subtraction)\n",
    "bkgrms = MADStdBackgroundRMS()\n",
    "mmm_bkg = MMMBackground()\n",
    "\n",
    "im = fits.open(lvl3) \n",
    "w = wcs.WCS(im['SCI', 1])\n",
    "\n",
    "std = bkgrms(im[1].data)\n",
    "bkg = mmm_bkg(im[1].data)\n",
    "data_bkgsub = im[1].data.copy()\n",
    "data_bkgsub -= bkg        \n",
    "sigma_psf = 1.636 # pixls for F770W\n",
    "threshold = 5.\n",
    "\n",
    "daofind = DAOStarFinder(threshold=threshold * std, fwhm=sigma_psf, exclude_border=True)\n",
    "found_stars = daofind(data_bkgsub)"
   ]
  },
  {
   "cell_type": "code",
   "execution_count": null,
   "id": "e4cee97c",
   "metadata": {
    "tags": []
   },
   "outputs": [],
   "source": [
    "found_stars.pprint_all(max_lines=10)"
   ]
  },
  {
   "cell_type": "code",
   "execution_count": null,
   "id": "7c7d793b",
   "metadata": {
    "tags": []
   },
   "outputs": [],
   "source": [
    "# Filter out only stars you want\n",
    "plt.figure(figsize=(12, 8))\n",
    "plt.clf()\n",
    "\n",
    "ax1 = plt.subplot(2, 1, 1)\n",
    "\n",
    "ax1.set_xlabel('mag')\n",
    "ax1.set_ylabel('sharpness')\n",
    "\n",
    "xlim0 = np.min(found_stars['mag']) - 0.25\n",
    "xlim1 = np.max(found_stars['mag']) + 0.25\n",
    "ylim0 = np.min(found_stars['sharpness']) - 0.15\n",
    "ylim1 = np.max(found_stars['sharpness']) + 0.15\n",
    "\n",
    "ax1.set_xlim(xlim0, xlim1)\n",
    "ax1.set_ylim(ylim0, ylim1)\n",
    "\n",
    "ax1.scatter(found_stars['mag'], found_stars['sharpness'], s=10, color='k')\n",
    "\n",
    "sh_inf = 0.40\n",
    "sh_sup = 0.82\n",
    "lmag_lim = -1.0\n",
    "umag_lim = -6.0\n",
    "\n",
    "ax1.plot([xlim0, xlim1], [sh_sup, sh_sup], color='r', lw=3, ls='--')\n",
    "ax1.plot([xlim0, xlim1], [sh_inf, sh_inf], color='r', lw=3, ls='--')\n",
    "ax1.plot([lmag_lim, lmag_lim], [ylim0, ylim1], color='r', lw=3, ls='--')\n",
    "ax1.plot([umag_lim, umag_lim], [ylim0, ylim1], color='r', lw=3, ls='--')\n",
    "\n",
    "ax2 = plt.subplot(2, 1, 2)\n",
    "\n",
    "ax2.set_xlabel('mag')\n",
    "ax2.set_ylabel('roundness')\n",
    "\n",
    "ylim0 = np.min(found_stars['roundness2']) - 0.25\n",
    "ylim1 = np.max(found_stars['roundness2']) - 0.25\n",
    "\n",
    "ax2.set_xlim(xlim0, xlim1)\n",
    "ax2.set_ylim(ylim0, ylim1)\n",
    "\n",
    "round_inf = -0.40\n",
    "round_sup = 0.40\n",
    "\n",
    "ax2.scatter(found_stars['mag'], found_stars['roundness2'], s=10, color='k')\n",
    "\n",
    "ax2.plot([xlim0, xlim1], [round_sup, round_sup], color='r', lw=3, ls='--')\n",
    "ax2.plot([xlim0, xlim1], [round_inf, round_inf], color='r', lw=3, ls='--')\n",
    "ax2.plot([lmag_lim, lmag_lim], [ylim0, ylim1], color='r', lw=3, ls='--')\n",
    "ax2.plot([umag_lim, umag_lim], [ylim0, ylim1], color='r', lw=3, ls='--')\n",
    "\n",
    "plt.tight_layout()"
   ]
  },
  {
   "cell_type": "code",
   "execution_count": null,
   "id": "6ac852af",
   "metadata": {
    "tags": []
   },
   "outputs": [],
   "source": [
    "mask = ((found_stars['mag'] < lmag_lim) & (found_stars['mag'] > umag_lim) & (found_stars['roundness2'] > round_inf)\n",
    "        & (found_stars['roundness2'] < round_sup) & (found_stars['sharpness'] > sh_inf) \n",
    "        & (found_stars['sharpness'] < sh_sup) & (found_stars['xcentroid'] > 1940) & (found_stars['xcentroid'] < 2000)\n",
    "        & (found_stars['ycentroid'] > 1890) & (found_stars['ycentroid'] < 1960))\n",
    "\n",
    "found_stars_sel = found_stars[mask]\n",
    "\n",
    "print('Number of stars found originally:', len(found_stars))\n",
    "print('Number of stars in final selection:', len(found_stars_sel))"
   ]
  },
  {
   "cell_type": "code",
   "execution_count": null,
   "id": "567f81f5",
   "metadata": {
    "tags": []
   },
   "outputs": [],
   "source": [
    "found_stars_sel"
   ]
  },
  {
   "cell_type": "code",
   "execution_count": null,
   "id": "3a62c53a",
   "metadata": {
    "tags": []
   },
   "outputs": [],
   "source": [
    "# Convert pixel to wcs coords\n",
    "skycoords = w.pixel_to_world(found_stars_sel['xcentroid'], found_stars_sel['ycentroid'])\n",
    "len(skycoords)"
   ]
  },
  {
   "cell_type": "code",
   "execution_count": null,
   "id": "03b8ff39",
   "metadata": {
    "tags": []
   },
   "outputs": [],
   "source": [
    "lvl2"
   ]
  },
  {
   "cell_type": "code",
   "execution_count": null,
   "id": "0195f1ce",
   "metadata": {
    "tags": []
   },
   "outputs": [],
   "source": [
    "file = lvl2[0]\n",
    "dq = fits.open(file)['DQ', 1].data\n",
    "dq[233, 340]"
   ]
  },
  {
   "cell_type": "code",
   "execution_count": null,
   "id": "e6c46e19",
   "metadata": {
    "tags": []
   },
   "outputs": [],
   "source": [
    "# Change all DQ flagged pixels to NANs\n",
    "for file in lvl2:\n",
    "    hdul = fits.open(file, mode='update')\n",
    "    data = fits.open(file)['SCI', 1].data\n",
    "    dq = fits.open(file)['DQ', 1].data\n",
    "    data[dq == 262657] = np.nan\n",
    "    data[dq == 262661] = np.nan\n",
    "    hdul['SCI', 1].data = data\n",
    "    hdul.flush()"
   ]
  },
  {
   "cell_type": "code",
   "execution_count": null,
   "id": "5516a64f",
   "metadata": {
    "tags": []
   },
   "outputs": [],
   "source": [
    "# Create a grid for fast lookup using WebbPSF. The larger the grid, the better the photometric precision.\n",
    "# Developer note. Would be great to have a fast/approximate look up table.\n",
    "jwst_obs = space_phot.observation2(lvl2)\n",
    "grid = space_phot.util.get_jwst_psf_grid(jwst_obs, num_psfs=4)"
   ]
  },
  {
   "cell_type": "code",
   "execution_count": null,
   "id": "b85e222f",
   "metadata": {
    "tags": []
   },
   "outputs": [],
   "source": [
    "# Now Loop Through All Stars and Build Photometry Table\n",
    "counter = 0.\n",
    "badindex = []\n",
    "\n",
    "jwst_obs = space_phot.observation2(lvl2)\n",
    "for source_location in skycoords:\n",
    "    tic = time.perf_counter()\n",
    "    print('Starting', counter+1., ' of', len(skycoords), ':', source_location)\n",
    "    psfs = space_phot.util.get_jwst_psf_from_grid(jwst_obs, source_location, grid)\n",
    "    jwst_obs.psf_photometry(\n",
    "        psfs,\n",
    "        source_location,\n",
    "        bounds={\n",
    "            'flux': [-100, 1000],\n",
    "            'centroid': [-2., 2.],\n",
    "            'bkg': [0, 50]\n",
    "        },\n",
    "        fit_width=3,\n",
    "        fit_bkg=False,\n",
    "        fit_flux='single',\n",
    "        maxiter=5000\n",
    "    )\n",
    "    \n",
    "    jwst_obs.plot_psf_fit()\n",
    "    plt.show()\n",
    "    \n",
    "    ra = jwst_obs.psf_result.phot_cal_table['ra'][0]\n",
    "    dec = jwst_obs.psf_result.phot_cal_table['dec'][0]\n",
    "    mag_arr = jwst_obs.psf_result.phot_cal_table['mag']\n",
    "    magerr_arr = jwst_obs.psf_result.phot_cal_table['magerr']\n",
    "    mag_lvl2psf = np.mean(mag_arr)\n",
    "    magerr_lvl2psf = math.sqrt(sum(p**2 for p in magerr_arr))\n",
    "\n",
    "    if counter == 0:\n",
    "        df = pd.DataFrame(np.array([[ra, dec, mag_lvl2psf, magerr_lvl2psf]]), columns=['ra', 'dec', 'mag', 'magerr'])\n",
    "    else:\n",
    "        df = pd.concat([df, pd.DataFrame(np.array([[ra, dec, mag_lvl2psf, magerr_lvl2psf]]))], ignore_index=True)\n",
    "    counter = counter + 1.\n",
    "    \n",
    "    toc = time.perf_counter()\n",
    "    print(\"Elapsed Time for Photometry:\", toc - tic)"
   ]
  },
  {
   "cell_type": "markdown",
   "id": "3604e260-2da4-4f43-b306-fb7cd65e738b",
   "metadata": {},
   "source": [
    "### 5.2<font color='white'>-</font>Single, Level3 Mosaicked File<a class=\"anchor\" id=\"lmc3\"></a> ###"
   ]
  },
  {
   "cell_type": "code",
   "execution_count": null,
   "id": "a57e893d-92cb-4de6-8c64-69911b691246",
   "metadata": {
    "tags": []
   },
   "outputs": [],
   "source": [
    "lvl3"
   ]
  },
  {
   "cell_type": "code",
   "execution_count": null,
   "id": "24dbbba6-6d1a-40b2-9028-de916cdc76e4",
   "metadata": {
    "tags": []
   },
   "outputs": [],
   "source": [
    "# Now do the same photometry on the Level 3 Data\n",
    "ref_image = lvl3\n",
    "ref_fits = fits.open(ref_image)\n",
    "ref_data = fits.open(ref_image)['SCI', 1].data\n",
    "norm1 = simple_norm(ref_data, stretch='linear', min_cut=-1, max_cut=10)\n",
    "\n",
    "plt.imshow(ref_data, origin='lower',\n",
    "           norm=norm1, cmap='gray')\n",
    "plt.gca().tick_params(labelcolor='none', axis='both', color='none')\n",
    "plt.show()"
   ]
  },
  {
   "cell_type": "code",
   "execution_count": null,
   "id": "5be212d8-c43a-478e-98ed-b1877e44a347",
   "metadata": {
    "tags": []
   },
   "outputs": [],
   "source": [
    "# Get PSF from WebbPSF and drizzle it to the source location\n",
    "# Develop Note: Need Grid Capability for Level3 Data\n",
    "jwst3_obs = space_phot.observation3(lvl3)"
   ]
  },
  {
   "cell_type": "code",
   "execution_count": null,
   "id": "922accc4-2179-4e03-ad60-2beeb594faea",
   "metadata": {
    "tags": []
   },
   "outputs": [],
   "source": [
    "# Now Loop Through All Stars and Build Photometry Table\n",
    "counter = 0.\n",
    "badindex = []\n",
    "\n",
    "for source_location in skycoords:\n",
    "    tic = time.perf_counter()\n",
    "    print('Starting', counter+1., ' of', len(skycoords), ':', source_location)\n",
    "    psf3 = space_phot.get_jwst3_psf(jwst_obs, jwst3_obs, source_location, num_psfs=4)\n",
    "    jwst3_obs.psf_photometry(\n",
    "        psf3,\n",
    "        source_location,\n",
    "        bounds={\n",
    "            'flux': [-1000, 10000],\n",
    "            'centroid': [-2, 2],\n",
    "            'bkg': [0, 50]\n",
    "        },\n",
    "        fit_width=5,\n",
    "        fit_bkg=True,\n",
    "        fit_flux=True\n",
    "    )\n",
    "\n",
    "    jwst3_obs.plot_psf_fit()\n",
    "    plt.show()\n",
    "\n",
    "    ra = jwst3_obs.psf_result.phot_cal_table['ra'][0]\n",
    "    dec = jwst3_obs.psf_result.phot_cal_table['dec'][0]\n",
    "    mag_lvl3psf = jwst3_obs.psf_result.phot_cal_table['mag'][0]\n",
    "    magerr_lvl3psf = jwst3_obs.psf_result.phot_cal_table['magerr'][0]\n",
    "\n",
    "    if counter == 0:\n",
    "        df = pd.DataFrame(np.array([[ra, dec, mag_lvl3psf, magerr_lvl3psf]]), columns=['ra', 'dec', 'mag', 'magerr'])\n",
    "    else:\n",
    "        df = pd.concat([df, pd.DataFrame(np.array([[ra, dec, mag_lvl3psf, magerr_lvl3psf]]))], ignore_index=True)\n",
    "    counter = counter + 1.\n",
    "    toc = time.perf_counter()\n",
    "    print(\"Elapsed Time for Photometry:\", toc - tic)"
   ]
  },
  {
   "cell_type": "markdown",
   "id": "5630029f-31d1-42cd-8454-225e86cabc48",
   "metadata": {},
   "source": [
    "<hr style=\"border:1px solid gray\"> </hr>"
   ]
  },
  {
   "cell_type": "markdown",
   "id": "843b5201-6f57-46f0-9da0-b738714178d3",
   "metadata": {},
   "source": [
    "<img style=\"float: center;\" src=\"https://raw.githubusercontent.com/spacetelescope/notebooks/master/assets/stsci_pri_combo_mark_horizonal_white_bkgd.png\" alt=\"Space Telescope Logo\" width=\"200px\"/>"
   ]
  }
 ],
 "metadata": {
  "kernelspec": {
   "display_name": "Python 3 (ipykernel)",
   "language": "python",
   "name": "python3"
  },
  "language_info": {
   "codemirror_mode": {
    "name": "ipython",
    "version": 3
   },
   "file_extension": ".py",
   "mimetype": "text/x-python",
   "name": "python",
   "nbconvert_exporter": "python",
   "pygments_lexer": "ipython3",
   "version": "3.11.11"
  },
  "toc-showcode": false
 },
 "nbformat": 4,
 "nbformat_minor": 5
}
