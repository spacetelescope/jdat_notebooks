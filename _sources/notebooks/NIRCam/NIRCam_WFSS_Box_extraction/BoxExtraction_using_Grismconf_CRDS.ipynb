{
 "cells": [
  {
   "cell_type": "markdown",
   "id": "4d6f827d-b694-4875-b3a0-e6ef001c602e",
   "metadata": {},
   "source": [
    "# WFSS Box Extraction Example"
   ]
  },
  {
   "cell_type": "markdown",
   "id": "9e5bd923-8f7f-40b8-a86f-2b7e3f5d5351",
   "metadata": {},
   "source": [
    "This notebook demonstrates how to use the Generalized World Coordinate System (gWCS) in a Wide Field Slitless Spectrscopy (WFSS) observation to determine source locations and wavelengths. It shows how to calculate the location of a source in a WFSS observation given its location in a corresponding imaging observation, and how to calculate the wavelength at a particular pixel along an object's trace.\n",
    "\n",
    "It then shows how to use the gWCS to perform a box extraction of a spectrum and translate the 1D spectrum into physical units.\n",
    "\n",
    "In this example, we use exposures from JWST program 01076. We want to work on files that have full gWCS information in their headers, and that have had the flat field applied. We also need to run the flux calibration step of the pipeline in order to populate the name of the photom reference file in the header of the WFSS file (in the S_PHOTOM header keyword). This reference file will be used as part of the extraction process below. The photom step will not change the values of the science data in the WFSS exposure, because the observing mode (OBS_MODE header keyword) in the file is set to NRC_WFSS.\n",
    "\n",
    "In order to accomplish this, the <b>assign_wcs</b>, <b>flat field</b>, and <b>photom</b> steps of the pipeline must be run on the data. Ordinarily this means we could simply download *_cal.fits files from MAST, and that is true for the imaging mode data used in this notebook. However as we show below, we want to apply the imaging mode flat field to the WFSS data. This means that we must download the *_rate.fits file, and manually run these pipeline steps on the data. For consistency, we do the same with the imaging mode data.\n",
    "\n",
    "JWST detectors show little to no wavelength dependence in their flat-field, and just as is regularly done with HST WFSS data, in this example we have the pipeline apply the flat field for the direct cross filter to all the imaging as well as WFSS observations. We do not use a WFSS-specific flat field.\n",
    "\n",
    "Once the data have been properly calibrated, the notebook uses the <b>grismconf</b> package to translate between source locations in the imaging and WFSS data, and calculate wavelengths associated with a given location in the WFSS data. <b>grismconf</b> also uses the flux calibration curve in the photom reference file for the grisms to translate the data from units of $DN/sec$ to $F_{lambda}$ units ($erg / sec / cm^2 / \\overset{\\circ}{A}$). <b>grismconf</b> will obtain the needed NIRCam WFSS configuration files from the Calibration Reference Data System (CRDS). Note that the photom step must be run on the data in order to obain the name of the approproate CRDS sesitivity file.\n",
    "\n",
    "Note: At this stage, the important part of this is not the absolute accuracy of the WCS. Instead, we rely on accurate self-consistency between the imaging and the WFSS observations. \n",
    "\n",
    "Author: N. Pirzkal <br>\n",
    "Date created: 24 Sept 2024"
   ]
  },
  {
   "cell_type": "markdown",
   "id": "89e0c28a-df34-4bfb-af97-9ddf9d5768b4",
   "metadata": {},
   "source": [
    "## Table of Contents\n",
    "1. [Package Imports](#Package-Imports)\n",
    "2. [Define Functions and Parameters](#Define-Functions-and-Parameters)\n",
    "3. [Download Data](#Download-Data)\n",
    "4. [Run Pipeline Steps](#Run-Pipeline-Steps)\n",
    "5. [Basic Computation of WFSS Information](#Basic-Computation-of-WFSS-Information)\n",
    "      * [Compute where light gets dispersed to](#Compute-where-light-gets-dispersed-to)\n",
    "      * [Compute the spectral trace for a given object](#Compute-the-spectral-trace-for-a-given-object)\n",
    "      * [Basic Box Extraction](#Basic-Box-Extraction)"
   ]
  },
  {
   "cell_type": "markdown",
   "id": "7ffc9e2c-5958-4e61-8073-d584f8331c30",
   "metadata": {},
   "source": [
    "## Package Imports"
   ]
  },
  {
   "cell_type": "code",
   "execution_count": 1,
   "id": "3d34005b-94f5-42c0-b13b-cc10aea8a7f9",
   "metadata": {
    "execution": {
     "iopub.execute_input": "2025-03-27T16:05:24.087491Z",
     "iopub.status.busy": "2025-03-27T16:05:24.087325Z",
     "iopub.status.idle": "2025-03-27T16:05:25.728561Z",
     "shell.execute_reply": "2025-03-27T16:05:25.728003Z"
    }
   },
   "outputs": [],
   "source": [
    "from copy import deepcopy\n",
    "import matplotlib.pyplot as plt\n",
    "import numpy as np\n",
    "import os\n",
    "import requests\n",
    "from scipy.stats import sigmaclip\n",
    "\n",
    "import grismconf\n",
    "from jwst.assign_wcs import AssignWcsStep\n",
    "from jwst.flatfield import FlatFieldStep\n",
    "from jwst.photom import PhotomStep"
   ]
  },
  {
   "cell_type": "markdown",
   "id": "d6b0fc4b",
   "metadata": {},
   "source": [
    "## Set CRDS Path and Server"
   ]
  },
  {
   "cell_type": "markdown",
   "id": "bb09075d-b0ba-4bee-b6c5-a2f27b767b6a",
   "metadata": {},
   "source": [
    "Before running the pipeline steps, we need to ensure our our CRDS environment is configured. This includes defining a CRDS cache directory in which to keep the reference files that will be used by the calibration pipeline.\n",
    "\n",
    "If the root directory for the local CRDS cache has not already been set, it will be created in the home directory."
   ]
  },
  {
   "cell_type": "code",
   "execution_count": 2,
   "id": "0ab935ab-a215-4fe3-8aad-b3dae5a017bb",
   "metadata": {
    "execution": {
     "iopub.execute_input": "2025-03-27T16:05:25.730950Z",
     "iopub.status.busy": "2025-03-27T16:05:25.730554Z",
     "iopub.status.idle": "2025-03-27T16:05:25.735208Z",
     "shell.execute_reply": "2025-03-27T16:05:25.734753Z"
    }
   },
   "outputs": [
    {
     "name": "stdout",
     "output_type": "stream",
     "text": [
      "CRDS local filepath: /home/runner/crds\n",
      "CRDS file server: https://jwst-crds.stsci.edu\n"
     ]
    }
   ],
   "source": [
    "# Check whether the local CRDS cache directory has been set.\n",
    "# If not, set it to the user home directory\n",
    "if (os.getenv('CRDS_PATH') is None):\n",
    "    os.environ['CRDS_PATH'] = os.path.join(os.path.expanduser('~'), 'crds')\n",
    "# Check whether the CRDS server URL has been set.  If not, set it.\n",
    "if (os.getenv('CRDS_SERVER_URL') is None):\n",
    "    os.environ['CRDS_SERVER_URL'] = 'https://jwst-crds.stsci.edu'\n",
    "\n",
    "# Echo CRDS path and context in use\n",
    "print('CRDS local filepath:', os.environ['CRDS_PATH'])\n",
    "print('CRDS file server:', os.environ['CRDS_SERVER_URL'])\n",
    "\n",
    "# import crds after setting up the required environment variables\n",
    "from crds import client\n",
    "if client.get_crds_server() != os.environ['CRDS_SERVER_URL']:\n",
    "    client.set_crds_server('https://jwst-crds.stsci.edu')"
   ]
  },
  {
   "cell_type": "markdown",
   "id": "117e4ec7-610c-4d11-82f4-756971dc23e0",
   "metadata": {},
   "source": [
    "## Define Functions and Parameters"
   ]
  },
  {
   "cell_type": "markdown",
   "id": "46833187-8b09-4abb-8317-572154b56700",
   "metadata": {},
   "source": [
    "Define a function to download a named file via the MAST API to the current directory. The function includes authentication logic, but the example in this notebook uses public data, so no MAST API token is required."
   ]
  },
  {
   "cell_type": "code",
   "execution_count": 3,
   "id": "a2b09d49-838f-4523-a6b2-9e678d10666a",
   "metadata": {
    "execution": {
     "iopub.execute_input": "2025-03-27T16:05:25.736935Z",
     "iopub.status.busy": "2025-03-27T16:05:25.736761Z",
     "iopub.status.idle": "2025-03-27T16:05:25.741457Z",
     "shell.execute_reply": "2025-03-27T16:05:25.740863Z"
    }
   },
   "outputs": [],
   "source": [
    "def get_jwst_file(name, mast_api_token=None, overwrite=False):\n",
    "    \"\"\"Retrieve a JWST data file from MAST archive.\n",
    "    \n",
    "    Parameters\n",
    "    ----------\n",
    "    name : str\n",
    "        Name of the file to download from MAST\n",
    "        \n",
    "    mast_api_token : str\n",
    "        MAST API token. Required only for proprietary data\n",
    "        \n",
    "    overwrite : bool\n",
    "        If True and the requested file already exists locally, the file will not be downloaded. IF False,\n",
    "        the file will be downloaded\n",
    "    \"\"\"\n",
    "    # If the file already exists locally, don't redownload it, unless the\n",
    "    # user has set the overwrite keyword\n",
    "    if os.path.isfile(name):\n",
    "        if not overwrite:\n",
    "            print(f'{name} already exists locally. Skipping download.')\n",
    "            return\n",
    "        else:\n",
    "            print(f'{name} exists locally. Re-downloading.')\n",
    "\n",
    "    mast_url = \"https://mast.stsci.edu/api/v0.1/Download/file\"\n",
    "    params = dict(uri=f\"mast:JWST/product/{name}\")\n",
    "    if mast_api_token:\n",
    "        headers = dict(Authorization=f\"token {mast_api_token}\")\n",
    "    else:\n",
    "        headers = {}\n",
    "    r = requests.get(mast_url, params=params, headers=headers, stream=True)\n",
    "    r.raise_for_status()\n",
    "    with open(name, \"wb\") as fobj:\n",
    "        for chunk in r.iter_content(chunk_size=1024000):\n",
    "            fobj.write(chunk)"
   ]
  },
  {
   "cell_type": "markdown",
   "id": "c3f0f371-8912-425a-8911-7eec9b46f841",
   "metadata": {},
   "source": [
    "Define a function that will run assign_wcs and flat fielding on an input rate file"
   ]
  },
  {
   "cell_type": "code",
   "execution_count": 4,
   "id": "0de8bf4a-3f12-466c-8887-f7d1bed0f543",
   "metadata": {
    "execution": {
     "iopub.execute_input": "2025-03-27T16:05:25.743255Z",
     "iopub.status.busy": "2025-03-27T16:05:25.743081Z",
     "iopub.status.idle": "2025-03-27T16:05:25.747416Z",
     "shell.execute_reply": "2025-03-27T16:05:25.746960Z"
    }
   },
   "outputs": [],
   "source": [
    "def run_pipeline_steps(filename):\n",
    "    \"\"\"Run the assign_wcs, flat field, and photom calibration steps on the given file.\n",
    "    If the file contains WFSS data, trick the pipeline to use the imaging mode flat\n",
    "    field reference file.\n",
    "    \n",
    "    Parameters\n",
    "    ----------\n",
    "    filename : str\n",
    "        Name of the input file upon which the steps will be run\n",
    "        \n",
    "    Returns\n",
    "    -------\n",
    "    filename : str\n",
    "        Name of the output file saved by the pipeline steps\n",
    "        \n",
    "    photom : jwst.datamodels.ImageModel\n",
    "        Datamodel instance containing the calibrated data\n",
    "    \"\"\"\n",
    "    assign_wcs = AssignWcsStep.call(filename)\n",
    "\n",
    "    # In order to apply the imaging mode flat field reference file to the data,\n",
    "    # we need to trick CRDS by temporarily changing the pupil value to be CLEAR\n",
    "    reset_pupil = False\n",
    "    if 'GRISM' in assign_wcs.meta.instrument.pupil:\n",
    "        true_pupil = deepcopy(assign_wcs.meta.instrument.pupil)\n",
    "        assign_wcs.meta.instrument.pupil = 'CLEAR'\n",
    "        reset_pupil = True\n",
    "\n",
    "    # Run the flat field step\n",
    "    flat = FlatFieldStep.call(assign_wcs, save_results=True)\n",
    "    \n",
    "    # Run the photom step to populate the name of the WFSS sensitivity \n",
    "    photom = PhotomStep.call(flat, save_results=True)\n",
    "    \n",
    "    # Set the pupil back to the original value now that flat fielding is complete\n",
    "    if reset_pupil:\n",
    "        photom.meta.instrument.pupil = true_pupil\n",
    "        photom.save(photom.meta.filename)\n",
    "    \n",
    "    # Return the name of the output file, as well as the datamodel\n",
    "    return photom.meta.filename, photom"
   ]
  },
  {
   "cell_type": "markdown",
   "id": "41068262-9a54-46c5-a9d2-ca2217ad1fee",
   "metadata": {},
   "source": [
    "## Download Data"
   ]
  },
  {
   "cell_type": "markdown",
   "id": "3f7b6965-2313-45c3-9399-c8601be0fdbd",
   "metadata": {},
   "source": [
    "Download an example imaging mode rate file and corresponding WFSS mode rate file from MAST."
   ]
  },
  {
   "cell_type": "code",
   "execution_count": 5,
   "id": "253df6eb-f6ab-4c53-8c0e-ad58f64cda9b",
   "metadata": {
    "execution": {
     "iopub.execute_input": "2025-03-27T16:05:25.749193Z",
     "iopub.status.busy": "2025-03-27T16:05:25.748868Z",
     "iopub.status.idle": "2025-03-27T16:05:32.038950Z",
     "shell.execute_reply": "2025-03-27T16:05:32.038448Z"
    }
   },
   "outputs": [],
   "source": [
    "# First, download the imaging and WFSS files from MAST\n",
    "imaging_file = \"jw01076103001_02102_00001_nrcalong_rate.fits\"\n",
    "wfss_file = \"jw01076103001_02101_00001_nrcalong_rate.fits\"\n",
    "get_jwst_file(imaging_file)\n",
    "get_jwst_file(wfss_file)"
   ]
  },
  {
   "cell_type": "markdown",
   "id": "ab5f3c78-258f-49c4-99c4-87e26f0972cf",
   "metadata": {},
   "source": [
    "## Run Pipeline Steps"
   ]
  },
  {
   "cell_type": "markdown",
   "id": "d5c025ca-ebba-49c2-ab24-a6318a29b65c",
   "metadata": {},
   "source": [
    "Run the assign_wcs, flat field, and photom calibration steps on both the imaging and WFSS files."
   ]
  },
  {
   "cell_type": "code",
   "execution_count": 6,
   "id": "27a15b96-cfd7-4670-9142-a5378e053dd1",
   "metadata": {
    "execution": {
     "iopub.execute_input": "2025-03-27T16:05:32.041185Z",
     "iopub.status.busy": "2025-03-27T16:05:32.040987Z",
     "iopub.status.idle": "2025-03-27T16:06:34.826498Z",
     "shell.execute_reply": "2025-03-27T16:06:34.826017Z"
    },
    "scrolled": true
   },
   "outputs": [
    {
     "name": "stderr",
     "output_type": "stream",
     "text": [
      "2025-03-27 16:05:33,385 - CRDS - INFO -  Calibration SW Found: jwst 1.17.1 (/opt/hostedtoolcache/Python/3.11.11/x64/lib/python3.11/site-packages/jwst-1.17.1.dist-info)\n"
     ]
    },
    {
     "name": "stderr",
     "output_type": "stream",
     "text": [
      "2025-03-27 16:05:34,204 - CRDS - INFO -  Fetching  /home/runner/crds/mappings/jwst/jwst_system_datalvl_0002.rmap      694 bytes  (1 / 202 files) (0 / 722.8 K bytes)\n"
     ]
    },
    {
     "name": "stderr",
     "output_type": "stream",
     "text": [
      "2025-03-27 16:05:34,463 - CRDS - INFO -  Fetching  /home/runner/crds/mappings/jwst/jwst_system_calver_0046.rmap    5.2 K bytes  (2 / 202 files) (694 / 722.8 K bytes)\n"
     ]
    },
    {
     "name": "stderr",
     "output_type": "stream",
     "text": [
      "2025-03-27 16:05:34,724 - CRDS - INFO -  Fetching  /home/runner/crds/mappings/jwst/jwst_system_0045.imap        385 bytes  (3 / 202 files) (5.9 K / 722.8 K bytes)\n"
     ]
    },
    {
     "name": "stderr",
     "output_type": "stream",
     "text": [
      "2025-03-27 16:05:34,976 - CRDS - INFO -  Fetching  /home/runner/crds/mappings/jwst/jwst_nirspec_wavelengthrange_0024.rmap    1.4 K bytes  (4 / 202 files) (6.3 K / 722.8 K bytes)\n"
     ]
    },
    {
     "name": "stderr",
     "output_type": "stream",
     "text": [
      "2025-03-27 16:05:35,209 - CRDS - INFO -  Fetching  /home/runner/crds/mappings/jwst/jwst_nirspec_wavecorr_0005.rmap      884 bytes  (5 / 202 files) (7.7 K / 722.8 K bytes)\n"
     ]
    },
    {
     "name": "stderr",
     "output_type": "stream",
     "text": [
      "2025-03-27 16:05:35,448 - CRDS - INFO -  Fetching  /home/runner/crds/mappings/jwst/jwst_nirspec_superbias_0074.rmap   33.8 K bytes  (6 / 202 files) (8.5 K / 722.8 K bytes)\n"
     ]
    },
    {
     "name": "stderr",
     "output_type": "stream",
     "text": [
      "2025-03-27 16:05:35,770 - CRDS - INFO -  Fetching  /home/runner/crds/mappings/jwst/jwst_nirspec_sflat_0026.rmap   20.6 K bytes  (7 / 202 files) (42.3 K / 722.8 K bytes)\n"
     ]
    },
    {
     "name": "stderr",
     "output_type": "stream",
     "text": [
      "2025-03-27 16:05:36,085 - CRDS - INFO -  Fetching  /home/runner/crds/mappings/jwst/jwst_nirspec_saturation_0018.rmap    2.0 K bytes  (8 / 202 files) (62.9 K / 722.8 K bytes)\n"
     ]
    },
    {
     "name": "stderr",
     "output_type": "stream",
     "text": [
      "2025-03-27 16:05:36,329 - CRDS - INFO -  Fetching  /home/runner/crds/mappings/jwst/jwst_nirspec_refpix_0015.rmap    1.6 K bytes  (9 / 202 files) (64.9 K / 722.8 K bytes)\n"
     ]
    },
    {
     "name": "stderr",
     "output_type": "stream",
     "text": [
      "2025-03-27 16:05:36,602 - CRDS - INFO -  Fetching  /home/runner/crds/mappings/jwst/jwst_nirspec_readnoise_0025.rmap    2.6 K bytes  (10 / 202 files) (66.5 K / 722.8 K bytes)\n"
     ]
    },
    {
     "name": "stderr",
     "output_type": "stream",
     "text": [
      "2025-03-27 16:05:36,840 - CRDS - INFO -  Fetching  /home/runner/crds/mappings/jwst/jwst_nirspec_photom_0013.rmap      958 bytes  (11 / 202 files) (69.1 K / 722.8 K bytes)\n"
     ]
    },
    {
     "name": "stderr",
     "output_type": "stream",
     "text": [
      "2025-03-27 16:05:37,079 - CRDS - INFO -  Fetching  /home/runner/crds/mappings/jwst/jwst_nirspec_pathloss_0008.rmap    1.2 K bytes  (12 / 202 files) (70.0 K / 722.8 K bytes)\n"
     ]
    },
    {
     "name": "stderr",
     "output_type": "stream",
     "text": [
      "2025-03-27 16:05:37,350 - CRDS - INFO -  Fetching  /home/runner/crds/mappings/jwst/jwst_nirspec_pars-whitelightstep_0001.rmap      777 bytes  (13 / 202 files) (71.2 K / 722.8 K bytes)\n"
     ]
    },
    {
     "name": "stderr",
     "output_type": "stream",
     "text": [
      "2025-03-27 16:05:37,591 - CRDS - INFO -  Fetching  /home/runner/crds/mappings/jwst/jwst_nirspec_pars-spec2pipeline_0013.rmap    2.1 K bytes  (14 / 202 files) (72.0 K / 722.8 K bytes)\n"
     ]
    },
    {
     "name": "stderr",
     "output_type": "stream",
     "text": [
      "2025-03-27 16:05:37,861 - CRDS - INFO -  Fetching  /home/runner/crds/mappings/jwst/jwst_nirspec_pars-resamplespecstep_0002.rmap      709 bytes  (15 / 202 files) (74.1 K / 722.8 K bytes)\n"
     ]
    },
    {
     "name": "stderr",
     "output_type": "stream",
     "text": [
      "2025-03-27 16:05:38,102 - CRDS - INFO -  Fetching  /home/runner/crds/mappings/jwst/jwst_nirspec_pars-outlierdetectionstep_0005.rmap    1.1 K bytes  (16 / 202 files) (74.8 K / 722.8 K bytes)\n"
     ]
    },
    {
     "name": "stderr",
     "output_type": "stream",
     "text": [
      "2025-03-27 16:05:38,346 - CRDS - INFO -  Fetching  /home/runner/crds/mappings/jwst/jwst_nirspec_pars-jumpstep_0005.rmap      810 bytes  (17 / 202 files) (76.0 K / 722.8 K bytes)\n"
     ]
    },
    {
     "name": "stderr",
     "output_type": "stream",
     "text": [
      "2025-03-27 16:05:38,633 - CRDS - INFO -  Fetching  /home/runner/crds/mappings/jwst/jwst_nirspec_pars-image2pipeline_0008.rmap    1.0 K bytes  (18 / 202 files) (76.8 K / 722.8 K bytes)\n"
     ]
    },
    {
     "name": "stderr",
     "output_type": "stream",
     "text": [
      "2025-03-27 16:05:38,871 - CRDS - INFO -  Fetching  /home/runner/crds/mappings/jwst/jwst_nirspec_pars-detector1pipeline_0003.rmap    1.1 K bytes  (19 / 202 files) (77.8 K / 722.8 K bytes)\n"
     ]
    },
    {
     "name": "stderr",
     "output_type": "stream",
     "text": [
      "2025-03-27 16:05:39,110 - CRDS - INFO -  Fetching  /home/runner/crds/mappings/jwst/jwst_nirspec_pars-darkpipeline_0003.rmap      872 bytes  (20 / 202 files) (78.8 K / 722.8 K bytes)\n"
     ]
    },
    {
     "name": "stderr",
     "output_type": "stream",
     "text": [
      "2025-03-27 16:05:39,353 - CRDS - INFO -  Fetching  /home/runner/crds/mappings/jwst/jwst_nirspec_pars-darkcurrentstep_0001.rmap      622 bytes  (21 / 202 files) (79.7 K / 722.8 K bytes)\n"
     ]
    },
    {
     "name": "stderr",
     "output_type": "stream",
     "text": [
      "2025-03-27 16:05:39,598 - CRDS - INFO -  Fetching  /home/runner/crds/mappings/jwst/jwst_nirspec_ote_0030.rmap    1.3 K bytes  (22 / 202 files) (80.3 K / 722.8 K bytes)\n"
     ]
    },
    {
     "name": "stderr",
     "output_type": "stream",
     "text": [
      "2025-03-27 16:05:39,836 - CRDS - INFO -  Fetching  /home/runner/crds/mappings/jwst/jwst_nirspec_msaoper_0016.rmap    1.5 K bytes  (23 / 202 files) (81.6 K / 722.8 K bytes)\n"
     ]
    },
    {
     "name": "stderr",
     "output_type": "stream",
     "text": [
      "2025-03-27 16:05:40,078 - CRDS - INFO -  Fetching  /home/runner/crds/mappings/jwst/jwst_nirspec_msa_0027.rmap    1.3 K bytes  (24 / 202 files) (83.1 K / 722.8 K bytes)\n"
     ]
    },
    {
     "name": "stderr",
     "output_type": "stream",
     "text": [
      "2025-03-27 16:05:40,319 - CRDS - INFO -  Fetching  /home/runner/crds/mappings/jwst/jwst_nirspec_mask_0039.rmap    2.7 K bytes  (25 / 202 files) (84.3 K / 722.8 K bytes)\n"
     ]
    },
    {
     "name": "stderr",
     "output_type": "stream",
     "text": [
      "2025-03-27 16:05:40,560 - CRDS - INFO -  Fetching  /home/runner/crds/mappings/jwst/jwst_nirspec_linearity_0017.rmap    1.6 K bytes  (26 / 202 files) (87.0 K / 722.8 K bytes)\n"
     ]
    },
    {
     "name": "stderr",
     "output_type": "stream",
     "text": [
      "2025-03-27 16:05:40,797 - CRDS - INFO -  Fetching  /home/runner/crds/mappings/jwst/jwst_nirspec_ipc_0006.rmap      876 bytes  (27 / 202 files) (88.6 K / 722.8 K bytes)\n"
     ]
    },
    {
     "name": "stderr",
     "output_type": "stream",
     "text": [
      "2025-03-27 16:05:41,038 - CRDS - INFO -  Fetching  /home/runner/crds/mappings/jwst/jwst_nirspec_ifuslicer_0017.rmap    1.5 K bytes  (28 / 202 files) (89.5 K / 722.8 K bytes)\n"
     ]
    },
    {
     "name": "stderr",
     "output_type": "stream",
     "text": [
      "2025-03-27 16:05:41,277 - CRDS - INFO -  Fetching  /home/runner/crds/mappings/jwst/jwst_nirspec_ifupost_0019.rmap    1.5 K bytes  (29 / 202 files) (91.0 K / 722.8 K bytes)\n"
     ]
    },
    {
     "name": "stderr",
     "output_type": "stream",
     "text": [
      "2025-03-27 16:05:41,514 - CRDS - INFO -  Fetching  /home/runner/crds/mappings/jwst/jwst_nirspec_ifufore_0017.rmap    1.5 K bytes  (30 / 202 files) (92.5 K / 722.8 K bytes)\n"
     ]
    },
    {
     "name": "stderr",
     "output_type": "stream",
     "text": [
      "2025-03-27 16:05:41,829 - CRDS - INFO -  Fetching  /home/runner/crds/mappings/jwst/jwst_nirspec_gain_0023.rmap    1.8 K bytes  (31 / 202 files) (94.0 K / 722.8 K bytes)\n"
     ]
    },
    {
     "name": "stderr",
     "output_type": "stream",
     "text": [
      "2025-03-27 16:05:42,072 - CRDS - INFO -  Fetching  /home/runner/crds/mappings/jwst/jwst_nirspec_fpa_0028.rmap    1.3 K bytes  (32 / 202 files) (95.7 K / 722.8 K bytes)\n"
     ]
    },
    {
     "name": "stderr",
     "output_type": "stream",
     "text": [
      "2025-03-27 16:05:42,314 - CRDS - INFO -  Fetching  /home/runner/crds/mappings/jwst/jwst_nirspec_fore_0026.rmap    5.0 K bytes  (33 / 202 files) (97.0 K / 722.8 K bytes)\n"
     ]
    },
    {
     "name": "stderr",
     "output_type": "stream",
     "text": [
      "2025-03-27 16:05:42,560 - CRDS - INFO -  Fetching  /home/runner/crds/mappings/jwst/jwst_nirspec_flat_0015.rmap    3.8 K bytes  (34 / 202 files) (102.0 K / 722.8 K bytes)\n"
     ]
    },
    {
     "name": "stderr",
     "output_type": "stream",
     "text": [
      "2025-03-27 16:05:42,806 - CRDS - INFO -  Fetching  /home/runner/crds/mappings/jwst/jwst_nirspec_fflat_0026.rmap    7.2 K bytes  (35 / 202 files) (105.8 K / 722.8 K bytes)\n"
     ]
    },
    {
     "name": "stderr",
     "output_type": "stream",
     "text": [
      "2025-03-27 16:05:43,056 - CRDS - INFO -  Fetching  /home/runner/crds/mappings/jwst/jwst_nirspec_extract1d_0018.rmap    2.3 K bytes  (36 / 202 files) (113.0 K / 722.8 K bytes)\n"
     ]
    },
    {
     "name": "stderr",
     "output_type": "stream",
     "text": [
      "2025-03-27 16:05:43,297 - CRDS - INFO -  Fetching  /home/runner/crds/mappings/jwst/jwst_nirspec_disperser_0028.rmap    5.7 K bytes  (37 / 202 files) (115.3 K / 722.8 K bytes)\n"
     ]
    },
    {
     "name": "stderr",
     "output_type": "stream",
     "text": [
      "2025-03-27 16:05:43,546 - CRDS - INFO -  Fetching  /home/runner/crds/mappings/jwst/jwst_nirspec_dflat_0007.rmap    1.1 K bytes  (38 / 202 files) (121.0 K / 722.8 K bytes)\n"
     ]
    },
    {
     "name": "stderr",
     "output_type": "stream",
     "text": [
      "2025-03-27 16:05:43,790 - CRDS - INFO -  Fetching  /home/runner/crds/mappings/jwst/jwst_nirspec_dark_0069.rmap   32.6 K bytes  (39 / 202 files) (122.1 K / 722.8 K bytes)\n"
     ]
    },
    {
     "name": "stderr",
     "output_type": "stream",
     "text": [
      "2025-03-27 16:05:44,108 - CRDS - INFO -  Fetching  /home/runner/crds/mappings/jwst/jwst_nirspec_cubepar_0015.rmap      966 bytes  (40 / 202 files) (154.7 K / 722.8 K bytes)\n"
     ]
    },
    {
     "name": "stderr",
     "output_type": "stream",
     "text": [
      "2025-03-27 16:05:44,351 - CRDS - INFO -  Fetching  /home/runner/crds/mappings/jwst/jwst_nirspec_collimator_0026.rmap    1.3 K bytes  (41 / 202 files) (155.7 K / 722.8 K bytes)\n"
     ]
    },
    {
     "name": "stderr",
     "output_type": "stream",
     "text": [
      "2025-03-27 16:05:44,589 - CRDS - INFO -  Fetching  /home/runner/crds/mappings/jwst/jwst_nirspec_camera_0026.rmap    1.3 K bytes  (42 / 202 files) (157.0 K / 722.8 K bytes)\n"
     ]
    },
    {
     "name": "stderr",
     "output_type": "stream",
     "text": [
      "2025-03-27 16:05:44,828 - CRDS - INFO -  Fetching  /home/runner/crds/mappings/jwst/jwst_nirspec_barshadow_0007.rmap    1.8 K bytes  (43 / 202 files) (158.3 K / 722.8 K bytes)\n"
     ]
    },
    {
     "name": "stderr",
     "output_type": "stream",
     "text": [
      "2025-03-27 16:05:45,070 - CRDS - INFO -  Fetching  /home/runner/crds/mappings/jwst/jwst_nirspec_area_0018.rmap    6.3 K bytes  (44 / 202 files) (160.1 K / 722.8 K bytes)\n"
     ]
    },
    {
     "name": "stderr",
     "output_type": "stream",
     "text": [
      "2025-03-27 16:05:45,298 - CRDS - INFO -  Fetching  /home/runner/crds/mappings/jwst/jwst_nirspec_apcorr_0009.rmap    5.6 K bytes  (45 / 202 files) (166.4 K / 722.8 K bytes)\n"
     ]
    },
    {
     "name": "stderr",
     "output_type": "stream",
     "text": [
      "2025-03-27 16:05:45,536 - CRDS - INFO -  Fetching  /home/runner/crds/mappings/jwst/jwst_nirspec_0387.imap     5.7 K bytes  (46 / 202 files) (171.9 K / 722.8 K bytes)\n"
     ]
    },
    {
     "name": "stderr",
     "output_type": "stream",
     "text": [
      "2025-03-27 16:05:45,774 - CRDS - INFO -  Fetching  /home/runner/crds/mappings/jwst/jwst_niriss_wfssbkg_0008.rmap    3.1 K bytes  (47 / 202 files) (177.7 K / 722.8 K bytes)\n"
     ]
    },
    {
     "name": "stderr",
     "output_type": "stream",
     "text": [
      "2025-03-27 16:05:46,013 - CRDS - INFO -  Fetching  /home/runner/crds/mappings/jwst/jwst_niriss_wavemap_0008.rmap    2.2 K bytes  (48 / 202 files) (180.8 K / 722.8 K bytes)\n"
     ]
    },
    {
     "name": "stderr",
     "output_type": "stream",
     "text": [
      "2025-03-27 16:05:46,252 - CRDS - INFO -  Fetching  /home/runner/crds/mappings/jwst/jwst_niriss_wavelengthrange_0006.rmap      862 bytes  (49 / 202 files) (183.0 K / 722.8 K bytes)\n"
     ]
    },
    {
     "name": "stderr",
     "output_type": "stream",
     "text": [
      "2025-03-27 16:05:46,498 - CRDS - INFO -  Fetching  /home/runner/crds/mappings/jwst/jwst_niriss_trappars_0004.rmap      753 bytes  (50 / 202 files) (183.9 K / 722.8 K bytes)\n"
     ]
    },
    {
     "name": "stderr",
     "output_type": "stream",
     "text": [
      "2025-03-27 16:05:46,739 - CRDS - INFO -  Fetching  /home/runner/crds/mappings/jwst/jwst_niriss_trapdensity_0005.rmap      705 bytes  (51 / 202 files) (184.6 K / 722.8 K bytes)\n"
     ]
    },
    {
     "name": "stderr",
     "output_type": "stream",
     "text": [
      "2025-03-27 16:05:46,979 - CRDS - INFO -  Fetching  /home/runner/crds/mappings/jwst/jwst_niriss_throughput_0005.rmap    1.3 K bytes  (52 / 202 files) (185.3 K / 722.8 K bytes)\n"
     ]
    },
    {
     "name": "stderr",
     "output_type": "stream",
     "text": [
      "2025-03-27 16:05:47,208 - CRDS - INFO -  Fetching  /home/runner/crds/mappings/jwst/jwst_niriss_superbias_0030.rmap    7.4 K bytes  (53 / 202 files) (186.6 K / 722.8 K bytes)\n"
     ]
    },
    {
     "name": "stderr",
     "output_type": "stream",
     "text": [
      "2025-03-27 16:05:47,451 - CRDS - INFO -  Fetching  /home/runner/crds/mappings/jwst/jwst_niriss_specwcs_0014.rmap    3.1 K bytes  (54 / 202 files) (194.0 K / 722.8 K bytes)\n"
     ]
    },
    {
     "name": "stderr",
     "output_type": "stream",
     "text": [
      "2025-03-27 16:05:47,696 - CRDS - INFO -  Fetching  /home/runner/crds/mappings/jwst/jwst_niriss_spectrace_0008.rmap    2.3 K bytes  (55 / 202 files) (197.1 K / 722.8 K bytes)\n"
     ]
    },
    {
     "name": "stderr",
     "output_type": "stream",
     "text": [
      "2025-03-27 16:05:47,934 - CRDS - INFO -  Fetching  /home/runner/crds/mappings/jwst/jwst_niriss_specprofile_0008.rmap    2.4 K bytes  (56 / 202 files) (199.5 K / 722.8 K bytes)\n"
     ]
    },
    {
     "name": "stderr",
     "output_type": "stream",
     "text": [
      "2025-03-27 16:05:48,179 - CRDS - INFO -  Fetching  /home/runner/crds/mappings/jwst/jwst_niriss_speckernel_0006.rmap    1.0 K bytes  (57 / 202 files) (201.8 K / 722.8 K bytes)\n"
     ]
    },
    {
     "name": "stderr",
     "output_type": "stream",
     "text": [
      "2025-03-27 16:05:48,417 - CRDS - INFO -  Fetching  /home/runner/crds/mappings/jwst/jwst_niriss_saturation_0015.rmap      829 bytes  (58 / 202 files) (202.9 K / 722.8 K bytes)\n"
     ]
    },
    {
     "name": "stderr",
     "output_type": "stream",
     "text": [
      "2025-03-27 16:05:48,660 - CRDS - INFO -  Fetching  /home/runner/crds/mappings/jwst/jwst_niriss_readnoise_0011.rmap      987 bytes  (59 / 202 files) (203.7 K / 722.8 K bytes)\n"
     ]
    },
    {
     "name": "stderr",
     "output_type": "stream",
     "text": [
      "2025-03-27 16:05:48,901 - CRDS - INFO -  Fetching  /home/runner/crds/mappings/jwst/jwst_niriss_photom_0036.rmap    1.3 K bytes  (60 / 202 files) (204.7 K / 722.8 K bytes)\n"
     ]
    },
    {
     "name": "stderr",
     "output_type": "stream",
     "text": [
      "2025-03-27 16:05:49,147 - CRDS - INFO -  Fetching  /home/runner/crds/mappings/jwst/jwst_niriss_persat_0007.rmap      674 bytes  (61 / 202 files) (205.9 K / 722.8 K bytes)\n"
     ]
    },
    {
     "name": "stderr",
     "output_type": "stream",
     "text": [
      "2025-03-27 16:05:49,393 - CRDS - INFO -  Fetching  /home/runner/crds/mappings/jwst/jwst_niriss_pathloss_0003.rmap      758 bytes  (62 / 202 files) (206.6 K / 722.8 K bytes)\n"
     ]
    },
    {
     "name": "stderr",
     "output_type": "stream",
     "text": [
      "2025-03-27 16:05:49,631 - CRDS - INFO -  Fetching  /home/runner/crds/mappings/jwst/jwst_niriss_pastasoss_0004.rmap      818 bytes  (63 / 202 files) (207.4 K / 722.8 K bytes)\n"
     ]
    },
    {
     "name": "stderr",
     "output_type": "stream",
     "text": [
      "2025-03-27 16:05:49,870 - CRDS - INFO -  Fetching  /home/runner/crds/mappings/jwst/jwst_niriss_pars-undersamplecorrectionstep_0001.rmap      904 bytes  (64 / 202 files) (208.2 K / 722.8 K bytes)\n"
     ]
    },
    {
     "name": "stderr",
     "output_type": "stream",
     "text": [
      "2025-03-27 16:05:50,113 - CRDS - INFO -  Fetching  /home/runner/crds/mappings/jwst/jwst_niriss_pars-tweakregstep_0012.rmap    3.1 K bytes  (65 / 202 files) (209.1 K / 722.8 K bytes)\n"
     ]
    },
    {
     "name": "stderr",
     "output_type": "stream",
     "text": [
      "2025-03-27 16:05:50,353 - CRDS - INFO -  Fetching  /home/runner/crds/mappings/jwst/jwst_niriss_pars-spec2pipeline_0008.rmap      984 bytes  (66 / 202 files) (212.2 K / 722.8 K bytes)\n"
     ]
    },
    {
     "name": "stderr",
     "output_type": "stream",
     "text": [
      "2025-03-27 16:05:50,603 - CRDS - INFO -  Fetching  /home/runner/crds/mappings/jwst/jwst_niriss_pars-sourcecatalogstep_0002.rmap    2.3 K bytes  (67 / 202 files) (213.2 K / 722.8 K bytes)\n"
     ]
    },
    {
     "name": "stderr",
     "output_type": "stream",
     "text": [
      "2025-03-27 16:05:50,840 - CRDS - INFO -  Fetching  /home/runner/crds/mappings/jwst/jwst_niriss_pars-resamplestep_0002.rmap      687 bytes  (68 / 202 files) (215.5 K / 722.8 K bytes)\n"
     ]
    },
    {
     "name": "stderr",
     "output_type": "stream",
     "text": [
      "2025-03-27 16:05:51,081 - CRDS - INFO -  Fetching  /home/runner/crds/mappings/jwst/jwst_niriss_pars-outlierdetectionstep_0004.rmap    2.7 K bytes  (69 / 202 files) (216.2 K / 722.8 K bytes)\n"
     ]
    },
    {
     "name": "stderr",
     "output_type": "stream",
     "text": [
      "2025-03-27 16:05:51,309 - CRDS - INFO -  Fetching  /home/runner/crds/mappings/jwst/jwst_niriss_pars-jumpstep_0007.rmap    6.4 K bytes  (70 / 202 files) (218.9 K / 722.8 K bytes)\n"
     ]
    },
    {
     "name": "stderr",
     "output_type": "stream",
     "text": [
      "2025-03-27 16:05:51,549 - CRDS - INFO -  Fetching  /home/runner/crds/mappings/jwst/jwst_niriss_pars-image2pipeline_0005.rmap    1.0 K bytes  (71 / 202 files) (225.2 K / 722.8 K bytes)\n"
     ]
    },
    {
     "name": "stderr",
     "output_type": "stream",
     "text": [
      "2025-03-27 16:05:51,787 - CRDS - INFO -  Fetching  /home/runner/crds/mappings/jwst/jwst_niriss_pars-detector1pipeline_0002.rmap    1.0 K bytes  (72 / 202 files) (226.3 K / 722.8 K bytes)\n"
     ]
    },
    {
     "name": "stderr",
     "output_type": "stream",
     "text": [
      "2025-03-27 16:05:52,026 - CRDS - INFO -  Fetching  /home/runner/crds/mappings/jwst/jwst_niriss_pars-darkpipeline_0002.rmap      868 bytes  (73 / 202 files) (227.3 K / 722.8 K bytes)\n"
     ]
    },
    {
     "name": "stderr",
     "output_type": "stream",
     "text": [
      "2025-03-27 16:05:52,278 - CRDS - INFO -  Fetching  /home/runner/crds/mappings/jwst/jwst_niriss_pars-darkcurrentstep_0001.rmap      591 bytes  (74 / 202 files) (228.2 K / 722.8 K bytes)\n"
     ]
    },
    {
     "name": "stderr",
     "output_type": "stream",
     "text": [
      "2025-03-27 16:05:52,523 - CRDS - INFO -  Fetching  /home/runner/crds/mappings/jwst/jwst_niriss_pars-chargemigrationstep_0004.rmap    5.7 K bytes  (75 / 202 files) (228.8 K / 722.8 K bytes)\n"
     ]
    },
    {
     "name": "stderr",
     "output_type": "stream",
     "text": [
      "2025-03-27 16:05:52,763 - CRDS - INFO -  Fetching  /home/runner/crds/mappings/jwst/jwst_niriss_nrm_0005.rmap      663 bytes  (76 / 202 files) (234.4 K / 722.8 K bytes)\n"
     ]
    },
    {
     "name": "stderr",
     "output_type": "stream",
     "text": [
      "2025-03-27 16:05:53,004 - CRDS - INFO -  Fetching  /home/runner/crds/mappings/jwst/jwst_niriss_mask_0022.rmap    1.3 K bytes  (77 / 202 files) (235.1 K / 722.8 K bytes)\n"
     ]
    },
    {
     "name": "stderr",
     "output_type": "stream",
     "text": [
      "2025-03-27 16:05:53,237 - CRDS - INFO -  Fetching  /home/runner/crds/mappings/jwst/jwst_niriss_linearity_0022.rmap      961 bytes  (78 / 202 files) (236.4 K / 722.8 K bytes)\n"
     ]
    },
    {
     "name": "stderr",
     "output_type": "stream",
     "text": [
      "2025-03-27 16:05:53,491 - CRDS - INFO -  Fetching  /home/runner/crds/mappings/jwst/jwst_niriss_ipc_0007.rmap      651 bytes  (79 / 202 files) (237.3 K / 722.8 K bytes)\n"
     ]
    },
    {
     "name": "stderr",
     "output_type": "stream",
     "text": [
      "2025-03-27 16:05:53,730 - CRDS - INFO -  Fetching  /home/runner/crds/mappings/jwst/jwst_niriss_gain_0011.rmap      797 bytes  (80 / 202 files) (238.0 K / 722.8 K bytes)\n"
     ]
    },
    {
     "name": "stderr",
     "output_type": "stream",
     "text": [
      "2025-03-27 16:05:53,971 - CRDS - INFO -  Fetching  /home/runner/crds/mappings/jwst/jwst_niriss_flat_0023.rmap    5.9 K bytes  (81 / 202 files) (238.8 K / 722.8 K bytes)\n"
     ]
    },
    {
     "name": "stderr",
     "output_type": "stream",
     "text": [
      "2025-03-27 16:05:54,215 - CRDS - INFO -  Fetching  /home/runner/crds/mappings/jwst/jwst_niriss_filteroffset_0010.rmap      853 bytes  (82 / 202 files) (244.6 K / 722.8 K bytes)\n"
     ]
    },
    {
     "name": "stderr",
     "output_type": "stream",
     "text": [
      "2025-03-27 16:05:54,459 - CRDS - INFO -  Fetching  /home/runner/crds/mappings/jwst/jwst_niriss_extract1d_0007.rmap      905 bytes  (83 / 202 files) (245.5 K / 722.8 K bytes)\n"
     ]
    },
    {
     "name": "stderr",
     "output_type": "stream",
     "text": [
      "2025-03-27 16:05:54,704 - CRDS - INFO -  Fetching  /home/runner/crds/mappings/jwst/jwst_niriss_drizpars_0004.rmap      519 bytes  (84 / 202 files) (246.4 K / 722.8 K bytes)\n"
     ]
    },
    {
     "name": "stderr",
     "output_type": "stream",
     "text": [
      "2025-03-27 16:05:54,943 - CRDS - INFO -  Fetching  /home/runner/crds/mappings/jwst/jwst_niriss_distortion_0025.rmap    3.4 K bytes  (85 / 202 files) (246.9 K / 722.8 K bytes)\n"
     ]
    },
    {
     "name": "stderr",
     "output_type": "stream",
     "text": [
      "2025-03-27 16:05:55,181 - CRDS - INFO -  Fetching  /home/runner/crds/mappings/jwst/jwst_niriss_dark_0034.rmap    7.5 K bytes  (86 / 202 files) (250.4 K / 722.8 K bytes)\n"
     ]
    },
    {
     "name": "stderr",
     "output_type": "stream",
     "text": [
      "2025-03-27 16:05:55,426 - CRDS - INFO -  Fetching  /home/runner/crds/mappings/jwst/jwst_niriss_area_0014.rmap    2.7 K bytes  (87 / 202 files) (257.9 K / 722.8 K bytes)\n"
     ]
    },
    {
     "name": "stderr",
     "output_type": "stream",
     "text": [
      "2025-03-27 16:05:55,663 - CRDS - INFO -  Fetching  /home/runner/crds/mappings/jwst/jwst_niriss_apcorr_0010.rmap    4.3 K bytes  (88 / 202 files) (260.6 K / 722.8 K bytes)\n"
     ]
    },
    {
     "name": "stderr",
     "output_type": "stream",
     "text": [
      "2025-03-27 16:05:55,907 - CRDS - INFO -  Fetching  /home/runner/crds/mappings/jwst/jwst_niriss_abvegaoffset_0004.rmap    1.4 K bytes  (89 / 202 files) (264.9 K / 722.8 K bytes)\n"
     ]
    },
    {
     "name": "stderr",
     "output_type": "stream",
     "text": [
      "2025-03-27 16:05:56,151 - CRDS - INFO -  Fetching  /home/runner/crds/mappings/jwst/jwst_niriss_0267.imap      5.8 K bytes  (90 / 202 files) (266.2 K / 722.8 K bytes)\n"
     ]
    },
    {
     "name": "stderr",
     "output_type": "stream",
     "text": [
      "2025-03-27 16:05:56,435 - CRDS - INFO -  Fetching  /home/runner/crds/mappings/jwst/jwst_nircam_wfssbkg_0004.rmap    7.2 K bytes  (91 / 202 files) (272.0 K / 722.8 K bytes)\n"
     ]
    },
    {
     "name": "stderr",
     "output_type": "stream",
     "text": [
      "2025-03-27 16:05:56,684 - CRDS - INFO -  Fetching  /home/runner/crds/mappings/jwst/jwst_nircam_wavelengthrange_0010.rmap      996 bytes  (92 / 202 files) (279.2 K / 722.8 K bytes)\n"
     ]
    },
    {
     "name": "stderr",
     "output_type": "stream",
     "text": [
      "2025-03-27 16:05:56,926 - CRDS - INFO -  Fetching  /home/runner/crds/mappings/jwst/jwst_nircam_tsophot_0003.rmap      896 bytes  (93 / 202 files) (280.2 K / 722.8 K bytes)\n"
     ]
    },
    {
     "name": "stderr",
     "output_type": "stream",
     "text": [
      "2025-03-27 16:05:57,173 - CRDS - INFO -  Fetching  /home/runner/crds/mappings/jwst/jwst_nircam_trappars_0003.rmap    1.6 K bytes  (94 / 202 files) (281.1 K / 722.8 K bytes)\n"
     ]
    },
    {
     "name": "stderr",
     "output_type": "stream",
     "text": [
      "2025-03-27 16:05:57,407 - CRDS - INFO -  Fetching  /home/runner/crds/mappings/jwst/jwst_nircam_trapdensity_0003.rmap    1.6 K bytes  (95 / 202 files) (282.7 K / 722.8 K bytes)\n"
     ]
    },
    {
     "name": "stderr",
     "output_type": "stream",
     "text": [
      "2025-03-27 16:05:57,654 - CRDS - INFO -  Fetching  /home/runner/crds/mappings/jwst/jwst_nircam_superbias_0018.rmap   16.2 K bytes  (96 / 202 files) (284.4 K / 722.8 K bytes)\n"
     ]
    },
    {
     "name": "stderr",
     "output_type": "stream",
     "text": [
      "2025-03-27 16:05:57,987 - CRDS - INFO -  Fetching  /home/runner/crds/mappings/jwst/jwst_nircam_specwcs_0022.rmap    7.1 K bytes  (97 / 202 files) (300.5 K / 722.8 K bytes)\n"
     ]
    },
    {
     "name": "stderr",
     "output_type": "stream",
     "text": [
      "2025-03-27 16:05:58,226 - CRDS - INFO -  Fetching  /home/runner/crds/mappings/jwst/jwst_nircam_sirskernel_0002.rmap      671 bytes  (98 / 202 files) (307.7 K / 722.8 K bytes)\n"
     ]
    },
    {
     "name": "stderr",
     "output_type": "stream",
     "text": [
      "2025-03-27 16:05:58,467 - CRDS - INFO -  Fetching  /home/runner/crds/mappings/jwst/jwst_nircam_saturation_0010.rmap    2.2 K bytes  (99 / 202 files) (308.3 K / 722.8 K bytes)\n"
     ]
    },
    {
     "name": "stderr",
     "output_type": "stream",
     "text": [
      "2025-03-27 16:05:58,706 - CRDS - INFO -  Fetching  /home/runner/crds/mappings/jwst/jwst_nircam_readnoise_0025.rmap   23.2 K bytes  (100 / 202 files) (310.5 K / 722.8 K bytes)\n"
     ]
    },
    {
     "name": "stderr",
     "output_type": "stream",
     "text": [
      "2025-03-27 16:05:59,026 - CRDS - INFO -  Fetching  /home/runner/crds/mappings/jwst/jwst_nircam_psfmask_0008.rmap   28.4 K bytes  (101 / 202 files) (333.7 K / 722.8 K bytes)\n"
     ]
    },
    {
     "name": "stderr",
     "output_type": "stream",
     "text": [
      "2025-03-27 16:05:59,327 - CRDS - INFO -  Fetching  /home/runner/crds/mappings/jwst/jwst_nircam_photom_0028.rmap    3.4 K bytes  (102 / 202 files) (362.0 K / 722.8 K bytes)\n"
     ]
    },
    {
     "name": "stderr",
     "output_type": "stream",
     "text": [
      "2025-03-27 16:05:59,565 - CRDS - INFO -  Fetching  /home/runner/crds/mappings/jwst/jwst_nircam_persat_0005.rmap    1.6 K bytes  (103 / 202 files) (365.4 K / 722.8 K bytes)\n"
     ]
    },
    {
     "name": "stderr",
     "output_type": "stream",
     "text": [
      "2025-03-27 16:05:59,810 - CRDS - INFO -  Fetching  /home/runner/crds/mappings/jwst/jwst_nircam_pars-whitelightstep_0003.rmap    1.5 K bytes  (104 / 202 files) (367.0 K / 722.8 K bytes)\n"
     ]
    },
    {
     "name": "stderr",
     "output_type": "stream",
     "text": [
      "2025-03-27 16:06:00,067 - CRDS - INFO -  Fetching  /home/runner/crds/mappings/jwst/jwst_nircam_pars-tweakregstep_0003.rmap    4.5 K bytes  (105 / 202 files) (368.4 K / 722.8 K bytes)\n"
     ]
    },
    {
     "name": "stderr",
     "output_type": "stream",
     "text": [
      "2025-03-27 16:06:00,307 - CRDS - INFO -  Fetching  /home/runner/crds/mappings/jwst/jwst_nircam_pars-spec2pipeline_0008.rmap      984 bytes  (106 / 202 files) (372.9 K / 722.8 K bytes)\n"
     ]
    },
    {
     "name": "stderr",
     "output_type": "stream",
     "text": [
      "2025-03-27 16:06:00,546 - CRDS - INFO -  Fetching  /home/runner/crds/mappings/jwst/jwst_nircam_pars-sourcecatalogstep_0002.rmap    4.6 K bytes  (107 / 202 files) (373.9 K / 722.8 K bytes)\n"
     ]
    },
    {
     "name": "stderr",
     "output_type": "stream",
     "text": [
      "2025-03-27 16:06:00,784 - CRDS - INFO -  Fetching  /home/runner/crds/mappings/jwst/jwst_nircam_pars-resamplestep_0002.rmap      687 bytes  (108 / 202 files) (378.5 K / 722.8 K bytes)\n"
     ]
    },
    {
     "name": "stderr",
     "output_type": "stream",
     "text": [
      "2025-03-27 16:06:01,032 - CRDS - INFO -  Fetching  /home/runner/crds/mappings/jwst/jwst_nircam_pars-outlierdetectionstep_0003.rmap      940 bytes  (109 / 202 files) (379.2 K / 722.8 K bytes)\n"
     ]
    },
    {
     "name": "stderr",
     "output_type": "stream",
     "text": [
      "2025-03-27 16:06:01,272 - CRDS - INFO -  Fetching  /home/runner/crds/mappings/jwst/jwst_nircam_pars-jumpstep_0005.rmap      806 bytes  (110 / 202 files) (380.2 K / 722.8 K bytes)\n"
     ]
    },
    {
     "name": "stderr",
     "output_type": "stream",
     "text": [
      "2025-03-27 16:06:01,514 - CRDS - INFO -  Fetching  /home/runner/crds/mappings/jwst/jwst_nircam_pars-image2pipeline_0003.rmap    1.0 K bytes  (111 / 202 files) (381.0 K / 722.8 K bytes)\n"
     ]
    },
    {
     "name": "stderr",
     "output_type": "stream",
     "text": [
      "2025-03-27 16:06:01,757 - CRDS - INFO -  Fetching  /home/runner/crds/mappings/jwst/jwst_nircam_pars-detector1pipeline_0003.rmap    1.0 K bytes  (112 / 202 files) (382.0 K / 722.8 K bytes)\n"
     ]
    },
    {
     "name": "stderr",
     "output_type": "stream",
     "text": [
      "2025-03-27 16:06:01,997 - CRDS - INFO -  Fetching  /home/runner/crds/mappings/jwst/jwst_nircam_pars-darkpipeline_0002.rmap      868 bytes  (113 / 202 files) (383.0 K / 722.8 K bytes)\n"
     ]
    },
    {
     "name": "stderr",
     "output_type": "stream",
     "text": [
      "2025-03-27 16:06:02,243 - CRDS - INFO -  Fetching  /home/runner/crds/mappings/jwst/jwst_nircam_pars-darkcurrentstep_0001.rmap      618 bytes  (114 / 202 files) (383.9 K / 722.8 K bytes)\n"
     ]
    },
    {
     "name": "stderr",
     "output_type": "stream",
     "text": [
      "2025-03-27 16:06:02,486 - CRDS - INFO -  Fetching  /home/runner/crds/mappings/jwst/jwst_nircam_mask_0011.rmap    3.5 K bytes  (115 / 202 files) (384.5 K / 722.8 K bytes)\n"
     ]
    },
    {
     "name": "stderr",
     "output_type": "stream",
     "text": [
      "2025-03-27 16:06:02,732 - CRDS - INFO -  Fetching  /home/runner/crds/mappings/jwst/jwst_nircam_linearity_0011.rmap    2.4 K bytes  (116 / 202 files) (388.0 K / 722.8 K bytes)\n"
     ]
    },
    {
     "name": "stderr",
     "output_type": "stream",
     "text": [
      "2025-03-27 16:06:02,973 - CRDS - INFO -  Fetching  /home/runner/crds/mappings/jwst/jwst_nircam_ipc_0003.rmap    2.0 K bytes  (117 / 202 files) (390.4 K / 722.8 K bytes)\n"
     ]
    },
    {
     "name": "stderr",
     "output_type": "stream",
     "text": [
      "2025-03-27 16:06:03,216 - CRDS - INFO -  Fetching  /home/runner/crds/mappings/jwst/jwst_nircam_gain_0016.rmap    2.1 K bytes  (118 / 202 files) (392.4 K / 722.8 K bytes)\n"
     ]
    },
    {
     "name": "stderr",
     "output_type": "stream",
     "text": [
      "2025-03-27 16:06:03,448 - CRDS - INFO -  Fetching  /home/runner/crds/mappings/jwst/jwst_nircam_flat_0027.rmap   51.7 K bytes  (119 / 202 files) (394.5 K / 722.8 K bytes)\n"
     ]
    },
    {
     "name": "stderr",
     "output_type": "stream",
     "text": [
      "2025-03-27 16:06:03,842 - CRDS - INFO -  Fetching  /home/runner/crds/mappings/jwst/jwst_nircam_filteroffset_0004.rmap    1.4 K bytes  (120 / 202 files) (446.2 K / 722.8 K bytes)\n"
     ]
    },
    {
     "name": "stderr",
     "output_type": "stream",
     "text": [
      "2025-03-27 16:06:04,080 - CRDS - INFO -  Fetching  /home/runner/crds/mappings/jwst/jwst_nircam_extract1d_0004.rmap      842 bytes  (121 / 202 files) (447.6 K / 722.8 K bytes)\n"
     ]
    },
    {
     "name": "stderr",
     "output_type": "stream",
     "text": [
      "2025-03-27 16:06:04,318 - CRDS - INFO -  Fetching  /home/runner/crds/mappings/jwst/jwst_nircam_drizpars_0001.rmap      519 bytes  (122 / 202 files) (448.5 K / 722.8 K bytes)\n"
     ]
    },
    {
     "name": "stderr",
     "output_type": "stream",
     "text": [
      "2025-03-27 16:06:04,556 - CRDS - INFO -  Fetching  /home/runner/crds/mappings/jwst/jwst_nircam_distortion_0033.rmap   53.4 K bytes  (123 / 202 files) (449.0 K / 722.8 K bytes)\n"
     ]
    },
    {
     "name": "stderr",
     "output_type": "stream",
     "text": [
      "2025-03-27 16:06:04,947 - CRDS - INFO -  Fetching  /home/runner/crds/mappings/jwst/jwst_nircam_dark_0046.rmap   26.4 K bytes  (124 / 202 files) (502.3 K / 722.8 K bytes)\n"
     ]
    },
    {
     "name": "stderr",
     "output_type": "stream",
     "text": [
      "2025-03-27 16:06:05,266 - CRDS - INFO -  Fetching  /home/runner/crds/mappings/jwst/jwst_nircam_area_0012.rmap   33.5 K bytes  (125 / 202 files) (528.7 K / 722.8 K bytes)\n"
     ]
    },
    {
     "name": "stderr",
     "output_type": "stream",
     "text": [
      "2025-03-27 16:06:05,565 - CRDS - INFO -  Fetching  /home/runner/crds/mappings/jwst/jwst_nircam_apcorr_0008.rmap    4.3 K bytes  (126 / 202 files) (562.2 K / 722.8 K bytes)\n"
     ]
    },
    {
     "name": "stderr",
     "output_type": "stream",
     "text": [
      "2025-03-27 16:06:05,805 - CRDS - INFO -  Fetching  /home/runner/crds/mappings/jwst/jwst_nircam_abvegaoffset_0003.rmap    1.3 K bytes  (127 / 202 files) (566.5 K / 722.8 K bytes)\n"
     ]
    },
    {
     "name": "stderr",
     "output_type": "stream",
     "text": [
      "2025-03-27 16:06:06,046 - CRDS - INFO -  Fetching  /home/runner/crds/mappings/jwst/jwst_nircam_0301.imap      5.6 K bytes  (128 / 202 files) (567.8 K / 722.8 K bytes)\n"
     ]
    },
    {
     "name": "stderr",
     "output_type": "stream",
     "text": [
      "2025-03-27 16:06:06,291 - CRDS - INFO -  Fetching  /home/runner/crds/mappings/jwst/jwst_miri_wavelengthrange_0027.rmap      929 bytes  (129 / 202 files) (573.4 K / 722.8 K bytes)\n"
     ]
    },
    {
     "name": "stderr",
     "output_type": "stream",
     "text": [
      "2025-03-27 16:06:06,534 - CRDS - INFO -  Fetching  /home/runner/crds/mappings/jwst/jwst_miri_tsophot_0004.rmap      882 bytes  (130 / 202 files) (574.3 K / 722.8 K bytes)\n"
     ]
    },
    {
     "name": "stderr",
     "output_type": "stream",
     "text": [
      "2025-03-27 16:06:06,778 - CRDS - INFO -  Fetching  /home/runner/crds/mappings/jwst/jwst_miri_straymask_0009.rmap      987 bytes  (131 / 202 files) (575.2 K / 722.8 K bytes)\n"
     ]
    },
    {
     "name": "stderr",
     "output_type": "stream",
     "text": [
      "2025-03-27 16:06:07,023 - CRDS - INFO -  Fetching  /home/runner/crds/mappings/jwst/jwst_miri_specwcs_0042.rmap    5.8 K bytes  (132 / 202 files) (576.2 K / 722.8 K bytes)\n"
     ]
    },
    {
     "name": "stderr",
     "output_type": "stream",
     "text": [
      "2025-03-27 16:06:07,266 - CRDS - INFO -  Fetching  /home/runner/crds/mappings/jwst/jwst_miri_saturation_0015.rmap    1.2 K bytes  (133 / 202 files) (582.0 K / 722.8 K bytes)\n"
     ]
    },
    {
     "name": "stderr",
     "output_type": "stream",
     "text": [
      "2025-03-27 16:06:07,505 - CRDS - INFO -  Fetching  /home/runner/crds/mappings/jwst/jwst_miri_rscd_0008.rmap    1.0 K bytes  (134 / 202 files) (583.1 K / 722.8 K bytes)\n"
     ]
    },
    {
     "name": "stderr",
     "output_type": "stream",
     "text": [
      "2025-03-27 16:06:07,744 - CRDS - INFO -  Fetching  /home/runner/crds/mappings/jwst/jwst_miri_resol_0006.rmap      790 bytes  (135 / 202 files) (584.2 K / 722.8 K bytes)\n"
     ]
    },
    {
     "name": "stderr",
     "output_type": "stream",
     "text": [
      "2025-03-27 16:06:07,984 - CRDS - INFO -  Fetching  /home/runner/crds/mappings/jwst/jwst_miri_reset_0026.rmap    3.9 K bytes  (136 / 202 files) (585.0 K / 722.8 K bytes)\n"
     ]
    },
    {
     "name": "stderr",
     "output_type": "stream",
     "text": [
      "2025-03-27 16:06:08,223 - CRDS - INFO -  Fetching  /home/runner/crds/mappings/jwst/jwst_miri_regions_0033.rmap    5.2 K bytes  (137 / 202 files) (588.8 K / 722.8 K bytes)\n"
     ]
    },
    {
     "name": "stderr",
     "output_type": "stream",
     "text": [
      "2025-03-27 16:06:08,470 - CRDS - INFO -  Fetching  /home/runner/crds/mappings/jwst/jwst_miri_readnoise_0023.rmap    1.6 K bytes  (138 / 202 files) (594.0 K / 722.8 K bytes)\n"
     ]
    },
    {
     "name": "stderr",
     "output_type": "stream",
     "text": [
      "2025-03-27 16:06:08,714 - CRDS - INFO -  Fetching  /home/runner/crds/mappings/jwst/jwst_miri_psfmask_0009.rmap    2.1 K bytes  (139 / 202 files) (595.7 K / 722.8 K bytes)\n"
     ]
    },
    {
     "name": "stderr",
     "output_type": "stream",
     "text": [
      "2025-03-27 16:06:08,953 - CRDS - INFO -  Fetching  /home/runner/crds/mappings/jwst/jwst_miri_psf_0002.rmap      753 bytes  (140 / 202 files) (597.8 K / 722.8 K bytes)\n"
     ]
    },
    {
     "name": "stderr",
     "output_type": "stream",
     "text": [
      "2025-03-27 16:06:09,205 - CRDS - INFO -  Fetching  /home/runner/crds/mappings/jwst/jwst_miri_photom_0056.rmap    3.7 K bytes  (141 / 202 files) (598.5 K / 722.8 K bytes)\n"
     ]
    },
    {
     "name": "stderr",
     "output_type": "stream",
     "text": [
      "2025-03-27 16:06:09,438 - CRDS - INFO -  Fetching  /home/runner/crds/mappings/jwst/jwst_miri_pathloss_0005.rmap      866 bytes  (142 / 202 files) (602.3 K / 722.8 K bytes)\n"
     ]
    },
    {
     "name": "stderr",
     "output_type": "stream",
     "text": [
      "2025-03-27 16:06:09,678 - CRDS - INFO -  Fetching  /home/runner/crds/mappings/jwst/jwst_miri_pars-whitelightstep_0003.rmap      912 bytes  (143 / 202 files) (603.2 K / 722.8 K bytes)\n"
     ]
    },
    {
     "name": "stderr",
     "output_type": "stream",
     "text": [
      "2025-03-27 16:06:09,917 - CRDS - INFO -  Fetching  /home/runner/crds/mappings/jwst/jwst_miri_pars-tweakregstep_0003.rmap    1.8 K bytes  (144 / 202 files) (604.1 K / 722.8 K bytes)\n"
     ]
    },
    {
     "name": "stderr",
     "output_type": "stream",
     "text": [
      "2025-03-27 16:06:10,163 - CRDS - INFO -  Fetching  /home/runner/crds/mappings/jwst/jwst_miri_pars-spec3pipeline_0009.rmap      816 bytes  (145 / 202 files) (605.9 K / 722.8 K bytes)\n"
     ]
    },
    {
     "name": "stderr",
     "output_type": "stream",
     "text": [
      "2025-03-27 16:06:10,400 - CRDS - INFO -  Fetching  /home/runner/crds/mappings/jwst/jwst_miri_pars-spec2pipeline_0012.rmap    1.3 K bytes  (146 / 202 files) (606.7 K / 722.8 K bytes)\n"
     ]
    },
    {
     "name": "stderr",
     "output_type": "stream",
     "text": [
      "2025-03-27 16:06:10,639 - CRDS - INFO -  Fetching  /home/runner/crds/mappings/jwst/jwst_miri_pars-sourcecatalogstep_0003.rmap    1.9 K bytes  (147 / 202 files) (608.0 K / 722.8 K bytes)\n"
     ]
    },
    {
     "name": "stderr",
     "output_type": "stream",
     "text": [
      "2025-03-27 16:06:10,878 - CRDS - INFO -  Fetching  /home/runner/crds/mappings/jwst/jwst_miri_pars-resamplestep_0002.rmap      677 bytes  (148 / 202 files) (610.0 K / 722.8 K bytes)\n"
     ]
    },
    {
     "name": "stderr",
     "output_type": "stream",
     "text": [
      "2025-03-27 16:06:11,118 - CRDS - INFO -  Fetching  /home/runner/crds/mappings/jwst/jwst_miri_pars-resamplespecstep_0002.rmap      706 bytes  (149 / 202 files) (610.6 K / 722.8 K bytes)\n"
     ]
    },
    {
     "name": "stderr",
     "output_type": "stream",
     "text": [
      "2025-03-27 16:06:11,357 - CRDS - INFO -  Fetching  /home/runner/crds/mappings/jwst/jwst_miri_pars-outlierdetectionstep_0017.rmap    3.4 K bytes  (150 / 202 files) (611.3 K / 722.8 K bytes)\n"
     ]
    },
    {
     "name": "stderr",
     "output_type": "stream",
     "text": [
      "2025-03-27 16:06:11,584 - CRDS - INFO -  Fetching  /home/runner/crds/mappings/jwst/jwst_miri_pars-jumpstep_0011.rmap    1.6 K bytes  (151 / 202 files) (614.7 K / 722.8 K bytes)\n"
     ]
    },
    {
     "name": "stderr",
     "output_type": "stream",
     "text": [
      "2025-03-27 16:06:11,823 - CRDS - INFO -  Fetching  /home/runner/crds/mappings/jwst/jwst_miri_pars-image2pipeline_0007.rmap      983 bytes  (152 / 202 files) (616.3 K / 722.8 K bytes)\n"
     ]
    },
    {
     "name": "stderr",
     "output_type": "stream",
     "text": [
      "2025-03-27 16:06:12,073 - CRDS - INFO -  Fetching  /home/runner/crds/mappings/jwst/jwst_miri_pars-extract1dstep_0003.rmap      807 bytes  (153 / 202 files) (617.3 K / 722.8 K bytes)\n"
     ]
    },
    {
     "name": "stderr",
     "output_type": "stream",
     "text": [
      "2025-03-27 16:06:12,317 - CRDS - INFO -  Fetching  /home/runner/crds/mappings/jwst/jwst_miri_pars-emicorrstep_0003.rmap      796 bytes  (154 / 202 files) (618.1 K / 722.8 K bytes)\n"
     ]
    },
    {
     "name": "stderr",
     "output_type": "stream",
     "text": [
      "2025-03-27 16:06:12,556 - CRDS - INFO -  Fetching  /home/runner/crds/mappings/jwst/jwst_miri_pars-detector1pipeline_0010.rmap    1.6 K bytes  (155 / 202 files) (618.9 K / 722.8 K bytes)\n"
     ]
    },
    {
     "name": "stderr",
     "output_type": "stream",
     "text": [
      "2025-03-27 16:06:12,796 - CRDS - INFO -  Fetching  /home/runner/crds/mappings/jwst/jwst_miri_pars-darkpipeline_0002.rmap      860 bytes  (156 / 202 files) (620.5 K / 722.8 K bytes)\n"
     ]
    },
    {
     "name": "stderr",
     "output_type": "stream",
     "text": [
      "2025-03-27 16:06:13,035 - CRDS - INFO -  Fetching  /home/runner/crds/mappings/jwst/jwst_miri_pars-darkcurrentstep_0002.rmap      683 bytes  (157 / 202 files) (621.3 K / 722.8 K bytes)\n"
     ]
    },
    {
     "name": "stderr",
     "output_type": "stream",
     "text": [
      "2025-03-27 16:06:13,276 - CRDS - INFO -  Fetching  /home/runner/crds/mappings/jwst/jwst_miri_mrsxartcorr_0002.rmap    2.2 K bytes  (158 / 202 files) (622.0 K / 722.8 K bytes)\n"
     ]
    },
    {
     "name": "stderr",
     "output_type": "stream",
     "text": [
      "2025-03-27 16:06:13,527 - CRDS - INFO -  Fetching  /home/runner/crds/mappings/jwst/jwst_miri_mrsptcorr_0005.rmap    2.0 K bytes  (159 / 202 files) (624.1 K / 722.8 K bytes)\n"
     ]
    },
    {
     "name": "stderr",
     "output_type": "stream",
     "text": [
      "2025-03-27 16:06:13,766 - CRDS - INFO -  Fetching  /home/runner/crds/mappings/jwst/jwst_miri_mask_0023.rmap    3.5 K bytes  (160 / 202 files) (626.1 K / 722.8 K bytes)\n"
     ]
    },
    {
     "name": "stderr",
     "output_type": "stream",
     "text": [
      "2025-03-27 16:06:14,010 - CRDS - INFO -  Fetching  /home/runner/crds/mappings/jwst/jwst_miri_linearity_0018.rmap    2.8 K bytes  (161 / 202 files) (629.6 K / 722.8 K bytes)\n"
     ]
    },
    {
     "name": "stderr",
     "output_type": "stream",
     "text": [
      "2025-03-27 16:06:14,248 - CRDS - INFO -  Fetching  /home/runner/crds/mappings/jwst/jwst_miri_ipc_0008.rmap      700 bytes  (162 / 202 files) (632.4 K / 722.8 K bytes)\n"
     ]
    },
    {
     "name": "stderr",
     "output_type": "stream",
     "text": [
      "2025-03-27 16:06:14,487 - CRDS - INFO -  Fetching  /home/runner/crds/mappings/jwst/jwst_miri_gain_0013.rmap    3.9 K bytes  (163 / 202 files) (633.1 K / 722.8 K bytes)\n"
     ]
    },
    {
     "name": "stderr",
     "output_type": "stream",
     "text": [
      "2025-03-27 16:06:14,742 - CRDS - INFO -  Fetching  /home/runner/crds/mappings/jwst/jwst_miri_fringefreq_0003.rmap    1.4 K bytes  (164 / 202 files) (637.0 K / 722.8 K bytes)\n"
     ]
    },
    {
     "name": "stderr",
     "output_type": "stream",
     "text": [
      "2025-03-27 16:06:14,982 - CRDS - INFO -  Fetching  /home/runner/crds/mappings/jwst/jwst_miri_fringe_0019.rmap    3.9 K bytes  (165 / 202 files) (638.5 K / 722.8 K bytes)\n"
     ]
    },
    {
     "name": "stderr",
     "output_type": "stream",
     "text": [
      "2025-03-27 16:06:15,225 - CRDS - INFO -  Fetching  /home/runner/crds/mappings/jwst/jwst_miri_flat_0065.rmap   15.5 K bytes  (166 / 202 files) (642.4 K / 722.8 K bytes)\n"
     ]
    },
    {
     "name": "stderr",
     "output_type": "stream",
     "text": [
      "2025-03-27 16:06:15,541 - CRDS - INFO -  Fetching  /home/runner/crds/mappings/jwst/jwst_miri_filteroffset_0025.rmap    2.5 K bytes  (167 / 202 files) (657.9 K / 722.8 K bytes)\n"
     ]
    },
    {
     "name": "stderr",
     "output_type": "stream",
     "text": [
      "2025-03-27 16:06:15,767 - CRDS - INFO -  Fetching  /home/runner/crds/mappings/jwst/jwst_miri_extract1d_0020.rmap    1.4 K bytes  (168 / 202 files) (660.4 K / 722.8 K bytes)\n"
     ]
    },
    {
     "name": "stderr",
     "output_type": "stream",
     "text": [
      "2025-03-27 16:06:16,007 - CRDS - INFO -  Fetching  /home/runner/crds/mappings/jwst/jwst_miri_emicorr_0003.rmap      663 bytes  (169 / 202 files) (661.7 K / 722.8 K bytes)\n"
     ]
    },
    {
     "name": "stderr",
     "output_type": "stream",
     "text": [
      "2025-03-27 16:06:16,247 - CRDS - INFO -  Fetching  /home/runner/crds/mappings/jwst/jwst_miri_drizpars_0002.rmap      511 bytes  (170 / 202 files) (662.4 K / 722.8 K bytes)\n"
     ]
    },
    {
     "name": "stderr",
     "output_type": "stream",
     "text": [
      "2025-03-27 16:06:16,485 - CRDS - INFO -  Fetching  /home/runner/crds/mappings/jwst/jwst_miri_distortion_0040.rmap    4.9 K bytes  (171 / 202 files) (662.9 K / 722.8 K bytes)\n"
     ]
    },
    {
     "name": "stderr",
     "output_type": "stream",
     "text": [
      "2025-03-27 16:06:16,725 - CRDS - INFO -  Fetching  /home/runner/crds/mappings/jwst/jwst_miri_dark_0036.rmap    4.4 K bytes  (172 / 202 files) (667.8 K / 722.8 K bytes)\n"
     ]
    },
    {
     "name": "stderr",
     "output_type": "stream",
     "text": [
      "2025-03-27 16:06:16,965 - CRDS - INFO -  Fetching  /home/runner/crds/mappings/jwst/jwst_miri_cubepar_0017.rmap      800 bytes  (173 / 202 files) (672.2 K / 722.8 K bytes)\n"
     ]
    },
    {
     "name": "stderr",
     "output_type": "stream",
     "text": [
      "2025-03-27 16:06:17,204 - CRDS - INFO -  Fetching  /home/runner/crds/mappings/jwst/jwst_miri_area_0015.rmap      866 bytes  (174 / 202 files) (673.0 K / 722.8 K bytes)\n"
     ]
    },
    {
     "name": "stderr",
     "output_type": "stream",
     "text": [
      "2025-03-27 16:06:17,444 - CRDS - INFO -  Fetching  /home/runner/crds/mappings/jwst/jwst_miri_apcorr_0019.rmap    5.0 K bytes  (175 / 202 files) (673.8 K / 722.8 K bytes)\n"
     ]
    },
    {
     "name": "stderr",
     "output_type": "stream",
     "text": [
      "2025-03-27 16:06:17,676 - CRDS - INFO -  Fetching  /home/runner/crds/mappings/jwst/jwst_miri_abvegaoffset_0003.rmap    1.3 K bytes  (176 / 202 files) (678.8 K / 722.8 K bytes)\n"
     ]
    },
    {
     "name": "stderr",
     "output_type": "stream",
     "text": [
      "2025-03-27 16:06:17,915 - CRDS - INFO -  Fetching  /home/runner/crds/mappings/jwst/jwst_miri_0423.imap        5.8 K bytes  (177 / 202 files) (680.1 K / 722.8 K bytes)\n"
     ]
    },
    {
     "name": "stderr",
     "output_type": "stream",
     "text": [
      "2025-03-27 16:06:18,159 - CRDS - INFO -  Fetching  /home/runner/crds/mappings/jwst/jwst_fgs_trappars_0004.rmap      903 bytes  (178 / 202 files) (685.9 K / 722.8 K bytes)\n"
     ]
    },
    {
     "name": "stderr",
     "output_type": "stream",
     "text": [
      "2025-03-27 16:06:18,409 - CRDS - INFO -  Fetching  /home/runner/crds/mappings/jwst/jwst_fgs_trapdensity_0006.rmap      930 bytes  (179 / 202 files) (686.8 K / 722.8 K bytes)\n"
     ]
    },
    {
     "name": "stderr",
     "output_type": "stream",
     "text": [
      "2025-03-27 16:06:18,663 - CRDS - INFO -  Fetching  /home/runner/crds/mappings/jwst/jwst_fgs_superbias_0017.rmap    3.8 K bytes  (180 / 202 files) (687.8 K / 722.8 K bytes)\n"
     ]
    },
    {
     "name": "stderr",
     "output_type": "stream",
     "text": [
      "2025-03-27 16:06:18,911 - CRDS - INFO -  Fetching  /home/runner/crds/mappings/jwst/jwst_fgs_saturation_0009.rmap      779 bytes  (181 / 202 files) (691.5 K / 722.8 K bytes)\n"
     ]
    },
    {
     "name": "stderr",
     "output_type": "stream",
     "text": [
      "2025-03-27 16:06:19,149 - CRDS - INFO -  Fetching  /home/runner/crds/mappings/jwst/jwst_fgs_readnoise_0011.rmap    1.3 K bytes  (182 / 202 files) (692.3 K / 722.8 K bytes)\n"
     ]
    },
    {
     "name": "stderr",
     "output_type": "stream",
     "text": [
      "2025-03-27 16:06:19,389 - CRDS - INFO -  Fetching  /home/runner/crds/mappings/jwst/jwst_fgs_photom_0014.rmap    1.1 K bytes  (183 / 202 files) (693.6 K / 722.8 K bytes)\n"
     ]
    },
    {
     "name": "stderr",
     "output_type": "stream",
     "text": [
      "2025-03-27 16:06:19,629 - CRDS - INFO -  Fetching  /home/runner/crds/mappings/jwst/jwst_fgs_persat_0006.rmap      884 bytes  (184 / 202 files) (694.7 K / 722.8 K bytes)\n"
     ]
    },
    {
     "name": "stderr",
     "output_type": "stream",
     "text": [
      "2025-03-27 16:06:19,870 - CRDS - INFO -  Fetching  /home/runner/crds/mappings/jwst/jwst_fgs_pars-tweakregstep_0002.rmap      850 bytes  (185 / 202 files) (695.6 K / 722.8 K bytes)\n"
     ]
    },
    {
     "name": "stderr",
     "output_type": "stream",
     "text": [
      "2025-03-27 16:06:20,109 - CRDS - INFO -  Fetching  /home/runner/crds/mappings/jwst/jwst_fgs_pars-sourcecatalogstep_0001.rmap      636 bytes  (186 / 202 files) (696.4 K / 722.8 K bytes)\n"
     ]
    },
    {
     "name": "stderr",
     "output_type": "stream",
     "text": [
      "2025-03-27 16:06:20,349 - CRDS - INFO -  Fetching  /home/runner/crds/mappings/jwst/jwst_fgs_pars-outlierdetectionstep_0001.rmap      654 bytes  (187 / 202 files) (697.1 K / 722.8 K bytes)\n"
     ]
    },
    {
     "name": "stderr",
     "output_type": "stream",
     "text": [
      "2025-03-27 16:06:20,588 - CRDS - INFO -  Fetching  /home/runner/crds/mappings/jwst/jwst_fgs_pars-image2pipeline_0005.rmap      974 bytes  (188 / 202 files) (697.7 K / 722.8 K bytes)\n"
     ]
    },
    {
     "name": "stderr",
     "output_type": "stream",
     "text": [
      "2025-03-27 16:06:20,825 - CRDS - INFO -  Fetching  /home/runner/crds/mappings/jwst/jwst_fgs_pars-detector1pipeline_0002.rmap    1.0 K bytes  (189 / 202 files) (698.7 K / 722.8 K bytes)\n"
     ]
    },
    {
     "name": "stderr",
     "output_type": "stream",
     "text": [
      "2025-03-27 16:06:21,065 - CRDS - INFO -  Fetching  /home/runner/crds/mappings/jwst/jwst_fgs_pars-darkpipeline_0002.rmap      856 bytes  (190 / 202 files) (699.7 K / 722.8 K bytes)\n"
     ]
    },
    {
     "name": "stderr",
     "output_type": "stream",
     "text": [
      "2025-03-27 16:06:21,304 - CRDS - INFO -  Fetching  /home/runner/crds/mappings/jwst/jwst_fgs_mask_0023.rmap    1.1 K bytes  (191 / 202 files) (700.6 K / 722.8 K bytes)\n"
     ]
    },
    {
     "name": "stderr",
     "output_type": "stream",
     "text": [
      "2025-03-27 16:06:21,541 - CRDS - INFO -  Fetching  /home/runner/crds/mappings/jwst/jwst_fgs_linearity_0015.rmap      925 bytes  (192 / 202 files) (701.6 K / 722.8 K bytes)\n"
     ]
    },
    {
     "name": "stderr",
     "output_type": "stream",
     "text": [
      "2025-03-27 16:06:21,785 - CRDS - INFO -  Fetching  /home/runner/crds/mappings/jwst/jwst_fgs_ipc_0003.rmap       614 bytes  (193 / 202 files) (702.6 K / 722.8 K bytes)\n"
     ]
    },
    {
     "name": "stderr",
     "output_type": "stream",
     "text": [
      "2025-03-27 16:06:22,010 - CRDS - INFO -  Fetching  /home/runner/crds/mappings/jwst/jwst_fgs_gain_0010.rmap      890 bytes  (194 / 202 files) (703.2 K / 722.8 K bytes)\n"
     ]
    },
    {
     "name": "stderr",
     "output_type": "stream",
     "text": [
      "2025-03-27 16:06:22,251 - CRDS - INFO -  Fetching  /home/runner/crds/mappings/jwst/jwst_fgs_flat_0009.rmap    1.1 K bytes  (195 / 202 files) (704.1 K / 722.8 K bytes)\n"
     ]
    },
    {
     "name": "stderr",
     "output_type": "stream",
     "text": [
      "2025-03-27 16:06:22,492 - CRDS - INFO -  Fetching  /home/runner/crds/mappings/jwst/jwst_fgs_distortion_0011.rmap    1.2 K bytes  (196 / 202 files) (705.2 K / 722.8 K bytes)\n"
     ]
    },
    {
     "name": "stderr",
     "output_type": "stream",
     "text": [
      "2025-03-27 16:06:22,731 - CRDS - INFO -  Fetching  /home/runner/crds/mappings/jwst/jwst_fgs_dark_0017.rmap    4.3 K bytes  (197 / 202 files) (706.4 K / 722.8 K bytes)\n"
     ]
    },
    {
     "name": "stderr",
     "output_type": "stream",
     "text": [
      "2025-03-27 16:06:22,972 - CRDS - INFO -  Fetching  /home/runner/crds/mappings/jwst/jwst_fgs_area_0010.rmap    1.2 K bytes  (198 / 202 files) (710.7 K / 722.8 K bytes)\n"
     ]
    },
    {
     "name": "stderr",
     "output_type": "stream",
     "text": [
      "2025-03-27 16:06:23,215 - CRDS - INFO -  Fetching  /home/runner/crds/mappings/jwst/jwst_fgs_apcorr_0004.rmap    4.0 K bytes  (199 / 202 files) (711.9 K / 722.8 K bytes)\n"
     ]
    },
    {
     "name": "stderr",
     "output_type": "stream",
     "text": [
      "2025-03-27 16:06:23,460 - CRDS - INFO -  Fetching  /home/runner/crds/mappings/jwst/jwst_fgs_abvegaoffset_0002.rmap    1.3 K bytes  (200 / 202 files) (715.8 K / 722.8 K bytes)\n"
     ]
    },
    {
     "name": "stderr",
     "output_type": "stream",
     "text": [
      "2025-03-27 16:06:23,694 - CRDS - INFO -  Fetching  /home/runner/crds/mappings/jwst/jwst_fgs_0118.imap         5.1 K bytes  (201 / 202 files) (717.1 K / 722.8 K bytes)\n"
     ]
    },
    {
     "name": "stderr",
     "output_type": "stream",
     "text": [
      "2025-03-27 16:06:23,937 - CRDS - INFO -  Fetching  /home/runner/crds/mappings/jwst/jwst_1322.pmap               580 bytes  (202 / 202 files) (722.2 K / 722.8 K bytes)\n"
     ]
    },
    {
     "name": "stderr",
     "output_type": "stream",
     "text": [
      "2025-03-27 16:06:24,545 - stpipe.AssignWcsStep - INFO - AssignWcsStep instance created.\n"
     ]
    },
    {
     "name": "stderr",
     "output_type": "stream",
     "text": [
      "2025-03-27 16:06:24,619 - stpipe.AssignWcsStep - INFO - Step AssignWcsStep running with args ('jw01076103001_02102_00001_nrcalong_rate.fits',).\n"
     ]
    },
    {
     "name": "stderr",
     "output_type": "stream",
     "text": [
      "2025-03-27 16:06:24,621 - stpipe.AssignWcsStep - INFO - Step AssignWcsStep parameters are:\n",
      "  pre_hooks: []\n",
      "  post_hooks: []\n",
      "  output_file: None\n",
      "  output_dir: None\n",
      "  output_ext: .fits\n",
      "  output_use_model: False\n",
      "  output_use_index: True\n",
      "  save_results: False\n",
      "  skip: False\n",
      "  suffix: None\n",
      "  search_output_file: True\n",
      "  input_dir: ''\n",
      "  sip_approx: True\n",
      "  sip_max_pix_error: 0.01\n",
      "  sip_degree: None\n",
      "  sip_max_inv_pix_error: 0.01\n",
      "  sip_inv_degree: None\n",
      "  sip_npoints: 12\n",
      "  slit_y_low: -0.55\n",
      "  slit_y_high: 0.55\n"
     ]
    },
    {
     "name": "stderr",
     "output_type": "stream",
     "text": [
      "2025-03-27 16:06:24,681 - CRDS - INFO -  Fetching  /home/runner/crds/references/jwst/nircam/jwst_nircam_distortion_0249.asdf   10.7 K bytes  (1 / 1 files) (0 / 10.7 K bytes)\n"
     ]
    },
    {
     "name": "stderr",
     "output_type": "stream",
     "text": [
      "2025-03-27 16:06:24,937 - CRDS - INFO -  Fetching  /home/runner/crds/references/jwst/nircam/jwst_nircam_filteroffset_0007.asdf   11.4 K bytes  (1 / 1 files) (0 / 11.4 K bytes)\n"
     ]
    },
    {
     "name": "stderr",
     "output_type": "stream",
     "text": [
      "2025-03-27 16:06:25,400 - stpipe.AssignWcsStep - INFO - Update S_REGION to POLYGON ICRS  247.881044388 30.207460875 247.843878110 30.191487022 247.861603517 30.159569797 247.899465303 30.174884151\n"
     ]
    },
    {
     "name": "stderr",
     "output_type": "stream",
     "text": [
      "2025-03-27 16:06:25,401 - stpipe.AssignWcsStep - INFO - assign_wcs updated S_REGION to POLYGON ICRS  247.881044388 30.207460875 247.843878110 30.191487022 247.861603517 30.159569797 247.899465303 30.174884151\n"
     ]
    },
    {
     "name": "stderr",
     "output_type": "stream",
     "text": [
      "2025-03-27 16:06:25,402 - stpipe.AssignWcsStep - INFO - COMPLETED assign_wcs\n"
     ]
    },
    {
     "name": "stderr",
     "output_type": "stream",
     "text": [
      "2025-03-27 16:06:25,459 - CRDS - INFO -  Calibration SW Found: jwst 1.17.1 (/opt/hostedtoolcache/Python/3.11.11/x64/lib/python3.11/site-packages/jwst-1.17.1.dist-info)\n"
     ]
    },
    {
     "name": "stderr",
     "output_type": "stream",
     "text": [
      "2025-03-27 16:06:25,713 - stpipe.AssignWcsStep - INFO - Results used CRDS context: jwst_1322.pmap\n"
     ]
    },
    {
     "name": "stderr",
     "output_type": "stream",
     "text": [
      "2025-03-27 16:06:25,713 - stpipe.AssignWcsStep - INFO - Step AssignWcsStep done\n"
     ]
    },
    {
     "name": "stderr",
     "output_type": "stream",
     "text": [
      "2025-03-27 16:06:25,714 - stpipe - INFO - Results used jwst version: 1.17.1\n"
     ]
    },
    {
     "name": "stderr",
     "output_type": "stream",
     "text": [
      "2025-03-27 16:06:25,723 - stpipe.FlatFieldStep - INFO - FlatFieldStep instance created.\n"
     ]
    },
    {
     "name": "stderr",
     "output_type": "stream",
     "text": [
      "2025-03-27 16:06:25,804 - stpipe.FlatFieldStep - INFO - Step FlatFieldStep running with args (<ImageModel(2048, 2048) from jw01076103001_02102_00001_nrcalong_rate.fits>,).\n"
     ]
    },
    {
     "name": "stderr",
     "output_type": "stream",
     "text": [
      "2025-03-27 16:06:25,806 - stpipe.FlatFieldStep - INFO - Step FlatFieldStep parameters are:\n",
      "  pre_hooks: []\n",
      "  post_hooks: []\n",
      "  output_file: None\n",
      "  output_dir: None\n",
      "  output_ext: .fits\n",
      "  output_use_model: False\n",
      "  output_use_index: True\n",
      "  save_results: True\n",
      "  skip: False\n",
      "  suffix: None\n",
      "  search_output_file: True\n",
      "  input_dir: ''\n",
      "  save_interpolated_flat: False\n",
      "  user_supplied_flat: None\n",
      "  inverse: False\n"
     ]
    },
    {
     "name": "stderr",
     "output_type": "stream",
     "text": [
      "2025-03-27 16:06:25,820 - CRDS - INFO -  Fetching  /home/runner/crds/references/jwst/nircam/jwst_nircam_flat_0636.fits   50.4 M bytes  (1 / 1 files) (0 / 50.4 M bytes)\n"
     ]
    },
    {
     "name": "stderr",
     "output_type": "stream",
     "text": [
      "2025-03-27 16:06:31,675 - stpipe.FlatFieldStep - INFO - Using FLAT reference file: /home/runner/crds/references/jwst/nircam/jwst_nircam_flat_0636.fits\n"
     ]
    },
    {
     "name": "stderr",
     "output_type": "stream",
     "text": [
      "2025-03-27 16:06:31,676 - stpipe.FlatFieldStep - INFO - No reference found for type FFLAT\n"
     ]
    },
    {
     "name": "stderr",
     "output_type": "stream",
     "text": [
      "2025-03-27 16:06:31,677 - stpipe.FlatFieldStep - INFO - No reference found for type SFLAT\n"
     ]
    },
    {
     "name": "stderr",
     "output_type": "stream",
     "text": [
      "2025-03-27 16:06:31,677 - stpipe.FlatFieldStep - INFO - No reference found for type DFLAT\n"
     ]
    },
    {
     "name": "stderr",
     "output_type": "stream",
     "text": [
      "2025-03-27 16:06:31,889 - stpipe.FlatFieldStep - INFO - Results used CRDS context: jwst_1322.pmap\n"
     ]
    },
    {
     "name": "stderr",
     "output_type": "stream",
     "text": [
      "2025-03-27 16:06:32,087 - stpipe.FlatFieldStep - INFO - Saved model in jw01076103001_02102_00001_nrcalong_flatfieldstep.fits\n"
     ]
    },
    {
     "name": "stderr",
     "output_type": "stream",
     "text": [
      "2025-03-27 16:06:32,088 - stpipe.FlatFieldStep - INFO - Step FlatFieldStep done\n"
     ]
    },
    {
     "name": "stderr",
     "output_type": "stream",
     "text": [
      "2025-03-27 16:06:32,088 - stpipe - INFO - Results used jwst version: 1.17.1\n"
     ]
    },
    {
     "name": "stderr",
     "output_type": "stream",
     "text": [
      "2025-03-27 16:06:32,097 - stpipe.PhotomStep - INFO - PhotomStep instance created.\n"
     ]
    },
    {
     "name": "stderr",
     "output_type": "stream",
     "text": [
      "2025-03-27 16:06:32,186 - stpipe.PhotomStep - INFO - Step PhotomStep running with args (<ImageModel(2048, 2048) from jw01076103001_02102_00001_nrcalong_flatfieldstep.fits>,).\n"
     ]
    },
    {
     "name": "stderr",
     "output_type": "stream",
     "text": [
      "2025-03-27 16:06:32,188 - stpipe.PhotomStep - INFO - Step PhotomStep parameters are:\n",
      "  pre_hooks: []\n",
      "  post_hooks: []\n",
      "  output_file: None\n",
      "  output_dir: None\n",
      "  output_ext: .fits\n",
      "  output_use_model: False\n",
      "  output_use_index: True\n",
      "  save_results: True\n",
      "  skip: False\n",
      "  suffix: None\n",
      "  search_output_file: True\n",
      "  input_dir: ''\n",
      "  inverse: False\n",
      "  source_type: None\n",
      "  mrs_time_correction: True\n"
     ]
    },
    {
     "name": "stderr",
     "output_type": "stream",
     "text": [
      "2025-03-27 16:06:32,201 - CRDS - INFO -  Fetching  /home/runner/crds/references/jwst/nircam/jwst_nircam_photom_0157.fits   23.0 K bytes  (1 / 1 files) (0 / 23.0 K bytes)\n"
     ]
    },
    {
     "name": "stderr",
     "output_type": "stream",
     "text": [
      "2025-03-27 16:06:32,510 - CRDS - INFO -  Fetching  /home/runner/crds/references/jwst/nircam/jwst_nircam_area_0334.fits   16.8 M bytes  (1 / 1 files) (0 / 16.8 M bytes)\n"
     ]
    },
    {
     "name": "stderr",
     "output_type": "stream",
     "text": [
      "2025-03-27 16:06:34,509 - stpipe.PhotomStep - INFO - Using photom reference file: /home/runner/crds/references/jwst/nircam/jwst_nircam_photom_0157.fits\n"
     ]
    },
    {
     "name": "stderr",
     "output_type": "stream",
     "text": [
      "2025-03-27 16:06:34,510 - stpipe.PhotomStep - INFO - Using area reference file: /home/runner/crds/references/jwst/nircam/jwst_nircam_area_0334.fits\n"
     ]
    },
    {
     "name": "stderr",
     "output_type": "stream",
     "text": [
      "2025-03-27 16:06:34,535 - stpipe.PhotomStep - INFO - Using instrument: NIRCAM\n"
     ]
    },
    {
     "name": "stderr",
     "output_type": "stream",
     "text": [
      "2025-03-27 16:06:34,536 - stpipe.PhotomStep - INFO -  detector: NRCALONG\n"
     ]
    },
    {
     "name": "stderr",
     "output_type": "stream",
     "text": [
      "2025-03-27 16:06:34,536 - stpipe.PhotomStep - INFO -  exp_type: NRC_IMAGE\n"
     ]
    },
    {
     "name": "stderr",
     "output_type": "stream",
     "text": [
      "2025-03-27 16:06:34,537 - stpipe.PhotomStep - INFO -  filter: F410M\n"
     ]
    },
    {
     "name": "stderr",
     "output_type": "stream",
     "text": [
      "2025-03-27 16:06:34,538 - stpipe.PhotomStep - INFO -  pupil: CLEAR\n"
     ]
    },
    {
     "name": "stderr",
     "output_type": "stream",
     "text": [
      "2025-03-27 16:06:34,573 - stpipe.PhotomStep - INFO - Pixel area map copied to output.\n"
     ]
    },
    {
     "name": "stderr",
     "output_type": "stream",
     "text": [
      "2025-03-27 16:06:34,573 - stpipe.PhotomStep - INFO - Values for PIXAR_SR and PIXAR_A2 obtained from AREA reference file.\n"
     ]
    },
    {
     "name": "stderr",
     "output_type": "stream",
     "text": [
      "2025-03-27 16:06:34,575 - stpipe.PhotomStep - INFO - PHOTMJSR value: 0.902\n"
     ]
    },
    {
     "name": "stderr",
     "output_type": "stream",
     "text": [
      "2025-03-27 16:06:34,610 - stpipe.PhotomStep - INFO - Results used CRDS context: jwst_1322.pmap\n"
     ]
    },
    {
     "name": "stderr",
     "output_type": "stream",
     "text": [
      "2025-03-27 16:06:34,821 - stpipe.PhotomStep - INFO - Saved model in jw01076103001_02102_00001_nrcalong_photomstep.fits\n"
     ]
    },
    {
     "name": "stderr",
     "output_type": "stream",
     "text": [
      "2025-03-27 16:06:34,822 - stpipe.PhotomStep - INFO - Step PhotomStep done\n"
     ]
    },
    {
     "name": "stderr",
     "output_type": "stream",
     "text": [
      "2025-03-27 16:06:34,823 - stpipe - INFO - Results used jwst version: 1.17.1\n"
     ]
    }
   ],
   "source": [
    "# Run AssignWcsStep, FlatFieldStep, and PhotomStep on the imaging rate file\n",
    "imaging_flat_file, imaging_data = run_pipeline_steps(imaging_file)"
   ]
  },
  {
   "cell_type": "code",
   "execution_count": 7,
   "id": "67401d19-bbcf-45fc-b2a0-06c133f998e0",
   "metadata": {
    "execution": {
     "iopub.execute_input": "2025-03-27T16:06:34.828207Z",
     "iopub.status.busy": "2025-03-27T16:06:34.828028Z",
     "iopub.status.idle": "2025-03-27T16:06:43.579626Z",
     "shell.execute_reply": "2025-03-27T16:06:43.579109Z"
    },
    "scrolled": true
   },
   "outputs": [
    {
     "name": "stderr",
     "output_type": "stream",
     "text": [
      "2025-03-27 16:06:34,874 - stpipe.AssignWcsStep - INFO - AssignWcsStep instance created.\n"
     ]
    },
    {
     "name": "stderr",
     "output_type": "stream",
     "text": [
      "2025-03-27 16:06:34,959 - stpipe.AssignWcsStep - INFO - Step AssignWcsStep running with args ('jw01076103001_02101_00001_nrcalong_rate.fits',).\n"
     ]
    },
    {
     "name": "stderr",
     "output_type": "stream",
     "text": [
      "2025-03-27 16:06:34,961 - stpipe.AssignWcsStep - INFO - Step AssignWcsStep parameters are:\n",
      "  pre_hooks: []\n",
      "  post_hooks: []\n",
      "  output_file: None\n",
      "  output_dir: None\n",
      "  output_ext: .fits\n",
      "  output_use_model: False\n",
      "  output_use_index: True\n",
      "  save_results: False\n",
      "  skip: False\n",
      "  suffix: None\n",
      "  search_output_file: True\n",
      "  input_dir: ''\n",
      "  sip_approx: True\n",
      "  sip_max_pix_error: 0.01\n",
      "  sip_degree: None\n",
      "  sip_max_inv_pix_error: 0.01\n",
      "  sip_inv_degree: None\n",
      "  sip_npoints: 12\n",
      "  slit_y_low: -0.55\n",
      "  slit_y_high: 0.55\n"
     ]
    },
    {
     "name": "stderr",
     "output_type": "stream",
     "text": [
      "2025-03-27 16:06:35,016 - CRDS - INFO -  Fetching  /home/runner/crds/references/jwst/nircam/jwst_nircam_distortion_0260.asdf   14.4 K bytes  (1 / 1 files) (0 / 14.4 K bytes)\n"
     ]
    },
    {
     "name": "stderr",
     "output_type": "stream",
     "text": [
      "2025-03-27 16:06:35,340 - CRDS - INFO -  Fetching  /home/runner/crds/references/jwst/nircam/jwst_nircam_specwcs_0184.asdf    9.3 K bytes  (1 / 1 files) (0 / 9.3 K bytes)\n"
     ]
    },
    {
     "name": "stderr",
     "output_type": "stream",
     "text": [
      "2025-03-27 16:06:35,595 - CRDS - INFO -  Fetching  /home/runner/crds/references/jwst/nircam/jwst_nircam_wavelengthrange_0003.asdf    2.8 K bytes  (1 / 1 files) (0 / 2.8 K bytes)\n"
     ]
    },
    {
     "name": "stderr",
     "output_type": "stream",
     "text": [
      "2025-03-27 16:06:35,953 - stpipe.AssignWcsStep - INFO - Added Barycentric velocity correction: 1.0000443954492393\n"
     ]
    },
    {
     "name": "stderr",
     "output_type": "stream",
     "text": [
      "2025-03-27 16:06:36,092 - stpipe.AssignWcsStep - INFO - COMPLETED assign_wcs\n"
     ]
    },
    {
     "name": "stderr",
     "output_type": "stream",
     "text": [
      "2025-03-27 16:06:36,094 - stpipe.AssignWcsStep - INFO - AssignWcsStep instance created.\n"
     ]
    },
    {
     "name": "stderr",
     "output_type": "stream",
     "text": [
      "2025-03-27 16:06:36,323 - stpipe.AssignWcsStep - INFO - Results used CRDS context: jwst_1322.pmap\n"
     ]
    },
    {
     "name": "stderr",
     "output_type": "stream",
     "text": [
      "2025-03-27 16:06:36,323 - stpipe.AssignWcsStep - INFO - Step AssignWcsStep done\n"
     ]
    },
    {
     "name": "stderr",
     "output_type": "stream",
     "text": [
      "2025-03-27 16:06:36,324 - stpipe - INFO - Results used jwst version: 1.17.1\n"
     ]
    },
    {
     "name": "stderr",
     "output_type": "stream",
     "text": [
      "2025-03-27 16:06:36,337 - stpipe.FlatFieldStep - INFO - FlatFieldStep instance created.\n"
     ]
    },
    {
     "name": "stderr",
     "output_type": "stream",
     "text": [
      "2025-03-27 16:06:36,434 - stpipe.FlatFieldStep - INFO - Step FlatFieldStep running with args (<ImageModel(2048, 2048) from jw01076103001_02101_00001_nrcalong_rate.fits>,).\n"
     ]
    },
    {
     "name": "stderr",
     "output_type": "stream",
     "text": [
      "2025-03-27 16:06:36,435 - stpipe.FlatFieldStep - INFO - Step FlatFieldStep parameters are:\n",
      "  pre_hooks: []\n",
      "  post_hooks: []\n",
      "  output_file: None\n",
      "  output_dir: None\n",
      "  output_ext: .fits\n",
      "  output_use_model: False\n",
      "  output_use_index: True\n",
      "  save_results: True\n",
      "  skip: False\n",
      "  suffix: None\n",
      "  search_output_file: True\n",
      "  input_dir: ''\n",
      "  save_interpolated_flat: False\n",
      "  user_supplied_flat: None\n",
      "  inverse: False\n"
     ]
    },
    {
     "name": "stderr",
     "output_type": "stream",
     "text": [
      "2025-03-27 16:06:36,450 - CRDS - INFO -  Fetching  /home/runner/crds/references/jwst/nircam/jwst_nircam_flat_0623.fits   50.4 M bytes  (1 / 1 files) (0 / 50.4 M bytes)\n"
     ]
    },
    {
     "name": "stderr",
     "output_type": "stream",
     "text": [
      "2025-03-27 16:06:41,793 - stpipe.FlatFieldStep - INFO - Using FLAT reference file: /home/runner/crds/references/jwst/nircam/jwst_nircam_flat_0623.fits\n"
     ]
    },
    {
     "name": "stderr",
     "output_type": "stream",
     "text": [
      "2025-03-27 16:06:41,793 - stpipe.FlatFieldStep - INFO - No reference found for type FFLAT\n"
     ]
    },
    {
     "name": "stderr",
     "output_type": "stream",
     "text": [
      "2025-03-27 16:06:41,794 - stpipe.FlatFieldStep - INFO - No reference found for type SFLAT\n"
     ]
    },
    {
     "name": "stderr",
     "output_type": "stream",
     "text": [
      "2025-03-27 16:06:41,794 - stpipe.FlatFieldStep - INFO - No reference found for type DFLAT\n"
     ]
    },
    {
     "name": "stderr",
     "output_type": "stream",
     "text": [
      "2025-03-27 16:06:41,973 - stpipe.FlatFieldStep - INFO - Results used CRDS context: jwst_1322.pmap\n"
     ]
    },
    {
     "name": "stderr",
     "output_type": "stream",
     "text": [
      "2025-03-27 16:06:42,193 - stpipe.FlatFieldStep - INFO - Saved model in jw01076103001_02101_00001_nrcalong_flatfieldstep.fits\n"
     ]
    },
    {
     "name": "stderr",
     "output_type": "stream",
     "text": [
      "2025-03-27 16:06:42,194 - stpipe.FlatFieldStep - INFO - Step FlatFieldStep done\n"
     ]
    },
    {
     "name": "stderr",
     "output_type": "stream",
     "text": [
      "2025-03-27 16:06:42,194 - stpipe - INFO - Results used jwst version: 1.17.1\n"
     ]
    },
    {
     "name": "stderr",
     "output_type": "stream",
     "text": [
      "2025-03-27 16:06:42,203 - stpipe.PhotomStep - INFO - PhotomStep instance created.\n"
     ]
    },
    {
     "name": "stderr",
     "output_type": "stream",
     "text": [
      "2025-03-27 16:06:42,292 - stpipe.PhotomStep - INFO - Step PhotomStep running with args (<ImageModel(2048, 2048) from jw01076103001_02101_00001_nrcalong_flatfieldstep.fits>,).\n"
     ]
    },
    {
     "name": "stderr",
     "output_type": "stream",
     "text": [
      "2025-03-27 16:06:42,294 - stpipe.PhotomStep - INFO - Step PhotomStep parameters are:\n",
      "  pre_hooks: []\n",
      "  post_hooks: []\n",
      "  output_file: None\n",
      "  output_dir: None\n",
      "  output_ext: .fits\n",
      "  output_use_model: False\n",
      "  output_use_index: True\n",
      "  save_results: True\n",
      "  skip: False\n",
      "  suffix: None\n",
      "  search_output_file: True\n",
      "  input_dir: ''\n",
      "  inverse: False\n",
      "  source_type: None\n",
      "  mrs_time_correction: True\n"
     ]
    },
    {
     "name": "stderr",
     "output_type": "stream",
     "text": [
      "2025-03-27 16:06:42,307 - CRDS - INFO -  Fetching  /home/runner/crds/references/jwst/nircam/jwst_nircam_photom_0162.fits    1.7 M bytes  (1 / 1 files) (0 / 1.7 M bytes)\n"
     ]
    },
    {
     "name": "stderr",
     "output_type": "stream",
     "text": [
      "2025-03-27 16:06:43,038 - stpipe.PhotomStep - INFO - Using photom reference file: /home/runner/crds/references/jwst/nircam/jwst_nircam_photom_0162.fits\n"
     ]
    },
    {
     "name": "stderr",
     "output_type": "stream",
     "text": [
      "2025-03-27 16:06:43,039 - stpipe.PhotomStep - INFO - Using area reference file: N/A\n"
     ]
    },
    {
     "name": "stderr",
     "output_type": "stream",
     "text": [
      "2025-03-27 16:06:43,091 - stpipe.PhotomStep - INFO - Using instrument: NIRCAM\n"
     ]
    },
    {
     "name": "stderr",
     "output_type": "stream",
     "text": [
      "2025-03-27 16:06:43,091 - stpipe.PhotomStep - INFO -  detector: NRCALONG\n"
     ]
    },
    {
     "name": "stderr",
     "output_type": "stream",
     "text": [
      "2025-03-27 16:06:43,092 - stpipe.PhotomStep - INFO -  exp_type: NRC_WFSS\n"
     ]
    },
    {
     "name": "stderr",
     "output_type": "stream",
     "text": [
      "2025-03-27 16:06:43,092 - stpipe.PhotomStep - INFO -  filter: F356W\n"
     ]
    },
    {
     "name": "stderr",
     "output_type": "stream",
     "text": [
      "2025-03-27 16:06:43,093 - stpipe.PhotomStep - INFO -  pupil: CLEAR\n"
     ]
    },
    {
     "name": "stderr",
     "output_type": "stream",
     "text": [
      "2025-03-27 16:06:43,113 - stpipe.PhotomStep - INFO - Attempting to obtain PIXAR_SR and PIXAR_A2 values from PHOTOM reference file.\n"
     ]
    },
    {
     "name": "stderr",
     "output_type": "stream",
     "text": [
      "2025-03-27 16:06:43,114 - stpipe.PhotomStep - INFO - Values for PIXAR_SR and PIXAR_A2 obtained from PHOTOM reference file.\n"
     ]
    },
    {
     "name": "stderr",
     "output_type": "stream",
     "text": [
      "2025-03-27 16:06:43,115 - stpipe.PhotomStep - WARNING - Expected to find one matching row in table, found 0.\n"
     ]
    },
    {
     "name": "stderr",
     "output_type": "stream",
     "text": [
      "2025-03-27 16:06:43,117 - stpipe.PhotomStep - INFO - Results used CRDS context: jwst_1322.pmap\n"
     ]
    },
    {
     "name": "stderr",
     "output_type": "stream",
     "text": [
      "2025-03-27 16:06:43,337 - stpipe.PhotomStep - INFO - Saved model in jw01076103001_02101_00001_nrcalong_photomstep.fits\n"
     ]
    },
    {
     "name": "stderr",
     "output_type": "stream",
     "text": [
      "2025-03-27 16:06:43,338 - stpipe.PhotomStep - INFO - Step PhotomStep done\n"
     ]
    },
    {
     "name": "stderr",
     "output_type": "stream",
     "text": [
      "2025-03-27 16:06:43,338 - stpipe - INFO - Results used jwst version: 1.17.1\n"
     ]
    }
   ],
   "source": [
    "# Run AssignWcsStep, FlatFieldStep, and PhotomStep on the WFSS rate file\n",
    "wfss_flat_file, wfss_data = run_pipeline_steps(wfss_file)"
   ]
  },
  {
   "cell_type": "markdown",
   "id": "5da7a2f7-7546-4791-ae9f-7ff0953af46a",
   "metadata": {},
   "source": [
    "## Basic Computation of WFSS Information"
   ]
  },
  {
   "cell_type": "markdown",
   "id": "455e24ae-791b-4331-85e8-b28d62a287fe",
   "metadata": {},
   "source": [
    "All computations for WFSS are performed in detector coordinate space. All of the characteristics of the dispersed traces, including any change in the relative positions and the global shape (e.g. curvature, offsets...) of the traces is handled using a series of straight forward equations. This is described in <a href=\"https://www.stsci.edu/files/live/sites/www/files/home/hst/instrumentation/wfc3/documentation/instrument-science-reports-isrs/_documents/2017/WFC3-2017-01.pdf\">ISR WFC3 2017-01</a>: \"A more generalized coordinate transformation approach for grisms\".\n",
    "Here we assume that a source would be at the pixel coordinates of ($x$, $y$). The coordinate of a single pixel on on the dispersed trace for the same source is denoted as ($x_g$, $y_g$) and the relative position of this dispersed trace element is therefore offset (x$_g$-x, \n",
    " y$_g$-y) pixels with respect to the position of the source. The functional relation between ($x$, $y$), ($x_g$, $y_g$) and the wavelength of the light $\\lambda$, as well as their inverses are:\n",
    "\n",
    "$$\n",
    "\\begin{align}\n",
    "\\delta x = x_g - x = f_x(x,y;t)\\\\\n",
    "\\delta y = y_g - y = f_y(x,y;t)\\\\\n",
    "\\lambda = f_\\lambda(x,y;t)\n",
    "\\end{align}\n",
    "$$\n",
    "\n",
    "and \n",
    "$$\n",
    "\\begin{align}\n",
    "t = f^{-1}_x(x,y;\\delta x)\\\\\n",
    "t = f^{-1}_y(x,y;\\delta y)\\\\\n",
    "t = f^{-1}_\\lambda(x,y;\\lambda)\n",
    "\\end{align}\n",
    "$$"
   ]
  },
  {
   "cell_type": "markdown",
   "id": "83ea3d86-19fc-4529-b551-22a2ec98818f",
   "metadata": {},
   "source": [
    "Note that these functions are parametrized with respect to the parameter $t$. This allows for some flexibility on the part of the calibration effort as $t$ can be defined somewhat arbitrarilly. In the case of the NIRCam grisms however, $t$ was chosen to be the $\\delta x$ or $\\delta y$, for the GRISMR and GRISMC, respectively since these grisms disperse light along the x-direction and y-direction, respectively. However, for additional convenience, the $t$ parameter is normalized to unity so that values of $t = 0$ and $t = 1$ correspond to the blue and red light edges of a dispersed spectrum.\n",
    "Using the 6 equations above, one can relate any combination of ($x$,$y$), ($x'$,$y'$), $t$, and $\\lambda$ values. The equations listed above are implemented as DISPX(), DISPY(), DISPL(), INVDISPX(), INVDISPY(), and INVDISPL() in the GRISMCONF package."
   ]
  },
  {
   "cell_type": "markdown",
   "id": "d179fcbb-9d08-4eed-a3d4-29d716823a8f",
   "metadata": {},
   "source": [
    "Now we will use the Grismconf package to retrieve information about the WFSS file. Note that we are using the output file from the calibration steps above."
   ]
  },
  {
   "cell_type": "code",
   "execution_count": 8,
   "id": "fe3fd942-7839-44c7-9ad9-a188e2a1d942",
   "metadata": {
    "execution": {
     "iopub.execute_input": "2025-03-27T16:06:43.581801Z",
     "iopub.status.busy": "2025-03-27T16:06:43.581612Z",
     "iopub.status.idle": "2025-03-27T16:06:43.584454Z",
     "shell.execute_reply": "2025-03-27T16:06:43.583991Z"
    }
   },
   "outputs": [],
   "source": [
    "# This is the final output file from the pipeline call on the WFSS file above\n",
    "wfss_file = \"jw01076103001_02101_00001_nrcalong_photomstep.fits\""
   ]
  },
  {
   "cell_type": "code",
   "execution_count": 9,
   "id": "513059b9-0ebd-4431-a942-b6182fcc64c7",
   "metadata": {
    "execution": {
     "iopub.execute_input": "2025-03-27T16:06:43.586248Z",
     "iopub.status.busy": "2025-03-27T16:06:43.585890Z",
     "iopub.status.idle": "2025-03-27T16:06:44.950095Z",
     "shell.execute_reply": "2025-03-27T16:06:44.949515Z"
    }
   },
   "outputs": [
    {
     "name": "stdout",
     "output_type": "stream",
     "text": [
      "Loading from datamodel of jw01076103001_02101_00001_nrcalong_photomstep.fits\n"
     ]
    }
   ],
   "source": [
    "# Load a WFSS configuration file to use in the example below.\n",
    "C = grismconf.Config(wfss_file)"
   ]
  },
  {
   "cell_type": "markdown",
   "id": "edca7185-8e19-445b-b45d-1617e52cd75f",
   "metadata": {},
   "source": [
    "### Compute where light gets dispersed to"
   ]
  },
  {
   "cell_type": "markdown",
   "id": "077da68e-0367-4e80-9adb-97794a5b951f",
   "metadata": {},
   "source": [
    "Here we show how to calculate the location of the point on the trace corresponding to a given wavelength for a source at a given detector location ($x$, $y$). For these calculations, we need only the WFSS file. The corresponding imaging mode file is not necessary."
   ]
  },
  {
   "cell_type": "code",
   "execution_count": 10,
   "id": "7ef508ca-a7c6-4b8b-a089-110b652984e4",
   "metadata": {
    "execution": {
     "iopub.execute_input": "2025-03-27T16:06:44.952077Z",
     "iopub.status.busy": "2025-03-27T16:06:44.951900Z",
     "iopub.status.idle": "2025-03-27T16:06:44.954529Z",
     "shell.execute_reply": "2025-03-27T16:06:44.954103Z"
    }
   },
   "outputs": [],
   "source": [
    "x = 1000  # Pixel x coordinate\n",
    "y = 1000  # Pixel y coordinate\n",
    "\n",
    "wavelength = 3.5  # wavelength, in microns"
   ]
  },
  {
   "cell_type": "markdown",
   "id": "31248889-2e95-469f-8526-f2b89c83e4fa",
   "metadata": {},
   "source": [
    "We want to compute $\\hat x$, the amount of dispersion in a pixel for photons with a wavelength of $\\lambda$. We first use the relation between $t$ and $\\lambda$ and then the relation between $\\hat x$ and $t$. This is done using INVDISPL() for order \"+1\" for an object at location ($x$, $y$):"
   ]
  },
  {
   "cell_type": "markdown",
   "id": "ea7ebf64-6469-43bc-9176-b50b957223b0",
   "metadata": {},
   "source": [
    "Check which orders are available"
   ]
  },
  {
   "cell_type": "code",
   "execution_count": 11,
   "id": "e50b4915-34a3-4161-b7e4-f15c514f8619",
   "metadata": {
    "execution": {
     "iopub.execute_input": "2025-03-27T16:06:44.956350Z",
     "iopub.status.busy": "2025-03-27T16:06:44.956025Z",
     "iopub.status.idle": "2025-03-27T16:06:44.961466Z",
     "shell.execute_reply": "2025-03-27T16:06:44.961004Z"
    }
   },
   "outputs": [
    {
     "data": {
      "text/plain": [
       "['+1', '+2']"
      ]
     },
     "execution_count": 11,
     "metadata": {},
     "output_type": "execute_result"
    }
   ],
   "source": [
    "C.orders"
   ]
  },
  {
   "cell_type": "markdown",
   "id": "c5a89da8-1694-40a6-af02-b166ea20810d",
   "metadata": {},
   "source": [
    "Calculate $t$ for the given position and wavelength."
   ]
  },
  {
   "cell_type": "code",
   "execution_count": 12,
   "id": "251e5c79-22a9-4f09-9f31-a3410b025fb2",
   "metadata": {
    "execution": {
     "iopub.execute_input": "2025-03-27T16:06:44.963204Z",
     "iopub.status.busy": "2025-03-27T16:06:44.962873Z",
     "iopub.status.idle": "2025-03-27T16:06:44.966113Z",
     "shell.execute_reply": "2025-03-27T16:06:44.965652Z"
    }
   },
   "outputs": [
    {
     "name": "stdout",
     "output_type": "stream",
     "text": [
      "t = 0.41871503704808594\n"
     ]
    }
   ],
   "source": [
    "t = C.INVDISPL(\"+1\", x, y, wavelength)\n",
    "print(\"t =\", t)"
   ]
  },
  {
   "cell_type": "markdown",
   "id": "a1f1617a-7bc1-42cf-bb35-76dfeb8c78a3",
   "metadata": {},
   "source": [
    "We now can compute $\\delta x$ and $\\delta y$ using DISPX():"
   ]
  },
  {
   "cell_type": "code",
   "execution_count": 13,
   "id": "c2b817a4-0da0-4bf7-84d9-683a4e72979a",
   "metadata": {
    "execution": {
     "iopub.execute_input": "2025-03-27T16:06:44.967878Z",
     "iopub.status.busy": "2025-03-27T16:06:44.967550Z",
     "iopub.status.idle": "2025-03-27T16:06:44.970775Z",
     "shell.execute_reply": "2025-03-27T16:06:44.970336Z"
    }
   },
   "outputs": [
    {
     "name": "stdout",
     "output_type": "stream",
     "text": [
      "𝛿x = -441.3964745517066\n",
      "𝛿y = -23.023870410691234\n"
     ]
    }
   ],
   "source": [
    "𝛿x = C.DISPX(\"+1\", x, y, t)\n",
    "𝛿y = C.DISPY(\"+1\", x, y, t)\n",
    "print(\"𝛿x =\", 𝛿x)\n",
    "print(\"𝛿y =\", 𝛿y)"
   ]
  },
  {
   "cell_type": "markdown",
   "id": "de14b4c7-a8c3-486f-9147-b4cfe7a1908f",
   "metadata": {},
   "source": [
    "The final pixel coordinates are therefore:"
   ]
  },
  {
   "cell_type": "code",
   "execution_count": 14,
   "id": "e5283aa4-fd40-45d9-a865-fe05f17005e8",
   "metadata": {
    "execution": {
     "iopub.execute_input": "2025-03-27T16:06:44.972307Z",
     "iopub.status.busy": "2025-03-27T16:06:44.972136Z",
     "iopub.status.idle": "2025-03-27T16:06:44.975009Z",
     "shell.execute_reply": "2025-03-27T16:06:44.974468Z"
    }
   },
   "outputs": [
    {
     "name": "stdout",
     "output_type": "stream",
     "text": [
      "Trace coordinates: 558.6035254482933 976.9761295893088\n"
     ]
    }
   ],
   "source": [
    "xg = x + 𝛿x\n",
    "yg = y + 𝛿y\n",
    "print(\"Trace coordinates:\", xg, yg)"
   ]
  },
  {
   "cell_type": "markdown",
   "id": "0482f604-97b7-4c90-952e-09ffd8ba78de",
   "metadata": {},
   "source": [
    "Alternatively, we could compute the approximate wavelength of the light at a given position on the spectral trace. For example, we would like to compute the wavelength of a pixel that is at coordinates ($x_g$, $y_g$) for a 1st order spectrum of a source that is known to be at the coordinates ($x$, $y$). As this is a Grism R spectrum, we can use the relation between $\\delta x$ and t and $\\lambda$. "
   ]
  },
  {
   "cell_type": "code",
   "execution_count": 15,
   "id": "c77920de-3dc0-429a-a266-de8a95b20ae6",
   "metadata": {
    "execution": {
     "iopub.execute_input": "2025-03-27T16:06:44.976715Z",
     "iopub.status.busy": "2025-03-27T16:06:44.976544Z",
     "iopub.status.idle": "2025-03-27T16:06:44.979013Z",
     "shell.execute_reply": "2025-03-27T16:06:44.978569Z"
    }
   },
   "outputs": [],
   "source": [
    "# Source is at the coordinates (1000, 1000) and we are looking at a pixel\n",
    "# along the trace at pixel coordinate 1558\n",
    "x = 1000\n",
    "y = 1000"
   ]
  },
  {
   "cell_type": "code",
   "execution_count": 16,
   "id": "f7b33090-f6ca-4fe9-bae1-055e708f8f23",
   "metadata": {
    "execution": {
     "iopub.execute_input": "2025-03-27T16:06:44.980504Z",
     "iopub.status.busy": "2025-03-27T16:06:44.980336Z",
     "iopub.status.idle": "2025-03-27T16:06:44.983026Z",
     "shell.execute_reply": "2025-03-27T16:06:44.982584Z"
    }
   },
   "outputs": [],
   "source": [
    "t = C.INVDISPX(\"+1\", x, y, xg-x)"
   ]
  },
  {
   "cell_type": "code",
   "execution_count": 17,
   "id": "1fe1df61-db4a-4594-8722-1364e2a9e2ae",
   "metadata": {
    "execution": {
     "iopub.execute_input": "2025-03-27T16:06:44.984568Z",
     "iopub.status.busy": "2025-03-27T16:06:44.984399Z",
     "iopub.status.idle": "2025-03-27T16:06:44.987654Z",
     "shell.execute_reply": "2025-03-27T16:06:44.987174Z"
    }
   },
   "outputs": [
    {
     "name": "stdout",
     "output_type": "stream",
     "text": [
      "Wavelength = 3.4999917173896278 microns\n"
     ]
    }
   ],
   "source": [
    "wavelength = C.DISPL(\"+1\", x, y, t)\n",
    "print(f\"Wavelength = {wavelength} microns\")"
   ]
  },
  {
   "cell_type": "markdown",
   "id": "7a1550bd-572f-4662-bfef-5f3b1fac82d1",
   "metadata": {},
   "source": [
    "Here we see that we get back the 3.5 micron wavelength that we used as input when calculating $x_g$ and $y_g$ above."
   ]
  },
  {
   "cell_type": "markdown",
   "id": "2abb689b-06b8-461d-bd9a-d79ff590b568",
   "metadata": {},
   "source": [
    "### Compute the spectral trace for a given object"
   ]
  },
  {
   "cell_type": "markdown",
   "id": "6ac1665e-3fd0-4c5f-9251-0a6474be9afc",
   "metadata": {},
   "source": [
    "We can compute where we would expect the dispersed 1st order trace for a given object in a similar manner. We can use a series of $t$ values to cover the whole spectra trace (in this case the NIRCam calibration assumes $0<t<1$)"
   ]
  },
  {
   "cell_type": "code",
   "execution_count": 18,
   "id": "4c0e0be7-791a-4331-a718-563fb94d1c03",
   "metadata": {
    "execution": {
     "iopub.execute_input": "2025-03-27T16:06:44.989509Z",
     "iopub.status.busy": "2025-03-27T16:06:44.989101Z",
     "iopub.status.idle": "2025-03-27T16:06:44.991800Z",
     "shell.execute_reply": "2025-03-27T16:06:44.991355Z"
    }
   },
   "outputs": [],
   "source": [
    "x = 1000\n",
    "y = 1000\n",
    "ts = np.arange(0, 1, 0.01)"
   ]
  },
  {
   "cell_type": "markdown",
   "id": "108bc026-4d4e-4fad-a256-8a4fa5464109",
   "metadata": {},
   "source": [
    "We can compute all of the corresponding trace coordinates and wavelengths (x$_g$, y$_g$, $\\lambda$):"
   ]
  },
  {
   "cell_type": "code",
   "execution_count": 19,
   "id": "2a5b6bee-2a00-4a10-966d-749a7ceba444",
   "metadata": {
    "execution": {
     "iopub.execute_input": "2025-03-27T16:06:44.993453Z",
     "iopub.status.busy": "2025-03-27T16:06:44.993179Z",
     "iopub.status.idle": "2025-03-27T16:06:44.996399Z",
     "shell.execute_reply": "2025-03-27T16:06:44.995834Z"
    }
   },
   "outputs": [],
   "source": [
    "xgs = C.DISPX(\"+1\", x, y, ts) + x\n",
    "ygs = C.DISPY(\"+1\", x, y, ts) + y \n",
    "waves = C.DISPL(\"+1\", x, y, ts)"
   ]
  },
  {
   "cell_type": "markdown",
   "id": "ad32a4e7-20fe-4549-8855-a35f21e07c20",
   "metadata": {},
   "source": [
    "Show an image of the location of the trace across the detector."
   ]
  },
  {
   "cell_type": "code",
   "execution_count": 20,
   "id": "730f3d0e-0595-49fc-a5a6-01a32478731b",
   "metadata": {
    "execution": {
     "iopub.execute_input": "2025-03-27T16:06:44.998412Z",
     "iopub.status.busy": "2025-03-27T16:06:44.998086Z",
     "iopub.status.idle": "2025-03-27T16:06:45.307320Z",
     "shell.execute_reply": "2025-03-27T16:06:45.306766Z"
    }
   },
   "outputs": [
    {
     "data": {
      "text/plain": [
       "Text(0.5, 1.0, 'Trace location across the detector')"
      ]
     },
     "execution_count": 20,
     "metadata": {},
     "output_type": "execute_result"
    },
    {
     "data": {
      "image/png": "[encoded data removed]",
      "text/plain": [
       "<Figure size 2000x200 with 2 Axes>"
      ]
     },
     "metadata": {},
     "output_type": "display_data"
    }
   ],
   "source": [
    "fig, ax = plt.subplots(1, 1, figsize=(20, 2))\n",
    "plt.scatter(xgs, ygs, c=waves)\n",
    "plt.colorbar(label=\"Wavelength (μm)\")\n",
    "plt.grid()\n",
    "plt.ylabel(r\"y$_g$\")\n",
    "plt.xlabel(r\"x$_g$\")\n",
    "plt.title(\"Trace location across the detector\")"
   ]
  },
  {
   "cell_type": "markdown",
   "id": "ea8598ee",
   "metadata": {},
   "source": [
    "### Basic Box Extraction"
   ]
  },
  {
   "cell_type": "markdown",
   "id": "0454645e",
   "metadata": {},
   "source": [
    "A very basic \"extraction\" of a spectrum can be performed using the WFSS transformation listed above. Here we show how one could perfrom a basic \"Box\" extraction of a well-isolated object i.e. not contaminated by overlapping spectra from other sources in the field)."
   ]
  },
  {
   "cell_type": "markdown",
   "id": "fcc1b242",
   "metadata": {},
   "source": [
    "One of the key concepts is the virtual location of the source in the dispersed WFSS observation. We are not able to determine that location precisely using the WFSS data alone and must rely on additional information. The location of the source is usually measured in a direct image of the field. In cases where the imaging and WFSS data are undithered with respect to one another, the position of the source in the WFSS observation is the position of the same source in the undithered imaging. \n",
    "\n",
    "If dithering was performed, one can rely on the WCS to estimate the location of the source in imaging data that would have been observed at the same position and orientation as the WFSS observation. This is done by computing the observed RA and Dec of the source in the available imaging data, and then converting these newly computed celestrial coordinates back to a detector ($x$, $y$) location using a WCS from the dithered WFSS observation."
   ]
  },
  {
   "cell_type": "markdown",
   "id": "3a3b7e35-ea97-4192-84df-02e971a26896",
   "metadata": {},
   "source": [
    "#### Examine a source in the data"
   ]
  },
  {
   "cell_type": "markdown",
   "id": "df889818-f14c-4827-9ad6-60f3d9088b03",
   "metadata": {},
   "source": [
    "Look at a source in the imaging data"
   ]
  },
  {
   "cell_type": "code",
   "execution_count": 21,
   "id": "fc6998fe",
   "metadata": {
    "execution": {
     "iopub.execute_input": "2025-03-27T16:06:45.309457Z",
     "iopub.status.busy": "2025-03-27T16:06:45.309107Z",
     "iopub.status.idle": "2025-03-27T16:06:45.311740Z",
     "shell.execute_reply": "2025-03-27T16:06:45.311299Z"
    }
   },
   "outputs": [],
   "source": [
    "xd, yd = 1562, 696"
   ]
  },
  {
   "cell_type": "code",
   "execution_count": 22,
   "id": "c92b21d1",
   "metadata": {
    "execution": {
     "iopub.execute_input": "2025-03-27T16:06:45.313410Z",
     "iopub.status.busy": "2025-03-27T16:06:45.313072Z",
     "iopub.status.idle": "2025-03-27T16:06:45.445211Z",
     "shell.execute_reply": "2025-03-27T16:06:45.444629Z"
    }
   },
   "outputs": [
    {
     "data": {
      "text/plain": [
       "Text(0, 0.5, 'Row Number')"
      ]
     },
     "execution_count": 22,
     "metadata": {},
     "output_type": "execute_result"
    },
    {
     "data": {
      "image/png": "[encoded data removed]",
      "text/plain": [
       "<Figure size 640x480 with 1 Axes>"
      ]
     },
     "metadata": {},
     "output_type": "display_data"
    }
   ],
   "source": [
    "plt.imshow(imaging_data.data[yd - 20:yd + 20, xd - 20:xd + 20], origin=\"lower\", vmin=0, vmax=10)\n",
    "plt.xlabel('Column Number')\n",
    "plt.ylabel('Row Number')"
   ]
  },
  {
   "cell_type": "markdown",
   "id": "0288321c-ffa0-49d1-8c7b-bfcb8c913ad2",
   "metadata": {},
   "source": [
    "#### Calculate trace location"
   ]
  },
  {
   "cell_type": "markdown",
   "id": "fda8eb1d-f408-45f2-b8c3-b542f385fc8d",
   "metadata": {},
   "source": [
    "Now get the WCS from the imaging and WFSS files, so that we can perform coordinate transforms and calculate where the trace of this source lands in the WFSS observation."
   ]
  },
  {
   "cell_type": "code",
   "execution_count": 23,
   "id": "3d4ff71e",
   "metadata": {
    "execution": {
     "iopub.execute_input": "2025-03-27T16:06:45.447090Z",
     "iopub.status.busy": "2025-03-27T16:06:45.446914Z",
     "iopub.status.idle": "2025-03-27T16:06:45.450956Z",
     "shell.execute_reply": "2025-03-27T16:06:45.450509Z"
    }
   },
   "outputs": [],
   "source": [
    "imaging_to_world = imaging_data.meta.wcs.get_transform('detector', 'world')"
   ]
  },
  {
   "cell_type": "code",
   "execution_count": 24,
   "id": "16678969",
   "metadata": {
    "execution": {
     "iopub.execute_input": "2025-03-27T16:06:45.452519Z",
     "iopub.status.busy": "2025-03-27T16:06:45.452353Z",
     "iopub.status.idle": "2025-03-27T16:06:45.461479Z",
     "shell.execute_reply": "2025-03-27T16:06:45.461053Z"
    }
   },
   "outputs": [],
   "source": [
    "wfss_to_pix = wfss_data.meta.wcs.get_transform('world', 'detector')"
   ]
  },
  {
   "cell_type": "markdown",
   "id": "c29ce542-5867-4d28-bdd3-7ce538f772f7",
   "metadata": {},
   "source": [
    "Translate the source's (x, y) location in the imaging mode data to RA, Dec, using the imaging mode WCS"
   ]
  },
  {
   "cell_type": "code",
   "execution_count": 25,
   "id": "a286c856",
   "metadata": {
    "execution": {
     "iopub.execute_input": "2025-03-27T16:06:45.463130Z",
     "iopub.status.busy": "2025-03-27T16:06:45.462958Z",
     "iopub.status.idle": "2025-03-27T16:06:45.468478Z",
     "shell.execute_reply": "2025-03-27T16:06:45.468003Z"
    }
   },
   "outputs": [
    {
     "name": "stdout",
     "output_type": "stream",
     "text": [
      "247.88219867242918 30.17734411519521\n"
     ]
    }
   ],
   "source": [
    "ra, dec = imaging_to_world(xd, yd)\n",
    "print(ra, dec)"
   ]
  },
  {
   "cell_type": "markdown",
   "id": "6acb41e1-9cae-415b-bf22-81815aa6732c",
   "metadata": {},
   "source": [
    "Now translate the RA, Dec to a location on the detector in the WFSS data, using the WCS from the WFSS file. Note that for this translation, the wavelength and order are required inputs, but they do not actually affect the calculation. We'll use a wavelength of 3.56 microns and an order of 1 in the cell below, but you can see that changing these values does not change the resulting x, y values."
   ]
  },
  {
   "cell_type": "code",
   "execution_count": 26,
   "id": "c9e8b8a2",
   "metadata": {
    "execution": {
     "iopub.execute_input": "2025-03-27T16:06:45.470047Z",
     "iopub.status.busy": "2025-03-27T16:06:45.469866Z",
     "iopub.status.idle": "2025-03-27T16:06:45.476110Z",
     "shell.execute_reply": "2025-03-27T16:06:45.475656Z"
    }
   },
   "outputs": [
    {
     "data": {
      "text/plain": [
       "(1469.0994412757896, 788.7595697183158, 3.56, 1.0)"
      ]
     },
     "execution_count": 26,
     "metadata": {},
     "output_type": "execute_result"
    }
   ],
   "source": [
    "x, y, wav, ord = wfss_to_pix(ra, dec, 3.56, 1)\n",
    "x, y, wav, ord"
   ]
  },
  {
   "cell_type": "markdown",
   "id": "5d05a900",
   "metadata": {},
   "source": [
    "Compute an approximate bounding box for the spectrum of this source. We use the fact that calibration define the edges of the spectra at values of t=0 and t=1 in the dispersion direction"
   ]
  },
  {
   "cell_type": "code",
   "execution_count": 27,
   "id": "9fa975dc",
   "metadata": {
    "execution": {
     "iopub.execute_input": "2025-03-27T16:06:45.477675Z",
     "iopub.status.busy": "2025-03-27T16:06:45.477505Z",
     "iopub.status.idle": "2025-03-27T16:06:45.482023Z",
     "shell.execute_reply": "2025-03-27T16:06:45.481557Z"
    }
   },
   "outputs": [
    {
     "data": {
      "text/plain": [
       "(array([-883.466135,  172.310757]), array([-22.1331499 , -24.47802543]))"
      ]
     },
     "execution_count": 27,
     "metadata": {},
     "output_type": "execute_result"
    }
   ],
   "source": [
    "# First calculate the distance from the nominal x, y location to the left and right\n",
    "# edges of the box (i.e. where t = 0 and t = 1)\n",
    "ts = np.array([0, 1])\n",
    "dxs = C.DISPX(\"+1\", x, y, ts)\n",
    "dys = C.DISPY(\"+1\", x, y, ts)\n",
    "dxs, dys"
   ]
  },
  {
   "cell_type": "code",
   "execution_count": 28,
   "id": "35590b9b",
   "metadata": {
    "execution": {
     "iopub.execute_input": "2025-03-27T16:06:45.483670Z",
     "iopub.status.busy": "2025-03-27T16:06:45.483504Z",
     "iopub.status.idle": "2025-03-27T16:06:45.487608Z",
     "shell.execute_reply": "2025-03-27T16:06:45.487170Z"
    }
   },
   "outputs": [
    {
     "data": {
      "text/plain": [
       "(585, 1641)"
      ]
     },
     "execution_count": 28,
     "metadata": {},
     "output_type": "execute_result"
    }
   ],
   "source": [
    "# Use the distances above to calculate the x location of the left and right edges of the box.\n",
    "x_min = int(x + dxs[0])\n",
    "x_max = int(x + dxs[1])\n",
    "\n",
    "# Set the height of the box to be 50 pixels (25 pixels above and below the nominal location\n",
    "y_min = int(y + dys[1] - 25)\n",
    "y_max = int(y + dys[1] + 25)\n",
    "\n",
    "x_min, x_max"
   ]
  },
  {
   "cell_type": "markdown",
   "id": "b7f820e7-64c9-481b-ba35-effa4c43eb3e",
   "metadata": {},
   "source": [
    "Show an image of the box to be extracted."
   ]
  },
  {
   "cell_type": "code",
   "execution_count": 29,
   "id": "b20354b1",
   "metadata": {
    "execution": {
     "iopub.execute_input": "2025-03-27T16:06:45.489137Z",
     "iopub.status.busy": "2025-03-27T16:06:45.488971Z",
     "iopub.status.idle": "2025-03-27T16:06:45.643770Z",
     "shell.execute_reply": "2025-03-27T16:06:45.643183Z"
    }
   },
   "outputs": [
    {
     "data": {
      "text/plain": [
       "Text(0, 0.5, 'Row Number')"
      ]
     },
     "execution_count": 29,
     "metadata": {},
     "output_type": "execute_result"
    },
    {
     "data": {
      "image/png": "[encoded data removed]",
      "text/plain": [
       "<Figure size 2000x500 with 1 Axes>"
      ]
     },
     "metadata": {},
     "output_type": "display_data"
    }
   ],
   "source": [
    "fig, ax = plt.subplots(1, 1, figsize=(20, 5))\n",
    "ax.imshow(wfss_data.data[y_min:y_max, x_min:x_max], origin=\"lower\", vmin=0.25, vmax=1)\n",
    "\n",
    "ax.plot(x+dxs-x_min, y+dys-y_min)\n",
    "ax.set_xlabel('Column Number')\n",
    "ax.set_ylabel('Row Number')"
   ]
  },
  {
   "cell_type": "markdown",
   "id": "964ad3fb",
   "metadata": {},
   "source": [
    "The simplest extraction can be done under the assumption that the spectral trace is essentially linear and that the wavelength of the light falling on a pixel is only a function of the dispersion direction. As such, we can use the approximation that all pixels in a column correspond to the same wavelength. This is only appropriate for nearly flat dispersions and has often been assumed in the past. This also assumes that the field dependence of the dispersion is small within the area covered by a spectrum."
   ]
  },
  {
   "cell_type": "markdown",
   "id": "050a4f9c",
   "metadata": {},
   "source": [
    " #### Estimate Background"
   ]
  },
  {
   "cell_type": "markdown",
   "id": "b2672209",
   "metadata": {},
   "source": [
    "Here, for this simplest case, we estimate and subtract a simple background value from the data, taken to be the median value in the region contianing our spectrum. This very simple step illustrates the limits of simple box extraction as any such estimate will be biased by any other sources in the field, or any non-flatness in the structure of the dispersed background. "
   ]
  },
  {
   "cell_type": "code",
   "execution_count": 30,
   "id": "98027608",
   "metadata": {
    "execution": {
     "iopub.execute_input": "2025-03-27T16:06:45.645611Z",
     "iopub.status.busy": "2025-03-27T16:06:45.645434Z",
     "iopub.status.idle": "2025-03-27T16:06:45.654323Z",
     "shell.execute_reply": "2025-03-27T16:06:45.653823Z"
    }
   },
   "outputs": [
    {
     "name": "stdout",
     "output_type": "stream",
     "text": [
      "Background level estimate: 0.22664455\n"
     ]
    }
   ],
   "source": [
    "# We want to ignore all NaN pixels, so locate all non-NaN pixels\n",
    "ok = np.isfinite(wfss_data.data[y_min:y_max, x_min:x_max])\n",
    "\n",
    "# Sigma-clip the pixels in the box\n",
    "clipped, low, upp = sigmaclip(wfss_data.data[y_min:y_max, x_min:x_max][ok], 1.5, 1.5)\n",
    "\n",
    "# Calculate the median of the sigma-clipped pixels\n",
    "med_bck = np.nanmedian(clipped)\n",
    "print(\"Background level estimate:\", med_bck)"
   ]
  },
  {
   "cell_type": "code",
   "execution_count": 31,
   "id": "b237bdba",
   "metadata": {
    "execution": {
     "iopub.execute_input": "2025-03-27T16:06:45.656002Z",
     "iopub.status.busy": "2025-03-27T16:06:45.655690Z",
     "iopub.status.idle": "2025-03-27T16:06:45.884126Z",
     "shell.execute_reply": "2025-03-27T16:06:45.883634Z"
    }
   },
   "outputs": [
    {
     "data": {
      "text/plain": [
       "Text(0, 0.5, 'Occurrences')"
      ]
     },
     "execution_count": 31,
     "metadata": {},
     "output_type": "execute_result"
    },
    {
     "data": {
      "image/png": "[encoded data removed]",
      "text/plain": [
       "<Figure size 640x480 with 1 Axes>"
      ]
     },
     "metadata": {},
     "output_type": "display_data"
    }
   ],
   "source": [
    "# Plot a histogram of the data, along with a line indicating the median level\n",
    "plt.hist(np.ravel(wfss_data.data[y_min:y_max, x_min:x_max]), 100, range=(0, 1.5))\n",
    "plt.axvline(med_bck, color='r')\n",
    "plt.title('Histogram of pixel values in extraction box')\n",
    "plt.xlabel('Signal Value (DN/sec)')\n",
    "plt.ylabel('Occurrences')"
   ]
  },
  {
   "cell_type": "markdown",
   "id": "3ffce123",
   "metadata": {},
   "source": [
    "#### Assign Wavelengths"
   ]
  },
  {
   "cell_type": "markdown",
   "id": "56917762",
   "metadata": {},
   "source": [
    "Compute the wavelength everywhere on the array for this object. We use the full array here for simplicity and compute the distance in the x- direction (dispersion direction) between a pixel and the source."
   ]
  },
  {
   "cell_type": "code",
   "execution_count": 32,
   "id": "c59da7fd",
   "metadata": {
    "execution": {
     "iopub.execute_input": "2025-03-27T16:06:45.886142Z",
     "iopub.status.busy": "2025-03-27T16:06:45.885769Z",
     "iopub.status.idle": "2025-03-27T16:06:45.892089Z",
     "shell.execute_reply": "2025-03-27T16:06:45.891590Z"
    }
   },
   "outputs": [],
   "source": [
    "ys, xs = np.indices(np.shape(wfss_data.data))"
   ]
  },
  {
   "cell_type": "markdown",
   "id": "9c55e9da-3875-491b-9501-c4a32d20bf10",
   "metadata": {},
   "source": [
    "Translate the x values to be distances from the nominal source location"
   ]
  },
  {
   "cell_type": "code",
   "execution_count": 33,
   "id": "f5aa8977",
   "metadata": {
    "execution": {
     "iopub.execute_input": "2025-03-27T16:06:45.894021Z",
     "iopub.status.busy": "2025-03-27T16:06:45.893657Z",
     "iopub.status.idle": "2025-03-27T16:06:45.900127Z",
     "shell.execute_reply": "2025-03-27T16:06:45.899658Z"
    }
   },
   "outputs": [],
   "source": [
    "dxs = xs - x"
   ]
  },
  {
   "cell_type": "markdown",
   "id": "7015c062",
   "metadata": {},
   "source": [
    "We use the grismconf relations to compute the $t$ values everywhere and then compute the wavelengths, again everywhere."
   ]
  },
  {
   "cell_type": "code",
   "execution_count": 34,
   "id": "b202ed97",
   "metadata": {
    "execution": {
     "iopub.execute_input": "2025-03-27T16:06:45.902112Z",
     "iopub.status.busy": "2025-03-27T16:06:45.901752Z",
     "iopub.status.idle": "2025-03-27T16:06:45.923966Z",
     "shell.execute_reply": "2025-03-27T16:06:45.923309Z"
    }
   },
   "outputs": [],
   "source": [
    "ts = C.INVDISPX(\"+1\", x, y, dxs)\n",
    "lams = C.DISPL(\"+1\", x, y, ts)"
   ]
  },
  {
   "cell_type": "markdown",
   "id": "a21064e9",
   "metadata": {},
   "source": [
    "Displaying the wavelength array on the same area on the detector where the spectrum is, we see what we now have a wavelength estimate for each element of the 2D WFSS data."
   ]
  },
  {
   "cell_type": "code",
   "execution_count": 35,
   "id": "1faf5150",
   "metadata": {
    "execution": {
     "iopub.execute_input": "2025-03-27T16:06:45.926116Z",
     "iopub.status.busy": "2025-03-27T16:06:45.925890Z",
     "iopub.status.idle": "2025-03-27T16:06:46.120436Z",
     "shell.execute_reply": "2025-03-27T16:06:46.119806Z"
    }
   },
   "outputs": [
    {
     "data": {
      "text/plain": [
       "Text(0, 0.5, 'Row Number')"
      ]
     },
     "execution_count": 35,
     "metadata": {},
     "output_type": "execute_result"
    },
    {
     "data": {
      "image/png": "[encoded data removed]",
      "text/plain": [
       "<Figure size 2000x300 with 2 Axes>"
      ]
     },
     "metadata": {},
     "output_type": "display_data"
    }
   ],
   "source": [
    "fig, ax = plt.subplots(1, 1, figsize=(20, 3))\n",
    "tt = ax.imshow(lams[y_min:y_max, x_min:x_max], origin=\"lower\", vmin=2, vmax=4)\n",
    "cbar = plt.colorbar(tt).ax.set_ylabel('Wavelength (microns)', rotation=270, fontsize=12, labelpad=25)\n",
    "plt.title('Wavelength array covering all pixels of extraction box')\n",
    "plt.xlabel('Column Number')\n",
    "plt.ylabel('Row Number')"
   ]
  },
  {
   "cell_type": "markdown",
   "id": "cbef6f40",
   "metadata": {},
   "source": [
    "#### Box extraction"
   ]
  },
  {
   "cell_type": "markdown",
   "id": "75c3f5d4",
   "metadata": {},
   "source": [
    "Creating a 1D spectrum from the data above is, in its simplest form, a matter of collapsing things along the cross dipsersion direction (y- direction). The 1D spectrum will be affected by bad pixels, any spectra contamination, as well as any error in the amount of background subtracted. These effects become increasingly important as the box size is increased. We also subtract the median background from each column."
   ]
  },
  {
   "cell_type": "code",
   "execution_count": 36,
   "id": "4fbe376b",
   "metadata": {
    "execution": {
     "iopub.execute_input": "2025-03-27T16:06:46.122592Z",
     "iopub.status.busy": "2025-03-27T16:06:46.122228Z",
     "iopub.status.idle": "2025-03-27T16:06:46.267476Z",
     "shell.execute_reply": "2025-03-27T16:06:46.266990Z"
    }
   },
   "outputs": [
    {
     "data": {
      "text/plain": [
       "Text(0.5, 1.0, 'Extracted 1D spectrum versus detector column')"
      ]
     },
     "execution_count": 36,
     "metadata": {},
     "output_type": "execute_result"
    },
    {
     "data": {
      "image/png": "[encoded data removed]",
      "text/plain": [
       "<Figure size 640x480 with 1 Axes>"
      ]
     },
     "metadata": {},
     "output_type": "display_data"
    }
   ],
   "source": [
    "cs = np.nansum(wfss_data.data[y_min:y_max, x_min:x_max] - med_bck, axis=0)\n",
    "plt.plot(cs)\n",
    "plt.ylim(-5, 20)\n",
    "plt.grid()\n",
    "plt.xlabel('Column Number')\n",
    "plt.ylabel('Signal (DN/sec)')\n",
    "plt.title('Extracted 1D spectrum versus detector column')"
   ]
  },
  {
   "cell_type": "markdown",
   "id": "b366a9da",
   "metadata": {},
   "source": [
    "#### Wavelength calibration"
   ]
  },
  {
   "cell_type": "markdown",
   "id": "741a0153",
   "metadata": {},
   "source": [
    "In this case, we can average the wavelength array in the cross dispersion direction (y-direction) to obtain a single wavelength vector that is appropriate for the spectum we just box extracted. Plotting the 1D count vector versus the wavelength vector thus created results in a wavelength calibrated 1D spectrum"
   ]
  },
  {
   "cell_type": "code",
   "execution_count": 37,
   "id": "be76cfbe",
   "metadata": {
    "execution": {
     "iopub.execute_input": "2025-03-27T16:06:46.269247Z",
     "iopub.status.busy": "2025-03-27T16:06:46.269069Z",
     "iopub.status.idle": "2025-03-27T16:06:46.399856Z",
     "shell.execute_reply": "2025-03-27T16:06:46.399261Z"
    }
   },
   "outputs": [
    {
     "data": {
      "text/plain": [
       "Text(0.5, 1.0, 'Extracted 1D spectrum versus wavelength')"
      ]
     },
     "execution_count": 37,
     "metadata": {},
     "output_type": "execute_result"
    },
    {
     "data": {
      "image/png": "[encoded data removed]",
      "text/plain": [
       "<Figure size 640x480 with 1 Axes>"
      ]
     },
     "metadata": {},
     "output_type": "display_data"
    }
   ],
   "source": [
    "ws = np.nanmean(lams[y_min:y_max, x_min:x_max], axis=0)\n",
    "plt.plot(ws, cs)\n",
    "plt.ylim(-5, 20)\n",
    "plt.grid()\n",
    "plt.xlabel('Wavelength (microns)')\n",
    "plt.ylabel('Signal (DN/sec)')\n",
    "plt.title('Extracted 1D spectrum versus wavelength')"
   ]
  },
  {
   "cell_type": "markdown",
   "id": "1ae8d3ca",
   "metadata": {},
   "source": [
    "#### Converting to physical units"
   ]
  },
  {
   "cell_type": "markdown",
   "id": "96c88153",
   "metadata": {},
   "source": [
    "Here we use information contained in grismconf to convert our 1D spectrum, which is in units of DN/sec (per bin, or pixel in this case since there is no resampling of the data) into units of $erg / sec / cm^2 / \\overset{\\circ}{A}$. The grism inverse sensitivity curve in grismconf is in units of DN/sec (per pixel) per $erg / sec / cm^2 / \\overset{\\circ}{A}$. As the sensitivity is defined per Angstrom while our 1D spectrum is extracted per pixel, we need to account for this when applying the sensitivity. In most WFSS data the variation of the pixel size in wavelength units is small but this can easily be accounted for by computing the size of each pixel in wavelength units (Angstrom) as we show below."
   ]
  },
  {
   "cell_type": "code",
   "execution_count": 38,
   "id": "34104ce0",
   "metadata": {
    "execution": {
     "iopub.execute_input": "2025-03-27T16:06:46.401689Z",
     "iopub.status.busy": "2025-03-27T16:06:46.401508Z",
     "iopub.status.idle": "2025-03-27T16:06:46.551071Z",
     "shell.execute_reply": "2025-03-27T16:06:46.550577Z"
    }
   },
   "outputs": [
    {
     "data": {
      "text/plain": [
       "Text(0.5, 1.0, 'Inverse sensitivity curve')"
      ]
     },
     "execution_count": 38,
     "metadata": {},
     "output_type": "execute_result"
    },
    {
     "data": {
      "image/png": "[encoded data removed]",
      "text/plain": [
       "<Figure size 640x480 with 1 Axes>"
      ]
     },
     "metadata": {},
     "output_type": "display_data"
    }
   ],
   "source": [
    "# Plot the inverse sensitivity curve\n",
    "tws = np.arange(2.9, 4.2, 0.01)\n",
    "plt.plot(tws, C.SENS[\"+1\"](tws))\n",
    "plt.grid()\n",
    "plt.xlabel(\"Wavelength (micron)\")\n",
    "plt.ylabel(\"Inverse Sensitivity\")\n",
    "plt.title(\"Inverse sensitivity curve\")"
   ]
  },
  {
   "cell_type": "markdown",
   "id": "37b026eb",
   "metadata": {},
   "source": [
    "Calculate the size of each element in our 1D spectrum, in Angstrom"
   ]
  },
  {
   "cell_type": "code",
   "execution_count": 39,
   "id": "e25d39e4",
   "metadata": {
    "execution": {
     "iopub.execute_input": "2025-03-27T16:06:46.552943Z",
     "iopub.status.busy": "2025-03-27T16:06:46.552767Z",
     "iopub.status.idle": "2025-03-27T16:06:46.555561Z",
     "shell.execute_reply": "2025-03-27T16:06:46.555059Z"
    }
   },
   "outputs": [],
   "source": [
    "# The value of 10000 comes from the NIRCam dispersion value of ~10A per pixel\n",
    "dws = (ws[1:] - ws[:-1]) * 10000"
   ]
  },
  {
   "cell_type": "markdown",
   "id": "c60703d2",
   "metadata": {},
   "source": [
    "Apply the sensitivity curve by dividing the 1D counts by the sensitivity and by the size of each bin in Angstrom to produce flux values in units of $erg / sec / cm^2 / \\overset{\\circ}{A}$"
   ]
  },
  {
   "cell_type": "code",
   "execution_count": 40,
   "id": "7c26b68e",
   "metadata": {
    "execution": {
     "iopub.execute_input": "2025-03-27T16:06:46.557469Z",
     "iopub.status.busy": "2025-03-27T16:06:46.557077Z",
     "iopub.status.idle": "2025-03-27T16:06:46.560144Z",
     "shell.execute_reply": "2025-03-27T16:06:46.559686Z"
    }
   },
   "outputs": [],
   "source": [
    "fs = cs[1:] / C.SENS[\"+1\"](ws[1:]) / dws"
   ]
  },
  {
   "cell_type": "markdown",
   "id": "71fc1dc4",
   "metadata": {},
   "source": [
    "Plotting the resulting flux array versus our wavelength scale shows the fully calbirated 1D spectrum. One caveat of the conversion from DN/sec per pixel to $erg / sec / cm^2 / \\overset{\\circ}{A}$ is the well known edge effect caused by dividing counts values that are zero or close to zero by the sensitivity. As this method does not account for the broadening of the spectra by the footprint of the object in the dispersion direction, this effect is worse for extended sources. This effect can only be mitigated by more forward modeling extraction methods."
   ]
  },
  {
   "cell_type": "code",
   "execution_count": 41,
   "id": "e4e27c86",
   "metadata": {
    "execution": {
     "iopub.execute_input": "2025-03-27T16:06:46.561931Z",
     "iopub.status.busy": "2025-03-27T16:06:46.561494Z",
     "iopub.status.idle": "2025-03-27T16:06:46.700263Z",
     "shell.execute_reply": "2025-03-27T16:06:46.699684Z"
    }
   },
   "outputs": [
    {
     "data": {
      "text/plain": [
       "Text(0.5, 1.0, 'Extracted 1D spectrum in $F_{lambda}$ units')"
      ]
     },
     "execution_count": 41,
     "metadata": {},
     "output_type": "execute_result"
    },
    {
     "data": {
      "image/png": "[encoded data removed]",
      "text/plain": [
       "<Figure size 640x480 with 1 Axes>"
      ]
     },
     "metadata": {},
     "output_type": "display_data"
    }
   ],
   "source": [
    "plt.plot(ws[1:], fs)\n",
    "plt.xlabel(\"Wavelength (micron)\")\n",
    "plt.ylabel(\"Signal ($erg/s/cm^2/A$)\")\n",
    "plt.title(\"Extracted 1D spectrum in $F_{lambda}$ units\")"
   ]
  },
  {
   "cell_type": "markdown",
   "id": "9a744786",
   "metadata": {},
   "source": [
    "Concentrating on regions off the spectral edges reveals the spectrum of our source. One of the many drawbacks of this simplistic box extraction method is the impact of bad pixels and any residual cosmic rays. These can cause significnat peaks in the spectra, which can be confused for emission lines."
   ]
  },
  {
   "cell_type": "code",
   "execution_count": 42,
   "id": "7e883b58",
   "metadata": {
    "execution": {
     "iopub.execute_input": "2025-03-27T16:06:46.702259Z",
     "iopub.status.busy": "2025-03-27T16:06:46.701804Z",
     "iopub.status.idle": "2025-03-27T16:06:46.847498Z",
     "shell.execute_reply": "2025-03-27T16:06:46.847006Z"
    }
   },
   "outputs": [
    {
     "data": {
      "text/plain": [
       "Text(0.5, 1.0, 'Extracted 1D spectrum in $F_{lambda}$ units')"
      ]
     },
     "execution_count": 42,
     "metadata": {},
     "output_type": "execute_result"
    },
    {
     "data": {
      "image/png": "[encoded data removed]",
      "text/plain": [
       "<Figure size 640x480 with 1 Axes>"
      ]
     },
     "metadata": {},
     "output_type": "display_data"
    }
   ],
   "source": [
    "plt.plot(ws[1:], fs)\n",
    "plt.xlim(3.1, 4.)\n",
    "plt.ylim(0, 0.5e-16)\n",
    "plt.xlabel(\"Wavelength (micron)\")\n",
    "plt.ylabel(\"Signal ($erg/s/cm^2/A$)\")\n",
    "plt.title(\"Extracted 1D spectrum in $F_{lambda}$ units\")"
   ]
  }
 ],
 "metadata": {
  "kernelspec": {
   "display_name": "Python 3 (ipykernel)",
   "language": "python",
   "name": "python3"
  },
  "language_info": {
   "codemirror_mode": {
    "name": "ipython",
    "version": 3
   },
   "file_extension": ".py",
   "mimetype": "text/x-python",
   "name": "python",
   "nbconvert_exporter": "python",
   "pygments_lexer": "ipython3",
   "version": "3.11.11"
  }
 },
 "nbformat": 4,
 "nbformat_minor": 5
}
