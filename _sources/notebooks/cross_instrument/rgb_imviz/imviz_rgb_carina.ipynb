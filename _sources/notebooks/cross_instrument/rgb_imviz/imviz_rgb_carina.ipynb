{
 "cells": [
  {
   "cell_type": "markdown",
   "id": "035a23fd",
   "metadata": {},
   "source": [
    "# RGB images with Imviz\n",
    "\n",
    "**Use case**: create RGB images using Imviz programmatically.<br>\n",
    "**Data**: Carina Nebula, NIRCam observations<br>\n",
    "**Tools**: jdaviz<br>\n",
    "**Cross-intrument**: Any imager<br>\n",
    "**Documentation**: This notebook is part of a STScI's larger [post-pipeline Data Analysis Tools Ecosystem](https://jwst-docs.stsci.edu/jwst-post-pipeline-data-analysis).<br>\n",
    "\n",
    "For additional resources, please review our provided full example notebooks maintained in the Jdaviz repository: https://github.com/spacetelescope/jdaviz/tree/main/notebooks"
   ]
  },
  {
   "cell_type": "markdown",
   "id": "884e8432",
   "metadata": {},
   "source": [
    "Import modules needed for this notebook:"
   ]
  },
  {
   "cell_type": "code",
   "execution_count": null,
   "id": "8f2d1e37",
   "metadata": {},
   "outputs": [],
   "source": [
    "import warnings\n",
    "\n",
    "from astroquery.mast import Observations\n",
    "\n",
    "from jdaviz import Imviz\n",
    "\n",
    "from IPython.display import Image"
   ]
  },
  {
   "cell_type": "markdown",
   "id": "aaf960cd",
   "metadata": {},
   "source": [
    "## Download images and load Imviz\n",
    "\n",
    "We create an Imviz instance and grab the default viewer instance as well:"
   ]
  },
  {
   "cell_type": "code",
   "execution_count": null,
   "id": "409eedc4",
   "metadata": {},
   "outputs": [],
   "source": [
    "imviz = Imviz()"
   ]
  },
  {
   "cell_type": "markdown",
   "id": "3a332f61",
   "metadata": {},
   "source": [
    "Let's download some data. The images are quite large. The download will take a few minutes."
   ]
  },
  {
   "cell_type": "code",
   "execution_count": null,
   "id": "7bddbc18",
   "metadata": {},
   "outputs": [],
   "source": [
    "data_dir = '.'\n",
    "\n",
    "files = ['jw02731-o001_t017_nircam_clear-f090w_i2d.fits',\n",
    "         'jw02731-o001_t017_nircam_clear-f187n_i2d.fits',\n",
    "         'jw02731-o001_t017_nircam_clear-f200w_i2d.fits',\n",
    "         'jw02731-o001_t017_nircam_clear-f335m_i2d.fits',\n",
    "         'jw02731-o001_t017_nircam_clear-f444w_i2d.fits',\n",
    "         'jw02731-o001_t017_nircam_f444w-f470n_i2d.fits']\n",
    "\n",
    "for fn in files:\n",
    "    uri = f\"mast:JWST/product/{fn}\"\n",
    "    result = Observations.download_file(uri, local_path=f'{data_dir}/{fn}')"
   ]
  },
  {
   "cell_type": "markdown",
   "id": "e6108b52",
   "metadata": {},
   "source": [
    "And load into Imviz."
   ]
  },
  {
   "cell_type": "code",
   "execution_count": null,
   "id": "1135ef74",
   "metadata": {},
   "outputs": [],
   "source": [
    "with warnings.catch_warnings():\n",
    "    warnings.simplefilter('ignore')\n",
    "    with imviz.batch_load():\n",
    "        for fn in files:\n",
    "            imviz.load_data(f'{data_dir}/{fn}', data_label=fn[31:36])"
   ]
  },
  {
   "cell_type": "markdown",
   "id": "8a4b2e1a",
   "metadata": {},
   "source": [
    "Now, we can display Imviz."
   ]
  },
  {
   "cell_type": "code",
   "execution_count": null,
   "id": "48830cc8-997f-4ec7-b278-21e6685ec7cd",
   "metadata": {},
   "outputs": [],
   "source": [
    "imviz.show()"
   ]
  },
  {
   "cell_type": "markdown",
   "id": "88b7129e",
   "metadata": {},
   "source": [
    "## Align by WCS\n",
    "https://jdaviz.readthedocs.io/en/latest/imviz/plugins.html#orientation\n",
    "\n",
    "The first thing you will probably notice is that the image doesn't take up the entire viewer area. If you press the \"b\" key to blink to the next image, you will see that this image is zoomed correctly by default. The odd default zoom on the other is because the images are linked by pixel when loaded. We can instead link by WCS (world coordinates) so that the images will be properly aligned."
   ]
  },
  {
   "cell_type": "markdown",
   "id": "341145e7-e595-4a58-aab8-0e1e24c19c3d",
   "metadata": {},
   "source": [
    "There are two ways to link in Imviz. Firstly, you can do it from within the UI through the Orientation plugin by selecting \"WCS\". Either open the plugin tray to the right and search for \"Orientation\", or execute the following cell to open it automatically:"
   ]
  },
  {
   "cell_type": "raw",
   "id": "19216180-6a20-44cd-a384-981431eb6a3f",
   "metadata": {},
   "source": [
    "imviz.plugins['Orientation'].open_in_tray()"
   ]
  },
  {
   "cell_type": "markdown",
   "id": "75367551",
   "metadata": {},
   "source": [
    "You can also set the link type from the API using the Imviz Helper:"
   ]
  },
  {
   "cell_type": "code",
   "execution_count": null,
   "id": "f7c9f085",
   "metadata": {},
   "outputs": [],
   "source": [
    "# Link images by WCS (without affine approximation).\n",
    "imviz.plugins['Orientation'].link_type = 'WCS'\n",
    "imviz.plugins['Orientation'].wcs_use_affine = False"
   ]
  },
  {
   "cell_type": "markdown",
   "id": "c9e777a4",
   "metadata": {},
   "source": [
    "Now if you blink, the images should be aligned"
   ]
  },
  {
   "cell_type": "markdown",
   "id": "280cb7c7",
   "metadata": {},
   "source": [
    "## Plot Options\n",
    "The Plot Options plugins allows you to modify how your image appears. Here, we demonstrate how to use it to create RGB images."
   ]
  },
  {
   "cell_type": "markdown",
   "id": "ca62dbf5",
   "metadata": {},
   "source": [
    "To show the Plot Options plugin, either search in the plugin bar, or execute the following cell to open it automatically:"
   ]
  },
  {
   "cell_type": "code",
   "execution_count": null,
   "id": "6706967c",
   "metadata": {},
   "outputs": [],
   "source": [
    "plot_options = imviz.plugins['Plot Options']"
   ]
  },
  {
   "cell_type": "markdown",
   "id": "a02ea0f6-6101-46f1-a777-2469245fe124",
   "metadata": {},
   "source": [
    "We can use the the Assign RGB Preset button, which can be triggered in the UI or with the following cell."
   ]
  },
  {
   "cell_type": "code",
   "execution_count": null,
   "id": "d9f2aea4-3828-421f-bdaa-cc428a7c8e6b",
   "metadata": {},
   "outputs": [],
   "source": [
    "plot_options.image_color_mode = 'One color per layer'\n",
    "plot_options.apply_RGB_presets()"
   ]
  },
  {
   "cell_type": "markdown",
   "id": "6bce2a65-953e-436f-b6dc-e81b749cd840",
   "metadata": {},
   "source": [
    "We just need to adjust the stretch min and max!"
   ]
  },
  {
   "cell_type": "code",
   "execution_count": null,
   "id": "04482b8f-89ad-4770-8a4c-9325a72ffbaa",
   "metadata": {},
   "outputs": [],
   "source": [
    "plot_options.layer = 'f090w[DATA]'\n",
    "plot_options.stretch_vmin = 4\n",
    "plot_options.stretch_vmax = 16\n",
    "plot_options.image_bias = 0.39\n",
    "\n",
    "plot_options.layer = 'f187n[DATA]'\n",
    "plot_options.stretch_vmin = 10\n",
    "plot_options.stretch_vmax = 16\n",
    "plot_options.image_bias = 0.74\n",
    "\n",
    "plot_options.layer = 'f200w[DATA]'\n",
    "plot_options.stretch_vmin = 1\n",
    "plot_options.stretch_vmax = 5\n",
    "plot_options.image_bias = 0.66\n",
    "\n",
    "plot_options.layer = 'f335m[DATA]'\n",
    "plot_options.stretch_vmin = 4\n",
    "plot_options.stretch_vmax = 27\n",
    "plot_options.image_bias = 0.67\n",
    "\n",
    "plot_options.layer = 'f444w[DATA]'\n",
    "plot_options.stretch_vmin = 1\n",
    "plot_options.stretch_vmax = 14\n",
    "plot_options.image_bias = 0.56\n",
    "\n",
    "plot_options.layer = 'f470n[DATA]'\n",
    "plot_options.stretch_vmin = 1\n",
    "plot_options.stretch_vmax = 6\n",
    "plot_options.image_bias = 0.60\n"
   ]
  },
  {
   "cell_type": "markdown",
   "id": "9d7821fd-2073-4d1b-8e97-64c46f2e074d",
   "metadata": {},
   "source": [
    "Let's export the image we just made. This is a placeholder for when the export in the plugin with get the right path."
   ]
  },
  {
   "cell_type": "raw",
   "id": "d5266616-c257-4f93-b9d1-11185e0c5fee",
   "metadata": {},
   "source": [
    "exportimg = imviz.plugins['Export Plot']\n",
    "exportimg.viewer = 'imviz-0'\n",
    "exportimg.filename = 'carina_rgb_preset.png'\n",
    "exportimg.export()"
   ]
  },
  {
   "cell_type": "markdown",
   "id": "ca450e99-04e2-4e08-bbb7-45f6b98843f5",
   "metadata": {},
   "source": [
    "We can use the astrowidget API for now."
   ]
  },
  {
   "cell_type": "code",
   "execution_count": null,
   "id": "8193c79d-ae58-469b-a3b0-6ac3497dbb8b",
   "metadata": {},
   "outputs": [],
   "source": [
    "viewer = imviz.default_viewer\n",
    "viewer.save('./carina.png')"
   ]
  },
  {
   "cell_type": "code",
   "execution_count": null,
   "id": "501ac813-a160-4180-b3e4-6f03eae3addb",
   "metadata": {},
   "outputs": [],
   "source": [
    "Image('./carina.png')"
   ]
  },
  {
   "cell_type": "markdown",
   "id": "95de69d3",
   "metadata": {},
   "source": [
    "<img style=\"float: right;\" src=\"https://raw.githubusercontent.com/spacetelescope/notebooks/master/assets/stsci_pri_combo_mark_horizonal_white_bkgd.png\" alt=\"Space Telescope Logo\" width=\"200px\"/>"
   ]
  },
  {
   "cell_type": "markdown",
   "id": "c08db0ba",
   "metadata": {},
   "source": [
    "Notebook created by Kyle Conroy and adapted by Duy Nguyen and Camilla Pacifici."
   ]
  }
 ],
 "metadata": {
  "kernelspec": {
   "display_name": "Python 3 (ipykernel)",
   "language": "python",
   "name": "python3"
  },
  "language_info": {
   "codemirror_mode": {
    "name": "ipython",
    "version": 3
   },
   "file_extension": ".py",
   "mimetype": "text/x-python",
   "name": "python",
   "nbconvert_exporter": "python",
   "pygments_lexer": "ipython3",
   "version": "3.9.7"
  }
 },
 "nbformat": 4,
 "nbformat_minor": 5
}
