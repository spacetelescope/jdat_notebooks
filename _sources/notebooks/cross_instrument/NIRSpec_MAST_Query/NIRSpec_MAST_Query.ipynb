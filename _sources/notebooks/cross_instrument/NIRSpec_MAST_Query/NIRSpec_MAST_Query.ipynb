{
 "cells": [
  {
   "cell_type": "markdown",
   "metadata": {},
   "source": [
    "# MAST Query"
   ]
  },
  {
   "cell_type": "markdown",
   "metadata": {},
   "source": [
    "**Use case:**  Be able to perform MAST queries for NIRSpec data.<br>\n",
    "**Data:** None\n",
    "**Tools:** astroquery.<br>\n",
    "**Cross-intrument:** all instruments.<br>\n",
    "**Documentation:** This notebook is part of a STScI's larger [post-pipeline Data Analysis Tools Ecosystem](https://jwst-docs.stsci.edu/jwst-post-pipeline-data-analysis).<br>"
   ]
  },
  {
   "cell_type": "markdown",
   "metadata": {},
   "source": [
    "By the end of this tutorial, you will:\n",
    "\n",
    "    1) Be able to perform MAST queries for NIRSpec data \n",
    "    2) Understand MAST search options for NIRSpec MOS, IFU, and Fixed Slit data\n",
    "    3) Filter MAST queries by various parameters\n",
    "    4) Perform potential duplication checks for your targets"
   ]
  },
  {
   "cell_type": "markdown",
   "metadata": {},
   "source": [
    "## Introduction"
   ]
  },
  {
   "cell_type": "markdown",
   "metadata": {},
   "source": [
    "MAST (Barbara A. Mikulski Archive for Space Telescopes) provides a means of retrieving data through a variety of methods. The [MAST Portal](https://outerspace.stsci.edu/display/MASTDOCS/Portal+Guide) allows users to interactively search for particular observations and filter by keywords. An in-depth [tutorial](https://outerspace.stsci.edu/display/MASTDOCS/Portal+Guide) is available to aid users in accessing MAST in this manner. In some scenarios, particularly with large queries, it may be more efficient to use [Astroquery](https://astroquery.readthedocs.io/en/latest/mast/mast.html). Some broad capabilities including positional queries, metadata queries, and catalog queries are described in the documentation. General documentation on the [MAST API](https://mast.stsci.edu/api/v0/) is also available.\n",
    "\n",
    "One reason why users may want to search the archive is to find potential duplicatation observations for their proposals. As described in the [JWST Duplicate Observations Policy](https://jwst-docs.stsci.edu/jwst-opportunities-and-policies/jwst-general-science-policies/jwst-duplicate-observations-policy), an observation may be a duplication of another observation if it observes the same astronomical source or field with the same instrument as well as similar sensitivity and spectral range. More instrument-specific details can be found in the documentation. \n",
    "\n",
    "The following topics are covered in this notebook:\n",
    "\n",
    "1) How to submit a NIRSpec MAST Query using python\n",
    "\n",
    "    - How to perform a broad search for all NIRSpec Data\n",
    "    - How to perform a search using one query filter parameter\n",
    "    - How to perform a search using multiple query filter parameters\n",
    "    - Information on available search parameters\n",
    "\n",
    "2) How to perform checks for potential duplication issues with any given targets by comparing with pre-existing MAST Data (NOTE: This may not include scheduled observations, and results should be confirmed in APT)\n",
    "\n",
    "    - Define an input catalog describing a potential observation\n",
    "    - Query MAST within a search radius for observations with overlapping wavelengths and similar exposure times\n",
    "    - Examine potential for duplicate observations\n",
    "\n",
    "Although this notebook is designed for NIRSpec users, other JWST instruments follow similar structures for MAST queries. More information that may be relevant to additional instruments can be found on the [Astroquery](https://astroquery.readthedocs.io/en/latest/mast/mast.html) web page. "
   ]
  },
  {
   "cell_type": "markdown",
   "metadata": {},
   "source": [
    "## Main Content"
   ]
  },
  {
   "cell_type": "code",
   "execution_count": 1,
   "metadata": {
    "execution": {
     "iopub.execute_input": "2024-11-12T19:23:55.224158Z",
     "iopub.status.busy": "2024-11-12T19:23:55.223980Z",
     "iopub.status.idle": "2024-11-12T19:23:55.714185Z",
     "shell.execute_reply": "2024-11-12T19:23:55.713589Z"
    }
   },
   "outputs": [],
   "source": [
    "# Import MAST\n",
    "from astroquery.mast import Mast"
   ]
  },
  {
   "cell_type": "markdown",
   "metadata": {},
   "source": [
    "### Perform a search for all NIRSpec Data"
   ]
  },
  {
   "cell_type": "markdown",
   "metadata": {},
   "source": [
    "This first example demonstrates how to use [Mast.service_request_async()](https://astroquery.readthedocs.io/en/latest/api/astroquery.mast.MastClass.html#astroquery.mast.MastClass.service_request_async), which builds and executes a [Mashup](https://mast.stsci.edu/api/v0/class_mashup_1_1_mashup_request.html) query based upon a service and parameters. More information and description of options can be found in the [documentation](https://mast.stsci.edu/api/v0/class_mashup_1_1_mashup_request.html). The response in this format provides a format which can list filenames."
   ]
  },
  {
   "cell_type": "code",
   "execution_count": 2,
   "metadata": {
    "execution": {
     "iopub.execute_input": "2024-11-12T19:23:55.716546Z",
     "iopub.status.busy": "2024-11-12T19:23:55.716194Z",
     "iopub.status.idle": "2024-11-12T19:28:49.562078Z",
     "shell.execute_reply": "2024-11-12T19:28:49.561421Z"
    }
   },
   "outputs": [],
   "source": [
    "# Set up the service for whichever instrument you want to query. Format with the first letter capitalized only.\n",
    "service = \"Mast.Jwst.Filtered.Nirspec\"\n",
    "\n",
    "# Enter query parameters, or leave empty (as shown here) to retrieve all data for that instrument.\n",
    "# Leaving 'columns' as an asterisk includes all data columns. Replacing 'columns' with COUNT_BIG(*) will \n",
    "#     return the number of files in the search.\n",
    "parameters = {\"columns\": \"*\",\n",
    "               \"filters\": []}\n",
    "\n",
    "# Retrieve the MAST response (this step may take a few seconds)\n",
    "response = Mast.service_request_async(service, parameters)"
   ]
  },
  {
   "cell_type": "code",
   "execution_count": 3,
   "metadata": {
    "execution": {
     "iopub.execute_input": "2024-11-12T19:28:49.564450Z",
     "iopub.status.busy": "2024-11-12T19:28:49.564259Z",
     "iopub.status.idle": "2024-11-12T19:28:51.749175Z",
     "shell.execute_reply": "2024-11-12T19:28:51.748617Z"
    }
   },
   "outputs": [],
   "source": [
    "# Gather the results\n",
    "results = response[0].json()['data']"
   ]
  },
  {
   "cell_type": "code",
   "execution_count": 4,
   "metadata": {
    "execution": {
     "iopub.execute_input": "2024-11-12T19:28:51.751281Z",
     "iopub.status.busy": "2024-11-12T19:28:51.751096Z",
     "iopub.status.idle": "2024-11-12T19:28:51.785760Z",
     "shell.execute_reply": "2024-11-12T19:28:51.785312Z"
    }
   },
   "outputs": [],
   "source": [
    "# Take the filename from each result if you prefer a list of filenames\n",
    "filenames = []\n",
    "for result in results:\n",
    "    filename = result['filename'].split('.')[0]\n",
    "    filenames.append(filename)"
   ]
  },
  {
   "cell_type": "code",
   "execution_count": 5,
   "metadata": {
    "execution": {
     "iopub.execute_input": "2024-11-12T19:28:51.787404Z",
     "iopub.status.busy": "2024-11-12T19:28:51.787224Z",
     "iopub.status.idle": "2024-11-12T19:28:51.790639Z",
     "shell.execute_reply": "2024-11-12T19:28:51.790070Z"
    }
   },
   "outputs": [
    {
     "name": "stdout",
     "output_type": "stream",
     "text": [
      "['jw01166095001_02101_00001_nrs2_cal', 'jw01166088001_02101_00010_nrs1_cal', 'jw01166095001_02101_00001_nrs1_cal', 'jw01166088001_02101_00007_nrs2_cal', 'jw01166088001_02101_00003_nrs1_cal', 'jw01166088001_02101_00009_nrs2_cal', 'jw01166088001_02101_00003_nrs2_cal', 'jw01166088001_02101_00001_nrs1_cal', 'jw01166088001_02101_00010_nrs2_cal', 'jw01166088001_02101_00004_nrs1_cal']\n"
     ]
    }
   ],
   "source": [
    "# Print the first ten filenames\n",
    "print(filenames[:10])"
   ]
  },
  {
   "cell_type": "markdown",
   "metadata": {},
   "source": [
    "### Use one query parameter:"
   ]
  },
  {
   "cell_type": "code",
   "execution_count": 6,
   "metadata": {
    "execution": {
     "iopub.execute_input": "2024-11-12T19:28:51.824118Z",
     "iopub.status.busy": "2024-11-12T19:28:51.823841Z",
     "iopub.status.idle": "2024-11-12T19:32:40.821423Z",
     "shell.execute_reply": "2024-11-12T19:32:40.820839Z"
    }
   },
   "outputs": [
    {
     "name": "stdout",
     "output_type": "stream",
     "text": [
      "jw01433021001_05101_00001_nrs1_cal\n",
      "jw01433021001_05101_00001_nrs1_s2d\n",
      "jw01433021001_05101_00001_nrs1_x1d\n",
      "jw01433021001_03101_00001_nrs1_cal\n",
      "jw01433021001_03101_00001_nrs1_s2d\n",
      "jw01433021001_03101_00001_nrs1_x1d\n",
      "jw01433023001_04101_00002_nrs2_cal\n",
      "jw01433023001_04101_00002_nrs2_s2d\n",
      "jw01433023001_04101_00002_nrs2_x1d\n",
      "jw01433023001_04101_00001_nrs2_cal\n"
     ]
    }
   ],
   "source": [
    "# Enter one query parameter:\n",
    "service = \"Mast.Jwst.Filtered.Nirspec\"\n",
    "one_parameter = {\"columns\": \"*\",\n",
    "               \"filters\": [{\"paramName\": \"exp_type\",\n",
    "                            \"values\": ['NRS_MSASPEC']\n",
    "                            }]\n",
    "             }\n",
    "response_one_parameter = Mast.service_request_async(service, one_parameter)\n",
    "results_one_parameter = response_one_parameter[0].json()['data']\n",
    "# Print the first ten filenames\n",
    "for result_one_parameter in results_one_parameter[:10]:\n",
    "    print(result_one_parameter['filename'].split('.')[0])"
   ]
  },
  {
   "cell_type": "markdown",
   "metadata": {},
   "source": [
    "### Use multiple query parameters:"
   ]
  },
  {
   "cell_type": "code",
   "execution_count": 7,
   "metadata": {
    "execution": {
     "iopub.execute_input": "2024-11-12T19:32:40.823302Z",
     "iopub.status.busy": "2024-11-12T19:32:40.823125Z",
     "iopub.status.idle": "2024-11-12T19:32:42.403426Z",
     "shell.execute_reply": "2024-11-12T19:32:42.402889Z"
    },
    "scrolled": false
   },
   "outputs": [
    {
     "name": "stdout",
     "output_type": "stream",
     "text": [
      "jw04291007001_03101_00001_nrs1_rate     PRIME_TARGETED_FIXED\n",
      "jw04291007001_03101_00001_nrs1_rateints     PRIME_TARGETED_FIXED\n"
     ]
    }
   ],
   "source": [
    "# Use multiple query parameters\n",
    "service = \"Mast.Jwst.Filtered.Nirspec\"\n",
    "multiple_parameters = {\"columns\": \"*\",\n",
    "               \"filters\": [{\"paramName\": \"apername\",\n",
    "                            \"values\": ['NRS1_FULL', 'NRS_FULL_MSA']\n",
    "                            },\n",
    "                            {\"paramName\": \"detector\",\n",
    "                             \"values\": ['NRS1']\n",
    "                            },\n",
    "                            {\"paramName\": \"filter\",\n",
    "                             \"values\": ['F290LP', 'F170LP']\n",
    "                            },\n",
    "                            {\"paramName\": \"exp_type\",\n",
    "                             \"values\": ['NRS_IFU', 'NRS_MSASPEC', 'NRS_BRIGHTOBJ','NRS_WATA']\n",
    "                            },\n",
    "                            {\"paramName\": \"readpatt\",\n",
    "                             \"values\": ['NRS', 'NRSRAPID']\n",
    "                            }\n",
    "                            ]}\n",
    "response_multiple_parameters = Mast.service_request_async(service, multiple_parameters)\n",
    "results_multiple_parameters = response_multiple_parameters[0].json()['data']\n",
    "# Print the first ten filenames\n",
    "for result_multiple_parameters in results_multiple_parameters[:10]:\n",
    "    # In addition to the filename, additional parameters can be printed. See below for a list of available options.\n",
    "    print(result_multiple_parameters['filename'].split('.')[0] + '     ' + result_multiple_parameters['visitype'] )"
   ]
  },
  {
   "cell_type": "markdown",
   "metadata": {},
   "source": [
    "### A list of available filtering parameters in the Archive:"
   ]
  },
  {
   "cell_type": "markdown",
   "metadata": {},
   "source": [
    "The following parameters are available filters using the MAST query service. To use any of these filters, add the filter as the 'paramName' and the various options you would like to filter by as the 'values'.\n",
    "\n",
    "In addition to being used as filters, if you would like to return something other than the filename, any of these keys can also be used to access or return any component of the result. For instance, instead of printing the filenames with \"result['filename']\" as shown above, one could print the PI name by replacing this with \"result['pi_name']\"."
   ]
  },
  {
   "cell_type": "code",
   "execution_count": 8,
   "metadata": {
    "execution": {
     "iopub.execute_input": "2024-11-12T19:32:42.405286Z",
     "iopub.status.busy": "2024-11-12T19:32:42.404955Z",
     "iopub.status.idle": "2024-11-12T19:32:49.298217Z",
     "shell.execute_reply": "2024-11-12T19:32:49.297600Z"
    }
   },
   "outputs": [
    {
     "name": "stdout",
     "output_type": "stream",
     "text": [
      "ArchiveFileID, filename, fileSetName, productLevel, act_id, apername, asnpool, asntable, bartdelt, bendtime, bkgdtarg, bkglevel, bkgsub, bmidtime, bstrtime, category, cont_id, datamode, dataprob, date, date_mjd, date_end, date_end_mjd, date_obs, date_obs_mjd, detector, drpfrms1, drpfrms3, duration, effexptm, effinttm, eng_qual, exp_type, expcount, expend, expmid, exposure, expripar, expstart, fastaxis, filter, frmdivsr, gainfact, gdstarid, groupgap, gs_dec, gs_mag, gs_order, gs_ra, gsendtim, gsendtim_mjd, gsstrttm, gsstrttm_mjd, gs_udec, gs_umag, gs_ura, helidelt, hendtime, hga_move, hmidtime, hstrtime, instrume, intarget, is_psf, lamp, mu_dec, mu_epoch, mu_epoch_mjd, mu_ra, nexposur, nextend, nframes, ngroups, nints, nresets, nrststrt, nsamples, numdthpt, nwfsest, obs_id, observtn, obslabel, origin, pcs_mode, pi_name, pps_aper, prd_ver, program, prop_dec, prop_ra, pwfseet, readpatt, sca_num, scicat, sdp_ver, selfref, seq_id, slowaxis, subarray, subcat, subsize1, subsize2, substrt1, substrt2, targ_dec, targ_ra, targname, targoopp, targprop, targtype, targudec, targura, telescop, template, tframe, tgroup, timesys, title, tsample, tsovisit, visit_id, visitend, visitend_mjd, visitgrp, visitsta, visitype, vststart, vststart_mjd, xoffset, yoffset, zerofram, errtype, rois, roiw, wpower, wtype, datamodl, exp_only, exsegnum, exsegtot, intstart, intend, date_beg, date_beg_mjd, obsfoldr, sctarate, opmode, osf_file, expsteng, expsteng_mjd, masterbg, scatfile, srctyapt, tcatfile, texptime, patt_num, pattsize, patttype, pridtpts, subpxpts, crowdfld, engqlptg, oss_ver, noutputs, gs_v3_pa, dirimage, pixfrac, pxsclrt, segmfile, va_dec, va_ra, compress, bkgmeth, targcat, targdesc, gsc_ver, primecrs, extncrs, tmeasure, s_region, cal_ver, cal_vcs, crds_ctx, crds_ver, fcsrlpos, focuspos, fxd_slit, grating, gwa_pxav, gwa_pyav, gwa_tilt, gwa_xp_v, gwa_xtil, gwa_yp_v, gwa_ytil, is_imprt, msaconid, msametfl, msametid, msastate, preimage, rma_pos, subpxpat, nrs_norm, nrs_ref, pattstrt, dithpnts, nod_type, spat_num, spec_num, fileSize, checksum, ingestStartDate, ingestStartDate_mjd, ingestCompletionDate, ingestCompletionDate_mjd, FileTypeID, publicReleaseDate, publicReleaseDate_mjd, isRestricted, isItar, isStale, FileSetId, dataURI\n"
     ]
    }
   ],
   "source": [
    "# Dictionary keys of all of the NIRSpec data (without any filters):\n",
    "all_keys = \"\"\n",
    "for result in results:\n",
    "    for key in result.keys():\n",
    "        if key not in all_keys:\n",
    "            all_keys = all_keys + key + \", \"\n",
    "print(all_keys[:-2]) # print all keys without the last comma"
   ]
  },
  {
   "cell_type": "markdown",
   "metadata": {},
   "source": [
    "Note that some of the above parameters are specific to a particular observation mode. For instance, 'msaconid', 'msametfl', 'msametid', and 'msastate' correspond to MOS observations."
   ]
  },
  {
   "cell_type": "code",
   "execution_count": 9,
   "metadata": {
    "execution": {
     "iopub.execute_input": "2024-11-12T19:32:49.300234Z",
     "iopub.status.busy": "2024-11-12T19:32:49.299894Z",
     "iopub.status.idle": "2024-11-12T19:32:49.326636Z",
     "shell.execute_reply": "2024-11-12T19:32:49.326072Z"
    }
   },
   "outputs": [
    {
     "name": "stdout",
     "output_type": "stream",
     "text": [
      "NRS_LAMP\n",
      "NRS_MIMF\n",
      "NRS_IFU\n",
      "NRS_MSATA\n",
      "NRS_TACONFIRM\n",
      "NRS_MSASPEC\n",
      "NRS_DARK\n",
      "NRS_WATA\n"
     ]
    }
   ],
   "source": [
    "# All options for a given parameter (eg, exp_type):\n",
    "exp_type_list = []\n",
    "for x in results:\n",
    "    exp_type_list.append(x['exp_type']) if x['exp_type'] not in exp_type_list else exp_type_list\n",
    "for exp_type in exp_type_list:\n",
    "    print(exp_type)"
   ]
  },
  {
   "cell_type": "markdown",
   "metadata": {},
   "source": [
    "## Potential Duplication Checks"
   ]
  },
  {
   "cell_type": "markdown",
   "metadata": {},
   "source": [
    "Duplication for NIRSpec might occur if there is a target within the duplication search radius that not only uses the same grating and disperser but also has an exposure time within a factor of four of that of the previous observation. In wide field imaging, the field overlap must be greater than 50% to be considered a duplicate. More information on [identifying potential duplicate observations](https://jwst-docs.stsci.edu/jwst-duplication-checking/identifying-potential-duplicate-observations) might be useful for observers.\n",
    "\n",
    "In this demonstration, an input catalog is used to search an area with a radius equal to the longest side of the aperture, query for those observations matching the wavelength and exposure time criteria, and find sources in the archive which might be duplications for any target in the catalog.\n",
    "\n",
    "While the [Mast.service_request_async()](https://astroquery.readthedocs.io/en/latest/api/astroquery.mast.MastClass.html#astroquery.mast.MastClass.service_request_async) shown above is a useful method for filtering data with metadata parameters, the [Observations.query_criteria()](https://astroquery.readthedocs.io/en/latest/mast/mast.html#observation-criteria-queries) is used in this case to search a particular region of the sky with additional parameters."
   ]
  },
  {
   "cell_type": "markdown",
   "metadata": {},
   "source": [
    "Duplication search radii are dependent on aperture sizes, which are described in the [NIRSpec Fixed Slits JDox page](https://jwst-docs.stsci.edu/near-infrared-spectrograph/nirspec-instrumentation/nirspec-fixed-slits#:~:text=NIRSpec%20has%20five%20fixed%20slits,series%20(BOTS)%20observing%20mode). The longest side of the slit is used for the fixed slit duplication search radius. The following cell contains duplication search radii for each NIRSpec aperture in degrees."
   ]
  },
  {
   "cell_type": "code",
   "execution_count": 10,
   "metadata": {
    "execution": {
     "iopub.execute_input": "2024-11-12T19:32:49.328657Z",
     "iopub.status.busy": "2024-11-12T19:32:49.328323Z",
     "iopub.status.idle": "2024-11-12T19:32:49.331823Z",
     "shell.execute_reply": "2024-11-12T19:32:49.331388Z"
    }
   },
   "outputs": [],
   "source": [
    "# Default duplication search radii\n",
    "mos_radius = 180/360  # arcseconds/360 to get degrees\n",
    "mos_slit_radius = 0.46/360 # arcseconds/360 to get degrees\n",
    "ifu_radius = 3/360  # arcseconds/360 to get degrees\n",
    "fs_S1600A1_radius = 1.6/360  # arcseconds/360 to get degrees\n",
    "fs_S200A1_radius = 3.3/360  # arcseconds/360 to get degrees\n",
    "fs_S200A2_radius = 3.3/360  # arcseconds/360 to get degrees\n",
    "fs_S400A1_radius = 3.8/360  # arcseconds/360 to get degrees\n",
    "fs_S200B1_radius = 3.3/360  # arcseconds/360 to get degrees"
   ]
  },
  {
   "cell_type": "markdown",
   "metadata": {},
   "source": [
    "The search area to use in the potential duplicate observation search is determined by the longest side of the aperture as defined above."
   ]
  },
  {
   "cell_type": "code",
   "execution_count": 11,
   "metadata": {
    "execution": {
     "iopub.execute_input": "2024-11-12T19:32:49.333548Z",
     "iopub.status.busy": "2024-11-12T19:32:49.333225Z",
     "iopub.status.idle": "2024-11-12T19:32:49.335881Z",
     "shell.execute_reply": "2024-11-12T19:32:49.335450Z"
    }
   },
   "outputs": [],
   "source": [
    "search_area = {\"MSA\": mos_radius, \"IFU\": ifu_radius, \"S1600A1\": fs_S1600A1_radius, \"S200A1\": fs_S200A1_radius,\n",
    "               \"S200A2\": fs_S200A2_radius, \"S400A1\": fs_S400A1_radius, \"S200B1\": fs_S200B1_radius}"
   ]
  },
  {
   "cell_type": "markdown",
   "metadata": {},
   "source": [
    "The value labeled 'instrument_name' in this case includes both the instrument and mode. This dictionary is used to determine the appropriate name to use in the query."
   ]
  },
  {
   "cell_type": "code",
   "execution_count": 12,
   "metadata": {
    "execution": {
     "iopub.execute_input": "2024-11-12T19:32:49.337674Z",
     "iopub.status.busy": "2024-11-12T19:32:49.337285Z",
     "iopub.status.idle": "2024-11-12T19:32:49.339960Z",
     "shell.execute_reply": "2024-11-12T19:32:49.339530Z"
    }
   },
   "outputs": [],
   "source": [
    "instrument_name = {\"MSA\": \"NIRSPEC/MSA\", \"IFU\": \"NIRSPEC/IFU\", \"S1600A1\": \"NIRSPEC/SLIT\", \"S200A1\": \"NIRSPEC/SLIT\",\n",
    "                   \"S200A2\": \"NIRSPEC/SLIT\", \"S400A1\": \"NIRSPEC/SLIT\", \"S200B1\": \"NIRSPEC/SLIT\"}"
   ]
  },
  {
   "cell_type": "markdown",
   "metadata": {},
   "source": [
    "Setup input catalog containing the target catalog number, aperture, RA, DEC, grating, filter, exposure time, search area, and instrument/mode name for each target. This format was chosen so that additional targets can easily be added to the input catalog list. Although these are the primary considerations for duplication checking, additional criteria can also be added using this dictionary format. It may be useful to check which [observation fields](https://mast.stsci.edu/api/v0/_c_a_o_mfields.html) are available for filtering NIRSpec data using Astroquery.\n",
    "\n",
    "Note that NIRSpec FS or IFU spectroscopic observations can be considered duplications of MOS observations of the same astronomical target with similar wavelength coverage and resolution. Thus, it may be helpful to query for MOS observations as well when searching for FS or IFU observation potential duplicates.\n",
    "\n"
   ]
  },
  {
   "cell_type": "code",
   "execution_count": 13,
   "metadata": {
    "execution": {
     "iopub.execute_input": "2024-11-12T19:32:49.341806Z",
     "iopub.status.busy": "2024-11-12T19:32:49.341492Z",
     "iopub.status.idle": "2024-11-12T19:32:49.346789Z",
     "shell.execute_reply": "2024-11-12T19:32:49.346371Z"
    }
   },
   "outputs": [],
   "source": [
    "# Input Catalog to use in query\n",
    "\n",
    "target1_number = \"1\"\n",
    "target1_aperture = \"MSA\"\n",
    "target1_RA = 53.13\n",
    "target1_DEC = -27.8\n",
    "target1_grating = \"G395H\"\n",
    "target1_filters = \"F290LP\"\n",
    "target1_exposure_time = 950\n",
    "target1_search_area = search_area[target1_aperture]\n",
    "target1_instrument_name = instrument_name[target1_aperture]\n",
    "target1 = {'number': target1_number, 'RA': target1_RA, 'DEC': target1_DEC, 'grating': target1_grating, \n",
    "           'filters': target1_filters, 'exposure_time': target1_exposure_time, 'search_area': target1_search_area,\n",
    "           'instrument_name': target1_instrument_name}\n",
    "\n",
    "target2_number = \"2\"\n",
    "target2_aperture = \"IFU\"\n",
    "target2_RA = 68.73091\n",
    "target2_DEC = 24.48140\n",
    "target2_grating = \"G395H\"\n",
    "target2_filters = \"F290LP\"\n",
    "target2_exposure_time = 22.749\n",
    "target2_search_area = search_area[target2_aperture]\n",
    "target2_instrument_name = instrument_name[target2_aperture]\n",
    "target2 = {'number': target2_number, 'RA': target2_RA, 'DEC': target2_DEC, 'grating': target2_grating,\n",
    "           'filters': target2_filters, 'exposure_time': target2_exposure_time, 'search_area': target2_search_area,\n",
    "           'instrument_name': target2_instrument_name} \n",
    "           \n",
    "target3_number = \"3\"\n",
    "target3_aperture = \"S200B1\"\n",
    "target3_RA = 5.130\n",
    "target3_DEC = -36.895\n",
    "target3_grating = \"G140H\"\n",
    "target3_filters = \"F070LP\"\n",
    "target3_exposure_time = 1880.22\n",
    "target3_search_area = search_area[target3_aperture]\n",
    "target3_instrument_name = instrument_name[target3_aperture]\n",
    "target3 = {'number': target3_number, 'RA': target3_RA, 'DEC': target3_DEC, 'grating': target3_grating,\n",
    "           'filters': target3_filters, 'exposure_time': target3_exposure_time, 'search_area': target3_search_area,\n",
    "           'instrument_name': target3_instrument_name} \n",
    "\n",
    "input_catalog = [target1, target2, target3]"
   ]
  },
  {
   "cell_type": "markdown",
   "metadata": {},
   "source": [
    "Import [MAST's Observations package](https://astroquery.readthedocs.io/en/latest/mast/mast.html#observation-criteria-queries) in order to query based on particular criteria other than position or target name. This package also allows you to search by 'proposal_pi' or other [observation fields](https://mast.stsci.edu/api/v0/_c_a_o_mfields.html). In the case of duplication checking, this query format is particularly useful because it allows users to search within a minimum and maximum RA and Dec value in addition to other parameters such as filters and gratings."
   ]
  },
  {
   "cell_type": "code",
   "execution_count": 14,
   "metadata": {
    "execution": {
     "iopub.execute_input": "2024-11-12T19:32:49.348495Z",
     "iopub.status.busy": "2024-11-12T19:32:49.348170Z",
     "iopub.status.idle": "2024-11-12T19:32:49.350594Z",
     "shell.execute_reply": "2024-11-12T19:32:49.350164Z"
    }
   },
   "outputs": [],
   "source": [
    "from astroquery.mast import Observations\n",
    "import numpy as np"
   ]
  },
  {
   "cell_type": "markdown",
   "metadata": {},
   "source": [
    "Next, a dictionary is generated using the target's catalog number as a key which contains observation tables for each target in the input catalog. "
   ]
  },
  {
   "cell_type": "code",
   "execution_count": 15,
   "metadata": {
    "execution": {
     "iopub.execute_input": "2024-11-12T19:32:49.352343Z",
     "iopub.status.busy": "2024-11-12T19:32:49.352024Z",
     "iopub.status.idle": "2024-11-12T19:32:54.004682Z",
     "shell.execute_reply": "2024-11-12T19:32:54.004138Z"
    },
    "scrolled": true
   },
   "outputs": [
    {
     "name": "stderr",
     "output_type": "stream",
     "text": [
      "WARNING: InputWarning: Filter grating does not exist. This filter will be skipped. [astroquery.mast.discovery_portal]\n"
     ]
    },
    {
     "name": "stdout",
     "output_type": "stream",
     "text": [
      "The observation table below contains potential duplicate observations for \n",
      "          target 1 in the input catalog.\n",
      "intentType obs_collection provenance_name ... srcDen   obsid     objID  \n",
      "---------- -------------- --------------- ... ------ --------- ---------\n",
      "   science           JWST         CALJWST ...    nan 184082682 634753213\n",
      "   science           JWST         CALJWST ...    nan 184077491 634753315\n",
      "   science           JWST         CALJWST ...    nan 184077510 634753353\n",
      "   science           JWST         CALJWST ...    nan 184086672 634753426\n",
      "   science           JWST         CALJWST ...    nan 184085888 634753594\n",
      "\n"
     ]
    },
    {
     "name": "stderr",
     "output_type": "stream",
     "text": [
      "WARNING: NoResultsWarning: Query returned no results. [astroquery.mast.discovery_portal]\n"
     ]
    },
    {
     "name": "stdout",
     "output_type": "stream",
     "text": [
      "The observation table below contains potential duplicate observations for \n",
      "          target 2 in the input catalog.\n",
      "intentType obs_collection provenance_name ... srcDen   obsid     objID  \n",
      "---------- -------------- --------------- ... ------ --------- ---------\n",
      "   science           JWST         CALJWST ...    nan 174587286 622584325\n",
      "   science           JWST         CALJWST ...    nan 174587254 622584374\n",
      "   science           JWST         CALJWST ...    nan 174587266 622584395\n",
      "   science           JWST         CALJWST ...    nan 174587305 622584443\n",
      "   science           JWST         CALJWST ...    nan 174587324 622584550\n",
      "\n"
     ]
    },
    {
     "name": "stdout",
     "output_type": "stream",
     "text": [
      "The observation table below contains potential duplicate observations for \n",
      "          target 3 in the input catalog.\n",
      "intentType obs_collection provenance_name ... srcDen   obsid     objID  \n",
      "---------- -------------- --------------- ... ------ --------- ---------\n",
      "   science           JWST         CALJWST ...    nan 202703412 563235150\n",
      "   science           JWST         CALJWST ...    nan 202703511 563235167\n",
      "   science           JWST         CALJWST ...    nan 202703591 563235194\n",
      "   science           JWST         CALJWST ...    nan 202703639 563235222\n",
      "   science           JWST         CALJWST ...    nan 202703744 563235258\n",
      "\n"
     ]
    }
   ],
   "source": [
    "# Generate dictionary of observation tables\n",
    "table = {}\n",
    "for target in input_catalog:  # Loop through all targets in catalog\n",
    "    key=target['number']\n",
    "    # Perform query using information in the input catalog\n",
    "    table[key] = Observations.query_criteria(instrument_name = target['instrument_name'],\n",
    "                     s_ra=[(target['RA']-target['search_area']),(target['RA']+target['search_area'])],\n",
    "                     s_dec=[target['DEC']-target['search_area'],target['DEC']+target['search_area']],\n",
    "                     grating=target['grating'],\n",
    "                     filters=target['filters'],\n",
    "                     t_exptime=[(target['exposure_time'])/4,(target['exposure_time'])*4])\n",
    "    # Perform query for MOS data since FS and IFU observations can also be duplicates of MOS observations\n",
    "    if target['instrument_name'] != \"NIRSPEC/MSA\":\n",
    "        table[key+\"MOS\"] = Observations.query_criteria(instrument_name = \"NIRSPEC/MSA\",\n",
    "                         s_ra=[target['RA']-target['search_area'],target['RA']+target['search_area']],\n",
    "                         s_dec=[target['DEC']-target['search_area'],target['DEC']+target['search_area']],\n",
    "                         grating=target['grating'],\n",
    "                         filters=target['filters'],\n",
    "                         t_exptime=[(target['exposure_time'])/4,(target['exposure_time'])*4]\n",
    "                         )\n",
    "    print(\"\"\"The observation table below contains potential duplicate observations for \n",
    "          target {} in the input catalog.\"\"\".format(key))\n",
    "    print(table[key][:5])  # Remove the [:5] indexing to display all results\n",
    "    print()"
   ]
  },
  {
   "cell_type": "markdown",
   "metadata": {},
   "source": [
    "Because it is important to check these observations in APT to determine more robustly whether or not these potential duplicate observations would indeed be considered duplications, this tool can be used to retrieve the proposal IDs that can then be searched in APT."
   ]
  },
  {
   "cell_type": "code",
   "execution_count": 16,
   "metadata": {
    "execution": {
     "iopub.execute_input": "2024-11-12T19:32:54.006377Z",
     "iopub.status.busy": "2024-11-12T19:32:54.006204Z",
     "iopub.status.idle": "2024-11-12T19:32:54.092694Z",
     "shell.execute_reply": "2024-11-12T19:32:54.092195Z"
    }
   },
   "outputs": [
    {
     "name": "stdout",
     "output_type": "stream",
     "text": [
      "It may be helpful to check these proposal IDs in APT to compare proposal details: [1212, 1287, 1286, 1180, 3215, 1282, 1222]\n"
     ]
    }
   ],
   "source": [
    "# Print a list of the proposal IDs generated in the full table\n",
    "proposal_ids=[]\n",
    "for target in input_catalog:  # Go through every target in the input catalog\n",
    "    for proposal_id in table[target['number']]['proposal_id']:  # Loop through proposal IDs for each observation\n",
    "        if int(proposal_id) not in proposal_ids:  # Remove duplicates\n",
    "            proposal_ids.append(int(proposal_id))\n",
    "print(\"It may be helpful to check these proposal IDs in APT to compare proposal details:\", proposal_ids)"
   ]
  },
  {
   "cell_type": "code",
   "execution_count": 17,
   "metadata": {
    "execution": {
     "iopub.execute_input": "2024-11-12T19:32:54.094374Z",
     "iopub.status.busy": "2024-11-12T19:32:54.094202Z",
     "iopub.status.idle": "2024-11-12T19:32:54.535584Z",
     "shell.execute_reply": "2024-11-12T19:32:54.535066Z"
    }
   },
   "outputs": [
    {
     "name": "stdout",
     "output_type": "stream",
     "text": [
      "Product group IDs: [np.str_('184082682'), np.str_('184077491'), np.str_('184077510'), np.str_('184086672'), np.str_('184085888'), np.str_('184081863'), np.str_('184077795'), np.str_('184077831'), np.str_('184081418'), np.str_('184083268')]\n"
     ]
    }
   ],
   "source": [
    "# Get list of Product Group ID (obsid rather than Observation ID / obs_id)\n",
    "obs_ids=[]\n",
    "for target in input_catalog:  # Go through every target in the input catalog\n",
    "    for obs_id in table[target['number']]['obsid']:  # Loop through proposal IDs for each observation\n",
    "        if obs_id not in obs_ids:  # Remove duplicates\n",
    "            obs_ids.append(obs_id)\n",
    "print('Product group IDs:', obs_ids[:10])"
   ]
  },
  {
   "cell_type": "code",
   "execution_count": 18,
   "metadata": {
    "execution": {
     "iopub.execute_input": "2024-11-12T19:32:54.537178Z",
     "iopub.status.busy": "2024-11-12T19:32:54.537004Z",
     "iopub.status.idle": "2024-11-12T19:32:54.824543Z",
     "shell.execute_reply": "2024-11-12T19:32:54.824025Z"
    }
   },
   "outputs": [
    {
     "name": "stderr",
     "output_type": "stream",
     "text": [
      "WARNING: NoResultsWarning: No products to download. [astroquery.mast.observations]\n"
     ]
    }
   ],
   "source": [
    "# Download data products based on a Product Group ID such as '2003839997'\n",
    "# Data will download to a folder named \"mastDownload\" in present working directory unless a download directory is given as a parameter.\n",
    "# Warning: This cell may take a few minutes to run.\n",
    "product_group_ID = '2003839997'\n",
    "manifest = Observations.download_products(product_group_ID, download_dir=None)"
   ]
  },
  {
   "cell_type": "markdown",
   "metadata": {},
   "source": [
    "Note that if you would like to access proprietary data, you may need to log in first. More information can be found in the documenation on [Accessing Proprietary Data](https://astroquery.readthedocs.io/en/v0.3.7/mast/mast.html#accessing-proprietary-data)."
   ]
  },
  {
   "cell_type": "markdown",
   "metadata": {},
   "source": [
    "### Additional Resources"
   ]
  },
  {
   "cell_type": "markdown",
   "metadata": {},
   "source": [
    "A [notebook](https://github.com/spacetelescope/JWST_Planned_Observations/blob/master/Querying_JWST_in_astroquery.ipynb) is available which shows a target field by querying position. Another notebook provides details on [Mashup](https://github.com/spacetelescope/JWST_Planned_Observations/blob/master/Querying_JWST_in_mashup.ipynb). These notebooks may be useful for more general JWST duplication checking, as they provide information such as uploading a target list of files or visualizing results in [Aladin](https://aladin.u-strasbg.fr/). \n",
    "\n",
    "As noted in more detail in [Identifying Potential Duplicate Observations](https://jwst-docs.stsci.edu/jwst-duplication-checking/identifying-potential-duplicate-observations#IdentifyingPotentialDuplicateObservations-Portaltargetsearch), it is essential to check these targets in [APT](https://www.stsci.edu/scientific-community/software/astronomers-proposal-tool-apt).\n",
    "\n",
    "If you use astroquery, please cite the paper [Ginsburg, Sipőcz, Brasseur et al 2019](https://ui.adsabs.harvard.edu/abs/2019AJ....157...98G/abstract)."
   ]
  },
  {
   "cell_type": "markdown",
   "metadata": {},
   "source": [
    "#### About this Notebook:"
   ]
  },
  {
   "cell_type": "markdown",
   "metadata": {},
   "source": [
    "***Author:*** Teagan King, Science Support Analyst\n",
    "\n",
    "***Date Updated:*** March 12, 2021"
   ]
  },
  {
   "cell_type": "markdown",
   "metadata": {},
   "source": [
    "***"
   ]
  },
  {
   "cell_type": "markdown",
   "metadata": {},
   "source": [
    "[Top of Page](#top)\n",
    "<img style=\"float: right;\" src=\"https://raw.githubusercontent.com/spacetelescope/notebooks/master/assets/stsci_pri_combo_mark_horizonal_white_bkgd.png\" alt=\"Space Telescope Logo\" width=\"200px\"/> "
   ]
  }
 ],
 "metadata": {
  "kernelspec": {
   "display_name": "Python 3 (ipykernel)",
   "language": "python",
   "name": "python3"
  },
  "language_info": {
   "codemirror_mode": {
    "name": "ipython",
    "version": 3
   },
   "file_extension": ".py",
   "mimetype": "text/x-python",
   "name": "python",
   "nbconvert_exporter": "python",
   "pygments_lexer": "ipython3",
   "version": "3.11.10"
  }
 },
 "nbformat": 4,
 "nbformat_minor": 2
}
