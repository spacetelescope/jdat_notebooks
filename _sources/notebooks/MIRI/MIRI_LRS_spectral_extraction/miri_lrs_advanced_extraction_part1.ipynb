{
 "cells": [
  {
   "cell_type": "markdown",
   "id": "20ce4694",
   "metadata": {},
   "source": [
    "# MIRI LRS Slit Spectroscopy: Spectral Extraction using the JWST Pipeline\n",
    "\n",
    "July 2023\n",
    "\n",
    "**Use case:** Spectral extraction of slit spectra with the JWST calibration pipeline.<br>\n",
    "**Data:** Publicly available science data<br>\n",
    "**Tools:** jwst, matplotlib, astropy.<br>\n",
    "**Cross-intrument:** NIRSpec, MIRI.<br>\n",
    "**Documentation:** This notebook is part of a STScI's larger [post-pipeline Data Analysis Tools Ecosystem](https://jwst-docs.stsci.edu/jwst-post-pipeline-data-analysis) and can be [downloaded](https://github.com/spacetelescope/dat_pyinthesky/tree/main/jdat_notebooks/MRS_Mstar_analysis) directly from the [JDAT Notebook Github directory](https://github.com/spacetelescope/jdat_notebooks).<br>\n",
    "\n",
    "### Introduction: Spectral extraction in the JWST calibration pipeline\n",
    "\n",
    "The JWST calibration pipeline performs spectrac extraction for all spectroscopic data using basic default assumptions that are tuned to produce accurately calibrated spectra for the majority of science cases. This default method is a simple fixed-width boxcar extraction, where the spectrum is summed over a number of pixels along the cross-dispersion axis, over the valid wavelength range. An aperture correction is applied at each pixel along the spectrum to account for flux lost from the finite-width aperture. \n",
    "\n",
    "The ``extract_1d`` step uses the following inputs for its algorithm:\n",
    "- the spectral extraction reference file: this is a json-formatted file, available as a reference file from the [JWST CRDS system](https://jwst-crds.stsci.edu)\n",
    "- the bounding box: the ``assign_wcs`` step attaches a bounding box definition to the data, which defines the region over which a valid calibration is available. We will demonstrate below how to visualize this region. \n",
    "\n",
    "However the ``extract_1d`` step has the capability to perform more complex spectral extractions, requiring some manual editing of parameters and re-running of the pipeline step. \n",
    "\n",
    "\n",
    "### Aims\n",
    "\n",
    "This notebook will demonstrate how to re-run the spectral extraction step with different settings to illustrate the capabilities of the JWST calibration pipeline. \n",
    "\n",
    "\n",
    "### Assumptions\n",
    "\n",
    "We will demonstrate the spectral extraction methods on resampled, calibrated spectral images. The basic demo and two examples run on Level 3 data, in which the nod exposures have been combined into a single spectral image. Two examples will use the Level 2b data - one of the nodded exposures. \n",
    "\n",
    "\n",
    "### Test data\n",
    "\n",
    "The data used in this notebook is an observation of the Type Ia supernova SN2021aefx, observed by Jha et al in PID 2072 (Obs 1). These data were taken with zero exclusive access period, and published in [Kwok et al 2023](https://ui.adsabs.harvard.edu/abs/2023ApJ...944L...3K/abstract). You can retrieve the data from [this Box folder](https://stsci.box.com/s/i2xi18jziu1iawpkom0z2r94kvf9n9kb), and we recommend you place the files in the ``data/`` folder of this repository, or change the directory settings in the notebook prior to running. \n",
    "\n",
    "You can of course use your own data instead of the demo data. \n",
    "\n",
    "\n",
    "### JWST pipeline version and CRDS context\n",
    "\n",
    "This notebook was written using the calibration pipeline version 1.10.2. We set the CRDS context explicitly to 1089 to match the current latest version in MAST. If you use different pipeline versions or CRDS context, please read the relevant release notes ([here for pipeline](https://github.com/spacetelescope/jwst), [here for CRDS](https://jwst-crds.stsci.edu)) for possibly relevant changes.\n",
    "\n",
    "### Contents\n",
    "\n",
    "1. [The Level 3 data products](#l3data)\n",
    "2. [The spectral extraction reference file](#x1dref)\n",
    "3. [Example 1: Changing the aperture width](#ex1)\n",
    "4. [Example 2: Changing the aperture location](#ex2)\n",
    "5. [Example 3: Extraction with background subtraction](#ex3)\n",
    "6. [Example 4: Tapered column extraction](#ex4)\n",
    "\n"
   ]
  },
  {
   "cell_type": "markdown",
   "id": "14ff9543",
   "metadata": {},
   "source": [
    "## Import Packages"
   ]
  },
  {
   "cell_type": "markdown",
   "id": "e698ce3a-fdaf-4d3b-9109-b980794e94aa",
   "metadata": {},
   "source": [
    "- `astropy.io` fits for accessing FITS files\n",
    "- `os` for managing system paths\n",
    "- `matplotlib` for plotting data\n",
    "- `urllib` for downloading data\n",
    "- `tarfile` for unpacking data\n",
    "- `numpy` for basic array manipulation\n",
    "- `jwst` for running JWST pipeline and handling data products\n",
    "- `json` for working with json files\n",
    "- `crds` for working with JWST reference files"
   ]
  },
  {
   "cell_type": "code",
   "execution_count": null,
   "id": "3a130dd2",
   "metadata": {},
   "outputs": [],
   "source": [
    "# Set CRDS variables first\n",
    "import os\n",
    "\n",
    "os.environ['CRDS_CONTEXT'] = 'jwst_1089.pmap'\n",
    "os.environ['CRDS_PATH'] = os.environ['HOME']+'/crds_cache'\n",
    "os.environ['CRDS_SERVER_URL'] = 'https://jwst-crds.stsci.edu'\n",
    "print(f'CRDS cache location: {os.environ[\"CRDS_PATH\"]}')"
   ]
  },
  {
   "cell_type": "code",
   "execution_count": null,
   "id": "08ddf5f7",
   "metadata": {},
   "outputs": [],
   "source": [
    "%matplotlib inline\n",
    "import urllib.request\n",
    "import tarfile\n",
    "\n",
    "import numpy as np\n",
    "import matplotlib.pyplot as plt\n",
    "\n",
    "import astropy.io.fits as fits\n",
    "import astropy.units as u\n",
    "from astropy.modeling import models, fitting\n",
    "\n",
    "import jwst\n",
    "from jwst import datamodels\n",
    "from jwst.extract_1d import Extract1dStep\n",
    "\n",
    "from matplotlib.patches import Rectangle\n",
    "\n",
    "import json\n",
    "import crds\n",
    "\n",
    "print(f'Using JWST calibration pipeline version {jwst.__version__}')"
   ]
  },
  {
   "cell_type": "code",
   "execution_count": null,
   "id": "305103d5",
   "metadata": {},
   "outputs": [],
   "source": [
    "data_tar_url = 'https://data.science.stsci.edu/redirect/JWST/jwst-data_analysis_tools/MIRI_LRS_notebook/data.tar.gz'\n",
    "\n",
    "# Download and unpack data if needed\n",
    "if not os.path.exists(\"data.tar.gz\"):\n",
    "    print(\"Downloading Data\")\n",
    "    urllib.request.urlretrieve(data_tar_url, 'data.tar.gz')\n",
    "if not os.path.exists(\"data/\"):\n",
    "    print(\"Unpacking Data\")\n",
    "    with tarfile.open('./data.tar.gz', \"r:gz\") as tar:\n",
    "        tar.extractall()"
   ]
  },
  {
   "cell_type": "markdown",
   "id": "611086f4",
   "metadata": {},
   "source": [
    "## 1. The Level 3 Data Products <a id='l3data'></a>\n",
    "\n",
    "\n",
    "Let's start by plotting the main default Level 3 output products:\n",
    "* the ``s2d`` file: this is the 2D image built from the co-added resampled individual nod exposures. \n",
    "* the ``x1d`` file: this is the 1-D extracted spectrum, extracted from the Level 3 ``s2d`` file. \n",
    "\n",
    "The ``s2d`` image shows a bright central trace, flanked by two negative traces. These result from the combination of the nod exposures, each of which also contains a positive and negative trace due to being mutually subtracted for background subtraction. \n",
    "\n",
    "We restrict the short-wavelength end of the x-axis to 5 micron, as our calibration is very poor below this wavelength. The Level 3 spectrum is extracted from the resampled, dither-combined, calibrated exposure. "
   ]
  },
  {
   "cell_type": "code",
   "execution_count": null,
   "id": "a8012bfa",
   "metadata": {},
   "outputs": [],
   "source": [
    "l3_s2d_file = 'data/jw02072-o001_t010_miri_p750l_s2d_1089.fits'\n",
    "l3_s2d = datamodels.open(l3_s2d_file)\n",
    "fig, ax = plt.subplots(figsize=[2, 8])\n",
    "im2d = ax.imshow(l3_s2d.data, origin='lower', aspect='auto', cmap='gist_gray')\n",
    "ax.set_xlabel('column')\n",
    "ax.set_ylabel('row')\n",
    "ax.set_title('SN2021aefx - Level 3 resampled 2D spectral image')\n",
    "fig.colorbar(im2d)\n",
    "fig.show()"
   ]
  },
  {
   "cell_type": "code",
   "execution_count": null,
   "id": "c51f421b",
   "metadata": {},
   "outputs": [],
   "source": [
    "l3_file = 'data/jw02072-o001_t010_miri_p750l_x1d_1089.fits'\n",
    "l3_spec = datamodels.open(l3_file)\n",
    "\n",
    "fig2, ax2 = plt.subplots(figsize=[12, 4])\n",
    "ax2.plot(l3_spec.spec[0].spec_table['WAVELENGTH'], l3_spec.spec[0].spec_table['FLUX'])\n",
    "ax2.set_xlabel('wavelength (um)')\n",
    "ax2.set_ylabel('flux (Jy)')\n",
    "ax2.set_title('SN2021aefx - Level 3 spectrum in MAST (pmap 1089)')\n",
    "ax2.set_xlim(5., 14.)\n",
    "fig2.show()"
   ]
  },
  {
   "cell_type": "markdown",
   "id": "3ae110b4",
   "metadata": {},
   "source": [
    "## The spectral extraction reference file <a id='x1dref'></a>\n",
    "\n",
    "The reference file that tells the ``extract_1d`` algorithm what parameters to use is a text file using the `json` format that is available in [CRDS](https://jwst-crds.stsci.edu). The second reference file used in the extraction is the aperture correction; this corrects for the flux lost as a function of wavelength for the extraction aperture size used. You can use the datamodel attributes of the ``x1d`` file to check which extraction reference file was called by the algorithm. \n",
    "\n",
    "We show below how to examine the file programmatically to see what aperture was used to produce the default Level 3 spectrum shown above. **Note: this json file can easily be opened and edited with a simple text editor**.  \n",
    "\n",
    "Full documentation of the ``extract_1d`` reference file is available [here](https://jwst-pipeline.readthedocs.io/en/latest/jwst/extract_1d/reference_files.html). We recommend you read this page and any links therein carefully to understand how the parameters in the file are applied to the data. "
   ]
  },
  {
   "cell_type": "code",
   "execution_count": null,
   "id": "f0574ee0-84a0-4fa8-ae54-d7b6ca34a7a7",
   "metadata": {
    "tags": []
   },
   "outputs": [],
   "source": [
    "print(f'Spectral extraction reference file used: {l3_spec.meta.ref_file.extract1d.name}')"
   ]
  },
  {
   "cell_type": "code",
   "execution_count": null,
   "id": "95f20a0a-0f24-4d4b-8480-2c37574ad6e8",
   "metadata": {
    "tags": []
   },
   "outputs": [],
   "source": [
    "file_path = 'data/jw02072-o001_t010_miri_p750l_x1d_1089.fits'\n",
    "with fits.open(file_path) as hdul:\n",
    "    header = hdul[0].header\n",
    "    json_ref_default = crds.getreferences(header)['extract1d']\n",
    "\n",
    "    with open(json_ref_default) as json_ref:\n",
    "        x1dref_default = json.load(json_ref)\n",
    "        print('Settings for SLIT data: {}'.format(x1dref_default['apertures'][0]))\n",
    "        print('  ')\n",
    "        print('Settings for SLITLESS data: {}'.format(x1dref_default['apertures'][1]))"
   ]
  },
  {
   "cell_type": "markdown",
   "id": "ecc11d6b",
   "metadata": {},
   "source": [
    "Let's look at what's in this file. \n",
    "\n",
    "* **id**: identification label, in this case specifying the exposure type the parameters will be applied to.\n",
    "* **region_type**: optional, if included must be set to 'target'\n",
    "* **disp_axis**: defines the direction of dispersion (1 for x-axis, 2 for y-axis). **For MIRI LRS this should always be set to 2**. \n",
    "* **xstart** (int): first pixel in the horizontal direction (x-axis; 0-indexed) \n",
    "* **xstop** (int): last pixel in the horizontal direction (x-axis; 0-indexed; limit is **inclusive**)\n",
    "* **bkg_order**: \n",
    "* **use_source_posn** (True/False): if True, this will use the target coordinates to locate the target in the field, and offset the extraction aperture to this location. **We recommend this is set to False**. \n",
    "* **bkg_order**: the polynomial order to be used for background fitting. if the accompanying parameter **bkg_coeff** is not provided, no background fitting will be performed. **For MIRI LRS slit data, default background subtraction is achieved in the Spec2Pipeline, by mutually subtracting nod expsosures**.\n",
    "\n",
    "As for MIRI LRS the dispersion is in the vertical direction (i.e. `disp_axis` = 2), the extraction aperture width is specified with the coordinates `xstart` and `xstop`. If no coordinates `ystart` and `ystop` are provided, the spectrum will be extracted over the full height of the ``s2d`` cutout region. We can illustrate the default extraction parameters on the Level 3 ``s2d`` file. \n"
   ]
  },
  {
   "cell_type": "code",
   "execution_count": null,
   "id": "703f59cd",
   "metadata": {},
   "outputs": [],
   "source": [
    "xstart = x1dref_default['apertures'][0]['xstart']\n",
    "xstop = x1dref_default['apertures'][0]['xstop']\n",
    "ap_height = np.shape(l3_s2d.data)[0]\n",
    "ap_width = xstop - xstart + 1\n",
    "x1d_rect = Rectangle(xy=(xstart, 0), width=ap_width, height=ap_height, angle=0., edgecolor='red',\n",
    "                     facecolor='None', ls='-', lw=1.5)\n",
    "\n",
    "fig, ax = plt.subplots(figsize=[2, 8])\n",
    "im2d = ax.imshow(l3_s2d.data, origin='lower', aspect='auto', cmap='gist_gray')\n",
    "ax.add_patch(x1d_rect)\n",
    "ax.set_xlabel('column')\n",
    "ax.set_ylabel('row')\n",
    "ax.set_title('SN2021aefx - Level 3 resampled 2D spectral image')\n",
    "fig.colorbar(im2d)\n",
    "fig.show()"
   ]
  },
  {
   "cell_type": "markdown",
   "id": "1fd784d9",
   "metadata": {},
   "source": [
    "## Example 1: Changing the extraction width <a id='ex1'></a>\n",
    "\n",
    "In this example, we demonstrate how to change the extraction width from the default. Instead of 8 pixels, we'll extract 12, keeping the aperture centred on the trace. \n",
    "\n",
    "We will modify the values in the json files in python in this notebook, but the file can also simply be edited in a text editor. "
   ]
  },
  {
   "cell_type": "code",
   "execution_count": null,
   "id": "06dc8eb5",
   "metadata": {},
   "outputs": [],
   "source": [
    "xstart2 = xstart - 2\n",
    "xstop2 = xstop + 2\n",
    "print('New xstart, xstop values = {0},{1}'.format(xstart2, xstop2))\n",
    "\n",
    "with open(json_ref_default) as json_ref:\n",
    "    x1dref_default = json.load(json_ref)\n",
    "    x1dref_ex1 = x1dref_default.copy()\n",
    "    x1dref_ex1['apertures'][0]['xstart'] = xstart2\n",
    "    x1dref_ex1['apertures'][0]['xstop'] = xstop2\n",
    "\n",
    "with open('x1d_reffile_example1.json', 'w') as jsrefout:\n",
    "    json.dump(x1dref_ex1, jsrefout, indent=4)"
   ]
  },
  {
   "cell_type": "code",
   "execution_count": null,
   "id": "5bc85413",
   "metadata": {},
   "outputs": [],
   "source": [
    "ap_width2 = xstop2 - xstart2 + 1\n",
    "x1d_rect1 = Rectangle(xy=(xstart, 0), width=ap_width, height=ap_height, angle=0., edgecolor='red',\n",
    "                      facecolor='None', ls='-', lw=1, label='8-px aperture (default)')\n",
    "\n",
    "x1d_rect2 = Rectangle(xy=(xstart2, 0), width=ap_width2, height=ap_height, angle=0., edgecolor='cyan',\n",
    "                      facecolor='None', ls='-', lw=1, label='12-px aperture')\n",
    "\n",
    "fig4, ax4 = plt.subplots(figsize=[2, 8])\n",
    "im2d = ax4.imshow(l3_s2d.data, origin='lower', aspect='auto', cmap='gist_gray')\n",
    "# ax4.add_collection(aps_collection)\n",
    "ax4.add_patch(x1d_rect1)\n",
    "ax4.add_patch(x1d_rect2)\n",
    "\n",
    "ax4.set_xlabel('column')\n",
    "ax4.set_ylabel('row')\n",
    "ax4.set_title('Example 1: Default vs modified extraction aperture')\n",
    "ax4.legend(loc=3)\n",
    "fig.colorbar(im2d)\n",
    "fig.show()"
   ]
  },
  {
   "cell_type": "markdown",
   "id": "87efcb9f",
   "metadata": {},
   "source": [
    "Next we run the spectral extraction step, using this modified reference file. Note: when a step is run individually the file name suffix is different from when we run the Spec3Pipeline in its entirety. The extracted spectrum will now have ``extract1dstep.fits`` in the filename. The custom parameters we pass to the step call:\n",
    "\n",
    "* ``output_file``: we provide a custom output filename for this example (including an output filename renders the ``save_results`` parameter obsolete)\n",
    "* ``override_extract1d``: here we provide the name of the custom reference file we created above\n",
    "\n",
    "We will plot the output against the default extracted product. We expect the spectra to be almost identical; differences can be apparent at the longer wavelengths as our path loss correction is less well calibrated in this low SNR region. "
   ]
  },
  {
   "cell_type": "code",
   "execution_count": null,
   "id": "7304f758",
   "metadata": {},
   "outputs": [],
   "source": [
    "sp3_ex1 = Extract1dStep.call(l3_s2d, output_dir='data/', \n",
    "                             output_file='lrs_slit_extract_example1', override_extract1d='x1d_reffile_example1.json')"
   ]
  },
  {
   "cell_type": "code",
   "execution_count": null,
   "id": "91199fd1",
   "metadata": {},
   "outputs": [],
   "source": [
    "print(sp3_ex1)"
   ]
  },
  {
   "cell_type": "code",
   "execution_count": null,
   "id": "91ebfc64",
   "metadata": {},
   "outputs": [],
   "source": [
    "fig5, ax5 = plt.subplots(figsize=[12, 4])\n",
    "ax5.plot(l3_spec.spec[0].spec_table['WAVELENGTH'], l3_spec.spec[0].spec_table['FLUX'], label='8-px aperture')\n",
    "ax5.plot(sp3_ex1.spec[0].spec_table['WAVELENGTH'], sp3_ex1.spec[0].spec_table['FLUX'], label='12-px aperture')\n",
    "ax5.set_xlabel('wavelength (um)')\n",
    "ax5.set_ylabel('flux (Jy)')\n",
    "ax5.set_title('Example 1: Difference aperture sizes')\n",
    "ax5.set_xlim(5., 14.)\n",
    "ax5.legend()\n",
    "fig5.show()"
   ]
  },
  {
   "cell_type": "markdown",
   "id": "f28a4f8e",
   "metadata": {},
   "source": [
    "## Example 2: Changing aperture location<a id='ex2'></a>\n",
    "\n",
    "In this example we will demonstrate spectral extraction at a different location in the slit. A good use case for this is to extract a spectrum from one of the nodded exposures, prior to combination of the nods in the Spec3Pipeline. We will take the ``s2d`` output from the Spec2Pipeline, and extract the spectrum. In the nod 1 exposure we see the spectrum peak is located in column 13 (0-indexed), and we extract a default 8-px fixed-width aperture. "
   ]
  },
  {
   "cell_type": "code",
   "execution_count": null,
   "id": "8a8cf793",
   "metadata": {},
   "outputs": [],
   "source": [
    "l2_s2d_file = 'data/jw02072001001_06101_00001_mirimage_s2d.fits'\n",
    "l2_s2d = datamodels.open(l2_s2d_file)"
   ]
  },
  {
   "cell_type": "code",
   "execution_count": null,
   "id": "55c81453",
   "metadata": {},
   "outputs": [],
   "source": [
    "xstart3 = 9\n",
    "xstop3 = 17\n",
    "\n",
    "with open(json_ref_default) as json_ref:\n",
    "    x1dref_default = json.load(json_ref)\n",
    "    x1dref_ex2 = x1dref_default.copy()\n",
    "    x1dref_ex2['apertures'][0]['xstart'] = xstart3\n",
    "    x1dref_ex2['apertures'][0]['xstop'] = xstop3\n",
    "\n",
    "with open('x1d_reffile_example2.json', 'w') as jsrefout:\n",
    "    json.dump(x1dref_ex2, jsrefout, indent=4)"
   ]
  },
  {
   "cell_type": "code",
   "execution_count": null,
   "id": "fe340506",
   "metadata": {},
   "outputs": [],
   "source": [
    "ap_width3 = xstop3 - xstart3 + 1\n",
    "x1d_rect3 = Rectangle(xy=(xstart3, 0), width=ap_width3, height=ap_height, angle=0., edgecolor='red',\n",
    "                      facecolor='None', ls='-', lw=1, label='8-px aperture at nod 1 location')\n",
    "\n",
    "fig6, ax6 = plt.subplots(figsize=[2, 8])\n",
    "im2d = ax6.imshow(l2_s2d.data, origin='lower', aspect='auto', cmap='gist_gray')\n",
    "ax6.add_patch(x1d_rect3)\n",
    "ax6.set_xlabel('column')\n",
    "ax6.set_ylabel('row')\n",
    "ax6.set_title('Example 2: Different aperture location')\n",
    "ax6.legend(loc=3)\n",
    "fig6.colorbar(im2d)\n",
    "fig6.show()"
   ]
  },
  {
   "cell_type": "code",
   "execution_count": null,
   "id": "3b0b287b",
   "metadata": {},
   "outputs": [],
   "source": [
    "sp2_ex2 = Extract1dStep.call(l2_s2d_file, output_dir='data/', output_file='lrs_slit_extract_example2',\n",
    "                             override_extract1d='x1d_reffile_example2.json')"
   ]
  },
  {
   "cell_type": "markdown",
   "id": "32eaa24e",
   "metadata": {},
   "source": [
    "Let's again plot the output against the default extracted product. We expect this 1-nod spectrum to be noisier but not significantly different from the combined product. The spectrum may have more bad pixels that manifest as spikes or dips in the spectrum. "
   ]
  },
  {
   "cell_type": "code",
   "execution_count": null,
   "id": "ce8eccfb",
   "metadata": {},
   "outputs": [],
   "source": [
    "fig7, ax7 = plt.subplots(figsize=[12, 4])\n",
    "ax7.plot(l3_spec.spec[0].spec_table['WAVELENGTH'], l3_spec.spec[0].spec_table['FLUX'], label='default location (nods combined)')\n",
    "ax7.plot(sp2_ex2.spec[0].spec_table['WAVELENGTH'], sp2_ex2.spec[0].spec_table['FLUX'], label='nod 1 location (single nod)')\n",
    "ax7.set_xlabel('wavelength (um)')\n",
    "ax7.set_ylabel('flux (Jy)')\n",
    "ax7.set_title('Example 2: Different aperture locations')\n",
    "ax7.set_xlim(5., 14.)\n",
    "ax7.legend()\n",
    "fig7.show()"
   ]
  },
  {
   "cell_type": "markdown",
   "id": "39492ab3",
   "metadata": {},
   "source": [
    "## Example 3: Extraction with background subtraction<a id='ex3'></a>\n",
    "\n",
    "For LRS slit observations, the default background subtraction strategy is performed in the ``background`` step in the Spec2Pipeline; the 2 nodded exposures are mutually subtracted, resulting in each returning a 2D spectral image with a positive and a negative trace, and the background subtracted. \n",
    "\n",
    "For non-standard cases or slitless LRS data it is however possible to subtract a background as part of the spectral extraction in ``extract_1d``. In the ``extract_1d`` reference file we can pass specific parameters for the background:\n",
    "* bkg_coeff (list or list of floats): the regions to be used as background. **This is the main parameter required for background subtraction**\n",
    "* bkg_fit (string): the type or method of the background computation. (e.g. None, 'poly', 'mean' or 'median')\n",
    "* bkg_order (int): the order of polynomial to fit to background regions. if bkg_fit is not set to 'poly', this parameter will be ignored. \n",
    "* smoothing_length (odd int; optional): the width of the boxcar filter that will be used to smooth the background signal in the dispersion direction. This can provide a better quality in case of noisy data. \n",
    "\n",
    "The 'poly' option for the ``bkg_fit`` parameter will take the value of all pixels in the background region on a given row, and fit a polynomial of order ``bkg_order`` to them. This option can be useful in cases where a gradient is present in the background. \n",
    "\n",
    "The data we're using here already has the background subtracted so we expect the impact of this to be minimal, but we provide a demonstration using the nod 1, level 2b spectral image. In this example we will calculate the background from 2 4-column windows, setting the ``bkg_fit`` to 'median'. \n",
    "\n"
   ]
  },
  {
   "cell_type": "code",
   "execution_count": null,
   "id": "b4ea99ea",
   "metadata": {},
   "outputs": [],
   "source": [
    "rows = [140, 200, 325]\n",
    "fig8, ax8 = plt.subplots(figsize=[8, 4])\n",
    "ncols = np.shape(l2_s2d.data)[1]\n",
    "pltx = np.arange(ncols)\n",
    "for rr in rows:\n",
    "    label = 'row {}'.format(rr)\n",
    "    ax8.plot(pltx, l2_s2d.data[rr, :], label=label)\n",
    "ax8.axvline(x=1, ymin=0, ymax=1, ls='--', lw=1., color='coral', label='background regions')\n",
    "ax8.axvline(x=5, ymin=0, ymax=1, ls='--', lw=1., color='coral')\n",
    "ax8.axvline(x=39, ymin=0, ymax=1, ls='--', lw=1., color='coral')\n",
    "ax8.axvline(x=43, ymin=0, ymax=1, ls='--', lw=1., color='coral')\n",
    "ax8.legend()\n",
    "fig8.show()"
   ]
  },
  {
   "cell_type": "code",
   "execution_count": null,
   "id": "1238d6c9",
   "metadata": {},
   "outputs": [],
   "source": [
    "with open(json_ref_default) as json_ref:\n",
    "    x1dref_default = json.load(json_ref)\n",
    "    x1dref_ex3 = x1dref_default.copy()\n",
    "    x1dref_ex3['apertures'][0]['xstart'] = xstart3\n",
    "    x1dref_ex3['apertures'][0]['xstop'] = xstop3\n",
    "    x1dref_ex3['apertures'][0]['bkg_coeff'] = [[0.5], [4.5], [38.5], [43.5]]\n",
    "    x1dref_ex3['apertures'][0]['bkg_fit'] = 'median'\n",
    "\n",
    "with open('x1d_reffile_example3.json', 'w') as jsrefout:\n",
    "    json.dump(x1dref_ex3, jsrefout, indent=4)"
   ]
  },
  {
   "cell_type": "code",
   "execution_count": null,
   "id": "ac0d2746",
   "metadata": {},
   "outputs": [],
   "source": [
    "sp2_ex3 = Extract1dStep.call(l2_s2d_file, output_dir='data/', output_file='lrs_slit_extract_example3',\n",
    "                             override_extract1d='x1d_reffile_example3.json')"
   ]
  },
  {
   "cell_type": "markdown",
   "id": "45b69d9b",
   "metadata": {},
   "source": [
    "When the ``extract_1d`` step performs a background subtraction, the background spectrum is part of the output product, so you can check what was subtracted. In the plot below we can see that, as expected, the background for this particular exposure is near-zero (apart from the noisy long-wavelength end), as the subtraction was already performed. "
   ]
  },
  {
   "cell_type": "code",
   "execution_count": null,
   "id": "7210c9ac",
   "metadata": {},
   "outputs": [],
   "source": [
    "fig9, ax9 = plt.subplots(nrows=2, ncols=1, figsize=[12, 4])\n",
    "# ax9.plot(l3_spec.spec[0].spec_table['WAVELENGTH'], l3_spec.spec[0].spec_table['FLUX'], label='default location (nods combined)')\n",
    "ax9[0].plot(sp2_ex2.spec[0].spec_table['WAVELENGTH'], sp2_ex2.spec[0].spec_table['FLUX'], label='nod 1 spectrum - no bkg sub')\n",
    "ax9[0].plot(sp2_ex3.spec[0].spec_table['WAVELENGTH'], sp2_ex3.spec[0].spec_table['FLUX'], label='nod 1 spectrum - with bkg sub')\n",
    "ax9[1].plot(sp2_ex3.spec[0].spec_table['WAVELENGTH'], sp2_ex3.spec[0].spec_table['BACKGROUND'], label='background')\n",
    "ax9[1].set_xlabel('wavelength (um)')\n",
    "ax9[0].set_ylabel('flux (Jy)')\n",
    "ax9[0].set_title('Example 3: Extraction with background subtraction')\n",
    "ax9[0].set_xlim(5., 14.)\n",
    "ax9[1].set_xlim(5., 14.)\n",
    "ax9[0].legend()\n",
    "ax9[1].legend()\n",
    "fig9.show()"
   ]
  },
  {
   "cell_type": "markdown",
   "id": "e01786eb",
   "metadata": {},
   "source": [
    "## Example 4: Tapered column extraction<a id='ex4'></a>\n",
    "\n",
    "In this example we will use the JWST calibration pipeline to perform a spectral extraction in a tapered column aperture. The way to specify this in the extraction reference file is to use the ``src_soeff`` parameter instead of the simpler ``xstart``, ``xstop`` settings. The ``src_coeff`` parameter can take polynomial coefficients rather than fixed pixel values. In this example, we will define a tapered column aperture corresponding to 3 * the FWHM of the spatial profile. \n",
    "\n",
    "Polynomial definitions for the extraction aperture can be specified as a function of pixels or wavelength, which is defined in the ``independent_var`` parameter. \n",
    "\n",
    "We will use pre-measured FWHM values as a function of **wavelength** to fit a straight line to the FWHM($\\lambda$) profile, and set the extraction parameters according to this fit. The FWHM can of course also be measured directly from the data as well. "
   ]
  },
  {
   "cell_type": "code",
   "execution_count": null,
   "id": "9e3c2433",
   "metadata": {},
   "outputs": [],
   "source": [
    "def calc_xap_fit():\n",
    "    # these are values measured from commissioning data. FWHM is in arcsec.\n",
    "    lam = [5.0, 7.5, 10.0, 12.0]\n",
    "    fwhm = [0.29, 0.3, 0.36, 0.42]\n",
    "\n",
    "    # convert from arcsec to pixel using MIRI pixel scaling of 0.11 arcsec/px\n",
    "    fwhm_px = fwhm / (0.11*u.arcsec/u.pixel)\n",
    "\n",
    "    # we want to extract 3 * fwhm, which means 1.5 * fwhm on either side of the trace\n",
    "    xap_pix = 1.5 * fwhm_px\n",
    "\n",
    "    # now we want to fit a line to these points\n",
    "    line_init = models.Linear1D()\n",
    "    fit = fitting.LinearLSQFitter()\n",
    "\n",
    "    fitted_line = fit(line_init, lam, xap_pix.value)\n",
    "    print(fitted_line)\n",
    "\n",
    "    fig, ax = plt.subplots(figsize=[8, 4])\n",
    "    xplt = np.linspace(4.0, 14., num=50)\n",
    "    ax.plot(lam, xap_pix.value, 'rx', label='1.5 * FWHM(px)')\n",
    "    ax.plot(xplt, fitted_line(xplt), 'b-', label='best-fit line')\n",
    "    ax.set_xlabel('wavelength')\n",
    "    ax.set_ylabel('px')\n",
    "    ax.legend()\n",
    "\n",
    "    return fitted_line"
   ]
  },
  {
   "cell_type": "code",
   "execution_count": null,
   "id": "e21fcec5",
   "metadata": {},
   "outputs": [],
   "source": [
    "poly_pos = calc_xap_fit()\n",
    "print(poly_pos.slope, poly_pos.intercept)"
   ]
  },
  {
   "cell_type": "markdown",
   "id": "f7dc8785",
   "metadata": {},
   "source": [
    "The above polynomial defines the relationship between wavelength and the number of pixels to extract. To ensure that the extractio location is centred on the location of the spectrum, we add to the intercept value the central location of the trace, which is at column 30.5. \n",
    "\n",
    "In the next cell, we provide these parameters to the ``src_coeff`` parameter in the extraction reference file. **Note: The ``src_coeff`` parameter takes precedence over the ``xstart`` and ``xstop`` parameters if all 3 are present; for clarity we remove the latter from our reference file.**"
   ]
  },
  {
   "cell_type": "code",
   "execution_count": null,
   "id": "a9c9d403",
   "metadata": {},
   "outputs": [],
   "source": [
    "trace_cen = 30.5\n",
    "\n",
    "with open(json_ref_default) as json_ref:\n",
    "    x1dref_default = json.load(json_ref)\n",
    "    x1dref_ex4 = x1dref_default.copy()\n",
    "    x1dref_ex4['apertures'][0]['xstart'] = None\n",
    "    x1dref_ex4['apertures'][0]['xstop'] = None\n",
    "    x1dref_ex4['apertures'][0]['independent_var'] = 'wavelength'\n",
    "    x1dref_ex4['apertures'][0]['src_coeff'] = [[-1*poly_pos.intercept.value + trace_cen, -1*poly_pos.slope.value], [poly_pos.intercept.value + trace_cen, poly_pos.slope.value]]\n",
    "\n",
    "with open('x1d_reffile_example4.json', 'w') as jsrefout:\n",
    "    json.dump(x1dref_ex4, jsrefout, indent=4)"
   ]
  },
  {
   "cell_type": "code",
   "execution_count": null,
   "id": "71789e83",
   "metadata": {},
   "outputs": [],
   "source": [
    "sp3_ex4 = Extract1dStep.call(l3_s2d, output_dir='data/', \n",
    "                             output_file='lrs_slit_extract_example4', override_extract1d='x1d_reffile_example4.json')"
   ]
  },
  {
   "cell_type": "code",
   "execution_count": null,
   "id": "9d1bc74c",
   "metadata": {},
   "outputs": [],
   "source": [
    "fig10, ax10 = plt.subplots(figsize=[12, 4])\n",
    "ax10.plot(l3_spec.spec[0].spec_table['WAVELENGTH'], l3_spec.spec[0].spec_table['FLUX'], label='default fixed-width aperture')\n",
    "ax10.plot(sp3_ex4.spec[0].spec_table['WAVELENGTH'], sp3_ex4.spec[0].spec_table['FLUX'], label='tapered column aperture')\n",
    "ax10.set_xlabel('wavelength (um)')\n",
    "ax10.set_ylabel('flux (Jy)')\n",
    "ax10.set_title('Example 4: Tapered column vs. fixed-width extraction aperture')\n",
    "ax10.set_xlim(5., 14.)\n",
    "ax10.legend()\n",
    "fig10.show()"
   ]
  },
  {
   "cell_type": "markdown",
   "id": "378f8393",
   "metadata": {},
   "source": [
    "The output spectrum also contains a reference to the number of pixels used for the extraction as a function of wavelength. Let's visualize that too. \n"
   ]
  },
  {
   "cell_type": "code",
   "execution_count": null,
   "id": "78ca0c68",
   "metadata": {},
   "outputs": [],
   "source": [
    "fig11, ax11 = plt.subplots(figsize=[12, 4])\n",
    "ax11.plot(l3_spec.spec[0].spec_table['WAVELENGTH'], l3_spec.spec[0].spec_table['NPIXELS'], label='default fixed-width aperture')\n",
    "ax11.plot(sp3_ex4.spec[0].spec_table['WAVELENGTH'], sp3_ex4.spec[0].spec_table['NPIXELS'], label='tapered column aperture')\n",
    "ax11.set_xlabel('wavelength (um)')\n",
    "ax11.set_ylabel('number of pixels')\n",
    "ax11.set_title('Example 4: Number of pixels extracted')\n",
    "ax11.set_xlim(5., 14.)\n",
    "ax11.legend()\n",
    "fig11.show()"
   ]
  },
  {
   "cell_type": "markdown",
   "id": "f4501ee7",
   "metadata": {},
   "source": [
    "## Summary\n",
    "\n",
    "We hope this notebook was useful in helping you understand the capabilities of the JWST calibration for spectral extraction. The above examples are not an exhaustive list of all the possibilities: different methods of source and background extraction can be combined for more complex extraction operations. \n",
    "\n",
    "**If you have any questions, comments, or requests for further demos of these capabilities, please contact the [JWST Helpdesk](http://jwsthelp.stsci.edu/).**"
   ]
  }
 ],
 "metadata": {
  "kernelspec": {
   "display_name": "Python 3 (ipykernel)",
   "language": "python",
   "name": "python3"
  },
  "language_info": {
   "codemirror_mode": {
    "name": "ipython",
    "version": 3
   },
   "file_extension": ".py",
   "mimetype": "text/x-python",
   "name": "python",
   "nbconvert_exporter": "python",
   "pygments_lexer": "ipython3",
   "version": "3.9.17"
  }
 },
 "nbformat": 4,
 "nbformat_minor": 5
}
