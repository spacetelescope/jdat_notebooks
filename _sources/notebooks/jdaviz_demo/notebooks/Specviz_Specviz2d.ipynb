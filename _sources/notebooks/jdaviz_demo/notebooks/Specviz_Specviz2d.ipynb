{
 "cells": [
  {
   "cell_type": "markdown",
   "id": "b3107cd8-8ea8-4289-b3bb-6046ea69f77f",
   "metadata": {},
   "source": [
    "<img style=\"float: center;\" src='https://github.com/STScI-MIRI/MRS-ExampleNB/raw/main/assets/banner1.png' alt=\"stsci_logo\" width=\"1000px\"/> \n",
    "\n",
    "# Specviz and Specviz2D Demo\n",
    "-----\n",
    "\n",
    "**Author: Hatice Karatay, Space Telescope Science Institute**<br>\n",
    "**Last update: May 27, 2025**"
   ]
  },
  {
   "cell_type": "markdown",
   "id": "b72dcde3-9105-4923-8a7d-07fa27d9c215",
   "metadata": {},
   "source": [
    "This demo will introduce you to **Specviz** and **Specviz2D**, two tools in JDAViz designed for exploring and analyzing 1D and 2D spectra. I will walk through their features, learn how to interact with spectral data, and explore tools and plugins to enhance your analysis workflow.\n",
    "\n",
    "Let's dive in!\n",
    "\n",
    "## Content\n",
    "1. **Introduction to Specviz**\n",
    "   - Loading and visualizing 1D spectral data.\n",
    "   - Exploring tools and plugins, such as Plot Options and Subset Tools.\n",
    "   - Navigating tools for zooming, panning, and color adjustments.\n",
    "   - Selecting subsets and analyzing specific regions of spectra.\n",
    "   - Exporting data and visualizations.\n",
    "2. **Introduction to Specviz2D**\n",
    "   - Loading and exploring 2D spectral data.\n",
    "   - Extracting 1D spectra from 2D data for detailed analysis.\n",
    "   - Configure and customize spectral extraction settings, including trace parameters, background subtraction, and extraction methods, to tailor the analysis to your data\n",
    "     \n",
    "## Learning Goals\n",
    "By the end of this workshop, you will be able to:\n",
    "1. Load and visualize 1D and 2D spectral data in Specviz and Specviz2D.\n",
    "2. Customize the appearance of plots using Plot Options.\n",
    "3. Use the Subset Tools plugin to select and analyze regions of interest.\n",
    "4. Zoom, pan, and navigate the spectrum efficiently.\n",
    "5. Export data and visualizations using the Export Plugin.\n",
    "6. Configure and apply spectral extraction settings to refine and extract meaningful data from 2D spectra."
   ]
  },
  {
   "cell_type": "markdown",
   "id": "1f29a12a-6611-4d3f-a181-92feb46ef99b",
   "metadata": {},
   "source": [
    "### Additional Information\n",
    "\n",
    "To learn more about Specviz, its features, and how it fits into the broader JDAViz suite, visit the official documentation:  \n",
    "[Specviz Documentation](https://jdaviz.readthedocs.io/en/latest/specviz/)  \n",
    "[Specviz2D Documentation](https://jdaviz.readthedocs.io/en/latest/specviz2d/index.html)\n",
    "\n",
    "These resources provides detailed guides, examples, and technical information to help you make the most of Specviz and Specviz2d."
   ]
  },
  {
   "cell_type": "markdown",
   "id": "3eaf9465-2d09-431f-b4da-b268424a6587",
   "metadata": {},
   "source": [
    "## Specviz: "
   ]
  },
  {
   "cell_type": "code",
   "execution_count": null,
   "id": "c8ce267b-4012-4352-8af7-8c0ea4b7508c",
   "metadata": {},
   "outputs": [],
   "source": [
    "# Remove warning clutter to keep the output clean:\n",
    "import warnings\n",
    "warnings.simplefilter('ignore')\n",
    "\n",
    "# Some specutils and astropy packages we need\n",
    "from specutils import SpectralRegion\n",
    "from astropy import units as u\n",
    "\n",
    "# Import Specviz\n",
    "from jdaviz import Specviz\n",
    "\n",
    "# Initialize Specviz\n",
    "specviz = Specviz()\n",
    "\n",
    "# Open the Specviz viewer in a split-bottom layout.\n",
    "#specviz.show('sidecar:split-bottom')\n",
    "specviz.show()"
   ]
  },
  {
   "cell_type": "markdown",
   "id": "cd954998-cde4-4747-9167-7ecc4580828b",
   "metadata": {},
   "source": [
    "### Load Data\n",
    "Let's load a JWST data with prism.\n",
    "\n",
    "*If the data have been downloaded already, do not run the following cell, uncomment the first `load_data` command, and comment the second `load_data` command.*"
   ]
  },
  {
   "cell_type": "code",
   "execution_count": null,
   "id": "fe4cab5d-821c-431b-b9e4-84308580899b",
   "metadata": {},
   "outputs": [],
   "source": [
    "from astroquery.mast import Observations\n",
    "\n",
    "list_uri = ['mast:HLSP/jades/dr3/goods-n/spectra/clear-prism/goods-n-mediumhst/hlsp_jades_jwst_nirspec_goods-n-mediumhst-00000604_clear-prism_v1.0_x1d.fits',\n",
    "            'mast:HLSP/jades/dr3/goods-n/spectra/clear-prism/goods-n-mediumhst/hlsp_jades_jwst_nirspec_goods-n-mediumhst-00000755_clear-prism_v1.0_x1d.fits',\n",
    "            'mast:HLSP/jades/dr3/goods-n/spectra/clear-prism/goods-n-mediumhst/hlsp_jades_jwst_nirspec_goods-n-mediumhst-00000755_clear-prism_v1.0_s2d.fits',\n",
    "            'mast:HLSP/jades/dr3/goods-n/spectra/clear-prism/goods-n-mediumhst/hlsp_jades_jwst_nirspec_goods-n-mediumhst-00000604_clear-prism_v1.0_s2d.fits']\n",
    "\n",
    "for file in list_uri:\n",
    "    result = Observations.download_file(file, cache=True)\n",
    "    print(result)\n",
    "\n",
    "print('All files downloaded!')"
   ]
  },
  {
   "cell_type": "code",
   "execution_count": null,
   "id": "3b353abf-59d8-4a03-9bcc-17c8f5f4a0b3",
   "metadata": {},
   "outputs": [],
   "source": [
    "# specviz.load_data(\"./data/hlsp_jades_jwst_nirspec_goods-n-mediumhst-00000604_clear-prism_v1.0_x1d.fits\")\n",
    "specviz.load_data(\"hlsp_jades_jwst_nirspec_goods-n-mediumhst-00000755_clear-prism_v1.0_x1d.fits\")"
   ]
  },
  {
   "cell_type": "markdown",
   "id": "80ac07d1-3f69-4e65-bab5-9cfe3580380b",
   "metadata": {},
   "source": [
    "### Plot Data\n",
    "This snippet demonstrates how to programmatically customize the appearance of spectral plots using the Plot Options plugin:"
   ]
  },
  {
   "cell_type": "code",
   "execution_count": null,
   "id": "1a9b8104-b1b9-4cb8-b681-c017f90f7ac9",
   "metadata": {},
   "outputs": [],
   "source": [
    "# Access the Plot Options plugin\n",
    "plot_options = specviz.plugins[\"Plot Options\"]\n",
    "\n",
    "# Set the line color to blue\n",
    "plot_options.line_color = \"green\"\n",
    "#plot_options.line_color = \"#ff0000\" \n",
    "# You can use other color names (e.g., \"red\", \"green\") or hexadecimal values (e.g., \"#ff0000\")\n",
    "\n",
    "# Set the line width to 2\n",
    "plot_options.line_width = 2\n",
    "\n",
    "# Enable line steps (makes the line step-like)\n",
    "plot_options.line_as_steps = True\n",
    "\n",
    "# Disable line steps (makes the line smooth instead of step-like)\n",
    "plot_options.line_as_steps = False"
   ]
  },
  {
   "cell_type": "markdown",
   "id": "dd4801f3-17e9-4bc1-a198-1f5039a1e34b",
   "metadata": {},
   "source": [
    "### Select a subset"
   ]
  },
  {
   "cell_type": "code",
   "execution_count": null,
   "id": "9f3b2169-57ae-4c6a-8a9e-2201bc75d52e",
   "metadata": {},
   "outputs": [],
   "source": [
    "# Define a spectral region\n",
    "region = SpectralRegion(2.88*u.um, 2.98*u.um)\n",
    "\n",
    "# Access the subset tools plugin\n",
    "sub_tools = specviz.plugins['Subset Tools']\n",
    "\n",
    "# Import region\n",
    "sub_tools.import_region(region)"
   ]
  },
  {
   "cell_type": "markdown",
   "id": "6a4c0da2-d168-4011-9c9f-c4e1c04ee727",
   "metadata": {},
   "source": [
    "### Export Plots/Data"
   ]
  },
  {
   "cell_type": "code",
   "execution_count": null,
   "id": "27c94388-fb4a-4152-9a2d-472a7ce2c990",
   "metadata": {},
   "outputs": [],
   "source": [
    "# Access the \"Export\" plugin from Specviz\n",
    "export_plugin = specviz.plugins[\"Export\"]\n",
    "\n",
    "# Set the subset to export; in this case, we're exporting \"Subset 1\"\n",
    "export_plugin.subset = \"Subset 1\"\n",
    "\n",
    "# Specify the filename for the exported subset data\n",
    "export_plugin.filename = \"Subset 1\"\n",
    "\n",
    "# Export the subset data, allowing overwriting of existing files if necessary\n",
    "export_plugin.export(overwrite=True)\n",
    "\n",
    "# Change the export target to the \"spectrum-viewer\" for visual data\n",
    "export_plugin.viewer = \"spectrum-viewer\"\n",
    "\n",
    "# Specify the format for the exported viewer data\n",
    "export_plugin.viewer_format = \"png\"\n",
    "\n",
    "# Set a new filename for the exported spectrum visualization\n",
    "export_plugin.filename = \"spectrum_subset1\"\n",
    "\n",
    "# Export\n",
    "export_plugin.export(overwrite=True)"
   ]
  },
  {
   "cell_type": "markdown",
   "id": "6e772050-b697-440a-b5e9-dbcfef800dc1",
   "metadata": {},
   "source": [
    "## Specviz2d"
   ]
  },
  {
   "cell_type": "code",
   "execution_count": null,
   "id": "019571b9-2d5f-4318-9206-584cf1d30017",
   "metadata": {},
   "outputs": [],
   "source": [
    "# Import Specviz2d from the jdaviz\n",
    "from jdaviz import Specviz2d\n",
    "\n",
    "# Initialize the Specviz2d app and assign it to the variable 'specviz2d'\n",
    "specviz2d = Specviz2d()\n",
    "\n",
    "# Open the Specviz2d viewer in a split-bottom layout within the notebook\n",
    "# specviz2d.show('sidecar:split-bottom')\n",
    "specviz2d.show()\n",
    "\n",
    "# Load Data\n",
    "# specviz2d.load_data(\"./data/hlsp_jades_jwst_nirspec_goods-n-mediumhst-00000755_clear-prism_v1.0_s2d.fits\")\n",
    "# specviz2d.load_data(\"./data/hlsp_jades_jwst_nirspec_goods-n-mediumhst-00000804_clear-prism_v1.0_s2d.fits\")\n",
    "specviz2d.load_data(\"mast:JWST/product/jw01433-o023_s000003066_nirspec_clear-prism_s2d.fits\") # download on the fly with MAST URI"
   ]
  },
  {
   "cell_type": "code",
   "execution_count": null,
   "id": "7c0681ee-b0fc-47c9-9bef-483f5b99d805",
   "metadata": {},
   "outputs": [],
   "source": [
    "# Access the \"Spectral Extraction\" plugin from Specviz2d\n",
    "spectral_extraction = specviz2d.plugins[\"Spectral Extraction\"]"
   ]
  },
  {
   "cell_type": "code",
   "execution_count": null,
   "id": "013f20b5-c866-403c-9456-5aabad28eea8",
   "metadata": {},
   "outputs": [],
   "source": [
    "spectral_extraction.open_in_tray()"
   ]
  },
  {
   "cell_type": "code",
   "execution_count": null,
   "id": "449269dd-287f-4917-b363-5225314ec4fa",
   "metadata": {},
   "outputs": [],
   "source": [
    "# Retrieve the current trace type used for spectral extraction and view available choices\n",
    "spectral_extraction.trace_type"
   ]
  },
  {
   "cell_type": "code",
   "execution_count": null,
   "id": "4297708d-74c8-40da-a8ef-dbcb4e36473c",
   "metadata": {},
   "outputs": [],
   "source": [
    "# Configure background subtraction parameters for the Spectral Extraction plugin:\n",
    "# These settings define the type of background subtraction (e.g., 'TwoSided'), \n",
    "# the separation distance from the central trace, the width of the background regions, \n",
    "# and the statistic (e.g., 'Average') used to calculate the background level.\n",
    "spectral_extraction.bg_type = 'TwoSided'\n",
    "spectral_extraction.bg_separation = 6\n",
    "spectral_extraction.bg_width = 4\n",
    "spectral_extraction.bg_statistic = 'Average'"
   ]
  },
  {
   "cell_type": "code",
   "execution_count": null,
   "id": "5e390704-3437-4735-8c23-dc7eceadbc65",
   "metadata": {},
   "outputs": [],
   "source": [
    "# Configure extraction parameters for the Spectral Extraction plugin:\n",
    "# Specify the extraction type (e.g., 'Boxcar'), the width of the extraction window, \n",
    "# and assign a label to the resulting extracted spectrum for easy identification.\n",
    "spectral_extraction.ext_type = \"Boxcar\"\n",
    "spectral_extraction.ext_width = 6\n",
    "spectral_extraction.ext_add_results.label = \"Spectrum 1D new\""
   ]
  },
  {
   "cell_type": "code",
   "execution_count": null,
   "id": "fa7c32bf-50f8-4b15-8064-51a7d5328078",
   "metadata": {},
   "outputs": [],
   "source": [
    "# Export the extracted spectrum and load it as a dataset in the Spectrum 1D viewer\n",
    "spectral_extraction.export_extract_spectrum(add_data=True)"
   ]
  },
  {
   "cell_type": "code",
   "execution_count": null,
   "id": "bf533857-64d7-4c70-90a0-10cab1611e0c",
   "metadata": {},
   "outputs": [],
   "source": [
    "# Check what methods and properties are available for the Spectral Extraction plugin\n",
    "dir(spectral_extraction)"
   ]
  },
  {
   "cell_type": "code",
   "execution_count": null,
   "id": "38f0d4ee-0775-4760-87c6-edd8d51e6491",
   "metadata": {},
   "outputs": [],
   "source": []
  }
 ],
 "metadata": {
  "kernelspec": {
   "display_name": "Python 3 (ipykernel)",
   "language": "python",
   "name": "python3"
  },
  "language_info": {
   "codemirror_mode": {
    "name": "ipython",
    "version": 3
   },
   "file_extension": ".py",
   "mimetype": "text/x-python",
   "name": "python",
   "nbconvert_exporter": "python",
   "pygments_lexer": "ipython3",
   "version": "3.12.10"
  }
 },
 "nbformat": 4,
 "nbformat_minor": 5
}
