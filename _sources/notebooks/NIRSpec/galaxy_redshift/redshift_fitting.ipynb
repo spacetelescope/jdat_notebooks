{
 "cells": [
  {
   "cell_type": "markdown",
   "id": "e6c242e1",
   "metadata": {},
   "source": [
    "# Redshift and Template Fitting\n",
    "\n",
    "This notebook covers basic examples on how a user can measure the redshift of a source using the visualization tool [Jdaviz](https://jdaviz.readthedocs.io/en/latest/) or programmatically with [Specutils](https://specutils.readthedocs.io/en/latest/).\n",
    "\n",
    "**Use case:** measure the redshift of a galaxy from its spectrum using 2 different methods.  \n",
    "**Data:** JWST/NIRSpec spectrum from program 2736.  \n",
    "**Tools:** jdaviz, specutils.  \n",
    "**Cross-instrument:** NIRISS, NIRCam.  \n",
    "\n",
    "**Content**\n",
    "- [Resources and documentation](#resources)\n",
    "- [Installation](#installation)\n",
    "- [Imports](#imports)\n",
    "- [Fetch the example data](#data)\n",
    "- [\"By eye\" redshift measurement with Specviz](#byeye)\n",
    "- [Redshift measurement with cross-correlation method](#crosscorr)\n",
    "    - [Get a template and prepare it for use](#get_template)\n",
    "    - [Subtract the continuum from the observed spectrum](#continuum)\n",
    "    - [Clean up the spectrum](#cleanup)\n",
    "    - [Run the cross correlation function](#run_crosscorr)\n",
    "\n",
    "**Author**: Camilla Pacifici (cpacifici@stsci.edu)<br>\n",
    "**Updated**: September 14, 2023"
   ]
  },
  {
   "cell_type": "markdown",
   "id": "9ae98afa",
   "metadata": {},
   "source": [
    "<a id='resources'></a>\n",
    "## Resources and documentation\n",
    "\n",
    "This notebook uses functionality from [Specutils](https://specutils.readthedocs.io/en/stable/) and [Jdaviz](https://jdaviz.readthedocs.io/en/latest/). Developers at the Space Telescope Science Institute are available to answer questions and resolve problems through the [JWST Help Desk](https://jwsthelp.stsci.edu/). If you wish to send feedback or report problems, you can also submit an issue directly on Github, both for [Specutils](https://github.com/astropy/specutils) and for [Jdaviz](https://github.com/spacetelescope/jdaviz)."
   ]
  },
  {
   "cell_type": "markdown",
   "id": "95a0cf36",
   "metadata": {},
   "source": [
    "<a id='installation'></a>\n",
    "## Installation\n",
    "\n",
    "This notebook was extracted from the [JWebbinar material](https://www.stsci.edu/jwst/science-execution/jwebbinars).\n",
    "To run this notebook, you will need to create an environment that includes the jdaviz package with the following instructions.    \n",
    "`conda create -n jdaviz python=3.11`  \n",
    "`conda activate jdaviz`  \n",
    "from the latest release  \n",
    "`pip install jdaviz`  \n",
    "or from git  \n",
    "`pip install git+https://github.com/spacetelescope/jdaviz.git`"
   ]
  },
  {
   "cell_type": "markdown",
   "id": "1f2020d3",
   "metadata": {},
   "source": [
    "<a id='imports'></a>\n",
    "## Imports"
   ]
  },
  {
   "cell_type": "code",
   "execution_count": null,
   "id": "45a3ae5e",
   "metadata": {},
   "outputs": [],
   "source": [
    "# general os\n",
    "import tempfile\n",
    "\n",
    "# numpy\n",
    "import numpy as np\n",
    "\n",
    "# astroquery\n",
    "from astroquery.mast import Observations\n",
    "\n",
    "# specviz\n",
    "import jdaviz # this is needed to get the version number later\n",
    "from jdaviz import Specviz\n",
    "\n",
    "# astropy\n",
    "import astropy # again for the version number\n",
    "import astropy.units as u\n",
    "from astropy.io import ascii, fits\n",
    "from astropy.utils.data import download_file\n",
    "from astropy.modeling.models import Linear1D\n",
    "from astropy.nddata import StdDevUncertainty\n",
    "\n",
    "# specutils\n",
    "import specutils # again for the version number\n",
    "from specutils import Spectrum1D, SpectralRegion\n",
    "from specutils.fitting import fit_generic_continuum\n",
    "from specutils.analysis import correlation\n",
    "from specutils.manipulation import extract_region\n",
    "\n",
    "# glue\n",
    "from glue.core.roi import XRangeROI\n",
    "\n",
    "# matplotlib\n",
    "from matplotlib import pyplot as plt\n",
    "\n",
    "# display\n",
    "from IPython.display import display, HTML"
   ]
  },
  {
   "cell_type": "code",
   "execution_count": null,
   "id": "57414a63",
   "metadata": {},
   "outputs": [],
   "source": [
    "# customization of matplotlib style\n",
    "plt.rcParams[\"figure.figsize\"] = (10, 5)\n",
    "params = {'legend.fontsize': '18', 'axes.labelsize': '18',\n",
    "          'axes.titlesize': '18', 'xtick.labelsize': '18',\n",
    "          'ytick.labelsize': '18', 'lines.linewidth': 2,\n",
    "          'axes.linewidth': 2, 'animation.html': 'html5',\n",
    "          'figure.figsize': (8, 6)}\n",
    "plt.rcParams.update(params)\n",
    "plt.rcParams.update({'figure.max_open_warning': 0})\n",
    "# This ensures that our notebook is using the full width of the browser\n",
    "display(HTML(\"<style>.container { width:100% !important; }</style>\"))"
   ]
  },
  {
   "cell_type": "markdown",
   "id": "1fdb9a16",
   "metadata": {},
   "source": [
    "### Versions:"
   ]
  },
  {
   "cell_type": "code",
   "execution_count": null,
   "id": "c36d248d",
   "metadata": {},
   "outputs": [],
   "source": [
    "print(\"jdaviz:\", jdaviz.__version__)\n",
    "print(\"astropy:\", astropy.__version__)\n",
    "print(\"specutils:\", specutils.__version__)"
   ]
  },
  {
   "cell_type": "markdown",
   "id": "16081eb5",
   "metadata": {},
   "source": [
    "<a id='data'></a>\n",
    "## Fetch the example data\n",
    "\n",
    "Here we download a spectrum from the [Early Release Observation data](https://www.stsci.edu/jwst/science-execution/approved-programs/webb-first-image-observations) program 2736 and a model spectrum we will use as template for the redshift measurement. The template is based on a combination of Simple Stellar Population models including emission lines as done in [Pacifici et al. (2012)](https://ui.adsabs.harvard.edu/abs/2012MNRAS.421.2002P/abstract)."
   ]
  },
  {
   "cell_type": "code",
   "execution_count": null,
   "id": "55d54dd2",
   "metadata": {},
   "outputs": [],
   "source": [
    "# Select a specific directory on your machine or a temporary directory\n",
    "data_dir = tempfile.gettempdir()\n",
    "# Get the file from MAST\n",
    "fn = \"jw02736-o007_s09239_nirspec_f170lp-g235m_x1d.fits\"\n",
    "result = Observations.download_file(f\"mast:JWST/product/{fn}\", local_path=f'{data_dir}/{fn}')\n",
    "\n",
    "fn_template = download_file('https://stsci.box.com/shared/static/3rkurzwl0l79j70ddemxafhpln7ljle7.dat', cache=True)"
   ]
  },
  {
   "cell_type": "markdown",
   "id": "1415a59f",
   "metadata": {},
   "source": [
    "Jdaviz will read by default the surface brightness extension (in MJy/sr), but I prefer the flux extension (in Jy). I create a Spectrum1D object reading the file myself."
   ]
  },
  {
   "cell_type": "code",
   "execution_count": null,
   "id": "4abd95d6",
   "metadata": {},
   "outputs": [],
   "source": [
    "hdu = fits.open(f'{data_dir}/{fn}')\n",
    "wave = hdu[1].data['WAVELENGTH'] * u.Unit(hdu[1].header['TUNIT1'])\n",
    "flux = hdu[1].data['FLUX'] * u.Unit(hdu[1].header['TUNIT2'])\n",
    "# std = hdu[1].data['FLUX_ERROR'] * u.Unit(hdu[1].header['TUNIT3']) # These are all nan. Define an artificial uncertainty\n",
    "\n",
    "fluxobs = Spectrum1D(spectral_axis=wave,\n",
    "                     flux=flux,\n",
    "                     uncertainty=StdDevUncertainty(0.1*flux))\n",
    "fluxobs"
   ]
  },
  {
   "cell_type": "markdown",
   "id": "68fa01fc",
   "metadata": {},
   "source": [
    "<a id='byeye'></a>\n",
    "## \"By eye\" redshift measurement with Specviz\n",
    "\n",
    "Specviz will allow you to match line wavelengths to the emission lines you see in the spectrum. You will be able to do this using the [redshift slider](https://jdaviz.readthedocs.io/en/latest/specviz/plugins.html#redshift-slider) in the Line List plugin. But first, let us [open the spectrum in Specviz](https://jdaviz.readthedocs.io/en/latest/specviz/import_data.html)."
   ]
  },
  {
   "cell_type": "code",
   "execution_count": null,
   "id": "2dbeb862",
   "metadata": {},
   "outputs": [],
   "source": [
    "# Call the app\n",
    "viz = Specviz()\n",
    "viz.show()"
   ]
  },
  {
   "cell_type": "code",
   "execution_count": null,
   "id": "51224ebc",
   "metadata": {},
   "outputs": [],
   "source": [
    "# Load spectrum\n",
    "# viz.load_data(f'{data_dir}/{fn}', data_label=\"NIRSpec\") # To load the surface brightness directly from file\n",
    "viz.load_data(fluxobs, data_label='NIRSpec')"
   ]
  },
  {
   "cell_type": "markdown",
   "id": "8b96dfda",
   "metadata": {},
   "source": [
    "Now we need to:\n",
    "- Open the [\"line list\" plugin](https://jdaviz.readthedocs.io/en/latest/specviz/plugins.html?highlight=plugin#line-lists)\n",
    "<img src='./line_list.png' alt=\"The line list plugin is in the menu to the right\" width=\"500\"/>\n",
    "\n",
    "- Choose pre-loaded lines or add custom lines (the lines will not show in the viewer because they are plotted at restframe)\n",
    "    - Hint: select Ha and the surrounding NII lines\n",
    "<img src='./select_list.png' alt=\"Select the SDSS list\" width=\"500\"/>\n",
    "<img src='./select_three_lines.png' alt=\"Select the two [NII] lines and the H alpha line\" width=\"500\"/>\n",
    "\n",
    "- Input a guess redshift\n",
    "<img src='./guess_redshift.png' alt=\"Input a guess for the redshift (redshift=2.4)\" width=\"500\"/>\n",
    "\n",
    "- Move the slider to get a better match\n",
    "<img src='./adjust_redshift_slider.png' alt=\"Adjust the redshift using the slider to match the emission lines in the spectrum\" width=\"500\"/>\n",
    "\n",
    "- Use the [zoom tool](https://jdaviz.readthedocs.io/en/latest/specviz/displaying.html#pan-zoom) to get an even better match\n",
    "<img src='./precise_adjust_with_zoom.png' alt=\"Use the zoom tool to find a better match to the emission lines\" width=\"500\"/>"
   ]
  },
  {
   "cell_type": "markdown",
   "id": "79a5d1b3",
   "metadata": {},
   "source": [
    "<a id='crosscorr'></a>\n",
    "## Redshift measurement with cross-correlation method\n",
    "\n",
    "It is very common in astronomy to measure a redshift using a cross-correlation algorithm. IRAF uses this methodology in its [xcsao](http://tdc-www.harvard.edu/iraf/rvsao/xcsao/xcsao.html) task. Here, we use the Specutils [template cross-correlation](https://specutils.readthedocs.io/en/stable/analysis.html#template-cross-correlation) function to derive the redshift of our source. There are a couple of things that we need to do before we run the correlation algorithm:\n",
    "- Get a template spectrum for the correlation\n",
    "- Subtract the continuum from both the template and the observed spectrum\n",
    "- Make sure the spectra have some overlap in wavelength"
   ]
  },
  {
   "cell_type": "markdown",
   "id": "53f4ab27",
   "metadata": {},
   "source": [
    "<a id='get_template'></a>\n",
    "### Get a template and prepare it for use\n",
    "The template is used for cross correlation, so it can be renormalized for convenience. The units have to match the units of the observed spectrum. We can do the continuum subtraction in erg/(s cm^2 A) since the continuum is close to linear and then run it by Jdaviz to get the appropriate conversion."
   ]
  },
  {
   "cell_type": "code",
   "execution_count": null,
   "id": "5d6e4beb",
   "metadata": {},
   "outputs": [],
   "source": [
    "# Define unit\n",
    "spec_unit = u.erg / u.s / u.cm**2 / u.AA\n",
    "\n",
    "# Read spectrum with the ascii function\n",
    "template = ascii.read(fn_template)\n",
    "# Create Spectrum1D object\n",
    "template = Spectrum1D(spectral_axis=template['col1']/1E4*u.um, \n",
    "                      flux=(template['col2']/1E24)*spec_unit) # Normalize to something close to the observed spectrum"
   ]
  },
  {
   "cell_type": "code",
   "execution_count": null,
   "id": "8348a12e",
   "metadata": {},
   "outputs": [],
   "source": [
    "# Cut to useful range - template and obs MUST overlap, so we go to 2.4um.\n",
    "use_tmp = (template.spectral_axis.value > 0.45) & (template.spectral_axis.value < 2.4)\n",
    "template_cut = Spectrum1D(spectral_axis=template.spectral_axis[use_tmp], flux=template.flux[use_tmp])"
   ]
  },
  {
   "cell_type": "code",
   "execution_count": null,
   "id": "ae483af5",
   "metadata": {},
   "outputs": [],
   "source": [
    "# Look at spectrum\n",
    "plt.figure(figsize=[10, 6])\n",
    "plt.plot(template_cut.spectral_axis, template_cut.flux)\n",
    "plt.xlabel(\"wavelength ({:latex})\".format(template_cut.spectral_axis.unit))\n",
    "plt.ylabel(\"flux ({:latex})\".format(template_cut.flux.unit))\n",
    "plt.title(\"Template\")\n",
    "plt.show()"
   ]
  },
  {
   "cell_type": "markdown",
   "id": "f8488711",
   "metadata": {},
   "source": [
    "This diagram shows the template spectrum (flux vs wavelength) out to 2.4 micron to allow for some wavelength overlap with the observed spectrum."
   ]
  },
  {
   "cell_type": "code",
   "execution_count": null,
   "id": "a1488f36",
   "metadata": {},
   "outputs": [],
   "source": [
    "# Subtract continuum\n",
    "mask_temp = ((template_cut.spectral_axis.value > 0.70) & (template_cut.spectral_axis.value < 2.40))\n",
    "\n",
    "template_forcont = Spectrum1D(spectral_axis=template_cut.spectral_axis[mask_temp], flux=template_cut.flux[mask_temp])\n",
    "\n",
    "# Use fit_generic_continuum\n",
    "fit_temp = fit_generic_continuum(template_forcont, model=Linear1D())\n",
    "cont_temp = fit_temp(template_cut.spectral_axis)\n",
    "template_sub = template_cut - cont_temp\n",
    "\n",
    "\n",
    "plt.figure(figsize=[10, 6])\n",
    "plt.plot(template_cut.spectral_axis, template_cut.flux)\n",
    "plt.plot(template_cut.spectral_axis, cont_temp)\n",
    "plt.xlabel(\"wavelength ({:latex})\".format(template_sub.spectral_axis.unit))\n",
    "plt.ylabel(\"flux ({:latex})\".format(template_sub.flux.unit))\n",
    "plt.title(\"Plot template and continuum\")\n",
    "plt.show()"
   ]
  },
  {
   "cell_type": "markdown",
   "id": "c0def8ed",
   "metadata": {},
   "source": [
    "The diagram shows the template spectrum and the best-fitting continuum."
   ]
  },
  {
   "cell_type": "code",
   "execution_count": null,
   "id": "4e8ad9cd",
   "metadata": {},
   "outputs": [],
   "source": [
    "# Print Spectrum1D object\n",
    "print(template_sub)"
   ]
  },
  {
   "cell_type": "code",
   "execution_count": null,
   "id": "5c36de57",
   "metadata": {},
   "outputs": [],
   "source": [
    "# Look at spectrum\n",
    "plt.figure(figsize=[10, 6])\n",
    "plt.plot(template_sub.spectral_axis, template_sub.flux)\n",
    "plt.xlabel(\"wavelength ({:latex})\".format(template_sub.spectral_axis.unit))\n",
    "plt.ylabel(\"flux ({:latex})\".format(template_sub.flux.unit))\n",
    "plt.title(\"Continuum subtracted template\")\n",
    "plt.show()"
   ]
  },
  {
   "cell_type": "markdown",
   "id": "4921bc7a",
   "metadata": {},
   "source": [
    "This diagram shows the template spectrum (flux vs wavelength) after subtracting the fitted continuum."
   ]
  },
  {
   "cell_type": "markdown",
   "id": "ddcef91f",
   "metadata": {},
   "source": [
    "<a id='continuum'></a>\n",
    "### Subtract the continuum from the observed spectrum\n",
    "\n",
    "We can use a different approach and do it with [SpectralRegion](https://specutils.readthedocs.io/en/stable/spectral_regions.html) here. We also need to include an uncertianty to the observed spectrum, if it is not included."
   ]
  },
  {
   "cell_type": "code",
   "execution_count": null,
   "id": "dc598e8a",
   "metadata": {},
   "outputs": [],
   "source": [
    "# Define Spectral Region\n",
    "region = SpectralRegion(2.0*u.um, 3.0*u.um)\n",
    "# Extract region\n",
    "spec1d_cont = extract_region(fluxobs, region)\n",
    "# Run fitting function\n",
    "fit_obs = fit_generic_continuum(spec1d_cont, model=Linear1D(5))\n",
    "# Apply to spectral axis\n",
    "cont_obs = fit_obs(fluxobs.spectral_axis)\n",
    "\n",
    "# Subtract continuum\n",
    "spec1d_sub = fluxobs - cont_obs"
   ]
  },
  {
   "cell_type": "code",
   "execution_count": null,
   "id": "e8ae87d2",
   "metadata": {},
   "outputs": [],
   "source": [
    "# Look at spectrum\n",
    "plt.figure(figsize=[10, 6])\n",
    "plt.plot(spec1d_sub.spectral_axis, spec1d_sub.flux)\n",
    "plt.xlabel(\"wavelength ({:latex})\".format(spec1d_sub.spectral_axis.unit))\n",
    "plt.ylabel(\"flux ({:latex})\".format(spec1d_sub.flux.unit))\n",
    "plt.title(\"Continuum subtracted observed spectrum\")\n",
    "plt.show()"
   ]
  },
  {
   "cell_type": "markdown",
   "id": "e3dbeb0b",
   "metadata": {},
   "source": [
    "This diagram shows the observed spectrum (flux vs wavelength) after subtracting the fitted continuum."
   ]
  },
  {
   "cell_type": "markdown",
   "id": "aaefaef0",
   "metadata": {},
   "source": [
    "<a id='cleanup'></a>\n",
    "### Clean up the spectrum\n",
    "It is best to remove artifacts that can look like emission/absorption lines and remove big gaps. The selection of the clean part of the spectrum can be done using the GUI. If this is not performed manually, the following cell takes care of it programmatically.\n",
    "<img src='./select_region.png' alt=\"Select a clean region of the spectrum\" width=\"500\"/>"
   ]
  },
  {
   "cell_type": "code",
   "execution_count": null,
   "id": "0cc51eb1",
   "metadata": {},
   "outputs": [],
   "source": [
    "viz2 = Specviz()\n",
    "viz2.load_data(spec1d_sub, data_label='spectrum continuum subtracted')\n",
    "viz2.show()"
   ]
  },
  {
   "cell_type": "code",
   "execution_count": null,
   "id": "d18548e9",
   "metadata": {},
   "outputs": [],
   "source": [
    "# Create a subset in the area of interest if it has not been created manually\n",
    "try:\n",
    "    region1 = viz2.get_spectra(data_label='spectrum continuum subtracted', subset_to_apply='Subset 1')\n",
    "    print(region1)\n",
    "    region1_exists = True\n",
    "except Exception:\n",
    "    print(\"There are no subsets selected.\")\n",
    "    region1_exists = False\n",
    "    \n",
    "# Spectral region for masking artifacts\n",
    "if region1_exists is False:\n",
    "    sv = viz2.app.get_viewer('spectrum-viewer')\n",
    "    sv.toolbar_active_subset.selected = []\n",
    "    sv.apply_roi(XRangeROI(2.24, 3.13))  "
   ]
  },
  {
   "cell_type": "code",
   "execution_count": null,
   "id": "987284bf",
   "metadata": {},
   "outputs": [],
   "source": [
    "# Get spectrum out with mask\n",
    "spec1d_region = viz2.get_spectral_regions()\n",
    "spec1d_masked = extract_region(spec1d_sub, spec1d_region['Subset 1'], return_single_spectrum=True)"
   ]
  },
  {
   "cell_type": "markdown",
   "id": "783799c1",
   "metadata": {},
   "source": [
    "We visualize the observed and template continuum-subtracted spectra in a new instance of Specviz. Hit the Home button to see the entire wavelength range. The template spectrum will change unit to match the observed spectrum."
   ]
  },
  {
   "cell_type": "code",
   "execution_count": null,
   "id": "d711c73e",
   "metadata": {},
   "outputs": [],
   "source": [
    "viz3 = Specviz()\n",
    "viz3.load_data(spec1d_masked, data_label='observation')\n",
    "viz3.load_data(template_sub, data_label='template')\n",
    "viz3.show()"
   ]
  },
  {
   "cell_type": "code",
   "execution_count": null,
   "id": "73ef283d",
   "metadata": {},
   "outputs": [],
   "source": [
    "template_newunit = viz3.get_data('template', use_display_units=True)\n",
    "template_newunit"
   ]
  },
  {
   "cell_type": "markdown",
   "id": "8195cee8",
   "metadata": {},
   "source": [
    "<a id='run_crosscorr'></a>\n",
    "### Run the cross correlation function"
   ]
  },
  {
   "cell_type": "code",
   "execution_count": null,
   "id": "586e9e52",
   "metadata": {},
   "outputs": [],
   "source": [
    "# Call the function\n",
    "corr, lag = correlation.template_correlate(spec1d_masked, template_newunit, lag_units=u.one)\n",
    "\n",
    "# Plot the correlation\n",
    "plt.plot(lag, corr)\n",
    "plt.xlabel(\"Redshift\")\n",
    "plt.ylabel(\"Correlation\")\n",
    "plt.show()"
   ]
  },
  {
   "cell_type": "markdown",
   "id": "57109477",
   "metadata": {},
   "source": [
    "This diagram shows the correlation value vs the redshift. The spike (around redshift of 2.5) indicates the value where the observed and template spectra correlate best."
   ]
  },
  {
   "cell_type": "code",
   "execution_count": null,
   "id": "56659ed6",
   "metadata": {},
   "outputs": [],
   "source": [
    "# Redshift based on maximum\n",
    "index_peak = np.argmax(corr)\n",
    "z = lag[index_peak]\n",
    "\n",
    "print(\"Redshift from peak maximum: \", z)"
   ]
  },
  {
   "cell_type": "code",
   "execution_count": null,
   "id": "d3ab7b19",
   "metadata": {},
   "outputs": [],
   "source": [
    "# Redshifted template_sub\n",
    "template_sub_z = Spectrum1D(spectral_axis=template_sub.spectral_axis * (1. + z),\n",
    "                            flux=template_sub.flux)"
   ]
  },
  {
   "cell_type": "code",
   "execution_count": null,
   "id": "a6a1e6c0",
   "metadata": {},
   "outputs": [],
   "source": [
    "# Visualize the redshifted template and the observed spectrum\n",
    "viz4 = Specviz()\n",
    "viz4.load_data(spec1d_masked, data_label='Observed spectrum')\n",
    "viz4.load_data(template_sub_z, data_label='Redshifted best template')\n",
    "viz4.show()"
   ]
  },
  {
   "cell_type": "markdown",
   "id": "7ee0a0eb",
   "metadata": {},
   "source": [
    "<img style=\"float: right;\" src=\"https://raw.githubusercontent.com/spacetelescope/notebooks/master/assets/stsci_pri_combo_mark_horizonal_white_bkgd.png\" alt=\"Space Telescope Logo\" width=\"200px\"/>"
   ]
  }
 ],
 "metadata": {
  "kernelspec": {
   "display_name": "Python 3 (ipykernel)",
   "language": "python",
   "name": "python3"
  },
  "language_info": {
   "codemirror_mode": {
    "name": "ipython",
    "version": 3
   },
   "file_extension": ".py",
   "mimetype": "text/x-python",
   "name": "python",
   "nbconvert_exporter": "python",
   "pygments_lexer": "ipython3",
   "version": "3.9.13"
  }
 },
 "nbformat": 4,
 "nbformat_minor": 5
}
