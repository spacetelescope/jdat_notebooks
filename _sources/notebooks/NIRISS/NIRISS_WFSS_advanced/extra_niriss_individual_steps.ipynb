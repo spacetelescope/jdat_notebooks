{
 "cells": [
  {
   "cell_type": "markdown",
   "id": "28608b44",
   "metadata": {},
   "source": [
    "# Running Individual Pipeline Steps\n",
    "\n",
    "This notebook walks through calibrating the data with individual pipeline steps (AssignWCS and FlatField) rather than running the entire pipeline stage.\n",
    "\n",
    "**Use case**: When using a package outside of the standard JWST pipeline, there may be certain steps that are still helpful to utilize within the JWST pipeline. Here we show the most commonly run individual steps, AssignWCS and FlatField. AssignWCS determines and stores the WCS (World Coordinate System) information, and FlatField removes [detector features](https://jwst-docs.stsci.edu/known-issues-with-jwst-data/niriss-known-issues#NIRISSKnownIssues-artifactsArtifacts).<br>\n",
    "**Data**: JWST/NIRISS images and spectra from program 2079.<br>\n",
    "**Tools**: astropy, crds, glob, jwst, matplotlib, numpy, os, urllib, zipfile<br>\n",
    "**Cross-instrument**: NIRISS<br>\n",
    "\n",
    "**Content**\n",
    "- [Imports & Data Setup](#imports)\n",
    "- [Running Individual Pipeline Steps](#pipeline_steps)\n",
    "  - [Assign WCS Step](#wcs_step)\n",
    "  - [Flat Field Step](#ff_step)\n",
    "  - [Compare Rate vs. Flat Fielded Data](#compare)\n",
    "\n",
    "**Author**: Rachel Plesha (rplesha@stsci.edu), Camilla Pacifici (cpacifici@stsci.edu)<br>\n",
    "**Last modified**: May 2024<br>\n",
    "**Last tested**: This notebook was last tested with JWST pipeline version 1.12.5 and the CRDS context jwst_1229.pmap."
   ]
  },
  {
   "cell_type": "markdown",
   "id": "5ebb20f2-fb41-42c6-96a6-b35dfe77bab7",
   "metadata": {},
   "source": [
    "<a id='imports'></a>\n",
    "## Imports & Data Setup"
   ]
  },
  {
   "cell_type": "code",
   "execution_count": null,
   "id": "54802ba1-873a-4a62-9db1-84f60d1677e0",
   "metadata": {},
   "outputs": [],
   "source": [
    "# Update the CRDS path to your local directory\n",
    "%env CRDS_PATH=crds_cache\n",
    "%env CRDS_SERVER_URL=https://jwst-crds.stsci.edu"
   ]
  },
  {
   "cell_type": "code",
   "execution_count": null,
   "id": "216f4a35",
   "metadata": {},
   "outputs": [],
   "source": [
    "import os\n",
    "import glob\n",
    "import urllib\n",
    "import zipfile\n",
    "import numpy as np\n",
    "\n",
    "from astropy.io import fits\n",
    "\n",
    "from matplotlib import pyplot as plt\n",
    "%matplotlib inline\n",
    "\n",
    "from jwst.assign_wcs import AssignWcsStep\n",
    "from jwst.flatfield import FlatFieldStep"
   ]
  },
  {
   "cell_type": "markdown",
   "id": "3c208323-56f4-4fb5-b8c0-750b65b525aa",
   "metadata": {},
   "source": [
    "Check what version of the JWST pipeline you are using. To see what the latest version of the pipeline is available or install a previous version, check [GitHub](https://github.com/spacetelescope/jwst#software-vs-dms-build-version-map). Also verify what [CRDS context](https://jwst-crds.stsci.edu/) you are using. [CRDS documentation](https://jwst-pipeline.readthedocs.io/en/latest/jwst/user_documentation/reference_files_crds.html) explains how to set a specific context to use in the JWST pipeline. If either of these values are different from the last tested note above there may be differences in this notebook."
   ]
  },
  {
   "cell_type": "code",
   "execution_count": null,
   "id": "b649638b-0353-4b4a-874d-949fc6610876",
   "metadata": {},
   "outputs": [],
   "source": [
    "import jwst\n",
    "import crds\n",
    "print('JWST Pipeliene Version:', jwst.__version__)\n",
    "print('CRDS Context:', crds.get_context_name('jwst'))"
   ]
  },
  {
   "cell_type": "markdown",
   "id": "be56a062-bec7-4aff-922a-eaec53bdb346",
   "metadata": {},
   "source": [
    "#### Data setup\n",
    "Here we download and open the zip file that contains all of the rate files, and we also create an output directory for the calibrated files if it does not already exist"
   ]
  },
  {
   "cell_type": "code",
   "execution_count": null,
   "id": "48baec42-7aee-4731-8048-1054c9a127f4",
   "metadata": {},
   "outputs": [],
   "source": [
    "data_dir_in = 'data' # directory where the rate files should be\n",
    "data_dir_out = 'data/calibrated_steps/' # directory where to save the calibrate files\n",
    "\n",
    "# if the directory does not exist that you want to save out to, make that directory first\n",
    "for datadir in [data_dir_in, data_dir_out]:\n",
    "    if not os.path.exists(datadir):\n",
    "        os.makedirs(datadir)"
   ]
  },
  {
   "cell_type": "code",
   "execution_count": null,
   "id": "21167b5c-3654-415d-ba9f-b5484e367c57",
   "metadata": {},
   "outputs": [],
   "source": [
    "# Download uncalibrated data from Box into the data directory:\n",
    "boxlink = 'https://data.science.stsci.edu/redirect/JWST/jwst-data_analysis_tools/niriss_wfss_advanced/niriss_wfss_extra_input.zip'\n",
    "boxfile = os.path.basename(boxlink)\n",
    "urllib.request.urlretrieve(boxlink, boxfile)\n",
    "\n",
    "zf = zipfile.ZipFile(boxfile, 'r')\n",
    "zf.extractall(path=data_dir_in)\n",
    "\n",
    "# move the files downloaded from the box file into the top level data directory\n",
    "box_download_dir = os.path.join(data_dir_in, boxfile.split('.zip')[0])\n",
    "for filename in glob.glob(os.path.join(box_download_dir, '*')):\n",
    "    if '.csv' in filename:\n",
    "        # move to the current directory\n",
    "        os.rename(filename, os.path.basename(filename))\n",
    "    else:\n",
    "        # move to the data directory \n",
    "        os.rename(filename, os.path.join(data_dir_in, os.path.basename(filename)))\n",
    "\n",
    "# remove unnecessary files now\n",
    "os.remove(boxfile)\n",
    "os.rmdir(box_download_dir)"
   ]
  },
  {
   "cell_type": "markdown",
   "id": "d9bfb726-26b5-46c1-99bf-3c86e0c9e3bb",
   "metadata": {},
   "source": [
    "<a id='pipeline_steps'></a>\n",
    "## Running Individual Pipeline Steps"
   ]
  },
  {
   "cell_type": "markdown",
   "id": "da194621-1d85-4481-922a-118ec1f859ec",
   "metadata": {},
   "source": [
    "While you could look at the rate images, instead consider running the files through the `assign_wcs` and `flat_field` steps of the pipeline to clean up detector artifacts."
   ]
  },
  {
   "cell_type": "markdown",
   "id": "0c83aab3-75de-4a9b-be3c-28669b4c0044",
   "metadata": {},
   "source": [
    "<a id='wcs_step'></a>\n",
    "#### Assign WCS Step\n",
    "\n",
    "The `assign_wcs` step of the pipeline is a critical part to obtaining the correct spectral trace cutouts for WFSS images. To read more about the step, visit the [AssignWCS description page](https://jwst-pipeline.readthedocs.io/en/latest/jwst/assign_wcs/main.html)."
   ]
  },
  {
   "cell_type": "code",
   "execution_count": null,
   "id": "66548075-1cf6-4d58-80ef-833f46c021a4",
   "metadata": {
    "scrolled": true
   },
   "outputs": [],
   "source": [
    "# Run assign_wcs; we are only running on one file for demonstration here\n",
    "ratefile = os.path.join(data_dir_in, 'jw02079004002_02101_00001_nis_rate.fits')\n",
    "result = AssignWcsStep.call(ratefile, output_dir=data_dir_out, save_results=True)"
   ]
  },
  {
   "cell_type": "code",
   "execution_count": null,
   "id": "9f97a814-64e6-44a9-bd35-4db7cb1977a7",
   "metadata": {},
   "outputs": [],
   "source": [
    "# A quick sanity check to ensure that the files were calibrated.\n",
    "# if this is zero, check the log message above for any errors that may have occurred during the calibration\n",
    "wcsstep_files = glob.glob(os.path.join(data_dir_out, '*assignwcsstep*'))\n",
    "print(len(wcsstep_files), 'assignwcsstep files written') # 1 file should have been written"
   ]
  },
  {
   "cell_type": "markdown",
   "id": "ae590a10-cc87-46a5-adfa-829f67549ec4",
   "metadata": {},
   "source": [
    "<a id='ff_step'></a>\n",
    "#### Flat Field Step\n",
    "\n",
    "After the assignwcs file is run, we then want to run the `flat_field` step of the pipeline which removes detector artifacts using the flat field reference files. To read more about the step, visit the [FlatField description page](https://jwst-pipeline.readthedocs.io/en/latest/jwst/flatfield/main.html)."
   ]
  },
  {
   "cell_type": "code",
   "execution_count": null,
   "id": "b6fd8419-841f-426d-aed2-31e7038c819c",
   "metadata": {
    "scrolled": true
   },
   "outputs": [],
   "source": [
    "# Run flat_field\n",
    "for wcsfile in wcsstep_files:\n",
    "    result = FlatFieldStep.call(wcsfile, output_dir=data_dir_out, save_results=True)"
   ]
  },
  {
   "cell_type": "code",
   "execution_count": null,
   "id": "f7a250d7-85c8-4fec-8e7d-929027811ca0",
   "metadata": {},
   "outputs": [],
   "source": [
    "# A quick sanity check to ensure that the files were calibrated.\n",
    "# if this is zero, check the log message above for any errors that may have occurred during the calibration\n",
    "flatfield_files = glob.glob(os.path.join(data_dir_out, '*flatfieldstep*'))\n",
    "print(len(flatfield_files), 'flatfieldstep files written') # 1 file should have been written (matching the wcs step)"
   ]
  },
  {
   "cell_type": "markdown",
   "id": "cd2eee20-b5c9-4a77-a9e0-e23eed1baa63",
   "metadata": {},
   "source": [
    "<a id='compare'></a>\n",
    "#### Compare Rate vs. Flat fielded Data\n",
    "Running the cell below shows the same direct image from just the rate file versus when the `flat_field` step of the pipeline is run. Some detector artifacts are noticably gone such as the [cross-hatching](https://jwst-docs.stsci.edu/known-issues-with-jwst-data/niriss-known-issues#NIRISSKnownIssues-Cross-hatching) in the bottom right and middle of the detector.\n",
    "\n",
    "There are remaining optical artifacts to be aware of on the [NIRISS known issues page](https://jwst-docs.stsci.edu/known-issues-with-jwst-data/niriss-known-issues) such as the 1/f noise."
   ]
  },
  {
   "cell_type": "code",
   "execution_count": null,
   "id": "dde1dfc3-c2af-4797-b97f-16ce249212cb",
   "metadata": {},
   "outputs": [],
   "source": [
    "test_rate_file = ratefile # look at a direct image for this comparision\n",
    "test_flat_file = os.path.join(data_dir_out, os.path.basename(test_rate_file).replace('rate.fits', 'flatfieldstep.fits'))\n",
    "\n",
    "plot_files = [test_rate_file, test_flat_file]\n",
    "plot_titles = ['Rate File', 'Flat Corrected File']\n",
    "\n",
    "fig, (ax1, ax2) = plt.subplots(1, 2, figsize=(15, 15))\n",
    "fig.suptitle(f\"{os.path.basename(test_rate_file).split('_rate')[0]}\\n{fits.getval(test_rate_file, 'PUPIL')}\", x=0.5, y=0.72)\n",
    "\n",
    "for filename, title, ax in zip(plot_files, plot_titles, [ax1, ax2]):\n",
    "    with fits.open(filename) as hdu:\n",
    "        # fill in the nan values from the bad pixels with zero; otherwise a single, non-dithered image is impossible to really see\n",
    "        data = hdu[1].data\n",
    "        data[np.isnan(data)] = 0\n",
    "        \n",
    "        ax.imshow(data, vmin=0.2, vmax=1.2, origin='lower')\n",
    "        ax.set_title(title)"
   ]
  },
  {
   "cell_type": "markdown",
   "id": "3cb991cf-af50-4189-8474-19adcb5768d8",
   "metadata": {},
   "source": [
    "<img style=\"float: right;\" src=\"https://raw.githubusercontent.com/spacetelescope/notebooks/master/assets/stsci_pri_combo_mark_horizonal_white_bkgd.png\" alt=\"Space Telescope Logo\" width=\"200px\"/>"
   ]
  }
 ],
 "metadata": {
  "kernelspec": {
   "display_name": "Python 3 (ipykernel)",
   "language": "python",
   "name": "python3"
  },
  "language_info": {
   "codemirror_mode": {
    "name": "ipython",
    "version": 3
   },
   "file_extension": ".py",
   "mimetype": "text/x-python",
   "name": "python",
   "nbconvert_exporter": "python",
   "pygments_lexer": "ipython3",
   "version": "3.11.7"
  }
 },
 "nbformat": 4,
 "nbformat_minor": 5
}
