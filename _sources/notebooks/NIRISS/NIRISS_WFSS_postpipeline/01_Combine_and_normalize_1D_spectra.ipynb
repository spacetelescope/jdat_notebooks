{
 "cells": [
  {
   "cell_type": "markdown",
   "metadata": {},
   "source": [
    "# WFSS Spectra Part 1: Combine and Normalize 1D Spectra"
   ]
  },
  {
   "cell_type": "markdown",
   "metadata": {},
   "source": [
    "**Use case:** optimal extraction of grism spectra; redshift measurement; emission-line maps.  Simplified version of [JDox Science Use Case # 33](https://jwst-docs.stsci.edu/near-infrared-imager-and-slitless-spectrograph/niriss-example-science-programs/niriss-wfss-with-nircam-parallel-imaging-of-galaxies-in-lensing-clusters).<br>\n",
    "**Data:** JWST simulated NIRISS images from [MIRAGE](https://jwst-docs.stsci.edu/jwst-other-tools/mirage-data-simulator), run through the [JWST calibration pipeline](https://jwst-pipeline.readthedocs.io/en/latest/); galaxy cluster.<br>\n",
    "**Tools:**  specutils, astropy, pandas, emcee, lmfit, corner, h5py.<br>\n",
    "**Cross-intrument:** NIRSpec <br>\n",
    "**Documentation:** This notebook is part of a STScI's larger [post-pipeline Data Analysis Tools Ecosystem](https://jwst-docs.stsci.edu/jwst-post-pipeline-data-analysis).<br>\n",
    "\n",
    "\n",
    "## Introduction\n",
    "\n",
    "This notebook is 2 of 4 in a set focusing on NIRISS WFSS data:\n",
    "    1. 1D optimal extraction since the JWST pipeline only provides a box extraction.  Optimal extraction improves S/N of spectra for faint sources.\n",
    "    2. Combine and normalize 1D spectra.\n",
    "    3. Cross correlate galaxy with template to get redshift.\n",
    "    4. Spatially resolved emission line map.\n",
    "    \n",
    "This notebook will first combine optimally extracted 1D spectra (from #1) at different dither positions.  The combined spectrum will then be normalized by flux estimated from direct images (i.e. broadband photometry).\n",
    "\n",
    "This notebook will start with an optimally extracted 1D spectrum in the previous notebook, saved in a file with a name similar to \"l3_nis_f115w_G150C_s00002_ndither0_1d_opt.fits\".  The various one-dimensional spectra from each dither will be combined and saved into a single file, named like \"l3_nis_f115w_G150C_s00004_combine_1d_opt.fits\". \n",
    "\n",
    "**Note:** The procedure is not intended to combine spectra from the two different orientations (C&R), as each has a different spectral resolution depending on source morphology.\n",
    "\n",
    "**Note:** Normalization of grism spectrum to each broadband filter photometry will improve zeropoint calibration, which is critical in continuum fitting over multiple filters."
   ]
  },
  {
   "cell_type": "code",
   "execution_count": null,
   "metadata": {},
   "outputs": [],
   "source": [
    "%matplotlib inline"
   ]
  },
  {
   "cell_type": "code",
   "execution_count": null,
   "metadata": {},
   "outputs": [],
   "source": [
    "import os\n",
    "import numpy as np\n",
    "from scipy.integrate import simpson\n",
    "from urllib.request import urlretrieve\n",
    "import tarfile\n",
    "\n",
    "from astropy.io import fits\n",
    "import astropy.units as u\n",
    "from astropy.io import ascii\n",
    "\n",
    "import astropy\n",
    "print('astropy', astropy.__version__)"
   ]
  },
  {
   "cell_type": "code",
   "execution_count": null,
   "metadata": {},
   "outputs": [],
   "source": [
    "import matplotlib.pyplot as plt\n",
    "import matplotlib as mpl\n",
    "\n",
    "# These gymnastics are needed to make the sizes of the figures\n",
    "# be the same in both the inline and notebook versions\n",
    "%config InlineBackend.print_figure_kwargs = {'bbox_inches': None}\n",
    "\n",
    "mpl.rcParams['savefig.dpi'] = 80\n",
    "mpl.rcParams['figure.dpi'] = 80"
   ]
  },
  {
   "cell_type": "code",
   "execution_count": null,
   "metadata": {},
   "outputs": [],
   "source": [
    "import specutils\n",
    "from specutils.spectra.spectrum1d import Spectrum1D\n",
    "from astropy.nddata import StdDevUncertainty\n",
    "\n",
    "print(\"Specutils: \", specutils.__version__)"
   ]
  },
  {
   "cell_type": "markdown",
   "metadata": {},
   "source": [
    "### 0. Download notebook 01 products\n",
    "These can be also obtained by running the notebooks."
   ]
  },
  {
   "cell_type": "code",
   "execution_count": null,
   "metadata": {},
   "outputs": [],
   "source": [
    "if not os.path.exists('./output'):\n",
    "    import zipfile\n",
    "    import urllib.request\n",
    "    boxlink = 'https://data.science.stsci.edu/redirect/JWST/jwst-data_analysis_tools/NIRISS_lensing_cluster/output.zip'\n",
    "    boxfile = './output.zip'\n",
    "    urllib.request.urlretrieve(boxlink, boxfile)\n",
    "    zf = zipfile.ZipFile(boxfile, 'r')\n",
    "    zf.extractall()\n",
    "else:\n",
    "    print('Already exists')"
   ]
  },
  {
   "cell_type": "code",
   "execution_count": null,
   "metadata": {},
   "outputs": [],
   "source": [
    "# Which data set?;\n",
    "DIR_OUT = './output/'\n",
    "filt = 'f200w'\n",
    "grism = 'G150C'\n",
    "id = '00004'\n",
    "ndither = 2 # Number of dithering positions."
   ]
  },
  {
   "cell_type": "markdown",
   "metadata": {},
   "source": [
    "### 1.Combine spectra from different dithers;"
   ]
  },
  {
   "cell_type": "code",
   "execution_count": null,
   "metadata": {},
   "outputs": [],
   "source": [
    "dithers = np.arange(0, ndither, 1)\n",
    "for dither in dithers:\n",
    "    file_1d = f'{DIR_OUT}l3_nis_{filt}_{grism}_s{id}_ndither{dither}_1d_opt.fits'\n",
    "    fd = fits.open(file_1d)[1].data\n",
    "    if dither == 0:\n",
    "        wave = fd['wavelength']\n",
    "        flux = np.zeros((ndither, len(wave)), 'float')\n",
    "        flux_err = np.zeros((ndither, len(wave)), 'float')\n",
    "        flux[dither, :] = fd['flux']\n",
    "        flux_err[dither, :] = fd['uncertainty']\n",
    "    else:\n",
    "        wave_tmp = fd['wavelength']\n",
    "        flux_tmp = fd['flux']\n",
    "        flux_err_tmp = fd['uncertainty']\n",
    "        \n",
    "        flux[dither, :] = np.interp(wave, wave_tmp, flux_tmp)\n",
    "        flux_err[dither, :] = np.sqrt(np.interp(wave, wave_tmp, flux_err_tmp[:]**2))"
   ]
  },
  {
   "cell_type": "code",
   "execution_count": null,
   "metadata": {},
   "outputs": [],
   "source": [
    "plt.plot(wave, flux[0, :], color='r', label='dither1')\n",
    "plt.plot(wave, flux[1, :], color='b', label='dither2')\n",
    "plt.legend(loc=2)"
   ]
  },
  {
   "cell_type": "markdown",
   "metadata": {},
   "source": [
    "### Make weighted-average of the two spectra from different dither positions;"
   ]
  },
  {
   "cell_type": "code",
   "execution_count": null,
   "metadata": {},
   "outputs": [],
   "source": [
    "flux_combine = np.zeros(len(wave), 'float')\n",
    "flux_err_combine = np.zeros(len(wave), 'float')\n",
    "\n",
    "for ii in range(len(wave)):\n",
    "    flux_combine[ii] = np.sum(flux[:, ii] * 1 / flux_err[:, ii]**2) / np.sum(1 / flux_err[:, ii]**2) \n",
    "    flux_err_combine[ii] = np.sqrt(np.sum(flux_err[:, ii]**2)) / len(flux_err[:, ii])\n",
    "\n",
    "plt.plot(wave, flux[0, :], color='gray', label='dither1')\n",
    "plt.plot(wave, flux[1, :], color='gray', label='dither2')\n",
    "plt.plot(wave, flux_combine[:], color='r', label='Combined')\n",
    "plt.legend(loc=2)"
   ]
  },
  {
   "cell_type": "markdown",
   "metadata": {},
   "source": [
    "### 2.Continuum normalization;\n",
    "Since NIRISS spectra may be affected background subtraction & contamination, which could lead to mismatch between filters, here we aim to normaliza spectra from filter to its broadband magnitude."
   ]
  },
  {
   "cell_type": "code",
   "execution_count": null,
   "metadata": {},
   "outputs": [],
   "source": [
    "# Open broadband flux catalog from Notebook 01a;\n",
    "\n",
    "# Flux are already in Fnu, with magzp = 25.0;\n",
    "file = DIR_OUT + 'l3_nis_flux.cat'\n",
    "\n",
    "fd_cat = ascii.read(file)\n",
    "id_cat = fd_cat['id']\n",
    "magzp = 25.0\n",
    "\n",
    "fd_cat"
   ]
  },
  {
   "cell_type": "code",
   "execution_count": null,
   "metadata": {},
   "outputs": [],
   "source": [
    "# Retrieve filter curves for NIRISS images;\n",
    "url = 'https://jwst-docs.stsci.edu/files/97978948/97978953/1/1596073225227/NIRISS_Filters_2017May.tar.gz'\n",
    "\n",
    "filename = 'tmp.tar.gz'\n",
    "urlretrieve(url, filename)\n",
    "my_tar = tarfile.open(filename)\n",
    "my_tar.extractall('./')"
   ]
  },
  {
   "cell_type": "code",
   "execution_count": null,
   "metadata": {},
   "outputs": [],
   "source": [
    "# Load fiter response:\n",
    "DIR_FIL = './NIRISS_Filters/DATA/'\n",
    "\n",
    "# The number corresponds to F200W in EAZY filter response;\n",
    "eazy_filt = 311\n",
    "\n",
    "# Read transmission data;\n",
    "filt_data = ascii.read(f'{DIR_FIL}/NIRISS_{filt.upper()}.txt')\n",
    "\n",
    "print(filt_data)\n",
    "wave_filt = filt_data['Wavelength']\n",
    "flux_filt = filt_data['FilterTrans']\n",
    "\n",
    "plt.plot(wave_filt, flux_filt, ls='-', label=f'NIRISS {filt.upper()}')\n",
    "plt.xlabel('wavelength')\n",
    "plt.ylabel('response')\n",
    "plt.legend(loc=1)"
   ]
  },
  {
   "cell_type": "code",
   "execution_count": null,
   "metadata": {},
   "outputs": [],
   "source": [
    "# Define a small function for flux convolution with filters;\n",
    "def filconv(lfil, ffil, l0, f0, DIR='', c=3e18):\n",
    "    '''\n",
    "    lfil : Wave array for filter response curve.\n",
    "    ffil : Flux array for filter response curve.\n",
    "\n",
    "    l0 : Wave array for spectrum, in f_nu, not f_lam\n",
    "    f0 : Flux array for spectrum, in f_nu, not f_lam\n",
    "\n",
    "    '''\n",
    "\n",
    "    fhalf = np.max(ffil)/2.0\n",
    "    con = (ffil > fhalf)\n",
    "    lfwhml = np.min(lfil[con])\n",
    "    lfwhmr = np.max(lfil[con])\n",
    "    lcen = (lfwhmr + lfwhml)/2.\n",
    "\n",
    "    lamS, spec = l0, f0  # Two columns with wavelength and flux density\n",
    "    lamF, filt = lfil, ffil  # Two columns with wavelength and response in the range [0,1]\n",
    "    filt_int = np.interp(lamS, lamF, filt)  # Interpolate Filter to common(spectra) wavelength axis\n",
    "\n",
    "    if len(lamS) > 0:\n",
    "        I1 = simpson(spec / lamS**2 * c * filt_int * lamS, x=lamS)  # Denominator for Fnu\n",
    "        I2 = simpson(filt_int/lamS, x=lamS) # Numerator\n",
    "        fnu = I1/I2/c # Average flux density\n",
    "    else:\n",
    "        I1 = 0\n",
    "        I2 = 0\n",
    "        fnu = 0\n",
    "\n",
    "    return lcen, fnu"
   ]
  },
  {
   "cell_type": "code",
   "execution_count": null,
   "metadata": {},
   "outputs": [],
   "source": [
    "# Convolve observed spectrum with the filter response.\n",
    "# The input flux need to be in Fnu with magzp=25;\n",
    "\n",
    "# Cut edge of observed flux;\n",
    "con = (wave > 1.75) & (wave < 2.25)\n",
    "lcen, fnu = filconv(wave_filt, flux_filt, wave[con], flux_combine[con], DIR='./')\n",
    "print('Central wavelength and total flux are ;', lcen, fnu)"
   ]
  },
  {
   "cell_type": "code",
   "execution_count": null,
   "metadata": {},
   "outputs": [],
   "source": [
    "# Get normalization factor;\n",
    "iix = np.where(id_cat[:] == int(id))\n",
    "Cnorm = fd_cat[f'F{eazy_filt}'][iix] / fnu \n",
    "Cnorm"
   ]
  },
  {
   "cell_type": "code",
   "execution_count": null,
   "metadata": {},
   "outputs": [],
   "source": [
    "# Wirte the normalized spectrum:\n",
    "# Make it into a Spectrum1D instance.\n",
    "file_1d = f'{DIR_OUT}l3_nis_{filt}_{grism}_s{id}_ndither{dither}_1d_opt.fits'\n",
    "\n",
    "obs = Spectrum1D(spectral_axis=wave*u.um,\n",
    "                 flux=flux_combine * Cnorm * u.dimensionless_unscaled,\n",
    "                 uncertainty=StdDevUncertainty(flux_err_combine * Cnorm), unit='')\n",
    "obs.write(file_1d, format='tabular-fits', overwrite=True)"
   ]
  },
  {
   "cell_type": "markdown",
   "metadata": {},
   "source": [
    "### Repeat 1&2 for other filters too;"
   ]
  },
  {
   "cell_type": "code",
   "execution_count": null,
   "metadata": {},
   "outputs": [],
   "source": [
    "DIR_FIL = './NIRISS_Filters/DATA/'\n",
    "filts = ['f115w', 'f150w', 'f200w']\n",
    "# The number corresponds to NIRISS filters in EAZY filter response;\n",
    "eazy_filts = [309, 310, 311]\n",
    "\n",
    "# Masks for problematic flux at edge;\n",
    "mask_lw = [1.05, 1.35, 1.75]\n",
    "mask_uw = [1.25, 1.65, 2.23]\n",
    "\n",
    "for ff, filt in enumerate(filts):\n",
    "    for dither in dithers:\n",
    "        file_1d = f'{DIR_OUT}l3_nis_{filt}_{grism}_s{id}_ndither{dither}_1d_opt.fits'\n",
    "        fd = fits.open(file_1d)[1].data\n",
    "        if dither == 0:\n",
    "            wave = fd['wavelength']\n",
    "            flux = np.zeros((ndither, len(wave)), 'float')\n",
    "            flux_err = np.zeros((ndither, len(wave)), 'float')\n",
    "\n",
    "            flux[dither, :] = fd['flux']\n",
    "            flux_err[dither, :] = fd['uncertainty']\n",
    "        else:\n",
    "            wave_tmp = fd['wavelength']\n",
    "            flux_tmp = fd['flux']\n",
    "            flux_err_tmp = fd['uncertainty']\n",
    "\n",
    "            flux[dither, :] = np.interp(wave, wave_tmp, flux_tmp)\n",
    "            flux_err[dither, :] = np.sqrt(np.interp(wave, wave_tmp, flux_err_tmp[:]**2))\n",
    "\n",
    "    # Combine;\n",
    "    flux_combine = np.zeros(len(wave), 'float')\n",
    "    flux_err_combine = np.zeros(len(wave), 'float')\n",
    "\n",
    "    for ii in range(len(wave)):\n",
    "        flux_combine[ii] = np.sum(flux[:, ii] * 1 / flux_err[:, ii]**2) / np.sum(1 / flux_err[:, ii]**2) \n",
    "        flux_err_combine[ii] = np.sqrt(np.sum(flux_err[:, ii]**2)) / len(flux_err[:, ii])\n",
    "\n",
    "    # Normalize;\n",
    "    filt_data = ascii.read(f'{DIR_FIL}/NIRISS_{filt.upper()}.txt')\n",
    "    wave_filt = filt_data['Wavelength']\n",
    "    flux_filt = filt_data['FilterTrans']\n",
    "\n",
    "    con = (wave > mask_lw[ff]) & (wave < mask_uw[ff])\n",
    "    lcen, fnu = filconv(wave_filt, flux_filt, wave[con], flux_combine[con])\n",
    "    iix = np.where(id_cat[:] == int(id))\n",
    "    Cnorm = fd_cat[f'F{eazy_filts[ff]}'][iix] / fnu\n",
    "\n",
    "    # Write:\n",
    "    file_1d = f'{DIR_OUT}l3_nis_{filt}_{grism}_s{id}_combine_1d_opt.fits' \n",
    "    \n",
    "    obs = Spectrum1D(spectral_axis=wave*u.um,\n",
    "                     flux=flux_combine * Cnorm * u.dimensionless_unscaled,\n",
    "                     uncertainty=StdDevUncertainty(flux_err_combine * Cnorm), unit='')\n",
    "    obs.write(file_1d, format='tabular-fits', overwrite=True)"
   ]
  },
  {
   "cell_type": "markdown",
   "metadata": {},
   "source": [
    "### Results;\n",
    "The spectra are align with each other, as they are matched to BB photometry."
   ]
  },
  {
   "cell_type": "code",
   "execution_count": null,
   "metadata": {},
   "outputs": [],
   "source": [
    "filts = ['f115w', 'f150w', 'f200w']\n",
    "cols = ['lightblue', 'orange', 'purple']\n",
    "\n",
    "for ff, filt in enumerate(filts):\n",
    "    file_1d = f'{DIR_OUT}l3_nis_{filt}_{grism}_s{id}_combine_1d_opt.fits' \n",
    "    fd = fits.open(file_1d)[1].data\n",
    "    wave = fd['wavelength']\n",
    "    flux = fd['flux']\n",
    "    flux_err = fd['uncertainty']\n",
    "\n",
    "    con = (wave > mask_lw[ff]) & (wave < mask_uw[ff])\n",
    "    plt.plot(wave[con], flux[con], ls='-', label=f'{grism} {filts[ff]}', color=cols[ff])\n",
    "\n",
    "    filt_data = ascii.read(f'{DIR_FIL}/NIRISS_{filt.upper()}.txt')\n",
    "    wave_filt = filt_data['Wavelength']\n",
    "    flux_filt = filt_data['FilterTrans']\n",
    "\n",
    "    con = (wave > mask_lw[ff]) & (wave < mask_uw[ff])\n",
    "    lcen, fnu = filconv(wave_filt, flux_filt, wave[con], flux[con])\n",
    "    iix = np.where(id_cat[:] == int(id))\n",
    "    plt.scatter(lcen, fd_cat[f'F{eazy_filts[ff]}'][iix], marker='s', s=50, edgecolor='k', color=cols[ff], label=f'BB {filts[ff]}')\n",
    "\n",
    "\n",
    "plt.xlabel('wavelength')\n",
    "plt.ylabel('flux')\n",
    "plt.ylim(0, 60)\n",
    "plt.legend(loc=0)"
   ]
  },
  {
   "cell_type": "markdown",
   "metadata": {},
   "source": [
    "### Repeat for another target;"
   ]
  },
  {
   "cell_type": "code",
   "execution_count": null,
   "metadata": {},
   "outputs": [],
   "source": [
    "id = '00003'\n",
    "\n",
    "filts = ['f115w', 'f150w', 'f200w']\n",
    "eazy_filts = [309, 310, 311]\n",
    "DIR_FIL = './NIRISS_Filters/DATA/'\n",
    "\n",
    "# Masks for problematic flux at edge;\n",
    "mask_lw = [1.05, 1.35, 1.75]\n",
    "mask_uw = [1.25, 1.65, 2.23]\n",
    "\n",
    "for ff, filt in enumerate(filts):\n",
    "        \n",
    "    for dither in dithers:\n",
    "        file_1d = f'{DIR_OUT}l3_nis_{filt}_{grism}_s{id}_ndither{dither}_1d_opt.fits'\n",
    "        fd = fits.open(file_1d)[1].data\n",
    "        if dither == 0:\n",
    "            wave = fd['wavelength']\n",
    "            flux = np.zeros((ndither, len(wave)), 'float')\n",
    "            flux_err = np.zeros((ndither, len(wave)), 'float')\n",
    "\n",
    "            flux[dither, :] = fd['flux']\n",
    "            flux_err[dither, :] = fd['uncertainty']\n",
    "        else:\n",
    "            wave_tmp = fd['wavelength']\n",
    "            flux_tmp = fd['flux']\n",
    "            flux_err_tmp = fd['uncertainty']\n",
    "\n",
    "            flux[dither, :] = np.interp(wave, wave_tmp, flux_tmp)\n",
    "            flux_err[dither, :] = np.sqrt(np.interp(wave, wave_tmp, flux_err_tmp[:]**2))\n",
    "\n",
    "    # Combine;\n",
    "    flux_combine = np.zeros(len(wave), 'float')\n",
    "    flux_err_combine = np.zeros(len(wave), 'float')\n",
    "\n",
    "    for ii in range(len(wave)):\n",
    "        flux_combine[ii] = np.sum(flux[:, ii] * 1 / flux_err[:, ii]**2) / np.sum(1 / flux_err[:, ii]**2) \n",
    "        flux_err_combine[ii] = np.sqrt(np.sum(flux_err[:, ii]**2)) / len(flux_err[:, ii])\n",
    "\n",
    "    # Normalize;\n",
    "    filt_data = ascii.read(f'{DIR_FIL}/NIRISS_{filt.upper()}.txt')\n",
    "    wave_filt = filt_data['Wavelength']\n",
    "    flux_filt = filt_data['FilterTrans']\n",
    "\n",
    "    con = (wave > mask_lw[ff]) & (wave < mask_uw[ff])\n",
    "    lcen, fnu = filconv(wave_filt, flux_filt, wave[con], flux_combine[con])\n",
    "    iix = np.where(id_cat[:] == int(id))\n",
    "    Cnorm = fd_cat[f'F{eazy_filts[ff]}'][iix] / fnu\n",
    "        \n",
    "    # Write:\n",
    "    file_1d = f'{DIR_OUT}l3_nis_{filt}_{grism}_s{id}_combine_1d_opt.fits'\n",
    "    obs = Spectrum1D(spectral_axis=wave*u.um,\n",
    "                     flux=flux_combine * Cnorm * u.dimensionless_unscaled,\n",
    "                     uncertainty=StdDevUncertainty(flux_err_combine * Cnorm), unit='')\n",
    "    obs.write(file_1d, format='tabular-fits', overwrite=True)"
   ]
  },
  {
   "cell_type": "code",
   "execution_count": null,
   "metadata": {},
   "outputs": [],
   "source": [
    "filts = ['f115w', 'f150w', 'f200w']\n",
    "cols = ['lightblue', 'orange', 'purple']\n",
    "\n",
    "for ff, filt in enumerate(filts):\n",
    "    file_1d = f'{DIR_OUT}l3_nis_{filt}_{grism}_s{id}_combine_1d_opt.fits' \n",
    "    fd = fits.open(file_1d)[1].data\n",
    "    wave = fd['wavelength']\n",
    "    flux = fd['flux']\n",
    "    flux_err = fd['uncertainty']\n",
    "\n",
    "    con = (wave > mask_lw[ff]) & (wave < mask_uw[ff])\n",
    "    plt.plot(wave[con], flux[con], ls='-', label=f'{grism} {filts[ff]}', color=cols[ff])\n",
    "\n",
    "    filt_data = ascii.read(f'{DIR_FIL}/NIRISS_{filt.upper()}.txt')\n",
    "    wave_filt = filt_data['Wavelength']\n",
    "    flux_filt = filt_data['FilterTrans']\n",
    "\n",
    "    con = (wave > mask_lw[ff]) & (wave < mask_uw[ff])\n",
    "    lcen, fnu = filconv(wave_filt, flux_filt, wave[con], flux[con])\n",
    "    iix = np.where(id_cat[:] == int(id))\n",
    "    plt.scatter(lcen, fd_cat[f'F{eazy_filts[ff]}'][iix], marker='s', s=50, edgecolor='k', color=cols[ff], label=f'BB {filts[ff]}')\n",
    "\n",
    "plt.xlabel('wavelength')\n",
    "plt.ylabel('flux')\n",
    "plt.ylim(0, 60)\n",
    "plt.legend(loc=0)"
   ]
  }
 ],
 "metadata": {
  "kernelspec": {
   "display_name": "Python 3 (ipykernel)",
   "language": "python",
   "name": "python3"
  },
  "language_info": {
   "codemirror_mode": {
    "name": "ipython",
    "version": 3
   },
   "file_extension": ".py",
   "mimetype": "text/x-python",
   "name": "python",
   "nbconvert_exporter": "python",
   "pygments_lexer": "ipython3",
   "version": "3.11.9"
  }
 },
 "nbformat": 4,
 "nbformat_minor": 4
}
