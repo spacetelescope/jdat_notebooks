{
 "cells": [
  {
   "cell_type": "markdown",
   "id": "08d94d39",
   "metadata": {},
   "source": [
    "# Spectral extraction"
   ]
  },
  {
   "cell_type": "markdown",
   "id": "e88b5d78",
   "metadata": {},
   "source": [
    "- select the object(s) with lines in all grisms\n",
    "- extract the three spectra with specreduce\n",
    "\n",
    "**Author notes**:\n",
    "- Combine all the exposures for a single target\n",
    "- Find something more automatic on multiple spectra using specreduce?\n",
    "- Extract with boxcar and optimal (also self profile)\n",
    "- Still need to take care of NaNs in specreduce\n"
   ]
  },
  {
   "cell_type": "code",
   "execution_count": null,
   "id": "e3b32f0d",
   "metadata": {},
   "outputs": [],
   "source": [
    "# utility\n",
    "import os\n",
    "import glob\n",
    "import shutil\n",
    "import numpy as np\n",
    "\n",
    "# astropy\n",
    "from astropy.table import Table, join\n",
    "from astropy.io import fits\n",
    "from astropy import units as u\n",
    "\n",
    "# jdaviz\n",
    "from jdaviz import Specviz2d, Specviz\n",
    "\n",
    "# specutils\n",
    "from specutils import Spectrum1D\n",
    "\n",
    "# \n",
    "from matplotlib import pyplot as plt\n"
   ]
  },
  {
   "cell_type": "code",
   "execution_count": null,
   "id": "1d04f1bb",
   "metadata": {},
   "outputs": [],
   "source": [
    "# Update appropriately\n",
    "data_dir_images = \"/Users/cpacifici/DATA/NGDEEP/image3/\"\n",
    "data_dir_out_spec2 = \"/Users/cpacifici/DATA/NGDEEP/spec2/\""
   ]
  },
  {
   "cell_type": "markdown",
   "id": "833b183f",
   "metadata": {},
   "source": [
    "## Select files and interesting object"
   ]
  },
  {
   "cell_type": "code",
   "execution_count": null,
   "id": "5b199602",
   "metadata": {},
   "outputs": [],
   "source": [
    "calfile_f115w = data_dir_out_spec2 + 'jw02079004001_03101_00001_nis_cal.fits'\n",
    "calfile_f150w = data_dir_out_spec2 + 'jw02079004002_09101_00001_nis_cal.fits'\n",
    "calfile_f200w = data_dir_out_spec2 + 'jw02079004003_03101_00001_nis_cal.fits'\n",
    "calfiles = [calfile_f115w, calfile_f150w, calfile_f200w]"
   ]
  },
  {
   "cell_type": "code",
   "execution_count": null,
   "id": "660447e0",
   "metadata": {},
   "outputs": [],
   "source": [
    "# My favorite object from the exploration in notebook 07\n",
    "object_id = 109"
   ]
  },
  {
   "cell_type": "markdown",
   "id": "7caba000",
   "metadata": {},
   "source": [
    "### Find correct extension in the files"
   ]
  },
  {
   "cell_type": "markdown",
   "id": "ec7b8cac",
   "metadata": {},
   "source": [
    "**Developer note:** there might be a way to know how many SCI extensions there are in a fits file, but I do not know how. For now I hard code `201` because this is the number of objects in the catalog that was used to generate the `cal` files."
   ]
  },
  {
   "cell_type": "code",
   "execution_count": null,
   "id": "2e6895ee",
   "metadata": {},
   "outputs": [],
   "source": [
    "ext_num = []\n",
    "for file in calfiles:\n",
    "    with fits.open(file) as hdu:\n",
    "        print(file)\n",
    "        for ii in range(1, 202):\n",
    "            if hdu['SCI',ii].header['SOURCEID']==object_id:\n",
    "                ext_num.append(ii)\n",
    "ext_num"
   ]
  },
  {
   "cell_type": "markdown",
   "id": "8daf2d8f",
   "metadata": {},
   "source": [
    "## Load in Specviz2d and extract 1D spectrum\n",
    "\n",
    "**Developer note**: the NaNs are not yet treated properly by Specviz2d (and specreduce). Need to mask them to zeros before proceeding."
   ]
  },
  {
   "cell_type": "markdown",
   "id": "9273c73b",
   "metadata": {},
   "source": [
    "### F115W"
   ]
  },
  {
   "cell_type": "code",
   "execution_count": null,
   "id": "0c637d66",
   "metadata": {},
   "outputs": [],
   "source": [
    "filter_num = 0\n",
    "calimage = fits.open(calfiles[filter_num])\n",
    "data = calimage['SCI',ext_num[filter_num]].data\n",
    "data = np.transpose(data)\n",
    "data = np.nan_to_num(data)\n",
    "wave = calimage['WAVELENGTH',ext_num[filter_num]].data[:,0]"
   ]
  },
  {
   "cell_type": "code",
   "execution_count": null,
   "id": "8b7c0590",
   "metadata": {},
   "outputs": [],
   "source": [
    "spec2d = Spectrum1D(flux=data*u.Jy, spectral_axis=wave*u.um)"
   ]
  },
  {
   "cell_type": "code",
   "execution_count": null,
   "id": "6b91e580",
   "metadata": {},
   "outputs": [],
   "source": [
    "specviz2d = Specviz2d()\n",
    "specviz2d.load_data(spec2d)\n",
    "specviz2d.show()"
   ]
  },
  {
   "cell_type": "code",
   "execution_count": null,
   "id": "9f01a54f",
   "metadata": {},
   "outputs": [],
   "source": [
    "spec1d_f115w = specviz2d.get_data('Spectrum 1D')"
   ]
  },
  {
   "cell_type": "markdown",
   "id": "03aa7058",
   "metadata": {},
   "source": [
    "### F150W"
   ]
  },
  {
   "cell_type": "code",
   "execution_count": null,
   "id": "a20e31d1",
   "metadata": {},
   "outputs": [],
   "source": [
    "filter_num = 1\n",
    "calimage = fits.open(calfiles[filter_num])\n",
    "data = calimage['SCI',ext_num[filter_num]].data\n",
    "data = np.transpose(data)\n",
    "data = np.nan_to_num(data)\n",
    "wave = calimage['WAVELENGTH',ext_num[filter_num]].data[:,0]"
   ]
  },
  {
   "cell_type": "code",
   "execution_count": null,
   "id": "d3919e94",
   "metadata": {},
   "outputs": [],
   "source": [
    "spec2d = Spectrum1D(flux=data*u.Jy, spectral_axis=wave*u.um)"
   ]
  },
  {
   "cell_type": "code",
   "execution_count": null,
   "id": "1ee3d806",
   "metadata": {},
   "outputs": [],
   "source": [
    "specviz2d2 = Specviz2d()\n",
    "specviz2d2.load_data(spec2d)\n",
    "specviz2d2.show()"
   ]
  },
  {
   "cell_type": "code",
   "execution_count": null,
   "id": "9e161b0e",
   "metadata": {},
   "outputs": [],
   "source": [
    "spec1d_f150w = specviz2d2.get_data('Spectrum 1D')"
   ]
  },
  {
   "cell_type": "markdown",
   "id": "71a9814f",
   "metadata": {},
   "source": [
    "### F200W"
   ]
  },
  {
   "cell_type": "code",
   "execution_count": null,
   "id": "ea2e0c45",
   "metadata": {},
   "outputs": [],
   "source": [
    "filter_num = 2\n",
    "calimage = fits.open(calfiles[filter_num])\n",
    "data = calimage['SCI',ext_num[filter_num]].data\n",
    "data = np.transpose(data)\n",
    "data = np.nan_to_num(data)\n",
    "wave = calimage['WAVELENGTH',ext_num[filter_num]].data[:,0]"
   ]
  },
  {
   "cell_type": "code",
   "execution_count": null,
   "id": "de1815d0",
   "metadata": {},
   "outputs": [],
   "source": [
    "spec2d = Spectrum1D(flux=data*u.Jy, spectral_axis=wave*u.um)"
   ]
  },
  {
   "cell_type": "code",
   "execution_count": null,
   "id": "3b2a6e89",
   "metadata": {},
   "outputs": [],
   "source": [
    "specviz2d3 = Specviz2d()\n",
    "specviz2d3.load_data(spec2d)\n",
    "specviz2d3.show()"
   ]
  },
  {
   "cell_type": "code",
   "execution_count": null,
   "id": "613b1402",
   "metadata": {},
   "outputs": [],
   "source": [
    "spec1d_f200w = specviz2d3.get_data('Spectrum 1D')"
   ]
  },
  {
   "cell_type": "markdown",
   "id": "5ce78c0f",
   "metadata": {},
   "source": [
    "## Open in Specviz"
   ]
  },
  {
   "cell_type": "code",
   "execution_count": null,
   "id": "8a1ab9cf",
   "metadata": {},
   "outputs": [],
   "source": [
    "specviz = Specviz()\n",
    "specviz.load_data(spec1d_f115w, data_label='f115w')\n",
    "specviz.load_data(spec1d_f150w, data_label='f150w')\n",
    "specviz.load_data(spec1d_f200w, data_label='f200w')\n",
    "specviz.show()"
   ]
  },
  {
   "cell_type": "markdown",
   "id": "e974d11f",
   "metadata": {},
   "source": [
    "Load a line list and measure the redshift of the target (spoiler: z=2.23)"
   ]
  },
  {
   "cell_type": "markdown",
   "id": "684e262b",
   "metadata": {},
   "source": [
    "### Save spectra as fits files"
   ]
  },
  {
   "cell_type": "code",
   "execution_count": null,
   "id": "695c3d5c",
   "metadata": {},
   "outputs": [],
   "source": [
    "spec1d_f115w.write('source109_f115w.fits')\n",
    "spec1d_f150w.write('source109_f150w.fits')\n",
    "spec1d_f200w.write('source109_f200w.fits')"
   ]
  },
  {
   "cell_type": "code",
   "execution_count": null,
   "id": "8b59d88b",
   "metadata": {},
   "outputs": [],
   "source": []
  }
 ],
 "metadata": {
  "kernelspec": {
   "display_name": "Python 3 (ipykernel)",
   "language": "python",
   "name": "python3"
  },
  "language_info": {
   "codemirror_mode": {
    "name": "ipython",
    "version": 3
   },
   "file_extension": ".py",
   "mimetype": "text/x-python",
   "name": "python",
   "nbconvert_exporter": "python",
   "pygments_lexer": "ipython3",
   "version": "3.11.4"
  }
 },
 "nbformat": 4,
 "nbformat_minor": 5
}
