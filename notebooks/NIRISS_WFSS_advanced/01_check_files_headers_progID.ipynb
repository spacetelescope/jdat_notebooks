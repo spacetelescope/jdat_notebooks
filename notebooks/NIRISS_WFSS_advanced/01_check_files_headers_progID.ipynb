{
 "cells": [
  {
   "cell_type": "markdown",
   "id": "continental-machinery",
   "metadata": {},
   "source": [
    "# Create list of files from MAST download\n",
    "\n",
    "Credit Jo Taylor."
   ]
  },
  {
   "cell_type": "code",
   "execution_count": null,
   "id": "nasty-belize",
   "metadata": {},
   "outputs": [],
   "source": [
    "from astropy.io import fits\n",
    "import pandas as pd\n",
    "import glob"
   ]
  },
  {
   "cell_type": "markdown",
   "id": "95d38a86",
   "metadata": {},
   "source": [
    "## Get list of files with header keywords"
   ]
  },
  {
   "cell_type": "code",
   "execution_count": null,
   "id": "3db7c79f",
   "metadata": {
    "scrolled": false
   },
   "outputs": [],
   "source": [
    "df = pd.DataFrame(columns=[\"FILENAME\", \"TARG_RA\", \"TARG_DEC\", \"FILTER\", \"PUPIL\", \"PATT_NUM\", \"NUMDTHPT\", \"XOFFSET\", \"YOFFSET\"])\n",
    "\n",
    "for file in glob.glob(\"./mastDownload/JWST/jw02079004*/*rate.fits\"):\n",
    "    image = fits.open(file)\n",
    "    \n",
    "    df2 = pd.DataFrame({\"FILENAME\"   : [image[0].header[\"FILENAME\"]],\n",
    "                        \"TARG_RA\"     : [image[0].header[\"TARG_RA\"]],\n",
    "                        \"TARG_DEC\"     : [image[0].header[\"TARG_DEC\"]],\n",
    "                        \"FILTER\"     : [image[0].header[\"FILTER\"]],\n",
    "                        \"PUPIL\"      : [image[0].header[\"PUPIL\"]],\n",
    "                        \"PATT_NUM\"   : [image[0].header[\"PATT_NUM\"]],\n",
    "                        \"NUMDTHPT\"   : [image[0].header[\"NUMDTHPT\"]],\n",
    "                        \"XOFFSET\"    : [image[0].header[\"XOFFSET\"]],\n",
    "                        \"YOFFSET\"    : [image[0].header[\"YOFFSET\"]]\n",
    "                       })\n",
    "    \n",
    "    df = pd.concat([df, df2], ignore_index = True, axis = 0)\n",
    "    \n",
    "dfsort = df.sort_values('FILENAME', ignore_index = True)"
   ]
  },
  {
   "cell_type": "markdown",
   "id": "7002e5c9",
   "metadata": {},
   "source": [
    "## Save to csv file"
   ]
  },
  {
   "cell_type": "code",
   "execution_count": null,
   "id": "a77d81da",
   "metadata": {},
   "outputs": [],
   "source": [
    "dfsort.to_csv(\"./list_ngdeep_rate.csv\",sep=',')"
   ]
  },
  {
   "cell_type": "markdown",
   "id": "719e5a24",
   "metadata": {},
   "source": [
    "## Move files to preferred location"
   ]
  },
  {
   "cell_type": "markdown",
   "id": "12a195ca",
   "metadata": {},
   "source": [
    "At this point, I move the rate files and the association files to a preferred place on my machine:\n",
    "- all rate files under NGDEEP/rate\n",
    "- level 2 association files under NGDEEP/asn_level2\n",
    "- level 3 association files under NGDEEP/asn_level3"
   ]
  },
  {
   "cell_type": "code",
   "execution_count": null,
   "id": "6bc1b5c4",
   "metadata": {},
   "outputs": [],
   "source": []
  }
 ],
 "metadata": {
  "kernelspec": {
   "display_name": "Python 3 (ipykernel)",
   "language": "python",
   "name": "python3"
  },
  "language_info": {
   "codemirror_mode": {
    "name": "ipython",
    "version": 3
   },
   "file_extension": ".py",
   "mimetype": "text/x-python",
   "name": "python",
   "nbconvert_exporter": "python",
   "pygments_lexer": "ipython3",
   "version": "3.11.4"
  }
 },
 "nbformat": 4,
 "nbformat_minor": 5
}
