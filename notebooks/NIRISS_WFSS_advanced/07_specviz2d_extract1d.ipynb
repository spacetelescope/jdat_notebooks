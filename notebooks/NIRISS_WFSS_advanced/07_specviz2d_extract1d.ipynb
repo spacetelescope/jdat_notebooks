{
 "cells": [
  {
   "cell_type": "code",
   "execution_count": null,
   "id": "e3b32f0d",
   "metadata": {},
   "outputs": [],
   "source": [
    "from jdaviz import Specviz2d, Specviz\n",
    "from specutils import Spectrum1D\n",
    "import numpy as np\n",
    "from astropy.io import fits\n",
    "from matplotlib import pyplot as plt\n",
    "from astropy import units as u"
   ]
  },
  {
   "cell_type": "code",
   "execution_count": null,
   "id": "b7d71a35",
   "metadata": {},
   "outputs": [],
   "source": [
    "calfile = './runpipeline_spec2/pipeline_output/jw02079004001_05101_00001_nis_cal.fits'\n",
    "calimage = fits.open(calfile)"
   ]
  },
  {
   "cell_type": "code",
   "execution_count": null,
   "id": "486ae51a",
   "metadata": {},
   "outputs": [],
   "source": [
    "for i in range(1,15):\n",
    "    print(i, calimage['SCI',i].header['SOURCEID'])"
   ]
  },
  {
   "cell_type": "code",
   "execution_count": null,
   "id": "f6526475",
   "metadata": {},
   "outputs": [],
   "source": [
    "source = 3\n",
    "print(calimage['SCI',source].header['SOURCEID'])"
   ]
  },
  {
   "cell_type": "code",
   "execution_count": null,
   "id": "0c637d66",
   "metadata": {},
   "outputs": [],
   "source": [
    "data = calimage['SCI',source].data\n",
    "data = np.nan_to_num(data)\n",
    "invertdata = np.flip(data, 1)\n",
    "wave = calimage['WAVELENGTH',source].data[0]\n",
    "invertwave = np.flip(wave)"
   ]
  },
  {
   "cell_type": "code",
   "execution_count": null,
   "id": "8b7c0590",
   "metadata": {},
   "outputs": [],
   "source": [
    "spec2d = Spectrum1D(flux=invertdata*u.Jy, spectral_axis=invertwave*u.um)"
   ]
  },
  {
   "cell_type": "code",
   "execution_count": null,
   "id": "6b91e580",
   "metadata": {},
   "outputs": [],
   "source": [
    "specviz2d = Specviz2d()\n",
    "specviz2d.load_data(spec2d)\n",
    "specviz2d.show()"
   ]
  },
  {
   "cell_type": "code",
   "execution_count": null,
   "id": "9f01a54f",
   "metadata": {},
   "outputs": [],
   "source": [
    "spec1d_pix = specviz2d.get_data('Spectrum 1D')"
   ]
  },
  {
   "cell_type": "code",
   "execution_count": null,
   "id": "154924cb",
   "metadata": {},
   "outputs": [],
   "source": [
    "spec1d_f115w = Spectrum1D(flux=spec1d_pix.flux, spectral_axis=invertwave*u.um)"
   ]
  },
  {
   "cell_type": "code",
   "execution_count": null,
   "id": "20718648",
   "metadata": {},
   "outputs": [],
   "source": [
    "spec1d_f150w = Spectrum1D(flux=spec1d_pix.flux, spectral_axis=invertwave*u.um)"
   ]
  },
  {
   "cell_type": "code",
   "execution_count": null,
   "id": "2477a732",
   "metadata": {},
   "outputs": [],
   "source": [
    "spec1d_f200w = Spectrum1D(flux=spec1d_pix.flux, spectral_axis=invertwave*u.um)"
   ]
  },
  {
   "cell_type": "code",
   "execution_count": null,
   "id": "8a1ab9cf",
   "metadata": {},
   "outputs": [],
   "source": [
    "specviz = Specviz()\n",
    "specviz.load_data(spec1d_f115w, data_label='f115w')\n",
    "specviz.load_data(spec1d_f150w, data_label='f150w')\n",
    "specviz.load_data(spec1d_f200w, data_label='f200w')\n",
    "specviz.show()"
   ]
  },
  {
   "cell_type": "code",
   "execution_count": null,
   "id": "0645e33f",
   "metadata": {},
   "outputs": [],
   "source": []
  }
 ],
 "metadata": {
  "kernelspec": {
   "display_name": "Python 3 (ipykernel)",
   "language": "python",
   "name": "python3"
  },
  "language_info": {
   "codemirror_mode": {
    "name": "ipython",
    "version": 3
   },
   "file_extension": ".py",
   "mimetype": "text/x-python",
   "name": "python",
   "nbconvert_exporter": "python",
   "pygments_lexer": "ipython3",
   "version": "3.11.4"
  }
 },
 "nbformat": 4,
 "nbformat_minor": 5
}
