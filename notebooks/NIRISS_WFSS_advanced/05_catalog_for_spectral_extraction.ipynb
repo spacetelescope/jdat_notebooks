{
 "cells": [
  {
   "cell_type": "markdown",
   "id": "5e3e6ab1",
   "metadata": {},
   "source": [
    "# Create catalog for spectral extraction\n",
    "\n",
    "Pick a few interesting objects and create catalogs for each filter with matching IDs for easy analysis after the extraction of the 2D spectra."
   ]
  },
  {
   "cell_type": "code",
   "execution_count": null,
   "id": "d9602eab",
   "metadata": {},
   "outputs": [],
   "source": [
    "from astropy.table import Table\n",
    "from astropy.coordinates import SkyCoord\n",
    "from astropy import units as u\n",
    "from jdaviz import Imviz"
   ]
  },
  {
   "cell_type": "markdown",
   "id": "aa194c49",
   "metadata": {},
   "source": [
    "## Read catalogs"
   ]
  },
  {
   "cell_type": "code",
   "execution_count": null,
   "id": "cfadc316",
   "metadata": {},
   "outputs": [],
   "source": [
    "data_dir = '/Users/cpacifici/DATA/NGDEEP/image3/'\n",
    "file_f115w = data_dir + 'jw02079-o004_t001_niriss_clear-f115w_cat.ecsv'\n",
    "file_f150w = data_dir + 'jw02079-o004_t001_niriss_clear-f150w_cat.ecsv'\n",
    "file_f200w = data_dir + 'jw02079-o004_t001_niriss_clear-f200w_cat.ecsv'"
   ]
  },
  {
   "cell_type": "code",
   "execution_count": null,
   "id": "8d711d91",
   "metadata": {},
   "outputs": [],
   "source": [
    "cat_f115w = Table.read(file_f115w)\n",
    "cat_f150w = Table.read(file_f150w)\n",
    "cat_f200w = Table.read(file_f200w)\n",
    "print(len(cat_f150w))\n",
    "cat_f150w['sky_centroid']"
   ]
  },
  {
   "cell_type": "markdown",
   "id": "fcb9e2cd",
   "metadata": {},
   "source": [
    "### Plot in Imviz"
   ]
  },
  {
   "cell_type": "code",
   "execution_count": null,
   "id": "53d84f30",
   "metadata": {},
   "outputs": [],
   "source": [
    "imagefile = data_dir + 'jw02079-o004_t001_niriss_clear-f150w_i2d.fits'\n",
    "imviz = Imviz()\n",
    "imviz.load_data(imagefile, data_label='F150W')\n",
    "imviz.show()"
   ]
  },
  {
   "cell_type": "code",
   "execution_count": null,
   "id": "a051cce9",
   "metadata": {},
   "outputs": [],
   "source": [
    "# Plot markers for all objects\n",
    "viewer = imviz.default_viewer\n",
    "viewer.reset_markers()\n",
    "t_f115w = Table({'coord': cat_f115w['sky_centroid']})\n",
    "t_f150w = Table({'coord': cat_f150w['sky_centroid']})\n",
    "t_f200w = Table({'coord': cat_f200w['sky_centroid']})\n",
    "viewer.marker = {'color': 'green', 'alpha': 0.8, 'markersize': 30, 'fill': False}\n",
    "viewer.add_markers(t_f115w, use_skycoord=True, marker_name='full_cat_f115w')\n",
    "viewer.marker = {'color': 'orange', 'alpha': 0.8, 'markersize': 5, 'fill': True}\n",
    "viewer.add_markers(t_f150w, use_skycoord=True, marker_name='full_cat_f150w')\n",
    "viewer.marker = {'color': 'red', 'alpha': 0.8, 'markersize': 5, 'fill': True}\n",
    "viewer.add_markers(t_f200w, use_skycoord=True, marker_name='full_cat_f200w')"
   ]
  },
  {
   "cell_type": "markdown",
   "id": "3da1408d",
   "metadata": {},
   "source": [
    "## Rewrite catalogs with matching IDs"
   ]
  },
  {
   "cell_type": "markdown",
   "id": "efd1ffba",
   "metadata": {},
   "source": [
    "### Match catalogs and find object in all three\n",
    "\n",
    "1. Match F115W to F150W -> f115w_base_matches\n",
    "2. Match f115w_base_matches to F200W -> f115w_base_matches, f200w_try_matches\n",
    "3. Rematch the matched F115W to F150W -> f115w_matches, f150w_try_matches"
   ]
  },
  {
   "cell_type": "code",
   "execution_count": null,
   "id": "7b90adf2",
   "metadata": {},
   "outputs": [],
   "source": [
    "f115w_base = cat_f115w['sky_centroid']\n",
    "f150w_try = cat_f150w['sky_centroid']\n",
    "\n",
    "max_sep = 1.0 * u.arcsec\n",
    "idx, d2d, d3d = f115w_base.match_to_catalog_3d(f150w_try)\n",
    "sep_constraint = d2d < max_sep\n",
    "f115w_base_matches = cat_f115w[sep_constraint]\n",
    "f150w_try_matches = cat_f150w[idx[sep_constraint]]"
   ]
  },
  {
   "cell_type": "code",
   "execution_count": null,
   "id": "ceeb065c",
   "metadata": {},
   "outputs": [],
   "source": [
    "f115w_base = f115w_base_matches['sky_centroid']\n",
    "f200w_try = cat_f200w['sky_centroid']\n",
    "\n",
    "max_sep = 1.0 * u.arcsec\n",
    "idx, d2d, d3d = f115w_base.match_to_catalog_3d(f200w_try)\n",
    "sep_constraint = d2d < max_sep\n",
    "f115w_base_matches = f115w_base_matches[sep_constraint]\n",
    "f200w_try_matches = cat_f200w[idx[sep_constraint]]"
   ]
  },
  {
   "cell_type": "code",
   "execution_count": null,
   "id": "7e7c7e7a",
   "metadata": {},
   "outputs": [],
   "source": [
    "f115w_base = f115w_base_matches['sky_centroid']\n",
    "f150w_try = cat_f150w['sky_centroid']\n",
    "\n",
    "max_sep = 1.0 * u.arcsec\n",
    "idx, d2d, d3d = f115w_base.match_to_catalog_3d(f150w_try)\n",
    "sep_constraint = d2d < max_sep\n",
    "f115w_matches = f115w_base_matches[sep_constraint]\n",
    "f150w_try_matches = cat_f150w[idx[sep_constraint]]"
   ]
  },
  {
   "cell_type": "code",
   "execution_count": null,
   "id": "977a5c32",
   "metadata": {},
   "outputs": [],
   "source": [
    "f115w_matches"
   ]
  },
  {
   "cell_type": "code",
   "execution_count": null,
   "id": "46bb3784",
   "metadata": {},
   "outputs": [],
   "source": [
    "# Check that they all have the same length\n",
    "print(\"Length F115W match: \", len(f115w_matches))\n",
    "print(\"Length F150W match: \", len(f150w_try_matches))\n",
    "print(\"Length F200W match: \", len(f200w_try_matches))"
   ]
  },
  {
   "cell_type": "markdown",
   "id": "2f9085b9",
   "metadata": {},
   "source": [
    "### Rewrite catalogs"
   ]
  },
  {
   "cell_type": "code",
   "execution_count": null,
   "id": "4ffbe9ce",
   "metadata": {},
   "outputs": [],
   "source": [
    "f115w_out_file = data_dir + 'jw02079-o004_t001_niriss_clear-f115w_cat_matched.ecsv'\n",
    "f150w_out_file = data_dir + 'jw02079-o004_t001_niriss_clear-f150w_cat_matched.ecsv'\n",
    "f200w_out_file = data_dir + 'jw02079-o004_t001_niriss_clear-f200w_cat_matched.ecsv'"
   ]
  },
  {
   "cell_type": "markdown",
   "id": "e7549208",
   "metadata": {},
   "source": [
    "This is the critical step. Use the same `label` for the same targets in the three catalogs."
   ]
  },
  {
   "cell_type": "code",
   "execution_count": null,
   "id": "3da16f16",
   "metadata": {},
   "outputs": [],
   "source": [
    "f150w_try_matches['label'] = f115w_matches['label']\n",
    "f200w_try_matches['label'] = f115w_matches['label']"
   ]
  },
  {
   "cell_type": "code",
   "execution_count": null,
   "id": "7bedf34d",
   "metadata": {},
   "outputs": [],
   "source": [
    "f115w_matches.write(f115w_out_file, format='ascii.ecsv', overwrite=True)\n",
    "f150w_try_matches.write(f150w_out_file, format='ascii.ecsv', overwrite=True)\n",
    "f200w_try_matches.write(f200w_out_file, format='ascii.ecsv', overwrite=True)"
   ]
  }
 ],
 "metadata": {
  "kernelspec": {
   "display_name": "Python 3 (ipykernel)",
   "language": "python",
   "name": "python3"
  },
  "language_info": {
   "codemirror_mode": {
    "name": "ipython",
    "version": 3
   },
   "file_extension": ".py",
   "mimetype": "text/x-python",
   "name": "python",
   "nbconvert_exporter": "python",
   "pygments_lexer": "ipython3",
   "version": "3.11.4"
  }
 },
 "nbformat": 4,
 "nbformat_minor": 5
}
