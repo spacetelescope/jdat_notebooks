{
 "cells": [
  {
   "cell_type": "markdown",
   "id": "5e3e6ab1",
   "metadata": {},
   "source": [
    "# Create catalog for spectral extraction\n",
    "\n",
    "Pick a few interesting objects and create catalogs for each filter with matching IDs for easy analysis after the extraction of the 2D spectra."
   ]
  },
  {
   "cell_type": "code",
   "execution_count": null,
   "id": "d9602eab",
   "metadata": {},
   "outputs": [],
   "source": [
    "from astropy.table import Table\n",
    "from jdaviz import Imviz"
   ]
  },
  {
   "cell_type": "markdown",
   "id": "aa194c49",
   "metadata": {},
   "source": [
    "## Read catalogs"
   ]
  },
  {
   "cell_type": "code",
   "execution_count": null,
   "id": "cfadc316",
   "metadata": {},
   "outputs": [],
   "source": [
    "data_dir = '/Users/cpacifici/DATA/NGDEEP/image3/'\n",
    "file_f115w = data_dir + 'jw02079-o004_t001_niriss_clear-f115w_cat.ecsv'\n",
    "file_f150w = data_dir + 'jw02079-o004_t001_niriss_clear-f150w_cat.ecsv'\n",
    "file_f150w = data_dir + 'jw02079-o004_t001_niriss_clear-f200w_cat.ecsv'"
   ]
  },
  {
   "cell_type": "code",
   "execution_count": null,
   "id": "8d711d91",
   "metadata": {},
   "outputs": [],
   "source": [
    "cat_f115w = Table.read(file_f115w)\n",
    "cat_f115w"
   ]
  },
  {
   "cell_type": "markdown",
   "id": "b44f4b06",
   "metadata": {},
   "source": [
    "## Filter interesting objects"
   ]
  },
  {
   "cell_type": "markdown",
   "id": "3da1408d",
   "metadata": {},
   "source": [
    "## Rewrite catalogs with matching IDs"
   ]
  },
  {
   "cell_type": "code",
   "execution_count": null,
   "id": "9f54b03d",
   "metadata": {},
   "outputs": [],
   "source": []
  }
 ],
 "metadata": {
  "kernelspec": {
   "display_name": "Python 3 (ipykernel)",
   "language": "python",
   "name": "python3"
  },
  "language_info": {
   "codemirror_mode": {
    "name": "ipython",
    "version": 3
   },
   "file_extension": ".py",
   "mimetype": "text/x-python",
   "name": "python",
   "nbconvert_exporter": "python",
   "pygments_lexer": "ipython3",
   "version": "3.11.4"
  }
 },
 "nbformat": 4,
 "nbformat_minor": 5
}
