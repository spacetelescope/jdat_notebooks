{
 "cells": [
  {
   "cell_type": "markdown",
   "id": "5e3e6ab1",
   "metadata": {},
   "source": [
    "# Create catalog for spectral extraction\n",
    "\n",
    "Create catalogs for each filter with matching IDs for easy analysis after the extraction of the 2D spectra. No filtering is applied here. Make copy of original catalogs because they will be overwritten. If I overwrite the catalogs, I do not have to change all the association files."
   ]
  },
  {
   "cell_type": "code",
   "execution_count": null,
   "id": "d9602eab",
   "metadata": {},
   "outputs": [],
   "source": [
    "import glob\n",
    "import shutil\n",
    "from astropy.table import Table\n",
    "from astropy.coordinates import SkyCoord\n",
    "from astropy import units as u\n",
    "from jdaviz import Imviz"
   ]
  },
  {
   "cell_type": "markdown",
   "id": "aa194c49",
   "metadata": {},
   "source": [
    "## Read catalogs"
   ]
  },
  {
   "cell_type": "code",
   "execution_count": null,
   "id": "cfadc316",
   "metadata": {},
   "outputs": [],
   "source": [
    "data_dir = '/Users/cpacifici/DATA/NGDEEP/image3/'\n",
    "file_f115w = data_dir + 'jw02079-o004_t001_niriss_clear-f115w_cat.ecsv'\n",
    "file_f150w = data_dir + 'jw02079-o004_t001_niriss_clear-f150w_cat.ecsv'\n",
    "file_f200w = data_dir + 'jw02079-o004_t001_niriss_clear-f200w_cat.ecsv'"
   ]
  },
  {
   "cell_type": "code",
   "execution_count": null,
   "id": "8d711d91",
   "metadata": {},
   "outputs": [],
   "source": [
    "cat_f115w = Table.read(file_f115w)\n",
    "cat_f150w = Table.read(file_f150w)\n",
    "cat_f200w = Table.read(file_f200w)\n",
    "print(len(cat_f150w))\n",
    "cat_f150w['sky_centroid']"
   ]
  },
  {
   "cell_type": "markdown",
   "id": "c9d738f3",
   "metadata": {},
   "source": [
    "Make copy of the catalogs."
   ]
  },
  {
   "cell_type": "code",
   "execution_count": null,
   "id": "d414e56b",
   "metadata": {},
   "outputs": [],
   "source": [
    "shutil.copy(file_f115w, data_dir+'jw02079-o004_t001_niriss_clear-f115w_cat_original.ecsv')\n",
    "shutil.copy(file_f150w, data_dir+'jw02079-o004_t001_niriss_clear-f150w_cat_original.ecsv')\n",
    "shutil.copy(file_f200w, data_dir+'jw02079-o004_t001_niriss_clear-f200w_cat_original.ecsv')"
   ]
  },
  {
   "cell_type": "markdown",
   "id": "81a83a9b",
   "metadata": {},
   "source": [
    "### Plot in Imviz"
   ]
  },
  {
   "cell_type": "code",
   "execution_count": null,
   "id": "f50c9286",
   "metadata": {},
   "outputs": [],
   "source": [
    "imagefile = data_dir + 'jw02079-o004_t001_niriss_clear-f150w_i2d.fits'\n",
    "imviz = Imviz()\n",
    "imviz.load_data(imagefile, data_label='F150W')\n",
    "imviz.show()"
   ]
  },
  {
   "cell_type": "code",
   "execution_count": null,
   "id": "47b4217a",
   "metadata": {},
   "outputs": [],
   "source": [
    "# Plot markers for all objects\n",
    "viewer = imviz.default_viewer\n",
    "viewer.reset_markers()\n",
    "t_f115w = Table({'coord': cat_f115w['sky_centroid']})\n",
    "t_f150w = Table({'coord': cat_f150w['sky_centroid']})\n",
    "t_f200w = Table({'coord': cat_f200w['sky_centroid']})\n",
    "viewer.marker = {'color': 'green', 'alpha': 0.8, 'markersize': 30, 'fill': False}\n",
    "viewer.add_markers(t_f115w, use_skycoord=True, marker_name='full_cat_f115w')\n",
    "viewer.marker = {'color': 'orange', 'alpha': 0.8, 'markersize': 5, 'fill': True}\n",
    "viewer.add_markers(t_f150w, use_skycoord=True, marker_name='full_cat_f150w')\n",
    "viewer.marker = {'color': 'red', 'alpha': 0.8, 'markersize': 5, 'fill': True}\n",
    "viewer.add_markers(t_f200w, use_skycoord=True, marker_name='full_cat_f200w')"
   ]
  },
  {
   "cell_type": "markdown",
   "id": "3da1408d",
   "metadata": {},
   "source": [
    "## Rewrite catalogs with matching IDs"
   ]
  },
  {
   "cell_type": "markdown",
   "id": "587b4376",
   "metadata": {},
   "source": [
    "### Match catalogs and find object in all three\n",
    "\n",
    "1. Match F115W to F150W -> f115w_base_matches\n",
    "2. Match f115w_base_matches to F200W -> f115w_base_matches, f200w_try_matches\n",
    "3. Rematch the matched F115W to F150W -> f115w_matches, f150w_try_matches"
   ]
  },
  {
   "cell_type": "code",
   "execution_count": null,
   "id": "4048f182",
   "metadata": {},
   "outputs": [],
   "source": [
    "f115w_base = cat_f115w['sky_centroid']\n",
    "f150w_try = cat_f150w['sky_centroid']\n",
    "\n",
    "max_sep = 1.0 * u.arcsec\n",
    "idx, d2d, d3d = f115w_base.match_to_catalog_3d(f150w_try)\n",
    "sep_constraint = d2d < max_sep\n",
    "f115w_base_matches = cat_f115w[sep_constraint]\n",
    "f150w_try_matches = cat_f150w[idx[sep_constraint]]"
   ]
  },
  {
   "cell_type": "code",
   "execution_count": null,
   "id": "b8956cca",
   "metadata": {},
   "outputs": [],
   "source": [
    "f115w_base = f115w_base_matches['sky_centroid']\n",
    "f200w_try = cat_f200w['sky_centroid']\n",
    "\n",
    "max_sep = 1.0 * u.arcsec\n",
    "idx, d2d, d3d = f115w_base.match_to_catalog_3d(f200w_try)\n",
    "sep_constraint = d2d < max_sep\n",
    "f115w_base_matches = f115w_base_matches[sep_constraint]\n",
    "f200w_try_matches = cat_f200w[idx[sep_constraint]]"
   ]
  },
  {
   "cell_type": "code",
   "execution_count": null,
   "id": "65915dfd",
   "metadata": {},
   "outputs": [],
   "source": [
    "f115w_base = f115w_base_matches['sky_centroid']\n",
    "f150w_try = cat_f150w['sky_centroid']\n",
    "\n",
    "max_sep = 1.0 * u.arcsec\n",
    "idx, d2d, d3d = f115w_base.match_to_catalog_3d(f150w_try)\n",
    "sep_constraint = d2d < max_sep\n",
    "f115w_matches = f115w_base_matches[sep_constraint]\n",
    "f150w_try_matches = cat_f150w[idx[sep_constraint]]"
   ]
  },
  {
   "cell_type": "code",
   "execution_count": null,
   "id": "8e1da323",
   "metadata": {},
   "outputs": [],
   "source": [
    "f115w_matches"
   ]
  },
  {
   "cell_type": "code",
   "execution_count": null,
   "id": "b2034693",
   "metadata": {},
   "outputs": [],
   "source": [
    "# Check that they all have the same length\n",
    "print(\"Length F115W match: \", len(f115w_matches))\n",
    "print(\"Length F150W match: \", len(f150w_try_matches))\n",
    "print(\"Length F200W match: \", len(f200w_try_matches))"
   ]
  },
  {
   "cell_type": "markdown",
   "id": "e36d9525",
   "metadata": {},
   "source": [
    "### Rewrite catalogs"
   ]
  },
  {
   "cell_type": "markdown",
   "id": "516f62fa",
   "metadata": {},
   "source": [
    "Overwrite. This is the critical step. Use the same `label` for the same targets in the three catalogs."
   ]
  },
  {
   "cell_type": "code",
   "execution_count": null,
   "id": "1ae2d0ab",
   "metadata": {},
   "outputs": [],
   "source": [
    "f150w_try_matches['label'] = f115w_matches['label']\n",
    "f200w_try_matches['label'] = f115w_matches['label']"
   ]
  },
  {
   "cell_type": "code",
   "execution_count": null,
   "id": "30362634",
   "metadata": {},
   "outputs": [],
   "source": [
    "f115w_matches.write(file_f115w, format='ascii.ecsv', overwrite=True)\n",
    "f150w_try_matches.write(file_f150w, format='ascii.ecsv', overwrite=True)\n",
    "f200w_try_matches.write(file_f200w, format='ascii.ecsv', overwrite=True)"
   ]
  },
  {
   "cell_type": "code",
   "execution_count": null,
   "id": "5eba8956",
   "metadata": {},
   "outputs": [],
   "source": []
  }
 ],
 "metadata": {
  "kernelspec": {
   "display_name": "Python 3 (ipykernel)",
   "language": "python",
   "name": "python3"
  },
  "language_info": {
   "codemirror_mode": {
    "name": "ipython",
    "version": 3
   },
   "file_extension": ".py",
   "mimetype": "text/x-python",
   "name": "python",
   "nbconvert_exporter": "python",
   "pygments_lexer": "ipython3",
   "version": "3.11.4"
  }
 },
 "nbformat": 4,
 "nbformat_minor": 5
}
