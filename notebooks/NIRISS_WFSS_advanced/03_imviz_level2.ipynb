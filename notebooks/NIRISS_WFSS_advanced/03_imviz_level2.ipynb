{
 "cells": [
  {
   "cell_type": "markdown",
   "id": "28608b44",
   "metadata": {},
   "source": [
    "# Check flat fielded images from NGDEEP\n",
    "\n",
    "This is to look at the images and see if there are problems."
   ]
  },
  {
   "cell_type": "code",
   "execution_count": null,
   "id": "216f4a35",
   "metadata": {},
   "outputs": [],
   "source": [
    "from jdaviz import Imviz\n",
    "import warnings\n",
    "from astropy.io import ascii, fits\n",
    "from astropy.table import Table\n",
    "from astropy.coordinates import SkyCoord, Angle\n",
    "import astropy.units as u\n",
    "import numpy as np\n",
    "import os\n",
    "import pandas as pd\n",
    "import glob"
   ]
  },
  {
   "cell_type": "markdown",
   "id": "d4c0f2ce",
   "metadata": {},
   "source": [
    "## Read list of files"
   ]
  },
  {
   "cell_type": "code",
   "execution_count": null,
   "id": "05afdbfc",
   "metadata": {},
   "outputs": [],
   "source": [
    "def write_keywords_csv(datadir):\n",
    "    # set up an empty dataframe initially to fill in\n",
    "    df = pd.DataFrame(columns=[\"FILENAME\",\n",
    "                               \"TARG_RA\", \n",
    "                               \"TARG_DEC\", \n",
    "                               \"FILTER\", # Grism; GR150R/GR150C\n",
    "                               \"PUPIL\", # Filter used; F090W, F115W, F140M, F150W F158M, F200W\n",
    "                               \"PATT_NUM\", # Position number within dither pattern for WFSS\n",
    "                               \"NUMDTHPT\", # Total number of points in entire dither pattern\n",
    "                               \"XOFFSET\", # X offset from pattern starting position for NIRISS (arcsec)\n",
    "                               \"YOFFSET\"]) # Y offset from pattern starting position for NIRISS (arcsec)\n",
    "\n",
    "    for ratefile in glob.glob(os.path.join(datadir, \"*rate.fits\")):\n",
    "        image = fits.open(ratefile)\n",
    "\n",
    "        # create a new dataframe for each file\n",
    "        df2 = pd.DataFrame({\"FILENAME\"   : ratefile,\n",
    "                            \"TARG_RA\"     : [image[0].header[\"TARG_RA\"]],\n",
    "                            \"TARG_DEC\"     : [image[0].header[\"TARG_DEC\"]],\n",
    "                            \"FILTER\"     : [image[0].header[\"FILTER\"]],\n",
    "                            \"PUPIL\"      : [image[0].header[\"PUPIL\"]],\n",
    "                            \"PATT_NUM\"   : [image[0].header[\"PATT_NUM\"]],\n",
    "                            \"NUMDTHPT\"   : [image[0].header[\"NUMDTHPT\"]],\n",
    "                            \"XOFFSET\"    : [image[0].header[\"XOFFSET\"]],\n",
    "                            \"YOFFSET\"    : [image[0].header[\"YOFFSET\"]]\n",
    "                           })\n",
    "\n",
    "        # merge the two dataframes together to create a dataframe with all \n",
    "        df = pd.concat([df, df2], ignore_index=True, axis=0)\n",
    "\n",
    "    dfsort = df.sort_values('FILENAME', ignore_index=False)\n",
    "\n",
    "    dfsort.to_csv(\"./list_ngdeep_rate.csv\", sep=',', index=False)\n",
    "    return dfsort"
   ]
  },
  {
   "cell_type": "code",
   "execution_count": null,
   "id": "bf65d59c",
   "metadata": {},
   "outputs": [],
   "source": [
    "listrate_file = './list_ngdeep_rate.csv'\n",
    "\n",
    "if os.path.exists(listrate_file):\n",
    "    rate_df = Table.read(listrate_file)\n",
    "else:\n",
    "    rate_df = write_keywords_csv('data/NGDEEP/rate')\n",
    "\n",
    "rate_df[-1::]"
   ]
  },
  {
   "cell_type": "markdown",
   "id": "4d7f78b7",
   "metadata": {},
   "source": [
    "While you could look at the rate images, instead consider running the files through flatfield step of the pipeline to clean up detector artifacts.\n",
    "\n",
    "** Insert notebook 02 here as an optional function and call it. Fix the function to use call instead while doing this, too ** "
   ]
  },
  {
   "cell_type": "markdown",
   "id": "3a7a85e7",
   "metadata": {},
   "source": [
    "## Check astrometry on direct images"
   ]
  },
  {
   "cell_type": "code",
   "execution_count": null,
   "id": "7e26b8a3",
   "metadata": {},
   "outputs": [],
   "source": [
    "direct_image_df = rate_df[rate_df['FILTER'] == 'CLEAR'] # selecting out only the direct images\n",
    "clearim = direct_image_df['FILENAME']\n",
    "# optional flatfield step would be:\n",
    "flatfield_im = [f.replace('rate.fits', 'flatfieldstep.fits') for f in clearim]\n",
    "datalabel = direct_image_df['PUPIL']"
   ]
  },
  {
   "cell_type": "markdown",
   "id": "9144f386",
   "metadata": {},
   "source": [
    "### Use Imviz batch load since it is many images\n",
    "It takes about 1 minute to load all the images.\n",
    "\n",
    "** I need some basic instructions here to know how to navigate **"
   ]
  },
  {
   "cell_type": "code",
   "execution_count": null,
   "id": "efbedea9",
   "metadata": {
    "scrolled": false
   },
   "outputs": [],
   "source": [
    "imviz = Imviz()\n",
    "for img, filt_label in zip(clearim, datalabel):\n",
    "    with warnings.catch_warnings():\n",
    "        warnings.simplefilter('ignore')\n",
    "        imviz.load_data(img, data_label=filt_label)\n",
    "imviz.show()"
   ]
  },
  {
   "cell_type": "code",
   "execution_count": null,
   "id": "c6ebfa64",
   "metadata": {},
   "outputs": [],
   "source": [
    "viewer = imviz.default_viewer"
   ]
  },
  {
   "cell_type": "code",
   "execution_count": null,
   "id": "6ed6c0c4",
   "metadata": {},
   "outputs": [],
   "source": [
    "linking = imviz.plugins['Links Control']\n",
    "linking.link_type = 'WCS'"
   ]
  },
  {
   "cell_type": "code",
   "execution_count": null,
   "id": "53b3db0f",
   "metadata": {},
   "outputs": [],
   "source": [
    "# This also takes a bit of time (~30 seconds) to loop through all the images\n",
    "plotopt = imviz.plugins['Plot Options']\n",
    "plotopt.multiselect = True\n",
    "plotopt.select_all(viewers=True, layers=True)\n",
    "plotopt.stretch_preset = '99.5%'\n",
    "plotopt.multiselect = False\n",
    "#plotopt.stretch_function = 'Arcsinh'\n",
    "#plotopt.stretch_vmin = -0.002\n",
    "#plotopt.stretch_vmax = 0.16"
   ]
  },
  {
   "cell_type": "markdown",
   "id": "5a2a5552",
   "metadata": {},
   "source": [
    "### Blink\n",
    "Using the \"b\" key when on the viewer."
   ]
  },
  {
   "cell_type": "markdown",
   "id": "54cebc13",
   "metadata": {},
   "source": [
    "**Data note**: there is a problem with the astrometry. The F200W filter does not match the others. I am not sure if F200W is the problem or the other two are the problem. Fixing the astrometry is out of scope for this notebook."
   ]
  },
  {
   "cell_type": "markdown",
   "id": "015c5f3c",
   "metadata": {},
   "source": [
    "## Check direct images and their corresponding WFSS images\n",
    "\n",
    "Look at direct and dispersed images on the same dither position."
   ]
  },
  {
   "cell_type": "code",
   "execution_count": null,
   "id": "fa07c90d",
   "metadata": {},
   "outputs": [],
   "source": [
    "# Using the XOFFSET and YOFFSET keywords, match the direct image and dispersed (grism) images to each other\n",
    "\n",
    "file_dict = {}\n",
    "for xoff, yoff, imgname in zip(direct_image_df['XOFFSET'], direct_image_df['YOFFSET'], \n",
    "                               direct_image_df['FILENAME']):\n",
    "    match_pointing_df = rate_df[(rate_df['XOFFSET'] == xoff) & \n",
    "                                (rate_df['YOFFSET'] == yoff) &\n",
    "                                (rate_df['FILENAME'] != imgname)]\n",
    "    \n",
    "    # If there aren't any matches, keep moving\n",
    "    if not len(match_pointing_df):\n",
    "        continue\n",
    "    \n",
    "    # fill in the direct / dispersed dataframe for each of the filters\n",
    "    temp_filter = match_pointing_df.iloc[0]['PUPIL']\n",
    "    if temp_filter in list(file_dict.keys()):\n",
    "        # For now, only grab the first instance of the image/grism pair\n",
    "        continue\n",
    "    else:\n",
    "        print('**', temp_filter, imgname)\n",
    "        print(match_pointing_df.iloc[0]['FILENAME'])\n",
    "        print(match_pointing_df.iloc[0]['FILTER'])\n",
    "        file_dict[temp_filter] = {'direct_img' : imgname,\n",
    "                                  'dispersed_img' : match_pointing_df.iloc[0]['FILENAME']}\n",
    "    print()"
   ]
  },
  {
   "cell_type": "code",
   "execution_count": null,
   "id": "963c1f6a",
   "metadata": {},
   "outputs": [],
   "source": [
    "imviz2 = Imviz()\n",
    "with warnings.catch_warnings():\n",
    "    warnings.simplefilter('ignore')\n",
    "    for filt, img_dict in file_dict.items(): # loop over all filters\n",
    "        for imgtype, filename in img_dict.items(): # loop over all files\n",
    "            imviz2.load_data(filename, data_label=f\"{filt} {imgtype}\")\n",
    "imviz2.show()"
   ]
  },
  {
   "cell_type": "markdown",
   "id": "d4273b91",
   "metadata": {},
   "source": [
    "#### Manual Check"
   ]
  },
  {
   "cell_type": "code",
   "execution_count": null,
   "id": "f0c1f449",
   "metadata": {},
   "outputs": [],
   "source": [
    "filedir = 'data/NGDEEP/rate/'\n",
    "dir_f115w = filedir + 'jw02079004001_04101_00004_nis_flatfieldstep.fits'\n",
    "disp_f115w = filedir + 'jw02079004001_05101_00001_nis_flatfieldstep.fits'\n",
    "\n",
    "dir_f150w = filedir + 'jw02079004002_10101_00004_nis_flatfieldstep.fits'\n",
    "disp_f150w = filedir + 'jw02079004002_11101_00001_nis_flatfieldstep.fits'\n",
    "\n",
    "dir_f200w = filedir + 'jw02079004003_04101_00004_nis_flatfieldstep.fits'\n",
    "disp_f200w = filedir + 'jw02079004003_05101_00001_nis_flatfieldstep.fits'"
   ]
  },
  {
   "cell_type": "code",
   "execution_count": null,
   "id": "da61c2a4",
   "metadata": {},
   "outputs": [],
   "source": [
    "imviz2 = Imviz()\n",
    "with warnings.catch_warnings():\n",
    "    warnings.simplefilter('ignore')\n",
    "    imviz2.load_data(dir_f115w, data_label='F115W dir')\n",
    "    imviz2.load_data(disp_f115w, data_label='F115W wfss')\n",
    "    imviz2.load_data(dir_f150w, data_label='F150W dir')\n",
    "    imviz2.load_data(disp_f150w, data_label='F150W wfss')\n",
    "    imviz2.load_data(dir_f200w, data_label='F200W dir')\n",
    "    imviz2.load_data(disp_f200w, data_label='F200W wfss')\n",
    "imviz2.show()"
   ]
  },
  {
   "cell_type": "markdown",
   "id": "037d515a",
   "metadata": {},
   "source": [
    "Split direct images and dispersed images in two separate viewers."
   ]
  },
  {
   "cell_type": "code",
   "execution_count": null,
   "id": "7c8892f4",
   "metadata": {},
   "outputs": [],
   "source": [
    "plotopt = imviz2.plugins['Plot Options']\n",
    "plotopt.multiselect = True\n",
    "plotopt.select_all(viewers=True, layers=True)\n",
    "plotopt.stretch_preset = '99.5%'\n",
    "plotopt.multiselect = False"
   ]
  },
  {
   "cell_type": "code",
   "execution_count": null,
   "id": "ba0d07ff",
   "metadata": {},
   "outputs": [],
   "source": []
  }
 ],
 "metadata": {
  "kernelspec": {
   "display_name": "Python 3 (ipykernel)",
   "language": "python",
   "name": "python3"
  },
  "language_info": {
   "codemirror_mode": {
    "name": "ipython",
    "version": 3
   },
   "file_extension": ".py",
   "mimetype": "text/x-python",
   "name": "python",
   "nbconvert_exporter": "python",
   "pygments_lexer": "ipython3",
   "version": "3.9.12"
  }
 },
 "nbformat": 4,
 "nbformat_minor": 5
}
