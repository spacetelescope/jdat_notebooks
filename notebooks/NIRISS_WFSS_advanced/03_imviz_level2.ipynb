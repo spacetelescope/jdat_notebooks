{
 "cells": [
  {
   "cell_type": "markdown",
   "id": "28608b44",
   "metadata": {},
   "source": [
    "# Check flat fielded images from NGDEEP\n",
    "\n",
    "This is to look at the images and see if there are problems."
   ]
  },
  {
   "cell_type": "code",
   "execution_count": null,
   "id": "216f4a35",
   "metadata": {},
   "outputs": [],
   "source": [
    "from jdaviz import Imviz\n",
    "import warnings\n",
    "from astropy.io import ascii\n",
    "from astropy.table import Table\n",
    "from astropy.coordinates import SkyCoord, Angle\n",
    "import astropy.units as u\n",
    "import numpy as np"
   ]
  },
  {
   "cell_type": "markdown",
   "id": "d4c0f2ce",
   "metadata": {},
   "source": [
    "## Read list of files"
   ]
  },
  {
   "cell_type": "code",
   "execution_count": null,
   "id": "bf65d59c",
   "metadata": {},
   "outputs": [],
   "source": [
    "listrate_file = './list_ngdeep_rate.csv'\n",
    "listrate = Table.read(listrate_file)\n",
    "listrate[46::]"
   ]
  },
  {
   "cell_type": "markdown",
   "id": "3a7a85e7",
   "metadata": {},
   "source": [
    "## Check astrometry on direct images"
   ]
  },
  {
   "cell_type": "code",
   "execution_count": null,
   "id": "352872bc",
   "metadata": {},
   "outputs": [],
   "source": [
    "filedir = '/Users/cpacifici/DATA/NGDEEP/wcs_flat/'\n",
    "clearim = []\n",
    "datalabel = []\n",
    "for ii, file in enumerate(listrate['FILENAME']):\n",
    "    if listrate['FILTER'][ii]=='CLEAR':\n",
    "        name = file.split('/')[-1]\n",
    "        newname = name.replace('rate.fits', 'flatfieldstep.fits')\n",
    "        clearim.append(filedir+newname)\n",
    "        datalabel.append(listrate['PUPIL'][ii])\n",
    "clearim"
   ]
  },
  {
   "cell_type": "markdown",
   "id": "9144f386",
   "metadata": {},
   "source": [
    "### Use Imviz batch load since it is many images\n",
    "It takes about 1 minute to load all the images."
   ]
  },
  {
   "cell_type": "code",
   "execution_count": null,
   "id": "efbedea9",
   "metadata": {
    "scrolled": false
   },
   "outputs": [],
   "source": [
    "imviz = Imviz()\n",
    "for ii in range(len(clearim)):\n",
    "    with warnings.catch_warnings():\n",
    "        warnings.simplefilter('ignore')\n",
    "        imviz.load_data(clearim[ii], data_label=datalabel[ii])\n",
    "imviz.show()"
   ]
  },
  {
   "cell_type": "code",
   "execution_count": null,
   "id": "c6ebfa64",
   "metadata": {},
   "outputs": [],
   "source": [
    "viewer = imviz.default_viewer"
   ]
  },
  {
   "cell_type": "code",
   "execution_count": null,
   "id": "6ed6c0c4",
   "metadata": {},
   "outputs": [],
   "source": [
    "linking = imviz.plugins['Links Control']\n",
    "linking.link_type = 'WCS'"
   ]
  },
  {
   "cell_type": "code",
   "execution_count": null,
   "id": "53b3db0f",
   "metadata": {},
   "outputs": [],
   "source": [
    "# This also takes a bit of time (~30 seconds) to loop through all the images\n",
    "plotopt = imviz.plugins['Plot Options']\n",
    "plotopt.multiselect = True\n",
    "plotopt.select_all(viewers=True, layers=True)\n",
    "plotopt.stretch_preset = '99.5%'\n",
    "plotopt.multiselect = False\n",
    "#plotopt.stretch_function = 'Arcsinh'\n",
    "#plotopt.stretch_vmin = -0.002\n",
    "#plotopt.stretch_vmax = 0.16"
   ]
  },
  {
   "cell_type": "markdown",
   "id": "5a2a5552",
   "metadata": {},
   "source": [
    "### Blink\n",
    "Using the \"b\" key when on the viewer."
   ]
  },
  {
   "cell_type": "markdown",
   "id": "54cebc13",
   "metadata": {},
   "source": [
    "**Data note**: there is a problem with the astrometry. The F200W filter does not match the others. I am not sure if F200W is the problem or the other two are the problem. Fixing the astrometry is out of scope for this notebook."
   ]
  },
  {
   "cell_type": "markdown",
   "id": "015c5f3c",
   "metadata": {},
   "source": [
    "## Check direct images and their corresponding WFSS images\n",
    "Selecting by hand from the table to use direct and dispersed images on the same dither position."
   ]
  },
  {
   "cell_type": "code",
   "execution_count": null,
   "id": "f0c1f449",
   "metadata": {},
   "outputs": [],
   "source": [
    "dir_f115w = filedir + 'jw02079004001_04101_00004_nis_flatfieldstep.fits'\n",
    "disp_f115w = filedir + 'jw02079004001_05101_00001_nis_flatfieldstep.fits'\n",
    "dir_f150w = filedir + 'jw02079004002_10101_00004_nis_flatfieldstep.fits'\n",
    "disp_f150w = filedir + 'jw02079004002_11101_00001_nis_flatfieldstep.fits'\n",
    "dir_f200w = filedir + 'jw02079004003_04101_00004_nis_flatfieldstep.fits'\n",
    "disp_f200w = filedir + 'jw02079004003_05101_00001_nis_flatfieldstep.fits'"
   ]
  },
  {
   "cell_type": "code",
   "execution_count": null,
   "id": "da61c2a4",
   "metadata": {},
   "outputs": [],
   "source": [
    "imviz2 = Imviz()\n",
    "with warnings.catch_warnings():\n",
    "    warnings.simplefilter('ignore')\n",
    "    imviz2.load_data(dir_f115w, data_label='F115W dir')\n",
    "    imviz2.load_data(disp_f115w, data_label='F115W wfss')\n",
    "    imviz2.load_data(dir_f150w, data_label='F150W dir')\n",
    "    imviz2.load_data(disp_f150w, data_label='F150W wfss')\n",
    "    imviz2.load_data(dir_f200w, data_label='F200W dir')\n",
    "    imviz2.load_data(disp_f200w, data_label='F200W wfss')\n",
    "imviz2.show()"
   ]
  },
  {
   "cell_type": "markdown",
   "id": "037d515a",
   "metadata": {},
   "source": [
    "Split direct images and dispersed images in two separate viewers."
   ]
  },
  {
   "cell_type": "code",
   "execution_count": null,
   "id": "7c8892f4",
   "metadata": {},
   "outputs": [],
   "source": [
    "plotopt = imviz2.plugins['Plot Options']\n",
    "plotopt.multiselect = True\n",
    "plotopt.select_all(viewers=True, layers=True)\n",
    "plotopt.stretch_preset = '99.5%'\n",
    "plotopt.multiselect = False"
   ]
  },
  {
   "cell_type": "code",
   "execution_count": null,
   "id": "ba0d07ff",
   "metadata": {},
   "outputs": [],
   "source": []
  }
 ],
 "metadata": {
  "kernelspec": {
   "display_name": "Python 3 (ipykernel)",
   "language": "python",
   "name": "python3"
  },
  "language_info": {
   "codemirror_mode": {
    "name": "ipython",
    "version": 3
   },
   "file_extension": ".py",
   "mimetype": "text/x-python",
   "name": "python",
   "nbconvert_exporter": "python",
   "pygments_lexer": "ipython3",
   "version": "3.11.4"
  }
 },
 "nbformat": 4,
 "nbformat_minor": 5
}
