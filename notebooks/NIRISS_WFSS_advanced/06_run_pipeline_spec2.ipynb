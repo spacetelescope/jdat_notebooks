{
 "cells": [
  {
   "cell_type": "markdown",
   "id": "6d674dc1",
   "metadata": {},
   "source": [
    "# Run spec2 pipeline on rate files\n",
    "\n",
    "Need to copy all the needed files over to the working directory.\n",
    "\n",
    "**Author notes**:\n",
    "- Anything I need to know on the spec2 steps?\n",
    "- I have to try turning on the correction for contamination"
   ]
  },
  {
   "cell_type": "markdown",
   "id": "b28e541b",
   "metadata": {},
   "source": [
    "## Imports"
   ]
  },
  {
   "cell_type": "code",
   "execution_count": null,
   "id": "453e9031",
   "metadata": {},
   "outputs": [],
   "source": [
    "# Packages that allow us to get information about objects:\n",
    "import os\n",
    "# Update to a path in your system (see details below at \"Reference files\")\n",
    "os.environ[\"CRDS_PATH\"] = \"/Users/cpacifici/crds_cache_july2023/\"\n",
    "os.environ[\"CRDS_SERVER_URL\"] = \"https://jwst-crds.stsci.edu\"\n"
   ]
  },
  {
   "cell_type": "code",
   "execution_count": null,
   "id": "9443f2ff",
   "metadata": {},
   "outputs": [],
   "source": [
    "# The calwebb_spec and spec3 pipelines\n",
    "from jwst.pipeline import Spec2Pipeline\n",
    "\n",
    "# data models\n",
    "from jwst import datamodels\n",
    "\n",
    "# utility\n",
    "from astropy.table import Table\n",
    "import numpy as np\n",
    "import json\n",
    "import glob\n",
    "import shutil\n",
    "\n",
    "# jdaviz\n",
    "from jdaviz import Mosviz"
   ]
  },
  {
   "cell_type": "code",
   "execution_count": null,
   "id": "87cdec65",
   "metadata": {},
   "outputs": [],
   "source": [
    "import jwst\n",
    "print('jwst',jwst.__version__)"
   ]
  },
  {
   "cell_type": "code",
   "execution_count": null,
   "id": "168c2146",
   "metadata": {},
   "outputs": [],
   "source": [
    "# Update appropriately\n",
    "data_dir_in = \"/Users/cpacifici/DATA/NGDEEP/rate/\"\n",
    "data_dir_images = \"/Users/cpacifici/DATA/NGDEEP/image3/\"\n",
    "data_dir_asn_level2 = \"/Users/cpacifici/DATA/NGDEEP/asn_level2/\"\n",
    "data_dir_out_spec2 = \"/Users/cpacifici/DATA/NGDEEP/spec2/\""
   ]
  },
  {
   "cell_type": "markdown",
   "id": "1aa37d93",
   "metadata": {},
   "source": [
    "## Read list of rate files for imaging"
   ]
  },
  {
   "cell_type": "code",
   "execution_count": null,
   "id": "8b5572ab",
   "metadata": {},
   "outputs": [],
   "source": [
    "listrate_file = './list_ngdeep_rate.csv'\n",
    "listrate = Table.read(listrate_file)\n",
    "listrate[np.where((listrate['FILTER']=='GR150R') | (listrate['FILTER']=='GR150C'))]"
   ]
  },
  {
   "cell_type": "markdown",
   "id": "133f26bb",
   "metadata": {},
   "source": [
    "## Run spec2 on all GR150R/C images using the provided association files"
   ]
  },
  {
   "cell_type": "markdown",
   "id": "18cd35b0",
   "metadata": {},
   "source": [
    "### Check an association file for level 2"
   ]
  },
  {
   "cell_type": "code",
   "execution_count": null,
   "id": "353f52f4",
   "metadata": {},
   "outputs": [],
   "source": [
    "asnfile = data_dir_asn_level2 + 'jw02079-o004_20230622t175524_spec2_00001_asn.json'\n",
    "asn_data = json.load(open(asnfile))\n",
    "print(asn_data['products'][0]['members'][0]['expname'])\n",
    "asn_data"
   ]
  },
  {
   "cell_type": "markdown",
   "id": "026e94a9",
   "metadata": {},
   "source": [
    "### Copy all needed files to the current directory"
   ]
  },
  {
   "cell_type": "code",
   "execution_count": null,
   "id": "de5d11ec",
   "metadata": {},
   "outputs": [],
   "source": [
    "asn_spec2 = glob.glob(data_dir_asn_level2+'*spec2*')\n",
    "for file in asn_spec2:\n",
    "    shutil.copy(file, './')"
   ]
  },
  {
   "cell_type": "code",
   "execution_count": null,
   "id": "dd56b572",
   "metadata": {},
   "outputs": [],
   "source": [
    "rate_clear = listrate[np.where((listrate['FILTER']=='GR150R') | (listrate['FILTER']=='GR150C'))]['FILENAME']\n",
    "for file in rate_clear:\n",
    "    shutil.copy(data_dir_in+file, './')"
   ]
  },
  {
   "cell_type": "code",
   "execution_count": null,
   "id": "d765ef2c",
   "metadata": {},
   "outputs": [],
   "source": [
    "catalogfiles = glob.glob(data_dir_images+'*cat.ecsv')\n",
    "for file in catalogfiles:\n",
    "    shutil.copy(file, './')"
   ]
  },
  {
   "cell_type": "code",
   "execution_count": null,
   "id": "f2fa2925",
   "metadata": {},
   "outputs": [],
   "source": [
    "imagefiles = glob.glob(data_dir_images+'*i2d.fits')\n",
    "for file in imagefiles:\n",
    "    shutil.copy(file, './')"
   ]
  },
  {
   "cell_type": "code",
   "execution_count": null,
   "id": "531a997b",
   "metadata": {},
   "outputs": [],
   "source": [
    "segfiles = glob.glob(data_dir_images+'*segm.fits')\n",
    "for file in segfiles:\n",
    "    shutil.copy(file, './')"
   ]
  },
  {
   "cell_type": "markdown",
   "id": "d71ccaa3",
   "metadata": {},
   "source": [
    "## Run spec2"
   ]
  },
  {
   "cell_type": "code",
   "execution_count": null,
   "id": "b114db48",
   "metadata": {},
   "outputs": [],
   "source": [
    "asn_spec2_local = glob.glob('./jw02079-o004_*_spec2_*_asn.json')\n",
    "asn_spec2_local"
   ]
  },
  {
   "cell_type": "code",
   "execution_count": null,
   "id": "b2d5b653",
   "metadata": {
    "scrolled": true
   },
   "outputs": [],
   "source": [
    "for file in asn_spec2_local:\n",
    "    print(file)\n",
    "    spec2 = Spec2Pipeline() \n",
    "    result = spec2.call(file, \n",
    "                        steps={'bkg_subtract':{'skip':False},\n",
    "                               'extract_2d':{'wfss_nbright':500,\n",
    "                                             'wfss_extract_half_height': 25,\n",
    "                                             },\n",
    "                               'photom':{'skip':False},\n",
    "                              },\n",
    "                        save_results=True,\n",
    "                        output_dir=data_dir_out_spec2)\n"
   ]
  },
  {
   "cell_type": "markdown",
   "id": "b06abd18",
   "metadata": {},
   "source": [
    "### Delete files not needed anymore"
   ]
  },
  {
   "cell_type": "code",
   "execution_count": null,
   "id": "a8c142f2",
   "metadata": {},
   "outputs": [],
   "source": [
    "dir_to_be_del = './files_to_be_deleted'\n",
    "if not os.path.exists(dir_to_be_del):\n",
    "    os.mkdir(dir_to_be_del)\n",
    "    \n",
    "for file in asn_spec2_local:\n",
    "    shutil.move(file, dir_to_be_del)\n",
    "    \n",
    "for file in glob.glob('./*rate.fits'):\n",
    "    shutil.move(file, dir_to_be_del)\n",
    "\n",
    "for file in glob.glob('./*niriss_clear*'):\n",
    "    shutil.move(file, dir_to_be_del)\n",
    "\n",
    "shutil.rmtree(dir_to_be_del)"
   ]
  },
  {
   "cell_type": "code",
   "execution_count": null,
   "id": "64a3bba8",
   "metadata": {},
   "outputs": [],
   "source": []
  }
 ],
 "metadata": {
  "kernelspec": {
   "display_name": "Python 3 (ipykernel)",
   "language": "python",
   "name": "python3"
  },
  "language_info": {
   "codemirror_mode": {
    "name": "ipython",
    "version": 3
   },
   "file_extension": ".py",
   "mimetype": "text/x-python",
   "name": "python",
   "nbconvert_exporter": "python",
   "pygments_lexer": "ipython3",
   "version": "3.11.4"
  }
 },
 "nbformat": 4,
 "nbformat_minor": 5
}
