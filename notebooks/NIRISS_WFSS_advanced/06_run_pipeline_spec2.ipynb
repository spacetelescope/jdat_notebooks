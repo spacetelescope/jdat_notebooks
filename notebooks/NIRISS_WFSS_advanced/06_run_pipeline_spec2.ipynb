{
 "cells": [
  {
   "cell_type": "markdown",
   "id": "6d674dc1",
   "metadata": {},
   "source": [
    "# Run spec2 pipeline on rate files"
   ]
  },
  {
   "cell_type": "markdown",
   "id": "b28e541b",
   "metadata": {},
   "source": [
    "## Imports"
   ]
  },
  {
   "cell_type": "code",
   "execution_count": null,
   "id": "453e9031",
   "metadata": {},
   "outputs": [],
   "source": [
    "# Packages that allow us to get information about objects:\n",
    "import asdf\n",
    "import os\n",
    "# Update to a path in your system (see details below at \"Reference files\")\n",
    "os.environ[\"CRDS_PATH\"] = \"~/crds_cache_may2023/\"\n",
    "os.environ[\"CRDS_SERVER_URL\"] = \"https://jwst-crds.stsci.edu\"\n"
   ]
  },
  {
   "cell_type": "code",
   "execution_count": null,
   "id": "9443f2ff",
   "metadata": {},
   "outputs": [],
   "source": [
    "# The calwebb_spec and spec3 pipelines\n",
    "from jwst.pipeline import Spec2Pipeline\n",
    "from jwst.pipeline import Spec3Pipeline\n",
    "\n",
    "# individual steps\n",
    "from jwst.assign_wcs import AssignWcsStep\n",
    "from jwst.assign_wcs import nirspec\n",
    "from jwst.background import BackgroundStep\n",
    "from jwst.imprint import ImprintStep\n",
    "from jwst.msaflagopen import MSAFlagOpenStep\n",
    "from jwst.extract_2d import Extract2dStep\n",
    "from jwst.srctype import SourceTypeStep\n",
    "from jwst.wavecorr import WavecorrStep\n",
    "from jwst.flatfield import FlatFieldStep\n",
    "from jwst.pathloss import PathLossStep\n",
    "from jwst.photom import PhotomStep\n",
    "from jwst.cube_build import CubeBuildStep\n",
    "from jwst.extract_1d import Extract1dStep\n",
    "from jwst.combine_1d import Combine1dStep\n",
    "\n",
    "# data models\n",
    "from jwst import datamodels\n",
    "\n",
    "# associations\n",
    "from jwst.associations import asn_from_list\n",
    "from jwst.associations.lib.rules_level3_base import DMS_Level3_Base\n",
    "\n",
    "# astropy\n",
    "from astropy.io import fits\n",
    "from astropy.utils.data import download_file\n",
    "import astropy.units as u\n",
    "from astropy import wcs\n",
    "from astropy.wcs import WCS\n",
    "from astropy.visualization import ImageNormalize, ManualInterval, LogStretch, LinearStretch, AsinhStretch\n",
    "\n",
    "from matplotlib import pyplot as plt"
   ]
  },
  {
   "cell_type": "code",
   "execution_count": null,
   "id": "87cdec65",
   "metadata": {},
   "outputs": [],
   "source": [
    "import jwst\n",
    "print('jwst',jwst.__version__)"
   ]
  },
  {
   "cell_type": "markdown",
   "id": "67a46e39",
   "metadata": {},
   "source": [
    "## Files"
   ]
  },
  {
   "cell_type": "code",
   "execution_count": null,
   "id": "353f52f4",
   "metadata": {},
   "outputs": [],
   "source": [
    "association_level2 = './jw02079-o004_f115w_f150wcat_asn.json'\n",
    "rate = './jw02079004001_05101_00001_nis_rate.fits'\n",
    "\n",
    "#association_level2 = './jw02079-o004_f150w_f150wcat_asn.json'\n",
    "#rate = './jw02079004002_11101_00001_nis_rate.fits'\n",
    "\n",
    "#association_level2 = './jw02079-o004_f200w_f150wcat_asn.json'\n",
    "#rate = './jw02079004003_05101_00001_nis_rate.fits'\n"
   ]
  },
  {
   "cell_type": "markdown",
   "id": "d71ccaa3",
   "metadata": {},
   "source": [
    "## Run spec2"
   ]
  },
  {
   "cell_type": "code",
   "execution_count": null,
   "id": "b2d5b653",
   "metadata": {},
   "outputs": [],
   "source": [
    "output_dir = './pipeline_output/'\n",
    "# Create an instance of the pipeline class\n",
    "spec2 = Spec2Pipeline()\n",
    "\n",
    "# Set some parameters that pertain to the entire pipeline\n",
    "#spec2.save_results = True\n",
    "#spec2.output_dir = output_dir\n",
    "\n",
    "# Here you could some parameters that pertain to some of the individual steps\n",
    "#spec2.extract_2d.mmag_extract = 20 # Minimum magnitude of objects to extract for WFSS data\n",
    "#spec2.extract_1d.bkg_fit = 'poly' # Fit a polynomial to the background values for each column or row\n",
    "#spec2.bkg_subtract.skip = True # Skip the default image-from-image background subtraction method\n",
    "\n",
    "# Call the call() method, using an input association file.\n",
    "# Call method reinitialized the default values, so parameters need to be changed inside the call\n",
    "result = spec2.call(association_level2, \n",
    "                    steps={'bkg_subtract':{'skip':True},\n",
    "                           'extract_2d':{'wfss_nbright':500,\n",
    "                                         'wfss_extract_half_height': 25,\n",
    "                                         },\n",
    "                           'photom':{'skip':True},\n",
    "                          },\n",
    "                    save_results=True,\n",
    "                    output_dir=output_dir)\n"
   ]
  },
  {
   "cell_type": "code",
   "execution_count": null,
   "id": "41661aec",
   "metadata": {},
   "outputs": [],
   "source": [
    "calfile = './pipeline_output/jw02079004001_05101_00001_nis_cal.fits'\n",
    "calimage = fits.open(calfile)"
   ]
  },
  {
   "cell_type": "code",
   "execution_count": null,
   "id": "b1eb9efd",
   "metadata": {},
   "outputs": [],
   "source": [
    "source = 4\n",
    "print(calimage['SCI',source].header['SOURCEID'])"
   ]
  },
  {
   "cell_type": "code",
   "execution_count": null,
   "id": "46fe0a2d",
   "metadata": {},
   "outputs": [],
   "source": [
    "data = calimage['SCI',source].data\n",
    "plt.imshow(data, origin='lower', vmin=0.4, vmax=0.8)\n",
    "plt.colorbar()"
   ]
  },
  {
   "cell_type": "markdown",
   "id": "197cfb65",
   "metadata": {},
   "source": [
    "There is no background subtraction so this is absolutely useless."
   ]
  },
  {
   "cell_type": "code",
   "execution_count": null,
   "id": "f7c09858",
   "metadata": {},
   "outputs": [],
   "source": [
    "x1dfile = './pipeline_output/jw02079004002_11101_00001_nis_x1d.fits'\n",
    "x1dspec = fits.open(x1dfile)"
   ]
  },
  {
   "cell_type": "code",
   "execution_count": null,
   "id": "930ac35b",
   "metadata": {},
   "outputs": [],
   "source": [
    "data = x1dspec['EXTRACT1D',source].data\n",
    "plt.plot(data['WAVELENGTH'], data['FLUX'])\n",
    "plt.xlabel('wavelength (um)')\n",
    "plt.ylabel('flux (adu)')\n",
    "plt.show()"
   ]
  },
  {
   "cell_type": "code",
   "execution_count": null,
   "id": "353bad8c",
   "metadata": {},
   "outputs": [],
   "source": []
  }
 ],
 "metadata": {
  "kernelspec": {
   "display_name": "Python 3 (ipykernel)",
   "language": "python",
   "name": "python3"
  },
  "language_info": {
   "codemirror_mode": {
    "name": "ipython",
    "version": 3
   },
   "file_extension": ".py",
   "mimetype": "text/x-python",
   "name": "python",
   "nbconvert_exporter": "python",
   "pygments_lexer": "ipython3",
   "version": "3.11.4"
  }
 },
 "nbformat": 4,
 "nbformat_minor": 5
}
