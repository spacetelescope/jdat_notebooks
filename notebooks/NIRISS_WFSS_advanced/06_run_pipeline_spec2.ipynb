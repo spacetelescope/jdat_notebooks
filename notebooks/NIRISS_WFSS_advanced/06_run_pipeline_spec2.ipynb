{
 "cells": [
  {
   "cell_type": "markdown",
   "id": "6d674dc1",
   "metadata": {},
   "source": [
    "# Run spec2 pipeline on rate files\n",
    "\n",
    "Need to copy all the needed files over to the working directory."
   ]
  },
  {
   "cell_type": "markdown",
   "id": "b28e541b",
   "metadata": {},
   "source": [
    "## Imports"
   ]
  },
  {
   "cell_type": "code",
   "execution_count": null,
   "id": "453e9031",
   "metadata": {},
   "outputs": [],
   "source": [
    "# Packages that allow us to get information about objects:\n",
    "import os\n",
    "# Update to a path in your system (see details below at \"Reference files\")\n",
    "os.environ[\"CRDS_PATH\"] = \"/Users/cpacifici/crds_cache_july2023/\"\n",
    "os.environ[\"CRDS_SERVER_URL\"] = \"https://jwst-crds.stsci.edu\"\n"
   ]
  },
  {
   "cell_type": "code",
   "execution_count": null,
   "id": "9443f2ff",
   "metadata": {},
   "outputs": [],
   "source": [
    "# The calwebb_spec and spec3 pipelines\n",
    "from jwst.pipeline import Spec2Pipeline\n",
    "\n",
    "# data models\n",
    "from jwst import datamodels\n",
    "\n",
    "# utility\n",
    "from astropy.table import Table\n",
    "import numpy as np\n",
    "import json\n",
    "import glob\n",
    "import shutil\n",
    "\n",
    "# jdaviz\n",
    "from jdaviz import Mosviz"
   ]
  },
  {
   "cell_type": "code",
   "execution_count": null,
   "id": "87cdec65",
   "metadata": {},
   "outputs": [],
   "source": [
    "import jwst\n",
    "print('jwst',jwst.__version__)"
   ]
  },
  {
   "cell_type": "code",
   "execution_count": null,
   "id": "168c2146",
   "metadata": {},
   "outputs": [],
   "source": [
    "# Update appropriately\n",
    "data_dir_in = \"/Users/cpacifici/DATA/NGDEEP/rate/\"\n",
    "data_dir_images = \"/Users/cpacifici/DATA/NGDEEP/image3/\"\n",
    "data_dir_asn_level2 = \"/Users/cpacifici/DATA/NGDEEP/asn_level2/\"\n",
    "data_dir_out_spec2 = \"/Users/cpacifici/DATA/NGDEEP/spec2/\""
   ]
  },
  {
   "cell_type": "markdown",
   "id": "1aa37d93",
   "metadata": {},
   "source": [
    "## Read list of rate files for imaging"
   ]
  },
  {
   "cell_type": "code",
   "execution_count": null,
   "id": "8b5572ab",
   "metadata": {},
   "outputs": [],
   "source": [
    "listrate_file = './list_ngdeep_rate.csv'\n",
    "listrate = Table.read(listrate_file)\n",
    "listrate[np.where((listrate['FILTER']=='GR150R') | (listrate['FILTER']=='GR150C'))]"
   ]
  },
  {
   "cell_type": "markdown",
   "id": "133f26bb",
   "metadata": {},
   "source": [
    "## Run spec2 on all GR150R/C images using the provided association files"
   ]
  },
  {
   "cell_type": "markdown",
   "id": "18cd35b0",
   "metadata": {},
   "source": [
    "### Check an association file for level 2"
   ]
  },
  {
   "cell_type": "code",
   "execution_count": null,
   "id": "353f52f4",
   "metadata": {},
   "outputs": [],
   "source": [
    "asnfile = data_dir_asn_level2 + 'jw02079-o004_20230622t175524_spec2_00001_asn.json'\n",
    "asn_data = json.load(open(asnfile))\n",
    "print(asn_data['products'][0]['members'][0]['expname'])\n",
    "asn_data"
   ]
  },
  {
   "cell_type": "markdown",
   "id": "026e94a9",
   "metadata": {},
   "source": [
    "### Copy all needed files to the current directory"
   ]
  },
  {
   "cell_type": "code",
   "execution_count": null,
   "id": "de5d11ec",
   "metadata": {},
   "outputs": [],
   "source": [
    "asn_spec2 = glob.glob(data_dir_asn_level2+'*spec2*')\n",
    "for file in asn_spec2:\n",
    "    shutil.copy(file, './')"
   ]
  },
  {
   "cell_type": "code",
   "execution_count": null,
   "id": "dd56b572",
   "metadata": {},
   "outputs": [],
   "source": [
    "rate_clear = listrate[np.where((listrate['FILTER']=='GR150R') | (listrate['FILTER']=='GR150C'))]['FILENAME']\n",
    "for file in rate_clear:\n",
    "    shutil.copy(data_dir_in+file, './')"
   ]
  },
  {
   "cell_type": "code",
   "execution_count": null,
   "id": "d765ef2c",
   "metadata": {},
   "outputs": [],
   "source": [
    "catalogfiles = glob.glob(data_dir_images+'*cat.ecsv')\n",
    "for file in catalogfiles:\n",
    "    shutil.copy(file, './')"
   ]
  },
  {
   "cell_type": "code",
   "execution_count": null,
   "id": "f2fa2925",
   "metadata": {},
   "outputs": [],
   "source": [
    "imagefiles = glob.glob(data_dir_images+'*i2d.fits')\n",
    "for file in imagefiles:\n",
    "    shutil.copy(file, './')"
   ]
  },
  {
   "cell_type": "code",
   "execution_count": null,
   "id": "531a997b",
   "metadata": {},
   "outputs": [],
   "source": [
    "segfiles = glob.glob(data_dir_images+'*segm.fits')\n",
    "for file in segfiles:\n",
    "    shutil.copy(file, './')"
   ]
  },
  {
   "cell_type": "markdown",
   "id": "d71ccaa3",
   "metadata": {},
   "source": [
    "## Run spec2"
   ]
  },
  {
   "cell_type": "code",
   "execution_count": null,
   "id": "b114db48",
   "metadata": {},
   "outputs": [],
   "source": [
    "asn_spec2_local = glob.glob('./jw02079-o004_*_spec2_*_asn.json')\n",
    "asn_spec2_local"
   ]
  },
  {
   "cell_type": "code",
   "execution_count": null,
   "id": "b2d5b653",
   "metadata": {
    "scrolled": true
   },
   "outputs": [],
   "source": [
    "for file in asn_spec2_local:\n",
    "    print(file)\n",
    "    spec2 = Spec2Pipeline() \n",
    "    result = spec2.call(file, \n",
    "                        steps={'bkg_subtract':{'skip':False},\n",
    "                               'extract_2d':{'wfss_nbright':500,\n",
    "                                             'wfss_extract_half_height': 25,\n",
    "                                             },\n",
    "                               'photom':{'skip':False},\n",
    "                              },\n",
    "                        save_results=True,\n",
    "                        output_dir=data_dir_out_spec2)\n"
   ]
  },
  {
   "cell_type": "markdown",
   "id": "b06abd18",
   "metadata": {},
   "source": [
    "### Delete files not needed anymore"
   ]
  },
  {
   "cell_type": "code",
   "execution_count": null,
   "id": "a8c142f2",
   "metadata": {},
   "outputs": [],
   "source": [
    "dir_to_be_del = './files_to_be_deleted'\n",
    "if not os.path.exists(dir_to_be_del):\n",
    "    os.mkdir(dir_to_be_del)\n",
    "    \n",
    "for file in asn_spec2_local:\n",
    "    shutil.move(file, dir_to_be_del)\n",
    "    \n",
    "for file in glob.glob('./*rate.fits'):\n",
    "    shutil.move(file, dir_to_be_del)\n",
    "\n",
    "for file in glob.glob('./*niriss_clear*'):\n",
    "    shutil.move(file, dir_to_be_del)\n",
    "\n",
    "shutil.rmtree(dir_to_be_del)"
   ]
  },
  {
   "cell_type": "markdown",
   "id": "b0ef4f23",
   "metadata": {},
   "source": [
    "## Visualize output in Mosviz\n",
    "I will use a different instance of Mosviz per filter."
   ]
  },
  {
   "cell_type": "markdown",
   "id": "4c0abc3c",
   "metadata": {},
   "source": [
    "### F115W GR150R"
   ]
  },
  {
   "cell_type": "code",
   "execution_count": null,
   "id": "46fe0a2d",
   "metadata": {},
   "outputs": [],
   "source": [
    "directimage = data_dir_images + 'jw02079-o004_t001_niriss_clear-f115w_i2d.fits'\n",
    "catalogfile = data_dir_images + 'jw02079-o004_t001_niriss_clear-f115w_cat.ecsv'\n",
    "calfile = data_dir_out_spec2 + 'jw02079004001_03101_00001_nis_cal.fits'\n",
    "x1dfile = data_dir_out_spec2 + 'jw02079004001_03101_00001_nis_x1d.fits'"
   ]
  },
  {
   "cell_type": "code",
   "execution_count": null,
   "id": "f8cd0041",
   "metadata": {},
   "outputs": [],
   "source": [
    "dir_mosviz = './mosviz_stuff'\n",
    "if not os.path.exists(dir_mosviz):\n",
    "    os.mkdir(dir_mosviz)\n",
    "\n",
    "shutil.copy(directimage, dir_mosviz)\n",
    "shutil.copy(catalogfile, dir_mosviz)\n",
    "shutil.copy(calfile, dir_mosviz)\n",
    "shutil.copy(x1dfile, dir_mosviz)"
   ]
  },
  {
   "cell_type": "code",
   "execution_count": null,
   "id": "287a5570",
   "metadata": {},
   "outputs": [],
   "source": [
    "mosviz = Mosviz()\n",
    "mosviz.load_data(directory=dir_mosviz, instrument='niriss')\n",
    "mosviz.show()"
   ]
  },
  {
   "cell_type": "code",
   "execution_count": null,
   "id": "36b5c6c7",
   "metadata": {},
   "outputs": [],
   "source": [
    "plotopt = mosviz.plugins['Plot Options']\n",
    "plotopt.viewer = 'image-viewer'\n",
    "plotopt.stretch_vmin = 0.15\n",
    "plotopt.stretch_vmax = 0.4\n",
    "\n",
    "plotopt.viewer = 'spectrum-2d-viewer'\n",
    "plotopt.stretch_vmin = 0\n",
    "plotopt.stretch_vmax = 2"
   ]
  },
  {
   "cell_type": "markdown",
   "id": "7be6e906",
   "metadata": {},
   "source": [
    "We add a column to the table to take notes and mark the interesting objects with emission lines."
   ]
  },
  {
   "cell_type": "code",
   "execution_count": null,
   "id": "b3179068",
   "metadata": {},
   "outputs": [],
   "source": [
    "mosviz.add_column('Notes')"
   ]
  },
  {
   "cell_type": "code",
   "execution_count": null,
   "id": "d2cca12b",
   "metadata": {},
   "outputs": [],
   "source": [
    "# Filter F115W grism GR150R\n",
    "mosviz.update_column('Notes', 'line', row=23) # ID 216\n",
    "mosviz.update_column('Notes', 'line maybe', row=25) # ID 243\n",
    "mosviz.update_column('Notes', 'line maybe', row=27) # ID 188\n",
    "mosviz.update_column('Notes', 'line', row=35) # ID 250\n",
    "mosviz.update_column('Notes', 'line', row=53) # ID 21\n",
    "mosviz.update_column('Notes', 'line', row=56) # ID 100\n",
    "mosviz.update_column('Notes', 'line', row=77) # ID 23\n",
    "mosviz.update_column('Notes', 'line', row=85) # ID 71\n",
    "mosviz.update_column('Notes', 'line', row=86) # ID 179\n",
    "mosviz.update_column('Notes', 'line', row=99) # ID 245\n",
    "mosviz.update_column('Notes', 'line maybe', row=100) # ID 109\n",
    "mosviz.update_column('Notes', 'line', row=117) # ID 22\n",
    "mosviz.update_column('Notes', 'line', row=134) # ID 2\n",
    "mosviz.update_column('Notes', 'line', row=137) # ID 4\n",
    "mosviz.update_column('Notes', 'line maybe', row=157) # ID 113\n"
   ]
  },
  {
   "cell_type": "code",
   "execution_count": null,
   "id": "1e87d45f",
   "metadata": {},
   "outputs": [],
   "source": [
    "table_f115w_grr = mosviz.to_table()"
   ]
  },
  {
   "cell_type": "code",
   "execution_count": null,
   "id": "eee938db",
   "metadata": {},
   "outputs": [],
   "source": [
    "# Save table to file\n",
    "table_f115w_grr.write('./f115w_gr150r_objects_flags.ecsv', format='ascii.ecsv', overwrite=True)"
   ]
  },
  {
   "cell_type": "code",
   "execution_count": null,
   "id": "64a3bba8",
   "metadata": {},
   "outputs": [],
   "source": []
  }
 ],
 "metadata": {
  "kernelspec": {
   "display_name": "Python 3 (ipykernel)",
   "language": "python",
   "name": "python3"
  },
  "language_info": {
   "codemirror_mode": {
    "name": "ipython",
    "version": 3
   },
   "file_extension": ".py",
   "mimetype": "text/x-python",
   "name": "python",
   "nbconvert_exporter": "python",
   "pygments_lexer": "ipython3",
   "version": "3.11.4"
  }
 },
 "nbformat": 4,
 "nbformat_minor": 5
}
