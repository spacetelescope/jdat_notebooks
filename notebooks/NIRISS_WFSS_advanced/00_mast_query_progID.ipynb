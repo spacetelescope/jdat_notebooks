{
 "cells": [
  {
   "cell_type": "markdown",
   "id": "592da8da",
   "metadata": {},
   "source": [
    "# Get observations from program ID\n",
    "This notebook uses the [MAST API](https://mast.stsci.edu/api/v0/) to query specific data products of a specific program. We are looking for NIRISS imaging and WFSS files of the [NGDEEP program](https://www.stsci.edu/jwst/phase2-public/2079.pdf) (ID 2079). The observations are in three NIRISS filters: F115W, F150W, and F200W.\n",
    "\n",
    "**Use case**: use MAST to download data products.<br>\n",
    "**Data**: JWST/NIRISS images and spectra from program 2079.<br>\n",
    "**Tools**: astropy, astroquery, numpy<br>\n",
    "**Cross-instrument**: all<br>\n",
    "\n",
    "**Content**\n",
    "- [Imports](#imports)\n",
    "- [Set up the query and the batches](#setup)\n",
    "- [Filter and download products](#filter)\n",
    "\n",
    "\n",
    "**Author**: Camilla Pacifici (cpacifici@stsci.edu)\n",
    "**Last modified**: July 2023\n",
    "\n",
    "This notebook was inspired by the [JWebbinar session about MAST](https://github.com/spacetelescope/jwebbinar_prep/blob/main/mast_session/Crowded_Field/Crowded_Field.ipynb)."
   ]
  },
  {
   "cell_type": "markdown",
   "id": "ff93c82c",
   "metadata": {},
   "source": [
    "<a id='imports'></a>\n",
    "## Imports"
   ]
  },
  {
   "cell_type": "code",
   "execution_count": null,
   "id": "7e92dee7",
   "metadata": {},
   "outputs": [],
   "source": [
    "from astropy import units as u\n",
    "from astropy.coordinates import SkyCoord\n",
    "from astropy.io import fits\n",
    "from astroquery.mast import Observations\n",
    "import numpy as np"
   ]
  },
  {
   "cell_type": "markdown",
   "id": "008fcb1e",
   "metadata": {},
   "source": [
    "<a id='setup'></a>\n",
    "## Set up the query and the batches"
   ]
  },
  {
   "cell_type": "markdown",
   "id": "9447551a",
   "metadata": {},
   "source": [
    "Select the proposal ID, instrument, and some useful keywords (filters in this case)."
   ]
  },
  {
   "cell_type": "code",
   "execution_count": null,
   "id": "569efa6d",
   "metadata": {},
   "outputs": [],
   "source": [
    "obs_table = Observations.query_criteria(obs_collection=[\"JWST\"], \n",
    "                                        instrument_name=[\"NIRISS/IMAGE\", \"NIRISS/WFSS\"],\n",
    "                                        provenance_name=[\"CALJWST\"], # Executed observations\n",
    "                                        filters=['F115W','F150W','F200W'],\n",
    "                                        proposal_id=[2079],\n",
    "                                       )\n",
    "obs_table"
   ]
  },
  {
   "cell_type": "markdown",
   "id": "9daaeaf9",
   "metadata": {},
   "source": [
    "I could list all the products, but if there are too many it could time out. Let us devide the observations in baches and then filter and download one batch at a time."
   ]
  },
  {
   "cell_type": "code",
   "execution_count": null,
   "id": "b8a653a9",
   "metadata": {},
   "outputs": [],
   "source": [
    "batch_size = 5\n",
    "# Let's split up ``obs_table`` into batches according to our batch size.\n",
    "obs_batches = [obs_table[i:i+batch_size] for i in range(0, len(obs_table), batch_size)]\n",
    "single_group = obs_batches[0] # Useful to inspect the files obtained from one group\n",
    "print(\"How many batches?\", len(obs_batches))"
   ]
  },
  {
   "cell_type": "markdown",
   "id": "7e57c3c0",
   "metadata": {},
   "source": [
    "<a id='filter'></a>\n",
    "## Filter and download products"
   ]
  },
  {
   "cell_type": "markdown",
   "id": "10c7d144",
   "metadata": {},
   "source": [
    "Select the type of products needed. I do one at a time. I need:\n",
    "- rate images\n",
    "    - productType=[\"SCIENCE\"]\n",
    "    - productSubGroupDescription=['RATE']\n",
    "    - calib_level=[2]\n",
    "- level 2 associations for both spectroscopy and imaging\n",
    "    - productType=[\"INFO\"]\n",
    "    - productSubGroupDescription=['ASN']\n",
    "    - calib_level=[2]\n",
    "- level 3 associations for imaging\n",
    "    - productType=[\"INFO\"]\n",
    "    - productSubGroupDescription=['ASN']\n",
    "    - dataproduct_type=[\"image\"]\n",
    "    - calib_level=[3]"
   ]
  },
  {
   "cell_type": "code",
   "execution_count": null,
   "id": "616ff15c",
   "metadata": {},
   "outputs": [],
   "source": [
    "# Now let's get the products for each batch of observations, and filter down to only the products of interest.\n",
    "for index, batch in enumerate(obs_batches):\n",
    "#for index, batch in enumerate(single_group): # Useful to inspect the files obtained from one batch\n",
    "    \n",
    "    # Progress indicator...\n",
    "    print('\\n'+f'Batch #{index+1}')\n",
    "    \n",
    "    # Make a list of the `obsid` identifiers from our Astropy table of observations to get products for.\n",
    "    obsids = batch['obsid']\n",
    "    print('Working with the following ``obsid``s:')\n",
    "    print(list(obsids))\n",
    "    \n",
    "    # Get list of products \n",
    "    products = Observations.get_product_list(obsids)\n",
    "    \n",
    "    # Filter the products to only get science products of calibration level 3 \n",
    "    filtered_products = Observations.filter_products(products, \n",
    "                                                     productType=[\"INFO\"],\n",
    "                                                     productSubGroupDescription=['ASN'],\n",
    "                                                     dataproduct_type=[\"image\"],\n",
    "                                                     calib_level=[3]\n",
    "                                                    )\n",
    "    # Download products for these records.\n",
    "    print('Products downloaded:')\n",
    "    print(filtered_products['productFilename'])\n",
    "    manifest = Observations.download_products(filtered_products)"
   ]
  },
  {
   "cell_type": "markdown",
   "id": "8c0e1d71",
   "metadata": {},
   "source": [
    "<img style=\"float: right;\" src=\"https://raw.githubusercontent.com/spacetelescope/notebooks/master/assets/stsci_pri_combo_mark_horizonal_white_bkgd.png\" alt=\"Space Telescope Logo\" width=\"200px\"/>"
   ]
  }
 ],
 "metadata": {
  "kernelspec": {
   "display_name": "Python 3 (ipykernel)",
   "language": "python",
   "name": "python3"
  },
  "language_info": {
   "codemirror_mode": {
    "name": "ipython",
    "version": 3
   },
   "file_extension": ".py",
   "mimetype": "text/x-python",
   "name": "python",
   "nbconvert_exporter": "python",
   "pygments_lexer": "ipython3",
   "version": "3.11.4"
  }
 },
 "nbformat": 4,
 "nbformat_minor": 5
}
