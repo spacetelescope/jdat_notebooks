{
 "cells": [
  {
   "cell_type": "markdown",
   "id": "1cea74b7",
   "metadata": {},
   "source": [
    "# Run assign_wcs and flatfielding"
   ]
  },
  {
   "cell_type": "code",
   "execution_count": null,
   "id": "8ee53c65",
   "metadata": {},
   "outputs": [],
   "source": [
    "# Update the CRDS path to your local directory\n",
    "%env CRDS_PATH=/Users/cpacifici/crds_cache_july2023\n",
    "%env CRDS_SERVER_URL=https://jwst-crds.stsci.edu\n",
    "    \n",
    "import os\n",
    "import glob\n",
    "#jwst pipeline related modules\n",
    "import jwst\n",
    "from jwst import datamodels\n",
    "# Individual steps that make up calwebb_image2\n",
    "from jwst.background import BackgroundStep\n",
    "from jwst.assign_wcs import AssignWcsStep\n",
    "from jwst.flatfield import FlatFieldStep\n",
    "from jwst.photom import PhotomStep\n",
    "from jwst.resample import ResampleStep"
   ]
  },
  {
   "cell_type": "code",
   "execution_count": null,
   "id": "df3bb687",
   "metadata": {},
   "outputs": [],
   "source": [
    "print('jwst:', jwst.__version__)"
   ]
  },
  {
   "cell_type": "code",
   "execution_count": null,
   "id": "4084d5a5",
   "metadata": {},
   "outputs": [],
   "source": [
    "# Update appropriately (got the rate files from MAST)\n",
    "data_dir_in = \"/Users/cpacifici/DATA/NGDEEP/rate/*\"\n",
    "data_dir_out = \"/Users/cpacifici/DATA/NGDEEP/wcs_flat/\""
   ]
  },
  {
   "cell_type": "code",
   "execution_count": null,
   "id": "97183293",
   "metadata": {},
   "outputs": [],
   "source": [
    "# List the rate files\n",
    "ratefiles = glob.glob(data_dir_in+'*')"
   ]
  },
  {
   "cell_type": "raw",
   "id": "66bc6d0a",
   "metadata": {},
   "source": [
    "# Check the name, pupil, and filter of all files (this step is not necessary, just a sanity check)\n",
    "for file in ratefiles:\n",
    "    model = datamodels.open(file)\n",
    "    print(file)\n",
    "    print(model.meta.instrument.name)\n",
    "    print(model.meta.instrument.pupil)\n",
    "    print(model.meta.instrument.filter)\n",
    "    print()\n",
    "    model.close()"
   ]
  },
  {
   "cell_type": "markdown",
   "id": "2e145cf6",
   "metadata": {},
   "source": [
    "**Developer note:** it would be better to update these to use the `call()` method instead of the `run()` method."
   ]
  },
  {
   "cell_type": "code",
   "execution_count": null,
   "id": "b143bddf",
   "metadata": {},
   "outputs": [],
   "source": [
    "# Run assign_wcs\n",
    "awcsfiles = []\n",
    "for file in ratefiles:\n",
    "    model = datamodels.open(file)\n",
    "    name = file.split('/')[-1]\n",
    "    newname = name.replace('rate.fits', 'assignwcsstep.fits')\n",
    "    assign_wcs_step = AssignWcsStep()\n",
    "    assign_wcs_step.output_dir = data_dir_out\n",
    "    assign_wcs_step.save_results = True\n",
    "    #run the step\n",
    "    assign_wcs_step.run(file)\n",
    "    awcsfiles.append(data_dir_out+newname)\n",
    "    print(newname)"
   ]
  },
  {
   "cell_type": "code",
   "execution_count": null,
   "id": "e6e6f72a",
   "metadata": {},
   "outputs": [],
   "source": [
    "# Run flatfielding\n",
    "fffiles = []\n",
    "for file in awcsfiles:\n",
    "    newname = file.replace('assignwcsstep.fits', 'flatfieldstep.fits')\n",
    "    flatfield_step = FlatFieldStep()\n",
    "    flatfield_step.output_dir = data_dir_out\n",
    "    flatfield_step.save_results = True    \n",
    "    #run the step\n",
    "    flatfield_step.run(file)\n",
    "    fffiles.append(newname)\n",
    "    print(newname)"
   ]
  },
  {
   "cell_type": "code",
   "execution_count": null,
   "id": "f46c65fa",
   "metadata": {},
   "outputs": [],
   "source": []
  }
 ],
 "metadata": {
  "kernelspec": {
   "display_name": "Python 3 (ipykernel)",
   "language": "python",
   "name": "python3"
  },
  "language_info": {
   "codemirror_mode": {
    "name": "ipython",
    "version": 3
   },
   "file_extension": ".py",
   "mimetype": "text/x-python",
   "name": "python",
   "nbconvert_exporter": "python",
   "pygments_lexer": "ipython3",
   "version": "3.11.4"
  }
 },
 "nbformat": 4,
 "nbformat_minor": 5
}
