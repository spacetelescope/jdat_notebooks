{
 "cells": [
  {
   "cell_type": "markdown",
   "id": "7a935d7c",
   "metadata": {},
   "source": [
    "# Run pipeline and create catalog of sources"
   ]
  },
  {
   "cell_type": "code",
   "execution_count": null,
   "id": "028352f4",
   "metadata": {},
   "outputs": [],
   "source": [
    "import os\n",
    "os.environ[\"CRDS_PATH\"] = \"/Users/cpacifici/crds_cache_july2023/\" # set appropriate path\n",
    "os.environ[\"CRDS_SERVER_URL\"] = \"https://jwst-crds.stsci.edu\"\n",
    "\n",
    "import glob\n",
    "import shutil\n",
    "\n",
    "import jwst\n",
    "from jwst.pipeline import Image2Pipeline\n",
    "from jwst.pipeline import Image3Pipeline\n",
    "\n",
    "from astropy.table import Table\n",
    "\n",
    "import numpy as np\n",
    "\n",
    "import json\n",
    "\n",
    "from jdaviz import Imviz\n",
    "import warnings"
   ]
  },
  {
   "cell_type": "code",
   "execution_count": null,
   "id": "ae10a560",
   "metadata": {},
   "outputs": [],
   "source": [
    "print('jwst:', jwst.__version__)"
   ]
  },
  {
   "cell_type": "code",
   "execution_count": null,
   "id": "60437b9c",
   "metadata": {},
   "outputs": [],
   "source": [
    "# Update appropriately\n",
    "data_dir_in = \"/Users/cpacifici/DATA/NGDEEP/rate/\"\n",
    "data_dir_asn_level2 = \"/Users/cpacifici/DATA/NGDEEP/asn_level2/\"\n",
    "data_dir_asn_level3 = \"/Users/cpacifici/DATA/NGDEEP/asn_level3/\"\n",
    "data_dir_out_image2 = \"/Users/cpacifici/DATA/NGDEEP/image2/\"\n",
    "data_dir_out_image3 = \"/Users/cpacifici/DATA/NGDEEP/image3/\""
   ]
  },
  {
   "cell_type": "markdown",
   "id": "77a8ea4e",
   "metadata": {},
   "source": [
    "## Read list of rate files for imaging"
   ]
  },
  {
   "cell_type": "code",
   "execution_count": null,
   "id": "1d576fd0",
   "metadata": {},
   "outputs": [],
   "source": [
    "listrate_file = './list_ngdeep_rate.csv'\n",
    "listrate = Table.read(listrate_file)\n",
    "listrate[np.where(listrate['FILTER']=='CLEAR')]"
   ]
  },
  {
   "cell_type": "markdown",
   "id": "0ac742e8",
   "metadata": {},
   "source": [
    "## Run image2 on all CLEAR images using the provided association files"
   ]
  },
  {
   "cell_type": "markdown",
   "id": "82eb2c93",
   "metadata": {},
   "source": [
    "### Check an association file for level 2"
   ]
  },
  {
   "cell_type": "code",
   "execution_count": null,
   "id": "74bc920c",
   "metadata": {},
   "outputs": [],
   "source": [
    "asnfile = data_dir_asn_level2 + 'jw02079-o004_20230622t175524_image2_00001_asn.json'\n",
    "asn_data = json.load(open(asnfile))\n",
    "print(asn_data['products'][0]['members'][0]['expname'])\n",
    "asn_data"
   ]
  },
  {
   "cell_type": "markdown",
   "id": "3cf2e472",
   "metadata": {},
   "source": [
    "**Developer note:** I do not see a way to tell which association file looks at which rate file without opening it and I believe association files and rate files need to be in the same directory where the pipeline is running, so I am going to temporarily copy all association file and all rate files in here and delete them when image2 is done."
   ]
  },
  {
   "cell_type": "markdown",
   "id": "0421c67b",
   "metadata": {},
   "source": [
    "### Move all needed files to the current directory"
   ]
  },
  {
   "cell_type": "code",
   "execution_count": null,
   "id": "eb0a1344",
   "metadata": {},
   "outputs": [],
   "source": [
    "asn_image2 = glob.glob(data_dir_asn_level2+'*image2*')\n",
    "for file in asn_image2:\n",
    "    shutil.copy(file, './')"
   ]
  },
  {
   "cell_type": "code",
   "execution_count": null,
   "id": "c62185ff",
   "metadata": {},
   "outputs": [],
   "source": [
    "rate_clear = listrate[np.where(listrate['FILTER']=='CLEAR')]['FILENAME']\n",
    "for file in rate_clear:\n",
    "    shutil.copy(data_dir_in+file, './')"
   ]
  },
  {
   "cell_type": "markdown",
   "id": "eaa48cf9",
   "metadata": {},
   "source": [
    "### Run image2"
   ]
  },
  {
   "cell_type": "code",
   "execution_count": null,
   "id": "373ccb5a",
   "metadata": {},
   "outputs": [],
   "source": [
    "asn_image2_local = glob.glob('./jw02079-o004_*_image2_*_asn.json')\n",
    "asn_image2_local"
   ]
  },
  {
   "cell_type": "code",
   "execution_count": null,
   "id": "dff099be",
   "metadata": {},
   "outputs": [],
   "source": [
    "for file in asn_image2_local:\n",
    "    print(file)\n",
    "    image2 = Image2Pipeline()\n",
    "    result = image2.call(file,\n",
    "                         save_results=True,\n",
    "                         output_dir=data_dir_out_image2) # Use the defaults for now"
   ]
  },
  {
   "cell_type": "markdown",
   "id": "1bddeaa8",
   "metadata": {},
   "source": [
    "### Delete association and rate files from local directory"
   ]
  },
  {
   "cell_type": "code",
   "execution_count": null,
   "id": "7caa5b04",
   "metadata": {},
   "outputs": [],
   "source": [
    "dir_to_be_del = './files_to_be_deleted'\n",
    "if not os.path.exists(dir_to_be_del):\n",
    "    os.mkdir(dir_to_be_del)\n",
    "    \n",
    "for file in asn_image2_local:\n",
    "    shutil.move(file, dir_to_be_del)\n",
    "    \n",
    "for file in glob.glob('./*rate.fits'):\n",
    "    shutil.move(file, dir_to_be_del)\n",
    "    \n",
    "shutil.rmtree(dir_to_be_del)"
   ]
  },
  {
   "cell_type": "markdown",
   "id": "fe1ae678",
   "metadata": {},
   "source": [
    "## Run image3 for the three filters and create catalogs"
   ]
  },
  {
   "cell_type": "markdown",
   "id": "e1fd5c10",
   "metadata": {},
   "source": [
    "### Check an association file for level 3"
   ]
  },
  {
   "cell_type": "code",
   "execution_count": null,
   "id": "add4839e",
   "metadata": {},
   "outputs": [],
   "source": [
    "asnfile = data_dir_asn_level3 + 'jw02079-o004_20230622t175524_image3_00002_asn.json'\n",
    "asn_data = json.load(open(asnfile))\n",
    "asn_data"
   ]
  },
  {
   "cell_type": "markdown",
   "id": "2f4dd3b2",
   "metadata": {},
   "source": [
    "### Move all needed files to the current directory"
   ]
  },
  {
   "cell_type": "code",
   "execution_count": null,
   "id": "97e5a055",
   "metadata": {},
   "outputs": [],
   "source": [
    "asn_image3 = glob.glob(data_dir_asn_level3+'*image3*')\n",
    "for file in asn_image3:\n",
    "    shutil.copy(file, './')"
   ]
  },
  {
   "cell_type": "code",
   "execution_count": null,
   "id": "faddcfe7",
   "metadata": {},
   "outputs": [],
   "source": [
    "cal_clear = glob.glob(data_dir_out_image2+'*')\n",
    "for file in cal_clear:\n",
    "    shutil.copy(file, './')"
   ]
  },
  {
   "cell_type": "markdown",
   "id": "0cab171d",
   "metadata": {},
   "source": [
    "### Run image3"
   ]
  },
  {
   "cell_type": "code",
   "execution_count": null,
   "id": "6cf900af",
   "metadata": {},
   "outputs": [],
   "source": [
    "asn_image3_local = glob.glob('./*image3*.json')\n",
    "asn_image3_local"
   ]
  },
  {
   "cell_type": "markdown",
   "id": "eaabda11",
   "metadata": {},
   "source": [
    "I'll first run the step with the default options, check the catalog and rerun with adjusted parameters."
   ]
  },
  {
   "cell_type": "code",
   "execution_count": null,
   "id": "3f2f7f0f",
   "metadata": {},
   "outputs": [],
   "source": [
    "for file in asn_image3_local:\n",
    "    print(file)\n",
    "    image3 = Image3Pipeline()\n",
    "    result = image3.call(file,\n",
    "                         steps={\n",
    "                                'source_catalog':{'kernel_fwhm':5.0,\n",
    "                                                  'snr_threshold':10.0,\n",
    "                                                  'npixels':50,\n",
    "                                                  'deblend':True,\n",
    "                                                 },\n",
    "                                'tweakreg':{'snr_threshold':20,\n",
    "                                            'abs_refcat':'GAIADR2',\n",
    "                                            'save_catalogs':True,\n",
    "                                            'searchrad':3.0,\n",
    "                                            'kernel_fwhm':2.302,\n",
    "                                            'fitgeometry':'shift',\n",
    "                                           },\n",
    "                               },\n",
    "                         save_results=True,\n",
    "                         output_dir=data_dir_out_image3)"
   ]
  },
  {
   "cell_type": "markdown",
   "id": "e7618691",
   "metadata": {},
   "source": [
    "### Inspect the catalogs used for tweakreg"
   ]
  },
  {
   "cell_type": "code",
   "execution_count": null,
   "id": "64bf95eb",
   "metadata": {},
   "outputs": [],
   "source": [
    "cal_files = glob.glob(data_dir_out_image2+'*')\n",
    "cat_files = []\n",
    "for file in cal_files:\n",
    "    filename = file.split('/')[-1]\n",
    "    catname = filename.replace('cal.fits', 'cal_cat.ecsv')\n",
    "    cat_files.append(catname)"
   ]
  },
  {
   "cell_type": "code",
   "execution_count": null,
   "id": "8830aadb",
   "metadata": {},
   "outputs": [],
   "source": [
    "calexposure = 2\n",
    "imviz_cal = Imviz()\n",
    "viewer = imviz_cal.default_viewer\n",
    "imviz_cal.load_data(cal_files[calexposure])\n",
    "plotopt = imviz_cal.plugins['Plot Options']\n",
    "plotopt.stretch_preset = '99%'\n",
    "imviz_cal.show()"
   ]
  },
  {
   "cell_type": "code",
   "execution_count": null,
   "id": "d2ce2462",
   "metadata": {},
   "outputs": [],
   "source": [
    "catalog = Table.read(cat_files[calexposure])\n",
    "t_xy = Table({'x': catalog['x'],\n",
    "              'y': catalog['y']})\n",
    "\n",
    "viewer.marker = {'color': 'orange', 'alpha': 1, 'markersize': 20, 'fill': False}\n",
    "viewer.add_markers(t_xy)"
   ]
  },
  {
   "cell_type": "markdown",
   "id": "70e6116a",
   "metadata": {},
   "source": [
    "### Delete not-needed files from local directory\n",
    "\n",
    "List includes: cal, outlier_i2d, cal_cat, and asn."
   ]
  },
  {
   "cell_type": "code",
   "execution_count": null,
   "id": "5df25051",
   "metadata": {},
   "outputs": [],
   "source": [
    "dir_to_be_del = './files_to_be_deleted'\n",
    "if not os.path.exists(dir_to_be_del):\n",
    "    os.mkdir(dir_to_be_del)\n",
    "    \n",
    "list_files = glob.glob('./jw02079*')\n",
    "\n",
    "print(\"CHECK that list is ok before continuing\")\n",
    "list_files"
   ]
  },
  {
   "cell_type": "code",
   "execution_count": null,
   "id": "c70a03f6",
   "metadata": {},
   "outputs": [],
   "source": [
    "for file in list_files:\n",
    "    shutil.move(file, dir_to_be_del)\n",
    "\n",
    "shutil.rmtree(dir_to_be_del)"
   ]
  },
  {
   "cell_type": "markdown",
   "id": "bc3459a5",
   "metadata": {},
   "source": [
    "## Visualize catalog and i2d images in Imviz"
   ]
  },
  {
   "cell_type": "code",
   "execution_count": null,
   "id": "c688aa3b",
   "metadata": {},
   "outputs": [],
   "source": [
    "image3_i2d = [data_dir_out_image3 + 'jw02079-o004_t001_niriss_clear-f115w_i2d.fits',\n",
    "              data_dir_out_image3 + 'jw02079-o004_t001_niriss_clear-f150w_i2d.fits',\n",
    "              data_dir_out_image3 + 'jw02079-o004_t001_niriss_clear-f200w_i2d.fits']\n",
    "\n",
    "image3_segm = [data_dir_out_image3 + 'jw02079-o004_t001_niriss_clear-f115w_segm.fits',\n",
    "               data_dir_out_image3 + 'jw02079-o004_t001_niriss_clear-f150w_segm.fits',\n",
    "               data_dir_out_image3 + 'jw02079-o004_t001_niriss_clear-f200w_segm.fits']\n",
    "\n",
    "image3_cat = [data_dir_out_image3 + 'jw02079-o004_t001_niriss_clear-f115w_cat.ecsv',\n",
    "              data_dir_out_image3 + 'jw02079-o004_t001_niriss_clear-f150w_cat.ecsv',\n",
    "              data_dir_out_image3 + 'jw02079-o004_t001_niriss_clear-f200w_cat.ecsv']\n",
    "\n",
    "image3_label = ['F115W',\n",
    "                'F150W',\n",
    "                'F200W']"
   ]
  },
  {
   "cell_type": "code",
   "execution_count": null,
   "id": "7bec8a55",
   "metadata": {},
   "outputs": [],
   "source": [
    "imviz = Imviz()\n",
    "for ii in range(len(image3_i2d)):\n",
    "    with warnings.catch_warnings():\n",
    "        warnings.simplefilter('ignore')\n",
    "        imviz.load_data(image3_i2d[ii], data_label=image3_label[ii])\n",
    "imviz.show()"
   ]
  },
  {
   "cell_type": "code",
   "execution_count": null,
   "id": "98bcbaf8",
   "metadata": {},
   "outputs": [],
   "source": [
    "viewer = imviz.default_viewer"
   ]
  },
  {
   "cell_type": "code",
   "execution_count": null,
   "id": "ad8d9c26",
   "metadata": {},
   "outputs": [],
   "source": [
    "linking = imviz.plugins['Links Control']\n",
    "linking.link_type = 'WCS'"
   ]
  },
  {
   "cell_type": "code",
   "execution_count": null,
   "id": "8369edea",
   "metadata": {},
   "outputs": [],
   "source": [
    "plotopt = imviz.plugins['Plot Options']\n",
    "plotopt.multiselect = True\n",
    "plotopt.select_all(viewers=True, layers=True)\n",
    "plotopt.stretch_preset = '99.5%'\n",
    "plotopt.multiselect = False"
   ]
  },
  {
   "cell_type": "code",
   "execution_count": null,
   "id": "235aa97d",
   "metadata": {},
   "outputs": [],
   "source": []
  }
 ],
 "metadata": {
  "kernelspec": {
   "display_name": "Python 3 (ipykernel)",
   "language": "python",
   "name": "python3"
  },
  "language_info": {
   "codemirror_mode": {
    "name": "ipython",
    "version": 3
   },
   "file_extension": ".py",
   "mimetype": "text/x-python",
   "name": "python",
   "nbconvert_exporter": "python",
   "pygments_lexer": "ipython3",
   "version": "3.11.4"
  }
 },
 "nbformat": 4,
 "nbformat_minor": 5
}
