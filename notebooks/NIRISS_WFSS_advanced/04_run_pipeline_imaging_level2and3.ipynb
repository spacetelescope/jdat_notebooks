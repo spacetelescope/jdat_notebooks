{
 "cells": [
  {
   "cell_type": "markdown",
   "id": "7a935d7c",
   "metadata": {},
   "source": [
    "# Run Image pipeline and create catalog of sources\n",
    "\n",
    "The first calibration that should be done as part of a WFSS run is to run the direct images through the Image2 and Image3 steps of the JWST pipeline. This includes creating a source catalog, which most likely will need to be adjusted from the pipeline default values. **Not having a good source catalog will result in non optimal extraction of sources in the dispersed, WFSS, images.**\n",
    "\n",
    "**Use case**: The default parameters for the pipeline do not extract the expected sources, so a custom parameters need to be set to obtain new combined image and source catalog.<br>\n",
    "**Data**: JWST/NIRISS images and spectra from program 2079.<br>\n",
    "**Tools**: glob, jdaviz, json, jwst, matplotlib, numpy, os, pandas, shutil, warnings<br>\n",
    "**Cross-instrument**: NIRISS<br>\n",
    "\n",
    "**Content**\n",
    "- [Imports & Data Setup](#imports)\n",
    "- [Default Imaging Pipeline Run](#default)\n",
    "  - [Image2](#default_image2)\n",
    "  - [Image3](#default_image3)\n",
    "  - [Inspecting Default Results](#view_default)\n",
    "- [Custom Imaging Pipeline Run]\n",
    "  - [Image3]\n",
    "  - [Inspecting Custom Results]\n",
    "\n",
    "**Author**: Camilla Pacifici (cpacifici@stsci.edu), Rachel Plesha (rplesha@stsci.edu), JWebbinar notebooks.<br>\n",
    "**Last modified**: January 2024"
   ]
  },
  {
   "cell_type": "markdown",
   "id": "7fdaf1a1-57e5-4239-b82e-6552261d8d82",
   "metadata": {},
   "source": [
    "<a id='imports'></a>\n",
    "## Imports & Data Setup"
   ]
  },
  {
   "cell_type": "code",
   "execution_count": null,
   "id": "028352f4",
   "metadata": {},
   "outputs": [],
   "source": [
    "import os\n",
    "import glob\n",
    "import json\n",
    "import shutil\n",
    "import warnings\n",
    "import numpy as np\n",
    "import pandas as pd\n",
    "from astropy.io import fits\n",
    "from astropy.table import Table\n",
    "from matplotlib import pyplot as plt\n",
    "%matplotlib inline"
   ]
  },
  {
   "cell_type": "code",
   "execution_count": null,
   "id": "bd8dc296-44cc-4118-a036-5a9ac68c456f",
   "metadata": {},
   "outputs": [],
   "source": [
    "import jwst\n",
    "from jwst.pipeline import Image2Pipeline\n",
    "from jwst.pipeline import Image3Pipeline\n",
    "from jdaviz import Imviz"
   ]
  },
  {
   "cell_type": "raw",
   "id": "42888b91-e010-4ed2-b101-f586668a2235",
   "metadata": {},
   "source": [
    "# Update the CRDS path to your local directory\n",
    "%env CRDS_PATH=<local cache> (/grp/crds/jwst/)\n",
    "%env CRDS_SERVER_URL=https://jwst-crds.stsci.edu"
   ]
  },
  {
   "cell_type": "code",
   "execution_count": null,
   "id": "ae10a560",
   "metadata": {},
   "outputs": [],
   "source": [
    "print('jwst:', jwst.__version__)"
   ]
  },
  {
   "cell_type": "code",
   "execution_count": null,
   "id": "e2ecc213-479a-422c-a0f8-8608309b845c",
   "metadata": {},
   "outputs": [],
   "source": [
    "data_dir = 'data'\n",
    "default_run_image3 = 'default_image3_calibrated' # where the results of the default image3 run will be saved (inside of data_dir)\n",
    "custom_run_image3 = 'custom_image3_calibrated'# where the results of the custom image3 run will be saved (inside of data_dir)"
   ]
  },
  {
   "cell_type": "code",
   "execution_count": null,
   "id": "1d576fd0",
   "metadata": {},
   "outputs": [],
   "source": [
    "listrate_file = './list_ngdeep_rate.csv'\n",
    "rate_df = pd.read_csv(listrate_file)"
   ]
  },
  {
   "cell_type": "markdown",
   "id": "d991e323-8e98-4487-a8ab-1b696f91899b",
   "metadata": {},
   "source": [
    "The association files expect that 1) all of the data are in the same directory and 2) that you are performing the pipeline call also in that directory. Because of that, we need to change into the data directory to run the imaging pipelines."
   ]
  },
  {
   "cell_type": "code",
   "execution_count": null,
   "id": "a4ea2cb0-e5d5-4347-8c4c-9126cda54561",
   "metadata": {},
   "outputs": [],
   "source": [
    "cwd = os.getcwd() # get the current working directory \n",
    "if cwd != data_dir: # if you are not already in the location of the data, change into it\n",
    "    try:\n",
    "        os.chdir(data_dir)\n",
    "    except FileNotFoundError:\n",
    "        print(f\"Not able to change into: {data_dir}.\\nRemaining in: {cwd}\")\n",
    "        pass"
   ]
  },
  {
   "cell_type": "markdown",
   "id": "10824c6a-4843-4f31-beb7-05ecc58e8b84",
   "metadata": {},
   "source": [
    "<a id='default'></a>\n",
    "## Default Imaging Pipeline Run\n",
    "To start, run the default image2 and image3 steps of the pipeline on all direct images observed with the WFSS data."
   ]
  },
  {
   "cell_type": "markdown",
   "id": "0ac742e8",
   "metadata": {},
   "source": [
    "<a id='default_image2'></a>\n",
    "### Run Default Image2\n",
    "\n",
    "Image2 is run on the direct image rate files. While your program should have valid association files to download from MAST, if for any reason you need to make your own association file, see [Creating Custom ASN Files](#customasn)."
   ]
  },
  {
   "cell_type": "markdown",
   "id": "82eb2c93",
   "metadata": {},
   "source": [
    "#### Looking in a Level 2 Imaging Association File\n",
    "First, take a look inside the association (ASN) files to better understand everything that is contained in them."
   ]
  },
  {
   "cell_type": "code",
   "execution_count": null,
   "id": "f6429ae4-cc03-4718-b2c2-12924170fe89",
   "metadata": {},
   "outputs": [],
   "source": [
    "image2_asns = glob.glob('*image2*asn*.json')\n",
    "print(len(image2_asns), 'Image2 ASN files')"
   ]
  },
  {
   "cell_type": "code",
   "execution_count": null,
   "id": "9226e1b9-9553-402b-910d-73f7cffcb784",
   "metadata": {},
   "outputs": [],
   "source": [
    "## look at one of the association files\n",
    "asn_data = json.load(open(image2_asns[0]))\n",
    "for key, data in asn_data.items():\n",
    "    print(f\"{key} : {data}\")"
   ]
  },
  {
   "cell_type": "markdown",
   "id": "99c3a7f0-ec0a-403a-9c55-58b2ac6559a7",
   "metadata": {},
   "source": [
    "From this association, we can tell many things about the observation:\n",
    "1. From `asn_type` and `asn_rule`, we can see that this is an image2 association\n",
    "2. From `degraded_status` we can see that there are no exposures to not be included in the calibration.\n",
    "3. From `constraints`, we can see this is not a time series observation (TSO), the observation is part of program 2079, observed with NIRISS with the CLEAR (i.e. imaging for WFSS) and F150W filters.\n",
    "4. From `products` we can see there is only one exposure associated"
   ]
  },
  {
   "cell_type": "code",
   "execution_count": null,
   "id": "e5641931-1042-4494-a527-43e521803f3c",
   "metadata": {},
   "outputs": [],
   "source": [
    "## in particular, take a closer look at the product filenames with the association file:\n",
    "for product in asn_data['products']:\n",
    "    for key, value in product.items():\n",
    "        if key == 'members':\n",
    "            print(f\"{key}:\")\n",
    "            for member in value:\n",
    "                print(f\"    {member['expname']} {member['exptype']}\")\n",
    "        else:\n",
    "            print(f\"{key}: {value}\")"
   ]
  },
  {
   "cell_type": "markdown",
   "id": "db2dbaea-228e-4565-928b-2984f4d7fda7",
   "metadata": {},
   "source": [
    "#### Run image2\n",
    "\n",
    "The `rate.fits` products will be calibrated into `cal.fits` files. More information about the steps performed in the Image2 part of the pipeline can be found in the [Image2 pipeline documentation](https://jwst-pipeline.readthedocs.io/en/latest/jwst/pipeline/calwebb_image2.html).\n",
    "\n",
    "In this case, we're saving the outputs to the same directory we are running the pipeline in so that we can then use the output `cal` files to run the Image3 pipeline"
   ]
  },
  {
   "cell_type": "code",
   "execution_count": null,
   "id": "dff099be",
   "metadata": {},
   "outputs": [],
   "source": [
    "for img2_asn in image2_asns:\n",
    "    img2 = Image2Pipeline.call(img2_asn, save_results=True)"
   ]
  },
  {
   "cell_type": "markdown",
   "id": "fe1ae678",
   "metadata": {},
   "source": [
    "<a id='default_image3'></a>\n",
    "### Run Default Image3 "
   ]
  },
  {
   "cell_type": "markdown",
   "id": "e1fd5c10",
   "metadata": {},
   "source": [
    "#### Looking in a Level 3 Association File\n",
    "The contents are quite similar to image2, but notice now that there are many more members that are associated together, and they use the `cal.fits` files from image2."
   ]
  },
  {
   "cell_type": "code",
   "execution_count": null,
   "id": "ccf6ac3b-333f-451d-8157-f83ccba9352c",
   "metadata": {},
   "outputs": [],
   "source": [
    "image3_asns = glob.glob('*image3*asn*.json')\n",
    "print(len(image3_asns), 'Image3 ASN files')"
   ]
  },
  {
   "cell_type": "code",
   "execution_count": null,
   "id": "add4839e",
   "metadata": {},
   "outputs": [],
   "source": [
    "## look at one of the association files\n",
    "image3_asn_data = json.load(open(image3_asns[0]))\n",
    "for key, data in image3_asn_data.items():\n",
    "    print(f\"{key} : {data}\")"
   ]
  },
  {
   "cell_type": "code",
   "execution_count": null,
   "id": "2831ae47-5b1b-4d92-b02a-8ce1ee359710",
   "metadata": {},
   "outputs": [],
   "source": [
    "## in particular, take a closer look at the product filenames with the association file:\n",
    "for product in image3_asn_data['products']:\n",
    "    for key, value in product.items():\n",
    "        if key == 'members':\n",
    "            print(f\"{key}:\")\n",
    "            for member in value:\n",
    "                print(f\"    {member['expname']} {member['exptype']}\")\n",
    "        else:\n",
    "            print(f\"{key}: {value}\")"
   ]
  },
  {
   "cell_type": "markdown",
   "id": "0cab171d",
   "metadata": {},
   "source": [
    "#### Run image3"
   ]
  },
  {
   "cell_type": "markdown",
   "id": "ca3bd322-7f67-43c4-8dae-dc47779462ee",
   "metadata": {},
   "source": [
    "Image3 is where we can make some adjustments to obtain a better output source catalog. The `cal.fits` files will be calibrated into a single combined `i2d.fits` image. More information about the steps performed in the Image3 part of the pipeline can be found in the [Image3 pipeline documentation](https://jwst-pipeline.readthedocs.io/en/latest/jwst/pipeline/calwebb_image3.html)."
   ]
  },
  {
   "cell_type": "code",
   "execution_count": null,
   "id": "6cf900af",
   "metadata": {},
   "outputs": [],
   "source": [
    "for img3_asn in image3_asns:\n",
    "    img3 = Image3Pipeline.call(img3_asn, save_results=True, output_dir=default_run_image3)"
   ]
  },
  {
   "cell_type": "markdown",
   "id": "eaabda11",
   "metadata": {},
   "source": [
    "I'll first run the step with the default options, check the catalog and rerun with adjusted parameters."
   ]
  },
  {
   "cell_type": "code",
   "execution_count": null,
   "id": "3f2f7f0f",
   "metadata": {},
   "outputs": [],
   "source": [
    "for file in asn_image3_local:\n",
    "    print(file)\n",
    "    image3 = Image3Pipeline()\n",
    "    result = image3.call(file,\n",
    "                         steps={\n",
    "                                'source_catalog':{'kernel_fwhm':5.0,\n",
    "                                                  'snr_threshold':10.0,\n",
    "                                                  'npixels':50,\n",
    "                                                  'deblend':True,\n",
    "                                                 },\n",
    "                                'tweakreg':{'snr_threshold':20,\n",
    "                                            'abs_refcat':'GAIADR2', #Try DR3\n",
    "                                            'save_catalogs':True,\n",
    "                                            'searchrad':3.0,\n",
    "                                            'kernel_fwhm':2.302,\n",
    "                                            'fitgeometry':'shift',\n",
    "                                           },\n",
    "                               },\n",
    "                         save_results=True,\n",
    "                         output_dir=data_dir_out_image3)"
   ]
  },
  {
   "cell_type": "markdown",
   "id": "33f0dbeb-4caf-4d97-8b2c-3255f906e76b",
   "metadata": {},
   "source": [
    "<a id='view_default'></a>\n",
    "### Inspecting Default Results"
   ]
  },
  {
   "cell_type": "code",
   "execution_count": null,
   "id": "47da18f6-92e3-4fff-8153-222cfc55d353",
   "metadata": {},
   "outputs": [],
   "source": [
    "# These are all resuts from the Image3 pipeline\n",
    "image3_i2d = np.sort(glob.glob(os.path.join(default_run_image3, '*i2d.fits'))) # combined image over multiple dithers/mosaic\n",
    "image3_segm = np.sort(glob.glob(os.path.join(default_run_image3, '*segm.fits'))) # segmentation map that defines the extent of a source\n",
    "image3_cat = np.sort(glob.glob(os.path.join(default_run_image3, '*cat.ecsv'))) # Source catalog that defines the RA/Dec of a source at a particular pixel"
   ]
  },
  {
   "cell_type": "markdown",
   "id": "7442c52c-d399-4593-a488-e30e02261383",
   "metadata": {},
   "source": [
    "#### Matplotlib\n",
    "Matplotlib has limitations where ImViz might better suite your needs -- especially if you like to look at things in WCS coordinates. For the notebook purposes, we are highlighting a few key areas using the matplotlib package instead.\n",
    "\n",
    "Using the `i2d` combined image and the source catalog produced by Image3, we can visually inspect if we're happy with where the pipeline found the sources. In the following figures, what has been defined as an extended source by the pipeline is shown in orange-red, and what has been defined as a point source by the pipeline is shown in grey. This definition affects the extraction box in the WFSS images."
   ]
  },
  {
   "cell_type": "code",
   "execution_count": null,
   "id": "0945914a-bebc-4a8e-b619-fded2bd42485",
   "metadata": {},
   "outputs": [],
   "source": [
    "fig = plt.figure(figsize=(10, 10))\n",
    "\n",
    "cols = 2\n",
    "rows = int(np.ceil(len(image3_i2d) / cols))\n",
    "\n",
    "for plt_num, img in enumerate(image3_i2d):\n",
    "\n",
    "    # determine where the subplot should be\n",
    "    xpos = (plt_num%40) % cols\n",
    "    ypos = ((plt_num%40) // cols) # // to make it an int.\n",
    "\n",
    "    # make the subplot\n",
    "    ax = plt.subplot2grid((rows, cols), (ypos, xpos))\n",
    "\n",
    "    # plot the image\n",
    "    with fits.open(img) as hdu:\n",
    "        ax.imshow(hdu[1].data, vmin=0, vmax=0.3, origin='lower')\n",
    "        ax.set_title(f\"obs{hdu[0].header['OBSERVTN']} {hdu[0].header['PUPIL']}\")\n",
    "\n",
    "    # also plot the associated catalog\n",
    "    cat = Table.read(img.replace('i2d.fits', 'cat.ecsv'))\n",
    "    extended_sources = cat[cat['is_extended'] == True]\n",
    "    point_sources = cat[cat['is_extended'] == False]\n",
    "    ax.scatter(extended_sources['xcentroid'], extended_sources['ycentroid'], s=20, facecolors='None', edgecolors='orangered', alpha=0.9)\n",
    "    ax.scatter(point_sources['xcentroid'], point_sources['ycentroid'], s=20, facecolors='None', edgecolors='dimgrey', alpha=0.9)\n",
    "\n",
    "# Helps to make the axes not overlap ; you can also set this manually if this doesn't work\n",
    "plt.tight_layout()"
   ]
  },
  {
   "cell_type": "markdown",
   "id": "d157e3a8-2f2a-4487-8329-f6fa56713212",
   "metadata": {},
   "source": [
    "The segmentation maps are also a product of the Image3 pipeline, and they are used the help determine the source catalog. Let's take a look at those to ensure we are happy with what it is defining as a source.\n",
    "\n",
    "In the segmentation map, each yellow blob should correspond to a physical target. There are cases where sources can be blended, in which case the parameters for making the semgentation map and source catalog should be changed. An example of this can be seen below in the observation 004 F200W filter image where two galaxies have been blended into one source. This is discussed in more detail in [Custom Imaging Pipeline Run](#custom)."
   ]
  },
  {
   "cell_type": "code",
   "execution_count": null,
   "id": "b27845f3-65f0-46ce-9c0e-70e64ce65bcd",
   "metadata": {},
   "outputs": [],
   "source": [
    "fig2 = plt.figure(figsize=(10, 20))\n",
    "\n",
    "cols = 2\n",
    "rows = len(image3_i2d)\n",
    "\n",
    "for plt_num, img in enumerate(np.sort(np.concatenate([image3_segm, image3_i2d]))):\n",
    "\n",
    "    # determine where the subplot should be\n",
    "    xpos = (plt_num%40) % cols\n",
    "    ypos = ((plt_num%40) // cols) # // to make it an int.\n",
    "\n",
    "    # make the subplot\n",
    "    ax = plt.subplot2grid((rows, cols), (ypos, xpos))\n",
    "\n",
    "    # plot the image\n",
    "    with fits.open(img) as hdu:\n",
    "        ax.imshow(hdu[1].data, vmin=0, vmax=0.3, origin='lower')\n",
    "        title = f\"obs{hdu[0].header['OBSERVTN']} {hdu[0].header['PUPIL']}\"\n",
    "\n",
    "    # also plot the associated catalog\n",
    "    if 'i2d' in img:\n",
    "        cat = Table.read(img.replace('i2d.fits', 'cat.ecsv'))\n",
    "        ax.set_title(f\"{title} combined image\")\n",
    "    else:\n",
    "        ax.set_title(f\"{title} segmentation map\")\n",
    "\n",
    "    extended_sources = cat[cat['is_extended'] == True]\n",
    "    point_sources = cat[cat['is_extended'] == False]\n",
    "    ax.scatter(extended_sources['xcentroid'], extended_sources['ycentroid'], s=20, facecolors='None', edgecolors='orangered', alpha=0.9)\n",
    "    ax.scatter(point_sources['xcentroid'], point_sources['ycentroid'], s=20, facecolors='None', edgecolors='dimgrey', alpha=0.9)\n",
    "    \n",
    "    # zooming in on a smaller region\n",
    "    ax.set_xlim(1250, 1750)\n",
    "    ax.set_ylim(1250, 1750)\n",
    "\n",
    "# Helps to make the axes not overlap ; you can also set this manually if this doesn't work\n",
    "plt.tight_layout()"
   ]
  },
  {
   "cell_type": "markdown",
   "id": "d1addba0-ae56-4565-b12a-3ded03d9b0bf",
   "metadata": {},
   "source": [
    "#### ImViz\n",
    "\n",
    "Similarly to DS9, ImViz allows you to interactively view these images and the corresponding source catalog as well."
   ]
  },
  {
   "cell_type": "code",
   "execution_count": null,
   "id": "7bec8a55",
   "metadata": {},
   "outputs": [],
   "source": [
    "imviz = Imviz()\n",
    "viewer = imviz.default_viewer\n",
    "\n",
    "for img in image3_i2d:\n",
    "    print(f'Plotting: {img}')\n",
    "    label = f\"obs{fits.getval(img, 'OBSERVTN')} {fits.getval(img, 'PUPIL')}\"\n",
    "    with warnings.catch_warnings():\n",
    "        warnings.simplefilter('ignore')\n",
    "        imviz.load_data(img, data_label=label)\n",
    "\n",
    "    # this aligns the image to use the WCS coordinates\n",
    "    linking = imviz.plugins['Links Control']\n",
    "    linking.link_type = 'WCS'\n",
    "\n",
    "    # also plot the associated catalog\n",
    "    cat = Table.read(img.replace('i2d.fits', 'cat.ecsv'))\n",
    "    # format the table into the format imviz expects\n",
    "    t_xy = Table({'x': cat['xcentroid'],\n",
    "                  'y': cat['ycentroid']})\n",
    "    viewer.marker = {'color': 'orange', 'alpha': 1, 'markersize': 20, 'fill': False}\n",
    "    viewer.add_markers(t_xy, marker_name=f\"{label} catalog\")\n",
    "\n",
    "# This changes the stretch of all of the images\n",
    "plotopt = imviz.plugins['Plot Options']\n",
    "plotopt.select_all(viewers=True, layers=True)\n",
    "plotopt.stretch_preset = '99.5%'\n",
    "    \n",
    "imviz.show()"
   ]
  },
  {
   "cell_type": "code",
   "execution_count": null,
   "id": "3201b7b6-64dd-4367-a702-1fa8f547eacb",
   "metadata": {},
   "outputs": [],
   "source": []
  }
 ],
 "metadata": {
  "kernelspec": {
   "display_name": "Python 3 (ipykernel)",
   "language": "python",
   "name": "python3"
  },
  "language_info": {
   "codemirror_mode": {
    "name": "ipython",
    "version": 3
   },
   "file_extension": ".py",
   "mimetype": "text/x-python",
   "name": "python",
   "nbconvert_exporter": "python",
   "pygments_lexer": "ipython3",
   "version": "3.11.7"
  }
 },
 "nbformat": 4,
 "nbformat_minor": 5
}
