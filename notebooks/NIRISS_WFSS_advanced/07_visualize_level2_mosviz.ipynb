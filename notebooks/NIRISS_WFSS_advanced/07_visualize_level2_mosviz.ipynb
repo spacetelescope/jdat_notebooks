{
 "cells": [
  {
   "cell_type": "markdown",
   "id": "a7b71e63",
   "metadata": {},
   "source": [
    "# Visualize level2 output in Mosviz\n",
    "I will use a different instance of Mosviz per filter."
   ]
  },
  {
   "cell_type": "code",
   "execution_count": null,
   "id": "fab6cc54",
   "metadata": {},
   "outputs": [],
   "source": [
    "# utility\n",
    "import os\n",
    "from astropy.table import Table, join\n",
    "import numpy as np\n",
    "import glob\n",
    "import shutil\n",
    "\n",
    "# jdaviz\n",
    "from jdaviz import Mosviz"
   ]
  },
  {
   "cell_type": "code",
   "execution_count": null,
   "id": "7a24e3f9",
   "metadata": {},
   "outputs": [],
   "source": [
    "# Update appropriately\n",
    "data_dir_images = \"/Users/cpacifici/DATA/NGDEEP/image3/\"\n",
    "data_dir_out_spec2 = \"/Users/cpacifici/DATA/NGDEEP/spec2/\""
   ]
  },
  {
   "cell_type": "markdown",
   "id": "067cf0c4",
   "metadata": {},
   "source": [
    "## F115W GR150R"
   ]
  },
  {
   "cell_type": "code",
   "execution_count": null,
   "id": "b00e9d9d",
   "metadata": {},
   "outputs": [],
   "source": [
    "directimage = data_dir_images + 'jw02079-o004_t001_niriss_clear-f115w_i2d.fits'\n",
    "catalogfile = data_dir_images + 'jw02079-o004_t001_niriss_clear-f115w_cat.ecsv'\n",
    "calfile = data_dir_out_spec2 + 'jw02079004001_03101_00001_nis_cal.fits'\n",
    "x1dfile = data_dir_out_spec2 + 'jw02079004001_03101_00001_nis_x1d.fits'"
   ]
  },
  {
   "cell_type": "code",
   "execution_count": null,
   "id": "b016350e",
   "metadata": {},
   "outputs": [],
   "source": [
    "dir_mosviz = './mosviz_stuff'\n",
    "if os.path.exists(dir_mosviz):\n",
    "    shutil.rmtree(dir_mosviz)\n",
    "\n",
    "os.mkdir(dir_mosviz)\n",
    "\n",
    "shutil.copy(directimage, dir_mosviz)\n",
    "shutil.copy(catalogfile, dir_mosviz)\n",
    "shutil.copy(calfile, dir_mosviz)\n",
    "shutil.copy(x1dfile, dir_mosviz)"
   ]
  },
  {
   "cell_type": "code",
   "execution_count": null,
   "id": "0b7f1cc0",
   "metadata": {},
   "outputs": [],
   "source": [
    "mosviz1 = Mosviz()\n",
    "mosviz1.load_data(directory=dir_mosviz, instrument='niriss')\n",
    "mosviz1.show()"
   ]
  },
  {
   "cell_type": "code",
   "execution_count": null,
   "id": "128aec4b",
   "metadata": {},
   "outputs": [],
   "source": [
    "plotopt = mosviz1.plugins['Plot Options']\n",
    "plotopt.viewer = 'image-viewer'\n",
    "plotopt.stretch_vmin = 0.15\n",
    "plotopt.stretch_vmax = 0.4\n",
    "\n",
    "plotopt.viewer = 'spectrum-2d-viewer'\n",
    "plotopt.stretch_vmin = 0\n",
    "plotopt.stretch_vmax = 2"
   ]
  },
  {
   "cell_type": "markdown",
   "id": "3a13745c",
   "metadata": {},
   "source": [
    "We add a column to the table to take notes and mark the interesting objects with emission lines."
   ]
  },
  {
   "cell_type": "code",
   "execution_count": null,
   "id": "31703246",
   "metadata": {},
   "outputs": [],
   "source": [
    "mosviz1.add_column('Notes')"
   ]
  },
  {
   "cell_type": "code",
   "execution_count": null,
   "id": "eed32ee9",
   "metadata": {},
   "outputs": [],
   "source": [
    "# Filter F115W grism GR150R\n",
    "mosviz1.update_column('Notes', 'line', row=23) # ID 216\n",
    "mosviz1.update_column('Notes', 'line maybe', row=25) # ID 243\n",
    "mosviz1.update_column('Notes', 'line maybe', row=27) # ID 188\n",
    "mosviz1.update_column('Notes', 'line', row=35) # ID 250\n",
    "mosviz1.update_column('Notes', 'line', row=53) # ID 21\n",
    "mosviz1.update_column('Notes', 'line', row=56) # ID 100\n",
    "mosviz1.update_column('Notes', 'line', row=77) # ID 23\n",
    "mosviz1.update_column('Notes', 'line', row=85) # ID 71\n",
    "mosviz1.update_column('Notes', 'line', row=86) # ID 179\n",
    "mosviz1.update_column('Notes', 'line', row=99) # ID 245\n",
    "mosviz1.update_column('Notes', 'line maybe', row=100) # ID 109\n",
    "mosviz1.update_column('Notes', 'line', row=117) # ID 22\n",
    "mosviz1.update_column('Notes', 'line', row=134) # ID 2\n",
    "mosviz1.update_column('Notes', 'line', row=137) # ID 4\n",
    "mosviz1.update_column('Notes', 'line maybe', row=157) # ID 113\n"
   ]
  },
  {
   "cell_type": "code",
   "execution_count": null,
   "id": "a3807fd8",
   "metadata": {},
   "outputs": [],
   "source": [
    "table_f115w_grr = mosviz1.to_table()"
   ]
  },
  {
   "cell_type": "code",
   "execution_count": null,
   "id": "49115f40",
   "metadata": {},
   "outputs": [],
   "source": [
    "# Save table to file\n",
    "table_f115w_grr.write('./f115w_gr150r_objects_flags.ecsv', format='ascii.ecsv', overwrite=True)"
   ]
  },
  {
   "cell_type": "markdown",
   "id": "765e6081",
   "metadata": {},
   "source": [
    "## F150W GR150R"
   ]
  },
  {
   "cell_type": "code",
   "execution_count": null,
   "id": "6cfbcda7",
   "metadata": {},
   "outputs": [],
   "source": [
    "directimage = data_dir_images + 'jw02079-o004_t001_niriss_clear-f150w_i2d.fits'\n",
    "catalogfile = data_dir_images + 'jw02079-o004_t001_niriss_clear-f150w_cat.ecsv'\n",
    "calfile = data_dir_out_spec2 + 'jw02079004002_09101_00001_nis_cal.fits'\n",
    "x1dfile = data_dir_out_spec2 + 'jw02079004002_09101_00001_nis_x1d.fits'"
   ]
  },
  {
   "cell_type": "code",
   "execution_count": null,
   "id": "d920b143",
   "metadata": {},
   "outputs": [],
   "source": [
    "dir_mosviz = './mosviz_stuff'\n",
    "if os.path.exists(dir_mosviz):\n",
    "    shutil.rmtree(dir_mosviz)\n",
    "\n",
    "os.mkdir(dir_mosviz)\n",
    "\n",
    "shutil.copy(directimage, dir_mosviz)\n",
    "shutil.copy(catalogfile, dir_mosviz)\n",
    "shutil.copy(calfile, dir_mosviz)\n",
    "shutil.copy(x1dfile, dir_mosviz)"
   ]
  },
  {
   "cell_type": "code",
   "execution_count": null,
   "id": "9f6ca5b1",
   "metadata": {},
   "outputs": [],
   "source": [
    "mosviz2 = Mosviz()\n",
    "mosviz2.load_data(directory=dir_mosviz, instrument='niriss')\n",
    "mosviz2.show()"
   ]
  },
  {
   "cell_type": "code",
   "execution_count": null,
   "id": "99fb216e",
   "metadata": {},
   "outputs": [],
   "source": [
    "plotopt = mosviz2.plugins['Plot Options']\n",
    "plotopt.viewer = 'image-viewer'\n",
    "plotopt.stretch_vmin = 0.15\n",
    "plotopt.stretch_vmax = 0.5\n",
    "\n",
    "plotopt.viewer = 'spectrum-2d-viewer'\n",
    "plotopt.stretch_vmin = 0\n",
    "plotopt.stretch_vmax = 3"
   ]
  },
  {
   "cell_type": "code",
   "execution_count": null,
   "id": "b3aac083",
   "metadata": {},
   "outputs": [],
   "source": [
    "mosviz2.add_column('Notes')"
   ]
  },
  {
   "cell_type": "code",
   "execution_count": null,
   "id": "5409284c",
   "metadata": {},
   "outputs": [],
   "source": [
    "# Filter F150W grism GR150R\n",
    "mosviz2.update_column('Notes', 'line', row=14) # ID 170\n",
    "mosviz2.update_column('Notes', 'line', row=21) # ID 150\n",
    "mosviz2.update_column('Notes', 'maybe line', row=34) # ID 38\n",
    "mosviz2.update_column('Notes', 'line', row=36) # ID 195\n",
    "mosviz2.update_column('Notes', 'maybe line', row=44) # ID 184\n",
    "mosviz2.update_column('Notes', 'maybe line', row=47) # ID 213\n",
    "mosviz2.update_column('Notes', 'maybe line', row=57) # ID 25\n",
    "mosviz2.update_column('Notes', 'line', row=60) # ID 218\n",
    "mosviz2.update_column('Notes', 'line', row=62) # ID 21\n",
    "mosviz2.update_column('Notes', 'line', row=63) # ID 37\n",
    "mosviz2.update_column('Notes', 'maybe line', row=66) # ID 145\n",
    "mosviz2.update_column('Notes', 'maybe line', row=70) # ID 19\n",
    "mosviz2.update_column('Notes', 'line', row=71) # ID 207\n",
    "mosviz2.update_column('Notes', 'line', row=73) # ID 15\n",
    "mosviz2.update_column('Notes', 'line', row=74) # ID 63\n",
    "mosviz2.update_column('Notes', 'line', row=77) # ID 109 # promising!\n",
    "mosviz2.update_column('Notes', 'maybe line', row=81) # ID 23\n",
    "mosviz2.update_column('Notes', 'maybe line', row=83) # ID 54\n",
    "mosviz2.update_column('Notes', 'maybe line', row=84) # ID 190\n",
    "mosviz2.update_column('Notes', 'maybe line', row=100) # ID 114\n",
    "mosviz2.update_column('Notes', 'line', row=106) # ID 193 \n",
    "mosviz2.update_column('Notes', 'line', row=110) # ID 135 \n",
    "mosviz2.update_column('Notes', 'line', row=128) # ID 132 \n",
    "mosviz2.update_column('Notes', 'maybe line', row=130) # ID 149\n",
    "mosviz2.update_column('Notes', 'line', row=138) # ID 7 \n",
    "mosviz2.update_column('Notes', 'line', row=139) # ID 44 \n",
    "mosviz2.update_column('Notes', 'line', row=142) # ID 2 \n",
    "mosviz2.update_column('Notes', 'maybe line', row=157) # ID 16\n",
    "mosviz2.update_column('Notes', 'line', row=159) # ID 28 \n",
    "mosviz2.update_column('Notes', 'line', row=161) # ID 41 \n",
    "mosviz2.update_column('Notes', 'line', row=162) # ID 93 \n",
    "mosviz2.update_column('Notes', 'maybe line', row=176) # ID 11\n",
    "mosviz2.update_column('Notes', 'maybe line', row=177) # ID 113\n",
    "mosviz2.update_column('Notes', 'line', row=180) # ID 27 \n",
    "mosviz2.update_column('Notes', 'line', row=194) # ID 86 \n"
   ]
  },
  {
   "cell_type": "code",
   "execution_count": null,
   "id": "d03b024a",
   "metadata": {},
   "outputs": [],
   "source": [
    "table_f150w_grr = mosviz2.to_table()"
   ]
  },
  {
   "cell_type": "code",
   "execution_count": null,
   "id": "2acaebe5",
   "metadata": {},
   "outputs": [],
   "source": [
    "# Save table to file\n",
    "table_f150w_grr.write('./f150w_gr150r_objects_flags.ecsv', format='ascii.ecsv', overwrite=True)"
   ]
  },
  {
   "cell_type": "markdown",
   "id": "0fd0bc12",
   "metadata": {},
   "source": [
    "## F200W GR150R"
   ]
  },
  {
   "cell_type": "code",
   "execution_count": null,
   "id": "ce46b974",
   "metadata": {},
   "outputs": [],
   "source": [
    "directimage = data_dir_images + 'jw02079-o004_t001_niriss_clear-f200w_i2d.fits'\n",
    "catalogfile = data_dir_images + 'jw02079-o004_t001_niriss_clear-f200w_cat.ecsv'\n",
    "calfile = data_dir_out_spec2 + 'jw02079004003_03101_00001_nis_cal.fits'\n",
    "x1dfile = data_dir_out_spec2 + 'jw02079004003_03101_00001_nis_x1d.fits'"
   ]
  },
  {
   "cell_type": "code",
   "execution_count": null,
   "id": "849aad09",
   "metadata": {},
   "outputs": [],
   "source": [
    "dir_mosviz = './mosviz_stuff'\n",
    "if os.path.exists(dir_mosviz):\n",
    "    shutil.rmtree(dir_mosviz)\n",
    "\n",
    "os.mkdir(dir_mosviz)\n",
    "\n",
    "shutil.copy(directimage, dir_mosviz)\n",
    "shutil.copy(catalogfile, dir_mosviz)\n",
    "shutil.copy(calfile, dir_mosviz)\n",
    "shutil.copy(x1dfile, dir_mosviz)"
   ]
  },
  {
   "cell_type": "code",
   "execution_count": null,
   "id": "1716821d",
   "metadata": {},
   "outputs": [],
   "source": [
    "mosviz3 = Mosviz()\n",
    "mosviz3.load_data(directory=dir_mosviz, instrument='niriss')\n",
    "mosviz3.show()"
   ]
  },
  {
   "cell_type": "code",
   "execution_count": null,
   "id": "4314b1f4",
   "metadata": {},
   "outputs": [],
   "source": [
    "plotopt = mosviz3.plugins['Plot Options']\n",
    "plotopt.viewer = 'image-viewer'\n",
    "plotopt.stretch_vmin = 0.15\n",
    "plotopt.stretch_vmax = 0.5\n",
    "\n",
    "plotopt.viewer = 'spectrum-2d-viewer'\n",
    "plotopt.stretch_vmin = 0\n",
    "plotopt.stretch_vmax = 4"
   ]
  },
  {
   "cell_type": "code",
   "execution_count": null,
   "id": "b086e2ce",
   "metadata": {},
   "outputs": [],
   "source": [
    "mosviz3.add_column('Notes')"
   ]
  },
  {
   "cell_type": "code",
   "execution_count": null,
   "id": "821fd610",
   "metadata": {},
   "outputs": [],
   "source": [
    "# Filter F200W grism GR150R\n",
    "mosviz3.update_column('Notes', 'maybe line', row=25) # ID 216\n",
    "mosviz3.update_column('Notes', 'line', row=39) # ID 123 # base key\n",
    "mosviz3.update_column('Notes', 'line', row=48) # ID 92 \n",
    "mosviz3.update_column('Notes', 'line', row=53) # ID 146 \n",
    "mosviz3.update_column('Notes', 'maybe line', row=57) # ID 116\n",
    "mosviz3.update_column('Notes', 'line', row=65) # ID 37\n",
    "mosviz3.update_column('Notes', 'line', row=73) # ID 155\n",
    "mosviz3.update_column('Notes', 'line', row=81) # ID 192\n",
    "mosviz3.update_column('Notes', 'line', row=97) # ID 109\n",
    "mosviz3.update_column('Notes', 'line', row=102) # ID 201\n",
    "mosviz3.update_column('Notes', 'line', row=107) # ID 149\n",
    "mosviz3.update_column('Notes', 'maybe line', row=114) # ID 98\n",
    "mosviz3.update_column('Notes', 'line', row=116) # ID 52\n",
    "mosviz3.update_column('Notes', 'maybe line', row=121) # ID 169\n",
    "mosviz3.update_column('Notes', 'line', row=129) # ID 32\n",
    "mosviz3.update_column('Notes', 'line', row=135) # ID 16\n",
    "mosviz3.update_column('Notes', 'maybe line', row=139) # ID 136\n",
    "mosviz3.update_column('Notes', 'line', row=165) # ID 120\n",
    "mosviz3.update_column('Notes', 'line', row=173) # ID 41\n",
    "mosviz3.update_column('Notes', 'line', row=188) # ID 93\n"
   ]
  },
  {
   "cell_type": "code",
   "execution_count": null,
   "id": "ae6b5fa0",
   "metadata": {},
   "outputs": [],
   "source": [
    "table_f200w_grr = mosviz3.to_table()"
   ]
  },
  {
   "cell_type": "code",
   "execution_count": null,
   "id": "c47b96a7",
   "metadata": {},
   "outputs": [],
   "source": [
    "# Save table to file\n",
    "table_f200w_grr.write('./f200w_gr150r_objects_flags.ecsv', format='ascii.ecsv', overwrite=True)"
   ]
  },
  {
   "cell_type": "markdown",
   "id": "f9fe8290",
   "metadata": {},
   "source": [
    "### Delete files not needed anymore"
   ]
  },
  {
   "cell_type": "code",
   "execution_count": null,
   "id": "5d68b90f",
   "metadata": {},
   "outputs": [],
   "source": [
    "if os.path.exists(dir_mosviz):\n",
    "    shutil.rmtree(dir_mosviz)"
   ]
  },
  {
   "cell_type": "markdown",
   "id": "6e42598e",
   "metadata": {},
   "source": [
    "## Combine catalogs and flags"
   ]
  },
  {
   "cell_type": "code",
   "execution_count": null,
   "id": "eafd7e06",
   "metadata": {},
   "outputs": [],
   "source": [
    "table_f115w_grr.sort(['Identifier'])\n",
    "table_f150w_grr.sort(['Identifier'])\n",
    "table_f200w_grr.sort(['Identifier'])"
   ]
  },
  {
   "cell_type": "markdown",
   "id": "c2d812b3",
   "metadata": {},
   "source": [
    "### Remove non-useful columns"
   ]
  },
  {
   "cell_type": "code",
   "execution_count": null,
   "id": "68576c23",
   "metadata": {},
   "outputs": [],
   "source": [
    "table_f115w_grr.remove_columns(['Table Index', '1D Spectra', '2D Spectra', 'Images', 'Filter/Grating', 'Redshift'])\n",
    "table_f150w_grr.remove_columns(['Table Index', '1D Spectra', '2D Spectra', 'Images', 'Filter/Grating', 'Redshift'])\n",
    "table_f200w_grr.remove_columns(['Table Index', '1D Spectra', '2D Spectra', 'Images', 'Filter/Grating', 'Redshift'])"
   ]
  },
  {
   "cell_type": "markdown",
   "id": "37ebf01c",
   "metadata": {},
   "source": [
    "### Rename notes column"
   ]
  },
  {
   "cell_type": "code",
   "execution_count": null,
   "id": "dd14d9ba",
   "metadata": {},
   "outputs": [],
   "source": [
    "table_f115w_grr.rename_column('Notes', 'Notes_F115W')\n",
    "table_f150w_grr.rename_column('Notes', 'Notes_F150W')\n",
    "table_f200w_grr.rename_column('Notes', 'Notes_F200W')"
   ]
  },
  {
   "cell_type": "markdown",
   "id": "d43b7202",
   "metadata": {},
   "source": [
    "### Join tables"
   ]
  },
  {
   "cell_type": "code",
   "execution_count": null,
   "id": "f3e2c095",
   "metadata": {},
   "outputs": [],
   "source": [
    "table_flags = join(table_f115w_grr, table_f150w_grr, keys='Identifier')"
   ]
  },
  {
   "cell_type": "code",
   "execution_count": null,
   "id": "ce4f93b5",
   "metadata": {},
   "outputs": [],
   "source": [
    "table_flags = join(table_flags, table_f200w_grr, keys='Identifier')"
   ]
  },
  {
   "cell_type": "code",
   "execution_count": null,
   "id": "65c4f85e",
   "metadata": {},
   "outputs": [],
   "source": [
    "table_flags"
   ]
  },
  {
   "cell_type": "markdown",
   "id": "47cb9a52",
   "metadata": {},
   "source": [
    "### Write out flag file"
   ]
  },
  {
   "cell_type": "code",
   "execution_count": null,
   "id": "3ff34311",
   "metadata": {},
   "outputs": [],
   "source": [
    "table_flags.write('./gr150r_objects_flags.ecsv', format='ascii.ecsv', overwrite=True)"
   ]
  },
  {
   "cell_type": "code",
   "execution_count": null,
   "id": "c02ecbd0",
   "metadata": {},
   "outputs": [],
   "source": []
  }
 ],
 "metadata": {
  "kernelspec": {
   "display_name": "Python 3 (ipykernel)",
   "language": "python",
   "name": "python3"
  },
  "language_info": {
   "codemirror_mode": {
    "name": "ipython",
    "version": 3
   },
   "file_extension": ".py",
   "mimetype": "text/x-python",
   "name": "python",
   "nbconvert_exporter": "python",
   "pygments_lexer": "ipython3",
   "version": "3.11.4"
  }
 },
 "nbformat": 4,
 "nbformat_minor": 5
}
