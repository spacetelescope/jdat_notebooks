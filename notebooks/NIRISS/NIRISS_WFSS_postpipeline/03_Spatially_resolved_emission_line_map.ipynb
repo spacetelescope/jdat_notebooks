{
 "cells": [
  {
   "cell_type": "markdown",
   "metadata": {},
   "source": [
    "# WFSS Spectra Part 3: Emission Line Map"
   ]
  },
  {
   "cell_type": "markdown",
   "metadata": {},
   "source": [
    "**Use case:** optimal extraction of grism spectra; redshift measurement; emission-line maps.  Simplified version of [JDox Science Use Case # 33](https://jwst-docs.stsci.edu/near-infrared-imager-and-slitless-spectrograph/niriss-example-science-programs/niriss-wfss-with-nircam-parallel-imaging-of-galaxies-in-lensing-clusters).<br>\n",
    "**Data:** JWST simulated NIRISS images from [MIRAGE](https://jwst-docs.stsci.edu/jwst-other-tools/mirage-data-simulator), run through the [JWST calibration pipeline](https://jwst-pipeline.readthedocs.io/en/latest/); galaxy cluster.<br>\n",
    "**Tools:**  specutils, astropy, pandas, emcee, lmfit, corner, h5py.<br>\n",
    "**Cross-intrument:** NIRSpec <br>\n",
    "**Documentation:** This notebook is part of a STScI's larger [post-pipeline Data Analysis Tools Ecosystem](https://jwst-docs.stsci.edu/jwst-post-pipeline-data-analysis).<br>\n",
    "\n",
    "\n",
    "## Introduction\n",
    "\n",
    "This notebook is 4 of 4 in a set focusing on NIRISS WFSS data:\n",
    "    1. 1D optimal extraction since the JWST pipeline only provides a box extraction.  Optimal extraction improves S/N of spectra for faint sources.\n",
    "    2. Combine and normalize 1D spectra.\n",
    "    3. Cross correlate galaxy with template to get redshift.\n",
    "    4. Spatially resolved emission line map.\n",
    "\n",
    "This notebook obtains an emission line map from the 2D-cutout of NIRISS WFSS spectra. This notebook will require the 2D-cutout of NIRISS WFSS spectrum (e.g., l3_nis_f150w_G150C_s00004_cal.fits; Pipeline spec3 product).\n",
    "\n",
    "**Note:** For this example, the notebook uses only a 2D rectified spectra at one dither position, directly obtained from the current versionn of the  pipeline (Build 7.5), but one could start with spectra stacked with all dither positions too, to improve S/Ns.\n"
   ]
  },
  {
   "cell_type": "code",
   "execution_count": 1,
   "metadata": {
    "execution": {
     "iopub.execute_input": "2025-05-15T19:08:16.631076Z",
     "iopub.status.busy": "2025-05-15T19:08:16.630903Z",
     "iopub.status.idle": "2025-05-15T19:08:19.053467Z",
     "shell.execute_reply": "2025-05-15T19:08:19.052800Z"
    }
   },
   "outputs": [],
   "source": [
    "%matplotlib inline"
   ]
  },
  {
   "cell_type": "code",
   "execution_count": 2,
   "metadata": {
    "execution": {
     "iopub.execute_input": "2025-05-15T19:08:19.055803Z",
     "iopub.status.busy": "2025-05-15T19:08:19.055419Z",
     "iopub.status.idle": "2025-05-15T19:08:20.675878Z",
     "shell.execute_reply": "2025-05-15T19:08:20.675259Z"
    }
   },
   "outputs": [
    {
     "name": "stdout",
     "output_type": "stream",
     "text": [
      "astropy 7.0.2\n"
     ]
    }
   ],
   "source": [
    "import os\n",
    "\n",
    "import numpy as np\n",
    "\n",
    "from astropy.io import fits\n",
    "import astropy.units as u\n",
    "from astropy.modeling import models\n",
    "from astropy.modeling.polynomial import Chebyshev1D\n",
    "\n",
    "from specutils.spectra import Spectrum1D\n",
    "from specutils.fitting import fit_lines\n",
    "from specutils.fitting import continuum\n",
    "\n",
    "from astropy import __version__ as astropy_version\n",
    "print('astropy', astropy_version)"
   ]
  },
  {
   "cell_type": "code",
   "execution_count": 3,
   "metadata": {
    "execution": {
     "iopub.execute_input": "2025-05-15T19:08:20.709889Z",
     "iopub.status.busy": "2025-05-15T19:08:20.709330Z",
     "iopub.status.idle": "2025-05-15T19:08:20.712843Z",
     "shell.execute_reply": "2025-05-15T19:08:20.712265Z"
    }
   },
   "outputs": [],
   "source": [
    "import matplotlib.pyplot as plt\n",
    "import matplotlib as mpl\n",
    "\n",
    "mpl.rcParams['savefig.dpi'] = 80\n",
    "mpl.rcParams['figure.dpi'] = 80"
   ]
  },
  {
   "cell_type": "markdown",
   "metadata": {},
   "source": [
    "### 0. Download notebook 01 products\n",
    "These can be also obtained by running the notebooks."
   ]
  },
  {
   "cell_type": "code",
   "execution_count": 4,
   "metadata": {
    "execution": {
     "iopub.execute_input": "2025-05-15T19:08:20.714716Z",
     "iopub.status.busy": "2025-05-15T19:08:20.714375Z",
     "iopub.status.idle": "2025-05-15T19:08:22.425418Z",
     "shell.execute_reply": "2025-05-15T19:08:22.424888Z"
    }
   },
   "outputs": [
    {
     "name": "stdout",
     "output_type": "stream",
     "text": [
      "Already exists\n"
     ]
    }
   ],
   "source": [
    "if not os.path.exists('./output'):\n",
    "    import zipfile\n",
    "    import urllib.request\n",
    "    boxlink = 'https://data.science.stsci.edu/redirect/JWST/jwst-data_analysis_tools/NIRISS_lensing_cluster/output.zip'\n",
    "    boxfile = './output.zip'\n",
    "    urllib.request.urlretrieve(boxlink, boxfile)\n",
    "    zf = zipfile.ZipFile(boxfile, 'r')\n",
    "    list_names = zf.namelist()\n",
    "    for item in list_names:\n",
    "        zf.extract(member=item) # Using extract instead of extractall because it is safer when files have absolute (/) or relative (..) pathselse:\n",
    "    print('Already exists')"
   ]
  },
  {
   "cell_type": "code",
   "execution_count": 5,
   "metadata": {
    "execution": {
     "iopub.execute_input": "2025-05-15T19:08:22.427328Z",
     "iopub.status.busy": "2025-05-15T19:08:22.427041Z",
     "iopub.status.idle": "2025-05-15T19:08:25.730581Z",
     "shell.execute_reply": "2025-05-15T19:08:25.729996Z"
    }
   },
   "outputs": [],
   "source": [
    "# Download files, if not exists yet.\n",
    "if not os.path.exists('./pipeline_products'):\n",
    "    import zipfile\n",
    "    import urllib.request\n",
    "    boxlink = 'https://data.science.stsci.edu/redirect/JWST/jwst-data_analysis_tools/NIRISS_lensing_cluster/pipeline_products.zip'\n",
    "    boxfile = './pipeline_products.zip'\n",
    "    urllib.request.urlretrieve(boxlink, boxfile)\n",
    "    zf = zipfile.ZipFile(boxfile, 'r')\n",
    "    list_names = zf.namelist()\n",
    "    for item in list_names:\n",
    "        zf.extract(member=item) # Using extract instead of extractall because it is safer when files have absolute (/) or relative (..) paths"
   ]
  },
  {
   "cell_type": "code",
   "execution_count": 6,
   "metadata": {
    "execution": {
     "iopub.execute_input": "2025-05-15T19:08:25.732687Z",
     "iopub.status.busy": "2025-05-15T19:08:25.732503Z",
     "iopub.status.idle": "2025-05-15T19:08:25.735340Z",
     "shell.execute_reply": "2025-05-15T19:08:25.734879Z"
    }
   },
   "outputs": [],
   "source": [
    "# Which target?\n",
    "DIR_OUT = './output/'\n",
    "filt = 'f200w'\n",
    "\n",
    "grism = 'G150C'\n",
    "# grism = 'G150R'\n",
    "\n",
    "id = '00004'"
   ]
  },
  {
   "cell_type": "markdown",
   "metadata": {},
   "source": [
    "### 1.Get Halpha emission line map;"
   ]
  },
  {
   "cell_type": "code",
   "execution_count": 7,
   "metadata": {
    "execution": {
     "iopub.execute_input": "2025-05-15T19:08:25.737082Z",
     "iopub.status.busy": "2025-05-15T19:08:25.736741Z",
     "iopub.status.idle": "2025-05-15T19:08:25.745580Z",
     "shell.execute_reply": "2025-05-15T19:08:25.744999Z"
    }
   },
   "outputs": [],
   "source": [
    "# Open two-dimensional file;\n",
    "# can be downloaded in No.01a.\n",
    "DIR_DATA = './pipeline_products/'\n",
    "\n",
    "# Zero-indexed number for dither --- the test data has two dither positions.\n",
    "ndither = 0\n",
    "\n",
    "# File\n",
    "file_2d = f'{DIR_DATA}l3_nis_{filt}_{grism}_s{id}_cal.fits'\n",
    "hdu_2d = fits.open(file_2d)\n",
    "\n",
    "# Align grism direction\n",
    "#   - x-direction = Dispersion (wavelength) direction.\n",
    "#   - y-direction = Cross-dispersion.\n",
    "# in this notebook.\n",
    "    \n",
    "if grism == 'G150C':\n",
    "    # If spectrum is horizontal;\n",
    "    data_2d = hdu_2d[ndither*7+1].data\n",
    "    dq_2d = hdu_2d[ndither*7+2].data\n",
    "    err_2d = hdu_2d[ndither*7+3].data\n",
    "    wave_2d = hdu_2d[ndither*7+4].data\n",
    "else:\n",
    "    data_2d = rotate(hdu_2d[ndither*7+1].data, 90)\n",
    "    dq_2d = rotate(hdu_2d[ndither*7+2].data, 90)\n",
    "    err_2d = rotate(hdu_2d[ndither*7+3].data, 90)\n",
    "    wave_2d = rotate(hdu_2d[ndither*7+4].data, 90)"
   ]
  },
  {
   "cell_type": "code",
   "execution_count": 8,
   "metadata": {
    "execution": {
     "iopub.execute_input": "2025-05-15T19:08:25.747340Z",
     "iopub.status.busy": "2025-05-15T19:08:25.747001Z",
     "iopub.status.idle": "2025-05-15T19:08:25.821576Z",
     "shell.execute_reply": "2025-05-15T19:08:25.820990Z"
    }
   },
   "outputs": [
    {
     "data": {
      "text/plain": [
       "<matplotlib.image.AxesImage at 0x7f79a3ab0f10>"
      ]
     },
     "execution_count": 8,
     "metadata": {},
     "output_type": "execute_result"
    },
    {
     "data": {
      "image/png": "[encoded data removed]",
      "text/plain": [
       "<Figure size 512x384 with 1 Axes>"
      ]
     },
     "metadata": {},
     "output_type": "display_data"
    }
   ],
   "source": [
    "plt.imshow(data_2d[:, :])"
   ]
  },
  {
   "cell_type": "markdown",
   "metadata": {},
   "source": [
    "### Subtract continuum at each y-position:\n",
    "There are two options, depending on the brightness of the source;\n",
    "- 1.Subtract continuum estimated at each position of cross-dispersion column. This works for a bright source.\n",
    "- 2.Subtract a single continuum (\"master continuum\"), assuming the shape is same across cross-dispersion direction as the one from a 1d extraction. This is required for a faint source.\n",
    "\n",
    "Since we clearly see continuum across the source, here we demonstrate the option 1."
   ]
  },
  {
   "cell_type": "code",
   "execution_count": 9,
   "metadata": {
    "execution": {
     "iopub.execute_input": "2025-05-15T19:08:25.823816Z",
     "iopub.status.busy": "2025-05-15T19:08:25.823421Z",
     "iopub.status.idle": "2025-05-15T19:08:25.952600Z",
     "shell.execute_reply": "2025-05-15T19:08:25.952087Z"
    }
   },
   "outputs": [
    {
     "name": "stderr",
     "output_type": "stream",
     "text": [
      "WARNING: Model is linear in parameters; consider using linear fitting methods. [astropy.modeling.fitting]\n"
     ]
    },
    {
     "data": {
      "text/plain": [
       "(1.6, 2.3)"
      ]
     },
     "execution_count": 9,
     "metadata": {},
     "output_type": "execute_result"
    },
    {
     "data": {
      "image/png": "[encoded data removed]",
      "text/plain": [
       "<Figure size 512x384 with 1 Axes>"
      ]
     },
     "metadata": {},
     "output_type": "display_data"
    }
   ],
   "source": [
    "# At which y position do we want to see spectrum?\n",
    "# as an example;\n",
    "yy = 10\n",
    "\n",
    "spec_unit = u.dimensionless_unscaled\n",
    "\n",
    "mask_line = ((wave_2d[yy, :] > 1.75) & (wave_2d[yy, :] < 1.97)) | ((wave_2d[yy, :] > 2.08) & (wave_2d[yy, :] < 2.23))\n",
    "\n",
    "obs = Spectrum1D(spectral_axis=wave_2d[yy, :][mask_line]*u.um, flux=data_2d[yy, :][mask_line]*spec_unit)\n",
    "cont = continuum.fit_generic_continuum(obs, model=Chebyshev1D(7))\n",
    "\n",
    "plt.plot(wave_2d[yy, :], data_2d[yy, :], color='r', label=f'Observed at y={yy}')\n",
    "plt.plot(wave_2d[yy, :][mask_line]*u.um, cont(wave_2d[yy, :][mask_line]*u.um), color='b', label='Fitted continuum')\n",
    "\n",
    "plt.legend(loc=0)\n",
    "plt.xlim(1.6, 2.3)"
   ]
  },
  {
   "cell_type": "code",
   "execution_count": 10,
   "metadata": {
    "execution": {
     "iopub.execute_input": "2025-05-15T19:08:25.954324Z",
     "iopub.status.busy": "2025-05-15T19:08:25.954139Z",
     "iopub.status.idle": "2025-05-15T19:08:25.958921Z",
     "shell.execute_reply": "2025-05-15T19:08:25.958363Z"
    }
   },
   "outputs": [
    {
     "data": {
      "text/plain": [
       "array([250.33514357, 251.34196958, 252.33995488, 253.31373444,\n",
       "       254.24980289, 255.1366691 , 255.96455747, 256.72516346,\n",
       "       257.4117817 , 258.0190447 , 258.54273033, 258.97986591,\n",
       "       259.32840484, 259.58730322, 259.7563374 , 259.83601394,\n",
       "       259.82753626, 259.73268184, 259.55376828, 259.293551  ,\n",
       "       258.95515925, 258.54210302, 258.05809107, 257.50714692,\n",
       "       256.89339292, 256.22107255, 255.4946222 , 254.718431  ,\n",
       "       253.89689776, 253.03453603, 252.13569829, 251.20466554,\n",
       "       227.29370341, 226.56797823, 225.86951584, 225.19837713,\n",
       "       224.55451483, 223.93770379, 223.34764272, 222.78388336,\n",
       "       222.24585256, 221.73279539, 221.24384815, 220.7779837 ,\n",
       "       220.33396628, 219.91040966, 219.50570878, 219.11804706,\n",
       "       218.74533173, 218.38522929, 218.03510728, 217.6919781 ,\n",
       "       217.35251746, 217.01299429, 216.66924512, 216.31659606,\n",
       "       215.94986802, 215.56329906, 215.15045854, 214.70424682,\n",
       "       214.21679175, 213.67940417, 213.08245036, 212.41535494,\n",
       "       211.6664663 , 210.82300541, 209.87088594, 208.79474321,\n",
       "       207.57778314, 206.20156786, 204.6460847 , 202.88950902,\n",
       "       200.90816122, 198.6761674 , 196.16562504, 193.34633955,\n",
       "       190.18542597, 186.64758486, 182.69465744])"
      ]
     },
     "execution_count": 10,
     "metadata": {},
     "output_type": "execute_result"
    }
   ],
   "source": [
    "cont(wave_2d[yy, :][mask_line]*u.um).value"
   ]
  },
  {
   "cell_type": "code",
   "execution_count": 11,
   "metadata": {
    "execution": {
     "iopub.execute_input": "2025-05-15T19:08:25.960766Z",
     "iopub.status.busy": "2025-05-15T19:08:25.960439Z",
     "iopub.status.idle": "2025-05-15T19:08:26.274356Z",
     "shell.execute_reply": "2025-05-15T19:08:26.273785Z"
    }
   },
   "outputs": [],
   "source": [
    "# Repeat this along y-axis;\n",
    "flux_cont2d = data_2d[:, :] * 0\n",
    "for yy in range(len(data_2d[:, 0])):\n",
    "\n",
    "    mask_line = ((wave_2d[yy, :] > 1.75) & (wave_2d[yy, :] < 1.97)) | ((wave_2d[yy, :] > 2.08) & (wave_2d[yy, :] < 2.23))\n",
    "\n",
    "    obs = Spectrum1D(spectral_axis=wave_2d[yy, :][mask_line]*u.um, flux=data_2d[yy, :][mask_line]*spec_unit)\n",
    "    cont = continuum.fit_generic_continuum(obs, model=Chebyshev1D(7))\n",
    "\n",
    "    flux_cont2d[yy, :] = cont(wave_2d[yy, :]*u.um).value"
   ]
  },
  {
   "cell_type": "code",
   "execution_count": 12,
   "metadata": {
    "execution": {
     "iopub.execute_input": "2025-05-15T19:08:26.276344Z",
     "iopub.status.busy": "2025-05-15T19:08:26.276105Z",
     "iopub.status.idle": "2025-05-15T19:08:26.352169Z",
     "shell.execute_reply": "2025-05-15T19:08:26.351574Z"
    }
   },
   "outputs": [
    {
     "data": {
      "text/plain": [
       "Text(0.5, 1.0, 'Fitted continuum')"
      ]
     },
     "execution_count": 12,
     "metadata": {},
     "output_type": "execute_result"
    },
    {
     "data": {
      "image/png": "[encoded data removed]",
      "text/plain": [
       "<Figure size 512x384 with 1 Axes>"
      ]
     },
     "metadata": {},
     "output_type": "display_data"
    }
   ],
   "source": [
    "plt.imshow(flux_cont2d[:, :])\n",
    "plt.title('Fitted continuum')"
   ]
  },
  {
   "cell_type": "code",
   "execution_count": 13,
   "metadata": {
    "execution": {
     "iopub.execute_input": "2025-05-15T19:08:26.353854Z",
     "iopub.status.busy": "2025-05-15T19:08:26.353686Z",
     "iopub.status.idle": "2025-05-15T19:08:26.429575Z",
     "shell.execute_reply": "2025-05-15T19:08:26.428974Z"
    }
   },
   "outputs": [
    {
     "data": {
      "text/plain": [
       "Text(0.5, 1.0, 'Continuum subtracted spectrum')"
      ]
     },
     "execution_count": 13,
     "metadata": {},
     "output_type": "execute_result"
    },
    {
     "data": {
      "image/png": "[encoded data removed]",
      "text/plain": [
       "<Figure size 512x384 with 1 Axes>"
      ]
     },
     "metadata": {},
     "output_type": "display_data"
    }
   ],
   "source": [
    "plt.imshow(data_2d[:, :] - flux_cont2d[:, :])\n",
    "plt.title('Continuum subtracted spectrum')"
   ]
  },
  {
   "cell_type": "markdown",
   "metadata": {},
   "source": [
    "### Extract Halpha emission from a continuum-subtracted spectrum;"
   ]
  },
  {
   "cell_type": "code",
   "execution_count": 14,
   "metadata": {
    "execution": {
     "iopub.execute_input": "2025-05-15T19:08:26.431576Z",
     "iopub.status.busy": "2025-05-15T19:08:26.431135Z",
     "iopub.status.idle": "2025-05-15T19:08:26.591813Z",
     "shell.execute_reply": "2025-05-15T19:08:26.591186Z"
    }
   },
   "outputs": [
    {
     "data": {
      "text/plain": [
       "Text(0.5, 1.0, 'H$\\\\alpha$ map')"
      ]
     },
     "execution_count": 14,
     "metadata": {},
     "output_type": "execute_result"
    },
    {
     "data": {
      "image/png": "[encoded data removed]",
      "text/plain": [
       "<Figure size 512x384 with 1 Axes>"
      ]
     },
     "metadata": {},
     "output_type": "display_data"
    }
   ],
   "source": [
    "# Cutout Ha line map;\n",
    "rsq = data_2d.shape[0]\n",
    "cut_ha = np.zeros((rsq, rsq), 'float32')\n",
    "\n",
    "zin = 2.1 # From Notebook No.3, cross-correlation;\n",
    "lamcen = 0.6564 * (1. + zin)\n",
    "\n",
    "for yy in range(len(data_2d[:, 0])):\n",
    "    # This has to be done at each y pixel, as wavelength array can be tilted.\n",
    "    index_lamcen = np.argmin(np.abs(lamcen - wave_2d[yy, :]))\n",
    "    cut_ha[yy, :] = (data_2d - flux_cont2d)[yy, int(index_lamcen-rsq/2.):int(index_lamcen+rsq/2.)]\n",
    "\n",
    "plt.imshow(cut_ha)\n",
    "plt.title('H$\\\\alpha$ map')"
   ]
  },
  {
   "cell_type": "markdown",
   "metadata": {},
   "source": [
    "### 2.Get Hbeta and OIII maps\n",
    "This is more challenging, as these lines locate close to each other. Ideally, iteration process will be preferred, but here we use Specutils' double gaussian component fitting, in a similar way for Ha."
   ]
  },
  {
   "cell_type": "code",
   "execution_count": 15,
   "metadata": {
    "execution": {
     "iopub.execute_input": "2025-05-15T19:08:26.593885Z",
     "iopub.status.busy": "2025-05-15T19:08:26.593476Z",
     "iopub.status.idle": "2025-05-15T19:08:26.682460Z",
     "shell.execute_reply": "2025-05-15T19:08:26.681848Z"
    }
   },
   "outputs": [
    {
     "data": {
      "text/plain": [
       "Text(0.5, 1.0, 'f150w')"
      ]
     },
     "execution_count": 15,
     "metadata": {},
     "output_type": "execute_result"
    },
    {
     "data": {
      "image/png": "[encoded data removed]",
      "text/plain": [
       "<Figure size 512x384 with 1 Axes>"
      ]
     },
     "metadata": {},
     "output_type": "display_data"
    }
   ],
   "source": [
    "filt = 'f150w'\n",
    "\n",
    "file_2d = f'{DIR_DATA}l3_nis_{filt}_{grism}_s{id}_cal.fits'\n",
    "hdu_2d = fits.open(file_2d)\n",
    "\n",
    "# Align grism direction\n",
    "#   - x-direction = Dispersion (wavelength) direction.\n",
    "#   - y-direction = Cross-dispersion.\n",
    "# in this notebook.\n",
    "    \n",
    "if grism == 'G150C':\n",
    "    # If spectrum is horizontal;\n",
    "    data_2d = hdu_2d[ndither*7+1].data\n",
    "    dq_2d = hdu_2d[ndither*7+2].data\n",
    "    err_2d = hdu_2d[ndither*7+3].data\n",
    "    wave_2d = hdu_2d[ndither*7+4].data\n",
    "else:\n",
    "    data_2d = rotate(hdu_2d[ndither*7+1].data, 90)\n",
    "    dq_2d = rotate(hdu_2d[ndither*7+2].data, 90)\n",
    "    err_2d = rotate(hdu_2d[ndither*7+3].data, 90)\n",
    "    wave_2d = rotate(hdu_2d[ndither*7+4].data, 90)\n",
    "    \n",
    "# !! Note that the extracted spectra has flipped wavelength direction !!\n",
    "plt.imshow(data_2d[:, ::-1])\n",
    "plt.title(f'{filt}')"
   ]
  },
  {
   "cell_type": "markdown",
   "metadata": {},
   "source": [
    "### In the plot above, you can see Oiii doublet, and Hbeta. "
   ]
  },
  {
   "cell_type": "markdown",
   "metadata": {},
   "source": [
    "#### 2a. Get continuum;"
   ]
  },
  {
   "cell_type": "code",
   "execution_count": 16,
   "metadata": {
    "execution": {
     "iopub.execute_input": "2025-05-15T19:08:26.684361Z",
     "iopub.status.busy": "2025-05-15T19:08:26.684173Z",
     "iopub.status.idle": "2025-05-15T19:08:26.794383Z",
     "shell.execute_reply": "2025-05-15T19:08:26.793743Z"
    }
   },
   "outputs": [
    {
     "data": {
      "text/plain": [
       "(1.2, 1.8)"
      ]
     },
     "execution_count": 16,
     "metadata": {},
     "output_type": "execute_result"
    },
    {
     "data": {
      "image/png": "[encoded data removed]",
      "text/plain": [
       "<Figure size 512x384 with 1 Axes>"
      ]
     },
     "metadata": {},
     "output_type": "display_data"
    }
   ],
   "source": [
    "yy = 10 # as an example;\n",
    "\n",
    "spec_unit = u.dimensionless_unscaled\n",
    "\n",
    "mask_line = ((wave_2d[yy, :] > 1.35) & (wave_2d[yy, :] < 1.48)) | ((wave_2d[yy, :] > 1.6) & (wave_2d[yy, :] < 1.65))\n",
    "\n",
    "obs = Spectrum1D(spectral_axis=wave_2d[yy, :][mask_line]*u.um, flux=data_2d[yy, :][mask_line]*spec_unit)\n",
    "cont = continuum.fit_generic_continuum(obs, model=Chebyshev1D(7))\n",
    "\n",
    "plt.plot(wave_2d[yy, :], data_2d[yy, :], color='r', label=f'Observed at y={yy}')\n",
    "\n",
    "plt.plot(wave_2d[yy, :][mask_line]*u.um, cont(wave_2d[yy, :][mask_line]*u.um), color='b', label='Fitted continuum')\n",
    "\n",
    "plt.legend(loc=0)\n",
    "plt.xlim(1.2, 1.8)"
   ]
  },
  {
   "cell_type": "code",
   "execution_count": 17,
   "metadata": {
    "execution": {
     "iopub.execute_input": "2025-05-15T19:08:26.796381Z",
     "iopub.status.busy": "2025-05-15T19:08:26.796015Z",
     "iopub.status.idle": "2025-05-15T19:08:27.089795Z",
     "shell.execute_reply": "2025-05-15T19:08:27.089319Z"
    }
   },
   "outputs": [
    {
     "data": {
      "text/plain": [
       "<matplotlib.image.AxesImage at 0x7f79a153e050>"
      ]
     },
     "execution_count": 17,
     "metadata": {},
     "output_type": "execute_result"
    },
    {
     "data": {
      "image/png": "[encoded data removed]",
      "text/plain": [
       "<Figure size 512x384 with 1 Axes>"
      ]
     },
     "metadata": {},
     "output_type": "display_data"
    }
   ],
   "source": [
    "# Repeat this along y-axis;\n",
    "flux_cont2d_150 = data_2d[:, :] * 0\n",
    "for yy in range(len(data_2d[:, 0])):\n",
    "\n",
    "    mask_line = ((wave_2d[yy, :] > 1.35) & (wave_2d[yy, :] < 1.48)) | ((wave_2d[yy, :] > 1.6) & (wave_2d[yy, :] < 1.65))\n",
    "\n",
    "    obs = Spectrum1D(spectral_axis=wave_2d[yy, :][mask_line]*u.um, flux=data_2d[yy, :][mask_line]*spec_unit)\n",
    "    cont = continuum.fit_generic_continuum(obs, model=Chebyshev1D(7))\n",
    "\n",
    "    flux_cont2d_150[yy, :] = cont(wave_2d[yy, :]*u.um).value\n",
    "\n",
    "plt.imshow(flux_cont2d_150[:, ::-1])"
   ]
  },
  {
   "cell_type": "code",
   "execution_count": 18,
   "metadata": {
    "execution": {
     "iopub.execute_input": "2025-05-15T19:08:27.091478Z",
     "iopub.status.busy": "2025-05-15T19:08:27.091308Z",
     "iopub.status.idle": "2025-05-15T19:08:27.162679Z",
     "shell.execute_reply": "2025-05-15T19:08:27.162100Z"
    }
   },
   "outputs": [
    {
     "data": {
      "text/plain": [
       "<matplotlib.image.AxesImage at 0x7f79a1576650>"
      ]
     },
     "execution_count": 18,
     "metadata": {},
     "output_type": "execute_result"
    },
    {
     "data": {
      "image/png": "[encoded data removed]",
      "text/plain": [
       "<Figure size 512x384 with 1 Axes>"
      ]
     },
     "metadata": {},
     "output_type": "display_data"
    }
   ],
   "source": [
    "line_2d = data_2d[:, :] - flux_cont2d_150[:, :]\n",
    "\n",
    "plt.imshow(line_2d[:, ::-1])"
   ]
  },
  {
   "cell_type": "markdown",
   "metadata": {},
   "source": [
    "#### 2b. Fit emissionn, with multi-conponent gaussian;"
   ]
  },
  {
   "cell_type": "code",
   "execution_count": 19,
   "metadata": {
    "execution": {
     "iopub.execute_input": "2025-05-15T19:08:27.164675Z",
     "iopub.status.busy": "2025-05-15T19:08:27.164330Z",
     "iopub.status.idle": "2025-05-15T19:08:27.185360Z",
     "shell.execute_reply": "2025-05-15T19:08:27.184898Z"
    }
   },
   "outputs": [
    {
     "name": "stdout",
     "output_type": "stream",
     "text": [
      "Model: CompoundModel\n",
      "Inputs: ('x',)\n",
      "Outputs: ('y',)\n",
      "Model set size: 1\n",
      "Expression: [0] + [1] + [2]\n",
      "Components: \n",
      "    [0]: <Gaussian1D(amplitude=105.66862223, mean=1.5077448 um, stddev=0.00935798 um)>\n",
      "\n",
      "    [1]: <Gaussian1D(amplitude=81.52142165, mean=1.53394167 um, stddev=0.00642788 um)>\n",
      "\n",
      "    [2]: <Gaussian1D(amplitude=186.63307995, mean=1.54934897 um, stddev=0.01111534 um)>\n",
      "Parameters:\n",
      "       amplitude_0          mean_0      ...       mean_2            stddev_2      \n",
      "                              um        ...         um                 um         \n",
      "    ------------------ ---------------- ... ----------------- --------------------\n",
      "    105.66862223169086 1.50774480215419 ... 1.549348972329723 0.011115339820856886\n"
     ]
    }
   ],
   "source": [
    "yy = 10\n",
    "\n",
    "# Fit the spectrum\n",
    "con = (1.4 < wave_2d[yy, :]) & (wave_2d[yy, :] < 1.65)\n",
    "\n",
    "spectrum_cut = Spectrum1D(flux=line_2d[yy, :][con]*spec_unit,\n",
    "                          spectral_axis=wave_2d[yy, :][con]*u.um)\n",
    "\n",
    "# !!! Some tweaks may be needed for initial value, to successfully run the fit;\n",
    "\n",
    "# For Hb\n",
    "g1_init = models.Gaussian1D(amplitude=100*spec_unit, mean=1.51*u.um, stddev=0.009*u.um)\n",
    "\n",
    "# For O3 blue\n",
    "g2_init = models.Gaussian1D(amplitude=80.*spec_unit, mean=1.53*u.um, stddev=0.006*u.um)\n",
    "\n",
    "# For O3 red\n",
    "g3_init = models.Gaussian1D(amplitude=200.*spec_unit, mean=1.55*u.um, stddev=0.006*u.um)\n",
    "\n",
    "g123_fit = fit_lines(spectrum_cut, g1_init+g2_init+g3_init)\n",
    "y_fit = g123_fit(wave_2d[yy, :]*u.um)\n",
    "\n",
    "print(g123_fit)"
   ]
  },
  {
   "cell_type": "code",
   "execution_count": 20,
   "metadata": {
    "execution": {
     "iopub.execute_input": "2025-05-15T19:08:27.187208Z",
     "iopub.status.busy": "2025-05-15T19:08:27.186875Z",
     "iopub.status.idle": "2025-05-15T19:08:27.325288Z",
     "shell.execute_reply": "2025-05-15T19:08:27.324732Z"
    }
   },
   "outputs": [
    {
     "data": {
      "text/plain": [
       "<matplotlib.legend.Legend at 0x7f79a16d9d10>"
      ]
     },
     "execution_count": 20,
     "metadata": {},
     "output_type": "execute_result"
    },
    {
     "data": {
      "image/png": "[encoded data removed]",
      "text/plain": [
       "<Figure size 512x384 with 1 Axes>"
      ]
     },
     "metadata": {},
     "output_type": "display_data"
    }
   ],
   "source": [
    "# Plot separately?\n",
    "plt.plot(wave_2d[yy, :], line_2d[yy, :], marker='.', ls='', color='r', label=f'Observed at y={yy}')\n",
    "plt.plot(wave_2d[yy, :], y_fit, color='b', label='Fit', zorder=-2, alpha=0.4, lw=5)\n",
    "\n",
    "y_fit1 = g123_fit[0](wave_2d[yy, :]*u.um)\n",
    "plt.plot(wave_2d[yy, :], y_fit1, color='g', label='1')\n",
    "\n",
    "y_fit1 = g123_fit[1](wave_2d[yy, :]*u.um)\n",
    "plt.plot(wave_2d[yy, :], y_fit1, color='orange', label='2')\n",
    "\n",
    "y_fit1 = g123_fit[2](wave_2d[yy, :]*u.um)\n",
    "plt.plot(wave_2d[yy, :], y_fit1, color='purple', label='3')\n",
    "\n",
    "plt.xlim(1.4, 1.6)\n",
    "\n",
    "plt.title('Single fit peak')\n",
    "plt.grid(True)\n",
    "plt.legend(loc=2)"
   ]
  },
  {
   "cell_type": "code",
   "execution_count": 21,
   "metadata": {
    "execution": {
     "iopub.execute_input": "2025-05-15T19:08:27.327214Z",
     "iopub.status.busy": "2025-05-15T19:08:27.326872Z",
     "iopub.status.idle": "2025-05-15T19:08:27.331716Z",
     "shell.execute_reply": "2025-05-15T19:08:27.331140Z"
    }
   },
   "outputs": [
    {
     "name": "stdout",
     "output_type": "stream",
     "text": [
      "Model: Gaussian1D\n",
      "Inputs: ('x',)\n",
      "Outputs: ('y',)\n",
      "Model set size: 1\n",
      "Parameters:\n",
      "        amplitude            mean              stddev      \n",
      "                              um                 um        \n",
      "    ------------------ ---------------- -------------------\n",
      "    105.66862223169086 1.50774480215419 0.00935797901237529\n",
      "Model: Gaussian1D\n",
      "Inputs: ('x',)\n",
      "Outputs: ('y',)\n",
      "Model set size: 1\n",
      "Parameters:\n",
      "        amplitude            mean               stddev       \n",
      "                              um                  um         \n",
      "    ----------------- ------------------ --------------------\n",
      "    81.52142165000488 1.5339416685773737 0.006427875129710685\n",
      "Model: Gaussian1D\n",
      "Inputs: ('x',)\n",
      "Outputs: ('y',)\n",
      "Model set size: 1\n",
      "Parameters:\n",
      "        amplitude            mean              stddev       \n",
      "                              um                 um         \n",
      "    ----------------- ----------------- --------------------\n",
      "    186.6330799464549 1.549348972329723 0.011115339820856886\n"
     ]
    }
   ],
   "source": [
    "print(g123_fit[0])\n",
    "print(g123_fit[1])\n",
    "print(g123_fit[2])"
   ]
  },
  {
   "cell_type": "markdown",
   "metadata": {},
   "source": [
    "### Fit to the central array looks good. Repeat this along y-axis and get emission line maps, as a same way as for Halpha"
   ]
  },
  {
   "cell_type": "code",
   "execution_count": 22,
   "metadata": {
    "execution": {
     "iopub.execute_input": "2025-05-15T19:08:27.333553Z",
     "iopub.status.busy": "2025-05-15T19:08:27.333104Z",
     "iopub.status.idle": "2025-05-15T19:08:27.569966Z",
     "shell.execute_reply": "2025-05-15T19:08:27.569419Z"
    }
   },
   "outputs": [],
   "source": [
    "# Cutout Hb, Oiii line maps;\n",
    "rsq = data_2d.shape[0]\n",
    "cut_hb = np.zeros((rsq, rsq), 'float32')\n",
    "cut_o3b = np.zeros((rsq, rsq), 'float32')\n",
    "cut_o3r = np.zeros((rsq, rsq), 'float32')\n",
    "\n",
    "zin = 2.1 # Redshift estimate from Notebook No.2, cross-correlation;\n",
    "lamcen_hb = 0.4862680 * (1. + zin)\n",
    "lamcen_o3b = 0.4960295 * (1. + zin)\n",
    "lamcen_o3r = 0.5008240 * (1. + zin)\n",
    "\n",
    "for yy in range(len(data_2d[:, 0])):\n",
    "    # Fit the spectrum\n",
    "    con = (1.4 < wave_2d[yy, :]) & (wave_2d[yy, :] < 1.65)\n",
    "    spectrum_cut = Spectrum1D(flux=line_2d[yy, :][con]*spec_unit, \n",
    "                              spectral_axis=wave_2d[yy, :][con]*u.um)\n",
    "\n",
    "    # !!! Some tweaks may be needed for initial value, to successfuully run the fit;\n",
    "\n",
    "    # For Hb\n",
    "    g1_init = models.Gaussian1D(amplitude=100*spec_unit, mean=1.51*u.um, stddev=0.009*u.um)\n",
    "    # For O3 blue\n",
    "    g2_init = models.Gaussian1D(amplitude=80.*spec_unit, mean=1.53*u.um, stddev=0.006*u.um)\n",
    "    # For O3 red\n",
    "    g3_init = models.Gaussian1D(amplitude=200.*spec_unit, mean=1.55*u.um, stddev=0.006*u.um)\n",
    "    g123_fit = fit_lines(spectrum_cut, g1_init+g2_init+g3_init)\n",
    "    y_fit = g123_fit(wave_2d[yy, :]*u.um)\n",
    "\n",
    "    # This has to be done at each y pixel, as wavelength array can be tilted.\n",
    "    index_lamcen_hb = np.argmin(np.abs(lamcen_hb - wave_2d[yy, :]))\n",
    "    cut_hb[yy, :] = g123_fit[0](wave_2d[yy, :]*u.um)[int(index_lamcen_hb-rsq/2.):int(index_lamcen_hb+rsq/2.)]\n",
    "\n",
    "    index_lamcen_o3b = np.argmin(np.abs(lamcen_o3b - wave_2d[yy, :]))\n",
    "    cut_o3b[yy, :] = g123_fit[1](wave_2d[yy, :]*u.um)[int(index_lamcen_o3b-rsq/2.):int(index_lamcen_o3b+rsq/2.)]\n",
    "\n",
    "    index_lamcen_o3r = np.argmin(np.abs(lamcen_o3r - wave_2d[yy, :]))\n",
    "    cut_o3r[yy, :] = g123_fit[2](wave_2d[yy, :]*u.um)[int(index_lamcen_o3r-rsq/2.):int(index_lamcen_o3r+rsq/2.)]"
   ]
  },
  {
   "cell_type": "code",
   "execution_count": 23,
   "metadata": {
    "execution": {
     "iopub.execute_input": "2025-05-15T19:08:27.571946Z",
     "iopub.status.busy": "2025-05-15T19:08:27.571771Z",
     "iopub.status.idle": "2025-05-15T19:08:27.683296Z",
     "shell.execute_reply": "2025-05-15T19:08:27.682729Z"
    }
   },
   "outputs": [
    {
     "data": {
      "text/plain": [
       "Text(0.5, 1.0, 'H$\\\\beta$ map')"
      ]
     },
     "execution_count": 23,
     "metadata": {},
     "output_type": "execute_result"
    },
    {
     "data": {
      "image/png": "[encoded data removed]",
      "text/plain": [
       "<Figure size 512x384 with 1 Axes>"
      ]
     },
     "metadata": {},
     "output_type": "display_data"
    }
   ],
   "source": [
    "plt.imshow(cut_hb)\n",
    "plt.title('H$\\\\beta$ map')"
   ]
  },
  {
   "cell_type": "code",
   "execution_count": 24,
   "metadata": {
    "execution": {
     "iopub.execute_input": "2025-05-15T19:08:27.684986Z",
     "iopub.status.busy": "2025-05-15T19:08:27.684814Z",
     "iopub.status.idle": "2025-05-15T19:08:27.792757Z",
     "shell.execute_reply": "2025-05-15T19:08:27.792218Z"
    }
   },
   "outputs": [
    {
     "data": {
      "text/plain": [
       "Text(0.5, 1.0, 'Oiii 4960')"
      ]
     },
     "execution_count": 24,
     "metadata": {},
     "output_type": "execute_result"
    },
    {
     "data": {
      "image/png": "[encoded data removed]",
      "text/plain": [
       "<Figure size 512x384 with 1 Axes>"
      ]
     },
     "metadata": {},
     "output_type": "display_data"
    }
   ],
   "source": [
    "plt.imshow(cut_o3b)\n",
    "plt.title('Oiii 4960')"
   ]
  },
  {
   "cell_type": "code",
   "execution_count": 25,
   "metadata": {
    "execution": {
     "iopub.execute_input": "2025-05-15T19:08:27.794435Z",
     "iopub.status.busy": "2025-05-15T19:08:27.794262Z",
     "iopub.status.idle": "2025-05-15T19:08:27.901100Z",
     "shell.execute_reply": "2025-05-15T19:08:27.900549Z"
    }
   },
   "outputs": [
    {
     "data": {
      "text/plain": [
       "Text(0.5, 1.0, 'Oiii 5008')"
      ]
     },
     "execution_count": 25,
     "metadata": {},
     "output_type": "execute_result"
    },
    {
     "data": {
      "image/png": "[encoded data removed]",
      "text/plain": [
       "<Figure size 512x384 with 1 Axes>"
      ]
     },
     "metadata": {},
     "output_type": "display_data"
    }
   ],
   "source": [
    "plt.imshow(cut_o3r)\n",
    "plt.title('Oiii 5008')"
   ]
  },
  {
   "cell_type": "markdown",
   "metadata": {},
   "source": [
    "## Summary;\n",
    "As seen above, regions except for the very center <font color='red'>do not look right.</font> This is due to failure of multi-component fit, especially for Oiii doublet.\n",
    "To improve the fit, one can either;\n",
    "- fit and inspect the fit repeatedly at each y-axis until it converges,\n",
    "- use MCMC for more intensive fitting, which also enables to fix the ratio of two Oiii lines by setting up a prior.\n",
    "- or reduce the number of components, especially for Oiii doublet at the edge of the source position, where the lines are blended."
   ]
  }
 ],
 "metadata": {
  "kernelspec": {
   "display_name": "Python 3 (ipykernel)",
   "language": "python",
   "name": "python3"
  },
  "language_info": {
   "codemirror_mode": {
    "name": "ipython",
    "version": 3
   },
   "file_extension": ".py",
   "mimetype": "text/x-python",
   "name": "python",
   "nbconvert_exporter": "python",
   "pygments_lexer": "ipython3",
   "version": "3.11.12"
  }
 },
 "nbformat": 4,
 "nbformat_minor": 4
}
