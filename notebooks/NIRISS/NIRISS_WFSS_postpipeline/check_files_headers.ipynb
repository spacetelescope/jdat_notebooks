{
 "cells": [
  {
   "cell_type": "markdown",
   "id": "continental-machinery",
   "metadata": {},
   "source": [
    "# Check pipeline outputs"
   ]
  },
  {
   "cell_type": "code",
   "execution_count": 1,
   "id": "nasty-belize",
   "metadata": {},
   "outputs": [],
   "source": [
    "from astropy.io import fits\n",
    "import matplotlib.pyplot as plt\n",
    "from jdaviz import Imviz\n",
    "#from jwst import datamodels"
   ]
  },
  {
   "cell_type": "code",
   "execution_count": 2,
   "id": "7c83c7bc",
   "metadata": {},
   "outputs": [
    {
     "name": "stdout",
     "output_type": "stream",
     "text": [
      "jdaviz version: 3.4.dev41+g2953dec2\n"
     ]
    }
   ],
   "source": [
    "import jdaviz\n",
    "print(\"jdaviz version:\", jdaviz.__version__)"
   ]
  },
  {
   "cell_type": "code",
   "execution_count": 16,
   "id": "ce98d2be",
   "metadata": {},
   "outputs": [],
   "source": [
    "file = \"/Users/cpacifici/Documents/NIRISS/GITDUMP/nis_015/data_inflight/jw01089001001_04101_00001_nis_cal.fits\"\n",
    "sim = \"/Users/cpacifici/Documents/NIRISS/GITDUMP/nis_015/oldgithubstuff/data/NIS-015_CAP2_pipeline_products/jw01089001001_01101_00067_nis_cal.fits\""
   ]
  },
  {
   "cell_type": "markdown",
   "id": "95d38a86",
   "metadata": {},
   "source": [
    "## Get list of files with header keywords"
   ]
  },
  {
   "cell_type": "code",
   "execution_count": 10,
   "id": "3db7c79f",
   "metadata": {
    "scrolled": false
   },
   "outputs": [],
   "source": [
    "import pandas as pd\n",
    "import glob\n",
    "\n",
    "df = pd.DataFrame(columns=[\"FILENAME\", \"FILTER\", \"PUPIL\", \"PATT_NUM\", \"NUMDTHPT\", \"XOFFSET\", \"YOFFSET\"])\n",
    "\n",
    "for file in glob.glob(\"/Users/cpacifici/Documents/JDAT/jdat_notebook_fork/jdat_notebooks/notebooks/NIRISS_WFSS_postpipeline/mastDownload/JWST/*/*rate.fits\"):\n",
    "    try:\n",
    "        image = fits.open(file)\n",
    "        df2 = pd.DataFrame({\"FILENAME\"   : [image[0].header[\"FILENAME\"]],\n",
    "                        \"FILTER\"     : [image[0].header[\"FILTER\"]],\n",
    "                        \"PUPIL\"      : [image[0].header[\"PUPIL\"]],\n",
    "                        \"PATT_NUM\"   : [image[0].header[\"PATT_NUM\"]],\n",
    "                        \"NUMDTHPT\"   : [image[0].header[\"NUMDTHPT\"]],\n",
    "                        \"XOFFSET\"    : [image[0].header[\"XOFFSET\"]],\n",
    "                        \"YOFFSET\"    : [image[0].header[\"YOFFSET\"]]})\n",
    "    \n",
    "        df = pd.concat([df, df2], ignore_index = True, axis = 0)\n",
    "    \n",
    "    except:\n",
    "        print(\"corrupted: \",file)\n",
    "    \n",
    "    \n",
    "dfsort = df.sort_values('FILENAME')\n",
    "\n",
    "dfsort.to_csv(\"rate_2079_filelist.csv\",sep=' ')"
   ]
  },
  {
   "cell_type": "markdown",
   "id": "56ae2be7",
   "metadata": {},
   "source": [
    "## Look at the header and a quicklook plot"
   ]
  },
  {
   "cell_type": "code",
   "execution_count": null,
   "id": "fc1f7822",
   "metadata": {},
   "outputs": [],
   "source": [
    "# Open the file, look at the FITS extensions, and look at the data dimensions.\n",
    "image = fits.open(file)\n",
    "image.info()\n",
    "\n",
    "science_data = fits.getdata(file, 'SCI')\n",
    "science_data.shape"
   ]
  },
  {
   "cell_type": "code",
   "execution_count": null,
   "id": "2bf22d57",
   "metadata": {},
   "outputs": [],
   "source": [
    "plt.figure(figsize=(10,10))\n",
    "plt.imshow(science_data, vmin=0, vmax=10, origin='lower')\n",
    "#plt.xlim(30,40)\n",
    "#plt.ylim(500,1200)\n",
    "plt.colorbar()"
   ]
  },
  {
   "cell_type": "markdown",
   "id": "e344f594",
   "metadata": {},
   "source": [
    "#### Look at a subset of header keywords"
   ]
  },
  {
   "cell_type": "code",
   "execution_count": null,
   "id": "indian-board",
   "metadata": {
    "scrolled": true
   },
   "outputs": [],
   "source": [
    "print(image[0].header['FILENAME'])\n",
    "print()\n",
    "for k in [\"INSTRUME\", \"DETECTOR\", \"FILTER\", \"PUPIL\", \"PATT_NUM\", \"NUMDTHPT\", \"READPATT\", \"NINTS\", \"XOFFSET\", \"YOFFSET\"]:\n",
    "    print(f\"{k} = {image[0].header[k]}\")"
   ]
  },
  {
   "cell_type": "markdown",
   "id": "5cf3a44e",
   "metadata": {},
   "source": [
    "## Check the datamodel"
   ]
  },
  {
   "cell_type": "code",
   "execution_count": null,
   "id": "275185d4",
   "metadata": {},
   "outputs": [],
   "source": [
    "model = datamodels.open(file)\n",
    "model"
   ]
  },
  {
   "cell_type": "code",
   "execution_count": null,
   "id": "efa29152",
   "metadata": {},
   "outputs": [],
   "source": [
    "print(model.meta.instrument.name)\n",
    "print(model.meta.instrument.pupil)\n",
    "print(model.meta.instrument.filter)\n",
    "print(model.shape)"
   ]
  },
  {
   "cell_type": "markdown",
   "id": "41c051c3",
   "metadata": {},
   "source": [
    "## Visualize in Imviz"
   ]
  },
  {
   "cell_type": "code",
   "execution_count": 14,
   "id": "designed-monitoring",
   "metadata": {
    "scrolled": false
   },
   "outputs": [
    {
     "data": {
      "application/vnd.jupyter.widget-view+json": {
       "model_id": "5e5a07a4a05d423bbbb09dc7f88ed800",
       "version_major": 2,
       "version_minor": 0
      },
      "text/plain": [
       "Application(config='imviz', events=['call_viewer_method', 'close_snackbar_message', 'data_item_remove', 'data_…"
      ]
     },
     "metadata": {},
     "output_type": "display_data"
    }
   ],
   "source": [
    "imviz = Imviz()\n",
    "imviz.app"
   ]
  },
  {
   "cell_type": "code",
   "execution_count": 15,
   "id": "19e24124",
   "metadata": {},
   "outputs": [],
   "source": [
    "imviz.load_data(file, data_label='nis015_direct')"
   ]
  },
  {
   "cell_type": "code",
   "execution_count": 17,
   "id": "79693446",
   "metadata": {},
   "outputs": [],
   "source": [
    "imviz.load_data(sim, data_label='nis015_sim')"
   ]
  },
  {
   "cell_type": "code",
   "execution_count": 18,
   "id": "e88270c7",
   "metadata": {},
   "outputs": [
    {
     "data": {
      "application/vnd.jupyter.widget-view+json": {
       "model_id": "c89c4eea9c144e4bb0413394eaafd75b",
       "version_major": 2,
       "version_minor": 0
      },
      "text/plain": [
       "Application(config='imviz', events=['call_viewer_method', 'close_snackbar_message', 'data_item_remove', 'data_…"
      ]
     },
     "metadata": {},
     "output_type": "display_data"
    },
    {
     "name": "stderr",
     "output_type": "stream",
     "text": [
      "/Users/cpacifici/opt/miniconda3/envs/jdaviz0523/lib/python3.9/site-packages/scipy/optimize/_minpack_py.py:476: RuntimeWarning: Number of calls to function has reached maxfev = 600.\n",
      "  warnings.warn(errors[info][0], RuntimeWarning)\n"
     ]
    }
   ],
   "source": [
    "imviz2 = Imviz()\n",
    "imviz2.app"
   ]
  },
  {
   "cell_type": "code",
   "execution_count": 20,
   "id": "dangerous-absolute",
   "metadata": {},
   "outputs": [],
   "source": [
    "file1 = \"../../nis_015/data_inflight/jw01089001001_04101_00001_nis_cal.fits\"\n",
    "file2 = \"../../nis_015/data_inflight/jw01089001001_10101_00001_nis_cal.fits\"\n",
    "file3 = \"../../nis_015/data_inflight/jw01089001001_28101_00001_nis_cal.fits\"\n",
    "imviz2.load_data(file1, data_label='F200W')\n",
    "imviz2.load_data(file2, data_label='F150W')\n",
    "imviz2.load_data(file3, data_label='F115W')"
   ]
  },
  {
   "cell_type": "code",
   "execution_count": 24,
   "id": "6dcdcd43",
   "metadata": {
    "scrolled": false
   },
   "outputs": [
    {
     "data": {
      "application/vnd.jupyter.widget-view+json": {
       "model_id": "f007b2f28c5c4bcbbebc702151646b9d",
       "version_major": 2,
       "version_minor": 0
      },
      "text/plain": [
       "Application(config='imviz', events=['call_viewer_method', 'close_snackbar_message', 'data_item_remove', 'data_…"
      ]
     },
     "metadata": {},
     "output_type": "display_data"
    }
   ],
   "source": [
    "imviz3 = Imviz()\n",
    "imviz3.app"
   ]
  },
  {
   "cell_type": "code",
   "execution_count": 25,
   "id": "cecd3e35",
   "metadata": {},
   "outputs": [],
   "source": [
    "file = \"/Users/cpacifici/Documents/NIRISS/GITDUMP/nis_015/data_inflight/jw01089003001_02103_00001_nis_rate.fits\"\n",
    "imviz3.load_data(file, data_label='wfss_f150w')"
   ]
  },
  {
   "cell_type": "code",
   "execution_count": null,
   "id": "0df4e9af",
   "metadata": {},
   "outputs": [],
   "source": [
    "file = \"/ifs/jwst/wit/witserv/data18/nis_commissioning/nis-010_1085/jw01085-c1005_t001_niriss_clear-f090w_i2d.fits\"\n",
    "imviz.load_data(file)"
   ]
  },
  {
   "cell_type": "code",
   "execution_count": null,
   "id": "2473a1fc",
   "metadata": {},
   "outputs": [],
   "source": [
    "simulation = '/Users/cpacifici/Documents/NIRISS/GITDUMP/nis_016_git_keep/run_pipeline/output_nis010/jw01085005001_01101_00001c_nis_flatfieldstep.fits'"
   ]
  },
  {
   "cell_type": "code",
   "execution_count": null,
   "id": "714c084b",
   "metadata": {},
   "outputs": [],
   "source": [
    "imviz.load_data(simulation)"
   ]
  },
  {
   "cell_type": "code",
   "execution_count": null,
   "id": "f9a420b0",
   "metadata": {},
   "outputs": [],
   "source": [
    "imviz.get_interactive_regions()"
   ]
  },
  {
   "cell_type": "code",
   "execution_count": null,
   "id": "5f7a37fd",
   "metadata": {},
   "outputs": [],
   "source": []
  }
 ],
 "metadata": {
  "kernelspec": {
   "display_name": "Python 3 (ipykernel)",
   "language": "python",
   "name": "python3"
  },
  "language_info": {
   "codemirror_mode": {
    "name": "ipython",
    "version": 3
   },
   "file_extension": ".py",
   "mimetype": "text/x-python",
   "name": "python",
   "nbconvert_exporter": "python",
   "pygments_lexer": "ipython3",
   "version": "3.10.10"
  }
 },
 "nbformat": 4,
 "nbformat_minor": 5
}
