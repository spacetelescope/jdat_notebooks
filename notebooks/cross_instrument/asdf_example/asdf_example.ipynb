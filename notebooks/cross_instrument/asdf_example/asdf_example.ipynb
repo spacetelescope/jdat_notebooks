{
 "cells": [
  {
   "cell_type": "markdown",
   "metadata": {},
   "source": [
    "# ASDF Example\n",
    "\n",
    "**Use case:** Create ASDF (Advanced Scientific Data Format) file from FITS file.<br>\n",
    "**Data:** CANDELS image of the COSMOS field.<br>\n",
    "**Tools:** asdf, gwcs, astrocut.<br>\n",
    "**Cross-intrument:** all instruments.<br>\n",
    "**Documentation:** This notebook is part of a STScI's larger [post-pipeline Data Analysis Tools Ecosystem](https://jwst-docs.stsci.edu/jwst-post-pipeline-data-analysis).<br>\n",
    "\n",
    "## Introduction\n",
    "  \n",
    "JWST data files make use of the [Advanced Scientific Data Format](https://asdf.readthedocs.io/en/2.5.2/). The ASDF metadata are stored in a FITS extension. The JWST pipline software reads and writes these from the in-memory [datamodels](https://jwst-pipeline.readthedocs.io/en/latest/jwst/datamodels/). \n",
    "\n",
    "However, it is relatively straightforward to read and write a pure ASDF file, skipping FITS and datamodels entirely. This notebook illustrates some aspects of ASDF using a FITS file as a starting point."
   ]
  },
  {
   "cell_type": "markdown",
   "metadata": {},
   "source": [
    "## Imports\n",
    " - astrocut for getting the data via the [astrocut](https://astrocut.readthedocs.io/en/latest/) service at [MAST](https://mast.stsci.edu/portal/Mashup/Clients/Mast/Portal.html)\n",
    " - the fits library from astropy for reading in the FITS file\n",
    " - the astropy coordinates `SkyCoord` object for dealing with celestial coordinates\n",
    " - matplotlib for making plots\n",
    " - asdf and the `AsdfFile` object\n",
    " - the astropy `Table` object for a notebook-friendly view of the header\n",
    " - Items from the modeling, coordinates and wcs libraries for an example of converting world coordinate system information from FITS keywords to a `gwcs` data structure."
   ]
  },
  {
   "cell_type": "code",
   "execution_count": null,
   "metadata": {},
   "outputs": [],
   "source": [
    "from astrocut import fits_cut\n",
    "from astropy.io import fits\n",
    "from astropy.coordinates import SkyCoord\n",
    "import matplotlib.pyplot as plt\n",
    "import asdf\n",
    "from asdf import AsdfFile\n",
    "\n",
    "# For example 4\n",
    "from astropy.table import Table\n",
    "\n",
    "# For example 6\n",
    "from astropy.modeling import models\n",
    "from astropy import coordinates as coord\n",
    "from astropy import units as u\n",
    "from astropy.wcs import WCS\n",
    "from gwcs.wcstools import wcs_from_fiducial"
   ]
  },
  {
   "cell_type": "code",
   "execution_count": null,
   "metadata": {},
   "outputs": [],
   "source": [
    "%matplotlib inline"
   ]
  },
  {
   "cell_type": "markdown",
   "metadata": {},
   "source": [
    "## Get the data\n",
    "We'll grab a cutout from the CANDELS observations of COSMOS using astroquery."
   ]
  },
  {
   "cell_type": "code",
   "execution_count": null,
   "metadata": {},
   "outputs": [],
   "source": [
    "url = \"https://archive.stsci.edu/pub/hlsp/candels/cosmos/cos-tot/v1.0/\"\n",
    "input_files = [url + \"hlsp_candels_hst_acs_cos-tot-sect23_f606w_v1.0_drz.fits\"]"
   ]
  },
  {
   "cell_type": "code",
   "execution_count": null,
   "metadata": {},
   "outputs": [],
   "source": [
    "center_coord = SkyCoord(\"150.0946 2.38681\", unit='deg')\n",
    "cutout_size = [100, 100]"
   ]
  },
  {
   "cell_type": "code",
   "execution_count": null,
   "metadata": {},
   "outputs": [],
   "source": [
    "cutout_file = fits_cut(input_files, center_coord, cutout_size, single_outfile=True)"
   ]
  },
  {
   "cell_type": "code",
   "execution_count": null,
   "metadata": {},
   "outputs": [],
   "source": [
    "print(cutout_file)"
   ]
  },
  {
   "cell_type": "markdown",
   "metadata": {},
   "source": [
    "## Read in the FITS file, look at its structure and display the data"
   ]
  },
  {
   "cell_type": "code",
   "execution_count": null,
   "metadata": {},
   "outputs": [],
   "source": [
    "cutout_hdulist = fits.open(cutout_file)\n",
    "cutout_hdulist.info()"
   ]
  },
  {
   "cell_type": "markdown",
   "metadata": {},
   "source": [
    "Pull apart the FITS components, for convenience later on."
   ]
  },
  {
   "cell_type": "code",
   "execution_count": null,
   "metadata": {},
   "outputs": [],
   "source": [
    "data = cutout_hdulist[1].data\n",
    "header0 = cutout_hdulist[0].header\n",
    "header1 = cutout_hdulist[1].header"
   ]
  },
  {
   "cell_type": "code",
   "execution_count": null,
   "metadata": {},
   "outputs": [],
   "source": [
    "plt.imshow(data)"
   ]
  },
  {
   "cell_type": "code",
   "execution_count": null,
   "metadata": {},
   "outputs": [],
   "source": [
    "header1"
   ]
  },
  {
   "cell_type": "markdown",
   "metadata": {},
   "source": [
    "## Example 1: Store just the key-value pairs of the metadata in ASDF\n",
    "\n",
    "The basic asdf data structure is a dictionary. The astropy FITS header object acts like a python dictionary. We can copy it into a pure dictionary, which will be useful when we want to add the data."
   ]
  },
  {
   "cell_type": "code",
   "execution_count": null,
   "metadata": {},
   "outputs": [],
   "source": [
    "tree1 = {**header1} "
   ]
  },
  {
   "cell_type": "markdown",
   "metadata": {},
   "source": [
    "One more line of code to turn it into asdf. "
   ]
  },
  {
   "cell_type": "code",
   "execution_count": null,
   "metadata": {},
   "outputs": [],
   "source": [
    "myfile = AsdfFile(tree1)"
   ]
  },
  {
   "cell_type": "markdown",
   "metadata": {},
   "source": [
    "We won't save this to a file yet. First, let's inspect the tree."
   ]
  },
  {
   "cell_type": "code",
   "execution_count": null,
   "metadata": {},
   "outputs": [],
   "source": [
    "myfile.tree"
   ]
  },
  {
   "cell_type": "markdown",
   "metadata": {},
   "source": [
    "# Example 2: Save the FITS header annotations\n",
    "The fits header includes comments for many of the keywords. It's a bit clunky, but we can save those by storing a tuple instead of just the value in the dictionary. While we're at it, let's toss some of the FITS keywords that aren't useful."
   ]
  },
  {
   "cell_type": "code",
   "execution_count": null,
   "metadata": {},
   "outputs": [],
   "source": [
    "toss_these = ['XTENSION', 'BITPIX', 'NAXIS', 'NAXIS1', 'NAXIS2', 'CHECKSUM',\n",
    "              'DATASUM', 'EXTNAME', 'FILETYPE', 'PCOUNT', 'GCOUNT',\n",
    "              'IRAF-BPX', 'IRAF-MIN', 'IRAF-MAX', 'IRAFNAME', 'IRAFTYPE']\n",
    "annotated_tree = {}\n",
    "for card in header1.cards:\n",
    "    if card[0] not in toss_these:\n",
    "        annotated_tree[card[0]] = (card[1], card[2])"
   ]
  },
  {
   "cell_type": "code",
   "execution_count": null,
   "metadata": {},
   "outputs": [],
   "source": [
    "myfile = AsdfFile(annotated_tree)"
   ]
  },
  {
   "cell_type": "code",
   "execution_count": null,
   "metadata": {},
   "outputs": [],
   "source": [
    "myfile.tree"
   ]
  },
  {
   "cell_type": "markdown",
   "metadata": {},
   "source": [
    "The value is now in the first element of each tuple. For example, to get just the value of `CRVAL1`, we could do something like the following."
   ]
  },
  {
   "cell_type": "code",
   "execution_count": null,
   "metadata": {},
   "outputs": [],
   "source": [
    "myfile['CRVAL1'][0]"
   ]
  },
  {
   "cell_type": "code",
   "execution_count": null,
   "metadata": {},
   "outputs": [],
   "source": [
    "# Update O_EXT_NM key since it was blank and causing crashing while saving below.\n",
    "\n",
    "myfile.tree['O_EXT_NM'] = 'Original Name Filler'"
   ]
  },
  {
   "cell_type": "markdown",
   "metadata": {},
   "source": [
    "## Example 3: View the file as a searchable table\n",
    "\n",
    "For both FITS and ASDF, it can sometimes be painful to search through a long header. This example shows one way of putting the ASDF file into an Astropy table, and then using the `show_in_notebook` method to provide an interactive tabular view. You can then search by keyword or sort by column (by clicking on the headers).\n",
    "\n",
    "In this example, we pull apart two-element tuples into values and comments. For the other data structures, we just put them into the comment column."
   ]
  },
  {
   "cell_type": "code",
   "execution_count": null,
   "metadata": {},
   "outputs": [],
   "source": [
    "def tree_to_table(tree):\n",
    "    keys = list(tree.keys())\n",
    "    values, other = ([] for i in range(2))\n",
    "    for k in keys:\n",
    "        try:\n",
    "            values += [tree[k][0]]\n",
    "            other += [tree[k][1]]\n",
    "        except Exception as e:\n",
    "            values += [None]\n",
    "            other += [tree[k]]\n",
    "            print(\"An error occured \", e)\n",
    "    return Table([keys, values, other], names=['key', 'value', 'comment or data structure'])"
   ]
  },
  {
   "cell_type": "code",
   "execution_count": null,
   "metadata": {},
   "outputs": [],
   "source": [
    "t = tree_to_table(myfile.tree)\n",
    "t.show_in_notebook()"
   ]
  },
  {
   "cell_type": "markdown",
   "metadata": {},
   "source": [
    "## Example 4: Add the data and write to a file\n",
    "So that's the header. Now we just need to add the data to the dictionary. We can use any descriptive key we like. Maybe we should call it `data`."
   ]
  },
  {
   "cell_type": "code",
   "execution_count": null,
   "metadata": {},
   "outputs": [],
   "source": [
    "myfile['data'] = data # Equivalent to myfile.tree['data'] = data"
   ]
  },
  {
   "cell_type": "code",
   "execution_count": null,
   "metadata": {},
   "outputs": [],
   "source": [
    "myfile['data']"
   ]
  },
  {
   "cell_type": "code",
   "execution_count": null,
   "metadata": {},
   "outputs": [],
   "source": [
    "type(myfile)\n",
    "myfile.info()"
   ]
  },
  {
   "cell_type": "code",
   "execution_count": null,
   "metadata": {},
   "outputs": [],
   "source": [
    "myfile.write_to('myfile.asdf')"
   ]
  },
  {
   "cell_type": "markdown",
   "metadata": {},
   "source": [
    "Read the asdf file from disk and look at the tree and the data"
   ]
  },
  {
   "cell_type": "code",
   "execution_count": null,
   "metadata": {},
   "outputs": [],
   "source": [
    "ff = asdf.open('myfile.asdf')\n",
    "ff.tree"
   ]
  },
  {
   "cell_type": "code",
   "execution_count": null,
   "metadata": {},
   "outputs": [],
   "source": [
    "plt.imshow(ff['data'])"
   ]
  },
  {
   "cell_type": "markdown",
   "metadata": {},
   "source": [
    "## Example 5: Storing multiple extensions\n",
    "The perspicacious reader will have noticed that the previous examples only dealt with extension 1 of the FITS file, leaving the primary header out of the ASDF file. There is no prescribed way to arrange the multiple extensions of a FITS file into an ASDF file. One option would be to create a separate dictionary for each extension and then make a dictionary of these, e.g.:\n",
    "\n",
    "``` \n",
    "    ext1, ext2 = dict(**header0), dict(**header1)\n",
    "    tree = {'ext1':ext1, 'ext2':ext2}\n",
    "```\n",
    "\n",
    "In this case, that would be a bit silly, because the only information of potential value in the ASDF file might be the `ORIGIN, DATE, PROC_VER, RA_OBJ` and `DEC_OBJ`. However, looking at the extension, there is an `ORIGIN` there that will conflict with the `ORIGIN`. (Somewhat amusingly, they have different meanings, according to the comments.)"
   ]
  },
  {
   "cell_type": "code",
   "execution_count": null,
   "metadata": {},
   "outputs": [],
   "source": [
    "header0"
   ]
  },
  {
   "cell_type": "markdown",
   "metadata": {},
   "source": [
    "One solution to the naming conflict might be to stuff this extra information into its own namespace, as a sub-item of the original dictionary."
   ]
  },
  {
   "cell_type": "code",
   "execution_count": null,
   "metadata": {},
   "outputs": [],
   "source": [
    "keywords = ['ORIGIN', 'DATE', 'PROCVER', 'RA_OBJ', 'DEC_OBJ']\n",
    "primary_header = {}\n",
    "for card in header0.cards:\n",
    "    if card[0] in keywords:\n",
    "        primary_header[card[0]] = (card[1], card[2])\n",
    "ff.tree['primary_header'] = primary_header\n",
    "ff.tree"
   ]
  },
  {
   "cell_type": "markdown",
   "metadata": {},
   "source": [
    "## Example 6: Converting from FITS WCS keywords to a gwcs object\n",
    "This is a bit complicated, and not particularly advantageous for this example. \n",
    "\n",
    "The generalized world-coordinate system, [gwcs](https://gwcs.readthedocs.io) package is built to support complex mappings between detector coordinates and coordinates. In this case it's overkill. But it does illustrate saving a complex data object to an `asdf` file. The `gwcs` package extends asdf to specify the `wcs` object. In doing so, it makes extensive use of the transforms that are defined in the [asdf standard](https://asdf-standard.readthedocs.io/en/latest/). \n",
    "\n",
    "This example follows the instructions in the [gwcs documentation](https://gwcs.readthedocs.io/en/latest/#a-step-by-step-example-of-constructing-an-imaging-gwcs-object). There is no rotation in this example, so we can follow the [example](https://gwcs.readthedocs.io/en/latest/gwcs/wcstools.html) that makes use of convenience function `wcs_from_fiducial`.\n",
    "\n",
    "Down the road there should be some convenience methods for converting common FITS WCSs and dealing gracefully with the (unfortunately quite common) inconsistencies."
   ]
  },
  {
   "cell_type": "markdown",
   "metadata": {},
   "source": [
    "For convenience, let's use and astropy wcs object to grab the world-coordinate system information. This particular example reveals a problem that is quite common in FITS files: redundant and potentially inconsistent WCS information. In this case, the file is using both the PC matrix approach and the CD matrix approach. We'll take the PC matrix as \"truth\". "
   ]
  },
  {
   "cell_type": "code",
   "execution_count": null,
   "metadata": {},
   "outputs": [],
   "source": [
    "fitswcs = WCS(header1)\n",
    "print(fitswcs)"
   ]
  },
  {
   "cell_type": "markdown",
   "metadata": {},
   "source": [
    "Grab some values from the wcs for improved readability of cells further down"
   ]
  },
  {
   "cell_type": "code",
   "execution_count": null,
   "metadata": {},
   "outputs": [],
   "source": [
    "crval1, crval2 = fitswcs.wcs.crval\n",
    "cunit1, cunit2 = [u.Unit(cu) for cu in fitswcs.wcs.cunit]\n",
    "pcmatrix = fitswcs.wcs.pc\n",
    "cunit1, cunit2"
   ]
  },
  {
   "cell_type": "markdown",
   "metadata": {},
   "source": [
    "To create a WCS from a pointing on the sky, as a minimum pass a sky coordinate and a projection to the function."
   ]
  },
  {
   "cell_type": "code",
   "execution_count": null,
   "metadata": {},
   "outputs": [],
   "source": [
    "fiducial = coord.SkyCoord(crval1*cunit1, crval2*cunit2, frame='icrs')\n",
    "tan = models.Pix2Sky_TAN()"
   ]
  },
  {
   "cell_type": "markdown",
   "metadata": {},
   "source": [
    "Create a pipeline for the coordinate transformations. In this case apply a shift and then a rescaling. The function `wcs_from_fiducial` prepends these onto the sky projection."
   ]
  },
  {
   "cell_type": "code",
   "execution_count": null,
   "metadata": {},
   "outputs": [],
   "source": [
    "trans = models.Shift(-crval1) & models.Shift(-crval2) |\\\n",
    "        models.Scale(-pcmatrix[0, 0]) & models.Scale(pcmatrix[1, 1])"
   ]
  },
  {
   "cell_type": "code",
   "execution_count": null,
   "metadata": {},
   "outputs": [],
   "source": [
    "wcsobj = wcs_from_fiducial(fiducial, projection=tan, transform=trans)\n",
    "wcsobj"
   ]
  },
  {
   "cell_type": "markdown",
   "metadata": {},
   "source": [
    "Get rid of the now obsolete FITS WCS keywords from the ASDF header. It's blissfully short, and one could argue devoid of almost anything useful. "
   ]
  },
  {
   "cell_type": "code",
   "execution_count": null,
   "metadata": {},
   "outputs": [],
   "source": [
    "fits_wcs_keywords = [\n",
    "    'CRPIX1', 'CRVAL1', 'CTYPE1', 'CD1_1', 'CD2_1', 'CRPIX2', 'CRVAL2', \n",
    "    'CTYPE2', 'CD1_2', 'CD2_2', 'WCSAXES', 'PC1_1', 'PC2_2', 'CDELT1', \n",
    "    'CDELT2', 'CUNIT1', 'CUNIT2', 'LONPOLE', 'LATPOLE', 'RADESYS']\n",
    "[ff.tree.pop(old_kw, None) for old_kw in fits_wcs_keywords]"
   ]
  },
  {
   "cell_type": "markdown",
   "metadata": {},
   "source": [
    "Add the wcs object to the tree. The `gwcs` package takes care of the machinery for serializing this object to ASDF. "
   ]
  },
  {
   "cell_type": "code",
   "execution_count": null,
   "metadata": {},
   "outputs": [],
   "source": [
    "ff.tree['wcs'] = wcsobj"
   ]
  },
  {
   "cell_type": "code",
   "execution_count": null,
   "metadata": {},
   "outputs": [],
   "source": [
    "t = tree_to_table(ff.tree)\n",
    "t.show_in_notebook()"
   ]
  }
 ],
 "metadata": {
  "kernelspec": {
   "display_name": "Python 3 (ipykernel)",
   "language": "python",
   "name": "python3"
  },
  "language_info": {
   "codemirror_mode": {
    "name": "ipython",
    "version": 3
   },
   "file_extension": ".py",
   "mimetype": "text/x-python",
   "name": "python",
   "nbconvert_exporter": "python",
   "pygments_lexer": "ipython3",
   "version": "3.11.6"
  }
 },
 "nbformat": 4,
 "nbformat_minor": 4
}
