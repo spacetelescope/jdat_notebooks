{
 "cells": [
  {
   "cell_type": "code",
   "execution_count": null,
   "id": "f87d3909",
   "metadata": {},
   "outputs": [],
   "source": [
    "import stpsf\n",
    "import matplotlib.pylab as plt\n",
    "import poppy\n",
    "import numpy as np\n",
    "from astropy.io import fits\n",
    "from astropy.visualization.mpl_normalize import ImageNormalize\n",
    "from astropy.visualization import LogStretch\n",
    "import os\n",
    "from astropy.modeling import models, fitting\n",
    "import astropy\n",
    "import datetime\n",
    "import photutils\n",
    "from astropy.nddata import Cutout2D\n",
    "from astropy.visualization import simple_norm"
   ]
  },
  {
   "cell_type": "markdown",
   "id": "fb82143d",
   "metadata": {},
   "source": [
    "# JWST Using Wavefronts Measured On Orbit\n",
    "### STPSF, formerly knows as WebbPSF, includes code for using the results of in-flight wavefront sensing measurements, by retrieving Optical Path Difference (OPD) \n",
    "\n",
    "https://stpsf.readthedocs.io/en/latest/jwst_measured_opds.html\n",
    "\n",
    "## Index\n",
    "* [Finding the measured wavefront near a given date](#opd)\n",
    "* [Delta wfe Around Time](#delta)\n",
    "* [Trending Wavefront Changes over Time](#trending)\n",
    "* [Wavefront time series and histogram plots](#time)\n",
    "* [Load a Single OPD](#single)\n",
    "* [JWST PSF Subtraction Using in-flight Simulations](#psfsub)\n",
    "* [PSF properties and differences ](#psfdiff)\n",
    "* [Improved IFU Sims](#ifu)\n",
    "\n",
    "\n",
    "For other STPSF examples:\n",
    "https://stpsf.readthedocs.io/en/latest/more_examples.html"
   ]
  },
  {
   "cell_type": "markdown",
   "id": "b10f0e4a",
   "metadata": {},
   "source": [
    "<a id='opd'></a>\n",
    "### Finding the measured wavefront near a given date"
   ]
  },
  {
   "cell_type": "code",
   "execution_count": null,
   "id": "e7e96b38-93e0-4753-968b-ae21e921be05",
   "metadata": {},
   "outputs": [],
   "source": [
    "nrc = stpsf.NIRCam()\n",
    "nrc.filter ='F200W'\n",
    "\n",
    "nrc.detector = 'NRCB2'\n",
    "nrc.detector_position = (1024, 1024)"
   ]
  },
  {
   "cell_type": "markdown",
   "id": "df022d55-73c0-4e78-9f27-cb52d3e4ed60",
   "metadata": {},
   "source": [
    "The interpixel capacitance effect is now included for oversampled outputs as well as for the detector-sampled outputs (in the geometric distortion extension). Remember that, in general, the last (“DET_DIST”) FITS extension of the output PSF FITS file are the output data product that most represents the PSF as actually observed on a detector.\n",
    "In any case, there are way to disable any detector effects or to adjust the empirical approximation of charge difussion. For example:\n",
    "`nrc.options['charge_diffusion_sigma'] = 0`\n",
    "\n",
    "`nrc.options['add_ipc'] = False`"
   ]
  },
  {
   "cell_type": "code",
   "execution_count": null,
   "id": "1873f2d3",
   "metadata": {},
   "outputs": [],
   "source": [
    "nrc.load_wss_opd_by_date('2022-07-01T00:00:00', plot=True, output_path=output_path)\n",
    "# choice : string . Default 'closest'\n",
    "# Method to choose which OPD file to use, e.g. 'before', 'after'"
   ]
  },
  {
   "cell_type": "markdown",
   "id": "cfac101d",
   "metadata": {},
   "source": [
    "- Upper Left: This is the measured OPD as sensed in NIRCam at “field point 1” which is in the upper left corner of NRCA3, relatively close to the center of the NIRCam module. This observatory total OPD measurement includes both the telescope and NIRCam contributions to the WFE.\n",
    "\n",
    "- Upper Middle: This is the wavefront map for the NIRCam portion of the WFE at that field point. This is known from ground calibration test data, not measured in flight.\n",
    "\n",
    "- Upper Right: That NIRCam WFE contribution is subtracted from the total observatory WFE to yield this estimate of the OTE-only portion of the WFE.\n",
    "\n",
    "- Lower Left and Middle: These are models for the field dependence of the OTE OPD between the sensing field point in NRCA3 and the requested field ooint, in this case in NRCB2. This field dependence arises mostly from the figure of the tertiary mirror. These are used to transform the estimated OTE OPD from one field position to another.\n",
    "\n",
    "- Lower Right: This is the resulting estimate for the OTE OPD at the requested field point, in this case in NRCB2."
   ]
  },
  {
   "cell_type": "code",
   "execution_count": null,
   "id": "6dabd940",
   "metadata": {},
   "outputs": [],
   "source": [
    "# What's inside an OPD?\n",
    "opd_fn = 'R2022070403-NRCA3_FP1-0.fits'\n",
    "opd = fits.open(os.path.join(output_path, opd_fn))\n",
    "\n",
    "opd.info()\n",
    "\n",
    "norm = ImageNormalize(stretch=LogStretch(), vmin=1e-10, vmax=1e-6)\n",
    "plt.figure(figsize=[10, 18])\n",
    "for i in range(1, len(opd)):\n",
    "    plt.subplot(5, 3, i)\n",
    "    if i == 2:\n",
    "        plt.imshow(opd[i].data, norm=norm, origin='lower')\n",
    "    else:\n",
    "        plt.imshow(opd[i].data, origin='lower')"
   ]
  },
  {
   "cell_type": "markdown",
   "id": "bdb160f4",
   "metadata": {},
   "source": [
    "## OPD File description\n",
    "\n",
    "- RESULT_PHASE Image Extension. \n",
    "The FITS file contains a ‘RESULT’ image extension, which is the average of the optical path difference results from all images analyzed together in the phase retrieval \n",
    "\n",
    "- RESULT_PSF Image Extension \n",
    "The FITS file contains a ‘RESULT_PSF’ image extension, which is the PSF computed from the resultant phase by the WAS \n",
    "\n",
    "- EXPECTED Image Extension\n",
    "The FITS file contains an ‘EXPECTED’ image extension, which is the expected optical path difference if the WAS-recommended correction is applied \n",
    "\n",
    "- PUPIL_MASK Image Extension \n",
    "The FITS file contains a ‘PUPIL_MASK’ image extension, which is the pupil mask used to compute the PSF from the resultant phase \n",
    "\n",
    "\n",
    "### The FITS file contains five image extensions for each analyzed input image. In the case of the sensing program, there are 2 images +/-8WL\n",
    "\n",
    "\n",
    "- RAW_PSF Image Extensions \n",
    "For each input image, the Raw PSF extension will contain the raw extracted subimage taken from the calibrated science data \n",
    "\n",
    "- CALC_PSF Image Extensions \n",
    "For each input image, the Calculated PSF extension will contain an image which represents the estimated PSF as calculated by the phase retrieval process \n",
    "\n",
    "- CALC_AMP Image Extension \n",
    "For each input image, the Calculated Amplitude extension will contain an image which represents the estimated pupil amplitude as calculated by the phase retrieval process \n",
    "\n",
    "- HO_PHASE Image Extension \n",
    "For each input image, the High-Order Phase extension will contain an image which represents the retrieved phase information minus the Low-Order (controllable) phase as calculated by the phase retrieval process. \n",
    "\n",
    "- LO_PHASE Image Extension \n",
    "For each input image, the Low-Order Phase extension will contain an image which represents the retrieved controllable phase information as calculated by the phase retrieval process \n",
    "\n"
   ]
  },
  {
   "cell_type": "code",
   "execution_count": null,
   "id": "b3276a76",
   "metadata": {},
   "outputs": [],
   "source": [
    "# Let's simulate Webb's PSF from the OPD above\n",
    "# The PSF below is calculated using the actual \n",
    "# as-measured-at-L2 state of the telescope WFE near \n",
    "# the requested date, in this case 2022 July 1.\n",
    "psf = nrc.calc_psf(fov_pixels=101)"
   ]
  },
  {
   "cell_type": "code",
   "execution_count": null,
   "id": "6b0b12e3",
   "metadata": {},
   "outputs": [],
   "source": [
    "plt.figure(figsize=(16, 9))\n",
    "stpsf.display_psf(psf, ext=1)"
   ]
  },
  {
   "cell_type": "markdown",
   "id": "b673174e-3272-4700-8c3f-589013f1dbf5",
   "metadata": {},
   "source": [
    "<a id='delta'></a>\n",
    "# Delta wfe Around Time of Observation"
   ]
  },
  {
   "cell_type": "code",
   "execution_count": null,
   "id": "6b7a8510-61cf-465b-b978-59a79ec0b55e",
   "metadata": {},
   "outputs": [],
   "source": [
    "stpsf.trending.delta_wfe_around_time('2024-05-11 01:50:25.231')"
   ]
  },
  {
   "cell_type": "markdown",
   "id": "582c8bd6-2bd0-4ca7-8bb7-a57bb9e303dd",
   "metadata": {},
   "source": [
    "# Let's setup a PSF simulation by using a particular observation"
   ]
  },
  {
   "cell_type": "code",
   "execution_count": null,
   "id": "d92a5f25-5cf4-482a-be60-ed744653590f",
   "metadata": {},
   "outputs": [],
   "source": [
    "def mast_retrieve_files(filename, output_path=None, verbose=False, redownload=False, token=None):\n",
    "    \"\"\"Download files from MAST.\n",
    "    If file is already present locally, the download is skipped and the cached file is used.\n",
    "    \"\"\"\n",
    "    import os\n",
    "    from requests.exceptions import HTTPError\n",
    "    from astroquery.mast import Mast\n",
    "    if token:\n",
    "        Mast.login(token=token)\n",
    "\n",
    "    if output_path is None:\n",
    "        output_path = '.'\n",
    "    else:\n",
    "        output_path = output_path\n",
    "\n",
    "    output_filename = os.path.join(output_path, filename)\n",
    "\n",
    "    if not os.path.exists(output_path):\n",
    "        os.mkdir(output_path)\n",
    "\n",
    "    if os.path.exists(output_filename) and not redownload:\n",
    "        if verbose:\n",
    "            print(f\"Found file previously downloaded: {filename}\")\n",
    "        return output_filename\n",
    "\n",
    "    data_uri = f'mast:JWST/product/{filename}'\n",
    "\n",
    "    # Download the file\n",
    "    url_path = Mast._portal_api_connection.MAST_DOWNLOAD_URL\n",
    "    try:\n",
    "        Mast._download_file(url_path + \"?uri=\" + data_uri, output_filename)\n",
    "    except HTTPError as err:\n",
    "        print(err)\n",
    "    return output_filename"
   ]
  },
  {
   "cell_type": "code",
   "execution_count": null,
   "id": "b6273b91-2d62-4927-b183-7c03a8f9c792",
   "metadata": {},
   "outputs": [],
   "source": [
    "file = 'jw04500-o056_t012_nircam_f212n-wlm8-nrca3_wfscmb-04.fits'\n",
    "mast_retrieve_files(file)"
   ]
  },
  {
   "cell_type": "code",
   "execution_count": null,
   "id": "c7cef456-43ad-435b-9ccc-c702e5b02d9f",
   "metadata": {},
   "outputs": [],
   "source": [
    "inst = stpsf.setup_sim_to_match_file(file)\n",
    "position = (512, 1024) # source position\n",
    "size_pixels = 128 # size in pixels\n",
    "inst.detector_position = position\n",
    "\n",
    "single_stpsf_nrc = inst.calc_psf(fov_pixels=size_pixels, display=True)"
   ]
  },
  {
   "cell_type": "markdown",
   "id": "b423a953",
   "metadata": {},
   "source": [
    "<a id='trending'></a>\n",
    "### Trending Wavefront Changes over Time\n"
   ]
  },
  {
   "cell_type": "code",
   "execution_count": null,
   "id": "0cda63b3",
   "metadata": {},
   "outputs": [],
   "source": [
    "trend_table = stpsf.trending.monthly_trending_plot(2024, 6, verbose=False)"
   ]
  },
  {
   "cell_type": "code",
   "execution_count": null,
   "id": "81919cd8",
   "metadata": {},
   "outputs": [],
   "source": [
    "trend_table"
   ]
  },
  {
   "cell_type": "markdown",
   "id": "2596e53e",
   "metadata": {},
   "source": [
    "<a id='time'></a>\n",
    "### Wavefront time series and histogram plots\n"
   ]
  },
  {
   "cell_type": "markdown",
   "id": "0593bb05-9325-419b-8fc2-8040f96862d3",
   "metadata": {},
   "source": [
    "## We can retrieve a table of all available OPDs and plot the measurements over time:"
   ]
  },
  {
   "cell_type": "code",
   "execution_count": null,
   "id": "3e0b63b7-7cbc-46c1-98f0-5d56916cb923",
   "metadata": {},
   "outputs": [],
   "source": [
    "opdtable = stpsf.mast_wss.retrieve_mast_opd_table()\n",
    "\n",
    "opdtable = stpsf.mast_wss.deduplicate_opd_table(opdtable)"
   ]
  },
  {
   "cell_type": "code",
   "execution_count": null,
   "id": "683b3a8e-6aa8-471b-82aa-7d8073955fae",
   "metadata": {},
   "outputs": [],
   "source": [
    "opdtable"
   ]
  },
  {
   "cell_type": "code",
   "execution_count": null,
   "id": "7865507c-bfb1-4bb3-9a4d-12fe14a2beff",
   "metadata": {},
   "outputs": [],
   "source": [
    "stpsf.mast_wss.download_all_opds(opdtable)"
   ]
  },
  {
   "cell_type": "markdown",
   "id": "1b381773-4194-4665-b924-9df09b5a4c4e",
   "metadata": {},
   "source": [
    "### You can download all the OPDs from the opdtable object. Note that some functions need to have all the OPDs available. \n",
    "`stpsf.mast_wss.download_all_opds(opdtable)`"
   ]
  },
  {
   "cell_type": "code",
   "execution_count": null,
   "id": "ce0b3026",
   "metadata": {},
   "outputs": [],
   "source": [
    "stpsf.trending.wavefront_time_series_plot(opdtable)"
   ]
  },
  {
   "cell_type": "markdown",
   "id": "12837186-b5cb-4048-ae12-5594dfd7398e",
   "metadata": {},
   "source": [
    "##  Select a time range, depending on your observations\n"
   ]
  },
  {
   "cell_type": "code",
   "execution_count": null,
   "id": "d1108f4a",
   "metadata": {},
   "outputs": [],
   "source": [
    "start_date = datetime.datetime.fromisoformat('2022-11-22')\n",
    "end_date = datetime.datetime.fromisoformat('2022-12-01')\n",
    "stpsf.trending.wavefront_time_series_plot(opdtable, start_date=start_date,\n",
    "                                          end_date=end_date, ymax=85, ymin=60,\n",
    "                                          label_visits=True, label_events=True)"
   ]
  },
  {
   "cell_type": "code",
   "execution_count": null,
   "id": "b800855b",
   "metadata": {},
   "outputs": [],
   "source": [
    "# We can also plot all measured wavefront drifts over specified time periods\n",
    "start_time = astropy.time.Time('2024-01-01T00:00:00')\n",
    "end_time = astropy.time.Time.now()\n",
    "\n",
    "stpsf.trending.wavefront_drift_plots(opdtable, start_time=start_time, end_time=end_time, n_per_row=10)"
   ]
  },
  {
   "cell_type": "code",
   "execution_count": null,
   "id": "5c5835c2",
   "metadata": {},
   "outputs": [],
   "source": [
    "# We can plot histograms of wavefront error levels over time\n",
    "stpsf.trending.wfe_histogram_plot(opdtable, thresh=70, ote_only=True)"
   ]
  },
  {
   "cell_type": "code",
   "execution_count": null,
   "id": "1770f0a5",
   "metadata": {},
   "outputs": [],
   "source": [
    "# Or select a particular time period\n",
    "start_date = astropy.time.Time('2024-04-01')\n",
    "end_date = astropy.time.Time.now()\n",
    "stpsf.trending.wfe_histogram_plot(opdtable, start_date=start_date, thresh=70, ote_only=True)"
   ]
  },
  {
   "cell_type": "markdown",
   "id": "9fbdf9ec",
   "metadata": {},
   "source": [
    "<a id='single'></a>\n",
    "### Load a Single OPD\n",
    "Inspect the OPD table above for an OPD around your observation"
   ]
  },
  {
   "cell_type": "code",
   "execution_count": null,
   "id": "e9bfa9fc",
   "metadata": {},
   "outputs": [],
   "source": [
    "\n",
    "nrc = stpsf.NIRCam()\n",
    "nrc.filter = 'F212N'\n",
    "opd_fn = 'R2022120204-NRCA3_FP1-1.fits'\n",
    "nrc.load_wss_opd(opd_fn, output_path=output_path)\n",
    "fov_pixels = 511\n",
    "psf = nrc.calc_psf(oversample=4, fov_pixels=fov_pixels)"
   ]
  },
  {
   "cell_type": "code",
   "execution_count": null,
   "id": "c636b05c",
   "metadata": {},
   "outputs": [],
   "source": [
    "psf.info()"
   ]
  },
  {
   "cell_type": "code",
   "execution_count": null,
   "id": "c7b97bd4",
   "metadata": {},
   "outputs": [],
   "source": [
    "# display the PSF and plot the encircled energy\n",
    "plt.figure(figsize=(12, 6))\n",
    "plt.subplot(1, 2, 1)\n",
    "stpsf.display_psf(psf, colorbar_orientation='horizontal')\n",
    "axis2 = plt.subplot(1, 2, 2)\n",
    "stpsf.display_ee(psf, ext=1, ax=axis2)"
   ]
  },
  {
   "cell_type": "markdown",
   "id": "1e65e60a-8471-4064-a43e-e6475f939770",
   "metadata": {},
   "source": [
    "<a id='psfsub'></a>\n",
    "# JWST PSF Subtraction Using in-flight Simulations\n",
    "\n",
    "https://stpsf.readthedocs.io/en/latest/jwst_psf_subtraction.html\n",
    "\n"
   ]
  },
  {
   "cell_type": "code",
   "execution_count": null,
   "id": "62ea3067-efec-4333-9153-7a949fbdaebf",
   "metadata": {},
   "outputs": [],
   "source": [
    "file = 'jw02725-o484_t097_nircam_clear-f356w-nrcalong_wfscmb-04.fits'\n",
    "mast_retrieve_files(file)"
   ]
  },
  {
   "cell_type": "code",
   "execution_count": null,
   "id": "bcb39614-a364-45a9-8a26-7d1deb2db0bf",
   "metadata": {},
   "outputs": [],
   "source": [
    "# Open and inspect observation\n",
    "from astropy.io import fits\n",
    "from photutils.background import Background2D, MedianBackground\n",
    "from astropy.stats import SigmaClip\n",
    "from photutils.detection import IRAFStarFinder\n",
    "\n",
    "psf = fits.open(file)\n",
    "data = psf['SCI'].data\n",
    "mask = (psf['DQ'].data % 2).astype('bool')\n",
    "sigma_clip = SigmaClip(sigma=3.0)\n",
    "bkg_estimator = MedianBackground()\n",
    "# norm = simple_norm(data1, 'log',min_cut = min_cut, max_cut = max_cut)\n",
    "bkg = Background2D(data, (50, 50), filter_size=(3, 3),\n",
    "                   sigma_clip=sigma_clip, bkg_estimator=bkg_estimator, mask=mask)"
   ]
  },
  {
   "cell_type": "code",
   "execution_count": null,
   "id": "6895ca22-178f-487e-9ac8-cb9ac09c5312",
   "metadata": {},
   "outputs": [],
   "source": [
    "plt.figure(figsize=(6, 6))\n",
    "norm = simple_norm(data - bkg.background, 'asinh', min_percent=20, max_percent=98.99)\n",
    "plt.imshow(data - bkg.background, norm=norm, origin='lower', cmap='viridis')"
   ]
  },
  {
   "cell_type": "markdown",
   "id": "0701c54b-607e-49d1-b278-c08b504741c1",
   "metadata": {},
   "source": [
    "## Extract a subarray around a particular source of interest, and measure source location"
   ]
  },
  {
   "cell_type": "code",
   "execution_count": null,
   "id": "a40745a6-55eb-4cfd-b5d7-f0e072b6f520",
   "metadata": {},
   "outputs": [],
   "source": [
    "position = (550, 1950) # approximate location. This will be improved below.\n",
    "size_pixels = 200"
   ]
  },
  {
   "cell_type": "code",
   "execution_count": null,
   "id": "12b78fc6-c5bd-4bcb-bf26-e4f420c60bbb",
   "metadata": {},
   "outputs": [],
   "source": [
    "data_source = Cutout2D(data - bkg.background, position, size_pixels).data\n",
    "plt.figure(figsize=(6, 6))\n",
    "norm = simple_norm(data_source, 'asinh', min_percent=20, max_percent=99.6)\n",
    "plt.imshow(data_source, norm=norm, origin='lower', cmap='viridis')\n",
    "plt.title(\"Cutout around a galaxy merger and a star\")"
   ]
  },
  {
   "cell_type": "markdown",
   "id": "70385f94-3537-459a-940f-1abb3c351bec",
   "metadata": {},
   "source": [
    "### Let's find the source"
   ]
  },
  {
   "cell_type": "code",
   "execution_count": null,
   "id": "e3f1a2a5-07ff-485c-84dc-b0292384b301",
   "metadata": {},
   "outputs": [],
   "source": [
    "starfind = IRAFStarFinder(fwhm=3.0, threshold=100. * bkg.background_median)\n",
    "sources = starfind(data_source)\n",
    "plt.figure(figsize=(6, 6))\n",
    "plt.imshow(data_source, norm=norm , origin='lower', cmap='viridis')\n",
    "plt.title(\"Cutout around a galaxy merger and a star\")\n",
    "plt.scatter(sources['xcentroid'], sources['ycentroid'], color='red', marker='x')"
   ]
  },
  {
   "cell_type": "code",
   "execution_count": null,
   "id": "b75e028e-a523-4f09-9006-15ccef447ae2",
   "metadata": {},
   "outputs": [],
   "source": [
    "# Let's re-center the image \n",
    "positions_original = Cutout2D(data - bkg.background, position, size_pixels).to_original_position((sources['xcentroid'], sources['ycentroid']))\n",
    "position = (positions_original[0].value[0], positions_original[1].value[0])\n",
    "size = 200\n",
    "data_source = Cutout2D(data - bkg.background, position, size_pixels).data\n",
    "\n",
    "plt.figure(figsize=(6, 6))\n",
    "norm = simple_norm(data_source, 'asinh', min_percent=20, max_percent=99.6)\n",
    "plt.imshow(data_source, norm=norm, origin='lower', cmap='viridis')\n",
    "plt.title(\"Cutout centered on the star\")\n",
    "print(position)"
   ]
  },
  {
   "cell_type": "markdown",
   "id": "0ba1b5b8-7d1b-40ad-9e10-1d284245f20d",
   "metadata": {},
   "source": [
    "### Let's use our previous function to setup our simulation"
   ]
  },
  {
   "cell_type": "code",
   "execution_count": null,
   "id": "6d18dd71-aae6-4568-a0f0-56ccebbde2e8",
   "metadata": {},
   "outputs": [],
   "source": [
    "inst = stpsf.setup_sim_to_match_file(file)\n",
    "inst.detector_position = position\n",
    "\n",
    "single_stpsf_nrc = inst.calc_psf(fov_pixels=size_pixels)"
   ]
  },
  {
   "cell_type": "code",
   "execution_count": null,
   "id": "c060e6ef-ac52-474a-a525-d82e176052fa",
   "metadata": {},
   "outputs": [],
   "source": [
    "single_stpsf_nrc[3].header"
   ]
  },
  {
   "cell_type": "markdown",
   "id": "37f0acfe-b788-4d47-b8d2-31b63c135bbf",
   "metadata": {},
   "source": [
    "### We use photutils to create our model PSF\n",
    "#### We’ll use photutils to fit and subtract the PSF from the data. First, we take the output simulated PSF and convert it into a photutils fittable model:"
   ]
  },
  {
   "cell_type": "code",
   "execution_count": null,
   "id": "7956047c-3bf6-4267-b85a-7e63456eea69",
   "metadata": {},
   "outputs": [],
   "source": [
    "stpsf_model = photutils.psf.FittableImageModel(single_stpsf_nrc['DET_DIST'].data, normalize=True, oversampling=1)"
   ]
  },
  {
   "cell_type": "code",
   "execution_count": null,
   "id": "baf9ded6-0a9d-4359-93e4-febc0b581c5f",
   "metadata": {},
   "outputs": [],
   "source": [
    "\n",
    "from photutils.psf import PSFPhotometry\n",
    "fit_shape = (5, 5)\n",
    "psfphot = PSFPhotometry(stpsf_model, fit_shape,\n",
    "                        finder=starfind, aperture_radius=4)\n",
    "\n",
    "# fit model PSF to background subtracted data\n",
    "phot = psfphot(data_source)"
   ]
  },
  {
   "cell_type": "markdown",
   "id": "a3753d6c-378d-4a63-b1b5-4f0ffa3e1001",
   "metadata": {},
   "source": [
    "#### We check the location of the source to be subtracted "
   ]
  },
  {
   "cell_type": "code",
   "execution_count": null,
   "id": "cbbf9523-8c3e-456e-9f7c-b4ea84c5443b",
   "metadata": {},
   "outputs": [],
   "source": [
    "print(phot) # single source"
   ]
  },
  {
   "cell_type": "markdown",
   "id": "3995c61e-7fe1-4b9d-ad0b-612362901ced",
   "metadata": {},
   "source": [
    "#### After a successful PSF fit then we can create a residual image and display the results\n",
    "\n"
   ]
  },
  {
   "cell_type": "code",
   "execution_count": null,
   "id": "524191ba-8dc9-47ea-8bc9-fef7b619288d",
   "metadata": {},
   "outputs": [],
   "source": [
    "residual = psfphot.make_residual_image(data_source, (size_pixels, size_pixels))\n"
   ]
  },
  {
   "cell_type": "code",
   "execution_count": null,
   "id": "b8982c19-d9b1-4525-8f3d-e65d3415a5f8",
   "metadata": {},
   "outputs": [],
   "source": [
    "plt.figure(figsize=(14, 16))\n",
    "\n",
    "plt.subplot(1, 2, 1)\n",
    "plt.imshow(data_source, norm=norm , origin='lower', cmap='viridis')\n",
    "plt.title('Original - zoom')\n",
    "\n",
    "plt.subplot(1, 2, 2)\n",
    "plt.imshow(residual, norm=norm , origin='lower', cmap='viridis')\n",
    "plt.title('Clean - PSFPhotometry zoom')"
   ]
  },
  {
   "cell_type": "markdown",
   "id": "be28b377",
   "metadata": {},
   "source": [
    "<a id='psfdiff'></a>\n",
    "### PSF properties and differences \n"
   ]
  },
  {
   "cell_type": "code",
   "execution_count": null,
   "id": "27c68309",
   "metadata": {},
   "outputs": [],
   "source": [
    "pixelscale = nrc.pixelscale \n",
    "ee_pixel_radius = 2.5\n",
    "ee_arcsec_radius = ee_pixel_radius * pixelscale\n",
    "ee_psf = poppy.measure_ee(single_stpsf_nrc, ext=3, normalize='total')\n",
    "ee_val = ee_psf(ee_arcsec_radius)\n",
    "print(\"ee ({}px, {:.3f}arsec)  = {:.4f}\".format(ee_pixel_radius, ee_arcsec_radius, ee_val.item(0)))"
   ]
  },
  {
   "cell_type": "code",
   "execution_count": null,
   "id": "cd99d934",
   "metadata": {},
   "outputs": [],
   "source": [
    "def measure_fwhm(array):\n",
    "    \"\"\"Fit a Gaussian2D model to a PSF and return the fitted PSF\n",
    "    the FWHM is x and y can be found with fitted_psf.x_fwhm, fitted_psf.y_fwhm\n",
    "\n",
    "    Parameters\n",
    "    ----------\n",
    "    array : numpy.ndarray\n",
    "        Array containing PSF\n",
    "\n",
    "    Returns\n",
    "    -------\n",
    "    x_fwhm : float\n",
    "        FWHM in x direction in units of pixels\n",
    "\n",
    "    y_fwhm : float\n",
    "        FWHM in y direction in units of pixels\n",
    "        \n",
    "    x_mean : float\n",
    "        x centroid position in units of pixels\n",
    "    \n",
    "    y_mean : float\n",
    "        y centroid position in units of pixels\n",
    "    \n",
    "    \"\"\"\n",
    "    yp, xp = array.shape\n",
    "    y, x = np.mgrid[:yp, :xp]\n",
    "    p_init = models.Gaussian2D(amplitude=array.max(), x_mean=xp * 0.5, y_mean=yp * 0.5)\n",
    "    fit_p = fitting.LevMarLSQFitter()\n",
    "    fitted_psf = fit_p(p_init, x, y, array)\n",
    "    return fitted_psf"
   ]
  },
  {
   "cell_type": "code",
   "execution_count": null,
   "id": "229a6384",
   "metadata": {},
   "outputs": [],
   "source": [
    "fitted_psf = measure_fwhm(single_stpsf_nrc[\"DET_SAMP\"].data)\n",
    "print(\"FWHM X-direction: {:.3f}, FWHM y-direction: {:.2f}\".format(fitted_psf.x_fwhm, fitted_psf.y_fwhm))"
   ]
  },
  {
   "cell_type": "code",
   "execution_count": null,
   "id": "f7736af3",
   "metadata": {},
   "outputs": [],
   "source": [
    "# Note that the OPD is loaded in STPSF instrument object\n",
    "# norm = ImageNormalize(stretch=LinearStretch(), vmin = 1e-9 , vmax = 1e-7)\n",
    "plt.figure(figsize=[10, 10])\n",
    "plt.imshow(nrc.pupilopd[0].data, origin='lower')"
   ]
  },
  {
   "cell_type": "code",
   "execution_count": null,
   "id": "83330fc5",
   "metadata": {},
   "outputs": [],
   "source": [
    "# check OPD header information\n",
    "nrc.pupilopd[0].header"
   ]
  },
  {
   "cell_type": "code",
   "execution_count": null,
   "id": "258d9518",
   "metadata": {},
   "outputs": [],
   "source": [
    "# Let's calculate the difference between two different times\n",
    "# We can use the same instrument setup from before\n",
    "opd_fn = 'R2022120404-NRCA3_FP1-1.fits'\n",
    "inst.load_wss_opd(opd_fn)\n",
    "psf2 = inst.calc_psf(fov_pixels=size_pixels)"
   ]
  },
  {
   "cell_type": "code",
   "execution_count": null,
   "id": "3436686e",
   "metadata": {},
   "outputs": [],
   "source": [
    "pixelscale = nrc.pixelscale\n",
    "ee_pixel_radius = 2.5\n",
    "ee_arcsec_radius = ee_pixel_radius * pixelscale\n",
    "ee_psf = poppy.measure_ee(psf2, ext=1, normalize='total')\n",
    "ee_val = ee_psf(ee_arcsec_radius)\n",
    "print(\"ee ({}px, {:.3f}arsec)  = {:.4f}\".format(ee_pixel_radius, ee_arcsec_radius, ee_val.item(0)))"
   ]
  },
  {
   "cell_type": "code",
   "execution_count": null,
   "id": "0ed5dfe5",
   "metadata": {},
   "outputs": [],
   "source": [
    "stpsf.display_psf_difference(single_stpsf_nrc, psf2, imagecrop=2, title='Difference between two OPDs', cmap='gist_heat')"
   ]
  },
  {
   "cell_type": "code",
   "execution_count": null,
   "id": "c7a82342",
   "metadata": {},
   "outputs": [],
   "source": [
    "def miri_psfs_for_ee():\n",
    "    miri = stpsf.MIRI()\n",
    "\n",
    "    # opd_fn = 'R2022120404-NRCA3_FP1-1.fits'\n",
    "    # miri.load_wss_opd(opd_fn, output_path = output_path)\n",
    "    miri.load_wss_opd_by_date('2022-07-12T00:00:00', plot=True, output_path=output_path)\n",
    "\n",
    "    for wave in [5.0, 7.5, 10, 14]:\n",
    "        fov = 18\n",
    "\n",
    "        outname = \"PSF_MIRI_%.1fum_wfed.fits\" % (wave)\n",
    "        psf = miri.calc_psf(outname, monochromatic=wave * 1e-6,\n",
    "                            oversample=4, fov_arcsec=fov, display=True)\n",
    "    return psf\n",
    "\n",
    "def plot_ee_curves():\n",
    "    plt.clf()\n",
    "    for iw, wave in enumerate([5.0, 7.5, 10, 14]):\n",
    "\n",
    "        ees60 = []\n",
    "        ees51 = []\n",
    "        ax = plt.subplot(2, 2, iw+1)\n",
    "       \n",
    "        name = \"PSF_MIRI_%.1fum_wfed.fits\" % (wave)\n",
    "        stpsf.display_ee(name, ax=ax, mark_levels=False)\n",
    "\n",
    "        eefn = stpsf.measure_ee(name)\n",
    "        ees60.append(eefn(0.60))\n",
    "        ees51.append(eefn(0.51))\n",
    "\n",
    "        ax.text(1, 0.6, 'Mean EE inside 0.60\": %.3f' % np.asarray(ees60).mean())\n",
    "        ax.text(1, 0.5, 'Mean EE inside 0.51\": %.3f' % np.asarray(ees51).mean())\n",
    "\n",
    "        ax.set_title(\"Wavelength = %.1f $\\mu$m\" % wave)\n",
    "\n",
    "        ax.axvline(0.6, ls=\":\", color='k')\n",
    "        ax.axvline(0.51, ls=\":\", color='k')\n",
    "\n",
    "    plt.tight_layout()"
   ]
  },
  {
   "cell_type": "code",
   "execution_count": null,
   "id": "02e72894",
   "metadata": {},
   "outputs": [],
   "source": [
    "miri_psfs_for_ee()"
   ]
  },
  {
   "cell_type": "code",
   "execution_count": null,
   "id": "b6563313",
   "metadata": {},
   "outputs": [],
   "source": [
    "plot_ee_curves()"
   ]
  },
  {
   "cell_type": "code",
   "execution_count": null,
   "id": "2ec4c716",
   "metadata": {},
   "outputs": [],
   "source": [
    "nsp = stpsf.NIRSpec()\n",
    "# or you can specify a full path name.\n",
    "# please make an output PSF with its center\n",
    "# aligned to the center of a single pixel\n",
    "nsp.options['parity'] = 'odd'\n",
    "\n",
    "opd_fn = 'R2022120404-NRCA3_FP1-1.fits'\n",
    "nsp.load_wss_opd(opd_fn, output_path=output_path)\n",
    "    \n",
    "waves = np.linspace(0.8, 5, 50) * 1e-6 # iterate over wavelengths in meters\n",
    "\n",
    "for iw, wavelength in enumerate(waves):\n",
    "    psffile = 'psf_NIRSPec_mono_%.1fum_opd1.fits' % (wavelength * 1e6)\n",
    "    psf = nsp.calc_psf(fov_arcsec=3, oversample=4, \n",
    "                       monochromatic=wavelength, display=False,\n",
    "                       outfile=psffile)\n",
    "    ax = plt.subplot(8, 8, iw + 1)\n",
    "    stpsf.display_psf(psffile, ext='DET_SAMP', colorbar=False, imagecrop=8)\n",
    "    ax.set_title('')\n",
    "    ax.xaxis.set_visible(False)\n",
    "    ax.yaxis.set_visible(False)\n",
    "    ax.text(-3.5, 0, '{0:.1f}'.format(wavelength * 1e6))"
   ]
  },
  {
   "cell_type": "code",
   "execution_count": null,
   "id": "c3144d3f",
   "metadata": {},
   "outputs": [],
   "source": [
    "plt.figure(figsize=(8, 12))\n",
    "nsp.image_mask='MSA all open'\n",
    "nsp.display()\n",
    "msapsf = nsp.calc_psf(monochromatic=2e-6, oversample=8)\n",
    "stpsf.display_psf(msapsf, ext='DET_SAMP')"
   ]
  },
  {
   "cell_type": "code",
   "execution_count": null,
   "id": "a2ec62bd",
   "metadata": {},
   "outputs": [],
   "source": [
    "def miri_psfs_for_ee():\n",
    "    miri = stpsf.MIRI()\n",
    "\n",
    "    #opd_fn = 'R2022120404-NRCA3_FP1-1.fits'\n",
    "    #miri.load_wss_opd(opd_fn, output_path = output_path)\n",
    "    miri.load_wss_opd_by_date('2022-07-12T00:00:00', plot=True, output_path=output_path)\n",
    "\n",
    "    for wave in [5.0, 7.5, 10, 14]:\n",
    "        fov = 18\n",
    "\n",
    "        outname = \"PSF_MIRI_%.1fum_wfed.fits\" % (wave)\n",
    "        psf = miri.calc_psf(outname, monochromatic=wave*1e-6,\n",
    "                            oversample=4, fov_arcsec=fov, display=True)\n",
    "    return psf\n",
    "\n",
    "def plot_ee_curves():\n",
    "    plt.clf()\n",
    "    for iw, wave in enumerate([5.0, 7.5, 10, 14]):\n",
    "        ees60 = []\n",
    "        ees51 = []\n",
    "        ax = plt.subplot(2, 2, iw + 1)\n",
    "\n",
    "        name = \"PSF_MIRI_%.1fum_wfed.fits\" % (wave)\n",
    "        stpsf.display_ee(name, ax=ax, mark_levels=False)\n",
    "\n",
    "        eefn = stpsf.measure_ee(name)\n",
    "        ees60.append(eefn(0.60))\n",
    "        ees51.append(eefn(0.51))\n",
    "\n",
    "        ax.text(1, 0.6, 'Mean EE inside 0.60\": %.3f' % np.asarray(ees60).mean())\n",
    "        ax.text(1, 0.5, 'Mean EE inside 0.51\": %.3f' % np.asarray(ees51).mean())\n",
    "\n",
    "        ax.set_title(\"Wavelength = %.1f $\\mu$m\" % wave)\n",
    "\n",
    "        ax.axvline(0.6, ls=\":\", color='k')\n",
    "        ax.axvline(0.51, ls=\":\", color='k')\n",
    "\n",
    "    plt.tight_layout()"
   ]
  },
  {
   "cell_type": "code",
   "execution_count": null,
   "id": "89143529",
   "metadata": {},
   "outputs": [],
   "source": [
    "miri_psfs_for_ee()"
   ]
  },
  {
   "cell_type": "code",
   "execution_count": null,
   "id": "755b8ae2",
   "metadata": {},
   "outputs": [],
   "source": [
    "plot_ee_curves()"
   ]
  },
  {
   "cell_type": "markdown",
   "id": "3d605f2e-c310-4b26-b235-5113645dcb57",
   "metadata": {},
   "source": [
    "<a id='ifu'></a>\n",
    "# Improved IFU sims"
   ]
  },
  {
   "cell_type": "code",
   "execution_count": null,
   "id": "9205ad4a-daeb-45c8-b3fb-107965621ed0",
   "metadata": {},
   "outputs": [],
   "source": [
    "miri = stpsf.MIRI()\n",
    "miri.mode = 'IFU'\n",
    "miri.band= '2A'\n",
    "waves = miri.get_IFU_wavelengths()\n",
    "cube = miri.calc_datacube_fast(waves)"
   ]
  },
  {
   "cell_type": "code",
   "execution_count": null,
   "id": "2747b8bd-3dc1-4ff5-a213-f92e32d7320b",
   "metadata": {},
   "outputs": [],
   "source": [
    "cube.info()"
   ]
  },
  {
   "cell_type": "code",
   "execution_count": null,
   "id": "3933c4fc-b1f0-4373-b684-6f3d1aa970e4",
   "metadata": {},
   "outputs": [],
   "source": [
    "nrs = stpsf.NIRSpec()\n",
    "nrs.mode = 'IFU'\n",
    "nrs.disperser = 'PRISM'\n",
    "nrs.filter = 'CLEAR'\n",
    "waves = nrs.get_IFU_wavelengths()\n",
    "cube = nrs.calc_datacube_fast(waves)"
   ]
  },
  {
   "cell_type": "code",
   "execution_count": null,
   "id": "99535d64-01a7-4d8a-8788-42dd61023eb3",
   "metadata": {},
   "outputs": [],
   "source": [
    "cube.info()"
   ]
  }
 ],
 "metadata": {
  "kernelspec": {
   "display_name": "Python 3 (ipykernel)",
   "language": "python",
   "name": "python3"
  },
  "language_info": {
   "codemirror_mode": {
    "name": "ipython",
    "version": 3
   },
   "file_extension": ".py",
   "mimetype": "text/x-python",
   "name": "python",
   "nbconvert_exporter": "python",
   "pygments_lexer": "ipython3",
   "version": "3.11.5"
  }
 },
 "nbformat": 4,
 "nbformat_minor": 5
}
