{
 "cells": [
  {
   "cell_type": "markdown",
   "metadata": {},
   "source": [
    "# Specviz Simple Demo"
   ]
  },
  {
   "cell_type": "markdown",
   "metadata": {},
   "source": [
    "**Use case:** This notebook demonstrates how to inspect spectra in Specviz, export spectra from the GUI in the notebook, select regions in the GUI and in the notebook, and measure the redshift of a source in the GUI.<br>\n",
    "**Data:** NIRISS 1D spectra from the [NGDEEP survey](https://ui.adsabs.harvard.edu/abs/2023arXiv230205466B/abstract). The dataset is directly obtain from MAST after the default JWST pipeline processing.<br>\n",
    "**Tools:** specutils, jdaviz.<br>\n",
    "**Cross-intrument:** all instruments.<br>\n",
    "**Documentation:** This notebook is part of a STScI's larger [post-pipeline Data Analysis Tools Ecosystem](https://jwst-docs.stsci.edu/jwst-post-pipeline-data-analysis).<br>"
   ]
  },
  {
   "cell_type": "markdown",
   "metadata": {},
   "source": [
    "**Updated on**: 2023/10/11"
   ]
  },
  {
   "cell_type": "code",
   "execution_count": null,
   "metadata": {
    "scrolled": true
   },
   "outputs": [],
   "source": [
    "# To use 100% of the browser window\n",
    "from IPython.display import display, HTML\n",
    "display(HTML(\"<style>.container { width:100% !important; }</style>\"))"
   ]
  },
  {
   "cell_type": "markdown",
   "metadata": {},
   "source": [
    "Imports:\n",
    "- matplotlib for plotting data\n",
    "- astropy for handling of fits files, units, and tables\n",
    "- specutils for interactions with Specviz and region definition/extraction\n",
    "- jdaviz for the visualization tool Specviz"
   ]
  },
  {
   "cell_type": "code",
   "execution_count": null,
   "metadata": {
    "scrolled": true
   },
   "outputs": [],
   "source": [
    "# Plotting and tabling\n",
    "import matplotlib.pyplot as plt\n",
    "\n",
    "# Import astropy\n",
    "import astropy\n",
    "import astropy.units as u\n",
    "from astropy.io import fits\n",
    "from astropy.nddata import StdDevUncertainty\n",
    "from astropy.table import QTable\n",
    "\n",
    "# Import specutils\n",
    "import specutils\n",
    "from specutils import Spectrum1D, SpectralRegion\n",
    "from specutils.manipulation import extract_region\n",
    "\n",
    "# Import viztools\n",
    "import jdaviz\n",
    "from jdaviz import Specviz"
   ]
  },
  {
   "cell_type": "code",
   "execution_count": null,
   "metadata": {},
   "outputs": [],
   "source": [
    "# Customization of matplotlib style\n",
    "plt.rcParams[\"figure.figsize\"] = (10, 5)\n",
    "params = {'legend.fontsize': '18', 'axes.labelsize': '18',\n",
    "          'axes.titlesize': '18', 'xtick.labelsize': '18',\n",
    "          'ytick.labelsize': '18', 'lines.linewidth': 2,\n",
    "          'axes.linewidth': 2, 'animation.html': 'html5',\n",
    "          'figure.figsize': (8, 6)}\n",
    "plt.rcParams.update(params)\n",
    "plt.rcParams.update({'figure.max_open_warning': 0})"
   ]
  },
  {
   "cell_type": "markdown",
   "metadata": {},
   "source": [
    "Check versions"
   ]
  },
  {
   "cell_type": "code",
   "execution_count": null,
   "metadata": {
    "scrolled": true
   },
   "outputs": [],
   "source": [
    "print('astropy:', astropy.__version__)\n",
    "print('specutils:', specutils.__version__)\n",
    "print('jdaviz:', jdaviz.__version__)"
   ]
  },
  {
   "cell_type": "markdown",
   "metadata": {},
   "source": [
    "## 1. Load NIRISS pipeline output\n",
    "The JWST/NIRISS data are stored on box. We work with the x1d file which contains all extracted 1D spectra."
   ]
  },
  {
   "cell_type": "code",
   "execution_count": null,
   "metadata": {
    "scrolled": true
   },
   "outputs": [],
   "source": [
    "filelink = 'https://data.science.stsci.edu/redirect/JWST/jwst-data_analysis_tools/specviz_notebook_gui_interaction/jw02079004002_11101_00001_nis_x1d.fits'\n",
    "hdu = fits.open(filelink)\n",
    "\n",
    "hdu.info()"
   ]
  },
  {
   "cell_type": "markdown",
   "metadata": {},
   "source": [
    "## 2. Open Specviz and load the 1D spectra we are interested in"
   ]
  },
  {
   "cell_type": "code",
   "execution_count": null,
   "metadata": {},
   "outputs": [],
   "source": [
    "viz = Specviz()\n",
    "viz.show()"
   ]
  },
  {
   "cell_type": "markdown",
   "metadata": {},
   "source": [
    "The following cell opens one extension of the x1d file (75), creates a Spectrum1D object, and loads it into Specviz. A mask is set to only keep the part of the spectra with good sensitivity (1.34 to 1.66 micron) in the F150W filter."
   ]
  },
  {
   "cell_type": "code",
   "execution_count": null,
   "metadata": {
    "scrolled": true
   },
   "outputs": [],
   "source": [
    "for i in range(74, 75):\n",
    "    spec_load = hdu[i+1].data\n",
    "    wave = spec_load['WAVELENGTH']\n",
    "    flux = spec_load['FLUX']\n",
    "    error = spec_load['FLUX_ERROR']\n",
    "    # mask the parts where the sensitivity in the bandpass is poor\n",
    "    mask = ((wave > 1.34) & (wave < 1.66))\n",
    "    spec1d = Spectrum1D(spectral_axis=wave[mask]*u.um, \n",
    "                        flux=flux[mask]*u.Jy, \n",
    "                        uncertainty=StdDevUncertainty(error[mask]*u.Jy)) #\n",
    "    \n",
    "    viz.load_data(spec1d, \"NIRISS 1D {}\".format(str(i+1)))"
   ]
  },
  {
   "cell_type": "markdown",
   "metadata": {},
   "source": [
    "## 3. Select the emission lines using the GUI and in the notebook\n",
    "I select the region spanning the emission lines from roughly 1.58 to 1.63 microns.\n",
    "\n",
    "Instructions: https://jdaviz.readthedocs.io/en/latest/specviz/displaying.html#defining-spectral-regions"
   ]
  },
  {
   "cell_type": "markdown",
   "metadata": {},
   "source": [
    "### See what data is used in this specviz istance"
   ]
  },
  {
   "cell_type": "code",
   "execution_count": null,
   "metadata": {},
   "outputs": [],
   "source": [
    "dataout = viz.get_spectra(apply_slider_redshift=False)\n",
    "spec1d_line = dataout[\"NIRISS 1D 75\"]"
   ]
  },
  {
   "cell_type": "code",
   "execution_count": null,
   "metadata": {},
   "outputs": [],
   "source": [
    "print(spec1d_line)"
   ]
  },
  {
   "cell_type": "markdown",
   "metadata": {},
   "source": [
    "### See the subsets defined in the GUI\n",
    "I include a try-except in case the notebook is run without human interaction."
   ]
  },
  {
   "cell_type": "code",
   "execution_count": null,
   "metadata": {
    "scrolled": true
   },
   "outputs": [],
   "source": [
    "try:\n",
    "    region = viz.get_spectral_regions()\n",
    "    print(region['Subset 1'])\n",
    "except KeyError:\n",
    "    print(\"No region defined in the GUI\")"
   ]
  },
  {
   "cell_type": "markdown",
   "metadata": {},
   "source": [
    "### Select the same region programmatically\n",
    "I can define my own region (cont_region) between arbitrary bounds. I choose 1.598um and 1.621um. I can then extract the spectrum in that region."
   ]
  },
  {
   "cell_type": "code",
   "execution_count": null,
   "metadata": {
    "scrolled": true
   },
   "outputs": [],
   "source": [
    "cont_region = SpectralRegion(1.598*u.um, 1.621*u.um)\n",
    "spec1d_el_code = extract_region(spec1d_line, cont_region)\n",
    "print(spec1d_el_code)"
   ]
  },
  {
   "cell_type": "markdown",
   "metadata": {},
   "source": [
    "Or I can extract the spectrum in the region I defined in the GUI (region['Subset 1'])."
   ]
  },
  {
   "cell_type": "code",
   "execution_count": null,
   "metadata": {
    "scrolled": true
   },
   "outputs": [],
   "source": [
    "try:\n",
    "    spec1d_el_viz = extract_region(spec1d_line, region['Subset 1'])\n",
    "    print(spec1d_el_viz)\n",
    "except KeyError:\n",
    "    print(\"Region was not defined in the GUI\")\n",
    "    # Define spec1d_el_viz as spec1d_el_code\n",
    "    spec1d_el_viz = spec1d_el_code"
   ]
  },
  {
   "cell_type": "markdown",
   "metadata": {},
   "source": [
    "### Plot the spectrum and the subset with matplotlib"
   ]
  },
  {
   "cell_type": "code",
   "execution_count": null,
   "metadata": {},
   "outputs": [],
   "source": [
    "plt.plot(spec1d_line.spectral_axis, spec1d_line.flux, label='data')\n",
    "plt.plot(spec1d_el_viz.spectral_axis, spec1d_el_viz.flux, label='subset defined in tool')\n",
    "plt.plot(spec1d_el_code.spectral_axis, spec1d_el_code.flux, label='subset defined in code')\n",
    "plt.legend()\n",
    "plt.xlabel(\"wavelength ({:latex})\".format(spec1d_line.spectral_axis.unit))\n",
    "plt.ylabel(\"flux ({:latex})\".format(spec1d_line.flux.unit))\n",
    "plt.title(\"NIRISS ID 75\")\n",
    "plt.show()"
   ]
  },
  {
   "cell_type": "markdown",
   "metadata": {},
   "source": [
    "## 4. Use the redshift slider in Specviz to find the redshift"
   ]
  },
  {
   "cell_type": "markdown",
   "metadata": {},
   "source": [
    "I start by opening a new instance of Specviz so that I do not have to scroll up and down too much."
   ]
  },
  {
   "cell_type": "code",
   "execution_count": null,
   "metadata": {},
   "outputs": [],
   "source": [
    "viz2 = Specviz()\n",
    "viz2.show()"
   ]
  },
  {
   "cell_type": "markdown",
   "metadata": {},
   "source": [
    "I load just the interesting spectrum (spec1d_line)."
   ]
  },
  {
   "cell_type": "code",
   "execution_count": null,
   "metadata": {},
   "outputs": [],
   "source": [
    "viz2.load_data(spec1d_line, \"NIRISS 1D lines\")"
   ]
  },
  {
   "cell_type": "markdown",
   "metadata": {},
   "source": [
    "I can use an available line lists or define my own lines (I know I need Hb4861.3 and the [OIII]4958.9,5006.8 doublet) and play with the redshift slider to match the lines in the line list with the lines in the spectrum. The line list plugin can be found clicking the plugin icon on the upper right of the viewer. To input just the three lines, I can use the \"Custom\" menu.\n",
    "\n",
    "Here is the documentation where line lists are explained: https://jdaviz.readthedocs.io/en/latest/specviz/plugins.html#line-lists\n",
    "\n",
    "I can also define the lines of interest programmatically, as shown in the following cell."
   ]
  },
  {
   "cell_type": "code",
   "execution_count": null,
   "metadata": {},
   "outputs": [],
   "source": [
    "lt = QTable()\n",
    "lt['linename'] = ['Hb', '[OIII]1', '[OIII]2']\n",
    "lt['rest'] = [4861.3, 4958.9, 5006.8]*u.AA\n",
    "\n",
    "viz2.load_line_list(lt)"
   ]
  },
  {
   "cell_type": "markdown",
   "metadata": {},
   "source": [
    "The lines are not showing now because their rest value is outside the range plotted here. I can move the lines using the redshift slider in the line list plugin. It is best to first set the redshift to 2 in the box with the number and then move the slider to bring the lines on top of the observed emission lines."
   ]
  },
  {
   "cell_type": "markdown",
   "metadata": {},
   "source": [
    "### Get the redshift out in the Spectrum1D object"
   ]
  },
  {
   "cell_type": "code",
   "execution_count": null,
   "metadata": {},
   "outputs": [],
   "source": [
    "spec1d_redshift = viz2.get_spectra(apply_slider_redshift=True)[\"NIRISS 1D lines\"]\n",
    "print(spec1d_redshift)\n",
    "\n",
    "print()\n",
    "\n",
    "if spec1d_redshift.redshift != 0.0:\n",
    "    print(\"NIRISS 1D lines redshift=\", spec1d_redshift.redshift)\n",
    "else:\n",
    "    print(\"Redshift was not defined in GUI. Defining it here.\")\n",
    "    spec1d_redshift.set_redshift_to(2.2138)\n",
    "    print(\"NIRISS 1D lines redshift=\", spec1d_redshift.redshift)"
   ]
  },
  {
   "cell_type": "markdown",
   "metadata": {},
   "source": [
    "## 5. Model the continuum of the spectrum"
   ]
  },
  {
   "cell_type": "markdown",
   "metadata": {},
   "source": [
    "I open another instance of Specviz and load the same specrum used before."
   ]
  },
  {
   "cell_type": "code",
   "execution_count": null,
   "metadata": {},
   "outputs": [],
   "source": [
    "viz3 = Specviz()\n",
    "viz3.show()"
   ]
  },
  {
   "cell_type": "code",
   "execution_count": null,
   "metadata": {},
   "outputs": [],
   "source": [
    "viz3.load_data(spec1d_line, \"NIRISS 1D lines\")"
   ]
  },
  {
   "cell_type": "markdown",
   "metadata": {},
   "source": [
    "I can use the GUI to select the region where I see the continuum. _Challenge_: select a discontinuous subset that covers two intervals (1.35-1.55um and 1.63-1.65um). _Hint_: select \"Add\" at the top near the Subset dropdown."
   ]
  },
  {
   "cell_type": "markdown",
   "metadata": {},
   "source": [
    "I can then use the Model Fitting plugin under the plugin icon to fit a linear model to the selected region. Instructions can be found here: https://jdaviz.readthedocs.io/en/latest/specviz/plugins.html#model-fitting. The individual steps to complete this task are:\n",
    "- Select Subset 1 under Data\n",
    "- Select Linear1D under Model\n",
    "- Click Add model\n",
    "- Enter a name for the model under Model Label (I choose \"continuum\")\n",
    "- Click Fit"
   ]
  },
  {
   "cell_type": "markdown",
   "metadata": {},
   "source": [
    "I can extract the model and its parameters from the datasets in use."
   ]
  },
  {
   "cell_type": "code",
   "execution_count": null,
   "metadata": {},
   "outputs": [],
   "source": [
    "try:\n",
    "    dataout3 = viz3.get_spectra()\n",
    "    spectrum = dataout3[\"NIRISS 1D lines\"] # This is exactly the same as the spec1d_lines loaded a few cells above\n",
    "    continuum = dataout3[\"continuum\"]\n",
    "    model_param = viz3.get_model_parameters()\n",
    "    print(continuum)\n",
    "    print(model_param['continuum'])\n",
    "    \n",
    "except KeyError:\n",
    "    print(\"Continuum has not been created. Setting it to 0\")\n",
    "    continuum = Spectrum1D(spectral_axis=spectrum.spectral_axis, flux=0.*spectrum.flux)"
   ]
  },
  {
   "cell_type": "markdown",
   "metadata": {},
   "source": [
    "I can do a continuum subtraction and plot the result with matplotlib. If the continuum has not been defined in the GUI, this operation returns the original spectrum unchanged."
   ]
  },
  {
   "cell_type": "code",
   "execution_count": null,
   "metadata": {},
   "outputs": [],
   "source": [
    "spectrum_sub = spectrum - continuum"
   ]
  },
  {
   "cell_type": "code",
   "execution_count": null,
   "metadata": {},
   "outputs": [],
   "source": [
    "plt.plot(spectrum_sub.spectral_axis, spectrum_sub.flux)\n",
    "plt.hlines(0, 1.3, 1.7, color='black')\n",
    "plt.xlabel(\"wavelength ({:latex})\".format(spectrum_sub.spectral_axis.unit))\n",
    "plt.ylabel(\"flux ({:latex})\".format(spectrum_sub.flux.unit))\n",
    "plt.title(\"NIRISS ID 75\")\n",
    "plt.show()"
   ]
  },
  {
   "cell_type": "markdown",
   "metadata": {},
   "source": [
    "<img style=\"float: right;\" src=\"https://raw.githubusercontent.com/spacetelescope/notebooks/master/assets/stsci_pri_combo_mark_horizonal_white_bkgd.png\" alt=\"Space Telescope Logo\" width=\"200px\"/>"
   ]
  }
 ],
 "metadata": {
  "kernelspec": {
   "display_name": "Python 3 (ipykernel)",
   "language": "python",
   "name": "python3"
  },
  "language_info": {
   "codemirror_mode": {
    "name": "ipython",
    "version": 3
   },
   "file_extension": ".py",
   "mimetype": "text/x-python",
   "name": "python",
   "nbconvert_exporter": "python",
   "pygments_lexer": "ipython3",
   "version": "3.11.6"
  }
 },
 "nbformat": 4,
 "nbformat_minor": 4
}
