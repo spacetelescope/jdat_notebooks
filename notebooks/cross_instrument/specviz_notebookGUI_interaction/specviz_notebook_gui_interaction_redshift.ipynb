{
 "cells": [
  {
   "cell_type": "markdown",
   "metadata": {},
   "source": [
    "# Specviz Simple Demo"
   ]
  },
  {
   "cell_type": "markdown",
   "metadata": {},
   "source": [
    "**Use case:** This notebook demonstrates how to inspect spectra in Specviz, export spectra from the GUI in the notebook, select regions in the GUI and in the notebook, and measure the redshift of a source in the GUI.<br>\n",
    "**Data:** NIRISS 1D spectra from the [NGDEEP survey](https://ui.adsabs.harvard.edu/abs/2023arXiv230205466B/abstract). The dataset has been processed with the default pipeline and is read from AWS.<br>\n",
    "**Tools:** specutils, jdaviz, astropy, numpy.<br>\n",
    "**Cross-intrument:** all instruments.<br>\n",
    "**Documentation:** This notebook is part of a STScI's larger [post-pipeline Data Analysis Tools Ecosystem](https://jwst-docs.stsci.edu/jwst-post-pipeline-data-analysis).<br>"
   ]
  },
  {
   "cell_type": "markdown",
   "metadata": {},
   "source": [
    "**Updated on**: 2025/10/20 by Bryan Hilbert"
   ]
  },
  {
   "cell_type": "markdown",
   "metadata": {},
   "source": [
    "## Table of Contents\n",
    "\n",
    "1. [Load NIRISS pipeline output](#1.-Load-NIRISS-pipeline-output)\n",
    "2. [Open Specviz and load the 1D spectra we are interested in](#2.-Open-Specviz-and-load-the-1D-spectra-we-are-interested-in)\n",
    "3. [Select the emission lines using the GUI and in the notebook](#3.-Select-the-emission-lines-using-the-GUI-and-in-the-notebook)\n",
    "4. [Use the redshift slider in Specviz to find the redshift](#4.-Use-the-redshift-slider-in-Specviz-to-find-the-redshift)\n",
    "5. [Model the continuum of the spectrum](#5.-Model-the-continuum-of-the-spectrum)"
   ]
  },
  {
   "cell_type": "markdown",
   "metadata": {},
   "source": [
    "Imports:\n",
    "- matplotlib for plotting data\n",
    "- astropy for handling of fits files, units, and tables\n",
    "- specutils for interactions with Specviz and region definition/extraction\n",
    "- jdaviz for the visualization tool Specviz\n",
    "- astroquery to get the data from AWS\n",
    "- numpy to help select the appropriate source from the data file"
   ]
  },
  {
   "cell_type": "code",
   "execution_count": null,
   "metadata": {
    "scrolled": true
   },
   "outputs": [],
   "source": [
    "# Plotting and tabling\n",
    "import matplotlib.pyplot as plt\n",
    "\n",
    "# Import astropy and numpy\n",
    "import astropy\n",
    "import astropy.units as u\n",
    "from astropy.io import fits\n",
    "from astropy.table import QTable\n",
    "from astropy.nddata import StdDevUncertainty\n",
    "import numpy as np\n",
    "\n",
    "# Import specutils\n",
    "import specutils\n",
    "from specutils import Spectrum, SpectralRegion\n",
    "from specutils.manipulation import extract_region\n",
    "\n",
    "# Import viztools\n",
    "import jdaviz\n",
    "from jdaviz import Specviz\n",
    "\n",
    "# Astroquery\n",
    "from astroquery.mast import Observations"
   ]
  },
  {
   "cell_type": "code",
   "execution_count": null,
   "metadata": {},
   "outputs": [],
   "source": [
    "# Customization of matplotlib style\n",
    "plt.rcParams[\"figure.figsize\"] = (10, 5)\n",
    "params = {'legend.fontsize': '18', 'axes.labelsize': '18',\n",
    "          'axes.titlesize': '18', 'xtick.labelsize': '18',\n",
    "          'ytick.labelsize': '18', 'lines.linewidth': 2,\n",
    "          'axes.linewidth': 2, 'animation.html': 'html5',\n",
    "          'figure.figsize': (8, 6)}\n",
    "plt.rcParams.update(params)\n",
    "plt.rcParams.update({'figure.max_open_warning': 0})"
   ]
  },
  {
   "cell_type": "markdown",
   "metadata": {},
   "source": [
    "Check versions"
   ]
  },
  {
   "cell_type": "code",
   "execution_count": null,
   "metadata": {
    "scrolled": true
   },
   "outputs": [],
   "source": [
    "print('astropy:', astropy.__version__)\n",
    "print('specutils:', specutils.__version__)\n",
    "print('jdaviz:', jdaviz.__version__)"
   ]
  },
  {
   "cell_type": "markdown",
   "metadata": {},
   "source": [
    "## 1. Load NIRISS pipeline output\n",
    "We get the data directly from AWS by searching for proposal 2079 and NIRISS instrument in WFSS mode. The filename we are looking for is jw02079-o001_t001_niriss_f150w-gr150c_x1d.fits. Uncomment the line with `download_products` if you want to save a local copy of the file."
   ]
  },
  {
   "cell_type": "code",
   "execution_count": null,
   "metadata": {
    "scrolled": true
   },
   "outputs": [],
   "source": [
    "# Simply call the `enable_cloud_dataset` method from `Observations`.\n",
    "# The default provider is `AWS`, but we will write it in manually for this example:\n",
    "Observations.enable_cloud_dataset(provider='AWS')\n",
    "\n",
    "# Getting the cloud URIs\n",
    "obs_table = Observations.query_criteria(proposal_id=['2079'],\n",
    "                                        instrument_name=['NIRISS/WFSS'],\n",
    "                                        dataproduct_type=['spectrum'])\n",
    "products = Observations.get_product_list(obs_table)\n",
    "filtered = Observations.filter_products(products, productFilename=['jw02079-o001_t001_niriss_f150w-gr150c_x1d.fits'])\n",
    "s3_uris = Observations.get_cloud_uris(filtered)\n",
    "print(s3_uris)\n",
    "\n",
    "# Download the data locally if you want\n",
    "# Observations.download_products(filtered, cloud_only=True)\n",
    "# will save to ./mastDownload/JWST/jw02079-o001_t001_niriss_f150w-gr150c/jw02079-o001_t001_niriss_f150w-gr150c_x1d.fits\n",
    "\n",
    "Observations.disable_cloud_dataset()"
   ]
  },
  {
   "cell_type": "code",
   "execution_count": null,
   "metadata": {},
   "outputs": [],
   "source": [
    "# Choose a source that we know has some obvious emission lines. We choose the\n",
    "# source based on its location rather than source_id, since the source_id can\n",
    "# vary when source finding parameters are changed.\n",
    "source_x, source_y = (1803.749, 986.392)"
   ]
  },
  {
   "cell_type": "code",
   "execution_count": null,
   "metadata": {
    "scrolled": true
   },
   "outputs": [],
   "source": [
    "# Open file in read-only mode and get the data\n",
    "with fits.open(s3_uris[0], 'readonly', fsspec_kwargs={\"anon\": True}) as hdu:\n",
    "    # Each extension after the 0th contains information about all sources in the file.\n",
    "    # Each extension corresponds to the information recovered from one input exposure.\n",
    "    # For this example, we will focus on the data only in the 1st extension.\n",
    "    hdu.info()\n",
    "\n",
    "    # Locate the index number corresponding to our source of interest. Search the reported\n",
    "    # (x,y) positions for all sources and find the source that is closest to our chosen source.\n",
    "    delta_x = source_x - hdu[1].data[\"SOURCE_XPOS\"]\n",
    "    delta_y = source_y - hdu[1].data[\"SOURCE_YPOS\"]\n",
    "    delta_loc = np.sqrt(delta_x**2 + delta_y**2)\n",
    "    idx = np.where(delta_loc == np.nanmin(delta_loc))[0][0]\n",
    "\n",
    "    print(f'Using source_id: {hdu[1].data[\"SOURCE_ID\"][idx]} at index: {idx}')\n",
    "    print(f'Source is located at (x,y) = ({hdu[1].data[\"SOURCE_XPOS\"][idx]}, {hdu[1].data[\"SOURCE_YPOS\"][idx]})')\n",
    "    \n",
    "    # Create Spectrum object (will not be needed when Jdaviz can open file directly from S3)\n",
    "    wave = hdu[1].data['WAVELENGTH'][idx, :] * u.Unit(hdu[1].header['TUNIT2'])\n",
    "    flux = hdu[1].data['FLUX'][idx, :] * u.Unit(hdu[1].header['TUNIT3'])\n",
    "    std = StdDevUncertainty(hdu[1].data['FLUX_ERROR'][idx, :] * u.Unit(hdu[1].header['TUNIT4']))\n",
    "\n",
    "    # Make sure there are no NaN entries in the wavelength array\n",
    "    finite = np.where(np.isfinite(wave))\n",
    "    wave = wave[finite]\n",
    "    flux = flux[finite]\n",
    "    std = std[finite]\n",
    "\n",
    "    # Create a Spectrum object using the source's information\n",
    "    spec1d = Spectrum(spectral_axis=wave,\n",
    "                      flux=flux,\n",
    "                      uncertainty=std)"
   ]
  },
  {
   "cell_type": "markdown",
   "metadata": {},
   "source": [
    "## 2. Open Specviz and load the 1D spectra we are interested in\n",
    "We use the Spectrum object we created until Specviz can stream directly from AWS."
   ]
  },
  {
   "cell_type": "code",
   "execution_count": null,
   "metadata": {},
   "outputs": [],
   "source": [
    "# Open the specviz viewer and show the 1D spectrum\n",
    "viz = Specviz()\n",
    "viz.load(spec1d, data_label='NIRISS F150W')\n",
    "viz.show()"
   ]
  },
  {
   "cell_type": "code",
   "execution_count": null,
   "metadata": {},
   "outputs": [],
   "source": [
    "# Set the plot limits to see it better\n",
    "plg_plot = viz.plugins['Plot Options']\n",
    "plg_plot.y_min = -1E-6\n",
    "plg_plot.y_max = 2E-5"
   ]
  },
  {
   "cell_type": "markdown",
   "metadata": {},
   "source": [
    "## 3. Select the emission lines using the GUI and in the notebook\n",
    "I select the region spanning the emission lines from roughly 1.58 to 1.63 microns.\n",
    "\n",
    "Instructions: https://jdaviz.readthedocs.io/en/latest/specviz/displaying.html#defining-spectral-regions"
   ]
  },
  {
   "cell_type": "markdown",
   "metadata": {},
   "source": [
    "### See what data is used in this specviz istance"
   ]
  },
  {
   "cell_type": "code",
   "execution_count": null,
   "metadata": {},
   "outputs": [],
   "source": [
    "collection = viz.data_labels\n",
    "print(collection)\n",
    "dataout = viz.get_data('NIRISS F150W')\n",
    "dataout"
   ]
  },
  {
   "cell_type": "markdown",
   "metadata": {},
   "source": [
    "### See the subsets defined in the GUI\n",
    "I include a try-except in case the notebook is run without human interaction."
   ]
  },
  {
   "cell_type": "code",
   "execution_count": null,
   "metadata": {
    "scrolled": true
   },
   "outputs": [],
   "source": [
    "try:\n",
    "    plg_subsets = viz.plugins['Subset Tools']\n",
    "    region = plg_subsets.get_regions()\n",
    "    print(region['Subset 1'])\n",
    "except KeyError:\n",
    "    print(\"No region defined in the GUI\")"
   ]
  },
  {
   "cell_type": "markdown",
   "metadata": {},
   "source": [
    "### Select the same region programmatically\n",
    "I can define my own region (cont_region) between arbitrary bounds. I choose 1.598um and 1.621um. I can then extract the spectrum in that region."
   ]
  },
  {
   "cell_type": "code",
   "execution_count": null,
   "metadata": {
    "scrolled": true
   },
   "outputs": [],
   "source": [
    "cont_region = SpectralRegion(1.598*u.um, 1.621*u.um)\n",
    "spec1d_el_code = extract_region(dataout, cont_region)\n",
    "print(spec1d_el_code)"
   ]
  },
  {
   "cell_type": "markdown",
   "metadata": {},
   "source": [
    "Or I can extract the spectrum in the region I defined in the GUI (region['Subset 1'])."
   ]
  },
  {
   "cell_type": "code",
   "execution_count": null,
   "metadata": {
    "scrolled": true
   },
   "outputs": [],
   "source": [
    "try:\n",
    "    spec1d_el_viz = extract_region(dataout, region['Subset 1'])\n",
    "    print(spec1d_el_viz)\n",
    "except KeyError:\n",
    "    print(\"Region was not defined in the GUI\")\n",
    "    # Define spec1d_el_viz as spec1d_el_code\n",
    "    spec1d_el_viz = spec1d_el_code"
   ]
  },
  {
   "cell_type": "markdown",
   "metadata": {},
   "source": [
    "### Plot the spectrum and the subset with matplotlib"
   ]
  },
  {
   "cell_type": "markdown",
   "metadata": {},
   "source": [
    "Plot the 1D spectrum in blue (flux in Jy versus wavelength in microns). Show the subset defined above in the notebook in green. If a subset has been defined in the GUI, plot that in orange. For the default source, there is an emission line rising from a continuum level of about 0.25 Jy to a peak of about 1.25 Jy at a wavelength of about 1.61 microns. The peak of this emission line corresponds to the redshifted OIII doublet, as will be shown in the next section of the notebook. There is also a smaller emission line at about 1.57 microns, that rises to about 0.35 Jy. This is redshifted H_beta."
   ]
  },
  {
   "cell_type": "code",
   "execution_count": null,
   "metadata": {},
   "outputs": [],
   "source": [
    "plt.plot(dataout.spectral_axis, dataout.flux, label='data')\n",
    "plt.plot(spec1d_el_viz.spectral_axis, spec1d_el_viz.flux, label='subset defined in tool')\n",
    "plt.plot(spec1d_el_code.spectral_axis, spec1d_el_code.flux, label='subset defined in code')\n",
    "plt.legend()\n",
    "plt.xlabel(\"wavelength ({:latex})\".format(dataout.spectral_axis.unit))\n",
    "plt.ylabel(\"flux ({:latex})\".format(dataout.flux.unit))\n",
    "plt.ylim(-1E-6, 2E-5)\n",
    "plt.title(\"NIRISS F150W\")\n",
    "plt.show()"
   ]
  },
  {
   "cell_type": "markdown",
   "metadata": {},
   "source": [
    "## 4. Use the redshift slider in Specviz to find the redshift"
   ]
  },
  {
   "cell_type": "markdown",
   "metadata": {},
   "source": [
    "I can use available line lists or define my own lines (Here I know I need Hb4862.68 and the [OIII]4960.29,5008.24 doublet) and play with the redshift slider to match the lines in the line list with the lines in the spectrum. The line list plugin can be found clicking the plugin icon on the upper right of the viewer. To input just the three lines, I can use the \"Custom\" menu.\n",
    "\n",
    "Here is the documentation where line lists are explained: https://jdaviz.readthedocs.io/en/latest/specviz/plugins.html#line-lists\n",
    "\n",
    "I can also define the lines of interest programmatically, as shown in the following cell."
   ]
  },
  {
   "cell_type": "code",
   "execution_count": null,
   "metadata": {},
   "outputs": [],
   "source": [
    "lt = QTable()\n",
    "lt['linename'] = ['Hb', '[OIII]1', '[OIII]2']\n",
    "lt['rest'] = [4862.68, 4960.29, 5008.24]*u.AA\n",
    "\n",
    "viz.load_line_list(lt)"
   ]
  },
  {
   "cell_type": "markdown",
   "metadata": {},
   "source": [
    "The lines are not showing now because their rest value is outside the range plotted here. I can move the lines using the redshift slider in the line list plugin. It is best to first set the redshift to 2 in the box with the number and then move the slider to bring the lines on top of the observed emission lines."
   ]
  },
  {
   "cell_type": "markdown",
   "metadata": {},
   "source": [
    "### Get the redshift out in the Spectrum object"
   ]
  },
  {
   "cell_type": "code",
   "execution_count": null,
   "metadata": {},
   "outputs": [],
   "source": [
    "spec1d_redshift = viz.get_spectra(apply_slider_redshift=True)[\"NIRISS F150W\"]\n",
    "print(spec1d_redshift, '\\n')\n",
    "\n",
    "if spec1d_redshift.redshift != 0.0:\n",
    "    print(\"NIRISS F150W redshift=\", spec1d_redshift.redshift)\n",
    "else:\n",
    "    print(\"Redshift was not defined in GUI. Defining it here.\")\n",
    "    spec1d_redshift.set_redshift_to(2.2138)\n",
    "    print(\"NIRISS F150W redshift=\", spec1d_redshift.redshift)"
   ]
  },
  {
   "cell_type": "markdown",
   "metadata": {},
   "source": [
    "## 5. Model the continuum of the spectrum"
   ]
  },
  {
   "cell_type": "markdown",
   "metadata": {},
   "source": [
    "I can use the GUI to select the region where I see the continuum. _Challenge_: select a discontinuous subset that covers two intervals (1.35-1.55um and 1.63-1.65um). _Hint_: select \"Add\" at the top near the Subset dropdown."
   ]
  },
  {
   "cell_type": "markdown",
   "metadata": {},
   "source": [
    "I can then use the Model Fitting plugin under the plugin icon to fit a linear model to the selected region. Instructions can be found here: https://jdaviz.readthedocs.io/en/latest/specviz/plugins.html#model-fitting. The individual steps to complete this task are:\n",
    "- Select Subset 1 under Data\n",
    "- Select Linear1D or Polynomial (whatever you think is best) under Model\n",
    "- Click Add Component\n",
    "- Enter a name for the model under Output Data Label (I choose \"continuum\")\n",
    "- Click \"Fit Model\""
   ]
  },
  {
   "cell_type": "markdown",
   "metadata": {},
   "source": [
    "I can extract the model and its parameters from the datasets in use."
   ]
  },
  {
   "cell_type": "code",
   "execution_count": null,
   "metadata": {},
   "outputs": [],
   "source": [
    "datalabels = viz.data_labels\n",
    "print(datalabels)\n",
    "if 'continuum' in datalabels:\n",
    "    spectrum = viz.get_data('NIRISS F150W')\n",
    "    continuum = viz.get_data('continuum')\n",
    "    print(continuum)\n",
    "else:\n",
    "    print(\"Continuum has not been created. Setting it to 0\")\n",
    "    spectrum = viz.get_data('NIRISS F150W')\n",
    "    continuum = Spectrum(spectral_axis=spectrum.spectral_axis, flux=0.*spectrum.flux)"
   ]
  },
  {
   "cell_type": "markdown",
   "metadata": {},
   "source": [
    "I can do a continuum subtraction and plot the result with matplotlib. If the continuum has not been defined in the GUI, this operation returns the original spectrum unchanged."
   ]
  },
  {
   "cell_type": "code",
   "execution_count": null,
   "metadata": {},
   "outputs": [],
   "source": [
    "spectrum_sub = spectrum - continuum"
   ]
  },
  {
   "cell_type": "markdown",
   "metadata": {},
   "source": [
    "Plot the continuum-subtracted spectrum in blue (flux in Jy versus wavelength in microns). Plot a horizontal black line at a flux level of zero, to help show how well the continuum has been subtracted."
   ]
  },
  {
   "cell_type": "code",
   "execution_count": null,
   "metadata": {},
   "outputs": [],
   "source": [
    "plt.plot(spectrum_sub.spectral_axis, spectrum_sub.flux)\n",
    "plt.hlines(0, 1.3, 1.7, color='black')\n",
    "plt.xlabel(\"wavelength ({:latex})\".format(spectrum_sub.spectral_axis.unit))\n",
    "plt.ylabel(\"flux ({:latex})\".format(spectrum_sub.flux.unit))\n",
    "plt.title(\"NIRISS F150W\")\n",
    "plt.ylim(-1E-6, 2E-5)\n",
    "plt.show()"
   ]
  },
  {
   "cell_type": "markdown",
   "metadata": {},
   "source": [
    "<img style=\"float: right;\" src=\"https://raw.githubusercontent.com/spacetelescope/notebooks/master/assets/stsci_pri_combo_mark_horizonal_white_bkgd.png\" alt=\"Space Telescope Logo\" width=\"200px\"/>"
   ]
  },
  {
   "cell_type": "code",
   "execution_count": null,
   "metadata": {},
   "outputs": [],
   "source": []
  },
  {
   "cell_type": "code",
   "execution_count": null,
   "metadata": {},
   "outputs": [],
   "source": []
  }
 ],
 "metadata": {
  "kernelspec": {
   "display_name": "Python 3 (ipykernel)",
   "language": "python",
   "name": "python3"
  },
  "language_info": {
   "codemirror_mode": {
    "name": "ipython",
    "version": 3
   },
   "file_extension": ".py",
   "mimetype": "text/x-python",
   "name": "python",
   "nbconvert_exporter": "python",
   "pygments_lexer": "ipython3",
   "version": "3.11.14"
  }
 },
 "nbformat": 4,
 "nbformat_minor": 4
}
