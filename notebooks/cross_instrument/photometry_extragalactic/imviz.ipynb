{
 "cells": [
  {
   "cell_type": "markdown",
   "id": "80876f9c-2019-4959-a0c1-0b42fce8c8bb",
   "metadata": {},
   "source": [
    "![title](https://github.com/STScI-MIRI/MRS-ExampleNB/raw/main/assets/banner1.png)"
   ]
  },
  {
   "cell_type": "markdown",
   "id": "faaaaafd-c448-4d82-8a2b-d8ac82c33205",
   "metadata": {},
   "source": [
    "# Photometry with JWST - Imviz\n",
    "Author: Camilla Pacifici, Space Telescope Science Institute (adapting notebook by Clare Shanahan)<br>\n",
    "Date last modified: 2025-02-27\n",
    "\n",
    "## Tutorial Overview\n",
    "This tutorial will demonstrate how to use [Imviz](https://jdaviz.readthedocs.io/en/latest/imviz/index.html) to support a photometry workflow.\n",
    "\n",
    "1. Start Imviz and load data.\n",
    "2. Setting display options.\n",
    "3. Aligning images by WCS.\n",
    "4. Load catalog of sources from the interface and from the notebook.\n",
    "5. Load footprints.\n",
    "6. Select a source and do aperture photometry.\n",
    "\n",
    "The first half of the tutorial will show you how to perform these tasks in the interface. In the second part, we will see how the same tasks can be performed with code in the notebook."
   ]
  },
  {
   "cell_type": "markdown",
   "id": "aa716158-e683-49ee-80d9-60a5c3181f1c",
   "metadata": {},
   "source": [
    "## Import packages"
   ]
  },
  {
   "cell_type": "markdown",
   "id": "2f28b23f-4a49-4fe1-8ba9-dc417b26978c",
   "metadata": {},
   "source": [
    "First, import astroquery for downloading the data, jdaviz, and a few astropy tools."
   ]
  },
  {
   "cell_type": "code",
   "execution_count": null,
   "id": "191f6ab3-634a-4161-b9a6-95970bdfb792",
   "metadata": {},
   "outputs": [],
   "source": [
    "import os\n",
    "from astroquery.mast import Observations\n",
    "\n",
    "from jdaviz import Imviz\n",
    "\n",
    "from astropy.table import QTable\n",
    "from astropy import units as u\n",
    "from astropy.coordinates import SkyCoord\n",
    "from regions import Regions, CircleSkyRegion"
   ]
  },
  {
   "cell_type": "code",
   "execution_count": null,
   "id": "38bb7035-221f-426f-8b25-9e5b56567cd8",
   "metadata": {},
   "outputs": [],
   "source": [
    "def download_files(files_to_download):\n",
    "    \"\"\"Download a list of files from MAST.\n",
    "\n",
    "    Parameters\n",
    "    ----------\n",
    "    files_to_download : list\n",
    "        List of filenames\n",
    "    \"\"\"\n",
    "    for file in files_to_download:\n",
    "        # Check if the file already exists in the current working directory\n",
    "        if os.path.exists(file):\n",
    "            print(f\"File {file} already exists. Skipping download.\")\n",
    "            continue\n",
    "        cal_uri = f'mast:HLSP/ceers/nircam/{file}.gz'\n",
    "        Observations.download_file(cal_uri)\n",
    "        os.system('gunzip ' + file + '.gz')"
   ]
  },
  {
   "cell_type": "markdown",
   "id": "19774986-fbc0-4adf-b24e-27b5c30acbc7",
   "metadata": {},
   "source": [
    "## Initialize Imviz"
   ]
  },
  {
   "cell_type": "code",
   "execution_count": null,
   "id": "ff5e5be6-ccad-4e42-bb5a-cd4f65b4cf04",
   "metadata": {
    "editable": true,
    "slideshow": {
     "slide_type": ""
    },
    "tags": []
   },
   "outputs": [],
   "source": [
    "imviz = Imviz()\n",
    "imviz.show()"
   ]
  },
  {
   "cell_type": "markdown",
   "id": "8a83e218-0c3e-4a45-b998-7b18abeeb555",
   "metadata": {},
   "source": [
    "## Loading Data\n",
    "Imviz can ingest FITS files, ASDF files, or numpy arrays (see documentation for [importing data](https://jdaviz.readthedocs.io/en/stable/imviz/import_data.html)). Here, we will work with standard FITS files provided by the [ERS CEERS team](https://ceers.github.io/) as high level data products.\n",
    "\n",
    "Imviz can read either a file path or directly a URI from MAST. Although these data products are available in MAST, we will pull them from a shared space in the platform where they have already being downloaded so we do not have to wait for the download to happen. These files are pretty big!\n",
    "\n",
    "We will work with four images of the same field in four different filters (F115W, F200W, F356W, and F444W) obtained with the NIRCam instrument on JWST."
   ]
  },
  {
   "cell_type": "code",
   "execution_count": null,
   "id": "5c75536e-e679-4dbe-94eb-b340423711fc",
   "metadata": {},
   "outputs": [],
   "source": [
    "filenames = ['hlsp_ceers_jwst_nircam_nircam2_f115w_v0.5_i2d.fits',\n",
    "             'hlsp_ceers_jwst_nircam_nircam2_f200w_v0.5_i2d.fits',\n",
    "             'hlsp_ceers_jwst_nircam_nircam2_f356w_v0.5_i2d.fits',\n",
    "             'hlsp_ceers_jwst_nircam_nircam2_f444w_v0.5_i2d.fits'\n",
    "            ]\n",
    "\n",
    "download_files(filenames)"
   ]
  },
  {
   "cell_type": "code",
   "execution_count": null,
   "id": "5112ace7-61f6-4e7a-a659-0b58e44739c8",
   "metadata": {},
   "outputs": [],
   "source": [
    "with imviz.batch_load():  # not necessary, but this context manager makes loading multiple files more efficient          \n",
    "    for filename in filenames:\n",
    "        imviz.load_data(f'{filename}', cache=True)"
   ]
  },
  {
   "cell_type": "markdown",
   "id": "ab62ab28-b2cf-4377-9682-173e075c97ea",
   "metadata": {},
   "source": [
    "The datasets (given default labels 'A', 'B', 'C', and 'D') are loaded into the same viewer. They appear in the data menu on the right hand side. You can select/deselect loaded data to display, remove/re-add data from the viewer, and delete loaded data from the app. To blink between images, press the 'b' key (note that blinking will de-select non active layers)."
   ]
  },
  {
   "cell_type": "markdown",
   "id": "152faf67-0bbc-4b40-a758-9888cd05f907",
   "metadata": {},
   "source": [
    "### Linking by WCS\n",
    "\n",
    "By default, images are pixel linked when loaded. We can link them by WCS in the 'Orientation' plugin. This is important for catalog functionality. We can also access the Orientation plugin in coding."
   ]
  },
  {
   "cell_type": "code",
   "execution_count": null,
   "id": "1e1161d1-ad45-44fd-90f2-3ee061cd2c92",
   "metadata": {},
   "outputs": [],
   "source": [
    "plg_orient = imviz.plugins['Orientation']\n",
    "plg_orient.align_by = \"WCS\""
   ]
  },
  {
   "cell_type": "markdown",
   "id": "01c45a84-43fc-4e60-a524-ad07729f4940",
   "metadata": {},
   "source": [
    "## Modifying Image Display Options\n",
    "Now, we will modify some of the display options to better suit our data. For the live demo, we will do this in the UI in the 'Plot Options' plugin by modifying the image stretch from linear to logarithmic, and setting vmax to a more appropriate value. We will make use of 'layer multiselect' to apply these options to all images at the same time, but you can set different display options for each image independently as well. The following cell accomplishes the same task from the API. \n",
    "\n",
    "First, we can check what choices are available for two example options and what is currently set."
   ]
  },
  {
   "cell_type": "code",
   "execution_count": null,
   "id": "4ecccd2c-241a-4d82-aa82-ebaaeba9720c",
   "metadata": {},
   "outputs": [],
   "source": [
    "plg_plot = imviz.plugins['Plot Options']\n",
    "\n",
    "print(plg_plot.stretch_function.choices)\n",
    "print(plg_plot.stretch_function.value)\n",
    "print()\n",
    "print(plg_plot.image_colormap.choices)\n",
    "print(plg_plot.image_colormap.value)"
   ]
  },
  {
   "cell_type": "code",
   "execution_count": null,
   "id": "2cb44178-83e7-48a3-8cff-25be6a140b6c",
   "metadata": {},
   "outputs": [],
   "source": [
    "# the following code is the API equivalent to the series of UI clicks we will do in the live demo\n",
    "\n",
    "# get the 'Plot Options' plugin\n",
    "plg_plot = imviz.plugins['Plot Options']\n",
    "\n",
    "# enable mutiselect so our chosen options are applied to all images\n",
    "plg_plot.layer.multiselect = True\n",
    "plg_plot.select_all()\n",
    "\n",
    "# switch stretch function from default linear to log\n",
    "plg_plot.stretch_function = 'Logarithmic'\n",
    "\n",
    "# use the 99.5% stretch function preset\n",
    "# plg_plot.stretch_preset = '99.5%'\n",
    "\n",
    "# increase vmax to a more suitable value\n",
    "plg_plot.stretch_vmax = 0.5\n",
    "plg_plot.stretch_vmin = 0\n"
   ]
  },
  {
   "cell_type": "markdown",
   "id": "4c3b12f0-5392-42eb-9b29-08c2284e7624",
   "metadata": {},
   "source": [
    "Now that we know how to set our own plot options, let's use one of the RGB presets, just for fun. This will apply preset color, stretch, and opacity settings to each layer."
   ]
  },
  {
   "cell_type": "code",
   "execution_count": null,
   "id": "a21c4e12-1989-4c2e-89e6-58df2bacd140",
   "metadata": {},
   "outputs": [],
   "source": [
    "plg_plot = imviz.plugins['Plot Options']\n",
    "plg_plot.image_color_mode = 'Color'\n",
    "plg_plot.apply_RGB_presets()"
   ]
  },
  {
   "cell_type": "markdown",
   "id": "8b42837e-56ec-4ec1-bd59-7596d1e33045",
   "metadata": {},
   "source": [
    "## Loading Catalogs\n",
    "\n",
    "SDSS and Gaia catalogs can be loaded directly from jdaviz (with more catalog support planned in the future). Additionally, you can load your own catalog into the application.\n",
    "\n",
    "We will use a portion of one of the catalogs generated in the Photutils demo. The [Catalog Search plugin documentation](https://jdaviz.readthedocs.io/en/stable/imviz/import_data.html#importing-catalogs-via-the-api) explains how the file needs to be formatted."
   ]
  },
  {
   "cell_type": "code",
   "execution_count": null,
   "id": "8e54bbd1-760c-43d2-bc96-21af1b03f321",
   "metadata": {},
   "outputs": [],
   "source": [
    "# We will need the catalog later so we load it here\n",
    "catalog_file = 'photutils_cat.ecsv'\n",
    "cat = QTable.read(catalog_file)\n",
    "# cat"
   ]
  },
  {
   "cell_type": "code",
   "execution_count": null,
   "id": "cc87140e-ee38-4eae-b595-572eb2726506",
   "metadata": {},
   "outputs": [],
   "source": [
    "plg_cat = imviz.plugins['Catalog Search']\n",
    "\n",
    "# Import the catalog\n",
    "plg_cat.import_catalog(catalog_file)"
   ]
  },
  {
   "cell_type": "markdown",
   "id": "adb347ef-d4df-4b8e-a940-ad6bb85fdb5f",
   "metadata": {},
   "source": [
    "## Loading Regions\n",
    "\n",
    "Regions can also be loaded either as `Subsets` or as `Footprints`. Subsets are used for analysis and are linked to the datasets so they take some memory. Footprints are just for visual purposes and are much lighter on the tool. Here we load regions created in the Photutils demo as Footprints using the [Footprint plugin](https://jdaviz.readthedocs.io/en/stable/imviz/plugins.html#footprints)."
   ]
  },
  {
   "cell_type": "code",
   "execution_count": null,
   "id": "676e3043-4f77-4b28-8a08-5d3d6d011e81",
   "metadata": {},
   "outputs": [],
   "source": [
    "# Get the regions file\n",
    "region_file = 'kron_apertures.reg'\n",
    "# Open it with the Regions package\n",
    "regions = Regions.read(region_file)\n",
    "\n",
    "# Open the footprint plugin\n",
    "plg_fprint = imviz.plugins['Footprints']\n",
    "plg_fprint.open_in_tray()\n",
    "plg_fprint.keep_active = True\n",
    "\n",
    "# Add the desired overlay\n",
    "plg_fprint.add_overlay('Kron regions')\n",
    "\n",
    "# Import the regions\n",
    "plg_fprint.import_region(regions)"
   ]
  },
  {
   "cell_type": "markdown",
   "id": "91fa5d6a-c937-4c1f-b2a3-1ac3679acab6",
   "metadata": {},
   "source": [
    "### Load instrument footprints\n",
    "The Footprint plugin can also be used to load Instruments footprints from JWST and Roman."
   ]
  },
  {
   "cell_type": "code",
   "execution_count": null,
   "id": "9e7e2372-beba-4b8c-9aec-1a6aaed420d3",
   "metadata": {},
   "outputs": [],
   "source": [
    "# Open the footprint plugin\n",
    "plg_fprint = imviz.plugins['Footprints']\n",
    "plg_fprint.open_in_tray()\n",
    "plg_fprint.keep_active = True\n",
    "\n",
    "# Add a NIRSpec overlay\n",
    "plg_fprint.add_overlay('nirspec')\n",
    "\n",
    "# Choose the preset footprint for NIRSpec\n",
    "plg_fprint.preset = 'NIRSpec'\n",
    "\n",
    "# Change the center and angle of the footprint\n",
    "plg_fprint.ra = cat['sky_centroid'][0].ra.value\n",
    "plg_fprint.dec = cat['sky_centroid'][0].dec.value\n",
    "plg_fprint.pa = 30"
   ]
  },
  {
   "cell_type": "markdown",
   "id": "06025284-99ea-4cd6-bf86-a6e14ffab8f4",
   "metadata": {},
   "source": [
    "## Aperture photometry\n",
    "\n",
    "We can do [Aperture Photometry](https://jdaviz.readthedocs.io/en/stable/imviz/plugins.html#aperture-photometry) in Imviz. We will do it on a single source selected from the catalog. We can draw a circular `subset` near the souce, then use `recenter` to centroid the position a little better."
   ]
  },
  {
   "cell_type": "markdown",
   "id": "5a7a3446-7bb3-49c9-b8d7-253360db195f",
   "metadata": {},
   "source": [
    "### Creating and loading regions"
   ]
  },
  {
   "cell_type": "code",
   "execution_count": null,
   "id": "90ca3204-23d9-488a-ae39-586166d56119",
   "metadata": {},
   "outputs": [],
   "source": [
    "# get the 'Subsets Tools' plugin where we can create and interact with spatial regions in imviz\n",
    "plg_subset = imviz.plugins['Subset Tools']\n",
    "\n",
    "# Create a circular region around a random source\n",
    "circular_region = CircleSkyRegion(center=cat['sky_centroid'][250], radius=3*u.arcsec)\n",
    "plg_subset.import_region(circular_region)"
   ]
  },
  {
   "cell_type": "markdown",
   "id": "bb5ba4b1-8739-4c66-8be9-24fdf3053369",
   "metadata": {},
   "source": [
    "### Aperture Photometry\n",
    "With a subset created and placed on one of the sources in the image, we can use the Aperture Photometry plugin to do some analysis. We can make use of 'batch mode' to get photometry for all loaded images using the same subset (which is useful when images are well aligned). The API for this is not exposed yet, so we will do it only in UI and we will just get the table of results our here."
   ]
  },
  {
   "cell_type": "code",
   "execution_count": null,
   "id": "06f5f2f4-af12-44c5-949c-fdc854bcc015",
   "metadata": {},
   "outputs": [],
   "source": [
    "# get the plugin\n",
    "aperture_photometry = imviz.plugins['Aperture Photometry']\n",
    "\n",
    "# export the table of results\n",
    "aperture_photometry.export_table()"
   ]
  },
  {
   "cell_type": "code",
   "execution_count": null,
   "id": "c46ca7a1-385c-4288-a578-1c034a0e9bdb",
   "metadata": {},
   "outputs": [],
   "source": []
  }
 ],
 "metadata": {
  "kernelspec": {
   "display_name": "Python 3 (ipykernel)",
   "language": "python",
   "name": "python3"
  },
  "language_info": {
   "codemirror_mode": {
    "name": "ipython",
    "version": 3
   },
   "file_extension": ".py",
   "mimetype": "text/x-python",
   "name": "python",
   "nbconvert_exporter": "python",
   "pygments_lexer": "ipython3",
   "version": "3.12.8"
  }
 },
 "nbformat": 4,
 "nbformat_minor": 5
}
