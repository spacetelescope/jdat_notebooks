{
 "cells": [
  {
   "cell_type": "markdown",
   "id": "3214bdb6-a86e-4339-8044-89fcf950a982",
   "metadata": {},
   "source": [
    "![title](https://github.com/STScI-MIRI/MRS-ExampleNB/raw/main/assets/banner1.png)"
   ]
  },
  {
   "cell_type": "markdown",
   "id": "a592c90d-b3ca-4f8f-954a-7f3f2c91c29b",
   "metadata": {},
   "source": [
    "# Photometry of a JWST/NIRCam extragalactic field with Photutils\n",
    "Author: Larry Bradley, Space Telescope Science Institute<br>\n",
    "Data last modified: 2025-02-27\n",
    "\n",
    "## Tutorial Overview\n",
    "This tutorial will demonstrate how to use [Photutils](https://photutils.readthedocs.io/) to perform multiband NIRCam photometry on an extragalactic field.\n",
    "\n",
    "Photutils is a Python library that provides commonly-used tools and key functionality for detecting and performing photometry of astronomical sources. Tools are provided for\n",
    "* background estimation\n",
    "* star finding\n",
    "* source detection and extraction\n",
    "* aperture photometry\n",
    "* PSF photometry\n",
    "* image segmentation\n",
    "* centroids\n",
    "* radial profiles\n",
    "* elliptical isophote fitting\n",
    "\n",
    "It is a coordinated package of [Astropy](https://docs.astropy.org/en/stable/) and integrates well with other Astropy packages, making it a powerful tool for astronomical image analysis.\n",
    "\n",
    "## Outline:\n",
    "\n",
    "1. Load Datasets\n",
    "1. Background Subtraction\n",
    "1. Aperture Photometry\n",
    "1. Creating a multiband segmentation-based catalog\n",
    "    1. Creating a Detection Image\n",
    "    1. Source Extraction via Image Segmentation\n",
    "    1. Source Deblending\n",
    "    1. Modifying a Segmentation Image\n",
    "    1. SourceFinder convenience class\n",
    "    1. Source Measurements: Source Catalog\n",
    "    1. Creating a Multiband Catalog\n",
    "    1. Catalog Exploration"
   ]
  },
  {
   "cell_type": "markdown",
   "id": "d5c64655-cc26-4117-8974-272b28920884",
   "metadata": {
    "execution": {
     "iopub.execute_input": "2025-02-12T17:45:32.703361Z",
     "iopub.status.busy": "2025-02-12T17:45:32.702170Z",
     "iopub.status.idle": "2025-02-12T17:45:32.708989Z",
     "shell.execute_reply": "2025-02-12T17:45:32.707888Z",
     "shell.execute_reply.started": "2025-02-12T17:45:32.703297Z"
    }
   },
   "source": [
    "## Import packages"
   ]
  },
  {
   "cell_type": "code",
   "execution_count": null,
   "id": "e8d3f35e-6190-442a-b127-3bcc95bfcd18",
   "metadata": {},
   "outputs": [],
   "source": [
    "import os\n",
    "import subprocess\n",
    "from astroquery.mast import Observations\n",
    "import astropy.units as u\n",
    "import matplotlib as mpl\n",
    "import matplotlib.pyplot as plt\n",
    "import numpy as np\n",
    "from astropy.convolution import convolve\n",
    "from astropy.io import fits\n",
    "from astropy.table import hstack\n",
    "from astropy.visualization import SimpleNorm, simple_norm\n",
    "from astropy.wcs import WCS\n",
    "from photutils.aperture import (ApertureStats, CircularAperture,\n",
    "                                SkyCircularAperture, aperture_photometry, \n",
    "                                aperture_to_region)\n",
    "from photutils.background import (Background2D, BiweightLocationBackground,\n",
    "                                  BiweightScaleBackgroundRMS)\n",
    "from photutils.segmentation import (SourceCatalog,\n",
    "                                    deblend_sources, detect_sources,\n",
    "                                    make_2dgaussian_kernel)\n",
    "from photutils.utils import CutoutImage\n",
    "from regions import Regions\n",
    "from scipy.ndimage import grey_dilation\n",
    "\n",
    "# Change some default plotting parameters\n",
    "mpl.rcParams['figure.constrained_layout.use'] = True\n",
    "mpl.rcParams['figure.max_open_warning'] = 40\n",
    "mpl.rcParams['image.interpolation'] = 'nearest'\n",
    "mpl.rcParams['image.origin'] = 'lower'\n",
    "\n",
    "# Enable interactive plots\n",
    "# %matplotlib ipympl"
   ]
  },
  {
   "cell_type": "code",
   "execution_count": null,
   "id": "5d7ad905-b0ee-42bd-895f-2a011956750f",
   "metadata": {},
   "outputs": [],
   "source": [
    "def download_files(files_to_download):\n",
    "    \"\"\"Download a list of files from MAST.\n",
    "\n",
    "    Parameters\n",
    "    ----------\n",
    "    files_to_download : list\n",
    "        List of filenames\n",
    "    \"\"\"\n",
    "    for file in files_to_download:\n",
    "        # Check if the file already exists in the current working directory\n",
    "        if os.path.exists(file):\n",
    "            print(f\"File {file} already exists. Skipping download.\")\n",
    "            continue\n",
    "        cal_uri = f'mast:HLSP/ceers/nircam/{file}.gz'\n",
    "        Observations.download_file(cal_uri)\n",
    "        command = ['gunzip', file, '.gz']\n",
    "        subprocess.run(command, capture_output=True, text=True)"
   ]
  },
  {
   "cell_type": "markdown",
   "id": "dfd425f5-f1a4-456a-803b-1cb56c348e56",
   "metadata": {},
   "source": [
    "## Load Datasets"
   ]
  },
  {
   "cell_type": "markdown",
   "id": "8d246ed9-1efd-4280-9a45-a36687995732",
   "metadata": {
    "execution": {
     "iopub.execute_input": "2025-02-12T17:45:56.566799Z",
     "iopub.status.busy": "2025-02-12T17:45:56.566207Z",
     "iopub.status.idle": "2025-02-12T17:45:56.572547Z",
     "shell.execute_reply": "2025-02-12T17:45:56.571643Z",
     "shell.execute_reply.started": "2025-02-12T17:45:56.566759Z"
    }
   },
   "source": [
    "### Data Overview\n",
    "\n",
    "We will use 3 JWST/NIRCam images in the F115W, F200W, and F356W filters from the [Cosmic Evolution Early Release Science Survey (CEERS)](https://ceers.github.io/) survey.\n",
    "\n",
    "These are fully-calibration High-level Science Products (HLSPs) produced by the CEERS team of their [NIRCam 2 pointing](https://ceers.github.io/dr05.html) within the Extended Groth Strip (EGS) HST legacy field. The full CEERS data includes 7 NIRCam filters (F115W, F150W, F200W, F277W, F356W, F410M, F444W) plus MIRI and NIRSpec data. The NIRCam data were taken in parallel to prime NIRSpec observations.\n",
    "\n",
    "The images are pixel aligned and have a pixel scale of 30 mas/pixel."
   ]
  },
  {
   "cell_type": "code",
   "execution_count": null,
   "id": "b5d01df5-70ba-47b4-88b7-779139e3377d",
   "metadata": {},
   "outputs": [],
   "source": [
    "fn1 = 'hlsp_ceers_jwst_nircam_nircam2_f115w_v0.5_i2d.fits'\n",
    "fn2 = 'hlsp_ceers_jwst_nircam_nircam2_f200w_v0.5_i2d.fits'\n",
    "fn3 = 'hlsp_ceers_jwst_nircam_nircam2_f356w_v0.5_i2d.fits'"
   ]
  },
  {
   "cell_type": "code",
   "execution_count": null,
   "id": "ab0bde0c-7c55-4010-ab54-e93fc851f2c7",
   "metadata": {},
   "outputs": [],
   "source": [
    "download_files([fn1, fn2, fn3])"
   ]
  },
  {
   "cell_type": "markdown",
   "id": "db0b4cf5-a91c-4f95-9a2f-7a41dbb63ca4",
   "metadata": {},
   "source": [
    "Let's see what's in these files using the `fits.info()` function."
   ]
  },
  {
   "cell_type": "code",
   "execution_count": null,
   "id": "9a1c0bed-cbac-48a2-8b9c-87a3fac29a8d",
   "metadata": {},
   "outputs": [],
   "source": [
    "fits.info(fn1)"
   ]
  },
  {
   "cell_type": "markdown",
   "id": "7aeacd76-8c78-419f-ba28-03670acb5e54",
   "metadata": {},
   "source": [
    "Note that these files have extra extensions that are not in the pipeline-produced [i2d files](https://jwst-pipeline.readthedocs.io/en/latest/jwst/data_products/science_products.html#resampled-2-d-data-i2d-and-s2d) (e.g., SCI_BKSUB, BKGD, BKGMASK)"
   ]
  },
  {
   "cell_type": "markdown",
   "id": "caa69073-8058-4dbf-bbe0-5f107cfd0bd9",
   "metadata": {},
   "source": [
    "Let's load the NIRCam F115W image and display it."
   ]
  },
  {
   "cell_type": "code",
   "execution_count": null,
   "id": "5b168dac-0c39-4372-8642-73825826192e",
   "metadata": {},
   "outputs": [],
   "source": [
    "data = fits.getdata(fn1, ext=2)\n",
    "snorm = SimpleNorm('sqrt', percent=98)\n",
    "norm = snorm(data[data != 0])\n",
    "fig, ax = plt.subplots(figsize=(10, 5))\n",
    "_ = ax.imshow(data, norm=norm)"
   ]
  },
  {
   "cell_type": "markdown",
   "id": "1fe1e525-80a8-44d1-acd3-3848a1ca131d",
   "metadata": {},
   "source": [
    "There are 2 NIRCam modules (A & B), each with [4 NIRCam short-wavelength (SW) detectors](https://jwst-docs.stsci.edu/jwst-near-infrared-camera/nircam-observing-modes/nircam-imaging#gsc.tab=0).  All 8 SW detectors are 2k x 2k. There are also 2 2k x 2k long wavelength detectors, one covering each module. We see the SW detector gaps in each NIRCam module because these were parallel observations to NIRSpec prime observations. The prime observations had only very small dithers."
   ]
  },
  {
   "cell_type": "markdown",
   "id": "92ab9ceb-cca3-4119-976e-71352f33deaf",
   "metadata": {},
   "source": [
    "### Data Units"
   ]
  },
  {
   "cell_type": "markdown",
   "id": "a7dbabf8-8625-4d16-93b5-2b3af295e8c2",
   "metadata": {},
   "source": [
    "The JWST calibration pipeline produces images in units of MJy/sr. The unit is stored in the FITS header in the `BUNIT` key."
   ]
  },
  {
   "cell_type": "code",
   "execution_count": null,
   "id": "8bed8921-b036-4732-adfd-76c733fa5acf",
   "metadata": {},
   "outputs": [],
   "source": [
    "header = fits.getheader(fn1, ext=2)\n",
    "header['BUNIT']"
   ]
  },
  {
   "cell_type": "code",
   "execution_count": null,
   "id": "bbf54278-ece1-467d-beb0-e0c832318a57",
   "metadata": {},
   "outputs": [],
   "source": [
    "data_unit = u.Unit(header['BUNIT'])\n",
    "data_unit"
   ]
  },
  {
   "cell_type": "code",
   "execution_count": null,
   "id": "e0d30c22-9434-4482-854b-4bb64d0716cd",
   "metadata": {},
   "outputs": [],
   "source": [
    "# another way to create the unit\n",
    "u.MJy / u.sr"
   ]
  },
  {
   "cell_type": "markdown",
   "id": "802151bf-c3f5-44be-879d-4335b5837f32",
   "metadata": {},
   "source": [
    "The pixel area in steradians is stored in the FITS header in the `PIXAR_SR` key."
   ]
  },
  {
   "cell_type": "code",
   "execution_count": null,
   "id": "087b25d3-bd8c-4ecd-ab7f-f0375fd108d1",
   "metadata": {},
   "outputs": [],
   "source": [
    "header['PIXAR_SR']"
   ]
  },
  {
   "cell_type": "markdown",
   "id": "c66df5ec-d591-4250-a565-934a5e046307",
   "metadata": {},
   "source": [
    "Let's use Astropy units to calculate a scale factor to convert our original data in units of MJy/sr to μJy."
   ]
  },
  {
   "cell_type": "code",
   "execution_count": null,
   "id": "82a42164-2620-4b90-b295-63fa0915fd59",
   "metadata": {},
   "outputs": [],
   "source": [
    "unit = u.uJy\n",
    "unit_conv = ((1 * data_unit) * (header['PIXAR_SR'] * u.sr)).to(unit)\n",
    "unit_conv"
   ]
  },
  {
   "cell_type": "markdown",
   "id": "17b81fae-99dc-46be-91fe-8e0072dca8d7",
   "metadata": {},
   "source": [
    "### Load and Display the Data"
   ]
  },
  {
   "cell_type": "markdown",
   "id": "476d9e77-ffd2-4a6b-b1c2-b600699bf338",
   "metadata": {},
   "source": [
    "Let's load the data. We'll use only one of the NIRCam modules. We'll also convert the units from MJy/sr to μJy."
   ]
  },
  {
   "cell_type": "code",
   "execution_count": null,
   "id": "e5256ca2-58eb-4e0a-8941-7ed5a371db6a",
   "metadata": {},
   "outputs": [],
   "source": [
    "# define a tuple of slice objects to extract only 1 NIRCam module\n",
    "slc = (slice(1650, 6450), slice(0, 4700))\n",
    "\n",
    "\n",
    "def load_data(filename):\n",
    "    data = {}\n",
    "    with fits.open(filename) as hdul:\n",
    "        data['filter'] = filename.split('_')[6]\n",
    "        data['sci_bksub'] = hdul[1].data[slc]\n",
    "        data['sci'] = hdul[2].data[slc]\n",
    "        data['err'] = hdul[3].data[slc]\n",
    "        data['var_rnoise'] = hdul[7].data[slc]\n",
    "        data['wcs'] = WCS(hdul[1].header)[slc]\n",
    "\n",
    "        # convert the units in-place\n",
    "        data['sci_bksub'] *= unit_conv.value\n",
    "        data['sci_bksub'] <<= unit_conv.unit\n",
    "        data['sci'] *= unit_conv.value\n",
    "        data['sci'] <<= unit_conv.unit\n",
    "        data['err'] *= unit_conv.value\n",
    "        data['err'] <<= unit_conv.unit\n",
    "        data['var_rnoise'] *= unit_conv.value ** 2\n",
    "        data['var_rnoise'] <<= unit_conv.unit ** 2\n",
    "    return data\n",
    "\n",
    "\n",
    "f115w = load_data(fn1)\n",
    "f200w = load_data(fn2)\n",
    "f356w = load_data(fn3)\n",
    "data = (f115w, f200w, f356w)"
   ]
  },
  {
   "cell_type": "markdown",
   "id": "f042a991-42ef-4279-a499-4220f2b0d0c3",
   "metadata": {},
   "source": [
    "Let's display the images."
   ]
  },
  {
   "cell_type": "code",
   "execution_count": null,
   "id": "b9226b09-21bf-4c78-a821-d777b84f3d28",
   "metadata": {},
   "outputs": [],
   "source": [
    "snorm = SimpleNorm('sqrt', percent=98)\n",
    "norm = snorm(data[2]['sci'])\n",
    "\n",
    "nimg = len(data)\n",
    "fig, ax = plt.subplots(ncols=nimg, figsize=(12, 4), constrained_layout=True)\n",
    "for i in range(nimg):\n",
    "    ax[i].imshow(data[i]['sci'].value, norm=norm)\n",
    "    ax[i].set_title(data[i]['filter'].upper())"
   ]
  },
  {
   "cell_type": "markdown",
   "id": "dce21e7a-21f4-48df-b2f8-6534574ee4af",
   "metadata": {},
   "source": [
    "## Background Subtraction"
   ]
  },
  {
   "cell_type": "markdown",
   "id": "4410bf01-987b-4e31-b635-52810ec5e856",
   "metadata": {},
   "source": [
    "Let's plot the histograms of the pixel values near zero to see if there is any background pedestal. \n",
    "\n",
    "The CEERS team already subtracted a constant background value from each image."
   ]
  },
  {
   "cell_type": "code",
   "execution_count": null,
   "id": "77f0340b-8ae0-4915-bf8c-697d85947d24",
   "metadata": {},
   "outputs": [],
   "source": [
    "fig, ax = plt.subplots(ncols=3, figsize=(10, 4))\n",
    "\n",
    "for i in range(nimg):\n",
    "    vals = data[i]['sci'].value\n",
    "    vals = vals[vals != 0]\n",
    "    ax[i].hist(vals, bins=150, range=(-0.001, 0.001))\n",
    "    ax[i].set_title(data[i]['filter'].upper())\n",
    "    ax[i].axvline(0, color='red', ls='dotted')"
   ]
  },
  {
   "cell_type": "markdown",
   "id": "5c6f2435-a4a3-478d-b99e-59f3486929dc",
   "metadata": {},
   "source": [
    "### 2D Background Estimation"
   ]
  },
  {
   "cell_type": "markdown",
   "id": "124d2f88-73fb-4c09-92df-fa2630b5d041",
   "metadata": {},
   "source": [
    "To remove the varying residual background, we can use the `photutils` [Background2D](https://photutils.readthedocs.io/en/stable/api/photutils.background.Background2D.html) class.\n",
    "\n",
    "This class can be used to estimate a 2D background and background RMS noise in an image.\n",
    "\n",
    "The background is estimated using (sigma-clipped) statistics in each box of a grid that covers the input data to create a low-resolution background map.\n",
    "\n",
    "The final background map is calculated by interpolating the low-resolution background map."
   ]
  },
  {
   "cell_type": "markdown",
   "id": "7d9832f7-52ec-44fb-b2a2-c9c60743ceb0",
   "metadata": {},
   "source": [
    "#### Source Mask\n",
    "\n",
    "To get the best possible background estimate, we need to first create a mask of the sources in the image.\n",
    "\n",
    "Let's create a very rough source mask using a single threshold value. Here, we dilate the mask using a 45x45 pixel square footprint to include source wings in the mask."
   ]
  },
  {
   "cell_type": "code",
   "execution_count": null,
   "id": "6c11b215-8e5f-44a9-a799-2d9b72fd11f9",
   "metadata": {},
   "outputs": [],
   "source": [
    "mask = f115w['sci'].value > 0.001\n",
    "mask = grey_dilation(mask, size=45)\n",
    "\n",
    "fig, ax = plt.subplots()\n",
    "_ = ax.imshow(mask)"
   ]
  },
  {
   "cell_type": "markdown",
   "id": "59650403-9d88-44fd-bc5e-9f4f7b850cfe",
   "metadata": {},
   "source": [
    "#### Background2D"
   ]
  },
  {
   "cell_type": "code",
   "execution_count": null,
   "id": "ddb1b30f-3a6f-4f2d-8b03-505b1937ec63",
   "metadata": {},
   "outputs": [],
   "source": [
    "bkg_estimator = BiweightLocationBackground()\n",
    "bkgrms_estimator = BiweightScaleBackgroundRMS()\n",
    "coverage_mask = f115w['sci'] == 0\n",
    "bkg = Background2D(f115w['sci'], box_size=20, filter_size=5, exclude_percentile=90,\n",
    "                   bkg_estimator=bkg_estimator, bkgrms_estimator=bkgrms_estimator,\n",
    "                   coverage_mask=coverage_mask, mask=mask)\n",
    "bkgim = bkg.background"
   ]
  },
  {
   "cell_type": "code",
   "execution_count": null,
   "id": "d9a9d089-e88f-4fa9-8d0d-e217cbddf386",
   "metadata": {},
   "outputs": [],
   "source": [
    "fig, ax = plt.subplots(nrows=2, ncols=2, figsize=(8, 8))\n",
    "ax = ax.ravel()\n",
    "ax[0].imshow(f115w['sci'].value, norm=norm)\n",
    "ax[0].set_title('F115W Original')\n",
    "ax[1].imshow(bkgim.value, norm=norm)\n",
    "ax[1].set_title('F115W Background')\n",
    "ax[2].imshow((f115w['sci'] - bkgim).value, norm=norm)\n",
    "ax[2].set_title('F115W Background Subtracted')\n",
    "ax[3].imshow(f115w['sci_bksub'].value, norm=norm)\n",
    "_ = ax[3].set_title('F115W CEERS Background Subtracted')"
   ]
  },
  {
   "cell_type": "code",
   "execution_count": null,
   "id": "f12bc479-9a61-446d-a1e5-3179882302eb",
   "metadata": {},
   "outputs": [],
   "source": [
    "fits.info(fn1)"
   ]
  },
  {
   "cell_type": "markdown",
   "id": "6fb73803-469b-44f4-9485-b0be066f6ef2",
   "metadata": {},
   "source": [
    "Let's load the CEERS source mask and show a comparison."
   ]
  },
  {
   "cell_type": "code",
   "execution_count": null,
   "id": "f30cec33-61ff-45f8-a3cd-8849e84fe1e0",
   "metadata": {},
   "outputs": [],
   "source": [
    "ceers_bkgmask = fits.getdata(fn1, ext=10)[slc]"
   ]
  },
  {
   "cell_type": "code",
   "execution_count": null,
   "id": "e4609a0b-4c75-4ed2-a3c9-bf2adf87fe08",
   "metadata": {},
   "outputs": [],
   "source": [
    "fig, ax = plt.subplots(ncols=2, figsize=(10, 5))\n",
    "ax[0].imshow(mask)\n",
    "ax[0].set_title('Simple Source Mask')\n",
    "ax[1].imshow(ceers_bkgmask.astype(bool) ^ coverage_mask)\n",
    "_ = ax[1].set_title('CEERS Source Mask')"
   ]
  },
  {
   "cell_type": "markdown",
   "id": "64de1b1b-cdd3-4842-864d-76e808a23039",
   "metadata": {},
   "source": [
    "Let's compute the background again, but this time we'll use the CEERS source mask."
   ]
  },
  {
   "cell_type": "code",
   "execution_count": null,
   "id": "02f8d66b-f8b0-4055-9189-162b8146c316",
   "metadata": {},
   "outputs": [],
   "source": [
    "bkg = Background2D(f115w['sci'], box_size=10, filter_size=5,\n",
    "                   exclude_percentile=90, coverage_mask=coverage_mask, mask=ceers_bkgmask,\n",
    "                   bkg_estimator=bkg_estimator, bkgrms_estimator=bkgrms_estimator)\n",
    "bkgim = bkg.background\n",
    "\n",
    "fig, ax = plt.subplots(nrows=2, ncols=2, figsize=(8, 8))\n",
    "ax = ax.ravel()\n",
    "ax[0].imshow(f115w['sci'].value, norm=norm)\n",
    "ax[0].set_title('F115W Original')\n",
    "ax[1].imshow(bkgim.value, norm=norm)\n",
    "ax[1].set_title('F115W Background')\n",
    "ax[2].imshow((f115w['sci'] - bkgim).value, norm=norm)\n",
    "ax[2].set_title('F115W Background Subtracted')\n",
    "ax[3].imshow(f115w['sci_bksub'].value, norm=norm)\n",
    "_ = ax[3].set_title('F115W CEERS Background Subtracted')"
   ]
  },
  {
   "cell_type": "markdown",
   "id": "520efd31-29d2-466b-8297-43a0482fb142",
   "metadata": {},
   "source": [
    "See the [CEERS NIRCam GitHub repository](https://github.com/ceers/ceers-nircam) for the scripts used for making the source mask and performing background subtraction.\n",
    "\n",
    "We'll use the CEERS background-subtracted (`SCI_BKSUB`) images for the rest of this tutorial."
   ]
  },
  {
   "cell_type": "markdown",
   "id": "b3c775dc-4d19-4ff7-9387-7f5841781144",
   "metadata": {
    "execution": {
     "iopub.execute_input": "2025-02-15T20:45:34.246930Z",
     "iopub.status.busy": "2025-02-15T20:45:34.246059Z",
     "iopub.status.idle": "2025-02-15T20:45:34.254187Z",
     "shell.execute_reply": "2025-02-15T20:45:34.252762Z",
     "shell.execute_reply.started": "2025-02-15T20:45:34.246876Z"
    }
   },
   "source": [
    "## Aperture Photometry"
   ]
  },
  {
   "cell_type": "markdown",
   "id": "8c722673-c118-451b-8895-aaf1e524de91",
   "metadata": {},
   "source": [
    "Photutils provides circular, elliptical, and rectangular aperture shapes (plus annulus versions of each).\n",
    "\n",
    "Further, there are two types of aperture classes, defined either with pixel or sky (celestial) coordinates.\n",
    "\n",
    "These are the names of the [aperture classes](https://photutils.readthedocs.io/en/stable/user_guide/aperture.html#apertures) that are defined in pixel coordinates:\n",
    "\n",
    "* `CircularAperture`\n",
    "* `CircularAnnulus`\n",
    "\n",
    "* `EllipticalAperture`\n",
    "* `EllipticalAnnulus`\n",
    "\n",
    "* `RectangularAperture`\n",
    "* `RectangularAnnulus`\n",
    "\n",
    "The aperture classes defined in celestial coordinates have `Sky` prepended to their names:\n",
    "\n",
    "* `SkyCircularAperture`\n",
    "* `SkyCircularAnnulus`\n",
    "\n",
    "* `SkyEllipticalAperture`\n",
    "* `SkyEllipticalAnnulus`\n",
    "\n",
    "* `SkyRectangularAperture`\n",
    "* `SkyRectangularAnnulus`"
   ]
  },
  {
   "cell_type": "markdown",
   "id": "ef0d748e-54c7-4d95-9c91-98ab0477066a",
   "metadata": {},
   "source": [
    "### Define an Aperture Object"
   ]
  },
  {
   "cell_type": "markdown",
   "id": "c5071d2d-6ed8-4105-8733-752c0fc8615e",
   "metadata": {},
   "source": [
    "First, let's define a circular aperture at the two given (x, y) pixel positions and radius (in pixels).\n",
    "\n",
    "Photutils has many tools for detecting sources (e.g., see [photutils.detection](https://photutils.readthedocs.io/en/stable/user_guide/detection.html) and [photutils.segmentation](https://photutils.readthedocs.io/en/stable/user_guide/segmentation.html)) and measuring source positions (e.g., [photutils.centroids](https://photutils.readthedocs.io/en/stable/user_guide/centroids.html)). For this example, we'll use estimated values based on cursor positions."
   ]
  },
  {
   "cell_type": "code",
   "execution_count": null,
   "id": "8a5e891b-cbfe-474e-8530-2ce23304a746",
   "metadata": {},
   "outputs": [],
   "source": [
    "xypos = [(1262.9, 2781.4), (1285.9, 2939.3)]\n",
    "aper = CircularAperture(xypos, r=10)\n",
    "aper"
   ]
  },
  {
   "cell_type": "code",
   "execution_count": null,
   "id": "813d81de-cba4-4a89-819c-b1d67a86a4e0",
   "metadata": {},
   "outputs": [],
   "source": [
    "fig, ax = plt.subplots(figsize=(6, 6))\n",
    "ax.imshow(f115w['sci_bksub'].value, norm=norm)\n",
    "aper.plot(ax=ax, color='red')\n",
    "ax.set_xlim(1100, 1400)\n",
    "_ = ax.set_ylim(2700, 3000)"
   ]
  },
  {
   "cell_type": "markdown",
   "id": "98a6a927-7aac-44e5-b577-5a1ddd1c53da",
   "metadata": {},
   "source": [
    "### aperture_photometry function"
   ]
  },
  {
   "cell_type": "code",
   "execution_count": null,
   "id": "fbee239d-e343-4015-a128-9dea94c6c8c1",
   "metadata": {},
   "outputs": [],
   "source": [
    "phot = aperture_photometry(f200w['sci_bksub'], aper, error=f200w['err'], wcs=f200w['wcs'])\n",
    "phot"
   ]
  },
  {
   "cell_type": "code",
   "execution_count": null,
   "id": "2ff17490-f988-47d5-b202-23bfd0250d86",
   "metadata": {},
   "outputs": [],
   "source": [
    "phot['aperture_mag'] = phot['aperture_sum'].to(u.ABmag)\n",
    "phot"
   ]
  },
  {
   "cell_type": "markdown",
   "id": "c030c532-e04b-43a7-8cbf-f3b1d4f71807",
   "metadata": {},
   "source": [
    "#### Multiple positions and sizes"
   ]
  },
  {
   "cell_type": "markdown",
   "id": "be661eff-21f0-4d1d-8912-7a3e02e7e9a8",
   "metadata": {},
   "source": [
    "Multiple aperture objects can be input, **BUT** they must all have identical positions."
   ]
  },
  {
   "cell_type": "code",
   "execution_count": null,
   "id": "cc793bd3-9df7-471d-b220-da66d1990c20",
   "metadata": {},
   "outputs": [],
   "source": [
    "aper2 = CircularAperture(xypos, r=12)\n",
    "aperture_photometry(f200w['sci_bksub'], (aper, aper2), error=f200w['err'], wcs=f200w['wcs'])"
   ]
  },
  {
   "cell_type": "markdown",
   "id": "b6e61ff7-7c32-4472-89c6-788e5aa2f833",
   "metadata": {},
   "source": [
    "### ApertureStats class\n",
    "\n",
    "The `ApertureStats` calculates various statistics (including the sum) and properties using the pixels within the aperture.\n",
    "\n",
    "Only one aperture object can be input."
   ]
  },
  {
   "cell_type": "code",
   "execution_count": null,
   "id": "18099f90-4e97-45af-b347-c731b3bf1355",
   "metadata": {},
   "outputs": [],
   "source": [
    "apstats = ApertureStats(f200w['sci_bksub'], aper, error=f200w['err'], wcs=f200w['wcs'])\n",
    "apstats"
   ]
  },
  {
   "cell_type": "code",
   "execution_count": null,
   "id": "76d98dff-5e3e-488a-aeaa-10e18b1aa9bb",
   "metadata": {},
   "outputs": [],
   "source": [
    "stats_tbl = apstats.to_table()\n",
    "stats_tbl"
   ]
  },
  {
   "cell_type": "markdown",
   "id": "7c53b989-d1b3-4ef0-84e6-fb9c2195bd28",
   "metadata": {},
   "source": [
    "The aperture statistics can also be accessed as attributes, e.g.,:"
   ]
  },
  {
   "cell_type": "code",
   "execution_count": null,
   "id": "0db5c279-f707-47be-aa0c-64accef61758",
   "metadata": {},
   "outputs": [],
   "source": [
    "apstats.mean"
   ]
  },
  {
   "cell_type": "markdown",
   "id": "eaae3943-0b38-4af9-ba3c-f141ccb5c80e",
   "metadata": {},
   "source": [
    "Note that the returned measurements are for the input aperture position. `ApertureStats` returns the centroid value of the pixels within the input aperture, but the aperture is **not** recentered at the measured centroid position. However, you can create a new Aperture object using the measured centroid and then re-run `ApertureStats`."
   ]
  },
  {
   "cell_type": "markdown",
   "id": "aee4e57c-2495-4898-b295-d229cf7b3e17",
   "metadata": {},
   "source": [
    "### Sky-based apertures\n",
    "\n",
    "Sky-based apertures require an Astropy \n",
    "[SkyCoord](https://docs.astropy.org/en/stable/coordinates/index.html)\n",
    "position and a size as an Astropy [Quantity](https://docs.astropy.org/en/stable/units/index.html)\n",
    "in angular units.\n",
    "\n",
    "Sky apertures are not defined completely in sky coordinates. They simply use sky coordinates to define the central position, and the remaining parameters are converted to pixels using the pixel scale of the image at the central position. Projection distortions are not taken into account. They are not defined as apertures on the celestial sphere, but rather are meant to represent aperture shapes on an image. If the apertures were defined completely in sky coordinates, their shapes would not be preserved when converting to or from pixel coordinates."
   ]
  },
  {
   "cell_type": "code",
   "execution_count": null,
   "id": "b3b02fc5-b399-42d1-815a-3e53eb166f5f",
   "metadata": {},
   "outputs": [],
   "source": [
    "xypos = [(1262.9, 2781.4), (1285.9, 2939.3)]\n",
    "skycoord = f200w['wcs'].pixel_to_world(*np.transpose(xypos))\n",
    "skycoord"
   ]
  },
  {
   "cell_type": "code",
   "execution_count": null,
   "id": "bcf8265b-1c1e-4d17-bd30-0ad7f8121f02",
   "metadata": {},
   "outputs": [],
   "source": [
    "sky_aper = SkyCircularAperture(skycoord, r=0.3 * u.arcsec)\n",
    "sky_aper"
   ]
  },
  {
   "cell_type": "markdown",
   "id": "2dde1a4f-99c6-47cd-adf6-7fe1e45869ae",
   "metadata": {},
   "source": [
    "When performing aperture photometry with a Sky-based aperture, a WCS transformation must be input."
   ]
  },
  {
   "cell_type": "code",
   "execution_count": null,
   "id": "3066a39a-8dcb-4f1e-9bff-a60d780df432",
   "metadata": {},
   "outputs": [],
   "source": [
    "phot = aperture_photometry(f200w['sci_bksub'], sky_aper, error=f200w['err'], wcs=f200w['wcs'])\n",
    "phot"
   ]
  },
  {
   "cell_type": "markdown",
   "id": "3015b110-0eea-425f-be04-dc52ba112c89",
   "metadata": {},
   "source": [
    "# Creating a multiband segmentation-based catalog"
   ]
  },
  {
   "cell_type": "markdown",
   "id": "d2d2c6fa-3471-4404-ab20-2364832f525e",
   "metadata": {},
   "source": [
    "## Creating a Detection Image"
   ]
  },
  {
   "cell_type": "markdown",
   "id": "8166a7ec-3df7-45ab-878f-eae05bced76b",
   "metadata": {},
   "source": [
    "We are ready to detect sources in our multiband data, but which image do we use? Typically, that depends on your science use case. For example, perhaps you are interested in Lyman-break dropout galaxies, in which case a redder filter or filters is more appropriate. \n",
    "\n",
    "One other consideration is the varying PSF across our multiband data where the PSF is broader at redder-wavelengths (R ~ λ / D). One method to address this is to PSF match all the multiband data to a common PSF (usually the reddest band with the broadest PSF). A common technique is to generate a set of matching kernels that are then convolved with the images, blurring them all to the same resolution as the reddest band. See [Photutils PSF Matching](https://photutils.readthedocs.io/en/latest/user_guide/psf_matching.html) for tools to create matching kernels. We do not PSF match our multiband data in the examples that follow.\n",
    "\n",
    "In general, one should use a detection image with a high signal-to-noise ratio. A common case is to create a deep detection image by combining the images in several filters. We can do this by creating an inverse-variance weighted combination of images. For this example, we'll use all three filter images. The weights will be the inverse variance of the read noise (the read noise variance is in the `VAR_RNOISE` extension)."
   ]
  },
  {
   "cell_type": "code",
   "execution_count": null,
   "id": "0dfc7555-0ec7-4896-a611-54ab6ecbe2e9",
   "metadata": {},
   "outputs": [],
   "source": [
    "scis = [filt['sci_bksub'] for filt in data]\n",
    "whts = [1.0 / filt['var_rnoise'] for filt in data]\n",
    "detimg = np.multiply(scis, whts).sum(axis=0) / np.sum(whts, axis=0) << unit\n",
    "scis = None  # free memory\n",
    "whts = None"
   ]
  },
  {
   "cell_type": "code",
   "execution_count": null,
   "id": "93108192-fcb6-4c66-9f0a-0ecc34e55bfb",
   "metadata": {},
   "outputs": [],
   "source": [
    "fig, ax = plt.subplots(figsize=(6, 6))\n",
    "_ = ax.imshow(detimg.value, norm=norm)"
   ]
  },
  {
   "cell_type": "markdown",
   "id": "58d1d440-662d-47c0-841f-c0e0d90f08d3",
   "metadata": {
    "execution": {
     "iopub.execute_input": "2025-02-12T22:00:00.049305Z",
     "iopub.status.busy": "2025-02-12T22:00:00.048229Z",
     "iopub.status.idle": "2025-02-12T22:00:00.055483Z",
     "shell.execute_reply": "2025-02-12T22:00:00.054082Z",
     "shell.execute_reply.started": "2025-02-12T22:00:00.049257Z"
    }
   },
   "source": [
    "## Image Segmentation (Source Extraction)"
   ]
  },
  {
   "cell_type": "markdown",
   "id": "aa16f049-1a0d-46af-b89e-b9e5370904fd",
   "metadata": {},
   "source": [
    "Image segmentation is a process of assigning a label to every pixel in an image, such that pixels with the same label are part of the same source. Detected sources must have a minimum number of connected pixels that are each greater than a specified threshold value in an image.\n",
    "\n",
    "The threshold level is usually defined as a multiple of the background noise (sigma level) above the background. This can be specified either as a per-pixel threshold image or a single threshold value for the whole image.\n",
    "\n",
    "The image is often filtered before thresholding to smooth the noise and maximize the detectability of objects with a shape similar to the filter kernel."
   ]
  },
  {
   "cell_type": "markdown",
   "id": "9afac9fc-af9a-441b-8278-3e13b987c29f",
   "metadata": {},
   "source": [
    "Let’s convolve the background-subtracted detection image with a 2D Gaussian kernel with a FWHM of 3 pixels."
   ]
  },
  {
   "cell_type": "code",
   "execution_count": null,
   "id": "457cf428-4382-486e-abe3-4d776e10e675",
   "metadata": {},
   "outputs": [],
   "source": [
    "kernel_fwhm = 3.0\n",
    "kernel_size = int(kernel_fwhm * 2 + 1)\n",
    "kernel = make_2dgaussian_kernel(kernel_fwhm, size=kernel_size)\n",
    "detconv = convolve(detimg, kernel, mask=coverage_mask)"
   ]
  },
  {
   "cell_type": "code",
   "execution_count": null,
   "id": "053ff175-6816-49b9-847e-35f3dc759aa2",
   "metadata": {},
   "outputs": [],
   "source": [
    "coverage_mask = np.isnan(detimg)\n",
    "bkg = Background2D(detimg, box_size=10, filter_size=5,\n",
    "                   exclude_percentile=90, coverage_mask=coverage_mask, mask=ceers_bkgmask,\n",
    "                   bkg_estimator=bkg_estimator, bkgrms_estimator=bkgrms_estimator)\n",
    "bkgrms = bkg.background_rms"
   ]
  },
  {
   "cell_type": "code",
   "execution_count": null,
   "id": "ca0744b9-abf3-40be-908b-5f9f758b9fc5",
   "metadata": {},
   "outputs": [],
   "source": [
    "fig, ax = plt.subplots(ncols=2, figsize=(12, 6))\n",
    "ax[0].imshow(detconv.value, norm=norm)\n",
    "norm2 = simple_norm(bkgrms, 'sqrt', percent=99)\n",
    "_ = ax[1].imshow(bkgrms.value, norm=norm2)"
   ]
  },
  {
   "cell_type": "markdown",
   "id": "0fe6d499-5c37-43f2-9624-bfb49b2f3143",
   "metadata": {},
   "source": [
    "Next, we need to define the detection threshold. In this example, we’ll define a 2D detection threshold image using the background RMS image calculated above. We set the threshold at the 4.0$\\sigma$ (per pixel) noise level (above the background)."
   ]
  },
  {
   "cell_type": "code",
   "execution_count": null,
   "id": "279c70ab-d490-4c69-9a0d-6b7d0662d7c4",
   "metadata": {},
   "outputs": [],
   "source": [
    "threshold = bkgrms * 4.0\n",
    "np.median(threshold)"
   ]
  },
  {
   "cell_type": "markdown",
   "id": "5783e228-4adb-4a42-83da-9eb68980ee8b",
   "metadata": {},
   "source": [
    "Now we are ready to detect the sources in the background-subtracted convolved image. Let’s find sources that have at least 25 connected pixels that are each greater than the corresponding threshold level defined above. For this, we use the [detect_sources](https://photutils.readthedocs.io/en/stable/api/photutils.segmentation.detect_sources.html) function."
   ]
  },
  {
   "cell_type": "code",
   "execution_count": null,
   "id": "8aaad633-e004-4614-ac2e-fdae40547400",
   "metadata": {},
   "outputs": [],
   "source": [
    "mask = np.isnan(detimg)\n",
    "npixels = 25\n",
    "segm = detect_sources(detconv, threshold, npixels=npixels, mask=mask)\n",
    "segm"
   ]
  },
  {
   "cell_type": "markdown",
   "id": "5e86317a-1644-4d87-a5f2-4f909897c256",
   "metadata": {},
   "source": [
    "The result is a segmentation image ([SegmentationImage](https://photutils.readthedocs.io/en/stable/api/photutils.segmentation.SegmentationImage.html) object).  The segmentation image is an array with the same size as the science image, in which each detected source is labeled with a unique integer value (>= 1).  Background pixels have a value of 0.  As a simple example, a segmentation map containing two distinct sources (labeled 1 and 2) might look like this:\n",
    "\n",
    "```\n",
    "0 0 0 0 0 0 0 0 0 0\n",
    "0 1 1 0 0 0 0 0 0 0\n",
    "1 1 1 1 1 0 0 0 2 0\n",
    "1 1 1 1 0 0 0 2 2 2\n",
    "1 1 1 0 0 0 2 2 2 2\n",
    "1 1 1 1 0 0 0 2 2 0\n",
    "1 1 0 0 0 0 2 2 0 0\n",
    "0 1 0 0 0 0 2 0 0 0\n",
    "0 0 0 0 0 0 0 0 0 0\n",
    "```\n",
    "where all the pixels labeled `1` belong to the first source, all those labeled `2` belong to the second, and all those labeled `0` are background pixels.\n",
    "\n",
    "Let's plot the segmentation image."
   ]
  },
  {
   "cell_type": "code",
   "execution_count": null,
   "id": "da639b81-2bfa-4468-bb95-78ab1b7270f8",
   "metadata": {},
   "outputs": [],
   "source": [
    "fig, ax = plt.subplots(figsize=(8, 8))\n",
    "_ = segm.imshow(ax=ax)"
   ]
  },
  {
   "cell_type": "markdown",
   "id": "37413be6-db62-4706-8887-7d83dc9a29f5",
   "metadata": {},
   "source": [
    "Let's plot the segmentation image next to the science image."
   ]
  },
  {
   "cell_type": "code",
   "execution_count": null,
   "id": "f96faf65-b5f4-43b3-97f4-36e27afd7b91",
   "metadata": {},
   "outputs": [],
   "source": [
    "# switch to interactive plots\n",
    "%matplotlib widget"
   ]
  },
  {
   "cell_type": "code",
   "execution_count": null,
   "id": "971e0a34-3573-4538-a621-fc6ba71eee0e",
   "metadata": {},
   "outputs": [],
   "source": [
    "fig, ax = plt.subplots(ncols=2, figsize=(12, 6), sharex=True, sharey=True)\n",
    "ax[0].imshow(detconv.value, norm=norm)\n",
    "ax[0].set_title('Detection Image')\n",
    "segm.imshow(ax=ax[1])\n",
    "_ = ax[1].set_title('Segmentation Image')"
   ]
  },
  {
   "cell_type": "markdown",
   "id": "6f5f7a81-baf6-4ef3-8207-f70a218f8638",
   "metadata": {},
   "source": [
    "We can use the `plot_patches` `SegmentationImage` method to plot the segmentation outlines on the science image.\n",
    "\n",
    "This is a good way to inspect the source extraction. The source detection parameters (e.g., `threshold`, `npixels`) can be adjusted as needed."
   ]
  },
  {
   "cell_type": "code",
   "execution_count": null,
   "id": "b752bcfe-872d-4c94-996d-4cc89a5ef8b0",
   "metadata": {},
   "outputs": [],
   "source": [
    "fig, ax = plt.subplots(figsize=(8, 8))\n",
    "ax.imshow(detimg.value, norm=norm)\n",
    "_ = segm.plot_patches(ax=ax)"
   ]
  },
  {
   "cell_type": "markdown",
   "id": "a240adb7-55e5-402c-b761-c0b691dfcd44",
   "metadata": {},
   "source": [
    "The `SegmentationImage` object has attributes that can give various properties of the source segments."
   ]
  },
  {
   "cell_type": "code",
   "execution_count": null,
   "id": "9a85ee1e-b4dc-4ee8-bfa0-b1a28656a154",
   "metadata": {},
   "outputs": [],
   "source": [
    "star_label = segm.data[3852, 612]\n",
    "idx = segm.get_index(label=star_label)\n",
    "sobj = segm.segments[idx]\n",
    "sobj.area, sobj.bbox, sobj.slices"
   ]
  },
  {
   "cell_type": "code",
   "execution_count": null,
   "id": "4442e3b0-298e-4604-863a-2beede5a7aee",
   "metadata": {},
   "outputs": [],
   "source": [
    "sobj.polygon"
   ]
  },
  {
   "cell_type": "markdown",
   "id": "c30cfdea-86fa-4da8-b5a6-6216641e60a5",
   "metadata": {},
   "source": [
    "## Source deblending"
   ]
  },
  {
   "cell_type": "markdown",
   "id": "d13d12b4-bfcb-49be-a463-5fa01d610067",
   "metadata": {},
   "source": [
    "Comparing the data array with the segmentation image, we see that several detected sources were blended together.  We can deblend them using the [deblend_sources](https://photutils.readthedocs.io/en/stable/api/photutils.segmentation.deblend_sources.html) function, which uses a combination of multi-thresholding and [watershed](https://en.wikipedia.org/wiki/Watershed_(image_processing)) segmentation.\n",
    "\n",
    "The deblending can be controlled with the `deblend_sources` keywords:\n",
    "\n",
    "- `nlevels` is the number of multi-thresholding levels to use; larger values give more deblending, but longer runtime\n",
    "- `contrast` is the fraction (0 - 1) of the total source flux that a local peak must have to be considered as a separate object\n",
    "    - `contrast = 1`: no deblending\n",
    "    - `contrast = 0`: max deblending\n",
    "- `mode` is the mode used in defining the spacing of the `nlevels` (`‘exponential’, ‘linear’, ‘sinh’`)\n",
    "\n",
    "The `npixels` and `connectivity` values should match those used in `detect_sources`."
   ]
  },
  {
   "cell_type": "code",
   "execution_count": null,
   "id": "3890e960-3987-4bca-af3a-a25ca9bd601b",
   "metadata": {},
   "outputs": [],
   "source": [
    "npixels2 = 9\n",
    "segm_deblended = deblend_sources(detconv, segm, npixels=npixels2, progress_bar=True)"
   ]
  },
  {
   "cell_type": "code",
   "execution_count": null,
   "id": "c2a956c5-0c79-4ae9-9a3d-8390ee908052",
   "metadata": {},
   "outputs": [],
   "source": [
    "segm.nlabels, segm_deblended.nlabels, segm_deblended"
   ]
  },
  {
   "cell_type": "code",
   "execution_count": null,
   "id": "23edd295-162f-47c2-9130-37845240fa16",
   "metadata": {},
   "outputs": [],
   "source": [
    "fig, ax = plt.subplots(ncols=2, figsize=(12, 6), sharex=True, sharey=True)\n",
    "segm.imshow(ax=ax[0])\n",
    "ax[0].set_title('Original Segmentation Image')\n",
    "segm_deblended.imshow(ax=ax[1])\n",
    "_ = ax[1].set_title('Deblended Segmentation Image')"
   ]
  },
  {
   "cell_type": "code",
   "execution_count": null,
   "id": "b3a69298-20c7-4d6d-9b9b-c12a72f74392",
   "metadata": {},
   "outputs": [],
   "source": [
    "label = segm.data[1597, 3877]\n",
    "idx = segm.get_index(label=label)\n",
    "slc2 = segm.slices[idx]\n",
    "\n",
    "fig, ax = plt.subplots(ncols=2, nrows=2, figsize=(10, 6))\n",
    "ax = ax.ravel()\n",
    "norm3 = simple_norm(detconv[slc2], 'sqrt', percent=98)\n",
    "ax[0].imshow(detconv[slc2].value, norm=norm3)\n",
    "ax[0].set_title('Detection Image')\n",
    "segm[slc2].imshow(ax=ax[1])\n",
    "ax[1].set_title('Segmentation Image')\n",
    "segm_deblended[slc2].imshow(ax=ax[2])\n",
    "ax[2].set_title('Deblended Segmentation Image')\n",
    "ax[3].imshow(detimg[slc2].value, norm=norm3)\n",
    "_ = segm_deblended[slc2].imshow(ax=ax[3], alpha=0.2)"
   ]
  },
  {
   "cell_type": "code",
   "execution_count": null,
   "id": "1cd43ec9-5e1e-4f3d-98b1-4aa0ad623e3e",
   "metadata": {},
   "outputs": [],
   "source": [
    "child_labels = segm_deblended.deblended_labels_inverse_map[label]\n",
    "child_labels"
   ]
  },
  {
   "cell_type": "code",
   "execution_count": null,
   "id": "8465bda5-f455-427e-82ba-4f81e82e88c2",
   "metadata": {},
   "outputs": [],
   "source": [
    "segm_deblended.deblended_labels_map[child_labels[0]]"
   ]
  },
  {
   "cell_type": "markdown",
   "id": "2d8acc8a-914d-4957-8c6c-37dae44bbfd3",
   "metadata": {},
   "source": [
    "## Modifying a Segmentation Image"
   ]
  },
  {
   "cell_type": "markdown",
   "id": "611746d7-6c9c-48cc-9c34-cb34572fb1ca",
   "metadata": {},
   "source": [
    "The `SegmentationImage` object provides several methods that can be used to modify itself (e.g., combining labels, removing labels, removing border segments) prior to measuring source photometry and other source properties, including:\n",
    "\n",
    "* `reassign_labels`: Reassign one or more label numbers.\n",
    "\n",
    "* `relabel_consecutive`: Reassign the label numbers consecutively, such that there are no missing label numbers.\n",
    "\n",
    "* `keep_labels`: Keep only the specified labels.\n",
    "\n",
    "* `remove_labels`: Remove one or more labels.\n",
    "\n",
    "* `remove_border_labels`: Remove labeled segments near the image border.\n",
    "\n",
    "* `remove_masked_labels`: Remove labeled segments located within a masked region."
   ]
  },
  {
   "cell_type": "markdown",
   "id": "8da95a48-0638-4bfe-9755-fbf3dcabeeb2",
   "metadata": {},
   "source": [
    "Let's combine the deblended segments of the bright star."
   ]
  },
  {
   "cell_type": "code",
   "execution_count": null,
   "id": "d98293f8-db59-44e0-bde4-e1ed7d1bafaf",
   "metadata": {},
   "outputs": [],
   "source": [
    "star_label = segm.data[3852, 612]\n",
    "child_labels = segm_deblended.deblended_labels_inverse_map[star_label]\n",
    "child_labels"
   ]
  },
  {
   "cell_type": "markdown",
   "id": "a6993c86-860a-4893-a612-92ae2d270cf0",
   "metadata": {},
   "source": [
    "But, we'll exclude the labels which are galaxies."
   ]
  },
  {
   "cell_type": "code",
   "execution_count": null,
   "id": "a298a674-5731-45d3-a55e-bd093398c11f",
   "metadata": {},
   "outputs": [],
   "source": [
    "xy_exclude = ((462, 4059), (495, 3770), (807, 4100), (1110, 4270))\n",
    "x_exclude, y_exclude = np.transpose(xy_exclude)\n",
    "exclude_labels = segm_deblended.data[y_exclude, x_exclude]\n",
    "exclude_labels"
   ]
  },
  {
   "cell_type": "code",
   "execution_count": null,
   "id": "40c0d1a7-0d3c-4aea-a3ea-cfeff38917fa",
   "metadata": {},
   "outputs": [],
   "source": [
    "keep_labels = np.setdiff1d(child_labels, exclude_labels)\n",
    "keep_labels"
   ]
  },
  {
   "cell_type": "code",
   "execution_count": null,
   "id": "9383b558-ca27-4768-b0f4-37a9673a007f",
   "metadata": {},
   "outputs": [],
   "source": [
    "segm_deblended.reassign_labels(keep_labels, keep_labels[0])\n",
    "fig, ax = plt.subplots(ncols=2, figsize=(12, 6), sharex=True, sharey=True)\n",
    "segm.imshow(ax=ax[0])\n",
    "ax[0].set_title('Original Segmentation Image')\n",
    "segm_deblended.imshow(ax=ax[1])\n",
    "_ = ax[1].set_title('Deblended Segmentation Image')"
   ]
  },
  {
   "cell_type": "markdown",
   "id": "b0ddc706-57d1-48a0-aa27-3cbd7b17ee99",
   "metadata": {},
   "source": [
    "Let's use the `remove_label` method to remove the bright star from the segmentation image."
   ]
  },
  {
   "cell_type": "code",
   "execution_count": null,
   "id": "c2b6b081-a470-4b20-a6a4-a42ce4ba0bc9",
   "metadata": {},
   "outputs": [],
   "source": [
    "segm_deblended.remove_label(keep_labels[0])\n",
    "_ = segm_deblended.imshow(figsize=(8, 8))"
   ]
  },
  {
   "cell_type": "markdown",
   "id": "7ed8c81e-2692-4c3b-826a-a2257cc03385",
   "metadata": {},
   "source": [
    "When we combined and then removed segments, our segment labels are no longer consecutive."
   ]
  },
  {
   "cell_type": "code",
   "execution_count": null,
   "id": "fb254909-af97-4b75-8680-fca17128ef8a",
   "metadata": {},
   "outputs": [],
   "source": [
    "segm_deblended"
   ]
  },
  {
   "cell_type": "code",
   "execution_count": null,
   "id": "1223ad79-68ca-40ee-a70f-83ed184d1e2a",
   "metadata": {},
   "outputs": [],
   "source": [
    "segm_deblended.is_consecutive"
   ]
  },
  {
   "cell_type": "code",
   "execution_count": null,
   "id": "8b2e312f-4a2c-4eb4-81a2-c16f5fa97eb9",
   "metadata": {},
   "outputs": [],
   "source": [
    "segm_deblended.missing_labels"
   ]
  },
  {
   "cell_type": "code",
   "execution_count": null,
   "id": "76d7f847-e68b-4058-840b-c90b41df9fae",
   "metadata": {},
   "outputs": [],
   "source": [
    "segm_deblended.relabel_consecutive()\n",
    "segm_deblended.is_consecutive"
   ]
  },
  {
   "cell_type": "code",
   "execution_count": null,
   "id": "affe8651-08cd-4649-a3b3-097748f31cb1",
   "metadata": {},
   "outputs": [],
   "source": [
    "segm_deblended"
   ]
  },
  {
   "cell_type": "markdown",
   "id": "3eeac831-e9e3-4eb1-aad5-cc542e7f20f9",
   "metadata": {},
   "source": [
    "## SourceFinder class"
   ]
  },
  {
   "cell_type": "markdown",
   "id": "9004011d-e6c2-4790-bed4-e9f18d94f2df",
   "metadata": {},
   "source": [
    "The `SourceFinder` class is a convenience class that combines the functionality of `detect_sources` and `deblend_sources`. After defining the `SourceFinder` object with the desired detection and deblending parameters, you call it with the background-subtracted (convolved) image and threshold."
   ]
  },
  {
   "cell_type": "code",
   "execution_count": null,
   "id": "a729220c-537c-4f56-83c5-9accdb17e242",
   "metadata": {},
   "outputs": [],
   "source": [
    "# finder = SourceFinder(npixels=(npixels, npixels2), deblend=True, progress_bar=True)\n",
    "# segment_map = finder(detconv, threshold, mask=mask)"
   ]
  },
  {
   "cell_type": "markdown",
   "id": "479e8cd2-72ec-40a9-87f1-c0d0d7602573",
   "metadata": {},
   "source": [
    "## Source Catalog: Photometry, Centroids, and Shape Properties"
   ]
  },
  {
   "cell_type": "markdown",
   "id": "368081d0-1289-4b12-8ae4-f43a6c07a9fb",
   "metadata": {},
   "source": [
    "The [SourceCatalog](https://photutils.readthedocs.io/en/stable/api/photutils.segmentation.SourceCatalog.html) class is used to measure the photometry, centroids, and shape/morphological properties of sources defined in a segmentation image. In its most basic form, it takes as input the (background-subtracted) image and the segmentation image. Usually the convolved image is also input, from which the source centroids and shape/morphological properties are measured (if not input, the unconvolved image is used instead).\n",
    "\n",
    "First, we create a catalog from the detection image."
   ]
  },
  {
   "cell_type": "code",
   "execution_count": null,
   "id": "2f18ea16-5db7-44da-b24a-05f8095e8479",
   "metadata": {},
   "outputs": [],
   "source": [
    "det_cat = SourceCatalog(detimg, segm_deblended, convolved_data=detconv, wcs=f356w['wcs'])\n",
    "det_cat"
   ]
  },
  {
   "cell_type": "markdown",
   "id": "ad7e4332-ed05-4657-aa47-dae9a9fab345",
   "metadata": {},
   "source": [
    "Our `det_cat` variable is a `SourceCatalog` object for the detection image.\n",
    "\n",
    "The properties of each source can be accessed using `SourceCatalog` attributes, or they can be output to an Astropy `QTable` using the `to_table` method.\n",
    "\n",
    "Please see the [SourceCatalog documentation](https://photutils.readthedocs.io/en/stable/api/photutils.segmentation.SourceCatalog.html) for a complete list of the available source properties."
   ]
  },
  {
   "cell_type": "markdown",
   "id": "68e746ce-f7ed-4c44-ba5a-a4f691861476",
   "metadata": {},
   "source": [
    "The `to_table` method is used to create a table of source measurements. The output is an Astropy `QTable`.\n",
    "\n",
    "Each row in the table represents a source. The columns represent the calculated source properties. The `label` column corresponds to the label value in the input segmentation image."
   ]
  },
  {
   "cell_type": "code",
   "execution_count": null,
   "id": "3d8b21b7-f068-4757-bce8-3ec09dbd4590",
   "metadata": {},
   "outputs": [],
   "source": [
    "det_tbl = det_cat.to_table()\n",
    "det_tbl"
   ]
  },
  {
   "cell_type": "markdown",
   "id": "9be8624a-f678-4e97-a152-cd8274018021",
   "metadata": {},
   "source": [
    "The output columns can be customized using the optional `columns` keyword."
   ]
  },
  {
   "cell_type": "code",
   "execution_count": null,
   "id": "96db03b4-4b6d-42e9-97dc-046122f86c27",
   "metadata": {},
   "outputs": [],
   "source": [
    "columns = ('label', 'xcentroid', 'ycentroid', 'area', 'segment_flux', 'kron_flux')\n",
    "det_tbl2 = det_cat.to_table(columns=columns)\n",
    "det_tbl2"
   ]
  },
  {
   "cell_type": "markdown",
   "id": "2b82a71a-36e5-4695-aab3-91d16c1e0b79",
   "metadata": {},
   "source": [
    "Here, we access a few of the source properties as attributes of the `SourceCatalog` object. These get returned as NumPy arrays or Astropy objects (e.g., `SkyCoord`, `Quantity`)."
   ]
  },
  {
   "cell_type": "code",
   "execution_count": null,
   "id": "6a96e35f-f6e3-4fbf-8285-9771969ba09d",
   "metadata": {},
   "outputs": [],
   "source": [
    "det_cat.xcentroid, det_cat.sky_centroid, det_cat.segment_flux, det_cat.orientation"
   ]
  },
  {
   "cell_type": "markdown",
   "id": "88ebf63a-e907-462a-ab81-a31ca4c4f03e",
   "metadata": {},
   "source": [
    "## Multiband Catalog"
   ]
  },
  {
   "cell_type": "markdown",
   "id": "78899818-fc4e-43a1-b32b-21ed2f415a4a",
   "metadata": {},
   "source": [
    "Now let's perform the photometry on each of the filter images.  We pass in the science and (total) error array for each band, plus the segmentation image and the detection catalog `SourceCatalog` object created above. We need to input the detection catalog to ensure that the aperture centroids (and shapes for Kron apertures) are the same for all the bands."
   ]
  },
  {
   "cell_type": "code",
   "execution_count": null,
   "id": "99d3b0da-dee0-4ebf-b85d-415d8aa7afa2",
   "metadata": {},
   "outputs": [],
   "source": [
    "f115w_cat = SourceCatalog(f115w['sci_bksub'], segm_deblended, error=f115w['err'], detection_cat=det_cat)\n",
    "f200w_cat = SourceCatalog(f200w['sci_bksub'], segm_deblended, error=f200w['err'], detection_cat=det_cat)\n",
    "f356w_cat = SourceCatalog(f356w['sci_bksub'], segm_deblended, error=f356w['err'], detection_cat=det_cat)"
   ]
  },
  {
   "cell_type": "markdown",
   "id": "f4112ea9-ca8a-43b6-be0e-d7821f5ba1d2",
   "metadata": {},
   "source": [
    "By default, the `SourceCatalog` class computes only \"segment\" (isophotal) photometry and Kron (elliptical aperture) photometry.\n",
    "We can also compute circular aperture photometry at various radii using the `circular_photometry` method."
   ]
  },
  {
   "cell_type": "code",
   "execution_count": null,
   "id": "f36fc567-630c-4f53-8674-2d486f78037f",
   "metadata": {},
   "outputs": [],
   "source": [
    "f115w_cat.circular_photometry(radius=5, name='circ_rad5')\n",
    "f115w_cat.circular_photometry(radius=10, name='circ_rad10')\n",
    "f200w_cat.circular_photometry(radius=5, name='circ_rad5')\n",
    "f200w_cat.circular_photometry(radius=10, name='circ_rad10')\n",
    "f356w_cat.circular_photometry(radius=5, name='circ_rad5')\n",
    "_ = f356w_cat.circular_photometry(radius=10, name='circ_rad10')"
   ]
  },
  {
   "cell_type": "code",
   "execution_count": null,
   "id": "ed64730d-3718-4bf0-82ae-4e1f925c4300",
   "metadata": {},
   "outputs": [],
   "source": [
    "columns = ['segment_flux', 'segment_fluxerr', 'kron_flux', 'kron_fluxerr', \n",
    "           'circ_rad5_flux', 'circ_rad5_fluxerr', 'circ_rad10_flux', 'circ_rad10_fluxerr']\n",
    "f115w_tbl = f115w_cat.to_table(columns=columns)\n",
    "f200w_tbl = f200w_cat.to_table(columns=columns)\n",
    "f356w_tbl = f356w_cat.to_table(columns=columns)"
   ]
  },
  {
   "cell_type": "code",
   "execution_count": null,
   "id": "02b69554-fbf2-4ab1-94e3-c20a28e230f1",
   "metadata": {},
   "outputs": [],
   "source": [
    "def add_magnitudes(tbl):\n",
    "    for col in tbl.colnames:\n",
    "        if col.endswith('flux'):\n",
    "            fluxerr_col = col.replace('flux', 'fluxerr')\n",
    "            flux = tbl[col]\n",
    "            fluxerr = tbl[fluxerr_col]\n",
    "\n",
    "            mag = -2.5 * np.log10(flux.value) + 23.9\n",
    "            magerr = -2.5 * np.log10(1.0 + (flux / fluxerr))\n",
    "\n",
    "            # set negative flux to the 2-sigma upper limit\n",
    "            idx = flux.value <= 0\n",
    "            mag[idx] = -2.5 * np.log10(2.0 * fluxerr[idx].value) + 23.9\n",
    "            magerr[idx] = np.nan\n",
    "\n",
    "            magcol = col.replace('flux', 'mag')\n",
    "            magerrcol = f'{magcol}err'\n",
    "            tbl[magcol] = mag * u.mag\n",
    "            tbl[magerrcol] = magerr * u.mag\n",
    "    return tbl\n",
    "\n",
    "\n",
    "f115w_tbl = add_magnitudes(f115w_tbl)\n",
    "f200w_tbl = add_magnitudes(f200w_tbl)\n",
    "f356w_tbl = add_magnitudes(f356w_tbl)"
   ]
  },
  {
   "cell_type": "code",
   "execution_count": null,
   "id": "9f50a8cf-8458-4eb0-9c73-c70af01bc670",
   "metadata": {},
   "outputs": [],
   "source": [
    "def prefix_flux_columns(tbl, prefix):\n",
    "    for col in tbl.colnames:\n",
    "        if col != 'label':\n",
    "            tbl.rename_column(col, f'{prefix}_{col}')\n",
    "    return tbl\n",
    "\n",
    "\n",
    "f115w_tbl = prefix_flux_columns(f115w_tbl, 'f115w')\n",
    "f200w_tbl = prefix_flux_columns(f200w_tbl, 'f200w')\n",
    "f356w_tbl = prefix_flux_columns(f356w_tbl, 'f356w')"
   ]
  },
  {
   "cell_type": "code",
   "execution_count": null,
   "id": "e14c5e84-a335-4b12-983b-a5aa19a699b4",
   "metadata": {},
   "outputs": [],
   "source": [
    "f115w_tbl"
   ]
  },
  {
   "cell_type": "markdown",
   "id": "b7c33ca6-775a-4baa-b519-4fa1d34a456d",
   "metadata": {},
   "source": [
    "Now let's combine the detection and filter tables into one main table."
   ]
  },
  {
   "cell_type": "code",
   "execution_count": null,
   "id": "a89795b7-840f-4b41-b1b1-4ab160ac3eac",
   "metadata": {},
   "outputs": [],
   "source": [
    "det_columns = det_tbl.colnames[:-7]  # trim some columns\n",
    "main_tbl = det_cat.to_table(det_columns)\n",
    "main_tbl"
   ]
  },
  {
   "cell_type": "code",
   "execution_count": null,
   "id": "3b19925e-161e-43f7-a6ff-7b4ef7acde79",
   "metadata": {},
   "outputs": [],
   "source": [
    "mult_tbl = hstack((main_tbl, f115w_tbl, f200w_tbl, f356w_tbl), metadata_conflicts='silent')\n",
    "mult_tbl"
   ]
  },
  {
   "cell_type": "code",
   "execution_count": null,
   "id": "7598f2ef-7099-4971-b6a7-1c01a3d5f869",
   "metadata": {},
   "outputs": [],
   "source": [
    "len(mult_tbl.colnames), mult_tbl.colnames"
   ]
  },
  {
   "cell_type": "markdown",
   "id": "f0459e32-6fb0-44e6-b691-fb9fb8ba5a2d",
   "metadata": {},
   "source": [
    "Let's create a copy of our source table where we included the largest 500 sources."
   ]
  },
  {
   "cell_type": "code",
   "execution_count": null,
   "id": "2ece906f-1335-4ea4-b2d3-e5a16422773e",
   "metadata": {},
   "outputs": [],
   "source": [
    "tmp_tbl = mult_tbl.copy()\n",
    "tmp_tbl.sort(keys='area', reverse=True)  # sort by decreasing area"
   ]
  },
  {
   "cell_type": "code",
   "execution_count": null,
   "id": "effa34fa-4917-4956-a14c-3dfc554b129a",
   "metadata": {},
   "outputs": [],
   "source": [
    "tmp_tbl = tmp_tbl[0:500]  # select first 500 sources\n",
    "tmp_tbl"
   ]
  },
  {
   "cell_type": "markdown",
   "id": "69a423f3-013b-4938-be7b-59e19c49fc6d",
   "metadata": {},
   "source": [
    "Let's save our source catalog table to an [Astropy ECSV](https://docs.astropy.org/en/stable/io/ascii/ecsv.html) file. The ECSV format is the recommended way to store Table data in a human-readable ASCII file.\n",
    "\n",
    "We'll use this file later in the `Imviz` tutorial."
   ]
  },
  {
   "cell_type": "code",
   "execution_count": null,
   "id": "25e3f0e0-f820-4ff3-9d45-f578fb98d7cf",
   "metadata": {},
   "outputs": [],
   "source": [
    "tmp_tbl.write('photutils_cat.ecsv', overwrite=True)"
   ]
  },
  {
   "cell_type": "markdown",
   "id": "f8751378-3773-4e23-947a-8cc1c3eee46d",
   "metadata": {},
   "source": [
    "## Photometry types"
   ]
  },
  {
   "cell_type": "markdown",
   "id": "78655757-e090-4bef-80e9-175fa4f95e88",
   "metadata": {},
   "source": [
    "### Segment fluxes (aka \"Isophotal Fluxes\")"
   ]
  },
  {
   "cell_type": "markdown",
   "id": "130b3741-d88a-48ef-9b1d-99a83a05bacf",
   "metadata": {},
   "source": [
    "The segment fluxes are simply the sources fluxes measured using the pixels within the source segments. \n",
    "\n",
    "This is sometimes referred to as \"isophotal flux\" because source segments were defined as the pixels above a threshold flux level (i.e. isophote)."
   ]
  },
  {
   "cell_type": "code",
   "execution_count": null,
   "id": "b190b36e-92ef-408a-a5d7-456a115450be",
   "metadata": {},
   "outputs": [],
   "source": [
    "label = segm_deblended.data[1130, 3780]\n",
    "idx = segm_deblended.get_index(label)\n",
    "segm_deblended.polygons[idx]"
   ]
  },
  {
   "cell_type": "code",
   "execution_count": null,
   "id": "a741eefe-e638-4b95-96e3-abff829e01d4",
   "metadata": {},
   "outputs": [],
   "source": [
    "fig, ax = plt.subplots(ncols=4, figsize=(12, 3))\n",
    "norm3 = simple_norm(f200w_cat.data[idx].value, 'sqrt', percent=98)\n",
    "ax[0].imshow(f200w_cat.data[idx].value, norm=norm3)\n",
    "ax[0].set_title('F200W Data')\n",
    "norm3 = simple_norm(f200w_cat.error[idx].value, 'sqrt', percent=98)\n",
    "ax[1].imshow(f200w_cat.error[idx].value, norm=norm3)\n",
    "ax[1].set_title('F200W Error')\n",
    "ax[2].imshow(f200w_cat.segment_ma[idx])\n",
    "ax[2].set_title('Segment (detection image)')\n",
    "norm3 = simple_norm(det_cat.data[idx].value, 'sqrt', percent=90)\n",
    "ax[3].imshow(det_cat.data_ma[idx], norm=norm3)\n",
    "_ = ax[3].set_title('Detection Image)')"
   ]
  },
  {
   "cell_type": "code",
   "execution_count": null,
   "id": "f1af155f-5034-4f8a-b5d0-dd7213d0a887",
   "metadata": {},
   "outputs": [],
   "source": [
    "fig, ax = plt.subplots(ncols=4, figsize=(12, 3))\n",
    "norm3 = simple_norm(f200w_cat.data[idx].value, 'sqrt', percent=98)\n",
    "ax[0].imshow(f200w_cat.data_ma[idx], norm=norm3)\n",
    "ax[0].set_title('F200W Data')\n",
    "norm3 = simple_norm(f200w_cat.error[idx].value, 'sqrt', percent=98)\n",
    "ax[1].imshow(f200w_cat.error_ma[idx], norm=norm3)\n",
    "ax[1].set_title('F200W Error')\n",
    "ax[2].imshow(f200w_cat.segment_ma[idx])\n",
    "ax[2].set_title('Segment (detection image)')\n",
    "norm3 = simple_norm(det_cat.data[idx], 'sqrt', percent=90)\n",
    "ax[3].imshow(det_cat.data_ma[idx], norm=norm3)\n",
    "_ = ax[3].set_title('Detection Image)')"
   ]
  },
  {
   "cell_type": "markdown",
   "id": "bfbcb9eb-4557-4145-ac6d-696a5f5aa788",
   "metadata": {},
   "source": [
    "### Aperture Photometry\n",
    "\n",
    "Aperture fluxes are measured in a circular aperture.  We can use the `plot_circular_apertures` method to plot them.\n",
    "Recall we computed aperture fluxes above with r=5 and r=10 pixels."
   ]
  },
  {
   "cell_type": "code",
   "execution_count": null,
   "id": "c684bdff-bb17-48ce-801a-21bbc45547c3",
   "metadata": {},
   "outputs": [],
   "source": [
    "fig, ax = plt.subplots(figsize=(8, 8))\n",
    "norm = simple_norm(f200w['sci_bksub'], 'sqrt', percent=99)\n",
    "ax.imshow(f200w['sci_bksub'].value, norm=norm)\n",
    "_ = det_cat.plot_circular_apertures(radius=10, ax=ax, color='white')"
   ]
  },
  {
   "cell_type": "markdown",
   "id": "bdd06e0d-75dd-4223-8cc6-d70312335c13",
   "metadata": {},
   "source": [
    "### Kron Photometry"
   ]
  },
  {
   "cell_type": "markdown",
   "id": "37fe3bde-007a-45d9-8fc3-5a85e73189fc",
   "metadata": {},
   "source": [
    "Kron photometry is measured in elliptical apertures. The shape of the elliptical apertures are different for each source and defined from the object's shape.\n",
    "\n",
    "The object's shape is based on calculating [image moments](https://en.wikipedia.org/wiki/Image_moment) from the object's profile. \n",
    "\n",
    "The size of the aperture calculated from the Kron radius (measured from a first moment of the object's profile) times a scale factor (which can be specified). It is defined as the radius within which a fixed fraction (around 90%) of the total light emitted by the object is enclosed.\n",
    "\n",
    "Let's use the `plot_kron_apertures` method to plot the Kron apertures."
   ]
  },
  {
   "cell_type": "code",
   "execution_count": null,
   "id": "fe4d2d51-4147-42b8-a48c-6ef0dbdaea3f",
   "metadata": {},
   "outputs": [],
   "source": [
    "fig, ax = plt.subplots(figsize=(8, 8))\n",
    "ax.imshow(f200w['sci_bksub'].value, norm=norm)\n",
    "_ = det_cat.plot_kron_apertures(ax=ax, color='white')"
   ]
  },
  {
   "cell_type": "markdown",
   "id": "8af37907-942c-4af6-ba19-bb82834bfd6a",
   "metadata": {},
   "source": [
    "Let's export the Kron apertures for the largest 500 sources. We'll save the apertures to a DS9 region file."
   ]
  },
  {
   "cell_type": "code",
   "execution_count": null,
   "id": "e820c242-ffc3-4c91-825e-6b590252802f",
   "metadata": {},
   "outputs": [],
   "source": [
    "idx = segm_deblended.get_index(tmp_tbl['label'])\n",
    "objs = det_cat[idx]\n",
    "objs"
   ]
  },
  {
   "cell_type": "code",
   "execution_count": null,
   "id": "ac945490-1970-4010-b76d-181e179f041b",
   "metadata": {},
   "outputs": [],
   "source": [
    "fig, ax = plt.subplots(figsize=(8, 8))\n",
    "ax.imshow(f200w['sci_bksub'].value, norm=norm)\n",
    "_ = objs.plot_kron_apertures(ax=ax, color='white')"
   ]
  },
  {
   "cell_type": "markdown",
   "id": "ea8ef127-1357-45d1-886b-dc23e503349b",
   "metadata": {},
   "source": [
    "Here, we convert the Kron apertures to [Astropy Region](https://astropy-regions.readthedocs.io/en/stable/) objects, which can be serialized to DS9 format.\n",
    "\n",
    "We'll use this file later in the `Imviz` tutorial."
   ]
  },
  {
   "cell_type": "code",
   "execution_count": null,
   "id": "f7e76c7e-bbd5-4e21-843b-b7559e136f73",
   "metadata": {},
   "outputs": [],
   "source": [
    "regions = Regions([aperture_to_region(aper.to_sky(wcs=f356w['wcs'])) for aper in objs.kron_aperture])\n",
    "regions[0:3]  # show the first 3 regions"
   ]
  },
  {
   "cell_type": "code",
   "execution_count": null,
   "id": "36e1a616-722b-4e46-b4e2-3d844aa9848d",
   "metadata": {},
   "outputs": [],
   "source": [
    "regions.write('kron_apertures.reg', overwrite=True)"
   ]
  },
  {
   "cell_type": "markdown",
   "id": "731a3ce1-8420-4418-8acd-e344ea1279ac",
   "metadata": {},
   "source": [
    "## Data Exploration"
   ]
  },
  {
   "cell_type": "markdown",
   "id": "78fd8a29-c8c8-4962-8539-c33cade431c6",
   "metadata": {},
   "source": [
    "As an example, let's look for Lyman-break F115W dropout galaxies in our multiband catalog.\n",
    "\n",
    "We'll use a color-color selection criteria, where the first color is F115W - F200W (the dropout color) and the second is F200W - F356W."
   ]
  },
  {
   "cell_type": "code",
   "execution_count": null,
   "id": "0e001c31-5900-4b8e-bdeb-07afd879ae45",
   "metadata": {},
   "outputs": [],
   "source": [
    "f115w_f200w = mult_tbl['f115w_kron_mag'] - mult_tbl['f200w_kron_mag']\n",
    "f200w_f356w = mult_tbl['f200w_kron_mag'] - mult_tbl['f356w_kron_mag']\n",
    "\n",
    "f115w_segm_snr = mult_tbl['f115w_segment_flux'] / mult_tbl['f115w_segment_fluxerr']\n",
    "f115w_snr = mult_tbl['f115w_kron_flux'] / mult_tbl['f115w_kron_fluxerr']\n",
    "f200w_snr = mult_tbl['f200w_kron_flux'] / mult_tbl['f200w_kron_fluxerr']\n",
    "f356w_snr = mult_tbl['f356w_kron_flux'] / mult_tbl['f356w_kron_fluxerr']\n",
    "\n",
    "col_t1 = 1.5\n",
    "col_t2 = 0.0\n",
    "mask = ((f115w_f200w.value > col_t1) & (f200w_f356w.value < col_t2)\n",
    "        & (f115w_segm_snr < 2) & (f115w_snr < 2) & (f200w_snr > 5) & (f356w_snr > 5))\n",
    "\n",
    "\n",
    "fig, ax = plt.subplots()\n",
    "ax.scatter(f200w_f356w, f115w_f200w, s=1)\n",
    "ax.scatter(f200w_f356w[mask], f115w_f200w[mask], s=4, color='red')\n",
    "ax.set_xlabel('F200W – F356W')\n",
    "ax.set_ylabel('F115W – F200W')\n",
    "ax.plot((-5, col_t2), (col_t1, col_t1), color='red', ls='dashed')\n",
    "ax.plot((col_t2, col_t2), (col_t1, 10), color='red', ls='dashed')\n",
    "ax.set_xlim(-5, 7)\n",
    "ax.set_ylim(-6, 8)\n",
    "_ = ax.set_title('Color-color selection')"
   ]
  },
  {
   "cell_type": "code",
   "execution_count": null,
   "id": "e08cf678-033a-4087-9dba-832bf50695cb",
   "metadata": {},
   "outputs": [],
   "source": [
    "hiz_tbl = mult_tbl[mask]\n",
    "hiz_tbl"
   ]
  },
  {
   "cell_type": "code",
   "execution_count": null,
   "id": "1783354f-2598-48e4-a825-99ba6c922681",
   "metadata": {},
   "outputs": [],
   "source": [
    "shape = (51, 51)\n",
    "labels = hiz_tbl['label']\n",
    "fig, ax = plt.subplots(ncols=5, nrows=len(hiz_tbl), figsize=(8, 8))\n",
    "for i, label in enumerate(labels):\n",
    "    idx = segm_deblended.get_index(label)\n",
    "    cimg1 = f115w_cat[idx].make_cutouts(shape)\n",
    "    cimg2 = f200w_cat[idx].make_cutouts(shape)\n",
    "    cimg3 = f356w_cat[idx].make_cutouts(shape)\n",
    "    cimg4 = det_cat[idx].make_cutouts(shape)\n",
    "    cimg5 = CutoutImage(segm_deblended.data, (det_cat[idx].ycentroid, det_cat[idx].xcentroid), shape)\n",
    "    \n",
    "    snorm = SimpleNorm('sqrt', percent=99)\n",
    "    norm = snorm(cimg4.data)\n",
    "    ax[i, 0].imshow(cimg1.data, norm=norm)\n",
    "    idstr = f'ID = {label}'\n",
    "    ax[i, 0].set_ylabel(idstr)\n",
    "    ax[i, 0].set_title('F115W')\n",
    "    ax[i, 1].imshow(cimg2.data, norm=norm)\n",
    "    ax[i, 1].set_title('F200W')\n",
    "    ax[i, 2].imshow(cimg3.data, norm=norm)\n",
    "    ax[i, 2].set_title('F356W')\n",
    "    ax[i, 3].imshow(cimg4.data, norm=norm)\n",
    "    ax[i, 3].set_title('Detection')\n",
    "    det_cat[idx].plot_kron_apertures(ax=ax[i, 3], origin=cimg4.xyorigin, color='white')\n",
    "    ax[i, 4].imshow(cimg5, cmap=segm_deblended.cmap)\n",
    "    ax[i, 4].set_title('Segment')"
   ]
  },
  {
   "cell_type": "markdown",
   "id": "23f470fa-3c6c-4de4-ab61-0eb656479413",
   "metadata": {
    "execution": {
     "iopub.execute_input": "2025-02-16T03:17:06.774919Z",
     "iopub.status.busy": "2025-02-16T03:17:06.773969Z",
     "iopub.status.idle": "2025-02-16T03:17:06.789498Z",
     "shell.execute_reply": "2025-02-16T03:17:06.787318Z",
     "shell.execute_reply.started": "2025-02-16T03:17:06.774858Z"
    }
   },
   "source": [
    "The best candidate shown above was reported by the CEERS team ([Finkelstein et al. 2022](https://ui.adsabs.harvard.edu/abs/2022ApJ...940L..55F/abstract)) as a high-redshift galaxy candidate called [\"Maisie's Galaxy\"](https://news.utexas.edu/2023/08/15/astronomers-confirm-maisies-galaxy-is-among-earliest-ever-observed/) with a photometric redshift of z = 11.8.\n",
    "\n",
    "The CEERS team later obtain a NIRSpec spectrum of Maisie's Galaxy (see [Arrabal Haro et al. 2023](https://ui.adsabs.harvard.edu/abs/2023Natur.622..707A/abstract)) and measured a spectroscopic redshift of z = 11.416."
   ]
  },
  {
   "cell_type": "code",
   "execution_count": null,
   "id": "fc8d5695-4358-4895-a60c-290da1dc6976",
   "metadata": {},
   "outputs": [],
   "source": [
    "# label = 616  # on linux\n",
    "label = segm_deblended.data[1876, 401]\n",
    "idx = np.where(hiz_tbl['label'] == label)[0][0]\n",
    "obj = hiz_tbl[idx]\n",
    "obj"
   ]
  },
  {
   "cell_type": "code",
   "execution_count": null,
   "id": "18decd72-c8d7-4723-ac4b-73012073c559",
   "metadata": {},
   "outputs": [],
   "source": [
    "fluxes = u.Quantity((obj['f115w_kron_flux'], obj['f200w_kron_flux'], obj['f356w_kron_flux']))\n",
    "fluxes.to(u.nJy)"
   ]
  },
  {
   "cell_type": "code",
   "execution_count": null,
   "id": "a9c129d0-a93f-47f4-9cc8-a4b643dbaa0a",
   "metadata": {},
   "outputs": [],
   "source": [
    "# measured fluxes from Finkelstein et al. 2022\n",
    "ceers_fluxes = np.array((-7.52, 45.11, 26.29)) * u.nJy\n",
    "ceers_fluxes"
   ]
  },
  {
   "cell_type": "code",
   "execution_count": null,
   "id": "97d04d9f-c008-4632-a038-98a17994735e",
   "metadata": {},
   "outputs": [],
   "source": [
    "fluxes.to(u.ABmag)"
   ]
  },
  {
   "cell_type": "code",
   "execution_count": null,
   "id": "d6afc6fd-50a3-4149-ba36-a8e114feb036",
   "metadata": {},
   "outputs": [],
   "source": [
    "ceers_fluxes.to(u.ABmag)"
   ]
  },
  {
   "cell_type": "markdown",
   "id": "f0b84800-eca8-4970-99d3-040cf2643647",
   "metadata": {},
   "source": [
    "<img style=\"float: right;\" src=\"https://raw.githubusercontent.com/spacetelescope/notebooks/master/assets/stsci_pri_combo_mark_horizonal_white_bkgd.png\" alt=\"Space Telescope Logo\" width=\"200px\"/>"
   ]
  },
  {
   "cell_type": "code",
   "execution_count": null,
   "id": "3277b73a-fa9c-4365-bc34-8fcff3c8a1b5",
   "metadata": {},
   "outputs": [],
   "source": []
  }
 ],
 "metadata": {
  "kernelspec": {
   "display_name": "Python 3 (ipykernel)",
   "language": "python",
   "name": "python3"
  },
  "language_info": {
   "codemirror_mode": {
    "name": "ipython",
    "version": 3
   },
   "file_extension": ".py",
   "mimetype": "text/x-python",
   "name": "python",
   "nbconvert_exporter": "python",
   "pygments_lexer": "ipython3",
   "version": "3.12.8"
  }
 },
 "nbformat": 4,
 "nbformat_minor": 5
}
