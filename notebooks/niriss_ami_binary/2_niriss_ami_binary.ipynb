{
 "cells": [
  {
   "cell_type": "markdown",
   "metadata": {},
   "source": [
    "# NIRISS AMI: Pipeline"
   ]
  },
  {
   "cell_type": "markdown",
   "metadata": {},
   "source": [
    "**Use case:** Run pipeline and stand-alone tool ImPlaneIA on NIRISS AMI data.<br>\n",
    "**Data:** JWST data from commissioning.<br>\n",
    "**Tools:**  jwst, astropy.<br>\n",
    "**Cross-intrument:** <br>\n",
    "**Documentation:** This notebook is part of a STScI's larger [post-pipeline Data Analysis Tools Ecosystem](https://jwst-docs.stsci.edu/jwst-post-pipeline-data-analysis).<br>\n",
    "\n",
    "**Latest update**: September 2022"
   ]
  },
  {
   "cell_type": "markdown",
   "metadata": {},
   "source": [
    "## Introduction\n",
    "This notebook runs JWST pipeline on Aperture Masking Interferometry(AMI) data of binary point source AB Dor and calibrator HD37093 observed during AMI commissioning. We are only using two NRM + F480M exposures at dither position POS1, one for the target and one for the calibrator.\n",
    "\n",
    "Steps:\n",
    "\n",
    "[1] Run Detector1 pipeline on all _uncal.fits files to create _rate.fits and _rateints.fits files.\n",
    "\n",
    "[2] Run Image2 pipeline on all _rate.fits files to create _cal.fits and on _rateints.fits files to\n",
    "   create _calints.fits files.\n",
    "\n",
    " \n",
    "[3] Run ImPlaneIA ([Greenbaum, A. et al. 2015](https://ui.adsabs.harvard.edu/abs/2015ApJ...798...68G/abstract)) to extract observables in oifits format.    "
   ]
  },
  {
   "cell_type": "markdown",
   "metadata": {},
   "source": [
    "***"
   ]
  },
  {
   "cell_type": "markdown",
   "metadata": {
    "slideshow": {
     "slide_type": "slide"
    }
   },
   "source": [
    "## Imports\n",
    "Describe the libraries we're using here. If there's something unusual, explain what the library is, and why we need it.\n",
    "- *numpy* to handle array functions\n",
    "- *astropy.io fits* for accessing FITS files\n",
    "- *matplotlib.pyplot* for plotting data\n",
    "- *zipfile* for accessing zip file\n",
    "- *urllib.request* to access URL\n",
    "- *jwst.pipeline Detector1Pipeline, Image2Pipeline* for calibrating raw data\n",
    "- ImplaneIA to extract interferometric obssrvables from calibrated data"
   ]
  },
  {
   "cell_type": "markdown",
   "metadata": {},
   "source": [
    "<p style=\"font-size:200%; color:#e56020; background-color:#1d1160;\"><b><i>Reviewer note:</i> Begin PEP8 check cells (delete below when finished)</b></p>"
   ]
  },
  {
   "cell_type": "code",
   "execution_count": null,
   "metadata": {},
   "outputs": [],
   "source": [
    "# disable all imported packages' loggers\n",
    "import logging\n",
    "logging.root.manager.loggerDict = {}"
   ]
  },
  {
   "cell_type": "code",
   "execution_count": null,
   "metadata": {},
   "outputs": [],
   "source": [
    "# enable PEP8 checker for this notebook\n",
    "%load_ext pycodestyle_magic\n",
    "%flake8_on --ignore E261,E501,W291,W293\n",
    "\n",
    "# only allow the checker to throw warnings when there's a violation\n",
    "logging.getLogger('flake8').setLevel('ERROR')\n",
    "logging.getLogger('stpipe').setLevel('ERROR')"
   ]
  },
  {
   "cell_type": "markdown",
   "metadata": {},
   "source": [
    "<p style=\"font-size:200%; color:#e56020; background-color:#1d1160;\"><b><i>Reviewer note:</i> Begin PEP8 check cells (delete above when finished)</b></p>"
   ]
  },
  {
   "cell_type": "code",
   "execution_count": null,
   "metadata": {
    "slideshow": {
     "slide_type": "fragment"
    }
   },
   "outputs": [
    {
     "name": "stderr",
     "output_type": "stream",
     "text": [
      "2022-10-03 16:13:43 - INFO - 1:1: E265 block comment should start with '# '\n",
      "2022-10-03 16:13:43 - INFO - 3:50: E262 inline comment should start with '# '\n",
      "2022-10-03 16:13:43 - INFO - 17:1: F401 'sys' imported but unused\n",
      "2022-10-03 16:13:43 - INFO - 17:1: E402 module level import not at top of file\n",
      "2022-10-03 16:13:43 - INFO - 18:1: E402 module level import not at top of file\n",
      "2022-10-03 16:13:43 - INFO - 19:1: F401 'time' imported but unused\n",
      "2022-10-03 16:13:43 - INFO - 19:1: E402 module level import not at top of file\n",
      "2022-10-03 16:13:43 - INFO - 21:1: E402 module level import not at top of file\n",
      "2022-10-03 16:13:43 - INFO - 22:1: E402 module level import not at top of file\n",
      "2022-10-03 16:13:43 - INFO - 23:1: E402 module level import not at top of file\n",
      "2022-10-03 16:13:43 - INFO - 24:1: F401 'astropy.units as u' imported but unused\n",
      "2022-10-03 16:13:43 - INFO - 24:1: E402 module level import not at top of file\n",
      "2022-10-03 16:13:43 - INFO - 25:1: E402 module level import not at top of file\n",
      "2022-10-03 16:13:43 - INFO - 26:1: E402 module level import not at top of file\n",
      "2022-10-03 16:13:43 - INFO - 28:1: E402 module level import not at top of file\n",
      "2022-10-03 16:13:43 - INFO - 30:1: E402 module level import not at top of file\n",
      "2022-10-03 16:13:43 - INFO - 31:1: F401 'nrm_analysis' imported but unused\n",
      "2022-10-03 16:13:43 - INFO - 31:1: E402 module level import not at top of file\n",
      "2022-10-03 16:13:43 - INFO - 32:1: F401 'nrm_analysis.fringefitting.LG_Model.NRM_Model' imported but unused\n",
      "2022-10-03 16:13:43 - INFO - 32:1: E402 module level import not at top of file\n",
      "2022-10-03 16:13:43 - INFO - 33:1: E402 module level import not at top of file\n",
      "2022-10-03 16:13:43 - INFO - 34:1: E402 module level import not at top of file\n"
     ]
    }
   ],
   "source": [
    "#Modify the path to a directory on your machine\n",
    "import os\n",
    "os.environ[\"CRDS_PATH\"] = \"/path/to/crds/files/\" #Change to local CRDS path\n",
    "os.environ[\"CRDS_SERVER_URL\"] = \"https://jwst-crds-pub.stsci.edu\"\n",
    "\n",
    "# WEBBPSF and STSYNPHOT\n",
    "if os.environ.get('WEBBPSF_PATH', None) is None:\n",
    "    os.environ['WEBBPSF_PATH'] = '/path/to/webbpsf_data/'\n",
    "print(os.environ.get('WEBBPSF_PATH'))\n",
    "\n",
    "if os.environ.get('PYSYN_CDBS', None) is None:\n",
    "    os.environ['PYSYN_CDBS'] = '/path/to/stsynphot_data/'\n",
    "print(os.environ.get('PYSYN_CDBS'))\n",
    "\n",
    "# imports\n",
    "%matplotlib inline\n",
    "import sys\n",
    "import glob\n",
    "import time\n",
    "\n",
    "import numpy as np\n",
    "from astropy.io import fits\n",
    "import matplotlib.pyplot as plt\n",
    "from astropy import units as u\n",
    "import zipfile\n",
    "import urllib.request\n",
    "\n",
    "from jwst.pipeline import Detector1Pipeline, Image2Pipeline\n",
    "\n",
    "from nrm_analysis.misctools import utils\n",
    "import nrm_analysis\n",
    "from nrm_analysis.fringefitting.LG_Model import NRM_Model\n",
    "from nrm_analysis import nrm_core, InstrumentData\n",
    "from nrm_analysis.misctools.implane2oifits import calibrate_oifits"
   ]
  },
  {
   "cell_type": "markdown",
   "metadata": {},
   "source": [
    "*Developer Note:*\n",
    "Plese follow the instructions on https://webbpsf.readthedocs.io/en/latest/installation.html to download WebbPSF data \n",
    "files and create WEBBPSF_PATH location, as well as the instructions on https://stsynphot.readthedocs.io/en/latest/index.html to download the stsynphot files."
   ]
  },
  {
   "cell_type": "markdown",
   "metadata": {
    "slideshow": {
     "slide_type": "slide"
    }
   },
   "source": [
    "## Loading data\n",
    "Download the data of the AMI commissioning activity:  \n",
    "Ab Dor: jw01093012001_03102_00001_nis_uncal.fits  \n",
    "HD37093: jw01093015001_03102_00001_nis_uncal.fits"
   ]
  },
  {
   "cell_type": "code",
   "execution_count": null,
   "metadata": {
    "slideshow": {
     "slide_type": "fragment"
    }
   },
   "outputs": [],
   "source": [
    "# Download the data of the AMI commissioning activity\n",
    "boxlink = 'https://data.science.stsci.edu/redirect/JWST/jwst-data_analysis_tools/niriss_ami_binary/niriss_ami_binary2_inflight.zip'\n",
    "boxfile = './niriss_ami_binary2_inflight.zip'\n",
    "\n",
    "# Download zip file\n",
    "if not os.path.exists(boxfile):\n",
    "    urllib.request.urlretrieve(boxlink, boxfile)\n",
    "\n",
    "    zf = zipfile.ZipFile(boxfile, 'r')\n",
    "    zf.extractall()\n",
    "    \n",
    "    # Move the MASK files to the current directory\n",
    "    os.system('mv ./niriss_ami_binary2_inflight/MASK* ./')"
   ]
  },
  {
   "cell_type": "code",
   "execution_count": null,
   "metadata": {},
   "outputs": [],
   "source": [
    "# Define directory that has commissioning data. NRM + F480M exposures of AB Dor, HD 37093 at POS 1\n",
    "currentdir = os.getcwd()\n",
    "inflightdata = os.path.join(currentdir, 'niriss_ami_binary2_inflight/')\n",
    "datafiles = sorted(glob.glob(inflightdata + 'jw*uncal.fits'))\n",
    "print(\"\\n\".join(datafiles))"
   ]
  },
  {
   "cell_type": "markdown",
   "metadata": {},
   "source": [
    "## Examine the input raw files"
   ]
  },
  {
   "cell_type": "markdown",
   "metadata": {},
   "source": [
    "Look at the last group of the first integration of the uncal.fits file"
   ]
  },
  {
   "cell_type": "code",
   "execution_count": null,
   "metadata": {},
   "outputs": [
    {
     "name": "stderr",
     "output_type": "stream",
     "text": [
      "2022-10-03 16:13:43 - INFO - 11:23: E251 unexpected spaces around keyword / parameter equals\n",
      "2022-10-03 16:13:43 - INFO - 11:25: E251 unexpected spaces around keyword / parameter equals\n",
      "2022-10-03 16:13:43 - INFO - 12:89: E251 unexpected spaces around keyword / parameter equals\n",
      "2022-10-03 16:13:43 - INFO - 12:91: E251 unexpected spaces around keyword / parameter equals\n",
      "2022-10-03 16:13:43 - INFO - 12:106: E251 unexpected spaces around keyword / parameter equals\n",
      "2022-10-03 16:13:43 - INFO - 12:108: E251 unexpected spaces around keyword / parameter equals\n",
      "2022-10-03 16:13:43 - INFO - 16:30: E251 unexpected spaces around keyword / parameter equals\n",
      "2022-10-03 16:13:43 - INFO - 16:32: E251 unexpected spaces around keyword / parameter equals\n",
      "2022-10-03 16:13:43 - INFO - 19:31: E251 unexpected spaces around keyword / parameter equals\n",
      "2022-10-03 16:13:43 - INFO - 19:33: E251 unexpected spaces around keyword / parameter equals\n"
     ]
    }
   ],
   "source": [
    "data = []\n",
    "for i, df in enumerate(datafiles):\n",
    "    file = fits.open(df)\n",
    "    file.info()\n",
    "    im = file[1].data\n",
    "    print(im[0].shape)\n",
    "    header = file[0].header\n",
    "    print(header['TARGPROP'])\n",
    "    data.append(im[0])\n",
    "print(data[0].shape, data[1].shape)\n",
    "f = plt.figure(figsize = (12, 6))\n",
    "plt.suptitle(\"NRM + F480M raw exposures (last group of integration 1) at POS1\", fontsize = 18, fontweight = 'bold')\n",
    "# display the last group of the first integration of each file\n",
    "plt.subplot(1, 2, 1)\n",
    "plt.title(\"AB Dor\")\n",
    "plt.imshow(data[0][4], origin = 'lower')\n",
    "plt.subplot(1, 2, 2)\n",
    "plt.title(\"HD37093\")\n",
    "plt.imshow(data[1][11], origin = 'lower')"
   ]
  },
  {
   "cell_type": "markdown",
   "metadata": {},
   "source": [
    "## Define output directory"
   ]
  },
  {
   "cell_type": "code",
   "execution_count": null,
   "metadata": {},
   "outputs": [],
   "source": [
    "# Define output directory to save pipeline output products.\n",
    "outdir = './pipeline_calibrated_data/'\n",
    "if not os.path.exists(outdir):\n",
    "    os.mkdir(outdir)\n",
    "    print(\"Created\", outdir)"
   ]
  },
  {
   "cell_type": "markdown",
   "metadata": {},
   "source": [
    "## Run Detector1 and Image2 pipelines"
   ]
  },
  {
   "cell_type": "code",
   "execution_count": null,
   "metadata": {},
   "outputs": [
    {
     "name": "stderr",
     "output_type": "stream",
     "text": [
      "2022-10-03 16:13:43 - INFO - 4:1: E115 expected an indented block (comment)\n"
     ]
    }
   ],
   "source": [
    "datafiles = sorted(glob.glob(inflightdata + 'jw*uncal.fits'))\n",
    "print(datafiles)\n",
    "for df in datafiles:\n",
    "# Run Detector1, Image 2 pipelines\n",
    "    result1 = Detector1Pipeline()\n",
    "    # Example code to override reference files\n",
    "    # superbiasfile = refdir + 'jwst_niriss_superbias_sim.fits'\n",
    "    # darkfile = refdir + 'jwst_niriss_dark_sub80_sim.fits'\n",
    "    # result1.superbias.override_superbias = superbiasfile\n",
    "    # result1.dark_current.override_dark = darkfile\n",
    "    result1.ipc.skip = True\n",
    "    result1.save_results = True\n",
    "    result1.save_calibrated_ramp = True\n",
    "    result1.output_dir = outdir\n",
    "    result1.run(df)\n",
    "\n",
    "    df_rate = outdir + os.path.basename(df.replace('uncal', 'rate'))\n",
    "    result2 = Image2Pipeline()\n",
    "    # Example code to override reference files\n",
    "    # flatfieldfile = refdir + \"jwst_niriss_flat_general.fits\"\n",
    "    # result2.flat_field.override_flat = flatfieldfile\n",
    "    result2.photom.skip = True\n",
    "    result2.resample.skip = True\n",
    "    result2.save_results = True\n",
    "    result2.output_dir = outdir\n",
    "    result2.run(df_rate)\n",
    "\n",
    "    df_rateints = outdir + os.path.basename(df.replace('uncal', 'rateints'))\n",
    "    result3 = Image2Pipeline()\n",
    "    # Example code to override reference files\n",
    "    # result3.flat_field.override_flat = flatfieldfile\n",
    "    result3.photom.skip = True\n",
    "    result3.resample.skip = True\n",
    "    result3.save_results = True\n",
    "    result3.output_dir = outdir\n",
    "    result3.run(df_rateints)"
   ]
  },
  {
   "cell_type": "markdown",
   "metadata": {},
   "source": [
    "## Examine the output files"
   ]
  },
  {
   "cell_type": "code",
   "execution_count": null,
   "metadata": {},
   "outputs": [],
   "source": [
    "rampfiles = sorted(glob.glob(outdir + '/jw*ramp.fits'))\n",
    "print(\"\\n\".join(rampfiles))\n",
    "ratefiles = sorted(glob.glob(outdir + '/jw*rate.fits'))\n",
    "print(\"\\n\".join(ratefiles))\n",
    "rateintsfiles = sorted(glob.glob(outdir + '/jw*rateints.fits'))\n",
    "print(\"\\n\".join(rateintsfiles))\n",
    "calfiles = sorted(glob.glob(outdir + '/jw*cal.fits'))\n",
    "print(\"\\n\".join(calfiles))\n",
    "calintsfiles = sorted(glob.glob(outdir + '/jw*calints.fits'))\n",
    "print(\"\\n\".join(calintsfiles))\n"
   ]
  },
  {
   "cell_type": "markdown",
   "metadata": {},
   "source": [
    "### rate and rateints files"
   ]
  },
  {
   "cell_type": "code",
   "execution_count": null,
   "metadata": {},
   "outputs": [
    {
     "name": "stderr",
     "output_type": "stream",
     "text": [
      "2022-10-03 16:13:43 - INFO - 0:1: E303 too many blank lines (3)\n"
     ]
    }
   ],
   "source": [
    "for i, rateintf in enumerate(rateintsfiles):\n",
    "    file = fits.open(rateintf)\n",
    "    file.info()\n",
    "for i, ratef in enumerate(ratefiles):\n",
    "    file = fits.open(ratef)\n",
    "    file.info()"
   ]
  },
  {
   "cell_type": "markdown",
   "metadata": {},
   "source": [
    "### cal and calints files "
   ]
  },
  {
   "cell_type": "code",
   "execution_count": null,
   "metadata": {},
   "outputs": [],
   "source": [
    "for i, calintf in enumerate(calintsfiles):\n",
    "    file = fits.open(calintf)\n",
    "    file.info()\n",
    "for i, calf in enumerate(calfiles):\n",
    "    file = fits.open(calf)\n",
    "    file.info()"
   ]
  },
  {
   "cell_type": "markdown",
   "metadata": {},
   "source": [
    "## Display calibrated data"
   ]
  },
  {
   "cell_type": "code",
   "execution_count": null,
   "metadata": {},
   "outputs": [
    {
     "name": "stderr",
     "output_type": "stream",
     "text": [
      "2022-10-03 16:13:43 - INFO - 9:23: E251 unexpected spaces around keyword / parameter equals\n",
      "2022-10-03 16:13:43 - INFO - 9:25: E251 unexpected spaces around keyword / parameter equals\n",
      "2022-10-03 16:13:43 - INFO - 10:88: E251 unexpected spaces around keyword / parameter equals\n",
      "2022-10-03 16:13:43 - INFO - 10:90: E251 unexpected spaces around keyword / parameter equals\n",
      "2022-10-03 16:13:43 - INFO - 10:107: E251 unexpected spaces around keyword / parameter equals\n",
      "2022-10-03 16:13:43 - INFO - 10:109: E251 unexpected spaces around keyword / parameter equals\n",
      "2022-10-03 16:13:43 - INFO - 14:28: E251 unexpected spaces around keyword / parameter equals\n",
      "2022-10-03 16:13:43 - INFO - 14:30: E251 unexpected spaces around keyword / parameter equals\n",
      "2022-10-03 16:13:43 - INFO - 14:37: E231 missing whitespace after ','\n",
      "2022-10-03 16:13:43 - INFO - 14:52: E251 unexpected spaces around keyword / parameter equals\n",
      "2022-10-03 16:13:43 - INFO - 14:54: E251 unexpected spaces around keyword / parameter equals\n",
      "2022-10-03 16:13:43 - INFO - 17:28: E251 unexpected spaces around keyword / parameter equals\n",
      "2022-10-03 16:13:43 - INFO - 17:30: E251 unexpected spaces around keyword / parameter equals\n",
      "2022-10-03 16:13:43 - INFO - 17:37: E231 missing whitespace after ','\n",
      "2022-10-03 16:13:43 - INFO - 17:52: E251 unexpected spaces around keyword / parameter equals\n",
      "2022-10-03 16:13:43 - INFO - 17:54: E251 unexpected spaces around keyword / parameter equals\n"
     ]
    }
   ],
   "source": [
    "data = []\n",
    "for df in calintsfiles:\n",
    "    print(df)\n",
    "    file = fits.open(df)\n",
    "    im = file[1].data\n",
    "    print(im.shape)\n",
    "    data.append(im)\n",
    "# print(data[0].shape, data[1].shape)\n",
    "f = plt.figure(figsize = (12, 6))\n",
    "plt.suptitle(\"NRM + F480M calibrated exposures (first integration) at POS1\", fontweight = 'bold', fontsize = 20)\n",
    "# Look at the first integration from each calints.fits file\n",
    "plt.subplot(1, 2, 1)\n",
    "plt.title(\"AB Dor\")\n",
    "plt.imshow(data[0][0], clim = (-6000,40000), origin = 'lower')\n",
    "plt.subplot(1, 2, 2)\n",
    "plt.title(\"HD37093\")\n",
    "plt.imshow(data[1][0], clim = (-6000,40000), origin = 'lower')"
   ]
  },
  {
   "cell_type": "markdown",
   "metadata": {},
   "source": [
    "### Fix bad pixels"
   ]
  },
  {
   "cell_type": "code",
   "execution_count": null,
   "metadata": {},
   "outputs": [
    {
     "name": "stderr",
     "output_type": "stream",
     "text": [
      "2022-10-03 16:13:43 - INFO - 1:1: E402 module level import not at top of file\n",
      "2022-10-03 16:13:43 - INFO - 4:24: E251 unexpected spaces around keyword / parameter equals\n",
      "2022-10-03 16:13:43 - INFO - 4:26: E251 unexpected spaces around keyword / parameter equals\n",
      "2022-10-03 16:13:43 - INFO - 5:23: E251 unexpected spaces around keyword / parameter equals\n",
      "2022-10-03 16:13:43 - INFO - 5:25: E251 unexpected spaces around keyword / parameter equals\n"
     ]
    }
   ],
   "source": [
    "from run_bp_fix import correct_fitsfiles\n",
    "\n",
    "bpcorrdir = './pipeline_calibrated_data_corr/'\n",
    "correct_fitsfiles(indir = outdir,\n",
    "                  odir = bpcorrdir)\n",
    "\n",
    "calintfiles_corr = sorted(glob.glob(bpcorrdir + '*calints.fits'))\n",
    "print(\"\\n\".join(calintfiles_corr))"
   ]
  },
  {
   "cell_type": "markdown",
   "metadata": {},
   "source": [
    "##  Display calibrated data after fixing bad pixels"
   ]
  },
  {
   "cell_type": "code",
   "execution_count": null,
   "metadata": {},
   "outputs": [
    {
     "name": "stderr",
     "output_type": "stream",
     "text": [
      "2022-10-03 16:13:43 - INFO - 9:1: E265 block comment should start with '# '\n",
      "2022-10-03 16:13:43 - INFO - 11:94: E251 unexpected spaces around keyword / parameter equals\n",
      "2022-10-03 16:13:43 - INFO - 11:96: E251 unexpected spaces around keyword / parameter equals\n",
      "2022-10-03 16:13:43 - INFO - 11:113: E251 unexpected spaces around keyword / parameter equals\n",
      "2022-10-03 16:13:43 - INFO - 11:115: E251 unexpected spaces around keyword / parameter equals\n",
      "2022-10-03 16:13:43 - INFO - 13:25: E251 unexpected spaces around keyword / parameter equals\n",
      "2022-10-03 16:13:43 - INFO - 13:27: E251 unexpected spaces around keyword / parameter equals\n",
      "2022-10-03 16:13:43 - INFO - 13:34: E231 missing whitespace after ','\n",
      "2022-10-03 16:13:43 - INFO - 16:25: E251 unexpected spaces around keyword / parameter equals\n",
      "2022-10-03 16:13:43 - INFO - 16:27: E251 unexpected spaces around keyword / parameter equals\n",
      "2022-10-03 16:13:43 - INFO - 16:34: E231 missing whitespace after ','\n"
     ]
    }
   ],
   "source": [
    "data = []\n",
    "for df in calintfiles_corr:\n",
    "    file = fits.open(df)\n",
    "    im = file[1].data\n",
    "    print(im.shape)\n",
    "    data.append(im[0])\n",
    "# print(data[0].shape, data[1].shape)\n",
    "f = plt.figure(figsize=(12, 6))\n",
    "#plt.tight_layout()\n",
    "plt.subplot(1, 2, 1)\n",
    "plt.suptitle(\"NRM + F480M calibrated exposures at POS1 (after fixing bad pixels)\", fontweight = 'bold', fontsize = 20)\n",
    "plt.title(\"AB Dor\")\n",
    "plt.imshow(data[0], clim = (-6000,40000), origin='lower')\n",
    "plt.subplot(1, 2, 2)\n",
    "plt.title(\"HD 37093\")\n",
    "plt.imshow(data[1], clim = (-6000,40000), origin='lower')"
   ]
  },
  {
   "cell_type": "markdown",
   "metadata": {},
   "source": [
    "## Run ImPlaneIA to reduce calibrated images to fringe observables"
   ]
  },
  {
   "cell_type": "markdown",
   "metadata": {},
   "source": [
    "### Define functions"
   ]
  },
  {
   "cell_type": "code",
   "execution_count": null,
   "metadata": {},
   "outputs": [
    {
     "name": "stderr",
     "output_type": "stream",
     "text": [
      "2022-10-03 16:13:43 - INFO - 62:34: E127 continuation line over-indented for visual indent\n",
      "2022-10-03 16:13:43 - INFO - 63:34: E127 continuation line over-indented for visual indent\n",
      "2022-10-03 16:13:43 - INFO - 64:34: E127 continuation line over-indented for visual indent\n",
      "2022-10-03 16:13:43 - INFO - 65:34: E127 continuation line over-indented for visual indent\n",
      "2022-10-03 16:13:43 - INFO - 66:34: E127 continuation line over-indented for visual indent\n",
      "2022-10-03 16:13:43 - INFO - 92:68: E128 continuation line under-indented for visual indent\n",
      "2022-10-03 16:13:43 - INFO - 93:68: E128 continuation line under-indented for visual indent\n",
      "2022-10-03 16:13:43 - INFO - 94:68: E128 continuation line under-indented for visual indent\n",
      "2022-10-03 16:13:43 - INFO - 95:68: E128 continuation line under-indented for visual indent\n",
      "2022-10-03 16:13:43 - INFO - 96:68: E128 continuation line under-indented for visual indent\n",
      "2022-10-03 16:13:43 - INFO - 97:68: E128 continuation line under-indented for visual indent\n",
      "2022-10-03 16:13:43 - INFO - 98:68: E128 continuation line under-indented for visual indent\n"
     ]
    }
   ],
   "source": [
    "np.set_printoptions(precision=4, linewidth=160)\n",
    "\n",
    "\n",
    "def examine_observables(ff, trim=36):\n",
    "    \"\"\" input: FringeFitter instance after fringes are fit \"\"\"\n",
    "   \n",
    "    print(\"\\nExamine_observables, standard deviations & variances of *independent* CP's and CAs:\")\n",
    "    print(\"   Closure phase mean {:+.4f}  std dev {:.2e}  var {:.2e}\".format(ff.nrm.redundant_cps.mean(),\n",
    "          np.sqrt(utils.cp_var(ff.nrm.N, ff.nrm.redundant_cps)), utils.cp_var(ff.nrm.N, ff.nrm.redundant_cps)))\n",
    "\n",
    "    print(\"   Closure amp   mean {:+.4f}  std dev {:.2e}  var {:.2e}\".format(ff.nrm.redundant_cas.mean(),\n",
    "          np.sqrt(utils.cp_var(ff.nrm.N, ff.nrm.redundant_cas)), utils.cp_var(ff.nrm.N, ff.nrm.redundant_cas)))\n",
    "\n",
    "    print(\"   Fringe amp   mean {:+.4f}  std dev {:.2e}  var {:.2e}\".format(ff.nrm.fringeamp.mean(),\n",
    "                                                                            ff.nrm.fringeamp.std(), \n",
    "                                                                            ff.nrm.fringeamp.var()))\n",
    "\n",
    "    np.set_printoptions(precision=3, formatter={'float': lambda x: '{:+.1e}'.format(x)}, linewidth=80)\n",
    "    print(\" Normalized residuals central 6 pixels\")\n",
    "    tlo, thi = (ff.nrm.residual.shape[0]//2 - 3, ff.nrm.residual.shape[0]//2 + 3)\n",
    "    print((ff.nrm.residual/ff.datapeak)[tlo:thi, tlo:thi])\n",
    "    print(\" Normalized residuals max and min: {:.2e}, {:.2e}\".format(ff.nrm.residual.max() / ff.datapeak,\n",
    "                                                                     ff.nrm.residual.min() / ff.datapeak))\n",
    "    utils.default_printoptions()\n",
    "\n",
    "\n",
    "def raw_observables(fitsfn=None, fitsimdir=None, oitdir=None, oifdir=None, affine2d=None,                    \n",
    "                    psf_offset_find_rotation=(0.0, 0.0),\n",
    "                    psf_offset_ff=None,\n",
    "                    rotsearch_d=None,\n",
    "                    set_pistons=None,\n",
    "                    oversample=3,\n",
    "                    mnem='',\n",
    "                    firstfew=None,\n",
    "                    usebp=False,\n",
    "                    verbose=False):\n",
    "    \"\"\"\n",
    "        Reduce calibrated data to fringe observables\n",
    "\n",
    "        returns: affine2d (measured or input),\n",
    "        psf_offset_find_rotation (input),\n",
    "        psf_offset_ff (input or found),\n",
    "        fringe pistons/r (found)\n",
    "    \"\"\"\n",
    "\n",
    "    if verbose:\n",
    "        print(\"raw_observables: input\", fitsimdir + fitsfn)\n",
    "    if verbose:\n",
    "        print(\"raw_observables: oversample\", oversample)\n",
    "\n",
    "    fobj = fits.open(fitsimdir + fitsfn)\n",
    "\n",
    "    if verbose:\n",
    "        print(fobj[0].header['FILTER'])\n",
    "        \n",
    "    niriss = InstrumentData.NIRISS(fobj[0].header['FILTER'],\n",
    "                                   usebp=usebp,\n",
    "                                   firstfew=firstfew, # read_data truncation to only read first few slices...\n",
    "                                   )\n",
    "\n",
    "    ff = nrm_core.FringeFitter(niriss, \n",
    "                                 oitdir=oitdir, # write OI text files here, and diagnostic images if desired\n",
    "                                 oifdir=oifdir, # write OI fits files here\n",
    "                                 oversample=oversample,\n",
    "                                 interactive=False,\n",
    "                                 save_txt_only=False)\n",
    "\n",
    "    ff.fit_fringes(fitsimdir + fitsfn)\n",
    "    examine_observables(ff)\n",
    "\n",
    "    np.set_printoptions(formatter={'float': lambda x: '{:+.2e}'.format(x)}, linewidth=80)\n",
    "    if verbose:\n",
    "        print(\"raw_observables: fringepistons/rad\", ff.nrm.fringepistons)\n",
    "    utils.default_printoptions()\n",
    "    return affine2d, psf_offset_find_rotation, ff.nrm.psf_offset, ff.nrm.fringepistons\n",
    "\n",
    "\n",
    "def main(fitsimdir=None, oitdir=None, oifdir=None, ifn=None, oversample=3, mnem='', firstfew=None, verbose=False, usebp=True):\n",
    "    \"\"\"\n",
    "    fitsimdir: string: dir containing data file\n",
    "    ifn: str inout file name\n",
    "\n",
    "    \"\"\"\n",
    "\n",
    "    np.set_printoptions(formatter={'float': lambda x: '{:+.2e}'.format(x)}, linewidth=80)\n",
    "    if verbose:\n",
    "        print(\"main: \", ifn)\n",
    "    if verbose:\n",
    "        print(\"main: fitsimdir\", fitsimdir)\n",
    "      \n",
    "    aff, psf_offset_r, psf_offset_ff, fringepistons = raw_observables(fitsfn=ifn, \n",
    "                                                                   fitsimdir=fitsimdir, \n",
    "                                                                   oitdir=oitdir,\n",
    "                                                                   oifdir=oifdir,\n",
    "                                                                   oversample=oversample,\n",
    "                                                                   firstfew=firstfew,\n",
    "                                                                   usebp=usebp,\n",
    "                                                                   verbose=verbose)\n",
    "    print('aff', aff, 'psf_offset_r', psf_offset_r, 'psf_offset_ff', psf_offset_ff, 'fringepistons', fringepistons)\n",
    "    del aff\n",
    "    del psf_offset_r\n",
    "    del psf_offset_ff\n",
    "    del fringepistons"
   ]
  },
  {
   "cell_type": "markdown",
   "metadata": {},
   "source": [
    "### Run ImPlaneIA"
   ]
  },
  {
   "cell_type": "code",
   "execution_count": null,
   "metadata": {},
   "outputs": [],
   "source": [
    "odir_bp = 'pipeline_calibrated_data_corr/'\n",
    "datasuperdir = odir_bp"
   ]
  },
  {
   "cell_type": "code",
   "execution_count": null,
   "metadata": {},
   "outputs": [
    {
     "name": "stderr",
     "output_type": "stream",
     "text": [
      "2022-10-03 16:13:43 - INFO - 3:16: E124 closing bracket does not match visual indentation\n",
      "2022-10-03 16:13:43 - INFO - 13:69: E251 unexpected spaces around keyword / parameter equals\n",
      "2022-10-03 16:13:43 - INFO - 13:71: E251 unexpected spaces around keyword / parameter equals\n",
      "2022-10-03 16:13:43 - INFO - 15:29: E251 unexpected spaces around keyword / parameter equals\n",
      "2022-10-03 16:13:43 - INFO - 15:31: E251 unexpected spaces around keyword / parameter equals\n",
      "2022-10-03 16:13:43 - INFO - 16:31: E251 unexpected spaces around keyword / parameter equals\n",
      "2022-10-03 16:13:43 - INFO - 16:33: E251 unexpected spaces around keyword / parameter equals\n",
      "2022-10-03 16:13:43 - INFO - 25:19: E251 unexpected spaces around keyword / parameter equals\n",
      "2022-10-03 16:13:43 - INFO - 25:21: E251 unexpected spaces around keyword / parameter equals\n",
      "2022-10-03 16:13:43 - INFO - 26:16: E251 unexpected spaces around keyword / parameter equals\n",
      "2022-10-03 16:13:43 - INFO - 26:18: E251 unexpected spaces around keyword / parameter equals\n",
      "2022-10-03 16:13:43 - INFO - 27:16: E251 unexpected spaces around keyword / parameter equals\n",
      "2022-10-03 16:13:43 - INFO - 27:18: E251 unexpected spaces around keyword / parameter equals\n",
      "2022-10-03 16:13:43 - INFO - 28:13: E251 unexpected spaces around keyword / parameter equals\n",
      "2022-10-03 16:13:43 - INFO - 28:15: E251 unexpected spaces around keyword / parameter equals\n",
      "2022-10-03 16:13:43 - INFO - 29:20: E251 unexpected spaces around keyword / parameter equals\n",
      "2022-10-03 16:13:43 - INFO - 29:22: E251 unexpected spaces around keyword / parameter equals\n",
      "2022-10-03 16:13:43 - INFO - 30:14: E251 unexpected spaces around keyword / parameter equals\n",
      "2022-10-03 16:13:43 - INFO - 30:16: E251 unexpected spaces around keyword / parameter equals\n",
      "2022-10-03 16:13:43 - INFO - 31:18: E251 unexpected spaces around keyword / parameter equals\n",
      "2022-10-03 16:13:43 - INFO - 31:20: E251 unexpected spaces around keyword / parameter equals\n",
      "2022-10-03 16:13:43 - INFO - 32:15: E251 unexpected spaces around keyword / parameter equals\n",
      "2022-10-03 16:13:43 - INFO - 32:17: E251 unexpected spaces around keyword / parameter equals\n",
      "2022-10-03 16:13:43 - INFO - 33:17: E251 unexpected spaces around keyword / parameter equals\n",
      "2022-10-03 16:13:43 - INFO - 33:19: E251 unexpected spaces around keyword / parameter equals\n"
     ]
    }
   ],
   "source": [
    "mirdatafiles = ['jw01093012001_03102_00001_nis_calints.fits',\n",
    "                'jw01093015001_03102_00001_nis_calints.fits'\n",
    "               ]\n",
    "\n",
    "# Choose FIRSTFEW = None to analyze all integrations\n",
    "FIRSTFEW = 5\n",
    "OVERSAMPLE = 7\n",
    "print('FIRSTFEW', FIRSTFEW, 'OVERSAMPLE', OVERSAMPLE)\n",
    "\n",
    "\n",
    "COUNT = 0\n",
    "for fnmir in mirdatafiles:\n",
    "    print('\\nAnalyzing\\n   ', COUNT, fnmir.replace('.fits', ''), end = ' ')\n",
    "    hdr = fits.getheader(datasuperdir + fnmir)\n",
    "    print(hdr['FILTER'], end = ' ')\n",
    "    print(hdr['TARGNAME'], end = ' ')\n",
    "    print(hdr['TARGPROP'])\n",
    "    # next line for convenient use in oifits writer which looks up target online\n",
    "    catname = hdr['TARGPROP'].replace('-', '') # for target lookup on-line, otherwise UNKNOWN used\n",
    "    fits.setval(datasuperdir + fnmir, 'TARGNAME', value=catname)\n",
    "    fits.setval(datasuperdir + fnmir, 'TARGPROP', value=catname)\n",
    "    \n",
    "    usebp = False\n",
    "    \n",
    "    main(fitsimdir = datasuperdir,\n",
    "         oitdir = datasuperdir + 'Saveoit/',\n",
    "         oifdir = datasuperdir + 'Saveoif/',\n",
    "         ifn = fnmir, \n",
    "         oversample = OVERSAMPLE, \n",
    "         mnem = '',\n",
    "         firstfew = FIRSTFEW,\n",
    "         usebp = usebp,\n",
    "         verbose = True) # verbose only has driver-function scope\n",
    "    COUNT += 1"
   ]
  },
  {
   "cell_type": "markdown",
   "metadata": {},
   "source": [
    "### Examine the output products"
   ]
  },
  {
   "cell_type": "markdown",
   "metadata": {},
   "source": [
    "Analytical model is created and interferometric observables are calculated for each integration of the data. The output products are stored in a folder that has rootname of the file, jw01093012001_03102_00001_nis_calints for AB Dor and jw01093015001_03102_00001_nis_calints for HD37093. "
   ]
  },
  {
   "cell_type": "code",
   "execution_count": null,
   "metadata": {},
   "outputs": [],
   "source": [
    "# integration 0 (1st integration)\n",
    "results_int0 = glob.glob(datasuperdir + 'Saveoit/' + \"jw01093012001_03102_00001_nis_calints/*00*\")"
   ]
  },
  {
   "cell_type": "code",
   "execution_count": null,
   "metadata": {},
   "outputs": [],
   "source": [
    "results_int0"
   ]
  },
  {
   "cell_type": "markdown",
   "metadata": {},
   "source": [
    "### Information about observables calculated from the 1st integration\n",
    "\n",
    "\n",
    "```\n",
    "- phases_00.txt: 35 fringe phases\n",
    "- amplitudes_00.txt: 21 fringe amplitudes\n",
    "- CPs_00.txt: 35 closure phases\n",
    "- CAs_00.txt: 35 closure amplitudes\n",
    "- fringepistons_00.txt: 7 pistons (optical path delays between mask holes)\n",
    "- solutions_00.txt: 44 fringe coefficients of terms in the analytical model\n",
    "- modelsolution_00.fits: analytical model\n",
    "- n_modelsolution_00.fits: normalized analytical model\n",
    "- residual_00.fits: data - model\n",
    "- n_residual_00.fits: normalized residual\n",
    "\n",
    "```"
   ]
  },
  {
   "cell_type": "code",
   "execution_count": null,
   "metadata": {},
   "outputs": [
    {
     "name": "stderr",
     "output_type": "stream",
     "text": [
      "2022-10-03 16:13:43 - INFO - 1:41: E221 multiple spaces before operator\n",
      "2022-10-03 16:13:43 - INFO - 2:34: E221 multiple spaces before operator\n",
      "2022-10-03 16:13:43 - INFO - 3:37: E221 multiple spaces before operator\n"
     ]
    }
   ],
   "source": [
    "cropped_data = fits.getdata(datasuperdir  + '/Saveoit/' + \"jw01093012001_03102_00001_nis_calints/centered_0.fits\")\n",
    "model = fits.getdata(datasuperdir  + '/Saveoit/' + \"jw01093012001_03102_00001_nis_calints/modelsolution_00.fits\")\n",
    "residual = fits.getdata(datasuperdir  + '/Saveoit/' + \"jw01093012001_03102_00001_nis_calints/residual_00.fits\")\n",
    "n_residual = fits.getdata(datasuperdir + '/Saveoit/' + \"jw01093012001_03102_00001_nis_calints/n_residual_00.fits\")"
   ]
  },
  {
   "cell_type": "code",
   "execution_count": null,
   "metadata": {},
   "outputs": [
    {
     "name": "stderr",
     "output_type": "stream",
     "text": [
      "2022-10-03 16:13:43 - INFO - 1:23: E251 unexpected spaces around keyword / parameter equals\n",
      "2022-10-03 16:13:43 - INFO - 1:25: E251 unexpected spaces around keyword / parameter equals\n",
      "2022-10-03 16:13:43 - INFO - 3:42: E251 unexpected spaces around keyword / parameter equals\n",
      "2022-10-03 16:13:43 - INFO - 3:44: E251 unexpected spaces around keyword / parameter equals\n",
      "2022-10-03 16:13:43 - INFO - 4:32: E251 unexpected spaces around keyword / parameter equals\n",
      "2022-10-03 16:13:43 - INFO - 4:34: E251 unexpected spaces around keyword / parameter equals\n",
      "2022-10-03 16:13:43 - INFO - 6:36: E231 missing whitespace after ','\n",
      "2022-10-03 16:13:43 - INFO - 6:45: E251 unexpected spaces around keyword / parameter equals\n",
      "2022-10-03 16:13:43 - INFO - 6:47: E251 unexpected spaces around keyword / parameter equals\n",
      "2022-10-03 16:13:43 - INFO - 7:25: E251 unexpected spaces around keyword / parameter equals\n",
      "2022-10-03 16:13:43 - INFO - 7:27: E251 unexpected spaces around keyword / parameter equals\n",
      "2022-10-03 16:13:43 - INFO - 9:53: E251 unexpected spaces around keyword / parameter equals\n",
      "2022-10-03 16:13:43 - INFO - 9:55: E251 unexpected spaces around keyword / parameter equals\n",
      "2022-10-03 16:13:43 - INFO - 10:28: E251 unexpected spaces around keyword / parameter equals\n",
      "2022-10-03 16:13:43 - INFO - 10:30: E251 unexpected spaces around keyword / parameter equals\n"
     ]
    }
   ],
   "source": [
    "f = plt.figure(figsize = (12, 3))\n",
    "plt.subplot(1, 3, 1)\n",
    "plt.title(\"AB Dor cropped data\", fontsize = 12)\n",
    "plt.imshow(cropped_data, origin = 'lower')\n",
    "plt.subplot(1, 3, 2)\n",
    "plt.title(\"AB Dor analytical model\",fontsize = 12)\n",
    "plt.imshow(model, origin = 'lower')\n",
    "plt.subplot(1, 3, 3)\n",
    "plt.title(\"AB Dor residual (data - model)\", fontsize = 12)\n",
    "plt.imshow(residual, origin = 'lower')"
   ]
  },
  {
   "cell_type": "code",
   "execution_count": null,
   "metadata": {},
   "outputs": [
    {
     "name": "stderr",
     "output_type": "stream",
     "text": [
      "2022-10-03 16:13:43 - INFO - 2:28: E251 unexpected spaces around keyword / parameter equals\n",
      "2022-10-03 16:13:43 - INFO - 2:30: E251 unexpected spaces around keyword / parameter equals\n",
      "2022-10-03 16:13:43 - INFO - 2:37: E231 missing whitespace after ','\n"
     ]
    }
   ],
   "source": [
    "plt.title(\"AB Dor normalized residual\")\n",
    "plt.imshow(n_residual, clim = (-0.03,0.03), origin='lower')\n",
    "plt.colorbar()"
   ]
  },
  {
   "cell_type": "markdown",
   "metadata": {},
   "source": [
    "### OIFITS files for the target and calibrator"
   ]
  },
  {
   "cell_type": "markdown",
   "metadata": {},
   "source": [
    "OIFITS is the standard data exchange format for Optical Interferometry.  It is based on the Flexible Image Transport System (FITS).  OIFITS files include data tables for storing interferometric observables, including squared visibilities and closure phases. "
   ]
  },
  {
   "cell_type": "code",
   "execution_count": null,
   "metadata": {},
   "outputs": [],
   "source": [
    "oifiles = sorted(glob.glob(datasuperdir + 'Saveoif/' + \"*oifits\"))\n",
    "oifiles"
   ]
  },
  {
   "cell_type": "markdown",
   "metadata": {},
   "source": [
    "### Calibrate the closure phases and fringe amplitudes of target with the closure phases and fringe amplitudes of the calibrator."
   ]
  },
  {
   "cell_type": "markdown",
   "metadata": {},
   "source": [
    "This step is necessary to remove instrumental contribution to closure phases and fringe amplitudes."
   ]
  },
  {
   "cell_type": "code",
   "execution_count": null,
   "metadata": {},
   "outputs": [
    {
     "name": "stderr",
     "output_type": "stream",
     "text": [
      "2022-10-03 16:13:43 - INFO - 10:49: E251 unexpected spaces around keyword / parameter equals\n",
      "2022-10-03 16:13:43 - INFO - 10:51: E251 unexpected spaces around keyword / parameter equals\n"
     ]
    }
   ],
   "source": [
    "# Define the target and calibrator OIFITS files\n",
    "\n",
    "targ_oifits = (datasuperdir + 'Saveoif/' + 'jw01093012001_03102_00001_nis.oifits')\n",
    "cal_oifits = (datasuperdir + 'Saveoif/' + 'jw01093015001_03102_00001_nis.oifits')\n",
    "\n",
    "# Produce a single calibrated OIFITS file\n",
    "\n",
    "print(\"************  Running calibrate ***************\")\n",
    "print(\"Calibrating  AB Dor with HD37093\")\n",
    "calibrate_oifits(targ_oifits, cal_oifits, oifdir = datasuperdir + 'Saveoif/')\n",
    "\n",
    "\n",
    "print(\"The output of calibrate is calibrated oifits file that will be used as an input to 3_niriss_ami_binary.ipynb.\")"
   ]
  },
  {
   "cell_type": "markdown",
   "metadata": {},
   "source": [
    "*Developer Note:*\n",
    "The observable extraction performed in this notebook used only the first 5 integrations to save time while demonstrating the use of ImPlaneIA to reduce pipeline-calibrated observations. For accurate science use, we use all the integrations contained in the input data files. Therefore the input data for notebook 3 (3_niriss_ami_binary.ipynb) is slightly different from the output of 2_niriss_ami_binary.ipynb."
   ]
  },
  {
   "cell_type": "markdown",
   "metadata": {},
   "source": [
    "## Aditional Resources\n",
    "\n",
    "- [JWST NIRISS AMI](https://jwst-docs.stsci.edu/near-infrared-imager-and-slitless-spectrograph/niriss-observing-modes/niriss-aperture-masking-interferometry)"
   ]
  },
  {
   "cell_type": "markdown",
   "metadata": {
    "slideshow": {
     "slide_type": "slide"
    }
   },
   "source": [
    "## About this notebook\n",
    "\n",
    "**Author:** Deepashri Thatte, Anand Sivaramakrishnan, Rachel Cooper, Jens Kammerer  \n",
    "**Updated On:** 2022-09-16 "
   ]
  },
  {
   "cell_type": "markdown",
   "metadata": {},
   "source": [
    "***"
   ]
  },
  {
   "cell_type": "markdown",
   "metadata": {},
   "source": [
    "[Top of Page](#top)\n",
    "<img style=\"float: right;\" src=\"https://raw.githubusercontent.com/spacetelescope/notebooks/master/assets/stsci_pri_combo_mark_horizonal_white_bkgd.png\" alt=\"Space Telescope Logo\" width=\"200px\"/> "
   ]
  }
 ],
 "metadata": {
  "kernelspec": {
   "display_name": "Python 3 (ipykernel)",
   "language": "python",
   "name": "python3"
  },
  "language_info": {
   "codemirror_mode": {
    "name": "ipython",
    "version": 3
   },
   "file_extension": ".py",
   "mimetype": "text/x-python",
   "name": "python",
   "nbconvert_exporter": "python",
   "pygments_lexer": "ipython3",
   "version": "3.8.10"
  }
 },
 "nbformat": 4,
 "nbformat_minor": 2
}
