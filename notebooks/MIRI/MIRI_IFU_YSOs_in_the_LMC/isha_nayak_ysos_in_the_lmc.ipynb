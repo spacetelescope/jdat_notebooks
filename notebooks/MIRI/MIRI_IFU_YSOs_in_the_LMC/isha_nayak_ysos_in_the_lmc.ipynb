{
 "cells": [
  {
   "cell_type": "markdown",
   "metadata": {},
   "source": [
    "# IFU of YSOs in LMC"
   ]
  },
  {
   "cell_type": "markdown",
   "metadata": {},
   "source": [
    "**Use case:** Automatically detect point sources and extract photometry in a 3D cube. Analyze spectral lines.<br>\n",
    "**Data:** ALMA 13CO data cubes.<br>\n",
    "**Tools:** specutils, photutils, astropy.<br>\n",
    "**Cross-intrument:** NIRSpec, MIRI.<br>\n",
    "**Documentation:** This notebook is part of a STScI's larger [post-pipeline Data Analysis Tools Ecosystem](https://jwst-docs.stsci.edu/jwst-post-pipeline-data-analysis) and can be [downloaded](https://github.com/spacetelescope/dat_pyinthesky/tree/main/jdat_notebooks/MRS_Mstar_analysis) directly from the [JDAT Notebook Github directory](https://github.com/spacetelescope/jdat_notebooks).<br>"
   ]
  },
  {
   "cell_type": "markdown",
   "metadata": {},
   "source": [
    "The LMC is the ideal site to study massive star formation because it is relatively close (d ~ 50 kpc) and has a face-on orientation so that we can resolve individual star formation sites and eliminate line of sight confusion. The Spitzer and Herschel surveys have identified thousands of YSOs in the LMC by using photometry that spans from 3 microns to 500 microns and are complete down to 8 solar mass YSOs. \n",
    "\n",
    " We know massive star formation occurs in dense molecular gas. ALMA observations of 12CO and 13CO molecular gas show evidence that colliding filaments can be a mechanisms for gas densities to be as high as 10^6 cm^-3. Massive stars up go 50 solar masses have been observed in dense cores at the center of colliding CO gas filaments seen with ALMA.\n",
    "\n",
    "The instruments on JWST will have angular resolutions 10 times better than Spitzer Space Telescope and sensitivities over a hundred times better than current instruments. Observations of YSOs with MIRI and NIRCam will be complete down to 1 solar mass YSOs, as oppose to 8 solar mass YSOs with Spitzer observations. The massive YSOs in the LMC are most likely a small cluster of YSOs, and with MRS we can get spectra of the individual object in the cluster. This will be a powerful tool in understanding star formation and cluster formation.\n",
    "\n",
    "For the first part, I use ALMA 13CO data cubes to read in the cube and make figures. There are nearly 400 massive stars in the footprint shown in this notebook. One of the goals of this notebook is to use photutils to automatically detect point sources and extract photometry in a given 3D cube. For the second part, I use Spitzer/IRS spectra of a known early-stage YSOs. YSOs have specific absorption and emission lines. The goal is to first use specutils to find the important lines to first identify if something is or is not a YSO based on what lines do exist or do not exist. And then the next step is to identify if the YSO is Stage I (most embedded with CO2 ice feature), Stage II (more evolved with ice and silicate absorption features), or Stage III (almost a flat spectrum with PAH emission) based on the emission and absorption lines detected."
   ]
  },
  {
   "cell_type": "markdown",
   "metadata": {},
   "source": [
    "### Import things you need"
   ]
  },
  {
   "cell_type": "code",
   "execution_count": null,
   "metadata": {},
   "outputs": [],
   "source": [
    "import os\n",
    "\n",
    "from astropy import units as u\n",
    "from astropy.wcs import WCS\n",
    "from astropy.io import ascii\n",
    "from astropy.nddata import StdDevUncertainty\n",
    "from astropy.table import Table\n",
    "from astropy.stats import sigma_clipped_stats\n",
    "import urllib.request\n",
    "\n",
    "import numpy as np\n",
    "from spectral_cube import SpectralCube\n",
    "from photutils.detection import DAOStarFinder\n",
    "from photutils.aperture import CircularAperture\n",
    "\n",
    "from specutils import Spectrum1D, SpectralRegion\n",
    "from specutils.analysis import snr\n",
    "from specutils.fitting import fit_generic_continuum, find_lines_derivative"
   ]
  },
  {
   "cell_type": "code",
   "execution_count": null,
   "metadata": {},
   "outputs": [],
   "source": [
    "%matplotlib inline\n",
    "import matplotlib.pyplot as plt"
   ]
  },
  {
   "cell_type": "markdown",
   "metadata": {},
   "source": [
    "### Check versions of imported things"
   ]
  },
  {
   "cell_type": "code",
   "execution_count": null,
   "metadata": {},
   "outputs": [],
   "source": [
    "import aplpy\n",
    "from aplpy import __version__ as aplpy_version\n",
    "print(\"Aplpy: {}\".format(aplpy_version))\n",
    "\n",
    "from astrodendro import __version__ as astrodendro_version\n",
    "print(\"Astrodendro: {}\".format(astrodendro_version))\n",
    "\n",
    "from astropy import __version__ as astropy_version\n",
    "print(\"Astropy: {}\".format(astropy_version))\n",
    "\n",
    "from jwst import __version__ as jwst_version\n",
    "print(\"JWST: {}\".format(jwst_version))\n",
    "\n",
    "from matplotlib import __version__ as matplotlib_version\n",
    "print(\"Matplotlib: {}\".format(matplotlib_version))\n",
    "\n",
    "import numpy\n",
    "from numpy import __version__ as numpy_version\n",
    "print(\"Numpy: {}\".format(numpy_version))\n",
    "\n",
    "from pandas import __version__ as pandas_version\n",
    "print(\"Pandas: {}\".format(pandas_version))\n",
    "\n",
    "from photutils import __version__ as photutils_version\n",
    "print(\"Photutils: {}\".format(photutils_version))\n",
    "\n",
    "from scipy import __version__ as scipy_version\n",
    "print(\"Scipy: {}\".format(scipy_version))\n",
    "\n",
    "from specutils import __version__ as specutils_version\n",
    "print(\"Specutils: {}\".format(specutils_version))\n",
    "\n",
    "from spectral_cube import __version__ as spectral_cube_version\n",
    "print(\"SpectralCube: {}\".format(spectral_cube_version))"
   ]
  },
  {
   "cell_type": "markdown",
   "metadata": {},
   "source": [
    "### Setup output directory for figures and spectra\n",
    "\n",
    "The user needs to setup their own path to where they want the output to be located."
   ]
  },
  {
   "cell_type": "code",
   "execution_count": null,
   "metadata": {},
   "outputs": [],
   "source": [
    "output_images = './Images' # This is where the output images will be located\n",
    "output_spectra = './Spectra' # This is where the output spectra will be located\n",
    "\n",
    "for directory in [output_images, output_spectra]:\n",
    "    if not os.path.exists(directory):\n",
    "        os.makedirs(directory)"
   ]
  },
  {
   "cell_type": "markdown",
   "metadata": {},
   "source": [
    "### Set plot paramters"
   ]
  },
  {
   "cell_type": "code",
   "execution_count": null,
   "metadata": {},
   "outputs": [],
   "source": [
    "params = {'legend.fontsize': '18',\n",
    "          'axes.labelsize': '18',\n",
    "          'axes.titlesize': '18',\n",
    "          'xtick.labelsize': '18',\n",
    "          'ytick.labelsize': '18',\n",
    "          'lines.linewidth': 2,\n",
    "          'axes.linewidth': 2,\n",
    "          'animation.html': 'html5'}\n",
    "plt.rcParams.update(params)\n",
    "plt.rcParams.update({'figure.max_open_warning': 0})"
   ]
  },
  {
   "cell_type": "markdown",
   "metadata": {},
   "source": [
    "### Set path to data"
   ]
  },
  {
   "cell_type": "markdown",
   "metadata": {},
   "source": [
    "Using ALMA 13CO from a known star formation region in the LMC host to nearly 150 massive YSOs.\n",
    "\n",
    "#### Note that the data file is ~2 GB, so download will take a while depending on your internet speed. You can also download directly using the link below."
   ]
  },
  {
   "cell_type": "code",
   "execution_count": null,
   "metadata": {},
   "outputs": [],
   "source": [
    "data_file = './LMC_13CO.fits'\n",
    "if os.path.exists(\"LMC_13CO.fits\"):\n",
    "    print(\"LMC_13CO.fits Already Exists\")\n",
    "else:\n",
    "    print(\"Downloading LMC_13CO.fits\")\n",
    "    url = 'https://data.science.stsci.edu/redirect/JWST/jwst-data_analysis_tools/MIRI_IFU_YSOs_in_the_LMC/LMC_13CO.fits'\n",
    "    urllib.request.urlretrieve(url, './LMC_13CO.fits')"
   ]
  },
  {
   "cell_type": "markdown",
   "metadata": {},
   "source": [
    "### Load and display data cube"
   ]
  },
  {
   "cell_type": "code",
   "execution_count": null,
   "metadata": {},
   "outputs": [],
   "source": [
    "cube = SpectralCube.read(data_file, hdu=1)  \n",
    "print(cube)"
   ]
  },
  {
   "cell_type": "markdown",
   "metadata": {},
   "source": [
    "### Trim the cube"
   ]
  },
  {
   "cell_type": "markdown",
   "metadata": {},
   "source": [
    "Not sure about JWST MRS cube, but in ALMA the beginning and end of cube have poor data quality so you can trim the cube to make it smaller if you want. I used the whole cube in this example.\n",
    "\n",
    "If you want to trim the cube to a certain spectral range then do the following:\n",
    "\n",
    "```\n",
    "subcube = cube.spectral_slab(240 * (u.m/u.s), 265 * (u.m/u.s))\n",
    "cube = subcube\n",
    "```"
   ]
  },
  {
   "cell_type": "code",
   "execution_count": null,
   "metadata": {},
   "outputs": [],
   "source": [
    "cube.allow_huge_operations = True\n",
    "cmin = cube.minimal_subcube()"
   ]
  },
  {
   "cell_type": "markdown",
   "metadata": {},
   "source": [
    "### Make a 2D image from the 3D cube either with average, median, or sum\n",
    "\n",
    "This is to look for point sources. After you locate point sources, you will be applying aperture photometry to extract the spectrum.\n",
    "\n",
    "**The code can take awhile** since it is a big data cube."
   ]
  },
  {
   "cell_type": "code",
   "execution_count": null,
   "metadata": {},
   "outputs": [],
   "source": [
    "cont_img = cmin.sum(axis=0)"
   ]
  },
  {
   "cell_type": "markdown",
   "metadata": {},
   "source": [
    "### Plot the image to do a visual check"
   ]
  },
  {
   "cell_type": "markdown",
   "metadata": {},
   "source": [
    "This is to see if you even see any emission and to make sure you have the correct data cube."
   ]
  },
  {
   "cell_type": "code",
   "execution_count": null,
   "metadata": {},
   "outputs": [],
   "source": [
    "fig = plt.figure()\n",
    "plt.imshow(cont_img.value)\n",
    "plt.tight_layout()\n",
    "plt.show()"
   ]
  },
  {
   "cell_type": "markdown",
   "metadata": {},
   "source": [
    "### Plot the summed image with WCS coordinates and save the figure"
   ]
  },
  {
   "cell_type": "code",
   "execution_count": null,
   "metadata": {},
   "outputs": [],
   "source": [
    "name = '13CO'\n",
    "\n",
    "F = aplpy.FITSFigure(cont_img.hdu, north=True)\n",
    "F.show_colorscale()\n",
    "F.add_label(0.1, 0.9, name, relative=True, size=22, weight='bold')\n",
    "F.axis_labels.set_font(size=22)\n",
    "F.tick_labels.set_font(size=18, stretch='condensed')\n",
    "F.save(output_images+\"_\"+name+\".pdf\", dpi=300) "
   ]
  },
  {
   "cell_type": "markdown",
   "metadata": {},
   "source": [
    "### Identify all point sources using photutils"
   ]
  },
  {
   "cell_type": "code",
   "execution_count": null,
   "metadata": {},
   "outputs": [],
   "source": [
    "# Empty array to store values\n",
    "name_val = []\n",
    "source_val = []\n",
    "ra_val = []\n",
    "dec_val = []\n",
    "\n",
    "# Find mean, meadian, and standard deviation of the summed image\n",
    "mean, median, std = sigma_clipped_stats(cont_img.value, sigma=2.0)"
   ]
  },
  {
   "cell_type": "markdown",
   "metadata": {},
   "source": [
    "### Get a list of all point sources"
   ]
  },
  {
   "cell_type": "markdown",
   "metadata": {},
   "source": [
    "Note that usually it is `3*std` to find sources above noise level, but there are 247 point sources when I do that. So I made it `6*std` to look at 4 point sources and make sure this step works."
   ]
  },
  {
   "cell_type": "code",
   "execution_count": null,
   "metadata": {},
   "outputs": [],
   "source": [
    "daofind = DAOStarFinder(fwhm=2.0, threshold=6*std)\n",
    "sources = daofind(cont_img.value - median) \n",
    "print(\"\\n  Number of sources in field: \", len(sources))"
   ]
  },
  {
   "cell_type": "markdown",
   "metadata": {},
   "source": [
    "### Extract and plot spectrum of all sources\n",
    "\n",
    "**This step can take while to run.**\n",
    "\n",
    "Do a visual check to see if all point sources have been identified, although the end result should be that this is not necessary. Also as a science user, I would like the algorithm to tell me what is and isn't a point source mathematically. There should be some criteria that differences point and extended sources that the user shouldn't have to visually check. Of the four sources, two are noise spectra because it detected noise spikes on the border of the ALMA cube which is a common thing with ALMA data cubes."
   ]
  },
  {
   "cell_type": "code",
   "execution_count": null,
   "metadata": {},
   "outputs": [],
   "source": [
    "# Make table be consistent with RA and DEC coordinates\n",
    "if len(sources) > 0:\n",
    "    for col in sources.colnames:    \n",
    "        sources[col].info.format = '%.8g'\n",
    "\n",
    "    print(sources)  \n",
    "    \n",
    "    # Convert xcentroid and ycentroid to RA and DEC coordiantes\n",
    "    positions = Table([sources['xcentroid'], sources['ycentroid']])                \n",
    "    w = WCS(cont_img.header)                                                       \n",
    "    radec_lst = w.pixel_to_world(sources['xcentroid'], sources['ycentroid'])\n",
    "\n",
    "    # Aperture extract spectrum of point source Using a cirular aperture            \n",
    "    for countS, _ in enumerate(sources):\n",
    "        print(radec_lst[countS].to_string('hmsdms'))  # Print the RA and Dec in hms dms values   \n",
    "        \n",
    "        name_val.append(name)\n",
    "        source_val.append(countS)\n",
    "        ra_val.append(radec_lst[countS].ra.deg)\n",
    "        dec_val.append(radec_lst[countS].dec.deg)\n",
    "    \n",
    "        # Size of frame \n",
    "        ysize_pix = cmin.shape[1]\n",
    "        xsize_pix = cmin.shape[2]\n",
    "\n",
    "        # Set up some centroid pixel for the source \n",
    "        ycent_pix = sources['ycentroid'][countS]\n",
    "        xcent_pix = sources['xcentroid'][countS]\n",
    "\n",
    "        # Make an aperture radius for source\n",
    "        # This can be something the user inputs based on their own science expertise.\n",
    "        apertureRad_pix = 2\n",
    "\n",
    "        # Make a masked array for the apeture\n",
    "        yy, xx = np.indices([ysize_pix, xsize_pix], dtype='float')  # Check ycentpix, xcentpix are in correct order \n",
    "        radius = ((yy - ycent_pix)**2 + (xx - xcent_pix)**2)**0.5  # Make a circle in the frame\n",
    "\n",
    "        mask = radius <= apertureRad_pix  # Select pixels within the aperture radius\n",
    "        maskedcube = cmin.with_mask(mask)  # Make a masked cube\n",
    "        pixInAp = np.count_nonzero(mask == 1)  # Pixels in apeture\n",
    "\n",
    "        spectrum = maskedcube.sum(axis=(1, 2))  # Extract the spectrum from only the annulus\n",
    "        noisespectrum = maskedcube.std(axis=(1, 2))  # Extract the noise spectrum for the source \n",
    "\n",
    "        # Measure a spectrum from the background. Use an annulus arround the source.\n",
    "        an_mask = (radius > apertureRad_pix + 1) & (radius <= apertureRad_pix + 2)  # Select pixels within an anulus\n",
    "        an_maskedcube = cmin.with_mask(an_mask)  # Make a masked cube\n",
    "    \n",
    "        # Plot the spectrum extracted from cirular aperture via: a sum extraction \n",
    "        \n",
    "        fig = plt.figure(figsize=(10, 5))\n",
    "        \n",
    "        plt.plot(maskedcube.spectral_axis.value, spectrum.value, label='Source')  # Source spectrum \n",
    "        plt.xlabel('Frequency [Hz]')\n",
    "        plt.ylabel('Kelvin') \n",
    "        plt.gcf().text(0.5, 0.85, name, fontsize=14, ha='center')\n",
    "        plt.gcf().text(0.5, 0.80, radec_lst[countS].to_string('decimal'), ha='center', fontsize=14)\n",
    "        plt.legend(frameon=False, fontsize='medium')\n",
    "        plt.tight_layout()\n",
    "        plt.show()\n",
    "        plt.close()\n",
    "        \n",
    "        positions_pix = (sources['xcentroid'], sources['ycentroid'])\n",
    "    \n",
    "        apertures = CircularAperture([positions_pix[0][countS], positions_pix[1][countS]], r=2.)\n",
    "        fig = plt.figure()            \n",
    "\n",
    "        plt.subplot(1, 2, 1)\n",
    "        plt.imshow(cont_img.value, cmap='Greys', origin='lower')\n",
    "        \n",
    "        apertures.plot(color='blue', lw=1.5, alpha=0.5)\n",
    "\n",
    "        plt.subplot(1, 2, 2)\n",
    "        plt.imshow(cont_img.value, origin='lower')\n",
    "        plt.tight_layout()\n",
    "        plt.show()\n",
    "        plt.close()"
   ]
  },
  {
   "cell_type": "markdown",
   "metadata": {},
   "source": [
    "### Make a Table for the Extracted Sources"
   ]
  },
  {
   "cell_type": "code",
   "execution_count": null,
   "metadata": {},
   "outputs": [],
   "source": [
    "sourceExtSpecTab = Table([name_val, source_val, ra_val, dec_val], \n",
    "                         names=(\"name\", \"source_no\", \"ra\", \"dec\"))\n",
    "print(sourceExtSpecTab)   \n",
    "\n",
    "os.path.join(output_spectra, 'YSOsourcesSpec_list.csv')\n",
    "ascii.write(sourceExtSpecTab, os.path.join(output_spectra, 'YSOsourcesSpec_list.csv'), format='csv', overwrite=True) "
   ]
  },
  {
   "cell_type": "markdown",
   "metadata": {},
   "source": [
    "### Use Spitzer IRS YSO Spectra from Here on Out For Science Test Cases"
   ]
  },
  {
   "cell_type": "markdown",
   "metadata": {},
   "source": [
    "(1) Look for lines in Spectra. Ice features in the 5-7 micron range from H20, NH3, CH3OH, HCOOH, and H2CO are difficult to identify because confusion with PAH. The 15.2 micron CO2 ice absorbtion is better to identify. More evolved YSOs will have PAH and fine-structure features at 6.2 micron, 7.7 micron, 8.6 micron, 11.3 micron, and 12.7 micron. But PAH and fine-sturcture could mean a more evolved HII region rather than an embedded YSO. H2 emission is expected from YSOs. Both PDRs and shocks lead to H2 emission near YSO environments. \n",
    "\n",
    "(2) Look at ice features, PAH feature, and silicate features in more detail.\n",
    "\n",
    "(3) Identify YSOs.\n",
    "\n",
    "User can decide which YSO they want to check. YSO1, YSO2, or YSO3 and comment out the code accordingly."
   ]
  },
  {
   "cell_type": "code",
   "execution_count": null,
   "metadata": {},
   "outputs": [],
   "source": [
    "# Set Path to YSO1 Data\n",
    "YSO1 = 'https://data.science.stsci.edu/redirect/JWST/jwst-data_analysis_tools/MIRI_IFU_YSOs_in_the_LMC/yso1_108_spec.txt'\n",
    "\n",
    "# Set Path to YSO2 Data\n",
    "# YSO2 = 'https://data.science.stsci.edu/redirect/JWST/jwst-data_analysis_tools/MIRI_IFU_YSOs_in_the_LMC/yso2_102_spec.txt'\n",
    "\n",
    "# Set Path to YSO3 Data\n",
    "# YSO3 = 'https://data.science.stsci.edu/redirect/JWST/jwst-data_analysis_tools/MIRI_IFU_YSOs_in_the_LMC/yso3_4536_spec.txt'"
   ]
  },
  {
   "cell_type": "markdown",
   "metadata": {},
   "source": [
    "Choose YSO1, YSO2, or YSO3 in this section too."
   ]
  },
  {
   "cell_type": "code",
   "execution_count": null,
   "metadata": {},
   "outputs": [],
   "source": [
    "# Read in the spectra and plot it for initial visualization check\n",
    "\n",
    "data = ascii.read(YSO1)\n",
    "# data = ascii.read(YSO2)\n",
    "# data = ascii.read(YSO3)\n",
    "\n",
    "if data.colnames[0] == 'col1':\n",
    "    data['col1'].name = 'wave_mum'\n",
    "    data['col2'].name = 'cSpec_Jy'            \n",
    "    data['col3'].name = 'errFl_Jy'         \n",
    "\n",
    "wav = data['wave_mum'] * u.micron  # Wavelength: microns\n",
    "fl = data['cSpec_Jy'] * u.Jy  # Fnu: Jy\n",
    "efl = data['errFl_Jy'] * u.Jy  # Error flux: Jy\n",
    "\n",
    "spec = Spectrum1D(spectral_axis=wav, flux=fl, uncertainty=StdDevUncertainty(efl))  # Make a 1D spectrum object\n",
    "fig = plt.figure(figsize=(8, 4))\n",
    "plt.plot(spec.spectral_axis, spec.flux, label='spectrum')                \n",
    "plt.xlabel('Wavelength (microns)')\n",
    "plt.ylabel(\"Flux ({:latex})\".format(spec.flux.unit))\n",
    "\n",
    "plt.legend(frameon=False, fontsize='medium')\n",
    "plt.tight_layout()\n",
    "plt.show()\n",
    "plt.close()"
   ]
  },
  {
   "cell_type": "markdown",
   "metadata": {},
   "source": [
    "### Fit a generic continuum"
   ]
  },
  {
   "cell_type": "markdown",
   "metadata": {},
   "source": [
    "The continuum seems to be overestimated 5 micron - 7 micron and then again 17 micron - 25 micron when fitting a generic continuum without excluding any wavelengths. This leads to misidentification of emissiona and abroption lines. Rather I fit a continuum to 5-13 micron range and another continuum for the 13-35 micron range. This gives a much better continuum subtracted spectrum. But that means that I will have to keep track of two different line lists fo absorption and emission features. It would be better if I can fit one continuum."
   ]
  },
  {
   "cell_type": "code",
   "execution_count": null,
   "metadata": {},
   "outputs": [],
   "source": [
    "# Calculate S/N\n",
    "sig2noise = np.round(snr(spec), 2)\n",
    "\n",
    "# Fit one continuum for wavelengths greater than 13 microns excluding a couple lines\n",
    "to_exclude_1 = [(5.0, 13.0)*u.micron, (14.5, 15.5) * u.micron, (17.0, 18.0) * u.micron]  # Define lines/regions to exclude\n",
    "exclude_region_1 = SpectralRegion(to_exclude_1)  # Make a specutils region\n",
    "\n",
    "# Another continuum fit for wavelengths under 13 microns excluding the silicate absorption feature\n",
    "to_exclude_2 = [(7.0, 11.0)*u.micron, (13.0, 35.0)*u.micron]\n",
    "exclude_region_2 = SpectralRegion(to_exclude_2)\n",
    "\n",
    "continuum_model_1 = fit_generic_continuum(spec, exclude_regions=exclude_region_1)  # Generate the first contimiumn\n",
    "continuum_model_2 = fit_generic_continuum(spec, exclude_regions=exclude_region_2)  # Generate the second contimiumn\n",
    "y_continuum_1 = continuum_model_1(spec.spectral_axis)  # Put the first continiumn into 1d spectra object\n",
    "y_continuum_2 = continuum_model_2(spec.spectral_axis)  # Put the second continiumn into 1d spectra object\n",
    "\n",
    "# Generate a continuum subtracted and continuum normalised spectra. Both needed for later analysis. \n",
    "spec_norm_2 = spec / y_continuum_2\n",
    "count_axis = 0\n",
    "for i in spec.spectral_axis:\n",
    "    if i.value < 13.0:\n",
    "        count_axis = count_axis+1\n",
    "\n",
    "# Assign to variable to make it more readable for line below\n",
    "spec_contsub_1 = spec[count_axis:len(spec.spectral_axis)] - y_continuum_1[count_axis:len(spec.spectral_axis)]\n",
    "spec_contsub_2 = spec[0:count_axis] - y_continuum_2[0:count_axis]"
   ]
  },
  {
   "cell_type": "code",
   "execution_count": null,
   "metadata": {},
   "outputs": [],
   "source": [
    "# Plot the continiumn and spectra\n",
    "fig = plt.figure(figsize=(10, 6))\n",
    "plt.plot(spec.spectral_axis, spec.flux, label='Source')  # Source spectrum \n",
    "plt.plot(spec.spectral_axis, y_continuum_1, label='Continuum Fit to lambda > 13 microns')  # Continuum (lambda > 13 microns)\n",
    "plt.plot(spec.spectral_axis, y_continuum_2, label='Continuum Fit to lambda < 13 microns')  # Continuum (lambda < 13 microns)\n",
    "\n",
    "plt.xlabel(\"Wavelength ({:latex})\".format(spec.spectral_axis.unit))\n",
    "plt.ylabel(\"Flux ({:latex})\".format(spec.flux.unit))\n",
    "\n",
    "plt.legend(frameon=False, fontsize='medium')\n",
    "plt.tight_layout()\n",
    "plt.show()\n",
    "plt.close()"
   ]
  },
  {
   "cell_type": "code",
   "execution_count": null,
   "metadata": {},
   "outputs": [],
   "source": [
    "# Plot the contimum subtracted spectrum\n",
    "\n",
    "fig = plt.figure(figsize=(10, 6))\n",
    "plt.plot(spec_contsub_1.spectral_axis, spec_contsub_1.flux, color='black')\n",
    "plt.plot(spec_contsub_2.spectral_axis, spec_contsub_2.flux, color='black')\n",
    "plt.axhline(y=0.0, color='r', linestyle='-')\n",
    "\n",
    "plt.xlabel(\"Wavelength ({:latex})\".format(spec.spectral_axis.unit))\n",
    "plt.ylabel(\"Flux ({:latex})\".format(spec.flux.unit))\n",
    "\n",
    "plt.tight_layout()\n",
    "plt.show()\n",
    "plt.close()"
   ]
  },
  {
   "cell_type": "markdown",
   "metadata": {},
   "source": [
    "### Look For Emission and Absorption Lines"
   ]
  },
  {
   "cell_type": "markdown",
   "metadata": {},
   "source": [
    "Common YSO lines include PAH emission lines, ice absorption lines, and silicate absorption lines.\n",
    "\n",
    "It would be better to have a SNR threshold instead of a flux threshold for the `find_lines_derivative()` function.\n",
    "\n",
    "The user has to remove the comment depending on which YSO they are checking: YSO1, YSO2, or YSO3. If it was a SNR threshold instead, then it can be a bit more automated. "
   ]
  },
  {
   "cell_type": "code",
   "execution_count": null,
   "metadata": {},
   "outputs": [],
   "source": [
    "# Find emmision and absorption lines in the continuum-subtracted spectra.\n",
    "# This will print out two emission line lists and two absorption line lists.\n",
    "\n",
    "if sig2noise > 10:\n",
    "    lines = find_lines_derivative(spec_contsub_1, flux_threshold=0.020)  # YSO 1\n",
    "    # lines = find_lines_derivative(spec_contsub_1, flux_threshold=0.03)  # YSO 2\n",
    "    # lines = find_lines_derivative(spec_contsub_1, flux_threshold=0.02)  # YSO 3\n",
    "    if len(lines) > 0:\n",
    "        emissionlines_1 = lines[lines['line_type'] == 'emission']  # Grab a list of the emission lines\n",
    "        abslines_1 = lines[lines['line_type'] == 'absorption']  # Grab a list of the absorption lines\n",
    "        print(\"Number of emission lines found:\", len(emissionlines_1))\n",
    "        print(\"Number of absorption lines found:\", len(abslines_1))\n",
    "    else:\n",
    "        emissionlines_1 = []\n",
    "        abslines_1 = []\n",
    "        print(\"No emission lines found!\") \n",
    "\n",
    "    lines = find_lines_derivative(spec_contsub_2, flux_threshold=0.020)  # YSO 1\n",
    "    # lines = find_lines_derivative(spec_contsub_2, flux_threshold=0.03)  # YSO 2\n",
    "    # lines = find_lines_derivative(spec_contsub_2, flux_threshold=0.02)  # YSO 3\n",
    "    if len(lines) > 0:\n",
    "        emissionlines_2 = lines[lines['line_type'] == 'emission']  # Grab a list of the emission lines\n",
    "        abslines_2 = lines[lines['line_type'] == 'absorption']  # Grab a list of the absorption lines\n",
    "        print(\"Number of emission lines found:\", len(emissionlines_2))\n",
    "        print(\"Number of absorption lines found:\", len(abslines_2))\n",
    "    else:\n",
    "        emissionlines_2 = []\n",
    "        abslines_2 = []\n",
    "        print(\"No emission lines found!\") "
   ]
  },
  {
   "cell_type": "code",
   "execution_count": null,
   "metadata": {},
   "outputs": [],
   "source": [
    "# Extract emission lines greater than 13 microns\n",
    "\n",
    "if emissionlines_1:\n",
    "    emissionlines_1['gauss_line_center'] = 0. * u.micron\n",
    "    emissionlines_1['gauss_line_amp'] = 0. * u.jansky\n",
    "    emissionlines_1['gauss_line_stddev'] = 0. * u.micron\n",
    "    emissionlines_1['gauss_line_FWHM'] = 0. * u.micron\n",
    "    emissionlines_1['gauss_line_area'] = np.log10(1e-20) * u.W / u.m**2\n",
    "\n",
    "    emissionlines_1['no_AltRestWav'] = 0  # Number of possible lines which could be the feature\n",
    "    emissionlines_1['RestWav'] = 0.  # RestWavelength of closest lab measured line\n",
    "    emissionlines_1['diff_ft_wav'] = 0.  # Diff. in initial line wav estimate and the fitted gausian\n",
    "    emissionlines_1['line_suspect'] = 0  # Set == 1 if large diffrence in wavelength possition\n",
    "    emissionlines_1['line'] = \"                 \"  # For storing the line name\n",
    "\n",
    "    # Loop through all the found emission lines in the spectra\n",
    "    for idx, emlines in enumerate(emissionlines_1):\n",
    "\n",
    "        # Look at the region surrounding the found lines from the original smoothed spectrum\n",
    "        sw_line = emissionlines_1[\"line_center\"][idx].value-0.001\n",
    "        lw_line = emissionlines_1[\"line_center\"][idx].value+0.001     \n",
    "        line_region = SpectralRegion(sw_line*u.um, lw_line*u.um)\n",
    "\n",
    "        # Variable for the line center\n",
    "        line_cnr = emissionlines_1[\"line_center\"][idx]\n",
    "        \n",
    "print(emissionlines_1)\n",
    "\n",
    "# Extract emission lines less than 13 microns\n",
    "\n",
    "if emissionlines_2:\n",
    "    emissionlines_2['gauss_line_center'] = 0. * u.micron\n",
    "    emissionlines_2['gauss_line_amp'] = 0. * u.jansky\n",
    "    emissionlines_2['gauss_line_stddev'] = 0. * u.micron\n",
    "    emissionlines_2['gauss_line_FWHM'] = 0. * u.micron\n",
    "    emissionlines_2['gauss_line_area'] = np.log10(1e-20) * u.W / u.m**2\n",
    "\n",
    "    emissionlines_2['no_AltRestWav'] = 0  # Number of possible lines which could be the feature\n",
    "    emissionlines_2['RestWav'] = 0.  # RestWavelength of closest lab measured line\n",
    "    emissionlines_2['diff_ft_wav'] = 0.  # Diff. in initial line wav estimate and the fitted gausian\n",
    "    emissionlines_2['line_suspect'] = 0  # Set == 1 if large diffrence in wavelength possition\n",
    "    emissionlines_2['line'] = \"                 \"  # For storing the line name\n",
    "    \n",
    "    # Loop through all the found emission lines in the spectra\n",
    "\n",
    "    for idx, emlines2 in enumerate(emissionlines_2):\n",
    "\n",
    "        # Look at the region surrounding the found lines from the original smoothed spectrum\n",
    "        sw_line = emissionlines_2[\"line_center\"][idx].value-0.01\n",
    "        lw_line = emissionlines_2[\"line_center\"][idx].value+0.01     \n",
    "        line_region = SpectralRegion(sw_line*u.um, lw_line*u.um)\n",
    "\n",
    "        # Variable for the line center\n",
    "        line_cnr = emissionlines_2[\"line_center\"][idx]     \n",
    "         \n",
    "print(emissionlines_2)"
   ]
  },
  {
   "cell_type": "code",
   "execution_count": null,
   "metadata": {},
   "outputs": [],
   "source": [
    "# Extract absorption lines greater than 13 microns\n",
    "\n",
    "if abslines_1:\n",
    "    abslines_1['gauss_line_center'] = 0. * u.micron\n",
    "    abslines_1['gauss_line_amp'] = 0. * u.jansky\n",
    "    abslines_1['gauss_line_stddev'] = 0. * u.micron\n",
    "    abslines_1['gauss_line_FWHM'] = 0. * u.micron\n",
    "    abslines_1['gauss_line_area'] = np.log10(1e-20) * u.W / u.m**2\n",
    "\n",
    "    abslines_1['no_AltRestWav'] = 0  # Number of possible lines which could be the feature\n",
    "    abslines_1['RestWav'] = 0.  # RestWavelength of closest lab measured line\n",
    "    abslines_1['diff_ft_wav'] = 0.  # Diff. in initial line wav estimate and the fitted gausian\n",
    "    abslines_1['line_suspect'] = 0  # Set == 1 if large diffrence in wavelength possition\n",
    "    abslines_1['line'] = \"                 \"  # For storing the line name\n",
    "\n",
    "    # Loop through all the found absorption lines in the spectra\n",
    "\n",
    "    for idx, absorplines in enumerate(abslines_1):\n",
    "\n",
    "        # Look at the region surrounding the found lines from the original smoothed spectrum\n",
    "        sw_line = abslines_1[\"line_center\"][idx].value-0.01\n",
    "        lw_line = abslines_1[\"line_center\"][idx].value+0.01     \n",
    "        line_region = SpectralRegion(sw_line*u.um, lw_line*u.um)\n",
    "\n",
    "        # Variable for the line center\n",
    "        line_cnr_abs = abslines_1[\"line_center\"][idx]\n",
    "        \n",
    "print(abslines_1)\n",
    "\n",
    "# Extract absorption lines less than 13 microns\n",
    "\n",
    "if abslines_2:\n",
    "    abslines_2['gauss_line_center'] = 0. * u.micron\n",
    "    abslines_2['gauss_line_amp'] = 0. * u.jansky\n",
    "    abslines_2['gauss_line_stddev'] = 0. * u.micron\n",
    "    abslines_2['gauss_line_FWHM'] = 0. * u.micron\n",
    "    abslines_2['gauss_line_area'] = np.log10(1e-20) * u.W / u.m**2\n",
    "\n",
    "    abslines_2['no_AltRestWav'] = 0  # Number of possible lines which could be the feature\n",
    "    abslines_2['RestWav'] = 0.  # RestWavelength of closest lab measured line\n",
    "    abslines_2['diff_ft_wav'] = 0.  # Diff. in initial line wav estimate and the fitted gausian\n",
    "    abslines_2['line_suspect'] = 0  # Set == 1 if large diffrence in wavelength possition\n",
    "    abslines_2['line'] = \"                 \"  # For storing the line name\n",
    "    \n",
    "    # Loop through all the found absorption lines in the spectra\n",
    "\n",
    "    for idx, absorplines2 in enumerate(abslines_2):\n",
    "\n",
    "        # Look at the region surrounding the found lines from the original smoothed spectrum\n",
    "        sw_line = abslines_2[\"line_center\"][idx].value - 0.01\n",
    "        lw_line = abslines_2[\"line_center\"][idx].value + 0.01     \n",
    "        line_region = SpectralRegion(sw_line*u.um, lw_line*u.um)\n",
    "\n",
    "        # Variable for the line center\n",
    "        line_cnr_abs = abslines_2[\"line_center\"][idx]\n",
    "\n",
    "print(abslines_2)"
   ]
  },
  {
   "cell_type": "markdown",
   "metadata": {},
   "source": [
    "### Identify emission and absorption lines"
   ]
  },
  {
   "cell_type": "markdown",
   "metadata": {},
   "source": [
    "PAH emission feature: 6.2 micron, 7.7 micron, 8.6 micron, 11.3 micron, 12.0 micron, 12.7 micron, 14.2 micron, 16.2 micron"
   ]
  },
  {
   "cell_type": "markdown",
   "metadata": {},
   "source": [
    "Silicate absoprtion feature: 10.0 micron, 18.0 micron, 23.0 micron"
   ]
  },
  {
   "cell_type": "markdown",
   "metadata": {},
   "source": [
    "CO2 ice absorption feature: 15.2 micron"
   ]
  },
  {
   "cell_type": "markdown",
   "metadata": {},
   "source": [
    "Other ice features: CO (4.67 micron), H2O + HCOOH (6 micron),  CH3OH (6.89 micron), CH4 (7.7 micron)"
   ]
  },
  {
   "cell_type": "markdown",
   "metadata": {},
   "source": [
    "If none of these 8 emission lines and 8 absorption lines exist, then this is not a YSO"
   ]
  },
  {
   "cell_type": "code",
   "execution_count": null,
   "metadata": {},
   "outputs": [],
   "source": [
    "# First Look for pah emission features\n",
    "\n",
    "pah_emission = [6.2, 7.7, 8.6, 11.3, 12.0, 12.7, 14.2, 16.2] * u.micron  # list or known YSO pah emission lines\n",
    "len_pah_list = len(pah_emission)\n",
    "\n",
    "pah_emission_detected = []  # empty list to store detected lines\n",
    "line_cnr_list_1 = emissionlines_1[\"line_center\"]  # list of emission lines extracted from first spectrum\n",
    "len_line_list = len(line_cnr_list_1)\n",
    "line_cnr_list_2 = emissionlines_2[\"line_center\"]  # list of emission lines extracted from second spectrum\n",
    "len_line_list2 = len(line_cnr_list_2)\n",
    "\n",
    "count_pah1 = 0  # counting how many pah emission lines exist in first spectrum\n",
    "for i in range(0, len_pah_list):\n",
    "    for j in range(0, len_line_list):\n",
    "        if line_cnr_list_1[j].value - 0.15 < pah_emission.value[i] < line_cnr_list_1[j].value + 0.15:\n",
    "            count_pah1 += 1\n",
    "count_pah2 = 0  # counting how many pah emission lines exist in second spectrum\n",
    "for i in range(0, len_pah_list):\n",
    "    for j in range(0, len_line_list2):\n",
    "        if line_cnr_list_2[j].value - 0.15 < pah_emission.value[i] < line_cnr_list_2[j].value + 0.15:\n",
    "            count_pah2 += 1\n",
    "\n",
    "pah_emission_detected = []  # empty list to store detected lines\n",
    "count_pah = 0  # restart count\n",
    "for i in range(0, len_pah_list):\n",
    "    for j in range(0, len_line_list):\n",
    "        if line_cnr_list_1[j].value - 0.15 < pah_emission.value[i] < line_cnr_list_1[j].value + 0.15:\n",
    "            pah_emission_detected.append(line_cnr_list_1[j])\n",
    "            count_pah += 1\n",
    "    for j in range(0, len_line_list2):\n",
    "        if line_cnr_list_2[j].value - 0.15 < pah_emission.value[i] < line_cnr_list_2[j].value + 0.15:\n",
    "            pah_emission_detected.append(line_cnr_list_2[j])\n",
    "            count_pah += 1\n",
    "\n",
    "print(f\"{count_pah} PAH emission lines detected in spectrum\")\n",
    "if count_pah > 0:\n",
    "    print(pah_emission_detected)"
   ]
  },
  {
   "cell_type": "code",
   "execution_count": null,
   "metadata": {},
   "outputs": [],
   "source": [
    "# Look for Silicate absorption features\n",
    "\n",
    "sil_absorption = [10.0, 18.0, 23.0] * u.micron  # list or known YSO silicate absorption lines\n",
    "len_sil_list = len(sil_absorption)\n",
    "\n",
    "sil_absorption_detected = []  # empty array to store detected lines\n",
    "line_cnr_list_1 = abslines_1[\"line_center\"]  # list of absorption lines extracted from first spectrum\n",
    "len_line_list = len(line_cnr_list_1)\n",
    "line_cnr_list_2 = abslines_2[\"line_center\"]  # list of absorption lines extracted from second spectrum\n",
    "len_line_list2 = len(line_cnr_list_2)\n",
    "\n",
    "count_sil1 = 0  # counting how many silicate absorption lines exist in first spectrum\n",
    "for i in range(0, len_sil_list):\n",
    "    for j in range(0, len_line_list):\n",
    "        if line_cnr_list_1[j].value - 0.3 < sil_absorption.value[i] < line_cnr_list_1[j].value + 0.3:  # absorption features are wider than emission features therefore +/-0.2\n",
    "            count_sil1 += 1\n",
    "count_sil2 = 0  # counting how many silicate absorption lines exist in second spectrum\n",
    "for i in range(0, len_sil_list):\n",
    "    for j in range(0, len_line_list2):\n",
    "        if line_cnr_list_2[j].value - 0.3 < sil_absorption.value[i] < line_cnr_list_2[j].value + 0.3:  # absorption features are wider than emission features therefore +/-0.2\n",
    "            count_sil2 += 1\n",
    "            \n",
    "sil_absorption_detected = []  # empty array to store detected lines\n",
    "count_sil = 0  # restart count\n",
    "for i in range(0, len_sil_list):\n",
    "    for j in range(0, len_line_list):\n",
    "        if line_cnr_list_1[j].value - 0.3 < sil_absorption.value[i] < line_cnr_list_1[j].value + 0.3:\n",
    "            sil_absorption_detected.append(sil_absorption[i])\n",
    "            count_sil += 1\n",
    "    for j in range(0, len_line_list2):\n",
    "        if line_cnr_list_2[j].value - 0.3 < sil_absorption.value[i] < line_cnr_list_2[j].value + 0.3:\n",
    "            sil_absorption_detected.append(sil_absorption[i])\n",
    "            count_sil += 1\n",
    "            \n",
    "# Remove multiple detections of same line\n",
    "drop_dups_sil = list(set(sil_absorption_detected))\n",
    "print(f\"{len(drop_dups_sil)} silicate absorption lines detected in spectrum\")"
   ]
  },
  {
   "cell_type": "code",
   "execution_count": null,
   "metadata": {},
   "outputs": [],
   "source": [
    "# Look for ice absorption features\n",
    "\n",
    "ice_absorption = [4.67, 6.0, 6.9, 7.7, 15.2] * u.micron  # list or known YSO ice absorption lines\n",
    "len_ice_list = len(ice_absorption)\n",
    "\n",
    "ice_absorption_detected = []  # empty array to store detected lines\n",
    "line_cnr_list_1 = abslines_1[\"line_center\"]  # list of absorption lines extracted from first spectrum\n",
    "len_line_list = len(line_cnr_list_1)\n",
    "line_cnr_list_2 = abslines_2[\"line_center\"]  # list of absorption lines extracted from second spectrum\n",
    "len_line_list2 = len(line_cnr_list_2)\n",
    "\n",
    "count_ice1 = 0  # counting how many ice absorption lines exist in first spectrum\n",
    "for i in range(0, len_ice_list):\n",
    "    for j in range(0, len_line_list):\n",
    "        if line_cnr_list_1[j].value - 0.2 < ice_absorption.value[i] < line_cnr_list_1[j].value + 0.2:   \n",
    "            count_ice1 += 1\n",
    "count_ice2 = 0  # counting how many ice absorption lines exist in second spectrum\n",
    "for i in range(0, len_ice_list):\n",
    "    for j in range(0, len_line_list2):\n",
    "        if line_cnr_list_2[j].value - 0.2 < ice_absorption.value[i] < line_cnr_list_2[j].value + 0.2: \n",
    "            count_ice2 += 1\n",
    "            \n",
    "ice_absorption_detected = []  # empty array to store detected lines\n",
    "count_ice = 0  # restart count\n",
    "for i in range(0, len_ice_list):\n",
    "    for j in range(0, len_line_list):\n",
    "        if line_cnr_list_1[j].value - 0.2 < ice_absorption.value[i] < line_cnr_list_1[j].value + 0.2:\n",
    "            ice_absorption_detected.append(ice_absorption[i])\n",
    "            count_ice += 1\n",
    "    for j in range(0, len_line_list2):\n",
    "        if line_cnr_list_2[j].value - 0.2 < ice_absorption.value[i] < line_cnr_list_2[j].value + 0.2:\n",
    "            ice_absorption_detected.append(ice_absorption[i])\n",
    "            count_ice += 1\n",
    "             \n",
    "# Remove multiple detections of same line\n",
    "drop_dups_ice = list(set(ice_absorption_detected))\n",
    "print(f\"{len(drop_dups_ice)} ice absorption lines detected in spectrum\")"
   ]
  },
  {
   "cell_type": "markdown",
   "metadata": {},
   "source": [
    "### Classify the YSO according to what lines are detected\n",
    "\n",
    "If more than one classification pops up, then the user needs to take a closer look and the YSO can be inbetween. For example if you get \"This is a Class 2 YSO\" and \"This is a class 3 YSO\", then the protostar can be inbetween these two phases in its evolution and be a Class 2/3 YSO."
   ]
  },
  {
   "cell_type": "raw",
   "metadata": {},
   "source": [
    "# If no PAH, silicate, and ice lines found then print this is not a YSO\n",
    "if pah_emission_detected[0].value == 0 and sil_absorption_detected[0].value == 0 and ice_absorption_detected[0].value == 0:\n",
    "    print(\"This is not a YSO.\")\n",
    "\n",
    "# Else find out if YSO 1 (youngest, most embedded YSO with CO2 absorption feature at 15.2 microns)\n",
    "if pah_emission_detected[0].value != 0 or sil_absorption_detected[0].value != 0 or ice_absorption_detected[0].value != 0:\n",
    "    if len(drop_dups_ice) > 0:\n",
    "        if len(drop_dups_sil) == 0:\n",
    "            for i in range(0, count_ice):\n",
    "                if ice_absorption_detected[i].value < 15.4 and ice_absorption_detected[i].value > 15.0:\n",
    "                    print(\"This is a Class 1 YSO.\")\n",
    "                        \n",
    "# Else find out if YSO 2 (more evolved YSO with other ice absoprtion and silicate absorption features)\n",
    "    if (len(drop_dups_sil) > 0):\n",
    "        print(\"This is a Class 2 YSO.\")\n",
    "    else:\n",
    "        if len(drop_dups_ice) > 0:\n",
    "            for i in range(0, count_ice):\n",
    "                if ice_absorption_detected[i].value < 4.87 and ice_absorption_detected[i].value > 4.47:\n",
    "                    print(\"This is a Class 2 YSO.\")\n",
    "                if ice_absorption_detected[i].value < 5.8 and ice_absorption_detected[i].value > 6.2:\n",
    "                    print(\"This is a Class 2 YSO.\")\n",
    "                if ice_absorption_detected[i].value < 6.69 and ice_absorption_detected[i].value > 7.09:\n",
    "                    print(\"This is a Class 2 YSO.\")\n",
    "                if ice_absorption_detected[i].value < 7.5 and ice_absorption_detected[i].value > 7.7:\n",
    "                    print(\"This is a Class 2 YSO.\")\n",
    "                    \n",
    "# Else if PAH emission features then YSO 3\n",
    "    if (count_pah > 0) and (len(drop_dups_ice) < 0):\n",
    "        print(\"This is a Class 3 YSO.\")\n",
    "    else:\n",
    "        if (count_pah > 0) and (len(drop_dups_sil) > 0):\n",
    "            print(\"This is a Class 3 YSO.\")"
   ]
  },
  {
   "cell_type": "code",
   "execution_count": null,
   "metadata": {},
   "outputs": [],
   "source": [
    "# If no PAH, silicate, and ice lines found then print this is not a YSO\n",
    "if not pah_emission_detected and not sil_absorption_detected and not ice_absorption_detected:\n",
    "    print(\"This is not a YSO.\")\n",
    "    \n",
    "else:\n",
    "    # Else find out if YSO 1 (youngest, most embedded YSO with CO2 absorption feature at 15.2 microns)\n",
    "    if drop_dups_ice and not drop_dups_sil:\n",
    "        for i in range(0, count_ice):\n",
    "            if ice_absorption_detected[i].value < 15.4 and ice_absorption_detected[i].value > 15.0:\n",
    "                print(\"This is a Class 1 YSO.\")\n",
    "                    \n",
    "    # Else find out if YSO 2 (more evolved YSO with other ice absoprtion and silicate absorption features)\n",
    "    if drop_dups_sil:\n",
    "        print(\"This is a Class 2 YSO.\")  \n",
    "    elif count_pah == 0 and drop_dups_ice:\n",
    "        for i in range(0, count_ice):\n",
    "            if ((ice_absorption_detected[i].value < 4.87 and ice_absorption_detected[i].value > 4.47)\n",
    "                or (ice_absorption_detected[i].value < 5.8 and ice_absorption_detected[i].value > 6.2)\n",
    "                or (ice_absorption_detected[i].value < 6.69 and ice_absorption_detected[i].value > 7.09)\n",
    "                or (ice_absorption_detected[i].value < 7.5 and ice_absorption_detected[i].value > 7.7)):\n",
    "                print(\"This is a Class 2 YSO.\")\n",
    "                \n",
    "    # Else if PAH emission features then YSO 3\n",
    "    if (count_pah > 0 and not drop_dups_ice) or (count_pah > 0 and drop_dups_sil):\n",
    "        print(\"This is a Class 3 YSO.\")"
   ]
  },
  {
   "cell_type": "markdown",
   "metadata": {},
   "source": [
    "### Plot the spectra and label the emission and absorption features"
   ]
  },
  {
   "cell_type": "code",
   "execution_count": null,
   "metadata": {},
   "outputs": [],
   "source": [
    "fig = plt.figure(figsize=(10, 6))\n",
    "plt.plot(spec_contsub_1.spectral_axis, spec_contsub_1.flux, color='black')\n",
    "plt.plot(spec_contsub_2.spectral_axis, spec_contsub_2.flux, color='black')\n",
    "\n",
    "plt.xlabel(\"Wavelength ({:latex})\".format(spec.spectral_axis.unit))\n",
    "plt.ylabel(\"Flux ({:latex})\".format(spec.flux.unit))\n",
    "plt.axhline(y=0.0, color='r', linestyle='-')\n",
    "\n",
    "max_emission_plot_y = np.max(spec_contsub_2.flux.value) * 4\n",
    "\n",
    "if len(pah_emission_detected) > 0:\n",
    "    pah_vals = [v.value for v in pah_emission_detected]\n",
    "    plt.vlines(pah_vals, -max_emission_plot_y, max_emission_plot_y,\n",
    "               color='r', ls='--', label='PAH emission')\n",
    "    print(\"PAH emission lines detected: \", pah_emission_detected)\n",
    "\n",
    "if len(sil_absorption_detected) > 0:\n",
    "    sil_vals = [v.value for v in sil_absorption_detected]\n",
    "    plt.vlines(sil_vals, -max_emission_plot_y, max_emission_plot_y,\n",
    "               color='b', ls='--', label='silicate absorption')\n",
    "    print(\"silicate absorption lines detected: \", sil_absorption_detected)\n",
    "    \n",
    "if len(ice_absorption_detected) > 0:\n",
    "    ice_vals = [v.value for v in ice_absorption_detected]\n",
    "    plt.vlines(ice_vals, -max_emission_plot_y, max_emission_plot_y,\n",
    "               color='g', ls='--', label='ice absorption')\n",
    "    print(\"ice absorption lines detected: \", ice_absorption_detected)\n",
    "\n",
    "plt.xlim(5, 35)\n",
    "plt.legend(frameon=False, fontsize='medium')\n",
    "plt.tight_layout()\n",
    "plt.show()\n",
    "plt.close()"
   ]
  }
 ],
 "metadata": {
  "kernelspec": {
   "display_name": "Python 3 (ipykernel)",
   "language": "python",
   "name": "python3"
  },
  "language_info": {
   "codemirror_mode": {
    "name": "ipython",
    "version": 3
   },
   "file_extension": ".py",
   "mimetype": "text/x-python",
   "name": "python",
   "nbconvert_exporter": "python",
   "pygments_lexer": "ipython3",
   "version": "3.9.13"
  }
 },
 "nbformat": 4,
 "nbformat_minor": 4
}
