{
 "cells": [
  {
   "cell_type": "markdown",
   "id": "00417c2b-3e15-4ebd-bd0a-43307a5e1708",
   "metadata": {},
   "source": [
    "# NIRCam Wisp Removal\n",
    "---\n",
    "**Author**: Ben Sunnquist (bsunnquist@stsci.edu) <br>\n",
    "**Latest Update**: 24 July 2024<br>\n",
    "**Use case**: NIRCam Imaging detectors A3, A4, B3, and B4. <br>\n",
    "**Data**: PID 1063 Obs 6 Imaging Flats<br>\n",
    "**Test Pipeline Version**: 1.15.1"
   ]
  },
  {
   "cell_type": "markdown",
   "id": "338e0783-ee8e-4291-9574-755faaa73610",
   "metadata": {
    "editable": true,
    "slideshow": {
     "slide_type": ""
    },
    "tags": []
   },
   "source": [
    "<a id='intro'></a>\n",
    "## Introduction\n",
    "\n",
    "This notebook demonstrates how to remove \n",
    "[wisps](https://jwst-docs.stsci.edu/known-issues-with-jwst-data/nircam-known-issues/nircam-scattered-light-artifacts#NIRCamScatteredLightArtifacts-wispsWisps) from NIRCam imaging data. Wisps are a scattered light feature affecting detectors A3, A4, B3, and B4. For a given filter, wisps appear in the same detector location with only their brightness varying between exposures; therefore, they can be removed from science data by scaling and subtracting a wisp template (i.e. a median combination of all wisp appearances).\n",
    "\n",
    "The wisp templates used in this notebook will be downloaded in the [Data](#data) section, but they are also available in the \"version3\" folder within the [NIRCam wisp template Box folder](https://stsci.box.com/s/1bymvf1lkrqbdn9rnkluzqk30e8o2bne). Future updates to these templates will be added to this same Box folder, and users are encouraged to check this folder regularly to ensure they have the latest version.\n",
    "\n",
    "This notebook uses the `subtract_wisp.py` code to scale and subtract the wisps. That code can be used by itself within python, and is preferred if calibrating a large number of files in parallel, but this notebook will be used to demonstrate the various parameters available to optimize wisp removal. For each notebook cell, we'll also show the corresponding command to run the equivalent in python."
   ]
  },
  {
   "cell_type": "markdown",
   "id": "3f29f4b4-f889-4cbb-89be-4dc5d8c7e5d1",
   "metadata": {},
   "source": [
    "<a id='top'></a>\n",
    "## Table of Contents\n",
    "* [Imports](#imports)\n",
    "* [Data](#data)\n",
    "* [Run the wisp subtraction code](#Run-the-wisp-subtraction-code)\n",
    "* [Run the wisp subtraction code using custom settings](#Run-the-wisp-subtraction-code-using-custom-settings)\n",
    "    * [New wisp scaling settings](#Example-1:-New-wisp-scaling-method)\n",
    "    * [Data quality flagging](#Example-2:-Data-quality-flagging)\n",
    "    * [Other misc settings](#Example-3:-Other-misc-settings)\n",
    "* [Using custom wisp templates](#Using-custom-wisp-templates)\n",
    "* [Running the code in pieces](#Runing-the-code-in-pieces)"
   ]
  },
  {
   "cell_type": "markdown",
   "id": "0a824094-c56b-44b3-80e6-9466a6f4f57a",
   "metadata": {},
   "source": [
    "<a id='imports'></a>\n",
    "## Imports\n",
    "\n",
    "How to make an environment to run this notebook:\n",
    "\n",
    "<CODE>\n",
    "conda create -n jwst1140 python=3.11 notebook\n",
    "source activate jwst1140\n",
    "pip install -r requirements.txt\n",
    "</CODE>\n",
    "\n",
    "<BR>\n",
    "The version of the pipeline used by this notebook can be updated in the `requirments.txt` file before installation."
   ]
  },
  {
   "cell_type": "code",
   "execution_count": null,
   "id": "fa348563-e007-4135-9481-7fed3e6c09e6",
   "metadata": {},
   "outputs": [],
   "source": [
    "# load functions from the subtract_wisp.py code \n",
    "from subtract_wisp import make_segmap, process_file, subtract_wisp\n",
    "\n",
    "# load important packages\n",
    "from astropy.io import fits\n",
    "from astroquery.mast import Mast, Observations\n",
    "import glob\n",
    "import os\n",
    "import urllib\n",
    "import matplotlib.pyplot as plt\n",
    "%matplotlib inline"
   ]
  },
  {
   "cell_type": "markdown",
   "id": "38e477be-b001-49be-9b8f-7fb503686199",
   "metadata": {},
   "source": [
    "## <a id='data'></a>Data\n",
    "\n",
    "We'll use F200W imaging data from program 1063 observation 6 taken on\n",
    "detectors A3, A4, B3, and B4. These are 6 images of sparse fields that\n",
    "are affected by bright wisps. We'll also use the corresponding\n",
    "longwave images for source detection since the longwave is not impacted by wisps.\n",
    "\n",
    "Download the relevant data from MAST using\n",
    "[astroquery](https://astroquery.readthedocs.io/en/latest/mast/mast.html).<br>\n",
    "\n",
    "<div class=\"alert alert-block alert-warning\">\n",
    "Warning: If this notebook is halted during this step the downloaded\n",
    "file may be incomplete, and cause crashes later on!\n",
    "</div>"
   ]
  },
  {
   "cell_type": "code",
   "execution_count": null,
   "id": "499b9d8d-1f8a-4258-925d-3b60d44c7de7",
   "metadata": {},
   "outputs": [],
   "source": [
    "# Select the data relevant data from MAST\n",
    "params = {\"columns\": \"dataURI, filename, exp_type\",\n",
    "          \"filters\": [{\"paramName\": \"program\", \"values\": ['1063']},\n",
    "                      {\"paramName\": \"observtn\", \"values\": ['6']},\n",
    "                      {\"paramName\": \"exposure\", \"values\": ['00005']},\n",
    "                      {\"paramName\": \"visit\", \"values\": ['004']},\n",
    "                      {\"paramName\": \"detector\", \"values\": ['NRCA3', 'NRCA4', 'NRCB3', 'NRCB4', 'NRCALONG', 'NRCBLONG']},\n",
    "                      {\"paramName\": \"productLevel\", \"values\": ['2b']}]}\n",
    "t = Mast().service_request('Mast.Jwst.Filtered.Nircam', params)\n",
    "for row in t:\n",
    "    if '_cal' in row['filename']:  # only want cal files\n",
    "        result = Observations().download_file(row['dataURI'], cache=False)"
   ]
  },
  {
   "cell_type": "markdown",
   "id": "ff808e6b-ddbf-4e58-ac0b-26b1bf24606a",
   "metadata": {},
   "source": [
    "Next, we will download the wisp templates. These templates are equivalent to those in the \"version3\" folder within the [NIRCam wisp template Box folder](https://stsci.box.com/s/1bymvf1lkrqbdn9rnkluzqk30e8o2bne). Users are encouraged to check this folder regularly for any updates. For this notebook, only the F200W templates are needed:\n",
    "\n",
    "* WISP_NRCA3_F200W_CLEAR.fits\n",
    "* WISP_NRCA4_F200W_CLEAR.fits\n",
    "* WISP_NRCB3_F200W_CLEAR.fits\n",
    "* WISP_NRCB4_F200W_CLEAR.fits"
   ]
  },
  {
   "cell_type": "code",
   "execution_count": null,
   "id": "ef409ef8-280c-4156-bd78-f1e06e5820e9",
   "metadata": {},
   "outputs": [],
   "source": [
    "# Download the wisp templates\n",
    "boxlink = 'https://data.science.stsci.edu/redirect/JWST/jwst-data_analysis_tools/nircam_wisp_templates/'\n",
    "\n",
    "for detector in ['NRCA3', 'NRCA4', 'NRCB3', 'NRCB4']:\n",
    "    boxfile = os.path.join(boxlink, 'WISP_{}_F200W_CLEAR.fits'.format(detector))\n",
    "    urllib.request.urlretrieve(boxfile, os.path.basename(boxfile))"
   ]
  },
  {
   "cell_type": "code",
   "execution_count": null,
   "id": "ad7f9846-e6b2-4d94-9d96-94057487c980",
   "metadata": {},
   "outputs": [],
   "source": [
    "# Check if template files are downloaded\n",
    "template_files = ['WISP_NRCA3_F200W_CLEAR.fits',  'WISP_NRCA4_F200W_CLEAR.fits',\n",
    "                  'WISP_NRCB3_F200W_CLEAR.fits', 'WISP_NRCB4_F200W_CLEAR.fits']\n",
    "\n",
    "for tem_file in template_files:\n",
    "    if not os.path.isfile(tem_file):\n",
    "        print(f'file {tem_file} does not exist, please downoad it from Box')"
   ]
  },
  {
   "cell_type": "markdown",
   "id": "32af21b1-b980-433c-907a-578d34629339",
   "metadata": {},
   "source": [
    "## <a id='wisp_sub'></a>Run the wisp subtraction code\n",
    "\n",
    "In this section, we show how to run the wisp subtraction code on all of the shortwave images using the default parameters. The exception is we set `show_plot=True` to allow the diagnostic plots to display in the notebook.\n",
    "\n",
    "The main processing function `process_file()` combines the segmap creation and wisp scaling/subtraction steps together. The basic process the code uses is the following:\n",
    "\n",
    "1. Generate a source mask using the corresponding longwave image, since the longwave isn't affected by wisps. Ignore these pixels going forward. Occurs in the `make_segmap()` function.\n",
    "2. Load the relevant wisp template.\n",
    "3. Apply a series of scale factors to the template. For each scale factor, multiply it onto the wisp template and subtract the result from the input science data. Record the residual noise within the wisp region for each of the scale factors tested. A correction to residual 1/f (horizontal) noise is applied during this step to help with the fitting. Fit a polynomial to the residuals, and choose the scale factor with the lowest noise based on this fit. Occurs in the `subtract_wisp()` function.\n",
    "4. Multiply the chosen wisp factor onto the wisp template to generate the final wisp model. Occurs in the `subtract_wisp()` function.\n",
    "5. Subtract the final wisp model from the input data, and write out the wisp-subtracted data, the wisp model, and diagnostic plots summarizing the results. Occurs in the `subtract_wisp()` function."
   ]
  },
  {
   "cell_type": "code",
   "execution_count": null,
   "id": "24f58c3a-1f7b-4fdc-aa7f-fbe824c2358f",
   "metadata": {
    "scrolled": true
   },
   "outputs": [],
   "source": [
    "# Collect all the science data files \n",
    "files = glob.glob('*_cal.fits')\n",
    "\n",
    "files = [cal_file for cal_file in files if 'long' not in cal_file]  # only want shortwave files"
   ]
  },
  {
   "cell_type": "markdown",
   "id": "3b16a76b-75cf-4861-81f0-6b249d0533f7",
   "metadata": {},
   "source": [
    "Run the `process_file()` function in each dataset. The code generates the following:\n",
    "\n",
    "* A wisp-corrected version of the input file, with the same name as the input file besides a <I>_wisp</I> suffix added (note: the suffix used here can be changed using the `suffix` argument, which can also be set to an empty string to overwrite the input file).\n",
    "* The wisp model subtracted from the input image, with the same name as the input file besides a <I>_wisp_model</I> suffix added.\n",
    "* A diagnostic plot showing the original image, the wisp-corrected image, the wisp model subtracted, and a plot showing all of the wisp scale factors tested along with their corresponding residual noise. The factor with the lowest noise is the one applied to the wisp template to generate the wisp model.\n",
    "\n",
    "Note: calling `process_files()` rather than `process_file()` will process the files in parallel. This will save time, but the plots won't display inline in the notebook."
   ]
  },
  {
   "cell_type": "code",
   "execution_count": null,
   "id": "c196dbd7-902a-42b1-9f85-5402b5220fcb",
   "metadata": {},
   "outputs": [],
   "source": [
    "# Remove wisps from the science data\n",
    "for file in files:\n",
    "    results = process_file(file, show_plot=True)"
   ]
  },
  {
   "cell_type": "markdown",
   "id": "7e5c7f06-a38f-4a37-85d1-5a4cdbc24dc5",
   "metadata": {},
   "source": [
    "Python equivalent: \n",
    "`python subtract_wisp.py --files *_cal.fits`"
   ]
  },
  {
   "cell_type": "markdown",
   "id": "eb65ba67-65c1-4623-ae03-a3267f0e2d37",
   "metadata": {},
   "source": [
    "<a id='wisp_sub_custom'></a>\n",
    "## Run the wisp subtraction code using custom settings"
   ]
  },
  {
   "cell_type": "markdown",
   "id": "3c9cd47f-7d44-4817-b2a4-e754db0e0888",
   "metadata": {},
   "source": [
    "In this section, we'll run the wisp subtraction code using custom settings that may be helpful to optimize the wisp removal. The different settings shown here can be used in combination with those from other examples or as a standalone."
   ]
  },
  {
   "cell_type": "markdown",
   "id": "996ff57a-cd4e-44e5-8f74-9fe21dd90023",
   "metadata": {},
   "source": [
    "<a id='ex1'></a>\n",
    "### Example 1: New wisp scaling method"
   ]
  },
  {
   "cell_type": "markdown",
   "id": "752133eb-2271-4e22-b1c1-8a605f8ad807",
   "metadata": {},
   "source": [
    "By default, the wisp factor is decided based on that which results in the lowest residual noise. However, the scaling can instead be based on minimizing the overall signal level differences inside and outside the wisp-affected detector regions by setting `scale_method='median'`. For this scaling method, it's recommended to also turn off the polynomial fitting on the residuals (`poly_degree=0`) to simply choose the factor that results in the lowest difference.\n",
    "\n",
    "During the scaling, residual 1/f noise is corrected by default (`correct_rows=True`); however, for datasets that have strong e.g. amp offsets or odd-even column residuals, this same correction can be applied in the vertical direction as well (`correct_cols=True`). Note that these corrections aren't subtracted in the output file, they are only used to help the wisp scaling procedure.\n",
    "\n",
    "Below, we perform a new run using these settings."
   ]
  },
  {
   "cell_type": "code",
   "execution_count": null,
   "id": "67c3d9ae-c62e-4eb7-a550-dc181183c159",
   "metadata": {},
   "outputs": [],
   "source": [
    "# Remove wisps using the scaling method\n",
    "results = process_file('jw01063006004_02101_00005_nrcb4_cal.fits',\n",
    "                       scale_method='median', poly_degree=0, \n",
    "                       correct_cols=True, show_plot=True)"
   ]
  },
  {
   "cell_type": "markdown",
   "id": "e5f0466b-afed-4df9-a82f-bb6cb39eb9f0",
   "metadata": {},
   "source": [
    "Python equivalent: `python subtract_wisp.py --files jw01063006004_02101_00005_nrcb4_cal.fits --scale_method median --poly_degree 0 --correct_cols`"
   ]
  },
  {
   "cell_type": "markdown",
   "id": "e69a261c-00ed-4b78-b5a0-fa1a38ee736d",
   "metadata": {},
   "source": [
    "Sometimes, e.g. for crowded fields, there may not be enough empty regions to scale the wisp properly. In this case, simply subtracting the  wisp template with no scaling may provide the best results (`scale_wisp=False`, or similarly, in python `--no-scale_wisp`)."
   ]
  },
  {
   "cell_type": "markdown",
   "id": "2bbf490a-45f4-4475-b9dd-aa5c89408126",
   "metadata": {},
   "source": [
    "<a id='ex2'></a>\n",
    "### Example 2: Data quality flagging"
   ]
  },
  {
   "cell_type": "markdown",
   "id": "e1817da3-aa13-471c-aa3f-ff2af64e0f10",
   "metadata": {},
   "source": [
    "Another option is to flag any pixels with wisp signals above a certain threshold in the image's data quality array, but not subtract the wisp itself from the science data. This may be useful if you want to ignore these pixels when combining several images into a mosaic or flag them while performing photometry. This can be accomplished by setting `flag_wisp_thresh` to the chosen wisp signal threshold (units are assumed to be the same as the input file) and `sub_wisp=False`. The data quality value used here is set by the `dq_val` parameter.\n",
    "\n",
    "The default value of `dq_val` is 1, which is equivalent to the JWST Pipeline DO_NOT_USE flag, and it is ignored by default during image3 drizzling. If you would prefer the pixels to be flagged, but not ignored during that step, another option is using `dq_val=1073741824`, which is equivalent to the JWST Pipeine OTHER_BAD_PIXEL flag. More details on the various data quality flags can be found [here](https://jwst-pipeline.readthedocs.io/en/latest/jwst/references_general/references_general.html#data-quality-flags)."
   ]
  },
  {
   "cell_type": "code",
   "execution_count": null,
   "id": "e69fcf4f-a289-48f4-88a3-21609e87b770",
   "metadata": {},
   "outputs": [],
   "source": [
    "# Do not remove wisps, just flag them\n",
    "results = process_file('jw01063006004_02101_00005_nrcb4_cal.fits',\n",
    "                       flag_wisp_thresh=0.03, dq_val=1073741824,\n",
    "                       sub_wisp=False, show_plot=True)"
   ]
  },
  {
   "cell_type": "markdown",
   "id": "98429059-9038-40a3-be3c-ca5edb81b0d8",
   "metadata": {},
   "source": [
    "Python equivalent: `python subtract_wisp.py --files jw01063006004_02101_00005_nrcb4_cal.fits --flag_wisp_thresh 0.03 --dq_val 1073741824 --no-sub_wisp`\n"
   ]
  },
  {
   "cell_type": "markdown",
   "id": "20506cbb-6f6a-41a0-b6cf-4492b7ce4859",
   "metadata": {},
   "source": [
    "Check that the data quality array in this file was updated appropriately"
   ]
  },
  {
   "cell_type": "code",
   "execution_count": null,
   "id": "e5736e6e-1e40-4e60-8490-c5740a94d13d",
   "metadata": {},
   "outputs": [],
   "source": [
    "# Check data quality (DQ) array \n",
    "dq = fits.getdata('jw01063006004_02101_00005_nrcb4_cal_wisp.fits', 'DQ')\n",
    "\n",
    "# Show  pixels flagged as OTHER_BAD_PIXEL\n",
    "dq = (dq & 1073741824 != 0).astype(int) # only want to see pixels with dq_val 1073741824\n",
    "plt.imshow(dq, cmap='gray', origin='lower', vmin=0, vmax=0.1)"
   ]
  },
  {
   "cell_type": "markdown",
   "id": "275c048c-f642-46c0-9f0b-68b9bcda0d53",
   "metadata": {},
   "source": [
    "<a id='ex3'></a>\n",
    "### Example 3: Other misc settings"
   ]
  },
  {
   "cell_type": "markdown",
   "id": "6fbfb5c2-0b40-4fa4-8890-3fdb1a66e284",
   "metadata": {},
   "source": [
    "This example will show a variety of other settings that may be\n",
    "useful either used alone or in combination with any of the\n",
    "other settings shown above. The full list of optional settings\n",
    "can be seen in the `make_segmap()` and `subtract_wisp()` docstrings.\n",
    "\n",
    "In this example, we'll do the source-finding on the input image\n",
    "itself (rather than the corresponding longwave image) by\n",
    "setting `seg_from_lw=False`. We'll increase the source\n",
    "detection `sigma` to help avoid flagging the wisp itself, and\n",
    "we'll save the resulting segmentation mask by setting\n",
    "`save_segmap=True` for inspection. The segmentation mask\n",
    "filename is the same as the input file, just with the\n",
    "<I>_seg</I> suffix added.\n",
    "\n",
    "We'll also only subtract wisp signals above 0.01 MJy/sr\n",
    "(`min_wisp=0.01`). To save a little time, we'll only test wispscale factors between 0.5 and 1.5 in 0.05 steps."
   ]
  },
  {
   "cell_type": "code",
   "execution_count": null,
   "id": "8eaf492c-bff4-48e9-9220-e14e56e43e9d",
   "metadata": {},
   "outputs": [],
   "source": [
    "# Get full list of optional settings for make_segmap() using help(make_segmap)\n",
    "#\n",
    "# Use special settings\n",
    "results = process_file('jw01063006004_02101_00005_nrcb4_cal.fits',\n",
    "                       seg_from_lw=False, sigma=1.5, save_segmap=True, \n",
    "                       min_wisp=0.01, factor_min=0.5, factor_max=1.5,\n",
    "                       factor_step=0.05, show_plot=True)"
   ]
  },
  {
   "cell_type": "markdown",
   "id": "8195caf8-ca91-497a-b904-e54d4a990e8d",
   "metadata": {},
   "source": [
    "Python equivalent: `python subtract_wisp.py --files jw01063006004_02101_00005_nrcb4_cal.fits --no-seg_from_lw --sigma 1.5 --save_segmap --min_wisp 0.01 --factor_min 0.5 --factor_max 1.5 --factor_step 0.05`\n"
   ]
  },
  {
   "cell_type": "markdown",
   "id": "793c22b0-9ad0-4692-91bb-d96792696ab1",
   "metadata": {},
   "source": [
    "As seen above, these custom settings resulted in an oversubtraction. This is likely due to poor source finding in the wisp region (e.g. the wisp itself being flagged as a source), and why source finding using the longwave image is recommended. We can confirm this by inspecting the generated segmentation map."
   ]
  },
  {
   "cell_type": "code",
   "execution_count": null,
   "id": "acaaaaf0-9285-42ee-a6b8-3bf84f4cc826",
   "metadata": {},
   "outputs": [],
   "source": [
    "data = fits.getdata('jw01063006004_02101_00005_nrcb4_cal.fits')\n",
    "segmap = fits.getdata('jw01063006004_02101_00005_nrcb4_cal_seg.fits')\n",
    "\n",
    "# Show the images\n",
    "fig, axes = plt.subplots(1, 2, figsize=(20, 10))\n",
    "axes[0].imshow(data, origin='lower', cmap='gray', vmin=0.18, vmax=0.3)\n",
    "axes[1].imshow(segmap, origin='lower', cmap='gray', vmin=0, vmax=0.1)"
   ]
  },
  {
   "cell_type": "markdown",
   "id": "b57fa256-94df-4577-a8d7-404e2824a1f4",
   "metadata": {},
   "source": [
    "<a id='custom_templates'></a>\n",
    "## Using custom wisp templates"
   ]
  },
  {
   "cell_type": "markdown",
   "id": "a01cb24d-13af-4745-b89b-3ccc7d0e1dc4",
   "metadata": {},
   "source": [
    "This section shows how you can incorporate custom wisp templates while still using the wisp subtraction procedure contained in the main code. This may be useful if you have your own wisp templates or want to apply a manual scale factor to the existing templates.\n",
    "\n",
    "In this example, we'll use the existing template, but multiply it by our own scale factor and turn the scaling procedure off (`scale_wisp=False`) so the code simply applies the wisp model as given. Note that turning off the scaling procedure is not required when using a custom template; users can both provide a custom template and still keep the scaling procedure on. Since the scaling procedure is off in this example, the source finding is irrelevant, and so we can skip the segmap creation function `make_segmap()` and run `subtract_wisp()` directly."
   ]
  },
  {
   "cell_type": "code",
   "execution_count": null,
   "id": "17dbbd90-a406-416e-a70d-2fc45b0a7b38",
   "metadata": {},
   "outputs": [],
   "source": [
    "# Get the wisp template and apply a manual scale factor\n",
    "wisp_data = fits.getdata('WISP_NRCB4_F200W_CLEAR.fits') * 1.05\n",
    "\n",
    "# Process the file with the custom wisp template\n",
    "results = subtract_wisp('jw01063006004_02101_00005_nrcb4_cal.fits', wisp_data, scale_wisp=False, show_plot=True)"
   ]
  },
  {
   "cell_type": "markdown",
   "id": "5aedb011-4c13-49ce-bd18-c5d60417d0fc",
   "metadata": {},
   "source": [
    "<a id='pieces'></a>\n",
    "## Runing the code in pieces"
   ]
  },
  {
   "cell_type": "markdown",
   "id": "a712be10-d672-4d67-be18-b90a94393b34",
   "metadata": {},
   "source": [
    "In this section, we'll show how to run the full wisp removal process in pieces. This may be useful to provide more flexibility or when finding the optimal settings to use for your data. We'll use a variety of custom settings - see the function docstrings for more details."
   ]
  },
  {
   "cell_type": "code",
   "execution_count": null,
   "id": "aaf41481-d1f1-4edc-9b8a-9e2d0f06527f",
   "metadata": {},
   "outputs": [],
   "source": [
    "# The file to process\n",
    "cal_file = 'jw01063006004_02101_00005_nrcb4_cal.fits'\n",
    "\n",
    "# The wisp template to use. We'll use a \"custom\" template again.\n",
    "wisp_data = fits.getdata('WISP_NRCB4_F200W_CLEAR.fits') * 1.05\n",
    "\n",
    "# Generate the segmentation map\n",
    "segmap_data = make_segmap(cal_file, sigma=1.0, npixels=8, dilate_segmap=10)\n",
    "\n",
    "# Scale and subtract the wisp template\n",
    "results = subtract_wisp(cal_file, wisp_data=wisp_data, segmap_data=segmap_data, show_plot=True)"
   ]
  }
 ],
 "metadata": {
  "kernelspec": {
   "display_name": "Python 3 (ipykernel)",
   "language": "python",
   "name": "python3"
  },
  "language_info": {
   "codemirror_mode": {
    "name": "ipython",
    "version": 3
   },
   "file_extension": ".py",
   "mimetype": "text/x-python",
   "name": "python",
   "nbconvert_exporter": "python",
   "pygments_lexer": "ipython3",
   "version": "3.11.8"
  }
 },
 "nbformat": 4,
 "nbformat_minor": 5
}
