{
 "cells": [
  {
   "cell_type": "markdown",
   "metadata": {},
   "source": [
    "# Extended Aperture Photometry"
   ]
  },
  {
   "cell_type": "markdown",
   "metadata": {},
   "source": [
    "**Use case:** Measure galaxy photometry in a field. Related to [JDox Science Use Case #22](https://jwst-docs.stsci.edu/near-infrared-camera/nircam-example-science-programs/nircam-deep-field-imaging-with-miri-imaging-parallels).<br>\n",
    "**Data:** WST simulated NIRCam images from [JADES JWST GTO extragalactic blank field](http://fenrir.as.arizona.edu/jwstmock/).<br>\n",
    "(Williams et al. 2018) https://ui.adsabs.harvard.edu/abs/2018ApJS..236...33W.<br>\n",
    "**Tools:**  photutils, matplotlib, scipy, scikit.<br>\n",
    "**Cross-intrument:** potentially MIRI.<br>\n",
    "**Documentation:** This notebook is part of a STScI's larger [post-pipeline Data Analysis Tools Ecosystem](https://jwst-docs.stsci.edu/jwst-post-pipeline-data-analysis).<br>\n",
    "\n",
    "## Introduction\n",
    "\n",
    "This notebook uses `photutils` to detect objects/galaxies in NIRCam deep imaging.  Detections are first made in a F200W image, then isophotal photometry is obtained in all 9 filters (F090W, F115W, F150W, F200W, F277W, F335M, F356W, F410M, F444W). The catalog is loaded back in and some simple analysis is performed on the full catalog and on an individual galaxy.\n",
    "\n",
    "The notebook analyzes only the central 1000 x 1000 pixels (30\" x 30\") of the full JADES simulation. These cutouts have been staged at STScI with permission from the authors (Williams et al.).\n",
    "\n",
    "**NOTE:** The photometry is aperture matched, but no PSF corrections are made. For more accurate color measurements, PSF corrections should be implemented, given the large range of wavelengths (and thus PSF FWHM) spanning a factor of >4.\n",
    "\n",
    "**NOTE:** The simulated JADES images have different units (e-/s) than JWST pipeline products (MJy/sr).\n",
    "\n",
    "**NOTE:** An exposure map is missing but required to calculate flux uncertainties."
   ]
  },
  {
   "cell_type": "markdown",
   "metadata": {},
   "source": [
    "# To Do\n",
    "* PSF corrections\n",
    "* Check accuracy of photometry against simulated JADES catalog\n",
    "* Exposure map required for input to error calculation\n",
    "* ABmag units cannot be written to ecsv file (astropy update coming soon)\n",
    "* plot with text labels looks horrible (I wish cursor hover would show id number instead)\n",
    "* Fix plot secondary axis: mag vs. flux\n",
    "* requirements.txt file -- but I don't know what versions are \"required\"\n",
    "* rest of Robel's comments: https://github.com/spacetelescope/dat_pyinthesky/pull/82#pullrequestreview-355206337"
   ]
  },
  {
   "cell_type": "markdown",
   "metadata": {},
   "source": [
    "## Download WEBBPSF Data"
   ]
  },
  {
   "cell_type": "code",
   "execution_count": null,
   "metadata": {},
   "outputs": [],
   "source": [
    "import os\n",
    "import tarfile\n",
    "import urllib.request\n",
    "\n",
    "boxlink = 'https://stsci.box.com/shared/static/34o0keicz2iujyilg4uz617va46ks6u9.gz'                                                           \n",
    "boxfile = './webbpsf-data/webbpsf-data-1.0.0.tar.gz'\n",
    "\n",
    "webbpsf_folder = './webbpsf-data'\n",
    "\n",
    "# Check whether the specified path exists or not\n",
    "isExist = os.path.exists(webbpsf_folder)\n",
    "if not isExist:\n",
    "  # Create a new directory because it does not exist \n",
    "  os.makedirs(webbpsf_folder)\n",
    "    \n",
    "urllib.request.urlretrieve(boxlink, boxfile)\n",
    "gzf = tarfile.open(boxfile)\n",
    "gzf.extractall(webbpsf_folder)\n"
   ]
  },
  {
   "cell_type": "markdown",
   "metadata": {},
   "source": [
    "## Import packages"
   ]
  },
  {
   "cell_type": "code",
   "execution_count": null,
   "metadata": {},
   "outputs": [],
   "source": [
    "import os\n",
    "\n",
    "import numpy as np\n",
    "\n",
    "from astropy.convolution import convolve\n",
    "from astropy.io import fits\n",
    "from astropy.stats import gaussian_fwhm_to_sigma\n",
    "from astropy.table import QTable\n",
    "import astropy.units as u\n",
    "from astropy.visualization import make_lupton_rgb, SqrtStretch, ImageNormalize, simple_norm\n",
    "import astropy.wcs as wcs\n",
    "\n",
    "from photutils.background import Background2D, MedianBackground\n",
    "from photutils.segmentation import (detect_sources, deblend_sources, SourceCatalog,\n",
    "                                    make_2dgaussian_kernel, SegmentationImage)\n",
    "from photutils.utils import calc_total_error"
   ]
  },
  {
   "cell_type": "markdown",
   "metadata": {},
   "source": [
    "## Matplotlib setup for plotting\n",
    "There are two versions\n",
    " - `notebook` -- gives interactive plots, but makes the overall notebook a bit harder to scroll\n",
    " - `inline` -- gives non-interactive plots for better overall scrolling"
   ]
  },
  {
   "cell_type": "code",
   "execution_count": null,
   "metadata": {},
   "outputs": [],
   "source": [
    "import matplotlib.pyplot as plt\n",
    "import matplotlib as mpl\n",
    "\n",
    "# Use this version for non-interactive plots (easier scrolling of the notebook)\n",
    "%matplotlib inline\n",
    "\n",
    "# Use this version if you want interactive plots\n",
    "# %matplotlib notebook\n",
    "\n",
    "# These gymnastics are needed to make the sizes of the figures\n",
    "# be the same in both the inline and notebook versions\n",
    "%config InlineBackend.print_figure_kwargs = {'bbox_inches': None}\n",
    "\n",
    "mpl.rcParams['savefig.dpi'] = 80\n",
    "mpl.rcParams['figure.dpi'] = 80"
   ]
  },
  {
   "cell_type": "markdown",
   "metadata": {},
   "source": [
    "## Create list of images to be loaded and analyzed"
   ]
  },
  {
   "cell_type": "code",
   "execution_count": null,
   "metadata": {},
   "outputs": [],
   "source": [
    "baseurl = 'https://data.science.stsci.edu/redirect/JWST/jwst-data_analysis_tools/nircam_photometry/'\n",
    "\n",
    "filters = 'F090W F115W F150W F200W F277W F335M F356W F410M F444W'.split()\n",
    "\n",
    "# Data images [e-/s]\n",
    "imagefiles = {}\n",
    "for filt in filters:\n",
    "    filename = f'jades_jwst_nircam_goods_s_crop_{filt}.fits'\n",
    "    imagefiles[filt] = os.path.join(baseurl, filename)\n",
    "\n",
    "# Weight images (Inverse Variance Maps; IVM)\n",
    "weightfiles = {}\n",
    "for filt in filters:\n",
    "    filename = f'jades_jwst_nircam_goods_s_crop_{filt}_wht.fits'\n",
    "    weightfiles[filt] = os.path.join(baseurl, filename)"
   ]
  },
  {
   "cell_type": "markdown",
   "metadata": {},
   "source": [
    "## Load detection image: F200W"
   ]
  },
  {
   "cell_type": "code",
   "execution_count": null,
   "metadata": {},
   "outputs": [],
   "source": [
    "filt = 'F200W'\n",
    "infile = imagefiles[filt]\n",
    "hdu = fits.open(infile)\n",
    "data = hdu[0].data\n",
    "imwcs = wcs.WCS(hdu[0].header, hdu)\n",
    "\n",
    "weight = fits.open(weightfiles[filt])[0].data"
   ]
  },
  {
   "cell_type": "markdown",
   "metadata": {},
   "source": [
    "## Report image size and field of view"
   ]
  },
  {
   "cell_type": "code",
   "execution_count": null,
   "metadata": {},
   "outputs": [],
   "source": [
    "ny, nx = data.shape\n",
    "pixscale = wcs.utils.proj_plane_pixel_scales(imwcs)[0] \n",
    "pixscale *= imwcs.wcs.cunit[0].to('arcsec')\n",
    "outline = '%d x %d pixels' % (ny, nx)\n",
    "outline += ' = %g\" x %g\"' % (ny * pixscale, nx * pixscale)\n",
    "outline += ' (%.2f\" / pixel)' % pixscale\n",
    "print(outline)"
   ]
  },
  {
   "cell_type": "markdown",
   "metadata": {},
   "source": [
    "## Create color image (optional)"
   ]
  },
  {
   "cell_type": "code",
   "execution_count": null,
   "metadata": {},
   "outputs": [],
   "source": [
    "# 3 NIRCam short wavelength channel images\n",
    "r = fits.open(imagefiles['F200W'])[0].data\n",
    "g = fits.open(imagefiles['F150W'])[0].data\n",
    "b = fits.open(imagefiles['F090W'])[0].data\n",
    "\n",
    "rgb = make_lupton_rgb(r, g, b, Q=5, stretch=0.02)  # , minimum=-0.001\n",
    "\n",
    "fig = plt.figure(figsize=(8, 8))\n",
    "ax = plt.subplot(projection=imwcs)\n",
    "plt.imshow(rgb, origin='lower')\n",
    "plt.xlabel('Right Ascension')\n",
    "plt.ylabel('Declination')\n",
    "fig.tight_layout()\n",
    "plt.subplots_adjust(left=0.15)"
   ]
  },
  {
   "cell_type": "markdown",
   "metadata": {},
   "source": [
    "## Detect Sources and Deblend using `photutils`\n",
    "https://photutils.readthedocs.io/en/latest/segmentation.html"
   ]
  },
  {
   "cell_type": "code",
   "execution_count": null,
   "metadata": {},
   "outputs": [],
   "source": [
    "# For detection, requiring 5 connected pixels 2-sigma above background\n",
    "\n",
    "# Measure background and set detection threshold\n",
    "bkg_estimator = MedianBackground()\n",
    "bkg = Background2D(data, (50, 50), filter_size=(3, 3), bkg_estimator=bkg_estimator)\n",
    "threshold = bkg.background + (2. * bkg.background_rms)\n",
    "\n",
    "# Before detection, smooth image with Gaussian FWHM = 3 pixels\n",
    "smooth_kernel = make_2dgaussian_kernel(3.0, size=3)\n",
    "convolved_data = convolve(data, smooth_kernel)\n",
    "\n",
    "# Detect and deblend\n",
    "segm_detect = detect_sources(convolved_data, threshold, npixels=5)\n",
    "\n",
    "segm_deblend = deblend_sources(convolved_data, segm_detect, npixels=5, nlevels=32, contrast=0.001)\n",
    "\n",
    "# Save segmentation map of detected objects\n",
    "segm_hdu = fits.PrimaryHDU(segm_deblend.data.astype(np.uint32), header=imwcs.to_header())\n",
    "segm_hdu.writeto('JADES_detections_segm.fits', overwrite=True)"
   ]
  },
  {
   "cell_type": "markdown",
   "metadata": {},
   "source": [
    "## Measure photometry (and more) in detection image\n",
    "https://photutils.readthedocs.io/en/latest/segmentation.html#centroids-photometry-and-morphological-properties"
   ]
  },
  {
   "cell_type": "code",
   "execution_count": null,
   "metadata": {},
   "outputs": [],
   "source": [
    "#error = bkg.background_rms\n",
    "# Input weight should be exposure map. Fudging for now.\n",
    "error = calc_total_error(data, bkg.background_rms, weight/500)\n",
    "#cat = source_properties(data-bkg.background, segm_deblend, wcs=imwcs, background=bkg.background, error=error)\n",
    "cat = SourceCatalog(data-bkg.background, segm_deblend, wcs=imwcs, background=bkg.background, error=error)"
   ]
  },
  {
   "cell_type": "markdown",
   "metadata": {},
   "source": [
    "## Show detections alongside images (optional)"
   ]
  },
  {
   "cell_type": "code",
   "execution_count": null,
   "metadata": {},
   "outputs": [],
   "source": [
    "fig, ax = plt.subplots(2, 3, sharex=True, sharey=True, figsize=(9.5, 6))\n",
    "# For RA,Dec axes instead of pixels, add: , subplot_kw={'projection': imwcs})\n",
    "\n",
    "# Color image\n",
    "ax[0, 0].imshow(rgb, origin='lower')\n",
    "ax[0, 0].set_title('Color Image')\n",
    "\n",
    "# Data\n",
    "norm = simple_norm(data, 'sqrt', percent=99.)\n",
    "ax[0, 1].imshow(data, origin='lower', cmap='Greys_r', norm=norm)\n",
    "ax[0, 1].set_title('Detection Image F200W')\n",
    "\n",
    "# Segmentation map\n",
    "cmap = segm_deblend.make_cmap(seed=12345)\n",
    "ax[0, 2].imshow(segm_deblend, origin='lower', cmap=cmap, interpolation='nearest')\n",
    "ax[0, 2].set_title('Detections (Segmentation Image)')\n",
    "\n",
    "# Weight\n",
    "ax[1, 0].imshow(weight, origin='lower', cmap='Greys_r', vmin=0)\n",
    "ax[1, 0].set_title('Weight Image F200W')\n",
    "\n",
    "# RMS\n",
    "ax[1, 1].imshow(bkg.background_rms, origin='lower', norm=None)\n",
    "ax[1, 1].set_title('Background RMS')\n",
    "\n",
    "# Total error including Poisson noise\n",
    "norm = simple_norm(error, 'sqrt', percent=99.)\n",
    "ax[1, 2].imshow(error, origin='lower', norm=norm)\n",
    "ax[1, 2].set_title('RMS + Poisson noise')\n",
    "\n",
    "fig.tight_layout()"
   ]
  },
  {
   "cell_type": "markdown",
   "metadata": {},
   "source": [
    "## View all measured quantities in detection image (optional)"
   ]
  },
  {
   "cell_type": "code",
   "execution_count": null,
   "metadata": {},
   "outputs": [],
   "source": [
    "cat.to_table()"
   ]
  },
  {
   "cell_type": "markdown",
   "metadata": {},
   "source": [
    "## Only keep some quantities"
   ]
  },
  {
   "cell_type": "code",
   "execution_count": null,
   "metadata": {},
   "outputs": [],
   "source": [
    "columns = 'label xcentroid ycentroid sky_centroid area semimajor_sigma semiminor_sigma ellipticity orientation gini'.split()\n",
    "tbl = cat.to_table(columns=columns)\n",
    "tbl.rename_column('semimajor_sigma', 'a')\n",
    "tbl.rename_column('semiminor_sigma', 'b')"
   ]
  },
  {
   "cell_type": "code",
   "execution_count": null,
   "metadata": {},
   "outputs": [],
   "source": [
    "tbl"
   ]
  },
  {
   "cell_type": "markdown",
   "metadata": {},
   "source": [
    "## Convert measured fluxes (data units) to magnitudes\n",
    "\n",
    "https://docs.astropy.org/en/stable/units/\n",
    "\n",
    "https://docs.astropy.org/en/stable/units/equivalencies.html#photometric-zero-point-equivalency\n",
    "\n",
    "https://docs.astropy.org/en/stable/units/logarithmic_units.html#logarithmic-units"
   ]
  },
  {
   "cell_type": "code",
   "execution_count": null,
   "metadata": {},
   "outputs": [],
   "source": [
    "# not detected: mag =  99; magerr = 1-sigma upper limit assuming zero flux\n",
    "# not observed: mag = -99; magerr = 0\n",
    "def fluxes2mags(flux, fluxerr):\n",
    "    nondet = flux < 0  # Non-detection if flux is negative\n",
    "    unobs = (fluxerr <= 0) + (fluxerr == np.inf)  # Unobserved if flux uncertainty is negative or infinity\n",
    "\n",
    "    mag = flux.to(u.ABmag)\n",
    "    magupperlimit = fluxerr.to(u.ABmag)  # 1-sigma upper limit if flux=0\n",
    "\n",
    "    mag = np.where(nondet, 99 * u.ABmag, mag)\n",
    "    mag = np.where(unobs, -99 * u.ABmag, mag)\n",
    "\n",
    "    magerr = 2.5 * np.log10(1 + fluxerr/flux) \n",
    "    magerr = magerr.value * u.ABmag\n",
    "\n",
    "    magerr = np.where(nondet, magupperlimit, magerr)\n",
    "    magerr = np.where(unobs, 0*u.ABmag, magerr)\n",
    "    \n",
    "    return mag, magerr\n",
    "\n",
    "# Includes features I couldn't find in astropy:\n",
    "# mag = 99 / -99 for non-detections / unobserved\n",
    "# flux uncertainties -> mag uncertainties"
   ]
  },
  {
   "cell_type": "markdown",
   "metadata": {},
   "source": [
    "## Multiband photometry using isophotal apertures defined in detection image\n",
    "(Similar to running SourceExtractor in double-image mode)"
   ]
  },
  {
   "cell_type": "code",
   "execution_count": null,
   "metadata": {},
   "outputs": [],
   "source": [
    "filters = 'F090W F115W F150W F200W F277W F335M F356W F410M F444W'.split()\n",
    "for filt in filters:\n",
    "    infile = imagefiles[filt]\n",
    "    print(filt)\n",
    "    print(infile)\n",
    "    print(weightfiles[filt])\n",
    "    hdu = fits.open(infile)\n",
    "    data = hdu[0].data\n",
    "    zp = hdu[0].header['ABMAG'] * u.ABmag  # zeropoint\n",
    "    weight = fits.open(weightfiles[filt])[0].data\n",
    "    \n",
    "    # Measure background\n",
    "    bkg = Background2D(data, (50, 50), filter_size=(3, 3), bkg_estimator=bkg_estimator)\n",
    "    #error = bkg.background_rms\n",
    "    error = calc_total_error(data, bkg.background_rms, weight/500)\n",
    "                             \n",
    "    # Measure properties in each image of previously detected objects \n",
    "    filtcat = SourceCatalog(data-bkg.background, segm_deblend, wcs=imwcs, background=bkg.background, error=error)\n",
    "\n",
    "    # Convert measured fluxes to fluxes in nJy and to AB magnitudes\n",
    "    filttbl = filtcat.to_table()\n",
    "    tbl[filt+'_flux']    = flux    = filttbl['segment_flux']     * zp.to(u.nJy)\n",
    "    tbl[filt+'_fluxerr'] = fluxerr = filttbl['segment_fluxerr'] * zp.to(u.nJy)\n",
    "\n",
    "    mag, magerr = fluxes2mags(flux, fluxerr)\n",
    "    #mag = mag * u.ABmag  # incompatible with file writing\n",
    "    tbl[filt+'_mag']    = mag.value\n",
    "    tbl[filt+'_magerr'] = magerr.value"
   ]
  },
  {
   "cell_type": "markdown",
   "metadata": {},
   "source": [
    "## View complete results (optional)"
   ]
  },
  {
   "cell_type": "code",
   "execution_count": null,
   "metadata": {},
   "outputs": [],
   "source": [
    "tbl"
   ]
  },
  {
   "cell_type": "markdown",
   "metadata": {},
   "source": [
    "## Save photometry as output catalog"
   ]
  },
  {
   "cell_type": "code",
   "execution_count": null,
   "metadata": {},
   "outputs": [],
   "source": [
    "tbl.write('JADESphotometry.ecsv', overwrite=True)"
   ]
  },
  {
   "cell_type": "code",
   "execution_count": null,
   "metadata": {},
   "outputs": [],
   "source": [
    "!head -175 JADESphotometry.ecsv  # show the first 175 lines"
   ]
  },
  {
   "cell_type": "markdown",
   "metadata": {},
   "source": [
    "## Reformat output catalog for readability (optional)"
   ]
  },
  {
   "cell_type": "code",
   "execution_count": null,
   "metadata": {},
   "outputs": [],
   "source": [
    "# Remove units (pixels) from area\n",
    "tbl['area'] = tbl['area'].value.astype(int)\n",
    "\n",
    "# Replace sky_centroid with ra, dec\n",
    "tbl['ra'] = tbl['sky_centroid'].ra.degree\n",
    "tbl['dec'] = tbl['sky_centroid'].dec.degree\n",
    "\n",
    "columns = list(tbl.columns)\n",
    "columns = columns[:3] + ['ra', 'dec'] + columns[4:-2]\n",
    "\n",
    "tbl = tbl[columns]"
   ]
  },
  {
   "cell_type": "code",
   "execution_count": null,
   "metadata": {},
   "outputs": [],
   "source": [
    "for column in columns:\n",
    "    tbl[column].info.format = '.4f'\n",
    "\n",
    "tbl['ra'].info.format = '11.7f'\n",
    "tbl['dec'].info.format = '11.7f'\n",
    "\n",
    "tbl['label'].info.format = 'd'\n",
    "tbl['area'].info.format = 'd'"
   ]
  },
  {
   "cell_type": "code",
   "execution_count": null,
   "metadata": {},
   "outputs": [],
   "source": [
    "tbl.write('JADESphotometry.cat', format='ascii.fixed_width_two_line', delimiter=' ', overwrite=True)"
   ]
  },
  {
   "cell_type": "code",
   "execution_count": null,
   "metadata": {},
   "outputs": [],
   "source": [
    "!head -10 JADESphotometry.cat  # show the first 10 lines"
   ]
  },
  {
   "cell_type": "markdown",
   "metadata": {},
   "source": [
    "# Start new session and analyze results"
   ]
  },
  {
   "cell_type": "markdown",
   "metadata": {},
   "source": [
    "## Load catalog and segmentation map"
   ]
  },
  {
   "cell_type": "code",
   "execution_count": null,
   "metadata": {},
   "outputs": [],
   "source": [
    "# Catalog: ecsv format preserves units for loading in Python notebooks\n",
    "tbl = QTable.read('JADESphotometry.ecsv')\n",
    "\n",
    "# Reconstitute filter list\n",
    "filters = []\n",
    "for param in tbl.columns:\n",
    "    if param[-4:] == '_mag':\n",
    "        filters.append(param[:-4])\n",
    "\n",
    "# Segmentation map\n",
    "segmfile = 'JADES_detections_segm.fits'\n",
    "segm = fits.open(segmfile)[0].data\n",
    "segm = SegmentationImage(segm)"
   ]
  },
  {
   "cell_type": "markdown",
   "metadata": {},
   "source": [
    "## Plot number counts vs. magnitude"
   ]
  },
  {
   "cell_type": "code",
   "execution_count": null,
   "metadata": {},
   "outputs": [],
   "source": [
    "fig = plt.figure(figsize=(8, 4))\n",
    "\n",
    "filt = 'F200W'\n",
    "mag1 = tbl[filt + '_mag']\n",
    "\n",
    "mag1 = mag1[(0 < mag1) & (mag1 < 90)]  # detections only\n",
    "n = plt.hist(mag1, histtype='step', label=filt)\n",
    "\n",
    "plt.xlabel('AB magnitude')\n",
    "plt.ylabel('Number counts')\n",
    "plt.legend()"
   ]
  },
  {
   "cell_type": "markdown",
   "metadata": {},
   "source": [
    "## Plot F200W vs. F090W magnitudes and look for dropouts"
   ]
  },
  {
   "cell_type": "code",
   "execution_count": null,
   "metadata": {},
   "outputs": [],
   "source": [
    "#import mplcursors\n",
    "# Would love a better solution here!\n",
    "\n",
    "mag1 = tbl['F090W_mag']\n",
    "mag2 = tbl['F200W_mag']\n",
    "\n",
    "# Only plot detections in F200W\n",
    "det2 = (0 < mag2) & (mag2 < 90)\n",
    "\n",
    "mag1 = mag1[det2]\n",
    "mag2 = mag2[det2]\n",
    "ids = tbl['label'][det2]\n",
    "\n",
    "plt.figure(figsize=(8, 4))\n",
    "\n",
    "plt.plot(mag1, mag2, '.')\n",
    "\n",
    "for i in range(len(mag1)):\n",
    "    plt.text(mag1[i], mag2[i], ids[i])\n",
    "\n",
    "plt.xlabel('F090W AB magnitude')\n",
    "plt.ylabel('F200W AB magnitude')"
   ]
  },
  {
   "cell_type": "markdown",
   "metadata": {},
   "source": [
    "## Look at one object"
   ]
  },
  {
   "cell_type": "code",
   "execution_count": null,
   "metadata": {},
   "outputs": [],
   "source": [
    "# Could select object by position\n",
    "#x, y = 905, 276\n",
    "#id = segm.data[y,x]\n",
    "\n",
    "# Select by ID number\n",
    "id = 261  # F090W dropout\n",
    "obj = tbl[id-1]"
   ]
  },
  {
   "cell_type": "code",
   "execution_count": null,
   "metadata": {},
   "outputs": [],
   "source": [
    "obj"
   ]
  },
  {
   "cell_type": "code",
   "execution_count": null,
   "metadata": {},
   "outputs": [],
   "source": [
    "obj['ellipticity']"
   ]
  },
  {
   "cell_type": "code",
   "execution_count": null,
   "metadata": {},
   "outputs": [],
   "source": [
    "segmobj = segm.segments[segm.get_index(id)]\n",
    "segmobj"
   ]
  },
  {
   "cell_type": "markdown",
   "metadata": {},
   "source": [
    "## Show the object in all the images"
   ]
  },
  {
   "cell_type": "code",
   "execution_count": null,
   "metadata": {},
   "outputs": [],
   "source": [
    "fig, ax = plt.subplots(2, len(filters)+1, figsize=(9.5, 3.5), sharex=True, sharey=True)\n",
    "\n",
    "ax[0, 0].imshow(rgb[segmobj.slices], origin='lower', extent=segmobj.bbox.extent)\n",
    "ax[0, 0].set_title('Color')\n",
    "\n",
    "cmap = segm.make_cmap(seed=12345)  # ERROR\n",
    "ax[1, 0].imshow(segm.data[segmobj.slices], origin='lower', extent=segmobj.bbox.extent, cmap=cmap,\n",
    "               interpolation='nearest')\n",
    "ax[1, 0].set_title('Segment')\n",
    "\n",
    "for i in range(1, len(filters)+1):\n",
    "    filt = filters[i-1]\n",
    "\n",
    "    # Show data on top row\n",
    "    data = fits.open(imagefiles[filt])[0].data\n",
    "    stamp = data[segmobj.slices]\n",
    "    norm = ImageNormalize(stretch=SqrtStretch())  # scale each filter individually\n",
    "    ax[0, i].imshow(stamp, extent=segmobj.bbox.extent, cmap='Greys_r', norm=norm, origin='lower')\n",
    "    ax[0, i].set_title(filt.upper())\n",
    "\n",
    "    # Show weights on bottom row\n",
    "    weight = fits.open(weightfiles[filt])[0].data\n",
    "    stamp = weight[segmobj.slices]\n",
    "    # set black to zero weight (no exposure time / bad pixel)\n",
    "    ax[1, i].imshow(stamp, extent=segmobj.bbox.extent, vmin=0, cmap='Greys_r', origin='lower')\n",
    "\n",
    "ax[0, 0].set_ylabel('Data')\n",
    "ax[1, 0].set_ylabel('Weight')"
   ]
  },
  {
   "cell_type": "markdown",
   "metadata": {},
   "source": [
    "## Plot SED (Spectral Energy Distribution)"
   ]
  },
  {
   "cell_type": "code",
   "execution_count": null,
   "metadata": {},
   "outputs": [],
   "source": [
    "fig, ax = plt.subplots(figsize=(8, 6))\n",
    "\n",
    "for filt in filters:\n",
    "    lam = int(filt[1:4]) / 100\n",
    "    plt.errorbar(lam, obj[filt+'_flux'].value, obj[filt+'_fluxerr'].value, marker='.', c='b')\n",
    "\n",
    "plt.axhline(0, c='k', ls=':')\n",
    "plt.xlim(0, 5)\n",
    "plt.xlabel('Wavelength ($\\mu$m)')\n",
    "plt.ylabel('Flux (nJy)')\n",
    "\n",
    "mlim = 31.4\n",
    "flim = mlim * u.ABmag\n",
    "flim = flim.to(u.nJy).value\n",
    "\n",
    "# Add AB magnitudes as secondary x-axis at right\n",
    "# https://matplotlib.org/gallery/subplots_axes_and_figures/secondary_axis.html#sphx-glr-gallery-subplots-axes-and-figures-secondary-axis-py\n",
    "def AB2nJy(mAB):\n",
    "    m = mAB * u.ABmag\n",
    "    f = m.to(u.nJy)\n",
    "    f = f.value\n",
    "    f = np.where(f > flim, f, flim)\n",
    "    return f\n",
    "\n",
    "def nJy2AB(F_nJy):\n",
    "    f = F_nJy * u.nJy\n",
    "    m = f.to(u.ABmag)\n",
    "    m = m.value\n",
    "    m = np.where(m < mlim, m, mlim)\n",
    "    return m\n",
    "    \n",
    "plt.ylim(flim, plt.ylim()[1])\n",
    "\n",
    "secax = ax.secondary_yaxis('right', functions=(nJy2AB, AB2nJy))\n",
    "secax.set_ylabel('magnitude (AB)')"
   ]
  },
  {
   "cell_type": "markdown",
   "metadata": {},
   "source": [
    "## Magnitude conversion fails for flux <= 0"
   ]
  },
  {
   "cell_type": "code",
   "execution_count": null,
   "metadata": {},
   "outputs": [],
   "source": [
    "fig, ax = plt.subplots(figsize=(8, 6))\n",
    "\n",
    "for filt in filters:\n",
    "    lam = int(filt[1:4]) / 100\n",
    "    plt.errorbar(lam, obj[filt+'_flux'].value, obj[filt+'_fluxerr'].value, marker='.', c='b')\n",
    "\n",
    "plt.axhline(0, c='k', ls=':')\n",
    "plt.xlim(0, 5)\n",
    "plt.xlabel('Wavelength ($\\mu$m)')\n",
    "plt.ylabel('Flux (nJy)')\n",
    "\n",
    "f0 = 10**(0.4 * 31.4)  # flux [nJy] at zero magnitude\n",
    "b0 = 1.e-12  # this should be filter dependent\n",
    "\n",
    "# Add AB magnitudes as secondary x-axis at right\n",
    "# https://matplotlib.org/gallery/subplots_axes_and_figures/secondary_axis.html#sphx-glr-gallery-subplots-axes-and-figures-secondary-axis-py\n",
    "def AB2nJy(m):\n",
    "    f = np.sinh(-0.4 * m * np.log(10) - np.log(b0)) * 2 * b0 * f0\n",
    "    return f\n",
    "\n",
    "# Luptitudes\n",
    "# https://www.sdss.org/dr12/algorithms/magnitudes/\n",
    "def nJy2AB(f):\n",
    "    m = -2.5 / np.log(10) * (np.arcsinh((f / f0) / (2 * b0)) + np.log(b0))\n",
    "    return m\n",
    "\n",
    "#plt.ylim(flim, plt.ylim()[1])\n",
    "\n",
    "secax = ax.secondary_yaxis('right', functions=(nJy2AB, AB2nJy))\n",
    "secax.set_ylabel('asinh magnitude (AB)')"
   ]
  }
 ],
 "metadata": {
  "kernelspec": {
   "display_name": "Python 3 (ipykernel)",
   "language": "python",
   "name": "python3"
  },
  "language_info": {
   "codemirror_mode": {
    "name": "ipython",
    "version": 3
   },
   "file_extension": ".py",
   "mimetype": "text/x-python",
   "name": "python",
   "nbconvert_exporter": "python",
   "pygments_lexer": "ipython3",
   "version": "3.11.5"
  }
 },
 "nbformat": 4,
 "nbformat_minor": 4
}
