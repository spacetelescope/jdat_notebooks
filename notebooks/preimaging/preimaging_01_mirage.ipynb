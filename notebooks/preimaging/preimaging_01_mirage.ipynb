{
 "cells": [
  {
   "cell_type": "markdown",
   "metadata": {},
   "source": [
    "# NIRCam Preimaging: MIRAGE Simulations"
   ]
  },
  {
   "cell_type": "markdown",
   "metadata": {},
   "source": [
    "**Use case:** Simulation of NIRCam pre-imaging for NIRSpec.<br>\n",
    "**Data:** JWST simulated NIRCam data from MIRAGE; LMC.<br>\n",
    "**Tools:**  mirage, jwst, astropy, grismconf, nircam_gsim.<br>\n",
    "**Cross-intrument:** NIRCam. <br>\n",
    "**Documentation:** This notebook is part of a STScI's larger [post-pipeline Data Analysis Tools Ecosystem](https://jwst-docs.stsci.edu/jwst-post-pipeline-data-analysis).<br>\n",
    "\n ",
    "## Introduction\n",
    "\n",
    "\n",
    "This notebook shows step-by-step instructions to simulate images of the JWST LMC astrometric calibration field. The NIRCam images are simulated using the software [MIRAGE](https://jwst-docs.stsci.edu/jwst-other-tools/mirage-data-simulator). The observation is designed in APT. The APT output is used as input of MIRAGE.\n",
    "\n",
    "This Notebook must be executed from an environment that has MIRAGE installed. Follow the instructions in the [Installing MIRAGE webpage](https://mirage-data-simulator.readthedocs.io/en/latest/install.html) before executing this Jupyter Notebook. \n",
    "\n",
    "### MIRAGE Tutorials\n",
    "\n",
    "This notebook provides an example of running MIRAGE in a specific science use case. For a broader tutorial on running MIRAGE, it is suggested you review the [Jwebbinar Number 10](https://www.stsci.edu/jwst/science-execution/jwebbinars).\n",
    "\n"
   ]
  },
  {
   "cell_type": "code",
   "execution_count": null,
   "metadata": {},
   "outputs": [],
   "source": [
    "import os\n",
    "from glob import glob\n",
    "import shutil\n",
    "import yaml\n",
    "import zipfile\n",
    "import urllib.request\n",
    "\n",
    "os.environ[\"PYSYN_CDBS\"] = \"./grp/redcat/trds/\"\n",
    "synphot_folder = './grp'\n",
    "\n",
    "synExist = os.path.exists(synphot_folder)\n",
    "if not synExist:\n",
    "    os.makedirs(synphot_folder)\n",
    "    \n",
    "# mirage imports\n",
    "from mirage.imaging_simulator import ImgSim\n",
    "from mirage.seed_image import catalog_seed_image\n",
    "from mirage.dark import dark_prep\n",
    "from mirage.ramp_generator import obs_generator\n",
    "from mirage.yaml import yaml_generator\n",
    "from mirage.reference_files import downloader\n",
    "\n",
    "from astropy.table import Table\n",
    "from astropy.io import fits\n"
   ]
  },
  {
   "cell_type": "code",
   "execution_count": null,
   "metadata": {},
   "outputs": [],
   "source": [
    "%matplotlib inline\n",
    "import matplotlib.pyplot as plt"
   ]
  },
  {
   "cell_type": "markdown",
   "metadata": {},
   "source": [
    "## Setting things up"
   ]
  },
  {
   "cell_type": "markdown",
   "metadata": {},
   "source": [
    "After activating the environment with MIRAGE and beginning a Jupyter Notebook session, we begin by defining the working directory"
   ]
  },
  {
   "cell_type": "code",
   "execution_count": null,
   "metadata": {},
   "outputs": [],
   "source": [
    "path='./'  # write here your working directory\n",
    "\n",
    "os.chdir(path)"
   ]
  },
  {
   "cell_type": "code",
   "execution_count": null,
   "metadata": {},
   "outputs": [],
   "source": [
    "pwd"
   ]
  },
  {
   "cell_type": "markdown",
   "metadata": {},
   "source": [
    "*Developer Note:*\n",
    "Find out a way to install the mirage data for the testing CI. Right now the data size is too"
   ]
  },
  {
   "cell_type": "markdown",
   "metadata": {},
   "source": [
    "Mirage is accompanied by a set of reference files that are used to construct the simulated data. Here we define the location of the MIRAGE data. This is the directory that contains the reference files associated with MIRAGE. \n",
    "For users at STScI, this is the location of MIRAGE data:"
   ]
  },
  {
   "cell_type": "code",
   "execution_count": null,
   "metadata": {},
   "outputs": [],
   "source": [
    "os.environ['MIRAGE_DATA'] = './mirage_data/'\n"
   ]
  },
  {
   "cell_type": "markdown",
   "metadata": {},
   "source": [
    "### Download reference files. This will take a long time. You will need around ~100 GB of space.\n",
    "\n",
    "If the user is outside of STScI then the reference files must be downloaded using the \"downloader\" module. Please follow the instructions in https://mirage-data-simulator.readthedocs.io/en/latest/reference_files.html and create an appropriate MIRAGE_DATA location. "
   ]
  },
  {
   "cell_type": "code",
   "execution_count": null,
   "metadata": {},
   "outputs": [],
   "source": [
    "download_path = './'"
   ]
  },
  {
   "cell_type": "code",
   "execution_count": null,
   "metadata": {},
   "outputs": [],
   "source": [
    "downloader.download_reffiles(download_path, instrument='FGS', dark_type='linearized', skip_darks=False, single_dark=True, skip_cosmic_rays=False, skip_psfs=False)"
   ]
  },
  {
   "cell_type": "code",
   "execution_count": null,
   "metadata": {},
   "outputs": [],
   "source": [
    "downloader.download_reffiles(download_path, instrument='NIRCam', dark_type='linearized', skip_darks=False, single_dark=True, skip_cosmic_rays=False, skip_psfs=False)"
   ]
  },
  {
   "cell_type": "markdown",
   "metadata": {},
   "source": [
    "# Download Data"
   ]
  },
  {
   "cell_type": "code",
   "execution_count": null,
   "metadata": {},
   "outputs": [],
   "source": [
    "boxlink = 'https://data.science.stsci.edu/redirect/JWST/jwst-data_analysis_tools/preimaging_notebooks/preimaging.zip'\n",
    "boxfile = './preimaging.zip'\n",
    "\n",
    "# Download zip file\n",
    "if not os.path.exists(boxfile):\n",
    "    urllib.request.urlretrieve(boxlink, boxfile)\n",
    "    \n",
    "    zf = zipfile.ZipFile(boxfile, 'r')\n",
    "    zf.extractall()"
   ]
  },
  {
   "cell_type": "markdown",
   "metadata": {},
   "source": [
    "## Generating input yaml files\n",
    "\n",
    "We begin the simulation using the programme's APT file. The xml and pointings files must be exported from APT, and are then used as input to the yaml_generator, which will generate a series of yaml input files.\n",
    "\n",
    "From APT we export two files: the xml and pointing files. These should be in the working directory.\n"
   ]
  },
  {
   "cell_type": "code",
   "execution_count": null,
   "metadata": {},
   "outputs": [],
   "source": [
    "# Specify the xml and pointing files exported from APT\n",
    "xml_file = os.path.join('preimaging', 'NRC21_pid1069_2018_rev2.xml')\n",
    "pointing_file = os.path.join('preimaging', 'NRC21_pid1069_2018_rev2.pointing')"
   ]
  },
  {
   "cell_type": "markdown",
   "metadata": {},
   "source": [
    "Additional optional data to be included."
   ]
  },
  {
   "cell_type": "code",
   "execution_count": null,
   "metadata": {},
   "outputs": [],
   "source": [
    "# Optionally set the telescope roll angle (PAV3) for the observations\n",
    "pav3=0.0\n",
    "\n",
    "# Define the output directory\n",
    "output_dir = path"
   ]
  },
  {
   "cell_type": "markdown",
   "metadata": {},
   "source": [
    "In this example we create NIRCam images based on a catalogue (all_filters_lmc.cat) of point sources. This catalogue contains the AB magnitude of each source in the following six filters: F070W, F150W, F200W, F277W, F356W, and F444W. \n",
    "\n",
    "The dictionary of catalogs must use the APT target names as keys, for example `LMC-ASTROMETRIC-FIELD`. Full details on yaml_generator input options are given here: https://mirage-data-simulator.readthedocs.io/en/latest/yaml_generator.html\n"
   ]
  },
  {
   "cell_type": "markdown",
   "metadata": {},
   "source": [
    "This is what the input catalogue looks like. Space separated values with an uncommented header line. \n",
    "\n",
    "``` \n",
    "# position_RA_Dec\n",
    "# abmag\n",
    "# \n",
    "# \n",
    "index x_or_RA y_or_Dec nircam_f070w_magnitude nircam_f150w_magnitude nircam_f200w_magnitude nircam_f277w_magnitude nircam_f356w_magnitude nircam_f444w_magnitude\n",
    "1 80.386396453731 -69.468909240644 21.63889 21.59946 21.93288 22.51786 22.99632 23.4255\n",
    "2 80.385587687224 -69.469200540277 20.42033 20.05396 20.32926 20.92191 21.37946 21.83321\n",
    "3 80.38036547567 -69.470930464875 21.8158 21.86888 22.2175 22.8008 23.28381 23.7064\n",
    "4 80.388130492656 -69.468453170293 21.11582 20.8028 21.08802 21.67932 22.14077 22.59048\n",
    "5 80.388935773363 -69.468195831029 21.76617 21.80178 22.14757 22.73117 23.21336 23.63717\n",
    "```"
   ]
  },
  {
   "cell_type": "markdown",
   "metadata": {},
   "source": [
    "For more information look at the following link \n",
    "\n",
    "https://github.com/spacetelescope/mirage/blob/master/examples/Catalog_Generation_Tools.ipynb"
   ]
  },
  {
   "cell_type": "code",
   "execution_count": null,
   "metadata": {},
   "outputs": [],
   "source": [
    "# Source catalogs to be used\n",
    "cat_dict = { 'LMC-ASTROMETRIC-FIELD': {'nircam': {'point_source': 'preimaging/all_filters_lmc.cat'} ,\n",
    "                                          'fgs': {'point_source': 'dummy.cat'} } ,\n",
    "             '2 LMC-ASTROMETRIC-FIELD': {'nircam': {'point_source': 'preimaging/all_filters_lmc.cat'} ,\n",
    "                                          'fgs': {'point_source': 'dummy.cat'} } }"
   ]
  },
  {
   "cell_type": "markdown",
   "metadata": {},
   "source": [
    "## Running the yaml_generator\n",
    "This will create a collection of yaml files that will be used as input when creating the simulated data. There will be one yaml file for each detector and exposure, so there can be quite a few files created if your programme has lots of exposures or dithers. This LMC  programme will generate 528 files using six NIRCam filters and the JWST FGS. "
   ]
  },
  {
   "cell_type": "code",
   "execution_count": null,
   "metadata": {},
   "outputs": [],
   "source": [
    "# Run the yaml generator\n",
    "\n",
    "yam = yaml_generator.SimInput(xml_file, pointing_file, \n",
    "                              catalogs=cat_dict, \n",
    "                              verbose=True,\n",
    "                              simdata_output_dir=output_dir,\n",
    "                              output_dir=output_dir,\n",
    "                              roll_angle=pav3, \n",
    "                              # to do : explain linear vs raw\n",
    "                              datatype='linear,raw') \n",
    "\n",
    "yam.use_linearized_darks = True\n",
    "yam.create_inputs()"
   ]
  },
  {
   "cell_type": "markdown",
   "metadata": {},
   "source": [
    "## Organizing files according to filter"
   ]
  },
  {
   "cell_type": "markdown",
   "metadata": {},
   "source": [
    "These notebooks will generate a large amount of data and it is useful to keep it organized in sub directories.\n",
    "\n",
    "yaml: all the yaml files organized according to filter\n",
    "mirage_output: linear and uncal files\n",
    "pipeline_level1: rate files\n",
    "pipeline_level2: cal files "
   ]
  },
  {
   "cell_type": "code",
   "execution_count": null,
   "metadata": {},
   "outputs": [],
   "source": [
    "path = os.getcwd()\n",
    "files = glob('jw*yaml')\n",
    "allfiles = glob('jw*')\n",
    "\n",
    "if not os.path.exists(os.path.join(path,'mirage_output')):\n",
    "    os.mkdir(os.path.join(path,'mirage_output'))\n",
    "             \n",
    "if not os.path.exists(os.path.join(path,'pipeline_level1')):\n",
    "    os.mkdir(os.path.join(path,'pipeline_level1'))\n",
    "             \n",
    "if not os.path.exists(os.path.join(path,'pipeline_level2')):\n",
    "    os.mkdir(os.path.join(path,'pipeline_level2'))\n",
    "             \n",
    "if not os.path.exists(os.path.join(path,'yaml')):\n",
    "    os.mkdir(os.path.join(path,'yaml'))"
   ]
  },
  {
   "cell_type": "markdown",
   "metadata": {},
   "source": [
    "Here we store the yaml files in the yaml directory organized according to filter. The cell below will fail if the files have already been relocated before. If you want to intentionally re-do this step, please manually remove the previous files from the output directory."
   ]
  },
  {
   "cell_type": "code",
   "execution_count": null,
   "metadata": {},
   "outputs": [],
   "source": [
    "# we organize files according to filter\n",
    "for yamlfile in files:\n",
    "\n",
    "    with open(yamlfile, 'r') as stream: #open the yaml file in read mode\n",
    "        doc = yaml.load(stream, Loader=yaml.FullLoader)\n",
    "        \n",
    "        filtname = doc['Readout']['filter'] #read the filter keyword\n",
    "        if not os.path.exists(os.path.join(path,'yaml',filtname.lower())):\n",
    "            os.mkdir(os.path.join(path,'yaml',filtname.lower()))\n",
    "    \n",
    "    filetomove = yamlfile  \n",
    "    input_file = filetomove\n",
    "    output_file = os.path.join(path,'yaml',filtname.lower()) \n",
    "    \n",
    "    print('input  = ',input_file)\n",
    "    print('output = ',output_file)\n",
    "    \n",
    "    shutil.move(input_file, output_file) #move the file to the corresponding sub directory\n"
   ]
  },
  {
   "cell_type": "markdown",
   "metadata": {},
   "source": [
    "# Execute MIRAGE and create simulated data\n",
    "\n",
    "Now that the yaml files have been generated, we can execute MIRAGE using them as input parameters and generate the NIRCam images."
   ]
  },
  {
   "cell_type": "markdown",
   "metadata": {},
   "source": [
    "As an example, let us choose filter F150W. We are going to simulate all of the images that were observed using filter F150W. The variable \"listname\" contains the names of the yaml files that we want to process through MIRAGE. There are 128 F150W yaml files.  \n",
    "\n",
    "### This step will take a long time to run. To decrease the run-time, we will only process Exposure 0004. You can change the filter to process all files if desired."
   ]
  },
  {
   "cell_type": "code",
   "execution_count": null,
   "metadata": {},
   "outputs": [],
   "source": [
    "# input parameters\n",
    "\n",
    "filtname = 'f150w'\n",
    "\n",
    "cwd = os.getcwd()\n",
    "filter_pattern = os.path.join(cwd,'yaml',filtname.lower(),'jw01069001001*0004*yaml') \n",
    "files = glob(filter_pattern)[:]\n",
    "listname = files"
   ]
  },
  {
   "cell_type": "code",
   "execution_count": null,
   "metadata": {},
   "outputs": [],
   "source": [
    "# copy the F150W yaml files back in the working directory\n",
    "for yamlfile in files:\n",
    "    input_file = yamlfile         \n",
    "    output_file = cwd \n",
    "    print('input  = ',input_file)\n",
    "    print('output = ',output_file)\n",
    "    shutil.copy(input_file, output_file) #this copies over filter files"
   ]
  },
  {
   "cell_type": "code",
   "execution_count": null,
   "metadata": {},
   "outputs": [],
   "source": [
    "# read the list of yaml files to process\n",
    "t = Table.read(listname, format='ascii.fast_no_header')\n",
    "input_yaml = t['col1']\n",
    "\n",
    "yaml_list = []\n",
    "for k in range(len(input_yaml)):\n",
    "    yaml_list.append(input_yaml[k])\n",
    "\n",
    "print(yaml_list)\n",
    "\n",
    "files = yaml_list\n",
    "paramlist = yaml_list\n",
    "print(files)"
   ]
  },
  {
   "cell_type": "markdown",
   "metadata": {},
   "source": [
    "From each yaml file, Mirage will produce a noiseless seed image, a \"raw\" [(level 1b) file](https://jwst-pipeline.readthedocs.io/en/stable/jwst/data_products/science_products.html?highlight=uncal#uncalibrated-raw-data-uncal), and a linearized ramp (equivalent to the output of the linearity correction step of the [calwebb_detector1 pipeline](https://jwst-pipeline.readthedocs.io/en/stable/jwst/pipeline/calwebb_detector1.html))"
   ]
  },
  {
   "cell_type": "code",
   "execution_count": null,
   "metadata": {
    "tags": []
   },
   "outputs": [],
   "source": [
    "for yamlfile in files:\n",
    "    print('---------------------PROCESSING: ',yamlfile,'  -------------------------------')\n",
    "    \n",
    "    # run Mirage\n",
    "    sim = ImgSim()\n",
    "    sim.paramfile = yamlfile\n",
    "    sim.create()"
   ]
  },
  {
   "cell_type": "markdown",
   "metadata": {},
   "source": [
    "\n",
    "## Examine the output\n",
    "Here we display the output files generated by MIRAGE. The UNCAL file is the raw uncalibrated file. "
   ]
  },
  {
   "cell_type": "markdown",
   "metadata": {},
   "source": [
    "### Seed image\n",
    "The seed image contains only the signal from the astronomical sources and background. There are no detector effects, nor cosmic rays added to this count rate image.\n"
   ]
  },
  {
   "cell_type": "code",
   "execution_count": null,
   "metadata": {},
   "outputs": [],
   "source": [
    "def show(array,title,min=0,max=1000):\n",
    "    plt.figure(figsize=(12,12))\n",
    "    plt.imshow(array,clim=(min,max))\n",
    "    plt.title(title)\n",
    "    plt.colorbar().set_label('DN$^{-}$/s')"
   ]
  },
  {
   "cell_type": "code",
   "execution_count": null,
   "metadata": {},
   "outputs": [],
   "source": [
    "seed_file = 'jw01069001001_01101_00004_nrcb4_uncal_F150W_CLEAR_final_seed_image.fits'\n",
    "\n",
    "with fits.open(seed_file) as hdulist:\n",
    "    seed_data = hdulist[1].data\n",
    "print(seed_data.shape)\n",
    "show(seed_data,'Seed Image',max=5)"
   ]
  },
  {
   "cell_type": "markdown",
   "metadata": {},
   "source": [
    "### Linear file example\n",
    "MIRAGE generates the linear and uncalibrated files. Here we display an example linear file. "
   ]
  },
  {
   "cell_type": "code",
   "execution_count": null,
   "metadata": {},
   "outputs": [],
   "source": [
    "linear_file = 'jw01069001001_01101_00004_nrcb4_linear.fits'\n",
    "with fits.open(linear_file) as hdulist:\n",
    "    linear_data = hdulist['SCI'].data\n",
    "print(linear_data.shape)"
   ]
  },
  {
   "cell_type": "code",
   "execution_count": null,
   "metadata": {},
   "outputs": [],
   "source": [
    "# this image has five groups\n",
    "# we display the last group\n",
    "show(linear_data[0, 4, :, :], \"Final Group linear file\", max=250)"
   ]
  },
  {
   "cell_type": "markdown",
   "metadata": {},
   "source": [
    "### Raw uncalibrated file example\n",
    "First let us display a single group, which is dominated by noise and detector artifacts."
   ]
  },
  {
   "cell_type": "code",
   "execution_count": null,
   "metadata": {},
   "outputs": [],
   "source": [
    "raw_file = 'jw01069001001_01101_00004_nrcb4_uncal.fits'\n",
    "with fits.open(raw_file) as hdulist:\n",
    "    raw_data = hdulist['SCI'].data\n",
    "print(raw_data.shape)"
   ]
  },
  {
   "cell_type": "code",
   "execution_count": null,
   "metadata": {},
   "outputs": [],
   "source": [
    "# the image has five groups. Here we display the last group\n",
    "show(raw_data[0, 4, :, :], \"Final Group uncal file\", max=15000)"
   ]
  },
  {
   "cell_type": "markdown",
   "metadata": {},
   "source": [
    "Many of the instrumental artifacts can be removed by looking at the difference between two groups. Raw data values are integers, so first make the data floats before doing the subtraction."
   ]
  },
  {
   "cell_type": "code",
   "execution_count": null,
   "metadata": {},
   "outputs": [],
   "source": [
    "show(1. * raw_data[0, 4, :, :] - 1. * raw_data[0, 0, :, :], \"Last Minus First Group uncal file\", max=200)"
   ]
  },
  {
   "cell_type": "code",
   "execution_count": null,
   "metadata": {},
   "outputs": [],
   "source": []
  }
 ],
 "metadata": {
  "anaconda-cloud": {},
  "kernelspec": {
   "display_name": "Python 3 (ipykernel)",
   "language": "python",
   "name": "python3"
  },
  "language_info": {
   "codemirror_mode": {
    "name": "ipython",
    "version": 3
   },
   "file_extension": ".py",
   "mimetype": "text/x-python",
   "name": "python",
   "nbconvert_exporter": "python",
   "pygments_lexer": "ipython3",
   "version": "3.8.10"
  }
 },
 "nbformat": 4,
 "nbformat_minor": 4
}
