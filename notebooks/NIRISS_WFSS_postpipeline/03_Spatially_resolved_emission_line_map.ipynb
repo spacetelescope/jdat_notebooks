{
 "cells": [
  {
   "cell_type": "markdown",
   "metadata": {},
   "source": [
    "# WFSS Spectra Part 3: Emission Line Map"
   ]
  },
  {
   "cell_type": "markdown",
   "metadata": {},
   "source": [
    "**Use case:** optimal extraction of grism spectra; redshift measurement; emission-line maps.  Simplified version of [JDox Science Use Case # 33](https://jwst-docs.stsci.edu/near-infrared-imager-and-slitless-spectrograph/niriss-example-science-programs/niriss-wfss-with-nircam-parallel-imaging-of-galaxies-in-lensing-clusters).<br>\n",
    "**Data:** JWST simulated NIRISS images from [MIRAGE](https://jwst-docs.stsci.edu/jwst-other-tools/mirage-data-simulator), run through the [JWST calibration pipeline](https://jwst-pipeline.readthedocs.io/en/latest/); galaxy cluster.<br>\n",
    "**Tools:**  specutils, astropy, pandas, emcee, lmfit, corner, h5py.<br>\n",
    "**Cross-intrument:** NIRSpec <br>\n",
    "**Documentation:** This notebook is part of a STScI's larger [post-pipeline Data Analysis Tools Ecosystem](https://jwst-docs.stsci.edu/jwst-post-pipeline-data-analysis).<br>\n",
    "\n",
    "\n",
    "## Introduction\n",
    "\n",
    "This notebook is 4 of 4 in a set focusing on NIRISS WFSS data:\n",
    "    1. 1D optimal extraction since the JWST pipeline only provides a box extraction.  Optimal extraction improves S/N of spectra for faint sources.\n",
    "    2. Combine and normalize 1D spectra.\n",
    "    3. Cross correlate galaxy with template to get redshift.\n",
    "    4. Spatially resolved emission line map.\n",
    "\n",
    "This notebook obtains an emission line map from the 2D-cutout of NIRISS WFSS spectra. This notebook will require the 2D-cutout of NIRISS WFSS spectrum (e.g., l3_nis_f150w_G150C_s00004_cal.fits; Pipeline spec3 product).\n",
    "\n",
    "**Note:** For this example, the notebook uses only a 2D rectified spectra at one dither position, directly obtained from the current versionn of the  pipeline (Build 7.5), but one could start with spectra stacked with all dither positions too, to improve S/Ns.\n"
   ]
  },
  {
   "cell_type": "code",
   "execution_count": null,
   "metadata": {},
   "outputs": [],
   "source": [
    "%matplotlib inline"
   ]
  },
  {
   "cell_type": "code",
   "execution_count": null,
   "metadata": {},
   "outputs": [],
   "source": [
    "import os\n",
    "\n",
    "import numpy as np\n",
    "\n",
    "from astropy.io import fits\n",
    "import astropy.units as u\n",
    "from astropy.modeling import models\n",
    "from astropy.modeling.polynomial import Chebyshev1D\n",
    "\n",
    "from specutils.spectra import Spectrum1D\n",
    "from specutils.fitting import fit_lines\n",
    "from specutils.fitting import continuum\n",
    "\n",
    "from astropy import __version__ as astropy_version\n",
    "print('astropy', astropy_version)"
   ]
  },
  {
   "cell_type": "code",
   "execution_count": null,
   "metadata": {},
   "outputs": [],
   "source": [
    "import matplotlib.pyplot as plt\n",
    "import matplotlib as mpl\n",
    "\n",
    "mpl.rcParams['savefig.dpi'] = 80\n",
    "mpl.rcParams['figure.dpi'] = 80"
   ]
  },
  {
   "cell_type": "markdown",
   "metadata": {},
   "source": [
    "### 0. Download notebook 01 products\n",
    "These can be also obtained by running the notebooks."
   ]
  },
  {
   "cell_type": "code",
   "execution_count": null,
   "metadata": {},
   "outputs": [],
   "source": [
    "if not os.path.exists('./output'):\n",
    "    import zipfile\n",
    "    import urllib.request\n",
    "    boxlink = 'https://data.science.stsci.edu/redirect/JWST/jwst-data_analysis_tools/NIRISS_lensing_cluster/output.zip'\n",
    "    boxfile = './output.zip'\n",
    "    urllib.request.urlretrieve(boxlink, boxfile)\n",
    "    zf = zipfile.ZipFile(boxfile, 'r')\n",
    "    zf.extractall()\n",
    "else:\n",
    "    print('Already exists')"
   ]
  },
  {
   "cell_type": "code",
   "execution_count": null,
   "metadata": {},
   "outputs": [],
   "source": [
    "# Download files, if not exists yet.\n",
    "if not os.path.exists('./pipeline_products'):\n",
    "    import zipfile\n",
    "    import urllib.request\n",
    "    boxlink = 'https://data.science.stsci.edu/redirect/JWST/jwst-data_analysis_tools/NIRISS_lensing_cluster/pipeline_products.zip'\n",
    "    boxfile = './pipeline_products.zip'\n",
    "    urllib.request.urlretrieve(boxlink, boxfile)\n",
    "    zf = zipfile.ZipFile(boxfile, 'r')\n",
    "    zf.extractall()"
   ]
  },
  {
   "cell_type": "code",
   "execution_count": null,
   "metadata": {},
   "outputs": [],
   "source": [
    "# Which target?\n",
    "DIR_OUT = './output/'\n",
    "filt = 'f200w'\n",
    "\n",
    "grism = 'G150C'\n",
    "# grism = 'G150R'\n",
    "\n",
    "id = '00004'"
   ]
  },
  {
   "cell_type": "markdown",
   "metadata": {},
   "source": [
    "### 1.Get Halpha emission line map;"
   ]
  },
  {
   "cell_type": "code",
   "execution_count": null,
   "metadata": {},
   "outputs": [],
   "source": [
    "# Open two-dimensional file;\n",
    "# can be downloaded in No.01a.\n",
    "DIR_DATA = './pipeline_products/'\n",
    "\n",
    "# Zero-indexed number for dither --- the test data has two dither positions.\n",
    "ndither = 0\n",
    "\n",
    "# File\n",
    "file_2d = f'{DIR_DATA}l3_nis_{filt}_{grism}_s{id}_cal.fits'\n",
    "hdu_2d = fits.open(file_2d)\n",
    "\n",
    "# Align grism direction\n",
    "#   - x-direction = Dispersion (wavelength) direction.\n",
    "#   - y-direction = Cross-dispersion.\n",
    "# in this notebook.\n",
    "    \n",
    "if grism == 'G150C':\n",
    "    # If spectrum is horizontal;\n",
    "    data_2d = hdu_2d[ndither*7+1].data\n",
    "    dq_2d = hdu_2d[ndither*7+2].data\n",
    "    err_2d = hdu_2d[ndither*7+3].data\n",
    "    wave_2d = hdu_2d[ndither*7+4].data\n",
    "else:\n",
    "    data_2d = rotate(hdu_2d[ndither*7+1].data, 90)\n",
    "    dq_2d = rotate(hdu_2d[ndither*7+2].data, 90)\n",
    "    err_2d = rotate(hdu_2d[ndither*7+3].data, 90)\n",
    "    wave_2d = rotate(hdu_2d[ndither*7+4].data, 90)"
   ]
  },
  {
   "cell_type": "code",
   "execution_count": null,
   "metadata": {},
   "outputs": [],
   "source": [
    "plt.imshow(data_2d[:, :])"
   ]
  },
  {
   "cell_type": "markdown",
   "metadata": {},
   "source": [
    "### Subtract continuum at each y-position:\n",
    "There are two options, depending on the brightness of the source;\n",
    "- 1.Subtract continuum estimated at each position of cross-dispersion column. This works for a bright source.\n",
    "- 2.Subtract a single continuum (\"master continuum\"), assuming the shape is same across cross-dispersion direction as the one from a 1d extraction. This is required for a faint source.\n",
    "\n",
    "Since we clearly see continuum across the source, here we demonstrate the option 1."
   ]
  },
  {
   "cell_type": "code",
   "execution_count": null,
   "metadata": {},
   "outputs": [],
   "source": [
    "# At which y position do we want to see spectrum?\n",
    "# as an example;\n",
    "yy = 10\n",
    "\n",
    "spec_unit = u.dimensionless_unscaled\n",
    "\n",
    "mask_line = ((wave_2d[yy, :] > 1.75) & (wave_2d[yy, :] < 1.97)) | ((wave_2d[yy, :] > 2.08) & (wave_2d[yy, :] < 2.23))\n",
    "\n",
    "obs = Spectrum1D(spectral_axis=wave_2d[yy, :][mask_line]*u.um, flux=data_2d[yy, :][mask_line]*spec_unit)\n",
    "cont = continuum.fit_generic_continuum(obs, model=Chebyshev1D(7))\n",
    "\n",
    "plt.plot(wave_2d[yy, :], data_2d[yy, :], color='r', label=f'Observed at y={yy}')\n",
    "plt.plot(wave_2d[yy, :][mask_line]*u.um, cont(wave_2d[yy, :][mask_line]*u.um), color='b', label='Fitted continuum')\n",
    "\n",
    "plt.legend(loc=0)\n",
    "plt.xlim(1.6, 2.3)"
   ]
  },
  {
   "cell_type": "code",
   "execution_count": null,
   "metadata": {},
   "outputs": [],
   "source": [
    "cont(wave_2d[yy, :][mask_line]*u.um).value"
   ]
  },
  {
   "cell_type": "code",
   "execution_count": null,
   "metadata": {},
   "outputs": [],
   "source": [
    "# Repeat this along y-axis;\n",
    "flux_cont2d = data_2d[:, :] * 0\n",
    "for yy in range(len(data_2d[:, 0])):\n",
    "\n",
    "    mask_line = ((wave_2d[yy, :] > 1.75) & (wave_2d[yy, :] < 1.97)) | ((wave_2d[yy, :] > 2.08) & (wave_2d[yy, :] < 2.23))\n",
    "\n",
    "    obs = Spectrum1D(spectral_axis=wave_2d[yy, :][mask_line]*u.um, flux=data_2d[yy, :][mask_line]*spec_unit)\n",
    "    cont = continuum.fit_generic_continuum(obs, model=Chebyshev1D(7))\n",
    "\n",
    "    flux_cont2d[yy, :] = cont(wave_2d[yy, :]*u.um).value"
   ]
  },
  {
   "cell_type": "code",
   "execution_count": null,
   "metadata": {},
   "outputs": [],
   "source": [
    "plt.imshow(flux_cont2d[:, :])\n",
    "plt.title('Fitted continuum')"
   ]
  },
  {
   "cell_type": "code",
   "execution_count": null,
   "metadata": {},
   "outputs": [],
   "source": [
    "plt.imshow(data_2d[:, :] - flux_cont2d[:, :])\n",
    "plt.title('Continuum subtracted spectrum')"
   ]
  },
  {
   "cell_type": "markdown",
   "metadata": {},
   "source": [
    "### Extract Halpha emission from a continuum-subtracted spectrum;"
   ]
  },
  {
   "cell_type": "code",
   "execution_count": null,
   "metadata": {},
   "outputs": [],
   "source": [
    "# Cutout Ha line map;\n",
    "rsq = data_2d.shape[0]\n",
    "cut_ha = np.zeros((rsq, rsq), 'float32')\n",
    "\n",
    "zin = 2.1 # From Notebook No.3, cross-correlation;\n",
    "lamcen = 0.6564 * (1. + zin)\n",
    "\n",
    "for yy in range(len(data_2d[:, 0])):\n",
    "    # This has to be done at each y pixel, as wavelength array can be tilted.\n",
    "    index_lamcen = np.argmin(np.abs(lamcen - wave_2d[yy, :]))\n",
    "    cut_ha[yy, :] = (data_2d - flux_cont2d)[yy, int(index_lamcen-rsq/2.):int(index_lamcen+rsq/2.)]\n",
    "\n",
    "plt.imshow(cut_ha)\n",
    "plt.title('H$\\\\alpha$ map')"
   ]
  },
  {
   "cell_type": "markdown",
   "metadata": {},
   "source": [
    "### 2.Get Hbeta and OIII maps\n",
    "This is more challenging, as these lines locate close to each other. Ideally, iteration process will be preferred, but here we use Specutils' double gaussian component fitting, in a similar way for Ha."
   ]
  },
  {
   "cell_type": "code",
   "execution_count": null,
   "metadata": {},
   "outputs": [],
   "source": [
    "filt = 'f150w'\n",
    "\n",
    "file_2d = f'{DIR_DATA}l3_nis_{filt}_{grism}_s{id}_cal.fits'\n",
    "hdu_2d = fits.open(file_2d)\n",
    "\n",
    "# Align grism direction\n",
    "#   - x-direction = Dispersion (wavelength) direction.\n",
    "#   - y-direction = Cross-dispersion.\n",
    "# in this notebook.\n",
    "    \n",
    "if grism == 'G150C':\n",
    "    # If spectrum is horizontal;\n",
    "    data_2d = hdu_2d[ndither*7+1].data\n",
    "    dq_2d = hdu_2d[ndither*7+2].data\n",
    "    err_2d = hdu_2d[ndither*7+3].data\n",
    "    wave_2d = hdu_2d[ndither*7+4].data\n",
    "else:\n",
    "    data_2d = rotate(hdu_2d[ndither*7+1].data, 90)\n",
    "    dq_2d = rotate(hdu_2d[ndither*7+2].data, 90)\n",
    "    err_2d = rotate(hdu_2d[ndither*7+3].data, 90)\n",
    "    wave_2d = rotate(hdu_2d[ndither*7+4].data, 90)\n",
    "    \n",
    "# !! Note that the extracted spectra has flipped wavelength direction !!\n",
    "plt.imshow(data_2d[:, ::-1])\n",
    "plt.title(f'{filt}')"
   ]
  },
  {
   "cell_type": "markdown",
   "metadata": {},
   "source": [
    "### In the plot above, you can see Oiii doublet, and Hbeta. "
   ]
  },
  {
   "cell_type": "markdown",
   "metadata": {},
   "source": [
    "#### 2a. Get continuum;"
   ]
  },
  {
   "cell_type": "code",
   "execution_count": null,
   "metadata": {},
   "outputs": [],
   "source": [
    "yy = 10 # as an example;\n",
    "\n",
    "spec_unit = u.dimensionless_unscaled\n",
    "\n",
    "mask_line = ((wave_2d[yy, :] > 1.35) & (wave_2d[yy, :] < 1.48)) | ((wave_2d[yy, :] > 1.6) & (wave_2d[yy, :] < 1.65))\n",
    "\n",
    "obs = Spectrum1D(spectral_axis=wave_2d[yy, :][mask_line]*u.um, flux=data_2d[yy, :][mask_line]*spec_unit)\n",
    "cont = continuum.fit_generic_continuum(obs, model=Chebyshev1D(7))\n",
    "\n",
    "plt.plot(wave_2d[yy, :], data_2d[yy, :], color='r', label=f'Observed at y={yy}')\n",
    "\n",
    "plt.plot(wave_2d[yy, :][mask_line]*u.um, cont(wave_2d[yy, :][mask_line]*u.um), color='b', label='Fitted continuum')\n",
    "\n",
    "plt.legend(loc=0)\n",
    "plt.xlim(1.2, 1.8)"
   ]
  },
  {
   "cell_type": "code",
   "execution_count": null,
   "metadata": {},
   "outputs": [],
   "source": [
    "# Repeat this along y-axis;\n",
    "flux_cont2d_150 = data_2d[:, :] * 0\n",
    "for yy in range(len(data_2d[:, 0])):\n",
    "\n",
    "    mask_line = ((wave_2d[yy, :] > 1.35) & (wave_2d[yy, :] < 1.48)) | ((wave_2d[yy, :] > 1.6) & (wave_2d[yy, :] < 1.65))\n",
    "\n",
    "    obs = Spectrum1D(spectral_axis=wave_2d[yy, :][mask_line]*u.um, flux=data_2d[yy, :][mask_line]*spec_unit)\n",
    "    cont = continuum.fit_generic_continuum(obs, model=Chebyshev1D(7))\n",
    "\n",
    "    flux_cont2d_150[yy, :] = cont(wave_2d[yy, :]*u.um).value\n",
    "\n",
    "plt.imshow(flux_cont2d_150[:, ::-1])"
   ]
  },
  {
   "cell_type": "code",
   "execution_count": null,
   "metadata": {},
   "outputs": [],
   "source": [
    "line_2d = data_2d[:, :] - flux_cont2d_150[:, :]\n",
    "\n",
    "plt.imshow(line_2d[:, ::-1])"
   ]
  },
  {
   "cell_type": "markdown",
   "metadata": {},
   "source": [
    "#### 2b. Fit emissionn, with multi-conponent gaussian;"
   ]
  },
  {
   "cell_type": "code",
   "execution_count": null,
   "metadata": {},
   "outputs": [],
   "source": [
    "yy = 10\n",
    "\n",
    "# Fit the spectrum\n",
    "con = (1.4 < wave_2d[yy, :]) & (wave_2d[yy, :] < 1.65)\n",
    "\n",
    "spectrum_cut = Spectrum1D(flux=line_2d[yy, :][con]*spec_unit,\n",
    "                          spectral_axis=wave_2d[yy, :][con]*u.um)\n",
    "\n",
    "# !!! Some tweaks may be needed for initial value, to successfuully run the fit;\n",
    "\n",
    "# For Hb\n",
    "g1_init = models.Gaussian1D(amplitude=40*spec_unit, mean=1.5*u.um, stddev=0.005*u.um)\n",
    "\n",
    "# For O3 blue\n",
    "g2_init = models.Gaussian1D(amplitude=50.*spec_unit, mean=1.535*u.um, stddev=0.002*u.um)\n",
    "\n",
    "# For O3 red\n",
    "g3_init = models.Gaussian1D(amplitude=45.*spec_unit, mean=1.55*u.um, stddev=0.001*u.um)\n",
    "\n",
    "g123_fit = fit_lines(spectrum_cut, g1_init+g2_init+g3_init, window=[0.01*u.um, 0.001*u.um, 0.001*u.um])\n",
    "y_fit = g123_fit(wave_2d[yy, :]*u.um)\n",
    "\n",
    "print(g123_fit)"
   ]
  },
  {
   "cell_type": "code",
   "execution_count": null,
   "metadata": {},
   "outputs": [],
   "source": [
    "# Plot separately?\n",
    "plt.plot(wave_2d[yy, :], line_2d[yy, :], marker='.', ls='', color='r', label=f'Observed at y={yy}')\n",
    "plt.plot(wave_2d[yy, :], y_fit, color='b', label='Fit', zorder=-2, alpha=0.4, lw=5)\n",
    "\n",
    "y_fit1 = g123_fit[0](wave_2d[yy, :]*u.um)\n",
    "plt.plot(wave_2d[yy, :], y_fit1, color='g', label='1')\n",
    "\n",
    "y_fit1 = g123_fit[1](wave_2d[yy, :]*u.um)\n",
    "plt.plot(wave_2d[yy, :], y_fit1, color='orange', label='2')\n",
    "\n",
    "y_fit1 = g123_fit[2](wave_2d[yy, :]*u.um)\n",
    "plt.plot(wave_2d[yy, :], y_fit1, color='purple', label='3')\n",
    "\n",
    "plt.xlim(1.4, 1.6)\n",
    "\n",
    "plt.title('Single fit peak')\n",
    "plt.grid(True)\n",
    "plt.legend(loc=2)"
   ]
  },
  {
   "cell_type": "code",
   "execution_count": null,
   "metadata": {},
   "outputs": [],
   "source": [
    "print(g123_fit[0])\n",
    "print(g123_fit[1])\n",
    "print(g123_fit[2])"
   ]
  },
  {
   "cell_type": "markdown",
   "metadata": {},
   "source": [
    "### Fit to the central array looks good. Repeat this along y-axis and get emission line maps, as a same way as for Halpha"
   ]
  },
  {
   "cell_type": "code",
   "execution_count": null,
   "metadata": {},
   "outputs": [],
   "source": [
    "# Cutout Hb, Oiii line maps;\n",
    "rsq = data_2d.shape[0]\n",
    "cut_hb = np.zeros((rsq, rsq), 'float32')\n",
    "cut_o3b = np.zeros((rsq, rsq), 'float32')\n",
    "cut_o3r = np.zeros((rsq, rsq), 'float32')\n",
    "\n",
    "zin = 2.1 # Redshift estimate from Notebook No.2, cross-correlation;\n",
    "lamcen_hb = 0.4862680 * (1. + zin)\n",
    "lamcen_o3b = 0.4960295 * (1. + zin)\n",
    "lamcen_o3r = 0.5008240 * (1. + zin)\n",
    "\n",
    "for yy in range(len(data_2d[:, 0])):\n",
    "    # Fit the spectrum\n",
    "    con = (1.4 < wave_2d[yy, :]) & (wave_2d[yy, :] < 1.65)\n",
    "    spectrum_cut = Spectrum1D(flux=line_2d[yy, :][con]*spec_unit, \n",
    "                              spectral_axis=wave_2d[yy, :][con]*u.um)\n",
    "\n",
    "    # !!! Some tweaks may be needed for initial value, to successfuully run the fit;\n",
    "\n",
    "    # For Hb\n",
    "    g1_init = models.Gaussian1D(amplitude=40*spec_unit, mean=1.5*u.um, stddev=0.005*u.um)\n",
    "    # For O3 blue\n",
    "    g2_init = models.Gaussian1D(amplitude=50.*spec_unit, mean=1.535*u.um, stddev=0.002*u.um)\n",
    "    # For O3 red\n",
    "    g3_init = models.Gaussian1D(amplitude=45.*spec_unit, mean=1.55*u.um, stddev=0.001*u.um)\n",
    "    g123_fit = fit_lines(spectrum_cut, g1_init+g2_init+g3_init, window=[0.01*u.um, 0.001*u.um, 0.001*u.um])\n",
    "    y_fit = g123_fit(wave_2d[yy, :]*u.um)\n",
    "\n",
    "    # This has to be done at each y pixel, as wavelength array can be tilted.\n",
    "    index_lamcen_hb = np.argmin(np.abs(lamcen_hb - wave_2d[yy, :]))\n",
    "    cut_hb[yy, :] = g123_fit[0](wave_2d[yy, :]*u.um)[int(index_lamcen_hb-rsq/2.):int(index_lamcen_hb+rsq/2.)]\n",
    "\n",
    "    index_lamcen_o3b = np.argmin(np.abs(lamcen_o3b - wave_2d[yy, :]))\n",
    "    cut_o3b[yy, :] = g123_fit[1](wave_2d[yy, :]*u.um)[int(index_lamcen_o3b-rsq/2.):int(index_lamcen_o3b+rsq/2.)]\n",
    "\n",
    "    index_lamcen_o3r = np.argmin(np.abs(lamcen_o3r - wave_2d[yy, :]))\n",
    "    cut_o3r[yy, :] = g123_fit[2](wave_2d[yy, :]*u.um)[int(index_lamcen_o3r-rsq/2.):int(index_lamcen_o3r+rsq/2.)]"
   ]
  },
  {
   "cell_type": "code",
   "execution_count": null,
   "metadata": {},
   "outputs": [],
   "source": [
    "plt.imshow(cut_hb)\n",
    "plt.title('H$\\\\beta$ map')"
   ]
  },
  {
   "cell_type": "code",
   "execution_count": null,
   "metadata": {},
   "outputs": [],
   "source": [
    "plt.imshow(cut_o3b)\n",
    "plt.title('Oiii 4960')"
   ]
  },
  {
   "cell_type": "code",
   "execution_count": null,
   "metadata": {},
   "outputs": [],
   "source": [
    "plt.imshow(cut_o3r)\n",
    "plt.title('Oiii 5008')"
   ]
  },
  {
   "cell_type": "markdown",
   "metadata": {},
   "source": [
    "## Summary;\n",
    "As seen above, regions except for the very center <font color='red'>do not look right.</font> This is due to failure of multi-component fit, especially for Oiii doublet.\n",
    "To improve the fit, one can either;\n",
    "- fit and inspect the fit repeatedly at each y-axis until it converges,\n",
    "- use MCMC for more intensive fitting, which also enables to fix the ratio of two Oiii lines by setting up a prior.\n",
    "- or reduce the number of components, especially for Oiii doublet at the edge of the source position, where the lines are blended."
   ]
  }
 ],
 "metadata": {
  "kernelspec": {
   "display_name": "Python 3 (ipykernel)",
   "language": "python",
   "name": "python3"
  },
  "language_info": {
   "codemirror_mode": {
    "name": "ipython",
    "version": 3
   },
   "file_extension": ".py",
   "mimetype": "text/x-python",
   "name": "python",
   "nbconvert_exporter": "python",
   "pygments_lexer": "ipython3",
   "version": "3.11.6"
  }
 },
 "nbformat": 4,
 "nbformat_minor": 4
}
