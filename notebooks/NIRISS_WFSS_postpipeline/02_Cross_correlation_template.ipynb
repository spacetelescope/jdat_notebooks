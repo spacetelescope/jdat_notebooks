{
 "cells": [
  {
   "cell_type": "markdown",
   "metadata": {},
   "source": [
    "# WFSS Spectra - Part 2: Cross Correlation to Determine Redshift"
   ]
  },
  {
   "cell_type": "markdown",
   "metadata": {},
   "source": [
    "**Use case:** optimal extraction of grism spectra; redshift measurement; emission-line maps.  Simplified version of [JDox Science Use Case # 33](https://jwst-docs.stsci.edu/near-infrared-imager-and-slitless-spectrograph/niriss-example-science-programs/niriss-wfss-with-nircam-parallel-imaging-of-galaxies-in-lensing-clusters).<br>\n",
    "**Data:** JWST simulated NIRISS images from [MIRAGE](https://jwst-docs.stsci.edu/jwst-other-tools/mirage-data-simulator), run through the [JWST calibration pipeline](https://jwst-pipeline.readthedocs.io/en/latest/); galaxy cluster.<br>\n",
    "**Tools:**  specutils, astropy, pandas, emcee, lmfit, corner, h5py.<br>\n",
    "**Cross-intrument:** NIRSpec <br>\n",
    "**Documentation:** This notebook is part of a STScI's larger [post-pipeline Data Analysis Tools Ecosystem](https://jwst-docs.stsci.edu/jwst-post-pipeline-data-analysis).<br>\n",
    "\n",
    "\n",
    "## Introduction\n",
    "\n",
    "This notebook is 3 of 4 in a set focusing on NIRISS WFSS data:\n",
    "    1. 1D optimal extraction since the JWST pipeline only provides a box extraction.  Optimal extraction improves S/N of spectra for faint sources.\n",
    "    2. Combine and normalize 1D spectra.\n",
    "    3. Cross correlate galaxy with template to get redshift.\n",
    "    4. Spatially resolved emission line map.\n",
    "\n",
    "This notebook derives the redshift of a galaxy with multiple emission lines by using specutils template correlation.  The notebook begins with optimally extracted 1D spectra from notebook #2.  \n",
    "\n",
    "**Note:** Spectra without emission lines (e.g., ID 00003 in the previous notebook) may fail with the function here.  For those spectra, Notebook #4 derives the redshift from absorption lines and direct images instead."
   ]
  },
  {
   "cell_type": "code",
   "execution_count": null,
   "metadata": {},
   "outputs": [],
   "source": [
    "%matplotlib inline"
   ]
  },
  {
   "cell_type": "code",
   "execution_count": null,
   "metadata": {},
   "outputs": [],
   "source": [
    "import os\n",
    "import numpy as np\n",
    "import h5py\n",
    "\n",
    "from astropy.io import fits\n",
    "from astropy.table import QTable\n",
    "import astropy.units as u\n",
    "from astropy.nddata import StdDevUncertainty\n",
    "from astropy.modeling.polynomial import Chebyshev1D\n",
    "from astropy import constants as const\n",
    "\n",
    "import astropy\n",
    "print('astropy', astropy.__version__)"
   ]
  },
  {
   "cell_type": "code",
   "execution_count": null,
   "metadata": {},
   "outputs": [],
   "source": [
    "import matplotlib.pyplot as plt\n",
    "import matplotlib as mpl\n",
    "\n",
    "mpl.rcParams['savefig.dpi'] = 80\n",
    "mpl.rcParams['figure.dpi'] = 80"
   ]
  },
  {
   "cell_type": "code",
   "execution_count": null,
   "metadata": {},
   "outputs": [],
   "source": [
    "import specutils\n",
    "from specutils.fitting import continuum \n",
    "from specutils.spectra.spectrum1d import Spectrum1D\n",
    "from specutils.analysis import correlation\n",
    "from specutils.spectra.spectral_region import SpectralRegion\n",
    "\n",
    "print(\"Specutils: \", specutils.__version__)"
   ]
  },
  {
   "cell_type": "markdown",
   "metadata": {},
   "source": [
    "## 0. Download notebook 01 products\n",
    "These can be also obtained by running the notebooks."
   ]
  },
  {
   "cell_type": "code",
   "execution_count": null,
   "metadata": {},
   "outputs": [],
   "source": [
    "if not os.path.exists('./output'):\n",
    "    import zipfile\n",
    "    import urllib.request\n",
    "    boxlink = 'https://data.science.stsci.edu/redirect/JWST/jwst-data_analysis_tools/NIRISS_lensing_cluster/output.zip'\n",
    "    boxfile = './output.zip'\n",
    "    urllib.request.urlretrieve(boxlink, boxfile)\n",
    "    zf = zipfile.ZipFile(boxfile, 'r')\n",
    "    zf.extractall()\n",
    "else:\n",
    "    print('Already exists')"
   ]
  },
  {
   "cell_type": "markdown",
   "metadata": {},
   "source": [
    "## 1.Open optimally extracted 1D spectrum text file;\n",
    "These are optimally extracted, normalized spectra from notebooks 01a & 01b."
   ]
  },
  {
   "cell_type": "code",
   "execution_count": null,
   "metadata": {
    "scrolled": true
   },
   "outputs": [],
   "source": [
    "DIR_OUT = './output/'\n",
    "filt = 'f200w'\n",
    "\n",
    "grism = 'G150C'\n",
    "# grism = 'G150R'\n",
    "\n",
    "id = '00004'\n",
    "file_1d = f'{DIR_OUT}l3_nis_{filt}_{grism}_s{id}_combine_1d_opt.fits'\n",
    "fd = fits.open(file_1d)[1].data\n",
    "hd = fits.open(file_1d)[1].header\n",
    "fd"
   ]
  },
  {
   "cell_type": "code",
   "execution_count": null,
   "metadata": {},
   "outputs": [],
   "source": [
    "# Normalization of observed spectra; Just for visual purpose;\n",
    "flux_normalize = 500."
   ]
  },
  {
   "cell_type": "code",
   "execution_count": null,
   "metadata": {},
   "outputs": [],
   "source": [
    "wave_200 = fd['wavelength']\n",
    "flux_200 = fd['flux'] / flux_normalize\n",
    "flux_err_200 = fd['uncertainty'] / flux_normalize"
   ]
  },
  {
   "cell_type": "code",
   "execution_count": null,
   "metadata": {},
   "outputs": [],
   "source": [
    "# Open files for other filters.\n",
    "filt = 'f150w'\n",
    "file_1d = f'{DIR_OUT}l3_nis_{filt}_{grism}_s{id}_combine_1d_opt.fits'\n",
    "fd = fits.open(file_1d)[1].data\n",
    "\n",
    "wave_150 = fd['wavelength']\n",
    "flux_150 = fd['flux'] / flux_normalize\n",
    "flux_err_150 = fd['uncertainty'] / flux_normalize\n",
    "\n",
    "# \n",
    "filt = 'f115w'\n",
    "file_1d = f'{DIR_OUT}l3_nis_{filt}_{grism}_s{id}_combine_1d_opt.fits'\n",
    "fd = fits.open(file_1d)[1].data\n",
    "\n",
    "wave_115 = fd['wavelength']\n",
    "flux_115 = fd['flux'] / flux_normalize\n",
    "flux_err_115 = fd['uncertainty'] / flux_normalize"
   ]
  },
  {
   "cell_type": "code",
   "execution_count": null,
   "metadata": {},
   "outputs": [],
   "source": [
    "# plot all\n",
    "plt.figure()\n",
    "plt.errorbar(wave_115, flux_115, ls='-', color='lightblue', label='F115W')\n",
    "plt.errorbar(wave_150, flux_150, ls='-', color='orange', label='F150W')\n",
    "plt.errorbar(wave_200, flux_200, ls='-', color='purple', label='F200W')\n",
    "\n",
    "plt.fill_between(wave_115, -flux_err_115, flux_err_115, ls='-', color='gray', label='', alpha=0.3)\n",
    "plt.fill_between(wave_150, -flux_err_150, flux_err_150, ls='-', color='gray', label='', alpha=0.3)\n",
    "plt.fill_between(wave_200, -flux_err_200, flux_err_200, ls='-', color='gray', label='', alpha=0.3)\n",
    "\n",
    "plt.xlabel('Wavelength / um')\n",
    "plt.ylim(0., 0.2)\n",
    "plt.legend(loc=2)"
   ]
  },
  {
   "cell_type": "markdown",
   "metadata": {},
   "source": [
    "### Continuum is visible. We need to subtract it before template correlation.\n",
    "- Strong emission lines are seen. (Hb+Oiii doublet at ~1.55um, and blended Ha+Nii at ~2.1um)\n",
    "- Note that flux excess at the edges of each filter are not real, and should be masked out."
   ]
  },
  {
   "cell_type": "code",
   "execution_count": null,
   "metadata": {},
   "outputs": [],
   "source": [
    "# F200W\n",
    "\n",
    "spec_unit = u.MJy\n",
    "\n",
    "mask = ((wave_200 > 1.75) & (wave_200 < 1.97)) | ((wave_200 > 2.08) & (wave_200 < 2.23))\n",
    "\n",
    "obs_200 = Spectrum1D(spectral_axis=wave_200[mask]*u.um, flux=flux_200[mask]*spec_unit)\n",
    "continuum_200 = continuum.fit_generic_continuum(obs_200, model=Chebyshev1D(7))\n",
    "\n",
    "plt.figure()\n",
    "plt.errorbar(wave_200, flux_200, ls='-', color='purple', label='F200W')\n",
    "plt.plot(wave_200[mask], continuum_200(obs_200.spectral_axis), color='r', label='Fitted continuum')\n",
    "plt.legend(loc=0)\n",
    "\n",
    "flux_200_sub = flux_200 * spec_unit - continuum_200(wave_200*u.um)\n",
    "\n",
    "mask_200 = (wave_200 > 1.75) & (wave_200 < 2.23)"
   ]
  },
  {
   "cell_type": "code",
   "execution_count": null,
   "metadata": {},
   "outputs": [],
   "source": [
    "# F150W\n",
    "\n",
    "spec_unit = u.MJy\n",
    "\n",
    "mask = ((wave_150 > 1.35) & (wave_150 < 1.48)) | ((wave_150 > 1.6) & (wave_150 < 1.65))\n",
    "\n",
    "obs_150 = Spectrum1D(spectral_axis=wave_150[mask]*u.um, flux=flux_150[mask]*spec_unit)\n",
    "continuum_150 = continuum.fit_generic_continuum(obs_150, model=Chebyshev1D(7))\n",
    "\n",
    "flux_150_sub = flux_150 * spec_unit - continuum_150(wave_150 * u.um)\n",
    "\n",
    "plt.figure()\n",
    "plt.errorbar(wave_150, flux_150, ls='-', color='orange', label='F150W')\n",
    "plt.plot(wave_150[mask], continuum_150(obs_150.spectral_axis), color='r', label='Fitted continuum')\n",
    "plt.legend(loc=0)\n",
    "\n",
    "mask_150 = (wave_150 > 1.35) & (wave_150 < 1.65)"
   ]
  },
  {
   "cell_type": "code",
   "execution_count": null,
   "metadata": {},
   "outputs": [],
   "source": [
    "# F150W\n",
    "\n",
    "spec_unit = u.MJy\n",
    "\n",
    "mask = ((wave_115 > 1.05) & (wave_115 < 1.13)) | ((wave_115 > 1.17) & (wave_115 < 1.25))\n",
    "\n",
    "obs_115 = Spectrum1D(spectral_axis=wave_115[mask]*u.um, flux=flux_115[mask]*spec_unit)\n",
    "continuum_115 = continuum.fit_generic_continuum(obs_115, model=Chebyshev1D(7))\n",
    "\n",
    "plt.figure()\n",
    "plt.errorbar(wave_115, flux_115, ls='-', color='lightblue', label='F115W')\n",
    "plt.plot(wave_115[mask], continuum_115(obs_115.spectral_axis), color='r', label='Fitted continuum')\n",
    "plt.ylim(0, 0.5)\n",
    "plt.legend(loc=0)\n",
    "\n",
    "flux_115_sub = flux_115 * spec_unit - continuum_115(wave_115 * u.um)\n",
    "mask_115 = (wave_115 > 1.02) & (wave_115 < 1.25)"
   ]
  },
  {
   "cell_type": "code",
   "execution_count": null,
   "metadata": {},
   "outputs": [],
   "source": [
    "# plot all\n",
    "plt.figure()\n",
    "plt.errorbar(wave_115[mask_115], flux_115_sub[mask_115], ls='-', color='lightblue', label='F115W')\n",
    "plt.errorbar(wave_150[mask_150], flux_150_sub[mask_150], ls='-', color='orange', label='F150W')\n",
    "plt.errorbar(wave_200[mask_200], flux_200_sub[mask_200], ls='-', color='purple', label='F200W')\n",
    "\n",
    "plt.fill_between(wave_115, -flux_err_115, flux_err_115, ls='-', color='gray', label='', alpha=0.3)\n",
    "plt.fill_between(wave_150, -flux_err_150, flux_err_150, ls='-', color='gray', label='', alpha=0.3)\n",
    "plt.fill_between(wave_200, -flux_err_200, flux_err_200, ls='-', color='gray', label='', alpha=0.3)\n",
    "\n",
    "plt.xlabel('Wavelength / um')\n",
    "plt.legend(loc=2)"
   ]
  },
  {
   "cell_type": "code",
   "execution_count": null,
   "metadata": {},
   "outputs": [],
   "source": [
    "# Concatenate arrays\n",
    "wave_obs = np.concatenate([wave_115[mask_115], wave_150[mask_150], wave_200[mask_200]])\n",
    "flux_obs = np.concatenate([flux_115_sub[mask_115], flux_150_sub[mask_150], flux_200_sub[mask_200]])\n",
    "flux_err_obs = np.concatenate([flux_err_115[mask_115], flux_err_150[mask_150], flux_err_200[mask_200]])\n",
    "\n",
    "plt.figure()\n",
    "plt.plot(wave_obs, flux_obs)\n",
    "plt.fill_between(wave_obs, -flux_err_obs, flux_err_obs, ls='-', color='gray', label='', alpha=0.3)"
   ]
  },
  {
   "cell_type": "code",
   "execution_count": null,
   "metadata": {},
   "outputs": [],
   "source": [
    "wht_obs = 1 / flux_err_obs**2\n",
    "spec_unit = u.MJy\n",
    "\n",
    "dataspec = QTable([wave_obs*u.um, flux_obs*spec_unit, wht_obs, flux_err_obs],\n",
    "                  names=('wavelength', 'flux', 'weight', 'uncertainty'))\n",
    "dataspec_sub = dataspec[dataspec['weight'] > 0.]\n",
    "\n",
    "# Now make it into a Spectrum1D instance.\n",
    "p_obs = Spectrum1D(spectral_axis=dataspec_sub['wavelength'],\n",
    "                   flux=dataspec_sub['flux'],\n",
    "                   uncertainty=StdDevUncertainty(dataspec_sub['uncertainty']), unit='MJy')"
   ]
  },
  {
   "cell_type": "markdown",
   "metadata": {},
   "source": [
    "### Do cross-correlation with an input template;\n",
    "(*Another notebook on Specutils cross correlation by Ivo Busko: https://spacetelescope.github.io/jdat_notebooks/pages/redshift_crosscorr/redshift_crosscorr.html)"
   ]
  },
  {
   "cell_type": "markdown",
   "metadata": {},
   "source": [
    "### Load synthetic template;\n",
    "- Just to test the functionality, for now we are using the input spectral template used for simulation."
   ]
  },
  {
   "cell_type": "code",
   "execution_count": null,
   "metadata": {},
   "outputs": [],
   "source": [
    "def read_hdf5(filename):\n",
    "\n",
    "    contents = {}\n",
    "    with h5py.File(filename, 'r') as file_obj:\n",
    "        for key in file_obj.keys():\n",
    "            dataset = file_obj[key]\n",
    "            try:\n",
    "                wave_units_string = dataset.attrs['wavelength_units']\n",
    "            except KeyError:\n",
    "                wave_units_string = 'micron'\n",
    "                \n",
    "            # Catch common errors\n",
    "            if wave_units_string.lower() in ['microns', 'angstroms', 'nanometers']:\n",
    "                wave_units_string = wave_units_string[0:-1]\n",
    "\n",
    "            # Get the data\n",
    "            waves = dataset[0]\n",
    "            fluxes = dataset[1]\n",
    "\n",
    "            contents[int(key)] = {'wavelengths': waves, 'fluxes': fluxes}\n",
    "\n",
    "    return contents"
   ]
  },
  {
   "cell_type": "code",
   "execution_count": null,
   "metadata": {},
   "outputs": [],
   "source": [
    "# Download files, if not exists yet.\n",
    "if not os.path.exists('./pipeline_products'):\n",
    "    import zipfile\n",
    "    import urllib.request\n",
    "    boxlink = 'https://data.science.stsci.edu/redirect/JWST/jwst-data_analysis_tools/NIRISS_lensing_cluster/pipeline_products.zip'\n",
    "    boxfile = './pipeline_products.zip'\n",
    "    urllib.request.urlretrieve(boxlink, boxfile)\n",
    "    zf = zipfile.ZipFile(boxfile, 'r')\n",
    "    zf.extractall()"
   ]
  },
  {
   "cell_type": "code",
   "execution_count": null,
   "metadata": {},
   "outputs": [],
   "source": [
    "# Template file;\n",
    "file_temp = './pipeline_products/source_sed_file_from_sources_extend_01_and_sed_file.hdf5'\n",
    "\n",
    "content = read_hdf5(file_temp)\n",
    "content"
   ]
  },
  {
   "cell_type": "code",
   "execution_count": null,
   "metadata": {},
   "outputs": [],
   "source": [
    "# The template is already redshifted for simulation. \n",
    "# Now, blueshift it to z=0;\n",
    "z_input = 2.1 \n",
    "iix = 10709 # Index for the particular template.\n",
    "\n",
    "flux_all = content[iix]['fluxes']\n",
    "wave_all = content[iix]['wavelengths'] / (1. + z_input) * 1e4\n",
    "plt.plot(wave_all, flux_all, color='orange')\n",
    "plt.xlim(2000, 8000)"
   ]
  },
  {
   "cell_type": "code",
   "execution_count": null,
   "metadata": {},
   "outputs": [],
   "source": [
    "# Cut templates for better fit.\n",
    "con_tmp = (wave_all > 3600) & (wave_all < 13000)\n",
    "flux = flux_all[con_tmp]\n",
    "wave = wave_all[con_tmp]\n",
    "flux /= flux.max()\n",
    "\n",
    "wave *= 1.e-4 # force wavelengths in um. (with_spectral_unit doesn't convert)\n",
    "\n",
    "factor = p_obs.flux.unit # normalize template to a sensible range\n",
    "template = Spectrum1D(spectral_axis=wave*u.um, flux=flux*factor)\n",
    "\n",
    "plt.figure()\n",
    "plt.plot(template.spectral_axis, template.flux, color='orange')\n",
    "plt.xlabel(template.spectral_axis.unit)"
   ]
  },
  {
   "cell_type": "markdown",
   "metadata": {},
   "source": [
    "### Binning the template into a course array, if you have too many elements and cause an issue below;\n",
    "### -> In this example this is not necessary."
   ]
  },
  {
   "cell_type": "code",
   "execution_count": null,
   "metadata": {},
   "outputs": [],
   "source": [
    "# Make this true, if you want to bin;\n",
    "if False:\n",
    "    wave_bin = np.arange(wave.min(), wave.max(), 20.0)\n",
    "    flux_bin = np.interp(wave_bin, wave, flux)\n",
    "else:\n",
    "    wave_bin = wave\n",
    "    flux_bin = flux\n",
    "\n",
    "factor = p_obs.flux.unit # normalize template to a sensible range\n",
    "template = Spectrum1D(spectral_axis=wave_bin*u.um, flux=flux_bin*factor)\n",
    "\n",
    "plt.figure()    \n",
    "plt.plot(template.spectral_axis, template.flux, color='orange')\n",
    "plt.xlabel(template.spectral_axis.unit)"
   ]
  },
  {
   "cell_type": "code",
   "execution_count": null,
   "metadata": {},
   "outputs": [],
   "source": [
    "# Continuum fit to the fitting temp;\n",
    "regions = [SpectralRegion(0.37*u.um, 0.452*u.um), \n",
    "           SpectralRegion(0.476*u.um, 0.53*u.um),\n",
    "           SpectralRegion(0.645*u.um, 0.67*u.um)]\n",
    "\n",
    "continuum_model = continuum.fit_generic_continuum(template, model=Chebyshev1D(3), exclude_regions=regions)\n",
    "\n",
    "p_template = template - continuum_model(template.spectral_axis)\n",
    "\n",
    "plt.figure()\n",
    "plt.plot(p_template.spectral_axis, p_template.flux, color='orange')\n",
    "plt.xlabel(p_template.spectral_axis.unit)\n",
    "plt.title('Continuum subtracted template')"
   ]
  },
  {
   "cell_type": "code",
   "execution_count": null,
   "metadata": {},
   "outputs": [],
   "source": [
    "# Put data array into Specutils format;\n",
    "sflux = p_template.flux \n",
    "p_smooth_template = Spectrum1D(spectral_axis=p_template.spectral_axis,\n",
    "                               flux=sflux/sflux.max())"
   ]
  },
  {
   "cell_type": "code",
   "execution_count": null,
   "metadata": {},
   "outputs": [],
   "source": [
    "plt.figure()\n",
    "plt.plot(p_smooth_template.spectral_axis, p_smooth_template.flux, color='b', label='Smoothed template')\n",
    "plt.plot(p_obs.spectral_axis, p_obs.flux, color='red', label='Spectrum')\n",
    "plt.xlabel(p_smooth_template.spectral_axis.unit)\n",
    "plt.legend(loc=0)"
   ]
  },
  {
   "cell_type": "markdown",
   "metadata": {},
   "source": [
    "#### CAUTION: Two inputs spectra above have to overlap, if only a small part, to make Specutils works properly."
   ]
  },
  {
   "cell_type": "markdown",
   "metadata": {},
   "source": [
    "### Cross Correlation using specutils functionarity; "
   ]
  },
  {
   "cell_type": "code",
   "execution_count": null,
   "metadata": {},
   "outputs": [],
   "source": [
    "# With no additional specifications, both the entire template and entire spectrum \n",
    "# will be included in the correlation computation. This in general will incur in \n",
    "# a significant increase in execution time. It is advised that the template is cut\n",
    "# to work only on the useful region.\n",
    "\n",
    "corr, lag = correlation.template_correlate(p_obs, p_smooth_template)"
   ]
  },
  {
   "cell_type": "code",
   "execution_count": null,
   "metadata": {},
   "outputs": [],
   "source": [
    "plt.figure()\n",
    "plt.gcf().set_size_inches((8., 4.))\n",
    "plt.plot(lag, corr, linewidth=0.5)\n",
    "plt.xlabel(lag.unit)"
   ]
  },
  {
   "cell_type": "code",
   "execution_count": null,
   "metadata": {},
   "outputs": [],
   "source": [
    "# Redshift based on maximum\n",
    "index_peak = np.argmax(corr)\n",
    "\n",
    "v = lag[index_peak]\n",
    "\n",
    "z = v / const.c.to('km/s')\n",
    "print(\"Peak maximum at: \", v)\n",
    "print(\"Redshift from peak maximum: \", z)"
   ]
  },
  {
   "cell_type": "code",
   "execution_count": null,
   "metadata": {},
   "outputs": [],
   "source": [
    "# Redshift based on parabolic fit to maximum\n",
    "n = 8 # points to the left or right of correlation maximum\n",
    "peak_lags = lag[index_peak-n:index_peak+n+1].value\n",
    "peak_vals = corr[index_peak-n:index_peak+n+1].value\n",
    "p = np.polyfit(peak_lags, peak_vals, deg=2)\n",
    "roots = np.roots(p)\n",
    "\n",
    "v_fit = np.mean(roots) * u.km/u.s # maximum lies at mid point between roots\n",
    "z = v_fit / const.c.to('km/s')\n",
    "\n",
    "print(\"\")\n",
    "print(\"Parabolic fit with maximum at: \", v_fit)\n",
    "print(\"Redshift from parabolic fit: \", z)"
   ]
  },
  {
   "cell_type": "markdown",
   "metadata": {},
   "source": [
    "### How does it look?"
   ]
  },
  {
   "cell_type": "code",
   "execution_count": null,
   "metadata": {},
   "outputs": [],
   "source": [
    "print('z =', z)\n",
    "plt.figure()\n",
    "\n",
    "plt.plot(\n",
    "    template.spectral_axis * (1. + z), \n",
    "    p_smooth_template.flux / np.max(p_smooth_template.flux), \n",
    "    color='b', label='Template'\n",
    ")\n",
    "\n",
    "plt.plot(p_obs.spectral_axis, p_obs.flux / np.max(p_obs.flux), label='Observed')\n",
    "plt.legend(loc=2)\n",
    "plt.xlabel(p_obs.spectral_axis.unit)"
   ]
  }
 ],
 "metadata": {
  "kernelspec": {
   "display_name": "Python 3 (ipykernel)",
   "language": "python",
   "name": "python3"
  },
  "language_info": {
   "codemirror_mode": {
    "name": "ipython",
    "version": 3
   },
   "file_extension": ".py",
   "mimetype": "text/x-python",
   "name": "python",
   "nbconvert_exporter": "python",
   "pygments_lexer": "ipython3",
   "version": "3.11.6"
  }
 },
 "nbformat": 4,
 "nbformat_minor": 4
}
