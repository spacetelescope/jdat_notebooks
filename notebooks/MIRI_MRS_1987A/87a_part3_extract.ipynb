{
 "cells": [
  {
   "cell_type": "markdown",
   "id": "298b8519-c695-4562-a96c-96208063c1c3",
   "metadata": {},
   "source": [
    "# MIRI MRS IFU Spectroscopy Part 3: \n",
    "# Extracting a Spectrum of the SN 1987A Annulus\n",
    "\n",
    "Aug 2023\n",
    "\n",
    "**Use case:** Reduce MRS Data With User Defined Master Background Step. This is particularly relevant if you did not obtain a Dedicated Background with your observations. While the pipeline will subtract a sky background derived from an annulus, the underlying background may be prohibitively complicated and the user may wish to measure their own background from elsewhere in the cube.<br>\n",
    "**Data:** Publicly available science data for SN 1987A (Program 1232). For this notebook, we will follow the science workflow outlined by [Jones et al. 2023](https://ui.adsabs.harvard.edu/abs/2023arXiv230706692J/abstract).<br>\n",
    "**Tools:** jwst, jdaviz, matplotlib, astropy.<br>\n",
    "**Cross-intrument:** NIRSpec, MIRI.<br>\n",
    "**Documentation:** This notebook is part of a STScI's larger [post-pipeline Data Analysis Tools Ecosystem](https://jwst-docs.stsci.edu/jwst-post-pipeline-data-analysis) and can be [downloaded](https://github.com/spacetelescope/dat_pyinthesky/tree/main/jdat_notebooks/MRS_Mstar_analysis) directly from the [JDAT Notebook Github directory](https://github.com/spacetelescope/jdat_notebooks).<br>\n",
    "\n",
    "### Introduction: Spectral extraction in the JWST calibration pipeline\n",
    "\n",
    "The JWST calibration pipeline performs spectrac extraction for all spectroscopic data using basic default assumptions that are tuned to produce accurately calibrated spectra for the majority of science cases. This default method is a simple fixed-width boxcar extraction, where the spectrum is summed over a number of pixels along the cross-dispersion axis, over the valid wavelength range. An aperture correction is applied at each pixel along the spectrum to account for flux lost from the finite-width aperture. \n",
    "\n",
    "The ``extract_1d`` step uses the following inputs for its algorithm:\n",
    "- the spectral extraction reference file: this is a json-formatted file, available as a reference file from the [JWST CRDS system](https://jwst-crds.stsci.edu)\n",
    "- the bounding box: the ``assign_wcs`` step attaches a bounding box definition to the data, which defines the region over which a valid calibration is available. We will demonstrate below how to visualize this region. \n",
    "\n",
    "However the ``extract_1d`` step has the capability to perform more complex spectral extractions, requiring some manual editing of parameters and re-running of the pipeline step. \n",
    "\n",
    "\n",
    "### Aims\n",
    "\n",
    "This notebook will demonstrate how to re-run the spectral extraction step with different settings to illustrate the capabilities of the JWST calibration pipeline. \n",
    "\n",
    "\n",
    "### Assumptions\n",
    "\n",
    "We will demonstrate the spectral extraction methods on resampled, calibrated spectral images. The basic demo and two examples run on Level 3 data, in which the nod exposures have been combined into a single spectral image. Two examples will use the Level 2b data - one of the nodded exposures. \n",
    "\n",
    "\n",
    "### Test data\n",
    "\n",
    "The data used in this notebook is an observation of the Type Ia supernova SN2021aefx, observed by Jha et al in PID 2072 (Obs 1). These data were taken with zero exclusive access period, and published in [Kwok et al 2023](https://ui.adsabs.harvard.edu/abs/2023ApJ...944L...3K/abstract). You can retrieve the data from [this Box folder](https://stsci.box.com/s/i2xi18jziu1iawpkom0z2r94kvf9n9kb), and we recommend you place the files in the ``data/`` folder of this repository, or change the directory settings in the notebook prior to running. \n",
    "\n",
    "You can of course use your own data instead of the demo data. \n",
    "\n",
    "\n",
    "### JWST pipeline version and CRDS context\n",
    "\n",
    "This notebook was written using the calibration pipeline version 1.10.2. We set the CRDS context explicitly to 1089 to match the current latest version in MAST. If you use different pipeline versions or CRDS context, please read the relevant release notes ([here for pipeline](https://github.com/spacetelescope/jwst), [here for CRDS](https://jwst-crds.stsci.edu)) for possibly relevant changes.\n",
    "\n",
    "### Contents\n",
    "\n",
    "1. [The Level 3 data products](#l3data)\n",
    "2. [The spectral extraction reference file](#x1dref)\n",
    "3. [Example 1: Changing the aperture width](#ex1)\n",
    "4. [Example 2: Changing the aperture location](#ex2)\n",
    "5. [Example 3: Extraction with background subtraction](#ex3)\n",
    "6. [Example 4: Tapered column extraction](#ex4)"
   ]
  },
  {
   "cell_type": "markdown",
   "id": "2e9ff09d",
   "metadata": {},
   "source": [
    "## Import Packages"
   ]
  },
  {
   "cell_type": "markdown",
   "id": "a3122a08",
   "metadata": {},
   "source": [
    "- `astropy.io` fits for accessing FITS files\n",
    "- `os` for managing system paths\n",
    "- `matplotlib` for plotting data\n",
    "- `urllib` for downloading data\n",
    "- `tarfile` for unpacking data\n",
    "- `numpy` for basic array manipulation\n",
    "- `jwst` for running JWST pipeline and handling data products\n",
    "- `json` for working with json files\n",
    "- `crds` for working with JWST reference files"
   ]
  },
  {
   "cell_type": "code",
   "execution_count": null,
   "id": "0cb67bbb",
   "metadata": {},
   "outputs": [],
   "source": [
    "# Set CRDS variables first\n",
    "import os\n",
    "\n",
    "os.environ['CRDS_CONTEXT'] = 'jwst_1089.pmap'\n",
    "os.environ['CRDS_PATH'] = os.environ['HOME']+'/crds_cache'\n",
    "os.environ['CRDS_SERVER_URL'] = 'https://jwst-crds.stsci.edu'\n",
    "print(f'CRDS cache location: {os.environ[\"CRDS_PATH\"]}')"
   ]
  },
  {
   "cell_type": "code",
   "execution_count": null,
   "id": "21efc012",
   "metadata": {
    "tags": []
   },
   "outputs": [],
   "source": [
    "import sys,os, pdb\n",
    "# Basic system utilities for interacting with files\n",
    "import glob\n",
    "import time\n",
    "import shutil\n",
    "import warnings\n",
    "import zipfile\n",
    "import urllib.request\n",
    "import requests\n",
    "\n",
    "# Astropy utilities for opening FITS and ASCII files\n",
    "from astropy.io import fits\n",
    "from astropy.io import ascii\n",
    "from astropy.utils.data import download_file\n",
    "from regions import Regions\n",
    "from astropy import units as u\n",
    "\n",
    "from astroquery.mast import Observations\n",
    "\n",
    "# Astropy utilities for making plots\n",
    "from astropy.visualization import (LinearStretch, LogStretch, ImageNormalize, ZScaleInterval)\n",
    "\n",
    "# Numpy for doing calculations\n",
    "import numpy as np\n",
    "\n",
    "# Matplotlib for making plots\n",
    "import matplotlib.pyplot as plt\n",
    "from matplotlib import rc\n",
    "\n",
    "# Import the base JWST package\n",
    "import jwst\n",
    "\n",
    "# JWST pipelines (encompassing many steps)\n",
    "from jwst.pipeline import Detector1Pipeline\n",
    "from jwst.pipeline import Spec2Pipeline\n",
    "from jwst.pipeline import Spec3Pipeline\n",
    "\n",
    "# JWST pipeline utilities\n",
    "from jwst import datamodels # JWST datamodels\n",
    "from jwst.associations import asn_from_list as afl # Tools for creating association files\n",
    "from jwst.associations.lib.rules_level2_base import DMSLevel2bBase # Definition of a Lvl2 association file\n",
    "from jwst.associations.lib.rules_level3_base import DMS_Level3_Base # Definition of a Lvl3 association file\n",
    "from jwst.datamodels import SpecModel, MultiSpecModel, IFUCubeModel\n",
    "\n",
    "\n",
    "from stcal import dqflags # Utilities for working with the data quality (DQ) arrays\n",
    "\n",
    "import shutil\n",
    "\n",
    "# Import packages for multiprocessing.  These won't be used on the online demo, but can be\n",
    "# very useful for local data processing unless/until they get integrated natively into\n",
    "# the cube building code.  These need to be imported before anything else.\n",
    "\n",
    "import multiprocessing\n",
    "#multiprocessing.set_start_method('fork')\n",
    "from multiprocessing import Pool\n",
    "import os\n",
    "\n",
    "# Set the maximum number of processes to spawn based on available cores\n",
    "usage = 'all' # Either 'none' (single thread), 'quarter', 'half', or 'all' available cores\n",
    "\n",
    "from specutils import Spectrum1D\n",
    "from matplotlib.pyplot import cm\n",
    "\n",
    "from jdaviz import Cubeviz\n",
    "\n",
    "# Display the video\n",
    "from IPython.display import HTML, YouTubeVideo\n",
    "\n",
    "#shutil.copytree('/astro/armin/data/mshahbandeh/aefx/input_dir/', '/astro/armin/data/mshahbandeh/aefx/input_dir_sc/')\n",
    "#shutil.copytree('/astro/armin/data/mshahbandeh/aefx/input_dir/', '/astro/armin/data/mshahbandeh/aefx/input_dir_bkg/')"
   ]
  },
  {
   "cell_type": "code",
   "execution_count": null,
   "id": "37350f4d-4dbc-445d-b743-f26e7898e73e",
   "metadata": {
    "tags": []
   },
   "outputs": [],
   "source": [
    "# Set parameters to be changed here.\n",
    "# It should not be necessary to edit cells below this in general unless modifying pipeline processing steps.\n",
    "\n",
    "import sys,os, pdb\n",
    "\n",
    "# CRDS context (if overriding)\n",
    "#%env CRDS_CONTEXT jwst_0771.pmap\n",
    "\n",
    "# Point to where the uncalibrated FITS files are from the science observation\n",
    "input_dir = './mastDownload/1232/uncal/'\n",
    "\n",
    "# Point to where you want the output science results to go\n",
    "output_dir = './output/87A/'\n",
    "\n",
    "# Point to where the uncalibrated FITS files are from the background observation\n",
    "# If no background observation, leave this blank\n",
    "input_bgdir = ' '\n",
    "\n",
    "# Point to where the output background observations should go\n",
    "# If no background observation, leave this blank\n",
    "output_bgdir = ' '\n",
    "\n",
    "# Whether or not to run a given pipeline stage\n",
    "# Science and background are processed independently through det1+spec2, and jointly in spec3\n",
    "\n",
    "# Science processing\n",
    "dodet1=True\n",
    "dospec2=True\n",
    "dospec3=True\n",
    "\n",
    "# Background processing\n",
    "dodet1bg=True\n",
    "dospec2bg=True\n",
    "\n",
    "# If there is no background folder, ensure we don't try to process it\n",
    "if (input_bgdir == ''):\n",
    "    dodet1bg=False\n",
    "    dospec2bg=False"
   ]
  },
  {
   "cell_type": "raw",
   "id": "a1c5254b-6e38-4b43-82c5-44fa67a4f4b0",
   "metadata": {},
   "source": [
    "## Point to where the uncalibrated FITS files are from the science observation\n",
    "input_dir = '/Users/ofox/data/1860/mast/01860/obsnum03/'\n",
    "#\n",
    "## Point to where you want the output science results to go\n",
    "output_dir = '/Users/ofox/data/1860/output/05ip_3/'"
   ]
  },
  {
   "cell_type": "code",
   "execution_count": null,
   "id": "7c10e734",
   "metadata": {
    "tags": []
   },
   "outputs": [],
   "source": [
    "## Output subdirectories to keep science data products organized\n",
    "## Note that the pipeline might complain about this as it is intended to work with everything in a single\n",
    "## directory, but it nonetheless works fine for the examples given here.\n",
    "det1_dir = os.path.join(output_dir, 'stage1/') # Detector1 pipeline outputs will go here\n",
    "#spec2_dir = os.path.join(output_dir, 'stage2/') # Spec2 pipeline outputs will go here\n",
    "spec2_dir = os.path.join(output_dir, 'stage2/') # Spec2 pipeline outputs will go here\n",
    "spec2_bgdir = ' '\n",
    "#spec3_dir = os.path.join(output_dir, 'stage3/') # Spec3 pipeline outputs will go here\n",
    "spec3_dir = os.path.join(output_dir, 'stage3/') # Spec3 pipeline outputs will go here\n",
    "\n",
    "# We need to check that the desired output directories exist, and if not create them\n",
    "if not os.path.exists(det1_dir):\n",
    "    os.makedirs(det1_dir)\n",
    "if not os.path.exists(spec2_dir):\n",
    "    os.makedirs(spec2_dir)\n",
    "if not os.path.exists(spec3_dir):\n",
    "    os.makedirs(spec3_dir)"
   ]
  },
  {
   "cell_type": "code",
   "execution_count": null,
   "id": "ba5341f5-08f7-409b-a764-c3afc160faa2",
   "metadata": {
    "tags": []
   },
   "outputs": [],
   "source": [
    "# Output subdirectories to keep background data products organized\n",
    "det1_bgdir = os.path.join(output_bgdir, 'stage1/') # Detector1 pipeline outputs will go here\n",
    "spec2_bgdir = os.path.join(output_bgdir, 'stage2/') # Spec2 pipeline outputs will go here\n",
    "\n",
    "# We need to check that the desired output directories exist, and if not create them\n",
    "if (output_bgdir != ''):\n",
    "    if not os.path.exists(det1_bgdir):\n",
    "        os.makedirs(det1_bgdir)\n",
    "    if not os.path.exists(spec2_bgdir):\n",
    "        os.makedirs(spec2_bgdir)"
   ]
  },
  {
   "cell_type": "code",
   "execution_count": null,
   "id": "abd7f5dd",
   "metadata": {},
   "outputs": [],
   "source": [
    "def checkKey(dict, key):\n",
    "      \n",
    "    if key in dict.keys():\n",
    "        print(\"Present, \", end=\" \")\n",
    "        print(\"value =\", dict[key])\n",
    "        return(True)\n",
    "    else:\n",
    "        print(\"Not present\")\n",
    "        return(False)"
   ]
  },
  {
   "cell_type": "markdown",
   "id": "a490cbb6",
   "metadata": {},
   "source": [
    "# 2. Extract Same Background Region Post-Background Subtraction for Comparison"
   ]
  },
  {
   "cell_type": "code",
   "execution_count": null,
   "id": "bbecca47",
   "metadata": {},
   "outputs": [],
   "source": [
    "# Read in data cube as a JWST data model\n",
    "\n",
    "cubefile = spec3_dir+'87A_bg_sub_ch1-2-3-4-shortmediumlong_s3d.fits'\n",
    "\n",
    "spec_model_cube = IFUCubeModel()\n",
    "spec_model_cube.read(cubefile)"
   ]
  },
  {
   "cell_type": "code",
   "execution_count": null,
   "id": "9004d455",
   "metadata": {},
   "outputs": [],
   "source": [
    "# Print the source and aperture type being used in the header of the file (this can be Extended or Point). \n",
    "# For SN 1987A, we have an EXTENDED source\n",
    "\n",
    "spec_model_cube.find_fits_keyword('SRCTYPE')\n",
    "spec_model_cube.find_fits_keyword('SRCTYAPT')\n",
    "\n",
    "print(spec_model_cube.meta.target.source_type)\n",
    "print(spec_model_cube.meta.target.source_type_apt)"
   ]
  },
  {
   "cell_type": "code",
   "execution_count": null,
   "id": "1d24b002",
   "metadata": {},
   "outputs": [],
   "source": [
    "# If necessary, you can change your cube header as necessary. We don't need to change anything in this case.\n",
    "# But you might want to if you have a point source, yet want to extract a user specified background spectrum.\n",
    "# The pipeline extracts EXTENDED and POINT sources differently.\n",
    "\n",
    "spec_model_cube.meta.target.source_type = 'EXTENDED'\n",
    "spec_model_cube.meta.target.source_type_apt = 'EXTENDED'"
   ]
  },
  {
   "cell_type": "code",
   "execution_count": null,
   "id": "6a440cc5",
   "metadata": {},
   "outputs": [],
   "source": [
    "# Read in previously extracted region (From Notebook 2)\n",
    "\n",
    "reg = Regions.read('my_elipse.reg', format='ds9')[0]\n",
    "print(reg)"
   ]
  },
  {
   "cell_type": "code",
   "execution_count": null,
   "id": "2779d8ef",
   "metadata": {},
   "outputs": [],
   "source": [
    "# Create a weight map using the region mask\n",
    "\n",
    "tmp_wgts = spec_model_cube.weightmap[:]\n",
    "mask = reg.to_mask('exact')\n",
    "x1 = int(reg.center.x-reg.width/2.)\n",
    "x2 = x1+mask.shape[1]\n",
    "y1 = int(reg.center.y-reg.height/2.)\n",
    "y2 = y1+mask.shape[0]\n",
    "\n",
    "### Note above, the region shape is slightly different than the mask shape that gets generated. \n",
    "### This hack gets all the arrays to be the same size.\n",
    "\n",
    "# Start by setting all pixels to 1.\n",
    "mask2d = tmp_wgts[13,:,:]\n",
    "mask2d[mask2d>0] = 1.\n",
    "\n",
    "# Because we want an inverse array, we can't just use the mask, we have to subtract the mask (which is 1's) from the original mask2d above (make sense?) \n",
    "mask2d[y1:y2,x1:x2] = mask2d[y1:y2,x1:x2]-mask\n",
    "\n",
    "# Take into account weird rounding errors\n",
    "mask2d[mask2d<0.1] = 0."
   ]
  },
  {
   "cell_type": "code",
   "execution_count": null,
   "id": "f2f5ff36",
   "metadata": {},
   "outputs": [],
   "source": [
    "# Visualize the 2D Mask (Same As Before)\n",
    "\n",
    "from astropy.nddata import CCDData\n",
    "from astropy.visualization import simple_norm\n",
    "ccd = mask2d\n",
    "norm = simple_norm(ccd, 'sqrt', min_cut=0, max_cut=0.5)   \n",
    "color = 'rgbmkrgbmk'\n",
    "\n",
    "xceni = [36, 44]\n",
    "yceni = [66, 58]\n",
    "\n",
    "fig = plt.figure(figsize=(10, 10))\n",
    "ax = fig.add_subplot()\n",
    "counter = 0\n",
    "plt.title(\"Masked Data\")\n",
    "plt.imshow(ccd, norm=norm, origin=\"lower\")     \n",
    "plt.show()"
   ]
  },
  {
   "cell_type": "code",
   "execution_count": null,
   "id": "24282902",
   "metadata": {},
   "outputs": [],
   "source": [
    "# Create a 3D weightmap from the 2D map. Mask all NAN values, too.\n",
    "\n",
    "mask3d = np.broadcast_to(mask2d, spec_model_cube.weightmap.shape)\n",
    "mask3d.flags.writeable = True\n",
    "mask3d[np.isnan(spec_model_cube.data)] = 0\n",
    "#mask_sci_cube = np.ma.masked_array(spec_model_cube.weightmap, mask=mask3d.astype(bool))\n",
    "tmp_wgt_cube = np.swapaxes(mask3d,0,1)\n",
    "tmp_wgt_cube = np.swapaxes(tmp_wgt_cube,1,2)\n",
    "plotcube = Spectrum1D(tmp_wgt_cube*u.dimensionless_unscaled)"
   ]
  },
  {
   "cell_type": "code",
   "execution_count": null,
   "id": "1d3996a0",
   "metadata": {},
   "outputs": [],
   "source": [
    "# Visualize the 3D Cube in Cubeviz\n",
    "\n",
    "cubeviz = Cubeviz()\n",
    "cubeviz.load_data(plotcube, data_label='SN1987A MASK')\n",
    "cubeviz.show()"
   ]
  },
  {
   "cell_type": "code",
   "execution_count": null,
   "id": "27fe1bac",
   "metadata": {},
   "outputs": [],
   "source": [
    "# Define the weightmap in the background subtracted cube as the new 3D Mask \n",
    "# This will tell the pipeline which spaxels to use for extraction\n",
    "\n",
    "spec_model_cube.weightmap = mask3d\n",
    "spec_model_cube.save(spec3_dir+'87A_bg_sub_skymask.fits',overwrite=True)"
   ]
  },
  {
   "cell_type": "markdown",
   "id": "967b38cc",
   "metadata": {},
   "source": [
    "# 3. Extract Background Spectrum (again) using Extract1dStep"
   ]
  },
  {
   "cell_type": "code",
   "execution_count": null,
   "id": "34a08066",
   "metadata": {},
   "outputs": [],
   "source": [
    "# Set 1D extraction parameters\n",
    "\n",
    "def runex(filename, outdir, outputfile):\n",
    "    ex1d = jwst.extract_1d.Extract1dStep()\n",
    "    ex1d.output_dir = outdir\n",
    "    ex1d.save_results = True\n",
    "    ex1d.subtract_background = False\n",
    "    ex1d.output_file = outputfile\n",
    "    ex1d(filename)"
   ]
  },
  {
   "cell_type": "code",
   "execution_count": null,
   "id": "565396df",
   "metadata": {
    "scrolled": true
   },
   "outputs": [],
   "source": [
    "# We will extract a 1D spectrum from the cube created above with a weightmap defined by the region mask\n",
    "# This extraction will create an average of all the spaxels in each frame that are not masked\n",
    "# We will use this to be our master background to subtract from the entire cube\n",
    "\n",
    "cubefile_p1  = spec3_dir+'87A_bg_sub_skymask.fits'\n",
    "\n",
    "outputfile = spec3_dir+'87A_bg_sub_skymask'\n",
    "runex(cubefile_p1,spec3_dir,outputfile=outputfile)"
   ]
  },
  {
   "cell_type": "markdown",
   "id": "80466d2f",
   "metadata": {},
   "source": [
    "# 4. Create Annulus to Define Extraction Region for SN Equitorial Ring"
   ]
  },
  {
   "cell_type": "markdown",
   "id": "b8519a0e",
   "metadata": {},
   "source": [
    "#### This step show how to interactively define a region to be used for extracting a equatorial ring. If you skip this step, you can continue to run the notebook further in Step 5."
   ]
  },
  {
   "cell_type": "code",
   "execution_count": null,
   "id": "357667d3",
   "metadata": {},
   "outputs": [],
   "source": [
    "# Video showing how to define an annulus background around SN 1987A using the cells below\n",
    "\n",
    "HTML('<iframe width=\"700\" height=\"500\" src=\"https://data.science.stsci.edu/redirect/JWST/jwst-data_analysis_tools/MRS_1987A/region_mask2.mov\" frameborder=\"0\" allowfullscreen></iframe>')"
   ]
  },
  {
   "cell_type": "code",
   "execution_count": null,
   "id": "3fcd3de3",
   "metadata": {},
   "outputs": [],
   "source": [
    "# Open Background Subtracted Cube Again\n",
    "\n",
    "plotcube = spec3_dir+'87A_bg_sub_ch1-2-3-4-shortmediumlong_s3d.fits'\n",
    "cubeviz2 = Cubeviz()\n",
    "cubeviz2.load_data(plotcube, data_label='SN1987A BG SUB')\n",
    "cubeviz2.show()"
   ]
  },
  {
   "cell_type": "code",
   "execution_count": null,
   "id": "42207155",
   "metadata": {},
   "outputs": [],
   "source": [
    "# Save Inner and Outer Annuli\n",
    "# Get the ellipse region, ideally from Cubeviz, but otherwise download from pre-defined files.\n",
    "\n",
    "regions = cubeviz2.get_interactive_regions()\n",
    "\n",
    "if checkKey(regions,\"Subset 1\") is True:\n",
    "    regions['Subset 1'].write('87a_extract_outer.reg', overwrite=True)\n",
    "else:\n",
    "    print(\"No Outer Annulus Region From Cubeviz.\")\n",
    "    if os.path.isfile(\"./87a_extract_outer.reg\"):\n",
    "        print('File exists. Deleting ./87a_extract_outer.reg')\n",
    "        os.remove(\"./87a_extract_outer.reg\")\n",
    "    print(\"Downloading...87a_extract_outer.txt\")\n",
    "    fname = \"./87a_extract_outer.reg\"\n",
    "    url = 'https://data.science.stsci.edu/redirect/JWST/jwst-data_analysis_tools/MRS_1987A/87a_extract_outer.txt'\n",
    "    urllib.request.urlretrieve(url, fname)\n",
    "    \n",
    "if checkKey(regions,\"Subset 2\") is True:\n",
    "    regions['Subset 2'].write('87a_extract_inner.reg', overwrite=True)\n",
    "else:\n",
    "    print(\"No Inner Annulus Region From Cubeviz.\")\n",
    "    if os.path.isfile(\"./87a_extract_inner.reg\"):\n",
    "        print('File exists. Deleting ./87a_extract_inner.reg')\n",
    "        os.remove(\"./87a_extract_inner.reg\")\n",
    "    print(\"Downloading...87a_extract_inner.txt\")\n",
    "    fname = \"./87a_extract_inner.reg\"\n",
    "    url = 'https://data.science.stsci.edu/redirect/JWST/jwst-data_analysis_tools/MRS_1987A/87a_extract_inner.txt'\n",
    "    urllib.request.urlretrieve(url, fname)"
   ]
  },
  {
   "cell_type": "code",
   "execution_count": null,
   "id": "fdffa541",
   "metadata": {},
   "outputs": [],
   "source": [
    "# Read in data cube as a JWST data model\n",
    "cubefile = spec3_dir+'87A_bg_sub_ch1-2-3-4-shortmediumlong_s3d.fits'\n",
    "\n",
    "spec_model_cube = IFUCubeModel()\n",
    "spec_model_cube.read(cubefile)"
   ]
  },
  {
   "cell_type": "code",
   "execution_count": null,
   "id": "3f968269",
   "metadata": {},
   "outputs": [],
   "source": [
    "# Print the source and aperture type being used in the header of the file (this can be Extended or Point). \n",
    "# For SN 1987A, we have an EXTENDED source\n",
    "\n",
    "spec_model_cube.find_fits_keyword('SRCTYPE')\n",
    "spec_model_cube.find_fits_keyword('SRCTYAPT')\n",
    "\n",
    "print(spec_model_cube.meta.target.source_type)\n",
    "print(spec_model_cube.meta.target.source_type_apt)"
   ]
  },
  {
   "cell_type": "code",
   "execution_count": null,
   "id": "65565988",
   "metadata": {},
   "outputs": [],
   "source": [
    "# If necessary, you can change your cube header as necessary. We don't need to change anything in this case.\n",
    "# But you might want to if you have a point source, yet want to extract a user specified background spectrum.\n",
    "# The pipeline extracts EXTENDED and POINT sources differently.\n",
    "\n",
    "spec_model_cube.meta.target.source_type = 'EXTENDED'\n",
    "spec_model_cube.meta.target.source_type_apt = 'EXTENDED'"
   ]
  },
  {
   "cell_type": "code",
   "execution_count": null,
   "id": "9ad67489",
   "metadata": {},
   "outputs": [],
   "source": [
    "# Read in previously extracted regions (this time the annuli)\n",
    "\n",
    "reg_outer = Regions.read('87a_extract_outer.reg', format='ds9')[0]\n",
    "reg_inner = Regions.read('87a_extract_inner.reg', format='ds9')[0]\n",
    "print(reg_outer)"
   ]
  },
  {
   "cell_type": "code",
   "execution_count": null,
   "id": "448827ac",
   "metadata": {},
   "outputs": [],
   "source": [
    "# Create a weight map using the region mask for the outer annulus\n",
    "\n",
    "tmp_wgts = spec_model_cube.weightmap[:]\n",
    "mask = reg_outer.to_mask('exact')\n",
    "x1 = int(reg_outer.center.x-reg_outer.width/2.)\n",
    "x2 = x1+mask.shape[1]\n",
    "y1 = int(reg_outer.center.y-reg_outer.height/2.)\n",
    "y2 = y1+mask.shape[0]\n",
    "\n",
    "### Note above, the region shape is slightly different than the mask shape that gets generated. That's why I had to put in this hack about setting the size.\n",
    "\n",
    "# Start by setting all pixels to 0.\n",
    "mask2d = tmp_wgts[13,:,:]*0.\n",
    "\n",
    "# Because we want an inverse array, we can't just use the mask, we have to subtract the mask (which is 1's) from the original mask2d above (make sense?) \n",
    "mask2d[y1:y2,x1:x2] = mask2d[y1:y2,x1:x2]+mask\n",
    "\n",
    "# Take into account weird rounding errors\n",
    "mask2d[mask2d>0.1] = 1."
   ]
  },
  {
   "cell_type": "code",
   "execution_count": null,
   "id": "2bd3c5de",
   "metadata": {},
   "outputs": [],
   "source": [
    "# Create a weight map using the region mask for the inner annulus (and subtract it)\n",
    "\n",
    "tmp_wgts = spec_model_cube.weightmap[:]\n",
    "mask = reg_inner.to_mask('exact')\n",
    "x1 = int(reg_inner.center.x-reg_inner.width/2.)\n",
    "x2 = x1+mask.shape[1]\n",
    "y1 = int(reg_inner.center.y-reg_inner.height/2.)\n",
    "y2 = y1+mask.shape[0]\n",
    "\n",
    "### Note above, the region shape is slightly different than the mask shape that gets generated. That's why I had to put in this hack about setting the size.\n",
    "\n",
    "# mask2d already defined in cell above\n",
    "\n",
    "# Because we want an inverse array, we can't just use the mask, we have to subtract the mask (which is 1's) from the original mask2d above (make sense?) \n",
    "mask2d[y1:y2,x1:x2] = mask2d[y1:y2,x1:x2]-mask\n",
    "\n",
    "# Take into account weird rounding errors\n",
    "mask2d[mask2d<0.1] = 0.\n",
    "npix = len(mask2d[mask2d==1])\n",
    "npix"
   ]
  },
  {
   "cell_type": "code",
   "execution_count": null,
   "id": "c0fa7cb5",
   "metadata": {},
   "outputs": [],
   "source": [
    "# Visualize the 2D Mask\n",
    "\n",
    "from astropy.nddata import CCDData\n",
    "from astropy.visualization import simple_norm\n",
    "ccd = mask2d\n",
    "norm = simple_norm(ccd, 'sqrt', min_cut=0, max_cut=0.5)   \n",
    "color = 'rgbmkrgbmk'\n",
    "\n",
    "xceni = [36, 44]\n",
    "yceni = [66, 58]\n",
    "\n",
    "fig = plt.figure(figsize=(10, 10))\n",
    "ax = fig.add_subplot()\n",
    "counter = 0\n",
    "plt.title(\"Masked Data\")\n",
    "plt.imshow(ccd, norm=norm, origin=\"lower\")     \n",
    "plt.show()"
   ]
  },
  {
   "cell_type": "code",
   "execution_count": null,
   "id": "e2a26371",
   "metadata": {},
   "outputs": [],
   "source": [
    "# Create a 3D weightmap from the 2D map. Mask all NAN values, too.\n",
    "\n",
    "mask3d = np.broadcast_to(mask2d, spec_model_cube.weightmap.shape)\n",
    "mask3d.flags.writeable = True\n",
    "mask3d[np.isnan(spec_model_cube.data)] = 0\n",
    "#mask_sci_cube = np.ma.masked_array(spec_model_cube.weightmap, mask=mask3d.astype(bool))\n",
    "tmp_wgt_cube = np.swapaxes(mask3d,0,1)\n",
    "tmp_wgt_cube = np.swapaxes(tmp_wgt_cube,1,2)\n",
    "plotcube = Spectrum1D(tmp_wgt_cube*u.dimensionless_unscaled)"
   ]
  },
  {
   "cell_type": "code",
   "execution_count": null,
   "id": "badea9cf",
   "metadata": {},
   "outputs": [],
   "source": [
    "# Visualize the 3D Mask in Cubeviz\n",
    "\n",
    "cubeviz3 = Cubeviz()\n",
    "cubeviz3.load_data(plotcube, data_label='SN1987A MASK')\n",
    "cubeviz3.show()"
   ]
  },
  {
   "cell_type": "code",
   "execution_count": null,
   "id": "18cd4752",
   "metadata": {},
   "outputs": [],
   "source": [
    "# Define the weightmap in the background subtracted cube as the new 3D Mask \n",
    "# This will tell the pipeline which spaxels to use for extraction\n",
    "# Reassign the weightmap to the original cube and save it\n",
    "spec_model_cube.weightmap = mask3d\n",
    "spec_model_cube.save(spec3_dir+'87A_bg_sub_annulus_extract.fits',overwrite=True)"
   ]
  },
  {
   "cell_type": "markdown",
   "id": "914bc219",
   "metadata": {},
   "source": [
    "# 5. Extract SN Equitorial Ring Spectrum using Extract1dStep"
   ]
  },
  {
   "cell_type": "code",
   "execution_count": null,
   "id": "ab919dd7",
   "metadata": {},
   "outputs": [],
   "source": [
    "# We will consider this our master background extraction\n",
    "\n",
    "cubefile_p1  = spec3_dir+'87A_bg_sub_annulus_extract.fits'\n",
    "\n",
    "outputfile = spec3_dir+'87A_bg_sub_annulus_extract.fits'\n",
    "runex(cubefile_p1,spec3_dir,outputfile=outputfile)"
   ]
  },
  {
   "cell_type": "markdown",
   "id": "7e8b61e9",
   "metadata": {},
   "source": [
    "# 6. Plot Final Results"
   ]
  },
  {
   "cell_type": "code",
   "execution_count": null,
   "id": "6fdf7de1",
   "metadata": {},
   "outputs": [],
   "source": [
    "# First Plot Background in the Background Subtracted Cube\n",
    "\n",
    "filelist = glob.glob(spec3_dir+'87A_bg_sub_skymask_extract1dstep.fits')\n",
    "filelist"
   ]
  },
  {
   "cell_type": "code",
   "execution_count": null,
   "id": "06e13c9d",
   "metadata": {},
   "outputs": [],
   "source": [
    "# MRS Header Keyword value for the pixel area in sterdians \n",
    "\n",
    "ref_cube = spec3_dir+'87A_bg_sub_annulus_extract.fits'\n",
    "hdu = fits.open(ref_cube)\n",
    "hdr = hdu[1].header\n",
    "pixar_sr = hdr['PIXAR_SR'] #should be 3.97217570860291E-13\n",
    "print(pixar_sr)"
   ]
  },
  {
   "cell_type": "code",
   "execution_count": null,
   "id": "56cc11ec",
   "metadata": {},
   "outputs": [],
   "source": [
    "# Make Plot\n",
    "\n",
    "from specutils.manipulation import box_smooth, gaussian_smooth, trapezoid_smooth\n",
    "\n",
    "fig, ax = plt.subplots(figsize=(6, 6))\n",
    "counter = 0\n",
    "\n",
    "#color = cm.rainbow(np.linspace(0, 1, len(filelist)))\n",
    "color = 'rgbmkrgbmk'\n",
    "ylim_low = -1.e2\n",
    "ylim_high = 5.e-2\n",
    "for filename in filelist:\n",
    "    jpipe_x1d = Spectrum1D.read(filename)\n",
    "    jpipe_x1d = gaussian_smooth(jpipe_x1d,stddev=50)\n",
    "    ax.plot(jpipe_x1d.spectral_axis, jpipe_x1d.flux, color = color[counter], label = filename)\n",
    "    ax.set_title(\"Manual Background Extractions AFTER Master Background Subtraction\")\n",
    "    ax.set_xlabel(r\"wavelength [$\\mu$m]\")\n",
    "    ax.set_ylabel(\"Flux Density [MJy/Str]\")\n",
    "    #ax.set_yscale(\"log\")\n",
    "    ax.set_ylim(ylim_low, ylim_high)\n",
    "    #ax.set_xlim(xlim_low, xlim_high)\n",
    "    ax.legend(bbox_to_anchor=(1.1, 1.05))\n",
    "    counter = counter+1\n",
    "\n",
    "plt.savefig(spec3_dir+'87A_background.png')\n",
    "\n",
    "jpipe_x1d.flux[0:20]"
   ]
  },
  {
   "cell_type": "code",
   "execution_count": null,
   "id": "c14eb1f2",
   "metadata": {},
   "outputs": [],
   "source": [
    "# Next Plot the SN 1987A Equitorial Ring from the Background Subtracted Cube\n",
    "\n",
    "filelist = glob.glob(spec3_dir+'87A_bg_sub_annulus_extract_extract1dstep.fits')\n",
    "filelist"
   ]
  },
  {
   "cell_type": "code",
   "execution_count": null,
   "id": "f0c700b6",
   "metadata": {},
   "outputs": [],
   "source": [
    "# MRS Header Keyword value for the pixel area in sterdians \n",
    "\n",
    "ref_cube = spec3_dir+'87A_bg_sub_annulus_extract.fits'\n",
    "hdu = fits.open(ref_cube)\n",
    "hdr = hdu[1].header\n",
    "pixar_sr = hdr['PIXAR_SR'] #should be 3.97217570860291E-13\n",
    "print(pixar_sr)"
   ]
  },
  {
   "cell_type": "code",
   "execution_count": null,
   "id": "13b57670",
   "metadata": {},
   "outputs": [],
   "source": [
    "# Make Plot\n",
    "\n",
    "# Remember, the pipeline treats an EXTENDED source by averaging all the spaxels. \n",
    "# But we want the total number flux, so we need to multiply by the number of spaxels in the annulus\n",
    "# We calculated this value above when we were creating our mask (npix)\n",
    "\n",
    "from specutils.manipulation import box_smooth, gaussian_smooth, trapezoid_smooth\n",
    "\n",
    "fig, ax = plt.subplots(figsize=(6, 6))\n",
    "counter = 0\n",
    "\n",
    "#color = cm.rainbow(np.linspace(0, 1, len(filelist)))\n",
    "color = 'rgbmkrgbmk'\n",
    "ylim_low = 1.e-4\n",
    "ylim_high = 1.5e-1\n",
    "for filename in filelist:\n",
    "    jpipe_x1d = Spectrum1D.read(filename)\n",
    "    #jpipe_x1d = gaussian_smooth(jpipe_x1d,stddev=50)\n",
    "    flux_convert = jpipe_x1d.flux*1.e6*pixar_sr*npix # Convert from MJy/str to Jy\n",
    "    ax.plot(jpipe_x1d.spectral_axis, flux_convert, color = color[counter], label = filename)\n",
    "    ax.set_title(\"SN 1987A Ring AFTER Master Background Subtraction\")\n",
    "    ax.set_xlabel(r\"wavelength [$\\mu$m]\")\n",
    "    ax.set_ylabel(\"Flux Density [Jy]\")\n",
    "    #ax.set_yscale(\"log\")\n",
    "    ax.set_ylim(ylim_low, ylim_high)\n",
    "    #ax.set_xlim(xlim_low, xlim_high)\n",
    "    ax.legend(bbox_to_anchor=(1.1, 1.05))\n",
    "    counter = counter+1\n",
    "\n",
    "plt.savefig(spec3_dir+'87A_ring_bg_sub.png')\n",
    "\n",
    "jpipe_x1d.flux[0:20]"
   ]
  }
 ],
 "metadata": {
  "kernelspec": {
   "display_name": "Python 3 (ipykernel)",
   "language": "python",
   "name": "python3"
  },
  "language_info": {
   "codemirror_mode": {
    "name": "ipython",
    "version": 3
   },
   "file_extension": ".py",
   "mimetype": "text/x-python",
   "name": "python",
   "nbconvert_exporter": "python",
   "pygments_lexer": "ipython3",
   "version": "3.10.12"
  }
 },
 "nbformat": 4,
 "nbformat_minor": 5
}
