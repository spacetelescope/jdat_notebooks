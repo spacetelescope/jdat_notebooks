{
 "cells": [
  {
   "cell_type": "markdown",
   "metadata": {},
   "source": [
    "# IFU Cube Fitting\n"
   ]
  },
  {
   "cell_type": "markdown",
   "metadata": {},
   "source": [
    "**Use case:** continuum and emission-line modeling of AGN; 1.47-1.87um.<br>\n",
    "**Data:** [NIFS](https://www.gemini.edu/instrumentation/current-instruments/nifs) on Gemini; NGC 4151.<br>\n",
    "**Tools:**  specutils, jdaviz/cubeviz, astropy, matplotlib, bottleneck.<br>\n",
    "**Cross-intrument:** NIRSpec; potentially MIRI <br>\n",
    "**Documentation:** This notebook is part of a STScI's larger [post-pipeline Data Analysis Tools Ecosystem](https://jwst-docs.stsci.edu/jwst-post-pipeline-data-analysis) and can be [downloaded](https://github.com/spacetelescope/jdat_notebooks/tree/main/notebooks/IFU_cube_continuum_fit/) directly from the [JDAT Notebook Github directory](https://github.com/spacetelescope/jdat_notebooks).<br>\n",
    "\n",
    "## Introduction\n",
    "\n",
    "This notebook uses an example 3-D IFU Datacube of the Active Galactic Nucleii NGC 4151 [Storchi-Bergmann et al. 2009,  MNRAS, V 394, pp. 1148-1166](https://ui.adsabs.harvard.edu/abs/2009MNRAS.394.1148S/abstract).  This is a ground-based AO-fed H-band dataset (1.47-1.87um) from the Near-Infrared Integral Field Spectrograph (NIFS) instrument at the Gemini Observatory.  NIFS is a very similar image slicing IFU to JWST NIRSpec.\n",
    "\n",
    "This notebook performs some simple spectral investigations.  The notebook utilizes [jdaviz/cubviz](https://github.com/spacetelescope/jdaviz) to inspect the dataset and extract 1-D spectra.  The continuum is fit in a region near to the 1.644um [Fe II] emission from the AGN outflow and subtracted.  The centrally compact atomic Hydrogen Brackett 12 feature, which is nearby in wavelength and contaminates the [Fe II] outflow emission, is also fit and removed.  The data sub-cubes of the continuum model and the isolated and continuum subtracted [Fe II] emission are then saved.  These saved data sets will ultimately serve as starting points for the future notebooks in this set.\n",
    "\n",
    "**Note:** This notebook is designed to analyze the 1.6440 [Fe II] emission but the wavelengths can be altered to fit and remove continuum around any emission line of interest.\n",
    "\n",
    "## Import Packages\n",
    " - time for timing\n",
    " - numpy for array processing and math\n",
    " - matplotlib.pyplot for plotting images and spectra\n",
    " - astropy.io for reading and writing FITS cubes and images\n",
    " - astropy.modeling for modeling spectral curves\n",
    " - astropy.utils.data for accessing the data\n",
    " - specutils.fitting for spectral data fitting\n",
    " - specutils Spectrum1D for modeling emission lines\n",
    " - jdaviz.app to use cubeviz in the notebook\n",
    "\n"
   ]
  },
  {
   "cell_type": "code",
   "execution_count": null,
   "metadata": {},
   "outputs": [],
   "source": [
    "# load important packages\n",
    "import time\n",
    "import os\n",
    "from IPython.display import HTML, YouTubeVideo\n",
    "\n",
    "import numpy as np\n",
    "from astropy.io import fits\n",
    "from astropy import units as u\n",
    "from astropy.modeling import models\n",
    "from astropy.utils.data import download_file\n",
    "from specutils import Spectrum1D\n",
    "from jdaviz import Cubeviz\n",
    "from specutils.manipulation import extract_region\n",
    "from specutils.spectra import SpectralRegion"
   ]
  },
  {
   "cell_type": "code",
   "execution_count": null,
   "metadata": {},
   "outputs": [],
   "source": [
    "# load and configure matplotlib\n",
    "%matplotlib inline\n",
    "import matplotlib.pyplot as plt\n",
    "plt.rcParams.update({'figure.max_open_warning': 0})"
   ]
  },
  {
   "cell_type": "code",
   "execution_count": null,
   "metadata": {},
   "outputs": [],
   "source": [
    "# Save and Load Objects Using Pickle\n",
    "import pickle\n",
    "\n",
    "\n",
    "def save_obj(obj, name):\n",
    "    with open(name, 'wb') as f:\n",
    "        pickle.dump(obj, f, pickle.HIGHEST_PROTOCOL)\n",
    "\n",
    "\n",
    "def load_obj(name):\n",
    "    with open(name, 'rb') as f:\n",
    "        return pickle.load(f)"
   ]
  },
  {
   "cell_type": "code",
   "execution_count": null,
   "metadata": {},
   "outputs": [],
   "source": [
    "# This cell accesses the datacube file, defines the wavelength grid from header information and then plots a simple\n",
    "# 1-D collapsed spectrum of the IFU data.\n",
    "\n",
    "# Read in a 3-D IFU datacube of interest, and header.\n",
    "cube_file = 'https://data.science.stsci.edu/redirect/JWST/jwst-data_analysis_tools/IFU_cube_continuum_fit/NGC4151_Hband.fits'\n",
    "fn = download_file('https://data.science.stsci.edu/redirect/JWST/jwst-data_analysis_tools/IFU_cube_continuum_fit/NGC4151_Hband.fits', cache=True)\n",
    "cube = fits.getdata(cube_file)\n",
    "header_cube = fits.getheader(cube_file)\n",
    "\n",
    "# grab data information and wavelength definitions.\n",
    "nz, ny, nx = cube.shape\n",
    "crdelt3 = header_cube['CDELT3']\n",
    "crval3 = header_cube['CRVAL3']\n",
    "\n",
    "# define the wavelength grid (microns) from the header (Angstroms)\n",
    "# and the AGN redshift and the emission line of interest.\n",
    "wave = ((crdelt3 * (np.arange(0, nz, 1))) + crval3)/10000.0\n",
    "redshift = 0.00332\n",
    "emission_line = 1.64400*(1 + redshift)\n",
    "emission_line_index = (np.abs(wave-emission_line)).argmin()\n",
    "\n",
    "# make a simple summed 1d spectrum of the full cube\n",
    "flux1 = np.sum(cube, axis=(1, 2))\n",
    "\n",
    "# plot the full 1-D spectrum.\n",
    "plt.figure(0)\n",
    "plt.plot(wave, flux1)\n",
    "plt.show()"
   ]
  },
  {
   "cell_type": "markdown",
   "metadata": {},
   "source": [
    "We see that the spectral edges of the summed 1D are 'ratty'.  The 1D spectral array goes beyond the nominal useable data range of the instrument.  We'll ignore the poor spectral regions and focus on the AGN flux.\n",
    "\n",
    "The [Fe II] feature that we are interested in is the bright, strong emission just shortward of 1.65um.  The contaminating H I Br 12 emission is just blueward of the [Fe II].\n",
    "\n",
    "We can use this plot window to read wavelength values of interest to define our analysis spectral ranges (see wavelength/flux grid data to the lower right of the plot window).\n",
    "\n",
    "Special Note - in this particular dataset, a portion of the spectrum on the red side of the [FeII] emission\n",
    "provides a clean measure of the continuum.  The blue-ward side of the [Fe II]\n",
    "and HI Brackett 12 emission has other emission and absorption features that make clear continuum ID very \n",
    "difficult.  As a result, it is more accurate to do a simple linear fit to the red side of the spectrum rather than\n",
    "a more expanded spectral region that encompasses the emission.."
   ]
  },
  {
   "cell_type": "code",
   "execution_count": null,
   "metadata": {},
   "outputs": [],
   "source": [
    "# This cell defines the wavelength regions of interest: around the emission line, and the location\n",
    "# where you want to fit and remove the continuum very accurately.  Make a plot that shows the regions.\n",
    "\n",
    "# Here we select a region that includes the emission line\n",
    "# wavelength plus a small range of continuum around it.  \n",
    "# Determine these limits by investigating the flux in the above plot.  Read\n",
    "# the wavelength values off of the plot information at the lower right.\n",
    "\n",
    "wave_emission_limit1 = 1.630\n",
    "wave_emission_limit2 = 1.665\n",
    "\n",
    "# Here we define a spectral range where we will use the\n",
    "# flux to generate a continuum model.  The flux shape in this\n",
    "# AGN is quite linear around the redward emission, so we will use only a \n",
    "# short segment of the spectrum on the red side of the emission \n",
    "# feature.\n",
    "# We again determine these values by investigating the wavelengths in the\n",
    "# above plot window.\n",
    "\n",
    "continuum_limit1 = 1.656\n",
    "continuum_limit2 = 1.673\n",
    "  \n",
    "# Define the wavelength region around the emission - indices\n",
    "wavemin = (np.abs(wave-wave_emission_limit1)).argmin()\n",
    "wavemax = (np.abs(wave-wave_emission_limit2)).argmin()\n",
    "\n",
    "# Define the wavelength region used to fit the continuum flux level  - indices.\n",
    "continuummin = (np.abs(wave-continuum_limit1)).argmin()\n",
    "continuummax = (np.abs(wave-continuum_limit2)).argmin()\n",
    "\n",
    "# Show the region used for the emission line and continuum fit.  Alter the wavelengths \n",
    "# above if this doesn't look good.  \n",
    "plt.figure(1)\n",
    "plt.plot(wave, flux1)\n",
    "plt.plot(wave[wavemin:wavemax], flux1[wavemin:wavemax])\n",
    "plt.plot(wave[continuummin:continuummax], flux1[continuummin:continuummax], color='r')\n",
    "plt.show()"
   ]
  },
  {
   "cell_type": "markdown",
   "metadata": {},
   "source": [
    "### Cubeviz Visualization\n",
    "You can also visualize images inside a Jupyter notebook using [Cubeviz](https://jdaviz.readthedocs.io/en/latest/cubeviz/index.html)"
   ]
  },
  {
   "cell_type": "markdown",
   "metadata": {},
   "source": [
    "### Video1: \n",
    "\n",
    "This Cubeviz Instructional Demo is from STScI's official YouTube channel and provides an introduction to Cubeviz."
   ]
  },
  {
   "cell_type": "code",
   "execution_count": null,
   "metadata": {},
   "outputs": [],
   "source": [
    "vid = YouTubeVideo(\"HMSYwiH3Gl4\")\n",
    "display(vid)"
   ]
  },
  {
   "cell_type": "code",
   "execution_count": null,
   "metadata": {},
   "outputs": [],
   "source": [
    "cubeviz = Cubeviz()\n",
    "cubeviz.app"
   ]
  },
  {
   "cell_type": "code",
   "execution_count": null,
   "metadata": {},
   "outputs": [],
   "source": [
    "# Here, we load the data into the Cubeviz app.\n",
    "cubeviz.load_data(fn) "
   ]
  },
  {
   "cell_type": "markdown",
   "metadata": {},
   "source": [
    "A video is shown below illustrating the procedure.  The following steps are applied:\n",
    "\n",
    "When you load your cube, you will see a collapsed spectrum of all the spaxels in the spectral viewer at the bottom.\n",
    "\n",
    "If you draw a region (circle or square) in the flux viewer, you will see a collapsed spectrum of that particular region in the spectral viewer, too.  To do this, use the expandable menu at the left of the flux viewer window and select the 'define circular region of interest' icon.  For this example, we want to first define a circular region at the central position of the bright AGN flux, which is at approximately the cube center position.\n",
    "\n",
    "Now, use the flux viewer and again use the 'define circular region of interest' icon to make spectra at two positions associated with the outflow emission in [Fe II].  The redshifted outflow is at approximate x position = 12, y position = 36.  This will be 'Subset 2' and will show up in green in the display. The blueshifted outflow is at approximately x position = 50, y position = 28 in pixel index units.  This will be 'Subset 3' and will show up in blue in the display.\n",
    "\n",
    "(If the notebook is being run non-interactively, automatically make two datasets that mimic the AGN outflow red/blueshifted spectra)."
   ]
  },
  {
   "cell_type": "markdown",
   "metadata": {},
   "source": [
    "## Defining your Spectral Regions\n",
    "\n",
    "Next, you will want to define the wavelengths of interest in your spectral viewer for both your line and continuum analysis.  To do this, you will similarly click the 'define region of interest' icon in your spectral viewer and drag a box over the wavelengths you desire.  Again, a video is show below illustrating the process.\n",
    "\n",
    "There is no option to set the spectral regions to user input, so we recommend zooming in and drawing by eye.  The line emission (;Subset 4' ) should span approximately 1.630 - 1.665 um, and the continuum emission ('Subset 5') should span approximately 1.656 - 1.673 um."
   ]
  },
  {
   "cell_type": "markdown",
   "metadata": {},
   "source": [
    "### Some Notes:\n",
    "\n",
    "*If your cell window requires you to scroll to see the different displays in cubeviz, you can toggle the scroll window in the main menu of the notebook: Cell -> Current Outputs -> Toggle Scrolling\n",
    "\n",
    "*In the datacube viewing panel, you can select the 'layer' tab (horizontal line settings icon) in the upper panel within the viewer and change the display scaling.  Decreasing the maximum display value by 10x brings out the low level extended emission in this dataset.  In this cube, data from slice ~1060 to ~1090 shows the extended [Fe II] emission.  "
   ]
  },
  {
   "cell_type": "markdown",
   "metadata": {},
   "source": [
    "### Video2: \n",
    "\n",
    "Here is a video illustrating how to load and manipulate data for this particular notebook.  A description of how to manipulate the data and use the \"Collapse\" tool is given above."
   ]
  },
  {
   "cell_type": "markdown",
   "metadata": {},
   "source": [
    "IFrame(\"https://data.science.stsci.edu/redirect/JWST/jwst-data_analysis_tools/IFU_cube_continuum_fit/cubeviz1.mov\", width=700, height=500)\n"
   ]
  },
  {
   "cell_type": "code",
   "execution_count": null,
   "metadata": {},
   "outputs": [],
   "source": [
    "HTML('<iframe width=\"700\" height=\"500\" src=\"https://data.science.stsci.edu/redirect/JWST/jwst-data_analysis_tools/IFU_cube_continuum_fit/cubeviz1.mov\" frameborder=\"0\" allowfullscreen></iframe>')"
   ]
  },
  {
   "cell_type": "markdown",
   "metadata": {},
   "source": [
    "### Video3:\n",
    "\n",
    "Here is a video illustrating how to define your regions of interest and extract them into the notebook for more analysis below."
   ]
  },
  {
   "cell_type": "code",
   "execution_count": null,
   "metadata": {},
   "outputs": [],
   "source": [
    "# PART 1\n",
    "HTML('<iframe width=\"700\" height=\"500\" src=\"https://data.science.stsci.edu/redirect/JWST/jwst-data_analysis_tools/IFU_cube_continuum_fit/cubeviz2_1.mov\" frameborder=\"0\" allowfullscreen></iframe>')"
   ]
  },
  {
   "cell_type": "code",
   "execution_count": null,
   "metadata": {},
   "outputs": [],
   "source": [
    "# PART 2\n",
    "HTML('<iframe width=\"700\" height=\"500\" src=\"https://data.science.stsci.edu/redirect/JWST/jwst-data_analysis_tools/IFU_cube_continuum_fit/cubeviz2_2.mov\" frameborder=\"0\" allowfullscreen></iframe>')"
   ]
  },
  {
   "cell_type": "markdown",
   "metadata": {},
   "source": [
    "# Extract Subset Spectrum in Cubeviz Spectrum Viewer"
   ]
  },
  {
   "cell_type": "markdown",
   "metadata": {},
   "source": [
    "Retrieve the spectrum (Subset1) of the user-defined region from the Spectrum Viewer as a Spectrum1D object."
   ]
  },
  {
   "cell_type": "code",
   "execution_count": null,
   "metadata": {},
   "outputs": [],
   "source": [
    "# Extract spectra corresponding to the colored regions in cubeviz\n",
    "spectrum1 = cubeviz.app.get_data_from_viewer('spectrum-viewer', 'Subset 1') # AGN Center\n",
    "spectrum2 = cubeviz.app.get_data_from_viewer('spectrum-viewer', 'Subset 2') # Red shifted component\n",
    "spectrum3 = cubeviz.app.get_data_from_viewer('spectrum-viewer', 'Subset 3') # Blue shifted component\n",
    "spectrum1"
   ]
  },
  {
   "cell_type": "code",
   "execution_count": null,
   "metadata": {},
   "outputs": [],
   "source": [
    "# Extract the line region defined in the spectral viewer\n",
    "regions = cubeviz.specviz.get_spectral_regions()\n",
    "        \n",
    "if regions and \"Subset 4\" in regions.keys():\n",
    "    line_region = regions[\"Subset 4\"]\n",
    "else:\n",
    "    line_region = SpectralRegion(1.630*u.um, 1.665*u.um)"
   ]
  },
  {
   "cell_type": "code",
   "execution_count": null,
   "metadata": {},
   "outputs": [],
   "source": [
    "# Extract the continuum region defined in the spectral viewer\n",
    "if regions and \"Subset 5\" in regions.keys():\n",
    "    continuum_region = regions[\"Subset 5\"]\n",
    "else:\n",
    "    continuum_region = SpectralRegion(1.656*u.um, 1.673*u.um)"
   ]
  },
  {
   "cell_type": "code",
   "execution_count": null,
   "metadata": {},
   "outputs": [],
   "source": [
    "# Apply the spectral region\n",
    "# (creates new collapsed spectra if user did not in jdaviz)\n",
    "if not spectrum1:\n",
    "    flux_agn = np.sum(cube[:, (ny//2)-3:(ny//2)+3, (nx//2)-3:(nx//2)+3], axis=(1, 2))\n",
    "    tmpspec = Spectrum1D(flux=flux_agn*u.Unit('count'), spectral_axis=wave*u.micron) \n",
    "    spec_agn = extract_region(tmpspec, line_region)\n",
    "    spec_agn_continuum = extract_region(tmpspec, continuum_region)    \n",
    "else: \n",
    "    spec_agn = extract_region(spectrum1, line_region)\n",
    "    spec_agn_continuum = extract_region(spectrum1, continuum_region)\n",
    "\n",
    "if not spectrum2:\n",
    "    flux_feii_red = np.sum(cube[:, (36)-3:(36)+3, (12)-3:(12)+3], axis=(1, 2))\n",
    "    tmpspec = Spectrum1D(flux=flux_feii_red*u.Unit('count'), spectral_axis=wave*u.micron) \n",
    "    spec_feii_red = extract_region(tmpspec, line_region)\n",
    "    spec_feii_red_continuum = extract_region(tmpspec, continuum_region)\n",
    "else:    \n",
    "    spec_feii_red = extract_region(spectrum2, line_region)\n",
    "    spec_feii_red_continuum = extract_region(spectrum2, continuum_region)\n",
    "\n",
    "if not spectrum3:\n",
    "    flux_feii_blue = np.sum(cube[:, (28)-3:(28)+3, (50)-3:(50)+3], axis=(1, 2))\n",
    "    tmpspec = Spectrum1D(flux=flux_feii_blue*u.Unit('count'), spectral_axis=wave*u.micron) \n",
    "    spec_feii_blue = extract_region(tmpspec, line_region)\n",
    "    spec_feii_blue_continuum = extract_region(tmpspec, continuum_region)\n",
    "else:     \n",
    "    spec_feii_blue = extract_region(spectrum3, line_region)\n",
    "    spec_feii_blue_continuum = extract_region(spectrum3, continuum_region)"
   ]
  },
  {
   "cell_type": "code",
   "execution_count": null,
   "metadata": {},
   "outputs": [],
   "source": [
    "# Visualize new subsets\n",
    "plt.figure()\n",
    "plt.plot(spec_agn.spectral_axis, spec_agn.flux, color='black')"
   ]
  },
  {
   "cell_type": "code",
   "execution_count": null,
   "metadata": {},
   "outputs": [],
   "source": [
    "# Visualize new subsets\n",
    "plt.figure()\n",
    "plt.plot(spec_feii_blue.spectral_axis, spec_feii_blue.flux, color='b')\n",
    "plt.plot(spec_feii_red.spectral_axis, spec_feii_red.flux, color='r')"
   ]
  },
  {
   "cell_type": "markdown",
   "metadata": {},
   "source": [
    "## Fit the Continuum at the Spectral Region Location\n",
    "\n",
    "A video is shown below illustrating the procedure for fitting the continuum for 'Subset 5' throughout the entire cube.  The following steps are applied to this particular example:<br />\n",
    "\n",
    "Open up Model Fitting Plugin. There are a number of fields to fill in and drop down menus to select from.  It is important to keep in mind that the Data menu will provide only spectra to model, while the Spectral Region menu will provide only spectral region subsets to choose.  In other words, you can fit the spectra in specific spectral regions.  If no spectral region is selected, the entire wavelength array will be fit by the mode. <br />\n",
    "\n",
    "Select Data Cube: contentsSCI <br />\n",
    "Select Spectral Region Subset 5<br />\n",
    "Model: Linear1D<br />\n",
    "ModelID: L1<br />\n",
    "Model Parameters: Leave Default<br />\n",
    "Model Equation Editor: L1<br />\n",
    "Model Label: LinFitCont<br />\n",
    "<br />\n",
    "Hit Fit, which fits the collapsed spectrum.<br />\n",
    "View the fit in the spectral viewer and confirm you are happy with it. <br />\n",
    "Then hit Apply to Cube.<br />\n",
    "\n",
    "This will create two models that can now be accessed within the Data Dropdown menus:<br />\n",
    "A 1D linear fit of the continuum for the collapsed cube.<br />\n",
    "A 3D linear fit of the continuum for each spaxel in the cube.<br />\n",
    "\n"
   ]
  },
  {
   "cell_type": "code",
   "execution_count": null,
   "metadata": {},
   "outputs": [],
   "source": [
    "# VIDEO OF CONTINUUM FITTING\n",
    "# PART 1\n",
    "HTML('<iframe width=\"700\" height=\"500\" src=\"https://data.science.stsci.edu/redirect/JWST/jwst-data_analysis_tools/IFU_cube_continuum_fit/bestfitcube_p1.mov\" frameborder=\"0\" allowfullscreen></iframe>')"
   ]
  },
  {
   "cell_type": "code",
   "execution_count": null,
   "metadata": {},
   "outputs": [],
   "source": [
    "# PART 2\n",
    "HTML('<iframe width=\"700\" height=\"500\" src=\"https://data.science.stsci.edu/redirect/JWST/jwst-data_analysis_tools/IFU_cube_continuum_fit/bestfitcube_p2.mov\" frameborder=\"0\" allowfullscreen></iframe>')"
   ]
  },
  {
   "cell_type": "markdown",
   "metadata": {},
   "source": [
    "## Pulling Data from Viewers\n",
    "\n",
    "Note, in cubeviz, you have 4 viewers from which you can pull data.  Make sure your data are properly loaded into each viewer before executing the get_data_from_viewer command:<br />\n",
    "\n",
    "Top Left: flux-viewer <br />\n",
    "Center: uncert-viewer<br />\n",
    "Top Right: mask-viewer<br />\n",
    "Bottom: spectrum-viewer<br />"
   ]
  },
  {
   "cell_type": "code",
   "execution_count": null,
   "metadata": {},
   "outputs": [],
   "source": [
    "# List data from viewer\n",
    "regions = cubeviz.app.get_data_from_viewer(\"uncert-viewer\")\n",
    "regions"
   ]
  },
  {
   "cell_type": "code",
   "execution_count": null,
   "metadata": {},
   "outputs": [],
   "source": [
    "# Extract continuum model from Cubeviz above\n",
    "cont_psf_cube = cubeviz.app.get_data_from_viewer(\"uncert-viewer\", \"LinFitCont [Cube] 1\")"
   ]
  },
  {
   "cell_type": "markdown",
   "metadata": {},
   "source": [
    "## Important Note: Always save data and variables when possible."
   ]
  },
  {
   "cell_type": "code",
   "execution_count": null,
   "metadata": {},
   "outputs": [],
   "source": [
    "# Delete any existing output in current directory\n",
    "if os.path.exists(\"NGC4151_Hband_ContinuumSubtract.fits\"):\n",
    "    os.remove(\"NGC4151_Hband_ContinuumSubtract.fits\")\n",
    "else:\n",
    "    print(\"The file does not exist\")\n",
    "\n",
    "if os.path.exists(\"NGC4151_Hband_ContinuumPSF.fits\"):\n",
    "    os.remove(\"NGC4151_Hband_ContinuumPSF.fits\")\n",
    "else:\n",
    "    print(\"The file does not exist\")"
   ]
  },
  {
   "cell_type": "code",
   "execution_count": null,
   "metadata": {},
   "outputs": [],
   "source": [
    "# Subtract Continuum\n",
    "\n",
    "# Re-read in original IFU cube for manipulation\n",
    "cube_file = 'https://data.science.stsci.edu/redirect/JWST/jwst-data_analysis_tools/IFU_cube_continuum_fit/NGC4151_Hband.fits'\n",
    "newfn = download_file('https://data.science.stsci.edu/redirect/JWST/jwst-data_analysis_tools/IFU_cube_continuum_fit/NGC4151_Hband.fits', cache=True)\n",
    "newheader_cube = fits.getheader(cube_file)\n",
    "\n",
    "# Check to see if user made a continuum fit in Cubeviz, make continuum subtraction, and save output\n",
    "if not cont_psf_cube:\n",
    "    start_time = time.time()\n",
    "\n",
    "    cont_sub_cube = np.zeros([nz, ny, nx])\n",
    "    cont_psf_cube = np.zeros([nz, ny, nx])\n",
    "\n",
    "    for i in range(1, nx-2):\n",
    "        for j in range(1, ny-2):\n",
    "            flux1 = cube[:, j, i]      \n",
    "            cont_fit = np.polyfit(wave[continuummin:continuummax], flux1[continuummin:continuummax], 1)\n",
    "            fitval = np.poly1d(cont_fit)\n",
    "            continuum = fitval(wave)        \n",
    "            cont_sub_cube[:, j, i] = flux1 - continuum\n",
    "            cont_psf_cube[:, j, i] = continuum \n",
    "\n",
    "    del newheader_cube['MODE']\n",
    "    fits.writeto('NGC4151_Hband_ContinuumSubtract.fits', cont_sub_cube, newheader_cube, overwrite=True)\n",
    "    fits.writeto('NGC4151_Hband_ContinuumPSF.fits', cont_psf_cube, newheader_cube, overwrite=True)\n",
    "    print('Continuum subtracted cube saved. PSF continuum cube saved.')\n",
    "else:\n",
    "    with fits.open(newfn, memmap=False) as cont_sub_cube:\n",
    "        sci = cont_sub_cube['SCI'].data\n",
    "\n",
    "        # Get List of different viewers\n",
    "        continuumflux = cont_psf_cube[\"flux\"]\n",
    "\n",
    "        sci_contsub = sci-continuumflux\n",
    "        cont_sub_cube['SCI'].data = sci_contsub \n",
    "        del cont_sub_cube['PRIMARY'].header['MODE']\n",
    "        cont_sub_cube.writeto('NGC4151_Hband_ContinuumSubtract.fits')\n",
    "        del newheader_cube['MODE']\n",
    "        fits.writeto('NGC4151_Hband_ContinuumPSF.fits', continuumflux, newheader_cube, overwrite=True)"
   ]
  },
  {
   "cell_type": "code",
   "execution_count": null,
   "metadata": {},
   "outputs": [],
   "source": [
    "# You can also read out your model fit parameters \n",
    "params = cubeviz.get_model_parameters(model_label=\"LinFitCont\")\n",
    "params"
   ]
  },
  {
   "cell_type": "markdown",
   "metadata": {},
   "source": [
    "*(The following cell is just an example of how you can acces the model fit parameter values):*"
   ]
  },
  {
   "cell_type": "code",
   "execution_count": null,
   "metadata": {},
   "outputs": [],
   "source": [
    "# If you are using jdaviz < 3.5, uncomment the following line instead:\n",
    "# params['LinFitCont_3d']['slope']\n",
    "# params['LinFitCont']['slope']"
   ]
  },
  {
   "cell_type": "code",
   "execution_count": null,
   "metadata": {},
   "outputs": [],
   "source": [
    "# Open up a new instance of Cubeviz to visualize continuum subtracted data\n",
    "cubeviz2 = Cubeviz()\n",
    "cubeviz2.app"
   ]
  },
  {
   "cell_type": "code",
   "execution_count": null,
   "metadata": {},
   "outputs": [],
   "source": [
    "cont_sub_cube = 'NGC4151_Hband_ContinuumSubtract.fits'\n",
    "cubeviz2.app.load_data(cont_sub_cube, data_label='Continuum Subtracted')"
   ]
  },
  {
   "cell_type": "markdown",
   "metadata": {},
   "source": [
    "## Fitting your multiple component Gaussian Model\n",
    "\n",
    "Now we want to investigate an initial fit to the Br 12 emission feature, which is a pesky contaminant nearby in wavelength to our target [Fe II] emission.  The Br 12 is centrally compact and arises from only from the nucleus of the AGN, not from the outflow.  Make a plot of the fit results.<br />\n",
    "\n",
    "A video is shown below illustrating the procedure.  The following steps are applied:<br />\n",
    "\n",
    "First, select the wavelength region of interest following a similar procedure as performed at the top.  There is no option to set the spectral regions to a user input, so we recommend zooming in and drawing by eye.  The line emission ('Subset 1' ) should again span approximately 1.630 - 1.665 um.\n",
    "\n",
    "For this example, we recommend setting up a 3 component gaussian model with the following inputs<br />\n",
    "Open up Model Fitting Plugin. There are a number of fields to fill in and drop down menus to select from.  It is important to keep in mind that the Data menu will provide only spectra to model, while the Spectral Region menu will provide only spectral region subsets to choose.  In other words, you can fit the spectra in specific spectral regions.  If no spectral region is selected, the entire wavelength array will be fit by the mode. <br />\n",
    "\n",
    "Data: Continuum Subtracted<br />\n",
    "Spectral region or subset covering about 1.632 to 1.656 um<br />\n",
    "Model: Three different Gaussians with ModelID's set to G1, G2, and G3<br />\n",
    "Model Parameters: <br />\n",
    "\n",
    "G1: stdev=0.0008E-6, mean=1.641E-6<br />\n",
    "G2: stdev=0.0007E-6, mean=1.648E-6<br />\n",
    "G3: stdev=0.005E-6, mean=1.646E-6<br />\n",
    "You can turn on the 'Fixed' option if you need to, but these numbers should provide a good starting guess for the fit.<br />\n",
    "\n",
    "Model Equation Editor: G1+G2+g3<br />\n",
    "Model Label: GaussAll<br />\n",
    "<br />\n",
    "Hit Fit, which fits the collapsed spectrum.<br />\n",
    "View the fit in the spectral viewer and confirm you are happy with it.  Modify if necessary. <br />\n",
    "Then hit Apply to Cube.<br />\n",
    "\n",
    "This will again create two models that can now be accessed within the Data Dropdown menus:<br />\n",
    "A 1D linear fit of the lines in the collapsed cube.<br />\n",
    "A 3D linear fit of the lines for each spaxel in the cube.<br />"
   ]
  },
  {
   "cell_type": "code",
   "execution_count": null,
   "metadata": {},
   "outputs": [],
   "source": [
    "# VIDEO PART1\n",
    "HTML('<iframe width=\"700\" height=\"500\" src=\"https://data.science.stsci.edu/redirect/JWST/jwst-data_analysis_tools/IFU_cube_continuum_fit/multifit_p1.mov\" frameborder=\"0\" allowfullscreen></iframe>')"
   ]
  },
  {
   "cell_type": "code",
   "execution_count": null,
   "metadata": {},
   "outputs": [],
   "source": [
    "# VIDEO PART2\n",
    "HTML('<iframe width=\"700\" height=\"500\" src=\"https://data.science.stsci.edu/redirect/JWST/jwst-data_analysis_tools/IFU_cube_continuum_fit/multifit_p2.mov\" frameborder=\"0\" allowfullscreen></iframe>')"
   ]
  },
  {
   "cell_type": "markdown",
   "metadata": {},
   "source": [
    "Wow, that multi-component fit looks great.  Good deal.\n",
    "\n",
    "Now we're going to use the continuum psf cube from a prior cell  with the Brackett model created in the above cell to create a full 3-D model of the central emission that isn't caused by the outflow [Fe II]."
   ]
  },
  {
   "cell_type": "code",
   "execution_count": null,
   "metadata": {},
   "outputs": [],
   "source": [
    "# Extract the spectral regions defined in the spectral viewer\n",
    "regions = cubeviz2.specviz.get_spectral_regions()\n",
    "\n",
    "if regions and \"Subset 1\" in regions.keys():\n",
    "    line_region = regions[\"Subset 1\"]\n",
    "else:\n",
    "    line_region = SpectralRegion(1.6322*u.um, 1.6563*u.um)"
   ]
  },
  {
   "cell_type": "code",
   "execution_count": null,
   "metadata": {},
   "outputs": [],
   "source": [
    "# List spectra available in spectrum-viewer\n",
    "spec = cubeviz2.app.get_data_from_viewer('spectrum-viewer') \n",
    "spec"
   ]
  },
  {
   "cell_type": "code",
   "execution_count": null,
   "metadata": {},
   "outputs": [],
   "source": [
    "# Get gauss model spectrum and model cube\n",
    "all_spec = cubeviz2.app.get_data_from_viewer('spectrum-viewer', 'Continuum Subtracted[SCI]') # AGN Center Data Cube\n",
    "gauss_spec = cubeviz2.app.get_data_from_viewer('spectrum-viewer', 'GaussAll') # AGN Center Model Spec\n",
    "gauss_cube = cubeviz2.app.get_data_from_viewer(\"uncert-viewer\", \"GaussAll [Cube] 1\") # AGN Center Model Cube"
   ]
  },
  {
   "cell_type": "code",
   "execution_count": null,
   "metadata": {},
   "outputs": [],
   "source": [
    "# Check to see if user used Cubeviz (above), and, if not, read in premade data\n",
    "if not gauss_cube:\n",
    "    fn = download_file('https://data.science.stsci.edu/redirect/JWST/jwst-data_analysis_tools/IFU_cube_continuum_fit/gauss_model_cube.fits', cache=False)\n",
    "    gauss_cube = fits.getdata(fn)\n",
    "else:\n",
    "    gauss_cube = gauss_cube[\"flux\"]\n",
    "    \n",
    "if not all_spec:\n",
    "    fn = download_file('https://data.science.stsci.edu/redirect/JWST/jwst-data_analysis_tools/IFU_cube_continuum_fit/all_spec.fits', cache=False)\n",
    "    all_spec = Spectrum1D.read(fn)\n",
    "    \n",
    "if not gauss_spec:\n",
    "    fn = download_file('https://data.science.stsci.edu/redirect/JWST/jwst-data_analysis_tools/IFU_cube_continuum_fit/gauss_spec.fits', cache=False)\n",
    "    gauss_spec = Spectrum1D.read(fn)"
   ]
  },
  {
   "cell_type": "code",
   "execution_count": null,
   "metadata": {},
   "outputs": [],
   "source": [
    "# Save your gauss model cube if necessary\n",
    "if os.path.exists(\"gauss_model_cube.fits\"):\n",
    "    os.remove(\"gauss_model_cube.fits\")\n",
    "else:\n",
    "    print(\"The file does not already exist\")\n",
    "\n",
    "fits.writeto('gauss_model_cube.fits', gauss_cube, overwrite=True)\n",
    "print(type(gauss_cube))\n",
    "print(type(all_spec.flux))"
   ]
  },
  {
   "cell_type": "markdown",
   "metadata": {},
   "source": [
    "*(Developer Note: if saving with 'Count' doesn't work, try the following code.)*"
   ]
  },
  {
   "cell_type": "raw",
   "metadata": {},
   "source": [
    "print(all_spec.flux)\n",
    "os.remove(\"all_spec.fits\")\n",
    "specref=Spectrum1D(flux=all_spec.flux*u.Unit('Jy'), spectral_axis=all_spec.spectral_axis)\n",
    "specref.write(\"all_spec.fits\")\n",
    "\n",
    "os.remove(\"gauss_spec.fits\")\n",
    "specref=Spectrum1D(flux=gauss_spec.flux*u.Unit('Jy'), spectral_axis=gauss_spec.spectral_axis)\n",
    "specref.write(\"gauss_spec.fits\")"
   ]
  },
  {
   "cell_type": "code",
   "execution_count": null,
   "metadata": {},
   "outputs": [],
   "source": [
    "# You can also read out your model fit parameters \n",
    "params = cubeviz2.get_model_parameters(model_label=\"GaussAll\")\n",
    "params"
   ]
  },
  {
   "cell_type": "code",
   "execution_count": null,
   "metadata": {},
   "outputs": [],
   "source": [
    "# Save parameters as a pickle file if necessary\n",
    "save_obj(params, \"gauss_params.pkl\")\n",
    "params = load_obj(\"gauss_params.pkl\")"
   ]
  },
  {
   "cell_type": "code",
   "execution_count": null,
   "metadata": {},
   "outputs": [],
   "source": [
    "# Check to see if user used Cubeviz (above), and, if not, read in premade data\n",
    "if not params:\n",
    "    fn = download_file('https://data.science.stsci.edu/redirect/JWST/jwst-data_analysis_tools/IFU_cube_continuum_fit/gauss_params.pkl', cache=True)\n",
    "    params = load_obj(fn)\n",
    "    print(\"Loaded\")"
   ]
  },
  {
   "cell_type": "code",
   "execution_count": null,
   "metadata": {},
   "outputs": [],
   "source": [
    "# Overwrite gauss model with only 2 of the components of interest\n",
    "gauss_cube_2component = gauss_cube*0\n",
    "\n",
    "model_label = \"GaussAll\"\n",
    "# If you are using jdaviz < 3.5, uncomment the following line instead:\n",
    "model_label = \"GaussAll_3d\"\n",
    "\n",
    "nz, ny, nx = gauss_cube_2component.shape\n",
    "for i in range(0, nx-1):\n",
    "    for j in range(0, ny-1):\n",
    "        amp1 = params[model_label]['amplitude_0'][i][j]\n",
    "        amp2 = params[model_label]['amplitude_2'][i][j]\n",
    "        m1 = params[model_label]['mean_0'][i][j]\n",
    "        m2 = params[model_label]['mean_2'][i][j]\n",
    "        stdev1 = params[model_label]['stddev_0'][i][j]\n",
    "        stdev2 = params[model_label]['stddev_2'][i][j]\n",
    "        g1 = models.Gaussian1D(amplitude=amp1*u.Unit('count'), mean=m1*u.m, stddev=stdev1*u.m)\n",
    "        g2 = models.Gaussian1D(amplitude=amp2*u.Unit('count'), mean=m2*u.m, stddev=stdev2*u.m)\n",
    "        gauss_cube_2component[:, i, j] = g1(all_spec.spectral_axis)+g2(all_spec.spectral_axis)"
   ]
  },
  {
   "cell_type": "code",
   "execution_count": null,
   "metadata": {},
   "outputs": [],
   "source": [
    "# Add the continuum cube to the new model cube\n",
    "continuum_file = 'NGC4151_Hband_ContinuumPSF.fits'\n",
    "newfull_header = fits.getheader(continuum_file)\n",
    "\n",
    "with fits.open(continuum_file, memmap=False) as continuum_cube: \n",
    "    continuum_data = continuum_cube[0].data\n",
    "    full_model = gauss_cube_2component+continuum_data"
   ]
  },
  {
   "cell_type": "code",
   "execution_count": null,
   "metadata": {},
   "outputs": [],
   "source": [
    "# Subtract the model to create the final cube where the [Fe II] emission is isolated.\n",
    "# Re-read in original IFU cube for manipulation\n",
    "cube_file = 'https://data.science.stsci.edu/redirect/JWST/jwst-data_analysis_tools/IFU_cube_continuum_fit/NGC4151_Hband.fits'\n",
    "newfinalsub_header = fits.getheader(cube_file)\n",
    "\n",
    "with fits.open(cube_file, memmap=False) as original_cube:\n",
    "    original_data = original_cube['SCI'].data\n",
    "    final_sub_cube = original_data - full_model"
   ]
  },
  {
   "cell_type": "code",
   "execution_count": null,
   "metadata": {},
   "outputs": [],
   "source": [
    "# Delete any existing output in current directory\n",
    "if os.path.exists(\"NGC4151_Hband_FinalSubtract.fits\"):\n",
    "    os.remove(\"NGC4151_Hband_FinalSubtract.fits\")\n",
    "else:\n",
    "    print(\"The file does not exist\")\n",
    "\n",
    "if os.path.exists(\"NGC4151_Hband_ContinuumandBrackettModel.fits\"):\n",
    "    os.remove(\"NGC4151_Hband_ContinuumandBrackettModel.fits\")\n",
    "else:\n",
    "    print(\"The file does not exist\")"
   ]
  },
  {
   "cell_type": "code",
   "execution_count": null,
   "metadata": {},
   "outputs": [],
   "source": [
    "del newfinalsub_header['MODE']\n",
    "\n",
    "fits.writeto('NGC4151_Hband_ContinuumandBrackettModel.fits', full_model, newfull_header, overwrite=True)\n",
    "fits.writeto('NGC4151_Hband_FinalSubtract.fits', final_sub_cube, newfinalsub_header, overwrite=True)\n",
    "print('Continuum subtracted cube saved. PSF continuum cube saved.')"
   ]
  },
  {
   "cell_type": "code",
   "execution_count": null,
   "metadata": {},
   "outputs": [],
   "source": [
    "# Make the final plots to illustrate the original spectrum, model fits, and final continuum+gassian subtracted cube\n",
    "plt.figure()\n",
    "plt.xlim([1.630E-6, 1.665E-6])\n",
    "plt.ylim([600, 900])\n",
    "plt.plot(all_spec.spectral_axis, continuum_data[:, 30, 30], label='Continuum')\n",
    "plt.plot(all_spec.spectral_axis, original_data[:, 30, 30], label='Original Data')\n",
    "plt.plot(all_spec.spectral_axis, full_model[:, 30, 30], label='2 Component Model')\n",
    "plt.plot(all_spec.spectral_axis, final_sub_cube[:, 30, 30]+700, label='Model Subtraction+Offset')\n",
    "plt.legend()\n",
    "plt.show()"
   ]
  },
  {
   "cell_type": "code",
   "execution_count": null,
   "metadata": {},
   "outputs": [],
   "source": [
    "# Open up a new instance of Cubeviz to visualize continuum subtracted data\n",
    "cubeviz3 = Cubeviz()\n",
    "cubeviz3.app"
   ]
  },
  {
   "cell_type": "code",
   "execution_count": null,
   "metadata": {},
   "outputs": [],
   "source": [
    "cont_sub_cube = 'NGC4151_Hband_FinalSubtract.fits'\n",
    "cubeviz3.app.load_data(cont_sub_cube, data_label='Red/Blue Shift')"
   ]
  }
 ],
 "metadata": {
  "kernelspec": {
   "display_name": "Python 3 (ipykernel)",
   "language": "python",
   "name": "python3"
  },
  "language_info": {
   "codemirror_mode": {
    "name": "ipython",
    "version": 3
   },
   "file_extension": ".py",
   "mimetype": "text/x-python",
   "name": "python",
   "nbconvert_exporter": "python",
   "pygments_lexer": "ipython3",
   "version": "3.11.6"
  },
  "toc": {
   "base_numbering": 1,
   "nav_menu": {},
   "number_sections": false,
   "sideBar": false,
   "skip_h1_title": false,
   "title_cell": "Table of Contents",
   "title_sidebar": "Contents",
   "toc_cell": false,
   "toc_position": {},
   "toc_section_display": false,
   "toc_window_display": false
  }
 },
 "nbformat": 4,
 "nbformat_minor": 4
}
