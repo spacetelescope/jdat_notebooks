{
 "cells": [
  {
   "cell_type": "markdown",
   "id": "b58d6954",
   "metadata": {},
   "source": [
    "# NIRCam PSF Photometry With Space_Phot\n",
    "\n",
    "**Author**: Ori Fox\n",
    "<br>\n",
    "**Last Updated**: August, 2023"
   ]
  },
  {
   "cell_type": "markdown",
   "id": "88c61bcf-1c4d-407a-b80c-aa13a01fd746",
   "metadata": {
    "tags": []
   },
   "source": [
    "## Table of contents\n",
    "1. [Introduction](#intro)<br>\n",
    "2. [Setup](#setup)<br>\n",
    "    2.1 [Python imports](#py_imports)<br>\n",
    "3. [Bright, Single Object](#bso)<br>\n",
    "    3.1 [Multiple, Level2 Files](#bso2)<br>\n",
    "    3.2 [Single, Level3 Mosaicked File](#bso3)<br>\n",
    "4. [Faint/Upper Limit, Single Object](#fso)<br>\n",
    "    4.1 [Multiple, Level2 Files](#fso2)<br>\n",
    "    4.2 [Single, Level3 Mosaicked File](#fso3)<br>\n",
    "5. [Stellar Field (LMC)](#lmv)<br>\n",
    "    5.1 [Multiple, Level2 Files](#lmc2)<br>\n",
    "    5.2 [Single, Level3 Mosaicked File](#lmc3)<br>"
   ]
  },
  {
   "cell_type": "markdown",
   "id": "4f572688",
   "metadata": {},
   "source": [
    "1.<font color='white'>-</font>Introduction <a class=\"anchor\" id=\"intro\"></a>\n",
    "------------------"
   ]
  },
  {
   "cell_type": "markdown",
   "id": "95891849",
   "metadata": {},
   "source": [
    "**Packages to Install**:\n",
    "drizzlepac\\\\\n",
    "space_phot https://github.com/jpierel14/space_phot\\\\\n",
    "photutils (on main git+https://github.com/astropy/photutils)\\\\\n",
    "jupyter\\\\\n",
    "\n",
    "**Goals**: \n",
    "\n",
    "PSF Photometry can be obtained using:\n",
    "\n",
    "* grid of PSF models from WebbPSF\n",
    "* single effective PSF (ePSF) NOT YET AVAILABLE\n",
    "* grid of effective PSF NOT YET AVAILABLE\n",
    "\n",
    "The notebook shows:\n",
    "\n",
    "* how to obtain the PSF model from WebbPSF (or build an ePSF)\n",
    "* how to perform PSF photometry on the image\n",
    "\n",
    "**Data**: \n",
    "\n",
    "NIRCam Data PID 1537 (Calibration Program):\n",
    "\n",
    "jwst_download.py -v --config jwst_query.cfg --propID 1537 --obsnums 24 --outrootdir ./mydownloads/ -l 500 --i nircam --obsmode image --token 26d153297747413888b37e4bd12302dc --calib_level 3 --filetypes '_i2d.fits'\n",
    "\n",
    "jwst_download.py -v --config jwst_query.cfg --propID 1537 --obsnums 24 --outrootdir ./mydownloads/ -l 500 --i nircam --obsmode image --token 26d153297747413888b37e4bd12302dc --calib_level 2 --filetypes '_cal.fits'\n",
    "\n",
    "jwst_download.py -v --config jwst_query.cfg --propID 1537 --obsnums 24 --outrootdir ./mydownloads/ -l 500 --i nircam --obsmode image --token 26d153297747413888b37e4bd12302dc --filetypes '_asn.json'\n",
    "\n",
    "NIRCam Data PID 1476 (LMC):\n",
    "\n",
    "jwst_download.py -v --config jwst_query.cfg --propID 1476 --obsnums 1 --outrootdir ./mydownloads/ -l 500 --i nircam --obsmode image --token 26d153297747413888b37e4bd12302dc --calib_level 3 --filetypes '_i2d.fits' --obsid_select 87628757\n",
    "\n",
    "jwst_download.py -v --config jwst_query.cfg --propID 1476 --obsnums 1 --outrootdir ./mydownloads/ -l 500 --i nircam --obsmode image --token 26d153297747413888b37e4bd12302dc --calib_level 2 --filetypes '_cal.fits' --obsid_select 87628757 --sca 'a1'\n",
    "\n",
    "jwst_download.py -v --config jwst_query.cfg --propID 1476 --obsnums 1 --outrootdir ./mydownloads/ -l 500 --i nircam --obsmode image --token 26d153297747413888b37e4bd12302dc --filetypes '_asn.json'"
   ]
  },
  {
   "cell_type": "markdown",
   "id": "1cf3d18f",
   "metadata": {},
   "source": [
    "2.<font color='white'>-</font>Setup <a class=\"anchor\" id=\"setup\"></a>\n",
    "------------------"
   ]
  },
  {
   "cell_type": "markdown",
   "id": "5b762602",
   "metadata": {},
   "source": [
    "### 2.1<font color='white'>-</font>Python imports<a class=\"anchor\" id=\"py_imports\"></a> ###"
   ]
  },
  {
   "cell_type": "code",
   "execution_count": null,
   "id": "c4061c87",
   "metadata": {},
   "outputs": [],
   "source": [
    "import space_phot\n",
    "from importlib.metadata import version\n",
    "version('space_phot')"
   ]
  },
  {
   "cell_type": "code",
   "execution_count": null,
   "id": "60b4f8c3-8d1f-4b40-8e1a-ccd7c407941e",
   "metadata": {
    "tags": []
   },
   "outputs": [],
   "source": [
    "%matplotlib inline"
   ]
  },
  {
   "cell_type": "code",
   "execution_count": null,
   "id": "8c50eace",
   "metadata": {
    "tags": []
   },
   "outputs": [],
   "source": [
    "import sys,os,glob\n",
    "from astropy.io import fits\n",
    "from astropy.table import Table\n",
    "from astropy.nddata import extract_array\n",
    "from astropy.coordinates import SkyCoord\n",
    "from astropy import wcs\n",
    "from astropy.wcs.utils import skycoord_to_pixel\n",
    "from astropy import units as u\n",
    "import numpy as np\n",
    "import matplotlib.pyplot as plt\n",
    "from astroquery.mast import Observations\n",
    "from astropy.visualization import (simple_norm,LinearStretch)\n",
    "from mpl_toolkits.axes_grid1 import make_axes_locatable\n",
    "import time\n",
    "import math\n",
    "\n",
    "import space_phot\n",
    "\n",
    "# JWST models\n",
    "#\n",
    "from jwst import datamodels, associations\n",
    "from jwst.datamodels import ImageModel, dqflags\n",
    "\n",
    "# Background and PSF Functions\n",
    "#\n",
    "from photutils.background import MMMBackground, MADStdBackgroundRMS, Background2D\n",
    "from photutils.detection import DAOStarFinder\n",
    "from photutils import EPSFBuilder, GriddedPSFModel\n",
    "from photutils.psf import DAOGroup, extract_stars, IterativelySubtractedPSFPhotometry\n",
    "\n",
    "# Photutils library and tools\n",
    "#\n",
    "import photutils\n",
    "from photutils.aperture import CircularAperture, CircularAnnulus, aperture_photometry\n",
    "from photutils import Background2D, MedianBackground, ModeEstimatorBackground, MMMBackground"
   ]
  },
  {
   "cell_type": "code",
   "execution_count": null,
   "id": "7bc12d37-4dc6-41e8-a1a4-756e143ea2eb",
   "metadata": {
    "tags": []
   },
   "outputs": [],
   "source": [
    "from importlib.metadata import version\n",
    "version('space_phot')"
   ]
  },
  {
   "cell_type": "markdown",
   "id": "5611799d",
   "metadata": {},
   "source": [
    "3.<font color='white'>-</font>Bright, Single Object<a class=\"anchor\" id=\"bso\"></a>\n",
    "------------------"
   ]
  },
  {
   "cell_type": "markdown",
   "id": "55c52f95",
   "metadata": {},
   "source": [
    "### 3.1<font color='white'>-</font>Multiple, Level2 Files<a class=\"anchor\" id=\"bso2\"></a> ###"
   ]
  },
  {
   "cell_type": "code",
   "execution_count": null,
   "id": "8f44a6cf",
   "metadata": {
    "tags": []
   },
   "outputs": [],
   "source": [
    "### Level 3 Files\n",
    "prefix = 'mast/01537/obsnum24/'\n",
    "lvl3 = prefix+'jw01537-o024_t001_nircam_clear-f444w-sub160_i2d.fits'\n",
    "lvl3"
   ]
  },
  {
   "cell_type": "code",
   "execution_count": null,
   "id": "e7a50b5b",
   "metadata": {},
   "outputs": [],
   "source": [
    "from jwst.associations import load_asn\n",
    "hdl = fits.open(lvl3)\n",
    "hdr = hdl[0].header\n",
    "asnfile = prefix+hdr['ASNTABLE']\n",
    "lvl2_prelim = []\n",
    "asn_data = load_asn(open(asnfile))\n",
    "for member in asn_data['products'][0]['members']:\n",
    "    #print(member['expname'])\n",
    "    lvl2_prelim.append(prefix+member['expname'])\n",
    "    \n",
    "lvl2_prelim"
   ]
  },
  {
   "cell_type": "code",
   "execution_count": null,
   "id": "68a7181e",
   "metadata": {},
   "outputs": [],
   "source": [
    "# Sort out LVL2 Data That Includes The Actual Source (there are 4 detectors)\n",
    "source_location = SkyCoord('5:05:30.6593','+52:49:49.862',unit=(u.hourangle,u.deg))\n",
    "lvl2 = []\n",
    "for ref_image in lvl2_prelim:\n",
    "    print(ref_image)\n",
    "    ref_fits = fits.open(ref_image)\n",
    "    ref_data = fits.open(ref_image)['SCI',1].data\n",
    "    ref_y,ref_x = skycoord_to_pixel(source_location,wcs.WCS(ref_fits['SCI',1],ref_fits))\n",
    "    print(ref_y,ref_x)\n",
    "    try:\n",
    "        extract_array(ref_data,(11,11),(ref_x,ref_y))# block raising an exception\n",
    "    except:\n",
    "        pass # doing nothing on exception\n",
    "    else:\n",
    "        lvl2.append(ref_image)\n",
    "        print(ref_image+' added to final list')\n",
    "        \n",
    "lvl2"
   ]
  },
  {
   "cell_type": "raw",
   "id": "c33e5985",
   "metadata": {},
   "source": [
    "asnfile = 'jw02079-o004_20230622t175524_spec2_00001_asn.json'\n",
    "asn_data = json.load(open(asnfile))\n",
    "print(asn_data['products'][0]['members'][0]['expname'])"
   ]
  },
  {
   "cell_type": "raw",
   "id": "ec9baac8",
   "metadata": {},
   "source": [
    "from jwst.associations import load_asn\n",
    "asn_data = load_asn(open(\"my_asn.json\"))\n",
    "for member in asn_data['products'][0]['members']:\n",
    "    print(member['expname'])"
   ]
  },
  {
   "cell_type": "raw",
   "id": "9353e0d5",
   "metadata": {
    "tags": []
   },
   "source": [
    "### Create Level 2 Data List from ASN files\n",
    "prefix = \"mast/01028/obsnum06/\"\n",
    "with open(prefix+\"jw01028-o006_20230527t163328_image3_00004_asn.json\",\"r\") as fi:\n",
    "    lvl2 = []\n",
    "    for ln in fi:\n",
    "        #print(ln)\n",
    "        if ln.startswith('                    \"expname\":'):\n",
    "            x = ln[2:].split(':')\n",
    "            y = x[1].split('\"')\n",
    "            lvl2.append(prefix+y[1])\n",
    "print(lvl2)"
   ]
  },
  {
   "cell_type": "code",
   "execution_count": null,
   "id": "cc2ae63a",
   "metadata": {},
   "outputs": [],
   "source": [
    "# Change all DQ flagged pixels to NANs\n",
    "for file in lvl2:\n",
    "    hdul = fits.open(file, mode='update')\n",
    "    data = fits.open(file)['SCI',1].data\n",
    "    dq = fits.open(file)['DQ',1].data\n",
    "    data[dq == 1]=np.nan\n",
    "    hdul['SCI',1].data=data\n",
    "    hdul.flush()"
   ]
  },
  {
   "cell_type": "code",
   "execution_count": null,
   "id": "37bb2026",
   "metadata": {
    "tags": []
   },
   "outputs": [],
   "source": [
    "# Examine the First Image\n",
    "ref_image = lvl2[0]\n",
    "print(ref_image)\n",
    "ref_fits = fits.open(ref_image)\n",
    "ref_data = fits.open(ref_image)['SCI',1].data\n",
    "norm1 = simple_norm(ref_data,stretch='linear',min_cut=-1,max_cut=10)\n",
    "\n",
    "plt.imshow(ref_data, origin='lower',norm=norm1,cmap='gray')\n",
    "plt.gca().tick_params(labelcolor='none',axis='both',color='none')\n",
    "plt.show()\n",
    "lvl2[0]"
   ]
  },
  {
   "cell_type": "code",
   "execution_count": null,
   "id": "f647dfde",
   "metadata": {
    "tags": []
   },
   "outputs": [],
   "source": [
    "# Zoom in to see the source\n",
    "#source_location = SkyCoord('5:05:30.6598','+52:49:49.828',unit=(u.hourangle,u.deg))\n",
    "ref_y,ref_x = skycoord_to_pixel(source_location,wcs.WCS(ref_fits['SCI',1],ref_fits))\n",
    "ref_cutout = extract_array(ref_data,(11,11),(ref_x,ref_y))\n",
    "norm1 = simple_norm(ref_cutout,stretch='linear',min_cut=-10,max_cut=1000)\n",
    "plt.imshow(ref_cutout, origin='lower',\n",
    "                      norm=norm1,cmap='gray')\n",
    "plt.title('PID1537,Obs024')\n",
    "plt.gca().tick_params(labelcolor='none',axis='both',color='none')\n",
    "plt.show()\n",
    "\n",
    "ref_cutout\n",
    "#print(ref_y,ref_x)"
   ]
  },
  {
   "cell_type": "code",
   "execution_count": null,
   "id": "d67d57b9",
   "metadata": {
    "tags": []
   },
   "outputs": [],
   "source": [
    "# Get PSF from WebbPSF\n",
    "jwst_obs = space_phot.observation2(lvl2)\n",
    "psfs = space_phot.get_jwst_psf(jwst_obs,source_location)#,num_psfs=4)\n",
    "plt.imshow(psfs[0].data)\n",
    "plt.show()"
   ]
  },
  {
   "cell_type": "code",
   "execution_count": null,
   "id": "c9a1b447",
   "metadata": {
    "scrolled": false,
    "tags": []
   },
   "outputs": [],
   "source": [
    "# Do PSF Photometry using space_phot (details of fitting are in documentation)\n",
    "# https://st-phot.readthedocs.io/en/latest/examples/plot_a_psf.html#jwst-images\n",
    "\n",
    "jwst_obs.psf_photometry(psfs,source_location,bounds={'flux':[-10,10000],\n",
    "                        'centroid':[-2,2],\n",
    "                        'bkg':[0,50]},\n",
    "                        fit_width=5,\n",
    "                        fit_bkg=True,\n",
    "                        fit_flux='single')\n",
    "jwst_obs.plot_psf_fit()\n",
    "plt.show()\n",
    "\n",
    "jwst_obs.plot_psf_posterior(minweight=.0005)\n",
    "plt.show()\n",
    "\n",
    "print(jwst_obs.psf_result.phot_cal_table)"
   ]
  },
  {
   "cell_type": "code",
   "execution_count": null,
   "id": "31bd70f0",
   "metadata": {
    "tags": []
   },
   "outputs": [],
   "source": [
    "# Calculate Average Magnitude from Table\n",
    "mag_arr = jwst_obs.psf_result.phot_cal_table['mag']\n",
    "magerr_arr = jwst_obs.psf_result.phot_cal_table['magerr']\n",
    "\n",
    "mag_lvl2psf = np.mean(mag_arr)\n",
    "magerr_lvl2psf = math.sqrt(sum(p**2 for p in magerr_arr))\n",
    "print(round(mag_lvl2psf,4),round(magerr_lvl2psf,4))\n",
    "#return math.sqrt(sum((p[0]-centroid[0])**2 + (p[1]-centroid[1])**2 for p in points))\n"
   ]
  },
  {
   "cell_type": "markdown",
   "id": "a57f9275",
   "metadata": {},
   "source": [
    "### 3.2<font color='white'>-</font>Single, Level3 Mosaicked File<a class=\"anchor\" id=\"bso3\"></a> ###"
   ]
  },
  {
   "cell_type": "code",
   "execution_count": null,
   "id": "7bd91d15",
   "metadata": {
    "tags": []
   },
   "outputs": [],
   "source": [
    "lvl3"
   ]
  },
  {
   "cell_type": "code",
   "execution_count": null,
   "id": "5565538c",
   "metadata": {
    "tags": []
   },
   "outputs": [],
   "source": [
    "# Now do the same photometry on the Level 3 Data\n",
    "ref_image = lvl3\n",
    "ref_fits = fits.open(ref_image)\n",
    "ref_data = fits.open(ref_image)['SCI',1].data\n",
    "norm1 = simple_norm(ref_data,stretch='linear',min_cut=-1,max_cut=10)\n",
    "\n",
    "plt.imshow(ref_data, origin='lower',\n",
    "                      norm=norm1,cmap='gray')\n",
    "plt.gca().tick_params(labelcolor='none',axis='both',color='none')\n",
    "plt.show()"
   ]
  },
  {
   "cell_type": "code",
   "execution_count": null,
   "id": "0cd06c0a",
   "metadata": {
    "tags": []
   },
   "outputs": [],
   "source": [
    "source_location = SkyCoord('5:05:30.6593','+52:49:49.862',unit=(u.hourangle,u.deg))\n",
    "\n",
    "ref_y,ref_x = skycoord_to_pixel(source_location,wcs.WCS(ref_fits['SCI',1],ref_fits))\n",
    "ref_cutout = extract_array(ref_data,(11,11),(ref_x,ref_y))\n",
    "norm1 = simple_norm(ref_cutout,stretch='linear',min_cut=-1,max_cut=10)\n",
    "plt.imshow(ref_cutout, origin='lower',\n",
    "                      norm=norm1,cmap='gray')\n",
    "plt.title('PID1028,Obs006 (level 3)')\n",
    "plt.gca().tick_params(labelcolor='none',axis='both',color='none')\n",
    "plt.show()"
   ]
  },
  {
   "cell_type": "code",
   "execution_count": null,
   "id": "7bea076d",
   "metadata": {
    "tags": []
   },
   "outputs": [],
   "source": [
    "# Get PSF from WebbPSF and drizzle it to the source location\n",
    "\n",
    "jwst3_obs = space_phot.observation3(lvl3)\n",
    "psf3 = space_phot.get_jwst3_psf(jwst_obs,jwst3_obs,source_location)#,num_psfs=4)\n",
    "plt.imshow(psf3.data)\n",
    "plt.show()"
   ]
  },
  {
   "cell_type": "code",
   "execution_count": null,
   "id": "27525a0a",
   "metadata": {
    "tags": []
   },
   "outputs": [],
   "source": [
    "jwst3_obs.psf_photometry(psf3,source_location,bounds={'flux':[-1000,100000],\n",
    "                        'centroid':[-2,2],\n",
    "                        'bkg':[0,100]},\n",
    "                        fit_width=5,\n",
    "                        fit_bkg=False,\n",
    "                        fit_flux=True)\n",
    "\n",
    "jwst_obs.plot_psf_fit()\n",
    "plt.show()\n",
    "\n",
    "jwst_obs.plot_psf_posterior(minweight=.0005)\n",
    "plt.show()"
   ]
  },
  {
   "cell_type": "code",
   "execution_count": null,
   "id": "dc1f930a",
   "metadata": {
    "tags": []
   },
   "outputs": [],
   "source": [
    "mag_lvl3psf = jwst3_obs.psf_result.phot_cal_table['mag'][0]\n",
    "magerr_lvl3psf = jwst3_obs.psf_result.phot_cal_table['magerr'][0]\n",
    "print(round(mag_lvl2psf,4),round(magerr_lvl2psf,4))\n",
    "print(round(mag_lvl3psf,5),round(magerr_lvl3psf,5))"
   ]
  },
  {
   "cell_type": "markdown",
   "id": "5b5f0ad5-b59e-4eff-8687-f6a2199d8bd9",
   "metadata": {},
   "source": [
    "4.<font color='white'>-</font>Faint/Upper Limit, Single Object<a class=\"anchor\" id=\"fso\"></a>\n",
    "------------------"
   ]
  },
  {
   "cell_type": "markdown",
   "id": "8af6f83a-5925-44d5-be0f-facd2316d1ca",
   "metadata": {},
   "source": [
    "### 4.1<font color='white'>-</font>Multiple, Level2 Files<a class=\"anchor\" id=\"fso2\"></a> ###"
   ]
  },
  {
   "cell_type": "code",
   "execution_count": null,
   "id": "ba101fd1",
   "metadata": {
    "tags": []
   },
   "outputs": [],
   "source": [
    "### Level 3 Files\n",
    "prefix = 'mast/01537/obsnum24/'\n",
    "lvl3 = prefix+'jw01537-o024_t001_nircam_clear-f444w-sub160_i2d.fits'\n",
    "lvl3"
   ]
  },
  {
   "cell_type": "code",
   "execution_count": null,
   "id": "7725111b",
   "metadata": {},
   "outputs": [],
   "source": [
    "from jwst.associations import load_asn\n",
    "hdl = fits.open(lvl3)\n",
    "hdr = hdl[0].header\n",
    "asnfile = prefix+hdr['ASNTABLE']\n",
    "lvl2_prelim = []\n",
    "asn_data = load_asn(open(asnfile))\n",
    "for member in asn_data['products'][0]['members']:\n",
    "    #print(member['expname'])\n",
    "    lvl2_prelim.append(prefix+member['expname'])\n",
    "    \n",
    "lvl2_prelim"
   ]
  },
  {
   "cell_type": "code",
   "execution_count": null,
   "id": "a3536472",
   "metadata": {},
   "outputs": [],
   "source": [
    "# Sort out LVL2 Data That Includes The Actual Source (there are 4 detectors)\n",
    "source_location = SkyCoord('5:05:30.6186','+52:49:49.130',unit=(u.hourangle,u.deg))\n",
    "lvl2 = []\n",
    "for ref_image in lvl2_prelim:\n",
    "    print(ref_image)\n",
    "    ref_fits = fits.open(ref_image)\n",
    "    ref_data = fits.open(ref_image)['SCI',1].data\n",
    "    ref_y,ref_x = skycoord_to_pixel(source_location,wcs.WCS(ref_fits['SCI',1],ref_fits))\n",
    "    print(ref_y,ref_x)\n",
    "    try:\n",
    "        extract_array(ref_data,(11,11),(ref_x,ref_y))# block raising an exception\n",
    "    except:\n",
    "        pass # doing nothing on exception\n",
    "    else:\n",
    "        lvl2.append(ref_image)\n",
    "        print(ref_image+' added to final list')\n",
    "        \n",
    "lvl2"
   ]
  },
  {
   "cell_type": "raw",
   "id": "bbb74e99",
   "metadata": {
    "tags": []
   },
   "source": [
    "### Create Level 2 Data List from ASN files\n",
    "prefix = \"mast/01028/obsnum06/\"\n",
    "with open(prefix+\"jw01028-o006_20230527t163328_image3_00004_asn.json\",\"r\") as fi:\n",
    "    lvl2 = []\n",
    "    for ln in fi:\n",
    "        #print(ln)\n",
    "        if ln.startswith('                    \"expname\":'):\n",
    "            x = ln[2:].split(':')\n",
    "            y = x[1].split('\"')\n",
    "            lvl2.append(prefix+y[1])\n",
    "print(lvl2)"
   ]
  },
  {
   "cell_type": "code",
   "execution_count": null,
   "id": "322b5a27",
   "metadata": {},
   "outputs": [],
   "source": [
    "# Change all DQ flagged pixels to NANs\n",
    "for file in lvl2:\n",
    "    hdul = fits.open(file, mode='update')\n",
    "    data = fits.open(file)['SCI',1].data\n",
    "    dq = fits.open(file)['DQ',1].data\n",
    "    data[dq == 1]=np.nan\n",
    "    hdul['SCI',1].data=data\n",
    "    hdul.flush()"
   ]
  },
  {
   "cell_type": "code",
   "execution_count": null,
   "id": "273fcf6c",
   "metadata": {
    "tags": []
   },
   "outputs": [],
   "source": [
    "# Examine the First Image\n",
    "ref_image = lvl2[0]\n",
    "print(ref_image)\n",
    "ref_fits = fits.open(ref_image)\n",
    "ref_data = fits.open(ref_image)['SCI',1].data\n",
    "norm1 = simple_norm(ref_data,stretch='linear',min_cut=-1,max_cut=25)\n",
    "\n",
    "plt.imshow(ref_data, origin='lower',norm=norm1,cmap='gray')\n",
    "plt.gca().tick_params(labelcolor='none',axis='both',color='none')\n",
    "plt.show()"
   ]
  },
  {
   "cell_type": "code",
   "execution_count": null,
   "id": "6ceb5541",
   "metadata": {
    "tags": []
   },
   "outputs": [],
   "source": [
    "# Pick a blank part of the sky to calculate the upper limit\n",
    "ref_y,ref_x = skycoord_to_pixel(source_location,wcs.WCS(ref_fits['SCI',1],ref_fits))\n",
    "ref_cutout = extract_array(ref_data,(11,11),(ref_x,ref_y))\n",
    "norm1 = simple_norm(ref_cutout,stretch='linear',min_cut=-1,max_cut=25)\n",
    "plt.imshow(ref_cutout, origin='lower',\n",
    "                      norm=norm1,cmap='gray')\n",
    "plt.title('PID1028,Obs006')\n",
    "plt.gca().tick_params(labelcolor='none',axis='both',color='none')\n",
    "plt.show()"
   ]
  },
  {
   "cell_type": "code",
   "execution_count": null,
   "id": "72b8c907",
   "metadata": {
    "tags": []
   },
   "outputs": [],
   "source": [
    "# Get PSF from WebbPSF\n",
    "jwst_obs = space_phot.observation2(lvl2)\n",
    "psfs = space_phot.get_jwst_psf(jwst_obs,source_location)#,num_psfs=4)\n",
    "plt.imshow(psfs[0].data)\n",
    "plt.show()"
   ]
  },
  {
   "cell_type": "code",
   "execution_count": null,
   "id": "a2615569",
   "metadata": {
    "scrolled": false,
    "tags": []
   },
   "outputs": [],
   "source": [
    "# Do PSF Photometry using space_phot (details of fitting are in documentation)\n",
    "# https://st-phot.readthedocs.io/en/latest/examples/plot_a_psf.html#jwst-images\n",
    "\n",
    "jwst_obs.psf_photometry(psfs,source_location,bounds={'flux':[-10,1000],\n",
    "                        #'centroid':[-2,2],\n",
    "                        'bkg':[0,50]},\n",
    "                        fit_width=5,\n",
    "                        fit_bkg=True,\n",
    "                        fit_centroid='fixed',\n",
    "                        fit_flux='single')\n",
    "jwst_obs.plot_psf_fit()\n",
    "plt.show()\n",
    "\n",
    "jwst_obs.plot_psf_posterior(minweight=.0005)\n",
    "plt.show()\n",
    "\n",
    "print(jwst_obs.psf_result.phot_cal_table)"
   ]
  },
  {
   "cell_type": "code",
   "execution_count": null,
   "id": "234c8a45",
   "metadata": {},
   "outputs": [],
   "source": [
    "# Print Upper Limits\n",
    "\n",
    "magupper_lvl2psf = jwst_obs.upper_limit(nsigma=5)\n",
    "magupper_lvl2psf"
   ]
  },
  {
   "cell_type": "markdown",
   "id": "e325db03-6e9b-4f04-be7b-5e80063dd9b8",
   "metadata": {
    "tags": []
   },
   "source": [
    "### 4.2<font color='white'>-</font>Single, Level3 Mosaicked File<a class=\"anchor\" id=\"fso3\"></a> ###"
   ]
  },
  {
   "cell_type": "code",
   "execution_count": null,
   "id": "2e7ce46d",
   "metadata": {
    "tags": []
   },
   "outputs": [],
   "source": [
    "lvl3"
   ]
  },
  {
   "cell_type": "code",
   "execution_count": null,
   "id": "62f43c38",
   "metadata": {
    "tags": []
   },
   "outputs": [],
   "source": [
    "# Now do the same photometry on the Level 3 Data\n",
    "ref_image = lvl3\n",
    "ref_fits = fits.open(ref_image)\n",
    "ref_data = fits.open(ref_image)['SCI',1].data\n",
    "norm1 = simple_norm(ref_data,stretch='linear',min_cut=-1,max_cut=10)\n",
    "\n",
    "plt.imshow(ref_data, origin='lower',\n",
    "                      norm=norm1,cmap='gray')\n",
    "plt.gca().tick_params(labelcolor='none',axis='both',color='none')\n",
    "plt.show()"
   ]
  },
  {
   "cell_type": "code",
   "execution_count": null,
   "id": "625d7dab",
   "metadata": {
    "tags": []
   },
   "outputs": [],
   "source": [
    "# Pick a blank part of the sky to calculate the upper limit\n",
    "ref_y,ref_x = skycoord_to_pixel(source_location,wcs.WCS(ref_fits['SCI',1],ref_fits))\n",
    "ref_cutout = extract_array(ref_data,(11,11),(ref_x,ref_y))\n",
    "norm1 = simple_norm(ref_cutout,stretch='linear',min_cut=-10,max_cut=-5)\n",
    "plt.imshow(ref_cutout, origin='lower',\n",
    "                      norm=norm1,cmap='gray')\n",
    "plt.title('PID1028,Obs006 (level 3)')\n",
    "plt.gca().tick_params(labelcolor='none',axis='both',color='none')\n",
    "plt.show()"
   ]
  },
  {
   "cell_type": "code",
   "execution_count": null,
   "id": "50fbb856",
   "metadata": {
    "scrolled": false,
    "tags": []
   },
   "outputs": [],
   "source": [
    "# Get PSF from WebbPSF and drizzle it to the source location\n",
    "\n",
    "jwst3_obs = space_phot.observation3(lvl3)\n",
    "psf3 = space_phot.get_jwst3_psf(jwst_obs,jwst3_obs,source_location)#,num_psfs=4)\n",
    "plt.imshow(psf3.data)\n",
    "plt.show()"
   ]
  },
  {
   "cell_type": "code",
   "execution_count": null,
   "id": "fe699262",
   "metadata": {
    "tags": []
   },
   "outputs": [],
   "source": [
    "jwst3_obs.psf_photometry(psf3,source_location,bounds={'flux':[-10,1000],\n",
    "                        #'centroid':[-2,2],\n",
    "                        'bkg':[0,50]},\n",
    "                        fit_width=5,\n",
    "                        fit_bkg=False,\n",
    "                        fit_centroid=False,\n",
    "                        fit_flux=True)\n",
    "\n",
    "jwst3_obs.plot_psf_fit()\n",
    "plt.show()\n",
    "\n",
    "jwst3_obs.plot_psf_posterior(minweight=.0005)\n",
    "plt.show()"
   ]
  },
  {
   "cell_type": "code",
   "execution_count": null,
   "id": "ecaec8db",
   "metadata": {
    "tags": []
   },
   "outputs": [],
   "source": [
    "magupper_lvl3psf = jwst3_obs.upper_limit(nsigma=5)\n",
    "print(round(magupper_lvl2psf[0],4))\n",
    "print(round(magupper_lvl3psf[0],5))"
   ]
  },
  {
   "cell_type": "markdown",
   "id": "9a969717-bbef-40b9-ac9b-f83dec99dc09",
   "metadata": {},
   "source": [
    "5.<font color='white'>-</font>Stellar Field (LMC)<a class=\"anchor\" id=\"lmc\"></a>\n",
    "------------------"
   ]
  },
  {
   "cell_type": "markdown",
   "id": "32bdafe6-db19-4080-9587-b9785c2f7fa7",
   "metadata": {},
   "source": [
    "### 5.1<font color='white'>-</font>Multiple, Level2 Files<a class=\"anchor\" id=\"lmc2\"></a> ###"
   ]
  },
  {
   "cell_type": "markdown",
   "id": "b618756f",
   "metadata": {},
   "source": [
    "##### Now do the same thing for a larger group of stars and test for speed"
   ]
  },
  {
   "cell_type": "code",
   "execution_count": null,
   "id": "838bd76d",
   "metadata": {
    "tags": []
   },
   "outputs": [],
   "source": [
    "### Level 3 Files\n",
    "prefix = 'mast/01476/obsnum01/'\n",
    "lvl3 = prefix+'jw01476-o001_t001_nircam_clear-f150w_i2d.fits'\n",
    "lvl3"
   ]
  },
  {
   "cell_type": "code",
   "execution_count": null,
   "id": "ee3c3389",
   "metadata": {},
   "outputs": [],
   "source": [
    "from jwst.associations import load_asn\n",
    "hdl = fits.open(lvl3)\n",
    "hdr = hdl[0].header\n",
    "asnfile = prefix+hdr['ASNTABLE']\n",
    "lvl2 = []\n",
    "asn_data = load_asn(open(asnfile))\n",
    "for member in asn_data['products'][0]['members']:\n",
    "    #print(member['expname'])\n",
    "    lvl2.append(prefix+member['expname'])\n",
    "    \n",
    "lvl2 = [s for s in lvl2 if \"nrca1\" in s]\n",
    "lvl2"
   ]
  },
  {
   "cell_type": "code",
   "execution_count": null,
   "id": "57f9d790",
   "metadata": {
    "tags": []
   },
   "outputs": [],
   "source": [
    "# Find Stars in Level 3 File\n",
    "\n",
    "# Get rough estimate of background (There are Better Ways to Do Background Subtraction)\n",
    "bkgrms = MADStdBackgroundRMS()\n",
    "mmm_bkg = MMMBackground()\n",
    "\n",
    "im = fits.open(lvl3) \n",
    "w = wcs.WCS(im['SCI',1])\n",
    "\n",
    "std = bkgrms(im[1].data)\n",
    "bkg = mmm_bkg(im[1].data)\n",
    "data_bkgsub = im[1].data.copy()\n",
    "data_bkgsub -= bkg        \n",
    "sigma_psf = 1.636 #pixls for F770W\n",
    "threshold = 5.\n",
    "\n",
    "daofind = DAOStarFinder(threshold=threshold * std, fwhm=sigma_psf, exclude_border=True)\n",
    "found_stars = daofind(data_bkgsub)"
   ]
  },
  {
   "cell_type": "code",
   "execution_count": null,
   "id": "e4cee97c",
   "metadata": {
    "tags": []
   },
   "outputs": [],
   "source": [
    "found_stars.pprint_all(max_lines=10)"
   ]
  },
  {
   "cell_type": "code",
   "execution_count": null,
   "id": "7c7d793b",
   "metadata": {
    "tags": []
   },
   "outputs": [],
   "source": [
    "# Filter out only stars you want\n",
    "\n",
    "plt.figure(figsize=(12, 8))\n",
    "plt.clf()\n",
    "\n",
    "ax1 = plt.subplot(2, 1, 1)\n",
    "\n",
    "ax1.set_xlabel('mag')\n",
    "ax1.set_ylabel('sharpness')\n",
    "\n",
    "xlim0 = np.min(found_stars['mag']) - 0.25\n",
    "xlim1 = np.max(found_stars['mag']) + 0.25\n",
    "ylim0 = np.min(found_stars['sharpness']) - 0.15\n",
    "ylim1 = np.max(found_stars['sharpness']) + 0.15\n",
    "\n",
    "ax1.set_xlim(xlim0, xlim1)\n",
    "ax1.set_ylim(ylim0, ylim1)\n",
    "\n",
    "#ax1.xaxis.set_major_locator(ticker.AutoLocator())\n",
    "#ax1.xaxis.set_minor_locator(ticker.AutoMinorLocator())\n",
    "#ax1.yaxis.set_major_locator(ticker.AutoLocator())\n",
    "#ax1.yaxis.set_minor_locator(ticker.AutoMinorLocator())\n",
    "\n",
    "ax1.scatter(found_stars['mag'], found_stars['sharpness'], s=10, color='k')\n",
    "\n",
    "sh_inf = 0.40\n",
    "sh_sup = 0.82\n",
    "#mag_lim = -5.0\n",
    "lmag_lim = -1.0\n",
    "umag_lim = -6.0\n",
    "\n",
    "ax1.plot([xlim0, xlim1], [sh_sup, sh_sup], color='r', lw=3, ls='--')\n",
    "ax1.plot([xlim0, xlim1], [sh_inf, sh_inf], color='r', lw=3, ls='--')\n",
    "ax1.plot([lmag_lim, lmag_lim], [ylim0, ylim1], color='r', lw=3, ls='--')\n",
    "ax1.plot([umag_lim, umag_lim], [ylim0, ylim1], color='r', lw=3, ls='--')\n",
    "\n",
    "ax2 = plt.subplot(2, 1, 2)\n",
    "\n",
    "ax2.set_xlabel('mag')\n",
    "ax2.set_ylabel('roundness')\n",
    "\n",
    "ylim0 = np.min(found_stars['roundness2']) - 0.25\n",
    "ylim1 = np.max(found_stars['roundness2']) - 0.25\n",
    "\n",
    "ax2.set_xlim(xlim0, xlim1)\n",
    "ax2.set_ylim(ylim0, ylim1)\n",
    "\n",
    "#ax2.xaxis.set_major_locator(ticker.AutoLocator())\n",
    "#ax2.xaxis.set_minor_locator(ticker.AutoMinorLocator())\n",
    "#ax2.yaxis.set_major_locator(ticker.AutoLocator())\n",
    "#ax2.yaxis.set_minor_locator(ticker.AutoMinorLocator())\n",
    "\n",
    "round_inf = -0.40\n",
    "round_sup = 0.40\n",
    "\n",
    "ax2.scatter(found_stars['mag'], found_stars['roundness2'], s=10, color='k')\n",
    "\n",
    "ax2.plot([xlim0, xlim1], [round_sup, round_sup], color='r', lw=3, ls='--')\n",
    "ax2.plot([xlim0, xlim1], [round_inf, round_inf], color='r', lw=3, ls='--')\n",
    "ax2.plot([lmag_lim, lmag_lim], [ylim0, ylim1], color='r', lw=3, ls='--')\n",
    "ax2.plot([umag_lim, umag_lim], [ylim0, ylim1], color='r', lw=3, ls='--')\n",
    "\n",
    "plt.tight_layout()"
   ]
  },
  {
   "cell_type": "code",
   "execution_count": null,
   "id": "6ac852af",
   "metadata": {
    "tags": []
   },
   "outputs": [],
   "source": [
    "mask = ((found_stars['mag'] < lmag_lim) & (found_stars['mag'] > umag_lim) & (found_stars['roundness2'] > round_inf)\n",
    "        & (found_stars['roundness2'] < round_sup) & (found_stars['sharpness'] > sh_inf) \n",
    "        & (found_stars['sharpness'] < sh_sup) & (found_stars['xcentroid'] > 1940) & (found_stars['xcentroid'] < 2000)\n",
    "        & (found_stars['ycentroid'] > 1890) & (found_stars['ycentroid'] < 1960))\n",
    "\n",
    "found_stars_sel = found_stars[mask]\n",
    "\n",
    "print('Number of stars found originally:', len(found_stars))\n",
    "print('Number of stars in final selection:', len(found_stars_sel))\n"
   ]
  },
  {
   "cell_type": "code",
   "execution_count": null,
   "id": "567f81f5",
   "metadata": {
    "tags": []
   },
   "outputs": [],
   "source": [
    "found_stars_sel"
   ]
  },
  {
   "cell_type": "code",
   "execution_count": null,
   "id": "3a62c53a",
   "metadata": {
    "tags": []
   },
   "outputs": [],
   "source": [
    "# Convert pixel to wcs coords\n",
    "from astropy.wcs.utils import skycoord_to_pixel\n",
    "skycoords = w.pixel_to_world(found_stars_sel['xcentroid'], found_stars_sel['ycentroid'])\n",
    "#skycoords = skycoords[8:]\n",
    "len(skycoords)"
   ]
  },
  {
   "cell_type": "code",
   "execution_count": null,
   "id": "7fb162ee",
   "metadata": {
    "tags": []
   },
   "outputs": [],
   "source": [
    "lvl3"
   ]
  },
  {
   "cell_type": "code",
   "execution_count": null,
   "id": "03b8ff39",
   "metadata": {
    "tags": []
   },
   "outputs": [],
   "source": [
    "lvl2"
   ]
  },
  {
   "cell_type": "raw",
   "id": "0195f1ce",
   "metadata": {
    "tags": []
   },
   "source": [
    "file = lvl2[0]\n",
    "dq = fits.open(file)['DQ',1].data\n",
    "dq[233, 340]"
   ]
  },
  {
   "cell_type": "code",
   "execution_count": null,
   "id": "e6c46e19",
   "metadata": {
    "tags": []
   },
   "outputs": [],
   "source": [
    "# Change all DQ flagged pixels to NANs\n",
    "for file in lvl2:\n",
    "    hdul = fits.open(file, mode='update')\n",
    "    data = fits.open(file)['SCI',1].data\n",
    "    dq = fits.open(file)['DQ',1].data\n",
    "    data[dq == 262657]=np.nan\n",
    "    data[dq == 262661]=np.nan\n",
    "    hdul['SCI',1].data=data\n",
    "    hdul.flush()"
   ]
  },
  {
   "cell_type": "code",
   "execution_count": null,
   "id": "5516a64f",
   "metadata": {
    "tags": []
   },
   "outputs": [],
   "source": [
    "# Create a grid for fast lookup using WebbPSF. The larger the grid, the better the photometric precision.\n",
    "# Developer note. Would be great to have a fast/approximate look up table. \n",
    "jwst_obs = space_phot.observation2(lvl2)\n",
    "grid = space_phot.util.get_jwst_psf_grid(jwst_obs,num_psfs=4)"
   ]
  },
  {
   "cell_type": "code",
   "execution_count": null,
   "id": "b85e222f",
   "metadata": {
    "tags": []
   },
   "outputs": [],
   "source": [
    "# Now Loop Through All Stars and Build Photometry Table\n",
    "\n",
    "import pandas as pd\n",
    "counter = 0.\n",
    "badindex = []\n",
    "\n",
    "jwst_obs = space_phot.observation2(lvl2)\n",
    "for source_location in skycoords:\n",
    "    #print(source_location)\n",
    "    tic = time.perf_counter()\n",
    "    print('Starting',counter+1., ' of', len(skycoords), ':',  source_location)\n",
    "    #psfs = space_phot.get_jwst_psf(jwst_obs,source_location)#,num_psfs=4)\n",
    "    psfs = space_phot.util.get_jwst_psf_from_grid(jwst_obs,source_location,grid)\n",
    "    jwst_obs.psf_photometry(psfs,source_location,bounds={'flux':[-100,1000],\n",
    "                        'centroid':[-2.,2.],\n",
    "                        'bkg':[0,50]},\n",
    "                        fit_width=3,\n",
    "                        fit_bkg=False,\n",
    "                        fit_flux='single',\n",
    "                        maxiter=5000)\n",
    "    \n",
    "    jwst_obs.plot_psf_fit()\n",
    "    plt.show()\n",
    "#\n",
    "#    jwst_obs.plot_psf_posterior(minweight=.0005)\n",
    "#    plt.show()\n",
    "    \n",
    "    ra = jwst_obs.psf_result.phot_cal_table['ra'][0]\n",
    "    dec = jwst_obs.psf_result.phot_cal_table['dec'][0]\n",
    "    mag_arr = jwst_obs.psf_result.phot_cal_table['mag']\n",
    "    magerr_arr = jwst_obs.psf_result.phot_cal_table['magerr']\n",
    "    mag_lvl2psf = np.mean(mag_arr)\n",
    "    magerr_lvl2psf = math.sqrt(sum(p**2 for p in magerr_arr))\n",
    "\n",
    "    #print('Finished',counter, ' of', len(skycoords), ':',  source_location)\n",
    "    if counter == 0:\n",
    "        df = pd.DataFrame(np.array([[ra, dec, mag_lvl2psf, magerr_lvl2psf]]), columns=['ra','dec','mag','magerr'])\n",
    "    else:\n",
    "        df = pd.concat([df, pd.DataFrame(np.array([[ra, dec, mag_lvl2psf, magerr_lvl2psf]]))], ignore_index=True)\n",
    "    counter = counter + 1.\n",
    "    \n",
    "    toc = time.perf_counter()\n",
    "    print(\"Elapsed Time for Photometry:\", toc - tic)"
   ]
  },
  {
   "cell_type": "markdown",
   "id": "3604e260-2da4-4f43-b306-fb7cd65e738b",
   "metadata": {},
   "source": [
    "### 5.2<font color='white'>-</font>Single, Level3 Mosaicked File<a class=\"anchor\" id=\"lmc3\"></a> ###"
   ]
  },
  {
   "cell_type": "code",
   "execution_count": null,
   "id": "a57e893d-92cb-4de6-8c64-69911b691246",
   "metadata": {
    "tags": []
   },
   "outputs": [],
   "source": [
    "lvl3"
   ]
  },
  {
   "cell_type": "code",
   "execution_count": null,
   "id": "24dbbba6-6d1a-40b2-9028-de916cdc76e4",
   "metadata": {
    "tags": []
   },
   "outputs": [],
   "source": [
    "# Now do the same photometry on the Level 3 Data\n",
    "ref_image = lvl3\n",
    "ref_fits = fits.open(ref_image)\n",
    "ref_data = fits.open(ref_image)['SCI',1].data\n",
    "norm1 = simple_norm(ref_data,stretch='linear',min_cut=-1,max_cut=10)\n",
    "\n",
    "plt.imshow(ref_data, origin='lower',\n",
    "                      norm=norm1,cmap='gray')\n",
    "plt.gca().tick_params(labelcolor='none',axis='both',color='none')\n",
    "plt.show()"
   ]
  },
  {
   "cell_type": "code",
   "execution_count": null,
   "id": "5be212d8-c43a-478e-98ed-b1877e44a347",
   "metadata": {
    "tags": []
   },
   "outputs": [],
   "source": [
    "# Get PSF from WebbPSF and drizzle it to the source location\n",
    "# Develop Note: Need Grid Capability for Level3 Data\n",
    "jwst3_obs = space_phot.observation3(lvl3)\n",
    "#psf3 = space_phot.get_jwst3_psf(jwst_obs,source_location,num_psfs=4)\n",
    "#grid = space_phot.util.get_jwst_psf_grid(jwst_obs,num_psfs=4)"
   ]
  },
  {
   "cell_type": "code",
   "execution_count": null,
   "id": "922accc4-2179-4e03-ad60-2beeb594faea",
   "metadata": {
    "tags": []
   },
   "outputs": [],
   "source": [
    "# Now Loop Through All Stars and Build Photometry Table\n",
    "import pandas as pd\n",
    "counter = 0.\n",
    "badindex = []\n",
    "\n",
    "for source_location in skycoords:\n",
    "    #print(source_location)\n",
    "    tic = time.perf_counter()\n",
    "    print('Starting',counter+1., ' of', len(skycoords), ':',  source_location)\n",
    "    #psf3 = space_phot.util.get_jwst_psf_from_grid(jwst3_obs,source_location,grid)\n",
    "    psf3 = space_phot.get_jwst3_psf(jwst_obs,jwst3_obs,source_location,num_psfs=4)\n",
    "    jwst3_obs.psf_photometry(psf3,source_location,bounds={'flux':[-1000,10000],\n",
    "                        'centroid':[-2,2],\n",
    "                        'bkg':[0,50]},\n",
    "                        fit_width=5,\n",
    "                        fit_bkg=True,\n",
    "                        fit_flux=True)\n",
    "\n",
    "    jwst3_obs.plot_psf_fit()\n",
    "    plt.show()\n",
    "\n",
    "    ra = jwst3_obs.psf_result.phot_cal_table['ra'][0]\n",
    "    dec = jwst3_obs.psf_result.phot_cal_table['dec'][0]\n",
    "    mag_lvl3psf = jwst3_obs.psf_result.phot_cal_table['mag'][0]\n",
    "    magerr_lvl3psf = jwst3_obs.psf_result.phot_cal_table['magerr'][0]\n",
    "\n",
    "    #print('Finished',counter, ' of', len(skycoords), ':',  source_location)\n",
    "    if counter == 0:\n",
    "        df = pd.DataFrame(np.array([[ra, dec, mag_lvl3psf, magerr_lvl3psf]]), columns=['ra','dec','mag','magerr'])\n",
    "    else:\n",
    "        df = pd.concat([df, pd.DataFrame(np.array([[ra, dec, mag_lvl3psf, magerr_lvl3psf]]))], ignore_index=True)\n",
    "    counter = counter + 1.\n",
    "    toc = time.perf_counter()\n",
    "    print(\"Elapsed Time for Photometry:\", toc - tic)"
   ]
  },
  {
   "cell_type": "markdown",
   "id": "5630029f-31d1-42cd-8454-225e86cabc48",
   "metadata": {},
   "source": [
    "<hr style=\"border:1px solid gray\"> </hr>"
   ]
  },
  {
   "cell_type": "markdown",
   "id": "843b5201-6f57-46f0-9da0-b738714178d3",
   "metadata": {},
   "source": [
    "<img style=\"float: center;\" src=\"https://raw.githubusercontent.com/spacetelescope/notebooks/master/assets/stsci_pri_combo_mark_horizonal_white_bkgd.png\" alt=\"Space Telescope Logo\" width=\"200px\"/>"
   ]
  }
 ],
 "metadata": {
  "kernelspec": {
   "display_name": "Python 3 (ipykernel)",
   "language": "python",
   "name": "python3"
  },
  "language_info": {
   "codemirror_mode": {
    "name": "ipython",
    "version": 3
   },
   "file_extension": ".py",
   "mimetype": "text/x-python",
   "name": "python",
   "nbconvert_exporter": "python",
   "pygments_lexer": "ipython3",
   "version": "3.9.16"
  },
  "toc-showcode": false
 },
 "nbformat": 4,
 "nbformat_minor": 5
}
