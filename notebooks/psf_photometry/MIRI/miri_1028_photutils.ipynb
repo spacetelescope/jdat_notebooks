{
 "cells": [
  {
   "cell_type": "markdown",
   "id": "b58d6954",
   "metadata": {},
   "source": [
    "# MIRI PSF Photometry with Photutils\n",
    "\n",
    "**Author**: Ori Fox<br>\n",
    "\n",
    "**Submitted**: November, 2023<br>\n",
    "**Updated**: November, 2023<br>\n",
    "\n",
    "**Use case**: PSF Photometry using [Photutils](https://photutils.readthedocs.io/en/stable/). The purpose here is to illustrate the workflow and runtime for using Photutils in a variety of use cases.\n",
    "\n",
    "Generally, PSF photometry for data from a space telescope is most accurately performed on pre-mosaiced data. The mosaic process changes the inherent PSF, blurring it both due to resampling and mixing PSFs at different detector positions and rotations.  Additionally, accurate theoretical PSF models (e.g., from [WebbPSF](https://webbpsf.readthedocs.io/en/latest/)) are not available for mosaiced data. While an empirical PSF could be constructed (e.g., using Photutils [ePSFBuilder](https://photutils.readthedocs.io/en/latest/epsf.html)) for mosaiced data, the results will generally not be as accurate as performing PSF photometry on the pre-mosaiced data.\n",
    "\n",
    "**NOTE:** A companion notebook exists that illustrates how to use perform PSF photometry on both Level 2 and Level 3 data using a new software program called space_phot.<br>\n",
    "**Data**: MIRI Data PID 1028 (Calibration Program; Single Star Visit 006 A5V dwarf 2MASSJ17430448+6655015) and MIRI Data PID 1171 (LMC; Multiple Stars).<br>\n",
    "**Tools**: photutils, webbpsf, jwst <br>\n",
    "**Cross-Instrument**: MIRI<br>\n",
    "**Documentation:** This notebook is part of a STScI's larger [post-pipeline Data Analysis Tools Ecosystem](https://jwst-docs.stsci.edu/jwst-post-pipeline-data-analysis) and can be [downloaded](https://github.com/spacetelescope/dat_pyinthesky/tree/main/jdat_notebooks/MRS_Mstar_analysis) directly from the [JDAT Notebook Github directory](https://github.com/spacetelescope/jdat_notebooks).<br>"
   ]
  },
  {
   "cell_type": "markdown",
   "id": "88c61bcf-1c4d-407a-b80c-aa13a01fd746",
   "metadata": {
    "tags": []
   },
   "source": [
    "## Table of contents\n",
    "1. [Introduction](#intro)<br>\n",
    "    1.1 [Python Imports](#imports)<br>\n",
    "    1.2 [Set up WebbPSF and Synphot](#setup)<br>\n",
    "2. [Download JWST MIRI Data](#data)<br>\n",
    "3. [Single Bright Object](#bso)<br>\n",
    "    3.1 [Single Level 2 File](#bso2)<br>\n",
    "    3.2 [Generate empirical PSF grid for MIRI F770W using WebbPSF](#bso3)<br>\n",
    "    3.3 [PSF Photometry](#bso4)<br>\n",
    "4. [Faint/Upper Limit, Single Object](#fso)<br>\n",
    "    4.1 [Multiple, Level2 Files](#fso2)<br>\n",
    "5. [Stellar Field (LMC)](#lmc)<br>\n",
    "    5.1 [Multiple Stars, Single Level 2 File](#lmc2)<br>\n",
    "    5.2 [Generate empirical PSF grid for MIRI F560W using WebbPSF](#grid2)<br>\n",
    "    5.3 [PSF Photometry](#lmc3)<br>"
   ]
  },
  {
   "cell_type": "markdown",
   "id": "4f572688",
   "metadata": {},
   "source": [
    "# 1. Introduction <a class=\"anchor\" id=\"intro\"></a>"
   ]
  },
  {
   "cell_type": "markdown",
   "id": "95891849",
   "metadata": {},
   "source": [
    "**GOALS**:<br>\n",
    "\n",
    "Perform PSF photometry on JWST MIRI images with the [Photutils PSF Photometry tools](https://photutils.readthedocs.io/en/latest/psf.html) using a grid of empirical PSF models from WebbPSF.\n",
    "\n",
    "\n",
    "The notebook shows how to:<br>\n",
    "\n",
    "* generate a [grid of empirical PSF models](https://webbpsf.readthedocs.io/en/latest/psf_grids.html) from WebbPSF<br>\n",
    "* perform PSF photometry on the image using the [PSFPhotometry class](https://photutils.readthedocs.io/en/latest/api/photutils.psf.PSFPhotometry.html#photutils.psf.PSFPhotometry)<br>\n",
    "\n",
    "**Data**:<br>\n",
    "\n",
    "MIRI Data PID 1028 (Calibration Program), F770W <br>\n",
    "MIRI Data PID 1171 (LMC), F560W/F770W"
   ]
  },
  {
   "cell_type": "markdown",
   "id": "5e534877-5c31-4020-9263-4f234f19e1cd",
   "metadata": {},
   "source": [
    "## 1.1 Python Imports <a class=\"anchor\" id=\"imports\"></a>"
   ]
  },
  {
   "cell_type": "code",
   "execution_count": null,
   "id": "1ca81097-08d5-470c-942a-d8e7e8fd4479",
   "metadata": {},
   "outputs": [],
   "source": [
    "import glob\n",
    "import os\n",
    "import shutil\n",
    "import tarfile\n",
    "from urllib import request\n",
    "\n",
    "import astropy.units as u\n",
    "import matplotlib.pyplot as plt\n",
    "import numpy as np\n",
    "import webbpsf\n",
    "from astropy.coordinates import SkyCoord\n",
    "from astropy.io import fits\n",
    "from astropy.nddata import extract_array\n",
    "from astropy.table import Table\n",
    "from astropy.visualization import simple_norm\n",
    "from astroquery.mast import Observations\n",
    "from jwst.datamodels import ImageModel\n",
    "from photutils.aperture import CircularAperture\n",
    "from photutils.background import LocalBackground, MADStdBackgroundRMS, MMMBackground\n",
    "from photutils.detection import DAOStarFinder\n",
    "from photutils.psf import GriddedPSFModel, PSFPhotometry"
   ]
  },
  {
   "cell_type": "markdown",
   "id": "5b762602",
   "metadata": {},
   "source": [
    "## 1.2 Download and Set up Required Data for WebbPSF and Synphot <a class=\"anchor\" id=\"setup\"></a>"
   ]
  },
  {
   "cell_type": "code",
   "execution_count": null,
   "id": "8c50eace",
   "metadata": {
    "tags": []
   },
   "outputs": [],
   "source": [
    "# Set environmental variables\n",
    "os.environ[\"WEBBPSF_PATH\"] = \"./webbpsf-data/webbpsf-data\"\n",
    "os.environ[\"PYSYN_CDBS\"] = \"./grp/redcat/trds/\"\n",
    "\n",
    "# required webbpsf data\n",
    "boxlink = 'https://stsci.box.com/shared/static/qxpiaxsjwo15ml6m4pkhtk36c9jgj70k.gz'                                                          \n",
    "boxfile = './webbpsf-data/webbpsf-data-LATEST.tar.gz'\n",
    "synphot_url = 'http://ssb.stsci.edu/trds/tarfiles/synphot5.tar.gz'\n",
    "synphot_file = './synphot5.tar.gz'\n",
    "\n",
    "webbpsf_folder = './webbpsf-data'\n",
    "synphot_folder = './grp'\n",
    "\n",
    "# Gather webbpsf files\n",
    "if not os.path.exists(webbpsf_folder):\n",
    "    os.makedirs(webbpsf_folder)\n",
    "    request.urlretrieve(boxlink, boxfile)\n",
    "    gzf = tarfile.open(boxfile)\n",
    "    gzf.extractall(webbpsf_folder)\n",
    "\n",
    "# Gather synphot files\n",
    "if not os.path.exists(synphot_folder):\n",
    "    os.makedirs(synphot_folder)\n",
    "    request.urlretrieve(synphot_url, synphot_file)\n",
    "    gzf = tarfile.open(synphot_file)\n",
    "    gzf.extractall('./')"
   ]
  },
  {
   "cell_type": "markdown",
   "id": "68f0b2d7-45a1-4511-858e-51425a50de00",
   "metadata": {},
   "source": [
    "# 2. Download JWST MIRI Data <a class=\"anchor\" id=\"data\"></a>"
   ]
  },
  {
   "cell_type": "code",
   "execution_count": null,
   "id": "e6629878-a5d4-4e29-a56e-0f12271016a5",
   "metadata": {},
   "outputs": [],
   "source": [
    "# Download Proposal ID 1028 F770W data\n",
    "\n",
    "# Define source and destination directories\n",
    "source_dir = 'mastDownload/JWST/'\n",
    "destination_dir = 'mast/01028/'\n",
    "\n",
    "if os.path.isdir(destination_dir):\n",
    "    print(f'Data already downloaded to {os.path.abspath(destination_dir)}')\n",
    "else:\n",
    "    # Query the MAST (Mikulski Archive for Space Telescopes) database for observations\n",
    "    # with proposal ID 1028 and the F770W filter\n",
    "    obs = Observations.query_criteria(proposal_id=1028, filters=['F770W'])\n",
    "    \n",
    "    # Get a list of products associated with the located observation\n",
    "    plist = Observations.get_product_list(obs)\n",
    "    \n",
    "    # Filter the product list to include only specific product subgroups\n",
    "    fplist = Observations.filter_products(plist, productSubGroupDescription=['CAL', 'I2D', 'ASN'])\n",
    "    \n",
    "    # Download the selected products from the MAST database\n",
    "    Observations.download_products(fplist)\n",
    "    \n",
    "    # Create the destination directory\n",
    "    os.makedirs(destination_dir)\n",
    "    \n",
    "    # Use glob to find all files matching the pattern\n",
    "    files_to_copy = glob.glob(os.path.join(source_dir, 'j*/jw01028*'))\n",
    "\n",
    "    # Copy the matching files to the destination directory\n",
    "    for file_path in files_to_copy:\n",
    "        shutil.copy(file_path, destination_dir)"
   ]
  },
  {
   "cell_type": "code",
   "execution_count": null,
   "id": "b649b6f4-aa18-4760-a7d0-979b4e3caec2",
   "metadata": {},
   "outputs": [],
   "source": [
    "# Download Proposal ID 1171 F550W and F770W data\n",
    "\n",
    "# Define source and destination directories\n",
    "source_dir = 'mastDownload/JWST/'\n",
    "destination_dir = 'mast/01171/'\n",
    "\n",
    "if os.path.isdir(destination_dir):\n",
    "    print(f'Data already downloaded to {os.path.abspath(destination_dir)}')\n",
    "else:\n",
    "    # Query the MAST (Mikulski Archive for Space Telescopes) database for observations\n",
    "    # with proposal ID 1171 and the F550W and F770W filters\n",
    "    obs = Observations.query_criteria(proposal_id=1171, filters=['F560W', 'F770W'])\n",
    "    \n",
    "    # Get a list of products associated with the located observation\n",
    "    plist = Observations.get_product_list(obs)\n",
    "    \n",
    "    # Filter the product list to include only specific product subgroups\n",
    "    fplist = Observations.filter_products(plist, productSubGroupDescription=['CAL', 'I2D', 'ASN'])\n",
    "    \n",
    "    # Download the selected products from the MAST database\n",
    "    Observations.download_products(fplist)\n",
    "    \n",
    "    # Create the destination directory\n",
    "    os.makedirs(destination_dir)\n",
    "    \n",
    "    # Use glob to find all files matching the pattern\n",
    "    files_to_copy = glob.glob(os.path.join(source_dir, 'j*/jw01171*'))\n",
    "    \n",
    "    # Copy the matching files to the destination directory\n",
    "    for file_path in files_to_copy:\n",
    "        shutil.copy(file_path, destination_dir)"
   ]
  },
  {
   "cell_type": "markdown",
   "id": "5611799d",
   "metadata": {},
   "source": [
    "# 3. Single Bright Star <a class=\"anchor\" id=\"bso\"></a>"
   ]
  },
  {
   "cell_type": "markdown",
   "id": "6d052f0e-dcb4-4c2a-bc11-4b467dad07c2",
   "metadata": {},
   "source": [
    "The purpose of this section is to illustrate how to perform PSF photometry on a single bright star. While aperture photometry is feasible in isolated cases, the user may find PSF photometry preferable in crowded fields or complicated backgrounds."
   ]
  },
  {
   "cell_type": "markdown",
   "id": "55c52f95",
   "metadata": {},
   "source": [
    "## 3.1 Single Level 2 File <a class=\"anchor\" id=\"bso2\"></a>"
   ]
  },
  {
   "cell_type": "markdown",
   "id": "058a14ad-be89-4d7e-934e-1e0a909319c8",
   "metadata": {},
   "source": [
    "In this example, we fit a single, bright source in a single Level 2 images. For a collection of Level 2 images, we could fit each Level 2 image individually and then average the measured fluxes.\n",
    "\n",
    "Useful references:<br>\n",
    "HST Documentation on PSF Photometry: https://www.stsci.edu/hst/instrumentation/wfc3/data-analysis/psf<br>\n",
    "WFPC2 Stellar Photometry with HSTPHOT: https://ui.adsabs.harvard.edu/abs/2000PASP..112.1383D/abstract<br>\n",
    "Photutils PSF Fitting Photometry: https://photutils.readthedocs.io/en/stable/psf.html"
   ]
  },
  {
   "cell_type": "code",
   "execution_count": null,
   "id": "2af76a35-14ee-44b2-adb5-d92e66ddfafc",
   "metadata": {},
   "outputs": [],
   "source": [
    "# get the level 2 filenames\n",
    "path = \"./mast/01028/\"\n",
    "level2 = sorted(glob.glob(os.path.join(path, '*cal.fits')))\n",
    "level2"
   ]
  },
  {
   "cell_type": "code",
   "execution_count": null,
   "id": "ab0ac799-a832-40af-9cd4-b5b3934cfee4",
   "metadata": {},
   "outputs": [],
   "source": [
    "# display the first level-2 image\n",
    "data = fits.getdata(level2[0])\n",
    "norm = simple_norm(data, 'sqrt', percent=99)\n",
    "\n",
    "fig, ax = plt.subplots(figsize=(20, 12))\n",
    "im = ax.imshow(data, origin='lower', norm=norm, cmap='gray')\n",
    "clb = plt.colorbar(im, label='MJy/sr')\n",
    "ax.set_xlabel('Pixels')\n",
    "ax.set_ylabel('Pixels')"
   ]
  },
  {
   "cell_type": "code",
   "execution_count": null,
   "id": "4ab947da-be0a-4cde-88eb-2d947adf2b81",
   "metadata": {},
   "outputs": [],
   "source": [
    "# Change all DQ flagged pixels to NaN.\n",
    "# Here, we'll overwrite the original CAL file.\n",
    "# Reference for JWST DQ Flag Definitions: https://jwst-pipeline.readthedocs.io/en/latest/jwst/references_general/references_general.html\n",
    "# In this case, we choose all DQ > 10, but users are encouraged to choose their own values accordingly.\n",
    "filename = level2[0]\n",
    "with ImageModel(filename) as model:\n",
    "    model.data[model.dq >= 10] = np.nan\n",
    "    model.save(filename)"
   ]
  },
  {
   "cell_type": "code",
   "execution_count": null,
   "id": "87673dd8-1bc6-4663-bebc-8e2434974ceb",
   "metadata": {},
   "outputs": [],
   "source": [
    "# Re-display the image\n",
    "data = fits.getdata(level2[0])\n",
    "norm = simple_norm(data, 'sqrt', percent=99)\n",
    "\n",
    "fig, ax = plt.subplots(figsize=(20, 12))\n",
    "im = ax.imshow(data, origin='lower', norm=norm, cmap='gray')\n",
    "clb = plt.colorbar(im, label='MJy/sr')\n",
    "ax.set_xlabel('Pixels')\n",
    "ax.set_ylabel('Pixels')"
   ]
  },
  {
   "cell_type": "code",
   "execution_count": null,
   "id": "2f138285-bfc5-4f20-854b-fe5d4530e99b",
   "metadata": {},
   "outputs": [],
   "source": [
    "# Zoom in to see the source. In this case, our source is from MIRI Program ID #1028, a Calibration Program.\n",
    "# We are using Visit 006, which targets the A5V dwarf 2MASSJ17430448+6655015\n",
    "# Reference Link: http://simbad.cds.unistra.fr/simbad/sim-basic?Ident=2MASSJ17430448%2B6655015&submit=SIMBAD+search\n",
    "source_location = SkyCoord('17:43:04.4879', '+66:55:01.837', unit=(u.hourangle, u.deg))\n",
    "with ImageModel(filename) as model:\n",
    "    x, y = model.meta.wcs.world_to_pixel(source_location)\n",
    "\n",
    "cutout = extract_array(data, (21, 21), (y, x))\n",
    "\n",
    "fig, ax = plt.subplots(figsize=(8, 8))\n",
    "norm2 = simple_norm(cutout, 'log', percent=99)\n",
    "im = ax.imshow(cutout, origin='lower', norm=norm2, cmap='gray')\n",
    "clb = plt.colorbar(im, label='MJy/sr', shrink=0.8)\n",
    "ax.set_title('PID1028, Obs006')\n",
    "\n",
    "ax.set_xlabel('Pixels')\n",
    "ax.set_ylabel('Pixels')"
   ]
  },
  {
   "cell_type": "markdown",
   "id": "b24288b6-c6c7-433f-866f-126eea4a9ab3",
   "metadata": {
    "execution": {
     "iopub.execute_input": "2024-02-10T00:33:17.900216Z",
     "iopub.status.busy": "2024-02-10T00:33:17.899831Z",
     "iopub.status.idle": "2024-02-10T00:33:17.903626Z",
     "shell.execute_reply": "2024-02-10T00:33:17.902732Z",
     "shell.execute_reply.started": "2024-02-10T00:33:17.900187Z"
    }
   },
   "source": [
    "## 3.2 Generate empirical PSF grid for MIRI F770W using WebbPSF <a class=\"anchor\" id=\"bso3\"></a>"
   ]
  },
  {
   "cell_type": "markdown",
   "id": "f7472c4e-f418-4f39-b8b6-5d824c1c4c65",
   "metadata": {},
   "source": [
    "Let's now use WebbPSF to generate an empirical grid of ePSF models for MIRI F770W.\n",
    "The output will be a Photutils [GriddedPSFModel](https://photutils.readthedocs.io/en/latest/api/photutils.psf.GriddedPSFModel.html#photutils.psf.GriddedPSFModel) containing a 2x2 grid of detector-position-dependent empirical PSFs, each oversampled by a factor of 4. Note that we save the PSF grid to a FITS file (via `save=True`) called `miri_mirim_f770w_fovp101_samp4_npsf4.fits`.  To save time in future runs, we load this FITS file directly into a `GriddedPSFModel` object:"
   ]
  },
  {
   "cell_type": "code",
   "execution_count": null,
   "id": "19b97fc8-35b4-460f-b154-72bdd4c45f66",
   "metadata": {},
   "outputs": [],
   "source": [
    "psfgrid_filename = 'miri_mirim_f770w_fovp101_samp4_npsf4.fits'\n",
    "\n",
    "if not os.path.exists(psfgrid_filename):\n",
    "    miri = webbpsf.MIRI()\n",
    "    miri.filter = 'F770W'\n",
    "    psf_model = miri.psf_grid(num_psfs=4, all_detectors=True, verbose=True, save=True)\n",
    "else:\n",
    "    psf_model = GriddedPSFModel.read(psfgrid_filename)\n",
    "\n",
    "psf_model"
   ]
  },
  {
   "cell_type": "code",
   "execution_count": null,
   "id": "7d1640dc-6c64-4fe7-a208-ddbcdc529512",
   "metadata": {},
   "outputs": [],
   "source": [
    "# display the PSF grid\n",
    "psf_model.plot_grid()"
   ]
  },
  {
   "cell_type": "code",
   "execution_count": null,
   "id": "f7294300-6ba8-418b-a61c-4194af270de3",
   "metadata": {},
   "outputs": [],
   "source": [
    "# display the PSF grid deltas from the mean ePSF\n",
    "psf_model.plot_grid(deltas=True)"
   ]
  },
  {
   "cell_type": "markdown",
   "id": "bcab882b-16f6-4aef-9f4f-b3af8b3b1b14",
   "metadata": {},
   "source": [
    "## 3.3 PSF Photometry <a class=\"anchor\" id=\"bso4\"></a>"
   ]
  },
  {
   "cell_type": "markdown",
   "id": "b34c6e74-1a52-4874-afc1-5a444662e966",
   "metadata": {},
   "source": [
    "Now let's use our gridded PSF model to perform PSF photometry."
   ]
  },
  {
   "cell_type": "code",
   "execution_count": null,
   "id": "f42d294f-a5db-4a2a-be4a-e40a26374207",
   "metadata": {},
   "outputs": [],
   "source": [
    "# load data and convert units from MJy/sr to uJy\n",
    "with ImageModel(filename) as model:\n",
    "    unit = u.Unit(model.meta.bunit_data)\n",
    "    data = model.data << unit\n",
    "    error = model.err << unit\n",
    "\n",
    "    # use pixel area map because of geometric distortion in level-2 data \n",
    "    pixel_area = model.area * model.meta.photometry.pixelarea_steradians * u.sr\n",
    "    data *= pixel_area\n",
    "    error *= pixel_area\n",
    "    \n",
    "    data = data.to(u.uJy)\n",
    "    error = error.to(u.uJy)\n",
    "\n",
    "data.unit, error.unit"
   ]
  },
  {
   "cell_type": "markdown",
   "id": "318ab078-ec51-4b71-9641-dd1fe566138a",
   "metadata": {},
   "source": [
    "To perform photometry on a single source we can input a Table containing its (x, y) position."
   ]
  },
  {
   "cell_type": "code",
   "execution_count": null,
   "id": "6efc06f3-445d-4139-a404-fff43ad15804",
   "metadata": {},
   "outputs": [],
   "source": [
    "init_params = Table()\n",
    "init_params['x'] = [x]\n",
    "init_params['y'] = [y]\n",
    "init_params"
   ]
  },
  {
   "cell_type": "code",
   "execution_count": null,
   "id": "61424bfb-7c76-489b-9ccf-efc9c324472d",
   "metadata": {},
   "outputs": [],
   "source": [
    "# we turn off the finder because we input the source position\n",
    "fit_shape = 5\n",
    "localbkg_estimator = LocalBackground(5, 10, bkg_estimator=MMMBackground())\n",
    "psfphot = PSFPhotometry(psf_model, fit_shape, finder=None, aperture_radius=fit_shape, \n",
    "                        localbkg_estimator=localbkg_estimator, progress_bar=True)\n",
    "phot = psfphot(data, error=error, init_params=init_params)\n",
    "phot"
   ]
  },
  {
   "cell_type": "code",
   "execution_count": null,
   "id": "62945e0b-6eb7-487f-a7b6-8e3c718b3c26",
   "metadata": {},
   "outputs": [],
   "source": [
    "# convert fit flux from uJy to ABmag\n",
    "flux = phot['flux_fit']\n",
    "flux_err = phot['flux_err']\n",
    "mag = phot['flux_fit'].to(u.ABmag)\n",
    "magerr = 2.5 * np.log10(1.0 + (flux_err / flux))\n",
    "magerr = magerr.value * u.ABmag\n",
    "mag, magerr"
   ]
  },
  {
   "cell_type": "code",
   "execution_count": null,
   "id": "6c8baf43-51bc-4ff5-97e9-10db55ab6128",
   "metadata": {},
   "outputs": [],
   "source": [
    "fig, ax = plt.subplots(ncols=3, figsize=(12, 4))\n",
    "\n",
    "shape = (21, 21)\n",
    "cutout1 = extract_array(data.value, shape, (y, x))\n",
    "norm = simple_norm(cutout1, 'log', percent=98)\n",
    "im1 = ax[0].imshow(cutout1, origin='lower', norm=norm)\n",
    "ax[0].set_title(r'Data ($\\mu$Jy)')\n",
    "plt.colorbar(im1, shrink=0.7)\n",
    "\n",
    "model = psfphot.make_model_image(data.shape, shape)\n",
    "cutout2 = extract_array(model, shape, (y, x))\n",
    "im2 = ax[1].imshow(cutout2, origin='lower', norm=norm)\n",
    "ax[1].set_title('Fit PSF Model')\n",
    "plt.colorbar(im2, shrink=0.7)\n",
    "\n",
    "resid = psfphot.make_residual_image(data.value, shape)\n",
    "cutout3 = extract_array(resid, shape, (y, x))\n",
    "norm3 = simple_norm(cutout3, 'sqrt', percent=99)\n",
    "im3 = ax[2].imshow(cutout3, origin='lower', norm=norm3)\n",
    "ax[2].set_title('Residual')\n",
    "plt.colorbar(im3, shrink=0.7)"
   ]
  },
  {
   "cell_type": "markdown",
   "id": "5b5f0ad5-b59e-4eff-8687-f6a2199d8bd9",
   "metadata": {},
   "source": [
    "# 4. Faint/Upper Limit, Single Object <a class=\"anchor\" id=\"fso\"></a>"
   ]
  },
  {
   "cell_type": "markdown",
   "id": "1dc60da1-0f4d-4e5e-a109-f7352dfd0fdc",
   "metadata": {},
   "source": [
    "The purpose of this section is to illustrate how to calculate an upper limit at a fixed (x, y) position using forced PSF photometry a blank part of the sky.\n",
    "\n",
    "We'll use the same data as Section 3."
   ]
  },
  {
   "cell_type": "code",
   "execution_count": null,
   "id": "9311116e-630b-4a2e-8fc6-be75f6de61fd",
   "metadata": {},
   "outputs": [],
   "source": [
    "# load data and convert units from MJy/sr to uJy\n",
    "with ImageModel(filename) as model:\n",
    "    unit = u.Unit(model.meta.bunit_data)\n",
    "    data = model.data << unit\n",
    "    error = model.err << unit\n",
    "    \n",
    "    pixel_area = pixel_area = model.meta.photometry.pixelarea_steradians * u.sr\n",
    "    data *= pixel_area\n",
    "    error *= pixel_area\n",
    "    \n",
    "    data = data.to(u.uJy)\n",
    "    error = error.to(u.uJy)\n",
    "\n",
    "source_location = SkyCoord('17:43:00.0332', '+66:54:42.677', unit=(u.hourangle, u.deg))\n",
    "with ImageModel(filename) as model:\n",
    "    x, y = model.meta.wcs.world_to_pixel(source_location)\n",
    "\n",
    "cutout = extract_array(data.value, (21, 21), (y, x))\n",
    "\n",
    "fig, ax = plt.subplots()\n",
    "norm = simple_norm(cutout, 'sqrt', percent=95)\n",
    "im = ax.imshow(cutout, origin='lower', norm=norm, cmap='gray')\n",
    "clb = plt.colorbar(im, label=r'$\\mu$Jy')\n",
    "ax.set_title('PID1028, Obs006')\n",
    "\n",
    "ax.set_xlabel('Pixels')\n",
    "ax.set_ylabel('Pixels')"
   ]
  },
  {
   "cell_type": "code",
   "execution_count": null,
   "id": "63ac28fd-ad3b-479b-8561-ca5913925aba",
   "metadata": {},
   "outputs": [],
   "source": [
    "# to perform forced photometry, we set the (x, y) source position\n",
    "# AND we fix the PSF model position so that it does not vary in the fit\n",
    "# (only flux will be fit)\n",
    "init_params = Table()\n",
    "init_params['x'] = [x]\n",
    "init_params['y'] = [y]\n",
    "\n",
    "# This requires photutils 1.11.0\n",
    "psf_model_forced = psf_model.copy()\n",
    "psf_model_forced.x_0.fixed = True\n",
    "psf_model_forced.y_0.fixed = True\n",
    "psf_model_forced.fixed"
   ]
  },
  {
   "cell_type": "code",
   "execution_count": null,
   "id": "a13930cb-fd2a-447e-a68f-357eb7014ad3",
   "metadata": {},
   "outputs": [],
   "source": [
    "fit_shape = 5\n",
    "localbkg_estimator = LocalBackground(5, 10, bkg_estimator=MMMBackground())\n",
    "psfphot = PSFPhotometry(psf_model_forced, fit_shape, finder=None, aperture_radius=fit_shape, \n",
    "                        localbkg_estimator=localbkg_estimator, progress_bar=True)\n",
    "\n",
    "phot = psfphot(data, error=error, init_params=init_params)\n",
    "phot"
   ]
  },
  {
   "cell_type": "code",
   "execution_count": null,
   "id": "3206847e-2e2e-4bc3-a51e-3e5877f87b28",
   "metadata": {},
   "outputs": [],
   "source": [
    "# To calculate upper limit, multiply the flux_err by your desired sigma\n",
    "sigma = 3.0\n",
    "limit = sigma * phot['flux_err']\n",
    "limit.to(u.ABmag)"
   ]
  },
  {
   "cell_type": "markdown",
   "id": "4e4996d2-6274-473d-b13c-f3848c27ad78",
   "metadata": {},
   "source": [
    "## Note: you can go significantly deeper with the Level 3 combined data product"
   ]
  },
  {
   "cell_type": "markdown",
   "id": "9a969717-bbef-40b9-ac9b-f83dec99dc09",
   "metadata": {},
   "source": [
    "# 5. Stellar Field (LMC) <a class=\"anchor\" id=\"lmc\"></a>"
   ]
  },
  {
   "cell_type": "markdown",
   "id": "da877310-fd47-41d6-afea-7fa725a546af",
   "metadata": {},
   "source": [
    "In this case, we are going to do the same steps as in Section 3, but for multiple stars. The purpose is to illustrate the workflow and runtime for using Photutils on a large number of stars."
   ]
  },
  {
   "cell_type": "markdown",
   "id": "32bdafe6-db19-4080-9587-b9785c2f7fa7",
   "metadata": {},
   "source": [
    "## 5.1 Multiple Stars, Single Level 2 File <a class=\"anchor\" id=\"lmc2\"></a>"
   ]
  },
  {
   "cell_type": "code",
   "execution_count": null,
   "id": "72aabedd-8d80-4c6e-8d3d-9287577665bf",
   "metadata": {
    "tags": []
   },
   "outputs": [],
   "source": [
    "# Find stars in Level 3 File\n",
    "path = './mast/01171/'\n",
    "level3 = os.path.join(path, 'jw01171-o004_t001_miri_f560w_i2d.fits')\n",
    "level3"
   ]
  },
  {
   "cell_type": "code",
   "execution_count": null,
   "id": "4eb6155b-5f1a-4f92-9c34-5cd0876e439d",
   "metadata": {
    "tags": []
   },
   "outputs": [],
   "source": [
    "# Get rough estimate of background (there are better ways to do background subtraction)\n",
    "bkgrms = MADStdBackgroundRMS()\n",
    "mmm_bkg = MMMBackground()\n",
    "\n",
    "with ImageModel(level3) as model:\n",
    "    wcs_l3 = model.meta.wcs\n",
    "    std = bkgrms(model.data)\n",
    "    bkg = mmm_bkg(model.data)\n",
    "    data_bkgsub = model.data.copy()\n",
    "    data_bkgsub -= bkg \n",
    "\n",
    "# Find stars\n",
    "# F560W FWHM = 1.882 pix\n",
    "fwhm_psf = 1.882\n",
    "threshold = 5.0\n",
    "daofind = DAOStarFinder(threshold=threshold * std, fwhm=fwhm_psf, exclude_border=True, min_separation=10)\n",
    "found_stars = daofind(data_bkgsub)\n",
    "\n",
    "# print first 10 rows\n",
    "found_stars[:10]"
   ]
  },
  {
   "cell_type": "code",
   "execution_count": null,
   "id": "73aba802",
   "metadata": {
    "tags": []
   },
   "outputs": [],
   "source": [
    "# plot the found stars\n",
    "norm = simple_norm(data_bkgsub, 'sqrt', percent=99)\n",
    "fig, ax = plt.subplots(figsize=(10, 10))\n",
    "ax.imshow(data_bkgsub, origin='lower', norm=norm)\n",
    "\n",
    "xypos = zip(found_stars['xcentroid'], found_stars['ycentroid'])\n",
    "aper = CircularAperture(xypos, r=10)\n",
    "aper.plot(ax, color='red')"
   ]
  },
  {
   "cell_type": "code",
   "execution_count": null,
   "id": "84411432-3270-47de-a546-a81935c19c5c",
   "metadata": {},
   "outputs": [],
   "source": [
    "fig, ax = plt.subplots(nrows=2, figsize=(10, 8))\n",
    "\n",
    "ax[0].scatter(found_stars['mag'], found_stars['sharpness'], s=10, color='k')\n",
    "ax[0].set_xlabel('mag')\n",
    "ax[0].set_ylabel('sharpness')\n",
    "\n",
    "ax[1].scatter(found_stars['mag'], found_stars['roundness2'], s=10, color='k')\n",
    "ax[1].set_xlabel('mag')\n",
    "ax[1].set_ylabel('roundness')\n",
    "\n",
    "mag0 = -3.0\n",
    "mag1 = -5.0\n",
    "for ax_ in ax:\n",
    "    ax_.axvline(mag0, color='red', linestyle='dashed')\n",
    "    ax_.axvline(mag1, color='red', linestyle='dashed')\n",
    "\n",
    "sh0 = 0.40\n",
    "sh1 = 0.82\n",
    "ax[0].axhline(sh0, color='red', linestyle='dashed')\n",
    "ax[0].axhline(sh1, color='red', linestyle='dashed')\n",
    "\n",
    "rnd0 = -0.40\n",
    "rnd1 = 0.40\n",
    "ax[1].axhline(rnd0, color='red', linestyle='dashed')\n",
    "ax[1].axhline(rnd1, color='red', linestyle='dashed')"
   ]
  },
  {
   "cell_type": "code",
   "execution_count": null,
   "id": "04f2dbae-1b1c-4f67-902f-eb91f73b2d6d",
   "metadata": {},
   "outputs": [],
   "source": [
    "mask = ((found_stars['mag'] < mag0) & (found_stars['mag'] > mag1) & (found_stars['roundness2'] > rnd0)\n",
    "        & (found_stars['roundness2'] < rnd1) & (found_stars['sharpness'] > sh0) \n",
    "        & (found_stars['sharpness'] < sh1) & (found_stars['xcentroid'] > 100) & (found_stars['xcentroid'] < 700)\n",
    "        & (found_stars['ycentroid'] > 100) & (found_stars['ycentroid'] < 700))\n",
    "\n",
    "found_stars_sel = found_stars[mask]\n",
    "\n",
    "print('Number of stars found originally:', len(found_stars))\n",
    "print('Number of stars in final selection:', len(found_stars_sel))"
   ]
  },
  {
   "cell_type": "code",
   "execution_count": null,
   "id": "948f0a96-8bdc-4c94-95db-8edf513e4094",
   "metadata": {},
   "outputs": [],
   "source": [
    "# plot the selected stars\n",
    "norm = simple_norm(data_bkgsub, 'sqrt', percent=99)\n",
    "fig, ax = plt.subplots(figsize=(10, 10))\n",
    "ax.imshow(data_bkgsub, origin='lower', norm=norm)\n",
    "\n",
    "xypos = zip(found_stars_sel['xcentroid'], found_stars_sel['ycentroid'])\n",
    "aper = CircularAperture(xypos, r=10)\n",
    "aper.plot(ax, color='red')"
   ]
  },
  {
   "cell_type": "markdown",
   "id": "a221246a-9acb-4c79-9831-2f6cb72bb90a",
   "metadata": {
    "execution": {
     "iopub.execute_input": "2024-02-10T02:52:51.761591Z",
     "iopub.status.busy": "2024-02-10T02:52:51.761230Z",
     "iopub.status.idle": "2024-02-10T02:52:51.765256Z",
     "shell.execute_reply": "2024-02-10T02:52:51.764441Z",
     "shell.execute_reply.started": "2024-02-10T02:52:51.761562Z"
    }
   },
   "source": [
    "## 5.2 Generate empirical PSF grid for MIRI F560W using WebbPSF <a class=\"anchor\" id=\"grid2\"></a>"
   ]
  },
  {
   "cell_type": "code",
   "execution_count": null,
   "id": "b5fdcf15-7f72-40b8-b1aa-2b5fb0375ed8",
   "metadata": {},
   "outputs": [],
   "source": [
    "psfgrid_filename = 'miri_mirim_f560w_fovp101_samp4_npsf4.fits'\n",
    "\n",
    "if not os.path.exists(psfgrid_filename):\n",
    "    miri = webbpsf.MIRI()\n",
    "    miri.filter = 'F560W'\n",
    "    psf_model = miri.psf_grid(num_psfs=4, all_detectors=True, verbose=True, save=True)\n",
    "else:\n",
    "    psf_model = GriddedPSFModel.read(psfgrid_filename)\n",
    "\n",
    "psf_model"
   ]
  },
  {
   "cell_type": "code",
   "execution_count": null,
   "id": "29fa22f3-0331-4966-9bb4-c75f325011c8",
   "metadata": {},
   "outputs": [],
   "source": [
    "psf_model.plot_grid()"
   ]
  },
  {
   "cell_type": "code",
   "execution_count": null,
   "id": "b2350526-2bba-4322-9092-88b6acdc117b",
   "metadata": {},
   "outputs": [],
   "source": [
    "# get the level 2 image\n",
    "# here, we'll use the PID 1171 files\n",
    "path = \"./mast/01171/\"\n",
    "level2 = sorted(glob.glob(os.path.join(path, 'jw01171004*cal.fits')))\n",
    "filename = level2[0]\n",
    "print(filename)\n",
    "\n",
    "# load data and convert units from MJy/sr to uJy\n",
    "with ImageModel(filename) as model:\n",
    "    unit = u.Unit(model.meta.bunit_data)\n",
    "    model.data[model.dq >= 10] = np.nan\n",
    "    data = model.data << unit\n",
    "    error = model.err << unit\n",
    "    \n",
    "    pixel_area = pixel_area = model.meta.photometry.pixelarea_steradians * u.sr\n",
    "    data *= pixel_area\n",
    "    error *= pixel_area\n",
    "    \n",
    "    data = data.to(u.uJy)\n",
    "    error = error.to(u.uJy)\n",
    "\n",
    "    wcs = model.meta.wcs\n",
    "\n",
    "data.unit, error.unit"
   ]
  },
  {
   "cell_type": "markdown",
   "id": "9aa77cc2-26e2-4ac3-8384-90b9f8567f22",
   "metadata": {},
   "source": [
    "## 5.3 PSF Photometry <a class=\"anchor\" id=\"lmc3\"></a>"
   ]
  },
  {
   "cell_type": "code",
   "execution_count": null,
   "id": "3b416d45-1081-4a16-b189-cc0e5e9d4e4e",
   "metadata": {},
   "outputs": [],
   "source": [
    "# translate (x, y) positions from the level 3 image to the level 2 image\n",
    "xc = found_stars_sel['xcentroid']\n",
    "yc = found_stars_sel['ycentroid']\n",
    "sc = wcs_l3.pixel_to_world(xc, yc)\n",
    "\n",
    "x, y = wcs.world_to_pixel(sc)\n",
    "init_params = Table()\n",
    "init_params['x'] = x\n",
    "init_params['y'] = y\n",
    "\n",
    "# we need to remove stars in the masked region of\n",
    "# the level-2 data\n",
    "mask = x > 400\n",
    "init_params = init_params[mask]"
   ]
  },
  {
   "cell_type": "code",
   "execution_count": null,
   "id": "f17e393a-9f0b-4b83-83b9-4bb8497dd835",
   "metadata": {},
   "outputs": [],
   "source": [
    "mask"
   ]
  },
  {
   "cell_type": "code",
   "execution_count": null,
   "id": "511183e0-0adc-4966-b7f4-fcd912b054e9",
   "metadata": {},
   "outputs": [],
   "source": [
    "# plot the selected stars\n",
    "norm = simple_norm(data.value, 'sqrt', percent=99)\n",
    "fig, ax = plt.subplots(figsize=(10, 10))\n",
    "ax.imshow(data.value, origin='lower', norm=norm)\n",
    "\n",
    "xypos = zip(init_params['x'], init_params['y'])\n",
    "aper = CircularAperture(xypos, r=10)\n",
    "aper.plot(ax, color='red')"
   ]
  },
  {
   "cell_type": "code",
   "execution_count": null,
   "id": "84812421-f447-4b75-9fe4-e377fba54b17",
   "metadata": {},
   "outputs": [],
   "source": [
    "fit_shape = 5\n",
    "localbkg_estimator = LocalBackground(5, 10, bkg_estimator=MMMBackground())\n",
    "psfphot = PSFPhotometry(psf_model, fit_shape, finder=None, aperture_radius=fit_shape, \n",
    "                        localbkg_estimator=localbkg_estimator, progress_bar=True)\n",
    "phot = psfphot(data, error=error, init_params=init_params)\n",
    "phot"
   ]
  },
  {
   "cell_type": "code",
   "execution_count": null,
   "id": "8d5899cf-8956-4b3c-941a-67b0fedc0c51",
   "metadata": {},
   "outputs": [],
   "source": [
    "# convert fit flux from uJy to ABmag\n",
    "flux = phot['flux_fit']\n",
    "flux_err = phot['flux_err']\n",
    "mag = phot['flux_fit'].to(u.ABmag)\n",
    "magerr = 2.5 * np.log10(1.0 + (flux_err / flux))\n",
    "magerr = magerr.value * u.ABmag\n",
    "mag, magerr"
   ]
  },
  {
   "cell_type": "markdown",
   "id": "5630029f-31d1-42cd-8454-225e86cabc48",
   "metadata": {},
   "source": [
    "<hr style=\"border:1px solid gray\"> </hr>"
   ]
  },
  {
   "cell_type": "markdown",
   "id": "843b5201-6f57-46f0-9da0-b738714178d3",
   "metadata": {},
   "source": [
    "<img style=\"float: center;\" src=\"https://raw.githubusercontent.com/spacetelescope/notebooks/master/assets/stsci_pri_combo_mark_horizonal_white_bkgd.png\" alt=\"Space Telescope Logo\" width=\"200px\"/>"
   ]
  }
 ],
 "metadata": {
  "kernelspec": {
   "display_name": "Python 3 (ipykernel)",
   "language": "python",
   "name": "python3"
  },
  "language_info": {
   "codemirror_mode": {
    "name": "ipython",
    "version": 3
   },
   "file_extension": ".py",
   "mimetype": "text/x-python",
   "name": "python",
   "nbconvert_exporter": "python",
   "pygments_lexer": "ipython3",
   "version": "3.10.12"
  },
  "toc-showcode": false
 },
 "nbformat": 4,
 "nbformat_minor": 5
}
