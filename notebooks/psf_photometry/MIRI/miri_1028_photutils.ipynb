{
 "cells": [
  {
   "cell_type": "markdown",
   "id": "b58d6954",
   "metadata": {},
   "source": [
    "# MIRI PSF Photometry With Photutils\n",
    "\n",
    "**Author**: Ori Fox<br>\n",
    "\n",
    "**Submitted**: November, 2023<br>\n",
    "**Updated**: November, 2023<br>\n",
    "\n",
    "**Use case**: PSF Photometry using dedicated package photutils (https://photutils.readthedocs.io/en/stable/). The purpose here is to illustrate the workflow and runtime for using photutils in a variety of use cases. Generally, PSF photometry for data from a space telescope is most accurately performed on pre-mosaiced data. In the case of HST, that corresponds to FLT files rather than DRZ. And in the case of JWST, this corresponds to Level2 files rather than Level3. The reason is that a mosaiced PSF changes the inherent PSF as a function of position on the detector so that there is no adequate model (theoretical or empirical) to use. **NOTE:** A companion notebook exists that illustrates how to use perform PSF photometry on both Level2 and Level3 data using a new software program called space_phot.<br>\n",
    "**Data**: MIRI Data PID 1028 (Calibration Program; Single Star Visit 006 A5V dwarf 2MASSJ17430448+6655015) and MIRI Data PID 1171 (LMC; Multiple Stars).<br>\n",
    "**Tools**: photutils, drizzlepac, jupyter <br>\n",
    "**Cross-Instrument**: NIRCam, MIRI.<br>\n",
    "**Documentation**: This notebook is part of a STScI's larger post-pipeline Data Analysis Tools Ecosystem and can be downloaded directly from the JDAT Notebook Github directory.<br>\n",
    "**Pipeline Version**: JWST Pipeline<br>\n"
   ]
  },
  {
   "cell_type": "markdown",
   "id": "88c61bcf-1c4d-407a-b80c-aa13a01fd746",
   "metadata": {
    "tags": []
   },
   "source": [
    "## Table of contents\n",
    "1. [Introduction](#intro)<br>\n",
    "    1.1 [Setup](#webbpsf)<br>\n",
    "    1.2 [Python imports](#py_imports)<br>\n",
    "2. [Download Data](#data)<br>\n",
    "3. [Bright, Single Object](#bso)<br>\n",
    "    3.1 [Multiple, Level2 Files](#bso2)<br>\n",
    "4. [Faint/Upper Limit, Single Object](#fso)<br>\n",
    "    4.1 [Multiple, Level2 Files](#fso2)<br>\n",
    "5. [Stellar Field (LMC)](#lmv)<br>\n",
    "    5.1 [Multiple, Level2 Files](#lmc2)<br>"
   ]
  },
  {
   "cell_type": "markdown",
   "id": "4f572688",
   "metadata": {},
   "source": [
    "1.<font color='white'>-</font>Introduction <a class=\"anchor\" id=\"intro\"></a>\n",
    "------------------"
   ]
  },
  {
   "cell_type": "markdown",
   "id": "95891849",
   "metadata": {},
   "source": [
    "GOALS:<br>\n",
    "\n",
    "PSF Photometry can be obtained using:<br>\n",
    "\n",
    "* grid of PSF models from WebbPSF<br>\n",
    "* single effective PSF (ePSF) NOT YET AVAILABLE<br>\n",
    "* grid of effective PSF NOT YET AVAILABLE<br>\n",
    "\n",
    "The notebook shows:<br>\n",
    "\n",
    "* how to obtain the PSF model from WebbPSF (or build an ePSF)<br>\n",
    "* how to perform PSF photometry on the image<br>\n",
    "\n",
    "**Data**:<br>\n",
    "\n",
    "MIRI Data PID 1028 (Calibration Program), F770W <br>\n",
    "MIRI Data PID 1171 (LMC), F560W/F770W"
   ]
  },
  {
   "cell_type": "code",
   "execution_count": null,
   "id": "991de542-26f4-4847-a6c8-1e6e1b39e757",
   "metadata": {},
   "outputs": [],
   "source": [
    "%matplotlib inline"
   ]
  },
  {
   "cell_type": "markdown",
   "id": "5b762602",
   "metadata": {},
   "source": [
    "### 1.1<font color='white'>-</font>Setup WebbPSF and Synphot Directories<a class=\"anchor\" id=\"webbpsf\"></a> ###"
   ]
  },
  {
   "cell_type": "code",
   "execution_count": null,
   "id": "ced803b2-d0f5-454f-bce2-6628aa905a4d",
   "metadata": {},
   "outputs": [],
   "source": [
    "%matplotlib inline"
   ]
  },
  {
   "cell_type": "code",
   "execution_count": null,
   "id": "8c50eace",
   "metadata": {
    "tags": []
   },
   "outputs": [],
   "source": [
    "import sys,os,glob,shutil\n",
    "import tarfile, urllib.request\n",
    "\n",
    "# Set environmental variables\n",
    "os.environ[\"WEBBPSF_PATH\"] = \"./webbpsf-data/webbpsf-data\"\n",
    "os.environ[\"PYSYN_CDBS\"] = \"./grp/redcat/trds/\"\n",
    "\n",
    "# WEBBPSF Data\n",
    "boxlink = 'https://stsci.box.com/shared/static/qxpiaxsjwo15ml6m4pkhtk36c9jgj70k.gz'                                                           \n",
    "boxfile = './webbpsf-data/webbpsf-data-1.0.0.tar.gz'\n",
    "synphot_url = 'http://ssb.stsci.edu/trds/tarfiles/synphot5.tar.gz'\n",
    "synphot_file = './synphot5.tar.gz'\n",
    "\n",
    "webbpsf_folder = './webbpsf-data'\n",
    "synphot_folder = './grp'\n",
    "\n",
    "# Gather webbpsf files\n",
    "psfExist = os.path.exists(webbpsf_folder)\n",
    "if not psfExist:\n",
    "    os.makedirs(webbpsf_folder)\n",
    "    urllib.request.urlretrieve(boxlink, boxfile)\n",
    "    gzf = tarfile.open(boxfile)\n",
    "    gzf.extractall(webbpsf_folder)\n",
    "\n",
    "# Gather synphot files\n",
    "synExist = os.path.exists(synphot_folder)\n",
    "if not synExist:\n",
    "    os.makedirs(synphot_folder)\n",
    "    urllib.request.urlretrieve(synphot_url, synphot_file)\n",
    "    gzf = tarfile.open(synphot_file)\n",
    "    gzf.extractall('./')"
   ]
  },
  {
   "cell_type": "markdown",
   "id": "5e534877-5c31-4020-9263-4f234f19e1cd",
   "metadata": {},
   "source": [
    "### 1.2<font color='white'>-</font>Python Imports<a class=\"anchor\" id=\"py_imports\"></a> ###"
   ]
  },
  {
   "cell_type": "code",
   "execution_count": null,
   "id": "93e91ff7-ea71-4507-b38d-c2067cae3a8f",
   "metadata": {},
   "outputs": [],
   "source": [
    "import astropy\n",
    "from astropy.io import fits, ascii\n",
    "from astropy.table import Table, QTable\n",
    "from astropy.nddata import extract_array\n",
    "from astropy.coordinates import SkyCoord\n",
    "from astropy import wcs\n",
    "from astropy.wcs.utils import skycoord_to_pixel\n",
    "from astropy import units as u\n",
    "import numpy as np\n",
    "import matplotlib.pyplot as plt\n",
    "from astroquery.mast import Observations\n",
    "from astropy.visualization import (simple_norm,LinearStretch)\n",
    "from mpl_toolkits.axes_grid1 import make_axes_locatable\n",
    "import time\n",
    "import math\n",
    "from importlib.metadata import version\n",
    "import pandas as pd\n",
    "\n",
    "#WebbPSF#\n",
    "#\n",
    "import webbpsf\n",
    "\n",
    "# JWST models\n",
    "#\n",
    "from jwst import datamodels, associations\n",
    "from jwst.datamodels import ImageModel, dqflags\n",
    "\n",
    "# Background and PSF Functions\n",
    "#\n",
    "from photutils.background import MMMBackground, MADStdBackgroundRMS, Background2D, LocalBackground\n",
    "from photutils.detection import DAOStarFinder\n",
    "from photutils import EPSFBuilder, GriddedPSFModel\n",
    "from photutils.psf import DAOGroup, extract_stars, IterativelySubtractedPSFPhotometry, PSFPhotometry\n",
    "\n",
    "# Photutils library and tools\n",
    "#\n",
    "import photutils\n",
    "from photutils.aperture import CircularAperture, CircularAnnulus, aperture_photometry\n",
    "from photutils import Background2D, MedianBackground, ModeEstimatorBackground, MMMBackground"
   ]
  },
  {
   "cell_type": "markdown",
   "id": "68f0b2d7-45a1-4511-858e-51425a50de00",
   "metadata": {},
   "source": [
    "2.<font color='white'>-</font>Download Data<a class=\"anchor\" id=\"data\"></a>\n",
    "------------------"
   ]
  },
  {
   "cell_type": "code",
   "execution_count": null,
   "id": "e6629878-a5d4-4e29-a56e-0f12271016a5",
   "metadata": {},
   "outputs": [],
   "source": [
    "# Query the MAST (Mikulski Archive for Space Telescopes) database for observations\n",
    "# with proposal ID 1028 and a specific filter 'F770W'\n",
    "\n",
    "obs = Observations.query_criteria(proposal_id=1028, filters=['F770W'])\n",
    "\n",
    "# Locate a specific observation by its unique observation ID 'jw01537-o024_t001_nircam_clear-f444w-sub160'\n",
    "#row = obs[obs['obs_id']=='jw01028-o006_t001_miri_f770w']\n",
    "\n",
    "# Get a list of products associated with the located observation\n",
    "plist = Observations.get_product_list(obs)\n",
    "\n",
    "# Filter the product list to include only specific product subgroups: 'RATE', 'CAL', 'I2D', and 'ASN'\n",
    "fplist = Observations.filter_products(plist, productSubGroupDescription=['CAL', 'I2D', 'ASN'])\n",
    "\n",
    "# Download the selected products from the MAST database (UNCOMMENT TO DOWNLOAD)\n",
    "Observations.download_products(fplist)\n",
    "\n",
    "# Define source and destination directories\n",
    "source_dir = 'mastDownload/JWST/'\n",
    "destination_dir = 'mast/01028/'\n",
    "\n",
    "# Create the destination directory if it doesn't exist\n",
    "if not os.path.exists(destination_dir):\n",
    "    os.makedirs(destination_dir)\n",
    "\n",
    "# Use glob to find all files matching the pattern 'mastDownload/JWST/j*/jw01537*cal.fits'\n",
    "files_to_copy = glob.glob(os.path.join(source_dir, 'j*/jw01028*'))\n",
    "\n",
    "# Copy the matching files to the destination directory\n",
    "for file_path in files_to_copy:\n",
    "    shutil.copy(file_path, destination_dir)\n"
   ]
  },
  {
   "cell_type": "code",
   "execution_count": null,
   "id": "b649b6f4-aa18-4760-a7d0-979b4e3caec2",
   "metadata": {},
   "outputs": [],
   "source": [
    "# Query the MAST (Mikulski Archive for Space Telescopes) database for observations\n",
    "# with proposal ID 1171 and a specific filters 'F550W' and 'F770W'\n",
    "\n",
    "obs = Observations.query_criteria(proposal_id=1171, filters=['F560W','F770W'])\n",
    "\n",
    "# Locate a specific observation by its unique observation ID 'jw01537-o024_t001_nircam_clear-f444w-sub160'\n",
    "#row = obs[obs['obs_id']=='jw01028-o006_t001_miri_f770w']\n",
    "\n",
    "# Get a list of products associated with the located observation\n",
    "plist = Observations.get_product_list(obs)\n",
    "\n",
    "# Filter the product list to include only specific product subgroups: 'RATE', 'CAL', 'I2D', and 'ASN'\n",
    "fplist = Observations.filter_products(plist, productSubGroupDescription=['CAL', 'I2D', 'ASN'])\n",
    "fplist\n",
    "\n",
    "# Download the selected products from the MAST database (UNCOMMENT TO DOWNLOAD)\n",
    "Observations.download_products(fplist)\n",
    "\n",
    "# Define source and destination directories\n",
    "source_dir = 'mastDownload/JWST/'\n",
    "destination_dir = 'mast/01171/'\n",
    "\n",
    "# Create the destination directory if it doesn't exist\n",
    "if not os.path.exists(destination_dir):\n",
    "    os.makedirs(destination_dir)\n",
    "\n",
    "# Use glob to find all files matching the pattern 'mastDownload/JWST/j*/jw01537*cal.fits'\n",
    "files_to_copy = glob.glob(os.path.join(source_dir, 'j*/jw01171*'))\n",
    "\n",
    "# Copy the matching files to the destination directory\n",
    "for file_path in files_to_copy:\n",
    "    shutil.copy(file_path, destination_dir)"
   ]
  },
  {
   "cell_type": "markdown",
   "id": "5611799d",
   "metadata": {},
   "source": [
    "3.<font color='white'>-</font>Bright, Single Object<a class=\"anchor\" id=\"bso\"></a>\n",
    "------------------"
   ]
  },
  {
   "cell_type": "markdown",
   "id": "6d052f0e-dcb4-4c2a-bc11-4b467dad07c2",
   "metadata": {},
   "source": [
    "The purpose of this section is to illustrate how to perform PSF photometry on a single, bright object. While aperture photometry is feasible in isolated cases, the user may find PSF photometry preferable in crowded fields or complicated backgrounds."
   ]
  },
  {
   "cell_type": "markdown",
   "id": "55c52f95",
   "metadata": {},
   "source": [
    "### 3.1<font color='white'>-</font>Multiple, Level2 Files<a class=\"anchor\" id=\"bso2\"></a> ###"
   ]
  },
  {
   "cell_type": "markdown",
   "id": "058a14ad-be89-4d7e-934e-1e0a909319c8",
   "metadata": {},
   "source": [
    "Generally, PSF photometry for data from a space telescope is most accurately performed on pre-mosaiced data. In the case of HST, that corresponds to FLT files rather than DRZ. And in the case of JWST, this corresponds to Level2 files rather than Level3. The reason is that a mosaiced PSF changes the inherent PSF as a function of position on the detector so that there is no adequate model (theoretical or empirical) to use.<br>\n",
    "\n",
    "In this example, we aim to fit a source simultaneously across multiple Level 2 images. A more basic approach would be to fit each Level 2 file individually and then average together the measured fluxes. However, this approach more easily corrects for bad pixels or cosmic rays that are only in one image and allows for a more accurate photometric solution by reducing the number of free parameters per source.<br>\n",
    "\n",
    "Useful references:<br>\n",
    "HST Documentation on PSF Photometry: https://www.stsci.edu/hst/instrumentation/wfc3/data-analysis/psf<br>\n",
    "WFPC2 Stellar Photometry with HSTPHOT: https://ui.adsabs.harvard.edu/abs/2000PASP..112.1383D/abstract<br>\n",
    "Photutils PSF Fitting Photometry: https://photutils.readthedocs.io/en/stable/psf.html"
   ]
  },
  {
   "cell_type": "code",
   "execution_count": null,
   "id": "8f44a6cf",
   "metadata": {
    "tags": []
   },
   "outputs": [],
   "source": [
    "### Define Level 3 File\n",
    "lvl3 = ['./mast/01028/jw01028-o006_t001_miri_f770w_i2d.fits']\n",
    "#lvl3 = ['./mast/01028/obsnum06/jw01028-o006_t001_miri_f770w_i2d.fits']\n",
    "lvl3"
   ]
  },
  {
   "cell_type": "code",
   "execution_count": null,
   "id": "d35e67aa",
   "metadata": {
    "tags": []
   },
   "outputs": [],
   "source": [
    "### Create Level 2 Data List from ASN files\n",
    "\n",
    "prefix = \"./mast/01028/\"\n",
    "asn = glob.glob(prefix+'jw01028-o006_*_image3_00004_asn.json')\n",
    "with open(asn[0],\"r\") as fi:\n",
    "    lvl2 = []\n",
    "    for ln in fi:\n",
    "        #print(ln)\n",
    "        if ln.startswith('                    \"expname\":'):\n",
    "            x = ln[2:].split(':')\n",
    "            y = x[1].split('\"')\n",
    "            lvl2.append(prefix+y[1])\n",
    "print(lvl2)"
   ]
  },
  {
   "cell_type": "code",
   "execution_count": null,
   "id": "ab0ac799-a832-40af-9cd4-b5b3934cfee4",
   "metadata": {},
   "outputs": [],
   "source": [
    "# Examine the First Image (Before DQ Flags Set)\n",
    "ref_image = lvl2[0]\n",
    "print(ref_image)\n",
    "\n",
    "ref_fits = ImageModel(ref_image)\n",
    "ref_data = ref_fits.data\n",
    "\n",
    "# The scale should highlight the background noise so it is possible to see all faint sources.\n",
    "norm1 = simple_norm(ref_data,stretch='log',min_cut=4.5,max_cut=5)\n",
    "\n",
    "plt.figure(figsize=(20,12))\n",
    "plt.imshow(ref_data,origin='lower',norm=norm1,cmap='gray')\n",
    "clb = plt.colorbar()\n",
    "clb.set_label('MJy/Str', labelpad=-40, y=1.05, rotation=0)\n",
    "plt.gca().tick_params(axis='both',color='none')\n",
    "plt.xlabel('Pixels')\n",
    "plt.ylabel('Pixels')\n",
    "plt.show()"
   ]
  },
  {
   "cell_type": "code",
   "execution_count": null,
   "id": "4ab947da-be0a-4cde-88eb-2d947adf2b81",
   "metadata": {},
   "outputs": [],
   "source": [
    "# Change all DQ flagged pixels to NANs\n",
    "\n",
    "# Reference for JWST DQ Flag Definitions: https://jwst-pipeline.readthedocs.io/en/latest/jwst/references_general/references_general.html\n",
    "# In this case, we choose all DQ > 10, but users are encouraged to choose their own values accordingly.\n",
    "for file in lvl2:\n",
    "    ref_fits = ImageModel(file)\n",
    "    data = ref_fits.data\n",
    "    dq = ref_fits.dq\n",
    "    data[dq >= 10]=np.nan\n",
    "    ref_fits.data=data\n",
    "    ref_fits.save(file)"
   ]
  },
  {
   "cell_type": "code",
   "execution_count": null,
   "id": "87673dd8-1bc6-4663-bebc-8e2434974ceb",
   "metadata": {},
   "outputs": [],
   "source": [
    "# Examine the First Image (After DQ Flags Set)\n",
    "ref_image = lvl2[0]\n",
    "print(ref_image)\n",
    "ref_fits = ImageModel(ref_image)\n",
    "ref_data = ref_fits.data\n",
    "\n",
    "# The scale should highlight the background noise so it is possible to see all faint sources.\n",
    "norm1 = simple_norm(ref_data,stretch='log',min_cut=4.5,max_cut=5)\n",
    "\n",
    "plt.figure(figsize=(20,12))\n",
    "plt.imshow(ref_data,origin='lower',norm=norm1,cmap='gray')\n",
    "clb = plt.colorbar()\n",
    "clb.set_label('MJy/Str', labelpad=-40, y=1.05, rotation=0)\n",
    "plt.gca().tick_params(axis='both',color='none')\n",
    "plt.xlabel('Pixels')\n",
    "plt.ylabel('Pixels')\n",
    "plt.show()"
   ]
  },
  {
   "cell_type": "code",
   "execution_count": null,
   "id": "4858f4d9-dbc9-40f1-a00c-80339cc69fae",
   "metadata": {},
   "outputs": [],
   "source": [
    "# Zoom in to see the source. In this case, our source is from MIRI Program ID #1028, a Calibration Program.\n",
    "# We are using Visit 006, which targets the A5V dwarf 2MASSJ17430448+6655015\n",
    "# Reference Link: http://simbad.cds.unistra.fr/simbad/sim-basic?Ident=2MASSJ17430448%2B6655015&submit=SIMBAD+search\n",
    "\n",
    "source_location = SkyCoord('17:43:04.4879','+66:55:01.837',unit=(u.hourangle,u.deg))\n",
    "ref_wcs = ref_fits.get_fits_wcs()\n",
    "ref_x,ref_y = skycoord_to_pixel(source_location,ref_wcs)\n",
    "ref_cutout = extract_array(ref_data,(21,21),(ref_y,ref_x))\n",
    "\n",
    "# The scale should highlight the background noise so it is possible to see all faint sources.\n",
    "norm1 = simple_norm(ref_cutout,stretch='log',min_cut=4.3,max_cut=205)\n",
    "plt.imshow(ref_cutout,origin='lower',norm=norm1,cmap='gray')\n",
    "clb = plt.colorbar()\n",
    "clb.set_label('MJy/Str', labelpad=-40, y=1.05, rotation=0)\n",
    "plt.title('PID1028,Obs006')\n",
    "plt.xlabel('Pixels')\n",
    "plt.ylabel('Pixels')\n",
    "plt.gca().tick_params(axis='both',color='none')\n",
    "plt.show()"
   ]
  },
  {
   "cell_type": "markdown",
   "id": "51fd4846-8cd6-4c60-8438-c6352488a3cc",
   "metadata": {},
   "source": [
    "#### DEV NOTES: <br> \n",
    "1. Add documentation on using webbpsf.calc_psf to have more control over your PSF.<br>"
   ]
  },
  {
   "cell_type": "code",
   "execution_count": null,
   "id": "f90b3848-3b13-48ec-b603-612de972293d",
   "metadata": {},
   "outputs": [],
   "source": [
    "# Get the PSF from WebbPSF using defaults\n",
    "\n",
    "source_location = SkyCoord('17:43:04.4879','+66:55:01.837',unit=(u.hourangle,u.deg))\n",
    "\n",
    "image = lvl2[0]\n",
    "fits = ImageModel(image)\n",
    "data = fits.data\n",
    "err = fits.err\n",
    "wcs = fits.get_fits_wcs()\n",
    "x,y = skycoord_to_pixel(source_location,wcs)\n",
    "\n",
    "# Get the PSF from WebbPSF using defaults\n",
    "miri = webbpsf.MIRI()\n",
    "miri.filter =  'F770W'\n",
    "c = webbpsf.gridded_library.CreatePSFLibrary(miri, filter_name='F770W', num_psfs=4, detectors='all', psf_location = (x,y))\n",
    "grid = c.create_grid()\n",
    "#webbpsf.gridded_library.display_psf_grid(grid)\n",
    "\n",
    "# Convert PSF into an astropy model to be used by photutils\n",
    "epsf_model = photutils.psf.FittableImageModel(grid.data[0,:,:],normalize=False,oversampling=4)\n",
    "epsf_model"
   ]
  },
  {
   "cell_type": "code",
   "execution_count": null,
   "id": "cee4ba3b-2a71-4685-ae1f-5beb60c7d4ad",
   "metadata": {},
   "outputs": [],
   "source": [
    "# The scale should highlight the background noise so it is possible to see all faint sources.\n",
    "\n",
    "cutout = epsf_model.data\n",
    "norm1 = simple_norm(cutout,stretch='log',min_cut=0.0,max_cut=0.01)\n",
    "plt.imshow(cutout,origin='lower',norm=norm1,cmap='gray')\n",
    "clb = plt.colorbar()\n",
    "clb.set_label('MJy/Str', labelpad=-40, y=1.05, rotation=0)\n",
    "plt.title('WebbPSF Model')\n",
    "plt.xlabel('Pixels')\n",
    "plt.ylabel('Pixels')\n",
    "plt.gca().tick_params(axis='both',color='none')\n",
    "plt.show()"
   ]
  },
  {
   "cell_type": "code",
   "execution_count": null,
   "id": "17032f49-0d4f-422a-b9cb-b208b3d41a50",
   "metadata": {},
   "outputs": [],
   "source": [
    "# Set up photutils parameters and perform PSF photometry\n",
    "\n",
    "bkgstat = MMMBackground()\n",
    "localbkg_estimator = LocalBackground(5, 10, bkgstat)\n",
    "psf_width = 5\n",
    "centers = [x,y]\n",
    "pos = Table(np.atleast_2d(centers),names=['x_0','y_0'])\n",
    "daofind = DAOStarFinder(threshold=5,fwhm=2,xycoords=np.array([pos['x_0'],pos['y_0']]).T)\n",
    "psfphot = PSFPhotometry(epsf_model, psf_width, finder=daofind, aperture_radius=psf_width, localbkg_estimator=localbkg_estimator)\n",
    "phot = psfphot(data, error=err, init_params=pos)\n",
    "phot"
   ]
  },
  {
   "cell_type": "code",
   "execution_count": null,
   "id": "20614566-0631-4226-9ffd-a1b3727c0cf3",
   "metadata": {},
   "outputs": [],
   "source": [
    "# Extract Flux and Fluxerr\n",
    "\n",
    "flux = phot['flux_fit'] # MJy/Str\n",
    "fluxerr = phot['flux_err'] # MJy/Str\n",
    "\n",
    "# Convert to magnitudes\n",
    "\n",
    "units = astropy.units.MJy\n",
    "magerr = 2.5 * np.log10(1.0 + (fluxerr/flux))\n",
    "pixel_scale = astropy.wcs.utils.proj_plane_pixel_scales(wcs)[0]  * wcs.wcs.cunit[0].to('arcsec')\n",
    "flux_units = astropy.units.MJy / astropy.units.sr * (pixel_scale * astropy.units.arcsec)**2\n",
    "flux = flux*flux_units\n",
    "fluxerr = fluxerr*flux_units\n",
    "flux = flux.to(units)\n",
    "fluxerr = fluxerr.to(units)\n",
    "mag = flux.to(astropy.units.ABmag)\n",
    "zp = mag.value+2.5*np.log10(flux.value)\n",
    "print(mag,magerr)"
   ]
  },
  {
   "cell_type": "code",
   "execution_count": null,
   "id": "553e90fe-0fad-4de2-b8c9-ffed816a1d4a",
   "metadata": {},
   "outputs": [],
   "source": [
    "# Plot Residual \n",
    "\n",
    "resid = psfphot.make_residual_image(data, (21, 21))\n",
    "\n",
    "# The scale should highlight the background noise so it is possible to see all faint sources.\n",
    "cutout = extract_array(resid,(25,25),(y,x))\n",
    "norm1 = simple_norm(cutout,stretch='log',min_cut=-1,max_cut=10)\n",
    "plt.imshow(cutout,origin='lower',norm=norm1,cmap='gray')\n",
    "clb = plt.colorbar()\n",
    "clb.set_label('MJy/Str', labelpad=-40, y=1.05, rotation=0)\n",
    "plt.title('Residual Image')\n",
    "plt.xlabel('Pixels')\n",
    "plt.ylabel('Pixels')\n",
    "plt.gca().tick_params(axis='both',color='none')\n",
    "plt.show()"
   ]
  },
  {
   "cell_type": "markdown",
   "id": "5b5f0ad5-b59e-4eff-8687-f6a2199d8bd9",
   "metadata": {},
   "source": [
    "4.<font color='white'>-</font>Faint/Upper Limit, Single Object<a class=\"anchor\" id=\"fso\"></a>\n",
    "------------------"
   ]
  },
  {
   "cell_type": "markdown",
   "id": "1dc60da1-0f4d-4e5e-a109-f7352dfd0fdc",
   "metadata": {},
   "source": [
    "The purpose of this section is to illustrate how to calculate an upper limit using PSF photometry a blank part of the sky. "
   ]
  },
  {
   "cell_type": "markdown",
   "id": "8af6f83a-5925-44d5-be0f-facd2316d1ca",
   "metadata": {},
   "source": [
    "### 4.1<font color='white'>-</font>Multiple, Level2 Files<a class=\"anchor\" id=\"fso2\"></a> ###"
   ]
  },
  {
   "cell_type": "code",
   "execution_count": null,
   "id": "29ac6f64",
   "metadata": {
    "tags": []
   },
   "outputs": [],
   "source": [
    "### Level 3 Files\n",
    "lvl3 = ['mast/01028/jw01028-o006_t001_miri_f770w_i2d.fits']\n",
    "lvl3"
   ]
  },
  {
   "cell_type": "code",
   "execution_count": null,
   "id": "3ebedb35",
   "metadata": {
    "tags": []
   },
   "outputs": [],
   "source": [
    "### Create Level 2 Data List from ASN files\n",
    "prefix = \"./mast/01028/\"\n",
    "asn = glob.glob(prefix+'jw01028-o006_*_image3_00004_asn.json')\n",
    "with open(asn[0],\"r\") as fi:\n",
    "    lvl2 = []\n",
    "    for ln in fi:\n",
    "        #print(ln)\n",
    "        if ln.startswith('                    \"expname\":'):\n",
    "            x = ln[2:].split(':')\n",
    "            y = x[1].split('\"')\n",
    "            lvl2.append(prefix+y[1])\n",
    "print(lvl2)"
   ]
  },
  {
   "cell_type": "code",
   "execution_count": null,
   "id": "322b5a27",
   "metadata": {},
   "outputs": [],
   "source": [
    "# Change all DQ flagged pixels to NANs\n",
    "\n",
    "# Reference for JWST DQ Flag Definitions: https://jwst-pipeline.readthedocs.io/en/latest/jwst/references_general/references_general.html\n",
    "# In this case, we choose all DQ > 10, but users are encouraged to choose their own values accordingly.\n",
    "for file in lvl2:\n",
    "    ref_fits = ImageModel(file)\n",
    "    data = ref_fits.data\n",
    "    dq = ref_fits.dq\n",
    "    data[dq >= 10]=np.nan\n",
    "    ref_fits.data=data\n",
    "    ref_fits.save(file)"
   ]
  },
  {
   "cell_type": "code",
   "execution_count": null,
   "id": "2b5c7fea-3df3-4434-92cc-c7d8afa531dc",
   "metadata": {},
   "outputs": [],
   "source": [
    "# Examine the First Image (After DQ Flags Set)\n",
    "ref_image = lvl2[0]\n",
    "print(ref_image)\n",
    "ref_fits = ImageModel(ref_image)\n",
    "ref_data = ref_fits.data\n",
    "\n",
    "# The scale should highlight the background noise so it is possible to see all faint sources.\n",
    "norm1 = simple_norm(ref_data,stretch='log',min_cut=4.5,max_cut=5)\n",
    "\n",
    "plt.figure(figsize=(20,12))\n",
    "plt.imshow(ref_data,origin='lower',norm=norm1,cmap='gray')\n",
    "clb = plt.colorbar()\n",
    "clb.set_label('MJy/Str', labelpad=-40, y=1.05, rotation=0)\n",
    "plt.gca().tick_params(axis='both',color='none')\n",
    "plt.xlabel('Pixels')\n",
    "plt.ylabel('Pixels')\n",
    "plt.show()"
   ]
  },
  {
   "cell_type": "code",
   "execution_count": null,
   "id": "6f4ed7dc-bb03-4dca-9908-2130d96f7c63",
   "metadata": {},
   "outputs": [],
   "source": [
    "# Pick a blank part of the sky to calculate the upper limit\n",
    "\n",
    "source_location = SkyCoord('17:43:00.0332','+66:54:42.677',unit=(u.hourangle,u.deg))\n",
    "ref_wcs = ref_fits.get_fits_wcs()\n",
    "ref_x,ref_y = skycoord_to_pixel(source_location,ref_wcs)\n",
    "ref_cutout = extract_array(ref_data,(21,21),(ref_y,ref_x))\n",
    "\n",
    "# The scale should highlight the background noise so it is possible to see all faint sources.\n",
    "norm1 = simple_norm(ref_cutout,stretch='log',min_cut=4.5,max_cut=5)\n",
    "plt.imshow(ref_cutout,origin='lower',norm=norm1,cmap='gray')\n",
    "clb = plt.colorbar()\n",
    "clb.set_label('MJy/Str', labelpad=-40, y=1.05, rotation=0)\n",
    "plt.title('PID1028,Obs006')\n",
    "plt.xlabel('Pixels')\n",
    "plt.ylabel('Pixels')\n",
    "plt.gca().tick_params(axis='both',color='none')\n",
    "plt.show()"
   ]
  },
  {
   "cell_type": "code",
   "execution_count": null,
   "id": "cdfa2436-8ea7-438d-be1b-e508dae8c826",
   "metadata": {},
   "outputs": [],
   "source": [
    "# Get the PSF from WebbPSF using defaults\n",
    "\n",
    "image = lvl2[0]\n",
    "fits = ImageModel(image)\n",
    "data = fits.data\n",
    "err = fits.err\n",
    "wcs = fits.get_fits_wcs()\n",
    "x,y = skycoord_to_pixel(source_location,wcs)\n",
    "\n",
    "# Get the PSF from WebbPSF using defaults\n",
    "miri = webbpsf.MIRI()\n",
    "miri.filter =  'F770W'\n",
    "c = webbpsf.gridded_library.CreatePSFLibrary(miri, filter_name='F770W', num_psfs=4, detectors='all', psf_location = (x,y))\n",
    "grid = c.create_grid()\n",
    "#webbpsf.gridded_library.display_psf_grid(grid)\n",
    "\n",
    "# Convert PSF into an astropy model to be used by photutils\n",
    "epsf_model = photutils.psf.FittableImageModel(grid.data[0,:,:],normalize=False,oversampling=4)\n",
    "epsf_model"
   ]
  },
  {
   "cell_type": "code",
   "execution_count": null,
   "id": "da5c58ec-1106-4cec-9cae-5acf91fabeff",
   "metadata": {},
   "outputs": [],
   "source": [
    "# Set up photutils parameters and perform PSF photometry\n",
    "\n",
    "bkgstat = MMMBackground()\n",
    "localbkg_estimator = LocalBackground(5, 10, bkgstat)\n",
    "psf_width = 5\n",
    "centers = [x,y]\n",
    "pos = Table(np.atleast_2d(centers),names=['x_0','y_0'])\n",
    "daofind = DAOStarFinder(threshold=5,fwhm=2,xycoords=np.array([pos['x_0'],pos['y_0']]).T)\n",
    "psfphot = PSFPhotometry(epsf_model, psf_width, finder=daofind, aperture_radius=psf_width, localbkg_estimator=localbkg_estimator)\n",
    "phot = psfphot(data, error=err, init_params=pos)\n",
    "phot"
   ]
  },
  {
   "cell_type": "code",
   "execution_count": null,
   "id": "1bfcfa6c-df44-460e-b464-b09e3419a0bf",
   "metadata": {},
   "outputs": [],
   "source": [
    "# Extract Flux and Fluxerr (and calculate the upper limit from the error)\n",
    "\n",
    "flux = phot['flux_fit'] # MJy/Str\n",
    "fluxerr = phot['flux_err'] # MJy/Str\n",
    "\n",
    "# To calculate upper limit, take your fluxerr and multiply by your defined sigma\n",
    "sigma = 3\n",
    "flux = fluxerr*sigma \n",
    "\n",
    "# Convert to magnitudes\n",
    "\n",
    "units = astropy.units.MJy\n",
    "magerr = 2.5 * np.log10(1.0 + (fluxerr/flux))\n",
    "pixel_scale = astropy.wcs.utils.proj_plane_pixel_scales(wcs)[0]  * wcs.wcs.cunit[0].to('arcsec')\n",
    "flux_units = astropy.units.MJy / astropy.units.sr * (pixel_scale * astropy.units.arcsec)**2\n",
    "flux = flux*flux_units\n",
    "fluxerr = fluxerr*flux_units\n",
    "flux = flux.to(units)\n",
    "fluxerr = fluxerr.to(units)\n",
    "mag = flux.to(astropy.units.ABmag)\n",
    "zp = mag.value+2.5*np.log10(flux.value)\n",
    "print(mag)"
   ]
  },
  {
   "cell_type": "markdown",
   "id": "4e4996d2-6274-473d-b13c-f3848c27ad78",
   "metadata": {},
   "source": [
    "## Note you can go significantly deeper with the Level3 combined data product"
   ]
  },
  {
   "cell_type": "markdown",
   "id": "9a969717-bbef-40b9-ac9b-f83dec99dc09",
   "metadata": {},
   "source": [
    "5.<font color='white'>-</font>Stellar Field (LMC)<a class=\"anchor\" id=\"lmc\"></a>\n",
    "------------------"
   ]
  },
  {
   "cell_type": "markdown",
   "id": "da877310-fd47-41d6-afea-7fa725a546af",
   "metadata": {},
   "source": [
    "#### In this case, we are going to do the same steps as in Section 3, but for multiple stars. The purpose is to illustrate the workflow and runtime for using space_phot on a large number of stars. We suggest that space_phot may be less optimal for large numbers of bright stars. Other programs, such as DOLPHOT or Photutils, may be better suited for this use case. The primary advantage to space_phot is on faint, single sources. But it can be extended to a larger number if desired."
   ]
  },
  {
   "cell_type": "markdown",
   "id": "32bdafe6-db19-4080-9587-b9785c2f7fa7",
   "metadata": {},
   "source": [
    "### 5.1<font color='white'>-</font>Multiple, Level2 Files<a class=\"anchor\" id=\"lmc2\"></a> ###"
   ]
  },
  {
   "cell_type": "markdown",
   "id": "b618756f",
   "metadata": {},
   "source": [
    "##### Now do the same thing for a larger group of stars and test for speed"
   ]
  },
  {
   "cell_type": "code",
   "execution_count": null,
   "id": "838bd76d",
   "metadata": {
    "tags": []
   },
   "outputs": [],
   "source": [
    "### Level 3 Files\n",
    "#lvl3 = ['mastDownload/JWST/jw01171-o004_t001_miri_f560w/jw01171-o004_t001_miri_f560w_i2d.fits']\n",
    "lvl3 = [\"./mast/01171/jw01171-o004_t001_miri_f560w_i2d.fits\"]\n",
    "lvl3"
   ]
  },
  {
   "cell_type": "code",
   "execution_count": null,
   "id": "73aba802",
   "metadata": {
    "tags": []
   },
   "outputs": [],
   "source": [
    "### Level 2 Files\n",
    "#lvl2 = glob.glob('mastDownload/JWST/jw01171004*/*cal.fits')\n",
    "\n",
    "lvl2 = glob.glob('./mast/01171/jw01171004*cal.fits')\n",
    "lvl2"
   ]
  },
  {
   "cell_type": "code",
   "execution_count": null,
   "id": "57f9d790",
   "metadata": {
    "tags": []
   },
   "outputs": [],
   "source": [
    "# Find Stars in Level 3 File\n",
    "\n",
    "# Get rough estimate of background (There are Better Ways to Do Background Subtraction)\n",
    "bkgrms = MADStdBackgroundRMS()\n",
    "mmm_bkg = MMMBackground()\n",
    "\n",
    "#im = fits.open(lvl3[0]) \n",
    "#w = wcs.WCS(im['SCI',1])\n",
    "\n",
    "ref_fits = ImageModel(lvl3[0])\n",
    "w = ref_fits.get_fits_wcs()\n",
    "\n",
    "#std = bkgrms(im[1].data)\n",
    "#bkg = mmm_bkg(im[1].data)\n",
    "#data_bkgsub = im[1].data.copy()\n",
    "\n",
    "std = bkgrms(ref_fits.data)\n",
    "bkg = mmm_bkg(ref_fits.data)\n",
    "data_bkgsub = ref_fits.data.copy()\n",
    "data_bkgsub -= bkg        \n",
    "sigma_psf = 1.636 #pixls for F770W\n",
    "threshold = 5.\n",
    "\n",
    "daofind = DAOStarFinder(threshold=threshold * std, fwhm=sigma_psf, exclude_border=True)\n",
    "found_stars = daofind(data_bkgsub)"
   ]
  },
  {
   "cell_type": "code",
   "execution_count": null,
   "id": "e4cee97c",
   "metadata": {
    "tags": []
   },
   "outputs": [],
   "source": [
    "found_stars.pprint_all(max_lines=10)"
   ]
  },
  {
   "cell_type": "code",
   "execution_count": null,
   "id": "7c7d793b",
   "metadata": {
    "tags": []
   },
   "outputs": [],
   "source": [
    "# Filter out only stars you want\n",
    "\n",
    "plt.figure(figsize=(12, 8))\n",
    "plt.clf()\n",
    "\n",
    "ax1 = plt.subplot(2, 1, 1)\n",
    "\n",
    "ax1.set_xlabel('mag')\n",
    "ax1.set_ylabel('sharpness')\n",
    "\n",
    "xlim0 = np.min(found_stars['mag']) - 0.25\n",
    "xlim1 = np.max(found_stars['mag']) + 0.25\n",
    "ylim0 = np.min(found_stars['sharpness']) - 0.15\n",
    "ylim1 = np.max(found_stars['sharpness']) + 0.15\n",
    "\n",
    "ax1.set_xlim(xlim0, xlim1)\n",
    "ax1.set_ylim(ylim0, ylim1)\n",
    "\n",
    "#ax1.xaxis.set_major_locator(ticker.AutoLocator())\n",
    "#ax1.xaxis.set_minor_locator(ticker.AutoMinorLocator())\n",
    "#ax1.yaxis.set_major_locator(ticker.AutoLocator())\n",
    "#ax1.yaxis.set_minor_locator(ticker.AutoMinorLocator())\n",
    "\n",
    "ax1.scatter(found_stars['mag'], found_stars['sharpness'], s=10, color='k')\n",
    "\n",
    "sh_inf = 0.40\n",
    "sh_sup = 0.82\n",
    "#mag_lim = -5.0\n",
    "lmag_lim = -3.0\n",
    "umag_lim = -5.0\n",
    "\n",
    "ax1.plot([xlim0, xlim1], [sh_sup, sh_sup], color='r', lw=3, ls='--')\n",
    "ax1.plot([xlim0, xlim1], [sh_inf, sh_inf], color='r', lw=3, ls='--')\n",
    "ax1.plot([lmag_lim, lmag_lim], [ylim0, ylim1], color='r', lw=3, ls='--')\n",
    "ax1.plot([umag_lim, umag_lim], [ylim0, ylim1], color='r', lw=3, ls='--')\n",
    "\n",
    "ax2 = plt.subplot(2, 1, 2)\n",
    "\n",
    "ax2.set_xlabel('mag')\n",
    "ax2.set_ylabel('roundness')\n",
    "\n",
    "ylim0 = np.min(found_stars['roundness2']) - 0.25\n",
    "ylim1 = np.max(found_stars['roundness2']) - 0.25\n",
    "\n",
    "ax2.set_xlim(xlim0, xlim1)\n",
    "ax2.set_ylim(ylim0, ylim1)\n",
    "\n",
    "#ax2.xaxis.set_major_locator(ticker.AutoLocator())\n",
    "#ax2.xaxis.set_minor_locator(ticker.AutoMinorLocator())\n",
    "#ax2.yaxis.set_major_locator(ticker.AutoLocator())\n",
    "#ax2.yaxis.set_minor_locator(ticker.AutoMinorLocator())\n",
    "\n",
    "round_inf = -0.40\n",
    "round_sup = 0.40\n",
    "\n",
    "ax2.scatter(found_stars['mag'], found_stars['roundness2'], s=10, color='k')\n",
    "\n",
    "ax2.plot([xlim0, xlim1], [round_sup, round_sup], color='r', lw=3, ls='--')\n",
    "ax2.plot([xlim0, xlim1], [round_inf, round_inf], color='r', lw=3, ls='--')\n",
    "ax2.plot([lmag_lim, lmag_lim], [ylim0, ylim1], color='r', lw=3, ls='--')\n",
    "ax2.plot([umag_lim, umag_lim], [ylim0, ylim1], color='r', lw=3, ls='--')\n",
    "\n",
    "plt.tight_layout()"
   ]
  },
  {
   "cell_type": "code",
   "execution_count": null,
   "id": "6ac852af",
   "metadata": {
    "tags": []
   },
   "outputs": [],
   "source": [
    "mask = ((found_stars['mag'] < lmag_lim) & (found_stars['mag'] > umag_lim) & (found_stars['roundness2'] > round_inf)\n",
    "        & (found_stars['roundness2'] < round_sup) & (found_stars['sharpness'] > sh_inf) \n",
    "        & (found_stars['sharpness'] < sh_sup) & (found_stars['xcentroid'] > 100) & (found_stars['xcentroid'] < 700)\n",
    "        & (found_stars['ycentroid'] > 100) & (found_stars['ycentroid'] < 700))\n",
    "\n",
    "found_stars_sel = found_stars[mask]\n",
    "\n",
    "print('Number of stars found originally:', len(found_stars))\n",
    "print('Number of stars in final selection:', len(found_stars_sel))\n"
   ]
  },
  {
   "cell_type": "code",
   "execution_count": null,
   "id": "567f81f5",
   "metadata": {
    "tags": []
   },
   "outputs": [],
   "source": [
    "found_stars_sel"
   ]
  },
  {
   "cell_type": "code",
   "execution_count": null,
   "id": "f7fd293e-a8f4-4c34-ab99-23d71adee080",
   "metadata": {
    "tags": []
   },
   "outputs": [],
   "source": [
    "# Convert pixel to wcs coords\n",
    "from astropy.wcs.utils import skycoord_to_pixel\n",
    "skycoords = w.pixel_to_world(found_stars_sel['xcentroid'], found_stars_sel['ycentroid'])\n",
    "skycoords = skycoords[9:] #Cutting down the list artificially to make things run faster\n",
    "len(skycoords)"
   ]
  },
  {
   "cell_type": "code",
   "execution_count": null,
   "id": "e6c46e19",
   "metadata": {
    "tags": []
   },
   "outputs": [],
   "source": [
    "# Change all DQ flagged pixels to NANs\n",
    "for file in lvl2:\n",
    "    #hdul = fits.open(file, mode='update')\n",
    "    #data = fits.open(file)['SCI',1].data\n",
    "    #dq = fits.open(file)['DQ',1].data\n",
    "    #data[dq == 262657]=np.nan\n",
    "    #data[dq == 262661]=np.nan\n",
    "    #hdul['SCI',1].data=data\n",
    "    #hdul.flush()\n",
    "\n",
    "    ref_fits = ImageModel(file)\n",
    "    data = ref_fits.data\n",
    "    dq = ref_fits.dq\n",
    "    data[dq >= 10]=np.nan\n",
    "    ref_fits.data=data\n",
    "    ref_fits.save(file)"
   ]
  },
  {
   "cell_type": "code",
   "execution_count": null,
   "id": "38760103-e702-4b6b-bd5e-7ed12c67a6d8",
   "metadata": {},
   "outputs": [],
   "source": [
    "t = QTable([skycoords], names=[\"skycoord\"])\n",
    "t.write('skycoord.ecsv',overwrite=True)"
   ]
  },
  {
   "cell_type": "code",
   "execution_count": null,
   "id": "9d7f2b66-dc33-4357-a8ea-43306fb7fbf0",
   "metadata": {},
   "outputs": [],
   "source": [
    "# Make a single generic PSF for now\n",
    "miri = webbpsf.MIRI()\n",
    "miri.filter =  'F770W'\n",
    "c = webbpsf.gridded_library.CreatePSFLibrary(miri, filter_name='F770W', num_psfs=4, detectors='all')\n",
    "grid = c.create_grid()\n",
    "\n",
    "# Convert PSF into an astropy model to be used by photutils\n",
    "epsf_model = photutils.psf.FittableImageModel(grid.data[0,:,:],normalize=False,oversampling=4)\n",
    "epsf_model"
   ]
  },
  {
   "cell_type": "code",
   "execution_count": null,
   "id": "eb4a1272-d26a-47cc-af91-3baac2789427",
   "metadata": {},
   "outputs": [],
   "source": [
    "# Get a list of x,y coords for each star in the list\n",
    "image = lvl2[0]\n",
    "fits = ImageModel(image)\n",
    "data = fits.data\n",
    "err = fits.err\n",
    "wcs = fits.get_fits_wcs()\n",
    "x,y = skycoord_to_pixel(skycoords,wcs)\n",
    "centers = []\n",
    "for i in range(0,len(x)):\n",
    "    center = [x[i],y[i]]\n",
    "    centers.append(center)\n",
    "\n",
    "centers"
   ]
  },
  {
   "cell_type": "code",
   "execution_count": null,
   "id": "19c62405-5ba4-4b2f-bc67-7b9abaf6c8d1",
   "metadata": {},
   "outputs": [],
   "source": [
    "# Build Photometry Table\n",
    "\n",
    "bkgstat = MMMBackground()\n",
    "localbkg_estimator = LocalBackground(5, 10, bkgstat)\n",
    "psf_width = 5\n",
    "pos = Table(np.atleast_2d(centers),names=['x_0','y_0'])\n",
    "daofind = DAOStarFinder(threshold=5,fwhm=2,xycoords=np.array([pos['x_0'],pos['y_0']]).T)\n",
    "psfphot = PSFPhotometry(epsf_model, psf_width, finder=daofind, aperture_radius=psf_width, localbkg_estimator=localbkg_estimator)\n",
    "phot = psfphot(data, error=err, init_params=pos)\n",
    "phot"
   ]
  },
  {
   "cell_type": "code",
   "execution_count": null,
   "id": "a64578c6-01be-43b9-802c-11a3069835bf",
   "metadata": {},
   "outputs": [],
   "source": [
    "# Extract Flux and Fluxerr (and calculate the upper limit from the error)\n",
    "\n",
    "flux = phot['flux_fit'] # MJy/Str\n",
    "fluxerr = phot['flux_err'] # MJy/Str\n",
    "\n",
    "# Convert to magnitudes\n",
    "\n",
    "units = astropy.units.MJy\n",
    "magerr = 2.5 * np.log10(1.0 + (fluxerr/flux))\n",
    "pixel_scale = astropy.wcs.utils.proj_plane_pixel_scales(wcs)[0]  * wcs.wcs.cunit[0].to('arcsec')\n",
    "flux_units = astropy.units.MJy / astropy.units.sr * (pixel_scale * astropy.units.arcsec)**2\n",
    "flux = flux*flux_units\n",
    "fluxerr = fluxerr*flux_units\n",
    "flux = flux.to(units)\n",
    "fluxerr = fluxerr.to(units)\n",
    "mag = flux.to(astropy.units.ABmag)\n",
    "zp = mag.value+2.5*np.log10(flux.value)\n",
    "print(mag,magerr)"
   ]
  },
  {
   "cell_type": "markdown",
   "id": "5630029f-31d1-42cd-8454-225e86cabc48",
   "metadata": {},
   "source": [
    "<hr style=\"border:1px solid gray\"> </hr>"
   ]
  },
  {
   "cell_type": "markdown",
   "id": "843b5201-6f57-46f0-9da0-b738714178d3",
   "metadata": {},
   "source": [
    "<img style=\"float: center;\" src=\"https://raw.githubusercontent.com/spacetelescope/notebooks/master/assets/stsci_pri_combo_mark_horizonal_white_bkgd.png\" alt=\"Space Telescope Logo\" width=\"200px\"/>"
   ]
  },
  {
   "cell_type": "code",
   "execution_count": null,
   "id": "54dfb9ba-8b8f-4e42-98db-8b612418e440",
   "metadata": {},
   "outputs": [],
   "source": []
  }
 ],
 "metadata": {
  "kernelspec": {
   "display_name": "Python 3 (ipykernel)",
   "language": "python",
   "name": "python3"
  },
  "language_info": {
   "codemirror_mode": {
    "name": "ipython",
    "version": 3
   },
   "file_extension": ".py",
   "mimetype": "text/x-python",
   "name": "python",
   "nbconvert_exporter": "python",
   "pygments_lexer": "ipython3",
   "version": "3.10.12"
  },
  "toc-showcode": false
 },
 "nbformat": 4,
 "nbformat_minor": 5
}
