{
 "cells": [
  {
   "cell_type": "markdown",
   "id": "88836e38-fc77-4f0d-a765-db0d029c0200",
   "metadata": {},
   "source": [
    "<a id='top'></a>\n",
    "<img style=\"float: center;\" src='https://github.com/spacetelescope/jwst-pipeline-notebooks/raw/main/_static/stsci_header.png' alt=\"stsci_logo\" width=\"900px\"/> \n",
    "\n",
    "# Master Background Subtraction for Multi-Object Spectroscopy (MOS) \n",
    "\n",
    "**Authors**: Kayli Glidic (kglidic@stsci.edu); NIRSpec Instrument Team <br>\n",
    "**Created On**: June, 2024 ([JWebbinar 33](https://www.stsci.edu/jwst/science-execution/jwebbinars.html#h3-dc1c3cd6-f1aa-45c4-b73f-e93cc96ff4a7:~:text=33%20%2D%20JWST%20NIRSpec%20MOS%20Data%20Reduction))<br>\n",
    "**Updated On**: September, 2025. <br>\n",
    "**Pipeline Version**: 1.19.1 (Build 12.0, Context jwst_1413.pmap)\n",
    "\n",
    "**Purpose**:<br>\n",
    "The primary goal of this notebook is to demonstrate the master background subtraction method offered by the *James Webb Space Telescope* (JWST) Calibration Pipeline for Near-Infrared Spectrograph (NIRSpec) MOS data. \n",
    "\n",
    "**[Data](#data)**:<br>\n",
    "This notebook is set up to use observations of the 1.2 Min Zodi Benchmark Field with the PRISM disperser obtained by Proposal ID (PID) 1448, Observation 11.\n",
    "\n",
    "**[JWST pipeline version and CRDS context](#Set-CRDS-Context-and-Server)**:<br>\n",
    "This notebook was last updated with the above-specified pipeline version and associated build context for this version of the JWST Calibration Pipeline. Information about this and other contexts can be found in the JWST Calibration Reference Data System (CRDS [server](https://jwst-crds.stsci.edu/)). If you use different pipeline versions, please refer to the table [here](https://jwst-crds.stsci.edu/display_build_contexts/) to determine what context to use. To learn more about the differences for the pipeline, read the relevant [documentation](https://jwst-docs.stsci.edu/jwst-science-calibration-pipeline/jwst-operations-pipeline-build-information#references).<br>\n",
    "\n",
    "Please note that pipeline software development is a continuous process, so results in some cases may be slightly different if a subsequent version is used. **For optimal results, users are strongly encouraged to reprocess their data using the most recent pipeline version and [associated CRDS context](https://jwst-crds.stsci.edu/display_build_contexts/), taking advantage of bug fixes and algorithm improvements.**\n",
    "Any [known issues](https://jwst-docs.stsci.edu/known-issues-with-jwst-data/nirspec-known-issues/nirspec-mos-known-issues#NIRSpecFSKnownIssues-Resamplingof2-Dspectra&gsc.tab=0:~:text=MOS%20Known%20Issues-,NIRSpec%20MOS%20Known%20Issues,-Known%20issues%20specific) for this build related to master background subtraction are noted in the notebook. \n",
    "\n",
    "---\n",
    "\n",
    "## Table of Contents\n",
    "* [1. Introduction](#intro)\n",
    "* [2. Import Library](#imports)\n",
    "* [3. Directory Setup](#dir_setup)\n",
    "* [4. Download the Data](#data)\n",
    "* [5. Vetting the Background Spectra](#bkg_vetting)\n",
    "    * [5.1 Stage 2: Spec2Pipeline -- No Background Subtraction Applied](#stage2)\n",
    "    * [5.2 Check the Background Variation](#variation)\n",
    "* [6. Source and Slitlet Information: MSA Metadata File](#metadata)\n",
    "    * [6.1 Edit the MSA Metadata File for Master Background Subtraction](#metafile_mb)\n",
    "* [7. Master Background Subtraction: Pipeline Generated Master Background Spectrum](#masterbkg)\n",
    "    * [7.1 Identify Unmasked Hot/Bad Pixels](#hotbadpx)\n",
    "* [8. Master Background Subtraction: User Supplied Master Background Spectrum](#manual)\n",
    "    * [8.1 Re-extraction of 1-D Backgrounds Using Modified EXTRACT1D Reference File](#extraction)\n",
    "* [9. Conclusion](#conclusion)\n",
    "\n",
    "---\n",
    "  \n",
    "## 1. Introduction <a id='intro'></a>\n",
    "\n",
    "JWST observations detect background emission from various sources: the zodiacal cloud, Milky Way Galaxy, thermal self-emission from the observatory itself, and stray light from out-of-field sky ([JDocs](https://jwst-docs.stsci.edu/jwst-general-support/jwst-background-model)). To remove this unwanted excess signal from the spectral traces of science targets, the Space Telescope Science Institute (STScI) [JWST Calibration Pipeline](https://jwst-pipeline.readthedocs.io/en/latest/) provides two standard background subtraction methods for NIRSpec MOS observations, one of which is called \"master background\" subtraction. \n",
    "\n",
    "\n",
    "Master background subtraction is a technique implemented by the *[`MasterBackgroundMosStep`](https://jwst-pipeline.readthedocs.io/en/latest/api/jwst.master_background.MasterBackgroundMosStep.html#jwst.master_background.MasterBackgroundMosStep)* in the *[`calwebb_spec2`](https://jwst-pipeline.readthedocs.io/en/latest/jwst/pipeline/calwebb_spec2.html)* pipeline for MOS mode observations. This removal strategy relies on an independent, flux-calibrated 1-D master background spectrum, which can be provided directly by the user or generated on the fly with background data from predefined sky pixels ([Alves de Oliveira et al., 2018](https://arxiv.org/pdf/1805.06922)). For MOS observations, these come from designated background MSA slitlets (\"blank sky\" shutters assigned in the MSA configuration) within the same exposure as the science targets. The detailed list of operations performed when applying master background subtraction to MOS data during *[`calwebb_spec2`](https://jwst-pipeline.readthedocs.io/en/latest/jwst/pipeline/calwebb_spec2.html)* processing is as follows:\n",
    "\n",
    "\n",
    "\n",
    "\n",
    "1. Process all slitlets in the MOS exposure up through the [*`extract_2d`*](https://jwst-pipeline.readthedocs.io/en/stable/jwst/extract_2d/index.html) and [*`srctype`*](https://jwst-pipeline.readthedocs.io/en/stable/jwst/srctype/index.html) steps (includes: [*`assign_wcs`*](https://jwst-pipeline.readthedocs.io/en/latest/jwst/assign_wcs/main.html), [*`imprint`*](https://jwst-pipeline.readthedocs.io/en/stable/jwst/imprint/index.html), [*`msa_flagging`*](https://jwst-pipeline.readthedocs.io/en/stable/jwst/msaflagopen/index.html), and optionally [*`nsclean`*](https://jwst-pipeline.readthedocs.io/en/latest/jwst/nsclean/index.html#nsclean-step)).\n",
    "2. The [*`MasterBackgroundMosStep`*](https://jwst-pipeline.readthedocs.io/en/latest/api/jwst.master_background.MasterBackgroundMosStep.html#jwst.master_background.MasterBackgroundMosStep) step temporarily applies remaining calibration steps up through [*`photom`*](https://jwst-pipeline.readthedocs.io/en/stable/jwst/photom/index.html) to all slits, treating them all as extended sources (appropriate for background signal), and saving the extended source correction arrays for each slit in an internal copy of the data model (includes: [*`flat_field`*](https://jwst-pipeline.readthedocs.io/en/stable/jwst/flatfield/index.html#flatfield-step), [*`barshadow`*](https://jwst-pipeline.readthedocs.io/en/stable/jwst/barshadow/index.html), [*`wavecorr`*](https://jwst-pipeline.readthedocs.io/en/stable/jwst/wavecorr/index.html), [*`pathloss`*](https://jwst-pipeline.readthedocs.io/en/stable/jwst/pathloss/index.html)).\n",
    "3. <a id='step3'></a> If a user-supplied master background spectrum is not given, the [*`resample_spec`*](https://jwst-pipeline.readthedocs.io/en/stable/jwst/resample/index.html) and [*`extract_1d`*](https://jwst-pipeline.readthedocs.io/en/stable/jwst/extract_1d/index.html) steps are applied to the calibrated background slits, resulting in extracted 1-D background spectra.\n",
    "4. The 1-D background spectra are combined, using the [*`combine_1d`*](https://jwst-pipeline.readthedocs.io/en/stable/jwst/combine_1d/index.html) step, into a master background spectrum.\n",
    "5. If a user-supplied master background is given, steps 3 and 4 are skipped and the user-supplied spectrum is inserted into the processing flow.\n",
    "6. The master background spectrum (either user-supplied or created on-the-fly) is expanded into the 2-D space of each slit.\n",
    "7. The 2-D background “image” for each slit is processed in **inverse** mode through the [*`photom`*](https://jwst-pipeline.readthedocs.io/en/stable/jwst/photom/index.html), [*`barshadow`*](https://jwst-pipeline.readthedocs.io/en/stable/jwst/barshadow/index.html), [*`pathloss`*](https://jwst-pipeline.readthedocs.io/en/stable/jwst/pathloss/index.html), and [*`flat_field`*](https://jwst-pipeline.readthedocs.io/en/stable/jwst/flatfield/index.html#flatfield-step) steps, using the correction arrays that were computed in step 2, so that the background data now matches the partially calibrated background signal in each slit.\n",
    "8. The corrected 2-D background is subtracted from each open slitlet.\n",
    "9. The background-subtracted slits are processed through all remaining *`calwebb_spec2`* calibration steps, using the corrections appropriate for the source type in each slit.\n",
    "\n",
    "[More Info ...](https://jwst-pipeline.readthedocs.io/en/stable/jwst/master_background/description.html#nirspec-master-background-corrections:~:text=Fixed%2DSlit%20exposures.-,NIRSpec%20MOS%20Mode,-Master%20background%20subtraction)"
   ]
  },
  {
   "cell_type": "markdown",
   "id": "51507a4d-01c2-452f-9426-b1466438b357",
   "metadata": {},
   "source": [
    "---\n",
    "\n",
    "## 2. Import Library <a id='imports'></a>\n"
   ]
  },
  {
   "cell_type": "markdown",
   "id": "9fdc9df9",
   "metadata": {},
   "source": [
    "### Set CRDS Context and Server\n",
    "Before importing `CRDS` and `JWST` modules, we need to configure our environment. This includes defining a CRDS cache directory in which to keep the reference files that will be used by the calibration pipeline. If the local CRDS cache directory has not been set, it will automatically be created in the home directory.<br><br>\n",
    "[Build Context Table](https://jwst-crds.stsci.edu/display_build_contexts/)"
   ]
  },
  {
   "cell_type": "code",
   "execution_count": null,
   "id": "4ad463d4",
   "metadata": {},
   "outputs": [],
   "source": [
    "# ------------------------Set CRDS context and paths------------------------\n",
    "\n",
    "# Each version of the calibration pipeline is associated with a specific CRDS\n",
    "# context file. The pipeline will select the appropriate context file behind\n",
    "# the scenes while running. However, if you wish to override the default context\n",
    "# file and run the pipeline with a different context, you can set that using\n",
    "# the CRDS_CONTEXT environment variable. Here we show how this is done,\n",
    "# although we leave the line commented out in order to use the default context.\n",
    "# If you wish to specify a different context, uncomment the line below.\n",
    "#os.environ['CRDS_CONTEXT'] = 'jwst_1413.pmap'  # CRDS context for 1.19.1\n",
    "\n",
    "import os\n",
    "\n",
    "# Set CRDS cache directory to user home if not already set.\n",
    "if os.getenv('CRDS_PATH') is None:\n",
    "    os.environ['CRDS_PATH'] = os.path.join(os.path.expanduser('~'), 'crds_cache')\n",
    "\n",
    "# Check whether the CRDS server URL has been set. If not, set it.\n",
    "if os.getenv('CRDS_SERVER_URL') is None:\n",
    "    os.environ['CRDS_SERVER_URL'] = 'https://jwst-crds.stsci.edu'\n",
    "\n",
    "# Output the current CRDS path and server URL in use.\n",
    "print('CRDS local filepath:', os.environ['CRDS_PATH'])\n",
    "print('CRDS file server:', os.environ['CRDS_SERVER_URL'])"
   ]
  },
  {
   "cell_type": "markdown",
   "id": "7c066891",
   "metadata": {},
   "source": [
    "<div class=\"alert alert-block alert-info\">\n",
    "\n",
    "Installation instructions for the JWST pipeline found here: [JDox](https://jwst-docs.stsci.edu/jwst-science-calibration-pipeline-overview) •\n",
    "[ReadtheDocs](https://jwst-pipeline.readthedocs.io) •\n",
    "[Github](https://github.com/spacetelescope/jwst)\n",
    "\n",
    "</div>"
   ]
  },
  {
   "cell_type": "code",
   "execution_count": null,
   "id": "54d5e313-411b-4162-b2ae-ed93f3cfeff8",
   "metadata": {},
   "outputs": [],
   "source": [
    "# ------ General Imports ------\n",
    "import glob\n",
    "import json\n",
    "import time as tt\n",
    "import warnings\n",
    "import logging\n",
    "import matplotlib.pyplot as plt\n",
    "from astropy.io import fits\n",
    "from astroquery.mast import Observations\n",
    "\n",
    "# ------ JWST Imports ------\n",
    "import crds\n",
    "import jwst\n",
    "from stpipe import crds_client\n",
    "from crds.client import api\n",
    "from jwst.pipeline import Spec2Pipeline\n",
    "from jwst.extract_1d import Extract1dStep\n",
    "\n",
    "# ------ Convenience Function Imports ------\n",
    "from master_background_plot_tools import plot_spectra, metafile_editor\n",
    "from master_background_plot_tools import manually_define_dq_flags, mean_background_variations\n",
    "\n",
    "# Hide all log and warning messages.\n",
    "logging.disable(logging.ERROR)\n",
    "warnings.simplefilter(\"ignore\", RuntimeWarning)\n",
    "\n",
    "# Set the default font size for all plots.\n",
    "plt.rcParams.update({'font.size': 12})\n",
    "\n",
    "# Print the JWST pipeline version and the default CRDS context for that version.\n",
    "default_context = crds.get_default_context('jwst', state='build')\n",
    "print(\"JWST Calibration Pipeline Version = {}\".format(jwst.__version__))\n",
    "print(f\"Default CRDS Context for JWST Version {jwst.__version__}: {default_context}\")\n",
    "print(f\"Using CRDS Context: {os.environ.get('CRDS_CONTEXT', default_context)}\")"
   ]
  },
  {
   "cell_type": "markdown",
   "id": "3658b79b-8821-4f72-84fa-1af60ce09128",
   "metadata": {},
   "source": [
    "---\n",
    "\n",
    "## 3. Directory Setup <a id='dir_setup'></a>\n"
   ]
  },
  {
   "cell_type": "code",
   "execution_count": null,
   "id": "aceb626f-e1ec-48bc-b707-1af35e51089a",
   "metadata": {},
   "outputs": [],
   "source": [
    "# To rerun the notebook set runflag=True.\n",
    "runflag = True\n",
    "\n",
    "# Define a parent output directory.\n",
    "output_dir = './masterbkg_subtraction_MOS_demo/'\n",
    "if not os.path.exists(output_dir):\n",
    "    os.makedirs(output_dir)"
   ]
  },
  {
   "attachments": {},
   "cell_type": "markdown",
   "id": "1d9e1870-3dd0-49ed-845e-741d0828dd81",
   "metadata": {},
   "source": [
    "---\n",
    "\n",
    "## 4. Download the Data <a id='data'></a>\n",
    "\n",
    "This notebook is using commissioning data from JWST proposal [1448](https://www.stsci.edu/jwst/science-execution/program-information?id=1448) Observation 11, which looked at the background in the 1.2 Min Zodi Benchmark Field, where the zodical background is 1.2 times higher than the celestial minimum. All open slitlets in this dataset's MSA configuration observed background. \n",
    "\n",
    "<div class=\"alert alert-block alert-info\"> \n",
    "    \n",
    "<b>Tip:</b> The data in this notebook is public and does not require a MAST token. To download other non-public datasets from MAST, you must input your MAST authorization token. Get your MAST Token Here: https://auth.mast.stsci.edu/token. To utilize ASTROQUERY for downloading, please follow the [documented installation procedures](https://astroquery.readthedocs.io/en/latest/).\n",
    "\n",
    "\n",
    "    \n",
    "</div> \n",
    "\n",
    "| Target: 1.2 Min Zodi Benchmark Field | | |\n",
    "|:-----------:|:-------:|---|\n",
    "| Proposal ID | [1448](https://www.stsci.edu/jwst/science-execution/program-information?id=1448) |\n",
    "| [GRATING/FILTER](https://jwst-docs.stsci.edu/jwst-near-infrared-spectrograph/nirspec-instrumentation/nirspec-dispersers-and-filters)   | PRISM/CLEAR | λ: 0.6–5.3 μm (a low resolution, R ~ 100) |\n",
    "|   DURATION  | 3545.1 [s] | Total duration of one exposure |\n",
    "|   READPATT  | NRSIRS2RAPID | Readout Pattern |\n",
    "|   NOD_TYPE  | 3-SHUTTER-SLITLET | Nod pattern type |\n",
    "|   NUMDTHPT  | 3 | Total number of points in pattern |\n",
    "|   SRCTYAPT  | UNKNOWN | Source Type selected in APT |\n",
    "\n",
    "> **Note:** For MOS observations, there are gaps in spectral coverage caused by the physical distance between the two detectors, referred to as detector wavelength gaps. The range of wavelengths lost in the gap is different for different shutters in the MSA since the spectra from different shutters map to different locations on the detectors. Unlike fixed slits (FS) and integral field unit (IFU) observations, which suffer wavelength gap losses only in the R ~ 2,700 high spectral resolution mode, all grating and filter combinations for MOS observations have shutters that lose wavelengths to the gap. [More](https://jwst-docs.stsci.edu/jwst-near-infrared-spectrograph/nirspec-observing-modes/nirspec-multi-object-spectroscopy#NIRSpecMultiObjectSpectroscopy-Detectorwavelengthgaps) [Info ...](https://jwst-docs.stsci.edu/jwst-near-infrared-spectrograph/nirspec-instrumentation/nirspec-dispersers-and-filters)\n",
    "\n",
    "In this notebook, we focus on one of the nodded exposures in this dataset. The cell below downloads one pre-processed countrate (*`_rate.fits`*) file and the corresponding MSA metadata file (*`_msa.fits`*) available in MAST. MAST products will be saved to a folder named `mast_products` within the designated output parent directory defined earlier in this notebook."
   ]
  },
  {
   "cell_type": "code",
   "execution_count": null,
   "id": "b74f6574-05cf-4901-8497-6c8cd838a12a",
   "metadata": {},
   "outputs": [],
   "source": [
    "# Create a directory for the downloaded data from MAST.\n",
    "mast_products_dir = output_dir+'mast_products/'\n",
    "if not os.path.exists(mast_products_dir):\n",
    "    os.makedirs(mast_products_dir)"
   ]
  },
  {
   "cell_type": "code",
   "execution_count": null,
   "id": "333c63f2-9661-447a-8b6c-c73dee2ec48d",
   "metadata": {},
   "outputs": [],
   "source": [
    "# Download data from MAST.\n",
    "\n",
    "# Setup your account.\n",
    "\n",
    "# NOTE:\n",
    "# The data in this notebook is public and does not require a token.\n",
    "# For other data sets, uncomment the following line and enter your\n",
    "# token at the prompt.\n",
    "\n",
    "# Observations.login(token=None)\n",
    "sessioninfo = Observations.session_info()\n",
    "\n",
    "# Define the general search criteria.\n",
    "obs = Observations.query_criteria(\n",
    "        obs_collection='JWST',\n",
    "        instrument_name=['NIRSPEC/MSA'],\n",
    "        proposal_id='1448',\n",
    "        obs_id='jw01448-o011_v000000001_nirspec_clear-prism')  # Observation 11.\n",
    "\n",
    "# Print the list of products returned from the general serach criteria.\n",
    "products = Observations.get_product_list(obs)\n",
    "\n",
    "# Filter the list of products returned from the general search criteria.\n",
    "filtered = Observations.filter_products(products,\n",
    "                                        productSubGroupDescription=[\"RATE\", \"MSA\"],\n",
    "                                        mrp_only=False)\n",
    "\n",
    "# Second filter: Grab one of the nod exposures for NRS2 and the MSA metadata file.\n",
    "secondary_filtered = [entry for entry in filtered\n",
    "                      if '_00001_nrs2' in entry['obs_id'] or 'msa' in entry['obs_id']]\n",
    "\n",
    "# Print the secondary filtered products.\n",
    "for k in secondary_filtered:\n",
    "    print(k['productFilename'])\n",
    "\n",
    "# Download the filtered products.\n",
    "# This creates a mastDownload directory,\n",
    "# unless you set flat=True and set a download_dir.\n",
    "for i in range(len(secondary_filtered)):\n",
    "    Observations.download_products(secondary_filtered[i], mrp_only=False, cache=True,\n",
    "                                   flat=True, download_dir=mast_products_dir)"
   ]
  },
  {
   "cell_type": "code",
   "execution_count": null,
   "id": "92b10f11-41f2-4d74-adec-49fc4f9c3ce8",
   "metadata": {},
   "outputs": [],
   "source": [
    "# Download the most up-to-date barshadow correction reference file.\n",
    "# This data was taken before the USEAFTER date set\n",
    "# on the new barshadow reference file so we must manually override it.\n",
    "refs = api.dump_references(crds_client.get_context_used('jwst'),\n",
    "                           ['jwst_nirspec_barshadow_0006.fits'])\n",
    "barshadow_reffile = refs['jwst_nirspec_barshadow_0006.fits']\n",
    "\n",
    "print(f\"The barshadow reference file was saved to : {barshadow_reffile}\")"
   ]
  },
  {
   "cell_type": "markdown",
   "id": "7dba6442-7875-47d3-8f06-f76022e03eb6",
   "metadata": {},
   "source": [
    "---\n",
    "\n",
    "## 5. Vetting the Background Spectra <a id='bkg_vetting'></a>\n",
    "\n",
    "Should contaminated backgrounds, like those affected by stray light or unmasked hot/bad pixels, be utilized in generating the master background, they will impact both the quality of the master background and the resulting background-subtracted spectra. Notably, unmasked hot pixels introduce positive spikes in the master background spectrum, which then translate to negative spikes in the final background-subtracted spectra. These pixels should be addressed before creating a master background. \n",
    "\n",
    "**To achieve the best results with master background subtraction, we recommend that users first check/vet their input background spectra before any additional processing.** In the following cells, we calibrate (without applying background subtraction steps), extract, and analyze each background spectrum. We identify uncontaminated background spectra to create a master background. Later in the notebook ([Section 7.1](#hotbadpx)), we demonstrate a manual method for identifying unflagged hot/bad pixels and updating their corresponding DQ flags."
   ]
  },
  {
   "cell_type": "code",
   "execution_count": null,
   "id": "9cda4b5d-9ab7-4d2d-b830-9b27085ebdbc",
   "metadata": {},
   "outputs": [],
   "source": [
    "# Create a directory for the calibrated products with no background subtraction applied.\n",
    "output_dir_NObkg = output_dir+'nirspec_product_files_NObkg/'\n",
    "if not os.path.exists(output_dir_NObkg):\n",
    "    os.makedirs(output_dir_NObkg)"
   ]
  },
  {
   "cell_type": "markdown",
   "id": "73ae19c9-4847-486c-b4a8-6927849f07be",
   "metadata": {},
   "source": [
    "---\n",
    "\n",
    "### 5.1 Stage 2: Spec2Pipeline -- No Background Subtraction Applied <a id='stage2'></a>\n",
    "\n",
    "Initially, we process each background spectrum using the default settings and parameters employed by the *[MasterBackgroundMosStep](https://jwst-pipeline.readthedocs.io/en/latest/api/jwst.master_background.MasterBackgroundMosStep.html#jwst.master_background.MasterBackgroundMosStep)* within *[calwebb_spec2](https://jwst-pipeline.readthedocs.io/en/latest/jwst/pipeline/calwebb_spec2.html)*. This provides users with an insight into the appearance of the background spectra that are extracted behind the scenes in the *[MasterBackgroundMosStep](https://jwst-pipeline.readthedocs.io/en/latest/api/jwst.master_background.MasterBackgroundMosStep.html#jwst.master_background.MasterBackgroundMosStep)*.\n",
    "\n",
    "<div class=\"alert alert-block alert-info\"> \n",
    "\n",
    "<b>Note:</b> Prior to Build 11.2 there was a known bug in the *`MasterBackgroundMosStep`* that prevented users from overriding parameters or reference files for the [*`resample_spec`*](https://jwst-pipeline.readthedocs.io/en/stable/jwst/resample/index.html) and [*`extract_1d`*](https://jwst-pipeline.readthedocs.io/en/stable/jwst/extract_1d/index.html) steps called during the extraction of background slits ([Step 3](#step3) in the processing). This bug has been fixed in Build 11.2. However, users working with an older version of the pipeline who wish to modify the default settings for these steps should create and provide a 1-D master background spectrum to the pipeline (demonstrated partially in [Section 7](#manual)).\n",
    "</div>"
   ]
  },
  {
   "cell_type": "code",
   "execution_count": null,
   "id": "5af82934-43e1-449a-a0a1-5ee1202e4d43",
   "metadata": {
    "scrolled": true
   },
   "outputs": [],
   "source": [
    "# Stage 2 Processing -- No Background Subtraction Applied.\n",
    "# Estimated runtime: ~13 minutes.\n",
    "start = tt.time()\n",
    "\n",
    "if runflag:\n",
    "\n",
    "    # Process each rate file seperately.\n",
    "    for rate_file in sorted(glob.glob(mast_products_dir+'*rate.fits')):\n",
    "\n",
    "        # Ensure each rate file is pointing to the original MSA metadata file.\n",
    "        with fits.open(rate_file, 'update') as ratefile_hdu:\n",
    "            ratefile_hdu[0].header['MSAMETFL'] = (\n",
    "                mast_products_dir + 'jw01448011001_01_msa.fits')\n",
    "        ratefile_hdu.close()\n",
    "\n",
    "        print(\"Applying Stage 2 Calibrations & Corrections to: \" +\n",
    "              os.path.basename(rate_file))\n",
    "\n",
    "        # Adjust `slit_y_low`/`slit_y_high` as needed to center slitlet in 2-D cutout.\n",
    "        spec2_params = {'assign_wcs': {'slit_y_low': -0.55, 'slit_y_high': 0.35},\n",
    "                        'master_background_mos': {'skip': True}, # Skip master backgrond.\n",
    "                        'bkg_subtract': {'skip': True},  # Skip pixel-to-pixel backgrond.\n",
    "                        # Override for newest barshadow reference file - optional.\n",
    "                        'barshadow': {'override_barshadow': barshadow_reffile}}\n",
    "\n",
    "        Spec2Pipeline.call(rate_file, save_results=True,\n",
    "                           output_dir=output_dir_NObkg, steps=spec2_params)\n",
    "\n",
    "    print(\"Hurray! Stage 2 Processing Complete.\")\n",
    "\n",
    "end = tt.time()\n",
    "print(\"Run time: \", round(end - start, 1) / 60.0, \" min\")"
   ]
  },
  {
   "cell_type": "markdown",
   "id": "95509d63-ec28-4cae-b9b8-df8a7d8e88e4",
   "metadata": {},
   "source": [
    "---\n",
    "\n",
    "### 5.2 Check the Background Variation <a id='variation'></a>\n",
    "\n",
    "The following cell generates a plot showing individual background spectra overlaid with a sigma-clipped mean. \n",
    "\n",
    "Before computing the mean, the code filters out contaminated backgrounds based on their deviation from the median background spectrum, using a specified threshold. You can adjust this threshold and the sigma parameter for clipping to reduce the influence of outliers such as hot pixels and eliminate contaminated spectra. The plot also includes the coefficient of variation calculated between the background spectra and the sigma-clipped mean.\n",
    "\n",
    "Additionally, if `save_mb` is set to True, the code generates and returns an X1D FITS file containing the calculated mean background spectrum. This file can later be used to provide the pipeline with a user-supplied 1D master background, as described in [Section 7](#manual). Also note that this is just one example of how to create your own master background — it's not the only method.\n",
    "\n",
    "\n",
    "**NOTE**: By default, all background slits identified in the MSA metadata `SHUTTER_INFO` table are plotted. Alternatively, if a specific list of background slits is provided, only those slits are plotted. "
   ]
  },
  {
   "cell_type": "code",
   "execution_count": null,
   "id": "051fa731-585b-43aa-b5a3-a7d2e03c07a1",
   "metadata": {
    "scrolled": true
   },
   "outputs": [],
   "source": [
    "x1d_files = sorted(glob.glob(output_dir_NObkg+'*nrs2_x1d.fits'))\n",
    "all_slits = list(map(str, list(range(2, 237))))  # All slit names for this dataset.\n",
    "\n",
    "# Original MSA metadata file path.\n",
    "metafile_og = mast_products_dir + 'jw01448011001_01_msa.fits'\n",
    "\n",
    "good_bkg_slits = mean_background_variations(x1d_files, metafile_og,\n",
    "                                            bin_wavelengths=False,\n",
    "                                            vetted_backgrounds=all_slits,\n",
    "                                            mad_threshold=5, sigma=3,\n",
    "                                            mean_color='tab:blue',\n",
    "                                            y_lim=None, save_mb=False)"
   ]
  },
  {
   "cell_type": "markdown",
   "id": "9ceb485a-173a-4a01-8a96-4418c9e4cfed",
   "metadata": {},
   "source": [
    "\n",
    "The subset of background slits chosen below have been pre-selected for this demo to save time in processing. We intentionally include some spectra with hot pixels to illustrate their impact when incorporated into the creation of the 1D master background spectrum in the pipeline."
   ]
  },
  {
   "cell_type": "code",
   "execution_count": null,
   "id": "41a9bc4b-cfbf-4225-8998-d3276fefba3f",
   "metadata": {},
   "outputs": [],
   "source": [
    "print(sorted(good_bkg_slits, key=int))\n",
    "\n",
    "# Choose which background slits to use for the rest of the demo.\n",
    "demo_background_slits = ['2', '9', '14', '38', '43']"
   ]
  },
  {
   "cell_type": "code",
   "execution_count": null,
   "id": "60c37148-5d50-443f-934a-6bbc150d224d",
   "metadata": {},
   "outputs": [],
   "source": [
    "# Plot the master background subtracted spectra.\n",
    "s2d_nobkg_files = sorted(glob.glob(output_dir_NObkg+'*nrs2_s2d.fits'))\n",
    "x1d_nobkg_files = sorted(glob.glob(output_dir_NObkg+'*nrs2_x1d.fits'))\n",
    "\n",
    "plot_spectra(s2d_nobkg_files, x1d_nobkg_files, slit_names=demo_background_slits,\n",
    "             scale=1, cmap='RdBu', figsize=(10, 8), fill_nan=False, hist=False,\n",
    "             ycolor='black', ecolor='tab:blue', plot_errors=True)"
   ]
  },
  {
   "cell_type": "markdown",
   "id": "a9a01313-ab33-45f3-94e3-d968cc9b989c",
   "metadata": {},
   "source": [
    "---\n",
    "\n",
    "## 6. Source and Slitlet Information: MSA Metadata File <a id='metadata'></a>\n",
    "\n",
    "The MSA metadata file is an essential processing component for MOS data in *[`calwebb_spec2`](https://jwst-pipeline.readthedocs.io/en/latest/jwst/pipeline/calwebb_spec2.html)* processing. The MSA metadata file is a FITS file generated by the [MSA Planning Tool](https://jwst-docs.stsci.edu/jwst-near-infrared-spectrograph/nirspec-apt-templates/nirspec-multi-object-spectroscopy-apt-template/nirspec-msa-planning-tool-mpt). The file contains the MSA shutter configuration image (`SHUTTER_IMAGE`) and two binary tables: `SHUTTER_INFO` and `SOURCE_INFO`. \n",
    "\n",
    "\n",
    "The `SHUTTER_INFO` table specifies all the slitlets having one or more open shutters based on the MSA configuration for that observation.  \n",
    "\n",
    "|SHUTTER_INFO| |\n",
    "|:-:|:-|\n",
    "| `SLITLET_ID` |integer number representing each slitlet of one or more open shutters specified in the MSA configuration|  \n",
    "| `MSA_METADATA_ID` | integer number corresponding to a particular MSA configuration/MPT plan (typically the same for all rows in a given metafile) |\n",
    "| `SHUTTER_*` | integer ID of the MSA quadrant, row, and shutter for each commanded open shutter in the configuration; note that \"column\" and \"row\" are defined in an instrument frame of reference, which is reversed in the science frame (e.g., columns are in the cross-dispersion direction, and vice-versa for rows) |\n",
    "|`SOURCE_ID`| unique integer ID for each source in each slitlet, used for matching to the SOURCE_INFO table |\n",
    "|`BACKGROUND`| boolean indicating whether the shutter is open to background (Y) or contains a known source (N) (for a given nod exposure if the observation includes nodding)| \n",
    "|`SHUTTER_STATE`|generally this will always be OPEN, unless a long slit was used |\n",
    "|`ESTIMATED_SOURCE_IN_SHUTTER_X/Y`| the position of the source within the shutter in relative units (where 0,0 is the bottom left corner and 0.5,0.5 is the center), as planned in MPT |\n",
    "|`DITHER_POINT_INDEX`|integer specifying the index of the nod sequence; matches with the data primary header keyword PATT_NUM| \n",
    "|`PRIMARY_SOURCE`|boolean indicating whether the shutter contains the science source|\n",
    "[More Info ...](https://jwst-docs.stsci.edu/jwst-calibration-pipeline-caveats/jwst-nirspec-mos-pipeline-caveats#JWSTNIRSpecMOSPipelineCaveats-msa_metafileMetadataforsourceandslitletinformation)\n",
    "\n",
    "\n",
    "The `SOURCE_INFO` table contains information on each source in the plan.\n",
    "\n",
    "|SOURCE_INFO| |\n",
    "|:-:|:-|\n",
    "| `PROGRAM` | program ID |   \n",
    "| `SOURCE_ID` |unique integer identifier|   |\n",
    "| `SOURCE_NAME`| typically a combination of the first two columns|\n",
    "| `ALIAS`| integer identifier from the original source catalog (TBC) |    |   |\n",
    "| `RA`/`DEC` | catalog source coordinates, in decimal degrees   |   |\n",
    "| `PREIMAGE_ID` | name of NIRCam pre-imaging mosaic used to determine the source catalog, if it exists  |   | \n",
    "|`STELLARITY`|DAOphot-style stellarity parameter, where 0 is fully extended and 1 is a perfect point source|   |  \n",
    "[More Info ...](https://jwst-docs.stsci.edu/jwst-calibration-pipeline-caveats/jwst-nirspec-mos-pipeline-caveats#JWSTNIRSpecMOSPipelineCaveats-msa_metafileMetadataforsourceandslitletinformation)\n",
    ">\n",
    "\n",
    "<div class=\"alert alert-block alert-info\">\n",
    "\n",
    "<b>Note:</b> In countrate FITS files (*_rate.fits*), the primary header keyword (`MSAMETFL`) specifies the name of the MSA metadata file. The pipeline will reference this keyword to determine what file to use during processing. The pipeline will also expect the file to be in the same directory as the countrate products.\n",
    "</div> "
   ]
  },
  {
   "cell_type": "markdown",
   "id": "55734059-31ef-4f02-abcc-56590c033f15",
   "metadata": {},
   "source": [
    "---\n",
    "### 6.1 Edit the MSA Metadata File for Master Background Subtraction <a id='metafile_mb'></a>\n",
    "\n",
    "In the [Import Library](#imports), we introduce the `metafile_editor` function, tailored for this example dataset, which generates a modified MSA metadata file for master background subtraction. The modified MSA metadata file should exclusively contain slitlets with vetted backgrounds and science sources. In the `SHUTTER_INFO` table, background slitlets will have the background column marked as yes ('Y'), while slitlets with science sources will have the primary_source column marked as yes ('Y'). Additionally, each science source must be assigned a stellarity value in the `SOURCE_INFO` table. Any source with a stellarity value > 0.75 is classified as a point source, while a value between 0 and 0.75 gets classified as an extended source by the pipeline. If any source passed to `metafile_editor` is designated as a point source, its stellarity value will be set to 1.0.\n",
    "\n",
    "To create a new MSA metadata file using `metafile_editor`, users must provide the following: \n",
    "\n",
    "* A list of tuples with the names of slitlets containing sources along with their corresponding source types, for example: (236, 'extended').\n",
    "* A list of MSA slitlet names containing the vetted backgrounds.\n",
    "* A path to the directory containing the original MSA metadata file downloaded from MAST.\n",
    "\n",
    "Provided all the above-required parameters, the function will return the path to the newly created MSA metadata file. Users also have the option to display the new `SHUTTER_INFO` and `SOURCE_INFO` MSA metadata file tables by setting `show_tables=True`. The modified MSA metadata file for master background subtraction will have a suffix of *`_mb.fits`*. "
   ]
  },
  {
   "cell_type": "code",
   "execution_count": null,
   "id": "3126d5b1-e8f8-4870-81d7-f8e1bfcfdba2",
   "metadata": {},
   "outputs": [],
   "source": [
    "# Set the source and background slitlets.\n",
    "# Can treat the source as a point source if desired.\n",
    "source_slitlets = [('38', 'extended')]\n",
    "demo_background_slits_meta = ['2', '9', '14', '43']\n",
    "\n",
    "# Generate the master background subtraction MSA metadata data file.\n",
    "metafile_mb = metafile_editor(source_slitlets, metafile_og,\n",
    "                              bkg_slitlets=demo_background_slits_meta,\n",
    "                              show_tables=True)"
   ]
  },
  {
   "cell_type": "markdown",
   "id": "c9d0b456-1208-4ca0-ba1a-48563b333b20",
   "metadata": {},
   "source": [
    "---\n",
    "\n",
    "## 7. Master Background Subtraction: Pipeline Generated Master Background Spectrum <a id='masterbkg'></a>\n",
    "\n",
    "Process the MOS data using the modified MSA metadata file. The MSA metadata file will instruct the pipeline on which slits to extract a 1-D background spectrum from. \n",
    "\n",
    "<div class=\"alert alert-block alert-info\">\n",
    "\n",
    "<b>Note:</b> Prior to pipeline build 11.2, the *`MasterBackgroundMosStep`* would combine all extracted 1-D background spectra using a weighted average via the [*`combine_1d`*](https://jwst-pipeline.readthedocs.io/en/latest/jwst/combine_1d/description.html) step. However, this method often produced a contaminated master background spectrum, as it did not effectively filter out outlier pixels or spectra affected by source contamination and would require users to supply the 1-D master background. Beginning with build 11.2, the pipeline introduced two important parameters — [*`median_kernel`* and *`sigma_clip`*](https://jwst-pipeline.readthedocs.io/en/latest/jwst/master_background/arguments.html) — to the *`master_background_mos`* step to improve the quality of the resulting 1-D master background spectrum. For the purpose of this demonstration, however, we deliberately disable these parameters to illustrate the impact of using unfiltered background spectra.\n",
    "\n",
    "</div> \n"
   ]
  },
  {
   "cell_type": "code",
   "execution_count": null,
   "id": "3a790594-8b7a-402a-b76b-da53fec135f1",
   "metadata": {},
   "outputs": [],
   "source": [
    "# Output directory for the master background.\n",
    "output_dir_masterbkg = output_dir+'nirspec_product_files_masterbkg/'\n",
    "if not os.path.exists(output_dir_masterbkg):\n",
    "    os.makedirs(output_dir_masterbkg)"
   ]
  },
  {
   "cell_type": "code",
   "execution_count": null,
   "id": "287d710e-4fc6-44a5-bd0a-564a6a5786c9",
   "metadata": {},
   "outputs": [],
   "source": [
    "# Stage 2 Processing -- Master Background Subtraction Applied.\n",
    "# Pipeline generated 1-D master background spectrum.\n",
    "# Estimated runtime: ~13 minutes.\n",
    "start = tt.time()\n",
    "\n",
    "if runflag:\n",
    "\n",
    "    # Process each rate file seperately.\n",
    "    for rate_file in sorted(glob.glob(mast_products_dir+'*rate.fits')):\n",
    "        \n",
    "        # Update the MSA metadata file for master background subtraction.\n",
    "        print(\"Changing MSAMETFL Keyword for {}\".format(os.path.basename(rate_file)))\n",
    "        with fits.open(rate_file, 'update') as ratefile_hdu:\n",
    "            ratefile_hdu[0].header['MSAMETFL'] = os.path.basename(metafile_mb)\n",
    "        ratefile_hdu.close()\n",
    "\n",
    "        print(\"Applying Stage 2 Calibrations & Corrections to: \" +\n",
    "              os.path.basename(rate_file))\n",
    "\n",
    "        # Adjust `slit_y_low`/`slit_y_high` as needed to center slitlet in 2-D cutout.\n",
    "        spec2_params = {'assign_wcs': {'slit_y_low': -0.55, 'slit_y_high': 0.35},\n",
    "                        # Save generated master background.\n",
    "                        'master_background_mos': {'skip': False,\n",
    "                                                  'save_background': True,\n",
    "                                                  # New important parameters to improve master background.\n",
    "                                                  # We turn them off for this demo to show the impact of\n",
    "                                                  # using unfiltered background spectra.\n",
    "                                                  'median_kernel': 1,\n",
    "                                                  'sigma_clip': None,\n",
    "                                                  'steps': {'barshadow':\n",
    "                                                            {'override_barshadow': barshadow_reffile}}},\n",
    "                        'bkg_subtract': {'skip': True}, # Skip pixel-to-pixel.\n",
    "\n",
    "                        # Fill non-science pixels with NaNs in the final\n",
    "                        # background-subtracted resampled spectra (not 0's)\n",
    "                        # so they don't get included in Extract1D step.\n",
    "                        # Use resample weight type ivm as it lets through less outliers.\n",
    "                        'resample_spec': {'fillval': 'nan', 'weight_type': 'ivm'},\n",
    "                        # Override to use the newest barshadow file.\n",
    "                        'barshadow': {'override_barshadow': barshadow_reffile}}\n",
    "\n",
    "        Spec2Pipeline.call(rate_file, save_results=True,\n",
    "                           output_dir=output_dir_masterbkg, steps=spec2_params)\n",
    "\n",
    "        print(\"Hurray! Stage 2 Processing Complete.\")\n",
    "\n",
    "end = tt.time()\n",
    "print(\"Run time: \", round(end - start, 1) / 60.0, \" min\")"
   ]
  },
  {
   "cell_type": "code",
   "execution_count": null,
   "id": "1be78e10-97b1-49fb-a71b-506f179056d2",
   "metadata": {
    "scrolled": true
   },
   "outputs": [],
   "source": [
    "# Plot the 1-D and 2-D master background spectra.\n",
    "mb_2d = sorted(glob.glob(output_dir_masterbkg+'*_masterbg2d.fits'))\n",
    "mb_1d = sorted(glob.glob(output_dir_masterbkg+'*_masterbg1d.fits'))\n",
    "\n",
    "plot_spectra(mb_2d, mb_1d, slit_names=demo_background_slits, hist=False,\n",
    "             scale=1, cmap='RdBu', figsize=(10, 20), MB=True)"
   ]
  },
  {
   "cell_type": "code",
   "execution_count": null,
   "id": "24e16217-88f9-447a-a3a6-0acf30b2a841",
   "metadata": {},
   "outputs": [],
   "source": [
    "# Plot the master background subtracted spectra.\n",
    "s2d_mb_files = sorted(glob.glob(output_dir_masterbkg+'*_s2d.fits'))\n",
    "x1d_mb_files = sorted(glob.glob(output_dir_masterbkg+'*_x1d.fits'))\n",
    "\n",
    "plot_spectra(s2d_mb_files, x1d_mb_files, slit_names=demo_background_slits,\n",
    "             scale=1, cmap='RdBu', figsize=(10, 8), hist=True, bins=50,\n",
    "             fill_nan=False, ycolor='black', ecolor='tab:blue', plot_errors=True)"
   ]
  },
  {
   "cell_type": "markdown",
   "id": "7beeed86-3344-4c69-994f-3d0a14821101",
   "metadata": {},
   "source": [
    "<div class=\"alert alert-block alert-info\">\n",
    "\n",
    "\n",
    "<b>Notes:</b> \n",
    "* The 2-D master background spectra are not resampled.\n",
    "  \n",
    "* In this demonstration, we are subtracting a master background from the background sources themselves. Consequently, we observe a distribution of values around zero in the final master background-subtracted spectra.\n",
    "\n",
    "* Note the presence of positive spikes in both the 1D and 2D master background spectra, as well as negative spikes in the background-subtracted spectra, resulting from unflagged hot pixels that were not handled before doing master background subtraction.\n",
    "</div> \n"
   ]
  },
  {
   "cell_type": "markdown",
   "id": "eb3ce042-5d78-43e2-869d-85276f662ac8",
   "metadata": {},
   "source": [
    "---\n",
    "\n",
    "### 7.1 Identify Unmasked Hot/Bad Pixels <a id='hotbadpx'></a>\n",
    "\n",
    "The following section demonstrates one method for identifying unmasked hot/bad pixels and modifying their corresponding DQ flag to \"DO_NOT_USE\" using the imported `manually_define_dq_flags` function.\n",
    "\n",
    "This function works best with the Python package Plotly for interactive plotting. Installation instructions for Plotly are [here](https://github.com/plotly/plotly.py). Plotly generates an interactive plot that allows users to easily hover over hot/bad pixels and obtain their location information (x,y). If Plotly is not installed, a static plot will be returned.\n",
    "\n",
    "By providing a list of coordinates and setting the parameter `update_dq` to True, the `manually_define_dq_flags` function will modify the DQ flags in the countrate file (*_rate.fits*) for those pixels to \"DO_NOT_USE\". This flag ensures that identified hot/bad pixels are excluded when extracting 1-D spectra. To confirm the successful implementation of the modifications, rerun *`calwebb_spec2`* in [Section 7](#masterbkg) and utilize the `plot_spectra` function to visualize the resulting spectra."
   ]
  },
  {
   "cell_type": "code",
   "execution_count": null,
   "id": "ea1da19c-996f-426b-adcd-b502da38cfaa",
   "metadata": {
    "scrolled": true
   },
   "outputs": [],
   "source": [
    "# Identify the hot/bad pixels and update the DQ flags for each vetted background.\n",
    "rate_file_path = mast_products_dir+'jw01448011001_02101_00001_nrs2_rate.fits'\n",
    "cal_file_path = output_dir_NObkg+'jw01448011001_02101_00001_nrs2_cal.fits'\n",
    "\n",
    "update_dq = True\n",
    "\n",
    "manually_define_dq_flags(rate_file_path, cal_file_path, \"2\", scale=5,\n",
    "                         outlier_coords=[(932, 1453), (932, 1452),\n",
    "                                         (931, 1453), (932, 1454),\n",
    "                                         (933, 1453), (908, 1453),\n",
    "                                         (908, 1454)], update_dq=update_dq)\n",
    "\n",
    "manually_define_dq_flags(rate_file_path, cal_file_path, \"9\", scale=5,\n",
    "                         outlier_coords=[(864, 1685), (854, 1697)],\n",
    "                         update_dq=update_dq)\n",
    "\n",
    "manually_define_dq_flags(rate_file_path, cal_file_path, \"14\", scale=5,\n",
    "                         outlier_coords=[(844, 1563), (883, 1557),\n",
    "                                         (883, 1558)], update_dq=update_dq)\n",
    "\n",
    "manually_define_dq_flags(rate_file_path, cal_file_path, \"38\", scale=5,\n",
    "                         outlier_coords=[(776, 1734), (829, 1729),\n",
    "                                         (569, 1725)], update_dq=update_dq)\n",
    "\n",
    "manually_define_dq_flags(rate_file_path, cal_file_path, \"43\", scale=5,\n",
    "                         outlier_coords=[(940, 124), (919, 129),\n",
    "                                         (900, 120), (899, 120),\n",
    "                                         (900, 121), (900, 119)],\n",
    "                         update_dq=update_dq)"
   ]
  },
  {
   "cell_type": "markdown",
   "id": "99586056-9bfb-4568-8aba-8088d30f3233",
   "metadata": {},
   "source": [
    "<div class=\"alert alert-block alert-info\">\n",
    "\n",
    "<b>Note:</b> If you prefer to proceed with a 1D master background generated by the pipeline before Build 11.2, rerun the *`calwebb_spec2`* pipeline after manually updating the DQ flags of hot/bad pixels in the cell above. Alternatively, in the next section, we will provide the 1D master background to the pipeline and manage outlier hot/bad pixels by computing a sigma-clipped mean background.\n",
    "</div> "
   ]
  },
  {
   "cell_type": "markdown",
   "id": "3c4fc22e-eee1-45d6-8e65-970e27b2cb95",
   "metadata": {},
   "source": [
    "---\n",
    "\n",
    "## 8. Master Background Subtraction: User Supplied Master Background Spectrum <a id='manual'></a>"
   ]
  },
  {
   "cell_type": "code",
   "execution_count": null,
   "id": "c5429016-3adc-45b8-a7d3-f3e57dbf7eaf",
   "metadata": {},
   "outputs": [],
   "source": [
    "# Output directories for the user supplied master background.\n",
    "output_dir_masterbkg_manual = output_dir+'nirspec_product_files_masterbkg_manual/'\n",
    "if not os.path.exists(output_dir_masterbkg_manual):\n",
    "    os.makedirs(output_dir_masterbkg_manual)"
   ]
  },
  {
   "cell_type": "markdown",
   "id": "d1b647fd-0387-4733-aa5a-edc681b428ad",
   "metadata": {},
   "source": [
    "---\n",
    "\n",
    "### 8.1 Re-extraction of 1-D Backgrounds Using Modified EXTRACT1D Reference File <a id='extraction'></a>\n",
    "\n",
    "Re-extract the vetted background slitlets (without applying background subtraction) using non-default EXTRACT1D reference file.\n",
    "\n",
    "We utilize a modified EXTRACT1D reference file that extracts background from each of the shutters in the 3-shutter slitlets. The default behavior of the pipeline for extended sources is to only extract a 6-pixel wide extraction region centered in the 2-D space of the slit.\n",
    "\n",
    "In addition to modifying these parameters, we calculate a sigma-clipped mean background instead of computing a weighted average of the background inputs to create the 1-D master background spectrum. This sigma-clipped mean background is then supplied to *`MasterBackgroundMosStep`* in  *`calwebb_spec2`*. The user-supplied 1-D master background spectrum must adhere to the same format as an *_x1d.fits* file. Ensure that the `SURF_BRIGHT` and `WAVELENGTH` columns in the *_x1d.fits* are populated."
   ]
  },
  {
   "cell_type": "code",
   "execution_count": null,
   "id": "2657413f-e0c4-4ecc-b597-691e9d443ecf",
   "metadata": {},
   "outputs": [],
   "source": [
    "# Find and Modify the EXTRACT1D reference file.\n",
    "\n",
    "refs = api.dump_references(crds_client.get_context_used('jwst'),\n",
    "                           ['jwst_nirspec_extract1d_0009.json'])\n",
    "extract1d_reffile = refs['jwst_nirspec_extract1d_0009.json']\n",
    "\n",
    "with open(extract1d_reffile) as f_obj:\n",
    "    e1dref = json.load(f_obj)\n",
    "for params in e1dref['apertures']:\n",
    "    if (params['id'] == 'ANY'):\n",
    "        params['src_coeff'] = [[2.5], [17.5]]\n",
    "new_extract1d_ref = output_dir+'jwst_nirspec_extract1d_modified_manual.json'\n",
    "newfile_ref = open(new_extract1d_ref, 'w')\n",
    "json.dump(e1dref, newfile_ref)\n",
    "newfile_ref.close()"
   ]
  },
  {
   "cell_type": "code",
   "execution_count": null,
   "id": "8fff7640-abf3-4e32-a022-1999d56f8d7a",
   "metadata": {},
   "outputs": [],
   "source": [
    "# Extract the 1D Spectra from the resampled spectra (_s2d.fits).\n",
    "if runflag:\n",
    "\n",
    "    s2d_nobkg_files = sorted(glob.glob(output_dir_NObkg+'*s2d.fits'))\n",
    "\n",
    "    for s2d_file in s2d_nobkg_files:\n",
    "\n",
    "        #extract1d_step = Extract1dStep()\n",
    "        #extract1d_step.save_results = True\n",
    "        #extract1d_step.output_dir = os.path.abspath(os.path.dirname(s2d_file))\n",
    "        #extract1d_step.suffix = 'mod_x1d'\n",
    "        #extract1d_step.use_source_posn = False\n",
    "        #extract1d_step.output_use_model = True # For file naming\n",
    "        #extract1d_step.override_extract1d = new_extract1d_ref\n",
    "\n",
    "        x1d_result = Extract1dStep.call(s2d_file, save_results=True, output_dir=os.path.abspath(os.path.dirname(s2d_file)),\n",
    "                                        suffix='mod_x1d', use_source_posn=False, output_use_model=True,\n",
    "                                        override_extract1d=new_extract1d_ref)"
   ]
  },
  {
   "cell_type": "code",
   "execution_count": null,
   "id": "ebe13276-e1ff-4270-95b5-f2427f9c34b2",
   "metadata": {},
   "outputs": [],
   "source": [
    "x1d_files_mod = sorted(glob.glob(output_dir_NObkg+'*mod_x1d.fits'))\n",
    "\n",
    "# Original MSA metadata file path.\n",
    "metafile_og = mast_products_dir + 'jw01448011001_01_msa.fits'\n",
    "\n",
    "mb_file, good_bkg_slits = mean_background_variations(x1d_files_mod, metafile_og,\n",
    "                                                     bin_wavelengths=False,\n",
    "                                                     vetted_backgrounds=demo_background_slits,\n",
    "                                                     mad_threshold=5, sigma=2.2,\n",
    "                                                     mean_color='tab:blue',\n",
    "                                                     y_lim=None, save_mb=True)"
   ]
  },
  {
   "cell_type": "markdown",
   "id": "e06fd064-4c65-4a5f-92ed-1397284600ca",
   "metadata": {},
   "source": [
    "---\n",
    "\n",
    "Provide the pipeline with the user-supplied 1-D master background spectrum. "
   ]
  },
  {
   "cell_type": "code",
   "execution_count": null,
   "id": "5d760cd2-38ea-4390-b10a-17a18d34de62",
   "metadata": {
    "scrolled": true
   },
   "outputs": [],
   "source": [
    "# Stage 2 Processing -- Master Background Subtraction Applied.\n",
    "# User-supplied master background specrum.\n",
    "\n",
    "if runflag:\n",
    "\n",
    "    # Process each rate file seperately.\n",
    "    for rate_file in sorted(glob.glob(mast_products_dir+'*rate.fits')):\n",
    "        # Update the msa metadata file for master background subtraction\n",
    "        print(\"Changing MSAMETFL Keyword for {}\".format(os.path.basename(rate_file)))\n",
    "        with fits.open(rate_file, 'update') as ratefile_hdu:\n",
    "            ratefile_hdu[0].header['MSAMETFL'] = os.path.basename(metafile_mb)\n",
    "        ratefile_hdu.close()\n",
    "\n",
    "        print(\"Applying Stage 2 Calibrations & Corrections to: \" +\n",
    "              os.path.basename(rate_file))\n",
    "\n",
    "        # Adjust `slit_y_low`/`slit_y_high` as needed to center slitlet in 2-D cutout.\n",
    "        spec2_params = {'assign_wcs': {'slit_y_low': -0.55, 'slit_y_high': 0.35},\n",
    "                        # Save generated master background.\n",
    "                        'master_background_mos': {'skip': False,\n",
    "                                                  # Provide user-supplied master background.\n",
    "                                                  'user_background': mb_file,\n",
    "                                                  'save_background': True,\n",
    "                                                  'steps': {'barshadow': {\n",
    "                                                      'override_barshadow': barshadow_reffile}\n",
    "                                                  }},\n",
    "                        'bkg_subtract': {'skip': True}, # Skip pixel-to-pixel.\n",
    "\n",
    "                        # Fill non-science pixels with NaNs in the final\n",
    "                        # background-subtracted resampled spectra (not 0's)\n",
    "                        # so they don't get included in Extract1D step.\n",
    "                        # Use resample weight type ivm as it lets through less outliers.\n",
    "                        'resample_spec': {'fillval': 'nan', 'weight_type': 'ivm'},\n",
    "                        # Override for newer barshadow correction reference file.\n",
    "                        'barshadow': {'override_barshadow': barshadow_reffile}}\n",
    "\n",
    "        Spec2Pipeline.call(rate_file, save_results=True,\n",
    "                           output_dir=output_dir_masterbkg_manual, steps=spec2_params)"
   ]
  },
  {
   "cell_type": "code",
   "execution_count": null,
   "id": "de9e0a4a-03a3-40d0-bc44-869bcd8b64a2",
   "metadata": {
    "scrolled": true
   },
   "outputs": [],
   "source": [
    "# Plot the master background spectra.\n",
    "mb_2d_user = sorted(glob.glob(output_dir_masterbkg_manual+'*_masterbg2d.fits'))\n",
    "mb_1d_user = sorted(glob.glob(output_dir_masterbkg_manual+'*_masterbg1d.fits'))\n",
    "\n",
    "plot_spectra(mb_2d_user, mb_1d_user, slit_names=demo_background_slits,\n",
    "             scale=1, cmap='RdBu', figsize=(10, 20), hist=False,\n",
    "             fill_nan=False, MB=True, plot_errors=False)"
   ]
  },
  {
   "cell_type": "code",
   "execution_count": null,
   "id": "00e0fbab-62f0-4a2f-938b-b316a5ac2b2c",
   "metadata": {
    "scrolled": true
   },
   "outputs": [],
   "source": [
    "# Plot the master background-subtracted spectra.\n",
    "s2d_mb_files = sorted(glob.glob(output_dir_masterbkg_manual+'*_s2d.fits'))\n",
    "x1d_mb_files = sorted(glob.glob(output_dir_masterbkg_manual+'*_x1d.fits'))\n",
    "\n",
    "plot_spectra(s2d_mb_files, x1d_mb_files, slit_names=demo_background_slits,\n",
    "             scale=1, cmap='RdBu', figsize=(10, 8), hist=True, bins=50,\n",
    "             fill_nan=False, ycolor='black', ecolor='tab:blue', plot_errors=True)"
   ]
  },
  {
   "cell_type": "markdown",
   "id": "4c490a81-a95a-487a-ab2e-120bb044b52b",
   "metadata": {},
   "source": [
    "---\n",
    "## 9. Conclusion <a name=\"conclusion\"></a>\n",
    "\n",
    "The calibrated background-subtracted products (*_cal.fits*) resulting from the above `Spec2Pipeline` run are now ready for further processing. These files can serve as input for the `Spec3Pipeline` to generate final combined spectra."
   ]
  },
  {
   "cell_type": "markdown",
   "id": "f1b4519b-3a1a-49ef-bcf2-ced743cc0490",
   "metadata": {},
   "source": [
    "\n",
    "\n",
    "[Top of Page](#top)"
   ]
  }
 ],
 "metadata": {
  "kernelspec": {
   "display_name": "jwst_1.19.1",
   "language": "python",
   "name": "python3"
  },
  "language_info": {
   "codemirror_mode": {
    "name": "ipython",
    "version": 3
   },
   "file_extension": ".py",
   "mimetype": "text/x-python",
   "name": "python",
   "nbconvert_exporter": "python",
   "pygments_lexer": "ipython3",
   "version": "3.12.11"
  }
 },
 "nbformat": 4,
 "nbformat_minor": 5
}
