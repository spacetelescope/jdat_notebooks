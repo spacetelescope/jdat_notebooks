{
 "cells": [
  {
   "cell_type": "markdown",
   "metadata": {},
   "source": [
    "# IFU Cube Fitting\n"
   ]
  },
  {
   "cell_type": "markdown",
   "metadata": {},
   "source": [
    "**Use case:** continuum and emission-line modeling of AGN; 1.47-1.87um.<br>\n",
    "**Data:** [NIFS](https://www.gemini.edu/instrumentation/current-instruments/nifs) on Gemini; NGC 4151.<br>\n",
    "**Tools:**  specutils, jdaviz/cubeviz, astropy, matplotlib, bottleneck.<br>\n",
    "**Cross-intrument:** NIRSpec; potentially MIRI <br>\n",
    "**Documentation:** This notebook is part of a STScI's larger [post-pipeline Data Analysis Tools Ecosystem](https://jwst-docs.stsci.edu/jwst-post-pipeline-data-analysis) and can be [downloaded](https://github.com/spacetelescope/jdat_notebooks/tree/main/notebooks/IFU_cube_continuum_fit/) directly from the [JDAT Notebook Github directory](https://github.com/spacetelescope/jdat_notebooks).<br>\n",
    "\n",
    "## Introduction\n",
    "\n",
    "This notebook uses an example 3-D IFU Datacube of the Active Galactic Nucleii NGC 4151 [Storchi-Bergmann et al. 2009,  MNRAS, V 394, pp. 1148-1166](https://ui.adsabs.harvard.edu/abs/2009MNRAS.394.1148S/abstract).  This is a ground-based AO-fed H-band dataset (1.47-1.87um) from the Near-Infrared Integral Field Spectrograph (NIFS) instrument at the Gemini Observatory.  NIFS is a very similar image slicing IFU to JWST NIRSpec.\n",
    "\n",
    "This notebook performs some simple spectral investigations.  The notebook utilizes [jdaviz/cubviz](https://github.com/spacetelescope/jdaviz) to inspect the dataset and extract 1-D spectra.  The continuum is fit in a region near to the 1.644um [Fe II] emission from the AGN outflow and subtracted.  The centrally compact atomic Hydrogen Brackett 12 feature, which is nearby in wavelength and contaminates the [Fe II] outflow emission, is also fit and removed.  The data sub-cubes of the continuum model and the isolated and continuum subtracted [Fe II] emission are then saved.  These saved data sets will ultimately serve as starting points for the future notebooks in this set.\n",
    "\n",
    "**Note:** This notebook is designed to analyze the 1.6440 [Fe II] emission but the wavelengths can be altered to fit and remove continuum around any emission line of interest.\n",
    "\n",
    "## Import Packages\n",
    " - time for timing\n",
    " - numpy for array processing and math\n",
    " - matplotlib.pyplot for plotting images and spectra\n",
    " - astropy.io for reading and writing FITS cubes and images\n",
    " - astropy.modeling for modeling spectral curves\n",
    " - astropy.utils.data for accessing the data\n",
    " - specutils.fitting for spectral data fitting\n",
    " - specutils Spectrum1D for modeling emission lines\n",
    " - jdaviz.app to use cubeviz in the notebook\n",
    "\n"
   ]
  },
  {
   "cell_type": "code",
   "execution_count": null,
   "metadata": {},
   "outputs": [],
   "source": [
    "# load important packages\n",
    "import os\n",
    "import time\n",
    "from IPython.display import YouTubeVideo\n",
    "import warnings\n",
    "\n",
    "import numpy as np\n",
    "from astropy.io import fits\n",
    "from astropy import units as u\n",
    "from astropy.modeling.functional_models import Gaussian1D\n",
    "from astropy.utils.data import download_file\n",
    "from specutils import Spectrum1D\n",
    "from jdaviz import Cubeviz\n",
    "from specutils.manipulation import extract_region\n",
    "from specutils.spectra import SpectralRegion\n",
    "from regions import PixCoord, CirclePixelRegion\n",
    "from glue.core.roi import XRangeROI"
   ]
  },
  {
   "cell_type": "code",
   "execution_count": null,
   "metadata": {},
   "outputs": [],
   "source": [
    "# load and configure matplotlib\n",
    "%matplotlib inline\n",
    "import matplotlib.pyplot as plt\n",
    "plt.rcParams.update({'figure.max_open_warning': 0})"
   ]
  },
  {
   "cell_type": "code",
   "execution_count": null,
   "metadata": {},
   "outputs": [],
   "source": [
    "# Save and Load Objects Using Pickle (needed to get the parameter file at the end)\n",
    "import pickle\n",
    "\n",
    "\n",
    "def save_obj(obj, name):\n",
    "    with open(name, 'wb') as f:\n",
    "        pickle.dump(obj, f, pickle.HIGHEST_PROTOCOL)\n",
    "\n",
    "\n",
    "def load_obj(name):\n",
    "    with open(name, 'rb') as f:\n",
    "        return pickle.load(f)"
   ]
  },
  {
   "cell_type": "code",
   "execution_count": null,
   "metadata": {},
   "outputs": [],
   "source": [
    "# This cell accesses the datacube file, defines the wavelength grid from header information and then plots a simple\n",
    "# 1-D collapsed spectrum of the IFU data.\n",
    "\n",
    "# Read in a 3-D IFU datacube of interest, and header.\n",
    "cube_file = 'https://data.science.stsci.edu/redirect/JWST/jwst-data_analysis_tools/IFU_cube_continuum_fit/NGC4151_Hband.fits'\n",
    "fn = download_file('https://data.science.stsci.edu/redirect/JWST/jwst-data_analysis_tools/IFU_cube_continuum_fit/NGC4151_Hband.fits', cache=True)\n",
    "cube = fits.getdata(cube_file)\n",
    "header_cube = fits.getheader(cube_file)\n",
    "\n",
    "# grab data information and wavelength definitions.\n",
    "nz, ny, nx = cube.shape\n",
    "crdelt3 = header_cube['CDELT3']\n",
    "crval3 = header_cube['CRVAL3']\n",
    "\n",
    "# define the wavelength grid (microns) from the header (Angstroms)\n",
    "# and the AGN redshift and the emission line of interest.\n",
    "wave = ((crdelt3 * (np.arange(0, nz, 1))) + crval3)/10000.0\n",
    "redshift = 0.00332\n",
    "emission_line = 1.64400*(1 + redshift)\n",
    "emission_line_index = (np.abs(wave-emission_line)).argmin()\n",
    "\n",
    "# make a simple summed 1d spectrum of the full cube\n",
    "flux1 = np.sum(cube, axis=(1, 2))\n",
    "\n",
    "# plot the full 1-D spectrum.\n",
    "plt.figure(0)\n",
    "plt.plot(wave, flux1)\n",
    "plt.xlabel('wavelength (um)')\n",
    "plt.ylabel('flux')\n",
    "plt.show()"
   ]
  },
  {
   "cell_type": "markdown",
   "metadata": {},
   "source": [
    "We see that the spectral edges of the summed 1D are 'ratty'.  The 1D spectral array goes beyond the nominal useable data range of the instrument.  We'll ignore the poor spectral regions and focus on the AGN flux.\n",
    "\n",
    "The [Fe II] feature that we are interested in is the bright, strong emission just shortward of 1.65um.  The contaminating H I Br 12 emission is just blueward of the [Fe II].\n",
    "\n",
    "We can use this plot window to read wavelength values of interest to define our analysis spectral ranges (see wavelength/flux grid data to the lower right of the plot window).\n",
    "\n",
    "Special Note - in this particular dataset, a portion of the spectrum on the red side of the [FeII] emission\n",
    "provides a clean measure of the continuum.  The blue-ward side of the [Fe II]\n",
    "and HI Brackett 12 emission has other emission and absorption features that make clear continuum ID very \n",
    "difficult.  As a result, it is more accurate to do a simple linear fit to the red side of the spectrum rather than\n",
    "a more expanded spectral region that encompasses the emission.."
   ]
  },
  {
   "cell_type": "code",
   "execution_count": null,
   "metadata": {},
   "outputs": [],
   "source": [
    "# This cell defines the wavelength regions of interest: around the emission line, and the location\n",
    "# where you want to fit and remove the continuum very accurately.  Make a plot that shows the regions.\n",
    "\n",
    "# Here we select a region that includes the emission line\n",
    "# wavelength plus a small range of continuum around it.  \n",
    "# Determine these limits by investigating the flux in the above plot.  Read\n",
    "# the wavelength values off of the plot information at the lower right.\n",
    "\n",
    "wave_emission_limit1 = 1.630\n",
    "wave_emission_limit2 = 1.665\n",
    "\n",
    "# Here we define a spectral range where we will use the\n",
    "# flux to generate a continuum model.  The flux shape in this\n",
    "# AGN is quite linear around the redward emission, so we will use only a \n",
    "# short segment of the spectrum on the red side of the emission \n",
    "# feature.\n",
    "# We again determine these values by investigating the wavelengths in the\n",
    "# above plot window.\n",
    "\n",
    "continuum_limit1 = 1.656\n",
    "continuum_limit2 = 1.673\n",
    "  \n",
    "# Define the wavelength region around the emission - indices\n",
    "wavemin = (np.abs(wave-wave_emission_limit1)).argmin()\n",
    "wavemax = (np.abs(wave-wave_emission_limit2)).argmin()\n",
    "\n",
    "# Define the wavelength region used to fit the continuum flux level  - indices.\n",
    "continuummin = (np.abs(wave-continuum_limit1)).argmin()\n",
    "continuummax = (np.abs(wave-continuum_limit2)).argmin()\n",
    "\n",
    "# Show the region used for the emission line and continuum fit.  Alter the wavelengths \n",
    "# above if this doesn't look good.  \n",
    "plt.figure(1)\n",
    "plt.plot(wave, flux1)\n",
    "plt.plot(wave[wavemin:wavemax], flux1[wavemin:wavemax])\n",
    "plt.plot(wave[continuummin:continuummax], flux1[continuummin:continuummax], color='r')\n",
    "plt.xlabel('wavelength (um)')\n",
    "plt.ylabel('flux')\n",
    "plt.show()"
   ]
  },
  {
   "cell_type": "markdown",
   "metadata": {},
   "source": [
    "### Cubeviz Visualization\n",
    "You can also visualize images inside a Jupyter notebook using [Cubeviz](https://jdaviz.readthedocs.io/en/latest/cubeviz/index.html)"
   ]
  },
  {
   "cell_type": "markdown",
   "metadata": {},
   "source": [
    "### Video: \n",
    "\n",
    "This Cubeviz Demo is from the official JWST Observer YouTube channel. It shows an example of how to use Cubeviz for a specific science case (not this notebook's science case)."
   ]
  },
  {
   "cell_type": "code",
   "execution_count": null,
   "metadata": {},
   "outputs": [],
   "source": [
    "vid = YouTubeVideo(\"ayb6OkmZUwU\")\n",
    "display(vid)"
   ]
  },
  {
   "cell_type": "code",
   "execution_count": null,
   "metadata": {},
   "outputs": [],
   "source": [
    "cubeviz = Cubeviz()\n",
    "cubeviz.show()"
   ]
  },
  {
   "cell_type": "code",
   "execution_count": null,
   "metadata": {},
   "outputs": [],
   "source": [
    "# Here, we load the data into the Cubeviz app.\n",
    "with warnings.catch_warnings():\n",
    "    warnings.simplefilter('ignore')\n",
    "    cubeviz.load_data(fn)"
   ]
  },
  {
   "cell_type": "markdown",
   "metadata": {},
   "source": [
    "A video is shown below illustrating the procedure.  The following steps are applied:\n",
    "\n",
    "When you load your cube, you will see a collapsed spectrum of all the spaxels in the spectral viewer at the bottom.\n",
    "\n",
    "If you draw a region (circle or square) in the flux viewer, you will see a collapsed spectrum of that particular region in the spectral viewer, too. For this example, we want to first define a circular region at the central position of the bright AGN flux, which is at approximately the cube center position.<br>\n",
    "<img src='./cubeviz_select_subset.png' alt=\"Select a circular subset on the AGN in the center of the image.\" width=\"500\"/>\n",
    "\n",
    "Now, use the flux viewer and again use the 'define circular region of interest' icon to make spectra at two positions associated with the outflow emission in [Fe II].  The redshifted outflow is at approximate x position = 12, y position = 36.  This will be 'Subset 2' and will show up in green in the display. The blueshifted outflow is at approximately x position = 48, y position = 24 in pixel index units.  This will be 'Subset 3' and will show up in blue in the display. _Hint: the coordinates of the cursor are reported at the top of the tool_<br>\n",
    "<img src='./cubeviz_select_subset_outflow.png' alt=\"Select a circular subset on each side of the AGN to look at the outflow.\" width=\"500\"/>"
   ]
  },
  {
   "cell_type": "markdown",
   "metadata": {},
   "source": [
    "## Defining your Spectral Regions\n",
    "\n",
    "Next, you will want to define the wavelengths of interest in your spectral viewer for both your line and continuum analysis.  To do this, you will similarly click the 'define region of interest' icon in your spectral viewer and drag a box over the wavelengths you desire. The line emission ('Subset 4' ) should span approximately 1.630 - 1.665 um, and the continuum emission ('Subset 5') should span approximately 1.656 - 1.673 um.<br>\n",
    "<img src='./cubeviz_select_spectral_subset.png' alt=\"Select a spectral subset on the emission feature and one on the continuum.\" width=\"500\"/><br>\n",
    "_Hint: subsets can be modified in the Subset Tools plugin_"
   ]
  },
  {
   "cell_type": "markdown",
   "metadata": {},
   "source": [
    "### Some Notes:\n",
    "\n",
    "* If your cell window requires you to scroll to see the different displays in cubeviz, you can toggle the scroll window in the main menu of the notebook: Cell -> Current Outputs -> Toggle Scrolling\n",
    "\n",
    "* To better visualize the cube, you can change the display options in the Plot Option plugin."
   ]
  },
  {
   "cell_type": "markdown",
   "metadata": {},
   "source": [
    "# Extract Subset Spectrum in Cubeviz Spectrum Viewer"
   ]
  },
  {
   "cell_type": "markdown",
   "metadata": {},
   "source": [
    "Retrieve the spectra of the user-defined regions from the Spectrum Viewer as a Spectrum1D object. First, we create the regions from the API in case the notebook is not run interactively."
   ]
  },
  {
   "cell_type": "code",
   "execution_count": null,
   "metadata": {},
   "outputs": [],
   "source": [
    "# Create spatial regions\n",
    "spatial_regions = cubeviz.get_interactive_regions()\n",
    "\n",
    "if 'Subset 1' not in spatial_regions.keys():\n",
    "    agn_region = CirclePixelRegion(center=PixCoord(x=29, y=29), radius=6)\n",
    "    cubeviz.load_regions(agn_region)\n",
    "if 'Subset 2' not in spatial_regions.keys():\n",
    "    redshifted_outflow = CirclePixelRegion(center=PixCoord(x=12, y=36), radius=6)\n",
    "    cubeviz.load_regions(redshifted_outflow)\n",
    "if 'Subset 3' not in spatial_regions.keys():\n",
    "    blueshifted_outflow = CirclePixelRegion(center=PixCoord(x=48, y=24), radius=6)\n",
    "    cubeviz.load_regions(blueshifted_outflow)\n",
    "\n",
    "spatial_regions = cubeviz.get_interactive_regions()\n",
    "spatial_regions"
   ]
  },
  {
   "cell_type": "code",
   "execution_count": null,
   "metadata": {},
   "outputs": [],
   "source": [
    "# Extract spectra corresponding to the colored regions in cubeviz\n",
    "spectrum1 = cubeviz.get_data(\"contents[SCI]\", spatial_subset='Subset 1', function=\"mean\") # AGN Center\n",
    "spectrum2 = cubeviz.get_data(\"contents[SCI]\", spatial_subset='Subset 2', function=\"mean\") # Red shifted component\n",
    "spectrum3 = cubeviz.get_data(\"contents[SCI]\", spatial_subset='Subset 3', function=\"mean\") # Blue shifted component\n",
    "spectrum1"
   ]
  },
  {
   "cell_type": "code",
   "execution_count": null,
   "metadata": {},
   "outputs": [],
   "source": [
    "# Extract the line region defined in the spectral viewer\n",
    "regions = cubeviz.specviz.get_spectral_regions()\n",
    "        \n",
    "if \"Subset 4\" in regions.keys():\n",
    "    line_region = regions[\"Subset 4\"]\n",
    "else:\n",
    "    line_region = SpectralRegion(1.630*u.um, 1.665*u.um)\n",
    "    sv = cubeviz.app.get_viewer('spectrum-viewer')\n",
    "    sv.toolbar_active_subset.selected = []\n",
    "    sv.apply_roi(XRangeROI(16300, 16650))"
   ]
  },
  {
   "cell_type": "code",
   "execution_count": null,
   "metadata": {},
   "outputs": [],
   "source": [
    "# Extract the continuum region defined in the spectral viewer\n",
    "if \"Subset 5\" in regions.keys():\n",
    "    continuum_region = regions[\"Subset 5\"]\n",
    "else:\n",
    "    continuum_region = SpectralRegion(1.656*u.um, 1.673*u.um)\n",
    "    sv = cubeviz.app.get_viewer('spectrum-viewer')\n",
    "    sv.toolbar_active_subset.selected = []\n",
    "    sv.apply_roi(XRangeROI(16560, 16730))\n",
    "\n",
    "regions = cubeviz.specviz.get_spectral_regions()\n",
    "regions"
   ]
  },
  {
   "cell_type": "code",
   "execution_count": null,
   "metadata": {},
   "outputs": [],
   "source": [
    "# Apply the spectral region\n",
    "# (creates new collapsed spectra if user did not in jdaviz)\n",
    "if not spectrum1:\n",
    "    flux_agn = np.sum(cube[:, (ny//2)-3:(ny//2)+3, (nx//2)-3:(nx//2)+3], axis=(1, 2))\n",
    "    tmpspec = Spectrum1D(flux=flux_agn*u.Unit('count'), spectral_axis=wave*u.micron) \n",
    "    spec_agn = extract_region(tmpspec, line_region)\n",
    "    spec_agn_continuum = extract_region(tmpspec, continuum_region)    \n",
    "else: \n",
    "    spec_agn = extract_region(spectrum1, line_region)\n",
    "    spec_agn_continuum = extract_region(spectrum1, continuum_region)\n",
    "\n",
    "if not spectrum2:\n",
    "    flux_feii_red = np.sum(cube[:, (36)-3:(36)+3, (12)-3:(12)+3], axis=(1, 2))\n",
    "    tmpspec = Spectrum1D(flux=flux_feii_red*u.Unit('count'), spectral_axis=wave*u.micron) \n",
    "    spec_feii_red = extract_region(tmpspec, line_region)\n",
    "    spec_feii_red_continuum = extract_region(tmpspec, continuum_region)\n",
    "else:    \n",
    "    spec_feii_red = extract_region(spectrum2, line_region)\n",
    "    spec_feii_red_continuum = extract_region(spectrum2, continuum_region)\n",
    "\n",
    "if not spectrum3:\n",
    "    flux_feii_blue = np.sum(cube[:, (28)-3:(28)+3, (50)-3:(50)+3], axis=(1, 2))\n",
    "    tmpspec = Spectrum1D(flux=flux_feii_blue*u.Unit('count'), spectral_axis=wave*u.micron) \n",
    "    spec_feii_blue = extract_region(tmpspec, line_region)\n",
    "    spec_feii_blue_continuum = extract_region(tmpspec, continuum_region)\n",
    "else:     \n",
    "    spec_feii_blue = extract_region(spectrum3, line_region)\n",
    "    spec_feii_blue_continuum = extract_region(spectrum3, continuum_region)"
   ]
  },
  {
   "cell_type": "code",
   "execution_count": null,
   "metadata": {},
   "outputs": [],
   "source": [
    "# Visualize new subsets\n",
    "plt.figure()\n",
    "plt.plot(spec_agn.spectral_axis, spec_agn.flux, color='black')\n",
    "plt.xlabel('wavelength')\n",
    "plt.ylabel('flux')"
   ]
  },
  {
   "cell_type": "code",
   "execution_count": null,
   "metadata": {},
   "outputs": [],
   "source": [
    "# Visualize new subsets\n",
    "plt.figure()\n",
    "plt.plot(spec_feii_blue.spectral_axis, spec_feii_blue.flux, color='b')\n",
    "plt.plot(spec_feii_red.spectral_axis, spec_feii_red.flux, color='r')\n",
    "plt.xlabel('wavelength')\n",
    "plt.ylabel('flux')"
   ]
  },
  {
   "cell_type": "markdown",
   "metadata": {},
   "source": [
    "## Fit the Continuum at the Spectral Region Location\n",
    "\n",
    "Open up Model Fitting Plugin. There are a number of fields to fill in and drop down menus to select from.  It is important to keep in mind that the Data menu will provide only spectra to model, while the Spectral Region menu will provide only spectral region subsets to choose.  In other words, you can fit the spectra in specific spectral regions.  If no spectral region is selected, the entire wavelength array will be fit by the mode. <br />\n",
    "\n",
    "Select Data Cube: Entire cube <br>\n",
    "Select Spectral Region: Subset 5<br>\n",
    "Model: Linear1D<br>\n",
    "ModelID: L<br>\n",
    "Click \"Add component\"<br>\n",
    "Model Parameters: Leave Default<br>\n",
    "Model Equation Editor: L<br>\n",
    "Model Label: LinFitCont<br>\n",
    "Click \"Fit model\", which fits the collapsed spectrum.<br>\n",
    "View the fit in the spectral viewer and confirm you are happy with it. <br>\n",
    "Toggle \"Cube fit\".\n",
    "Change the name to LinFitCont_cube and click again \"Fit model\".<br>\n",
    "\n",
    "<img src='./cubeviz_model_fitting.png' alt=\"Model fitting can be set up in the plugin.\" width=\"700\"/>\n",
    "\n",
    "The fitted cube can be accessed in the data dropdown of the 2D viewers."
   ]
  },
  {
   "cell_type": "markdown",
   "metadata": {},
   "source": [
    "### Use the API instead"
   ]
  },
  {
   "cell_type": "code",
   "execution_count": null,
   "metadata": {},
   "outputs": [],
   "source": [
    "models = cubeviz.get_models()\n",
    "\n",
    "if 'LinFitCont' in models.keys():\n",
    "    singlemodel = models['LinFitCont']\n",
    "else:\n",
    "    # Open model fitting plugin\n",
    "    plugin_mf = cubeviz.plugins['Model Fitting']\n",
    "    plugin_mf.open_in_tray()\n",
    "    # Input the appropriate datasets\n",
    "    plugin_mf.spatial_subset = 'Entire Cube'\n",
    "    plugin_mf.spectral_subset = 'Subset 5'\n",
    "    # Input model component\n",
    "    plugin_mf.create_model_component(model_component='Linear1D',\n",
    "                                     model_component_label='L1')\n",
    "    # Model equation gets populated automatically\n",
    "    plugin_mf.equation = 'L1'    \n",
    "    # After we run this, we go to the GUI and check that the fit makes sense\n",
    "    plugin_mf.add_results.label = 'LinFitCont'\n",
    "    plugin_mf.cube_fit = False    \n",
    "    plugin_mf.calculate_fit()\n",
    "\n",
    "if 'LinFitCont_cube (30, 30)' in models.keys():\n",
    "    cubemodel = models['LinFitCont_cube']\n",
    "else:\n",
    "    # Open model fitting plugin\n",
    "    plugin_mf = cubeviz.plugins['Model Fitting']\n",
    "    plugin_mf.open_in_tray()\n",
    "    # Input the appropriate datasets\n",
    "    plugin_mf.spatial_subset = 'Entire Cube'\n",
    "    plugin_mf.spectral_subset = 'Subset 5'\n",
    "    # Input model component\n",
    "    plugin_mf.create_model_component(model_component='Linear1D',\n",
    "                                     model_component_label='L2')\n",
    "    # Model equation gets populated automatically\n",
    "    plugin_mf.equation = 'L2'    \n",
    "    # After we run this, we go to the GUI and check that the fit makes sense\n",
    "    plugin_mf.cube_fit = True\n",
    "    plugin_mf.add_results.label = 'LinFitCont_cube'\n",
    "    plugin_mf.calculate_fit()"
   ]
  },
  {
   "cell_type": "code",
   "execution_count": null,
   "metadata": {},
   "outputs": [],
   "source": [
    "models = cubeviz.get_models()\n",
    "models['LinFitCont_cube (30, 30)']"
   ]
  },
  {
   "cell_type": "markdown",
   "metadata": {},
   "source": [
    "## Pulling other data\n",
    "\n",
    "Note, in cubeviz, you can either return the collapsed spectra as we did above by using the `function`\n",
    "keyword argument along with (optionally) a `spatial_subset`, or return the entire data cube by omitting\n",
    "these keywords as below."
   ]
  },
  {
   "cell_type": "code",
   "execution_count": null,
   "metadata": {},
   "outputs": [],
   "source": [
    "# List available data\n",
    "print(cubeviz.app.data_collection)"
   ]
  },
  {
   "cell_type": "code",
   "execution_count": null,
   "metadata": {},
   "outputs": [],
   "source": [
    "# Extract SCI cube and continuum model from Cubeviz above and make a continuum subtracted cube\n",
    "if 'LinFitCont_cube' in cubeviz.app.data_collection:\n",
    "    tsci = cubeviz.get_data(\"contents[SCI]\")\n",
    "    tcont_psf_cube = cubeviz.get_data(\"LinFitCont_cube\")\n",
    "    print('Check shape of the objects')\n",
    "    print(tsci.shape)\n",
    "    print(tcont_psf_cube.shape)\n",
    "    print('Transpose because it inverted RA and Dec')\n",
    "    sciflux = tsci.flux.value.transpose(1, 0, 2)\n",
    "    cont_psf_cubeflux = tcont_psf_cube.flux.value.transpose(1, 0, 2)\n",
    "    sci = Spectrum1D(spectral_axis=tsci.spectral_axis,\n",
    "                     flux=sciflux*tsci.flux.unit)\n",
    "    cont_psf_cube = Spectrum1D(spectral_axis=tcont_psf_cube.spectral_axis,\n",
    "                               flux=cont_psf_cubeflux*tcont_psf_cube.flux.unit)\n",
    "    # Obtain continuum subtracted cube\n",
    "    sci_contsub = sci-cont_psf_cube\n",
    "    # Save to file\n",
    "    # sci_contsub.write('NGC4151_Hband_ContinuumSubtract.fits', format='wcs1d-fits', overwrite=True)\n",
    "    # cont_psf_cube.write('NGC4151_Hband_ContinuumPSF.fits', format='wcs1d-fits', overwrite=True)"
   ]
  },
  {
   "cell_type": "markdown",
   "metadata": {},
   "source": [
    "**Developer Note**:<br>\n",
    "- the cube extracted form cubeviz has RA and Dec flipped when reinjested\n",
    "- I hit a traceback if I try to save the cubes to file"
   ]
  },
  {
   "cell_type": "code",
   "execution_count": null,
   "metadata": {},
   "outputs": [],
   "source": [
    "# Look at the continuum subtracted cube in Cubeviz\n",
    "if sci_contsub:\n",
    "    with warnings.catch_warnings():\n",
    "        warnings.simplefilter('ignore')\n",
    "        cubeviz2 = Cubeviz()\n",
    "        cubeviz2.load_data(sci_contsub, data_label='Continuum Subtracted')\n",
    "        cubeviz2.show()"
   ]
  },
  {
   "cell_type": "markdown",
   "metadata": {},
   "source": [
    "### Alternative way to do continuum subtraction using numpy"
   ]
  },
  {
   "cell_type": "code",
   "execution_count": null,
   "metadata": {},
   "outputs": [],
   "source": [
    "# Re-read in original IFU cube for manipulation\n",
    "cube_file = 'https://data.science.stsci.edu/redirect/JWST/jwst-data_analysis_tools/IFU_cube_continuum_fit/NGC4151_Hband.fits'\n",
    "newfn = download_file(cube_file, cache=True)\n",
    "newheader_cube = fits.getheader(cube_file)\n",
    "\n",
    "start_time = time.time()\n",
    "\n",
    "cont_sub_cube = np.zeros([nz, ny, nx])\n",
    "cont_psf_cube = np.zeros([nz, ny, nx])\n",
    "\n",
    "for i in range(1, nx-2):\n",
    "    for j in range(1, ny-2):\n",
    "        flux1 = cube[:, j, i]      \n",
    "        cont_fit = np.polyfit(wave[continuummin:continuummax], flux1[continuummin:continuummax], 1)\n",
    "        fitval = np.poly1d(cont_fit)\n",
    "        continuum = fitval(wave)        \n",
    "        cont_sub_cube[:, j, i] = flux1 - continuum\n",
    "        cont_psf_cube[:, j, i] = continuum \n",
    "\n",
    "del newheader_cube['MODE']\n",
    "fits.writeto('NGC4151_Hband_ContinuumSubtract_numpy.fits', cont_sub_cube, newheader_cube, overwrite=True)\n",
    "fits.writeto('NGC4151_Hband_ContinuumPSF_numpy.fits', cont_psf_cube, newheader_cube, overwrite=True)\n",
    "print('Continuum subtracted cube saved. PSF continuum cube saved.')"
   ]
  },
  {
   "cell_type": "markdown",
   "metadata": {},
   "source": [
    "**Developer Note**:\n",
    "- the new created file cannot be open in Cubeviz"
   ]
  },
  {
   "cell_type": "markdown",
   "metadata": {},
   "source": [
    "## Fitting your multiple component Gaussian Model\n",
    "\n",
    "Now we want to investigate an initial fit to the Br 12 emission feature, which is a pesky contaminant nearby in wavelength to our target [Fe II] emission.  The Br 12 is centrally compact and arises only from the nucleus of the AGN, not from the outflow.  Make a plot of the fit results.<br />\n",
    "\n",
    "First, select the wavelength region of interest following a similar procedure as performed at the top.  There is no option to set the spectral regions to a user input, so we recommend zooming in and drawing by eye.  The line emission ('Subset 1' ) should again span approximately 1.630 - 1.665 um.<br>\n",
    "<img src='./cubeviz2_subset.png' alt=\"Select a spectral subset on the 3-line emission feature around 1.54 microns.\" width=\"500\"/><br>\n",
    "\n",
    "For this example, we recommend setting up a 3 component gaussian model with the following inputs<br />\n",
    "Open up Model Fitting Plugin. There are a number of fields to fill in and drop down menus to select from.  It is important to keep in mind that the Data menu will provide only spectra to model, while the Spectral Region menu will provide only spectral region subsets to choose.  In other words, you can fit the spectra in specific spectral regions.  If no spectral region is selected, the entire wavelength array will be fit by the mode. <br />\n",
    "\n",
    "Data: Entire Cube<br />\n",
    "Spectral region: Subset 1<br />\n",
    "Model: Three different Gaussians with ModelID's set to G1, G2, and G3<br />\n",
    "Model Parameters: <br />\n",
    "G1: stdev=8, mean=16410<br />\n",
    "G2: stdev=7, mean=16480<br />\n",
    "G3: stdev=50, mean=16460<br />\n",
    "You can turn on the 'Fixed' option if you need to, but these numbers should provide a good starting guess for the fit.<br />\n",
    "Model Equation Editor: G1+G2+g3<br />\n",
    "Model Label: GaussAll<br />\n",
    "<br />\n",
    "Hit Fit, which fits the collapsed spectrum.<br />\n",
    "<img src='./cubeviz2_modelfit1.png' alt=\"Prepare the fit parameters with 3 Gaussian curves and fit the collapsed spectrum.\" width=\"500\"/><br>\n",
    "View the fit in the spectral viewer and confirm you are happy with it.  Modify if necessary. <br />\n",
    "Then remove the 'Fixed' options, toggle Cube Fit, change the name to GaussAll_cube, and run again.<br />\n",
    "<img src='./cubeviz2_modelfit2.png' alt=\"Prepare the fit parameters with 3 Gaussian curves and fit the collapsed spectrum.\" width=\"500\"/><br>\n",
    "\n",
    "This will again create two models that can now be accessed within the Data Dropdown menus:<br />\n",
    "A 1D linear fit of the lines in the collapsed cube.<br />\n",
    "A 3D linear fit of the lines for each spaxel in the cube.<br />"
   ]
  },
  {
   "cell_type": "markdown",
   "metadata": {},
   "source": [
    "Wow, that multi-component fit looks great.  Good deal.\n",
    "\n",
    "Now we're going to use the continuum psf cube from a prior cell  with the Brackett model created in the above cell to create a full 3-D model of the central emission that isn't caused by the outflow [Fe II]."
   ]
  },
  {
   "cell_type": "markdown",
   "metadata": {},
   "source": [
    "**Developer Note**:<br>\n",
    "- the fit to the full cube gets stuck and never ends"
   ]
  },
  {
   "cell_type": "markdown",
   "metadata": {},
   "source": [
    "### Exercise\n",
    "Now you can try to adapt the code shown above to run the model fitting from the API!\n",
    "\n",
    "_Hint:_<br>\n",
    "`plugin_mf.create_model_component(model_component='Gaussian1D', model_component_label='G1')`<br>\n",
    "`plugin_mf.set_model_component('G1', 'mean', value=16410)`"
   ]
  },
  {
   "cell_type": "code",
   "execution_count": null,
   "metadata": {},
   "outputs": [],
   "source": [
    "# Your code"
   ]
  },
  {
   "cell_type": "markdown",
   "metadata": {},
   "source": [
    "### Extract what we need from Cubeviz"
   ]
  },
  {
   "cell_type": "code",
   "execution_count": null,
   "metadata": {},
   "outputs": [],
   "source": [
    "# Extract the spectral regions defined in the spectral viewer\n",
    "regions = cubeviz2.specviz.get_spectral_regions()\n",
    "print(regions)\n",
    "\n",
    "if \"Subset 1\" in regions.keys():\n",
    "    line_region = regions[\"Subset 1\"]\n",
    "else:\n",
    "    line_region = SpectralRegion(1.630*u.um, 1.665*u.um)"
   ]
  },
  {
   "cell_type": "code",
   "execution_count": null,
   "metadata": {},
   "outputs": [],
   "source": [
    "# List available data\n",
    "alldata = cubeviz2.app.data_collection\n",
    "print(alldata)\n",
    "print()\n",
    "# List spectra available in spectrum-viewer\n",
    "spec = cubeviz2.specviz.get_spectra()\n",
    "print(spec)"
   ]
  },
  {
   "cell_type": "code",
   "execution_count": null,
   "metadata": {},
   "outputs": [],
   "source": [
    "# Get gauss model spectrum and model cube\n",
    "all_spec = cubeviz2.get_data('Continuum Subtracted[FLUX]', function='mean') # AGN Center Data Cube\n",
    "\n",
    "if 'GaussAll' in alldata:\n",
    "    gauss_spec = cubeviz2.get_data('GaussAll', function='mean') # AGN Center Model Spec\n",
    "    print('Model spectrum 1D available')\n",
    "    print(gauss_spec)\n",
    "else:\n",
    "    gauss_spec = False\n",
    "    print('No GaussAll model created')\n",
    "\n",
    "print()\n",
    "\n",
    "if 'GaussAll_cube' in alldata:\n",
    "    gauss_cube = cubeviz2.get_data('GaussAll_cube') # AGN Center Model Cube\n",
    "    params = cubeviz2.get_model_parameters()\n",
    "    print('Model spectrum 3D available')\n",
    "else:\n",
    "    gauss_cube = False\n",
    "    params = False\n",
    "    print('No GaussAll_cube model created')\n",
    "\n",
    "print()\n",
    "\n",
    "# Check to see if user used Cubeviz (above), and, if not, read in premade data\n",
    "if gauss_cube is False:\n",
    "    # Get both the model cube and the continuum cube not created with Cubeviz\n",
    "    fn = download_file('https://data.science.stsci.edu/redirect/JWST/jwst-data_analysis_tools/IFU_cube_continuum_fit/gauss_model_cube.fits', cache=False)\n",
    "    gauss_cube = fits.getdata(fn)\n",
    "    print('Shape of downloaded model cube: ', gauss_cube.shape)\n",
    "    fn_continuum = 'NGC4151_Hband_ContinuumPSF_numpy.fits'\n",
    "    continuum_cube = fits.open(fn_continuum, memmap=False)\n",
    "    newfull_header = fits.getheader(fn_continuum)\n",
    "    continuum_data = continuum_cube[0].data\n",
    "    print('Shape of downloaded continuum cube: ', continuum_data.shape)\n",
    "else:\n",
    "    print('Shape of created model cube: ', gauss_cube.shape)\n",
    "    continuum_data = sci # Created in Cubeviz1\n",
    "    print('Shape of created continuum cube: ', continuum_data.shape)\n",
    "\n",
    "print()\n",
    "if params is False:\n",
    "    fn = download_file('https://data.science.stsci.edu/redirect/JWST/jwst-data_analysis_tools/IFU_cube_continuum_fit/gauss_params.pkl', cache=True)\n",
    "    params = load_obj(fn)\n",
    "    print('Keys of downloaded model parameters: ', params.keys())\n",
    "else:\n",
    "    print('Keys of created model parameters: ', params.keys())\n",
    "\n",
    "print()\n",
    "\n",
    "if not all_spec:\n",
    "    fn = download_file('https://data.science.stsci.edu/redirect/JWST/jwst-data_analysis_tools/IFU_cube_continuum_fit/all_spec.fits', cache=False)\n",
    "    all_spec = Spectrum1D.read(fn)\n",
    "    print('Shape of downloaded continuum subtracted spectrum: ', all_spec.shape)\n",
    "else:\n",
    "    print('Shape of created continuum subtracted spectrum: ', all_spec.shape)\n",
    "\n",
    "print()\n",
    "\n",
    "if gauss_spec is False:\n",
    "    fn = download_file('https://data.science.stsci.edu/redirect/JWST/jwst-data_analysis_tools/IFU_cube_continuum_fit/gauss_spec.fits', cache=False)\n",
    "    gauss_spec = Spectrum1D.read(fn)\n",
    "    print('Shape of downloaded model spectrum: ', gauss_spec.shape)\n",
    "else:\n",
    "    print('Shape of created model spectrum: ', gauss_spec.shape)"
   ]
  },
  {
   "cell_type": "code",
   "execution_count": null,
   "metadata": {},
   "outputs": [],
   "source": [
    "# Overwrite gauss model with only 2 of the components of interest\n",
    "gauss_cube_2component = gauss_cube*0\n",
    "\n",
    "model_label = \"GaussAll_3d\" # Change this when cube model fitting converges\n",
    "\n",
    "nz, ny, nx = gauss_cube_2component.shape\n",
    "for i in range(0, nx-1):\n",
    "    for j in range(0, ny-1):\n",
    "        amp1 = params[model_label]['amplitude_0'][i][j]\n",
    "        amp2 = params[model_label]['amplitude_2'][i][j]\n",
    "        m1 = params[model_label]['mean_0'][i][j]\n",
    "        m2 = params[model_label]['mean_2'][i][j]\n",
    "        stdev1 = params[model_label]['stddev_0'][i][j]\n",
    "        stdev2 = params[model_label]['stddev_2'][i][j]\n",
    "        g1 = Gaussian1D(amplitude=amp1*u.Unit('count'), mean=m1*u.m, stddev=stdev1*u.m)\n",
    "        g2 = Gaussian1D(amplitude=amp2*u.Unit('count'), mean=m2*u.m, stddev=stdev2*u.m)\n",
    "        gauss_cube_2component[:, i, j] = g1(all_spec.spectral_axis)+g2(all_spec.spectral_axis)"
   ]
  },
  {
   "cell_type": "code",
   "execution_count": null,
   "metadata": {},
   "outputs": [],
   "source": [
    "# Add the continuum cube to the new model cube\n",
    "full_model = gauss_cube_2component + continuum_data\n",
    "print(continuum_data.shape)"
   ]
  },
  {
   "cell_type": "code",
   "execution_count": null,
   "metadata": {},
   "outputs": [],
   "source": [
    "# Subtract the model to create the final cube where the [Fe II] emission is isolated.\n",
    "# Re-read in original IFU cube for manipulation\n",
    "cube_file = 'https://data.science.stsci.edu/redirect/JWST/jwst-data_analysis_tools/IFU_cube_continuum_fit/NGC4151_Hband.fits'\n",
    "newfinalsub_header = fits.getheader(cube_file)\n",
    "\n",
    "with fits.open(cube_file, memmap=False) as original_cube:\n",
    "    original_data = original_cube['SCI'].data\n",
    "    final_sub_cube = original_data - full_model\n",
    "    print(original_data.shape)"
   ]
  },
  {
   "cell_type": "code",
   "execution_count": null,
   "metadata": {},
   "outputs": [],
   "source": [
    "# Delete any existing output in current directory\n",
    "if os.path.exists(\"NGC4151_Hband_FinalSubtract.fits\"):\n",
    "    os.remove(\"NGC4151_Hband_FinalSubtract.fits\")\n",
    "else:\n",
    "    print(\"The file does not exist\")\n",
    "\n",
    "if os.path.exists(\"NGC4151_Hband_ContinuumandBrackettModel.fits\"):\n",
    "    os.remove(\"NGC4151_Hband_ContinuumandBrackettModel.fits\")\n",
    "else:\n",
    "    print(\"The file does not exist\")"
   ]
  },
  {
   "cell_type": "code",
   "execution_count": null,
   "metadata": {},
   "outputs": [],
   "source": [
    "del newfinalsub_header['MODE']\n",
    "\n",
    "fits.writeto('NGC4151_Hband_ContinuumandBrackettModel.fits', full_model, newfull_header, overwrite=True)\n",
    "fits.writeto('NGC4151_Hband_FinalSubtract.fits', final_sub_cube, newfinalsub_header, overwrite=True)\n",
    "print('Continuum subtracted cube saved. PSF continuum cube saved.')"
   ]
  },
  {
   "cell_type": "code",
   "execution_count": null,
   "metadata": {},
   "outputs": [],
   "source": [
    "# Make the final plots to illustrate the original spectrum, model fits, and final continuum+gassian subtracted cube\n",
    "plt.figure()\n",
    "plt.xlim([16200, 16650])\n",
    "plt.ylim([600, 900])\n",
    "plt.plot(all_spec.spectral_axis, continuum_data[:, 30, 30], label='Continuum')\n",
    "plt.plot(all_spec.spectral_axis, original_data[:, 30, 30], label='Original Data')\n",
    "plt.plot(all_spec.spectral_axis, full_model[:, 30, 30], label='2 Component Model')\n",
    "plt.plot(all_spec.spectral_axis, final_sub_cube[:, 30, 30]+700, label='Model Subtraction+Offset')\n",
    "plt.legend()\n",
    "plt.xlabel('wavelength')\n",
    "plt.ylabel('flux')\n",
    "plt.show()"
   ]
  }
 ],
 "metadata": {
  "kernelspec": {
   "display_name": "Python 3 (ipykernel)",
   "language": "python",
   "name": "python3"
  },
  "language_info": {
   "codemirror_mode": {
    "name": "ipython",
    "version": 3
   },
   "file_extension": ".py",
   "mimetype": "text/x-python",
   "name": "python",
   "nbconvert_exporter": "python",
   "pygments_lexer": "ipython3",
   "version": "3.11.7"
  },
  "toc": {
   "base_numbering": 1,
   "nav_menu": {},
   "number_sections": false,
   "sideBar": false,
   "skip_h1_title": false,
   "title_cell": "Table of Contents",
   "title_sidebar": "Contents",
   "toc_cell": false,
   "toc_position": {},
   "toc_section_display": false,
   "toc_window_display": false
  }
 },
 "nbformat": 4,
 "nbformat_minor": 4
}
