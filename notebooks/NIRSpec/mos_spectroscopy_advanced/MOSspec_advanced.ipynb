{
 "cells": [
  {
   "cell_type": "markdown",
   "metadata": {
    "editable": true,
    "slideshow": {
     "slide_type": ""
    },
    "tags": []
   },
   "source": [
    "# MOS Spectroscopy of Extragalactic Field\n",
    "\n",
    "**Use case:** emission-line measurements and template matching on 1D spectra.<br>\n",
    "**Data:** CEERS NIRSpec observations<br>\n",
    "**Tools:**  specutils, astropy, matplotlib, jdaviz.<br>\n",
    "**Cross-intrument:** <br>\n",
    "**Documentation:** This notebook is part of a STScI's larger [post-pipeline Data Analysis Tools Ecosystem](https://jwst-docs.stsci.edu/jwst-post-pipeline-data-analysis).<br>\n",
    "\n",
    "## Introduction\n",
    "\n",
    "In this notebook, we will inspect a set of spectra and perform a seris of spectroscopic analyses on an example spectrum, including continuum fitting and subtraction, line identification, centroiding and flux measurements, gaussian fitting, equivalent widths, and template fitting. We will do so using the interactive [jdaviz package](https://github.com/spacetelescope/jdaviz) and the command line. We will use a JWST/NIRSpec spectroscopic dataset from the [CEERS program](https://ceers.github.io/index.html).\n",
    "\n",
    "### Objective of the notebook\n",
    "The aim of the notebook is to showcase how to use the visualization tool Jdaviz or the combination Specutils+Matplotlib to measure the properties of the OII emission line in a NIRSpec spectrum.\n",
    "\n",
    "### Workflow\n",
    "- visualize the spectroscopic dataset in Mosviz\n",
    "- select one galaxy (s02904) and visualize it in Specviz2d\n",
    "- perform the 1D extraction of the bright companion using the Spectral Extraction plugin in Specviz2d\n",
    "- attach the wavelength axis to the extracted 1D spectrum\n",
    "- select the OII emission line and measure\n",
    "    - the redshift of the source\n",
    "    - the properties of the emission line\n",
    "- fit a model with continuum + a Gaussian to the OII emission line\n",
    "- perform the same tasks using Specutils and Matplotlib instead of Jdaviz\n",
    "- find the best-fitting template of the observed spectrum\n",
    "\n",
    "### System requirements\n",
    "First, we create an environment with jdaviz which contains all the spectroscopic packages we need.\n",
    "\n",
    "`conda create -n jdaviz python`<br>\n",
    "`conda activate jdaviz`<br>\n",
    "`pip install jdaviz`"
   ]
  },
  {
   "cell_type": "markdown",
   "metadata": {},
   "source": [
    "## Imports"
   ]
  },
  {
   "cell_type": "code",
   "execution_count": null,
   "metadata": {},
   "outputs": [],
   "source": [
    "# general os\n",
    "import zipfile\n",
    "import urllib.request\n",
    "from pathlib import Path\n",
    "\n",
    "# general plotting\n",
    "from matplotlib import pyplot as plt\n",
    "\n",
    "# table/math handling\n",
    "import numpy as np\n",
    "\n",
    "# astropy\n",
    "import astropy\n",
    "import astropy.units as u\n",
    "from astropy.io import fits, ascii\n",
    "from astropy.nddata import StdDevUncertainty\n",
    "from astropy.modeling import models\n",
    "from astropy.visualization import quantity_support\n",
    "\n",
    "# specutils\n",
    "import specutils\n",
    "from specutils import Spectrum1D, SpectralRegion\n",
    "from specutils.fitting import fit_generic_continuum\n",
    "from specutils.fitting import find_lines_threshold\n",
    "from specutils.fitting import fit_lines\n",
    "from specutils.manipulation import extract_region\n",
    "from specutils.analysis import centroid\n",
    "from specutils.analysis import line_flux\n",
    "from specutils.analysis import equivalent_width\n",
    "from specutils.analysis import template_comparison\n",
    "\n",
    "# jdaviz\n",
    "import jdaviz\n",
    "from jdaviz import Mosviz, Specviz2d, Specviz  # noqa\n",
    "\n",
    "# glue\n",
    "from glue.core.roi import XRangeROI\n",
    "\n",
    "np.seterr(all='ignore')  # hides irrelevant warnings about divide-by-zero, etc\n",
    "quantity_support()  # auto-recognizes units on matplotlib plots\n",
    "\n",
    "# Matplotlib parameters\n",
    "params = {'legend.fontsize': '18', \n",
    "          'axes.labelsize': '18',\n",
    "          'axes.titlesize': '18', \n",
    "          'xtick.labelsize': '18',\n",
    "          'ytick.labelsize': '18', \n",
    "          'lines.linewidth': 2, \n",
    "          'axes.linewidth': 2, \n",
    "          'animation.html': 'html5'}\n",
    "plt.rcParams.update(params)\n",
    "plt.rcParams.update({'figure.max_open_warning': 0})"
   ]
  },
  {
   "cell_type": "markdown",
   "metadata": {},
   "source": [
    "## Check versions. Should be:\n",
    "\n",
    "Numpy:  1.25.2<br>\n",
    "Astropy:  5.3.2<br>\n",
    "Specutils:  1.11.0<br>\n",
    "Jdaviz: 3.7"
   ]
  },
  {
   "cell_type": "code",
   "execution_count": null,
   "metadata": {},
   "outputs": [],
   "source": [
    "print(\"Numpy: \", np.__version__)\n",
    "print(\"Astropy: \", astropy.__version__)\n",
    "print(\"Specutils: \", specutils.__version__)\n",
    "print(\"Jdaviz: \", jdaviz.__version__)"
   ]
  },
  {
   "cell_type": "markdown",
   "metadata": {},
   "source": [
    "## Set path to data and download from box link"
   ]
  },
  {
   "cell_type": "code",
   "execution_count": null,
   "metadata": {},
   "outputs": [],
   "source": [
    "# Download the data from the old version of this notebook. They include the templates for fitting\n",
    "boxlink = 'https://data.science.stsci.edu/redirect/JWST/jwst-data_analysis_tools/mos_spectroscopy/mos_spectroscopy.zip'\n",
    "boxfile = Path('./mos_spectroscopy.zip')\n",
    "urllib.request.urlretrieve(boxlink, boxfile)\n",
    "\n",
    "zf = zipfile.ZipFile(boxfile, 'r')\n",
    "zf.extractall()"
   ]
  },
  {
   "cell_type": "code",
   "execution_count": null,
   "metadata": {},
   "outputs": [],
   "source": [
    "# Download the s2d and x1d files\n",
    "boxlink_ceers = 'https://data.science.stsci.edu/redirect/JWST/jwst-data_analysis_tools/mos_spectroscopy/mos_ceers_data.zip'\n",
    "boxfile_ceers = Path('./mos_ceers_data.zip')\n",
    "urllib.request.urlretrieve(boxlink_ceers, boxfile_ceers)\n",
    "\n",
    "zf = zipfile.ZipFile(boxfile_ceers, 'r')\n",
    "zf.extractall()"
   ]
  },
  {
   "cell_type": "markdown",
   "metadata": {
    "editable": true,
    "slideshow": {
     "slide_type": ""
    },
    "tags": [
     "hide-cell"
    ]
   },
   "source": [
    "**Developer note**:<br>\n",
    "The download of JWST data could happen directly from MAST, but the observations are organized in separate folders, while Mosviz wants the data in a single folder. So we go with a box download."
   ]
  },
  {
   "cell_type": "code",
   "execution_count": null,
   "metadata": {},
   "outputs": [],
   "source": [
    "# pathtodata = Path('/home/shared/preloaded-fits/jdaviz_data/mos_ceers_data')\n",
    "pathtodata = Path('./data')"
   ]
  },
  {
   "cell_type": "markdown",
   "metadata": {},
   "source": [
    "## Open data in Mosviz"
   ]
  },
  {
   "cell_type": "markdown",
   "metadata": {},
   "source": [
    "In Mosviz we can explore all the data products in the folder. This cell takes a minute or two to run. Since we are not including images, we can expand the 2D/1D spectra viewers to use the full width of the GUI. We can also keep the plugin tray open on metadata to check specifics of the files we are looking at."
   ]
  },
  {
   "cell_type": "raw",
   "metadata": {},
   "source": [
    "mosviz = Mosviz()\n",
    "mosviz.load_data(directory=pathtodata, instrument=\"nirspec\")\n",
    "mosviz.show()"
   ]
  },
  {
   "cell_type": "markdown",
   "metadata": {},
   "source": [
    "<img src='./mosviz_screenshot.png' alt=\"Mosviz with its 2D spectrum, 1D spectrum, and table viewer.\" width=\"900\"/>"
   ]
  },
  {
   "cell_type": "markdown",
   "metadata": {},
   "source": [
    "## Choose one galaxy"
   ]
  },
  {
   "cell_type": "markdown",
   "metadata": {},
   "source": [
    "We choose s02904 because we want to extract the very bright companion below the target."
   ]
  },
  {
   "cell_type": "code",
   "execution_count": null,
   "metadata": {},
   "outputs": [],
   "source": [
    "file1d = pathtodata / 'jw01345-o064_s02904_nirspec_f100lp-g140m_x1d.fits'\n",
    "file2d = pathtodata / 'jw01345-o064_s02904_nirspec_f100lp-g140m_s2d.fits'"
   ]
  },
  {
   "cell_type": "markdown",
   "metadata": {},
   "source": [
    "## Use Specviz2d to extract a better 1D spectrum\n",
    "\n",
    "We open the Spectral Extraction plugin and select the appropriate trace (Polynomial, order 3, on pixel 2), background (Manual, on pixel 8, width 2, statistic average), and extraction (From Plugin, Horne). We then click Extract and inspect the extracted spectrum in the 1D viewer."
   ]
  },
  {
   "cell_type": "code",
   "execution_count": null,
   "metadata": {},
   "outputs": [],
   "source": [
    "specviz2d = Specviz2d()\n",
    "specviz2d.load_data(file2d)\n",
    "specviz2d.show()"
   ]
  },
  {
   "cell_type": "markdown",
   "metadata": {
    "editable": true,
    "slideshow": {
     "slide_type": ""
    },
    "tags": [
     "hide-cell"
    ]
   },
   "source": [
    "**Developer note**<br>\n",
    "Is there a way to get out an uncertainty array from the extraction?<br>\n",
    "This is being worked on."
   ]
  },
  {
   "cell_type": "code",
   "execution_count": null,
   "metadata": {},
   "outputs": [],
   "source": [
    "# Get out extracted spectrum from Specviz2d\n",
    "spectra = specviz2d.get_data('Spectrum 1D')\n",
    "spectra"
   ]
  },
  {
   "cell_type": "code",
   "execution_count": null,
   "metadata": {},
   "outputs": [],
   "source": [
    "# Include some fake uncertainty for now\n",
    "spec1d = Spectrum1D(spectral_axis=spectra.spectral_axis,\n",
    "                    flux=spectra.flux,\n",
    "                    uncertainty=StdDevUncertainty((np.zeros(len(spectra.flux)) + 1E-13) * spectra.unit))\n",
    "spec1d"
   ]
  },
  {
   "cell_type": "code",
   "execution_count": null,
   "metadata": {},
   "outputs": [],
   "source": [
    "# And open in Specviz\n",
    "specviz = Specviz()\n",
    "specviz.load_data(spec1d, data_label='spec1d calibrated')\n",
    "specviz.show()"
   ]
  },
  {
   "cell_type": "markdown",
   "metadata": {},
   "source": [
    "There are still some artifacts in the data, but we can select a subset masking the artifacts and get out a spectrum without unwanted spikes. We can do so using the tool to select a subset with the \"add\" option (in the top bar) to select multiple regions as part of a single subset."
   ]
  },
  {
   "cell_type": "code",
   "execution_count": null,
   "metadata": {},
   "outputs": [],
   "source": [
    "# Create a subset in the area of interest if it has not been created manually\n",
    "try:\n",
    "    region1 = specviz.get_data(data_label='spec1d calibrated', spectral_subset='Subset 1')\n",
    "    print(region1)\n",
    "    region1_exists = True\n",
    "except Exception:\n",
    "    print(\"There are no subsets selected.\")\n",
    "    region1_exists = False\n",
    "    \n",
    "# Spectral region for masking artifacts\n",
    "if not region1_exists:\n",
    "    sv = specviz.app.get_viewer('spectrum-viewer')\n",
    "    sv.toolbar_active_subset.selected = []\n",
    "    sv.apply_roi(XRangeROI(1., 1.58))  "
   ]
  },
  {
   "cell_type": "code",
   "execution_count": null,
   "metadata": {},
   "outputs": [],
   "source": [
    "# Get spectrum out with mask\n",
    "spec1d_region = specviz.get_spectral_regions()\n",
    "spec1d_masked = extract_region(spec1d, spec1d_region['Subset 1'], return_single_spectrum=True)"
   ]
  },
  {
   "cell_type": "code",
   "execution_count": null,
   "metadata": {},
   "outputs": [],
   "source": [
    "# Load in specviz\n",
    "specviz.load_data(spec1d_masked, data_label='spec1d masked')"
   ]
  },
  {
   "cell_type": "code",
   "execution_count": null,
   "metadata": {},
   "outputs": [],
   "source": [
    "# Write the extracted spectrum to a fits file\n",
    "file_extracted = Path('./extracted_spectrum.fits')\n",
    "spec1d_masked.write(file_extracted, overwrite=True)"
   ]
  },
  {
   "cell_type": "code",
   "execution_count": null,
   "metadata": {},
   "outputs": [],
   "source": [
    "# Check that it has everything\n",
    "hdu = fits.open(file_extracted)\n",
    "hdu.info()"
   ]
  },
  {
   "cell_type": "code",
   "execution_count": null,
   "metadata": {},
   "outputs": [],
   "source": [
    "hdu[1].data"
   ]
  },
  {
   "cell_type": "markdown",
   "metadata": {},
   "source": [
    "## Workflow via API calls"
   ]
  },
  {
   "cell_type": "markdown",
   "metadata": {},
   "source": [
    "I can do some analysis on the spectrum using the plugins in the GUI. For reproducibility, I can do the same thing from the API, changing the parameters in the plugins programmatically."
   ]
  },
  {
   "cell_type": "code",
   "execution_count": null,
   "metadata": {},
   "outputs": [],
   "source": [
    "# Select a region in the spectrum\n",
    "sv = specviz.app.get_viewer('spectrum-viewer')"
   ]
  },
  {
   "cell_type": "code",
   "execution_count": null,
   "metadata": {},
   "outputs": [],
   "source": [
    "# Region with just line for line analysis\n",
    "sv.toolbar_active_subset.selected = []\n",
    "sv.apply_roi(XRangeROI(1.124, 1.131))  "
   ]
  },
  {
   "cell_type": "code",
   "execution_count": null,
   "metadata": {},
   "outputs": [],
   "source": [
    "# Region with some continuum for gaussian fit\n",
    "sv.toolbar_active_subset.selected = []\n",
    "sv.apply_roi(XRangeROI(1.05, 1.25))  "
   ]
  },
  {
   "cell_type": "code",
   "execution_count": null,
   "metadata": {},
   "outputs": [],
   "source": [
    "# Open line analysis plugin\n",
    "plugin_la = specviz.plugins['Line Analysis']\n",
    "plugin_la.open_in_tray()"
   ]
  },
  {
   "cell_type": "code",
   "execution_count": null,
   "metadata": {},
   "outputs": [],
   "source": [
    "# List what's in the data menu\n",
    "specviz.data_labels"
   ]
  },
  {
   "cell_type": "code",
   "execution_count": null,
   "metadata": {},
   "outputs": [],
   "source": [
    "# Input the appropriate spectrum and region\n",
    "plugin_la.dataset = 'spec1d masked'\n",
    "plugin_la.spectral_subset = 'Subset 2'"
   ]
  },
  {
   "cell_type": "code",
   "execution_count": null,
   "metadata": {},
   "outputs": [],
   "source": [
    "# Input the values for the continuum\n",
    "plugin_la.continuum = 'Surrounding'\n",
    "plugin_la.width = 7"
   ]
  },
  {
   "cell_type": "code",
   "execution_count": null,
   "metadata": {},
   "outputs": [],
   "source": [
    "# Return line analysis results\n",
    "plugin_la.get_results()"
   ]
  },
  {
   "cell_type": "code",
   "execution_count": null,
   "metadata": {},
   "outputs": [],
   "source": [
    "# Open line list plugin\n",
    "plugin_ll = specviz.plugins['Line Lists']\n",
    "plugin_ll.open_in_tray()"
   ]
  },
  {
   "cell_type": "markdown",
   "metadata": {
    "editable": true,
    "slideshow": {
     "slide_type": ""
    },
    "tags": [
     "hide-cell"
    ]
   },
   "source": [
    "**Developer note**<br>\n",
    "The line list plugin cannot yet be accessed by the notebook. I can do it in the GUI though."
   ]
  },
  {
   "cell_type": "markdown",
   "metadata": {},
   "source": [
    "Open line list plugin. Select the SDSS IV line list. Load the Oxygen II lines and Hb. Go back to line analysis plugin and associate the Oxygen II line with the line we just analyzed."
   ]
  },
  {
   "cell_type": "code",
   "execution_count": null,
   "metadata": {},
   "outputs": [],
   "source": [
    "# Open model fitting plugin\n",
    "plugin_mf = specviz.plugins['Model Fitting']\n",
    "plugin_mf.open_in_tray()"
   ]
  },
  {
   "cell_type": "code",
   "execution_count": null,
   "metadata": {},
   "outputs": [],
   "source": [
    "# Input the appropriate datasets\n",
    "plugin_mf.dataset = 'spec1d masked'\n",
    "plugin_mf.spectral_subset = 'Subset 3'"
   ]
  },
  {
   "cell_type": "code",
   "execution_count": null,
   "metadata": {},
   "outputs": [],
   "source": [
    "# Input the model components\n",
    "plugin_mf.create_model_component(model_component='Polynomial1D',\n",
    "                                 poly_order=2,\n",
    "                                 model_component_label='P2')\n",
    "plugin_mf.create_model_component(model_component='Gaussian1D',\n",
    "                                 model_component_label='G')"
   ]
  },
  {
   "cell_type": "code",
   "execution_count": null,
   "metadata": {},
   "outputs": [],
   "source": [
    "plugin_mf.get_model_component('G')"
   ]
  },
  {
   "cell_type": "code",
   "execution_count": null,
   "metadata": {},
   "outputs": [],
   "source": [
    "plugin_mf.set_model_component('G', 'stddev', 0.001)\n",
    "plugin_mf.set_model_component('G', 'mean', 1.128)"
   ]
  },
  {
   "cell_type": "code",
   "execution_count": null,
   "metadata": {},
   "outputs": [],
   "source": [
    "# Model equation gets populated automatically\n",
    "plugin_mf.equation = 'P2+G'"
   ]
  },
  {
   "cell_type": "code",
   "execution_count": null,
   "metadata": {},
   "outputs": [],
   "source": [
    "# After we run this, we go to the GUI and check that the fit makes sense\n",
    "plugin_mf.calculate_fit()"
   ]
  },
  {
   "cell_type": "code",
   "execution_count": null,
   "metadata": {},
   "outputs": [],
   "source": [
    "specviz.get_model_parameters()"
   ]
  },
  {
   "cell_type": "markdown",
   "metadata": {},
   "source": [
    "# Same workflow with specutils (old workflow)\n",
    "The same workflow can be achieved using directly the package specutils (which is used under the hood in jdaviz) and using matplotlib for a static visualization."
   ]
  },
  {
   "cell_type": "markdown",
   "metadata": {},
   "source": [
    "## Fit and substract the continuum"
   ]
  },
  {
   "cell_type": "code",
   "execution_count": null,
   "metadata": {},
   "outputs": [],
   "source": [
    "cont_spec1d = fit_generic_continuum(spec1d_masked)\n",
    "cont_fit = cont_spec1d(spec1d_masked.spectral_axis)"
   ]
  },
  {
   "cell_type": "code",
   "execution_count": null,
   "metadata": {},
   "outputs": [],
   "source": [
    "plt.figure(figsize=[10, 6])\n",
    "plt.plot(spec1d_masked.spectral_axis, spec1d_masked.flux, label=\"data\")\n",
    "plt.plot(spec1d_masked.spectral_axis, cont_fit, label=\"modeled continuum\")\n",
    "plt.xlabel(\"wavelength ({:latex})\".format(spec1d_masked.spectral_axis.unit))\n",
    "plt.ylabel(\"flux ({:latex})\".format(spec1d_masked.flux.unit))\n",
    "plt.legend()\n",
    "plt.title(\"Observed spectrum and fitted continuum\")\n",
    "plt.show()\n",
    "\n",
    "plt.figure(figsize=[10, 6])\n",
    "plt.plot(spec1d_masked.spectral_axis, spec1d_masked.uncertainty.array, label=\"data\")\n",
    "plt.xlabel(\"wavelength ({:latex})\".format(spec1d_masked.spectral_axis.unit))\n",
    "plt.ylabel(\"uncertainty ({:latex})\".format(spec1d_masked.uncertainty.unit))\n",
    "plt.legend()\n",
    "plt.title(\"Uncertianty of observed spectrum\")\n",
    "plt.show()"
   ]
  },
  {
   "cell_type": "markdown",
   "metadata": {},
   "source": [
    "### Creating the continuum-subtracted spectrum\n",
    "Specutils will figure out what to do with the uncertainty!"
   ]
  },
  {
   "cell_type": "code",
   "execution_count": null,
   "metadata": {},
   "outputs": [],
   "source": [
    "spec1d_sub = spec1d_masked - cont_fit\n",
    "spec1d_sub"
   ]
  },
  {
   "cell_type": "code",
   "execution_count": null,
   "metadata": {},
   "outputs": [],
   "source": [
    "plt.figure(figsize=[10, 6])\n",
    "plt.plot(spec1d_sub.spectral_axis, spec1d_sub.flux, label=\"data\")\n",
    "plt.xlabel(\"wavelength ({:latex})\".format(spec1d_sub.spectral_axis.unit))\n",
    "plt.ylabel(\"flux ({:latex})\".format(spec1d_sub.flux.unit))\n",
    "plt.legend()\n",
    "plt.title(\"Continuum-subracted spectrum\")\n",
    "plt.show()\n",
    "\n",
    "plt.figure(figsize=[10, 6])\n",
    "plt.plot(spec1d_sub.spectral_axis, spec1d_sub.uncertainty.array, label=\"data\")\n",
    "plt.xlabel(\"wavelength ({:latex})\".format(spec1d_sub.spectral_axis.unit))\n",
    "plt.ylabel(\"uncertainty ({:latex})\".format(spec1d_sub.uncertainty.unit))\n",
    "plt.legend()\n",
    "plt.title(\"Uncertainty of continuum-subracted spectrum\")\n",
    "plt.show()"
   ]
  },
  {
   "cell_type": "markdown",
   "metadata": {},
   "source": [
    "## Find emission and absorption lines"
   ]
  },
  {
   "cell_type": "code",
   "execution_count": null,
   "metadata": {},
   "outputs": [],
   "source": [
    "lines = find_lines_threshold(spec1d_sub, noise_factor=3)\n",
    "lines"
   ]
  },
  {
   "cell_type": "markdown",
   "metadata": {},
   "source": [
    "Plot the emission lines on the spectrum."
   ]
  },
  {
   "cell_type": "code",
   "execution_count": null,
   "metadata": {},
   "outputs": [],
   "source": [
    "plt.figure(figsize=[10, 6])\n",
    "plt.plot(spec1d_sub.spectral_axis, spec1d_sub.flux, label=\"data\")\n",
    "plt.axvline(lines['line_center'][0].value, color=\"red\", alpha=0.5, label='emission lines')\n",
    "for line in lines:\n",
    "    if line['line_type'] == 'emission':\n",
    "        plt.axvline(line['line_center'].value, color='red', alpha=0.5)\n",
    "plt.xlabel(\"wavelength ({:latex})\".format(spec1d_sub.spectral_axis.unit))\n",
    "plt.ylabel(\"flux ({:latex})\".format(spec1d_sub.flux.unit))\n",
    "plt.legend()\n",
    "plt.title(\"Continuum-subtracted spectrum and marked lines using find_lines_threshold\")\n",
    "plt.show()"
   ]
  },
  {
   "cell_type": "markdown",
   "metadata": {},
   "source": [
    "Work by hand on a single line."
   ]
  },
  {
   "cell_type": "code",
   "execution_count": null,
   "metadata": {},
   "outputs": [],
   "source": [
    "# Define limits for plotting\n",
    "x_min = 1.1\n",
    "x_max = 1.16\n",
    "\n",
    "# Define limits for line region\n",
    "line_min = 1.124*u.um\n",
    "line_max = 1.131*u.um"
   ]
  },
  {
   "cell_type": "code",
   "execution_count": null,
   "metadata": {},
   "outputs": [],
   "source": [
    "plt.figure(figsize=[10, 6])\n",
    "plt.plot(spec1d_sub.spectral_axis, spec1d_sub.flux, label=\"data\")\n",
    "plt.scatter(spec1d_sub.spectral_axis, spec1d_sub.flux, label=None)\n",
    "plt.axvline(lines['line_center'][0].value, color=\"red\", alpha=0.5, label='[OII]')\n",
    "for line in lines:\n",
    "    if line['line_type'] == 'emission':\n",
    "        plt.axvline(line['line_center'].value, alpha=0.5, color='red')\n",
    "plt.xlim(x_min, x_max)\n",
    "plt.xlabel(\"wavelength ({:latex})\".format(spec1d_sub.spectral_axis.unit))\n",
    "plt.ylabel(\"flux ({:latex})\".format(spec1d_sub.flux.unit))\n",
    "plt.legend()\n",
    "plt.title(\"Continuum-subtracted spectrum zoomed on [OII]\")\n",
    "plt.show()"
   ]
  },
  {
   "cell_type": "markdown",
   "metadata": {},
   "source": [
    "## Measure line centroids and fluxes"
   ]
  },
  {
   "cell_type": "code",
   "execution_count": null,
   "metadata": {},
   "outputs": [],
   "source": [
    "# Example with just one line\n",
    "centroid(spec1d_sub, SpectralRegion(line_min, line_max))"
   ]
  },
  {
   "cell_type": "code",
   "execution_count": null,
   "metadata": {},
   "outputs": [],
   "source": [
    "sline = centroid(spec1d_sub, SpectralRegion(line_min, line_max))\n",
    "\n",
    "plt.figure(figsize=[10, 6])\n",
    "plt.plot(spec1d_sub.spectral_axis, spec1d_sub.flux, label=\"data\")\n",
    "plt.scatter(spec1d_sub.spectral_axis, spec1d_sub.flux, label=None)\n",
    "plt.axvline(sline.value, color='red', label=\"[OII]\")\n",
    "plt.axhline(0, color='black', label='flux = 0')\n",
    "plt.xlim(x_min, x_max)\n",
    "plt.xlabel(\"wavelength ({:latex})\".format(spec1d_sub.spectral_axis.unit))\n",
    "plt.ylabel(\"flux ({:latex})\".format(spec1d_sub.flux.unit))\n",
    "plt.legend()\n",
    "plt.title(\"Continuum-subtracted spectrum zoomed on [OII]\")\n",
    "plt.show()"
   ]
  },
  {
   "cell_type": "code",
   "execution_count": null,
   "metadata": {},
   "outputs": [],
   "source": [
    "line_flux(spec1d_sub, SpectralRegion(line_min, line_max))  "
   ]
  },
  {
   "cell_type": "markdown",
   "metadata": {},
   "source": [
    "## Fit the line with a Gaussian"
   ]
  },
  {
   "cell_type": "code",
   "execution_count": null,
   "metadata": {},
   "outputs": [],
   "source": [
    "g_init = models.Gaussian1D(mean=1.1278909*u.um, stddev=0.001*u.um)\n",
    "g_fit = fit_lines(spec1d_sub, g_init)\n",
    "spec1d_fit = g_fit(spec1d_sub.spectral_axis)\n",
    "g_fit"
   ]
  },
  {
   "cell_type": "code",
   "execution_count": null,
   "metadata": {},
   "outputs": [],
   "source": [
    "plt.figure(figsize=[10, 6])\n",
    "plt.plot(spec1d_sub.spectral_axis, spec1d_sub.flux, label='data')\n",
    "plt.plot(spec1d_sub.spectral_axis, spec1d_fit, color='darkorange', label='Gaussian fit')\n",
    "plt.xlim(x_min, x_max)\n",
    "plt.xlabel(\"wavelength ({:latex})\".format(spec1d_sub.spectral_axis.unit))\n",
    "plt.ylabel(\"flux ({:latex})\".format(spec1d_sub.flux.unit))\n",
    "plt.legend()\n",
    "plt.title('Gaussian fit to the [OII] line')\n",
    "plt.show()"
   ]
  },
  {
   "cell_type": "markdown",
   "metadata": {},
   "source": [
    "## Measure the equivalent width of the lines\n",
    "This needs the spectrum continuum normalized."
   ]
  },
  {
   "cell_type": "code",
   "execution_count": null,
   "metadata": {},
   "outputs": [],
   "source": [
    "spec1d_norm = spec1d_masked / cont_fit"
   ]
  },
  {
   "cell_type": "code",
   "execution_count": null,
   "metadata": {
    "editable": true,
    "slideshow": {
     "slide_type": ""
    },
    "tags": []
   },
   "outputs": [],
   "source": [
    "plt.figure(figsize=[10, 6])\n",
    "plt.plot(spec1d_norm.spectral_axis, spec1d_norm.flux, label='data')\n",
    "plt.axhline(1, color='black', label='flux = 1')\n",
    "plt.xlabel(\"wavelength ({:latex})\".format(spec1d_norm.spectral_axis.unit))\n",
    "plt.ylabel(\"flux (normalized)\")\n",
    "plt.xlim(x_min, x_max)\n",
    "plt.legend()\n",
    "plt.title(\"Continuum-normalized spectrum, zoomed on [OII]\")\n",
    "plt.show()\n",
    "\n",
    "plt.figure(figsize=[10, 6])\n",
    "plt.plot(spec1d_norm.spectral_axis, spec1d_norm.uncertainty.array, label='data')\n",
    "plt.xlabel(\"wavelength ({:latex})\".format(spec1d_norm.spectral_axis.unit))\n",
    "plt.ylabel(\"uncertainty (normalized)\")\n",
    "plt.xlim(x_min, x_max)\n",
    "plt.legend()\n",
    "plt.title(\"Uncertainty of continuum-normalized spectrum, zoomed on [OII]\")\n",
    "plt.show()"
   ]
  },
  {
   "cell_type": "code",
   "execution_count": null,
   "metadata": {},
   "outputs": [],
   "source": [
    "equivalent_width(spec1d_norm, regions=SpectralRegion(line_min, line_max))"
   ]
  },
  {
   "cell_type": "markdown",
   "metadata": {
    "editable": true,
    "slideshow": {
     "slide_type": ""
    },
    "tags": []
   },
   "source": [
    "## Find the best-fitting template\n",
    "It needs a list of templates and the redshift of the observed galaxy. For the templates, I am using a set of model SEDs generated with Bruzual & Charlot stellar population models, emission lines, and dust attenuation as described in Pacifici et al. (2012)."
   ]
  },
  {
   "cell_type": "markdown",
   "metadata": {
    "editable": true,
    "slideshow": {
     "slide_type": ""
    },
    "tags": [
     "hide-cell"
    ]
   },
   "source": [
    "**Developer note**<br>\n",
    "Maybe there is a way to speed this up (maybe using astropy model_sets)? This fit is run with 100 models, but ideally, if we want to extract physical parameters from this, we would need at least 10,000 models. A dictionary structure with meaningful keys (which can be, e.g., tuples of the relevant physical parameters) could be better than a list? It could make later analysis much clearer than having to map from the list indices back to the relevant parameters."
   ]
  },
  {
   "cell_type": "code",
   "execution_count": null,
   "metadata": {},
   "outputs": [],
   "source": [
    "templatedir = './mos_spectroscopy/templates/'"
   ]
  },
  {
   "cell_type": "code",
   "execution_count": null,
   "metadata": {
    "scrolled": true
   },
   "outputs": [],
   "source": [
    "# Redshift taken from the Specviz analysis\n",
    "zz = 2.0256\n",
    "\n",
    "f_lamb_units = u.erg / u.s / (u.cm**2) / u.AA\n",
    "\n",
    "templatelist = []\n",
    "# Run on 30 out of 100 for speed\n",
    "for i in range(1, 30):\n",
    "    template_file = \"{0}{1:05d}.dat\".format(templatedir, i)\n",
    "    template = ascii.read(template_file)\n",
    "    temp1d = Spectrum1D(spectral_axis=(template['col1']/1E4)*u.um, flux=template['col2']*f_lamb_units)\n",
    "    templatelist.append(temp1d)"
   ]
  },
  {
   "cell_type": "code",
   "execution_count": null,
   "metadata": {},
   "outputs": [],
   "source": [
    "# Change the units of the observed spectrum to match the template\n",
    "spec1d_masked_flamb = spec1d_masked.new_flux_unit(f_lamb_units)\n",
    "# The new_flux_unit function does not change the uncertainty and specviz complains that there is a mismatch\n",
    "# so we re-add the uncertainty like we did a few cells above\n",
    "spec1d_masked_flamb_unc = Spectrum1D(spectral_axis=spec1d_masked_flamb.spectral_axis,\n",
    "                                     flux=spec1d_masked_flamb.flux,\n",
    "                                     uncertainty=StdDevUncertainty((np.zeros(len(spec1d_masked_flamb.flux)) + 1E-20) * spec1d_masked_flamb.unit))"
   ]
  },
  {
   "cell_type": "code",
   "execution_count": null,
   "metadata": {},
   "outputs": [],
   "source": [
    "# Take a look at the observed spectrum and one of the templates at the correct redshift\n",
    "mean_obs = np.mean(spec1d_masked_flamb_unc.flux)\n",
    "mean_temp = np.mean(templatelist[0].flux)\n",
    "temp_for_plot = Spectrum1D(spectral_axis=templatelist[0].spectral_axis * (1.+zz),\n",
    "                           flux=templatelist[0].flux*mean_obs/mean_temp)\n",
    "\n",
    "plt.figure(figsize=[10, 6])\n",
    "plt.plot(spec1d_masked_flamb_unc.spectral_axis, spec1d_masked_flamb_unc.flux, label='data')\n",
    "plt.plot(temp_for_plot.spectral_axis, temp_for_plot.flux, label='model', alpha=0.6)\n",
    "plt.xlabel(\"wavelength ({:latex})\".format(spec1d_masked_flamb_unc.spectral_axis.unit))\n",
    "plt.ylabel(\"flux (normalized)\")\n",
    "plt.xlim(1.1, 1.7)\n",
    "plt.ylim(0, 2e-18)\n",
    "plt.legend()\n",
    "plt.title(\"Observed spectrum compared to one template at correct redshift\")\n",
    "plt.show()"
   ]
  },
  {
   "cell_type": "code",
   "execution_count": null,
   "metadata": {},
   "outputs": [],
   "source": [
    "tm_results = template_comparison.template_match(observed_spectrum=spec1d_masked_flamb_unc, \n",
    "                                                spectral_templates=templatelist, \n",
    "                                                resample_method=\"flux_conserving\", \n",
    "                                                redshift=zz)\n",
    "tm_results[0]"
   ]
  },
  {
   "cell_type": "code",
   "execution_count": null,
   "metadata": {},
   "outputs": [],
   "source": [
    "plt.figure(figsize=[10, 6])\n",
    "plt.plot(spec1d_masked_flamb_unc.spectral_axis, spec1d_masked_flamb_unc.flux, label=\"data\")\n",
    "plt.plot(tm_results[0].spectral_axis, tm_results[0].flux, color='r', alpha=0.5, label='model')\n",
    "plt.xlim(1.0, 1.7)\n",
    "plt.ylim(0, 5e-19)\n",
    "plt.xlabel(\"wavelength ({:latex})\".format(spec1d_masked_flamb_unc.spectral_axis.unit))\n",
    "plt.ylabel(\"flux ({:latex})\".format(spec1d_masked_flamb_unc.flux.unit))\n",
    "plt.legend()\n",
    "plt.title(\"Observed spectrum and best-fitting model template\")\n",
    "plt.show()"
   ]
  },
  {
   "cell_type": "markdown",
   "metadata": {},
   "source": [
    "## New instance of Specviz with spectrum and template\n",
    "Passing the spectra with different (but compatible) units. Specviz adopts the first and converts the second spectrum appropriately."
   ]
  },
  {
   "cell_type": "code",
   "execution_count": null,
   "metadata": {},
   "outputs": [],
   "source": [
    "specviz_2 = Specviz()\n",
    "specviz_2.load_data(spec1d_masked, data_label='observed') # This is in MJy\n",
    "specviz_2.load_data(tm_results[0], data_label='model') # This is in erg/(s cm^2 A)\n",
    "specviz_2.show()"
   ]
  },
  {
   "cell_type": "markdown",
   "metadata": {},
   "source": [
    "<img style=\"float: right;\" src=\"https://raw.githubusercontent.com/spacetelescope/notebooks/master/assets/stsci_pri_combo_mark_horizonal_white_bkgd.png\" alt=\"Space Telescope Logo\" width=\"200px\"/>"
   ]
  },
  {
   "cell_type": "markdown",
   "metadata": {},
   "source": [
    "Notebook created by Camilla Pacifici (cpacifici@stsci.edu)<br>\n",
    "Updated on September 14, 2023"
   ]
  }
 ],
 "metadata": {
  "kernelspec": {
   "display_name": "Python 3 (ipykernel)",
   "language": "python",
   "name": "python3"
  },
  "language_info": {
   "codemirror_mode": {
    "name": "ipython",
    "version": 3
   },
   "file_extension": ".py",
   "mimetype": "text/x-python",
   "name": "python",
   "nbconvert_exporter": "python",
   "pygments_lexer": "ipython3",
   "version": "3.11.6"
  }
 },
 "nbformat": 4,
 "nbformat_minor": 4
}
