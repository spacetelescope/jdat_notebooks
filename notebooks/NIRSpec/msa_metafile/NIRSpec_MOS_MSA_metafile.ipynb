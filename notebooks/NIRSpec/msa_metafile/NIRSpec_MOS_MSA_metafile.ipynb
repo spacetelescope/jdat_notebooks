{
 "cells": [
  {
   "cell_type": "markdown",
   "id": "c62ab04c-6a0b-4cbe-bba1-d193627d0688",
   "metadata": {},
   "source": [
    "<a id='top'></a>\n",
    "<img style=\"float: center;\" src='https://github.com/STScI-MIRI/MRS-ExampleNB/raw/main/assets/banner1.png' alt=\"stsci_logo\" width=\"1000px\"/>\n",
    "\n",
    "# NIRSpec MOS MSA metafile\n",
    "\n",
    "The \n",
    "[MSA metadata file](https://jwst-pipeline.readthedocs.io/en/latest/jwst/data_products/msa_metadata.html)\n",
    "records information about \n",
    "NIRSpec [MOS](https://jwst-docs.stsci.edu/jwst-near-infrared-spectrograph/nirspec-observing-modes/nirspec-multi-object-spectroscopy) (multi-object spectroscopy)\n",
    "[MSA](https://jwst-docs.stsci.edu/jwst-near-infrared-spectrograph/nirspec-instrumentation/nirspec-micro-shutter-assembly) (mirco-shutter assembly)\n",
    "configurations as planned by \n",
    "[APT](https://jwst-docs.stsci.edu/jwst-astronomer-s-proposal-tool-overview)'s\n",
    "[MSA Planning Tool (MPT)](https://jwst-docs.stsci.edu/jwst-near-infrared-spectrograph/nirspec-apt-templates/nirspec-multi-object-spectroscopy-apt-template/nirspec-msa-planning-tool-mpt):\n",
    "\n",
    "* `SHUTTER_IMAGE` (2D array): map of which MSA shutters were open and closed\n",
    "* `SHUTTER_INFO` (table): for each shutter, it is part of a longer slit, and does it contain a science target or empty background?\n",
    "* `SOURCE_INFO` (table): catalog of science targets plus fake targets in empty slits\n",
    "\n",
    "They are used by the \n",
    "[JWST pipeline](https://jwst-docs.stsci.edu/jwst-science-calibration-pipeline) \n",
    "to extract spectra for sources.\n",
    "The files are available on MAST.\n",
    "Each NIRSpec MOS data product includes the name of the associated MSA metadata file in its header (keyword `MSAMETFL`).\n",
    "\n",
    "The pipeline expects the MSA metadata file to be in the same directory as the input data files. Below, we demonstrate editing the MSA metafile. We save this file in a new directory *using the same filename* and link to the data files from that directory. The pipeline can then be run from that directory, and the headers will still point to the MSA metadata file. \n",
    "Alternatively, if the updated MSA metadata file were given a new filename, then you must also edit the data file headers to point to the new MSA metadata file."
   ]
  },
  {
   "cell_type": "markdown",
   "id": "d8d2233b",
   "metadata": {},
   "source": [
    "Below we explore MSA metadata file contents and show how to edit it for:\n",
    "* subset of sources\n",
    "* science vs. background shutters\n",
    "* point source vs. extended targets (used by the path loss correction)\n",
    "\n",
    "Finally we show how to:\n",
    "* view the shutter image map"
   ]
  },
  {
   "cell_type": "markdown",
   "id": "416191df-b66b-4a61-8cf6-868adbe97b6b",
   "metadata": {},
   "source": [
    "MSA metadata file edits are also covered in other example notebooks:\n",
    "* [NSClean](https://github.com/spacetelescope/jwst-caveat-examples/blob/main/NIRSPEC_MOS/nrs_mos_clean_1f_noise_workaround.ipynb)\n",
    "* [JWebbinar 7](https://github.com/spacetelescope/jwebbinar_prep/blob/faf56cd5f2cadca15e72be4180cd7f957ff3b1d8/mos_session/jwebbinar7_nirspecmos.ipynb) also on NIRSpec MOS pipeline processing"
   ]
  },
  {
   "cell_type": "code",
   "execution_count": null,
   "id": "b5c19165-2e23-4b28-b639-f1d79b627fc9",
   "metadata": {},
   "outputs": [],
   "source": [
    "import copy\n",
    "import csv\n",
    "from glob import glob\n",
    "import numpy as np\n",
    "import matplotlib.pyplot as plt\n",
    "import matplotlib as mpl\n",
    "#%matplotlib notebook  # interactive plots\n",
    "%matplotlib inline\n",
    "import os\n",
    "import requests\n",
    "\n",
    "from astropy.io import fits\n",
    "from astropy.table import Table\n",
    "import astroquery\n",
    "from astroquery.mast import Observations  # MAST\n",
    "print('astroquery version', astroquery.__version__)"
   ]
  },
  {
   "cell_type": "code",
   "execution_count": null,
   "id": "bcefb916",
   "metadata": {},
   "outputs": [],
   "source": [
    "def single_value(x):\n",
    "    \"\"\"Determine whether the input is a single integer or float.\n",
    "    True = one number; False = multiple numbers (list / tuple / array / set)\n",
    "\n",
    "    Parameters\n",
    "    ----------\n",
    "    x : int, float, list, tup, etc\n",
    "\n",
    "    Returns\n",
    "    -------\n",
    "    value : bool\n",
    "        True if x is an integer or float. Otherwise false.\n",
    "    \"\"\"\n",
    "    return isinstance(x, (int, float))\n",
    "\n",
    "\n",
    "def filter_table(full_table, **kwargs):\n",
    "    \"\"\"\n",
    "    Filters an Astropy Table based an arbitrary number of input column-value pairs.\n",
    "    Each value can be either a single value or a list (or tuple, array, or set).\n",
    "    Example:\n",
    "    select_shutter_table = filter_table(shutter_table, msa_metadata_id=1, dither_point_index=1, source_id=[6355,5144])\n",
    "\n",
    "    Parameters\n",
    "    ----------\n",
    "    full_table : astropy.table.Table\n",
    "        Table to be filtered\n",
    "    Returns\n",
    "    -------\n",
    "    filtered_table : astropy.table.Table\n",
    "        Table containing only requested columns/values\n",
    "    \"\"\"\n",
    "    filtered_table = full_table\n",
    "    for column, value in kwargs.items():\n",
    "        if single_value(value):\n",
    "            filtered_table = filtered_table[filtered_table[column] == value]\n",
    "        else: # list\n",
    "            filtered_table = filtered_table[[(item in value) for item in filtered_table[column]]]\n",
    "    return filtered_table"
   ]
  },
  {
   "cell_type": "code",
   "execution_count": null,
   "id": "58cedc2f",
   "metadata": {},
   "outputs": [],
   "source": [
    "# Helper function to download JWST files from MAST\n",
    "def download_jwst_files(filenames, download_dir, mast_dir='mast:jwst/product'):\n",
    "    \"\"\"\n",
    "    Helper function to download JWST files from MAST.\n",
    "\n",
    "    Parameters:\n",
    "    ----------\n",
    "    filenames: list of str\n",
    "        List of filenames to download.\n",
    "    download_dir: str\n",
    "        Directory where the files will be downloaded.\n",
    "    mast_dir: str\n",
    "        MAST directory containing JWST products.\n",
    "\n",
    "    Returns:\n",
    "    -------\n",
    "    downloaded_files: list of str\n",
    "        List of downloaded file paths.\n",
    "    \"\"\"\n",
    "    # Download data\n",
    "    downloaded_files = []\n",
    "    os.makedirs(download_dir, exist_ok=True)\n",
    "    for filename in filenames:\n",
    "        filename = os.path.basename(filename)\n",
    "        mast_path = os.path.join(mast_dir, filename)\n",
    "        local_path = os.path.join(download_dir, filename)\n",
    "        if os.path.exists(local_path):\n",
    "            print(local_path, 'EXISTS')\n",
    "        else:\n",
    "            # Can let this command check if local file exists\n",
    "            # However, it will delete it if it's there\n",
    "            # and the wrong size (e.g., reprocessed)\n",
    "            Observations.download_file(mast_path,   local_path=local_path)\n",
    "        downloaded_files.append(local_path)\n",
    "\n",
    "    return downloaded_files"
   ]
  },
  {
   "cell_type": "code",
   "execution_count": null,
   "id": "49bc054e",
   "metadata": {},
   "outputs": [],
   "source": [
    "# Create links in output_dir directory to source files\n",
    "def link_to_files(source_files, output_dir):\n",
    "    \"\"\"Create symlinks to the given source_files in the output_dir directory\n",
    "\n",
    "    Parameters\n",
    "    ----------\n",
    "    source_files : list\n",
    "        List of filenames\n",
    "\n",
    "    output_dir : str\n",
    "        Directory in which to create symlinks\n",
    "    \"\"\"\n",
    "    for source_file in source_files:\n",
    "        link = os.path.join(output_dir, os.path.basename(source_file))\n",
    "        print(link, '->', source_file)\n",
    "        if not os.path.exists(link):\n",
    "            os.symlink(os.path.abspath(source_file), link)"
   ]
  },
  {
   "cell_type": "code",
   "execution_count": null,
   "id": "24afe711",
   "metadata": {},
   "outputs": [],
   "source": [
    "def download_file(url, download_dir=''):\n",
    "    \"\"\"Simple script to download small files from MAST\n",
    "\n",
    "    Parameters\n",
    "    ----------\n",
    "    url : str\n",
    "        URL to a specific file in MAST\n",
    "\n",
    "    download_dir : str\n",
    "        Directory into which the file will be downloaded\n",
    "        \n",
    "    Returns\n",
    "    -------\n",
    "    filename : str\n",
    "        Name of downloaded file\n",
    "    \"\"\"\n",
    "    filename = os.path.basename(url)\n",
    "    if download_dir:\n",
    "        if os.path.isdir(download_dir):\n",
    "            filename = os.path.join(download_dir, filename)\n",
    "    if os.path.exists(filename):\n",
    "        print(filename, 'EXISTS')\n",
    "    else:\n",
    "        print('DOWNLOADING', filename)\n",
    "        r = requests.get(url, allow_redirects=True)\n",
    "        open(filename, 'wb').write(r.content)\n",
    "    return filename"
   ]
  },
  {
   "cell_type": "markdown",
   "id": "24d9771f",
   "metadata": {},
   "source": [
    "# MSA metafile\n",
    "\n"
   ]
  },
  {
   "cell_type": "markdown",
   "id": "39780723-7cdf-4d2b-91d7-de511adb82a7",
   "metadata": {},
   "source": [
    "Download an s2d file for a given source_id and from the metadata, get the name of the associated MSA metafile. "
   ]
  },
  {
   "cell_type": "code",
   "execution_count": null,
   "id": "cd8edfb3",
   "metadata": {},
   "outputs": [],
   "source": [
    "# If you know the filename, you can skip this section\n",
    "#msa_metafile = 'jw02736007001_01_msa.fits'"
   ]
  },
  {
   "cell_type": "code",
   "execution_count": null,
   "id": "2661d84a",
   "metadata": {},
   "outputs": [],
   "source": [
    "# Define data directory\n",
    "data_dir = 'data'\n",
    "os.makedirs(data_dir, exist_ok=True)"
   ]
  },
  {
   "cell_type": "code",
   "execution_count": null,
   "id": "9768e6af",
   "metadata": {
    "scrolled": true
   },
   "outputs": [],
   "source": [
    "source_id = 6355  # z = 7.665\n",
    "data_file = 'jw02736-o007_s%09d_nirspec_f290lp-g395m_s2d.fits' % source_id\n",
    "data_file = download_jwst_files([data_file], data_dir)[0]\n",
    "data_file"
   ]
  },
  {
   "cell_type": "code",
   "execution_count": null,
   "id": "ca8818ff",
   "metadata": {},
   "outputs": [],
   "source": [
    "msa_metafile_name = fits.getval(data_file, 'MSAMETFL')\n",
    "msa_metafile_name"
   ]
  },
  {
   "cell_type": "code",
   "execution_count": null,
   "id": "bf31f932",
   "metadata": {},
   "outputs": [],
   "source": [
    "msa_metafile = download_jwst_files([msa_metafile_name], data_dir)[0]\n",
    "msa_metafile"
   ]
  },
  {
   "cell_type": "markdown",
   "id": "e57c0393",
   "metadata": {},
   "source": [
    "# Load MSA metafile and inspect contents"
   ]
  },
  {
   "cell_type": "code",
   "execution_count": null,
   "id": "8474edd4",
   "metadata": {},
   "outputs": [],
   "source": [
    "msa_hdu_list = fits.open(msa_metafile)\n",
    "msa_hdu_list.info()"
   ]
  },
  {
   "cell_type": "code",
   "execution_count": null,
   "id": "9f062cf0",
   "metadata": {},
   "outputs": [],
   "source": [
    "# Load these tables; we'll inspect and edit them below\n",
    "source_table = Table(msa_hdu_list['SOURCE_INFO'].data)\n",
    "shutter_table = Table(msa_hdu_list['SHUTTER_INFO'].data)"
   ]
  },
  {
   "cell_type": "code",
   "execution_count": null,
   "id": "d8cb2318",
   "metadata": {},
   "outputs": [],
   "source": [
    "msa_hdu_list['PRIMARY'].header"
   ]
  },
  {
   "cell_type": "code",
   "execution_count": null,
   "id": "9f84849e",
   "metadata": {},
   "outputs": [],
   "source": [
    "msa_hdu_list['PRIMARY'].header['DATE']"
   ]
  },
  {
   "cell_type": "code",
   "execution_count": null,
   "id": "bfdd4ff0",
   "metadata": {},
   "outputs": [],
   "source": [
    "# The datamodel shows the same info in a longer format\n",
    "#from jwst import datamodels\n",
    "#msa_model = datamodels.open(msa_metafile)\n",
    "#msa_model.info(max_rows=99999)"
   ]
  },
  {
   "cell_type": "markdown",
   "id": "17526108",
   "metadata": {},
   "source": [
    "# Source Table\n",
    "\n",
    "The `SOURCE_INFO` table contains information on each source in the input catalog.  \n",
    "\"Virtual\" sources in empty slits are assigned negative numbers, in sequence.  \n",
    "The [source type](https://jwst-pipeline.readthedocs.io/en/latest/jwst/srctype/description.html) \n",
    "is also encoded:\n",
    "* 0.0 <= `stellarity` <= 0.75: extended\n",
    "* otherwise: point source\n",
    "\n",
    "| SOURCE_INFO | Description |\n",
    "|:-:|:-|\n",
    "| `PROGRAM` | JWST program ID |   \n",
    "| `SOURCE_ID` | Unique integer identifier: positive (real sources) or negative (virtual sources) |   \n",
    "| `SOURCE_NAME` | Typically a combination of the first two columns |\n",
    "| `ALIAS` | Either the source ID (real sources) or the RA, Dec (virtual sources) |   \n",
    "| `RA`/`DEC` | Catalog source coordinates, in decimal degrees |   \n",
    "| `PREIMAGE_ID` | Name of NIRCam pre-imaging mosaic used to determine the source catalog, if it exists |   \n",
    "| `STELLARITY` | Float ranging from 0 (fully extended) to 1 (point source). <br> The pipeline treats 0 <= stellarity <= 0.75 as extended for path loss corrections. |   \n",
    "[More Info ...](https://jwst-docs.stsci.edu/jwst-calibration-pipeline-caveats/jwst-nirspec-mos-pipeline-caveats#JWSTNIRSpecMOSPipelineCaveats-msa_metafileMetadataforsourceandslitletinformation)"
   ]
  },
  {
   "cell_type": "code",
   "execution_count": null,
   "id": "af010df6",
   "metadata": {},
   "outputs": [],
   "source": [
    "source_table"
   ]
  },
  {
   "cell_type": "markdown",
   "id": "7b5bb73e",
   "metadata": {},
   "source": [
    "# Shutter Table\n",
    "\n"
   ]
  },
  {
   "cell_type": "markdown",
   "id": "fd7217f5",
   "metadata": {},
   "source": [
    "The `SHUTTER_INFO` table specifies all the slitlets having one or more open shutters based on the MSA configuration for that observation.  \n",
    "\n",
    "| SHUTTER_INFO | Description |\n",
    "|:-:|:-|\n",
    "| `SLITLET_ID` | Integer number representing each slitlet of one or more open shutters specified in the MSA configuration |  \n",
    "| `MSA_METADATA_ID` | Integer number corresponding to a particular MSA configuration / MPT plan <br> (one metafile may contain multiple MSA configurations) |\n",
    "| `SHUTTER_QUADRANT` | MSA quadrant (1, 2, 3, 4) |\n",
    "| `SHUTTER_ROW` | Row number decreases in the dispersion direction (transposed with respect to science data) |\n",
    "| `SHUTTER_COLUMN` | Column number increases in the spatial cross-dispersion direction |\n",
    "| `SOURCE_ID` | Unique integer ID for each source in each slitlet, used for matching to the SOURCE_INFO table |\n",
    "| `BACKGROUND` | Boolean indicating whether the shutter is open to background (Y) or contains a known source (N) (for a given nod exposure if the observation includes nodding) | \n",
    "| `SHUTTER_STATE` | Generally, this will always be OPEN, unless a long slit was used |\n",
    "| `ESTIMATED_SOURCE_IN_SHUTTER_X/Y` | The position of the source within the shutter in relative units (where 0,0 is the bottom left corner and 0.5,0.5 is the center), as planned in MPT |\n",
    "| `DITHER_POINT_INDEX` | Integer specifying the index of the nod sequence; matches with the data primary header keyword PATT_NUM | \n",
    "| `PRIMARY_SOURCE` | Boolean indicating whether the shutter contains the science source |\n",
    "[More Info ...](https://jwst-docs.stsci.edu/jwst-calibration-pipeline-caveats/jwst-nirspec-mos-pipeline-caveats#JWSTNIRSpecMOSPipelineCaveats-msa_metafileMetadataforsourceandslitletinformation)"
   ]
  },
  {
   "cell_type": "code",
   "execution_count": null,
   "id": "5c29048a",
   "metadata": {},
   "outputs": [],
   "source": [
    "shutter_table"
   ]
  },
  {
   "cell_type": "code",
   "execution_count": null,
   "id": "5489459a",
   "metadata": {},
   "outputs": [],
   "source": [
    "# Multiple MSA configurations are often defined in a single file\n",
    "msa_metadata_ids = list(set(shutter_table['msa_metadata_id']))\n",
    "msa_metadata_ids"
   ]
  },
  {
   "cell_type": "code",
   "execution_count": null,
   "id": "80ff1c53",
   "metadata": {},
   "outputs": [],
   "source": [
    "# MSA metadata ids and slitlet ids are all numbered sequentially, picking up where the other left off\n",
    "# Here, after the first metadata id 1, the slitlets are numbered 2 – 75, followed by the next metadata id 76\n",
    "slitlet_ids = np.sort(list(set(shutter_table['slitlet_id'])))\n",
    "slitlet_ids"
   ]
  },
  {
   "cell_type": "code",
   "execution_count": null,
   "id": "d6aae5b7",
   "metadata": {},
   "outputs": [],
   "source": [
    "shutter_table_dither1 = filter_table(shutter_table, msa_metadata_id=1, dither_point_index=1)\n",
    "shutter_table_dither1"
   ]
  },
  {
   "cell_type": "markdown",
   "id": "7ff1b50e-475b-4f12-ad7b-adfaa32281f0",
   "metadata": {},
   "source": [
    "## Trim MSA metafile to subset of objects"
   ]
  },
  {
   "cell_type": "code",
   "execution_count": null,
   "id": "6c897a92",
   "metadata": {},
   "outputs": [],
   "source": [
    "#select_source_ids = -8, -9, -11, -12, -13, -16, -26, -27, -28, -29, -38, -41, -43, -57, -58, -59  # empty? backgrounds\n",
    "select_source_ids = 6355, 5144, 4590, 10612, 8140, 9922  # featured high-z galaxies\n",
    "\n",
    "select_source_table = filter_table(source_table,  source_id=select_source_ids)\n",
    "select_shutter_table = filter_table(shutter_table, source_id=select_source_ids)"
   ]
  },
  {
   "cell_type": "markdown",
   "id": "06895b30",
   "metadata": {},
   "source": [
    "## Set sources to point source or extended\n",
    "\n",
    "Path loss corrections will use this"
   ]
  },
  {
   "cell_type": "code",
   "execution_count": null,
   "id": "09fe5bfe",
   "metadata": {},
   "outputs": [],
   "source": [
    "# Here we'll simply set them all to point source\n",
    "select_source_table['stellarity'] = 1  # 0 = extended; 1 = point source"
   ]
  },
  {
   "cell_type": "markdown",
   "id": "88204a2c",
   "metadata": {},
   "source": [
    "## Set shutters to background\n",
    "Could do this but won't here"
   ]
  },
  {
   "cell_type": "code",
   "execution_count": null,
   "id": "5350bf67",
   "metadata": {},
   "outputs": [],
   "source": [
    "# Master Background\n",
    "#select_shutter_table['background']     = 'Y'\n",
    "#select_shutter_table['primary_source'] = 'N'"
   ]
  },
  {
   "cell_type": "markdown",
   "id": "8266176b",
   "metadata": {},
   "source": [
    "## Show modified source table"
   ]
  },
  {
   "cell_type": "code",
   "execution_count": null,
   "id": "4d59174e",
   "metadata": {},
   "outputs": [],
   "source": [
    "select_source_table"
   ]
  },
  {
   "cell_type": "markdown",
   "id": "b9727938",
   "metadata": {},
   "source": [
    "## Show modified shutter table"
   ]
  },
  {
   "cell_type": "code",
   "execution_count": null,
   "id": "c3db7363",
   "metadata": {},
   "outputs": [],
   "source": [
    "# Show contents but just for the first config and dither\n",
    "filter_table(select_shutter_table, msa_metadata_id=1, dither_point_index=1)"
   ]
  },
  {
   "cell_type": "markdown",
   "id": "38e0163b",
   "metadata": {},
   "source": [
    "## Save modified MSA metafile"
   ]
  },
  {
   "cell_type": "markdown",
   "id": "0407d030-434b-47cf-b0bc-71b32ae502ba",
   "metadata": {},
   "source": [
    "Save the modified MSA metafile with the same filename as the original, but in a new directory."
   ]
  },
  {
   "cell_type": "code",
   "execution_count": null,
   "id": "a79a7df5-7fdb-4d08-b451-e3252843af81",
   "metadata": {},
   "outputs": [],
   "source": [
    "# Create the new output directory if it does not yet exist\n",
    "output_dir = 'reprocess_subset'\n",
    "os.makedirs(output_dir, exist_ok=True)\n",
    "\n",
    "# Add the new directory to the output filename \n",
    "output_msa_metafile = os.path.join(output_dir, msa_metafile_name)\n",
    "output_msa_metafile"
   ]
  },
  {
   "cell_type": "code",
   "execution_count": null,
   "id": "5480835f-0063-47a1-b11e-47a2d28206a2",
   "metadata": {},
   "outputs": [],
   "source": [
    "msa_hdu_list.info()"
   ]
  },
  {
   "cell_type": "code",
   "execution_count": null,
   "id": "a32c0865-55cf-477d-a51a-ca558d79e2d1",
   "metadata": {},
   "outputs": [],
   "source": [
    "# Convert tables to HDUs and add to the HDU List\n",
    "msa_hdu_list['SHUTTER_INFO'] = fits.table_to_hdu(select_shutter_table)\n",
    "msa_hdu_list['SOURCE_INFO'] = fits.table_to_hdu(select_source_table)\n",
    "\n",
    "msa_hdu_list[2].name = 'SHUTTER_INFO'\n",
    "msa_hdu_list[3].name = 'SOURCE_INFO'\n",
    "\n",
    "msa_hdu_list.info()"
   ]
  },
  {
   "cell_type": "code",
   "execution_count": null,
   "id": "b38698ab-d399-446c-8051-98a52abbc1b8",
   "metadata": {},
   "outputs": [],
   "source": [
    "print('SAVING', output_msa_metafile)\n",
    "msa_hdu_list.writeto(output_msa_metafile, overwrite=True)\n",
    "#msa_hdu_list.close()  # let's keep this open to use below"
   ]
  },
  {
   "cell_type": "markdown",
   "id": "fd4a0815",
   "metadata": {},
   "source": [
    "# Link to files in preparation for pipeline\n",
    "\n",
    "We won't run the pipeline in this notebook, but this shows you how to prepare.  \n",
    "When you run the pipeline on these linked files in this new directory, it will find the updated metafile there."
   ]
  },
  {
   "cell_type": "code",
   "execution_count": null,
   "id": "d07ec921",
   "metadata": {},
   "outputs": [],
   "source": [
    "rate_files = sorted(glob(os.path.join(data_dir, '*_rate.fits*')))\n",
    "link_to_files(rate_files, output_dir)"
   ]
  },
  {
   "cell_type": "code",
   "execution_count": null,
   "id": "4d8fab61",
   "metadata": {},
   "outputs": [],
   "source": [
    "asn_files = sorted(glob(os.path.join(data_dir, '*_asn.json')))\n",
    "link_to_files(asn_files, output_dir)"
   ]
  },
  {
   "cell_type": "markdown",
   "id": "333cfd8b",
   "metadata": {},
   "source": [
    "# Shutter Image\n",
    "\n",
    "Translate shutter (column, row) coordinates from the MSA metafile to the observed coordinate system as shown in APT.\n",
    "\n",
    "The MSA coordinate system is shown on JDox:  \n",
    "https://jwst-docs.stsci.edu/jwst-near-infrared-spectrograph/nirspec-instrumentation/nirspec-micro-shutter-assembly  \n",
    "Note for each quadrant, the origin is at top right, and numbers increase to the bottom left corner.\n",
    "\n",
    "The JWST pipeline generates an [MSA metafile](https://jwst-pipeline.readthedocs.io/en/latest/jwst/data_products/msa_metadata.html)\n",
    "that uses a similar coordinate system in the `SHUTTER_INFO` *except* that:\n",
    "\n",
    "* rows and columns are swapped:\n",
    "    * columns increment in the spatial direction\n",
    "    * row numbers decrease in the dispersion direction\n",
    "    \n",
    "The MSA metafile `SHUTTER_IMAGE` combines all 4 quadrants into one 2D array:  \n",
    "\n",
    "* numbers are continuous without gaps\n",
    "    * the origin (1,1) is at top right\n",
    "    * (730,342) is at bottom left\n",
    "    \n",
    "...but only after shuffling them:  \n",
    "* quadrants are reordered as shown below:\n",
    "\n",
    "NIRSpec MSA quadrants:  \n",
    "Q3 Q1  \n",
    "Q4 Q2  \n",
    "\n",
    "MSA metafile coordinates:  \n",
    "Q3 Q4  \n",
    "Q2 Q1"
   ]
  },
  {
   "cell_type": "code",
   "execution_count": null,
   "id": "fbbd5185",
   "metadata": {},
   "outputs": [],
   "source": [
    "shutter_image = msa_hdu_list['SHUTTER_IMAGE'].data[:].T\n",
    "\n",
    "ny, nx = shutter_image.shape\n",
    "\n",
    "Q4 = shutter_image[:ny//2, :nx//2]\n",
    "Q3 = shutter_image[:ny//2, nx//2:]\n",
    "Q1 = shutter_image[ny//2:, :nx//2]\n",
    "Q2 = shutter_image[ny//2:, nx//2:]\n",
    "\n",
    "msa_image = np.vstack((np.hstack((Q1, Q3)), np.hstack((Q2, Q4))))\n",
    "print(f'msa_image shape is (ny, nx): {msa_image.shape}')  # ny, nx"
   ]
  },
  {
   "cell_type": "code",
   "execution_count": null,
   "id": "ed7d35af",
   "metadata": {},
   "outputs": [],
   "source": [
    "fig, ax = plt.subplots(figsize=(12, 10))\n",
    "cmap = copy.deepcopy(mpl.colormaps['turbo'])\n",
    "cmap.colors[0] = 1, 1, 1\n",
    "extent = 0.5, nx+0.5, ny+0.5, 0.5  # origin=(1,1); range = 1..nx, 1..ny with +/-0.5 boundary on either side\n",
    "im = plt.imshow(msa_image, aspect=nx/ny, interpolation='nearest', cmap=cmap, extent=extent)\n",
    "plt.xlim(nx+1, 0)\n",
    "plt.ylim(ny+1, 0)\n",
    "plt.xlabel('shutter row (full MSA)')\n",
    "plt.ylabel('shutter column (full MSA)')\n",
    "ax.yaxis.tick_right()\n",
    "ax.yaxis.set_label_position(\"right\")\n",
    "ax.xaxis.tick_top()\n",
    "ax.xaxis.set_label_position(\"top\")\n",
    "cbar = fig.colorbar(im, ax=ax, shrink=1, aspect=20, pad=0.02, location='left')\n",
    "cbar.set_label('SLITLET_ID')"
   ]
  },
  {
   "cell_type": "markdown",
   "id": "a69409d5",
   "metadata": {},
   "source": [
    "### Shutter Image from Shutter Table"
   ]
  },
  {
   "cell_type": "code",
   "execution_count": null,
   "id": "913b8487",
   "metadata": {},
   "outputs": [],
   "source": [
    "def even(x): # even vs. odd number\n",
    "    return 1 - x % 2\n",
    "\n",
    "\n",
    "quadrant = shutter_table_dither1['shutter_quadrant']\n",
    "slitlet = shutter_table_dither1['slitlet_id']\n",
    "\n",
    "# row, column resets within each quadrant\n",
    "row_in_quadrant = shutter_table_dither1['shutter_row']\n",
    "column_in_quadrant = shutter_table_dither1['shutter_column']\n",
    "\n",
    "# row, column on full msa grid\n",
    "msa_row = row_in_quadrant + (quadrant > 2) * nx//2\n",
    "msa_column = column_in_quadrant + even(quadrant) * ny//2"
   ]
  },
  {
   "cell_type": "code",
   "execution_count": null,
   "id": "c9f610c6",
   "metadata": {},
   "outputs": [],
   "source": [
    "fig, ax = plt.subplots(figsize=(12, 10))\n",
    "plt.scatter(msa_row, msa_column, c=slitlet, marker='+', cmap=cmap, clim=(0, np.max(slitlet)))\n",
    "plt.xlim(nx, 0)\n",
    "plt.ylim(ny, 0)\n",
    "plt.xlabel('shutter row (full MSA)')\n",
    "plt.ylabel('shutter column (full MSA)')\n",
    "ax.yaxis.tick_right()\n",
    "ax.yaxis.set_label_position(\"right\")\n",
    "ax.xaxis.tick_top()\n",
    "ax.xaxis.set_label_position(\"top\")\n",
    "ax.set_aspect(nx/ny)\n",
    "cbar = fig.colorbar(im, ax=ax, shrink=1, aspect=20, pad=0.02, location='left')\n",
    "cbar.set_label('SLITLET_ID')"
   ]
  },
  {
   "cell_type": "markdown",
   "id": "413a96ce",
   "metadata": {},
   "source": [
    "### Shutter Image from APT\n",
    "\n",
    "From APT – MPT – Plans – Pointings – Export Config.  \n",
    "This returns a CSV file with a 2D map of all shutters for that MSA configuration:\n",
    "* 1 = closed\n",
    "* 0 = open"
   ]
  },
  {
   "cell_type": "code",
   "execution_count": null,
   "id": "f456ba37",
   "metadata": {},
   "outputs": [],
   "source": [
    "msa_config_file = 'https://raw.githubusercontent.com/dancoe/NIRSpec_MOS_JWebbinar/main/data/2736.p1c1-2e1n1.csv'\n",
    "msa_config_file = download_file(msa_config_file, data_dir)\n",
    "msa_config_file"
   ]
  },
  {
   "cell_type": "code",
   "execution_count": null,
   "id": "deab3a07",
   "metadata": {},
   "outputs": [],
   "source": [
    "with open(msa_config_file, 'r') as f:\n",
    "    reader = csv.reader(f)\n",
    "    msa_config_data = list(reader)\n",
    "    \n",
    "msa_config_data = np.array(msa_config_data[1:])  # remove first line header\n",
    "msa_config_data = msa_config_data.astype(int).T"
   ]
  },
  {
   "cell_type": "code",
   "execution_count": null,
   "id": "c74c8733",
   "metadata": {},
   "outputs": [],
   "source": [
    "fig, ax = plt.subplots(figsize=(12, 10))\n",
    "cmap = copy.deepcopy(mpl.colormaps['turbo'])\n",
    "cmap.colors[0] = 1, 1, 1\n",
    "extent = 0.5, nx+0.5, ny+0.5, 0.5  # origin=(1,1); range = 1..nx, 1..ny with +/-0.5 boundary on either side\n",
    "im = plt.imshow(1 - msa_config_data, aspect=nx/ny, interpolation='nearest', extent=extent, cmap=cmap)\n",
    "plt.xlim(nx+1, 0)\n",
    "plt.ylim(ny+1, 0)\n",
    "plt.xlabel('shutter row (full MSA)')\n",
    "plt.ylabel('shutter column (full MSA)')\n",
    "ax.yaxis.tick_right()\n",
    "ax.yaxis.set_label_position(\"right\")\n",
    "ax.xaxis.tick_top()\n",
    "ax.xaxis.set_label_position(\"top\")"
   ]
  },
  {
   "cell_type": "markdown",
   "id": "0fd1ce83",
   "metadata": {},
   "source": [
    "# About this notebook <a id='about'></a>\n",
    "\n",
    "**Authors:** Dan Coe (dcoe@stsci.edu) and Kayli Glidic with contributions from others on the STScI NIRSpec team.\n",
    "\n",
    "**Updated:** September 2025\n",
    "\n",
    "---\n",
    "\n",
    "<img style=\"float: right;\" src=\"https://raw.githubusercontent.com/spacetelescope/notebooks/master/assets/stsci_pri_combo_mark_horizonal_white_bkgd.png\" alt=\"Space Telescope Logo\" width=\"200px\"/>"
   ]
  },
  {
   "cell_type": "code",
   "execution_count": null,
   "id": "3f22026c-cb6b-4594-9109-671e673d7c83",
   "metadata": {},
   "outputs": [],
   "source": []
  }
 ],
 "metadata": {
  "kernelspec": {
   "display_name": "Python 3 (ipykernel)",
   "language": "python",
   "name": "python3"
  },
  "language_info": {
   "codemirror_mode": {
    "name": "ipython",
    "version": 3
   },
   "file_extension": ".py",
   "mimetype": "text/x-python",
   "name": "python",
   "nbconvert_exporter": "python",
   "pygments_lexer": "ipython3",
   "version": "3.12.11"
  }
 },
 "nbformat": 4,
 "nbformat_minor": 5
}
