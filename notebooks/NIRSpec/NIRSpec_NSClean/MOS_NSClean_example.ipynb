{
 "cells": [
  {
   "cell_type": "markdown",
   "id": "95dcb8aa-37e4-4707-a73b-2d8e047a3c66",
   "metadata": {},
   "source": [
    "<a name=\"top\"></a>\n",
    "# Cleaning Residual 1/f Noise in NIRSpec MOS Products with NSClean \n",
    "<hr style=\"border:1px solid black\">\n",
    "\n",
    "## Notebook Goal\n",
    "\n",
    "The goal of this notebook is to generate cleaned MOS (*_rate.fits*) files by removing residual 1/f noise. These cleaned files will be used as input for the level 3 (`Spec3Pipeline`) pipeline.\n",
    "\n",
    "## Table of Contents\n",
    "\n",
    "* 1. [Introduction](#introduction)\n",
    "* 2. [Import Library](#imports)\n",
    "* 3. [Download the Data](#data)\n",
    "* 4. [Running `Spec2Pipeline` without NSClean (Original Data)](#nsclean_skipped)\n",
    "* 5. [Clean up 1/f Noise with NSClean (Default Pipeline Mask)](#nsclean_default)\n",
    "    * 5.1 [Verify the Mask (Default Pipeline Mask)](#verify_default_mask)\n",
    "    * 5.2 [Comparing Original vs. Cleaned Data (Default Pipeline Mask)](#nsclean_default_compare)\n",
    "* 6. [Clean up 1/f Noise with NSClean (Alternate Mask)](#nsclean_alternate)\n",
    "    * 6.1 [Verify the Mask (Alternate Mask)](#verify_alternate_mask)\n",
    "    * 6.2 [Comparing Original vs. Cleaned Data (Alternate Mask)](#nsclean_alternate_compare)\n",
    "* 7. [Clean up 1/f Noise with NSClean (Hand-Modified Mask)](#nsclean_modified)\n",
    "    * 7.1 [Verify the Mask (Hand-Modified Mask)](#verify_modified_mask)\n",
    "    * 7.2 [Comparing Original vs. Cleaned Data (Hand-Modified Mask)](#nsclean_modified_compare)\n",
    "* 8. [Conclusion](#conclusion)\n",
    "* [About the Notebook](#about)\n",
    "\n",
    "\n",
    "## 1. Introduction <a name=\"introduction\"></a>\n",
    "<hr style=\"border:1px solid black\">\n",
    "\n",
    "The JWST NIRSpec instrument has a number of features and characteristics that observers should be aware of when planning observations and interpreting data. One notable feature seen in NIRSpec pipeline products is negative and/or surplus flux in the extracted 1-D spectrum, typically with an irregular wavelength-dependent undulation. The cause of this artifact is correlated noise, known as [1/f noise](https://jwst-docs.stsci.edu/jwst-near-infrared-spectrograph/nirspec-instrument-features-and-caveats#NIRSpecInstrumentFeaturesandCaveats-1/fnoise), from low-level detector thermal instabilities, seen as vertical banding in 2-D count rate images, particularly in exposures of the NRS2 detector. While the IRS2 readout mode reduces this effect, it is not completely eliminated.\n",
    "\n",
    "To address this issue, the JWST Science Calibration Pipeline has integrated an external package developed by Bernard Rauscher, known as [NSClean](https://webb.nasa.gov/content/forScientists/publications.html#NSClean), within the `Spec2Pipeline` under [NSCleanStep](https://jwst-pipeline.readthedocs.io/en/latest/jwst/nsclean/main.html). This algorithm uses dark areas of the detector to fit a background model to the data in Fourier space. It requires an input mask to identify all dark areas of the detector. The more thorough and complete this mask is, the better the background fit.\n",
    "\n",
    "In this notebook, we will use the NSClean algorithm integrated into the pipeline, utilizing a mask generated on-the-fly with default parameters to remove 1/f noise. In some cases, this mask may not be complete enough/too restrictive for the best possible noise removal. To address this, we demonstrate how one can manually modify the default mask, as well as how to create an alternative mask by adjusting the [NSCleanStep parameters](https://jwst-pipeline.readthedocs.io/en/latest/jwst/nsclean/arguments.html). If needed, see the [NSClean documentation](https://iopscience.iop.org/article/10.1088/1538-3873/ad1b36/pdf) for some suggestions on manually creating a custom mask.\n",
    "\n",
    "This notebook utilizes a MOS observation from the CEERS program with grating/filter G395M/F290LP, which is part of the [JWST Early Release Science program ERS-1345](https://www.stsci.edu/jwst/science-execution/approved-programs/dd-ers/program-1345) observation 61, as an example."
   ]
  },
  {
   "cell_type": "markdown",
   "id": "7c07213b-bbfb-462a-a65a-a3bc886f2a2f",
   "metadata": {},
   "source": [
    "## 2. Import Library <a name=\"imports\"></a>\n",
    "<hr style=\"border:1px solid black\">\n"
   ]
  },
  {
   "cell_type": "code",
   "execution_count": null,
   "id": "6735deb1-3e9c-4020-9367-47d4c8538d97",
   "metadata": {},
   "outputs": [],
   "source": [
    "# ---------- Set CRDS environment variables ----------\n",
    "import os\n",
    "import jwst\n",
    "os.environ['CRDS_CONTEXT'] = 'jwst_1210.pmap'\n",
    "os.environ['CRDS_PATH'] = os.environ['HOME']+'/crds_cache'\n",
    "os.environ['CRDS_SERVER_URL'] = 'https://jwst-crds.stsci.edu'\n",
    "print(f'CRDS cache location: {os.environ[\"CRDS_PATH\"]}')\n",
    "\n",
    "print(\"JWST Calibration Pipeline Version={}\".format(jwst.__version__))\n",
    "# print(\"Current Operational CRDS Context = {}\".format(crds.get_default_context()))"
   ]
  },
  {
   "cell_type": "code",
   "execution_count": null,
   "id": "92d138be-9ce1-479c-8291-21455515cf16",
   "metadata": {},
   "outputs": [],
   "source": [
    "# ------ General Imports ------\n",
    "import numpy as np\n",
    "import time as tt\n",
    "import logging\n",
    "import warnings\n",
    "\n",
    "# ------ JWST Calibration Pipeline Imports ------\n",
    "from jwst.pipeline.calwebb_spec2 import Spec2Pipeline\n",
    "\n",
    "# ------ Plotting/Stats Imports ------\n",
    "from matplotlib import pyplot as plt\n",
    "from astropy.io import fits\n",
    "\n",
    "from utils import get_jwst_file, plot_dark_data, plot_cleaned_data, plot_spectra\n",
    "\n",
    "# Hide all log and warning messages.\n",
    "logging.disable(logging.ERROR)\n",
    "warnings.simplefilter(\"ignore\", RuntimeWarning)"
   ]
  },
  {
   "cell_type": "markdown",
   "id": "b557c042-77fb-4c76-99bc-6921a24a9a0c",
   "metadata": {},
   "source": [
    "## 3. Download the Data <a name=\"data\"></a>\n",
    "<hr style=\"border:1px solid black\">\n",
    " \n",
    "The input data for this notebook features a MOS observation from the CEERS program with grating/filter G395H/F290LP. The dataset is part of the [JWST Early Release Science program ERS-1345](https://www.stsci.edu/jwst/science-execution/approved-programs/dd-ers/program-1345), specifically observation 61. It consists of 3 integrations (3 dither points; 3-SHUTTER-SLITLET) with 9 groups each. This notebook focuses on the third dithered exposure (00003) as an example. However, it's important to note that before proceeding to the `Spec3Pipeline`, all exposures must first be processed through the `Spec2Pipeline`."
   ]
  },
  {
   "cell_type": "code",
   "execution_count": null,
   "id": "be6cdfdd-efa8-4590-ac06-1bb067a88daf",
   "metadata": {},
   "outputs": [],
   "source": [
    "# Define a downloads directory.\n",
    "mast_products_dir = \"./mast_products/\"\n",
    "# Check if the directory exists.\n",
    "if not os.path.exists(mast_products_dir):\n",
    "    # Create the directory if it doesn't exist.\n",
    "    os.makedirs(mast_products_dir)"
   ]
  },
  {
   "cell_type": "code",
   "execution_count": null,
   "id": "490da514-4c98-4918-8fee-3cc3aa116810",
   "metadata": {},
   "outputs": [],
   "source": [
    "# This notebook focuses on the third dithered exposure.\n",
    "obs_ids = [\"jw01345061001_07101_00003\"]\n",
    "detectors = [1, 2]  # Both Detectors NRS1 and NRS2.\n",
    "\n",
    "# Specify countrate products\n",
    "rate_names = []\n",
    "for obs_id in obs_ids:\n",
    "    for detector in detectors:\n",
    "        rate_names.append(f\"{obs_id}_nrs{detector}_rate.fits\")\n",
    "\n",
    "# Download all the FITS files and associated MSA files.\n",
    "msa_names = []\n",
    "for name in rate_names:\n",
    "    print(f\"Downloading {name}\")\n",
    "    get_jwst_file(\n",
    "        name,\n",
    "        mast_api_token=\"75f915f251544013bb127b7f6f6edc80\",\n",
    "        save_directory=mast_products_dir,\n",
    "    )\n",
    "\n",
    "    # Retrieve the MSA file from the header in the downloaded file.\n",
    "    msa_name = fits.getval(mast_products_dir + name, \"MSAMETFL\")\n",
    "    if not os.path.isfile(msa_name):\n",
    "        print(f\"Downloading {msa_name}\")\n",
    "        get_jwst_file(\n",
    "            msa_name,\n",
    "            mast_api_token=None,\n",
    "            save_directory=mast_products_dir,\n",
    "        )\n",
    "    msa_names.append(msa_name)"
   ]
  },
  {
   "cell_type": "markdown",
   "id": "a7af0dc0-4c21-41df-902d-8c4f179a7719",
   "metadata": {},
   "source": [
    "## 4. Running `Spec2Pipeline` without NSClean (Original Data) <a name=\"nsclean_skipped\"></a>\n",
    "<hr style=\"border:1px solid black\">\n",
    "\n",
    "The cell below executes the `Spec2Pipeline`, explicitly skipping the NSClean step during processing. The level 2 products generated will serve as a reference point to illustrate how the countrate images and final extracted spectra appear without the removal of 1/f noise."
   ]
  },
  {
   "cell_type": "code",
   "execution_count": null,
   "id": "00262cac-db95-4fb5-92e5-b7108f63023b",
   "metadata": {},
   "outputs": [],
   "source": [
    "# Set up directory for running the pipeline without NSClean.\n",
    "stage2_nsclean_skipped_dir = \"./stage2_nsclean_skipped/\"\n",
    "if not os.path.exists(stage2_nsclean_skipped_dir):\n",
    "    os.makedirs(stage2_nsclean_skipped_dir)  # Create the directory if it doesn't exist."
   ]
  },
  {
   "cell_type": "code",
   "execution_count": null,
   "id": "cbef0675-7aad-449a-8b69-4d0616bed8a3",
   "metadata": {
    "scrolled": true
   },
   "outputs": [],
   "source": [
    "# Original data (no NSClean Applied).\n",
    "# Estimated run-time: 1-2 minutes.\n",
    "start = tt.time()\n",
    "\n",
    "for i in rate_names:\n",
    "    print(f\"Processing {i}...\")\n",
    "\n",
    "    if \"nrs1\" in i:\n",
    "        slit_name = \"80\"\n",
    "    else:\n",
    "        slit_name = \"11\"\n",
    "\n",
    "    Spec2Pipeline.call(\n",
    "        mast_products_dir + i,\n",
    "        save_results=True,\n",
    "        steps={\"nsclean\": {\"skip\": True}, \"extract_2d\": {\"slit_name\": slit_name}},\n",
    "        output_dir=stage2_nsclean_skipped_dir,\n",
    "    )\n",
    "\n",
    "    print(f\"Saved {i[:-9]}\" + \"cal.fits\")\n",
    "    print(f\"Saved {i[:-9]}\" + \"x1d.fits\")\n",
    "\n",
    "end = tt.time()\n",
    "print(\"Run time: \", round(end - start, 1) / 60.0, \" min\")"
   ]
  },
  {
   "cell_type": "markdown",
   "id": "5a42d053-0288-4ed6-a962-a265b27ec7d6",
   "metadata": {},
   "source": [
    "## 5. Clean up 1/f Noise with NSClean (Default Pipeline Mask) <a name=\"nsclean_default\"></a>\n",
    "<hr style=\"border:1px solid black\">\n",
    "\n",
    "If a user-supplied mask file is not provided to the [NSClean step](https://jwst-pipeline.readthedocs.io/en/latest/jwst/nsclean/index.html) in the `Spec2Pipeline`, the pipeline will generate a mask based on default parameters. This mask will identify any pixel that is unilluminated. That is, the mask must contain True and False values, where True indicates that the pixel is dark, and False indicates that the pixel is illuminated (not dark).\n",
    "\n",
    "By default, the pipeline marks the following detector areas as illuminated, non-dark areas (False):\n",
    "\n",
    "* Pixels designated as open slits for this MOS observation.\n",
    "* Traces from failed-open MSA shutters.\n",
    "* 5-sigma outliers (default value).\n",
    "* Any pixel set to NaN in the rate data.\n",
    "  \n",
    "To tune the outlier detection in the mask, try modifying the `n_sigma` parameter (explored in the next section). A higher value will identify fewer outliers. A lower value will identify more. \n",
    "\n",
    "The default generated mask is saved and analyzed below. "
   ]
  },
  {
   "cell_type": "code",
   "execution_count": null,
   "id": "673e76ce-8583-4799-a1e7-51d20283966f",
   "metadata": {},
   "outputs": [],
   "source": [
    "# Set up directory for running NSClean with default parameters.\n",
    "stage2_nsclean_default_dir = \"./stage2_nsclean_default/\"\n",
    "if not os.path.exists(stage2_nsclean_default_dir):\n",
    "    os.makedirs(stage2_nsclean_default_dir)  # Create the directory if it doesn't exist."
   ]
  },
  {
   "cell_type": "code",
   "execution_count": null,
   "id": "8c3c6857-2029-4a4a-8cf3-18792d48dd59",
   "metadata": {},
   "outputs": [],
   "source": [
    "# 1/f noise cleaned data (default NSClean pipeline mask).\n",
    "# Estimated run time: 6 minutes.\n",
    "start = tt.time()\n",
    "\n",
    "for i in rate_names:\n",
    "    print(f\"Processing {i}...\")\n",
    "\n",
    "    if \"nrs1\" in i:\n",
    "        slit_name = \"80\"\n",
    "    else:\n",
    "        slit_name = \"11\"\n",
    "\n",
    "    Spec2Pipeline.call(\n",
    "        mast_products_dir + i,\n",
    "        save_results=True,\n",
    "        steps={\n",
    "            \"nsclean\": {\"skip\": False, \"save_mask\": True, \"save_results\": True},\n",
    "            \"extract_2d\": {\"slit_name\": slit_name},\n",
    "        },\n",
    "        output_dir=stage2_nsclean_default_dir,\n",
    "    )\n",
    "\n",
    "    print(f\"Saved {i[:-9]}\" + \"mask.fits\")\n",
    "    print(f\"Saved {i[:-9]}\" + \"nsclean.fits\")\n",
    "    print(f\"Saved {i[:-9]}\" + \"cal.fits\")\n",
    "    print(f\"Saved {i[:-9]}\" + \"x1d.fits\")\n",
    "\n",
    "end = tt.time()\n",
    "print(\"Run time: \", round(end - start, 1) / 60.0, \" min\")"
   ]
  },
  {
   "cell_type": "markdown",
   "id": "c5dce560-cd71-4bf3-a4a5-0828b6b2830c",
   "metadata": {},
   "source": [
    "<div class=\"alert alert-block alert-warning\">\n",
    "<b>Warning:</b> \n",
    "    \n",
    "In some situations, the NSClean step may fail to find a fit to the background noise. This failure may occur if the mask does not contain enough dark data (marked True). In particular, every column in the mask except for the first and last 4 columns must contain some pixels marked True. The background fitting procedure considers each column, one at a time, so it will crash if there is no data in a column to fit. If failure occurs, check that your mask in the image below has at least some True values in every column.\n",
    "</div>\n"
   ]
  },
  {
   "cell_type": "markdown",
   "id": "3d9867fb-d83a-4cad-b95d-078286dce27a",
   "metadata": {},
   "source": [
    "### 5.1 Verify the Mask (Default Pipeline Mask) <a name=\"verify_default_mask\"></a>\n",
    "<hr style=\"border:1px solid black\">\n",
    "\n",
    "Check the mask against the rate data to make sure it keeps only dark areas of the detector.\n",
    "\n",
    "Note that there are still some remaining illuminated areas, primarily due to transient artifacts like cosmic rays and snowballs."
   ]
  },
  {
   "cell_type": "code",
   "execution_count": null,
   "id": "93bd3ba0-df01-409e-9da3-cc5fb160425f",
   "metadata": {},
   "outputs": [],
   "source": [
    "# Plot the rate data with masked areas blocked.\n",
    "\n",
    "# List of on-the-fly built masks from the pipeline.\n",
    "nsclean_default_masks = [\n",
    "    stage2_nsclean_default_dir + \"jw01345061001_07101_00003_nrs1_mask.fits\",\n",
    "    stage2_nsclean_default_dir + \"jw01345061001_07101_00003_nrs2_mask.fits\",\n",
    "]\n",
    "\n",
    "# Plot each associated set of rateint data and mask file.\n",
    "for rate_file, mask_file in zip(rate_names, nsclean_default_masks):\n",
    "    plot_dark_data(mast_products_dir + rate_file, mask_file, layout=\"columns\", scale=9)"
   ]
  },
  {
   "cell_type": "markdown",
   "id": "58d0ce26-dbfb-4391-af9b-9eb206a76daa",
   "metadata": {},
   "source": [
    "### 5.2 Comparing Original vs. Cleaned Data (Default Pipeline Mask) <a name=\"nsclean_default_compare\"></a>\n",
    "<hr style=\"border:1px solid black\">\n",
    "\n",
    "We can now compare the cleaned data (with the default pipeline mask) to the original rate file and verify that the 1/f noise has been reduced.\n",
    "\n",
    "In many cases, the cleaning process introduces new artifacts to the rate file. These should be carefully examined and weighed against the benefits of noise reduction. If transient artifacts, like snowballs, are interfering with the cleaning process, it may be beneficial to manually edit the mask to remove these areas from consideration in the background fit. To do so, try varying the outlier detection threshold or editing specific pixels in the mask array directly (explored in the next few sections). Otherwise, refer to the [NSClean documentation](https://iopscience.iop.org/article/10.1088/1538-3873/ad1b36/pdf) for additional suggestions on manual editing.\n",
    "\n",
    "Note that in the images below, there are scattered values with large relative differences from the original rate file (shown in the relative difference image below). These are artifacts of the cleaning process.\n",
    "\n",
    "There are also broader low-level residual background effects (shown in the relative difference image on the right, below, with scattered outliers, identified with sigma clipping, hidden by masking). These include the background patterns we are trying to remove: the 1/f noise variations in the dispersion direction and the picture frame effect at the top and bottom of the frame (for full-frame data). However, there may also be low-level artifacts introduced by over-fitting the dark data in the cleaning process.\n",
    "\n",
    "Check both residual images carefully to understand the impact of the cleaning process on your data."
   ]
  },
  {
   "cell_type": "code",
   "execution_count": null,
   "id": "71610d00-75bc-4b09-a7e0-0950abae4372",
   "metadata": {
    "scrolled": true
   },
   "outputs": [],
   "source": [
    "# Plot the original and cleaned data, as well as a residual map.\n",
    "\n",
    "cleaned_default_masks = [\n",
    "    stage2_nsclean_default_dir + \"jw01345061001_07101_00003_nrs1_nsclean.fits\",\n",
    "    stage2_nsclean_default_dir + \"jw01345061001_07101_00003_nrs2_nsclean.fits\",\n",
    "]\n",
    "\n",
    "# Plot each associated set of rateint data and cleaned file.\n",
    "for rate_file, cleaned_file in zip(rate_names, cleaned_default_masks):\n",
    "    plot_cleaned_data(\n",
    "        mast_products_dir + rate_file, cleaned_file, layout=\"columns\", scale=9\n",
    "    )"
   ]
  },
  {
   "cell_type": "code",
   "execution_count": null,
   "id": "e9a4c199-cc30-45ae-9805-d46b38c7156e",
   "metadata": {},
   "outputs": [],
   "source": [
    "# Plot heavily masked region around x=1000, y=600 NRS2\n",
    "# Masking can introduce some high frequency noise in the cleaning process that\n",
    "# appears as vertical striping over the spectral traces\n",
    "\n",
    "rate_file = mast_products_dir + rate_names[1]  # NRS2\n",
    "original_rate_data = fits.open(rate_file)[1].data[550:651, 800:1401]\n",
    "cleaned_rate_data = fits.open(cleaned_default_masks[1])[1].data[550:651, 800:1401]\n",
    "\n",
    "# For plotting vizualization\n",
    "original_rate_data[np.isnan(original_rate_data)] = 0\n",
    "cleaned_rate_data[np.isnan(cleaned_rate_data)] = 0\n",
    "\n",
    "vmin = np.nanpercentile(cleaned_rate_data, 5)\n",
    "vmax = np.nanpercentile(cleaned_rate_data, 100-9)\n",
    "\n",
    "# Original vs. cleaned data (with default mask)\n",
    "fig, axs = plt.subplots(1, 2, figsize=(15, 4))\n",
    "fig.colorbar(\n",
    "    axs[0].imshow(\n",
    "        original_rate_data,\n",
    "        cmap=\"viridis\",\n",
    "        aspect=4,\n",
    "        origin=\"lower\",\n",
    "        clim=(vmin, vmax),\n",
    "    ),\n",
    "    ax=axs[0],\n",
    "    pad=0.05,\n",
    "    shrink=0.7,\n",
    "    label=\"DN/s\",\n",
    ")\n",
    "fig.colorbar(\n",
    "    axs[1].imshow(\n",
    "        cleaned_rate_data,\n",
    "        cmap=\"viridis\",\n",
    "        aspect=4,\n",
    "        origin=\"lower\",\n",
    "        clim=(vmin, vmax),\n",
    "    ),\n",
    "    ax=axs[1],\n",
    "    pad=0.05,\n",
    "    shrink=0.7,\n",
    "    label=\"DN/s\",\n",
    ")\n",
    "\n",
    "# Set titles, tick values, xlabel, and ylabel for subplots\n",
    "for ax, title in zip(axs, [\"Original Rate Data (NRS2)\", \"Cleaned Rate Data (NRS2)\"]):\n",
    "    ax.set(title=title, xlabel=\"Pixel Column\", ylabel=\"Pixel Row\")\n",
    "    ax.set_xticklabels([700, 800, 900, 1000, 1100, 1200, 1300, 1400])\n",
    "    ax.set_yticklabels([475, 500, 525, 575, 600, 625, 650])"
   ]
  },
  {
   "cell_type": "markdown",
   "id": "f3d1fa78-3c17-45c4-afd8-9470128d94a8",
   "metadata": {},
   "source": [
    "Compare the extracted spectrum from the cleaned data to the spectrum extracted from the original rate file. "
   ]
  },
  {
   "cell_type": "code",
   "execution_count": null,
   "id": "9e77330d-19d7-412e-bae8-7f6c3159c9b0",
   "metadata": {},
   "outputs": [],
   "source": [
    "# 1D extracted spectra.\n",
    "x1d_nsclean_skipped = [\n",
    "    stage2_nsclean_skipped_dir + \"jw01345061001_07101_00003_nrs1_x1d.fits\",\n",
    "    stage2_nsclean_skipped_dir + \"jw01345061001_07101_00003_nrs2_x1d.fits\",\n",
    "]\n",
    "x1d_nsclean_default = [\n",
    "    stage2_nsclean_default_dir + \"jw01345061001_07101_00003_nrs1_x1d.fits\",\n",
    "    stage2_nsclean_default_dir + \"jw01345061001_07101_00003_nrs2_x1d.fits\",\n",
    "]\n",
    "\n",
    "# Wavelength region of interest.\n",
    "for original, cleaned in zip(x1d_nsclean_skipped, x1d_nsclean_default):\n",
    "    plot_spectra([original, cleaned], scale_percent=9)"
   ]
  },
  {
   "cell_type": "markdown",
   "id": "32ca222d-daf9-4742-9e8c-fab2a6156b3b",
   "metadata": {},
   "source": [
    "<div class=\"alert alert-block alert-info\">\n",
    "\n",
    "<b>Notes:</b> \n",
    "* In slit 80 on NRS1 and in slit 11 on NRS2, the overall continuum level has been slightly altered by the cleaning process.\n",
    "\n",
    "* In slit 11 on NRS2, some of the negative flux in the original spectrum has been corrected. However, excessive masking in the default mask has introduced high-frequency noise, particularly affecting slit 11 between 4.5 - 5.0 um. This results in a noticeable dip in the spectrum extracted from the cleaned data compared to the original raw data (above).\n",
    "\n",
    "\n",
    "</div>\n"
   ]
  },
  {
   "cell_type": "markdown",
   "id": "dae7529b-587e-490d-8c1b-69568e472501",
   "metadata": {},
   "source": [
    "## 6. Clean up 1/f Noise with NSClean (Alternate Mask) <a name=\"nsclean_alternate\"></a>\n",
    "<hr style=\"border:1px solid black\">\n",
    "\n",
    "For this data set, note that some regions of the detector are heavily masked, due to overlapping slit regions.  For example, see the cleaned rate data for NRS2 above, around x=1000, y=600.  \n",
    "\n",
    "In this region, the cleaning process introduces some high frequency noise that appears as vertical striping over the spectral traces.  Slit 11 is extracted from this region, and shows a noticeable dip in the spectrum extracted from the cleaned data, compared to the original rate data (above).\n",
    "\n",
    "Also note that for MOS data, there may be several illuminated regions of the detector that are not masked by the slitlet bounding boxes.  For the M gratings, zeroth-order spectra may appear on the detector, and are not easily located. For the long-pass filters, there is still some light past the red cutoff of the slitlet bounding box.\n",
    "\n",
    "In this case, it may be beneficial to build the mask with an alternate algorithm.  Here, we do not use slitlet bounding boxes and instead iteratively mask any data more than 1 sigma above the background.  This leaves more dark data between the spectral traces and improves the background fit in the problematic area.\n",
    "\n",
    "Note, however, that excessive cleaning may impact the continuum level for the spectra, if too much or too little illuminated data is included in the mask. Again, the generated mask and output spectra should be carefully examined to weigh the benefits of cleaning against the impact on the spectra.\n",
    "\n",
    "To tune the illumination detection in this mask, try modifying the `n_sigma` parameter below. A higher value will identify less illumination. A lower value will identify more."
   ]
  },
  {
   "cell_type": "code",
   "execution_count": null,
   "id": "bea676bf-2e8e-407d-ae87-e16c50d96c8b",
   "metadata": {},
   "outputs": [],
   "source": [
    "# Set up directory for running NSClean with alternate parameters.\n",
    "stage2_nsclean_alternate_dir = \"./stage2_nsclean_alternate/\"\n",
    "if not os.path.exists(stage2_nsclean_alternate_dir):\n",
    "    os.makedirs(\n",
    "        stage2_nsclean_alternate_dir\n",
    "    )  # Create the directory if it doesn't exist."
   ]
  },
  {
   "cell_type": "code",
   "execution_count": null,
   "id": "13eeab2e-4667-463c-bf1b-78d4c27189cc",
   "metadata": {},
   "outputs": [],
   "source": [
    "# 1/f noise cleaned data (alternate NSClean pipeline mask).\n",
    "# Estimated run time: 7 minutes.\n",
    "\n",
    "start = tt.time()\n",
    "\n",
    "for indx, i in enumerate(rate_names):\n",
    "    print(f\"Processing {i}...\")\n",
    "\n",
    "    if \"nrs1\" in i:\n",
    "        slit_name = \"80\"\n",
    "    else:\n",
    "        slit_name = \"11\"\n",
    "\n",
    "    Spec2Pipeline.call(\n",
    "        mast_products_dir + i,\n",
    "        save_results=True,\n",
    "        steps={\n",
    "            \"nsclean\": {\n",
    "                \"skip\": False,\n",
    "                \"save_mask\": True,\n",
    "                \"save_results\": True,\n",
    "                \"n_sigma\": 1,\n",
    "                \"mask_spectral_regions\": False,\n",
    "            },\n",
    "            \"extract_2d\": {\"slit_name\": slit_name},\n",
    "        },\n",
    "        output_dir=stage2_nsclean_alternate_dir,\n",
    "    )\n",
    "\n",
    "    print(f\"Saved {i[:-9]}\" + \"mask.fits\")\n",
    "    print(f\"Saved {i[:-9]}\" + \"nsclean.fits\")\n",
    "    print(f\"Saved {i[:-9]}\" + \"cal.fits\")\n",
    "    print(f\"Saved {i[:-9]}\" + \"x1d.fits\")\n",
    "\n",
    "end = tt.time()\n",
    "print(\"Run time: \", round(end - start, 1) / 60.0, \" min\")"
   ]
  },
  {
   "cell_type": "markdown",
   "id": "dadf08d6-e425-4a79-be60-e6d7c94fb780",
   "metadata": {},
   "source": [
    "### 6.1 Verify the Mask (Alternate Mask) <a name=\"verify_alternate_mask\"></a>\n",
    "<hr style=\"border:1px solid black\">\n",
    "\n",
    "Check the mask against the rate data to make sure it keeps only dark areas of the detector.\n"
   ]
  },
  {
   "cell_type": "code",
   "execution_count": null,
   "id": "6291536f-58f5-44e8-9106-355c9dbb12b6",
   "metadata": {},
   "outputs": [],
   "source": [
    "# Plot the rate data with masked areas blocked.\n",
    "\n",
    "# List of on-the-fly built masks from the pipeline.\n",
    "nsclean_alternate_masks = [\n",
    "    stage2_nsclean_alternate_dir + \"jw01345061001_07101_00003_nrs1_mask.fits\",\n",
    "    stage2_nsclean_alternate_dir + \"jw01345061001_07101_00003_nrs2_mask.fits\",\n",
    "]\n",
    "\n",
    "# Plot each associated set of rateint data and mask file.\n",
    "for rate_file, mask_file in zip(rate_names, nsclean_alternate_masks):\n",
    "    plot_dark_data(mast_products_dir + rate_file, mask_file, layout=\"columns\", scale=9)"
   ]
  },
  {
   "cell_type": "markdown",
   "id": "35e3f088-f1d9-484c-8d8d-3ec056c52152",
   "metadata": {},
   "source": [
    "### 6.2 Comparing Original vs. Cleaned Data (Alternate Mask) <a name=\"nsclean_alternate_compare\"></a>\n",
    "<hr style=\"border:1px solid black\">"
   ]
  },
  {
   "cell_type": "code",
   "execution_count": null,
   "id": "4b786f7b-cafc-45b8-af24-37a1757f8231",
   "metadata": {
    "scrolled": true
   },
   "outputs": [],
   "source": [
    "# Plot the original and cleaned data, as well as a residual map.\n",
    "\n",
    "cleaned_alternate_masks = [\n",
    "    stage2_nsclean_alternate_dir + \"jw01345061001_07101_00003_nrs1_nsclean.fits\",\n",
    "    stage2_nsclean_alternate_dir + \"jw01345061001_07101_00003_nrs2_nsclean.fits\",\n",
    "]\n",
    "\n",
    "# Plot each associated set of rateint data and cleaned file.\n",
    "for rate_file, cleaned_file in zip(rate_names, cleaned_alternate_masks):\n",
    "    plot_cleaned_data(\n",
    "        mast_products_dir + rate_file, cleaned_file, layout=\"columns\", scale=9\n",
    "    )"
   ]
  },
  {
   "cell_type": "markdown",
   "id": "bbb1e179-810f-4cfa-b513-1aebdd8e07a3",
   "metadata": {},
   "source": [
    "Compare the extracted spectrum from the cleaned data to the spectrum extracted from the original rate file."
   ]
  },
  {
   "cell_type": "code",
   "execution_count": null,
   "id": "ba9d163c-6813-42be-b1c5-8eec4fd06b33",
   "metadata": {
    "scrolled": true
   },
   "outputs": [],
   "source": [
    "x1d_nsclean_alternate = [\n",
    "    stage2_nsclean_alternate_dir + \"jw01345061001_07101_00003_nrs1_x1d.fits\",\n",
    "    stage2_nsclean_alternate_dir + \"jw01345061001_07101_00003_nrs2_x1d.fits\",\n",
    "]\n",
    "\n",
    "for original, cleaned in zip(x1d_nsclean_skipped, x1d_nsclean_alternate):\n",
    "    plot_spectra([original, cleaned], scale_percent=9)"
   ]
  },
  {
   "cell_type": "markdown",
   "id": "228d10fc-9950-4883-b760-8930d48434e9",
   "metadata": {},
   "source": [
    "<div class=\"alert alert-block alert-info\">\n",
    "\n",
    "<b>Notes:</b> \n",
    "* In slit 80 on NRS1 and in slit 11 on NRS2, the overall continuum level has been slightly altered by the cleaning process (similar to the default masking).\n",
    "\n",
    "* In slit 11 on NRS2, some of the negative flux in the original spectrum has been corrected. The high-frequency noise introduced by the default masking, which affected slit 11 between 4.5 - 5.0 um (resulting in a negative dip in the spectrum), is improved with the alternate masking.\n",
    "\n",
    "</div>\n"
   ]
  },
  {
   "cell_type": "markdown",
   "id": "f727eada",
   "metadata": {},
   "source": [
    "## 7. Clean up 1/f Noise with NSClean (Hand-Modified Mask) <a name=\"nsclean_modified\"></a>\n",
    "<hr style=\"border:1px solid black\">\n",
    "In certain scenarios, manual generation of a mask may be required. Here, we present **one** approach to manually modify the mask (editing an overly masked region in NRS2 around x=1000, y=600 to include more background; excluding some large snowballs in NRS1), starting with the default mask output from the pipeline. It is worth noting that the mask modified using this method may not necessarily outperform the two previous options.\n"
   ]
  },
  {
   "cell_type": "code",
   "execution_count": null,
   "id": "317eb23f",
   "metadata": {},
   "outputs": [],
   "source": [
    "# Set up directory for running NSClean with user-supplied mask.\n",
    "stage2_nsclean_modified_dir = \"./stage2_nsclean_modified/\"\n",
    "if not os.path.exists(stage2_nsclean_modified_dir):\n",
    "    # Create the directory if it doesn't exist.\n",
    "    os.makedirs(stage2_nsclean_modified_dir)"
   ]
  },
  {
   "cell_type": "code",
   "execution_count": null,
   "id": "a68b4321",
   "metadata": {},
   "outputs": [],
   "source": [
    "# Hand-modify certain mask regions.\n",
    "# Specifically modifying the region in NRS2 around x=1000, y=600.\n",
    "\n",
    "# Define the list to store paths of modified masks.\n",
    "nsclean_modified_masks = []\n",
    "\n",
    "# Iterate through the list of original masks.\n",
    "for mask in nsclean_default_masks:\n",
    "    # New mask file name.\n",
    "    output_file = os.path.basename(mask)[:-5] + \"_modified.fits\"\n",
    "\n",
    "    # Open the FITS file.\n",
    "    with fits.open(mask) as hdul:\n",
    "        # Extract the mask data from the science extension.\n",
    "        mask_data = hdul[\"SCI\"].data.copy()  # Make a copy.\n",
    "\n",
    "        if \"nrs2\" in mask:\n",
    "            # Step 1: Set the default masked regions back to True.\n",
    "            mask_data[550:651, :1300] = True\n",
    "\n",
    "            # Step 2: Re-define masked regions by hand.\n",
    "            mask_data[550:575, :1300] = False  # Crowded region NRS2.\n",
    "            mask_data[590:615, 150:1720] = False\n",
    "            mask_data[622:647, 100:1620] = False\n",
    "        else:\n",
    "            mask_data[50:130, 780:850] = False  # Snowballs\n",
    "            mask_data[110:140, 920:945] = False\n",
    "            mask_data[820:940, 2000:2040] = False\n",
    "            mask_data[1650:1700, 1900:1960] = False\n",
    "            mask_data[1800:1900, 330:410] = False\n",
    "\n",
    "        # Update the data within the science extension.\n",
    "        hdul[\"SCI\"].data = mask_data\n",
    "        # Save the modified FITS file\n",
    "        output_path = os.path.join(stage2_nsclean_modified_dir, output_file)\n",
    "        hdul_modified = hdul.copy()  # Make a copy.\n",
    "        hdul_modified.writeto(output_path, overwrite=True)\n",
    "        nsclean_modified_masks.append(output_path)\n",
    "        print(f\"Saved modified mask as: {output_path}\")"
   ]
  },
  {
   "cell_type": "markdown",
   "id": "91f5cf29",
   "metadata": {},
   "source": [
    "### 7.1 Verify the Mask (Hand-Modified Mask) <a name=\"verify_modified_mask\"></a>\n",
    "<hr style=\"border:1px solid black\">\n",
    "\n",
    "Check the mask against the rate data to make sure it keeps only dark areas of the detector.\n"
   ]
  },
  {
   "cell_type": "code",
   "execution_count": null,
   "id": "50907f03",
   "metadata": {},
   "outputs": [],
   "source": [
    "# Plot the rate data with masked areas blocked.\n",
    "\n",
    "# List of modified masks for the pipeline.\n",
    "nsclean_modified_masks = [\n",
    "    stage2_nsclean_modified_dir + \"jw01345061001_07101_00003_nrs1_mask_modified.fits\",\n",
    "    stage2_nsclean_modified_dir + \"jw01345061001_07101_00003_nrs2_mask_modified.fits\",\n",
    "]\n",
    "\n",
    "# Plot each associated set of rateint data and mask file.\n",
    "for rate_file, mask_file in zip(rate_names, nsclean_modified_masks):\n",
    "    plot_dark_data(mast_products_dir + rate_file, mask_file, layout=\"columns\", scale=9)"
   ]
  },
  {
   "cell_type": "markdown",
   "id": "407bb4ec-f053-4bfa-be0c-345fb67141b7",
   "metadata": {},
   "source": [
    "<div class=\"alert alert-block alert-info\">\n",
    "<b>Note:</b> When modifying the default mask for NRS2, we selected a region to unmask and then re-masked differently. However, this process inadvertently led to the unmasking of some previously masked NaN values (white pixels seen in the dark data plot for NRS2). Therefore, caution should be exercised when modifying the mask. Additionally, even though we masked various snowballs, we may not observe a difference in the 1D extracted spectra depending on the slit we extract.\n",
    "</div>"
   ]
  },
  {
   "cell_type": "markdown",
   "id": "ec1389d7",
   "metadata": {},
   "source": [
    "<hr style=\"border:1px solid black\">\n"
   ]
  },
  {
   "cell_type": "code",
   "execution_count": null,
   "id": "57973778",
   "metadata": {},
   "outputs": [],
   "source": [
    "# 1/f noise cleaned data (user-supplied mask).\n",
    "# Estimated run time: 5 minutes.\n",
    "\n",
    "start = tt.time()\n",
    "\n",
    "for indx, i in enumerate(rate_names):\n",
    "    print(f\"Processing {i}...\")\n",
    "\n",
    "    if \"nrs1\" in i:\n",
    "        slit_name = \"80\"\n",
    "    else:\n",
    "        slit_name = \"11\"\n",
    "\n",
    "    Spec2Pipeline.call(\n",
    "        mast_products_dir + i,\n",
    "        save_results=True,\n",
    "        steps={\n",
    "            \"nsclean\": {\n",
    "                \"skip\": False,\n",
    "                \"save_mask\": True,\n",
    "                \"save_results\": True,\n",
    "                \"user_mask\": nsclean_modified_masks[indx],\n",
    "            },\n",
    "            \"extract_2d\": {\"slit_name\": slit_name},\n",
    "        },\n",
    "        output_dir=stage2_nsclean_modified_dir,\n",
    "    )\n",
    "\n",
    "    print(f\"Saved {i[:-9]}\" + \"mask.fits\")\n",
    "    print(f\"Saved {i[:-9]}\" + \"nsclean.fits\")\n",
    "    print(f\"Saved {i[:-9]}\" + \"cal.fits\")\n",
    "    print(f\"Saved {i[:-9]}\" + \"x1d.fits\")\n",
    "\n",
    "end = tt.time()\n",
    "print(\"Run time: \", round(end - start, 1) / 60.0, \" min\")"
   ]
  },
  {
   "cell_type": "markdown",
   "id": "6ba19f8a",
   "metadata": {},
   "source": [
    "### 7.2 Comparing Original vs. Cleaned Data (Hand-Modified Mask) <a name=\"nsclean_modified_compare\"></a>\n",
    "<hr style=\"border:1px solid black\">"
   ]
  },
  {
   "cell_type": "code",
   "execution_count": null,
   "id": "cc95ef4f",
   "metadata": {},
   "outputs": [],
   "source": [
    "# Plot the original and cleaned data, as well as a residual map.\n",
    "\n",
    "cleaned_modified_masks = [\n",
    "    stage2_nsclean_modified_dir + \"jw01345061001_07101_00003_nrs1_nsclean.fits\",\n",
    "    stage2_nsclean_modified_dir + \"jw01345061001_07101_00003_nrs2_nsclean.fits\",\n",
    "]\n",
    "\n",
    "# Plot each associated set of rateint data and cleaned file.\n",
    "for rate_file, cleaned_file in zip(rate_names, cleaned_modified_masks):\n",
    "    plot_cleaned_data(\n",
    "        mast_products_dir + rate_file, cleaned_file, layout=\"columns\", scale=9\n",
    "    )"
   ]
  },
  {
   "cell_type": "markdown",
   "id": "9077f84f",
   "metadata": {},
   "source": [
    "Compare the extracted spectrum from the cleaned data to the spectrum extracted from the original rate file."
   ]
  },
  {
   "cell_type": "code",
   "execution_count": null,
   "id": "1e2bbfe1",
   "metadata": {},
   "outputs": [],
   "source": [
    "x1d_nsclean_modified = [\n",
    "    stage2_nsclean_modified_dir + \"jw01345061001_07101_00003_nrs1_x1d.fits\",\n",
    "    stage2_nsclean_modified_dir + \"jw01345061001_07101_00003_nrs2_x1d.fits\",\n",
    "]\n",
    "\n",
    "# Wavelength Region of interest.\n",
    "for original, cleaned in zip(x1d_nsclean_skipped, x1d_nsclean_modified):\n",
    "    plot_spectra([original, cleaned], scale_percent=9)"
   ]
  },
  {
   "cell_type": "markdown",
   "id": "9c342881-014d-490f-9e30-9a229140f9d2",
   "metadata": {},
   "source": [
    "<div class=\"alert alert-block alert-info\">\n",
    "\n",
    "<b>Notes:</b> \n",
    "* In slit 80 on NRS1, the overall continuum level has been slightly altered by the cleaning process (similar to the default masking and alternate masking).\n",
    "\n",
    "* In slit 11 on NRS2, the flux between 4-4.55 um has decreased due to the cleaning process with the hand-modified mask. Some of the negative flux in the original spectrum (at shorter and longer wavelengths) has been corrected.\n",
    "</div>"
   ]
  },
  {
   "cell_type": "markdown",
   "id": "797f0c0d-e694-4103-8c4d-7ad3a3d84eaf",
   "metadata": {},
   "source": [
    "## 8. Conclusion <a name=\"conclusion\"></a>\n",
    "<hr style=\"border:1px solid black\">\n",
    "\n",
    "The final plots below show the countrate images and the resulting 1D extracted spectra side-by-side to compare the different cleaning methods: the original (no NSClean applied), the cleaned countrate image (with the default pipeline mask), the cleaned countrate image (with an alternate pipeline mask), and finally, the cleaned countrate image (with the hand-modified mask).\n",
    "\n",
    "Please note that the results presented in this notebook may vary for different datasets (e.g., targets of different brightness, spatial extent, etc.). Users are encouraged to explore NSClean using different masking methods to determine the optimal results.\n",
    "\n",
    "The output from the cleaning algorithm is now ready for further processing.  The (*_cal.fits*) files produced by the above `Spec2Pipeline` run may be used as input to the `Spec3Pipeline`, for generating final combined spectra."
   ]
  },
  {
   "cell_type": "code",
   "execution_count": null,
   "id": "a2ab2321-2e13-4188-82db-35b6c339d2ae",
   "metadata": {},
   "outputs": [],
   "source": [
    "# Not cleaned vs. cleaned (default mask) vs. cleaned (alternate mask) rate data\n",
    "original_rate_data = [\n",
    "    fits.open(mast_products_dir + rate_name)[1].data for rate_name in rate_names\n",
    "]\n",
    "cleaned_rate_default_data = [\n",
    "    fits.open(cleaned_default_mask)[1].data\n",
    "    for cleaned_default_mask in cleaned_default_masks\n",
    "]\n",
    "cleaned_rate_alternate_data = [\n",
    "    fits.open(cleaned_alternate_mask)[1].data\n",
    "    for cleaned_alternate_mask in cleaned_alternate_masks\n",
    "]\n",
    "cleaned_rate_modified_data = [\n",
    "    fits.open(cleaned_modified_mask)[1].data\n",
    "    for cleaned_modified_mask in cleaned_modified_masks\n",
    "]\n",
    "\n",
    "# For plotting visualization\n",
    "for data_list in [\n",
    "    original_rate_data,\n",
    "    cleaned_rate_default_data,\n",
    "    cleaned_rate_alternate_data,\n",
    "    cleaned_rate_modified_data,\n",
    "]:\n",
    "    for data in data_list:\n",
    "        data[np.isnan(data)] = 0\n",
    "\n",
    "# Original vs. cleaned data (with default mask)\n",
    "fig, axs = plt.subplots(2, 4, figsize=(25, 12))\n",
    "\n",
    "# Set y-axis titles and plot the data\n",
    "titles = [\n",
    "    \"Original Rate Data\",\n",
    "    \"Cleaned Rate Data (Default Mask)\",\n",
    "    \"Cleaned Rate Data (Alternate Mask)\",\n",
    "    \"Cleaned Rate Data (Hand-Modified Mask)\",\n",
    "]\n",
    "for i, (data_list, title) in enumerate(\n",
    "    zip(\n",
    "        [\n",
    "            original_rate_data,\n",
    "            cleaned_rate_default_data,\n",
    "            cleaned_rate_alternate_data,\n",
    "            cleaned_rate_modified_data,\n",
    "        ],\n",
    "        titles,\n",
    "    )\n",
    "):\n",
    "    for j, data in enumerate(data_list):\n",
    "        ax = axs[j, i]\n",
    "        ax.set_title(f'{title} \\n {\"NRS1\" if j == 0 else \"NRS2\"}', fontsize=12)\n",
    "        im = ax.imshow(data, origin=\"lower\", clim=(-1e-2, 1e-2))\n",
    "        fig.colorbar(im, ax=ax, pad=0.05, shrink=0.7, label=\"DN/s\")\n",
    "        ax.set_xlabel(\"Pixel Column\", fontsize=10)\n",
    "        ax.set_ylabel(\"Pixel Row\", fontsize=10)\n",
    "\n",
    "plt.tight_layout()\n",
    "plt.show()"
   ]
  },
  {
   "cell_type": "code",
   "execution_count": null,
   "id": "f579db06-1587-4354-ba8e-d1939a7942ec",
   "metadata": {},
   "outputs": [],
   "source": [
    "# Final Comparison\n",
    "plot_spectra(\n",
    "    [\n",
    "        x1d_nsclean_skipped[0],\n",
    "        x1d_nsclean_default[0],\n",
    "        x1d_nsclean_alternate[0],\n",
    "        x1d_nsclean_modified[0],\n",
    "    ],\n",
    "    scale_percent=4,\n",
    ")\n",
    "plot_spectra(\n",
    "    [\n",
    "        x1d_nsclean_skipped[1],\n",
    "        x1d_nsclean_default[1],\n",
    "        x1d_nsclean_alternate[1],\n",
    "        x1d_nsclean_modified[1],\n",
    "    ],\n",
    "    scale_percent=4,\n",
    ")"
   ]
  },
  {
   "cell_type": "markdown",
   "id": "f446267d-ad10-4e9b-8ad7-0f70cb76ec07",
   "metadata": {},
   "source": [
    "\n",
    "<div class=\"alert alert-block alert-info\">\n",
    "    \n",
    "<b>Final Notes:</b> \n",
    "* The high-frequency noise in NRS2 introduced by the default masking, which was affecting the 1D extracted spectrum for slit 11 around 4.55um, no longer appears when using the alternate mask (slight improvement with the hand-modified mask), significantly improving the spectrum for slit 11.\n",
    "* Negative flux in slit 11 (at shorter and longer wavelengths) has been corrected with either of the masks. However, the hand-modified mask appears to decrease the continuum level for the spectrum of slit 11 between 4-4.55um. In this case, the alternate masking (clip-based) algorithm is preferable to blocking the entire science region for each MSA shutter.\n",
    "\n",
    "</div>"
   ]
  },
  {
   "cell_type": "markdown",
   "id": "63478af5-10fc-4f8b-be62-b0fcd9f65423",
   "metadata": {},
   "source": [
    "## About the Notebook <a name=\"about\"></a>\n",
    "\n",
    "**Authors:** Melanie Clarke, Kayli Glidic; NIRSpec Instrument Team\n",
    "\n",
    "**Updated On**: Feburary 29, 2024.\n",
    "\n",
    "<hr style=\"border:0.5px solid black\">\n",
    "\n",
    "[Top of Page](#top)"
   ]
  }
 ],
 "metadata": {
  "kernelspec": {
   "display_name": "Python 3 (ipykernel)",
   "language": "python",
   "name": "python3"
  },
  "language_info": {
   "codemirror_mode": {
    "name": "ipython",
    "version": 3
   },
   "file_extension": ".py",
   "mimetype": "text/x-python",
   "name": "python",
   "nbconvert_exporter": "python",
   "pygments_lexer": "ipython3",
   "version": "3.11.8"
  }
 },
 "nbformat": 4,
 "nbformat_minor": 5
}
